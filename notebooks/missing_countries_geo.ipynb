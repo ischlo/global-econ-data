{
 "cells": [
  {
   "cell_type": "markdown",
   "metadata": {},
   "source": [
    "# Economic activity data georeferenced\n",
    "This notebook builds up on the previous one in which a non-spatial data set of countries admin 1 and 0 level is combined from DOSE and WDI. \n",
    "\n",
    "Here the geometries are added."
   ]
  },
  {
   "cell_type": "markdown",
   "metadata": {},
   "source": [
    "## Data\n",
    "\n",
    "Reading in the data set that is generated from *missing_countries.ipynb*"
   ]
  },
  {
   "cell_type": "code",
   "execution_count": 2,
   "metadata": {},
   "outputs": [],
   "source": [
    "import json\n",
    "import io\n",
    "import re\n",
    "import itertools as iter\n",
    "import numpy as np\n",
    "import os\n",
    "\n",
    "# data\n",
    "import pandas as pd\n",
    "import geopandas as gpd\n",
    "import ibis as ib\n",
    "from ibis import _\n",
    "ib.options.interactive = True\n",
    "\n",
    "import scalenav.oop as snoo\n",
    "from scalenav.plotting import cmap\n",
    "\n",
    "from parameters import year\n",
    "\n",
    "# plots\n",
    "from datashader import transfer_functions as tf, reductions as rd\n",
    "import pypalettes as pypal\n",
    "import pydeck as pdk\n",
    "from seaborn import color_palette\n",
    "from matplotlib import pyplot as plt"
   ]
  },
  {
   "cell_type": "code",
   "execution_count": 3,
   "metadata": {},
   "outputs": [
    {
     "name": "stdout",
     "output_type": "stream",
     "text": [
      "Connecting to a temporary in-memory DB instance.\n"
     ]
    },
    {
     "data": {
      "text/plain": [
       "[]"
      ]
     },
     "execution_count": 3,
     "metadata": {},
     "output_type": "execute_result"
    }
   ],
   "source": [
    "# ddb.connect()\n",
    "conn = snoo.sn_connect()\n",
    "conn.list_tables() # empty"
   ]
  },
  {
   "cell_type": "code",
   "execution_count": 4,
   "metadata": {},
   "outputs": [],
   "source": [
    "# the merged file\n",
    "\n",
    "#local path with folder where the downloaded shapefiles are stored \n",
    "#(both GADM and the custom one)\n",
    "\n",
    "gadm_path = '../datasets/DOSE/V2/DOSE_replication_files/DOSE_replication_files/Data/spatial data/' # ../../../../../\n",
    "\n",
    "# Read shapefiles\n",
    "\n",
    "file_name = \"gadm36_1\"\n"
   ]
  },
  {
   "cell_type": "code",
   "execution_count": 6,
   "metadata": {},
   "outputs": [
    {
     "name": "stdout",
     "output_type": "stream",
     "text": [
      "File exists\n"
     ]
    }
   ],
   "source": [
    "#Export merged geodataframe into shapefile\n",
    "\n",
    "out_path = \"../datasets/DOSE/V2/\" # ../../../../../\n",
    "\n",
    "dose_spatial_file = f\"{out_path}{file_name}_custom_merged.parquet\"\n",
    "\n",
    "if not os.path.exists(dose_spatial_file):\n",
    "    print(\"reading existing file\")\n",
    "    gadm = gpd.read_file(gadm_path+\"gadm36_levels_shp/\" + file_name+\".shp\")\n",
    "    # has to be downloaded from https://gadm.org/download_world36.html; follow instructions in readme\n",
    "\n",
    "    custom = gpd.read_file(gadm_path+'all_non_GADM_regions.shp')\n",
    "\n",
    "    #list of GADM countries whose data is not needed because we provide it with the custom file\n",
    "    unneeded_list = [\"KAZ\",\"MKD\",\"NPL\",\"PHL\",\"LKA\"]\n",
    "\n",
    "    #remove geometry for these countries from GADM\n",
    "    gadm_trim = gadm[~gadm.GID_0.isin(unneeded_list)]\n",
    "\n",
    "    # Merge/Combine multiple shapefiles into one\n",
    "    gadm_custom = gpd.pd.concat([gadm_trim, custom])\n",
    "    gadm_custom.drop(columns=\"fid\",inplace=True)\n",
    "\n",
    "    gadm_custom.to_parquet(dose_spatial_file)\n",
    "else :\n",
    "    print(\"File exists\")\n",
    "\n",
    "# eventually can be done with gadm4.1\n",
    "# gpd.list_layers(gadm_path+\"gadm_410-levels.gpkg\")\n",
    "# adm1 = gpd.read_file(\"../datasets/DOSE/DOSE_replication_files/DOSE_replication_files/Data/spatial data/gadm_410-levels.gpkg\",layer=\"ADM_1\")"
   ]
  },
  {
   "cell_type": "code",
   "execution_count": 24,
   "metadata": {},
   "outputs": [],
   "source": [
    "geoboundaries_file = '\"../datasets/boundaries/GeoBoundaries/geoBoundariesCGAZ_ADM1/geoBoundariesCGAZ_ADM1.shp\"'\n",
    "gadm_file =  '\"../datasets/boundaries/GADM/gadm_410.gpkg\"'"
   ]
  },
  {
   "cell_type": "code",
   "execution_count": 20,
   "metadata": {},
   "outputs": [
    {
     "data": {
      "text/plain": [
       "<duckdb.duckdb.DuckDBPyConnection at 0x107eba370>"
      ]
     },
     "execution_count": 20,
     "metadata": {},
     "output_type": "execute_result"
    }
   ],
   "source": [
    "conn.raw_sql(f\"\"\"CREATE OR REPLACE TABLE boundaries AS SELECT * FROM '{dose_spatial_file}';\"\"\")"
   ]
  },
  {
   "cell_type": "code",
   "execution_count": 25,
   "metadata": {},
   "outputs": [
    {
     "data": {
      "text/plain": [
       "<duckdb.duckdb.DuckDBPyConnection at 0x107eba370>"
      ]
     },
     "execution_count": 25,
     "metadata": {},
     "output_type": "execute_result"
    }
   ],
   "source": [
    "conn.raw_sql(f\"\"\"CREATE OR REPLACE TABLE geoboundaries AS SELECT * FROM ST_READ({geoboundaries_file});\"\"\")"
   ]
  },
  {
   "cell_type": "code",
   "execution_count": 26,
   "metadata": {},
   "outputs": [],
   "source": [
    "# link the table from the duckdb, this is not performed by the previous operation\n",
    "boundaries = conn.table(\"boundaries\")\n",
    "# boundaries\n",
    "geoboundaries = conn.table(\"geoboundaries\")"
   ]
  },
  {
   "cell_type": "code",
   "execution_count": 27,
   "metadata": {},
   "outputs": [
    {
     "data": {
      "text/html": [
       "<pre style=\"white-space:pre;overflow-x:auto;line-height:normal;font-family:Menlo,'DejaVu Sans Mono',consolas,'Courier New',monospace\">┏━━━━━━━━━━━┳━━━━━━━━━━━━━━━━━━━━━━━━━┳━━━━━━━━━━━━┳━━━━━━━━━━━┳━━━━━━━━━━━━━━━━━━━━━━━━━━━━━━━━━━━━━━━━━━━━━━━━━━━━━━━━━━━━━━━━━━━━━━━━━━━━━━━━━━┓\n",
       "┃<span style=\"font-weight: bold\"> shapeName </span>┃<span style=\"font-weight: bold\"> shapeID                 </span>┃<span style=\"font-weight: bold\"> shapeGroup </span>┃<span style=\"font-weight: bold\"> shapeType </span>┃<span style=\"font-weight: bold\"> geom                                                                             </span>┃\n",
       "┡━━━━━━━━━━━╇━━━━━━━━━━━━━━━━━━━━━━━━━╇━━━━━━━━━━━━╇━━━━━━━━━━━╇━━━━━━━━━━━━━━━━━━━━━━━━━━━━━━━━━━━━━━━━━━━━━━━━━━━━━━━━━━━━━━━━━━━━━━━━━━━━━━━━━━┩\n",
       "│ <span style=\"color: #7f7f7f; text-decoration-color: #7f7f7f\">string</span>    │ <span style=\"color: #7f7f7f; text-decoration-color: #7f7f7f\">string</span>                  │ <span style=\"color: #7f7f7f; text-decoration-color: #7f7f7f\">string</span>     │ <span style=\"color: #7f7f7f; text-decoration-color: #7f7f7f\">string</span>    │ <span style=\"color: #7f7f7f; text-decoration-color: #7f7f7f\">geospatial:geometry</span>                                                              │\n",
       "├───────────┼─────────────────────────┼────────────┼───────────┼──────────────────────────────────────────────────────────────────────────────────┤\n",
       "│ <span style=\"color: #008000; text-decoration-color: #008000\">Kandahar </span> │ <span style=\"color: #008000; text-decoration-color: #008000\">12653393B40111500734429</span> │ <span style=\"color: #008000; text-decoration-color: #008000\">AFG       </span> │ <span style=\"color: #008000; text-decoration-color: #008000\">ADM1     </span> │ <span style=\"font-weight: bold\">&lt;</span><span style=\"color: #ff00ff; text-decoration-color: #ff00ff; font-weight: bold\">POLYGON</span><span style=\"color: #000000; text-decoration-color: #000000\"> </span><span style=\"color: #000000; text-decoration-color: #000000; font-weight: bold\">((</span><span style=\"color: #008080; text-decoration-color: #008080; font-weight: bold\">65.242</span><span style=\"color: #000000; text-decoration-color: #000000\"> </span><span style=\"color: #008080; text-decoration-color: #008080; font-weight: bold\">32.286</span><span style=\"color: #000000; text-decoration-color: #000000\">, </span><span style=\"color: #008080; text-decoration-color: #008080; font-weight: bold\">65.726</span><span style=\"color: #000000; text-decoration-color: #000000\"> </span><span style=\"color: #008080; text-decoration-color: #008080; font-weight: bold\">32.48</span><span style=\"color: #000000; text-decoration-color: #000000\">, </span><span style=\"color: #008080; text-decoration-color: #008080; font-weight: bold\">66.275</span><span style=\"color: #000000; text-decoration-color: #000000\"> </span><span style=\"color: #008080; text-decoration-color: #008080; font-weight: bold\">32.425</span><span style=\"color: #000000; text-decoration-color: #000000\">, </span><span style=\"color: #008080; text-decoration-color: #008080; font-weight: bold\">66.381</span><span style=\"color: #000000; text-decoration-color: #000000\"> </span><span style=\"color: #008080; text-decoration-color: #008080; font-weight: bold\">31.979</span><span style=\"color: #000000; text-decoration-color: #000000\">, </span><span style=\"color: #008080; text-decoration-color: #008080; font-weight: bold\">66.341</span><span style=\"color: #808000; text-decoration-color: #808000\">...</span><span style=\"font-weight: bold\">&gt;</span> │\n",
       "│ <span style=\"color: #008000; text-decoration-color: #008000\">Zabul    </span> │ <span style=\"color: #008000; text-decoration-color: #008000\">12653393B56617740339660</span> │ <span style=\"color: #008000; text-decoration-color: #008000\">AFG       </span> │ <span style=\"color: #008000; text-decoration-color: #008000\">ADM1     </span> │ <span style=\"font-weight: bold\">&lt;</span><span style=\"color: #ff00ff; text-decoration-color: #ff00ff; font-weight: bold\">POLYGON</span><span style=\"color: #000000; text-decoration-color: #000000\"> </span><span style=\"color: #000000; text-decoration-color: #000000; font-weight: bold\">((</span><span style=\"color: #008080; text-decoration-color: #008080; font-weight: bold\">67.607</span><span style=\"color: #000000; text-decoration-color: #000000\"> </span><span style=\"color: #008080; text-decoration-color: #008080; font-weight: bold\">31.444</span><span style=\"color: #000000; text-decoration-color: #000000\">, </span><span style=\"color: #008080; text-decoration-color: #008080; font-weight: bold\">67.609</span><span style=\"color: #000000; text-decoration-color: #000000\"> </span><span style=\"color: #008080; text-decoration-color: #008080; font-weight: bold\">31.449</span><span style=\"color: #000000; text-decoration-color: #000000\">, </span><span style=\"color: #008080; text-decoration-color: #008080; font-weight: bold\">67.592</span><span style=\"color: #000000; text-decoration-color: #000000\"> </span><span style=\"color: #008080; text-decoration-color: #008080; font-weight: bold\">31.476</span><span style=\"color: #000000; text-decoration-color: #000000\">, </span><span style=\"color: #008080; text-decoration-color: #008080; font-weight: bold\">67.59</span><span style=\"color: #000000; text-decoration-color: #000000\"> </span><span style=\"color: #008080; text-decoration-color: #008080; font-weight: bold\">31.476</span><span style=\"color: #000000; text-decoration-color: #000000\">, </span><span style=\"color: #008080; text-decoration-color: #008080; font-weight: bold\">67.59</span><span style=\"color: #000000; text-decoration-color: #000000\"> </span><span style=\"color: #808000; text-decoration-color: #808000\">...</span><span style=\"font-weight: bold\">&gt;</span> │\n",
       "│ <span style=\"color: #008000; text-decoration-color: #008000\">Uruzgan  </span> │ <span style=\"color: #008000; text-decoration-color: #008000\">12653393B46006342616872</span> │ <span style=\"color: #008000; text-decoration-color: #008000\">AFG       </span> │ <span style=\"color: #008000; text-decoration-color: #008000\">ADM1     </span> │ <span style=\"font-weight: bold\">&lt;</span><span style=\"color: #ff00ff; text-decoration-color: #ff00ff; font-weight: bold\">POLYGON</span><span style=\"color: #000000; text-decoration-color: #000000\"> </span><span style=\"color: #000000; text-decoration-color: #000000; font-weight: bold\">((</span><span style=\"color: #008080; text-decoration-color: #008080; font-weight: bold\">66.275</span><span style=\"color: #000000; text-decoration-color: #000000\"> </span><span style=\"color: #008080; text-decoration-color: #008080; font-weight: bold\">32.425</span><span style=\"color: #000000; text-decoration-color: #000000\">, </span><span style=\"color: #008080; text-decoration-color: #008080; font-weight: bold\">65.726</span><span style=\"color: #000000; text-decoration-color: #000000\"> </span><span style=\"color: #008080; text-decoration-color: #008080; font-weight: bold\">32.48</span><span style=\"color: #000000; text-decoration-color: #000000\">, </span><span style=\"color: #008080; text-decoration-color: #008080; font-weight: bold\">65.242</span><span style=\"color: #000000; text-decoration-color: #000000\"> </span><span style=\"color: #008080; text-decoration-color: #008080; font-weight: bold\">32.286</span><span style=\"color: #000000; text-decoration-color: #000000\">, </span><span style=\"color: #008080; text-decoration-color: #008080; font-weight: bold\">65.322</span><span style=\"color: #000000; text-decoration-color: #000000\"> </span><span style=\"color: #008080; text-decoration-color: #008080; font-weight: bold\">32.518</span><span style=\"color: #000000; text-decoration-color: #000000\">, </span><span style=\"color: #008080; text-decoration-color: #008080; font-weight: bold\">65.196</span><span style=\"color: #808000; text-decoration-color: #808000\">...</span><span style=\"font-weight: bold\">&gt;</span> │\n",
       "│ <span style=\"color: #008000; text-decoration-color: #008000\">Daykundi </span> │ <span style=\"color: #008000; text-decoration-color: #008000\">12653393B78791504725813</span> │ <span style=\"color: #008000; text-decoration-color: #008000\">AFG       </span> │ <span style=\"color: #008000; text-decoration-color: #008000\">ADM1     </span> │ <span style=\"font-weight: bold\">&lt;</span><span style=\"color: #ff00ff; text-decoration-color: #ff00ff; font-weight: bold\">POLYGON</span><span style=\"color: #000000; text-decoration-color: #000000\"> </span><span style=\"color: #000000; text-decoration-color: #000000; font-weight: bold\">((</span><span style=\"color: #008080; text-decoration-color: #008080; font-weight: bold\">66.762</span><span style=\"color: #000000; text-decoration-color: #000000\"> </span><span style=\"color: #008080; text-decoration-color: #008080; font-weight: bold\">33.255</span><span style=\"color: #000000; text-decoration-color: #000000\">, </span><span style=\"color: #008080; text-decoration-color: #008080; font-weight: bold\">66.39</span><span style=\"color: #000000; text-decoration-color: #000000\"> </span><span style=\"color: #008080; text-decoration-color: #008080; font-weight: bold\">33.307</span><span style=\"color: #000000; text-decoration-color: #000000\">, </span><span style=\"color: #008080; text-decoration-color: #008080; font-weight: bold\">66.043</span><span style=\"color: #000000; text-decoration-color: #000000\"> </span><span style=\"color: #008080; text-decoration-color: #008080; font-weight: bold\">33.104</span><span style=\"color: #000000; text-decoration-color: #000000\">, </span><span style=\"color: #008080; text-decoration-color: #008080; font-weight: bold\">65.723</span><span style=\"color: #000000; text-decoration-color: #000000\"> </span><span style=\"color: #008080; text-decoration-color: #008080; font-weight: bold\">33.07</span><span style=\"color: #000000; text-decoration-color: #000000\">, </span><span style=\"color: #008080; text-decoration-color: #008080; font-weight: bold\">65.33</span><span style=\"color: #000000; text-decoration-color: #000000\"> </span><span style=\"color: #008080; text-decoration-color: #008080; font-weight: bold\">3</span><span style=\"color: #808000; text-decoration-color: #808000\">...</span><span style=\"font-weight: bold\">&gt;</span> │\n",
       "│ <span style=\"color: #008000; text-decoration-color: #008000\">Ghanzi   </span> │ <span style=\"color: #008000; text-decoration-color: #008000\">12653393B29313712249365</span> │ <span style=\"color: #008000; text-decoration-color: #008000\">AFG       </span> │ <span style=\"color: #008000; text-decoration-color: #008000\">ADM1     </span> │ <span style=\"font-weight: bold\">&lt;</span><span style=\"color: #ff00ff; text-decoration-color: #ff00ff; font-weight: bold\">POLYGON</span><span style=\"color: #000000; text-decoration-color: #000000\"> </span><span style=\"color: #000000; text-decoration-color: #000000; font-weight: bold\">((</span><span style=\"color: #008080; text-decoration-color: #008080; font-weight: bold\">68.069</span><span style=\"color: #000000; text-decoration-color: #000000\"> </span><span style=\"color: #008080; text-decoration-color: #008080; font-weight: bold\">32.046</span><span style=\"color: #000000; text-decoration-color: #000000\">, </span><span style=\"color: #008080; text-decoration-color: #008080; font-weight: bold\">67.864</span><span style=\"color: #000000; text-decoration-color: #000000\"> </span><span style=\"color: #008080; text-decoration-color: #008080; font-weight: bold\">32.144</span><span style=\"color: #000000; text-decoration-color: #000000\">, </span><span style=\"color: #008080; text-decoration-color: #008080; font-weight: bold\">67.476</span><span style=\"color: #000000; text-decoration-color: #000000\"> </span><span style=\"color: #008080; text-decoration-color: #008080; font-weight: bold\">32.07</span><span style=\"color: #000000; text-decoration-color: #000000\">, </span><span style=\"color: #008080; text-decoration-color: #008080; font-weight: bold\">67.368</span><span style=\"color: #000000; text-decoration-color: #000000\"> </span><span style=\"color: #008080; text-decoration-color: #008080; font-weight: bold\">32.22</span><span style=\"color: #000000; text-decoration-color: #000000\">, </span><span style=\"color: #008080; text-decoration-color: #008080; font-weight: bold\">67.678</span><span style=\"color: #000000; text-decoration-color: #000000\"> </span><span style=\"color: #808000; text-decoration-color: #808000\">...</span><span style=\"font-weight: bold\">&gt;</span> │\n",
       "└───────────┴─────────────────────────┴────────────┴───────────┴──────────────────────────────────────────────────────────────────────────────────┘\n",
       "</pre>\n"
      ],
      "text/plain": [
       "┏━━━━━━━━━━━┳━━━━━━━━━━━━━━━━━━━━━━━━━┳━━━━━━━━━━━━┳━━━━━━━━━━━┳━━━━━━━━━━━━━━━━━━━━━━━━━━━━━━━━━━━━━━━━━━━━━━━━━━━━━━━━━━━━━━━━━━━━━━━━━━━━━━━━━━┓\n",
       "┃\u001b[1m \u001b[0m\u001b[1mshapeName\u001b[0m\u001b[1m \u001b[0m┃\u001b[1m \u001b[0m\u001b[1mshapeID\u001b[0m\u001b[1m                \u001b[0m\u001b[1m \u001b[0m┃\u001b[1m \u001b[0m\u001b[1mshapeGroup\u001b[0m\u001b[1m \u001b[0m┃\u001b[1m \u001b[0m\u001b[1mshapeType\u001b[0m\u001b[1m \u001b[0m┃\u001b[1m \u001b[0m\u001b[1mgeom\u001b[0m\u001b[1m                                                                            \u001b[0m\u001b[1m \u001b[0m┃\n",
       "┡━━━━━━━━━━━╇━━━━━━━━━━━━━━━━━━━━━━━━━╇━━━━━━━━━━━━╇━━━━━━━━━━━╇━━━━━━━━━━━━━━━━━━━━━━━━━━━━━━━━━━━━━━━━━━━━━━━━━━━━━━━━━━━━━━━━━━━━━━━━━━━━━━━━━━┩\n",
       "│ \u001b[2mstring\u001b[0m    │ \u001b[2mstring\u001b[0m                  │ \u001b[2mstring\u001b[0m     │ \u001b[2mstring\u001b[0m    │ \u001b[2mgeospatial:geometry\u001b[0m                                                              │\n",
       "├───────────┼─────────────────────────┼────────────┼───────────┼──────────────────────────────────────────────────────────────────────────────────┤\n",
       "│ \u001b[32mKandahar \u001b[0m │ \u001b[32m12653393B40111500734429\u001b[0m │ \u001b[32mAFG       \u001b[0m │ \u001b[32mADM1     \u001b[0m │ \u001b[1m<\u001b[0m\u001b[1;95mPOLYGON\u001b[0m\u001b[39m \u001b[0m\u001b[1;39m(\u001b[0m\u001b[1;39m(\u001b[0m\u001b[1;36m65.242\u001b[0m\u001b[39m \u001b[0m\u001b[1;36m32.286\u001b[0m\u001b[39m, \u001b[0m\u001b[1;36m65.726\u001b[0m\u001b[39m \u001b[0m\u001b[1;36m32.48\u001b[0m\u001b[39m, \u001b[0m\u001b[1;36m66.275\u001b[0m\u001b[39m \u001b[0m\u001b[1;36m32.425\u001b[0m\u001b[39m, \u001b[0m\u001b[1;36m66.381\u001b[0m\u001b[39m \u001b[0m\u001b[1;36m31.979\u001b[0m\u001b[39m, \u001b[0m\u001b[1;36m66.341\u001b[0m\u001b[33m...\u001b[0m\u001b[1m>\u001b[0m │\n",
       "│ \u001b[32mZabul    \u001b[0m │ \u001b[32m12653393B56617740339660\u001b[0m │ \u001b[32mAFG       \u001b[0m │ \u001b[32mADM1     \u001b[0m │ \u001b[1m<\u001b[0m\u001b[1;95mPOLYGON\u001b[0m\u001b[39m \u001b[0m\u001b[1;39m(\u001b[0m\u001b[1;39m(\u001b[0m\u001b[1;36m67.607\u001b[0m\u001b[39m \u001b[0m\u001b[1;36m31.444\u001b[0m\u001b[39m, \u001b[0m\u001b[1;36m67.609\u001b[0m\u001b[39m \u001b[0m\u001b[1;36m31.449\u001b[0m\u001b[39m, \u001b[0m\u001b[1;36m67.592\u001b[0m\u001b[39m \u001b[0m\u001b[1;36m31.476\u001b[0m\u001b[39m, \u001b[0m\u001b[1;36m67.59\u001b[0m\u001b[39m \u001b[0m\u001b[1;36m31.476\u001b[0m\u001b[39m, \u001b[0m\u001b[1;36m67.59\u001b[0m\u001b[39m \u001b[0m\u001b[33m...\u001b[0m\u001b[1m>\u001b[0m │\n",
       "│ \u001b[32mUruzgan  \u001b[0m │ \u001b[32m12653393B46006342616872\u001b[0m │ \u001b[32mAFG       \u001b[0m │ \u001b[32mADM1     \u001b[0m │ \u001b[1m<\u001b[0m\u001b[1;95mPOLYGON\u001b[0m\u001b[39m \u001b[0m\u001b[1;39m(\u001b[0m\u001b[1;39m(\u001b[0m\u001b[1;36m66.275\u001b[0m\u001b[39m \u001b[0m\u001b[1;36m32.425\u001b[0m\u001b[39m, \u001b[0m\u001b[1;36m65.726\u001b[0m\u001b[39m \u001b[0m\u001b[1;36m32.48\u001b[0m\u001b[39m, \u001b[0m\u001b[1;36m65.242\u001b[0m\u001b[39m \u001b[0m\u001b[1;36m32.286\u001b[0m\u001b[39m, \u001b[0m\u001b[1;36m65.322\u001b[0m\u001b[39m \u001b[0m\u001b[1;36m32.518\u001b[0m\u001b[39m, \u001b[0m\u001b[1;36m65.196\u001b[0m\u001b[33m...\u001b[0m\u001b[1m>\u001b[0m │\n",
       "│ \u001b[32mDaykundi \u001b[0m │ \u001b[32m12653393B78791504725813\u001b[0m │ \u001b[32mAFG       \u001b[0m │ \u001b[32mADM1     \u001b[0m │ \u001b[1m<\u001b[0m\u001b[1;95mPOLYGON\u001b[0m\u001b[39m \u001b[0m\u001b[1;39m(\u001b[0m\u001b[1;39m(\u001b[0m\u001b[1;36m66.762\u001b[0m\u001b[39m \u001b[0m\u001b[1;36m33.255\u001b[0m\u001b[39m, \u001b[0m\u001b[1;36m66.39\u001b[0m\u001b[39m \u001b[0m\u001b[1;36m33.307\u001b[0m\u001b[39m, \u001b[0m\u001b[1;36m66.043\u001b[0m\u001b[39m \u001b[0m\u001b[1;36m33.104\u001b[0m\u001b[39m, \u001b[0m\u001b[1;36m65.723\u001b[0m\u001b[39m \u001b[0m\u001b[1;36m33.07\u001b[0m\u001b[39m, \u001b[0m\u001b[1;36m65.33\u001b[0m\u001b[39m \u001b[0m\u001b[1;36m3\u001b[0m\u001b[33m...\u001b[0m\u001b[1m>\u001b[0m │\n",
       "│ \u001b[32mGhanzi   \u001b[0m │ \u001b[32m12653393B29313712249365\u001b[0m │ \u001b[32mAFG       \u001b[0m │ \u001b[32mADM1     \u001b[0m │ \u001b[1m<\u001b[0m\u001b[1;95mPOLYGON\u001b[0m\u001b[39m \u001b[0m\u001b[1;39m(\u001b[0m\u001b[1;39m(\u001b[0m\u001b[1;36m68.069\u001b[0m\u001b[39m \u001b[0m\u001b[1;36m32.046\u001b[0m\u001b[39m, \u001b[0m\u001b[1;36m67.864\u001b[0m\u001b[39m \u001b[0m\u001b[1;36m32.144\u001b[0m\u001b[39m, \u001b[0m\u001b[1;36m67.476\u001b[0m\u001b[39m \u001b[0m\u001b[1;36m32.07\u001b[0m\u001b[39m, \u001b[0m\u001b[1;36m67.368\u001b[0m\u001b[39m \u001b[0m\u001b[1;36m32.22\u001b[0m\u001b[39m, \u001b[0m\u001b[1;36m67.678\u001b[0m\u001b[39m \u001b[0m\u001b[33m...\u001b[0m\u001b[1m>\u001b[0m │\n",
       "└───────────┴─────────────────────────┴────────────┴───────────┴──────────────────────────────────────────────────────────────────────────────────┘"
      ]
     },
     "execution_count": 27,
     "metadata": {},
     "output_type": "execute_result"
    }
   ],
   "source": [
    "geoboundaries.head()"
   ]
  },
  {
   "cell_type": "code",
   "execution_count": 28,
   "metadata": {},
   "outputs": [
    {
     "data": {
      "text/html": [
       "<pre style=\"white-space:pre;overflow-x:auto;line-height:normal;font-family:Menlo,'DejaVu Sans Mono',consolas,'Courier New',monospace\">┏━━━━━━━━━━━━┓\n",
       "┃<span style=\"font-weight: bold\"> shapeGroup </span>┃\n",
       "┡━━━━━━━━━━━━┩\n",
       "│ <span style=\"color: #7f7f7f; text-decoration-color: #7f7f7f\">string</span>     │\n",
       "├────────────┤\n",
       "│ <span style=\"color: #008000; text-decoration-color: #008000\">AUT       </span> │\n",
       "│ <span style=\"color: #008000; text-decoration-color: #008000\">BEL       </span> │\n",
       "│ <span style=\"color: #008000; text-decoration-color: #008000\">BLZ       </span> │\n",
       "│ <span style=\"color: #008000; text-decoration-color: #008000\">BTN       </span> │\n",
       "│ <span style=\"color: #008000; text-decoration-color: #008000\">BRA       </span> │\n",
       "│ <span style=\"color: #008000; text-decoration-color: #008000\">CHN       </span> │\n",
       "│ <span style=\"color: #008000; text-decoration-color: #008000\">DOM       </span> │\n",
       "│ <span style=\"color: #008000; text-decoration-color: #008000\">SLV       </span> │\n",
       "│ <span style=\"color: #008000; text-decoration-color: #008000\">ETH       </span> │\n",
       "│ <span style=\"color: #008000; text-decoration-color: #008000\">NRU       </span> │\n",
       "│ <span style=\"color: #7f7f7f; text-decoration-color: #7f7f7f\">…</span>          │\n",
       "└────────────┘\n",
       "</pre>\n"
      ],
      "text/plain": [
       "┏━━━━━━━━━━━━┓\n",
       "┃\u001b[1m \u001b[0m\u001b[1mshapeGroup\u001b[0m\u001b[1m \u001b[0m┃\n",
       "┡━━━━━━━━━━━━┩\n",
       "│ \u001b[2mstring\u001b[0m     │\n",
       "├────────────┤\n",
       "│ \u001b[32mAUT       \u001b[0m │\n",
       "│ \u001b[32mBEL       \u001b[0m │\n",
       "│ \u001b[32mBLZ       \u001b[0m │\n",
       "│ \u001b[32mBTN       \u001b[0m │\n",
       "│ \u001b[32mBRA       \u001b[0m │\n",
       "│ \u001b[32mCHN       \u001b[0m │\n",
       "│ \u001b[32mDOM       \u001b[0m │\n",
       "│ \u001b[32mSLV       \u001b[0m │\n",
       "│ \u001b[32mETH       \u001b[0m │\n",
       "│ \u001b[32mNRU       \u001b[0m │\n",
       "│ \u001b[2m…\u001b[0m          │\n",
       "└────────────┘"
      ]
     },
     "execution_count": 28,
     "metadata": {},
     "output_type": "execute_result"
    }
   ],
   "source": [
    "geoboundaries.select(\"shapeGroup\").distinct()"
   ]
  },
  {
   "cell_type": "code",
   "execution_count": null,
   "metadata": {},
   "outputs": [],
   "source": [
    "# wb_countries = gpd.read_file(\"datasets/boundaries/WB_countries_Admin0_10m/WB_countries_Admin0_10m.shp\")"
   ]
  },
  {
   "cell_type": "markdown",
   "metadata": {},
   "source": [
    "### Reading the local dose-WDI data set\n"
   ]
  },
  {
   "cell_type": "code",
   "execution_count": 29,
   "metadata": {},
   "outputs": [
    {
     "name": "stdout",
     "output_type": "stream",
     "text": [
      "Connecting to a temporary in-memory DB instance.\n",
      "/Users/cenv1069/Documents/data/notebooks\n",
      "228\n",
      "Inconsistencies in the DOSE data set in LCU_2015.\n",
      "When converting to absolute values :  9\n",
      "In pc values :  9\n",
      "Inconsistencies in the DOSE data set in LCU2015_USD.\n",
      "When converting to absolute values :  9\n",
      "In pc values :  9\n",
      "Any value missing:  False\n",
      "Data to this point:  (1677, 7)\n",
      "Full row of NAs removed:  (1677, 7)\n",
      "Some missing economic indicator removed:  (1664, 7)\n",
      "Data to this point:  (1677, 7)\n",
      "Full row of NAs removed:  (1677, 7)\n",
      "Some missing economic indicator removed:  (1666, 7)\n"
     ]
    },
    {
     "data": {
      "image/png": "[encoded data removed]",
      "text/plain": [
       "<Figure size 640x480 with 1 Axes>"
      ]
     },
     "metadata": {},
     "output_type": "display_data"
    },
    {
     "data": {
      "image/png": "[encoded data removed]",
      "text/plain": [
       "<Figure size 640x480 with 1 Axes>"
      ]
     },
     "metadata": {},
     "output_type": "display_data"
    },
    {
     "data": {
      "image/png": "[encoded data removed]",
      "text/plain": [
       "<Figure size 640x480 with 1 Axes>"
      ]
     },
     "metadata": {},
     "output_type": "display_data"
    },
    {
     "data": {
      "image/png": "[encoded data removed]",
      "text/plain": [
       "<Figure size 640x480 with 1 Axes>"
      ]
     },
     "metadata": {},
     "output_type": "display_data"
    },
    {
     "name": "stdout",
     "output_type": "stream",
     "text": [
      "File already exists, erase before if you want to regenerate, or update version\n"
     ]
    }
   ],
   "source": [
    "dose_wdi_path = \"../datasets/local_data/dose-wdi/\"\n",
    "# latest\n",
    "# version = \"0_3\"\n",
    "from missing_countries import version\n",
    "\n",
    "dose_light = conn.read_csv(source_list=f\"{dose_wdi_path}{version}/dose_light_combined_{year}_{version}.csv\",table_name=\"dose_light\")"
   ]
  },
  {
   "cell_type": "markdown",
   "metadata": {},
   "source": [
    "### Preparing the data"
   ]
  },
  {
   "cell_type": "code",
   "execution_count": 30,
   "metadata": {},
   "outputs": [],
   "source": [
    "# nice function from ibis\n",
    "boundaries = boundaries.rename(\"snake_case\")\n",
    "dose_light = dose_light.rename(\"snake_case\")"
   ]
  },
  {
   "cell_type": "code",
   "execution_count": 31,
   "metadata": {},
   "outputs": [
    {
     "data": {
      "text/plain": [
       "3473"
      ]
     },
     "execution_count": 31,
     "metadata": {},
     "output_type": "execute_result"
    }
   ],
   "source": [
    "boundary_countries = conn.sql(\"Select distinct(gid_1) from boundaries;\").to_pandas().iloc[:,0].to_list()\n",
    "len(boundary_countries)"
   ]
  },
  {
   "cell_type": "code",
   "execution_count": 32,
   "metadata": {
    "tags": [
     "rm_cell"
    ]
   },
   "outputs": [
    {
     "data": {
      "text/html": [
       "<pre style=\"white-space:pre;overflow-x:auto;line-height:normal;font-family:Menlo,'DejaVu Sans Mono',consolas,'Courier New',monospace\">┏━━━━━━━━┳━━━━━━━━━━━━━┳━━━━━━━━━┳━━━━━━━━━━━━┳━━━━━━━━━━━━━━━━━━━━━━━━━━━┳━━━━━━━━━━━┳━━━━━━━━━┳━━━━━━━━━━━┳━━━━━━━━┳━━━━━━━━┳━━━━━━━━━━━━━━━━━━━━━━━━━━━━━━━━━━━━━━━━━━━━━━━━━━━━━━━━━━━━━━━━━━━━━━━━━━━━━━━━━━┳━━━━━━━━━━━━━━━━━━━┓\n",
       "┃<span style=\"font-weight: bold\"> gid_0  </span>┃<span style=\"font-weight: bold\"> name_0      </span>┃<span style=\"font-weight: bold\"> gid_1   </span>┃<span style=\"font-weight: bold\"> name_1     </span>┃<span style=\"font-weight: bold\"> varname_1                 </span>┃<span style=\"font-weight: bold\"> nl_name_1 </span>┃<span style=\"font-weight: bold\"> type_1  </span>┃<span style=\"font-weight: bold\"> engtype_1 </span>┃<span style=\"font-weight: bold\"> cc_1   </span>┃<span style=\"font-weight: bold\"> hasc_1 </span>┃<span style=\"font-weight: bold\"> geometry                                                                         </span>┃<span style=\"font-weight: bold\"> __index_level_0__ </span>┃\n",
       "┡━━━━━━━━╇━━━━━━━━━━━━━╇━━━━━━━━━╇━━━━━━━━━━━━╇━━━━━━━━━━━━━━━━━━━━━━━━━━━╇━━━━━━━━━━━╇━━━━━━━━━╇━━━━━━━━━━━╇━━━━━━━━╇━━━━━━━━╇━━━━━━━━━━━━━━━━━━━━━━━━━━━━━━━━━━━━━━━━━━━━━━━━━━━━━━━━━━━━━━━━━━━━━━━━━━━━━━━━━━╇━━━━━━━━━━━━━━━━━━━┩\n",
       "│ <span style=\"color: #7f7f7f; text-decoration-color: #7f7f7f\">string</span> │ <span style=\"color: #7f7f7f; text-decoration-color: #7f7f7f\">string</span>      │ <span style=\"color: #7f7f7f; text-decoration-color: #7f7f7f\">string</span>  │ <span style=\"color: #7f7f7f; text-decoration-color: #7f7f7f\">string</span>     │ <span style=\"color: #7f7f7f; text-decoration-color: #7f7f7f\">string</span>                    │ <span style=\"color: #7f7f7f; text-decoration-color: #7f7f7f\">string</span>    │ <span style=\"color: #7f7f7f; text-decoration-color: #7f7f7f\">string</span>  │ <span style=\"color: #7f7f7f; text-decoration-color: #7f7f7f\">string</span>    │ <span style=\"color: #7f7f7f; text-decoration-color: #7f7f7f\">string</span> │ <span style=\"color: #7f7f7f; text-decoration-color: #7f7f7f\">string</span> │ <span style=\"color: #7f7f7f; text-decoration-color: #7f7f7f\">geospatial:geometry</span>                                                              │ <span style=\"color: #7f7f7f; text-decoration-color: #7f7f7f\">int64</span>             │\n",
       "├────────┼─────────────┼─────────┼────────────┼───────────────────────────┼───────────┼─────────┼───────────┼────────┼────────┼──────────────────────────────────────────────────────────────────────────────────┼───────────────────┤\n",
       "│ <span style=\"color: #008000; text-decoration-color: #008000\">AFG   </span> │ <span style=\"color: #008000; text-decoration-color: #008000\">Afghanistan</span> │ <span style=\"color: #008000; text-decoration-color: #008000\">AFG.1_1</span> │ <span style=\"color: #008000; text-decoration-color: #008000\">Badakhshan</span> │ <span style=\"color: #008000; text-decoration-color: #008000\">Badahšan                 </span> │ <span style=\"color: #7f7f7f; text-decoration-color: #7f7f7f\">NULL</span>      │ <span style=\"color: #008000; text-decoration-color: #008000\">Velayat</span> │ <span style=\"color: #008000; text-decoration-color: #008000\">Province </span> │ <span style=\"color: #7f7f7f; text-decoration-color: #7f7f7f\">NULL</span>   │ <span style=\"color: #008000; text-decoration-color: #008000\">AF.BD </span> │ <span style=\"font-weight: bold\">&lt;</span><span style=\"color: #ff00ff; text-decoration-color: #ff00ff; font-weight: bold\">POLYGON</span><span style=\"color: #000000; text-decoration-color: #000000\"> </span><span style=\"color: #000000; text-decoration-color: #000000; font-weight: bold\">((</span><span style=\"color: #008080; text-decoration-color: #008080; font-weight: bold\">71.148</span><span style=\"color: #000000; text-decoration-color: #000000\"> </span><span style=\"color: #008080; text-decoration-color: #008080; font-weight: bold\">36.001</span><span style=\"color: #000000; text-decoration-color: #000000\">, </span><span style=\"color: #008080; text-decoration-color: #008080; font-weight: bold\">71.142</span><span style=\"color: #000000; text-decoration-color: #000000\"> </span><span style=\"color: #008080; text-decoration-color: #008080; font-weight: bold\">35.993</span><span style=\"color: #000000; text-decoration-color: #000000\">, </span><span style=\"color: #008080; text-decoration-color: #008080; font-weight: bold\">71.114</span><span style=\"color: #000000; text-decoration-color: #000000\"> </span><span style=\"color: #008080; text-decoration-color: #008080; font-weight: bold\">35.971</span><span style=\"color: #000000; text-decoration-color: #000000\">, </span><span style=\"color: #008080; text-decoration-color: #008080; font-weight: bold\">71.102</span><span style=\"color: #000000; text-decoration-color: #000000\"> </span><span style=\"color: #008080; text-decoration-color: #008080; font-weight: bold\">35.956</span><span style=\"color: #000000; text-decoration-color: #000000\">, </span><span style=\"color: #008080; text-decoration-color: #008080; font-weight: bold\">71.08</span><span style=\"color: #808000; text-decoration-color: #808000\">...</span><span style=\"font-weight: bold\">&gt;</span> │                 <span style=\"color: #008080; text-decoration-color: #008080; font-weight: bold\">0</span> │\n",
       "│ <span style=\"color: #008000; text-decoration-color: #008000\">AFG   </span> │ <span style=\"color: #008000; text-decoration-color: #008000\">Afghanistan</span> │ <span style=\"color: #008000; text-decoration-color: #008000\">AFG.2_1</span> │ <span style=\"color: #008000; text-decoration-color: #008000\">Badghis   </span> │ <span style=\"color: #008000; text-decoration-color: #008000\">Badghes|Badghisat|Badgis </span> │ <span style=\"color: #7f7f7f; text-decoration-color: #7f7f7f\">NULL</span>      │ <span style=\"color: #008000; text-decoration-color: #008000\">Velayat</span> │ <span style=\"color: #008000; text-decoration-color: #008000\">Province </span> │ <span style=\"color: #7f7f7f; text-decoration-color: #7f7f7f\">NULL</span>   │ <span style=\"color: #008000; text-decoration-color: #008000\">AF.BG </span> │ <span style=\"font-weight: bold\">&lt;</span><span style=\"color: #ff00ff; text-decoration-color: #ff00ff; font-weight: bold\">POLYGON</span><span style=\"color: #000000; text-decoration-color: #000000\"> </span><span style=\"color: #000000; text-decoration-color: #000000; font-weight: bold\">((</span><span style=\"color: #008080; text-decoration-color: #008080; font-weight: bold\">63.097</span><span style=\"color: #000000; text-decoration-color: #000000\"> </span><span style=\"color: #008080; text-decoration-color: #008080; font-weight: bold\">34.646</span><span style=\"color: #000000; text-decoration-color: #000000\">, </span><span style=\"color: #008080; text-decoration-color: #008080; font-weight: bold\">63.082</span><span style=\"color: #000000; text-decoration-color: #000000\"> </span><span style=\"color: #008080; text-decoration-color: #008080; font-weight: bold\">34.658</span><span style=\"color: #000000; text-decoration-color: #000000\">, </span><span style=\"color: #008080; text-decoration-color: #008080; font-weight: bold\">63.072</span><span style=\"color: #000000; text-decoration-color: #000000\"> </span><span style=\"color: #008080; text-decoration-color: #008080; font-weight: bold\">34.674</span><span style=\"color: #000000; text-decoration-color: #000000\">, </span><span style=\"color: #008080; text-decoration-color: #008080; font-weight: bold\">63.069</span><span style=\"color: #000000; text-decoration-color: #000000\"> </span><span style=\"color: #008080; text-decoration-color: #008080; font-weight: bold\">34.681</span><span style=\"color: #000000; text-decoration-color: #000000\">, </span><span style=\"color: #008080; text-decoration-color: #008080; font-weight: bold\">63.06</span><span style=\"color: #808000; text-decoration-color: #808000\">...</span><span style=\"font-weight: bold\">&gt;</span> │                 <span style=\"color: #008080; text-decoration-color: #008080; font-weight: bold\">1</span> │\n",
       "│ <span style=\"color: #008000; text-decoration-color: #008000\">AFG   </span> │ <span style=\"color: #008000; text-decoration-color: #008000\">Afghanistan</span> │ <span style=\"color: #008000; text-decoration-color: #008000\">AFG.3_1</span> │ <span style=\"color: #008000; text-decoration-color: #008000\">Baghlan   </span> │ <span style=\"color: #008000; text-decoration-color: #008000\">Baglan|Bughlan           </span> │ <span style=\"color: #7f7f7f; text-decoration-color: #7f7f7f\">NULL</span>      │ <span style=\"color: #008000; text-decoration-color: #008000\">Velayat</span> │ <span style=\"color: #008000; text-decoration-color: #008000\">Province </span> │ <span style=\"color: #7f7f7f; text-decoration-color: #7f7f7f\">NULL</span>   │ <span style=\"color: #008000; text-decoration-color: #008000\">AF.BL </span> │ <span style=\"font-weight: bold\">&lt;</span><span style=\"color: #ff00ff; text-decoration-color: #ff00ff; font-weight: bold\">POLYGON</span><span style=\"color: #000000; text-decoration-color: #000000\"> </span><span style=\"color: #000000; text-decoration-color: #000000; font-weight: bold\">((</span><span style=\"color: #008080; text-decoration-color: #008080; font-weight: bold\">67.355</span><span style=\"color: #000000; text-decoration-color: #000000\"> </span><span style=\"color: #008080; text-decoration-color: #008080; font-weight: bold\">34.885</span><span style=\"color: #000000; text-decoration-color: #000000\">, </span><span style=\"color: #008080; text-decoration-color: #008080; font-weight: bold\">67.355</span><span style=\"color: #000000; text-decoration-color: #000000\"> </span><span style=\"color: #008080; text-decoration-color: #008080; font-weight: bold\">34.888</span><span style=\"color: #000000; text-decoration-color: #000000\">, </span><span style=\"color: #008080; text-decoration-color: #008080; font-weight: bold\">67.353</span><span style=\"color: #000000; text-decoration-color: #000000\"> </span><span style=\"color: #008080; text-decoration-color: #008080; font-weight: bold\">34.889</span><span style=\"color: #000000; text-decoration-color: #000000\">, </span><span style=\"color: #008080; text-decoration-color: #008080; font-weight: bold\">67.348</span><span style=\"color: #000000; text-decoration-color: #000000\"> </span><span style=\"color: #008080; text-decoration-color: #008080; font-weight: bold\">34.896</span><span style=\"color: #000000; text-decoration-color: #000000\">, </span><span style=\"color: #008080; text-decoration-color: #008080; font-weight: bold\">67.33</span><span style=\"color: #808000; text-decoration-color: #808000\">...</span><span style=\"font-weight: bold\">&gt;</span> │                 <span style=\"color: #008080; text-decoration-color: #008080; font-weight: bold\">2</span> │\n",
       "│ <span style=\"color: #008000; text-decoration-color: #008000\">AFG   </span> │ <span style=\"color: #008000; text-decoration-color: #008000\">Afghanistan</span> │ <span style=\"color: #008000; text-decoration-color: #008000\">AFG.4_1</span> │ <span style=\"color: #008000; text-decoration-color: #008000\">Balkh     </span> │ <span style=\"color: #008000; text-decoration-color: #008000\">Balh|Mazar-i-Sharif|Mazar</span> │ <span style=\"color: #7f7f7f; text-decoration-color: #7f7f7f\">NULL</span>      │ <span style=\"color: #008000; text-decoration-color: #008000\">Velayat</span> │ <span style=\"color: #008000; text-decoration-color: #008000\">Province </span> │ <span style=\"color: #7f7f7f; text-decoration-color: #7f7f7f\">NULL</span>   │ <span style=\"color: #008000; text-decoration-color: #008000\">AF.BK </span> │ <span style=\"font-weight: bold\">&lt;</span><span style=\"color: #ff00ff; text-decoration-color: #ff00ff; font-weight: bold\">POLYGON</span><span style=\"color: #000000; text-decoration-color: #000000\"> </span><span style=\"color: #000000; text-decoration-color: #000000; font-weight: bold\">((</span><span style=\"color: #008080; text-decoration-color: #008080; font-weight: bold\">66.423</span><span style=\"color: #000000; text-decoration-color: #000000\"> </span><span style=\"color: #008080; text-decoration-color: #008080; font-weight: bold\">35.641</span><span style=\"color: #000000; text-decoration-color: #000000\">, </span><span style=\"color: #008080; text-decoration-color: #008080; font-weight: bold\">66.449</span><span style=\"color: #000000; text-decoration-color: #000000\"> </span><span style=\"color: #008080; text-decoration-color: #008080; font-weight: bold\">35.654</span><span style=\"color: #000000; text-decoration-color: #000000\">, </span><span style=\"color: #008080; text-decoration-color: #008080; font-weight: bold\">66.485</span><span style=\"color: #000000; text-decoration-color: #000000\"> </span><span style=\"color: #008080; text-decoration-color: #008080; font-weight: bold\">35.667</span><span style=\"color: #000000; text-decoration-color: #000000\">, </span><span style=\"color: #008080; text-decoration-color: #008080; font-weight: bold\">66.499</span><span style=\"color: #000000; text-decoration-color: #000000\"> </span><span style=\"color: #008080; text-decoration-color: #008080; font-weight: bold\">35.669</span><span style=\"color: #000000; text-decoration-color: #000000\">, </span><span style=\"color: #008080; text-decoration-color: #008080; font-weight: bold\">66.51</span><span style=\"color: #808000; text-decoration-color: #808000\">...</span><span style=\"font-weight: bold\">&gt;</span> │                 <span style=\"color: #008080; text-decoration-color: #008080; font-weight: bold\">3</span> │\n",
       "│ <span style=\"color: #008000; text-decoration-color: #008000\">AFG   </span> │ <span style=\"color: #008000; text-decoration-color: #008000\">Afghanistan</span> │ <span style=\"color: #008000; text-decoration-color: #008000\">AFG.5_1</span> │ <span style=\"color: #008000; text-decoration-color: #008000\">Bamyan    </span> │ <span style=\"color: #7f7f7f; text-decoration-color: #7f7f7f\">NULL</span>                      │ <span style=\"color: #7f7f7f; text-decoration-color: #7f7f7f\">NULL</span>      │ <span style=\"color: #008000; text-decoration-color: #008000\">Velayat</span> │ <span style=\"color: #008000; text-decoration-color: #008000\">Province </span> │ <span style=\"color: #7f7f7f; text-decoration-color: #7f7f7f\">NULL</span>   │ <span style=\"color: #008000; text-decoration-color: #008000\">AF.BM </span> │ <span style=\"font-weight: bold\">&lt;</span><span style=\"color: #ff00ff; text-decoration-color: #ff00ff; font-weight: bold\">POLYGON</span><span style=\"color: #000000; text-decoration-color: #000000\"> </span><span style=\"color: #000000; text-decoration-color: #000000; font-weight: bold\">((</span><span style=\"color: #008080; text-decoration-color: #008080; font-weight: bold\">66.653</span><span style=\"color: #000000; text-decoration-color: #000000\"> </span><span style=\"color: #008080; text-decoration-color: #008080; font-weight: bold\">34.003</span><span style=\"color: #000000; text-decoration-color: #000000\">, </span><span style=\"color: #008080; text-decoration-color: #008080; font-weight: bold\">66.659</span><span style=\"color: #000000; text-decoration-color: #000000\"> </span><span style=\"color: #008080; text-decoration-color: #008080; font-weight: bold\">34.017</span><span style=\"color: #000000; text-decoration-color: #000000\">, </span><span style=\"color: #008080; text-decoration-color: #008080; font-weight: bold\">66.669</span><span style=\"color: #000000; text-decoration-color: #000000\"> </span><span style=\"color: #008080; text-decoration-color: #008080; font-weight: bold\">34.031</span><span style=\"color: #000000; text-decoration-color: #000000\">, </span><span style=\"color: #008080; text-decoration-color: #008080; font-weight: bold\">66.672</span><span style=\"color: #000000; text-decoration-color: #000000\"> </span><span style=\"color: #008080; text-decoration-color: #008080; font-weight: bold\">34.038</span><span style=\"color: #000000; text-decoration-color: #000000\">, </span><span style=\"color: #008080; text-decoration-color: #008080; font-weight: bold\">66.67</span><span style=\"color: #808000; text-decoration-color: #808000\">...</span><span style=\"font-weight: bold\">&gt;</span> │                 <span style=\"color: #008080; text-decoration-color: #008080; font-weight: bold\">4</span> │\n",
       "└────────┴─────────────┴─────────┴────────────┴───────────────────────────┴───────────┴─────────┴───────────┴────────┴────────┴──────────────────────────────────────────────────────────────────────────────────┴───────────────────┘\n",
       "</pre>\n"
      ],
      "text/plain": [
       "┏━━━━━━━━┳━━━━━━━━━━━━━┳━━━━━━━━━┳━━━━━━━━━━━━┳━━━━━━━━━━━━━━━━━━━━━━━━━━━┳━━━━━━━━━━━┳━━━━━━━━━┳━━━━━━━━━━━┳━━━━━━━━┳━━━━━━━━┳━━━━━━━━━━━━━━━━━━━━━━━━━━━━━━━━━━━━━━━━━━━━━━━━━━━━━━━━━━━━━━━━━━━━━━━━━━━━━━━━━━┳━━━━━━━━━━━━━━━━━━━┓\n",
       "┃\u001b[1m \u001b[0m\u001b[1mgid_0\u001b[0m\u001b[1m \u001b[0m\u001b[1m \u001b[0m┃\u001b[1m \u001b[0m\u001b[1mname_0\u001b[0m\u001b[1m     \u001b[0m\u001b[1m \u001b[0m┃\u001b[1m \u001b[0m\u001b[1mgid_1\u001b[0m\u001b[1m  \u001b[0m\u001b[1m \u001b[0m┃\u001b[1m \u001b[0m\u001b[1mname_1\u001b[0m\u001b[1m    \u001b[0m\u001b[1m \u001b[0m┃\u001b[1m \u001b[0m\u001b[1mvarname_1\u001b[0m\u001b[1m                \u001b[0m\u001b[1m \u001b[0m┃\u001b[1m \u001b[0m\u001b[1mnl_name_1\u001b[0m\u001b[1m \u001b[0m┃\u001b[1m \u001b[0m\u001b[1mtype_1\u001b[0m\u001b[1m \u001b[0m\u001b[1m \u001b[0m┃\u001b[1m \u001b[0m\u001b[1mengtype_1\u001b[0m\u001b[1m \u001b[0m┃\u001b[1m \u001b[0m\u001b[1mcc_1\u001b[0m\u001b[1m  \u001b[0m\u001b[1m \u001b[0m┃\u001b[1m \u001b[0m\u001b[1mhasc_1\u001b[0m\u001b[1m \u001b[0m┃\u001b[1m \u001b[0m\u001b[1mgeometry\u001b[0m\u001b[1m                                                                        \u001b[0m\u001b[1m \u001b[0m┃\u001b[1m \u001b[0m\u001b[1m__index_level_0__\u001b[0m\u001b[1m \u001b[0m┃\n",
       "┡━━━━━━━━╇━━━━━━━━━━━━━╇━━━━━━━━━╇━━━━━━━━━━━━╇━━━━━━━━━━━━━━━━━━━━━━━━━━━╇━━━━━━━━━━━╇━━━━━━━━━╇━━━━━━━━━━━╇━━━━━━━━╇━━━━━━━━╇━━━━━━━━━━━━━━━━━━━━━━━━━━━━━━━━━━━━━━━━━━━━━━━━━━━━━━━━━━━━━━━━━━━━━━━━━━━━━━━━━━╇━━━━━━━━━━━━━━━━━━━┩\n",
       "│ \u001b[2mstring\u001b[0m │ \u001b[2mstring\u001b[0m      │ \u001b[2mstring\u001b[0m  │ \u001b[2mstring\u001b[0m     │ \u001b[2mstring\u001b[0m                    │ \u001b[2mstring\u001b[0m    │ \u001b[2mstring\u001b[0m  │ \u001b[2mstring\u001b[0m    │ \u001b[2mstring\u001b[0m │ \u001b[2mstring\u001b[0m │ \u001b[2mgeospatial:geometry\u001b[0m                                                              │ \u001b[2mint64\u001b[0m             │\n",
       "├────────┼─────────────┼─────────┼────────────┼───────────────────────────┼───────────┼─────────┼───────────┼────────┼────────┼──────────────────────────────────────────────────────────────────────────────────┼───────────────────┤\n",
       "│ \u001b[32mAFG   \u001b[0m │ \u001b[32mAfghanistan\u001b[0m │ \u001b[32mAFG.1_1\u001b[0m │ \u001b[32mBadakhshan\u001b[0m │ \u001b[32mBadahšan                 \u001b[0m │ \u001b[2mNULL\u001b[0m      │ \u001b[32mVelayat\u001b[0m │ \u001b[32mProvince \u001b[0m │ \u001b[2mNULL\u001b[0m   │ \u001b[32mAF.BD \u001b[0m │ \u001b[1m<\u001b[0m\u001b[1;95mPOLYGON\u001b[0m\u001b[39m \u001b[0m\u001b[1;39m(\u001b[0m\u001b[1;39m(\u001b[0m\u001b[1;36m71.148\u001b[0m\u001b[39m \u001b[0m\u001b[1;36m36.001\u001b[0m\u001b[39m, \u001b[0m\u001b[1;36m71.142\u001b[0m\u001b[39m \u001b[0m\u001b[1;36m35.993\u001b[0m\u001b[39m, \u001b[0m\u001b[1;36m71.114\u001b[0m\u001b[39m \u001b[0m\u001b[1;36m35.971\u001b[0m\u001b[39m, \u001b[0m\u001b[1;36m71.102\u001b[0m\u001b[39m \u001b[0m\u001b[1;36m35.956\u001b[0m\u001b[39m, \u001b[0m\u001b[1;36m71.08\u001b[0m\u001b[33m...\u001b[0m\u001b[1m>\u001b[0m │                 \u001b[1;36m0\u001b[0m │\n",
       "│ \u001b[32mAFG   \u001b[0m │ \u001b[32mAfghanistan\u001b[0m │ \u001b[32mAFG.2_1\u001b[0m │ \u001b[32mBadghis   \u001b[0m │ \u001b[32mBadghes|Badghisat|Badgis \u001b[0m │ \u001b[2mNULL\u001b[0m      │ \u001b[32mVelayat\u001b[0m │ \u001b[32mProvince \u001b[0m │ \u001b[2mNULL\u001b[0m   │ \u001b[32mAF.BG \u001b[0m │ \u001b[1m<\u001b[0m\u001b[1;95mPOLYGON\u001b[0m\u001b[39m \u001b[0m\u001b[1;39m(\u001b[0m\u001b[1;39m(\u001b[0m\u001b[1;36m63.097\u001b[0m\u001b[39m \u001b[0m\u001b[1;36m34.646\u001b[0m\u001b[39m, \u001b[0m\u001b[1;36m63.082\u001b[0m\u001b[39m \u001b[0m\u001b[1;36m34.658\u001b[0m\u001b[39m, \u001b[0m\u001b[1;36m63.072\u001b[0m\u001b[39m \u001b[0m\u001b[1;36m34.674\u001b[0m\u001b[39m, \u001b[0m\u001b[1;36m63.069\u001b[0m\u001b[39m \u001b[0m\u001b[1;36m34.681\u001b[0m\u001b[39m, \u001b[0m\u001b[1;36m63.06\u001b[0m\u001b[33m...\u001b[0m\u001b[1m>\u001b[0m │                 \u001b[1;36m1\u001b[0m │\n",
       "│ \u001b[32mAFG   \u001b[0m │ \u001b[32mAfghanistan\u001b[0m │ \u001b[32mAFG.3_1\u001b[0m │ \u001b[32mBaghlan   \u001b[0m │ \u001b[32mBaglan|Bughlan           \u001b[0m │ \u001b[2mNULL\u001b[0m      │ \u001b[32mVelayat\u001b[0m │ \u001b[32mProvince \u001b[0m │ \u001b[2mNULL\u001b[0m   │ \u001b[32mAF.BL \u001b[0m │ \u001b[1m<\u001b[0m\u001b[1;95mPOLYGON\u001b[0m\u001b[39m \u001b[0m\u001b[1;39m(\u001b[0m\u001b[1;39m(\u001b[0m\u001b[1;36m67.355\u001b[0m\u001b[39m \u001b[0m\u001b[1;36m34.885\u001b[0m\u001b[39m, \u001b[0m\u001b[1;36m67.355\u001b[0m\u001b[39m \u001b[0m\u001b[1;36m34.888\u001b[0m\u001b[39m, \u001b[0m\u001b[1;36m67.353\u001b[0m\u001b[39m \u001b[0m\u001b[1;36m34.889\u001b[0m\u001b[39m, \u001b[0m\u001b[1;36m67.348\u001b[0m\u001b[39m \u001b[0m\u001b[1;36m34.896\u001b[0m\u001b[39m, \u001b[0m\u001b[1;36m67.33\u001b[0m\u001b[33m...\u001b[0m\u001b[1m>\u001b[0m │                 \u001b[1;36m2\u001b[0m │\n",
       "│ \u001b[32mAFG   \u001b[0m │ \u001b[32mAfghanistan\u001b[0m │ \u001b[32mAFG.4_1\u001b[0m │ \u001b[32mBalkh     \u001b[0m │ \u001b[32mBalh|Mazar-i-Sharif|Mazar\u001b[0m │ \u001b[2mNULL\u001b[0m      │ \u001b[32mVelayat\u001b[0m │ \u001b[32mProvince \u001b[0m │ \u001b[2mNULL\u001b[0m   │ \u001b[32mAF.BK \u001b[0m │ \u001b[1m<\u001b[0m\u001b[1;95mPOLYGON\u001b[0m\u001b[39m \u001b[0m\u001b[1;39m(\u001b[0m\u001b[1;39m(\u001b[0m\u001b[1;36m66.423\u001b[0m\u001b[39m \u001b[0m\u001b[1;36m35.641\u001b[0m\u001b[39m, \u001b[0m\u001b[1;36m66.449\u001b[0m\u001b[39m \u001b[0m\u001b[1;36m35.654\u001b[0m\u001b[39m, \u001b[0m\u001b[1;36m66.485\u001b[0m\u001b[39m \u001b[0m\u001b[1;36m35.667\u001b[0m\u001b[39m, \u001b[0m\u001b[1;36m66.499\u001b[0m\u001b[39m \u001b[0m\u001b[1;36m35.669\u001b[0m\u001b[39m, \u001b[0m\u001b[1;36m66.51\u001b[0m\u001b[33m...\u001b[0m\u001b[1m>\u001b[0m │                 \u001b[1;36m3\u001b[0m │\n",
       "│ \u001b[32mAFG   \u001b[0m │ \u001b[32mAfghanistan\u001b[0m │ \u001b[32mAFG.5_1\u001b[0m │ \u001b[32mBamyan    \u001b[0m │ \u001b[2mNULL\u001b[0m                      │ \u001b[2mNULL\u001b[0m      │ \u001b[32mVelayat\u001b[0m │ \u001b[32mProvince \u001b[0m │ \u001b[2mNULL\u001b[0m   │ \u001b[32mAF.BM \u001b[0m │ \u001b[1m<\u001b[0m\u001b[1;95mPOLYGON\u001b[0m\u001b[39m \u001b[0m\u001b[1;39m(\u001b[0m\u001b[1;39m(\u001b[0m\u001b[1;36m66.653\u001b[0m\u001b[39m \u001b[0m\u001b[1;36m34.003\u001b[0m\u001b[39m, \u001b[0m\u001b[1;36m66.659\u001b[0m\u001b[39m \u001b[0m\u001b[1;36m34.017\u001b[0m\u001b[39m, \u001b[0m\u001b[1;36m66.669\u001b[0m\u001b[39m \u001b[0m\u001b[1;36m34.031\u001b[0m\u001b[39m, \u001b[0m\u001b[1;36m66.672\u001b[0m\u001b[39m \u001b[0m\u001b[1;36m34.038\u001b[0m\u001b[39m, \u001b[0m\u001b[1;36m66.67\u001b[0m\u001b[33m...\u001b[0m\u001b[1m>\u001b[0m │                 \u001b[1;36m4\u001b[0m │\n",
       "└────────┴─────────────┴─────────┴────────────┴───────────────────────────┴───────────┴─────────┴───────────┴────────┴────────┴──────────────────────────────────────────────────────────────────────────────────┴───────────────────┘"
      ]
     },
     "execution_count": 32,
     "metadata": {},
     "output_type": "execute_result"
    }
   ],
   "source": [
    "boundaries.head()"
   ]
  },
  {
   "cell_type": "code",
   "execution_count": 33,
   "metadata": {},
   "outputs": [],
   "source": [
    "def head_rand(conn: ib.backends.duckdb.Backend, table: str, limit:[int,str]=5):\n",
    "    query = f\"select * from {table} order by random() limit {limit};\"\n",
    "    # alternative using the duckdb sample command\n",
    "    # query_ = f\"select * from {table} using sample {limit};\"\n",
    "    return conn.sql(query=query)\n"
   ]
  },
  {
   "cell_type": "code",
   "execution_count": 34,
   "metadata": {
    "tags": [
     "rm_cell"
    ]
   },
   "outputs": [
    {
     "data": {
      "text/html": [
       "<pre style=\"white-space:pre;overflow-x:auto;line-height:normal;font-family:Menlo,'DejaVu Sans Mono',consolas,'Courier New',monospace\">┏━━━━━━━━━━━━━━┳━━━━━━━━┳━━━━━━━━━━┳━━━━━━━━━━━━━━┳━━━━━━━━━━━━━━━━━━━┳━━━━━━━━━━━━━━━━━━━━━━━━┳━━━━━━━━━━━━━━━━━━━━━━┓\n",
       "┃<span style=\"font-weight: bold\"> country      </span>┃<span style=\"font-weight: bold\"> gid_0  </span>┃<span style=\"font-weight: bold\"> gid_1    </span>┃<span style=\"font-weight: bold\"> grp_usd_2015 </span>┃<span style=\"font-weight: bold\"> services_usd_2015 </span>┃<span style=\"font-weight: bold\"> manufacturing_usd_2015 </span>┃<span style=\"font-weight: bold\"> agriculture_usd_2015 </span>┃\n",
       "┡━━━━━━━━━━━━━━╇━━━━━━━━╇━━━━━━━━━━╇━━━━━━━━━━━━━━╇━━━━━━━━━━━━━━━━━━━╇━━━━━━━━━━━━━━━━━━━━━━━━╇━━━━━━━━━━━━━━━━━━━━━━┩\n",
       "│ <span style=\"color: #7f7f7f; text-decoration-color: #7f7f7f\">string</span>       │ <span style=\"color: #7f7f7f; text-decoration-color: #7f7f7f\">string</span> │ <span style=\"color: #7f7f7f; text-decoration-color: #7f7f7f\">string</span>   │ <span style=\"color: #7f7f7f; text-decoration-color: #7f7f7f\">float64</span>      │ <span style=\"color: #7f7f7f; text-decoration-color: #7f7f7f\">float64</span>           │ <span style=\"color: #7f7f7f; text-decoration-color: #7f7f7f\">float64</span>                │ <span style=\"color: #7f7f7f; text-decoration-color: #7f7f7f\">float64</span>              │\n",
       "├──────────────┼────────┼──────────┼──────────────┼───────────────────┼────────────────────────┼──────────────────────┤\n",
       "│ <span style=\"color: #008000; text-decoration-color: #008000\">Japan       </span> │ <span style=\"color: #008000; text-decoration-color: #008000\">JPN   </span> │ <span style=\"color: #008000; text-decoration-color: #008000\">JPN.44_1</span> │ <span style=\"color: #008080; text-decoration-color: #008080; font-weight: bold\">2.873751e+10</span> │      <span style=\"color: #008080; text-decoration-color: #008080; font-weight: bold\">1.769360e+10</span> │           <span style=\"color: #008080; text-decoration-color: #008080; font-weight: bold\">1.022593e+10</span> │         <span style=\"color: #008080; text-decoration-color: #008080; font-weight: bold\">6.158575e+08</span> │\n",
       "│ <span style=\"color: #008000; text-decoration-color: #008000\">Russia      </span> │ <span style=\"color: #008000; text-decoration-color: #008000\">RUS   </span> │ <span style=\"color: #008000; text-decoration-color: #008000\">RUS.26_1</span> │ <span style=\"color: #008080; text-decoration-color: #008080; font-weight: bold\">3.479778e+09</span> │      <span style=\"color: #008080; text-decoration-color: #008080; font-weight: bold\">2.171382e+09</span> │           <span style=\"color: #008080; text-decoration-color: #008080; font-weight: bold\">1.120489e+09</span> │         <span style=\"color: #008080; text-decoration-color: #008080; font-weight: bold\">1.879080e+08</span> │\n",
       "│ <span style=\"color: #008000; text-decoration-color: #008000\">Switzerland </span> │ <span style=\"color: #008000; text-decoration-color: #008000\">CHE   </span> │ <span style=\"color: #008000; text-decoration-color: #008000\">CHE.19_1</span> │ <span style=\"color: #008080; text-decoration-color: #008080; font-weight: bold\">1.863989e+10</span> │      <span style=\"color: #008080; text-decoration-color: #008080; font-weight: bold\">1.026323e+10</span> │           <span style=\"color: #008080; text-decoration-color: #008080; font-weight: bold\">7.771130e+09</span> │         <span style=\"color: #008080; text-decoration-color: #008080; font-weight: bold\">8.154673e+07</span> │\n",
       "│ <span style=\"color: #008000; text-decoration-color: #008000\">Russia      </span> │ <span style=\"color: #008000; text-decoration-color: #008000\">RUS   </span> │ <span style=\"color: #008000; text-decoration-color: #008000\">RUS.24_1</span> │ <span style=\"color: #008080; text-decoration-color: #008080; font-weight: bold\">2.878431e+09</span> │      <span style=\"color: #008080; text-decoration-color: #008080; font-weight: bold\">1.597529e+09</span> │           <span style=\"color: #008080; text-decoration-color: #008080; font-weight: bold\">6.879450e+08</span> │         <span style=\"color: #008080; text-decoration-color: #008080; font-weight: bold\">5.929568e+08</span> │\n",
       "│ <span style=\"color: #008000; text-decoration-color: #008000\">Turkey      </span> │ <span style=\"color: #008000; text-decoration-color: #008000\">TUR   </span> │ <span style=\"color: #008000; text-decoration-color: #008000\">TUR.79_1</span> │ <span style=\"color: #008080; text-decoration-color: #008080; font-weight: bold\">2.789496e+09</span> │      <span style=\"color: #008080; text-decoration-color: #008080; font-weight: bold\">1.131845e+09</span> │           <span style=\"color: #008080; text-decoration-color: #008080; font-weight: bold\">1.219981e+09</span> │         <span style=\"color: #008080; text-decoration-color: #008080; font-weight: bold\">1.079195e+08</span> │\n",
       "│ <span style=\"color: #008000; text-decoration-color: #008000\">South Korea </span> │ <span style=\"color: #008000; text-decoration-color: #008000\">KOR   </span> │ <span style=\"color: #008000; text-decoration-color: #008000\">KOR.6_1 </span> │ <span style=\"color: #008080; text-decoration-color: #008080; font-weight: bold\">3.081603e+10</span> │      <span style=\"color: #008080; text-decoration-color: #008080; font-weight: bold\">2.352996e+10</span> │           <span style=\"color: #008080; text-decoration-color: #008080; font-weight: bold\">9.613424e+09</span> │         <span style=\"color: #008080; text-decoration-color: #008080; font-weight: bold\">1.475943e+08</span> │\n",
       "│ <span style=\"color: #008000; text-decoration-color: #008000\">Nigeria     </span> │ <span style=\"color: #008000; text-decoration-color: #008000\">NGA   </span> │ <span style=\"color: #008000; text-decoration-color: #008000\">NGA.15_1</span> │ <span style=\"color: #008080; text-decoration-color: #008080; font-weight: bold\">4.875312e+10</span> │      <span style=\"color: #008080; text-decoration-color: #008080; font-weight: bold\">4.061886e+10</span> │           <span style=\"color: #008080; text-decoration-color: #008080; font-weight: bold\">7.618530e+09</span> │         <span style=\"color: #008080; text-decoration-color: #008080; font-weight: bold\">5.157358e+08</span> │\n",
       "│ <span style=\"color: #008000; text-decoration-color: #008000\">South Africa</span> │ <span style=\"color: #008000; text-decoration-color: #008000\">ZAF   </span> │ <span style=\"color: #008000; text-decoration-color: #008000\">ZAF.3_1 </span> │ <span style=\"color: #008080; text-decoration-color: #008080; font-weight: bold\">1.083247e+11</span> │      <span style=\"color: #008080; text-decoration-color: #008080; font-weight: bold\">7.239370e+10</span> │           <span style=\"color: #008080; text-decoration-color: #008080; font-weight: bold\">2.412578e+10</span> │         <span style=\"color: #008080; text-decoration-color: #008080; font-weight: bold\">4.341869e+08</span> │\n",
       "│ <span style=\"color: #008000; text-decoration-color: #008000\">Thailand    </span> │ <span style=\"color: #008000; text-decoration-color: #008000\">THA   </span> │ <span style=\"color: #008000; text-decoration-color: #008000\">THA.61_1</span> │ <span style=\"color: #008080; text-decoration-color: #008080; font-weight: bold\">9.577281e+08</span> │      <span style=\"color: #008080; text-decoration-color: #008080; font-weight: bold\">4.680312e+08</span> │           <span style=\"color: #008080; text-decoration-color: #008080; font-weight: bold\">9.641519e+07</span> │         <span style=\"color: #008080; text-decoration-color: #008080; font-weight: bold\">3.932817e+08</span> │\n",
       "│ <span style=\"color: #008000; text-decoration-color: #008000\">El Salvador </span> │ <span style=\"color: #008000; text-decoration-color: #008000\">SLV   </span> │ <span style=\"color: #008000; text-decoration-color: #008000\">SLV     </span> │ <span style=\"color: #008080; text-decoration-color: #008080; font-weight: bold\">2.343824e+10</span> │      <span style=\"color: #008080; text-decoration-color: #008080; font-weight: bold\">1.406600e+10</span> │           <span style=\"color: #008080; text-decoration-color: #008080; font-weight: bold\">5.927280e+09</span> │         <span style=\"color: #008080; text-decoration-color: #008080; font-weight: bold\">1.296080e+09</span> │\n",
       "└──────────────┴────────┴──────────┴──────────────┴───────────────────┴────────────────────────┴──────────────────────┘\n",
       "</pre>\n"
      ],
      "text/plain": [
       "┏━━━━━━━━━━━━━━┳━━━━━━━━┳━━━━━━━━━━┳━━━━━━━━━━━━━━┳━━━━━━━━━━━━━━━━━━━┳━━━━━━━━━━━━━━━━━━━━━━━━┳━━━━━━━━━━━━━━━━━━━━━━┓\n",
       "┃\u001b[1m \u001b[0m\u001b[1mcountry\u001b[0m\u001b[1m     \u001b[0m\u001b[1m \u001b[0m┃\u001b[1m \u001b[0m\u001b[1mgid_0\u001b[0m\u001b[1m \u001b[0m\u001b[1m \u001b[0m┃\u001b[1m \u001b[0m\u001b[1mgid_1\u001b[0m\u001b[1m   \u001b[0m\u001b[1m \u001b[0m┃\u001b[1m \u001b[0m\u001b[1mgrp_usd_2015\u001b[0m\u001b[1m \u001b[0m┃\u001b[1m \u001b[0m\u001b[1mservices_usd_2015\u001b[0m\u001b[1m \u001b[0m┃\u001b[1m \u001b[0m\u001b[1mmanufacturing_usd_2015\u001b[0m\u001b[1m \u001b[0m┃\u001b[1m \u001b[0m\u001b[1magriculture_usd_2015\u001b[0m\u001b[1m \u001b[0m┃\n",
       "┡━━━━━━━━━━━━━━╇━━━━━━━━╇━━━━━━━━━━╇━━━━━━━━━━━━━━╇━━━━━━━━━━━━━━━━━━━╇━━━━━━━━━━━━━━━━━━━━━━━━╇━━━━━━━━━━━━━━━━━━━━━━┩\n",
       "│ \u001b[2mstring\u001b[0m       │ \u001b[2mstring\u001b[0m │ \u001b[2mstring\u001b[0m   │ \u001b[2mfloat64\u001b[0m      │ \u001b[2mfloat64\u001b[0m           │ \u001b[2mfloat64\u001b[0m                │ \u001b[2mfloat64\u001b[0m              │\n",
       "├──────────────┼────────┼──────────┼──────────────┼───────────────────┼────────────────────────┼──────────────────────┤\n",
       "│ \u001b[32mJapan       \u001b[0m │ \u001b[32mJPN   \u001b[0m │ \u001b[32mJPN.44_1\u001b[0m │ \u001b[1;36m2.873751e+10\u001b[0m │      \u001b[1;36m1.769360e+10\u001b[0m │           \u001b[1;36m1.022593e+10\u001b[0m │         \u001b[1;36m6.158575e+08\u001b[0m │\n",
       "│ \u001b[32mRussia      \u001b[0m │ \u001b[32mRUS   \u001b[0m │ \u001b[32mRUS.26_1\u001b[0m │ \u001b[1;36m3.479778e+09\u001b[0m │      \u001b[1;36m2.171382e+09\u001b[0m │           \u001b[1;36m1.120489e+09\u001b[0m │         \u001b[1;36m1.879080e+08\u001b[0m │\n",
       "│ \u001b[32mSwitzerland \u001b[0m │ \u001b[32mCHE   \u001b[0m │ \u001b[32mCHE.19_1\u001b[0m │ \u001b[1;36m1.863989e+10\u001b[0m │      \u001b[1;36m1.026323e+10\u001b[0m │           \u001b[1;36m7.771130e+09\u001b[0m │         \u001b[1;36m8.154673e+07\u001b[0m │\n",
       "│ \u001b[32mRussia      \u001b[0m │ \u001b[32mRUS   \u001b[0m │ \u001b[32mRUS.24_1\u001b[0m │ \u001b[1;36m2.878431e+09\u001b[0m │      \u001b[1;36m1.597529e+09\u001b[0m │           \u001b[1;36m6.879450e+08\u001b[0m │         \u001b[1;36m5.929568e+08\u001b[0m │\n",
       "│ \u001b[32mTurkey      \u001b[0m │ \u001b[32mTUR   \u001b[0m │ \u001b[32mTUR.79_1\u001b[0m │ \u001b[1;36m2.789496e+09\u001b[0m │      \u001b[1;36m1.131845e+09\u001b[0m │           \u001b[1;36m1.219981e+09\u001b[0m │         \u001b[1;36m1.079195e+08\u001b[0m │\n",
       "│ \u001b[32mSouth Korea \u001b[0m │ \u001b[32mKOR   \u001b[0m │ \u001b[32mKOR.6_1 \u001b[0m │ \u001b[1;36m3.081603e+10\u001b[0m │      \u001b[1;36m2.352996e+10\u001b[0m │           \u001b[1;36m9.613424e+09\u001b[0m │         \u001b[1;36m1.475943e+08\u001b[0m │\n",
       "│ \u001b[32mNigeria     \u001b[0m │ \u001b[32mNGA   \u001b[0m │ \u001b[32mNGA.15_1\u001b[0m │ \u001b[1;36m4.875312e+10\u001b[0m │      \u001b[1;36m4.061886e+10\u001b[0m │           \u001b[1;36m7.618530e+09\u001b[0m │         \u001b[1;36m5.157358e+08\u001b[0m │\n",
       "│ \u001b[32mSouth Africa\u001b[0m │ \u001b[32mZAF   \u001b[0m │ \u001b[32mZAF.3_1 \u001b[0m │ \u001b[1;36m1.083247e+11\u001b[0m │      \u001b[1;36m7.239370e+10\u001b[0m │           \u001b[1;36m2.412578e+10\u001b[0m │         \u001b[1;36m4.341869e+08\u001b[0m │\n",
       "│ \u001b[32mThailand    \u001b[0m │ \u001b[32mTHA   \u001b[0m │ \u001b[32mTHA.61_1\u001b[0m │ \u001b[1;36m9.577281e+08\u001b[0m │      \u001b[1;36m4.680312e+08\u001b[0m │           \u001b[1;36m9.641519e+07\u001b[0m │         \u001b[1;36m3.932817e+08\u001b[0m │\n",
       "│ \u001b[32mEl Salvador \u001b[0m │ \u001b[32mSLV   \u001b[0m │ \u001b[32mSLV     \u001b[0m │ \u001b[1;36m2.343824e+10\u001b[0m │      \u001b[1;36m1.406600e+10\u001b[0m │           \u001b[1;36m5.927280e+09\u001b[0m │         \u001b[1;36m1.296080e+09\u001b[0m │\n",
       "└──────────────┴────────┴──────────┴──────────────┴───────────────────┴────────────────────────┴──────────────────────┘"
      ]
     },
     "execution_count": 34,
     "metadata": {},
     "output_type": "execute_result"
    }
   ],
   "source": [
    "head_rand(conn=conn,table=\"dose_light\",limit=10)\n"
   ]
  },
  {
   "cell_type": "code",
   "execution_count": 35,
   "metadata": {
    "tags": [
     "rm_cell"
    ]
   },
   "outputs": [
    {
     "data": {
      "text/html": [
       "<pre style=\"white-space:pre;overflow-x:auto;line-height:normal;font-family:Menlo,'DejaVu Sans Mono',consolas,'Courier New',monospace\">┏━━━━━━━━┳━━━━━━━━━━━━━━━━━━━━━━━┳━━━━━━━━━━┳━━━━━━━━━━━━━━━━━┳━━━━━━━━━━━━━━━━━━━━━━━━━━━━━━━━━━━┳━━━━━━━━━━━━━┳━━━━━━━━━━━━━━┳━━━━━━━━━━━━━━┳━━━━━━━━━━━┳━━━━━━━━┳━━━━━━━━━━━━━━━━━━━━━━━━━━━━━━━━━━━━━━━━━━━━━━━━━━━━━━━━━━━━━━━━━━━━━━━━━━━━━━━━━━┳━━━━━━━━━━━━━━━━━━━┓\n",
       "┃<span style=\"font-weight: bold\"> GID_0  </span>┃<span style=\"font-weight: bold\"> NAME_0                </span>┃<span style=\"font-weight: bold\"> GID_1    </span>┃<span style=\"font-weight: bold\"> NAME_1          </span>┃<span style=\"font-weight: bold\"> VARNAME_1                         </span>┃<span style=\"font-weight: bold\"> NL_NAME_1   </span>┃<span style=\"font-weight: bold\"> TYPE_1       </span>┃<span style=\"font-weight: bold\"> ENGTYPE_1    </span>┃<span style=\"font-weight: bold\"> CC_1      </span>┃<span style=\"font-weight: bold\"> HASC_1 </span>┃<span style=\"font-weight: bold\"> geometry                                                                         </span>┃<span style=\"font-weight: bold\"> __index_level_0__ </span>┃\n",
       "┡━━━━━━━━╇━━━━━━━━━━━━━━━━━━━━━━━╇━━━━━━━━━━╇━━━━━━━━━━━━━━━━━╇━━━━━━━━━━━━━━━━━━━━━━━━━━━━━━━━━━━╇━━━━━━━━━━━━━╇━━━━━━━━━━━━━━╇━━━━━━━━━━━━━━╇━━━━━━━━━━━╇━━━━━━━━╇━━━━━━━━━━━━━━━━━━━━━━━━━━━━━━━━━━━━━━━━━━━━━━━━━━━━━━━━━━━━━━━━━━━━━━━━━━━━━━━━━━╇━━━━━━━━━━━━━━━━━━━┩\n",
       "│ <span style=\"color: #7f7f7f; text-decoration-color: #7f7f7f\">string</span> │ <span style=\"color: #7f7f7f; text-decoration-color: #7f7f7f\">string</span>                │ <span style=\"color: #7f7f7f; text-decoration-color: #7f7f7f\">string</span>   │ <span style=\"color: #7f7f7f; text-decoration-color: #7f7f7f\">string</span>          │ <span style=\"color: #7f7f7f; text-decoration-color: #7f7f7f\">string</span>                            │ <span style=\"color: #7f7f7f; text-decoration-color: #7f7f7f\">string</span>      │ <span style=\"color: #7f7f7f; text-decoration-color: #7f7f7f\">string</span>       │ <span style=\"color: #7f7f7f; text-decoration-color: #7f7f7f\">string</span>       │ <span style=\"color: #7f7f7f; text-decoration-color: #7f7f7f\">string</span>    │ <span style=\"color: #7f7f7f; text-decoration-color: #7f7f7f\">string</span> │ <span style=\"color: #7f7f7f; text-decoration-color: #7f7f7f\">geospatial:geometry</span>                                                              │ <span style=\"color: #7f7f7f; text-decoration-color: #7f7f7f\">int64</span>             │\n",
       "├────────┼───────────────────────┼──────────┼─────────────────┼───────────────────────────────────┼─────────────┼──────────────┼──────────────┼───────────┼────────┼──────────────────────────────────────────────────────────────────────────────────┼───────────────────┤\n",
       "│ <span style=\"color: #008000; text-decoration-color: #008000\">PRY   </span> │ <span style=\"color: #008000; text-decoration-color: #008000\">Paraguay             </span> │ <span style=\"color: #008000; text-decoration-color: #008000\">PRY.6_1 </span> │ <span style=\"color: #008000; text-decoration-color: #008000\">Caaguazú       </span> │ <span style=\"color: #7f7f7f; text-decoration-color: #7f7f7f\">NULL</span>                              │ <span style=\"color: #7f7f7f; text-decoration-color: #7f7f7f\">NULL</span>        │ <span style=\"color: #008000; text-decoration-color: #008000\">Departamento</span> │ <span style=\"color: #008000; text-decoration-color: #008000\">Department  </span> │ <span style=\"color: #7f7f7f; text-decoration-color: #7f7f7f\">NULL</span>      │ <span style=\"color: #008000; text-decoration-color: #008000\">PY.CG </span> │ <span style=\"font-weight: bold\">&lt;</span><span style=\"color: #ff00ff; text-decoration-color: #ff00ff; font-weight: bold\">POLYGON</span><span style=\"color: #000000; text-decoration-color: #000000\"> </span><span style=\"color: #000000; text-decoration-color: #000000; font-weight: bold\">((</span><span style=\"color: #008080; text-decoration-color: #008080; font-weight: bold\">-55.431</span><span style=\"color: #000000; text-decoration-color: #000000\"> </span><span style=\"color: #008080; text-decoration-color: #008080; font-weight: bold\">-25.539</span><span style=\"color: #000000; text-decoration-color: #000000\">, </span><span style=\"color: #008080; text-decoration-color: #008080; font-weight: bold\">-55.435</span><span style=\"color: #000000; text-decoration-color: #000000\"> </span><span style=\"color: #008080; text-decoration-color: #008080; font-weight: bold\">-25.539</span><span style=\"color: #000000; text-decoration-color: #000000\">, </span><span style=\"color: #008080; text-decoration-color: #008080; font-weight: bold\">-55.438</span><span style=\"color: #000000; text-decoration-color: #000000\"> </span><span style=\"color: #008080; text-decoration-color: #008080; font-weight: bold\">-25.537</span><span style=\"color: #000000; text-decoration-color: #000000\">, </span><span style=\"color: #008080; text-decoration-color: #008080; font-weight: bold\">-55.439</span><span style=\"color: #000000; text-decoration-color: #000000\"> </span><span style=\"color: #008080; text-decoration-color: #008080; font-weight: bold\">-25.53</span><span style=\"color: #808000; text-decoration-color: #808000\">...</span><span style=\"font-weight: bold\">&gt;</span> │              <span style=\"color: #008080; text-decoration-color: #008080; font-weight: bold\">2532</span> │\n",
       "│ <span style=\"color: #008000; text-decoration-color: #008000\">BDI   </span> │ <span style=\"color: #008000; text-decoration-color: #008000\">Burundi              </span> │ <span style=\"color: #008000; text-decoration-color: #008000\">BDI.16_1</span> │ <span style=\"color: #008000; text-decoration-color: #008000\">Rutana         </span> │ <span style=\"color: #7f7f7f; text-decoration-color: #7f7f7f\">NULL</span>                              │ <span style=\"color: #7f7f7f; text-decoration-color: #7f7f7f\">NULL</span>        │ <span style=\"color: #008000; text-decoration-color: #008000\">Province    </span> │ <span style=\"color: #008000; text-decoration-color: #008000\">Province    </span> │ <span style=\"color: #008000; text-decoration-color: #008000\">003BDI015</span> │ <span style=\"color: #008000; text-decoration-color: #008000\">BI.RT </span> │ <span style=\"font-weight: bold\">&lt;</span><span style=\"color: #ff00ff; text-decoration-color: #ff00ff; font-weight: bold\">POLYGON</span><span style=\"color: #000000; text-decoration-color: #000000\"> </span><span style=\"color: #000000; text-decoration-color: #000000; font-weight: bold\">((</span><span style=\"color: #008080; text-decoration-color: #008080; font-weight: bold\">30.126</span><span style=\"color: #000000; text-decoration-color: #000000\"> </span><span style=\"color: #008080; text-decoration-color: #008080; font-weight: bold\">-4.054</span><span style=\"color: #000000; text-decoration-color: #000000\">, </span><span style=\"color: #008080; text-decoration-color: #008080; font-weight: bold\">30.126</span><span style=\"color: #000000; text-decoration-color: #000000\"> </span><span style=\"color: #008080; text-decoration-color: #008080; font-weight: bold\">-4.054</span><span style=\"color: #000000; text-decoration-color: #000000\">, </span><span style=\"color: #008080; text-decoration-color: #008080; font-weight: bold\">30.126</span><span style=\"color: #000000; text-decoration-color: #000000\"> </span><span style=\"color: #008080; text-decoration-color: #008080; font-weight: bold\">-4.055</span><span style=\"color: #000000; text-decoration-color: #000000\">, </span><span style=\"color: #008080; text-decoration-color: #008080; font-weight: bold\">30.126</span><span style=\"color: #000000; text-decoration-color: #000000\"> </span><span style=\"color: #008080; text-decoration-color: #008080; font-weight: bold\">-4.056</span><span style=\"color: #000000; text-decoration-color: #000000\">, </span><span style=\"color: #008080; text-decoration-color: #008080; font-weight: bold\">30.12</span><span style=\"color: #808000; text-decoration-color: #808000\">...</span><span style=\"font-weight: bold\">&gt;</span> │               <span style=\"color: #008080; text-decoration-color: #008080; font-weight: bold\">190</span> │\n",
       "│ <span style=\"color: #008000; text-decoration-color: #008000\">SOM   </span> │ <span style=\"color: #008000; text-decoration-color: #008000\">Somalia              </span> │ <span style=\"color: #008000; text-decoration-color: #008000\">SOM.5_1 </span> │ <span style=\"color: #008000; text-decoration-color: #008000\">Bay            </span> │ <span style=\"color: #008000; text-decoration-color: #008000\">Baay                             </span> │ <span style=\"color: #7f7f7f; text-decoration-color: #7f7f7f\">NULL</span>        │ <span style=\"color: #008000; text-decoration-color: #008000\">Gobolka     </span> │ <span style=\"color: #008000; text-decoration-color: #008000\">Region      </span> │ <span style=\"color: #7f7f7f; text-decoration-color: #7f7f7f\">NULL</span>      │ <span style=\"color: #008000; text-decoration-color: #008000\">SO.BY </span> │ <span style=\"font-weight: bold\">&lt;</span><span style=\"color: #ff00ff; text-decoration-color: #ff00ff; font-weight: bold\">POLYGON</span><span style=\"color: #000000; text-decoration-color: #000000\"> </span><span style=\"color: #000000; text-decoration-color: #000000; font-weight: bold\">((</span><span style=\"color: #008080; text-decoration-color: #008080; font-weight: bold\">43.32</span><span style=\"color: #000000; text-decoration-color: #000000\"> </span><span style=\"color: #008080; text-decoration-color: #008080; font-weight: bold\">1.63</span><span style=\"color: #000000; text-decoration-color: #000000\">, </span><span style=\"color: #008080; text-decoration-color: #008080; font-weight: bold\">42.98</span><span style=\"color: #000000; text-decoration-color: #000000\"> </span><span style=\"color: #008080; text-decoration-color: #008080; font-weight: bold\">1.46</span><span style=\"color: #000000; text-decoration-color: #000000\">, </span><span style=\"color: #008080; text-decoration-color: #008080; font-weight: bold\">42.9</span><span style=\"color: #000000; text-decoration-color: #000000\"> </span><span style=\"color: #008080; text-decoration-color: #008080; font-weight: bold\">1.52</span><span style=\"color: #000000; text-decoration-color: #000000\">, </span><span style=\"color: #008080; text-decoration-color: #008080; font-weight: bold\">42.52</span><span style=\"color: #000000; text-decoration-color: #000000\"> </span><span style=\"color: #008080; text-decoration-color: #008080; font-weight: bold\">1.88</span><span style=\"color: #000000; text-decoration-color: #000000\">, </span><span style=\"color: #008080; text-decoration-color: #008080; font-weight: bold\">42.4</span><span style=\"color: #000000; text-decoration-color: #000000\"> </span><span style=\"color: #008080; text-decoration-color: #008080; font-weight: bold\">1.95</span><span style=\"color: #000000; text-decoration-color: #000000\">, </span><span style=\"color: #008080; text-decoration-color: #008080; font-weight: bold\">42.4</span><span style=\"color: #000000; text-decoration-color: #000000\"> </span><span style=\"color: #008080; text-decoration-color: #008080; font-weight: bold\">1</span><span style=\"color: #808000; text-decoration-color: #808000\">...</span><span style=\"color: #000000; text-decoration-color: #000000\">.</span><span style=\"font-weight: bold\">&gt;</span> │              <span style=\"color: #008080; text-decoration-color: #008080; font-weight: bold\">2789</span> │\n",
       "│ <span style=\"color: #008000; text-decoration-color: #008000\">SVK   </span> │ <span style=\"color: #008000; text-decoration-color: #008000\">Slovakia             </span> │ <span style=\"color: #008000; text-decoration-color: #008000\">SVK.6_1 </span> │ <span style=\"color: #008000; text-decoration-color: #008000\">Trenčiansky    </span> │ <span style=\"color: #008000; text-decoration-color: #008000\">Trencín                          </span> │ <span style=\"color: #7f7f7f; text-decoration-color: #7f7f7f\">NULL</span>        │ <span style=\"color: #008000; text-decoration-color: #008000\">Kraj        </span> │ <span style=\"color: #008000; text-decoration-color: #008000\">Region      </span> │ <span style=\"color: #7f7f7f; text-decoration-color: #7f7f7f\">NULL</span>      │ <span style=\"color: #008000; text-decoration-color: #008000\">SK.TC </span> │ <span style=\"font-weight: bold\">&lt;</span><span style=\"color: #ff00ff; text-decoration-color: #ff00ff; font-weight: bold\">POLYGON</span><span style=\"color: #000000; text-decoration-color: #000000\"> </span><span style=\"color: #000000; text-decoration-color: #000000; font-weight: bold\">((</span><span style=\"color: #008080; text-decoration-color: #008080; font-weight: bold\">17.697</span><span style=\"color: #000000; text-decoration-color: #000000\"> </span><span style=\"color: #008080; text-decoration-color: #008080; font-weight: bold\">48.676</span><span style=\"color: #000000; text-decoration-color: #000000\">, </span><span style=\"color: #008080; text-decoration-color: #008080; font-weight: bold\">17.697</span><span style=\"color: #000000; text-decoration-color: #000000\"> </span><span style=\"color: #008080; text-decoration-color: #008080; font-weight: bold\">48.676</span><span style=\"color: #000000; text-decoration-color: #000000\">, </span><span style=\"color: #008080; text-decoration-color: #008080; font-weight: bold\">17.696</span><span style=\"color: #000000; text-decoration-color: #000000\"> </span><span style=\"color: #008080; text-decoration-color: #008080; font-weight: bold\">48.676</span><span style=\"color: #000000; text-decoration-color: #000000\">, </span><span style=\"color: #008080; text-decoration-color: #008080; font-weight: bold\">17.695</span><span style=\"color: #000000; text-decoration-color: #000000\"> </span><span style=\"color: #008080; text-decoration-color: #008080; font-weight: bold\">48.675</span><span style=\"color: #000000; text-decoration-color: #000000\">, </span><span style=\"color: #008080; text-decoration-color: #008080; font-weight: bold\">17.69</span><span style=\"color: #808000; text-decoration-color: #808000\">...</span><span style=\"font-weight: bold\">&gt;</span> │              <span style=\"color: #008080; text-decoration-color: #008080; font-weight: bold\">2857</span> │\n",
       "│ <span style=\"color: #008000; text-decoration-color: #008000\">AUS   </span> │ <span style=\"color: #008000; text-decoration-color: #008000\">Australia            </span> │ <span style=\"color: #008000; text-decoration-color: #008000\">AUS.10_1</span> │ <span style=\"color: #008000; text-decoration-color: #008000\">Victoria       </span> │ <span style=\"color: #7f7f7f; text-decoration-color: #7f7f7f\">NULL</span>                              │ <span style=\"color: #7f7f7f; text-decoration-color: #7f7f7f\">NULL</span>        │ <span style=\"color: #008000; text-decoration-color: #008000\">State       </span> │ <span style=\"color: #008000; text-decoration-color: #008000\">State       </span> │ <span style=\"color: #008000; text-decoration-color: #008000\">2        </span> │ <span style=\"color: #008000; text-decoration-color: #008000\">AU.VI </span> │ <span style=\"font-weight: bold\">&lt;</span><span style=\"color: #ff00ff; text-decoration-color: #ff00ff; font-weight: bold\">MULTIPOLYGON</span><span style=\"color: #000000; text-decoration-color: #000000\"> </span><span style=\"color: #000000; text-decoration-color: #000000; font-weight: bold\">(((</span><span style=\"color: #008080; text-decoration-color: #008080; font-weight: bold\">146.293</span><span style=\"color: #000000; text-decoration-color: #000000\"> </span><span style=\"color: #008080; text-decoration-color: #008080; font-weight: bold\">-39.158</span><span style=\"color: #000000; text-decoration-color: #000000\">, </span><span style=\"color: #008080; text-decoration-color: #008080; font-weight: bold\">146.293</span><span style=\"color: #000000; text-decoration-color: #000000\"> </span><span style=\"color: #008080; text-decoration-color: #008080; font-weight: bold\">-39.157</span><span style=\"color: #000000; text-decoration-color: #000000\">, </span><span style=\"color: #008080; text-decoration-color: #008080; font-weight: bold\">146.293</span><span style=\"color: #000000; text-decoration-color: #000000\"> </span><span style=\"color: #008080; text-decoration-color: #008080; font-weight: bold\">-39.157</span><span style=\"color: #000000; text-decoration-color: #000000\">, </span><span style=\"color: #008080; text-decoration-color: #008080; font-weight: bold\">146.293</span><span style=\"color: #000000; text-decoration-color: #000000\"> </span><span style=\"color: #808000; text-decoration-color: #808000\">...</span><span style=\"font-weight: bold\">&gt;</span> │               <span style=\"color: #008080; text-decoration-color: #008080; font-weight: bold\">154</span> │\n",
       "│ <span style=\"color: #008000; text-decoration-color: #008000\">DZA   </span> │ <span style=\"color: #008000; text-decoration-color: #008000\">Algeria              </span> │ <span style=\"color: #008000; text-decoration-color: #008000\">DZA.14_1</span> │ <span style=\"color: #008000; text-decoration-color: #008000\">Chlef          </span> │ <span style=\"color: #008000; text-decoration-color: #008000\">El Asnam|Orléansville|Ech Cheliff</span> │ <span style=\"color: #008000; text-decoration-color: #008000\">ولاية الشلف</span> │ <span style=\"color: #008000; text-decoration-color: #008000\">Wilaya      </span> │ <span style=\"color: #008000; text-decoration-color: #008000\">Province    </span> │ <span style=\"color: #008000; text-decoration-color: #008000\">2        </span> │ <span style=\"color: #008000; text-decoration-color: #008000\">DZ.CH </span> │ <span style=\"font-weight: bold\">&lt;</span><span style=\"color: #ff00ff; text-decoration-color: #ff00ff; font-weight: bold\">POLYGON</span><span style=\"color: #000000; text-decoration-color: #000000\"> </span><span style=\"color: #000000; text-decoration-color: #000000; font-weight: bold\">((</span><span style=\"color: #008080; text-decoration-color: #008080; font-weight: bold\">1.648</span><span style=\"color: #000000; text-decoration-color: #000000\"> </span><span style=\"color: #008080; text-decoration-color: #008080; font-weight: bold\">35.94</span><span style=\"color: #000000; text-decoration-color: #000000\">, </span><span style=\"color: #008080; text-decoration-color: #008080; font-weight: bold\">1.648</span><span style=\"color: #000000; text-decoration-color: #000000\"> </span><span style=\"color: #008080; text-decoration-color: #008080; font-weight: bold\">35.94</span><span style=\"color: #000000; text-decoration-color: #000000\">, </span><span style=\"color: #008080; text-decoration-color: #008080; font-weight: bold\">1.649</span><span style=\"color: #000000; text-decoration-color: #000000\"> </span><span style=\"color: #008080; text-decoration-color: #008080; font-weight: bold\">35.94</span><span style=\"color: #000000; text-decoration-color: #000000\">, </span><span style=\"color: #008080; text-decoration-color: #008080; font-weight: bold\">1.648</span><span style=\"color: #000000; text-decoration-color: #000000\"> </span><span style=\"color: #008080; text-decoration-color: #008080; font-weight: bold\">35.94</span><span style=\"color: #000000; text-decoration-color: #000000\">, </span><span style=\"color: #008080; text-decoration-color: #008080; font-weight: bold\">1.648</span><span style=\"color: #000000; text-decoration-color: #000000\"> </span><span style=\"color: #008080; text-decoration-color: #008080; font-weight: bold\">35.941</span><span style=\"color: #000000; text-decoration-color: #000000\">,</span><span style=\"color: #808000; text-decoration-color: #808000\">...</span><span style=\"font-weight: bold\">&gt;</span> │               <span style=\"color: #008080; text-decoration-color: #008080; font-weight: bold\">760</span> │\n",
       "│ <span style=\"color: #008000; text-decoration-color: #008000\">DOM   </span> │ <span style=\"color: #008000; text-decoration-color: #008000\">Dominican Republic   </span> │ <span style=\"color: #008000; text-decoration-color: #008000\">DOM.30_1</span> │ <span style=\"color: #008000; text-decoration-color: #008000\">Santiago       </span> │ <span style=\"color: #008000; text-decoration-color: #008000\">Santiago de los Caballeros       </span> │ <span style=\"color: #7f7f7f; text-decoration-color: #7f7f7f\">NULL</span>        │ <span style=\"color: #008000; text-decoration-color: #008000\">Provincia   </span> │ <span style=\"color: #008000; text-decoration-color: #008000\">Province    </span> │ <span style=\"color: #7f7f7f; text-decoration-color: #7f7f7f\">NULL</span>      │ <span style=\"color: #008000; text-decoration-color: #008000\">DO.ST </span> │ <span style=\"font-weight: bold\">&lt;</span><span style=\"color: #ff00ff; text-decoration-color: #ff00ff; font-weight: bold\">POLYGON</span><span style=\"color: #000000; text-decoration-color: #000000\"> </span><span style=\"color: #000000; text-decoration-color: #000000; font-weight: bold\">((</span><span style=\"color: #008080; text-decoration-color: #008080; font-weight: bold\">-70.583</span><span style=\"color: #000000; text-decoration-color: #000000\"> </span><span style=\"color: #008080; text-decoration-color: #008080; font-weight: bold\">19.395</span><span style=\"color: #000000; text-decoration-color: #000000\">, </span><span style=\"color: #008080; text-decoration-color: #008080; font-weight: bold\">-70.582</span><span style=\"color: #000000; text-decoration-color: #000000\"> </span><span style=\"color: #008080; text-decoration-color: #008080; font-weight: bold\">19.392</span><span style=\"color: #000000; text-decoration-color: #000000\">, </span><span style=\"color: #008080; text-decoration-color: #008080; font-weight: bold\">-70.581</span><span style=\"color: #000000; text-decoration-color: #000000\"> </span><span style=\"color: #008080; text-decoration-color: #008080; font-weight: bold\">19.389</span><span style=\"color: #000000; text-decoration-color: #000000\">, </span><span style=\"color: #008080; text-decoration-color: #008080; font-weight: bold\">-70.579</span><span style=\"color: #000000; text-decoration-color: #000000\"> </span><span style=\"color: #008080; text-decoration-color: #008080; font-weight: bold\">19.387</span><span style=\"color: #000000; text-decoration-color: #000000\">, -</span><span style=\"color: #808000; text-decoration-color: #808000\">...</span><span style=\"font-weight: bold\">&gt;</span> │               <span style=\"color: #008080; text-decoration-color: #008080; font-weight: bold\">743</span> │\n",
       "│ <span style=\"color: #008000; text-decoration-color: #008000\">GAB   </span> │ <span style=\"color: #008000; text-decoration-color: #008000\">Gabon                </span> │ <span style=\"color: #008000; text-decoration-color: #008000\">GAB.8_1 </span> │ <span style=\"color: #008000; text-decoration-color: #008000\">Ogooué-Maritime</span> │ <span style=\"color: #7f7f7f; text-decoration-color: #7f7f7f\">NULL</span>                              │ <span style=\"color: #7f7f7f; text-decoration-color: #7f7f7f\">NULL</span>        │ <span style=\"color: #008000; text-decoration-color: #008000\">Province    </span> │ <span style=\"color: #008000; text-decoration-color: #008000\">Province    </span> │ <span style=\"color: #7f7f7f; text-decoration-color: #7f7f7f\">NULL</span>      │ <span style=\"color: #008000; text-decoration-color: #008000\">GA.OM </span> │ <span style=\"font-weight: bold\">&lt;</span><span style=\"color: #ff00ff; text-decoration-color: #ff00ff; font-weight: bold\">MULTIPOLYGON</span><span style=\"color: #000000; text-decoration-color: #000000\"> </span><span style=\"color: #000000; text-decoration-color: #000000; font-weight: bold\">(((</span><span style=\"color: #008080; text-decoration-color: #008080; font-weight: bold\">9.158</span><span style=\"color: #000000; text-decoration-color: #000000\"> </span><span style=\"color: #008080; text-decoration-color: #008080; font-weight: bold\">-2.075</span><span style=\"color: #000000; text-decoration-color: #000000\">, </span><span style=\"color: #008080; text-decoration-color: #008080; font-weight: bold\">9.158</span><span style=\"color: #000000; text-decoration-color: #000000\"> </span><span style=\"color: #008080; text-decoration-color: #008080; font-weight: bold\">-2.075</span><span style=\"color: #000000; text-decoration-color: #000000\">, </span><span style=\"color: #008080; text-decoration-color: #008080; font-weight: bold\">9.158</span><span style=\"color: #000000; text-decoration-color: #000000\"> </span><span style=\"color: #008080; text-decoration-color: #008080; font-weight: bold\">-2.075</span><span style=\"color: #000000; text-decoration-color: #000000\">, </span><span style=\"color: #008080; text-decoration-color: #008080; font-weight: bold\">9.158</span><span style=\"color: #000000; text-decoration-color: #000000\"> </span><span style=\"color: #008080; text-decoration-color: #008080; font-weight: bold\">-2.075</span><span style=\"color: #000000; text-decoration-color: #000000\">, </span><span style=\"color: #008080; text-decoration-color: #008080; font-weight: bold\">9.1</span><span style=\"color: #808000; text-decoration-color: #808000\">...</span><span style=\"font-weight: bold\">&gt;</span> │               <span style=\"color: #008080; text-decoration-color: #008080; font-weight: bold\">941</span> │\n",
       "│ <span style=\"color: #008000; text-decoration-color: #008000\">KEN   </span> │ <span style=\"color: #008000; text-decoration-color: #008000\">Kenya                </span> │ <span style=\"color: #008000; text-decoration-color: #008000\">KEN.37_1</span> │ <span style=\"color: #008000; text-decoration-color: #008000\">Samburu        </span> │ <span style=\"color: #7f7f7f; text-decoration-color: #7f7f7f\">NULL</span>                              │ <span style=\"color: #7f7f7f; text-decoration-color: #7f7f7f\">NULL</span>        │ <span style=\"color: #008000; text-decoration-color: #008000\">County      </span> │ <span style=\"color: #008000; text-decoration-color: #008000\">County      </span> │ <span style=\"color: #008000; text-decoration-color: #008000\">25       </span> │ <span style=\"color: #008000; text-decoration-color: #008000\">KE.SA </span> │ <span style=\"font-weight: bold\">&lt;</span><span style=\"color: #ff00ff; text-decoration-color: #ff00ff; font-weight: bold\">POLYGON</span><span style=\"color: #000000; text-decoration-color: #000000\"> </span><span style=\"color: #000000; text-decoration-color: #000000; font-weight: bold\">((</span><span style=\"color: #008080; text-decoration-color: #008080; font-weight: bold\">37.493</span><span style=\"color: #000000; text-decoration-color: #000000\"> </span><span style=\"color: #008080; text-decoration-color: #008080; font-weight: bold\">0.589</span><span style=\"color: #000000; text-decoration-color: #000000\">, </span><span style=\"color: #008080; text-decoration-color: #008080; font-weight: bold\">37.492</span><span style=\"color: #000000; text-decoration-color: #000000\"> </span><span style=\"color: #008080; text-decoration-color: #008080; font-weight: bold\">0.589</span><span style=\"color: #000000; text-decoration-color: #000000\">, </span><span style=\"color: #008080; text-decoration-color: #008080; font-weight: bold\">37.492</span><span style=\"color: #000000; text-decoration-color: #000000\"> </span><span style=\"color: #008080; text-decoration-color: #008080; font-weight: bold\">0.589</span><span style=\"color: #000000; text-decoration-color: #000000\">, </span><span style=\"color: #008080; text-decoration-color: #008080; font-weight: bold\">37.492</span><span style=\"color: #000000; text-decoration-color: #000000\"> </span><span style=\"color: #008080; text-decoration-color: #008080; font-weight: bold\">0.59</span><span style=\"color: #000000; text-decoration-color: #000000\">, </span><span style=\"color: #008080; text-decoration-color: #008080; font-weight: bold\">37.492</span><span style=\"color: #000000; text-decoration-color: #000000\"> </span><span style=\"color: #008080; text-decoration-color: #008080; font-weight: bold\">0.5</span><span style=\"color: #808000; text-decoration-color: #808000\">...</span><span style=\"font-weight: bold\">&gt;</span> │              <span style=\"color: #008080; text-decoration-color: #008080; font-weight: bold\">1496</span> │\n",
       "│ <span style=\"color: #008000; text-decoration-color: #008000\">STP   </span> │ <span style=\"color: #008000; text-decoration-color: #008000\">São Tomé and Príncipe</span> │ <span style=\"color: #008000; text-decoration-color: #008000\">STP.1_1 </span> │ <span style=\"color: #008000; text-decoration-color: #008000\">Príncipe       </span> │ <span style=\"color: #7f7f7f; text-decoration-color: #7f7f7f\">NULL</span>                              │ <span style=\"color: #7f7f7f; text-decoration-color: #7f7f7f\">NULL</span>        │ <span style=\"color: #008000; text-decoration-color: #008000\">Concelho    </span> │ <span style=\"color: #008000; text-decoration-color: #008000\">Municipality</span> │ <span style=\"color: #7f7f7f; text-decoration-color: #7f7f7f\">NULL</span>      │ <span style=\"color: #008000; text-decoration-color: #008000\">ST.PR </span> │ <span style=\"font-weight: bold\">&lt;</span><span style=\"color: #ff00ff; text-decoration-color: #ff00ff; font-weight: bold\">MULTIPOLYGON</span><span style=\"color: #000000; text-decoration-color: #000000\"> </span><span style=\"color: #000000; text-decoration-color: #000000; font-weight: bold\">(((</span><span style=\"color: #008080; text-decoration-color: #008080; font-weight: bold\">7.293</span><span style=\"color: #000000; text-decoration-color: #000000\"> </span><span style=\"color: #008080; text-decoration-color: #008080; font-weight: bold\">1.345</span><span style=\"color: #000000; text-decoration-color: #000000\">, </span><span style=\"color: #008080; text-decoration-color: #008080; font-weight: bold\">7.293</span><span style=\"color: #000000; text-decoration-color: #000000\"> </span><span style=\"color: #008080; text-decoration-color: #008080; font-weight: bold\">1.344</span><span style=\"color: #000000; text-decoration-color: #000000\">, </span><span style=\"color: #008080; text-decoration-color: #008080; font-weight: bold\">7.293</span><span style=\"color: #000000; text-decoration-color: #000000\"> </span><span style=\"color: #008080; text-decoration-color: #008080; font-weight: bold\">1.344</span><span style=\"color: #000000; text-decoration-color: #000000\">, </span><span style=\"color: #008080; text-decoration-color: #008080; font-weight: bold\">7.293</span><span style=\"color: #000000; text-decoration-color: #000000\"> </span><span style=\"color: #008080; text-decoration-color: #008080; font-weight: bold\">1.343</span><span style=\"color: #000000; text-decoration-color: #000000\">, </span><span style=\"color: #008080; text-decoration-color: #008080; font-weight: bold\">7.294</span><span style=\"color: #000000; text-decoration-color: #000000\"> </span><span style=\"color: #008080; text-decoration-color: #008080; font-weight: bold\">1</span><span style=\"color: #808000; text-decoration-color: #808000\">...</span><span style=\"font-weight: bold\">&gt;</span> │              <span style=\"color: #008080; text-decoration-color: #008080; font-weight: bold\">2840</span> │\n",
       "└────────┴───────────────────────┴──────────┴─────────────────┴───────────────────────────────────┴─────────────┴──────────────┴──────────────┴───────────┴────────┴──────────────────────────────────────────────────────────────────────────────────┴───────────────────┘\n",
       "</pre>\n"
      ],
      "text/plain": [
       "┏━━━━━━━━┳━━━━━━━━━━━━━━━━━━━━━━━┳━━━━━━━━━━┳━━━━━━━━━━━━━━━━━┳━━━━━━━━━━━━━━━━━━━━━━━━━━━━━━━━━━━┳━━━━━━━━━━━━━┳━━━━━━━━━━━━━━┳━━━━━━━━━━━━━━┳━━━━━━━━━━━┳━━━━━━━━┳━━━━━━━━━━━━━━━━━━━━━━━━━━━━━━━━━━━━━━━━━━━━━━━━━━━━━━━━━━━━━━━━━━━━━━━━━━━━━━━━━━┳━━━━━━━━━━━━━━━━━━━┓\n",
       "┃\u001b[1m \u001b[0m\u001b[1mGID_0\u001b[0m\u001b[1m \u001b[0m\u001b[1m \u001b[0m┃\u001b[1m \u001b[0m\u001b[1mNAME_0\u001b[0m\u001b[1m               \u001b[0m\u001b[1m \u001b[0m┃\u001b[1m \u001b[0m\u001b[1mGID_1\u001b[0m\u001b[1m   \u001b[0m\u001b[1m \u001b[0m┃\u001b[1m \u001b[0m\u001b[1mNAME_1\u001b[0m\u001b[1m         \u001b[0m\u001b[1m \u001b[0m┃\u001b[1m \u001b[0m\u001b[1mVARNAME_1\u001b[0m\u001b[1m                        \u001b[0m\u001b[1m \u001b[0m┃\u001b[1m \u001b[0m\u001b[1mNL_NAME_1\u001b[0m\u001b[1m  \u001b[0m\u001b[1m \u001b[0m┃\u001b[1m \u001b[0m\u001b[1mTYPE_1\u001b[0m\u001b[1m      \u001b[0m\u001b[1m \u001b[0m┃\u001b[1m \u001b[0m\u001b[1mENGTYPE_1\u001b[0m\u001b[1m   \u001b[0m\u001b[1m \u001b[0m┃\u001b[1m \u001b[0m\u001b[1mCC_1\u001b[0m\u001b[1m     \u001b[0m\u001b[1m \u001b[0m┃\u001b[1m \u001b[0m\u001b[1mHASC_1\u001b[0m\u001b[1m \u001b[0m┃\u001b[1m \u001b[0m\u001b[1mgeometry\u001b[0m\u001b[1m                                                                        \u001b[0m\u001b[1m \u001b[0m┃\u001b[1m \u001b[0m\u001b[1m__index_level_0__\u001b[0m\u001b[1m \u001b[0m┃\n",
       "┡━━━━━━━━╇━━━━━━━━━━━━━━━━━━━━━━━╇━━━━━━━━━━╇━━━━━━━━━━━━━━━━━╇━━━━━━━━━━━━━━━━━━━━━━━━━━━━━━━━━━━╇━━━━━━━━━━━━━╇━━━━━━━━━━━━━━╇━━━━━━━━━━━━━━╇━━━━━━━━━━━╇━━━━━━━━╇━━━━━━━━━━━━━━━━━━━━━━━━━━━━━━━━━━━━━━━━━━━━━━━━━━━━━━━━━━━━━━━━━━━━━━━━━━━━━━━━━━╇━━━━━━━━━━━━━━━━━━━┩\n",
       "│ \u001b[2mstring\u001b[0m │ \u001b[2mstring\u001b[0m                │ \u001b[2mstring\u001b[0m   │ \u001b[2mstring\u001b[0m          │ \u001b[2mstring\u001b[0m                            │ \u001b[2mstring\u001b[0m      │ \u001b[2mstring\u001b[0m       │ \u001b[2mstring\u001b[0m       │ \u001b[2mstring\u001b[0m    │ \u001b[2mstring\u001b[0m │ \u001b[2mgeospatial:geometry\u001b[0m                                                              │ \u001b[2mint64\u001b[0m             │\n",
       "├────────┼───────────────────────┼──────────┼─────────────────┼───────────────────────────────────┼─────────────┼──────────────┼──────────────┼───────────┼────────┼──────────────────────────────────────────────────────────────────────────────────┼───────────────────┤\n",
       "│ \u001b[32mPRY   \u001b[0m │ \u001b[32mParaguay             \u001b[0m │ \u001b[32mPRY.6_1 \u001b[0m │ \u001b[32mCaaguazú       \u001b[0m │ \u001b[2mNULL\u001b[0m                              │ \u001b[2mNULL\u001b[0m        │ \u001b[32mDepartamento\u001b[0m │ \u001b[32mDepartment  \u001b[0m │ \u001b[2mNULL\u001b[0m      │ \u001b[32mPY.CG \u001b[0m │ \u001b[1m<\u001b[0m\u001b[1;95mPOLYGON\u001b[0m\u001b[39m \u001b[0m\u001b[1;39m(\u001b[0m\u001b[1;39m(\u001b[0m\u001b[1;36m-55.431\u001b[0m\u001b[39m \u001b[0m\u001b[1;36m-25.539\u001b[0m\u001b[39m, \u001b[0m\u001b[1;36m-55.435\u001b[0m\u001b[39m \u001b[0m\u001b[1;36m-25.539\u001b[0m\u001b[39m, \u001b[0m\u001b[1;36m-55.438\u001b[0m\u001b[39m \u001b[0m\u001b[1;36m-25.537\u001b[0m\u001b[39m, \u001b[0m\u001b[1;36m-55.439\u001b[0m\u001b[39m \u001b[0m\u001b[1;36m-25.53\u001b[0m\u001b[33m...\u001b[0m\u001b[1m>\u001b[0m │              \u001b[1;36m2532\u001b[0m │\n",
       "│ \u001b[32mBDI   \u001b[0m │ \u001b[32mBurundi              \u001b[0m │ \u001b[32mBDI.16_1\u001b[0m │ \u001b[32mRutana         \u001b[0m │ \u001b[2mNULL\u001b[0m                              │ \u001b[2mNULL\u001b[0m        │ \u001b[32mProvince    \u001b[0m │ \u001b[32mProvince    \u001b[0m │ \u001b[32m003BDI015\u001b[0m │ \u001b[32mBI.RT \u001b[0m │ \u001b[1m<\u001b[0m\u001b[1;95mPOLYGON\u001b[0m\u001b[39m \u001b[0m\u001b[1;39m(\u001b[0m\u001b[1;39m(\u001b[0m\u001b[1;36m30.126\u001b[0m\u001b[39m \u001b[0m\u001b[1;36m-4.054\u001b[0m\u001b[39m, \u001b[0m\u001b[1;36m30.126\u001b[0m\u001b[39m \u001b[0m\u001b[1;36m-4.054\u001b[0m\u001b[39m, \u001b[0m\u001b[1;36m30.126\u001b[0m\u001b[39m \u001b[0m\u001b[1;36m-4.055\u001b[0m\u001b[39m, \u001b[0m\u001b[1;36m30.126\u001b[0m\u001b[39m \u001b[0m\u001b[1;36m-4.056\u001b[0m\u001b[39m, \u001b[0m\u001b[1;36m30.12\u001b[0m\u001b[33m...\u001b[0m\u001b[1m>\u001b[0m │               \u001b[1;36m190\u001b[0m │\n",
       "│ \u001b[32mSOM   \u001b[0m │ \u001b[32mSomalia              \u001b[0m │ \u001b[32mSOM.5_1 \u001b[0m │ \u001b[32mBay            \u001b[0m │ \u001b[32mBaay                             \u001b[0m │ \u001b[2mNULL\u001b[0m        │ \u001b[32mGobolka     \u001b[0m │ \u001b[32mRegion      \u001b[0m │ \u001b[2mNULL\u001b[0m      │ \u001b[32mSO.BY \u001b[0m │ \u001b[1m<\u001b[0m\u001b[1;95mPOLYGON\u001b[0m\u001b[39m \u001b[0m\u001b[1;39m(\u001b[0m\u001b[1;39m(\u001b[0m\u001b[1;36m43.32\u001b[0m\u001b[39m \u001b[0m\u001b[1;36m1.63\u001b[0m\u001b[39m, \u001b[0m\u001b[1;36m42.98\u001b[0m\u001b[39m \u001b[0m\u001b[1;36m1.46\u001b[0m\u001b[39m, \u001b[0m\u001b[1;36m42.9\u001b[0m\u001b[39m \u001b[0m\u001b[1;36m1.52\u001b[0m\u001b[39m, \u001b[0m\u001b[1;36m42.52\u001b[0m\u001b[39m \u001b[0m\u001b[1;36m1.88\u001b[0m\u001b[39m, \u001b[0m\u001b[1;36m42.4\u001b[0m\u001b[39m \u001b[0m\u001b[1;36m1.95\u001b[0m\u001b[39m, \u001b[0m\u001b[1;36m42.4\u001b[0m\u001b[39m \u001b[0m\u001b[1;36m1\u001b[0m\u001b[33m...\u001b[0m\u001b[39m.\u001b[0m\u001b[1m>\u001b[0m │              \u001b[1;36m2789\u001b[0m │\n",
       "│ \u001b[32mSVK   \u001b[0m │ \u001b[32mSlovakia             \u001b[0m │ \u001b[32mSVK.6_1 \u001b[0m │ \u001b[32mTrenčiansky    \u001b[0m │ \u001b[32mTrencín                          \u001b[0m │ \u001b[2mNULL\u001b[0m        │ \u001b[32mKraj        \u001b[0m │ \u001b[32mRegion      \u001b[0m │ \u001b[2mNULL\u001b[0m      │ \u001b[32mSK.TC \u001b[0m │ \u001b[1m<\u001b[0m\u001b[1;95mPOLYGON\u001b[0m\u001b[39m \u001b[0m\u001b[1;39m(\u001b[0m\u001b[1;39m(\u001b[0m\u001b[1;36m17.697\u001b[0m\u001b[39m \u001b[0m\u001b[1;36m48.676\u001b[0m\u001b[39m, \u001b[0m\u001b[1;36m17.697\u001b[0m\u001b[39m \u001b[0m\u001b[1;36m48.676\u001b[0m\u001b[39m, \u001b[0m\u001b[1;36m17.696\u001b[0m\u001b[39m \u001b[0m\u001b[1;36m48.676\u001b[0m\u001b[39m, \u001b[0m\u001b[1;36m17.695\u001b[0m\u001b[39m \u001b[0m\u001b[1;36m48.675\u001b[0m\u001b[39m, \u001b[0m\u001b[1;36m17.69\u001b[0m\u001b[33m...\u001b[0m\u001b[1m>\u001b[0m │              \u001b[1;36m2857\u001b[0m │\n",
       "│ \u001b[32mAUS   \u001b[0m │ \u001b[32mAustralia            \u001b[0m │ \u001b[32mAUS.10_1\u001b[0m │ \u001b[32mVictoria       \u001b[0m │ \u001b[2mNULL\u001b[0m                              │ \u001b[2mNULL\u001b[0m        │ \u001b[32mState       \u001b[0m │ \u001b[32mState       \u001b[0m │ \u001b[32m2        \u001b[0m │ \u001b[32mAU.VI \u001b[0m │ \u001b[1m<\u001b[0m\u001b[1;95mMULTIPOLYGON\u001b[0m\u001b[39m \u001b[0m\u001b[1;39m(\u001b[0m\u001b[1;39m(\u001b[0m\u001b[1;39m(\u001b[0m\u001b[1;36m146.293\u001b[0m\u001b[39m \u001b[0m\u001b[1;36m-39.158\u001b[0m\u001b[39m, \u001b[0m\u001b[1;36m146.293\u001b[0m\u001b[39m \u001b[0m\u001b[1;36m-39.157\u001b[0m\u001b[39m, \u001b[0m\u001b[1;36m146.293\u001b[0m\u001b[39m \u001b[0m\u001b[1;36m-39.157\u001b[0m\u001b[39m, \u001b[0m\u001b[1;36m146.293\u001b[0m\u001b[39m \u001b[0m\u001b[33m...\u001b[0m\u001b[1m>\u001b[0m │               \u001b[1;36m154\u001b[0m │\n",
       "│ \u001b[32mDZA   \u001b[0m │ \u001b[32mAlgeria              \u001b[0m │ \u001b[32mDZA.14_1\u001b[0m │ \u001b[32mChlef          \u001b[0m │ \u001b[32mEl Asnam|Orléansville|Ech Cheliff\u001b[0m │ \u001b[32mولاية الشلف\u001b[0m │ \u001b[32mWilaya      \u001b[0m │ \u001b[32mProvince    \u001b[0m │ \u001b[32m2        \u001b[0m │ \u001b[32mDZ.CH \u001b[0m │ \u001b[1m<\u001b[0m\u001b[1;95mPOLYGON\u001b[0m\u001b[39m \u001b[0m\u001b[1;39m(\u001b[0m\u001b[1;39m(\u001b[0m\u001b[1;36m1.648\u001b[0m\u001b[39m \u001b[0m\u001b[1;36m35.94\u001b[0m\u001b[39m, \u001b[0m\u001b[1;36m1.648\u001b[0m\u001b[39m \u001b[0m\u001b[1;36m35.94\u001b[0m\u001b[39m, \u001b[0m\u001b[1;36m1.649\u001b[0m\u001b[39m \u001b[0m\u001b[1;36m35.94\u001b[0m\u001b[39m, \u001b[0m\u001b[1;36m1.648\u001b[0m\u001b[39m \u001b[0m\u001b[1;36m35.94\u001b[0m\u001b[39m, \u001b[0m\u001b[1;36m1.648\u001b[0m\u001b[39m \u001b[0m\u001b[1;36m35.941\u001b[0m\u001b[39m,\u001b[0m\u001b[33m...\u001b[0m\u001b[1m>\u001b[0m │               \u001b[1;36m760\u001b[0m │\n",
       "│ \u001b[32mDOM   \u001b[0m │ \u001b[32mDominican Republic   \u001b[0m │ \u001b[32mDOM.30_1\u001b[0m │ \u001b[32mSantiago       \u001b[0m │ \u001b[32mSantiago de los Caballeros       \u001b[0m │ \u001b[2mNULL\u001b[0m        │ \u001b[32mProvincia   \u001b[0m │ \u001b[32mProvince    \u001b[0m │ \u001b[2mNULL\u001b[0m      │ \u001b[32mDO.ST \u001b[0m │ \u001b[1m<\u001b[0m\u001b[1;95mPOLYGON\u001b[0m\u001b[39m \u001b[0m\u001b[1;39m(\u001b[0m\u001b[1;39m(\u001b[0m\u001b[1;36m-70.583\u001b[0m\u001b[39m \u001b[0m\u001b[1;36m19.395\u001b[0m\u001b[39m, \u001b[0m\u001b[1;36m-70.582\u001b[0m\u001b[39m \u001b[0m\u001b[1;36m19.392\u001b[0m\u001b[39m, \u001b[0m\u001b[1;36m-70.581\u001b[0m\u001b[39m \u001b[0m\u001b[1;36m19.389\u001b[0m\u001b[39m, \u001b[0m\u001b[1;36m-70.579\u001b[0m\u001b[39m \u001b[0m\u001b[1;36m19.387\u001b[0m\u001b[39m, -\u001b[0m\u001b[33m...\u001b[0m\u001b[1m>\u001b[0m │               \u001b[1;36m743\u001b[0m │\n",
       "│ \u001b[32mGAB   \u001b[0m │ \u001b[32mGabon                \u001b[0m │ \u001b[32mGAB.8_1 \u001b[0m │ \u001b[32mOgooué-Maritime\u001b[0m │ \u001b[2mNULL\u001b[0m                              │ \u001b[2mNULL\u001b[0m        │ \u001b[32mProvince    \u001b[0m │ \u001b[32mProvince    \u001b[0m │ \u001b[2mNULL\u001b[0m      │ \u001b[32mGA.OM \u001b[0m │ \u001b[1m<\u001b[0m\u001b[1;95mMULTIPOLYGON\u001b[0m\u001b[39m \u001b[0m\u001b[1;39m(\u001b[0m\u001b[1;39m(\u001b[0m\u001b[1;39m(\u001b[0m\u001b[1;36m9.158\u001b[0m\u001b[39m \u001b[0m\u001b[1;36m-2.075\u001b[0m\u001b[39m, \u001b[0m\u001b[1;36m9.158\u001b[0m\u001b[39m \u001b[0m\u001b[1;36m-2.075\u001b[0m\u001b[39m, \u001b[0m\u001b[1;36m9.158\u001b[0m\u001b[39m \u001b[0m\u001b[1;36m-2.075\u001b[0m\u001b[39m, \u001b[0m\u001b[1;36m9.158\u001b[0m\u001b[39m \u001b[0m\u001b[1;36m-2.075\u001b[0m\u001b[39m, \u001b[0m\u001b[1;36m9.1\u001b[0m\u001b[33m...\u001b[0m\u001b[1m>\u001b[0m │               \u001b[1;36m941\u001b[0m │\n",
       "│ \u001b[32mKEN   \u001b[0m │ \u001b[32mKenya                \u001b[0m │ \u001b[32mKEN.37_1\u001b[0m │ \u001b[32mSamburu        \u001b[0m │ \u001b[2mNULL\u001b[0m                              │ \u001b[2mNULL\u001b[0m        │ \u001b[32mCounty      \u001b[0m │ \u001b[32mCounty      \u001b[0m │ \u001b[32m25       \u001b[0m │ \u001b[32mKE.SA \u001b[0m │ \u001b[1m<\u001b[0m\u001b[1;95mPOLYGON\u001b[0m\u001b[39m \u001b[0m\u001b[1;39m(\u001b[0m\u001b[1;39m(\u001b[0m\u001b[1;36m37.493\u001b[0m\u001b[39m \u001b[0m\u001b[1;36m0.589\u001b[0m\u001b[39m, \u001b[0m\u001b[1;36m37.492\u001b[0m\u001b[39m \u001b[0m\u001b[1;36m0.589\u001b[0m\u001b[39m, \u001b[0m\u001b[1;36m37.492\u001b[0m\u001b[39m \u001b[0m\u001b[1;36m0.589\u001b[0m\u001b[39m, \u001b[0m\u001b[1;36m37.492\u001b[0m\u001b[39m \u001b[0m\u001b[1;36m0.59\u001b[0m\u001b[39m, \u001b[0m\u001b[1;36m37.492\u001b[0m\u001b[39m \u001b[0m\u001b[1;36m0.5\u001b[0m\u001b[33m...\u001b[0m\u001b[1m>\u001b[0m │              \u001b[1;36m1496\u001b[0m │\n",
       "│ \u001b[32mSTP   \u001b[0m │ \u001b[32mSão Tomé and Príncipe\u001b[0m │ \u001b[32mSTP.1_1 \u001b[0m │ \u001b[32mPríncipe       \u001b[0m │ \u001b[2mNULL\u001b[0m                              │ \u001b[2mNULL\u001b[0m        │ \u001b[32mConcelho    \u001b[0m │ \u001b[32mMunicipality\u001b[0m │ \u001b[2mNULL\u001b[0m      │ \u001b[32mST.PR \u001b[0m │ \u001b[1m<\u001b[0m\u001b[1;95mMULTIPOLYGON\u001b[0m\u001b[39m \u001b[0m\u001b[1;39m(\u001b[0m\u001b[1;39m(\u001b[0m\u001b[1;39m(\u001b[0m\u001b[1;36m7.293\u001b[0m\u001b[39m \u001b[0m\u001b[1;36m1.345\u001b[0m\u001b[39m, \u001b[0m\u001b[1;36m7.293\u001b[0m\u001b[39m \u001b[0m\u001b[1;36m1.344\u001b[0m\u001b[39m, \u001b[0m\u001b[1;36m7.293\u001b[0m\u001b[39m \u001b[0m\u001b[1;36m1.344\u001b[0m\u001b[39m, \u001b[0m\u001b[1;36m7.293\u001b[0m\u001b[39m \u001b[0m\u001b[1;36m1.343\u001b[0m\u001b[39m, \u001b[0m\u001b[1;36m7.294\u001b[0m\u001b[39m \u001b[0m\u001b[1;36m1\u001b[0m\u001b[33m...\u001b[0m\u001b[1m>\u001b[0m │              \u001b[1;36m2840\u001b[0m │\n",
       "└────────┴───────────────────────┴──────────┴─────────────────┴───────────────────────────────────┴─────────────┴──────────────┴──────────────┴───────────┴────────┴──────────────────────────────────────────────────────────────────────────────────┴───────────────────┘"
      ]
     },
     "execution_count": 35,
     "metadata": {},
     "output_type": "execute_result"
    }
   ],
   "source": [
    "head_rand(conn=conn,table=\"boundaries\",limit=10)"
   ]
  },
  {
   "cell_type": "code",
   "execution_count": 36,
   "metadata": {},
   "outputs": [],
   "source": [
    "# subsetting the boundaries data:\n",
    "boundary_columns = [\"GID_0\",\"NAME_0\",\"GID_1\",\"NAME_1\",\"geometry\"]\n",
    "boundary_columns = [str(x).lower() for x in boundary_columns]\n",
    "\n",
    "boundaries = boundaries.select(boundary_columns)"
   ]
  },
  {
   "cell_type": "code",
   "execution_count": 37,
   "metadata": {
    "tags": [
     "rm_cell"
    ]
   },
   "outputs": [
    {
     "data": {
      "text/html": [
       "<pre style=\"white-space:pre;overflow-x:auto;line-height:normal;font-family:Menlo,'DejaVu Sans Mono',consolas,'Courier New',monospace\"></pre>\n"
      ],
      "text/plain": []
     },
     "metadata": {},
     "output_type": "display_data"
    },
    {
     "data": {
      "text/plain": [
       "┌──────┐\n",
       "│ \u001b[1;36m3473\u001b[0m │\n",
       "└──────┘"
      ]
     },
     "execution_count": 37,
     "metadata": {},
     "output_type": "execute_result"
    }
   ],
   "source": [
    "# head_rand(conn=conn,table=\"boundaries\",limit=10)\n",
    "boundaries.count()"
   ]
  },
  {
   "cell_type": "code",
   "execution_count": 38,
   "metadata": {
    "tags": [
     "rm_cell"
    ]
   },
   "outputs": [
    {
     "data": {
      "application/vnd.microsoft.datawrangler.viewer.v0+json": {
       "columns": [
        {
         "name": "index",
         "rawType": "int64",
         "type": "integer"
        },
        {
         "name": "gid_0",
         "rawType": "object",
         "type": "string"
        },
        {
         "name": "gid_0_count",
         "rawType": "int64",
         "type": "integer"
        }
       ],
       "conversionMethod": "pd.DataFrame",
       "ref": "7a46a6a3-9ffa-4c24-a245-46a969b95a8f",
       "rows": [
        [
         "0",
         "AND",
         "7"
        ],
        [
         "1",
         "BEN",
         "12"
        ],
        [
         "2",
         "BGR",
         "28"
        ],
        [
         "3",
         "BIH",
         "3"
        ],
        [
         "4",
         "BWA",
         "16"
        ]
       ],
       "shape": {
        "columns": 2,
        "rows": 5
       }
      },
      "text/html": [
       "<div>\n",
       "<style scoped>\n",
       "    .dataframe tbody tr th:only-of-type {\n",
       "        vertical-align: middle;\n",
       "    }\n",
       "\n",
       "    .dataframe tbody tr th {\n",
       "        vertical-align: top;\n",
       "    }\n",
       "\n",
       "    .dataframe thead th {\n",
       "        text-align: right;\n",
       "    }\n",
       "</style>\n",
       "<table border=\"1\" class=\"dataframe\">\n",
       "  <thead>\n",
       "    <tr style=\"text-align: right;\">\n",
       "      <th></th>\n",
       "      <th>gid_0</th>\n",
       "      <th>gid_0_count</th>\n",
       "    </tr>\n",
       "  </thead>\n",
       "  <tbody>\n",
       "    <tr>\n",
       "      <th>0</th>\n",
       "      <td>AND</td>\n",
       "      <td>7</td>\n",
       "    </tr>\n",
       "    <tr>\n",
       "      <th>1</th>\n",
       "      <td>BEN</td>\n",
       "      <td>12</td>\n",
       "    </tr>\n",
       "    <tr>\n",
       "      <th>2</th>\n",
       "      <td>BGR</td>\n",
       "      <td>28</td>\n",
       "    </tr>\n",
       "    <tr>\n",
       "      <th>3</th>\n",
       "      <td>BIH</td>\n",
       "      <td>3</td>\n",
       "    </tr>\n",
       "    <tr>\n",
       "      <th>4</th>\n",
       "      <td>BWA</td>\n",
       "      <td>16</td>\n",
       "    </tr>\n",
       "  </tbody>\n",
       "</table>\n",
       "</div>"
      ],
      "text/plain": [
       "  gid_0  gid_0_count\n",
       "0   AND            7\n",
       "1   BEN           12\n",
       "2   BGR           28\n",
       "3   BIH            3\n",
       "4   BWA           16"
      ]
     },
     "execution_count": 38,
     "metadata": {},
     "output_type": "execute_result"
    }
   ],
   "source": [
    "boundaries.gid_0.value_counts().execute().head(5)\n",
    "# boundaries.filter(_.name_0==\"Colombia\"\n",
    "#                   ).execute().tail(20)"
   ]
  },
  {
   "cell_type": "code",
   "execution_count": null,
   "metadata": {
    "tags": [
     "rm_cell"
    ]
   },
   "outputs": [],
   "source": [
    "# dose_light[dose_light.gid_0==\"VEN\"].execute()"
   ]
  },
  {
   "cell_type": "code",
   "execution_count": 39,
   "metadata": {},
   "outputs": [],
   "source": [
    "boundaries_1 = conn.sql(\"\"\"select * EXCLUDE (geometry)\n",
    "                        , ST_Centroid(geometry::GEOMETRY) as centr\n",
    "                        , geometry::GEOMETRY as geometry \n",
    "                        from boundaries;\"\"\")"
   ]
  },
  {
   "cell_type": "code",
   "execution_count": 40,
   "metadata": {
    "tags": [
     "rm_cell"
    ]
   },
   "outputs": [
    {
     "data": {
      "text/html": [
       "<pre style=\"white-space:pre;overflow-x:auto;line-height:normal;font-family:Menlo,'DejaVu Sans Mono',consolas,'Courier New',monospace\">┏━━━━━━━━┳━━━━━━━━━━━━━┳━━━━━━━━━┳━━━━━━━━━━━━┳━━━━━━━━━━━━━━━━━━━━━━━━━━━┳━━━━━━━━━━━┳━━━━━━━━━┳━━━━━━━━━━━┳━━━━━━━━┳━━━━━━━━┳━━━━━━━━━━━━━━━━━━━┳━━━━━━━━━━━━━━━━━━━━━━━━━┳━━━━━━━━━━━━━━━━━━━━━━━━━━━━━━━━━━━━━━━━━━━━━━━━━━━━━━━━━━━━━━━━━━━━━━━━━━━━━━━━━━┓\n",
       "┃<span style=\"font-weight: bold\"> GID_0  </span>┃<span style=\"font-weight: bold\"> NAME_0      </span>┃<span style=\"font-weight: bold\"> GID_1   </span>┃<span style=\"font-weight: bold\"> NAME_1     </span>┃<span style=\"font-weight: bold\"> VARNAME_1                 </span>┃<span style=\"font-weight: bold\"> NL_NAME_1 </span>┃<span style=\"font-weight: bold\"> TYPE_1  </span>┃<span style=\"font-weight: bold\"> ENGTYPE_1 </span>┃<span style=\"font-weight: bold\"> CC_1   </span>┃<span style=\"font-weight: bold\"> HASC_1 </span>┃<span style=\"font-weight: bold\"> __index_level_0__ </span>┃<span style=\"font-weight: bold\"> centr                   </span>┃<span style=\"font-weight: bold\"> geometry                                                                         </span>┃\n",
       "┡━━━━━━━━╇━━━━━━━━━━━━━╇━━━━━━━━━╇━━━━━━━━━━━━╇━━━━━━━━━━━━━━━━━━━━━━━━━━━╇━━━━━━━━━━━╇━━━━━━━━━╇━━━━━━━━━━━╇━━━━━━━━╇━━━━━━━━╇━━━━━━━━━━━━━━━━━━━╇━━━━━━━━━━━━━━━━━━━━━━━━━╇━━━━━━━━━━━━━━━━━━━━━━━━━━━━━━━━━━━━━━━━━━━━━━━━━━━━━━━━━━━━━━━━━━━━━━━━━━━━━━━━━━┩\n",
       "│ <span style=\"color: #7f7f7f; text-decoration-color: #7f7f7f\">string</span> │ <span style=\"color: #7f7f7f; text-decoration-color: #7f7f7f\">string</span>      │ <span style=\"color: #7f7f7f; text-decoration-color: #7f7f7f\">string</span>  │ <span style=\"color: #7f7f7f; text-decoration-color: #7f7f7f\">string</span>     │ <span style=\"color: #7f7f7f; text-decoration-color: #7f7f7f\">string</span>                    │ <span style=\"color: #7f7f7f; text-decoration-color: #7f7f7f\">string</span>    │ <span style=\"color: #7f7f7f; text-decoration-color: #7f7f7f\">string</span>  │ <span style=\"color: #7f7f7f; text-decoration-color: #7f7f7f\">string</span>    │ <span style=\"color: #7f7f7f; text-decoration-color: #7f7f7f\">string</span> │ <span style=\"color: #7f7f7f; text-decoration-color: #7f7f7f\">string</span> │ <span style=\"color: #7f7f7f; text-decoration-color: #7f7f7f\">int64</span>             │ <span style=\"color: #7f7f7f; text-decoration-color: #7f7f7f\">geospatial:geometry</span>     │ <span style=\"color: #7f7f7f; text-decoration-color: #7f7f7f\">geospatial:geometry</span>                                                              │\n",
       "├────────┼─────────────┼─────────┼────────────┼───────────────────────────┼───────────┼─────────┼───────────┼────────┼────────┼───────────────────┼─────────────────────────┼──────────────────────────────────────────────────────────────────────────────────┤\n",
       "│ <span style=\"color: #008000; text-decoration-color: #008000\">AFG   </span> │ <span style=\"color: #008000; text-decoration-color: #008000\">Afghanistan</span> │ <span style=\"color: #008000; text-decoration-color: #008000\">AFG.1_1</span> │ <span style=\"color: #008000; text-decoration-color: #008000\">Badakhshan</span> │ <span style=\"color: #008000; text-decoration-color: #008000\">Badahšan                 </span> │ <span style=\"color: #7f7f7f; text-decoration-color: #7f7f7f\">NULL</span>      │ <span style=\"color: #008000; text-decoration-color: #008000\">Velayat</span> │ <span style=\"color: #008000; text-decoration-color: #008000\">Province </span> │ <span style=\"color: #7f7f7f; text-decoration-color: #7f7f7f\">NULL</span>   │ <span style=\"color: #008000; text-decoration-color: #008000\">AF.BD </span> │                 <span style=\"color: #008080; text-decoration-color: #008080; font-weight: bold\">0</span> │ <span style=\"font-weight: bold\">&lt;</span><span style=\"color: #ff00ff; text-decoration-color: #ff00ff; font-weight: bold\">POINT</span><span style=\"color: #000000; text-decoration-color: #000000\"> </span><span style=\"color: #000000; text-decoration-color: #000000; font-weight: bold\">(</span><span style=\"color: #008080; text-decoration-color: #008080; font-weight: bold\">71.459</span><span style=\"color: #000000; text-decoration-color: #000000\"> </span><span style=\"color: #008080; text-decoration-color: #008080; font-weight: bold\">37.033</span><span style=\"color: #000000; text-decoration-color: #000000; font-weight: bold\">)</span><span style=\"font-weight: bold\">&gt;</span> │ <span style=\"font-weight: bold\">&lt;</span><span style=\"color: #ff00ff; text-decoration-color: #ff00ff; font-weight: bold\">POLYGON</span><span style=\"color: #000000; text-decoration-color: #000000\"> </span><span style=\"color: #000000; text-decoration-color: #000000; font-weight: bold\">((</span><span style=\"color: #008080; text-decoration-color: #008080; font-weight: bold\">71.148</span><span style=\"color: #000000; text-decoration-color: #000000\"> </span><span style=\"color: #008080; text-decoration-color: #008080; font-weight: bold\">36.001</span><span style=\"color: #000000; text-decoration-color: #000000\">, </span><span style=\"color: #008080; text-decoration-color: #008080; font-weight: bold\">71.142</span><span style=\"color: #000000; text-decoration-color: #000000\"> </span><span style=\"color: #008080; text-decoration-color: #008080; font-weight: bold\">35.993</span><span style=\"color: #000000; text-decoration-color: #000000\">, </span><span style=\"color: #008080; text-decoration-color: #008080; font-weight: bold\">71.114</span><span style=\"color: #000000; text-decoration-color: #000000\"> </span><span style=\"color: #008080; text-decoration-color: #008080; font-weight: bold\">35.971</span><span style=\"color: #000000; text-decoration-color: #000000\">, </span><span style=\"color: #008080; text-decoration-color: #008080; font-weight: bold\">71.102</span><span style=\"color: #000000; text-decoration-color: #000000\"> </span><span style=\"color: #008080; text-decoration-color: #008080; font-weight: bold\">35.956</span><span style=\"color: #000000; text-decoration-color: #000000\">, </span><span style=\"color: #008080; text-decoration-color: #008080; font-weight: bold\">71.08</span><span style=\"color: #808000; text-decoration-color: #808000\">...</span><span style=\"font-weight: bold\">&gt;</span> │\n",
       "│ <span style=\"color: #008000; text-decoration-color: #008000\">AFG   </span> │ <span style=\"color: #008000; text-decoration-color: #008000\">Afghanistan</span> │ <span style=\"color: #008000; text-decoration-color: #008000\">AFG.2_1</span> │ <span style=\"color: #008000; text-decoration-color: #008000\">Badghis   </span> │ <span style=\"color: #008000; text-decoration-color: #008000\">Badghes|Badghisat|Badgis </span> │ <span style=\"color: #7f7f7f; text-decoration-color: #7f7f7f\">NULL</span>      │ <span style=\"color: #008000; text-decoration-color: #008000\">Velayat</span> │ <span style=\"color: #008000; text-decoration-color: #008000\">Province </span> │ <span style=\"color: #7f7f7f; text-decoration-color: #7f7f7f\">NULL</span>   │ <span style=\"color: #008000; text-decoration-color: #008000\">AF.BG </span> │                 <span style=\"color: #008080; text-decoration-color: #008080; font-weight: bold\">1</span> │ <span style=\"font-weight: bold\">&lt;</span><span style=\"color: #ff00ff; text-decoration-color: #ff00ff; font-weight: bold\">POINT</span><span style=\"color: #000000; text-decoration-color: #000000\"> </span><span style=\"color: #000000; text-decoration-color: #000000; font-weight: bold\">(</span><span style=\"color: #008080; text-decoration-color: #008080; font-weight: bold\">63.753</span><span style=\"color: #000000; text-decoration-color: #000000\"> </span><span style=\"color: #008080; text-decoration-color: #008080; font-weight: bold\">35.14</span><span style=\"color: #000000; text-decoration-color: #000000; font-weight: bold\">)</span><span style=\"font-weight: bold\">&gt;</span>  │ <span style=\"font-weight: bold\">&lt;</span><span style=\"color: #ff00ff; text-decoration-color: #ff00ff; font-weight: bold\">POLYGON</span><span style=\"color: #000000; text-decoration-color: #000000\"> </span><span style=\"color: #000000; text-decoration-color: #000000; font-weight: bold\">((</span><span style=\"color: #008080; text-decoration-color: #008080; font-weight: bold\">63.097</span><span style=\"color: #000000; text-decoration-color: #000000\"> </span><span style=\"color: #008080; text-decoration-color: #008080; font-weight: bold\">34.646</span><span style=\"color: #000000; text-decoration-color: #000000\">, </span><span style=\"color: #008080; text-decoration-color: #008080; font-weight: bold\">63.082</span><span style=\"color: #000000; text-decoration-color: #000000\"> </span><span style=\"color: #008080; text-decoration-color: #008080; font-weight: bold\">34.658</span><span style=\"color: #000000; text-decoration-color: #000000\">, </span><span style=\"color: #008080; text-decoration-color: #008080; font-weight: bold\">63.072</span><span style=\"color: #000000; text-decoration-color: #000000\"> </span><span style=\"color: #008080; text-decoration-color: #008080; font-weight: bold\">34.674</span><span style=\"color: #000000; text-decoration-color: #000000\">, </span><span style=\"color: #008080; text-decoration-color: #008080; font-weight: bold\">63.069</span><span style=\"color: #000000; text-decoration-color: #000000\"> </span><span style=\"color: #008080; text-decoration-color: #008080; font-weight: bold\">34.681</span><span style=\"color: #000000; text-decoration-color: #000000\">, </span><span style=\"color: #008080; text-decoration-color: #008080; font-weight: bold\">63.06</span><span style=\"color: #808000; text-decoration-color: #808000\">...</span><span style=\"font-weight: bold\">&gt;</span> │\n",
       "│ <span style=\"color: #008000; text-decoration-color: #008000\">AFG   </span> │ <span style=\"color: #008000; text-decoration-color: #008000\">Afghanistan</span> │ <span style=\"color: #008000; text-decoration-color: #008000\">AFG.3_1</span> │ <span style=\"color: #008000; text-decoration-color: #008000\">Baghlan   </span> │ <span style=\"color: #008000; text-decoration-color: #008000\">Baglan|Bughlan           </span> │ <span style=\"color: #7f7f7f; text-decoration-color: #7f7f7f\">NULL</span>      │ <span style=\"color: #008000; text-decoration-color: #008000\">Velayat</span> │ <span style=\"color: #008000; text-decoration-color: #008000\">Province </span> │ <span style=\"color: #7f7f7f; text-decoration-color: #7f7f7f\">NULL</span>   │ <span style=\"color: #008000; text-decoration-color: #008000\">AF.BL </span> │                 <span style=\"color: #008080; text-decoration-color: #008080; font-weight: bold\">2</span> │ <span style=\"font-weight: bold\">&lt;</span><span style=\"color: #ff00ff; text-decoration-color: #ff00ff; font-weight: bold\">POINT</span><span style=\"color: #000000; text-decoration-color: #000000\"> </span><span style=\"color: #000000; text-decoration-color: #000000; font-weight: bold\">(</span><span style=\"color: #008080; text-decoration-color: #008080; font-weight: bold\">68.714</span><span style=\"color: #000000; text-decoration-color: #000000\"> </span><span style=\"color: #008080; text-decoration-color: #008080; font-weight: bold\">35.705</span><span style=\"color: #000000; text-decoration-color: #000000; font-weight: bold\">)</span><span style=\"font-weight: bold\">&gt;</span> │ <span style=\"font-weight: bold\">&lt;</span><span style=\"color: #ff00ff; text-decoration-color: #ff00ff; font-weight: bold\">POLYGON</span><span style=\"color: #000000; text-decoration-color: #000000\"> </span><span style=\"color: #000000; text-decoration-color: #000000; font-weight: bold\">((</span><span style=\"color: #008080; text-decoration-color: #008080; font-weight: bold\">67.355</span><span style=\"color: #000000; text-decoration-color: #000000\"> </span><span style=\"color: #008080; text-decoration-color: #008080; font-weight: bold\">34.885</span><span style=\"color: #000000; text-decoration-color: #000000\">, </span><span style=\"color: #008080; text-decoration-color: #008080; font-weight: bold\">67.355</span><span style=\"color: #000000; text-decoration-color: #000000\"> </span><span style=\"color: #008080; text-decoration-color: #008080; font-weight: bold\">34.888</span><span style=\"color: #000000; text-decoration-color: #000000\">, </span><span style=\"color: #008080; text-decoration-color: #008080; font-weight: bold\">67.353</span><span style=\"color: #000000; text-decoration-color: #000000\"> </span><span style=\"color: #008080; text-decoration-color: #008080; font-weight: bold\">34.889</span><span style=\"color: #000000; text-decoration-color: #000000\">, </span><span style=\"color: #008080; text-decoration-color: #008080; font-weight: bold\">67.348</span><span style=\"color: #000000; text-decoration-color: #000000\"> </span><span style=\"color: #008080; text-decoration-color: #008080; font-weight: bold\">34.896</span><span style=\"color: #000000; text-decoration-color: #000000\">, </span><span style=\"color: #008080; text-decoration-color: #008080; font-weight: bold\">67.33</span><span style=\"color: #808000; text-decoration-color: #808000\">...</span><span style=\"font-weight: bold\">&gt;</span> │\n",
       "│ <span style=\"color: #008000; text-decoration-color: #008000\">AFG   </span> │ <span style=\"color: #008000; text-decoration-color: #008000\">Afghanistan</span> │ <span style=\"color: #008000; text-decoration-color: #008000\">AFG.4_1</span> │ <span style=\"color: #008000; text-decoration-color: #008000\">Balkh     </span> │ <span style=\"color: #008000; text-decoration-color: #008000\">Balh|Mazar-i-Sharif|Mazar</span> │ <span style=\"color: #7f7f7f; text-decoration-color: #7f7f7f\">NULL</span>      │ <span style=\"color: #008000; text-decoration-color: #008000\">Velayat</span> │ <span style=\"color: #008000; text-decoration-color: #008000\">Province </span> │ <span style=\"color: #7f7f7f; text-decoration-color: #7f7f7f\">NULL</span>   │ <span style=\"color: #008000; text-decoration-color: #008000\">AF.BK </span> │                 <span style=\"color: #008080; text-decoration-color: #008080; font-weight: bold\">3</span> │ <span style=\"font-weight: bold\">&lt;</span><span style=\"color: #ff00ff; text-decoration-color: #ff00ff; font-weight: bold\">POINT</span><span style=\"color: #000000; text-decoration-color: #000000\"> </span><span style=\"color: #000000; text-decoration-color: #000000; font-weight: bold\">(</span><span style=\"color: #008080; text-decoration-color: #008080; font-weight: bold\">67.135</span><span style=\"color: #000000; text-decoration-color: #000000\"> </span><span style=\"color: #008080; text-decoration-color: #008080; font-weight: bold\">36.648</span><span style=\"color: #000000; text-decoration-color: #000000; font-weight: bold\">)</span><span style=\"font-weight: bold\">&gt;</span> │ <span style=\"font-weight: bold\">&lt;</span><span style=\"color: #ff00ff; text-decoration-color: #ff00ff; font-weight: bold\">POLYGON</span><span style=\"color: #000000; text-decoration-color: #000000\"> </span><span style=\"color: #000000; text-decoration-color: #000000; font-weight: bold\">((</span><span style=\"color: #008080; text-decoration-color: #008080; font-weight: bold\">66.423</span><span style=\"color: #000000; text-decoration-color: #000000\"> </span><span style=\"color: #008080; text-decoration-color: #008080; font-weight: bold\">35.641</span><span style=\"color: #000000; text-decoration-color: #000000\">, </span><span style=\"color: #008080; text-decoration-color: #008080; font-weight: bold\">66.449</span><span style=\"color: #000000; text-decoration-color: #000000\"> </span><span style=\"color: #008080; text-decoration-color: #008080; font-weight: bold\">35.654</span><span style=\"color: #000000; text-decoration-color: #000000\">, </span><span style=\"color: #008080; text-decoration-color: #008080; font-weight: bold\">66.485</span><span style=\"color: #000000; text-decoration-color: #000000\"> </span><span style=\"color: #008080; text-decoration-color: #008080; font-weight: bold\">35.667</span><span style=\"color: #000000; text-decoration-color: #000000\">, </span><span style=\"color: #008080; text-decoration-color: #008080; font-weight: bold\">66.499</span><span style=\"color: #000000; text-decoration-color: #000000\"> </span><span style=\"color: #008080; text-decoration-color: #008080; font-weight: bold\">35.669</span><span style=\"color: #000000; text-decoration-color: #000000\">, </span><span style=\"color: #008080; text-decoration-color: #008080; font-weight: bold\">66.51</span><span style=\"color: #808000; text-decoration-color: #808000\">...</span><span style=\"font-weight: bold\">&gt;</span> │\n",
       "│ <span style=\"color: #008000; text-decoration-color: #008000\">AFG   </span> │ <span style=\"color: #008000; text-decoration-color: #008000\">Afghanistan</span> │ <span style=\"color: #008000; text-decoration-color: #008000\">AFG.5_1</span> │ <span style=\"color: #008000; text-decoration-color: #008000\">Bamyan    </span> │ <span style=\"color: #7f7f7f; text-decoration-color: #7f7f7f\">NULL</span>                      │ <span style=\"color: #7f7f7f; text-decoration-color: #7f7f7f\">NULL</span>      │ <span style=\"color: #008000; text-decoration-color: #008000\">Velayat</span> │ <span style=\"color: #008000; text-decoration-color: #008000\">Province </span> │ <span style=\"color: #7f7f7f; text-decoration-color: #7f7f7f\">NULL</span>   │ <span style=\"color: #008000; text-decoration-color: #008000\">AF.BM </span> │                 <span style=\"color: #008080; text-decoration-color: #008080; font-weight: bold\">4</span> │ <span style=\"font-weight: bold\">&lt;</span><span style=\"color: #ff00ff; text-decoration-color: #ff00ff; font-weight: bold\">POINT</span><span style=\"color: #000000; text-decoration-color: #000000\"> </span><span style=\"color: #000000; text-decoration-color: #000000; font-weight: bold\">(</span><span style=\"color: #008080; text-decoration-color: #008080; font-weight: bold\">67.181</span><span style=\"color: #000000; text-decoration-color: #000000\"> </span><span style=\"color: #008080; text-decoration-color: #008080; font-weight: bold\">34.721</span><span style=\"color: #000000; text-decoration-color: #000000; font-weight: bold\">)</span><span style=\"font-weight: bold\">&gt;</span> │ <span style=\"font-weight: bold\">&lt;</span><span style=\"color: #ff00ff; text-decoration-color: #ff00ff; font-weight: bold\">POLYGON</span><span style=\"color: #000000; text-decoration-color: #000000\"> </span><span style=\"color: #000000; text-decoration-color: #000000; font-weight: bold\">((</span><span style=\"color: #008080; text-decoration-color: #008080; font-weight: bold\">66.653</span><span style=\"color: #000000; text-decoration-color: #000000\"> </span><span style=\"color: #008080; text-decoration-color: #008080; font-weight: bold\">34.003</span><span style=\"color: #000000; text-decoration-color: #000000\">, </span><span style=\"color: #008080; text-decoration-color: #008080; font-weight: bold\">66.659</span><span style=\"color: #000000; text-decoration-color: #000000\"> </span><span style=\"color: #008080; text-decoration-color: #008080; font-weight: bold\">34.017</span><span style=\"color: #000000; text-decoration-color: #000000\">, </span><span style=\"color: #008080; text-decoration-color: #008080; font-weight: bold\">66.669</span><span style=\"color: #000000; text-decoration-color: #000000\"> </span><span style=\"color: #008080; text-decoration-color: #008080; font-weight: bold\">34.031</span><span style=\"color: #000000; text-decoration-color: #000000\">, </span><span style=\"color: #008080; text-decoration-color: #008080; font-weight: bold\">66.672</span><span style=\"color: #000000; text-decoration-color: #000000\"> </span><span style=\"color: #008080; text-decoration-color: #008080; font-weight: bold\">34.038</span><span style=\"color: #000000; text-decoration-color: #000000\">, </span><span style=\"color: #008080; text-decoration-color: #008080; font-weight: bold\">66.67</span><span style=\"color: #808000; text-decoration-color: #808000\">...</span><span style=\"font-weight: bold\">&gt;</span> │\n",
       "└────────┴─────────────┴─────────┴────────────┴───────────────────────────┴───────────┴─────────┴───────────┴────────┴────────┴───────────────────┴─────────────────────────┴──────────────────────────────────────────────────────────────────────────────────┘\n",
       "</pre>\n"
      ],
      "text/plain": [
       "┏━━━━━━━━┳━━━━━━━━━━━━━┳━━━━━━━━━┳━━━━━━━━━━━━┳━━━━━━━━━━━━━━━━━━━━━━━━━━━┳━━━━━━━━━━━┳━━━━━━━━━┳━━━━━━━━━━━┳━━━━━━━━┳━━━━━━━━┳━━━━━━━━━━━━━━━━━━━┳━━━━━━━━━━━━━━━━━━━━━━━━━┳━━━━━━━━━━━━━━━━━━━━━━━━━━━━━━━━━━━━━━━━━━━━━━━━━━━━━━━━━━━━━━━━━━━━━━━━━━━━━━━━━━┓\n",
       "┃\u001b[1m \u001b[0m\u001b[1mGID_0\u001b[0m\u001b[1m \u001b[0m\u001b[1m \u001b[0m┃\u001b[1m \u001b[0m\u001b[1mNAME_0\u001b[0m\u001b[1m     \u001b[0m\u001b[1m \u001b[0m┃\u001b[1m \u001b[0m\u001b[1mGID_1\u001b[0m\u001b[1m  \u001b[0m\u001b[1m \u001b[0m┃\u001b[1m \u001b[0m\u001b[1mNAME_1\u001b[0m\u001b[1m    \u001b[0m\u001b[1m \u001b[0m┃\u001b[1m \u001b[0m\u001b[1mVARNAME_1\u001b[0m\u001b[1m                \u001b[0m\u001b[1m \u001b[0m┃\u001b[1m \u001b[0m\u001b[1mNL_NAME_1\u001b[0m\u001b[1m \u001b[0m┃\u001b[1m \u001b[0m\u001b[1mTYPE_1\u001b[0m\u001b[1m \u001b[0m\u001b[1m \u001b[0m┃\u001b[1m \u001b[0m\u001b[1mENGTYPE_1\u001b[0m\u001b[1m \u001b[0m┃\u001b[1m \u001b[0m\u001b[1mCC_1\u001b[0m\u001b[1m  \u001b[0m\u001b[1m \u001b[0m┃\u001b[1m \u001b[0m\u001b[1mHASC_1\u001b[0m\u001b[1m \u001b[0m┃\u001b[1m \u001b[0m\u001b[1m__index_level_0__\u001b[0m\u001b[1m \u001b[0m┃\u001b[1m \u001b[0m\u001b[1mcentr\u001b[0m\u001b[1m                  \u001b[0m\u001b[1m \u001b[0m┃\u001b[1m \u001b[0m\u001b[1mgeometry\u001b[0m\u001b[1m                                                                        \u001b[0m\u001b[1m \u001b[0m┃\n",
       "┡━━━━━━━━╇━━━━━━━━━━━━━╇━━━━━━━━━╇━━━━━━━━━━━━╇━━━━━━━━━━━━━━━━━━━━━━━━━━━╇━━━━━━━━━━━╇━━━━━━━━━╇━━━━━━━━━━━╇━━━━━━━━╇━━━━━━━━╇━━━━━━━━━━━━━━━━━━━╇━━━━━━━━━━━━━━━━━━━━━━━━━╇━━━━━━━━━━━━━━━━━━━━━━━━━━━━━━━━━━━━━━━━━━━━━━━━━━━━━━━━━━━━━━━━━━━━━━━━━━━━━━━━━━┩\n",
       "│ \u001b[2mstring\u001b[0m │ \u001b[2mstring\u001b[0m      │ \u001b[2mstring\u001b[0m  │ \u001b[2mstring\u001b[0m     │ \u001b[2mstring\u001b[0m                    │ \u001b[2mstring\u001b[0m    │ \u001b[2mstring\u001b[0m  │ \u001b[2mstring\u001b[0m    │ \u001b[2mstring\u001b[0m │ \u001b[2mstring\u001b[0m │ \u001b[2mint64\u001b[0m             │ \u001b[2mgeospatial:geometry\u001b[0m     │ \u001b[2mgeospatial:geometry\u001b[0m                                                              │\n",
       "├────────┼─────────────┼─────────┼────────────┼───────────────────────────┼───────────┼─────────┼───────────┼────────┼────────┼───────────────────┼─────────────────────────┼──────────────────────────────────────────────────────────────────────────────────┤\n",
       "│ \u001b[32mAFG   \u001b[0m │ \u001b[32mAfghanistan\u001b[0m │ \u001b[32mAFG.1_1\u001b[0m │ \u001b[32mBadakhshan\u001b[0m │ \u001b[32mBadahšan                 \u001b[0m │ \u001b[2mNULL\u001b[0m      │ \u001b[32mVelayat\u001b[0m │ \u001b[32mProvince \u001b[0m │ \u001b[2mNULL\u001b[0m   │ \u001b[32mAF.BD \u001b[0m │                 \u001b[1;36m0\u001b[0m │ \u001b[1m<\u001b[0m\u001b[1;95mPOINT\u001b[0m\u001b[39m \u001b[0m\u001b[1;39m(\u001b[0m\u001b[1;36m71.459\u001b[0m\u001b[39m \u001b[0m\u001b[1;36m37.033\u001b[0m\u001b[1;39m)\u001b[0m\u001b[1m>\u001b[0m │ \u001b[1m<\u001b[0m\u001b[1;95mPOLYGON\u001b[0m\u001b[39m \u001b[0m\u001b[1;39m(\u001b[0m\u001b[1;39m(\u001b[0m\u001b[1;36m71.148\u001b[0m\u001b[39m \u001b[0m\u001b[1;36m36.001\u001b[0m\u001b[39m, \u001b[0m\u001b[1;36m71.142\u001b[0m\u001b[39m \u001b[0m\u001b[1;36m35.993\u001b[0m\u001b[39m, \u001b[0m\u001b[1;36m71.114\u001b[0m\u001b[39m \u001b[0m\u001b[1;36m35.971\u001b[0m\u001b[39m, \u001b[0m\u001b[1;36m71.102\u001b[0m\u001b[39m \u001b[0m\u001b[1;36m35.956\u001b[0m\u001b[39m, \u001b[0m\u001b[1;36m71.08\u001b[0m\u001b[33m...\u001b[0m\u001b[1m>\u001b[0m │\n",
       "│ \u001b[32mAFG   \u001b[0m │ \u001b[32mAfghanistan\u001b[0m │ \u001b[32mAFG.2_1\u001b[0m │ \u001b[32mBadghis   \u001b[0m │ \u001b[32mBadghes|Badghisat|Badgis \u001b[0m │ \u001b[2mNULL\u001b[0m      │ \u001b[32mVelayat\u001b[0m │ \u001b[32mProvince \u001b[0m │ \u001b[2mNULL\u001b[0m   │ \u001b[32mAF.BG \u001b[0m │                 \u001b[1;36m1\u001b[0m │ \u001b[1m<\u001b[0m\u001b[1;95mPOINT\u001b[0m\u001b[39m \u001b[0m\u001b[1;39m(\u001b[0m\u001b[1;36m63.753\u001b[0m\u001b[39m \u001b[0m\u001b[1;36m35.14\u001b[0m\u001b[1;39m)\u001b[0m\u001b[1m>\u001b[0m  │ \u001b[1m<\u001b[0m\u001b[1;95mPOLYGON\u001b[0m\u001b[39m \u001b[0m\u001b[1;39m(\u001b[0m\u001b[1;39m(\u001b[0m\u001b[1;36m63.097\u001b[0m\u001b[39m \u001b[0m\u001b[1;36m34.646\u001b[0m\u001b[39m, \u001b[0m\u001b[1;36m63.082\u001b[0m\u001b[39m \u001b[0m\u001b[1;36m34.658\u001b[0m\u001b[39m, \u001b[0m\u001b[1;36m63.072\u001b[0m\u001b[39m \u001b[0m\u001b[1;36m34.674\u001b[0m\u001b[39m, \u001b[0m\u001b[1;36m63.069\u001b[0m\u001b[39m \u001b[0m\u001b[1;36m34.681\u001b[0m\u001b[39m, \u001b[0m\u001b[1;36m63.06\u001b[0m\u001b[33m...\u001b[0m\u001b[1m>\u001b[0m │\n",
       "│ \u001b[32mAFG   \u001b[0m │ \u001b[32mAfghanistan\u001b[0m │ \u001b[32mAFG.3_1\u001b[0m │ \u001b[32mBaghlan   \u001b[0m │ \u001b[32mBaglan|Bughlan           \u001b[0m │ \u001b[2mNULL\u001b[0m      │ \u001b[32mVelayat\u001b[0m │ \u001b[32mProvince \u001b[0m │ \u001b[2mNULL\u001b[0m   │ \u001b[32mAF.BL \u001b[0m │                 \u001b[1;36m2\u001b[0m │ \u001b[1m<\u001b[0m\u001b[1;95mPOINT\u001b[0m\u001b[39m \u001b[0m\u001b[1;39m(\u001b[0m\u001b[1;36m68.714\u001b[0m\u001b[39m \u001b[0m\u001b[1;36m35.705\u001b[0m\u001b[1;39m)\u001b[0m\u001b[1m>\u001b[0m │ \u001b[1m<\u001b[0m\u001b[1;95mPOLYGON\u001b[0m\u001b[39m \u001b[0m\u001b[1;39m(\u001b[0m\u001b[1;39m(\u001b[0m\u001b[1;36m67.355\u001b[0m\u001b[39m \u001b[0m\u001b[1;36m34.885\u001b[0m\u001b[39m, \u001b[0m\u001b[1;36m67.355\u001b[0m\u001b[39m \u001b[0m\u001b[1;36m34.888\u001b[0m\u001b[39m, \u001b[0m\u001b[1;36m67.353\u001b[0m\u001b[39m \u001b[0m\u001b[1;36m34.889\u001b[0m\u001b[39m, \u001b[0m\u001b[1;36m67.348\u001b[0m\u001b[39m \u001b[0m\u001b[1;36m34.896\u001b[0m\u001b[39m, \u001b[0m\u001b[1;36m67.33\u001b[0m\u001b[33m...\u001b[0m\u001b[1m>\u001b[0m │\n",
       "│ \u001b[32mAFG   \u001b[0m │ \u001b[32mAfghanistan\u001b[0m │ \u001b[32mAFG.4_1\u001b[0m │ \u001b[32mBalkh     \u001b[0m │ \u001b[32mBalh|Mazar-i-Sharif|Mazar\u001b[0m │ \u001b[2mNULL\u001b[0m      │ \u001b[32mVelayat\u001b[0m │ \u001b[32mProvince \u001b[0m │ \u001b[2mNULL\u001b[0m   │ \u001b[32mAF.BK \u001b[0m │                 \u001b[1;36m3\u001b[0m │ \u001b[1m<\u001b[0m\u001b[1;95mPOINT\u001b[0m\u001b[39m \u001b[0m\u001b[1;39m(\u001b[0m\u001b[1;36m67.135\u001b[0m\u001b[39m \u001b[0m\u001b[1;36m36.648\u001b[0m\u001b[1;39m)\u001b[0m\u001b[1m>\u001b[0m │ \u001b[1m<\u001b[0m\u001b[1;95mPOLYGON\u001b[0m\u001b[39m \u001b[0m\u001b[1;39m(\u001b[0m\u001b[1;39m(\u001b[0m\u001b[1;36m66.423\u001b[0m\u001b[39m \u001b[0m\u001b[1;36m35.641\u001b[0m\u001b[39m, \u001b[0m\u001b[1;36m66.449\u001b[0m\u001b[39m \u001b[0m\u001b[1;36m35.654\u001b[0m\u001b[39m, \u001b[0m\u001b[1;36m66.485\u001b[0m\u001b[39m \u001b[0m\u001b[1;36m35.667\u001b[0m\u001b[39m, \u001b[0m\u001b[1;36m66.499\u001b[0m\u001b[39m \u001b[0m\u001b[1;36m35.669\u001b[0m\u001b[39m, \u001b[0m\u001b[1;36m66.51\u001b[0m\u001b[33m...\u001b[0m\u001b[1m>\u001b[0m │\n",
       "│ \u001b[32mAFG   \u001b[0m │ \u001b[32mAfghanistan\u001b[0m │ \u001b[32mAFG.5_1\u001b[0m │ \u001b[32mBamyan    \u001b[0m │ \u001b[2mNULL\u001b[0m                      │ \u001b[2mNULL\u001b[0m      │ \u001b[32mVelayat\u001b[0m │ \u001b[32mProvince \u001b[0m │ \u001b[2mNULL\u001b[0m   │ \u001b[32mAF.BM \u001b[0m │                 \u001b[1;36m4\u001b[0m │ \u001b[1m<\u001b[0m\u001b[1;95mPOINT\u001b[0m\u001b[39m \u001b[0m\u001b[1;39m(\u001b[0m\u001b[1;36m67.181\u001b[0m\u001b[39m \u001b[0m\u001b[1;36m34.721\u001b[0m\u001b[1;39m)\u001b[0m\u001b[1m>\u001b[0m │ \u001b[1m<\u001b[0m\u001b[1;95mPOLYGON\u001b[0m\u001b[39m \u001b[0m\u001b[1;39m(\u001b[0m\u001b[1;39m(\u001b[0m\u001b[1;36m66.653\u001b[0m\u001b[39m \u001b[0m\u001b[1;36m34.003\u001b[0m\u001b[39m, \u001b[0m\u001b[1;36m66.659\u001b[0m\u001b[39m \u001b[0m\u001b[1;36m34.017\u001b[0m\u001b[39m, \u001b[0m\u001b[1;36m66.669\u001b[0m\u001b[39m \u001b[0m\u001b[1;36m34.031\u001b[0m\u001b[39m, \u001b[0m\u001b[1;36m66.672\u001b[0m\u001b[39m \u001b[0m\u001b[1;36m34.038\u001b[0m\u001b[39m, \u001b[0m\u001b[1;36m66.67\u001b[0m\u001b[33m...\u001b[0m\u001b[1m>\u001b[0m │\n",
       "└────────┴─────────────┴─────────┴────────────┴───────────────────────────┴───────────┴─────────┴───────────┴────────┴────────┴───────────────────┴─────────────────────────┴──────────────────────────────────────────────────────────────────────────────────┘"
      ]
     },
     "execution_count": 40,
     "metadata": {},
     "output_type": "execute_result"
    }
   ],
   "source": [
    "boundaries_1.head()"
   ]
  },
  {
   "cell_type": "code",
   "execution_count": 41,
   "metadata": {
    "tags": [
     "rm_cell"
    ]
   },
   "outputs": [
    {
     "data": {
      "text/html": [
       "<pre style=\"white-space:pre;overflow-x:auto;line-height:normal;font-family:Menlo,'DejaVu Sans Mono',consolas,'Courier New',monospace\">┏━━━━━━━━┳━━━━━━━━┳━━━━━━━━━┳━━━━━━━━━━━━━┳━━━━━━━━━━━━━━━━━━━━━━━━━━━━━━━━━━━━━━━━━━━━━━━━━━━━━━━━━━━━━━━━━┳━━━━━━━━━━━┳━━━━━━━━━┳━━━━━━━━━━━┳━━━━━━━━┳━━━━━━━━┳━━━━━━━━━━━━━━━━━━━┳━━━━━━━━━━━━━━━━━━━━━━━━━━┳━━━━━━━━━━━━━━━━━━━━━━━━━━━━━━━━━━━━━━━━━━━━━━━━━━━━━━━━━━━━━━━━━━━━━━━━━━━━━━━━━━┓\n",
       "┃<span style=\"font-weight: bold\"> GID_0  </span>┃<span style=\"font-weight: bold\"> NAME_0 </span>┃<span style=\"font-weight: bold\"> GID_1   </span>┃<span style=\"font-weight: bold\"> NAME_1      </span>┃<span style=\"font-weight: bold\"> VARNAME_1                                                       </span>┃<span style=\"font-weight: bold\"> NL_NAME_1 </span>┃<span style=\"font-weight: bold\"> TYPE_1  </span>┃<span style=\"font-weight: bold\"> ENGTYPE_1 </span>┃<span style=\"font-weight: bold\"> CC_1   </span>┃<span style=\"font-weight: bold\"> HASC_1 </span>┃<span style=\"font-weight: bold\"> __index_level_0__ </span>┃<span style=\"font-weight: bold\"> centr                    </span>┃<span style=\"font-weight: bold\"> geometry                                                                         </span>┃\n",
       "┡━━━━━━━━╇━━━━━━━━╇━━━━━━━━━╇━━━━━━━━━━━━━╇━━━━━━━━━━━━━━━━━━━━━━━━━━━━━━━━━━━━━━━━━━━━━━━━━━━━━━━━━━━━━━━━━╇━━━━━━━━━━━╇━━━━━━━━━╇━━━━━━━━━━━╇━━━━━━━━╇━━━━━━━━╇━━━━━━━━━━━━━━━━━━━╇━━━━━━━━━━━━━━━━━━━━━━━━━━╇━━━━━━━━━━━━━━━━━━━━━━━━━━━━━━━━━━━━━━━━━━━━━━━━━━━━━━━━━━━━━━━━━━━━━━━━━━━━━━━━━━┩\n",
       "│ <span style=\"color: #7f7f7f; text-decoration-color: #7f7f7f\">string</span> │ <span style=\"color: #7f7f7f; text-decoration-color: #7f7f7f\">string</span> │ <span style=\"color: #7f7f7f; text-decoration-color: #7f7f7f\">string</span>  │ <span style=\"color: #7f7f7f; text-decoration-color: #7f7f7f\">string</span>      │ <span style=\"color: #7f7f7f; text-decoration-color: #7f7f7f\">string</span>                                                          │ <span style=\"color: #7f7f7f; text-decoration-color: #7f7f7f\">string</span>    │ <span style=\"color: #7f7f7f; text-decoration-color: #7f7f7f\">string</span>  │ <span style=\"color: #7f7f7f; text-decoration-color: #7f7f7f\">string</span>    │ <span style=\"color: #7f7f7f; text-decoration-color: #7f7f7f\">string</span> │ <span style=\"color: #7f7f7f; text-decoration-color: #7f7f7f\">string</span> │ <span style=\"color: #7f7f7f; text-decoration-color: #7f7f7f\">int64</span>             │ <span style=\"color: #7f7f7f; text-decoration-color: #7f7f7f\">geospatial:geometry</span>      │ <span style=\"color: #7f7f7f; text-decoration-color: #7f7f7f\">geospatial:geometry</span>                                                              │\n",
       "├────────┼────────┼─────────┼─────────────┼─────────────────────────────────────────────────────────────────┼───────────┼─────────┼───────────┼────────┼────────┼───────────────────┼──────────────────────────┼──────────────────────────────────────────────────────────────────────────────────┤\n",
       "│ <span style=\"color: #008000; text-decoration-color: #008000\">LAO   </span> │ <span style=\"color: #008000; text-decoration-color: #008000\">Laos  </span> │ <span style=\"color: #008000; text-decoration-color: #008000\">LAO.1_1</span> │ <span style=\"color: #008000; text-decoration-color: #008000\">Attapu     </span> │ <span style=\"color: #008000; text-decoration-color: #008000\">Attopu|Atpu|Attapeu|Attopeu|Muang Mai                          </span> │ <span style=\"color: #7f7f7f; text-decoration-color: #7f7f7f\">NULL</span>      │ <span style=\"color: #008000; text-decoration-color: #008000\">Khoueng</span> │ <span style=\"color: #008000; text-decoration-color: #008000\">Province </span> │ <span style=\"color: #7f7f7f; text-decoration-color: #7f7f7f\">NULL</span>   │ <span style=\"color: #008000; text-decoration-color: #008000\">LA.AT </span> │              <span style=\"color: #008080; text-decoration-color: #008080; font-weight: bold\">1578</span> │ <span style=\"font-weight: bold\">&lt;</span><span style=\"color: #ff00ff; text-decoration-color: #ff00ff; font-weight: bold\">POINT</span><span style=\"color: #000000; text-decoration-color: #000000\"> </span><span style=\"color: #000000; text-decoration-color: #000000; font-weight: bold\">(</span><span style=\"color: #008080; text-decoration-color: #008080; font-weight: bold\">106.945</span><span style=\"color: #000000; text-decoration-color: #000000\"> </span><span style=\"color: #008080; text-decoration-color: #008080; font-weight: bold\">14.794</span><span style=\"color: #000000; text-decoration-color: #000000; font-weight: bold\">)</span><span style=\"font-weight: bold\">&gt;</span> │ <span style=\"font-weight: bold\">&lt;</span><span style=\"color: #ff00ff; text-decoration-color: #ff00ff; font-weight: bold\">POLYGON</span><span style=\"color: #000000; text-decoration-color: #000000\"> </span><span style=\"color: #000000; text-decoration-color: #000000; font-weight: bold\">((</span><span style=\"color: #008080; text-decoration-color: #008080; font-weight: bold\">107.525</span><span style=\"color: #000000; text-decoration-color: #000000\"> </span><span style=\"color: #008080; text-decoration-color: #008080; font-weight: bold\">14.731</span><span style=\"color: #000000; text-decoration-color: #000000\">, </span><span style=\"color: #008080; text-decoration-color: #008080; font-weight: bold\">107.523</span><span style=\"color: #000000; text-decoration-color: #000000\"> </span><span style=\"color: #008080; text-decoration-color: #008080; font-weight: bold\">14.729</span><span style=\"color: #000000; text-decoration-color: #000000\">, </span><span style=\"color: #008080; text-decoration-color: #008080; font-weight: bold\">107.522</span><span style=\"color: #000000; text-decoration-color: #000000\"> </span><span style=\"color: #008080; text-decoration-color: #008080; font-weight: bold\">14.728</span><span style=\"color: #000000; text-decoration-color: #000000\">, </span><span style=\"color: #008080; text-decoration-color: #008080; font-weight: bold\">107.521</span><span style=\"color: #000000; text-decoration-color: #000000\"> </span><span style=\"color: #008080; text-decoration-color: #008080; font-weight: bold\">14.728</span><span style=\"color: #000000; text-decoration-color: #000000\">, </span><span style=\"color: #008080; text-decoration-color: #008080; font-weight: bold\">1</span><span style=\"color: #808000; text-decoration-color: #808000\">...</span><span style=\"font-weight: bold\">&gt;</span> │\n",
       "│ <span style=\"color: #008000; text-decoration-color: #008000\">LAO   </span> │ <span style=\"color: #008000; text-decoration-color: #008000\">Laos  </span> │ <span style=\"color: #008000; text-decoration-color: #008000\">LAO.2_1</span> │ <span style=\"color: #008000; text-decoration-color: #008000\">Bokeo      </span> │ <span style=\"color: #7f7f7f; text-decoration-color: #7f7f7f\">NULL</span>                                                            │ <span style=\"color: #7f7f7f; text-decoration-color: #7f7f7f\">NULL</span>      │ <span style=\"color: #008000; text-decoration-color: #008000\">Khoueng</span> │ <span style=\"color: #008000; text-decoration-color: #008000\">Province </span> │ <span style=\"color: #7f7f7f; text-decoration-color: #7f7f7f\">NULL</span>   │ <span style=\"color: #008000; text-decoration-color: #008000\">LA.BK </span> │              <span style=\"color: #008080; text-decoration-color: #008080; font-weight: bold\">1579</span> │ <span style=\"font-weight: bold\">&lt;</span><span style=\"color: #ff00ff; text-decoration-color: #ff00ff; font-weight: bold\">POINT</span><span style=\"color: #000000; text-decoration-color: #000000\"> </span><span style=\"color: #000000; text-decoration-color: #000000; font-weight: bold\">(</span><span style=\"color: #008080; text-decoration-color: #008080; font-weight: bold\">100.643</span><span style=\"color: #000000; text-decoration-color: #000000\"> </span><span style=\"color: #008080; text-decoration-color: #008080; font-weight: bold\">20.351</span><span style=\"color: #000000; text-decoration-color: #000000; font-weight: bold\">)</span><span style=\"font-weight: bold\">&gt;</span> │ <span style=\"font-weight: bold\">&lt;</span><span style=\"color: #ff00ff; text-decoration-color: #ff00ff; font-weight: bold\">POLYGON</span><span style=\"color: #000000; text-decoration-color: #000000\"> </span><span style=\"color: #000000; text-decoration-color: #000000; font-weight: bold\">((</span><span style=\"color: #008080; text-decoration-color: #008080; font-weight: bold\">100.761</span><span style=\"color: #000000; text-decoration-color: #000000\"> </span><span style=\"color: #008080; text-decoration-color: #008080; font-weight: bold\">19.874</span><span style=\"color: #000000; text-decoration-color: #000000\">, </span><span style=\"color: #008080; text-decoration-color: #008080; font-weight: bold\">100.761</span><span style=\"color: #000000; text-decoration-color: #000000\"> </span><span style=\"color: #008080; text-decoration-color: #008080; font-weight: bold\">19.87</span><span style=\"color: #000000; text-decoration-color: #000000\">, </span><span style=\"color: #008080; text-decoration-color: #008080; font-weight: bold\">100.759</span><span style=\"color: #000000; text-decoration-color: #000000\"> </span><span style=\"color: #008080; text-decoration-color: #008080; font-weight: bold\">19.865</span><span style=\"color: #000000; text-decoration-color: #000000\">, </span><span style=\"color: #008080; text-decoration-color: #008080; font-weight: bold\">100.755</span><span style=\"color: #000000; text-decoration-color: #000000\"> </span><span style=\"color: #008080; text-decoration-color: #008080; font-weight: bold\">19.864</span><span style=\"color: #000000; text-decoration-color: #000000\">, </span><span style=\"color: #008080; text-decoration-color: #008080; font-weight: bold\">10</span><span style=\"color: #808000; text-decoration-color: #808000\">...</span><span style=\"font-weight: bold\">&gt;</span> │\n",
       "│ <span style=\"color: #008000; text-decoration-color: #008000\">LAO   </span> │ <span style=\"color: #008000; text-decoration-color: #008000\">Laos  </span> │ <span style=\"color: #008000; text-decoration-color: #008000\">LAO.3_1</span> │ <span style=\"color: #008000; text-decoration-color: #008000\">Bolikhamxai</span> │ <span style=\"color: #008000; text-decoration-color: #008000\">Bolikhamsai|Bolikhamxay|Borikhamzay|Borikane|Borikhan|Borikhane</span> │ <span style=\"color: #7f7f7f; text-decoration-color: #7f7f7f\">NULL</span>      │ <span style=\"color: #008000; text-decoration-color: #008000\">Khoueng</span> │ <span style=\"color: #008000; text-decoration-color: #008000\">Province </span> │ <span style=\"color: #7f7f7f; text-decoration-color: #7f7f7f\">NULL</span>   │ <span style=\"color: #008000; text-decoration-color: #008000\">LA.BL </span> │              <span style=\"color: #008080; text-decoration-color: #008080; font-weight: bold\">1580</span> │ <span style=\"font-weight: bold\">&lt;</span><span style=\"color: #ff00ff; text-decoration-color: #ff00ff; font-weight: bold\">POINT</span><span style=\"color: #000000; text-decoration-color: #000000\"> </span><span style=\"color: #000000; text-decoration-color: #000000; font-weight: bold\">(</span><span style=\"color: #008080; text-decoration-color: #008080; font-weight: bold\">104.26</span><span style=\"color: #000000; text-decoration-color: #000000\"> </span><span style=\"color: #008080; text-decoration-color: #008080; font-weight: bold\">18.489</span><span style=\"color: #000000; text-decoration-color: #000000; font-weight: bold\">)</span><span style=\"font-weight: bold\">&gt;</span>  │ <span style=\"font-weight: bold\">&lt;</span><span style=\"color: #ff00ff; text-decoration-color: #ff00ff; font-weight: bold\">POLYGON</span><span style=\"color: #000000; text-decoration-color: #000000\"> </span><span style=\"color: #000000; text-decoration-color: #000000; font-weight: bold\">((</span><span style=\"color: #008080; text-decoration-color: #008080; font-weight: bold\">102.904</span><span style=\"color: #000000; text-decoration-color: #000000\"> </span><span style=\"color: #008080; text-decoration-color: #008080; font-weight: bold\">18.294</span><span style=\"color: #000000; text-decoration-color: #000000\">, </span><span style=\"color: #008080; text-decoration-color: #008080; font-weight: bold\">102.906</span><span style=\"color: #000000; text-decoration-color: #000000\"> </span><span style=\"color: #008080; text-decoration-color: #008080; font-weight: bold\">18.296</span><span style=\"color: #000000; text-decoration-color: #000000\">, </span><span style=\"color: #008080; text-decoration-color: #008080; font-weight: bold\">102.908</span><span style=\"color: #000000; text-decoration-color: #000000\"> </span><span style=\"color: #008080; text-decoration-color: #008080; font-weight: bold\">18.301</span><span style=\"color: #000000; text-decoration-color: #000000\">, </span><span style=\"color: #008080; text-decoration-color: #008080; font-weight: bold\">102.909</span><span style=\"color: #000000; text-decoration-color: #000000\"> </span><span style=\"color: #008080; text-decoration-color: #008080; font-weight: bold\">18.307</span><span style=\"color: #000000; text-decoration-color: #000000\">, </span><span style=\"color: #008080; text-decoration-color: #008080; font-weight: bold\">1</span><span style=\"color: #808000; text-decoration-color: #808000\">...</span><span style=\"font-weight: bold\">&gt;</span> │\n",
       "└────────┴────────┴─────────┴─────────────┴─────────────────────────────────────────────────────────────────┴───────────┴─────────┴───────────┴────────┴────────┴───────────────────┴──────────────────────────┴──────────────────────────────────────────────────────────────────────────────────┘\n",
       "</pre>\n"
      ],
      "text/plain": [
       "┏━━━━━━━━┳━━━━━━━━┳━━━━━━━━━┳━━━━━━━━━━━━━┳━━━━━━━━━━━━━━━━━━━━━━━━━━━━━━━━━━━━━━━━━━━━━━━━━━━━━━━━━━━━━━━━━┳━━━━━━━━━━━┳━━━━━━━━━┳━━━━━━━━━━━┳━━━━━━━━┳━━━━━━━━┳━━━━━━━━━━━━━━━━━━━┳━━━━━━━━━━━━━━━━━━━━━━━━━━┳━━━━━━━━━━━━━━━━━━━━━━━━━━━━━━━━━━━━━━━━━━━━━━━━━━━━━━━━━━━━━━━━━━━━━━━━━━━━━━━━━━┓\n",
       "┃\u001b[1m \u001b[0m\u001b[1mGID_0\u001b[0m\u001b[1m \u001b[0m\u001b[1m \u001b[0m┃\u001b[1m \u001b[0m\u001b[1mNAME_0\u001b[0m\u001b[1m \u001b[0m┃\u001b[1m \u001b[0m\u001b[1mGID_1\u001b[0m\u001b[1m  \u001b[0m\u001b[1m \u001b[0m┃\u001b[1m \u001b[0m\u001b[1mNAME_1\u001b[0m\u001b[1m     \u001b[0m\u001b[1m \u001b[0m┃\u001b[1m \u001b[0m\u001b[1mVARNAME_1\u001b[0m\u001b[1m                                                      \u001b[0m\u001b[1m \u001b[0m┃\u001b[1m \u001b[0m\u001b[1mNL_NAME_1\u001b[0m\u001b[1m \u001b[0m┃\u001b[1m \u001b[0m\u001b[1mTYPE_1\u001b[0m\u001b[1m \u001b[0m\u001b[1m \u001b[0m┃\u001b[1m \u001b[0m\u001b[1mENGTYPE_1\u001b[0m\u001b[1m \u001b[0m┃\u001b[1m \u001b[0m\u001b[1mCC_1\u001b[0m\u001b[1m  \u001b[0m\u001b[1m \u001b[0m┃\u001b[1m \u001b[0m\u001b[1mHASC_1\u001b[0m\u001b[1m \u001b[0m┃\u001b[1m \u001b[0m\u001b[1m__index_level_0__\u001b[0m\u001b[1m \u001b[0m┃\u001b[1m \u001b[0m\u001b[1mcentr\u001b[0m\u001b[1m                   \u001b[0m\u001b[1m \u001b[0m┃\u001b[1m \u001b[0m\u001b[1mgeometry\u001b[0m\u001b[1m                                                                        \u001b[0m\u001b[1m \u001b[0m┃\n",
       "┡━━━━━━━━╇━━━━━━━━╇━━━━━━━━━╇━━━━━━━━━━━━━╇━━━━━━━━━━━━━━━━━━━━━━━━━━━━━━━━━━━━━━━━━━━━━━━━━━━━━━━━━━━━━━━━━╇━━━━━━━━━━━╇━━━━━━━━━╇━━━━━━━━━━━╇━━━━━━━━╇━━━━━━━━╇━━━━━━━━━━━━━━━━━━━╇━━━━━━━━━━━━━━━━━━━━━━━━━━╇━━━━━━━━━━━━━━━━━━━━━━━━━━━━━━━━━━━━━━━━━━━━━━━━━━━━━━━━━━━━━━━━━━━━━━━━━━━━━━━━━━┩\n",
       "│ \u001b[2mstring\u001b[0m │ \u001b[2mstring\u001b[0m │ \u001b[2mstring\u001b[0m  │ \u001b[2mstring\u001b[0m      │ \u001b[2mstring\u001b[0m                                                          │ \u001b[2mstring\u001b[0m    │ \u001b[2mstring\u001b[0m  │ \u001b[2mstring\u001b[0m    │ \u001b[2mstring\u001b[0m │ \u001b[2mstring\u001b[0m │ \u001b[2mint64\u001b[0m             │ \u001b[2mgeospatial:geometry\u001b[0m      │ \u001b[2mgeospatial:geometry\u001b[0m                                                              │\n",
       "├────────┼────────┼─────────┼─────────────┼─────────────────────────────────────────────────────────────────┼───────────┼─────────┼───────────┼────────┼────────┼───────────────────┼──────────────────────────┼──────────────────────────────────────────────────────────────────────────────────┤\n",
       "│ \u001b[32mLAO   \u001b[0m │ \u001b[32mLaos  \u001b[0m │ \u001b[32mLAO.1_1\u001b[0m │ \u001b[32mAttapu     \u001b[0m │ \u001b[32mAttopu|Atpu|Attapeu|Attopeu|Muang Mai                          \u001b[0m │ \u001b[2mNULL\u001b[0m      │ \u001b[32mKhoueng\u001b[0m │ \u001b[32mProvince \u001b[0m │ \u001b[2mNULL\u001b[0m   │ \u001b[32mLA.AT \u001b[0m │              \u001b[1;36m1578\u001b[0m │ \u001b[1m<\u001b[0m\u001b[1;95mPOINT\u001b[0m\u001b[39m \u001b[0m\u001b[1;39m(\u001b[0m\u001b[1;36m106.945\u001b[0m\u001b[39m \u001b[0m\u001b[1;36m14.794\u001b[0m\u001b[1;39m)\u001b[0m\u001b[1m>\u001b[0m │ \u001b[1m<\u001b[0m\u001b[1;95mPOLYGON\u001b[0m\u001b[39m \u001b[0m\u001b[1;39m(\u001b[0m\u001b[1;39m(\u001b[0m\u001b[1;36m107.525\u001b[0m\u001b[39m \u001b[0m\u001b[1;36m14.731\u001b[0m\u001b[39m, \u001b[0m\u001b[1;36m107.523\u001b[0m\u001b[39m \u001b[0m\u001b[1;36m14.729\u001b[0m\u001b[39m, \u001b[0m\u001b[1;36m107.522\u001b[0m\u001b[39m \u001b[0m\u001b[1;36m14.728\u001b[0m\u001b[39m, \u001b[0m\u001b[1;36m107.521\u001b[0m\u001b[39m \u001b[0m\u001b[1;36m14.728\u001b[0m\u001b[39m, \u001b[0m\u001b[1;36m1\u001b[0m\u001b[33m...\u001b[0m\u001b[1m>\u001b[0m │\n",
       "│ \u001b[32mLAO   \u001b[0m │ \u001b[32mLaos  \u001b[0m │ \u001b[32mLAO.2_1\u001b[0m │ \u001b[32mBokeo      \u001b[0m │ \u001b[2mNULL\u001b[0m                                                            │ \u001b[2mNULL\u001b[0m      │ \u001b[32mKhoueng\u001b[0m │ \u001b[32mProvince \u001b[0m │ \u001b[2mNULL\u001b[0m   │ \u001b[32mLA.BK \u001b[0m │              \u001b[1;36m1579\u001b[0m │ \u001b[1m<\u001b[0m\u001b[1;95mPOINT\u001b[0m\u001b[39m \u001b[0m\u001b[1;39m(\u001b[0m\u001b[1;36m100.643\u001b[0m\u001b[39m \u001b[0m\u001b[1;36m20.351\u001b[0m\u001b[1;39m)\u001b[0m\u001b[1m>\u001b[0m │ \u001b[1m<\u001b[0m\u001b[1;95mPOLYGON\u001b[0m\u001b[39m \u001b[0m\u001b[1;39m(\u001b[0m\u001b[1;39m(\u001b[0m\u001b[1;36m100.761\u001b[0m\u001b[39m \u001b[0m\u001b[1;36m19.874\u001b[0m\u001b[39m, \u001b[0m\u001b[1;36m100.761\u001b[0m\u001b[39m \u001b[0m\u001b[1;36m19.87\u001b[0m\u001b[39m, \u001b[0m\u001b[1;36m100.759\u001b[0m\u001b[39m \u001b[0m\u001b[1;36m19.865\u001b[0m\u001b[39m, \u001b[0m\u001b[1;36m100.755\u001b[0m\u001b[39m \u001b[0m\u001b[1;36m19.864\u001b[0m\u001b[39m, \u001b[0m\u001b[1;36m10\u001b[0m\u001b[33m...\u001b[0m\u001b[1m>\u001b[0m │\n",
       "│ \u001b[32mLAO   \u001b[0m │ \u001b[32mLaos  \u001b[0m │ \u001b[32mLAO.3_1\u001b[0m │ \u001b[32mBolikhamxai\u001b[0m │ \u001b[32mBolikhamsai|Bolikhamxay|Borikhamzay|Borikane|Borikhan|Borikhane\u001b[0m │ \u001b[2mNULL\u001b[0m      │ \u001b[32mKhoueng\u001b[0m │ \u001b[32mProvince \u001b[0m │ \u001b[2mNULL\u001b[0m   │ \u001b[32mLA.BL \u001b[0m │              \u001b[1;36m1580\u001b[0m │ \u001b[1m<\u001b[0m\u001b[1;95mPOINT\u001b[0m\u001b[39m \u001b[0m\u001b[1;39m(\u001b[0m\u001b[1;36m104.26\u001b[0m\u001b[39m \u001b[0m\u001b[1;36m18.489\u001b[0m\u001b[1;39m)\u001b[0m\u001b[1m>\u001b[0m  │ \u001b[1m<\u001b[0m\u001b[1;95mPOLYGON\u001b[0m\u001b[39m \u001b[0m\u001b[1;39m(\u001b[0m\u001b[1;39m(\u001b[0m\u001b[1;36m102.904\u001b[0m\u001b[39m \u001b[0m\u001b[1;36m18.294\u001b[0m\u001b[39m, \u001b[0m\u001b[1;36m102.906\u001b[0m\u001b[39m \u001b[0m\u001b[1;36m18.296\u001b[0m\u001b[39m, \u001b[0m\u001b[1;36m102.908\u001b[0m\u001b[39m \u001b[0m\u001b[1;36m18.301\u001b[0m\u001b[39m, \u001b[0m\u001b[1;36m102.909\u001b[0m\u001b[39m \u001b[0m\u001b[1;36m18.307\u001b[0m\u001b[39m, \u001b[0m\u001b[1;36m1\u001b[0m\u001b[33m...\u001b[0m\u001b[1m>\u001b[0m │\n",
       "└────────┴────────┴─────────┴─────────────┴─────────────────────────────────────────────────────────────────┴───────────┴─────────┴───────────┴────────┴────────┴───────────────────┴──────────────────────────┴──────────────────────────────────────────────────────────────────────────────────┘"
      ]
     },
     "execution_count": 41,
     "metadata": {},
     "output_type": "execute_result"
    }
   ],
   "source": [
    "boundaries_1.filter(_.GID_0==\"LAO\").head(3)"
   ]
  },
  {
   "cell_type": "markdown",
   "metadata": {},
   "source": [
    "### Working only on centroids"
   ]
  },
  {
   "cell_type": "code",
   "execution_count": 42,
   "metadata": {},
   "outputs": [],
   "source": [
    "boundaries_centr = boundaries_1.rename(\"snake_case\").execute()"
   ]
  },
  {
   "cell_type": "code",
   "execution_count": 43,
   "metadata": {},
   "outputs": [],
   "source": [
    "# regions to merge with DOSE\n",
    "\n",
    "boundaries_1_centr = boundaries_centr.dissolve(\"gid_1\")\n",
    "boundaries_1_centr[\"centr\"] = boundaries_1_centr.geometry.centroid\n",
    "# \n",
    "# boundaries_1_centr.drop(columns=\"geom\",inplace=True)\n",
    "boundaries_1_centr.reset_index(inplace=True,drop=False)\n",
    "# \n",
    "boundaries_1_centr = boundaries_1_centr.astype({\"gid_1\":str})\n",
    "\n",
    "# boundaries_1_centr.dtypes"
   ]
  },
  {
   "cell_type": "code",
   "execution_count": 44,
   "metadata": {},
   "outputs": [],
   "source": [
    "gadm_gid_0_filename = f\"{out_path}gadm_gid_0.parquet\""
   ]
  },
  {
   "cell_type": "code",
   "execution_count": 45,
   "metadata": {},
   "outputs": [],
   "source": [
    "if not os.path.exists(gadm_gid_0_filename):\n",
    "    boundaries_0_centr = conn.sql(\n",
    "    \"\"\"SELECT \n",
    "            gid_0, \n",
    "            ST_Union_Agg(geometry) as geometry \n",
    "            from \n",
    "                (select * EXCLUDE (geometry)\n",
    "                            , ST_Centroid(geometry::GEOMETRY) as centr\n",
    "                            , geometry::GEOMETRY as geometry \n",
    "                            from boundaries) \n",
    "            GROUP BY gid_0;\"\"\").execute() # boundaries_1\n",
    "    \n",
    "    boundaries_0_centr.set_crs(epsg=4326,inplace=True)\n",
    "    boundaries_0_centr.to_parquet(gadm_gid_0_filename)"
   ]
  },
  {
   "cell_type": "code",
   "execution_count": 46,
   "metadata": {},
   "outputs": [],
   "source": [
    "boundaries_0_centr = gpd.read_parquet(gadm_gid_0_filename)"
   ]
  },
  {
   "cell_type": "code",
   "execution_count": 47,
   "metadata": {},
   "outputs": [],
   "source": [
    "boundaries_0_centr.columns = [x.lower() for x in boundaries_0_centr.columns]"
   ]
  },
  {
   "cell_type": "code",
   "execution_count": 48,
   "metadata": {},
   "outputs": [
    {
     "name": "stderr",
     "output_type": "stream",
     "text": [
      "/var/folders/jw/j3253m6j4n7454gchq5258q80000gp/T/ipykernel_37993/3513629616.py:2: UserWarning: Geometry is in a geographic CRS. Results from 'centroid' are likely incorrect. Use 'GeoSeries.to_crs()' to re-project geometries to a projected CRS before this operation.\n",
      "\n",
      "  boundaries_0_centr[\"centr\"] = boundaries_0_centr.geometry.centroid\n"
     ]
    }
   ],
   "source": [
    "# boundaries_0_centr = boundaries_centr[[\"gid_0\",\"geometry\"]].set_geometry(\"geometry\").set_crs(epsg=4326).dissolve(by=\"gid_0\")\n",
    "boundaries_0_centr[\"centr\"] = boundaries_0_centr.geometry.centroid\n",
    "# \n",
    "# boundaries_0_centr.drop(columns=\"geom\",inplace=True)\n",
    "boundaries_0_centr.reset_index(inplace=True,drop=False)\n",
    "# \n",
    "boundaries_0_centr = boundaries_0_centr.astype({\"gid_0\":str})\n",
    "# boundaries_0_centr.dtypes"
   ]
  },
  {
   "cell_type": "code",
   "execution_count": 49,
   "metadata": {
    "tags": [
     "rm_cell"
    ]
   },
   "outputs": [
    {
     "data": {
      "text/html": [
       "<pre style=\"white-space:pre;overflow-x:auto;line-height:normal;font-family:Menlo,'DejaVu Sans Mono',consolas,'Courier New',monospace\"></pre>\n"
      ],
      "text/plain": []
     },
     "metadata": {},
     "output_type": "display_data"
    },
    {
     "data": {
      "text/plain": [
       "┌──────┐\n",
       "│ \u001b[1;36m1676\u001b[0m │\n",
       "└──────┘"
      ]
     },
     "execution_count": 49,
     "metadata": {},
     "output_type": "execute_result"
    }
   ],
   "source": [
    "dose_light.count()"
   ]
  },
  {
   "cell_type": "code",
   "execution_count": 50,
   "metadata": {},
   "outputs": [],
   "source": [
    "dose_light_geo_ = dose_light.execute()"
   ]
  },
  {
   "cell_type": "code",
   "execution_count": 51,
   "metadata": {},
   "outputs": [],
   "source": [
    "dose_light_geo_ = dose_light_geo_.astype({\"gid_1\" : str})"
   ]
  },
  {
   "cell_type": "code",
   "execution_count": 52,
   "metadata": {},
   "outputs": [
    {
     "data": {
      "application/vnd.microsoft.datawrangler.viewer.v0+json": {
       "columns": [
        {
         "name": "index",
         "rawType": "int64",
         "type": "integer"
        },
        {
         "name": "country",
         "rawType": "object",
         "type": "string"
        },
        {
         "name": "gid_0",
         "rawType": "object",
         "type": "string"
        },
        {
         "name": "gid_1",
         "rawType": "object",
         "type": "string"
        },
        {
         "name": "grp_usd_2015",
         "rawType": "float64",
         "type": "float"
        },
        {
         "name": "services_usd_2015",
         "rawType": "float64",
         "type": "float"
        },
        {
         "name": "manufacturing_usd_2015",
         "rawType": "float64",
         "type": "float"
        },
        {
         "name": "agriculture_usd_2015",
         "rawType": "float64",
         "type": "float"
        }
       ],
       "conversionMethod": "pd.DataFrame",
       "ref": "3a6c1b54-e687-450e-8077-7decfcd7af6e",
       "rows": [
        [
         "1608",
         "Lao PDR",
         "LAO",
         "LAO",
         "14426380125.648829",
         "6371983423.116256",
         "3995147111.0082827",
         "2537277069.4839334"
        ]
       ],
       "shape": {
        "columns": 7,
        "rows": 1
       }
      },
      "text/html": [
       "<div>\n",
       "<style scoped>\n",
       "    .dataframe tbody tr th:only-of-type {\n",
       "        vertical-align: middle;\n",
       "    }\n",
       "\n",
       "    .dataframe tbody tr th {\n",
       "        vertical-align: top;\n",
       "    }\n",
       "\n",
       "    .dataframe thead th {\n",
       "        text-align: right;\n",
       "    }\n",
       "</style>\n",
       "<table border=\"1\" class=\"dataframe\">\n",
       "  <thead>\n",
       "    <tr style=\"text-align: right;\">\n",
       "      <th></th>\n",
       "      <th>country</th>\n",
       "      <th>gid_0</th>\n",
       "      <th>gid_1</th>\n",
       "      <th>grp_usd_2015</th>\n",
       "      <th>services_usd_2015</th>\n",
       "      <th>manufacturing_usd_2015</th>\n",
       "      <th>agriculture_usd_2015</th>\n",
       "    </tr>\n",
       "  </thead>\n",
       "  <tbody>\n",
       "    <tr>\n",
       "      <th>1608</th>\n",
       "      <td>Lao PDR</td>\n",
       "      <td>LAO</td>\n",
       "      <td>LAO</td>\n",
       "      <td>1.442638e+10</td>\n",
       "      <td>6.371983e+09</td>\n",
       "      <td>3.995147e+09</td>\n",
       "      <td>2.537277e+09</td>\n",
       "    </tr>\n",
       "  </tbody>\n",
       "</table>\n",
       "</div>"
      ],
      "text/plain": [
       "      country gid_0 gid_1  grp_usd_2015  services_usd_2015  \\\n",
       "1608  Lao PDR   LAO   LAO  1.442638e+10       6.371983e+09   \n",
       "\n",
       "      manufacturing_usd_2015  agriculture_usd_2015  \n",
       "1608            3.995147e+09          2.537277e+09  "
      ]
     },
     "execution_count": 52,
     "metadata": {},
     "output_type": "execute_result"
    }
   ],
   "source": [
    "dose_light_geo_[dose_light_geo_.gid_1==\"LAO\"]"
   ]
  },
  {
   "cell_type": "code",
   "execution_count": null,
   "metadata": {},
   "outputs": [],
   "source": [
    "# boundaries_1_centr.dtypes"
   ]
  },
  {
   "cell_type": "code",
   "execution_count": 53,
   "metadata": {},
   "outputs": [],
   "source": [
    "dose_light_geo = gpd.GeoDataFrame(dose_light_geo_.merge(boundaries_1_centr[[\"gid_1\",\"centr\",\"geometry\"]],on=\"gid_1\",how=\"left\"))"
   ]
  },
  {
   "cell_type": "code",
   "execution_count": null,
   "metadata": {
    "tags": [
     "rm_cell"
    ]
   },
   "outputs": [
    {
     "ename": "AttributeError",
     "evalue": "'NoneType' object has no attribute 'copy'",
     "output_type": "error",
     "traceback": [
      "\u001b[0;31m---------------------------------------------------------------------------\u001b[0m",
      "\u001b[0;31mAttributeError\u001b[0m                            Traceback (most recent call last)",
      "File \u001b[0;32m~/micromamba/envs/global-data/lib/python3.12/site-packages/IPython/core/formatters.py:343\u001b[0m, in \u001b[0;36mBaseFormatter.__call__\u001b[0;34m(self, obj)\u001b[0m\n\u001b[1;32m    341\u001b[0m     \u001b[38;5;28;01mpass\u001b[39;00m\n\u001b[1;32m    342\u001b[0m \u001b[38;5;28;01melse\u001b[39;00m:\n\u001b[0;32m--> 343\u001b[0m     \u001b[38;5;28;01mreturn\u001b[39;00m \u001b[43mprinter\u001b[49m\u001b[43m(\u001b[49m\u001b[43mobj\u001b[49m\u001b[43m)\u001b[49m\n\u001b[1;32m    344\u001b[0m \u001b[38;5;66;03m# Finally look for special method names\u001b[39;00m\n\u001b[1;32m    345\u001b[0m method \u001b[38;5;241m=\u001b[39m get_real_method(obj, \u001b[38;5;28mself\u001b[39m\u001b[38;5;241m.\u001b[39mprint_method)\n",
      "Cell \u001b[0;32mIn[1], line 227\u001b[0m, in \u001b[0;36m__DW_OUTPUT_FORMATTER__.<locals>.DataWrangler.formatter\u001b[0;34m(cls, var, **kwargs)\u001b[0m\n\u001b[1;32m    225\u001b[0m \u001b[38;5;129m@classmethod\u001b[39m\n\u001b[1;32m    226\u001b[0m \u001b[38;5;28;01mdef\u001b[39;00m \u001b[38;5;21mformatter\u001b[39m(\u001b[38;5;28mcls\u001b[39m, var, \u001b[38;5;241m*\u001b[39m\u001b[38;5;241m*\u001b[39mkwargs):\n\u001b[0;32m--> 227\u001b[0m     s \u001b[38;5;241m=\u001b[39m \u001b[38;5;28;43mcls\u001b[39;49m\u001b[43m(\u001b[49m\u001b[43mvar\u001b[49m\u001b[43m,\u001b[49m\u001b[43m \u001b[49m\u001b[38;5;241;43m*\u001b[39;49m\u001b[38;5;241;43m*\u001b[39;49m\u001b[43mkwargs\u001b[49m\u001b[43m)\u001b[49m\n\u001b[1;32m    228\u001b[0m     \u001b[38;5;28;01mreturn\u001b[39;00m s\u001b[38;5;241m.\u001b[39m_repr_dw_()\n",
      "Cell \u001b[0;32mIn[1], line 221\u001b[0m, in \u001b[0;36m__DW_OUTPUT_FORMATTER__.<locals>.DataWrangler.__init__\u001b[0;34m(self, expr_val)\u001b[0m\n\u001b[1;32m    218\u001b[0m \u001b[38;5;28mself\u001b[39m\u001b[38;5;241m.\u001b[39mid \u001b[38;5;241m=\u001b[39m \u001b[38;5;28mstr\u001b[39m(uuid\u001b[38;5;241m.\u001b[39muuid4())\n\u001b[1;32m    219\u001b[0m pandas_df, conversion_method \u001b[38;5;241m=\u001b[39m api[\u001b[38;5;124m\"\u001b[39m\u001b[38;5;124mpandas_transport\u001b[39m\u001b[38;5;124m\"\u001b[39m][\u001b[38;5;124m\"\u001b[39m\u001b[38;5;124mconvert_to_pandas\u001b[39m\u001b[38;5;124m\"\u001b[39m](expr_val)\n\u001b[1;32m    220\u001b[0m tmp_vars[\u001b[38;5;28mself\u001b[39m\u001b[38;5;241m.\u001b[39mid] \u001b[38;5;241m=\u001b[39m {\n\u001b[0;32m--> 221\u001b[0m     \u001b[38;5;124m\"\u001b[39m\u001b[38;5;124mconverted\u001b[39m\u001b[38;5;124m\"\u001b[39m: \u001b[43mpandas_df\u001b[49m\u001b[38;5;241;43m.\u001b[39;49m\u001b[43mcopy\u001b[49m(deep\u001b[38;5;241m=\u001b[39m\u001b[38;5;28;01mFalse\u001b[39;00m), \u001b[38;5;66;03m# create a shallow copy in case a displayed object is mutated in the same cell\u001b[39;00m\n\u001b[1;32m    222\u001b[0m     \u001b[38;5;124m\"\u001b[39m\u001b[38;5;124mconversion_method\u001b[39m\u001b[38;5;124m\"\u001b[39m: conversion_method\n\u001b[1;32m    223\u001b[0m }\n",
      "\u001b[0;31mAttributeError\u001b[0m: 'NoneType' object has no attribute 'copy'"
     ]
    },
    {
     "data": {
      "text/html": [
       "<div>\n",
       "<style scoped>\n",
       "    .dataframe tbody tr th:only-of-type {\n",
       "        vertical-align: middle;\n",
       "    }\n",
       "\n",
       "    .dataframe tbody tr th {\n",
       "        vertical-align: top;\n",
       "    }\n",
       "\n",
       "    .dataframe thead th {\n",
       "        text-align: right;\n",
       "    }\n",
       "</style>\n",
       "<table border=\"1\" class=\"dataframe\">\n",
       "  <thead>\n",
       "    <tr style=\"text-align: right;\">\n",
       "      <th></th>\n",
       "      <th>country</th>\n",
       "      <th>gid_0</th>\n",
       "      <th>gid_1</th>\n",
       "      <th>grp_usd_2015</th>\n",
       "      <th>services_usd_2015</th>\n",
       "      <th>manufacturing_usd_2015</th>\n",
       "      <th>agriculture_usd_2015</th>\n",
       "      <th>centr</th>\n",
       "      <th>geometry</th>\n",
       "    </tr>\n",
       "  </thead>\n",
       "  <tbody>\n",
       "    <tr>\n",
       "      <th>1608</th>\n",
       "      <td>Lao PDR</td>\n",
       "      <td>LAO</td>\n",
       "      <td>LAO</td>\n",
       "      <td>1.442638e+10</td>\n",
       "      <td>6.371983e+09</td>\n",
       "      <td>3.995147e+09</td>\n",
       "      <td>2.537277e+09</td>\n",
       "      <td>None</td>\n",
       "      <td>None</td>\n",
       "    </tr>\n",
       "  </tbody>\n",
       "</table>\n",
       "</div>"
      ],
      "text/plain": [
       "      country gid_0 gid_1  grp_usd_2015  services_usd_2015  \\\n",
       "1608  Lao PDR   LAO   LAO  1.442638e+10       6.371983e+09   \n",
       "\n",
       "      manufacturing_usd_2015  agriculture_usd_2015 centr geometry  \n",
       "1608            3.995147e+09          2.537277e+09  None     None  "
      ]
     },
     "execution_count": 54,
     "metadata": {},
     "output_type": "execute_result"
    }
   ],
   "source": [
    "dose_light_geo[dose_light_geo.gid_1==\"LAO\"]"
   ]
  },
  {
   "cell_type": "code",
   "execution_count": 55,
   "metadata": {},
   "outputs": [],
   "source": [
    "missing_geoms = dose_light_geo.centr.isna()"
   ]
  },
  {
   "cell_type": "code",
   "execution_count": 56,
   "metadata": {},
   "outputs": [],
   "source": [
    "missing_countries = dose_light_geo_.loc[missing_geoms,\"gid_0\"].to_list()"
   ]
  },
  {
   "cell_type": "code",
   "execution_count": 57,
   "metadata": {},
   "outputs": [],
   "source": [
    "boundaries_0_centr_missing = boundaries_0_centr[boundaries_0_centr.gid_0.isin(missing_countries)].set_index(\"gid_0\")\n",
    "dose_light_geo.set_index(\"gid_0\",inplace=True)"
   ]
  },
  {
   "cell_type": "code",
   "execution_count": 58,
   "metadata": {
    "tags": [
     "rm_cell"
    ]
   },
   "outputs": [
    {
     "ename": "AttributeError",
     "evalue": "'NoneType' object has no attribute 'copy'",
     "output_type": "error",
     "traceback": [
      "\u001b[0;31m---------------------------------------------------------------------------\u001b[0m",
      "\u001b[0;31mAttributeError\u001b[0m                            Traceback (most recent call last)",
      "File \u001b[0;32m~/micromamba/envs/global-data/lib/python3.12/site-packages/IPython/core/formatters.py:343\u001b[0m, in \u001b[0;36mBaseFormatter.__call__\u001b[0;34m(self, obj)\u001b[0m\n\u001b[1;32m    341\u001b[0m     \u001b[38;5;28;01mpass\u001b[39;00m\n\u001b[1;32m    342\u001b[0m \u001b[38;5;28;01melse\u001b[39;00m:\n\u001b[0;32m--> 343\u001b[0m     \u001b[38;5;28;01mreturn\u001b[39;00m \u001b[43mprinter\u001b[49m\u001b[43m(\u001b[49m\u001b[43mobj\u001b[49m\u001b[43m)\u001b[49m\n\u001b[1;32m    344\u001b[0m \u001b[38;5;66;03m# Finally look for special method names\u001b[39;00m\n\u001b[1;32m    345\u001b[0m method \u001b[38;5;241m=\u001b[39m get_real_method(obj, \u001b[38;5;28mself\u001b[39m\u001b[38;5;241m.\u001b[39mprint_method)\n",
      "Cell \u001b[0;32mIn[1], line 227\u001b[0m, in \u001b[0;36m__DW_OUTPUT_FORMATTER__.<locals>.DataWrangler.formatter\u001b[0;34m(cls, var, **kwargs)\u001b[0m\n\u001b[1;32m    225\u001b[0m \u001b[38;5;129m@classmethod\u001b[39m\n\u001b[1;32m    226\u001b[0m \u001b[38;5;28;01mdef\u001b[39;00m \u001b[38;5;21mformatter\u001b[39m(\u001b[38;5;28mcls\u001b[39m, var, \u001b[38;5;241m*\u001b[39m\u001b[38;5;241m*\u001b[39mkwargs):\n\u001b[0;32m--> 227\u001b[0m     s \u001b[38;5;241m=\u001b[39m \u001b[38;5;28;43mcls\u001b[39;49m\u001b[43m(\u001b[49m\u001b[43mvar\u001b[49m\u001b[43m,\u001b[49m\u001b[43m \u001b[49m\u001b[38;5;241;43m*\u001b[39;49m\u001b[38;5;241;43m*\u001b[39;49m\u001b[43mkwargs\u001b[49m\u001b[43m)\u001b[49m\n\u001b[1;32m    228\u001b[0m     \u001b[38;5;28;01mreturn\u001b[39;00m s\u001b[38;5;241m.\u001b[39m_repr_dw_()\n",
      "Cell \u001b[0;32mIn[1], line 221\u001b[0m, in \u001b[0;36m__DW_OUTPUT_FORMATTER__.<locals>.DataWrangler.__init__\u001b[0;34m(self, expr_val)\u001b[0m\n\u001b[1;32m    218\u001b[0m \u001b[38;5;28mself\u001b[39m\u001b[38;5;241m.\u001b[39mid \u001b[38;5;241m=\u001b[39m \u001b[38;5;28mstr\u001b[39m(uuid\u001b[38;5;241m.\u001b[39muuid4())\n\u001b[1;32m    219\u001b[0m pandas_df, conversion_method \u001b[38;5;241m=\u001b[39m api[\u001b[38;5;124m\"\u001b[39m\u001b[38;5;124mpandas_transport\u001b[39m\u001b[38;5;124m\"\u001b[39m][\u001b[38;5;124m\"\u001b[39m\u001b[38;5;124mconvert_to_pandas\u001b[39m\u001b[38;5;124m\"\u001b[39m](expr_val)\n\u001b[1;32m    220\u001b[0m tmp_vars[\u001b[38;5;28mself\u001b[39m\u001b[38;5;241m.\u001b[39mid] \u001b[38;5;241m=\u001b[39m {\n\u001b[0;32m--> 221\u001b[0m     \u001b[38;5;124m\"\u001b[39m\u001b[38;5;124mconverted\u001b[39m\u001b[38;5;124m\"\u001b[39m: \u001b[43mpandas_df\u001b[49m\u001b[38;5;241;43m.\u001b[39;49m\u001b[43mcopy\u001b[49m(deep\u001b[38;5;241m=\u001b[39m\u001b[38;5;28;01mFalse\u001b[39;00m), \u001b[38;5;66;03m# create a shallow copy in case a displayed object is mutated in the same cell\u001b[39;00m\n\u001b[1;32m    222\u001b[0m     \u001b[38;5;124m\"\u001b[39m\u001b[38;5;124mconversion_method\u001b[39m\u001b[38;5;124m\"\u001b[39m: conversion_method\n\u001b[1;32m    223\u001b[0m }\n",
      "\u001b[0;31mAttributeError\u001b[0m: 'NoneType' object has no attribute 'copy'"
     ]
    },
    {
     "data": {
      "text/html": [
       "<div>\n",
       "<style scoped>\n",
       "    .dataframe tbody tr th:only-of-type {\n",
       "        vertical-align: middle;\n",
       "    }\n",
       "\n",
       "    .dataframe tbody tr th {\n",
       "        vertical-align: top;\n",
       "    }\n",
       "\n",
       "    .dataframe thead th {\n",
       "        text-align: right;\n",
       "    }\n",
       "</style>\n",
       "<table border=\"1\" class=\"dataframe\">\n",
       "  <thead>\n",
       "    <tr style=\"text-align: right;\">\n",
       "      <th></th>\n",
       "      <th>index</th>\n",
       "      <th>geometry</th>\n",
       "      <th>centr</th>\n",
       "    </tr>\n",
       "    <tr>\n",
       "      <th>gid_0</th>\n",
       "      <th></th>\n",
       "      <th></th>\n",
       "      <th></th>\n",
       "    </tr>\n",
       "  </thead>\n",
       "  <tbody>\n",
       "    <tr>\n",
       "      <th>BDI</th>\n",
       "      <td>0</td>\n",
       "      <td>POLYGON ((29.23162 -3.25516, 29.23092 -3.25393...</td>\n",
       "      <td>POINT (29.88982 -3.36766)</td>\n",
       "    </tr>\n",
       "    <tr>\n",
       "      <th>BFA</th>\n",
       "      <td>1</td>\n",
       "      <td>POLYGON ((-4.64197 12.07223, -4.64068 12.07887...</td>\n",
       "      <td>POINT (-1.74566 12.27429)</td>\n",
       "    </tr>\n",
       "    <tr>\n",
       "      <th>BMU</th>\n",
       "      <td>2</td>\n",
       "      <td>MULTIPOLYGON (((-64.74194 32.29945, -64.74194 ...</td>\n",
       "      <td>POINT (-64.76719 32.30941)</td>\n",
       "    </tr>\n",
       "    <tr>\n",
       "      <th>GNQ</th>\n",
       "      <td>7</td>\n",
       "      <td>MULTIPOLYGON (((5.65014 -1.44648, 5.65022 -1.4...</td>\n",
       "      <td>POINT (10.33233 1.70166)</td>\n",
       "    </tr>\n",
       "    <tr>\n",
       "      <th>HTI</th>\n",
       "      <td>9</td>\n",
       "      <td>MULTIPOLYGON (((-71.79884 18.68888, -71.79767 ...</td>\n",
       "      <td>POINT (-72.68394 18.93739)</td>\n",
       "    </tr>\n",
       "  </tbody>\n",
       "</table>\n",
       "</div>"
      ],
      "text/plain": [
       "       index                                           geometry  \\\n",
       "gid_0                                                             \n",
       "BDI        0  POLYGON ((29.23162 -3.25516, 29.23092 -3.25393...   \n",
       "BFA        1  POLYGON ((-4.64197 12.07223, -4.64068 12.07887...   \n",
       "BMU        2  MULTIPOLYGON (((-64.74194 32.29945, -64.74194 ...   \n",
       "GNQ        7  MULTIPOLYGON (((5.65014 -1.44648, 5.65022 -1.4...   \n",
       "HTI        9  MULTIPOLYGON (((-71.79884 18.68888, -71.79767 ...   \n",
       "\n",
       "                            centr  \n",
       "gid_0                              \n",
       "BDI     POINT (29.88982 -3.36766)  \n",
       "BFA     POINT (-1.74566 12.27429)  \n",
       "BMU    POINT (-64.76719 32.30941)  \n",
       "GNQ      POINT (10.33233 1.70166)  \n",
       "HTI    POINT (-72.68394 18.93739)  "
      ]
     },
     "execution_count": 58,
     "metadata": {},
     "output_type": "execute_result"
    }
   ],
   "source": [
    "boundaries_0_centr_missing.head()"
   ]
  },
  {
   "cell_type": "code",
   "execution_count": 59,
   "metadata": {},
   "outputs": [],
   "source": [
    "dose_light_geo.loc[missing_countries,[\"centr\",\"geometry\"]] = boundaries_0_centr_missing[[\"centr\",\"geometry\"]]\n",
    "dose_light_geo.reset_index(inplace=True,drop=False)"
   ]
  },
  {
   "cell_type": "code",
   "execution_count": 60,
   "metadata": {},
   "outputs": [
    {
     "ename": "AttributeError",
     "evalue": "'NoneType' object has no attribute 'copy'",
     "output_type": "error",
     "traceback": [
      "\u001b[0;31m---------------------------------------------------------------------------\u001b[0m",
      "\u001b[0;31mAttributeError\u001b[0m                            Traceback (most recent call last)",
      "File \u001b[0;32m~/micromamba/envs/global-data/lib/python3.12/site-packages/IPython/core/formatters.py:343\u001b[0m, in \u001b[0;36mBaseFormatter.__call__\u001b[0;34m(self, obj)\u001b[0m\n\u001b[1;32m    341\u001b[0m     \u001b[38;5;28;01mpass\u001b[39;00m\n\u001b[1;32m    342\u001b[0m \u001b[38;5;28;01melse\u001b[39;00m:\n\u001b[0;32m--> 343\u001b[0m     \u001b[38;5;28;01mreturn\u001b[39;00m \u001b[43mprinter\u001b[49m\u001b[43m(\u001b[49m\u001b[43mobj\u001b[49m\u001b[43m)\u001b[49m\n\u001b[1;32m    344\u001b[0m \u001b[38;5;66;03m# Finally look for special method names\u001b[39;00m\n\u001b[1;32m    345\u001b[0m method \u001b[38;5;241m=\u001b[39m get_real_method(obj, \u001b[38;5;28mself\u001b[39m\u001b[38;5;241m.\u001b[39mprint_method)\n",
      "Cell \u001b[0;32mIn[1], line 227\u001b[0m, in \u001b[0;36m__DW_OUTPUT_FORMATTER__.<locals>.DataWrangler.formatter\u001b[0;34m(cls, var, **kwargs)\u001b[0m\n\u001b[1;32m    225\u001b[0m \u001b[38;5;129m@classmethod\u001b[39m\n\u001b[1;32m    226\u001b[0m \u001b[38;5;28;01mdef\u001b[39;00m \u001b[38;5;21mformatter\u001b[39m(\u001b[38;5;28mcls\u001b[39m, var, \u001b[38;5;241m*\u001b[39m\u001b[38;5;241m*\u001b[39mkwargs):\n\u001b[0;32m--> 227\u001b[0m     s \u001b[38;5;241m=\u001b[39m \u001b[38;5;28;43mcls\u001b[39;49m\u001b[43m(\u001b[49m\u001b[43mvar\u001b[49m\u001b[43m,\u001b[49m\u001b[43m \u001b[49m\u001b[38;5;241;43m*\u001b[39;49m\u001b[38;5;241;43m*\u001b[39;49m\u001b[43mkwargs\u001b[49m\u001b[43m)\u001b[49m\n\u001b[1;32m    228\u001b[0m     \u001b[38;5;28;01mreturn\u001b[39;00m s\u001b[38;5;241m.\u001b[39m_repr_dw_()\n",
      "Cell \u001b[0;32mIn[1], line 221\u001b[0m, in \u001b[0;36m__DW_OUTPUT_FORMATTER__.<locals>.DataWrangler.__init__\u001b[0;34m(self, expr_val)\u001b[0m\n\u001b[1;32m    218\u001b[0m \u001b[38;5;28mself\u001b[39m\u001b[38;5;241m.\u001b[39mid \u001b[38;5;241m=\u001b[39m \u001b[38;5;28mstr\u001b[39m(uuid\u001b[38;5;241m.\u001b[39muuid4())\n\u001b[1;32m    219\u001b[0m pandas_df, conversion_method \u001b[38;5;241m=\u001b[39m api[\u001b[38;5;124m\"\u001b[39m\u001b[38;5;124mpandas_transport\u001b[39m\u001b[38;5;124m\"\u001b[39m][\u001b[38;5;124m\"\u001b[39m\u001b[38;5;124mconvert_to_pandas\u001b[39m\u001b[38;5;124m\"\u001b[39m](expr_val)\n\u001b[1;32m    220\u001b[0m tmp_vars[\u001b[38;5;28mself\u001b[39m\u001b[38;5;241m.\u001b[39mid] \u001b[38;5;241m=\u001b[39m {\n\u001b[0;32m--> 221\u001b[0m     \u001b[38;5;124m\"\u001b[39m\u001b[38;5;124mconverted\u001b[39m\u001b[38;5;124m\"\u001b[39m: \u001b[43mpandas_df\u001b[49m\u001b[38;5;241;43m.\u001b[39;49m\u001b[43mcopy\u001b[49m(deep\u001b[38;5;241m=\u001b[39m\u001b[38;5;28;01mFalse\u001b[39;00m), \u001b[38;5;66;03m# create a shallow copy in case a displayed object is mutated in the same cell\u001b[39;00m\n\u001b[1;32m    222\u001b[0m     \u001b[38;5;124m\"\u001b[39m\u001b[38;5;124mconversion_method\u001b[39m\u001b[38;5;124m\"\u001b[39m: conversion_method\n\u001b[1;32m    223\u001b[0m }\n",
      "\u001b[0;31mAttributeError\u001b[0m: 'NoneType' object has no attribute 'copy'"
     ]
    },
    {
     "data": {
      "text/html": [
       "<div>\n",
       "<style scoped>\n",
       "    .dataframe tbody tr th:only-of-type {\n",
       "        vertical-align: middle;\n",
       "    }\n",
       "\n",
       "    .dataframe tbody tr th {\n",
       "        vertical-align: top;\n",
       "    }\n",
       "\n",
       "    .dataframe thead th {\n",
       "        text-align: right;\n",
       "    }\n",
       "</style>\n",
       "<table border=\"1\" class=\"dataframe\">\n",
       "  <thead>\n",
       "    <tr style=\"text-align: right;\">\n",
       "      <th></th>\n",
       "      <th>gid_0</th>\n",
       "      <th>country</th>\n",
       "      <th>gid_1</th>\n",
       "      <th>grp_usd_2015</th>\n",
       "      <th>services_usd_2015</th>\n",
       "      <th>manufacturing_usd_2015</th>\n",
       "      <th>agriculture_usd_2015</th>\n",
       "      <th>centr</th>\n",
       "      <th>geometry</th>\n",
       "    </tr>\n",
       "  </thead>\n",
       "  <tbody>\n",
       "    <tr>\n",
       "      <th>0</th>\n",
       "      <td>ALB</td>\n",
       "      <td>Albania</td>\n",
       "      <td>ALB.1_1</td>\n",
       "      <td>4.341915e+08</td>\n",
       "      <td>2.009631e+08</td>\n",
       "      <td>9.449606e+07</td>\n",
       "      <td>8.588401e+07</td>\n",
       "      <td>POINT (20.09077 40.6285)</td>\n",
       "      <td>POLYGON ((20.3794 40.43518, 20.37653 40.4361, ...</td>\n",
       "    </tr>\n",
       "    <tr>\n",
       "      <th>1</th>\n",
       "      <td>ALB</td>\n",
       "      <td>Albania</td>\n",
       "      <td>ALB.2_1</td>\n",
       "      <td>3.719427e+08</td>\n",
       "      <td>1.721516e+08</td>\n",
       "      <td>8.094841e+07</td>\n",
       "      <td>7.357106e+07</td>\n",
       "      <td>POINT (20.24953 41.58911)</td>\n",
       "      <td>POLYGON ((20.42208 41.2819, 20.4225 41.28206, ...</td>\n",
       "    </tr>\n",
       "    <tr>\n",
       "      <th>2</th>\n",
       "      <td>ALB</td>\n",
       "      <td>Albania</td>\n",
       "      <td>ALB.3_1</td>\n",
       "      <td>1.113524e+09</td>\n",
       "      <td>5.153885e+08</td>\n",
       "      <td>2.423439e+08</td>\n",
       "      <td>2.202575e+08</td>\n",
       "      <td>POINT (19.63037 41.44733)</td>\n",
       "      <td>POLYGON ((19.63813 41.34107, 19.6356 41.33656,...</td>\n",
       "    </tr>\n",
       "    <tr>\n",
       "      <th>3</th>\n",
       "      <td>ALB</td>\n",
       "      <td>Albania</td>\n",
       "      <td>ALB.4_1</td>\n",
       "      <td>7.954835e+08</td>\n",
       "      <td>3.681851e+08</td>\n",
       "      <td>1.731265e+08</td>\n",
       "      <td>1.573483e+08</td>\n",
       "      <td>POINT (20.18645 41.04003)</td>\n",
       "      <td>POLYGON ((20.43677 40.84906, 20.43671 40.8485,...</td>\n",
       "    </tr>\n",
       "    <tr>\n",
       "      <th>4</th>\n",
       "      <td>ALB</td>\n",
       "      <td>Albania</td>\n",
       "      <td>ALB.5_1</td>\n",
       "      <td>1.345159e+09</td>\n",
       "      <td>6.225993e+08</td>\n",
       "      <td>2.927561e+08</td>\n",
       "      <td>2.660753e+08</td>\n",
       "      <td>POINT (19.62053 40.77463)</td>\n",
       "      <td>POLYGON ((19.74395 40.45158, 19.74499 40.45683...</td>\n",
       "    </tr>\n",
       "    <tr>\n",
       "      <th>...</th>\n",
       "      <td>...</td>\n",
       "      <td>...</td>\n",
       "      <td>...</td>\n",
       "      <td>...</td>\n",
       "      <td>...</td>\n",
       "      <td>...</td>\n",
       "      <td>...</td>\n",
       "      <td>...</td>\n",
       "      <td>...</td>\n",
       "    </tr>\n",
       "    <tr>\n",
       "      <th>1671</th>\n",
       "      <td>VIR</td>\n",
       "      <td>Virgin Islands (U.S.)</td>\n",
       "      <td>VIR</td>\n",
       "      <td>3.663000e+09</td>\n",
       "      <td>NaN</td>\n",
       "      <td>NaN</td>\n",
       "      <td>NaN</td>\n",
       "      <td>POINT (-64.80277 17.9717)</td>\n",
       "      <td>MULTIPOLYGON (((-64.76319 17.68597, -64.76264 ...</td>\n",
       "    </tr>\n",
       "    <tr>\n",
       "      <th>1672</th>\n",
       "      <td>PSE</td>\n",
       "      <td>West Bank and Gaza</td>\n",
       "      <td>PSE</td>\n",
       "      <td>1.397240e+10</td>\n",
       "      <td>8.618600e+09</td>\n",
       "      <td>2.295000e+09</td>\n",
       "      <td>1.035200e+09</td>\n",
       "      <td>POINT (35.20918 31.91606)</td>\n",
       "      <td>MULTIPOLYGON (((34.26801 31.22361, 34.26234 31...</td>\n",
       "    </tr>\n",
       "    <tr>\n",
       "      <th>1673</th>\n",
       "      <td>YEM</td>\n",
       "      <td>Yemen, Rep.</td>\n",
       "      <td>YEM</td>\n",
       "      <td>4.244449e+10</td>\n",
       "      <td>1.779608e+10</td>\n",
       "      <td>1.437432e+10</td>\n",
       "      <td>8.576307e+09</td>\n",
       "      <td>POINT (47.58276 15.90484)</td>\n",
       "      <td>MULTIPOLYGON (((43.41653 12.66819, 43.41681 12...</td>\n",
       "    </tr>\n",
       "    <tr>\n",
       "      <th>1674</th>\n",
       "      <td>ZMB</td>\n",
       "      <td>Zambia</td>\n",
       "      <td>ZMB</td>\n",
       "      <td>2.125122e+10</td>\n",
       "      <td>1.194752e+10</td>\n",
       "      <td>7.152575e+09</td>\n",
       "      <td>1.058488e+09</td>\n",
       "      <td>POINT (27.79264 -13.46228)</td>\n",
       "      <td>POLYGON ((22.00032 -13.54409, 22.00025 -13.450...</td>\n",
       "    </tr>\n",
       "    <tr>\n",
       "      <th>1675</th>\n",
       "      <td>ZWE</td>\n",
       "      <td>Zimbabwe</td>\n",
       "      <td>ZWE</td>\n",
       "      <td>1.996312e+10</td>\n",
       "      <td>1.170858e+10</td>\n",
       "      <td>4.463433e+09</td>\n",
       "      <td>1.653794e+09</td>\n",
       "      <td>POINT (29.86884 -19.00056)</td>\n",
       "      <td>POLYGON ((26.68312 -19.89033, 26.66529 -19.886...</td>\n",
       "    </tr>\n",
       "  </tbody>\n",
       "</table>\n",
       "<p>1676 rows × 9 columns</p>\n",
       "</div>"
      ],
      "text/plain": [
       "     gid_0                country    gid_1  grp_usd_2015  services_usd_2015  \\\n",
       "0      ALB                Albania  ALB.1_1  4.341915e+08       2.009631e+08   \n",
       "1      ALB                Albania  ALB.2_1  3.719427e+08       1.721516e+08   \n",
       "2      ALB                Albania  ALB.3_1  1.113524e+09       5.153885e+08   \n",
       "3      ALB                Albania  ALB.4_1  7.954835e+08       3.681851e+08   \n",
       "4      ALB                Albania  ALB.5_1  1.345159e+09       6.225993e+08   \n",
       "...    ...                    ...      ...           ...                ...   \n",
       "1671   VIR  Virgin Islands (U.S.)      VIR  3.663000e+09                NaN   \n",
       "1672   PSE     West Bank and Gaza      PSE  1.397240e+10       8.618600e+09   \n",
       "1673   YEM            Yemen, Rep.      YEM  4.244449e+10       1.779608e+10   \n",
       "1674   ZMB                 Zambia      ZMB  2.125122e+10       1.194752e+10   \n",
       "1675   ZWE               Zimbabwe      ZWE  1.996312e+10       1.170858e+10   \n",
       "\n",
       "      manufacturing_usd_2015  agriculture_usd_2015  \\\n",
       "0               9.449606e+07          8.588401e+07   \n",
       "1               8.094841e+07          7.357106e+07   \n",
       "2               2.423439e+08          2.202575e+08   \n",
       "3               1.731265e+08          1.573483e+08   \n",
       "4               2.927561e+08          2.660753e+08   \n",
       "...                      ...                   ...   \n",
       "1671                     NaN                   NaN   \n",
       "1672            2.295000e+09          1.035200e+09   \n",
       "1673            1.437432e+10          8.576307e+09   \n",
       "1674            7.152575e+09          1.058488e+09   \n",
       "1675            4.463433e+09          1.653794e+09   \n",
       "\n",
       "                           centr  \\\n",
       "0       POINT (20.09077 40.6285)   \n",
       "1      POINT (20.24953 41.58911)   \n",
       "2      POINT (19.63037 41.44733)   \n",
       "3      POINT (20.18645 41.04003)   \n",
       "4      POINT (19.62053 40.77463)   \n",
       "...                          ...   \n",
       "1671   POINT (-64.80277 17.9717)   \n",
       "1672   POINT (35.20918 31.91606)   \n",
       "1673   POINT (47.58276 15.90484)   \n",
       "1674  POINT (27.79264 -13.46228)   \n",
       "1675  POINT (29.86884 -19.00056)   \n",
       "\n",
       "                                               geometry  \n",
       "0     POLYGON ((20.3794 40.43518, 20.37653 40.4361, ...  \n",
       "1     POLYGON ((20.42208 41.2819, 20.4225 41.28206, ...  \n",
       "2     POLYGON ((19.63813 41.34107, 19.6356 41.33656,...  \n",
       "3     POLYGON ((20.43677 40.84906, 20.43671 40.8485,...  \n",
       "4     POLYGON ((19.74395 40.45158, 19.74499 40.45683...  \n",
       "...                                                 ...  \n",
       "1671  MULTIPOLYGON (((-64.76319 17.68597, -64.76264 ...  \n",
       "1672  MULTIPOLYGON (((34.26801 31.22361, 34.26234 31...  \n",
       "1673  MULTIPOLYGON (((43.41653 12.66819, 43.41681 12...  \n",
       "1674  POLYGON ((22.00032 -13.54409, 22.00025 -13.450...  \n",
       "1675  POLYGON ((26.68312 -19.89033, 26.66529 -19.886...  \n",
       "\n",
       "[1676 rows x 9 columns]"
      ]
     },
     "execution_count": 60,
     "metadata": {},
     "output_type": "execute_result"
    }
   ],
   "source": [
    "# dose_light_geo.set_geometry(\"geometry\",inplace=True).set_crs(epsg=4326,inplace=True)\n",
    "# dose_light_geo.set_crs(epsg=4326,inplace=True)\n",
    "\n",
    "dose_light_geo.set_geometry(\"centr\",inplace=True)\n",
    "dose_light_geo.set_crs(epsg=4326,inplace=True)"
   ]
  },
  {
   "cell_type": "markdown",
   "metadata": {},
   "source": [
    "### Exporting"
   ]
  },
  {
   "cell_type": "code",
   "execution_count": 61,
   "metadata": {},
   "outputs": [],
   "source": [
    "dose_light_geo = dose_light_geo.set_geometry(\"geometry\")\n",
    "dose_light_geo[\"x\"]=dose_light_geo.centr.x\n",
    "dose_light_geo[\"y\"]=dose_light_geo.centr.y"
   ]
  },
  {
   "cell_type": "code",
   "execution_count": 62,
   "metadata": {},
   "outputs": [
    {
     "ename": "Warning",
     "evalue": "File already exists at '../datasets/local_data/dose-wdi/0_4/dose_wdi_geo_0_4.parquet'.",
     "output_type": "error",
     "traceback": [
      "\u001b[0;31m---------------------------------------------------------------------------\u001b[0m",
      "\u001b[0;31mWarning\u001b[0m                                   Traceback (most recent call last)",
      "Cell \u001b[0;32mIn[62], line 8\u001b[0m\n\u001b[1;32m      6\u001b[0m     dose_light_geo\u001b[38;5;241m.\u001b[39mto_parquet(dose_wdi_geo_filepath)\n\u001b[1;32m      7\u001b[0m \u001b[38;5;28;01melse\u001b[39;00m :\n\u001b[0;32m----> 8\u001b[0m     \u001b[38;5;28;01mraise\u001b[39;00m \u001b[38;5;167;01mWarning\u001b[39;00m(\u001b[38;5;124mf\u001b[39m\u001b[38;5;124m\"\u001b[39m\u001b[38;5;124mFile already exists at \u001b[39m\u001b[38;5;124m'\u001b[39m\u001b[38;5;132;01m{\u001b[39;00mdose_wdi_geo_filepath\u001b[38;5;132;01m}\u001b[39;00m\u001b[38;5;124m'\u001b[39m\u001b[38;5;124m.\u001b[39m\u001b[38;5;124m\"\u001b[39m)\n",
      "\u001b[0;31mWarning\u001b[0m: File already exists at '../datasets/local_data/dose-wdi/0_4/dose_wdi_geo_0_4.parquet'."
     ]
    }
   ],
   "source": [
    "# contains some missing bits. \n",
    "dose_wdi_geo_filename = f\"dose_wdi_geo_{version}\"\n",
    "dose_wdi_geo_filepath = f\"../datasets/local_data/dose-wdi/{version}/{dose_wdi_geo_filename}.parquet\"\n",
    "\n",
    "if not os.path.exists(dose_wdi_geo_filepath):\n",
    "    dose_light_geo.to_parquet(dose_wdi_geo_filepath)\n",
    "else :\n",
    "    raise Warning(f\"File already exists at '{dose_wdi_geo_filepath}'.\")"
   ]
  },
  {
   "cell_type": "code",
   "execution_count": null,
   "metadata": {},
   "outputs": [],
   "source": [
    "! jupyter nbconvert missing_countries_geo.ipynb --TagRemovePreprocessor.enabled=True --TagRemovePreprocessor.remove_cell_tags rm_cell --to python"
   ]
  },
  {
   "cell_type": "markdown",
   "metadata": {},
   "source": [
    "## Plotting"
   ]
  },
  {
   "cell_type": "markdown",
   "metadata": {},
   "source": [
    "### Set up color palette for the map."
   ]
  },
  {
   "cell_type": "code",
   "execution_count": null,
   "metadata": {
    "tags": [
     "rm_cell"
    ]
   },
   "outputs": [],
   "source": [
    "viridis = color_palette(\"viridis\", as_cmap=True) # the sns function\n",
    "viridis"
   ]
  },
  {
   "cell_type": "code",
   "execution_count": null,
   "metadata": {
    "tags": [
     "rm_cell"
    ]
   },
   "outputs": [],
   "source": [
    "col_pal = pypal.load_cmap(\"Apricot\",reverse=True)\n",
    "col_pal.N"
   ]
  },
  {
   "cell_type": "code",
   "execution_count": null,
   "metadata": {
    "tags": [
     "rm_cell"
    ]
   },
   "outputs": [],
   "source": [
    "# in scalenav\n",
    "# def cmap(input, palette):\n",
    "#     input = np.nan_to_num(input).tolist()\n",
    "#     m = np.max(input)\n",
    "#     l = palette.N\n",
    "#     print(\"Max input : {}, palette colors : {}\".format(m,l))\n",
    "#     return [[int(255*j) for j in palette(int(x/m*l))] for x in input] #"
   ]
  },
  {
   "cell_type": "code",
   "execution_count": null,
   "metadata": {
    "tags": [
     "rm_cell"
    ]
   },
   "outputs": [],
   "source": [
    "cols = cmap(np.log1p(dose_light_geo[\"grp_usd_2015\"]),palette=col_pal)\n",
    "dose_light_geo[\"color\"] = cols\n",
    "dose_light_geo[\"radius\"] = np.log1p(dose_light_geo[\"grp_usd_2015\"])\n",
    "dose_light_geo.head(3)"
   ]
  },
  {
   "cell_type": "markdown",
   "metadata": {},
   "source": [
    "#### Deck map"
   ]
  },
  {
   "cell_type": "code",
   "execution_count": null,
   "metadata": {
    "tags": [
     "rm_cell"
    ]
   },
   "outputs": [],
   "source": [
    "# final data wrangling before plotting\n",
    "\n",
    "def simplify_geom(geom,**args):\n",
    "    try: \n",
    "        return geom.simplify(**args)\n",
    "    except:\n",
    "        return geom\n",
    "\n",
    "\n",
    "dose_light_geo[\"geometry_simple\"] = dose_light_geo[\"geometry\"].apply(lambda geom: simplify_geom(geom=geom,tolerance=0.05,preserve_topology=True))\n",
    "dose_light_geo.head()"
   ]
  },
  {
   "cell_type": "code",
   "execution_count": null,
   "metadata": {
    "tags": [
     "rm_cell"
    ]
   },
   "outputs": [],
   "source": [
    "dose_light_geo.set_geometry(col=\"geometry_simple\",crs=4326,inplace=True)"
   ]
  },
  {
   "cell_type": "code",
   "execution_count": null,
   "metadata": {
    "tags": [
     "rm_cell"
    ]
   },
   "outputs": [],
   "source": [
    "# viewport = pdk.data_utils.compute_view(points=compact_geo_downscaled[['x', 'y']], view_proportion=0.9)\n",
    "viewport = pdk.ViewState(longitude=0,latitude=0,zoom=2)"
   ]
  },
  {
   "cell_type": "code",
   "execution_count": null,
   "metadata": {
    "tags": [
     "rm_cell"
    ]
   },
   "outputs": [],
   "source": [
    "# Deck map showing the combined layers for each variable\n",
    "\n",
    "gdp_layer = pdk.Layer(\n",
    "    \"ScatterplotLayer\",\n",
    "    dose_light_geo[[\"country\",\"x\",\"y\",\"color\",\"radius\",\"gid_1\",\"services_usd_2015\",\"manufacturing_usd_2015\",\"agriculture_usd_2015\",\"grp_usd_2015\"]],\n",
    "    pickable=True,\n",
    "    extruded=False,\n",
    "    filled=True,\n",
    "    stroked=True,\n",
    "    opacity=.6,\n",
    "    get_radius=[\"radius\"],\n",
    "    radius_scale=2000,\n",
    "    radius_min_pixels=1,\n",
    "    radius_max_pixels=15,\n",
    "    get_position = [\"x\",\"y\"],\n",
    "    # get_polygons = \"geom\",\n",
    "    get_fill_color = \"color\", #\"[255*log_value/20,100,120]\",\n",
    "    get_line_color= [255, 255, 255, 0],\n",
    "    line_width_min_pixels=0,\n",
    "    line_width_max_pixels=1,\n",
    "    )\n",
    "\n",
    "\n",
    "# h3_layer = pdk.Layer(\n",
    "#     \"H3HexagonLayer\",\n",
    "#     dose_light_geo[[\"gdp\",\"hex\",\"color\"]],\n",
    "#     pickable=True,\n",
    "#     stroked=True,\n",
    "#     filled=True,\n",
    "#     opacity=.5,\n",
    "#     extruded=False,\n",
    "#     get_hexagon=\"hex\",\n",
    "#     get_fill_color= \"color\", #[230, 200, 180, 255],\n",
    "#     get_line_color=[0, 0, 0, 0],\n",
    "#     line_width_min_pixels=1,\n",
    "# )\n",
    "\n",
    "# polygon_layer = pdk.Layer(\n",
    "#     \"GeoJsonLayer\",\n",
    "#     dose_light_geo[[\"gdp_color\", \"services_color\",\"manuf_color\",\"agri_color\",\"geometry_simple\"]],\n",
    "#     id=\"geojson\",\n",
    "#     opacity=0.7,\n",
    "#     stroked=False,\n",
    "#     # get_polygon=\"geometry_simple\",\n",
    "#     filled=True,\n",
    "#     # extruded=True,\n",
    "#     # wireframe=True,\n",
    "#     # get_elevation=\"elevation\",\n",
    "#     get_fill_color=\"gdp_color\",\n",
    "#     get_line_color=[255, 255, 255, 0],\n",
    "#     auto_highlight=True,\n",
    "#     pickable=True,\n",
    "# )\n",
    "\n"
   ]
  },
  {
   "cell_type": "code",
   "execution_count": null,
   "metadata": {
    "tags": [
     "rm_cell"
    ]
   },
   "outputs": [],
   "source": [
    "r = pdk.Deck(layers=[\n",
    "    gdp_layer,\n",
    "                    #  polygon_layer\n",
    "                     ]\n",
    "            ,initial_view_state=viewport\n",
    "            ,tooltip={\"html\": \"\"\"<h3>{country} : {gid_1}</h3> \n",
    "                      <p> Services :  {services_usd_2015} </p> \n",
    "                      <p> Manufacturing: {manufacturing_usd_2015} </p>\n",
    "                      <p> Agriculture: {agriculture_usd_2015} </p>\n",
    "                      <p> Total: {grp_usd_2015} </p>\n",
    "                      \"\"\"}\n",
    "            ,\n",
    "            # ,mapbox_key=\"MAPBOX_API_KEY\"\n",
    "            )"
   ]
  },
  {
   "cell_type": "code",
   "execution_count": null,
   "metadata": {
    "tags": [
     "rm_cell"
    ]
   },
   "outputs": [],
   "source": [
    "r.to_html(\"../deck_maps/dose-wdi_geometries_vis.html\",iframe_height=800)"
   ]
  },
  {
   "cell_type": "markdown",
   "metadata": {},
   "source": [
    "### Other maps:"
   ]
  },
  {
   "cell_type": "code",
   "execution_count": null,
   "metadata": {
    "tags": [
     "rm_cell"
    ]
   },
   "outputs": [],
   "source": [
    "area = dose_light_geo.to_crs('ESRI:54009').area\n",
    "# dose_light_geo[\"geometry_simple\"].to_crs('ESRI:54009').area"
   ]
  },
  {
   "cell_type": "code",
   "execution_count": null,
   "metadata": {
    "tags": [
     "rm_cell"
    ]
   },
   "outputs": [],
   "source": [
    "dose_light_geo[\"gdp_color_var\"] = np.log1p(dose_light_geo[\"grp_usd_2015\"]/area*10_000)\n",
    "dose_light_geo[\"services_color_var\"] = np.log1p(dose_light_geo[\"services_usd_2015\"]/area*10_000)\n",
    "dose_light_geo[\"manuf_color_var\"] = np.log1p(dose_light_geo[\"manufacturing_usd_2015\"]/area*10_000)\n",
    "dose_light_geo[\"agri_color_var\"] = np.log1p(dose_light_geo[\"agriculture_usd_2015\"]/area*10_000)"
   ]
  },
  {
   "cell_type": "code",
   "execution_count": null,
   "metadata": {
    "tags": [
     "rm_cell"
    ]
   },
   "outputs": [],
   "source": [
    "dose_light_geo[\"gdp_color\"] = cmap(dose_light_geo[\"gdp_color_var\"],palette=col_pal)\n",
    "dose_light_geo[\"services_color\"] = cmap(dose_light_geo[\"services_color_var\"],palette=col_pal)\n",
    "dose_light_geo[\"manuf_color\"] = cmap(dose_light_geo[\"manuf_color_var\"],palette=col_pal)\n",
    "dose_light_geo[\"agri_color\"] = cmap(dose_light_geo[\"agri_color_var\"],palette=col_pal)"
   ]
  },
  {
   "cell_type": "code",
   "execution_count": null,
   "metadata": {
    "tags": [
     "rm_cell"
    ]
   },
   "outputs": [],
   "source": [
    "dose_light_geo.head()"
   ]
  },
  {
   "cell_type": "code",
   "execution_count": null,
   "metadata": {
    "tags": [
     "rm_cell"
    ]
   },
   "outputs": [],
   "source": [
    "# vars=[\"gdp\",\"services\",]\n",
    "ax = dose_light_geo.plot(column=\"agri_color_var\")\n",
    "ax.set_axis_off()\n",
    "ax.set_title(\"World GDP (agriculture)\")\n",
    "plt.savefig(\"world_agri.png\")"
   ]
  },
  {
   "cell_type": "code",
   "execution_count": null,
   "metadata": {
    "tags": [
     "rm_cell"
    ]
   },
   "outputs": [],
   "source": [
    "## Datashader tests "
   ]
  },
  {
   "cell_type": "code",
   "execution_count": null,
   "metadata": {
    "tags": [
     "rm_cell"
    ]
   },
   "outputs": [],
   "source": [
    "# ! export DASK_DATAFRAME__QUERY_PLANNING=False"
   ]
  },
  {
   "cell_type": "code",
   "execution_count": null,
   "metadata": {},
   "outputs": [],
   "source": [
    "# import datashader as ds \n",
    "\n",
    "# cvs = ds.Canvas(plot_width=650, plot_height=400)\n",
    "# agg = cvs.polygons(dose_light_geo, geometry='geometry',agg=ds.any())\n",
    "# tf.shade(agg)"
   ]
  }
 ],
 "metadata": {
  "kernelspec": {
   "display_name": "Python 3",
   "language": "python",
   "name": "python3"
  },
  "language_info": {
   "codemirror_mode": {
    "name": "ipython",
    "version": 3
   },
   "file_extension": ".py",
   "mimetype": "text/x-python",
   "name": "python",
   "nbconvert_exporter": "python",
   "pygments_lexer": "ipython3",
   "version": "3.12.5"
  }
 },
 "nbformat": 4,
 "nbformat_minor": 2
}
