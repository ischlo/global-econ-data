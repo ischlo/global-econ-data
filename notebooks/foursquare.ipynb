{
 "cells": [
  {
   "cell_type": "markdown",
   "metadata": {},
   "source": [
    "# Visualising foursquare data and breaking it down into sectors"
   ]
  },
  {
   "cell_type": "code",
   "execution_count": 2,
   "metadata": {},
   "outputs": [
    {
     "name": "stdout",
     "output_type": "stream",
     "text": [
      "Using angles for meter grid.\n",
      "Using angles for meter grid.\n",
      "Using angles for meter grid.\n",
      "Using angles for meter grid.\n",
      "Using angles for meter grid.\n"
     ]
    }
   ],
   "source": [
    "import json\n",
    "import glob\n",
    "import io\n",
    "import os\n",
    "import re\n",
    "import itertools as iter\n",
    "import numpy as np\n",
    "\n",
    "# data\n",
    "import pandas as pd\n",
    "import shapely as shp\n",
    "import geopandas as gpd\n",
    "import matplotlib.pyplot as plt\n",
    "import polars as pl\n",
    "import geoarrow\n",
    "\n",
    "# import shapely\n",
    "import duckdb\n",
    "import overturemaps\n",
    "import h3\n",
    "import scalenav\n",
    "import scalenav.data as snd\n",
    "import scalenav.scale_nav as sn\n",
    "from scalenav.plotting import cmap\n",
    "import scalenav.oop as snoo\n",
    "import jinja2\n",
    "from ipywidgets import HTML\n",
    "\n",
    "\n",
    "# from scipy import io as io\n",
    "# import nctoolkit as nc\n",
    "# import xarray as xr\n",
    "# import rioxarray as rx\n",
    "\n",
    "import ibis as ib\n",
    "\n",
    "from ibis import _\n",
    "\n",
    "import ibis.selectors as s\n",
    "\n",
    "ib.options.interactive = True\n",
    "ib.options.graphviz_repr = True\n",
    "\n",
    "# plots\n",
    "\n",
    "from wordcloud import WordCloud\n",
    "\n",
    "# from datashader import transfer_functions as tf, reductions as rd\n",
    "import pypalettes as pypal\n",
    "import pydeck as pdk\n",
    "from seaborn import color_palette"
   ]
  },
  {
   "cell_type": "markdown",
   "metadata": {},
   "source": [
    "## Color palettes "
   ]
  },
  {
   "cell_type": "code",
   "execution_count": 3,
   "metadata": {},
   "outputs": [],
   "source": [
    "from parameters import *\n",
    "\n",
    "# plot_limit = 10_000\n",
    "\n",
    "# # continuous palette\n",
    "# count_palette_name = \"OrYel\"\n",
    "\n",
    "# count_pal = pypal.load_cmap(count_palette_name)\n",
    "\n",
    "# # categorical palette\n",
    "# cat_pal_name = \"Bold\"\n",
    "\n",
    "# cat_pal = pypal.load_cmap(name=cat_pal_name)\n",
    "\n",
    "# map_limits = [-168.8,-56.9,189.8,77.7]"
   ]
  },
  {
   "cell_type": "markdown",
   "metadata": {},
   "source": [
    "## loading data "
   ]
  },
  {
   "cell_type": "code",
   "execution_count": null,
   "metadata": {},
   "outputs": [],
   "source": [
    "conn = snoo.sn_connect()"
   ]
  },
  {
   "cell_type": "code",
   "execution_count": 7,
   "metadata": {},
   "outputs": [],
   "source": [
    "places = conn.read_parquet(\"/Users/cenv1069/Documents/data/datasets/foursquare/raw/places/*\")"
   ]
  },
  {
   "cell_type": "code",
   "execution_count": 8,
   "metadata": {},
   "outputs": [
    {
     "data": {
      "text/html": [
       "<pre style=\"white-space:pre;overflow-x:auto;line-height:normal;font-family:Menlo,'DejaVu Sans Mono',consolas,'Courier New',monospace\">┏━━━━━━━━━━━━━━━━━━━━━━━━━━┳━━━━━━━━━━━━━━━━━━━━━━━━━━━━━━━━━━━━━━━━━━┳━━━━━━━━━━━┳━━━━━━━━━━━━━┳━━━━━━━━━━━━━━━━━━━━━━━┳━━━━━━━━━━━━━━━━━━━━━━━┳━━━━━━━━━━━━━━━┳━━━━━━━━━━┳━━━━━━━━━━━━━━┳━━━━━━━━━━━┳━━━━━━━━┳━━━━━━━━━┳━━━━━━━━━━━━━━┳━━━━━━━━━━━━━━━━┳━━━━━━━━━━━━━┳━━━━━━━━━━━━━━━━┳━━━━━━━━━━━━━━━━━━━━━━━━━━━━━━━━━┳━━━━━━━━━━━━━━━━━━━━━━━━━━━━━━━━━━━━━━━━━┳━━━━━━━━━━━━━━━━━━┳━━━━━━━━━━━┳━━━━━━━━━┳━━━━━━━━━━━━━━━━━━━━━━━━━━━━━━┳━━━━━━━━━━━━━━━━━━━━━━━━━━━━━━━━━━━━━━━━━━━━━━━━━━━━━━━━━━━━━━━━━━━━━━━━━━━━━━━━━━━━━━━━┓\n",
       "┃<span style=\"font-weight: bold\"> fsq_place_id             </span>┃<span style=\"font-weight: bold\"> name                                     </span>┃<span style=\"font-weight: bold\"> latitude  </span>┃<span style=\"font-weight: bold\"> longitude   </span>┃<span style=\"font-weight: bold\"> address               </span>┃<span style=\"font-weight: bold\"> locality              </span>┃<span style=\"font-weight: bold\"> region        </span>┃<span style=\"font-weight: bold\"> postcode </span>┃<span style=\"font-weight: bold\"> admin_region </span>┃<span style=\"font-weight: bold\"> post_town </span>┃<span style=\"font-weight: bold\"> po_box </span>┃<span style=\"font-weight: bold\"> country </span>┃<span style=\"font-weight: bold\"> date_created </span>┃<span style=\"font-weight: bold\"> date_refreshed </span>┃<span style=\"font-weight: bold\"> date_closed </span>┃<span style=\"font-weight: bold\"> tel            </span>┃<span style=\"font-weight: bold\"> website                         </span>┃<span style=\"font-weight: bold\"> email                                   </span>┃<span style=\"font-weight: bold\"> facebook_id      </span>┃<span style=\"font-weight: bold\"> instagram </span>┃<span style=\"font-weight: bold\"> twitter </span>┃<span style=\"font-weight: bold\"> fsq_category_ids             </span>┃<span style=\"font-weight: bold\"> fsq_category_labels                                                                    </span>┃\n",
       "┡━━━━━━━━━━━━━━━━━━━━━━━━━━╇━━━━━━━━━━━━━━━━━━━━━━━━━━━━━━━━━━━━━━━━━━╇━━━━━━━━━━━╇━━━━━━━━━━━━━╇━━━━━━━━━━━━━━━━━━━━━━━╇━━━━━━━━━━━━━━━━━━━━━━━╇━━━━━━━━━━━━━━━╇━━━━━━━━━━╇━━━━━━━━━━━━━━╇━━━━━━━━━━━╇━━━━━━━━╇━━━━━━━━━╇━━━━━━━━━━━━━━╇━━━━━━━━━━━━━━━━╇━━━━━━━━━━━━━╇━━━━━━━━━━━━━━━━╇━━━━━━━━━━━━━━━━━━━━━━━━━━━━━━━━━╇━━━━━━━━━━━━━━━━━━━━━━━━━━━━━━━━━━━━━━━━━╇━━━━━━━━━━━━━━━━━━╇━━━━━━━━━━━╇━━━━━━━━━╇━━━━━━━━━━━━━━━━━━━━━━━━━━━━━━╇━━━━━━━━━━━━━━━━━━━━━━━━━━━━━━━━━━━━━━━━━━━━━━━━━━━━━━━━━━━━━━━━━━━━━━━━━━━━━━━━━━━━━━━━┩\n",
       "│ <span style=\"color: #7f7f7f; text-decoration-color: #7f7f7f\">string</span>                   │ <span style=\"color: #7f7f7f; text-decoration-color: #7f7f7f\">string</span>                                   │ <span style=\"color: #7f7f7f; text-decoration-color: #7f7f7f\">float64</span>   │ <span style=\"color: #7f7f7f; text-decoration-color: #7f7f7f\">float64</span>     │ <span style=\"color: #7f7f7f; text-decoration-color: #7f7f7f\">string</span>                │ <span style=\"color: #7f7f7f; text-decoration-color: #7f7f7f\">string</span>                │ <span style=\"color: #7f7f7f; text-decoration-color: #7f7f7f\">string</span>        │ <span style=\"color: #7f7f7f; text-decoration-color: #7f7f7f\">string</span>   │ <span style=\"color: #7f7f7f; text-decoration-color: #7f7f7f\">string</span>       │ <span style=\"color: #7f7f7f; text-decoration-color: #7f7f7f\">string</span>    │ <span style=\"color: #7f7f7f; text-decoration-color: #7f7f7f\">string</span> │ <span style=\"color: #7f7f7f; text-decoration-color: #7f7f7f\">string</span>  │ <span style=\"color: #7f7f7f; text-decoration-color: #7f7f7f\">string</span>       │ <span style=\"color: #7f7f7f; text-decoration-color: #7f7f7f\">string</span>         │ <span style=\"color: #7f7f7f; text-decoration-color: #7f7f7f\">string</span>      │ <span style=\"color: #7f7f7f; text-decoration-color: #7f7f7f\">string</span>         │ <span style=\"color: #7f7f7f; text-decoration-color: #7f7f7f\">string</span>                          │ <span style=\"color: #7f7f7f; text-decoration-color: #7f7f7f\">string</span>                                  │ <span style=\"color: #7f7f7f; text-decoration-color: #7f7f7f\">int64</span>            │ <span style=\"color: #7f7f7f; text-decoration-color: #7f7f7f\">string</span>    │ <span style=\"color: #7f7f7f; text-decoration-color: #7f7f7f\">string</span>  │ <span style=\"color: #7f7f7f; text-decoration-color: #7f7f7f\">array&lt;string&gt;</span>                │ <span style=\"color: #7f7f7f; text-decoration-color: #7f7f7f\">array&lt;string&gt;</span>                                                                          │\n",
       "├──────────────────────────┼──────────────────────────────────────────┼───────────┼─────────────┼───────────────────────┼───────────────────────┼───────────────┼──────────┼──────────────┼───────────┼────────┼─────────┼──────────────┼────────────────┼─────────────┼────────────────┼─────────────────────────────────┼─────────────────────────────────────────┼──────────────────┼───────────┼─────────┼──────────────────────────────┼────────────────────────────────────────────────────────────────────────────────────────┤\n",
       "│ <span style=\"color: #008000; text-decoration-color: #008000\">4aee4d4688a04abe82d1ace4</span> │ <span style=\"color: #008000; text-decoration-color: #008000\">Canada House                            </span> │ <span style=\"color: #008080; text-decoration-color: #008080; font-weight: bold\">41.781153</span> │    <span style=\"color: #008080; text-decoration-color: #008080; font-weight: bold\">3.029574</span> │ <span style=\"color: #008000; text-decoration-color: #008000\">Anselm Clavé, 16 Bajo</span> │ <span style=\"color: #008000; text-decoration-color: #008000\">Sant Feliu de Guíxols</span> │ <span style=\"color: #008000; text-decoration-color: #008000\">Gerona       </span> │ <span style=\"color: #008000; text-decoration-color: #008000\">17220   </span> │ <span style=\"color: #008000; text-decoration-color: #008000\">Cataluña    </span> │ <span style=\"color: #7f7f7f; text-decoration-color: #7f7f7f\">NULL</span>      │ <span style=\"color: #7f7f7f; text-decoration-color: #7f7f7f\">NULL</span>   │ <span style=\"color: #008000; text-decoration-color: #008000\">ES     </span> │ <span style=\"color: #008000; text-decoration-color: #008000\">2010-05-09  </span> │ <span style=\"color: #008000; text-decoration-color: #008000\">2024-06-14    </span> │ <span style=\"color: #7f7f7f; text-decoration-color: #7f7f7f\">NULL</span>        │ <span style=\"color: #008000; text-decoration-color: #008000\">972 32 45 54  </span> │ <a href=\"http://www.canadahouse.es\" target=\"_blank\"><span style=\"color: #008000; text-decoration-color: #008000\">http://www.canadahouse.es</span></a><span style=\"color: #008000; text-decoration-color: #008000\">      </span> │ <span style=\"color: #7f7f7f; text-decoration-color: #7f7f7f\">NULL</span>                                    │             <span style=\"color: #7f7f7f; text-decoration-color: #7f7f7f\">NULL</span> │ <span style=\"color: #7f7f7f; text-decoration-color: #7f7f7f\">NULL</span>      │ <span style=\"color: #7f7f7f; text-decoration-color: #7f7f7f\">NULL</span>    │ <span style=\"font-weight: bold\">[</span><span style=\"color: #008000; text-decoration-color: #008000\">'4bf58dd8d48988d103951735'</span><span style=\"font-weight: bold\">]</span> │ <span style=\"font-weight: bold\">[</span><span style=\"color: #008000; text-decoration-color: #008000\">'Retail &gt; Fashion Retail &gt; Clothing Store'</span><span style=\"font-weight: bold\">]</span>                                           │\n",
       "│ <span style=\"color: #008000; text-decoration-color: #008000\">cb57d89eed29405b908b0b6e</span> │ <span style=\"color: #008000; text-decoration-color: #008000\">Fotos. Zakład fotograficzny. Głowacka T.</span> │ <span style=\"color: #008080; text-decoration-color: #008080; font-weight: bold\">52.192667</span> │   <span style=\"color: #008080; text-decoration-color: #008080; font-weight: bold\">18.633436</span> │ <span style=\"color: #008000; text-decoration-color: #008000\">Mickiewicza 8        </span> │ <span style=\"color: #008000; text-decoration-color: #008000\">Koło                 </span> │ <span style=\"color: #008000; text-decoration-color: #008000\">Wielkopolskie</span> │ <span style=\"color: #008000; text-decoration-color: #008000\">62-600  </span> │ <span style=\"color: #7f7f7f; text-decoration-color: #7f7f7f\">NULL</span>         │ <span style=\"color: #7f7f7f; text-decoration-color: #7f7f7f\">NULL</span>      │ <span style=\"color: #7f7f7f; text-decoration-color: #7f7f7f\">NULL</span>   │ <span style=\"color: #008000; text-decoration-color: #008000\">PL     </span> │ <span style=\"color: #008000; text-decoration-color: #008000\">2015-05-06  </span> │ <span style=\"color: #008000; text-decoration-color: #008000\">2024-06-27    </span> │ <span style=\"color: #7f7f7f; text-decoration-color: #7f7f7f\">NULL</span>        │ <span style=\"color: #008000; text-decoration-color: #008000\">63 272 08 68  </span> │ <span style=\"color: #7f7f7f; text-decoration-color: #7f7f7f\">NULL</span>                            │ <span style=\"color: #008000; text-decoration-color: #008000\">teresa.glowacka.fotos.kolo@neostrada.pl</span> │             <span style=\"color: #7f7f7f; text-decoration-color: #7f7f7f\">NULL</span> │ <span style=\"color: #7f7f7f; text-decoration-color: #7f7f7f\">NULL</span>      │ <span style=\"color: #7f7f7f; text-decoration-color: #7f7f7f\">NULL</span>    │ <span style=\"font-weight: bold\">[</span><span style=\"color: #008000; text-decoration-color: #008000\">'4d4b7105d754a06378d81259'</span><span style=\"font-weight: bold\">]</span> │ <span style=\"font-weight: bold\">[</span><span style=\"color: #008000; text-decoration-color: #008000\">'Retail'</span><span style=\"font-weight: bold\">]</span>                                                                             │\n",
       "│ <span style=\"color: #008000; text-decoration-color: #008000\">59a4553d112c6c2b6c378e08</span> │ <span style=\"color: #008000; text-decoration-color: #008000\">CoHo                                    </span> │ <span style=\"color: #008080; text-decoration-color: #008080; font-weight: bold\">40.774559</span> │  <span style=\"color: #008080; text-decoration-color: #008080; font-weight: bold\">-73.871849</span> │ <span style=\"color: #7f7f7f; text-decoration-color: #7f7f7f\">NULL</span>                  │ <span style=\"color: #008000; text-decoration-color: #008000\">New York             </span> │ <span style=\"color: #008000; text-decoration-color: #008000\">NY           </span> │ <span style=\"color: #008000; text-decoration-color: #008000\">11371   </span> │ <span style=\"color: #7f7f7f; text-decoration-color: #7f7f7f\">NULL</span>         │ <span style=\"color: #7f7f7f; text-decoration-color: #7f7f7f\">NULL</span>      │ <span style=\"color: #7f7f7f; text-decoration-color: #7f7f7f\">NULL</span>   │ <span style=\"color: #008000; text-decoration-color: #008000\">US     </span> │ <span style=\"color: #008000; text-decoration-color: #008000\">2017-08-28  </span> │ <span style=\"color: #008000; text-decoration-color: #008000\">2024-10-25    </span> │ <span style=\"color: #008000; text-decoration-color: #008000\">2019-08-22 </span> │ <span style=\"color: #7f7f7f; text-decoration-color: #7f7f7f\">NULL</span>           │ <span style=\"color: #7f7f7f; text-decoration-color: #7f7f7f\">NULL</span>                            │ <span style=\"color: #7f7f7f; text-decoration-color: #7f7f7f\">NULL</span>                                    │             <span style=\"color: #7f7f7f; text-decoration-color: #7f7f7f\">NULL</span> │ <span style=\"color: #7f7f7f; text-decoration-color: #7f7f7f\">NULL</span>      │ <span style=\"color: #7f7f7f; text-decoration-color: #7f7f7f\">NULL</span>    │ <span style=\"font-weight: bold\">[</span><span style=\"color: #008000; text-decoration-color: #008000\">'4bf58dd8d48988d110941735'</span><span style=\"font-weight: bold\">]</span> │ <span style=\"font-weight: bold\">[</span><span style=\"color: #008000; text-decoration-color: #008000\">'Dining and Drinking &gt; Restaurant &gt; Italian Restaurant'</span><span style=\"font-weight: bold\">]</span>                              │\n",
       "│ <span style=\"color: #008000; text-decoration-color: #008000\">4bea3677415e20a110d8e4bb</span> │ <span style=\"color: #008000; text-decoration-color: #008000\">Bisma lounge                            </span> │ <span style=\"color: #008080; text-decoration-color: #008080; font-weight: bold\">-6.134262</span> │  <span style=\"color: #008080; text-decoration-color: #008080; font-weight: bold\">106.864683</span> │ <span style=\"color: #008000; text-decoration-color: #008000\">Bisma75              </span> │ <span style=\"color: #008000; text-decoration-color: #008000\">Sunter city          </span> │ <span style=\"color: #008000; text-decoration-color: #008000\">Jakarta utara</span> │ <span style=\"color: #7f7f7f; text-decoration-color: #7f7f7f\">NULL</span>     │ <span style=\"color: #7f7f7f; text-decoration-color: #7f7f7f\">NULL</span>         │ <span style=\"color: #7f7f7f; text-decoration-color: #7f7f7f\">NULL</span>      │ <span style=\"color: #7f7f7f; text-decoration-color: #7f7f7f\">NULL</span>   │ <span style=\"color: #008000; text-decoration-color: #008000\">ID     </span> │ <span style=\"color: #008000; text-decoration-color: #008000\">2010-05-12  </span> │ <span style=\"color: #008000; text-decoration-color: #008000\">2024-07-15    </span> │ <span style=\"color: #7f7f7f; text-decoration-color: #7f7f7f\">NULL</span>        │ <span style=\"color: #7f7f7f; text-decoration-color: #7f7f7f\">NULL</span>           │ <span style=\"color: #7f7f7f; text-decoration-color: #7f7f7f\">NULL</span>                            │ <span style=\"color: #7f7f7f; text-decoration-color: #7f7f7f\">NULL</span>                                    │             <span style=\"color: #7f7f7f; text-decoration-color: #7f7f7f\">NULL</span> │ <span style=\"color: #7f7f7f; text-decoration-color: #7f7f7f\">NULL</span>      │ <span style=\"color: #7f7f7f; text-decoration-color: #7f7f7f\">NULL</span>    │ <span style=\"color: #7f7f7f; text-decoration-color: #7f7f7f\">NULL</span>                         │ <span style=\"color: #7f7f7f; text-decoration-color: #7f7f7f\">NULL</span>                                                                                   │\n",
       "│ <span style=\"color: #008000; text-decoration-color: #008000\">dca3aeba404e4b6006620a46</span> │ <span style=\"color: #008000; text-decoration-color: #008000\">Grace Motorworks                        </span> │ <span style=\"color: #008080; text-decoration-color: #008080; font-weight: bold\">34.180992</span> │ <span style=\"color: #008080; text-decoration-color: #008080; font-weight: bold\">-118.537669</span> │ <span style=\"color: #008000; text-decoration-color: #008000\">18545 Topham St Ste C</span> │ <span style=\"color: #008000; text-decoration-color: #008000\">Tarzana              </span> │ <span style=\"color: #008000; text-decoration-color: #008000\">CA           </span> │ <span style=\"color: #008000; text-decoration-color: #008000\">91335   </span> │ <span style=\"color: #7f7f7f; text-decoration-color: #7f7f7f\">NULL</span>         │ <span style=\"color: #7f7f7f; text-decoration-color: #7f7f7f\">NULL</span>      │ <span style=\"color: #7f7f7f; text-decoration-color: #7f7f7f\">NULL</span>   │ <span style=\"color: #008000; text-decoration-color: #008000\">US     </span> │ <span style=\"color: #008000; text-decoration-color: #008000\">2012-05-21  </span> │ <span style=\"color: #008000; text-decoration-color: #008000\">2024-10-12    </span> │ <span style=\"color: #7f7f7f; text-decoration-color: #7f7f7f\">NULL</span>        │ <span style=\"color: #008000; text-decoration-color: #008000\">(818) 881-0181</span> │ <a href=\"http://gracemotorworks.bzfs.com\" target=\"_blank\"><span style=\"color: #008000; text-decoration-color: #008000\">http://gracemotorworks.bzfs.com</span></a> │ <span style=\"color: #7f7f7f; text-decoration-color: #7f7f7f\">NULL</span>                                    │             <span style=\"color: #7f7f7f; text-decoration-color: #7f7f7f\">NULL</span> │ <span style=\"color: #7f7f7f; text-decoration-color: #7f7f7f\">NULL</span>      │ <span style=\"color: #7f7f7f; text-decoration-color: #7f7f7f\">NULL</span>    │ <span style=\"font-weight: bold\">[</span><span style=\"color: #008000; text-decoration-color: #008000\">'52f2ab2ebcbc57f1066b8b44'</span><span style=\"font-weight: bold\">]</span> │ <span style=\"font-weight: bold\">[</span><span style=\"color: #008000; text-decoration-color: #008000\">'Business and Professional Services &gt; Automotive Service &gt; Automotive Repair Shop'</span><span style=\"font-weight: bold\">]</span>   │\n",
       "│ <span style=\"color: #008000; text-decoration-color: #008000\">505a6a8be4b066ff885b3204</span> │ <span style=\"color: #008000; text-decoration-color: #008000\">沖縄海邦銀行 国頭支店                   </span> │ <span style=\"color: #008080; text-decoration-color: #008080; font-weight: bold\">26.732990</span> │  <span style=\"color: #008080; text-decoration-color: #008080; font-weight: bold\">128.203686</span> │ <span style=\"color: #008000; text-decoration-color: #008000\">辺土名130            </span> │ <span style=\"color: #008000; text-decoration-color: #008000\">国頭郡国頭村         </span> │ <span style=\"color: #008000; text-decoration-color: #008000\">沖縄県       </span> │ <span style=\"color: #7f7f7f; text-decoration-color: #7f7f7f\">NULL</span>     │ <span style=\"color: #7f7f7f; text-decoration-color: #7f7f7f\">NULL</span>         │ <span style=\"color: #7f7f7f; text-decoration-color: #7f7f7f\">NULL</span>      │ <span style=\"color: #7f7f7f; text-decoration-color: #7f7f7f\">NULL</span>   │ <span style=\"color: #008000; text-decoration-color: #008000\">JP     </span> │ <span style=\"color: #008000; text-decoration-color: #008000\">2012-09-20  </span> │ <span style=\"color: #008000; text-decoration-color: #008000\">2024-08-07    </span> │ <span style=\"color: #7f7f7f; text-decoration-color: #7f7f7f\">NULL</span>        │ <span style=\"color: #008000; text-decoration-color: #008000\">0980-41-2207  </span> │ <span style=\"color: #7f7f7f; text-decoration-color: #7f7f7f\">NULL</span>                            │ <span style=\"color: #7f7f7f; text-decoration-color: #7f7f7f\">NULL</span>                                    │             <span style=\"color: #7f7f7f; text-decoration-color: #7f7f7f\">NULL</span> │ <span style=\"color: #7f7f7f; text-decoration-color: #7f7f7f\">NULL</span>      │ <span style=\"color: #7f7f7f; text-decoration-color: #7f7f7f\">NULL</span>    │ <span style=\"font-weight: bold\">[</span><span style=\"color: #008000; text-decoration-color: #008000\">'4bf58dd8d48988d10a951735'</span><span style=\"font-weight: bold\">]</span> │ <span style=\"font-weight: bold\">[</span><span style=\"color: #008000; text-decoration-color: #008000\">'Business and Professional Services &gt; Financial Service &gt; Banking and Finance &gt; B'</span>+<span style=\"color: #008080; text-decoration-color: #008080; font-weight: bold\">3</span><span style=\"font-weight: bold\">]</span> │\n",
       "│ <span style=\"color: #008000; text-decoration-color: #008000\">542609ee498e58df0895fdc3</span> │ <span style=\"color: #008000; text-decoration-color: #008000\">Dungklepu                               </span> │ <span style=\"color: #008080; text-decoration-color: #008080; font-weight: bold\">-8.078449</span> │  <span style=\"color: #008080; text-decoration-color: #008080; font-weight: bold\">110.854409</span> │ <span style=\"color: #7f7f7f; text-decoration-color: #7f7f7f\">NULL</span>                  │ <span style=\"color: #7f7f7f; text-decoration-color: #7f7f7f\">NULL</span>                  │ <span style=\"color: #7f7f7f; text-decoration-color: #7f7f7f\">NULL</span>          │ <span style=\"color: #7f7f7f; text-decoration-color: #7f7f7f\">NULL</span>     │ <span style=\"color: #7f7f7f; text-decoration-color: #7f7f7f\">NULL</span>         │ <span style=\"color: #7f7f7f; text-decoration-color: #7f7f7f\">NULL</span>      │ <span style=\"color: #7f7f7f; text-decoration-color: #7f7f7f\">NULL</span>   │ <span style=\"color: #008000; text-decoration-color: #008000\">ID     </span> │ <span style=\"color: #008000; text-decoration-color: #008000\">2014-09-27  </span> │ <span style=\"color: #008000; text-decoration-color: #008000\">2024-07-16    </span> │ <span style=\"color: #7f7f7f; text-decoration-color: #7f7f7f\">NULL</span>        │ <span style=\"color: #7f7f7f; text-decoration-color: #7f7f7f\">NULL</span>           │ <span style=\"color: #7f7f7f; text-decoration-color: #7f7f7f\">NULL</span>                            │ <span style=\"color: #7f7f7f; text-decoration-color: #7f7f7f\">NULL</span>                                    │             <span style=\"color: #7f7f7f; text-decoration-color: #7f7f7f\">NULL</span> │ <span style=\"color: #7f7f7f; text-decoration-color: #7f7f7f\">NULL</span>      │ <span style=\"color: #7f7f7f; text-decoration-color: #7f7f7f\">NULL</span>    │ <span style=\"color: #7f7f7f; text-decoration-color: #7f7f7f\">NULL</span>                         │ <span style=\"color: #7f7f7f; text-decoration-color: #7f7f7f\">NULL</span>                                                                                   │\n",
       "│ <span style=\"color: #008000; text-decoration-color: #008000\">57bd5be5498e99415bca300b</span> │ <span style=\"color: #008000; text-decoration-color: #008000\">на яхте in dubai                        </span> │ <span style=\"color: #008080; text-decoration-color: #008080; font-weight: bold\">25.076424</span> │   <span style=\"color: #008080; text-decoration-color: #008080; font-weight: bold\">55.141186</span> │ <span style=\"color: #7f7f7f; text-decoration-color: #7f7f7f\">NULL</span>                  │ <span style=\"color: #7f7f7f; text-decoration-color: #7f7f7f\">NULL</span>                  │ <span style=\"color: #7f7f7f; text-decoration-color: #7f7f7f\">NULL</span>          │ <span style=\"color: #7f7f7f; text-decoration-color: #7f7f7f\">NULL</span>     │ <span style=\"color: #7f7f7f; text-decoration-color: #7f7f7f\">NULL</span>         │ <span style=\"color: #7f7f7f; text-decoration-color: #7f7f7f\">NULL</span>      │ <span style=\"color: #7f7f7f; text-decoration-color: #7f7f7f\">NULL</span>   │ <span style=\"color: #008000; text-decoration-color: #008000\">AE     </span> │ <span style=\"color: #008000; text-decoration-color: #008000\">2016-08-24  </span> │ <span style=\"color: #008000; text-decoration-color: #008000\">2023-06-15    </span> │ <span style=\"color: #008000; text-decoration-color: #008000\">2017-08-01 </span> │ <span style=\"color: #7f7f7f; text-decoration-color: #7f7f7f\">NULL</span>           │ <span style=\"color: #7f7f7f; text-decoration-color: #7f7f7f\">NULL</span>                            │ <span style=\"color: #7f7f7f; text-decoration-color: #7f7f7f\">NULL</span>                                    │             <span style=\"color: #7f7f7f; text-decoration-color: #7f7f7f\">NULL</span> │ <span style=\"color: #7f7f7f; text-decoration-color: #7f7f7f\">NULL</span>      │ <span style=\"color: #7f7f7f; text-decoration-color: #7f7f7f\">NULL</span>    │ <span style=\"font-weight: bold\">[</span><span style=\"color: #008000; text-decoration-color: #008000\">'4d4b7104d754a06370d81259'</span><span style=\"font-weight: bold\">]</span> │ <span style=\"font-weight: bold\">[</span><span style=\"color: #008000; text-decoration-color: #008000\">'Arts and Entertainment'</span><span style=\"font-weight: bold\">]</span>                                                             │\n",
       "│ <span style=\"color: #008000; text-decoration-color: #008000\">59455dc74ce06616d26977f8</span> │ <span style=\"color: #008000; text-decoration-color: #008000\">Коло                                    </span> │ <span style=\"color: #008080; text-decoration-color: #008080; font-weight: bold\">50.466065</span> │   <span style=\"color: #008080; text-decoration-color: #008080; font-weight: bold\">30.523680</span> │ <span style=\"color: #008000; text-decoration-color: #008000\">вул. Іллінська, 20   </span> │ <span style=\"color: #008000; text-decoration-color: #008000\">Kiev                 </span> │ <span style=\"color: #008000; text-decoration-color: #008000\">Kyiv city    </span> │ <span style=\"color: #008000; text-decoration-color: #008000\">04070   </span> │ <span style=\"color: #7f7f7f; text-decoration-color: #7f7f7f\">NULL</span>         │ <span style=\"color: #7f7f7f; text-decoration-color: #7f7f7f\">NULL</span>      │ <span style=\"color: #7f7f7f; text-decoration-color: #7f7f7f\">NULL</span>   │ <span style=\"color: #008000; text-decoration-color: #008000\">UA     </span> │ <span style=\"color: #008000; text-decoration-color: #008000\">2017-06-17  </span> │ <span style=\"color: #008000; text-decoration-color: #008000\">2021-08-14    </span> │ <span style=\"color: #008000; text-decoration-color: #008000\">2020-09-19 </span> │ <span style=\"color: #008000; text-decoration-color: #008000\">098 756 4513  </span> │ <span style=\"color: #7f7f7f; text-decoration-color: #7f7f7f\">NULL</span>                            │ <span style=\"color: #7f7f7f; text-decoration-color: #7f7f7f\">NULL</span>                                    │ <span style=\"color: #008080; text-decoration-color: #008080; font-weight: bold\">1742175026098149</span> │ <span style=\"color: #7f7f7f; text-decoration-color: #7f7f7f\">NULL</span>      │ <span style=\"color: #7f7f7f; text-decoration-color: #7f7f7f\">NULL</span>    │ <span style=\"font-weight: bold\">[</span><span style=\"color: #008000; text-decoration-color: #008000\">'4bf58dd8d48988d1d3941735'</span><span style=\"font-weight: bold\">]</span> │ <span style=\"font-weight: bold\">[</span><span style=\"color: #008000; text-decoration-color: #008000\">'Dining and Drinking &gt; Restaurant &gt; Vegan and Vegetarian Restaurant'</span><span style=\"font-weight: bold\">]</span>                 │\n",
       "│ <span style=\"color: #008000; text-decoration-color: #008000\">51b4638c498e87bc8e05026c</span> │ <span style=\"color: #008000; text-decoration-color: #008000\">Sinar Minang                            </span> │ <span style=\"color: #008080; text-decoration-color: #008080; font-weight: bold\">-6.144867</span> │  <span style=\"color: #008080; text-decoration-color: #008080; font-weight: bold\">106.834363</span> │ <span style=\"color: #7f7f7f; text-decoration-color: #7f7f7f\">NULL</span>                  │ <span style=\"color: #7f7f7f; text-decoration-color: #7f7f7f\">NULL</span>                  │ <span style=\"color: #7f7f7f; text-decoration-color: #7f7f7f\">NULL</span>          │ <span style=\"color: #7f7f7f; text-decoration-color: #7f7f7f\">NULL</span>     │ <span style=\"color: #7f7f7f; text-decoration-color: #7f7f7f\">NULL</span>         │ <span style=\"color: #7f7f7f; text-decoration-color: #7f7f7f\">NULL</span>      │ <span style=\"color: #7f7f7f; text-decoration-color: #7f7f7f\">NULL</span>   │ <span style=\"color: #008000; text-decoration-color: #008000\">ID     </span> │ <span style=\"color: #008000; text-decoration-color: #008000\">2013-06-09  </span> │ <span style=\"color: #008000; text-decoration-color: #008000\">2024-07-16    </span> │ <span style=\"color: #7f7f7f; text-decoration-color: #7f7f7f\">NULL</span>        │ <span style=\"color: #7f7f7f; text-decoration-color: #7f7f7f\">NULL</span>           │ <span style=\"color: #7f7f7f; text-decoration-color: #7f7f7f\">NULL</span>                            │ <span style=\"color: #7f7f7f; text-decoration-color: #7f7f7f\">NULL</span>                                    │             <span style=\"color: #7f7f7f; text-decoration-color: #7f7f7f\">NULL</span> │ <span style=\"color: #7f7f7f; text-decoration-color: #7f7f7f\">NULL</span>      │ <span style=\"color: #7f7f7f; text-decoration-color: #7f7f7f\">NULL</span>    │ <span style=\"font-weight: bold\">[</span><span style=\"color: #008000; text-decoration-color: #008000\">'4bf58dd8d48988d142941735'</span><span style=\"font-weight: bold\">]</span> │ <span style=\"font-weight: bold\">[</span><span style=\"color: #008000; text-decoration-color: #008000\">'Dining and Drinking &gt; Restaurant &gt; Asian Restaurant'</span><span style=\"font-weight: bold\">]</span>                                │\n",
       "└──────────────────────────┴──────────────────────────────────────────┴───────────┴─────────────┴───────────────────────┴───────────────────────┴───────────────┴──────────┴──────────────┴───────────┴────────┴─────────┴──────────────┴────────────────┴─────────────┴────────────────┴─────────────────────────────────┴─────────────────────────────────────────┴──────────────────┴───────────┴─────────┴──────────────────────────────┴────────────────────────────────────────────────────────────────────────────────────────┘\n",
       "</pre>\n"
      ],
      "text/plain": [
       "┏━━━━━━━━━━━━━━━━━━━━━━━━━━┳━━━━━━━━━━━━━━━━━━━━━━━━━━━━━━━━━━━━━━━━━━┳━━━━━━━━━━━┳━━━━━━━━━━━━━┳━━━━━━━━━━━━━━━━━━━━━━━┳━━━━━━━━━━━━━━━━━━━━━━━┳━━━━━━━━━━━━━━━┳━━━━━━━━━━┳━━━━━━━━━━━━━━┳━━━━━━━━━━━┳━━━━━━━━┳━━━━━━━━━┳━━━━━━━━━━━━━━┳━━━━━━━━━━━━━━━━┳━━━━━━━━━━━━━┳━━━━━━━━━━━━━━━━┳━━━━━━━━━━━━━━━━━━━━━━━━━━━━━━━━━┳━━━━━━━━━━━━━━━━━━━━━━━━━━━━━━━━━━━━━━━━━┳━━━━━━━━━━━━━━━━━━┳━━━━━━━━━━━┳━━━━━━━━━┳━━━━━━━━━━━━━━━━━━━━━━━━━━━━━━┳━━━━━━━━━━━━━━━━━━━━━━━━━━━━━━━━━━━━━━━━━━━━━━━━━━━━━━━━━━━━━━━━━━━━━━━━━━━━━━━━━━━━━━━━┓\n",
       "┃\u001b[1m \u001b[0m\u001b[1mfsq_place_id\u001b[0m\u001b[1m            \u001b[0m\u001b[1m \u001b[0m┃\u001b[1m \u001b[0m\u001b[1mname\u001b[0m\u001b[1m                                    \u001b[0m\u001b[1m \u001b[0m┃\u001b[1m \u001b[0m\u001b[1mlatitude\u001b[0m\u001b[1m \u001b[0m\u001b[1m \u001b[0m┃\u001b[1m \u001b[0m\u001b[1mlongitude\u001b[0m\u001b[1m  \u001b[0m\u001b[1m \u001b[0m┃\u001b[1m \u001b[0m\u001b[1maddress\u001b[0m\u001b[1m              \u001b[0m\u001b[1m \u001b[0m┃\u001b[1m \u001b[0m\u001b[1mlocality\u001b[0m\u001b[1m             \u001b[0m\u001b[1m \u001b[0m┃\u001b[1m \u001b[0m\u001b[1mregion\u001b[0m\u001b[1m       \u001b[0m\u001b[1m \u001b[0m┃\u001b[1m \u001b[0m\u001b[1mpostcode\u001b[0m\u001b[1m \u001b[0m┃\u001b[1m \u001b[0m\u001b[1madmin_region\u001b[0m\u001b[1m \u001b[0m┃\u001b[1m \u001b[0m\u001b[1mpost_town\u001b[0m\u001b[1m \u001b[0m┃\u001b[1m \u001b[0m\u001b[1mpo_box\u001b[0m\u001b[1m \u001b[0m┃\u001b[1m \u001b[0m\u001b[1mcountry\u001b[0m\u001b[1m \u001b[0m┃\u001b[1m \u001b[0m\u001b[1mdate_created\u001b[0m\u001b[1m \u001b[0m┃\u001b[1m \u001b[0m\u001b[1mdate_refreshed\u001b[0m\u001b[1m \u001b[0m┃\u001b[1m \u001b[0m\u001b[1mdate_closed\u001b[0m\u001b[1m \u001b[0m┃\u001b[1m \u001b[0m\u001b[1mtel\u001b[0m\u001b[1m           \u001b[0m\u001b[1m \u001b[0m┃\u001b[1m \u001b[0m\u001b[1mwebsite\u001b[0m\u001b[1m                        \u001b[0m\u001b[1m \u001b[0m┃\u001b[1m \u001b[0m\u001b[1memail\u001b[0m\u001b[1m                                  \u001b[0m\u001b[1m \u001b[0m┃\u001b[1m \u001b[0m\u001b[1mfacebook_id\u001b[0m\u001b[1m     \u001b[0m\u001b[1m \u001b[0m┃\u001b[1m \u001b[0m\u001b[1minstagram\u001b[0m\u001b[1m \u001b[0m┃\u001b[1m \u001b[0m\u001b[1mtwitter\u001b[0m\u001b[1m \u001b[0m┃\u001b[1m \u001b[0m\u001b[1mfsq_category_ids\u001b[0m\u001b[1m            \u001b[0m\u001b[1m \u001b[0m┃\u001b[1m \u001b[0m\u001b[1mfsq_category_labels\u001b[0m\u001b[1m                                                                   \u001b[0m\u001b[1m \u001b[0m┃\n",
       "┡━━━━━━━━━━━━━━━━━━━━━━━━━━╇━━━━━━━━━━━━━━━━━━━━━━━━━━━━━━━━━━━━━━━━━━╇━━━━━━━━━━━╇━━━━━━━━━━━━━╇━━━━━━━━━━━━━━━━━━━━━━━╇━━━━━━━━━━━━━━━━━━━━━━━╇━━━━━━━━━━━━━━━╇━━━━━━━━━━╇━━━━━━━━━━━━━━╇━━━━━━━━━━━╇━━━━━━━━╇━━━━━━━━━╇━━━━━━━━━━━━━━╇━━━━━━━━━━━━━━━━╇━━━━━━━━━━━━━╇━━━━━━━━━━━━━━━━╇━━━━━━━━━━━━━━━━━━━━━━━━━━━━━━━━━╇━━━━━━━━━━━━━━━━━━━━━━━━━━━━━━━━━━━━━━━━━╇━━━━━━━━━━━━━━━━━━╇━━━━━━━━━━━╇━━━━━━━━━╇━━━━━━━━━━━━━━━━━━━━━━━━━━━━━━╇━━━━━━━━━━━━━━━━━━━━━━━━━━━━━━━━━━━━━━━━━━━━━━━━━━━━━━━━━━━━━━━━━━━━━━━━━━━━━━━━━━━━━━━━┩\n",
       "│ \u001b[2mstring\u001b[0m                   │ \u001b[2mstring\u001b[0m                                   │ \u001b[2mfloat64\u001b[0m   │ \u001b[2mfloat64\u001b[0m     │ \u001b[2mstring\u001b[0m                │ \u001b[2mstring\u001b[0m                │ \u001b[2mstring\u001b[0m        │ \u001b[2mstring\u001b[0m   │ \u001b[2mstring\u001b[0m       │ \u001b[2mstring\u001b[0m    │ \u001b[2mstring\u001b[0m │ \u001b[2mstring\u001b[0m  │ \u001b[2mstring\u001b[0m       │ \u001b[2mstring\u001b[0m         │ \u001b[2mstring\u001b[0m      │ \u001b[2mstring\u001b[0m         │ \u001b[2mstring\u001b[0m                          │ \u001b[2mstring\u001b[0m                                  │ \u001b[2mint64\u001b[0m            │ \u001b[2mstring\u001b[0m    │ \u001b[2mstring\u001b[0m  │ \u001b[2marray<string>\u001b[0m                │ \u001b[2marray<string>\u001b[0m                                                                          │\n",
       "├──────────────────────────┼──────────────────────────────────────────┼───────────┼─────────────┼───────────────────────┼───────────────────────┼───────────────┼──────────┼──────────────┼───────────┼────────┼─────────┼──────────────┼────────────────┼─────────────┼────────────────┼─────────────────────────────────┼─────────────────────────────────────────┼──────────────────┼───────────┼─────────┼──────────────────────────────┼────────────────────────────────────────────────────────────────────────────────────────┤\n",
       "│ \u001b[32m4aee4d4688a04abe82d1ace4\u001b[0m │ \u001b[32mCanada House                            \u001b[0m │ \u001b[1;36m41.781153\u001b[0m │    \u001b[1;36m3.029574\u001b[0m │ \u001b[32mAnselm Clavé, 16 Bajo\u001b[0m │ \u001b[32mSant Feliu de Guíxols\u001b[0m │ \u001b[32mGerona       \u001b[0m │ \u001b[32m17220   \u001b[0m │ \u001b[32mCataluña    \u001b[0m │ \u001b[2mNULL\u001b[0m      │ \u001b[2mNULL\u001b[0m   │ \u001b[32mES     \u001b[0m │ \u001b[32m2010-05-09  \u001b[0m │ \u001b[32m2024-06-14    \u001b[0m │ \u001b[2mNULL\u001b[0m        │ \u001b[32m972 32 45 54  \u001b[0m │ \u001b]8;id=647966;http://www.canadahouse.es\u001b\\\u001b[32mhttp://www.canadahouse.es\u001b[0m\u001b]8;;\u001b\\\u001b[32m      \u001b[0m │ \u001b[2mNULL\u001b[0m                                    │             \u001b[2mNULL\u001b[0m │ \u001b[2mNULL\u001b[0m      │ \u001b[2mNULL\u001b[0m    │ \u001b[1m[\u001b[0m\u001b[32m'4bf58dd8d48988d103951735'\u001b[0m\u001b[1m]\u001b[0m │ \u001b[1m[\u001b[0m\u001b[32m'Retail > Fashion Retail > Clothing Store'\u001b[0m\u001b[1m]\u001b[0m                                           │\n",
       "│ \u001b[32mcb57d89eed29405b908b0b6e\u001b[0m │ \u001b[32mFotos. Zakład fotograficzny. Głowacka T.\u001b[0m │ \u001b[1;36m52.192667\u001b[0m │   \u001b[1;36m18.633436\u001b[0m │ \u001b[32mMickiewicza 8        \u001b[0m │ \u001b[32mKoło                 \u001b[0m │ \u001b[32mWielkopolskie\u001b[0m │ \u001b[32m62-600  \u001b[0m │ \u001b[2mNULL\u001b[0m         │ \u001b[2mNULL\u001b[0m      │ \u001b[2mNULL\u001b[0m   │ \u001b[32mPL     \u001b[0m │ \u001b[32m2015-05-06  \u001b[0m │ \u001b[32m2024-06-27    \u001b[0m │ \u001b[2mNULL\u001b[0m        │ \u001b[32m63 272 08 68  \u001b[0m │ \u001b[2mNULL\u001b[0m                            │ \u001b[32mteresa.glowacka.fotos.kolo@neostrada.pl\u001b[0m │             \u001b[2mNULL\u001b[0m │ \u001b[2mNULL\u001b[0m      │ \u001b[2mNULL\u001b[0m    │ \u001b[1m[\u001b[0m\u001b[32m'4d4b7105d754a06378d81259'\u001b[0m\u001b[1m]\u001b[0m │ \u001b[1m[\u001b[0m\u001b[32m'Retail'\u001b[0m\u001b[1m]\u001b[0m                                                                             │\n",
       "│ \u001b[32m59a4553d112c6c2b6c378e08\u001b[0m │ \u001b[32mCoHo                                    \u001b[0m │ \u001b[1;36m40.774559\u001b[0m │  \u001b[1;36m-73.871849\u001b[0m │ \u001b[2mNULL\u001b[0m                  │ \u001b[32mNew York             \u001b[0m │ \u001b[32mNY           \u001b[0m │ \u001b[32m11371   \u001b[0m │ \u001b[2mNULL\u001b[0m         │ \u001b[2mNULL\u001b[0m      │ \u001b[2mNULL\u001b[0m   │ \u001b[32mUS     \u001b[0m │ \u001b[32m2017-08-28  \u001b[0m │ \u001b[32m2024-10-25    \u001b[0m │ \u001b[32m2019-08-22 \u001b[0m │ \u001b[2mNULL\u001b[0m           │ \u001b[2mNULL\u001b[0m                            │ \u001b[2mNULL\u001b[0m                                    │             \u001b[2mNULL\u001b[0m │ \u001b[2mNULL\u001b[0m      │ \u001b[2mNULL\u001b[0m    │ \u001b[1m[\u001b[0m\u001b[32m'4bf58dd8d48988d110941735'\u001b[0m\u001b[1m]\u001b[0m │ \u001b[1m[\u001b[0m\u001b[32m'Dining and Drinking > Restaurant > Italian Restaurant'\u001b[0m\u001b[1m]\u001b[0m                              │\n",
       "│ \u001b[32m4bea3677415e20a110d8e4bb\u001b[0m │ \u001b[32mBisma lounge                            \u001b[0m │ \u001b[1;36m-6.134262\u001b[0m │  \u001b[1;36m106.864683\u001b[0m │ \u001b[32mBisma75              \u001b[0m │ \u001b[32mSunter city          \u001b[0m │ \u001b[32mJakarta utara\u001b[0m │ \u001b[2mNULL\u001b[0m     │ \u001b[2mNULL\u001b[0m         │ \u001b[2mNULL\u001b[0m      │ \u001b[2mNULL\u001b[0m   │ \u001b[32mID     \u001b[0m │ \u001b[32m2010-05-12  \u001b[0m │ \u001b[32m2024-07-15    \u001b[0m │ \u001b[2mNULL\u001b[0m        │ \u001b[2mNULL\u001b[0m           │ \u001b[2mNULL\u001b[0m                            │ \u001b[2mNULL\u001b[0m                                    │             \u001b[2mNULL\u001b[0m │ \u001b[2mNULL\u001b[0m      │ \u001b[2mNULL\u001b[0m    │ \u001b[2mNULL\u001b[0m                         │ \u001b[2mNULL\u001b[0m                                                                                   │\n",
       "│ \u001b[32mdca3aeba404e4b6006620a46\u001b[0m │ \u001b[32mGrace Motorworks                        \u001b[0m │ \u001b[1;36m34.180992\u001b[0m │ \u001b[1;36m-118.537669\u001b[0m │ \u001b[32m18545 Topham St Ste C\u001b[0m │ \u001b[32mTarzana              \u001b[0m │ \u001b[32mCA           \u001b[0m │ \u001b[32m91335   \u001b[0m │ \u001b[2mNULL\u001b[0m         │ \u001b[2mNULL\u001b[0m      │ \u001b[2mNULL\u001b[0m   │ \u001b[32mUS     \u001b[0m │ \u001b[32m2012-05-21  \u001b[0m │ \u001b[32m2024-10-12    \u001b[0m │ \u001b[2mNULL\u001b[0m        │ \u001b[32m(818) 881-0181\u001b[0m │ \u001b]8;id=876092;http://gracemotorworks.bzfs.com\u001b\\\u001b[32mhttp://gracemotorworks.bzfs.com\u001b[0m\u001b]8;;\u001b\\ │ \u001b[2mNULL\u001b[0m                                    │             \u001b[2mNULL\u001b[0m │ \u001b[2mNULL\u001b[0m      │ \u001b[2mNULL\u001b[0m    │ \u001b[1m[\u001b[0m\u001b[32m'52f2ab2ebcbc57f1066b8b44'\u001b[0m\u001b[1m]\u001b[0m │ \u001b[1m[\u001b[0m\u001b[32m'Business and Professional Services > Automotive Service > Automotive Repair Shop'\u001b[0m\u001b[1m]\u001b[0m   │\n",
       "│ \u001b[32m505a6a8be4b066ff885b3204\u001b[0m │ \u001b[32m沖縄海邦銀行 国頭支店                   \u001b[0m │ \u001b[1;36m26.732990\u001b[0m │  \u001b[1;36m128.203686\u001b[0m │ \u001b[32m辺土名130            \u001b[0m │ \u001b[32m国頭郡国頭村         \u001b[0m │ \u001b[32m沖縄県       \u001b[0m │ \u001b[2mNULL\u001b[0m     │ \u001b[2mNULL\u001b[0m         │ \u001b[2mNULL\u001b[0m      │ \u001b[2mNULL\u001b[0m   │ \u001b[32mJP     \u001b[0m │ \u001b[32m2012-09-20  \u001b[0m │ \u001b[32m2024-08-07    \u001b[0m │ \u001b[2mNULL\u001b[0m        │ \u001b[32m0980-41-2207  \u001b[0m │ \u001b[2mNULL\u001b[0m                            │ \u001b[2mNULL\u001b[0m                                    │             \u001b[2mNULL\u001b[0m │ \u001b[2mNULL\u001b[0m      │ \u001b[2mNULL\u001b[0m    │ \u001b[1m[\u001b[0m\u001b[32m'4bf58dd8d48988d10a951735'\u001b[0m\u001b[1m]\u001b[0m │ \u001b[1m[\u001b[0m\u001b[32m'Business and Professional Services > Financial Service > Banking and Finance > B'\u001b[0m+\u001b[1;36m3\u001b[0m\u001b[1m]\u001b[0m │\n",
       "│ \u001b[32m542609ee498e58df0895fdc3\u001b[0m │ \u001b[32mDungklepu                               \u001b[0m │ \u001b[1;36m-8.078449\u001b[0m │  \u001b[1;36m110.854409\u001b[0m │ \u001b[2mNULL\u001b[0m                  │ \u001b[2mNULL\u001b[0m                  │ \u001b[2mNULL\u001b[0m          │ \u001b[2mNULL\u001b[0m     │ \u001b[2mNULL\u001b[0m         │ \u001b[2mNULL\u001b[0m      │ \u001b[2mNULL\u001b[0m   │ \u001b[32mID     \u001b[0m │ \u001b[32m2014-09-27  \u001b[0m │ \u001b[32m2024-07-16    \u001b[0m │ \u001b[2mNULL\u001b[0m        │ \u001b[2mNULL\u001b[0m           │ \u001b[2mNULL\u001b[0m                            │ \u001b[2mNULL\u001b[0m                                    │             \u001b[2mNULL\u001b[0m │ \u001b[2mNULL\u001b[0m      │ \u001b[2mNULL\u001b[0m    │ \u001b[2mNULL\u001b[0m                         │ \u001b[2mNULL\u001b[0m                                                                                   │\n",
       "│ \u001b[32m57bd5be5498e99415bca300b\u001b[0m │ \u001b[32mна яхте in dubai                        \u001b[0m │ \u001b[1;36m25.076424\u001b[0m │   \u001b[1;36m55.141186\u001b[0m │ \u001b[2mNULL\u001b[0m                  │ \u001b[2mNULL\u001b[0m                  │ \u001b[2mNULL\u001b[0m          │ \u001b[2mNULL\u001b[0m     │ \u001b[2mNULL\u001b[0m         │ \u001b[2mNULL\u001b[0m      │ \u001b[2mNULL\u001b[0m   │ \u001b[32mAE     \u001b[0m │ \u001b[32m2016-08-24  \u001b[0m │ \u001b[32m2023-06-15    \u001b[0m │ \u001b[32m2017-08-01 \u001b[0m │ \u001b[2mNULL\u001b[0m           │ \u001b[2mNULL\u001b[0m                            │ \u001b[2mNULL\u001b[0m                                    │             \u001b[2mNULL\u001b[0m │ \u001b[2mNULL\u001b[0m      │ \u001b[2mNULL\u001b[0m    │ \u001b[1m[\u001b[0m\u001b[32m'4d4b7104d754a06370d81259'\u001b[0m\u001b[1m]\u001b[0m │ \u001b[1m[\u001b[0m\u001b[32m'Arts and Entertainment'\u001b[0m\u001b[1m]\u001b[0m                                                             │\n",
       "│ \u001b[32m59455dc74ce06616d26977f8\u001b[0m │ \u001b[32mКоло                                    \u001b[0m │ \u001b[1;36m50.466065\u001b[0m │   \u001b[1;36m30.523680\u001b[0m │ \u001b[32mвул. Іллінська, 20   \u001b[0m │ \u001b[32mKiev                 \u001b[0m │ \u001b[32mKyiv city    \u001b[0m │ \u001b[32m04070   \u001b[0m │ \u001b[2mNULL\u001b[0m         │ \u001b[2mNULL\u001b[0m      │ \u001b[2mNULL\u001b[0m   │ \u001b[32mUA     \u001b[0m │ \u001b[32m2017-06-17  \u001b[0m │ \u001b[32m2021-08-14    \u001b[0m │ \u001b[32m2020-09-19 \u001b[0m │ \u001b[32m098 756 4513  \u001b[0m │ \u001b[2mNULL\u001b[0m                            │ \u001b[2mNULL\u001b[0m                                    │ \u001b[1;36m1742175026098149\u001b[0m │ \u001b[2mNULL\u001b[0m      │ \u001b[2mNULL\u001b[0m    │ \u001b[1m[\u001b[0m\u001b[32m'4bf58dd8d48988d1d3941735'\u001b[0m\u001b[1m]\u001b[0m │ \u001b[1m[\u001b[0m\u001b[32m'Dining and Drinking > Restaurant > Vegan and Vegetarian Restaurant'\u001b[0m\u001b[1m]\u001b[0m                 │\n",
       "│ \u001b[32m51b4638c498e87bc8e05026c\u001b[0m │ \u001b[32mSinar Minang                            \u001b[0m │ \u001b[1;36m-6.144867\u001b[0m │  \u001b[1;36m106.834363\u001b[0m │ \u001b[2mNULL\u001b[0m                  │ \u001b[2mNULL\u001b[0m                  │ \u001b[2mNULL\u001b[0m          │ \u001b[2mNULL\u001b[0m     │ \u001b[2mNULL\u001b[0m         │ \u001b[2mNULL\u001b[0m      │ \u001b[2mNULL\u001b[0m   │ \u001b[32mID     \u001b[0m │ \u001b[32m2013-06-09  \u001b[0m │ \u001b[32m2024-07-16    \u001b[0m │ \u001b[2mNULL\u001b[0m        │ \u001b[2mNULL\u001b[0m           │ \u001b[2mNULL\u001b[0m                            │ \u001b[2mNULL\u001b[0m                                    │             \u001b[2mNULL\u001b[0m │ \u001b[2mNULL\u001b[0m      │ \u001b[2mNULL\u001b[0m    │ \u001b[1m[\u001b[0m\u001b[32m'4bf58dd8d48988d142941735'\u001b[0m\u001b[1m]\u001b[0m │ \u001b[1m[\u001b[0m\u001b[32m'Dining and Drinking > Restaurant > Asian Restaurant'\u001b[0m\u001b[1m]\u001b[0m                                │\n",
       "└──────────────────────────┴──────────────────────────────────────────┴───────────┴─────────────┴───────────────────────┴───────────────────────┴───────────────┴──────────┴──────────────┴───────────┴────────┴─────────┴──────────────┴────────────────┴─────────────┴────────────────┴─────────────────────────────────┴─────────────────────────────────────────┴──────────────────┴───────────┴─────────┴──────────────────────────────┴────────────────────────────────────────────────────────────────────────────────────────┘"
      ]
     },
     "execution_count": 8,
     "metadata": {},
     "output_type": "execute_result"
    }
   ],
   "source": [
    "places.head(10)"
   ]
  },
  {
   "cell_type": "code",
   "execution_count": 9,
   "metadata": {},
   "outputs": [],
   "source": [
    "places = places.filter(\n",
    "    _.longitude>map_limits[0],\n",
    "    _.latitude>map_limits[1],\n",
    "    _.longitude<map_limits[2],\n",
    "    _.latitude<map_limits[3],\n",
    "    )"
   ]
  },
  {
   "cell_type": "code",
   "execution_count": 10,
   "metadata": {},
   "outputs": [
    {
     "data": {
      "text/plain": [
       "['fsq_place_id',\n",
       " 'name',\n",
       " 'latitude',\n",
       " 'longitude',\n",
       " 'address',\n",
       " 'locality',\n",
       " 'region',\n",
       " 'postcode',\n",
       " 'admin_region',\n",
       " 'post_town',\n",
       " 'po_box',\n",
       " 'country',\n",
       " 'date_created',\n",
       " 'date_refreshed',\n",
       " 'date_closed',\n",
       " 'tel',\n",
       " 'website',\n",
       " 'email',\n",
       " 'facebook_id',\n",
       " 'instagram',\n",
       " 'twitter',\n",
       " 'fsq_category_ids',\n",
       " 'fsq_category_labels']"
      ]
     },
     "execution_count": 10,
     "metadata": {},
     "output_type": "execute_result"
    }
   ],
   "source": [
    "places.columns"
   ]
  },
  {
   "cell_type": "code",
   "execution_count": 11,
   "metadata": {},
   "outputs": [],
   "source": [
    "places = places.select(\"fsq_place_id\",\"name\",\"latitude\",\"longitude\",\"locality\",\"region\",\"country\",\"fsq_category_ids\",\"fsq_category_labels\")"
   ]
  },
  {
   "cell_type": "code",
   "execution_count": 12,
   "metadata": {},
   "outputs": [],
   "source": [
    "# ib.to_sql(places)"
   ]
  },
  {
   "cell_type": "code",
   "execution_count": 13,
   "metadata": {},
   "outputs": [],
   "source": [
    "h3_res = 5"
   ]
  },
  {
   "cell_type": "code",
   "execution_count": null,
   "metadata": {},
   "outputs": [
    {
     "name": "stdout",
     "output_type": "stream",
     "text": [
      "Assuming coordinates columns ('longitude','latitude')\n"
     ]
    },
    {
     "data": {
      "text/html": [
       "<pre style=\"white-space:pre;overflow-x:auto;line-height:normal;font-family:Menlo,'DejaVu Sans Mono',consolas,'Courier New',monospace\">┏━━━━━━━━━━━━━━━━━━━━━━━━━━┳━━━━━━━━━━━━━━━━━━━━━━━━━━━━━━━━━━━━━━━━━━┳━━━━━━━━━━━┳━━━━━━━━━━━━━┳━━━━━━━━━━━━━━━━━━━━━━━┳━━━━━━━━━━━━━━━┳━━━━━━━━━┳━━━━━━━━━━━━━━━━━━━━━━━━━━━━━━┳━━━━━━━━━━━━━━━━━━━━━━━━━━━━━━━━━━━━━━━━━━━━━━━━━━━━━━━━━━━━━━━━━━━━━━━━━━━━━━━━━━━━━━┳━━━━━━━━━━━━━━━━━┓\n",
       "┃<span style=\"font-weight: bold\"> fsq_place_id             </span>┃<span style=\"font-weight: bold\"> name                                     </span>┃<span style=\"font-weight: bold\"> latitude  </span>┃<span style=\"font-weight: bold\"> longitude   </span>┃<span style=\"font-weight: bold\"> locality              </span>┃<span style=\"font-weight: bold\"> region        </span>┃<span style=\"font-weight: bold\"> country </span>┃<span style=\"font-weight: bold\"> fsq_category_ids             </span>┃<span style=\"font-weight: bold\"> fsq_category_labels                                                                  </span>┃<span style=\"font-weight: bold\"> h3_id           </span>┃\n",
       "┡━━━━━━━━━━━━━━━━━━━━━━━━━━╇━━━━━━━━━━━━━━━━━━━━━━━━━━━━━━━━━━━━━━━━━━╇━━━━━━━━━━━╇━━━━━━━━━━━━━╇━━━━━━━━━━━━━━━━━━━━━━━╇━━━━━━━━━━━━━━━╇━━━━━━━━━╇━━━━━━━━━━━━━━━━━━━━━━━━━━━━━━╇━━━━━━━━━━━━━━━━━━━━━━━━━━━━━━━━━━━━━━━━━━━━━━━━━━━━━━━━━━━━━━━━━━━━━━━━━━━━━━━━━━━━━━╇━━━━━━━━━━━━━━━━━┩\n",
       "│ <span style=\"color: #7f7f7f; text-decoration-color: #7f7f7f\">string</span>                   │ <span style=\"color: #7f7f7f; text-decoration-color: #7f7f7f\">string</span>                                   │ <span style=\"color: #7f7f7f; text-decoration-color: #7f7f7f\">float64</span>   │ <span style=\"color: #7f7f7f; text-decoration-color: #7f7f7f\">float64</span>     │ <span style=\"color: #7f7f7f; text-decoration-color: #7f7f7f\">string</span>                │ <span style=\"color: #7f7f7f; text-decoration-color: #7f7f7f\">string</span>        │ <span style=\"color: #7f7f7f; text-decoration-color: #7f7f7f\">string</span>  │ <span style=\"color: #7f7f7f; text-decoration-color: #7f7f7f\">array&lt;string&gt;</span>                │ <span style=\"color: #7f7f7f; text-decoration-color: #7f7f7f\">array&lt;string&gt;</span>                                                                        │ <span style=\"color: #7f7f7f; text-decoration-color: #7f7f7f\">string</span>          │\n",
       "├──────────────────────────┼──────────────────────────────────────────┼───────────┼─────────────┼───────────────────────┼───────────────┼─────────┼──────────────────────────────┼──────────────────────────────────────────────────────────────────────────────────────┼─────────────────┤\n",
       "│ <span style=\"color: #008000; text-decoration-color: #008000\">4aee4d4688a04abe82d1ace4</span> │ <span style=\"color: #008000; text-decoration-color: #008000\">Canada House                            </span> │ <span style=\"color: #008080; text-decoration-color: #008080; font-weight: bold\">41.781153</span> │    <span style=\"color: #008080; text-decoration-color: #008080; font-weight: bold\">3.029574</span> │ <span style=\"color: #008000; text-decoration-color: #008000\">Sant Feliu de Guíxols</span> │ <span style=\"color: #008000; text-decoration-color: #008000\">Gerona       </span> │ <span style=\"color: #008000; text-decoration-color: #008000\">ES     </span> │ <span style=\"font-weight: bold\">[</span><span style=\"color: #008000; text-decoration-color: #008000\">'4bf58dd8d48988d103951735'</span><span style=\"font-weight: bold\">]</span> │ <span style=\"font-weight: bold\">[</span><span style=\"color: #008000; text-decoration-color: #008000\">'Retail &gt; Fashion Retail &gt; Clothing Store'</span><span style=\"font-weight: bold\">]</span>                                         │ <span style=\"color: #008000; text-decoration-color: #008000\">85394557fffffff</span> │\n",
       "│ <span style=\"color: #008000; text-decoration-color: #008000\">cb57d89eed29405b908b0b6e</span> │ <span style=\"color: #008000; text-decoration-color: #008000\">Fotos. Zakład fotograficzny. Głowacka T.</span> │ <span style=\"color: #008080; text-decoration-color: #008080; font-weight: bold\">52.192667</span> │   <span style=\"color: #008080; text-decoration-color: #008080; font-weight: bold\">18.633436</span> │ <span style=\"color: #008000; text-decoration-color: #008000\">Koło                 </span> │ <span style=\"color: #008000; text-decoration-color: #008000\">Wielkopolskie</span> │ <span style=\"color: #008000; text-decoration-color: #008000\">PL     </span> │ <span style=\"font-weight: bold\">[</span><span style=\"color: #008000; text-decoration-color: #008000\">'4d4b7105d754a06378d81259'</span><span style=\"font-weight: bold\">]</span> │ <span style=\"font-weight: bold\">[</span><span style=\"color: #008000; text-decoration-color: #008000\">'Retail'</span><span style=\"font-weight: bold\">]</span>                                                                           │ <span style=\"color: #008000; text-decoration-color: #008000\">851e253bfffffff</span> │\n",
       "│ <span style=\"color: #008000; text-decoration-color: #008000\">59a4553d112c6c2b6c378e08</span> │ <span style=\"color: #008000; text-decoration-color: #008000\">CoHo                                    </span> │ <span style=\"color: #008080; text-decoration-color: #008080; font-weight: bold\">40.774559</span> │  <span style=\"color: #008080; text-decoration-color: #008080; font-weight: bold\">-73.871849</span> │ <span style=\"color: #008000; text-decoration-color: #008000\">New York             </span> │ <span style=\"color: #008000; text-decoration-color: #008000\">NY           </span> │ <span style=\"color: #008000; text-decoration-color: #008000\">US     </span> │ <span style=\"font-weight: bold\">[</span><span style=\"color: #008000; text-decoration-color: #008000\">'4bf58dd8d48988d110941735'</span><span style=\"font-weight: bold\">]</span> │ <span style=\"font-weight: bold\">[</span><span style=\"color: #008000; text-decoration-color: #008000\">'Dining and Drinking &gt; Restaurant &gt; Italian Restaurant'</span><span style=\"font-weight: bold\">]</span>                            │ <span style=\"color: #008000; text-decoration-color: #008000\">852a100ffffffff</span> │\n",
       "│ <span style=\"color: #008000; text-decoration-color: #008000\">4bea3677415e20a110d8e4bb</span> │ <span style=\"color: #008000; text-decoration-color: #008000\">Bisma lounge                            </span> │ <span style=\"color: #008080; text-decoration-color: #008080; font-weight: bold\">-6.134262</span> │  <span style=\"color: #008080; text-decoration-color: #008080; font-weight: bold\">106.864683</span> │ <span style=\"color: #008000; text-decoration-color: #008000\">Sunter city          </span> │ <span style=\"color: #008000; text-decoration-color: #008000\">Jakarta utara</span> │ <span style=\"color: #008000; text-decoration-color: #008000\">ID     </span> │ <span style=\"color: #7f7f7f; text-decoration-color: #7f7f7f\">NULL</span>                         │ <span style=\"color: #7f7f7f; text-decoration-color: #7f7f7f\">NULL</span>                                                                                 │ <span style=\"color: #008000; text-decoration-color: #008000\">858c12b7fffffff</span> │\n",
       "│ <span style=\"color: #008000; text-decoration-color: #008000\">dca3aeba404e4b6006620a46</span> │ <span style=\"color: #008000; text-decoration-color: #008000\">Grace Motorworks                        </span> │ <span style=\"color: #008080; text-decoration-color: #008080; font-weight: bold\">34.180992</span> │ <span style=\"color: #008080; text-decoration-color: #008080; font-weight: bold\">-118.537669</span> │ <span style=\"color: #008000; text-decoration-color: #008000\">Tarzana              </span> │ <span style=\"color: #008000; text-decoration-color: #008000\">CA           </span> │ <span style=\"color: #008000; text-decoration-color: #008000\">US     </span> │ <span style=\"font-weight: bold\">[</span><span style=\"color: #008000; text-decoration-color: #008000\">'52f2ab2ebcbc57f1066b8b44'</span><span style=\"font-weight: bold\">]</span> │ <span style=\"font-weight: bold\">[</span><span style=\"color: #008000; text-decoration-color: #008000\">'Business and Professional Services &gt; Automotive Service &gt; Automotive Repair Shop'</span><span style=\"font-weight: bold\">]</span> │ <span style=\"color: #008000; text-decoration-color: #008000\">8529a18bfffffff</span> │\n",
       "└──────────────────────────┴──────────────────────────────────────────┴───────────┴─────────────┴───────────────────────┴───────────────┴─────────┴──────────────────────────────┴──────────────────────────────────────────────────────────────────────────────────────┴─────────────────┘\n",
       "</pre>\n"
      ],
      "text/plain": [
       "┏━━━━━━━━━━━━━━━━━━━━━━━━━━┳━━━━━━━━━━━━━━━━━━━━━━━━━━━━━━━━━━━━━━━━━━┳━━━━━━━━━━━┳━━━━━━━━━━━━━┳━━━━━━━━━━━━━━━━━━━━━━━┳━━━━━━━━━━━━━━━┳━━━━━━━━━┳━━━━━━━━━━━━━━━━━━━━━━━━━━━━━━┳━━━━━━━━━━━━━━━━━━━━━━━━━━━━━━━━━━━━━━━━━━━━━━━━━━━━━━━━━━━━━━━━━━━━━━━━━━━━━━━━━━━━━━┳━━━━━━━━━━━━━━━━━┓\n",
       "┃\u001b[1m \u001b[0m\u001b[1mfsq_place_id\u001b[0m\u001b[1m            \u001b[0m\u001b[1m \u001b[0m┃\u001b[1m \u001b[0m\u001b[1mname\u001b[0m\u001b[1m                                    \u001b[0m\u001b[1m \u001b[0m┃\u001b[1m \u001b[0m\u001b[1mlatitude\u001b[0m\u001b[1m \u001b[0m\u001b[1m \u001b[0m┃\u001b[1m \u001b[0m\u001b[1mlongitude\u001b[0m\u001b[1m  \u001b[0m\u001b[1m \u001b[0m┃\u001b[1m \u001b[0m\u001b[1mlocality\u001b[0m\u001b[1m             \u001b[0m\u001b[1m \u001b[0m┃\u001b[1m \u001b[0m\u001b[1mregion\u001b[0m\u001b[1m       \u001b[0m\u001b[1m \u001b[0m┃\u001b[1m \u001b[0m\u001b[1mcountry\u001b[0m\u001b[1m \u001b[0m┃\u001b[1m \u001b[0m\u001b[1mfsq_category_ids\u001b[0m\u001b[1m            \u001b[0m\u001b[1m \u001b[0m┃\u001b[1m \u001b[0m\u001b[1mfsq_category_labels\u001b[0m\u001b[1m                                                                 \u001b[0m\u001b[1m \u001b[0m┃\u001b[1m \u001b[0m\u001b[1mh3_id\u001b[0m\u001b[1m          \u001b[0m\u001b[1m \u001b[0m┃\n",
       "┡━━━━━━━━━━━━━━━━━━━━━━━━━━╇━━━━━━━━━━━━━━━━━━━━━━━━━━━━━━━━━━━━━━━━━━╇━━━━━━━━━━━╇━━━━━━━━━━━━━╇━━━━━━━━━━━━━━━━━━━━━━━╇━━━━━━━━━━━━━━━╇━━━━━━━━━╇━━━━━━━━━━━━━━━━━━━━━━━━━━━━━━╇━━━━━━━━━━━━━━━━━━━━━━━━━━━━━━━━━━━━━━━━━━━━━━━━━━━━━━━━━━━━━━━━━━━━━━━━━━━━━━━━━━━━━━╇━━━━━━━━━━━━━━━━━┩\n",
       "│ \u001b[2mstring\u001b[0m                   │ \u001b[2mstring\u001b[0m                                   │ \u001b[2mfloat64\u001b[0m   │ \u001b[2mfloat64\u001b[0m     │ \u001b[2mstring\u001b[0m                │ \u001b[2mstring\u001b[0m        │ \u001b[2mstring\u001b[0m  │ \u001b[2marray<string>\u001b[0m                │ \u001b[2marray<string>\u001b[0m                                                                        │ \u001b[2mstring\u001b[0m          │\n",
       "├──────────────────────────┼──────────────────────────────────────────┼───────────┼─────────────┼───────────────────────┼───────────────┼─────────┼──────────────────────────────┼──────────────────────────────────────────────────────────────────────────────────────┼─────────────────┤\n",
       "│ \u001b[32m4aee4d4688a04abe82d1ace4\u001b[0m │ \u001b[32mCanada House                            \u001b[0m │ \u001b[1;36m41.781153\u001b[0m │    \u001b[1;36m3.029574\u001b[0m │ \u001b[32mSant Feliu de Guíxols\u001b[0m │ \u001b[32mGerona       \u001b[0m │ \u001b[32mES     \u001b[0m │ \u001b[1m[\u001b[0m\u001b[32m'4bf58dd8d48988d103951735'\u001b[0m\u001b[1m]\u001b[0m │ \u001b[1m[\u001b[0m\u001b[32m'Retail > Fashion Retail > Clothing Store'\u001b[0m\u001b[1m]\u001b[0m                                         │ \u001b[32m85394557fffffff\u001b[0m │\n",
       "│ \u001b[32mcb57d89eed29405b908b0b6e\u001b[0m │ \u001b[32mFotos. Zakład fotograficzny. Głowacka T.\u001b[0m │ \u001b[1;36m52.192667\u001b[0m │   \u001b[1;36m18.633436\u001b[0m │ \u001b[32mKoło                 \u001b[0m │ \u001b[32mWielkopolskie\u001b[0m │ \u001b[32mPL     \u001b[0m │ \u001b[1m[\u001b[0m\u001b[32m'4d4b7105d754a06378d81259'\u001b[0m\u001b[1m]\u001b[0m │ \u001b[1m[\u001b[0m\u001b[32m'Retail'\u001b[0m\u001b[1m]\u001b[0m                                                                           │ \u001b[32m851e253bfffffff\u001b[0m │\n",
       "│ \u001b[32m59a4553d112c6c2b6c378e08\u001b[0m │ \u001b[32mCoHo                                    \u001b[0m │ \u001b[1;36m40.774559\u001b[0m │  \u001b[1;36m-73.871849\u001b[0m │ \u001b[32mNew York             \u001b[0m │ \u001b[32mNY           \u001b[0m │ \u001b[32mUS     \u001b[0m │ \u001b[1m[\u001b[0m\u001b[32m'4bf58dd8d48988d110941735'\u001b[0m\u001b[1m]\u001b[0m │ \u001b[1m[\u001b[0m\u001b[32m'Dining and Drinking > Restaurant > Italian Restaurant'\u001b[0m\u001b[1m]\u001b[0m                            │ \u001b[32m852a100ffffffff\u001b[0m │\n",
       "│ \u001b[32m4bea3677415e20a110d8e4bb\u001b[0m │ \u001b[32mBisma lounge                            \u001b[0m │ \u001b[1;36m-6.134262\u001b[0m │  \u001b[1;36m106.864683\u001b[0m │ \u001b[32mSunter city          \u001b[0m │ \u001b[32mJakarta utara\u001b[0m │ \u001b[32mID     \u001b[0m │ \u001b[2mNULL\u001b[0m                         │ \u001b[2mNULL\u001b[0m                                                                                 │ \u001b[32m858c12b7fffffff\u001b[0m │\n",
       "│ \u001b[32mdca3aeba404e4b6006620a46\u001b[0m │ \u001b[32mGrace Motorworks                        \u001b[0m │ \u001b[1;36m34.180992\u001b[0m │ \u001b[1;36m-118.537669\u001b[0m │ \u001b[32mTarzana              \u001b[0m │ \u001b[32mCA           \u001b[0m │ \u001b[32mUS     \u001b[0m │ \u001b[1m[\u001b[0m\u001b[32m'52f2ab2ebcbc57f1066b8b44'\u001b[0m\u001b[1m]\u001b[0m │ \u001b[1m[\u001b[0m\u001b[32m'Business and Professional Services > Automotive Service > Automotive Repair Shop'\u001b[0m\u001b[1m]\u001b[0m │ \u001b[32m8529a18bfffffff\u001b[0m │\n",
       "└──────────────────────────┴──────────────────────────────────────────┴───────────┴─────────────┴───────────────────────┴───────────────┴─────────┴──────────────────────────────┴──────────────────────────────────────────────────────────────────────────────────────┴─────────────────┘"
      ]
     },
     "execution_count": 14,
     "metadata": {},
     "output_type": "execute_result"
    }
   ],
   "source": [
    "places_h3 = snoo.h3_project(places,res=h3_res)\n",
    "\n",
    "# \n",
    "# places.alias(\"b\").sql(f\"\"\"\n",
    "# Select *, h3_h3_to_string(h3_latlng_to_cell(latitude,longitude,{h3_res})) as h3_id\n",
    "# from b;\n",
    "# \"\"\")\n",
    "\n",
    "places_h3.head()"
   ]
  },
  {
   "cell_type": "code",
   "execution_count": 15,
   "metadata": {},
   "outputs": [],
   "source": [
    "# ib.to_sql(places_h3)"
   ]
  },
  {
   "cell_type": "code",
   "execution_count": 16,
   "metadata": {},
   "outputs": [
    {
     "data": {
      "application/vnd.jupyter.widget-view+json": {
       "model_id": "52ee7a865fbb47aabf589162e7038792",
       "version_major": 2,
       "version_minor": 0
      },
      "text/plain": [
       "FloatProgress(value=0.0, layout=Layout(width='auto'), style=ProgressStyle(bar_color='black'))"
      ]
     },
     "metadata": {},
     "output_type": "display_data"
    },
    {
     "data": {
      "text/html": [
       "<pre style=\"white-space:pre;overflow-x:auto;line-height:normal;font-family:Menlo,'DejaVu Sans Mono',consolas,'Courier New',monospace\"></pre>\n"
      ],
      "text/plain": []
     },
     "metadata": {},
     "output_type": "display_data"
    },
    {
     "data": {
      "text/plain": [
       "┌────────┐\n",
       "│ \u001b[1;36m238100\u001b[0m │\n",
       "└────────┘"
      ]
     },
     "execution_count": 16,
     "metadata": {},
     "output_type": "execute_result"
    }
   ],
   "source": [
    "places_h3.select(\"h3_id\").nunique()"
   ]
  },
  {
   "cell_type": "markdown",
   "metadata": {},
   "source": [
    "## Closer inspection"
   ]
  },
  {
   "cell_type": "code",
   "execution_count": 17,
   "metadata": {},
   "outputs": [],
   "source": [
    "closer_lookups = {\n",
    "    \"centre\" : [-3,-3,3,3],\n",
    "    \"caribean\" : [-85.85,17.58,-79.72,21.35],\n",
    "    \"caribean2\" : [-76.86,21.45,-71.26,26.14],\n",
    "}\n",
    "\n",
    "lims = closer_lookups[\"centre\"]"
   ]
  },
  {
   "cell_type": "code",
   "execution_count": 18,
   "metadata": {},
   "outputs": [],
   "source": [
    "places_lookup = places_h3.filter(\n",
    "    _.longitude>lims[0],\n",
    "    _.latitude>lims[1],\n",
    "    _.longitude<lims[2],\n",
    "    _.latitude<lims[3],\n",
    "    )"
   ]
  },
  {
   "cell_type": "code",
   "execution_count": 19,
   "metadata": {},
   "outputs": [
    {
     "data": {
      "text/html": [
       "<pre style=\"white-space:pre;overflow-x:auto;line-height:normal;font-family:Menlo,'DejaVu Sans Mono',consolas,'Courier New',monospace\"></pre>\n"
      ],
      "text/plain": []
     },
     "metadata": {},
     "output_type": "display_data"
    },
    {
     "data": {
      "text/plain": [
       "┌─────┐\n",
       "│ \u001b[1;36m880\u001b[0m │\n",
       "└─────┘"
      ]
     },
     "execution_count": 19,
     "metadata": {},
     "output_type": "execute_result"
    }
   ],
   "source": [
    "places_lookup.count()"
   ]
  },
  {
   "cell_type": "code",
   "execution_count": 20,
   "metadata": {},
   "outputs": [
    {
     "data": {
      "text/html": [
       "<pre style=\"white-space:pre;overflow-x:auto;line-height:normal;font-family:Menlo,'DejaVu Sans Mono',consolas,'Courier New',monospace\">┏━━━━━━━━━━━━━━━━━━━━━━━━━━┳━━━━━━━━━━━━━━━━━━━━━━━━━━━━┳━━━━━━━━━━━┳━━━━━━━━━━━┳━━━━━━━━━━┳━━━━━━━━━┳━━━━━━━━━┳━━━━━━━━━━━━━━━━━━━━━━━━━━━━━━┳━━━━━━━━━━━━━━━━━━━━━━━━━━━━━━━━━━━━━━━━━━━━━━━━━━━━━━━━━━━━━━━━━━━━━━━━━━━━━━━━━━━━━━━━┳━━━━━━━━━━━━━━━━━┓\n",
       "┃<span style=\"font-weight: bold\"> fsq_place_id             </span>┃<span style=\"font-weight: bold\"> name                       </span>┃<span style=\"font-weight: bold\"> latitude  </span>┃<span style=\"font-weight: bold\"> longitude </span>┃<span style=\"font-weight: bold\"> locality </span>┃<span style=\"font-weight: bold\"> region  </span>┃<span style=\"font-weight: bold\"> country </span>┃<span style=\"font-weight: bold\"> fsq_category_ids             </span>┃<span style=\"font-weight: bold\"> fsq_category_labels                                                                    </span>┃<span style=\"font-weight: bold\"> h3_id           </span>┃\n",
       "┡━━━━━━━━━━━━━━━━━━━━━━━━━━╇━━━━━━━━━━━━━━━━━━━━━━━━━━━━╇━━━━━━━━━━━╇━━━━━━━━━━━╇━━━━━━━━━━╇━━━━━━━━━╇━━━━━━━━━╇━━━━━━━━━━━━━━━━━━━━━━━━━━━━━━╇━━━━━━━━━━━━━━━━━━━━━━━━━━━━━━━━━━━━━━━━━━━━━━━━━━━━━━━━━━━━━━━━━━━━━━━━━━━━━━━━━━━━━━━━╇━━━━━━━━━━━━━━━━━┩\n",
       "│ <span style=\"color: #7f7f7f; text-decoration-color: #7f7f7f\">string</span>                   │ <span style=\"color: #7f7f7f; text-decoration-color: #7f7f7f\">string</span>                     │ <span style=\"color: #7f7f7f; text-decoration-color: #7f7f7f\">float64</span>   │ <span style=\"color: #7f7f7f; text-decoration-color: #7f7f7f\">float64</span>   │ <span style=\"color: #7f7f7f; text-decoration-color: #7f7f7f\">string</span>   │ <span style=\"color: #7f7f7f; text-decoration-color: #7f7f7f\">string</span>  │ <span style=\"color: #7f7f7f; text-decoration-color: #7f7f7f\">string</span>  │ <span style=\"color: #7f7f7f; text-decoration-color: #7f7f7f\">array&lt;string&gt;</span>                │ <span style=\"color: #7f7f7f; text-decoration-color: #7f7f7f\">array&lt;string&gt;</span>                                                                          │ <span style=\"color: #7f7f7f; text-decoration-color: #7f7f7f\">string</span>          │\n",
       "├──────────────────────────┼────────────────────────────┼───────────┼───────────┼──────────┼─────────┼─────────┼──────────────────────────────┼────────────────────────────────────────────────────────────────────────────────────────┼─────────────────┤\n",
       "│ <span style=\"color: #008000; text-decoration-color: #008000\">57dd92a8498e958c99e32be5</span> │ <span style=\"color: #008000; text-decoration-color: #008000\">İncirhan Han              </span> │  <span style=\"color: #008080; text-decoration-color: #008080; font-weight: bold\">0.839424</span> │ <span style=\"color: #008080; text-decoration-color: #008080; font-weight: bold\">-1.966077</span> │ <span style=\"color: #7f7f7f; text-decoration-color: #7f7f7f\">NULL</span>     │ <span style=\"color: #7f7f7f; text-decoration-color: #7f7f7f\">NULL</span>    │ <span style=\"color: #7f7f7f; text-decoration-color: #7f7f7f\">NULL</span>    │ <span style=\"font-weight: bold\">[</span><span style=\"color: #008000; text-decoration-color: #008000\">'4bf58dd8d48988d116941735'</span><span style=\"font-weight: bold\">]</span> │ <span style=\"font-weight: bold\">[</span><span style=\"color: #008000; text-decoration-color: #008000\">'Dining and Drinking &gt; Bar'</span><span style=\"font-weight: bold\">]</span>                                                          │ <span style=\"color: #008000; text-decoration-color: #008000\">85755a93fffffff</span> │\n",
       "│ <span style=\"color: #008000; text-decoration-color: #008000\">576fe371498efee0076e17b5</span> │ <span style=\"color: #008000; text-decoration-color: #008000\">Nieuwe Hangar             </span> │  <span style=\"color: #008080; text-decoration-color: #008080; font-weight: bold\">2.709495</span> │  <span style=\"color: #008080; text-decoration-color: #008080; font-weight: bold\">0.230237</span> │ <span style=\"color: #7f7f7f; text-decoration-color: #7f7f7f\">NULL</span>     │ <span style=\"color: #7f7f7f; text-decoration-color: #7f7f7f\">NULL</span>    │ <span style=\"color: #7f7f7f; text-decoration-color: #7f7f7f\">NULL</span>    │ <span style=\"font-weight: bold\">[</span><span style=\"color: #008000; text-decoration-color: #008000\">'4bf58dd8d48988d164941735'</span><span style=\"font-weight: bold\">]</span> │ <span style=\"font-weight: bold\">[</span><span style=\"color: #008000; text-decoration-color: #008000\">'Landmarks and Outdoors &gt; Plaza'</span><span style=\"font-weight: bold\">]</span>                                                     │ <span style=\"color: #008000; text-decoration-color: #008000\">85754633fffffff</span> │\n",
       "│ <span style=\"color: #008000; text-decoration-color: #008000\">574b2d5038fa943557805447</span> │ <span style=\"color: #008000; text-decoration-color: #008000\">06 hc 7138                </span> │  <span style=\"color: #008080; text-decoration-color: #008080; font-weight: bold\">1.867243</span> │  <span style=\"color: #008080; text-decoration-color: #008080; font-weight: bold\">1.183678</span> │ <span style=\"color: #7f7f7f; text-decoration-color: #7f7f7f\">NULL</span>     │ <span style=\"color: #7f7f7f; text-decoration-color: #7f7f7f\">NULL</span>    │ <span style=\"color: #7f7f7f; text-decoration-color: #7f7f7f\">NULL</span>    │ <span style=\"font-weight: bold\">[</span><span style=\"color: #008000; text-decoration-color: #008000\">'4f2a210c4b9023bd5841ed28'</span><span style=\"font-weight: bold\">]</span> │ <span style=\"font-weight: bold\">[</span><span style=\"color: #008000; text-decoration-color: #008000\">'Community and Government &gt; Housing Development'</span><span style=\"font-weight: bold\">]</span>                                     │ <span style=\"color: #008000; text-decoration-color: #008000\">85754577fffffff</span> │\n",
       "│ <span style=\"color: #008000; text-decoration-color: #008000\">5757a67c498efcdd2cd767e5</span> │ <span style=\"color: #008000; text-decoration-color: #008000\">Ahmet  Sevinç             </span> │  <span style=\"color: #008080; text-decoration-color: #008080; font-weight: bold\">0.585319</span> │  <span style=\"color: #008080; text-decoration-color: #008080; font-weight: bold\">2.927339</span> │ <span style=\"color: #008000; text-decoration-color: #008000\">İstanbul</span> │ <span style=\"color: #008000; text-decoration-color: #008000\">üsküdar</span> │ <span style=\"color: #7f7f7f; text-decoration-color: #7f7f7f\">NULL</span>    │ <span style=\"font-weight: bold\">[</span><span style=\"color: #008000; text-decoration-color: #008000\">'4bf58dd8d48988d121941735'</span><span style=\"font-weight: bold\">]</span> │ <span style=\"font-weight: bold\">[</span><span style=\"color: #008000; text-decoration-color: #008000\">'Dining and Drinking &gt; Bar &gt; Lounge'</span><span style=\"font-weight: bold\">]</span>                                                 │ <span style=\"color: #008000; text-decoration-color: #008000\">857569c3fffffff</span> │\n",
       "│ <span style=\"color: #008000; text-decoration-color: #008000\">57347522cd10494d75c7c206</span> │ <span style=\"color: #008000; text-decoration-color: #008000\">Özdemir Makina İmalat     </span> │  <span style=\"color: #008080; text-decoration-color: #008080; font-weight: bold\">1.141297</span> │ <span style=\"color: #008080; text-decoration-color: #008080; font-weight: bold\">-1.136648</span> │ <span style=\"color: #008000; text-decoration-color: #008000\">Izmir   </span> │ <span style=\"color: #7f7f7f; text-decoration-color: #7f7f7f\">NULL</span>    │ <span style=\"color: #7f7f7f; text-decoration-color: #7f7f7f\">NULL</span>    │ <span style=\"font-weight: bold\">[</span><span style=\"color: #008000; text-decoration-color: #008000\">'4eb1bea83b7b6f98df247e06'</span><span style=\"font-weight: bold\">]</span> │ <span style=\"font-weight: bold\">[</span><span style=\"color: #008000; text-decoration-color: #008000\">'Business and Professional Services &gt; Factory'</span><span style=\"font-weight: bold\">]</span>                                       │ <span style=\"color: #008000; text-decoration-color: #008000\">85755c73fffffff</span> │\n",
       "│ <span style=\"color: #008000; text-decoration-color: #008000\">57232a04498e11c97d2fbcf0</span> │ <span style=\"color: #008000; text-decoration-color: #008000\">Samantas Hoods            </span> │  <span style=\"color: #008080; text-decoration-color: #008080; font-weight: bold\">0.019262</span> │  <span style=\"color: #008080; text-decoration-color: #008080; font-weight: bold\">1.300770</span> │ <span style=\"color: #7f7f7f; text-decoration-color: #7f7f7f\">NULL</span>     │ <span style=\"color: #7f7f7f; text-decoration-color: #7f7f7f\">NULL</span>    │ <span style=\"color: #7f7f7f; text-decoration-color: #7f7f7f\">NULL</span>    │ <span style=\"font-weight: bold\">[</span><span style=\"color: #008000; text-decoration-color: #008000\">'5032891291d4c4b30a586d68'</span><span style=\"font-weight: bold\">]</span> │ <span style=\"font-weight: bold\">[</span><span style=\"color: #008000; text-decoration-color: #008000\">'Community and Government &gt; Assisted Living'</span><span style=\"font-weight: bold\">]</span>                                         │ <span style=\"color: #008000; text-decoration-color: #008000\">85754c37fffffff</span> │\n",
       "│ <span style=\"color: #008000; text-decoration-color: #008000\">593dd6d62ebb34774fa82391</span> │ <span style=\"color: #008000; text-decoration-color: #008000\">Lugar de encuentro        </span> │ <span style=\"color: #008080; text-decoration-color: #008080; font-weight: bold\">-2.905220</span> │ <span style=\"color: #008080; text-decoration-color: #008080; font-weight: bold\">-2.598113</span> │ <span style=\"color: #7f7f7f; text-decoration-color: #7f7f7f\">NULL</span>     │ <span style=\"color: #7f7f7f; text-decoration-color: #7f7f7f\">NULL</span>    │ <span style=\"color: #7f7f7f; text-decoration-color: #7f7f7f\">NULL</span>    │ <span style=\"font-weight: bold\">[</span><span style=\"color: #008000; text-decoration-color: #008000\">'4bf58dd8d48988d162941735'</span><span style=\"font-weight: bold\">]</span> │ <span style=\"font-weight: bold\">[</span><span style=\"color: #008000; text-decoration-color: #008000\">'Landmarks and Outdoors &gt; Other Great Outdoors'</span><span style=\"font-weight: bold\">]</span>                                      │ <span style=\"color: #008000; text-decoration-color: #008000\">8574c523fffffff</span> │\n",
       "│ <span style=\"color: #008000; text-decoration-color: #008000\">57e5443f498e418f6adc7e54</span> │ <span style=\"color: #008000; text-decoration-color: #008000\">English Course            </span> │  <span style=\"color: #008080; text-decoration-color: #008080; font-weight: bold\">2.399225</span> │ <span style=\"color: #008080; text-decoration-color: #008080; font-weight: bold\">-1.797922</span> │ <span style=\"color: #7f7f7f; text-decoration-color: #7f7f7f\">NULL</span>     │ <span style=\"color: #7f7f7f; text-decoration-color: #7f7f7f\">NULL</span>    │ <span style=\"color: #7f7f7f; text-decoration-color: #7f7f7f\">NULL</span>    │ <span style=\"font-weight: bold\">[</span><span style=\"color: #008000; text-decoration-color: #008000\">'4bf58dd8d48988d198941735'</span><span style=\"font-weight: bold\">]</span> │ <span style=\"font-weight: bold\">[</span><span style=\"color: #008000; text-decoration-color: #008000\">'Community and Government &gt; Education &gt; College and University &gt; College Academic'</span>+<span style=\"color: #008080; text-decoration-color: #008080; font-weight: bold\">9</span><span style=\"font-weight: bold\">]</span> │ <span style=\"color: #008000; text-decoration-color: #008000\">85755383fffffff</span> │\n",
       "│ <span style=\"color: #008000; text-decoration-color: #008000\">576c071638fa0e98789447d9</span> │ <span style=\"color: #008000; text-decoration-color: #008000\">Niğde  Ulukışla Horoz Köyü</span> │ <span style=\"color: #008080; text-decoration-color: #008080; font-weight: bold\">-1.557929</span> │ <span style=\"color: #008080; text-decoration-color: #008080; font-weight: bold\">-1.539377</span> │ <span style=\"color: #7f7f7f; text-decoration-color: #7f7f7f\">NULL</span>     │ <span style=\"color: #7f7f7f; text-decoration-color: #7f7f7f\">NULL</span>    │ <span style=\"color: #7f7f7f; text-decoration-color: #7f7f7f\">NULL</span>    │ <span style=\"font-weight: bold\">[</span><span style=\"color: #008000; text-decoration-color: #008000\">'4f2a210c4b9023bd5841ed28'</span><span style=\"font-weight: bold\">]</span> │ <span style=\"font-weight: bold\">[</span><span style=\"color: #008000; text-decoration-color: #008000\">'Community and Government &gt; Housing Development'</span><span style=\"font-weight: bold\">]</span>                                     │ <span style=\"color: #008000; text-decoration-color: #008000\">8574e893fffffff</span> │\n",
       "│ <span style=\"color: #008000; text-decoration-color: #008000\">5c7e93d6d4cc98002c7a1ee7</span> │ <span style=\"color: #008000; text-decoration-color: #008000\">Europen                   </span> │ <span style=\"color: #008080; text-decoration-color: #008080; font-weight: bold\">-2.454680</span> │ <span style=\"color: #008080; text-decoration-color: #008080; font-weight: bold\">-1.372820</span> │ <span style=\"color: #7f7f7f; text-decoration-color: #7f7f7f\">NULL</span>     │ <span style=\"color: #7f7f7f; text-decoration-color: #7f7f7f\">NULL</span>    │ <span style=\"color: #7f7f7f; text-decoration-color: #7f7f7f\">NULL</span>    │ <span style=\"font-weight: bold\">[</span><span style=\"color: #008000; text-decoration-color: #008000\">'4eb1bea83b7b6f98df247e06'</span><span style=\"font-weight: bold\">]</span> │ <span style=\"font-weight: bold\">[</span><span style=\"color: #008000; text-decoration-color: #008000\">'Business and Professional Services &gt; Factory'</span><span style=\"font-weight: bold\">]</span>                                       │ <span style=\"color: #008000; text-decoration-color: #008000\">8574e867fffffff</span> │\n",
       "│ <span style=\"color: #7f7f7f; text-decoration-color: #7f7f7f\">…</span>                        │ <span style=\"color: #7f7f7f; text-decoration-color: #7f7f7f\">…</span>                          │         <span style=\"color: #7f7f7f; text-decoration-color: #7f7f7f\">…</span> │         <span style=\"color: #7f7f7f; text-decoration-color: #7f7f7f\">…</span> │ <span style=\"color: #7f7f7f; text-decoration-color: #7f7f7f\">…</span>        │ <span style=\"color: #7f7f7f; text-decoration-color: #7f7f7f\">…</span>       │ <span style=\"color: #7f7f7f; text-decoration-color: #7f7f7f\">…</span>       │ <span style=\"color: #7f7f7f; text-decoration-color: #7f7f7f\">…</span>                            │ <span style=\"color: #7f7f7f; text-decoration-color: #7f7f7f\">…</span>                                                                                      │ <span style=\"color: #7f7f7f; text-decoration-color: #7f7f7f\">…</span>               │\n",
       "└──────────────────────────┴────────────────────────────┴───────────┴───────────┴──────────┴─────────┴─────────┴──────────────────────────────┴────────────────────────────────────────────────────────────────────────────────────────┴─────────────────┘\n",
       "</pre>\n"
      ],
      "text/plain": [
       "┏━━━━━━━━━━━━━━━━━━━━━━━━━━┳━━━━━━━━━━━━━━━━━━━━━━━━━━━━┳━━━━━━━━━━━┳━━━━━━━━━━━┳━━━━━━━━━━┳━━━━━━━━━┳━━━━━━━━━┳━━━━━━━━━━━━━━━━━━━━━━━━━━━━━━┳━━━━━━━━━━━━━━━━━━━━━━━━━━━━━━━━━━━━━━━━━━━━━━━━━━━━━━━━━━━━━━━━━━━━━━━━━━━━━━━━━━━━━━━━┳━━━━━━━━━━━━━━━━━┓\n",
       "┃\u001b[1m \u001b[0m\u001b[1mfsq_place_id\u001b[0m\u001b[1m            \u001b[0m\u001b[1m \u001b[0m┃\u001b[1m \u001b[0m\u001b[1mname\u001b[0m\u001b[1m                      \u001b[0m\u001b[1m \u001b[0m┃\u001b[1m \u001b[0m\u001b[1mlatitude\u001b[0m\u001b[1m \u001b[0m\u001b[1m \u001b[0m┃\u001b[1m \u001b[0m\u001b[1mlongitude\u001b[0m\u001b[1m \u001b[0m┃\u001b[1m \u001b[0m\u001b[1mlocality\u001b[0m\u001b[1m \u001b[0m┃\u001b[1m \u001b[0m\u001b[1mregion\u001b[0m\u001b[1m \u001b[0m\u001b[1m \u001b[0m┃\u001b[1m \u001b[0m\u001b[1mcountry\u001b[0m\u001b[1m \u001b[0m┃\u001b[1m \u001b[0m\u001b[1mfsq_category_ids\u001b[0m\u001b[1m            \u001b[0m\u001b[1m \u001b[0m┃\u001b[1m \u001b[0m\u001b[1mfsq_category_labels\u001b[0m\u001b[1m                                                                   \u001b[0m\u001b[1m \u001b[0m┃\u001b[1m \u001b[0m\u001b[1mh3_id\u001b[0m\u001b[1m          \u001b[0m\u001b[1m \u001b[0m┃\n",
       "┡━━━━━━━━━━━━━━━━━━━━━━━━━━╇━━━━━━━━━━━━━━━━━━━━━━━━━━━━╇━━━━━━━━━━━╇━━━━━━━━━━━╇━━━━━━━━━━╇━━━━━━━━━╇━━━━━━━━━╇━━━━━━━━━━━━━━━━━━━━━━━━━━━━━━╇━━━━━━━━━━━━━━━━━━━━━━━━━━━━━━━━━━━━━━━━━━━━━━━━━━━━━━━━━━━━━━━━━━━━━━━━━━━━━━━━━━━━━━━━╇━━━━━━━━━━━━━━━━━┩\n",
       "│ \u001b[2mstring\u001b[0m                   │ \u001b[2mstring\u001b[0m                     │ \u001b[2mfloat64\u001b[0m   │ \u001b[2mfloat64\u001b[0m   │ \u001b[2mstring\u001b[0m   │ \u001b[2mstring\u001b[0m  │ \u001b[2mstring\u001b[0m  │ \u001b[2marray<string>\u001b[0m                │ \u001b[2marray<string>\u001b[0m                                                                          │ \u001b[2mstring\u001b[0m          │\n",
       "├──────────────────────────┼────────────────────────────┼───────────┼───────────┼──────────┼─────────┼─────────┼──────────────────────────────┼────────────────────────────────────────────────────────────────────────────────────────┼─────────────────┤\n",
       "│ \u001b[32m57dd92a8498e958c99e32be5\u001b[0m │ \u001b[32mİncirhan Han              \u001b[0m │  \u001b[1;36m0.839424\u001b[0m │ \u001b[1;36m-1.966077\u001b[0m │ \u001b[2mNULL\u001b[0m     │ \u001b[2mNULL\u001b[0m    │ \u001b[2mNULL\u001b[0m    │ \u001b[1m[\u001b[0m\u001b[32m'4bf58dd8d48988d116941735'\u001b[0m\u001b[1m]\u001b[0m │ \u001b[1m[\u001b[0m\u001b[32m'Dining and Drinking > Bar'\u001b[0m\u001b[1m]\u001b[0m                                                          │ \u001b[32m85755a93fffffff\u001b[0m │\n",
       "│ \u001b[32m576fe371498efee0076e17b5\u001b[0m │ \u001b[32mNieuwe Hangar             \u001b[0m │  \u001b[1;36m2.709495\u001b[0m │  \u001b[1;36m0.230237\u001b[0m │ \u001b[2mNULL\u001b[0m     │ \u001b[2mNULL\u001b[0m    │ \u001b[2mNULL\u001b[0m    │ \u001b[1m[\u001b[0m\u001b[32m'4bf58dd8d48988d164941735'\u001b[0m\u001b[1m]\u001b[0m │ \u001b[1m[\u001b[0m\u001b[32m'Landmarks and Outdoors > Plaza'\u001b[0m\u001b[1m]\u001b[0m                                                     │ \u001b[32m85754633fffffff\u001b[0m │\n",
       "│ \u001b[32m574b2d5038fa943557805447\u001b[0m │ \u001b[32m06 hc 7138                \u001b[0m │  \u001b[1;36m1.867243\u001b[0m │  \u001b[1;36m1.183678\u001b[0m │ \u001b[2mNULL\u001b[0m     │ \u001b[2mNULL\u001b[0m    │ \u001b[2mNULL\u001b[0m    │ \u001b[1m[\u001b[0m\u001b[32m'4f2a210c4b9023bd5841ed28'\u001b[0m\u001b[1m]\u001b[0m │ \u001b[1m[\u001b[0m\u001b[32m'Community and Government > Housing Development'\u001b[0m\u001b[1m]\u001b[0m                                     │ \u001b[32m85754577fffffff\u001b[0m │\n",
       "│ \u001b[32m5757a67c498efcdd2cd767e5\u001b[0m │ \u001b[32mAhmet  Sevinç             \u001b[0m │  \u001b[1;36m0.585319\u001b[0m │  \u001b[1;36m2.927339\u001b[0m │ \u001b[32mİstanbul\u001b[0m │ \u001b[32müsküdar\u001b[0m │ \u001b[2mNULL\u001b[0m    │ \u001b[1m[\u001b[0m\u001b[32m'4bf58dd8d48988d121941735'\u001b[0m\u001b[1m]\u001b[0m │ \u001b[1m[\u001b[0m\u001b[32m'Dining and Drinking > Bar > Lounge'\u001b[0m\u001b[1m]\u001b[0m                                                 │ \u001b[32m857569c3fffffff\u001b[0m │\n",
       "│ \u001b[32m57347522cd10494d75c7c206\u001b[0m │ \u001b[32mÖzdemir Makina İmalat     \u001b[0m │  \u001b[1;36m1.141297\u001b[0m │ \u001b[1;36m-1.136648\u001b[0m │ \u001b[32mIzmir   \u001b[0m │ \u001b[2mNULL\u001b[0m    │ \u001b[2mNULL\u001b[0m    │ \u001b[1m[\u001b[0m\u001b[32m'4eb1bea83b7b6f98df247e06'\u001b[0m\u001b[1m]\u001b[0m │ \u001b[1m[\u001b[0m\u001b[32m'Business and Professional Services > Factory'\u001b[0m\u001b[1m]\u001b[0m                                       │ \u001b[32m85755c73fffffff\u001b[0m │\n",
       "│ \u001b[32m57232a04498e11c97d2fbcf0\u001b[0m │ \u001b[32mSamantas Hoods            \u001b[0m │  \u001b[1;36m0.019262\u001b[0m │  \u001b[1;36m1.300770\u001b[0m │ \u001b[2mNULL\u001b[0m     │ \u001b[2mNULL\u001b[0m    │ \u001b[2mNULL\u001b[0m    │ \u001b[1m[\u001b[0m\u001b[32m'5032891291d4c4b30a586d68'\u001b[0m\u001b[1m]\u001b[0m │ \u001b[1m[\u001b[0m\u001b[32m'Community and Government > Assisted Living'\u001b[0m\u001b[1m]\u001b[0m                                         │ \u001b[32m85754c37fffffff\u001b[0m │\n",
       "│ \u001b[32m593dd6d62ebb34774fa82391\u001b[0m │ \u001b[32mLugar de encuentro        \u001b[0m │ \u001b[1;36m-2.905220\u001b[0m │ \u001b[1;36m-2.598113\u001b[0m │ \u001b[2mNULL\u001b[0m     │ \u001b[2mNULL\u001b[0m    │ \u001b[2mNULL\u001b[0m    │ \u001b[1m[\u001b[0m\u001b[32m'4bf58dd8d48988d162941735'\u001b[0m\u001b[1m]\u001b[0m │ \u001b[1m[\u001b[0m\u001b[32m'Landmarks and Outdoors > Other Great Outdoors'\u001b[0m\u001b[1m]\u001b[0m                                      │ \u001b[32m8574c523fffffff\u001b[0m │\n",
       "│ \u001b[32m57e5443f498e418f6adc7e54\u001b[0m │ \u001b[32mEnglish Course            \u001b[0m │  \u001b[1;36m2.399225\u001b[0m │ \u001b[1;36m-1.797922\u001b[0m │ \u001b[2mNULL\u001b[0m     │ \u001b[2mNULL\u001b[0m    │ \u001b[2mNULL\u001b[0m    │ \u001b[1m[\u001b[0m\u001b[32m'4bf58dd8d48988d198941735'\u001b[0m\u001b[1m]\u001b[0m │ \u001b[1m[\u001b[0m\u001b[32m'Community and Government > Education > College and University > College Academic'\u001b[0m+\u001b[1;36m9\u001b[0m\u001b[1m]\u001b[0m │ \u001b[32m85755383fffffff\u001b[0m │\n",
       "│ \u001b[32m576c071638fa0e98789447d9\u001b[0m │ \u001b[32mNiğde  Ulukışla Horoz Köyü\u001b[0m │ \u001b[1;36m-1.557929\u001b[0m │ \u001b[1;36m-1.539377\u001b[0m │ \u001b[2mNULL\u001b[0m     │ \u001b[2mNULL\u001b[0m    │ \u001b[2mNULL\u001b[0m    │ \u001b[1m[\u001b[0m\u001b[32m'4f2a210c4b9023bd5841ed28'\u001b[0m\u001b[1m]\u001b[0m │ \u001b[1m[\u001b[0m\u001b[32m'Community and Government > Housing Development'\u001b[0m\u001b[1m]\u001b[0m                                     │ \u001b[32m8574e893fffffff\u001b[0m │\n",
       "│ \u001b[32m5c7e93d6d4cc98002c7a1ee7\u001b[0m │ \u001b[32mEuropen                   \u001b[0m │ \u001b[1;36m-2.454680\u001b[0m │ \u001b[1;36m-1.372820\u001b[0m │ \u001b[2mNULL\u001b[0m     │ \u001b[2mNULL\u001b[0m    │ \u001b[2mNULL\u001b[0m    │ \u001b[1m[\u001b[0m\u001b[32m'4eb1bea83b7b6f98df247e06'\u001b[0m\u001b[1m]\u001b[0m │ \u001b[1m[\u001b[0m\u001b[32m'Business and Professional Services > Factory'\u001b[0m\u001b[1m]\u001b[0m                                       │ \u001b[32m8574e867fffffff\u001b[0m │\n",
       "│ \u001b[2m…\u001b[0m                        │ \u001b[2m…\u001b[0m                          │         \u001b[2m…\u001b[0m │         \u001b[2m…\u001b[0m │ \u001b[2m…\u001b[0m        │ \u001b[2m…\u001b[0m       │ \u001b[2m…\u001b[0m       │ \u001b[2m…\u001b[0m                            │ \u001b[2m…\u001b[0m                                                                                      │ \u001b[2m…\u001b[0m               │\n",
       "└──────────────────────────┴────────────────────────────┴───────────┴───────────┴──────────┴─────────┴─────────┴──────────────────────────────┴────────────────────────────────────────────────────────────────────────────────────────┴─────────────────┘"
      ]
     },
     "execution_count": 20,
     "metadata": {},
     "output_type": "execute_result"
    }
   ],
   "source": [
    "places_lookup"
   ]
  },
  {
   "cell_type": "code",
   "execution_count": null,
   "metadata": {},
   "outputs": [
    {
     "data": {
      "application/vnd.jupyter.widget-view+json": {
       "model_id": "b873343dc4fd41d98dd40a3f86ab91f8",
       "version_major": 2,
       "version_minor": 0
      },
      "text/plain": [
       "FloatProgress(value=0.0, layout=Layout(width='auto'), style=ProgressStyle(bar_color='black'))"
      ]
     },
     "metadata": {},
     "output_type": "display_data"
    }
   ],
   "source": [
    "# lookup_df = places_lookup.execute()"
   ]
  },
  {
   "cell_type": "code",
   "execution_count": 22,
   "metadata": {},
   "outputs": [],
   "source": [
    "# gpd.GeoDataFrame(\n",
    "#     lookup_df,\n",
    "#     geometry=gpd.GeoSeries(gpd.points_from_xy(lookup_df[\"longitude\"],lookup_df[\"latitude\"],crs=\"epsg:4326\")),\n",
    "# ).explore()"
   ]
  },
  {
   "cell_type": "markdown",
   "metadata": {},
   "source": [
    "## Places categories\n",
    "\n",
    "Expanding categories"
   ]
  },
  {
   "cell_type": "code",
   "execution_count": 23,
   "metadata": {},
   "outputs": [],
   "source": [
    "places_h3 = (\n",
    "    places_h3\n",
    "    .mutate(cats=_.fsq_category_labels[0].split(\" > \"))\n",
    "    # .mutate(cats_break=_.cats.split(\" > \"))\n",
    "    # .select(\"cats\",\"cats_break\")\n",
    "    .mutate(\n",
    "        primary=_.cats[0],\n",
    "        sec=_.cats[1],\n",
    "        raw=_.cats[2],\n",
    "            )\n",
    "    .drop(\"cats\")\n",
    ")"
   ]
  },
  {
   "cell_type": "code",
   "execution_count": 24,
   "metadata": {},
   "outputs": [
    {
     "data": {
      "text/html": [
       "<pre style=\"white-space:pre;overflow-x:auto;line-height:normal;font-family:Menlo,'DejaVu Sans Mono',consolas,'Courier New',monospace\">┏━━━━━━━━━━━━━━━━━━━━━━━━━━┳━━━━━━━━━━━━━━━━━━━━━━━━━━━━━━━━━━━━━━━━━━┳━━━━━━━━━━━┳━━━━━━━━━━━━━┳━━━━━━━━━━━━━━━━━━━━━━━┳━━━━━━━━━━━━━━━┳━━━━━━━━━┳━━━━━━━━━━━━━━━━━━━━━━━━━━━━━━┳━━━━━━━━━━━━━━━━━━━━━━━━━━━━━━━━━━━━━━━━━━━━━━━━━━━━━━━━━━━━━━━━━━━━━━━━━━━━━━━━━━━━━━┳━━━━━━━━━━━━━━━━━┳━━━━━━━━━━━━━━━━━━━━━━━━━━━━━━━━━━━━┳━━━━━━━━━━━━━━━━━━━━┳━━━━━━━━━━━━━━━━━━━━━━━━┓\n",
       "┃<span style=\"font-weight: bold\"> fsq_place_id             </span>┃<span style=\"font-weight: bold\"> name                                     </span>┃<span style=\"font-weight: bold\"> latitude  </span>┃<span style=\"font-weight: bold\"> longitude   </span>┃<span style=\"font-weight: bold\"> locality              </span>┃<span style=\"font-weight: bold\"> region        </span>┃<span style=\"font-weight: bold\"> country </span>┃<span style=\"font-weight: bold\"> fsq_category_ids             </span>┃<span style=\"font-weight: bold\"> fsq_category_labels                                                                  </span>┃<span style=\"font-weight: bold\"> h3_id           </span>┃<span style=\"font-weight: bold\"> primary                            </span>┃<span style=\"font-weight: bold\"> sec                </span>┃<span style=\"font-weight: bold\"> raw                    </span>┃\n",
       "┡━━━━━━━━━━━━━━━━━━━━━━━━━━╇━━━━━━━━━━━━━━━━━━━━━━━━━━━━━━━━━━━━━━━━━━╇━━━━━━━━━━━╇━━━━━━━━━━━━━╇━━━━━━━━━━━━━━━━━━━━━━━╇━━━━━━━━━━━━━━━╇━━━━━━━━━╇━━━━━━━━━━━━━━━━━━━━━━━━━━━━━━╇━━━━━━━━━━━━━━━━━━━━━━━━━━━━━━━━━━━━━━━━━━━━━━━━━━━━━━━━━━━━━━━━━━━━━━━━━━━━━━━━━━━━━━╇━━━━━━━━━━━━━━━━━╇━━━━━━━━━━━━━━━━━━━━━━━━━━━━━━━━━━━━╇━━━━━━━━━━━━━━━━━━━━╇━━━━━━━━━━━━━━━━━━━━━━━━┩\n",
       "│ <span style=\"color: #7f7f7f; text-decoration-color: #7f7f7f\">string</span>                   │ <span style=\"color: #7f7f7f; text-decoration-color: #7f7f7f\">string</span>                                   │ <span style=\"color: #7f7f7f; text-decoration-color: #7f7f7f\">float64</span>   │ <span style=\"color: #7f7f7f; text-decoration-color: #7f7f7f\">float64</span>     │ <span style=\"color: #7f7f7f; text-decoration-color: #7f7f7f\">string</span>                │ <span style=\"color: #7f7f7f; text-decoration-color: #7f7f7f\">string</span>        │ <span style=\"color: #7f7f7f; text-decoration-color: #7f7f7f\">string</span>  │ <span style=\"color: #7f7f7f; text-decoration-color: #7f7f7f\">array&lt;string&gt;</span>                │ <span style=\"color: #7f7f7f; text-decoration-color: #7f7f7f\">array&lt;string&gt;</span>                                                                        │ <span style=\"color: #7f7f7f; text-decoration-color: #7f7f7f\">string</span>          │ <span style=\"color: #7f7f7f; text-decoration-color: #7f7f7f\">string</span>                             │ <span style=\"color: #7f7f7f; text-decoration-color: #7f7f7f\">string</span>             │ <span style=\"color: #7f7f7f; text-decoration-color: #7f7f7f\">string</span>                 │\n",
       "├──────────────────────────┼──────────────────────────────────────────┼───────────┼─────────────┼───────────────────────┼───────────────┼─────────┼──────────────────────────────┼──────────────────────────────────────────────────────────────────────────────────────┼─────────────────┼────────────────────────────────────┼────────────────────┼────────────────────────┤\n",
       "│ <span style=\"color: #008000; text-decoration-color: #008000\">4aee4d4688a04abe82d1ace4</span> │ <span style=\"color: #008000; text-decoration-color: #008000\">Canada House                            </span> │ <span style=\"color: #008080; text-decoration-color: #008080; font-weight: bold\">41.781153</span> │    <span style=\"color: #008080; text-decoration-color: #008080; font-weight: bold\">3.029574</span> │ <span style=\"color: #008000; text-decoration-color: #008000\">Sant Feliu de Guíxols</span> │ <span style=\"color: #008000; text-decoration-color: #008000\">Gerona       </span> │ <span style=\"color: #008000; text-decoration-color: #008000\">ES     </span> │ <span style=\"font-weight: bold\">[</span><span style=\"color: #008000; text-decoration-color: #008000\">'4bf58dd8d48988d103951735'</span><span style=\"font-weight: bold\">]</span> │ <span style=\"font-weight: bold\">[</span><span style=\"color: #008000; text-decoration-color: #008000\">'Retail &gt; Fashion Retail &gt; Clothing Store'</span><span style=\"font-weight: bold\">]</span>                                         │ <span style=\"color: #008000; text-decoration-color: #008000\">85394557fffffff</span> │ <span style=\"color: #008000; text-decoration-color: #008000\">Retail                            </span> │ <span style=\"color: #008000; text-decoration-color: #008000\">Fashion Retail    </span> │ <span style=\"color: #008000; text-decoration-color: #008000\">Clothing Store        </span> │\n",
       "│ <span style=\"color: #008000; text-decoration-color: #008000\">cb57d89eed29405b908b0b6e</span> │ <span style=\"color: #008000; text-decoration-color: #008000\">Fotos. Zakład fotograficzny. Głowacka T.</span> │ <span style=\"color: #008080; text-decoration-color: #008080; font-weight: bold\">52.192667</span> │   <span style=\"color: #008080; text-decoration-color: #008080; font-weight: bold\">18.633436</span> │ <span style=\"color: #008000; text-decoration-color: #008000\">Koło                 </span> │ <span style=\"color: #008000; text-decoration-color: #008000\">Wielkopolskie</span> │ <span style=\"color: #008000; text-decoration-color: #008000\">PL     </span> │ <span style=\"font-weight: bold\">[</span><span style=\"color: #008000; text-decoration-color: #008000\">'4d4b7105d754a06378d81259'</span><span style=\"font-weight: bold\">]</span> │ <span style=\"font-weight: bold\">[</span><span style=\"color: #008000; text-decoration-color: #008000\">'Retail'</span><span style=\"font-weight: bold\">]</span>                                                                           │ <span style=\"color: #008000; text-decoration-color: #008000\">851e253bfffffff</span> │ <span style=\"color: #008000; text-decoration-color: #008000\">Retail                            </span> │ <span style=\"color: #7f7f7f; text-decoration-color: #7f7f7f\">NULL</span>               │ <span style=\"color: #7f7f7f; text-decoration-color: #7f7f7f\">NULL</span>                   │\n",
       "│ <span style=\"color: #008000; text-decoration-color: #008000\">59a4553d112c6c2b6c378e08</span> │ <span style=\"color: #008000; text-decoration-color: #008000\">CoHo                                    </span> │ <span style=\"color: #008080; text-decoration-color: #008080; font-weight: bold\">40.774559</span> │  <span style=\"color: #008080; text-decoration-color: #008080; font-weight: bold\">-73.871849</span> │ <span style=\"color: #008000; text-decoration-color: #008000\">New York             </span> │ <span style=\"color: #008000; text-decoration-color: #008000\">NY           </span> │ <span style=\"color: #008000; text-decoration-color: #008000\">US     </span> │ <span style=\"font-weight: bold\">[</span><span style=\"color: #008000; text-decoration-color: #008000\">'4bf58dd8d48988d110941735'</span><span style=\"font-weight: bold\">]</span> │ <span style=\"font-weight: bold\">[</span><span style=\"color: #008000; text-decoration-color: #008000\">'Dining and Drinking &gt; Restaurant &gt; Italian Restaurant'</span><span style=\"font-weight: bold\">]</span>                            │ <span style=\"color: #008000; text-decoration-color: #008000\">852a100ffffffff</span> │ <span style=\"color: #008000; text-decoration-color: #008000\">Dining and Drinking               </span> │ <span style=\"color: #008000; text-decoration-color: #008000\">Restaurant        </span> │ <span style=\"color: #008000; text-decoration-color: #008000\">Italian Restaurant    </span> │\n",
       "│ <span style=\"color: #008000; text-decoration-color: #008000\">4bea3677415e20a110d8e4bb</span> │ <span style=\"color: #008000; text-decoration-color: #008000\">Bisma lounge                            </span> │ <span style=\"color: #008080; text-decoration-color: #008080; font-weight: bold\">-6.134262</span> │  <span style=\"color: #008080; text-decoration-color: #008080; font-weight: bold\">106.864683</span> │ <span style=\"color: #008000; text-decoration-color: #008000\">Sunter city          </span> │ <span style=\"color: #008000; text-decoration-color: #008000\">Jakarta utara</span> │ <span style=\"color: #008000; text-decoration-color: #008000\">ID     </span> │ <span style=\"color: #7f7f7f; text-decoration-color: #7f7f7f\">NULL</span>                         │ <span style=\"color: #7f7f7f; text-decoration-color: #7f7f7f\">NULL</span>                                                                                 │ <span style=\"color: #008000; text-decoration-color: #008000\">858c12b7fffffff</span> │ <span style=\"color: #7f7f7f; text-decoration-color: #7f7f7f\">NULL</span>                               │ <span style=\"color: #7f7f7f; text-decoration-color: #7f7f7f\">NULL</span>               │ <span style=\"color: #7f7f7f; text-decoration-color: #7f7f7f\">NULL</span>                   │\n",
       "│ <span style=\"color: #008000; text-decoration-color: #008000\">dca3aeba404e4b6006620a46</span> │ <span style=\"color: #008000; text-decoration-color: #008000\">Grace Motorworks                        </span> │ <span style=\"color: #008080; text-decoration-color: #008080; font-weight: bold\">34.180992</span> │ <span style=\"color: #008080; text-decoration-color: #008080; font-weight: bold\">-118.537669</span> │ <span style=\"color: #008000; text-decoration-color: #008000\">Tarzana              </span> │ <span style=\"color: #008000; text-decoration-color: #008000\">CA           </span> │ <span style=\"color: #008000; text-decoration-color: #008000\">US     </span> │ <span style=\"font-weight: bold\">[</span><span style=\"color: #008000; text-decoration-color: #008000\">'52f2ab2ebcbc57f1066b8b44'</span><span style=\"font-weight: bold\">]</span> │ <span style=\"font-weight: bold\">[</span><span style=\"color: #008000; text-decoration-color: #008000\">'Business and Professional Services &gt; Automotive Service &gt; Automotive Repair Shop'</span><span style=\"font-weight: bold\">]</span> │ <span style=\"color: #008000; text-decoration-color: #008000\">8529a18bfffffff</span> │ <span style=\"color: #008000; text-decoration-color: #008000\">Business and Professional Services</span> │ <span style=\"color: #008000; text-decoration-color: #008000\">Automotive Service</span> │ <span style=\"color: #008000; text-decoration-color: #008000\">Automotive Repair Shop</span> │\n",
       "└──────────────────────────┴──────────────────────────────────────────┴───────────┴─────────────┴───────────────────────┴───────────────┴─────────┴──────────────────────────────┴──────────────────────────────────────────────────────────────────────────────────────┴─────────────────┴────────────────────────────────────┴────────────────────┴────────────────────────┘\n",
       "</pre>\n"
      ],
      "text/plain": [
       "┏━━━━━━━━━━━━━━━━━━━━━━━━━━┳━━━━━━━━━━━━━━━━━━━━━━━━━━━━━━━━━━━━━━━━━━┳━━━━━━━━━━━┳━━━━━━━━━━━━━┳━━━━━━━━━━━━━━━━━━━━━━━┳━━━━━━━━━━━━━━━┳━━━━━━━━━┳━━━━━━━━━━━━━━━━━━━━━━━━━━━━━━┳━━━━━━━━━━━━━━━━━━━━━━━━━━━━━━━━━━━━━━━━━━━━━━━━━━━━━━━━━━━━━━━━━━━━━━━━━━━━━━━━━━━━━━┳━━━━━━━━━━━━━━━━━┳━━━━━━━━━━━━━━━━━━━━━━━━━━━━━━━━━━━━┳━━━━━━━━━━━━━━━━━━━━┳━━━━━━━━━━━━━━━━━━━━━━━━┓\n",
       "┃\u001b[1m \u001b[0m\u001b[1mfsq_place_id\u001b[0m\u001b[1m            \u001b[0m\u001b[1m \u001b[0m┃\u001b[1m \u001b[0m\u001b[1mname\u001b[0m\u001b[1m                                    \u001b[0m\u001b[1m \u001b[0m┃\u001b[1m \u001b[0m\u001b[1mlatitude\u001b[0m\u001b[1m \u001b[0m\u001b[1m \u001b[0m┃\u001b[1m \u001b[0m\u001b[1mlongitude\u001b[0m\u001b[1m  \u001b[0m\u001b[1m \u001b[0m┃\u001b[1m \u001b[0m\u001b[1mlocality\u001b[0m\u001b[1m             \u001b[0m\u001b[1m \u001b[0m┃\u001b[1m \u001b[0m\u001b[1mregion\u001b[0m\u001b[1m       \u001b[0m\u001b[1m \u001b[0m┃\u001b[1m \u001b[0m\u001b[1mcountry\u001b[0m\u001b[1m \u001b[0m┃\u001b[1m \u001b[0m\u001b[1mfsq_category_ids\u001b[0m\u001b[1m            \u001b[0m\u001b[1m \u001b[0m┃\u001b[1m \u001b[0m\u001b[1mfsq_category_labels\u001b[0m\u001b[1m                                                                 \u001b[0m\u001b[1m \u001b[0m┃\u001b[1m \u001b[0m\u001b[1mh3_id\u001b[0m\u001b[1m          \u001b[0m\u001b[1m \u001b[0m┃\u001b[1m \u001b[0m\u001b[1mprimary\u001b[0m\u001b[1m                           \u001b[0m\u001b[1m \u001b[0m┃\u001b[1m \u001b[0m\u001b[1msec\u001b[0m\u001b[1m               \u001b[0m\u001b[1m \u001b[0m┃\u001b[1m \u001b[0m\u001b[1mraw\u001b[0m\u001b[1m                   \u001b[0m\u001b[1m \u001b[0m┃\n",
       "┡━━━━━━━━━━━━━━━━━━━━━━━━━━╇━━━━━━━━━━━━━━━━━━━━━━━━━━━━━━━━━━━━━━━━━━╇━━━━━━━━━━━╇━━━━━━━━━━━━━╇━━━━━━━━━━━━━━━━━━━━━━━╇━━━━━━━━━━━━━━━╇━━━━━━━━━╇━━━━━━━━━━━━━━━━━━━━━━━━━━━━━━╇━━━━━━━━━━━━━━━━━━━━━━━━━━━━━━━━━━━━━━━━━━━━━━━━━━━━━━━━━━━━━━━━━━━━━━━━━━━━━━━━━━━━━━╇━━━━━━━━━━━━━━━━━╇━━━━━━━━━━━━━━━━━━━━━━━━━━━━━━━━━━━━╇━━━━━━━━━━━━━━━━━━━━╇━━━━━━━━━━━━━━━━━━━━━━━━┩\n",
       "│ \u001b[2mstring\u001b[0m                   │ \u001b[2mstring\u001b[0m                                   │ \u001b[2mfloat64\u001b[0m   │ \u001b[2mfloat64\u001b[0m     │ \u001b[2mstring\u001b[0m                │ \u001b[2mstring\u001b[0m        │ \u001b[2mstring\u001b[0m  │ \u001b[2marray<string>\u001b[0m                │ \u001b[2marray<string>\u001b[0m                                                                        │ \u001b[2mstring\u001b[0m          │ \u001b[2mstring\u001b[0m                             │ \u001b[2mstring\u001b[0m             │ \u001b[2mstring\u001b[0m                 │\n",
       "├──────────────────────────┼──────────────────────────────────────────┼───────────┼─────────────┼───────────────────────┼───────────────┼─────────┼──────────────────────────────┼──────────────────────────────────────────────────────────────────────────────────────┼─────────────────┼────────────────────────────────────┼────────────────────┼────────────────────────┤\n",
       "│ \u001b[32m4aee4d4688a04abe82d1ace4\u001b[0m │ \u001b[32mCanada House                            \u001b[0m │ \u001b[1;36m41.781153\u001b[0m │    \u001b[1;36m3.029574\u001b[0m │ \u001b[32mSant Feliu de Guíxols\u001b[0m │ \u001b[32mGerona       \u001b[0m │ \u001b[32mES     \u001b[0m │ \u001b[1m[\u001b[0m\u001b[32m'4bf58dd8d48988d103951735'\u001b[0m\u001b[1m]\u001b[0m │ \u001b[1m[\u001b[0m\u001b[32m'Retail > Fashion Retail > Clothing Store'\u001b[0m\u001b[1m]\u001b[0m                                         │ \u001b[32m85394557fffffff\u001b[0m │ \u001b[32mRetail                            \u001b[0m │ \u001b[32mFashion Retail    \u001b[0m │ \u001b[32mClothing Store        \u001b[0m │\n",
       "│ \u001b[32mcb57d89eed29405b908b0b6e\u001b[0m │ \u001b[32mFotos. Zakład fotograficzny. Głowacka T.\u001b[0m │ \u001b[1;36m52.192667\u001b[0m │   \u001b[1;36m18.633436\u001b[0m │ \u001b[32mKoło                 \u001b[0m │ \u001b[32mWielkopolskie\u001b[0m │ \u001b[32mPL     \u001b[0m │ \u001b[1m[\u001b[0m\u001b[32m'4d4b7105d754a06378d81259'\u001b[0m\u001b[1m]\u001b[0m │ \u001b[1m[\u001b[0m\u001b[32m'Retail'\u001b[0m\u001b[1m]\u001b[0m                                                                           │ \u001b[32m851e253bfffffff\u001b[0m │ \u001b[32mRetail                            \u001b[0m │ \u001b[2mNULL\u001b[0m               │ \u001b[2mNULL\u001b[0m                   │\n",
       "│ \u001b[32m59a4553d112c6c2b6c378e08\u001b[0m │ \u001b[32mCoHo                                    \u001b[0m │ \u001b[1;36m40.774559\u001b[0m │  \u001b[1;36m-73.871849\u001b[0m │ \u001b[32mNew York             \u001b[0m │ \u001b[32mNY           \u001b[0m │ \u001b[32mUS     \u001b[0m │ \u001b[1m[\u001b[0m\u001b[32m'4bf58dd8d48988d110941735'\u001b[0m\u001b[1m]\u001b[0m │ \u001b[1m[\u001b[0m\u001b[32m'Dining and Drinking > Restaurant > Italian Restaurant'\u001b[0m\u001b[1m]\u001b[0m                            │ \u001b[32m852a100ffffffff\u001b[0m │ \u001b[32mDining and Drinking               \u001b[0m │ \u001b[32mRestaurant        \u001b[0m │ \u001b[32mItalian Restaurant    \u001b[0m │\n",
       "│ \u001b[32m4bea3677415e20a110d8e4bb\u001b[0m │ \u001b[32mBisma lounge                            \u001b[0m │ \u001b[1;36m-6.134262\u001b[0m │  \u001b[1;36m106.864683\u001b[0m │ \u001b[32mSunter city          \u001b[0m │ \u001b[32mJakarta utara\u001b[0m │ \u001b[32mID     \u001b[0m │ \u001b[2mNULL\u001b[0m                         │ \u001b[2mNULL\u001b[0m                                                                                 │ \u001b[32m858c12b7fffffff\u001b[0m │ \u001b[2mNULL\u001b[0m                               │ \u001b[2mNULL\u001b[0m               │ \u001b[2mNULL\u001b[0m                   │\n",
       "│ \u001b[32mdca3aeba404e4b6006620a46\u001b[0m │ \u001b[32mGrace Motorworks                        \u001b[0m │ \u001b[1;36m34.180992\u001b[0m │ \u001b[1;36m-118.537669\u001b[0m │ \u001b[32mTarzana              \u001b[0m │ \u001b[32mCA           \u001b[0m │ \u001b[32mUS     \u001b[0m │ \u001b[1m[\u001b[0m\u001b[32m'52f2ab2ebcbc57f1066b8b44'\u001b[0m\u001b[1m]\u001b[0m │ \u001b[1m[\u001b[0m\u001b[32m'Business and Professional Services > Automotive Service > Automotive Repair Shop'\u001b[0m\u001b[1m]\u001b[0m │ \u001b[32m8529a18bfffffff\u001b[0m │ \u001b[32mBusiness and Professional Services\u001b[0m │ \u001b[32mAutomotive Service\u001b[0m │ \u001b[32mAutomotive Repair Shop\u001b[0m │\n",
       "└──────────────────────────┴──────────────────────────────────────────┴───────────┴─────────────┴───────────────────────┴───────────────┴─────────┴──────────────────────────────┴──────────────────────────────────────────────────────────────────────────────────────┴─────────────────┴────────────────────────────────────┴────────────────────┴────────────────────────┘"
      ]
     },
     "execution_count": 24,
     "metadata": {},
     "output_type": "execute_result"
    }
   ],
   "source": [
    "places_h3.head()"
   ]
  },
  {
   "cell_type": "code",
   "execution_count": 25,
   "metadata": {},
   "outputs": [
    {
     "data": {
      "application/vnd.jupyter.widget-view+json": {
       "model_id": "cf48ecf2a8c24d8b816f520ab5eb36fe",
       "version_major": 2,
       "version_minor": 0
      },
      "text/plain": [
       "FloatProgress(value=0.0, layout=Layout(width='auto'), style=ProgressStyle(bar_color='black'))"
      ]
     },
     "metadata": {},
     "output_type": "display_data"
    },
    {
     "data": {
      "text/html": [
       "<div>\n",
       "<style scoped>\n",
       "    .dataframe tbody tr th:only-of-type {\n",
       "        vertical-align: middle;\n",
       "    }\n",
       "\n",
       "    .dataframe tbody tr th {\n",
       "        vertical-align: top;\n",
       "    }\n",
       "\n",
       "    .dataframe thead th {\n",
       "        text-align: right;\n",
       "    }\n",
       "</style>\n",
       "<table border=\"1\" class=\"dataframe\">\n",
       "  <thead>\n",
       "    <tr style=\"text-align: right;\">\n",
       "      <th></th>\n",
       "      <th>primary</th>\n",
       "      <th>primary_count</th>\n",
       "    </tr>\n",
       "  </thead>\n",
       "  <tbody>\n",
       "    <tr>\n",
       "      <th>0</th>\n",
       "      <td>Retail</td>\n",
       "      <td>15191632</td>\n",
       "    </tr>\n",
       "    <tr>\n",
       "      <th>1</th>\n",
       "      <td>Community and Government</td>\n",
       "      <td>11618950</td>\n",
       "    </tr>\n",
       "    <tr>\n",
       "      <th>2</th>\n",
       "      <td>Event</td>\n",
       "      <td>798664</td>\n",
       "    </tr>\n",
       "    <tr>\n",
       "      <th>3</th>\n",
       "      <td>Landmarks and Outdoors</td>\n",
       "      <td>6706523</td>\n",
       "    </tr>\n",
       "    <tr>\n",
       "      <th>4</th>\n",
       "      <td>Arts and Entertainment</td>\n",
       "      <td>3228616</td>\n",
       "    </tr>\n",
       "    <tr>\n",
       "      <th>5</th>\n",
       "      <td>Sports and Recreation</td>\n",
       "      <td>2214536</td>\n",
       "    </tr>\n",
       "    <tr>\n",
       "      <th>6</th>\n",
       "      <td>Travel and Transportation</td>\n",
       "      <td>7340595</td>\n",
       "    </tr>\n",
       "    <tr>\n",
       "      <th>7</th>\n",
       "      <td>Health and Medicine</td>\n",
       "      <td>4615604</td>\n",
       "    </tr>\n",
       "    <tr>\n",
       "      <th>8</th>\n",
       "      <td>Dining and Drinking</td>\n",
       "      <td>17277887</td>\n",
       "    </tr>\n",
       "    <tr>\n",
       "      <th>9</th>\n",
       "      <td>None</td>\n",
       "      <td>11525326</td>\n",
       "    </tr>\n",
       "    <tr>\n",
       "      <th>10</th>\n",
       "      <td>Business and Professional Services</td>\n",
       "      <td>23657860</td>\n",
       "    </tr>\n",
       "  </tbody>\n",
       "</table>\n",
       "</div>"
      ],
      "text/plain": [
       "                               primary  primary_count\n",
       "0                               Retail       15191632\n",
       "1             Community and Government       11618950\n",
       "2                                Event         798664\n",
       "3               Landmarks and Outdoors        6706523\n",
       "4               Arts and Entertainment        3228616\n",
       "5                Sports and Recreation        2214536\n",
       "6            Travel and Transportation        7340595\n",
       "7                  Health and Medicine        4615604\n",
       "8                  Dining and Drinking       17277887\n",
       "9                                 None       11525326\n",
       "10  Business and Professional Services       23657860"
      ]
     },
     "execution_count": 25,
     "metadata": {},
     "output_type": "execute_result"
    }
   ],
   "source": [
    "places_h3.primary.value_counts().execute()"
   ]
  },
  {
   "cell_type": "code",
   "execution_count": 26,
   "metadata": {},
   "outputs": [
    {
     "data": {
      "application/vnd.jupyter.widget-view+json": {
       "model_id": "9ddd3927163b44808942813d03a7a249",
       "version_major": 2,
       "version_minor": 0
      },
      "text/plain": [
       "FloatProgress(value=0.0, layout=Layout(width='auto'), style=ProgressStyle(bar_color='black'))"
      ]
     },
     "metadata": {},
     "output_type": "display_data"
    },
    {
     "data": {
      "text/html": [
       "<pre style=\"white-space:pre;overflow-x:auto;line-height:normal;font-family:Menlo,'DejaVu Sans Mono',consolas,'Courier New',monospace\"></pre>\n"
      ],
      "text/plain": []
     },
     "metadata": {},
     "output_type": "display_data"
    },
    {
     "data": {
      "text/plain": [
       "┌─────┐\n",
       "│ \u001b[1;36m432\u001b[0m │\n",
       "└─────┘"
      ]
     },
     "execution_count": 26,
     "metadata": {},
     "output_type": "execute_result"
    }
   ],
   "source": [
    "places_h3.sec.nunique()"
   ]
  },
  {
   "cell_type": "code",
   "execution_count": 27,
   "metadata": {},
   "outputs": [
    {
     "data": {
      "application/vnd.jupyter.widget-view+json": {
       "model_id": "ddb59dbaf28a4576ad8a48c3858519d1",
       "version_major": 2,
       "version_minor": 0
      },
      "text/plain": [
       "FloatProgress(value=0.0, layout=Layout(width='auto'), style=ProgressStyle(bar_color='black'))"
      ]
     },
     "metadata": {},
     "output_type": "display_data"
    },
    {
     "data": {
      "text/html": [
       "<pre style=\"white-space:pre;overflow-x:auto;line-height:normal;font-family:Menlo,'DejaVu Sans Mono',consolas,'Courier New',monospace\">┏━━━━━━━━━━━━━━━━━━━━━━━━━━┳━━━━━━━━━━━┓\n",
       "┃<span style=\"font-weight: bold\"> sec                      </span>┃<span style=\"font-weight: bold\"> sec_count </span>┃\n",
       "┡━━━━━━━━━━━━━━━━━━━━━━━━━━╇━━━━━━━━━━━┩\n",
       "│ <span style=\"color: #7f7f7f; text-decoration-color: #7f7f7f\">string</span>                   │ <span style=\"color: #7f7f7f; text-decoration-color: #7f7f7f\">int64</span>     │\n",
       "├──────────────────────────┼───────────┤\n",
       "│ <span style=\"color: #008000; text-decoration-color: #008000\">Furniture and Home Store</span> │    <span style=\"color: #008080; text-decoration-color: #008080; font-weight: bold\">812569</span> │\n",
       "│ <span style=\"color: #008000; text-decoration-color: #008000\">Office                  </span> │   <span style=\"color: #008080; text-decoration-color: #008080; font-weight: bold\">3620432</span> │\n",
       "│ <span style=\"color: #008000; text-decoration-color: #008000\">Stadium                 </span> │    <span style=\"color: #008080; text-decoration-color: #008080; font-weight: bold\">125276</span> │\n",
       "│ <span style=\"color: #008000; text-decoration-color: #008000\">Beach                   </span> │    <span style=\"color: #008080; text-decoration-color: #008080; font-weight: bold\">221447</span> │\n",
       "│ <span style=\"color: #008000; text-decoration-color: #008000\">Night Club              </span> │    <span style=\"color: #008080; text-decoration-color: #008080; font-weight: bold\">305991</span> │\n",
       "│ <span style=\"color: #008000; text-decoration-color: #008000\">Plaza                   </span> │    <span style=\"color: #008080; text-decoration-color: #008080; font-weight: bold\">157951</span> │\n",
       "│ <span style=\"color: #008000; text-decoration-color: #008000\">Museum                  </span> │    <span style=\"color: #008080; text-decoration-color: #008080; font-weight: bold\">142498</span> │\n",
       "│ <span style=\"color: #008000; text-decoration-color: #008000\">Office Supply Store     </span> │    <span style=\"color: #008080; text-decoration-color: #008080; font-weight: bold\">120977</span> │\n",
       "│ <span style=\"color: #008000; text-decoration-color: #008000\">Insurance Agency        </span> │    <span style=\"color: #008080; text-decoration-color: #008080; font-weight: bold\">373999</span> │\n",
       "│ <span style=\"color: #008000; text-decoration-color: #008000\">Lake                    </span> │    <span style=\"color: #008080; text-decoration-color: #008080; font-weight: bold\">141896</span> │\n",
       "│ <span style=\"color: #7f7f7f; text-decoration-color: #7f7f7f\">…</span>                        │         <span style=\"color: #7f7f7f; text-decoration-color: #7f7f7f\">…</span> │\n",
       "└──────────────────────────┴───────────┘\n",
       "</pre>\n"
      ],
      "text/plain": [
       "┏━━━━━━━━━━━━━━━━━━━━━━━━━━┳━━━━━━━━━━━┓\n",
       "┃\u001b[1m \u001b[0m\u001b[1msec\u001b[0m\u001b[1m                     \u001b[0m\u001b[1m \u001b[0m┃\u001b[1m \u001b[0m\u001b[1msec_count\u001b[0m\u001b[1m \u001b[0m┃\n",
       "┡━━━━━━━━━━━━━━━━━━━━━━━━━━╇━━━━━━━━━━━┩\n",
       "│ \u001b[2mstring\u001b[0m                   │ \u001b[2mint64\u001b[0m     │\n",
       "├──────────────────────────┼───────────┤\n",
       "│ \u001b[32mFurniture and Home Store\u001b[0m │    \u001b[1;36m812569\u001b[0m │\n",
       "│ \u001b[32mOffice                  \u001b[0m │   \u001b[1;36m3620432\u001b[0m │\n",
       "│ \u001b[32mStadium                 \u001b[0m │    \u001b[1;36m125276\u001b[0m │\n",
       "│ \u001b[32mBeach                   \u001b[0m │    \u001b[1;36m221447\u001b[0m │\n",
       "│ \u001b[32mNight Club              \u001b[0m │    \u001b[1;36m305991\u001b[0m │\n",
       "│ \u001b[32mPlaza                   \u001b[0m │    \u001b[1;36m157951\u001b[0m │\n",
       "│ \u001b[32mMuseum                  \u001b[0m │    \u001b[1;36m142498\u001b[0m │\n",
       "│ \u001b[32mOffice Supply Store     \u001b[0m │    \u001b[1;36m120977\u001b[0m │\n",
       "│ \u001b[32mInsurance Agency        \u001b[0m │    \u001b[1;36m373999\u001b[0m │\n",
       "│ \u001b[32mLake                    \u001b[0m │    \u001b[1;36m141896\u001b[0m │\n",
       "│ \u001b[2m…\u001b[0m                        │         \u001b[2m…\u001b[0m │\n",
       "└──────────────────────────┴───────────┘"
      ]
     },
     "execution_count": 27,
     "metadata": {},
     "output_type": "execute_result"
    }
   ],
   "source": [
    "places_h3.sec.value_counts()\n"
   ]
  },
  {
   "cell_type": "code",
   "execution_count": 28,
   "metadata": {},
   "outputs": [
    {
     "data": {
      "application/vnd.jupyter.widget-view+json": {
       "model_id": "f79664d8f61942f7a7e46c8b015cea34",
       "version_major": 2,
       "version_minor": 0
      },
      "text/plain": [
       "FloatProgress(value=0.0, layout=Layout(width='auto'), style=ProgressStyle(bar_color='black'))"
      ]
     },
     "metadata": {},
     "output_type": "display_data"
    },
    {
     "data": {
      "text/html": [
       "<pre style=\"white-space:pre;overflow-x:auto;line-height:normal;font-family:Menlo,'DejaVu Sans Mono',consolas,'Courier New',monospace\"></pre>\n"
      ],
      "text/plain": []
     },
     "metadata": {},
     "output_type": "display_data"
    },
    {
     "data": {
      "text/plain": [
       "┌─────┐\n",
       "│ \u001b[1;36m464\u001b[0m │\n",
       "└─────┘"
      ]
     },
     "execution_count": 28,
     "metadata": {},
     "output_type": "execute_result"
    }
   ],
   "source": [
    "places_h3.raw.nunique()\n"
   ]
  },
  {
   "cell_type": "code",
   "execution_count": 29,
   "metadata": {},
   "outputs": [
    {
     "data": {
      "application/vnd.jupyter.widget-view+json": {
       "model_id": "f4bc57582590415686cc2eea339a21af",
       "version_major": 2,
       "version_minor": 0
      },
      "text/plain": [
       "FloatProgress(value=0.0, layout=Layout(width='auto'), style=ProgressStyle(bar_color='black'))"
      ]
     },
     "metadata": {},
     "output_type": "display_data"
    },
    {
     "data": {
      "text/html": [
       "<pre style=\"white-space:pre;overflow-x:auto;line-height:normal;font-family:Menlo,'DejaVu Sans Mono',consolas,'Courier New',monospace\">┏━━━━━━━━━━━━━━━━━━━━━━┳━━━━━━━━━━━┓\n",
       "┃<span style=\"font-weight: bold\"> raw                  </span>┃<span style=\"font-weight: bold\"> raw_count </span>┃\n",
       "┡━━━━━━━━━━━━━━━━━━━━━━╇━━━━━━━━━━━┩\n",
       "│ <span style=\"color: #7f7f7f; text-decoration-color: #7f7f7f\">string</span>               │ <span style=\"color: #7f7f7f; text-decoration-color: #7f7f7f\">int64</span>     │\n",
       "├──────────────────────┼───────────┤\n",
       "│ <span style=\"color: #008000; text-decoration-color: #008000\">Pizzeria            </span> │    <span style=\"color: #008080; text-decoration-color: #008080; font-weight: bold\">588357</span> │\n",
       "│ <span style=\"color: #008000; text-decoration-color: #008000\">Pet Grooming Service</span> │     <span style=\"color: #008080; text-decoration-color: #008080; font-weight: bold\">32593</span> │\n",
       "│ <span style=\"color: #008000; text-decoration-color: #008000\">Cheese Store        </span> │     <span style=\"color: #008080; text-decoration-color: #008080; font-weight: bold\">22789</span> │\n",
       "│ <span style=\"color: #008000; text-decoration-color: #008000\">Capitol Building    </span> │     <span style=\"color: #008080; text-decoration-color: #008080; font-weight: bold\">47357</span> │\n",
       "│ <span style=\"color: #008000; text-decoration-color: #008000\">Car Dealership      </span> │    <span style=\"color: #008080; text-decoration-color: #008080; font-weight: bold\">476951</span> │\n",
       "│ <span style=\"color: #008000; text-decoration-color: #008000\">General Contractor  </span> │    <span style=\"color: #008080; text-decoration-color: #008080; font-weight: bold\">574628</span> │\n",
       "│ <span style=\"color: #008000; text-decoration-color: #008000\">Town                </span> │     <span style=\"color: #008080; text-decoration-color: #008080; font-weight: bold\">59672</span> │\n",
       "│ <span style=\"color: #008000; text-decoration-color: #008000\">Buddhist Temple     </span> │     <span style=\"color: #008080; text-decoration-color: #008080; font-weight: bold\">55406</span> │\n",
       "│ <span style=\"color: #008000; text-decoration-color: #008000\">Bathroom Contractor </span> │     <span style=\"color: #008080; text-decoration-color: #008080; font-weight: bold\">31972</span> │\n",
       "│ <span style=\"color: #008000; text-decoration-color: #008000\">Home Service        </span> │    <span style=\"color: #008080; text-decoration-color: #008080; font-weight: bold\">280848</span> │\n",
       "│ <span style=\"color: #7f7f7f; text-decoration-color: #7f7f7f\">…</span>                    │         <span style=\"color: #7f7f7f; text-decoration-color: #7f7f7f\">…</span> │\n",
       "└──────────────────────┴───────────┘\n",
       "</pre>\n"
      ],
      "text/plain": [
       "┏━━━━━━━━━━━━━━━━━━━━━━┳━━━━━━━━━━━┓\n",
       "┃\u001b[1m \u001b[0m\u001b[1mraw\u001b[0m\u001b[1m                 \u001b[0m\u001b[1m \u001b[0m┃\u001b[1m \u001b[0m\u001b[1mraw_count\u001b[0m\u001b[1m \u001b[0m┃\n",
       "┡━━━━━━━━━━━━━━━━━━━━━━╇━━━━━━━━━━━┩\n",
       "│ \u001b[2mstring\u001b[0m               │ \u001b[2mint64\u001b[0m     │\n",
       "├──────────────────────┼───────────┤\n",
       "│ \u001b[32mPizzeria            \u001b[0m │    \u001b[1;36m588357\u001b[0m │\n",
       "│ \u001b[32mPet Grooming Service\u001b[0m │     \u001b[1;36m32593\u001b[0m │\n",
       "│ \u001b[32mCheese Store        \u001b[0m │     \u001b[1;36m22789\u001b[0m │\n",
       "│ \u001b[32mCapitol Building    \u001b[0m │     \u001b[1;36m47357\u001b[0m │\n",
       "│ \u001b[32mCar Dealership      \u001b[0m │    \u001b[1;36m476951\u001b[0m │\n",
       "│ \u001b[32mGeneral Contractor  \u001b[0m │    \u001b[1;36m574628\u001b[0m │\n",
       "│ \u001b[32mTown                \u001b[0m │     \u001b[1;36m59672\u001b[0m │\n",
       "│ \u001b[32mBuddhist Temple     \u001b[0m │     \u001b[1;36m55406\u001b[0m │\n",
       "│ \u001b[32mBathroom Contractor \u001b[0m │     \u001b[1;36m31972\u001b[0m │\n",
       "│ \u001b[32mHome Service        \u001b[0m │    \u001b[1;36m280848\u001b[0m │\n",
       "│ \u001b[2m…\u001b[0m                    │         \u001b[2m…\u001b[0m │\n",
       "└──────────────────────┴───────────┘"
      ]
     },
     "execution_count": 29,
     "metadata": {},
     "output_type": "execute_result"
    }
   ],
   "source": [
    "places_h3.raw.value_counts()"
   ]
  },
  {
   "cell_type": "code",
   "execution_count": 30,
   "metadata": {},
   "outputs": [
    {
     "data": {
      "application/vnd.jupyter.widget-view+json": {
       "model_id": "6ba6e9cd7a9b4c128eee461f50efe654",
       "version_major": 2,
       "version_minor": 0
      },
      "text/plain": [
       "FloatProgress(value=0.0, layout=Layout(width='auto'), style=ProgressStyle(bar_color='black'))"
      ]
     },
     "metadata": {},
     "output_type": "display_data"
    },
    {
     "data": {
      "text/html": [
       "<pre style=\"white-space:pre;overflow-x:auto;line-height:normal;font-family:Menlo,'DejaVu Sans Mono',consolas,'Courier New',monospace\"></pre>\n"
      ],
      "text/plain": []
     },
     "metadata": {},
     "output_type": "display_data"
    },
    {
     "data": {
      "text/plain": [
       "┌──────┐\n",
       "│ \u001b[3;92mTrue\u001b[0m │\n",
       "└──────┘"
      ]
     },
     "execution_count": 30,
     "metadata": {},
     "output_type": "execute_result"
    }
   ],
   "source": [
    "# \n",
    "places_h3.filter(_.primary.isnull()).sec.isnull().all()"
   ]
  },
  {
   "cell_type": "code",
   "execution_count": 31,
   "metadata": {},
   "outputs": [
    {
     "data": {
      "application/vnd.jupyter.widget-view+json": {
       "model_id": "3219ed9f19ec4482a1f40f1dedba00e8",
       "version_major": 2,
       "version_minor": 0
      },
      "text/plain": [
       "FloatProgress(value=0.0, layout=Layout(width='auto'), style=ProgressStyle(bar_color='black'))"
      ]
     },
     "metadata": {},
     "output_type": "display_data"
    },
    {
     "data": {
      "text/html": [
       "<pre style=\"white-space:pre;overflow-x:auto;line-height:normal;font-family:Menlo,'DejaVu Sans Mono',consolas,'Courier New',monospace\"></pre>\n"
      ],
      "text/plain": []
     },
     "metadata": {},
     "output_type": "display_data"
    },
    {
     "data": {
      "text/plain": [
       "┌───────┐\n",
       "│ \u001b[3;91mFalse\u001b[0m │\n",
       "└───────┘"
      ]
     },
     "execution_count": 31,
     "metadata": {},
     "output_type": "execute_result"
    }
   ],
   "source": [
    "places_h3.filter(_.sec.isnull()).primary.isnull().all()"
   ]
  },
  {
   "cell_type": "code",
   "execution_count": 32,
   "metadata": {},
   "outputs": [
    {
     "data": {
      "application/vnd.jupyter.widget-view+json": {
       "model_id": "8fd748427c0e46658806659df32effca",
       "version_major": 2,
       "version_minor": 0
      },
      "text/plain": [
       "FloatProgress(value=0.0, layout=Layout(width='auto'), style=ProgressStyle(bar_color='black'))"
      ]
     },
     "metadata": {},
     "output_type": "display_data"
    },
    {
     "data": {
      "text/html": [
       "<pre style=\"white-space:pre;overflow-x:auto;line-height:normal;font-family:Menlo,'DejaVu Sans Mono',consolas,'Courier New',monospace\"></pre>\n"
      ],
      "text/plain": []
     },
     "metadata": {},
     "output_type": "display_data"
    },
    {
     "data": {
      "text/plain": [
       "┌──────┐\n",
       "│ \u001b[3;92mTrue\u001b[0m │\n",
       "└──────┘"
      ]
     },
     "execution_count": 32,
     "metadata": {},
     "output_type": "execute_result"
    }
   ],
   "source": [
    "places_h3.filter(_.sec.isnull()).raw.isnull().all()"
   ]
  },
  {
   "cell_type": "code",
   "execution_count": 33,
   "metadata": {},
   "outputs": [
    {
     "data": {
      "application/vnd.jupyter.widget-view+json": {
       "model_id": "fe8ba44f88284b0aba20d87d6e297c9d",
       "version_major": 2,
       "version_minor": 0
      },
      "text/plain": [
       "FloatProgress(value=0.0, layout=Layout(width='auto'), style=ProgressStyle(bar_color='black'))"
      ]
     },
     "metadata": {},
     "output_type": "display_data"
    },
    {
     "data": {
      "text/html": [
       "<pre style=\"white-space:pre;overflow-x:auto;line-height:normal;font-family:Menlo,'DejaVu Sans Mono',consolas,'Courier New',monospace\"></pre>\n"
      ],
      "text/plain": []
     },
     "metadata": {},
     "output_type": "display_data"
    },
    {
     "data": {
      "text/plain": [
       "┌───────┐\n",
       "│ \u001b[3;91mFalse\u001b[0m │\n",
       "└───────┘"
      ]
     },
     "execution_count": 33,
     "metadata": {},
     "output_type": "execute_result"
    }
   ],
   "source": [
    "places_h3.filter(_.raw.isnull()).sec.isnull().all()"
   ]
  },
  {
   "cell_type": "markdown",
   "metadata": {},
   "source": [
    "### Narrowing down categories"
   ]
  },
  {
   "cell_type": "code",
   "execution_count": 34,
   "metadata": {},
   "outputs": [],
   "source": [
    "primary_exclude = [\"Health and Medicine\",\"Landmarks and Outdoors\",\"Community and Government\"]"
   ]
  },
  {
   "cell_type": "code",
   "execution_count": 35,
   "metadata": {},
   "outputs": [],
   "source": [
    "places_h3 = places_h3.filter(~_.primary.isin(primary_exclude))"
   ]
  },
  {
   "cell_type": "code",
   "execution_count": 36,
   "metadata": {},
   "outputs": [
    {
     "data": {
      "application/vnd.jupyter.widget-view+json": {
       "model_id": "acf446ff56364f1fb44c99d3e806a3f3",
       "version_major": 2,
       "version_minor": 0
      },
      "text/plain": [
       "FloatProgress(value=0.0, layout=Layout(width='auto'), style=ProgressStyle(bar_color='black'))"
      ]
     },
     "metadata": {},
     "output_type": "display_data"
    },
    {
     "data": {
      "text/html": [
       "<pre style=\"white-space:pre;overflow-x:auto;line-height:normal;font-family:Menlo,'DejaVu Sans Mono',consolas,'Courier New',monospace\"></pre>\n"
      ],
      "text/plain": []
     },
     "metadata": {},
     "output_type": "display_data"
    },
    {
     "name": "stdout",
     "output_type": "stream",
     "text": [
      "┌──────────┐\n",
      "│ \u001b[1;36m69709790\u001b[0m │\n",
      "└──────────┘\n"
     ]
    },
    {
     "data": {
      "text/html": [
       "<pre style=\"white-space:pre;overflow-x:auto;line-height:normal;font-family:Menlo,'DejaVu Sans Mono',consolas,'Courier New',monospace\">┏━━━━━━━━━━━━━━━━━━━━━━━━━━┳━━━━━━━━━━━━━━━━━━━━━━━━━━━━━━━━━━━━━━━━━━┳━━━━━━━━━━━┳━━━━━━━━━━━━━┳━━━━━━━━━━━━━━━━━━━━━━━┳━━━━━━━━━━━━━━━┳━━━━━━━━━┳━━━━━━━━━━━━━━━━━━━━━━━━━━━━━━┳━━━━━━━━━━━━━━━━━━━━━━━━━━━━━━━━━━━━━━━━━━━━━━━━━━━━━━━━━━━━━━━━━━━━━━━━━━━━━━━━━━━━━━━━┳━━━━━━━━━━━━━━━━━┳━━━━━━━━━━━━━━━━━━━━━━━━━━━━━━━━━━━━┳━━━━━━━━━━━━━━━━━━━━┳━━━━━━━━━━━━━━━━━━━━━━━━┓\n",
       "┃<span style=\"font-weight: bold\"> fsq_place_id             </span>┃<span style=\"font-weight: bold\"> name                                     </span>┃<span style=\"font-weight: bold\"> latitude  </span>┃<span style=\"font-weight: bold\"> longitude   </span>┃<span style=\"font-weight: bold\"> locality              </span>┃<span style=\"font-weight: bold\"> region        </span>┃<span style=\"font-weight: bold\"> country </span>┃<span style=\"font-weight: bold\"> fsq_category_ids             </span>┃<span style=\"font-weight: bold\"> fsq_category_labels                                                                    </span>┃<span style=\"font-weight: bold\"> h3_id           </span>┃<span style=\"font-weight: bold\"> primary                            </span>┃<span style=\"font-weight: bold\"> sec                </span>┃<span style=\"font-weight: bold\"> raw                    </span>┃\n",
       "┡━━━━━━━━━━━━━━━━━━━━━━━━━━╇━━━━━━━━━━━━━━━━━━━━━━━━━━━━━━━━━━━━━━━━━━╇━━━━━━━━━━━╇━━━━━━━━━━━━━╇━━━━━━━━━━━━━━━━━━━━━━━╇━━━━━━━━━━━━━━━╇━━━━━━━━━╇━━━━━━━━━━━━━━━━━━━━━━━━━━━━━━╇━━━━━━━━━━━━━━━━━━━━━━━━━━━━━━━━━━━━━━━━━━━━━━━━━━━━━━━━━━━━━━━━━━━━━━━━━━━━━━━━━━━━━━━━╇━━━━━━━━━━━━━━━━━╇━━━━━━━━━━━━━━━━━━━━━━━━━━━━━━━━━━━━╇━━━━━━━━━━━━━━━━━━━━╇━━━━━━━━━━━━━━━━━━━━━━━━┩\n",
       "│ <span style=\"color: #7f7f7f; text-decoration-color: #7f7f7f\">string</span>                   │ <span style=\"color: #7f7f7f; text-decoration-color: #7f7f7f\">string</span>                                   │ <span style=\"color: #7f7f7f; text-decoration-color: #7f7f7f\">float64</span>   │ <span style=\"color: #7f7f7f; text-decoration-color: #7f7f7f\">float64</span>     │ <span style=\"color: #7f7f7f; text-decoration-color: #7f7f7f\">string</span>                │ <span style=\"color: #7f7f7f; text-decoration-color: #7f7f7f\">string</span>        │ <span style=\"color: #7f7f7f; text-decoration-color: #7f7f7f\">string</span>  │ <span style=\"color: #7f7f7f; text-decoration-color: #7f7f7f\">array&lt;string&gt;</span>                │ <span style=\"color: #7f7f7f; text-decoration-color: #7f7f7f\">array&lt;string&gt;</span>                                                                          │ <span style=\"color: #7f7f7f; text-decoration-color: #7f7f7f\">string</span>          │ <span style=\"color: #7f7f7f; text-decoration-color: #7f7f7f\">string</span>                             │ <span style=\"color: #7f7f7f; text-decoration-color: #7f7f7f\">string</span>             │ <span style=\"color: #7f7f7f; text-decoration-color: #7f7f7f\">string</span>                 │\n",
       "├──────────────────────────┼──────────────────────────────────────────┼───────────┼─────────────┼───────────────────────┼───────────────┼─────────┼──────────────────────────────┼────────────────────────────────────────────────────────────────────────────────────────┼─────────────────┼────────────────────────────────────┼────────────────────┼────────────────────────┤\n",
       "│ <span style=\"color: #008000; text-decoration-color: #008000\">4aee4d4688a04abe82d1ace4</span> │ <span style=\"color: #008000; text-decoration-color: #008000\">Canada House                            </span> │ <span style=\"color: #008080; text-decoration-color: #008080; font-weight: bold\">41.781153</span> │    <span style=\"color: #008080; text-decoration-color: #008080; font-weight: bold\">3.029574</span> │ <span style=\"color: #008000; text-decoration-color: #008000\">Sant Feliu de Guíxols</span> │ <span style=\"color: #008000; text-decoration-color: #008000\">Gerona       </span> │ <span style=\"color: #008000; text-decoration-color: #008000\">ES     </span> │ <span style=\"font-weight: bold\">[</span><span style=\"color: #008000; text-decoration-color: #008000\">'4bf58dd8d48988d103951735'</span><span style=\"font-weight: bold\">]</span> │ <span style=\"font-weight: bold\">[</span><span style=\"color: #008000; text-decoration-color: #008000\">'Retail &gt; Fashion Retail &gt; Clothing Store'</span><span style=\"font-weight: bold\">]</span>                                           │ <span style=\"color: #008000; text-decoration-color: #008000\">85394557fffffff</span> │ <span style=\"color: #008000; text-decoration-color: #008000\">Retail                            </span> │ <span style=\"color: #008000; text-decoration-color: #008000\">Fashion Retail    </span> │ <span style=\"color: #008000; text-decoration-color: #008000\">Clothing Store        </span> │\n",
       "│ <span style=\"color: #008000; text-decoration-color: #008000\">cb57d89eed29405b908b0b6e</span> │ <span style=\"color: #008000; text-decoration-color: #008000\">Fotos. Zakład fotograficzny. Głowacka T.</span> │ <span style=\"color: #008080; text-decoration-color: #008080; font-weight: bold\">52.192667</span> │   <span style=\"color: #008080; text-decoration-color: #008080; font-weight: bold\">18.633436</span> │ <span style=\"color: #008000; text-decoration-color: #008000\">Koło                 </span> │ <span style=\"color: #008000; text-decoration-color: #008000\">Wielkopolskie</span> │ <span style=\"color: #008000; text-decoration-color: #008000\">PL     </span> │ <span style=\"font-weight: bold\">[</span><span style=\"color: #008000; text-decoration-color: #008000\">'4d4b7105d754a06378d81259'</span><span style=\"font-weight: bold\">]</span> │ <span style=\"font-weight: bold\">[</span><span style=\"color: #008000; text-decoration-color: #008000\">'Retail'</span><span style=\"font-weight: bold\">]</span>                                                                             │ <span style=\"color: #008000; text-decoration-color: #008000\">851e253bfffffff</span> │ <span style=\"color: #008000; text-decoration-color: #008000\">Retail                            </span> │ <span style=\"color: #7f7f7f; text-decoration-color: #7f7f7f\">NULL</span>               │ <span style=\"color: #7f7f7f; text-decoration-color: #7f7f7f\">NULL</span>                   │\n",
       "│ <span style=\"color: #008000; text-decoration-color: #008000\">59a4553d112c6c2b6c378e08</span> │ <span style=\"color: #008000; text-decoration-color: #008000\">CoHo                                    </span> │ <span style=\"color: #008080; text-decoration-color: #008080; font-weight: bold\">40.774559</span> │  <span style=\"color: #008080; text-decoration-color: #008080; font-weight: bold\">-73.871849</span> │ <span style=\"color: #008000; text-decoration-color: #008000\">New York             </span> │ <span style=\"color: #008000; text-decoration-color: #008000\">NY           </span> │ <span style=\"color: #008000; text-decoration-color: #008000\">US     </span> │ <span style=\"font-weight: bold\">[</span><span style=\"color: #008000; text-decoration-color: #008000\">'4bf58dd8d48988d110941735'</span><span style=\"font-weight: bold\">]</span> │ <span style=\"font-weight: bold\">[</span><span style=\"color: #008000; text-decoration-color: #008000\">'Dining and Drinking &gt; Restaurant &gt; Italian Restaurant'</span><span style=\"font-weight: bold\">]</span>                              │ <span style=\"color: #008000; text-decoration-color: #008000\">852a100ffffffff</span> │ <span style=\"color: #008000; text-decoration-color: #008000\">Dining and Drinking               </span> │ <span style=\"color: #008000; text-decoration-color: #008000\">Restaurant        </span> │ <span style=\"color: #008000; text-decoration-color: #008000\">Italian Restaurant    </span> │\n",
       "│ <span style=\"color: #008000; text-decoration-color: #008000\">dca3aeba404e4b6006620a46</span> │ <span style=\"color: #008000; text-decoration-color: #008000\">Grace Motorworks                        </span> │ <span style=\"color: #008080; text-decoration-color: #008080; font-weight: bold\">34.180992</span> │ <span style=\"color: #008080; text-decoration-color: #008080; font-weight: bold\">-118.537669</span> │ <span style=\"color: #008000; text-decoration-color: #008000\">Tarzana              </span> │ <span style=\"color: #008000; text-decoration-color: #008000\">CA           </span> │ <span style=\"color: #008000; text-decoration-color: #008000\">US     </span> │ <span style=\"font-weight: bold\">[</span><span style=\"color: #008000; text-decoration-color: #008000\">'52f2ab2ebcbc57f1066b8b44'</span><span style=\"font-weight: bold\">]</span> │ <span style=\"font-weight: bold\">[</span><span style=\"color: #008000; text-decoration-color: #008000\">'Business and Professional Services &gt; Automotive Service &gt; Automotive Repair Shop'</span><span style=\"font-weight: bold\">]</span>   │ <span style=\"color: #008000; text-decoration-color: #008000\">8529a18bfffffff</span> │ <span style=\"color: #008000; text-decoration-color: #008000\">Business and Professional Services</span> │ <span style=\"color: #008000; text-decoration-color: #008000\">Automotive Service</span> │ <span style=\"color: #008000; text-decoration-color: #008000\">Automotive Repair Shop</span> │\n",
       "│ <span style=\"color: #008000; text-decoration-color: #008000\">505a6a8be4b066ff885b3204</span> │ <span style=\"color: #008000; text-decoration-color: #008000\">沖縄海邦銀行 国頭支店                   </span> │ <span style=\"color: #008080; text-decoration-color: #008080; font-weight: bold\">26.732990</span> │  <span style=\"color: #008080; text-decoration-color: #008080; font-weight: bold\">128.203686</span> │ <span style=\"color: #008000; text-decoration-color: #008000\">国頭郡国頭村         </span> │ <span style=\"color: #008000; text-decoration-color: #008000\">沖縄県       </span> │ <span style=\"color: #008000; text-decoration-color: #008000\">JP     </span> │ <span style=\"font-weight: bold\">[</span><span style=\"color: #008000; text-decoration-color: #008000\">'4bf58dd8d48988d10a951735'</span><span style=\"font-weight: bold\">]</span> │ <span style=\"font-weight: bold\">[</span><span style=\"color: #008000; text-decoration-color: #008000\">'Business and Professional Services &gt; Financial Service &gt; Banking and Finance &gt; B'</span>+<span style=\"color: #008080; text-decoration-color: #008080; font-weight: bold\">3</span><span style=\"font-weight: bold\">]</span> │ <span style=\"color: #008000; text-decoration-color: #008000\">854a26b7fffffff</span> │ <span style=\"color: #008000; text-decoration-color: #008000\">Business and Professional Services</span> │ <span style=\"color: #008000; text-decoration-color: #008000\">Financial Service </span> │ <span style=\"color: #008000; text-decoration-color: #008000\">Banking and Finance   </span> │\n",
       "└──────────────────────────┴──────────────────────────────────────────┴───────────┴─────────────┴───────────────────────┴───────────────┴─────────┴──────────────────────────────┴────────────────────────────────────────────────────────────────────────────────────────┴─────────────────┴────────────────────────────────────┴────────────────────┴────────────────────────┘\n",
       "</pre>\n"
      ],
      "text/plain": [
       "┏━━━━━━━━━━━━━━━━━━━━━━━━━━┳━━━━━━━━━━━━━━━━━━━━━━━━━━━━━━━━━━━━━━━━━━┳━━━━━━━━━━━┳━━━━━━━━━━━━━┳━━━━━━━━━━━━━━━━━━━━━━━┳━━━━━━━━━━━━━━━┳━━━━━━━━━┳━━━━━━━━━━━━━━━━━━━━━━━━━━━━━━┳━━━━━━━━━━━━━━━━━━━━━━━━━━━━━━━━━━━━━━━━━━━━━━━━━━━━━━━━━━━━━━━━━━━━━━━━━━━━━━━━━━━━━━━━┳━━━━━━━━━━━━━━━━━┳━━━━━━━━━━━━━━━━━━━━━━━━━━━━━━━━━━━━┳━━━━━━━━━━━━━━━━━━━━┳━━━━━━━━━━━━━━━━━━━━━━━━┓\n",
       "┃\u001b[1m \u001b[0m\u001b[1mfsq_place_id\u001b[0m\u001b[1m            \u001b[0m\u001b[1m \u001b[0m┃\u001b[1m \u001b[0m\u001b[1mname\u001b[0m\u001b[1m                                    \u001b[0m\u001b[1m \u001b[0m┃\u001b[1m \u001b[0m\u001b[1mlatitude\u001b[0m\u001b[1m \u001b[0m\u001b[1m \u001b[0m┃\u001b[1m \u001b[0m\u001b[1mlongitude\u001b[0m\u001b[1m  \u001b[0m\u001b[1m \u001b[0m┃\u001b[1m \u001b[0m\u001b[1mlocality\u001b[0m\u001b[1m             \u001b[0m\u001b[1m \u001b[0m┃\u001b[1m \u001b[0m\u001b[1mregion\u001b[0m\u001b[1m       \u001b[0m\u001b[1m \u001b[0m┃\u001b[1m \u001b[0m\u001b[1mcountry\u001b[0m\u001b[1m \u001b[0m┃\u001b[1m \u001b[0m\u001b[1mfsq_category_ids\u001b[0m\u001b[1m            \u001b[0m\u001b[1m \u001b[0m┃\u001b[1m \u001b[0m\u001b[1mfsq_category_labels\u001b[0m\u001b[1m                                                                   \u001b[0m\u001b[1m \u001b[0m┃\u001b[1m \u001b[0m\u001b[1mh3_id\u001b[0m\u001b[1m          \u001b[0m\u001b[1m \u001b[0m┃\u001b[1m \u001b[0m\u001b[1mprimary\u001b[0m\u001b[1m                           \u001b[0m\u001b[1m \u001b[0m┃\u001b[1m \u001b[0m\u001b[1msec\u001b[0m\u001b[1m               \u001b[0m\u001b[1m \u001b[0m┃\u001b[1m \u001b[0m\u001b[1mraw\u001b[0m\u001b[1m                   \u001b[0m\u001b[1m \u001b[0m┃\n",
       "┡━━━━━━━━━━━━━━━━━━━━━━━━━━╇━━━━━━━━━━━━━━━━━━━━━━━━━━━━━━━━━━━━━━━━━━╇━━━━━━━━━━━╇━━━━━━━━━━━━━╇━━━━━━━━━━━━━━━━━━━━━━━╇━━━━━━━━━━━━━━━╇━━━━━━━━━╇━━━━━━━━━━━━━━━━━━━━━━━━━━━━━━╇━━━━━━━━━━━━━━━━━━━━━━━━━━━━━━━━━━━━━━━━━━━━━━━━━━━━━━━━━━━━━━━━━━━━━━━━━━━━━━━━━━━━━━━━╇━━━━━━━━━━━━━━━━━╇━━━━━━━━━━━━━━━━━━━━━━━━━━━━━━━━━━━━╇━━━━━━━━━━━━━━━━━━━━╇━━━━━━━━━━━━━━━━━━━━━━━━┩\n",
       "│ \u001b[2mstring\u001b[0m                   │ \u001b[2mstring\u001b[0m                                   │ \u001b[2mfloat64\u001b[0m   │ \u001b[2mfloat64\u001b[0m     │ \u001b[2mstring\u001b[0m                │ \u001b[2mstring\u001b[0m        │ \u001b[2mstring\u001b[0m  │ \u001b[2marray<string>\u001b[0m                │ \u001b[2marray<string>\u001b[0m                                                                          │ \u001b[2mstring\u001b[0m          │ \u001b[2mstring\u001b[0m                             │ \u001b[2mstring\u001b[0m             │ \u001b[2mstring\u001b[0m                 │\n",
       "├──────────────────────────┼──────────────────────────────────────────┼───────────┼─────────────┼───────────────────────┼───────────────┼─────────┼──────────────────────────────┼────────────────────────────────────────────────────────────────────────────────────────┼─────────────────┼────────────────────────────────────┼────────────────────┼────────────────────────┤\n",
       "│ \u001b[32m4aee4d4688a04abe82d1ace4\u001b[0m │ \u001b[32mCanada House                            \u001b[0m │ \u001b[1;36m41.781153\u001b[0m │    \u001b[1;36m3.029574\u001b[0m │ \u001b[32mSant Feliu de Guíxols\u001b[0m │ \u001b[32mGerona       \u001b[0m │ \u001b[32mES     \u001b[0m │ \u001b[1m[\u001b[0m\u001b[32m'4bf58dd8d48988d103951735'\u001b[0m\u001b[1m]\u001b[0m │ \u001b[1m[\u001b[0m\u001b[32m'Retail > Fashion Retail > Clothing Store'\u001b[0m\u001b[1m]\u001b[0m                                           │ \u001b[32m85394557fffffff\u001b[0m │ \u001b[32mRetail                            \u001b[0m │ \u001b[32mFashion Retail    \u001b[0m │ \u001b[32mClothing Store        \u001b[0m │\n",
       "│ \u001b[32mcb57d89eed29405b908b0b6e\u001b[0m │ \u001b[32mFotos. Zakład fotograficzny. Głowacka T.\u001b[0m │ \u001b[1;36m52.192667\u001b[0m │   \u001b[1;36m18.633436\u001b[0m │ \u001b[32mKoło                 \u001b[0m │ \u001b[32mWielkopolskie\u001b[0m │ \u001b[32mPL     \u001b[0m │ \u001b[1m[\u001b[0m\u001b[32m'4d4b7105d754a06378d81259'\u001b[0m\u001b[1m]\u001b[0m │ \u001b[1m[\u001b[0m\u001b[32m'Retail'\u001b[0m\u001b[1m]\u001b[0m                                                                             │ \u001b[32m851e253bfffffff\u001b[0m │ \u001b[32mRetail                            \u001b[0m │ \u001b[2mNULL\u001b[0m               │ \u001b[2mNULL\u001b[0m                   │\n",
       "│ \u001b[32m59a4553d112c6c2b6c378e08\u001b[0m │ \u001b[32mCoHo                                    \u001b[0m │ \u001b[1;36m40.774559\u001b[0m │  \u001b[1;36m-73.871849\u001b[0m │ \u001b[32mNew York             \u001b[0m │ \u001b[32mNY           \u001b[0m │ \u001b[32mUS     \u001b[0m │ \u001b[1m[\u001b[0m\u001b[32m'4bf58dd8d48988d110941735'\u001b[0m\u001b[1m]\u001b[0m │ \u001b[1m[\u001b[0m\u001b[32m'Dining and Drinking > Restaurant > Italian Restaurant'\u001b[0m\u001b[1m]\u001b[0m                              │ \u001b[32m852a100ffffffff\u001b[0m │ \u001b[32mDining and Drinking               \u001b[0m │ \u001b[32mRestaurant        \u001b[0m │ \u001b[32mItalian Restaurant    \u001b[0m │\n",
       "│ \u001b[32mdca3aeba404e4b6006620a46\u001b[0m │ \u001b[32mGrace Motorworks                        \u001b[0m │ \u001b[1;36m34.180992\u001b[0m │ \u001b[1;36m-118.537669\u001b[0m │ \u001b[32mTarzana              \u001b[0m │ \u001b[32mCA           \u001b[0m │ \u001b[32mUS     \u001b[0m │ \u001b[1m[\u001b[0m\u001b[32m'52f2ab2ebcbc57f1066b8b44'\u001b[0m\u001b[1m]\u001b[0m │ \u001b[1m[\u001b[0m\u001b[32m'Business and Professional Services > Automotive Service > Automotive Repair Shop'\u001b[0m\u001b[1m]\u001b[0m   │ \u001b[32m8529a18bfffffff\u001b[0m │ \u001b[32mBusiness and Professional Services\u001b[0m │ \u001b[32mAutomotive Service\u001b[0m │ \u001b[32mAutomotive Repair Shop\u001b[0m │\n",
       "│ \u001b[32m505a6a8be4b066ff885b3204\u001b[0m │ \u001b[32m沖縄海邦銀行 国頭支店                   \u001b[0m │ \u001b[1;36m26.732990\u001b[0m │  \u001b[1;36m128.203686\u001b[0m │ \u001b[32m国頭郡国頭村         \u001b[0m │ \u001b[32m沖縄県       \u001b[0m │ \u001b[32mJP     \u001b[0m │ \u001b[1m[\u001b[0m\u001b[32m'4bf58dd8d48988d10a951735'\u001b[0m\u001b[1m]\u001b[0m │ \u001b[1m[\u001b[0m\u001b[32m'Business and Professional Services > Financial Service > Banking and Finance > B'\u001b[0m+\u001b[1;36m3\u001b[0m\u001b[1m]\u001b[0m │ \u001b[32m854a26b7fffffff\u001b[0m │ \u001b[32mBusiness and Professional Services\u001b[0m │ \u001b[32mFinancial Service \u001b[0m │ \u001b[32mBanking and Finance   \u001b[0m │\n",
       "└──────────────────────────┴──────────────────────────────────────────┴───────────┴─────────────┴───────────────────────┴───────────────┴─────────┴──────────────────────────────┴────────────────────────────────────────────────────────────────────────────────────────┴─────────────────┴────────────────────────────────────┴────────────────────┴────────────────────────┘"
      ]
     },
     "execution_count": 36,
     "metadata": {},
     "output_type": "execute_result"
    }
   ],
   "source": [
    "print(places_h3.count())\n",
    "places_h3.head()"
   ]
  },
  {
   "cell_type": "code",
   "execution_count": null,
   "metadata": {},
   "outputs": [
    {
     "data": {
      "application/vnd.jupyter.widget-view+json": {
       "model_id": "b40a042823ce4f5380a03e35db4d2552",
       "version_major": 2,
       "version_minor": 0
      },
      "text/plain": [
       "FloatProgress(value=0.0, layout=Layout(width='auto'), style=ProgressStyle(bar_color='black'))"
      ]
     },
     "metadata": {},
     "output_type": "display_data"
    }
   ],
   "source": [
    "fsq_processed_file = \"../datasets/foursquare/processed/places.parquet\"\n",
    "if not os.path.exists(fsq_processed_file):\n",
    "    places_h3.select(\"fsq_place_id\",\"name\",\"latitude\",\"longitude\",\"locality\",\"region\",\"country\",\"primary\",\"sec\",\"raw\").to_parquet(fsq_processed_file)"
   ]
  },
  {
   "cell_type": "markdown",
   "metadata": {},
   "source": [
    "## Primary categories groups"
   ]
  },
  {
   "cell_type": "code",
   "execution_count": 36,
   "metadata": {},
   "outputs": [],
   "source": [
    "# places_h3.group_by(\"h3_id\").mutate(count=_.count())"
   ]
  },
  {
   "cell_type": "markdown",
   "metadata": {},
   "source": [
    "## Places density"
   ]
  },
  {
   "cell_type": "code",
   "execution_count": 37,
   "metadata": {},
   "outputs": [],
   "source": [
    "places_count = places_h3.h3_id.value_counts()"
   ]
  },
  {
   "cell_type": "code",
   "execution_count": 38,
   "metadata": {},
   "outputs": [
    {
     "data": {
      "application/vnd.jupyter.widget-view+json": {
       "model_id": "1d7a5d938cba4772be757d89f77ead0d",
       "version_major": 2,
       "version_minor": 0
      },
      "text/plain": [
       "FloatProgress(value=0.0, layout=Layout(width='auto'), style=ProgressStyle(bar_color='black'))"
      ]
     },
     "metadata": {},
     "output_type": "display_data"
    },
    {
     "data": {
      "text/html": [
       "<pre style=\"white-space:pre;overflow-x:auto;line-height:normal;font-family:Menlo,'DejaVu Sans Mono',consolas,'Courier New',monospace\">┏━━━━━━━━━━━━━━━━━┳━━━━━━━━━━━━━┓\n",
       "┃<span style=\"font-weight: bold\"> h3_id           </span>┃<span style=\"font-weight: bold\"> h3_id_count </span>┃\n",
       "┡━━━━━━━━━━━━━━━━━╇━━━━━━━━━━━━━┩\n",
       "│ <span style=\"color: #7f7f7f; text-decoration-color: #7f7f7f\">string</span>          │ <span style=\"color: #7f7f7f; text-decoration-color: #7f7f7f\">int64</span>       │\n",
       "├─────────────────┼─────────────┤\n",
       "│ <span style=\"color: #008000; text-decoration-color: #008000\">85394557fffffff</span> │        <span style=\"color: #008080; text-decoration-color: #008080; font-weight: bold\">3674</span> │\n",
       "│ <span style=\"color: #008000; text-decoration-color: #008000\">8529a18bfffffff</span> │       <span style=\"color: #008080; text-decoration-color: #008080; font-weight: bold\">45743</span> │\n",
       "│ <span style=\"color: #008000; text-decoration-color: #008000\">85c2ec63fffffff</span> │          <span style=\"color: #008080; text-decoration-color: #008080; font-weight: bold\">36</span> │\n",
       "│ <span style=\"color: #008000; text-decoration-color: #008000\">85ad3617fffffff</span> │       <span style=\"color: #008080; text-decoration-color: #008080; font-weight: bold\">12142</span> │\n",
       "│ <span style=\"color: #008000; text-decoration-color: #008000\">851fa457fffffff</span> │       <span style=\"color: #008080; text-decoration-color: #008080; font-weight: bold\">18073</span> │\n",
       "└─────────────────┴─────────────┘\n",
       "</pre>\n"
      ],
      "text/plain": [
       "┏━━━━━━━━━━━━━━━━━┳━━━━━━━━━━━━━┓\n",
       "┃\u001b[1m \u001b[0m\u001b[1mh3_id\u001b[0m\u001b[1m          \u001b[0m\u001b[1m \u001b[0m┃\u001b[1m \u001b[0m\u001b[1mh3_id_count\u001b[0m\u001b[1m \u001b[0m┃\n",
       "┡━━━━━━━━━━━━━━━━━╇━━━━━━━━━━━━━┩\n",
       "│ \u001b[2mstring\u001b[0m          │ \u001b[2mint64\u001b[0m       │\n",
       "├─────────────────┼─────────────┤\n",
       "│ \u001b[32m85394557fffffff\u001b[0m │        \u001b[1;36m3674\u001b[0m │\n",
       "│ \u001b[32m8529a18bfffffff\u001b[0m │       \u001b[1;36m45743\u001b[0m │\n",
       "│ \u001b[32m85c2ec63fffffff\u001b[0m │          \u001b[1;36m36\u001b[0m │\n",
       "│ \u001b[32m85ad3617fffffff\u001b[0m │       \u001b[1;36m12142\u001b[0m │\n",
       "│ \u001b[32m851fa457fffffff\u001b[0m │       \u001b[1;36m18073\u001b[0m │\n",
       "└─────────────────┴─────────────┘"
      ]
     },
     "execution_count": 38,
     "metadata": {},
     "output_type": "execute_result"
    }
   ],
   "source": [
    "places_count.head()"
   ]
  },
  {
   "cell_type": "markdown",
   "metadata": {},
   "source": [
    "### Low density categories"
   ]
  },
  {
   "cell_type": "code",
   "execution_count": 40,
   "metadata": {},
   "outputs": [],
   "source": [
    "# ib.to_sql(places_count)\n",
    "places_h3 = places_h3.join(places_count,\"h3_id\",how=\"left\",)"
   ]
  },
  {
   "cell_type": "code",
   "execution_count": 41,
   "metadata": {},
   "outputs": [
    {
     "data": {
      "application/vnd.jupyter.widget-view+json": {
       "model_id": "67e785079133493ebfb6e0047ff77cc7",
       "version_major": 2,
       "version_minor": 0
      },
      "text/plain": [
       "FloatProgress(value=0.0, layout=Layout(width='auto'), style=ProgressStyle(bar_color='black'))"
      ]
     },
     "metadata": {},
     "output_type": "display_data"
    }
   ],
   "source": [
    "low_dens_places_df = places_h3.filter(_.h3_id_count<4).execute()"
   ]
  },
  {
   "cell_type": "code",
   "execution_count": 42,
   "metadata": {},
   "outputs": [
    {
     "data": {
      "text/html": [
       "<div>\n",
       "<style scoped>\n",
       "    .dataframe tbody tr th:only-of-type {\n",
       "        vertical-align: middle;\n",
       "    }\n",
       "\n",
       "    .dataframe tbody tr th {\n",
       "        vertical-align: top;\n",
       "    }\n",
       "\n",
       "    .dataframe thead th {\n",
       "        text-align: right;\n",
       "    }\n",
       "</style>\n",
       "<table border=\"1\" class=\"dataframe\">\n",
       "  <thead>\n",
       "    <tr style=\"text-align: right;\">\n",
       "      <th></th>\n",
       "      <th>fsq_place_id</th>\n",
       "      <th>name</th>\n",
       "      <th>latitude</th>\n",
       "      <th>longitude</th>\n",
       "      <th>locality</th>\n",
       "      <th>region</th>\n",
       "      <th>country</th>\n",
       "      <th>fsq_category_ids</th>\n",
       "      <th>fsq_category_labels</th>\n",
       "      <th>h3_id</th>\n",
       "      <th>primary</th>\n",
       "      <th>sec</th>\n",
       "      <th>raw</th>\n",
       "      <th>h3_id_right</th>\n",
       "      <th>h3_id_count</th>\n",
       "    </tr>\n",
       "  </thead>\n",
       "  <tbody>\n",
       "    <tr>\n",
       "      <th>0</th>\n",
       "      <td>5577e639498e93b583766fa5</td>\n",
       "      <td>Льонок</td>\n",
       "      <td>51.330140</td>\n",
       "      <td>31.677754</td>\n",
       "      <td>Куликовка</td>\n",
       "      <td>None</td>\n",
       "      <td>UA</td>\n",
       "      <td>[4bf58dd8d48988d1f9941735]</td>\n",
       "      <td>[Retail &gt; Food and Beverage Retail]</td>\n",
       "      <td>851e61b3fffffff</td>\n",
       "      <td>Retail</td>\n",
       "      <td>Food and Beverage Retail</td>\n",
       "      <td>None</td>\n",
       "      <td>851e61b3fffffff</td>\n",
       "      <td>1</td>\n",
       "    </tr>\n",
       "    <tr>\n",
       "      <th>1</th>\n",
       "      <td>1575a6780cba4f0b1bb3e7e6</td>\n",
       "      <td>Resto Au Soleil Couchant</td>\n",
       "      <td>48.728138</td>\n",
       "      <td>-79.462230</td>\n",
       "      <td>Clerval</td>\n",
       "      <td>QC</td>\n",
       "      <td>CA</td>\n",
       "      <td>[4bf58dd8d48988d147941735]</td>\n",
       "      <td>[Dining and Drinking &gt; Restaurant &gt; Diner]</td>\n",
       "      <td>852b94d3fffffff</td>\n",
       "      <td>Dining and Drinking</td>\n",
       "      <td>Restaurant</td>\n",
       "      <td>Diner</td>\n",
       "      <td>852b94d3fffffff</td>\n",
       "      <td>2</td>\n",
       "    </tr>\n",
       "    <tr>\n",
       "      <th>2</th>\n",
       "      <td>640a2ccd29068136a728990b</td>\n",
       "      <td>Pharmacie Kantakare</td>\n",
       "      <td>16.280230</td>\n",
       "      <td>-16.136066</td>\n",
       "      <td>Ross Béthio</td>\n",
       "      <td>Région de Saint Louis</td>\n",
       "      <td>SN</td>\n",
       "      <td>[4bf58dd8d48988d10f951735]</td>\n",
       "      <td>[Retail &gt; Pharmacy]</td>\n",
       "      <td>85541023fffffff</td>\n",
       "      <td>Retail</td>\n",
       "      <td>Pharmacy</td>\n",
       "      <td>None</td>\n",
       "      <td>85541023fffffff</td>\n",
       "      <td>3</td>\n",
       "    </tr>\n",
       "    <tr>\n",
       "      <th>3</th>\n",
       "      <td>4f82ec49e4b0e160bb920d36</td>\n",
       "      <td>Belén De Los Andaquíes</td>\n",
       "      <td>1.411036</td>\n",
       "      <td>-75.871689</td>\n",
       "      <td>None</td>\n",
       "      <td>None</td>\n",
       "      <td>CO</td>\n",
       "      <td>[4d4b7105d754a06379d81259]</td>\n",
       "      <td>[Travel and Transportation]</td>\n",
       "      <td>8566c043fffffff</td>\n",
       "      <td>Travel and Transportation</td>\n",
       "      <td>None</td>\n",
       "      <td>None</td>\n",
       "      <td>8566c043fffffff</td>\n",
       "      <td>3</td>\n",
       "    </tr>\n",
       "    <tr>\n",
       "      <th>4</th>\n",
       "      <td>5735ed06498e851ad9f2ebf8</td>\n",
       "      <td>El Negocio de Mamá</td>\n",
       "      <td>7.121814</td>\n",
       "      <td>0.012703</td>\n",
       "      <td>None</td>\n",
       "      <td>None</td>\n",
       "      <td>GH</td>\n",
       "      <td>[52f2ab2ebcbc57f1066b8b1d]</td>\n",
       "      <td>[Business and Professional Services &gt; Health a...</td>\n",
       "      <td>85752d1bfffffff</td>\n",
       "      <td>Business and Professional Services</td>\n",
       "      <td>Health and Beauty Service</td>\n",
       "      <td>Dry Cleaner</td>\n",
       "      <td>85752d1bfffffff</td>\n",
       "      <td>2</td>\n",
       "    </tr>\n",
       "    <tr>\n",
       "      <th>...</th>\n",
       "      <td>...</td>\n",
       "      <td>...</td>\n",
       "      <td>...</td>\n",
       "      <td>...</td>\n",
       "      <td>...</td>\n",
       "      <td>...</td>\n",
       "      <td>...</td>\n",
       "      <td>...</td>\n",
       "      <td>...</td>\n",
       "      <td>...</td>\n",
       "      <td>...</td>\n",
       "      <td>...</td>\n",
       "      <td>...</td>\n",
       "      <td>...</td>\n",
       "      <td>...</td>\n",
       "    </tr>\n",
       "    <tr>\n",
       "      <th>120339</th>\n",
       "      <td>5531f8a7498ee29a12707829</td>\n",
       "      <td>Hero Horce Riding Club</td>\n",
       "      <td>39.112548</td>\n",
       "      <td>116.926876</td>\n",
       "      <td>None</td>\n",
       "      <td>None</td>\n",
       "      <td>CN</td>\n",
       "      <td>[52e81612bcbc57f1066b7a2e]</td>\n",
       "      <td>[Sports and Recreation &gt; Sports Club]</td>\n",
       "      <td>85318c47fffffff</td>\n",
       "      <td>Sports and Recreation</td>\n",
       "      <td>Sports Club</td>\n",
       "      <td>None</td>\n",
       "      <td>85318c47fffffff</td>\n",
       "      <td>3</td>\n",
       "    </tr>\n",
       "    <tr>\n",
       "      <th>120340</th>\n",
       "      <td>53fc8d9c498e738553d412b2</td>\n",
       "      <td>Posto Oeste Bahia</td>\n",
       "      <td>-12.925580</td>\n",
       "      <td>-45.974480</td>\n",
       "      <td>None</td>\n",
       "      <td>None</td>\n",
       "      <td>BR</td>\n",
       "      <td>[52e81612bcbc57f1066b79f4]</td>\n",
       "      <td>[Dining and Drinking &gt; Restaurant &gt; Buffet]</td>\n",
       "      <td>858129c3fffffff</td>\n",
       "      <td>Dining and Drinking</td>\n",
       "      <td>Restaurant</td>\n",
       "      <td>Buffet</td>\n",
       "      <td>858129c3fffffff</td>\n",
       "      <td>3</td>\n",
       "    </tr>\n",
       "    <tr>\n",
       "      <th>120341</th>\n",
       "      <td>53455551498eeaed8f6872b9</td>\n",
       "      <td>Сбербанк</td>\n",
       "      <td>48.198031</td>\n",
       "      <td>136.124949</td>\n",
       "      <td>поселок городского типа Мухен</td>\n",
       "      <td>None</td>\n",
       "      <td>RU</td>\n",
       "      <td>[4bf58dd8d48988d10a951735]</td>\n",
       "      <td>[Business and Professional Services &gt; Financia...</td>\n",
       "      <td>8514d2cffffffff</td>\n",
       "      <td>Business and Professional Services</td>\n",
       "      <td>Financial Service</td>\n",
       "      <td>Banking and Finance</td>\n",
       "      <td>8514d2cffffffff</td>\n",
       "      <td>2</td>\n",
       "    </tr>\n",
       "    <tr>\n",
       "      <th>120342</th>\n",
       "      <td>56a632ce498e6693802ae023</td>\n",
       "      <td>comercial BA Lucena</td>\n",
       "      <td>-6.654443</td>\n",
       "      <td>-64.291641</td>\n",
       "      <td>None</td>\n",
       "      <td>None</td>\n",
       "      <td>BR</td>\n",
       "      <td>[4eb1bea83b7b6f98df247e06]</td>\n",
       "      <td>[Business and Professional Services &gt; Factory]</td>\n",
       "      <td>858a0ccffffffff</td>\n",
       "      <td>Business and Professional Services</td>\n",
       "      <td>Factory</td>\n",
       "      <td>None</td>\n",
       "      <td>858a0ccffffffff</td>\n",
       "      <td>1</td>\n",
       "    </tr>\n",
       "    <tr>\n",
       "      <th>120343</th>\n",
       "      <td>568e79ad498e619eff57ab7a</td>\n",
       "      <td>Ganyan ve İddaa Bayii Zümrütevler</td>\n",
       "      <td>-0.643828</td>\n",
       "      <td>13.593027</td>\n",
       "      <td>None</td>\n",
       "      <td>None</td>\n",
       "      <td>GA</td>\n",
       "      <td>[4bf58dd8d48988d17c941735]</td>\n",
       "      <td>[Arts and Entertainment &gt; Casino]</td>\n",
       "      <td>8582a3b3fffffff</td>\n",
       "      <td>Arts and Entertainment</td>\n",
       "      <td>Casino</td>\n",
       "      <td>None</td>\n",
       "      <td>8582a3b3fffffff</td>\n",
       "      <td>1</td>\n",
       "    </tr>\n",
       "  </tbody>\n",
       "</table>\n",
       "<p>120344 rows × 15 columns</p>\n",
       "</div>"
      ],
      "text/plain": [
       "                    fsq_place_id                               name  \\\n",
       "0       5577e639498e93b583766fa5                             Льонок   \n",
       "1       1575a6780cba4f0b1bb3e7e6           Resto Au Soleil Couchant   \n",
       "2       640a2ccd29068136a728990b                Pharmacie Kantakare   \n",
       "3       4f82ec49e4b0e160bb920d36             Belén De Los Andaquíes   \n",
       "4       5735ed06498e851ad9f2ebf8                 El Negocio de Mamá   \n",
       "...                          ...                                ...   \n",
       "120339  5531f8a7498ee29a12707829             Hero Horce Riding Club   \n",
       "120340  53fc8d9c498e738553d412b2                  Posto Oeste Bahia   \n",
       "120341  53455551498eeaed8f6872b9                           Сбербанк   \n",
       "120342  56a632ce498e6693802ae023                comercial BA Lucena   \n",
       "120343  568e79ad498e619eff57ab7a  Ganyan ve İddaa Bayii Zümrütevler   \n",
       "\n",
       "         latitude   longitude                       locality  \\\n",
       "0       51.330140   31.677754                      Куликовка   \n",
       "1       48.728138  -79.462230                        Clerval   \n",
       "2       16.280230  -16.136066                    Ross Béthio   \n",
       "3        1.411036  -75.871689                           None   \n",
       "4        7.121814    0.012703                           None   \n",
       "...           ...         ...                            ...   \n",
       "120339  39.112548  116.926876                           None   \n",
       "120340 -12.925580  -45.974480                           None   \n",
       "120341  48.198031  136.124949  поселок городского типа Мухен   \n",
       "120342  -6.654443  -64.291641                           None   \n",
       "120343  -0.643828   13.593027                           None   \n",
       "\n",
       "                       region country            fsq_category_ids  \\\n",
       "0                        None      UA  [4bf58dd8d48988d1f9941735]   \n",
       "1                          QC      CA  [4bf58dd8d48988d147941735]   \n",
       "2       Région de Saint Louis      SN  [4bf58dd8d48988d10f951735]   \n",
       "3                        None      CO  [4d4b7105d754a06379d81259]   \n",
       "4                        None      GH  [52f2ab2ebcbc57f1066b8b1d]   \n",
       "...                       ...     ...                         ...   \n",
       "120339                   None      CN  [52e81612bcbc57f1066b7a2e]   \n",
       "120340                   None      BR  [52e81612bcbc57f1066b79f4]   \n",
       "120341                   None      RU  [4bf58dd8d48988d10a951735]   \n",
       "120342                   None      BR  [4eb1bea83b7b6f98df247e06]   \n",
       "120343                   None      GA  [4bf58dd8d48988d17c941735]   \n",
       "\n",
       "                                      fsq_category_labels            h3_id  \\\n",
       "0                     [Retail > Food and Beverage Retail]  851e61b3fffffff   \n",
       "1              [Dining and Drinking > Restaurant > Diner]  852b94d3fffffff   \n",
       "2                                     [Retail > Pharmacy]  85541023fffffff   \n",
       "3                             [Travel and Transportation]  8566c043fffffff   \n",
       "4       [Business and Professional Services > Health a...  85752d1bfffffff   \n",
       "...                                                   ...              ...   \n",
       "120339              [Sports and Recreation > Sports Club]  85318c47fffffff   \n",
       "120340        [Dining and Drinking > Restaurant > Buffet]  858129c3fffffff   \n",
       "120341  [Business and Professional Services > Financia...  8514d2cffffffff   \n",
       "120342     [Business and Professional Services > Factory]  858a0ccffffffff   \n",
       "120343                  [Arts and Entertainment > Casino]  8582a3b3fffffff   \n",
       "\n",
       "                                   primary                        sec  \\\n",
       "0                                   Retail   Food and Beverage Retail   \n",
       "1                      Dining and Drinking                 Restaurant   \n",
       "2                                   Retail                   Pharmacy   \n",
       "3                Travel and Transportation                       None   \n",
       "4       Business and Professional Services  Health and Beauty Service   \n",
       "...                                    ...                        ...   \n",
       "120339               Sports and Recreation                Sports Club   \n",
       "120340                 Dining and Drinking                 Restaurant   \n",
       "120341  Business and Professional Services          Financial Service   \n",
       "120342  Business and Professional Services                    Factory   \n",
       "120343              Arts and Entertainment                     Casino   \n",
       "\n",
       "                        raw      h3_id_right  h3_id_count  \n",
       "0                      None  851e61b3fffffff            1  \n",
       "1                     Diner  852b94d3fffffff            2  \n",
       "2                      None  85541023fffffff            3  \n",
       "3                      None  8566c043fffffff            3  \n",
       "4               Dry Cleaner  85752d1bfffffff            2  \n",
       "...                     ...              ...          ...  \n",
       "120339                 None  85318c47fffffff            3  \n",
       "120340               Buffet  858129c3fffffff            3  \n",
       "120341  Banking and Finance  8514d2cffffffff            2  \n",
       "120342                 None  858a0ccffffffff            1  \n",
       "120343                 None  8582a3b3fffffff            1  \n",
       "\n",
       "[120344 rows x 15 columns]"
      ]
     },
     "execution_count": 42,
     "metadata": {},
     "output_type": "execute_result"
    }
   ],
   "source": [
    "low_dens_places_df"
   ]
  },
  {
   "cell_type": "code",
   "execution_count": null,
   "metadata": {},
   "outputs": [],
   "source": [
    "dens_thres = 2"
   ]
  },
  {
   "cell_type": "code",
   "execution_count": null,
   "metadata": {},
   "outputs": [],
   "source": [
    "places_count_df = places_count.filter(_.h3_id_count>dens_thres).execute()"
   ]
  },
  {
   "cell_type": "code",
   "execution_count": null,
   "metadata": {},
   "outputs": [],
   "source": [
    "places_count_df.head()"
   ]
  },
  {
   "cell_type": "markdown",
   "metadata": {},
   "source": [
    "## Plotting "
   ]
  },
  {
   "cell_type": "code",
   "execution_count": null,
   "metadata": {},
   "outputs": [],
   "source": [
    "places_count_df[\"cols\"] = cmap(places_count_df[\"h3_id_count\"],palette=count_pal,log=True)"
   ]
  },
  {
   "cell_type": "code",
   "execution_count": null,
   "metadata": {},
   "outputs": [],
   "source": [
    "\n",
    "# Define a layer to display on a map\n",
    "layer = pdk.Layer(\n",
    "    \"H3HexagonLayer\",\n",
    "    places_count_df,#.sample(300_000),\n",
    "    pickable=True,\n",
    "    stroked=True,\n",
    "    filled=True,\n",
    "    opacity = .6,\n",
    "    extruded=False,\n",
    "    get_hexagon=\"h3_id\",\n",
    "    get_fill_color=\"cols\",\n",
    "    get_line_color=[255, 255, 255,0],\n",
    "    line_width_min_pixels=0,\n",
    ")\n",
    "\n",
    "# Set the viewport location\n",
    "view_state = pdk.ViewState(latitude=0, longitude=0, zoom=3, bearing=0, pitch=30)\n",
    "\n",
    "\n",
    "# Render\n",
    "r = pdk.Deck(layers=[layer], initial_view_state=view_state, tooltip={\"text\": \"Count: {h3_id_count}\"})\n",
    "r.to_html(\"../deck_maps/foursquare_places_dens_layer.html\",\n",
    "          iframe_height=700,\n",
    "          )"
   ]
  }
 ],
 "metadata": {
  "kernelspec": {
   "display_name": "Python 3",
   "language": "python",
   "name": "python3"
  },
  "language_info": {
   "codemirror_mode": {
    "name": "ipython",
    "version": 3
   },
   "file_extension": ".py",
   "mimetype": "text/x-python",
   "name": "python",
   "nbconvert_exporter": "python",
   "pygments_lexer": "ipython3",
   "version": "3.12.5"
  }
 },
 "nbformat": 4,
 "nbformat_minor": 2
}
