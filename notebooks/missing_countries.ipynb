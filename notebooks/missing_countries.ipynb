{
 "cells": [
  {
   "cell_type": "markdown",
   "metadata": {},
   "source": [
    "# This notebook covers the gap filling of the DOSE data set\n",
    "\n",
    "It uses the UN WDI, and the complementary set of countries from DOSE. "
   ]
  },
  {
   "cell_type": "code",
   "execution_count": 188,
   "metadata": {},
   "outputs": [],
   "source": [
    "import json\n",
    "import io\n",
    "import re\n",
    "import itertools as iter\n",
    "import numpy as np\n",
    "import os\n",
    "from random import sample\n",
    "from pathlib import Path\n",
    "\n",
    "from matplotlib import pyplot as plt\n",
    "# data\n",
    "\n",
    "import pandas as pd\n",
    "import ibis as ib\n",
    "from ibis import _\n",
    "ib.options.interactive = True\n",
    "\n",
    "from scalenav.oop import sn_connect\n",
    "\n",
    "from parameters import year,missing_frac"
   ]
  },
  {
   "cell_type": "code",
   "execution_count": 2,
   "metadata": {},
   "outputs": [
    {
     "name": "stdout",
     "output_type": "stream",
     "text": [
      "Connecting to a temporary in-memory DB instance.\n"
     ]
    },
    {
     "data": {
      "text/plain": [
       "[]"
      ]
     },
     "execution_count": 2,
     "metadata": {},
     "output_type": "execute_result"
    }
   ],
   "source": [
    "# The duckdb/ibis way require to either create an in-memory database at the moment of execution of the notebook, or saving the database in a file. \n",
    "conn = sn_connect()\n",
    "conn.list_tables() # empty"
   ]
  },
  {
   "cell_type": "markdown",
   "metadata": {},
   "source": [
    "### Enter A YEAR OF INTEREST IN parameters.py"
   ]
  },
  {
   "cell_type": "markdown",
   "metadata": {},
   "source": [
    "Reading in data\n",
    "\n",
    "With **ibis**"
   ]
  },
  {
   "cell_type": "code",
   "execution_count": 191,
   "metadata": {},
   "outputs": [
    {
     "name": "stdout",
     "output_type": "stream",
     "text": [
      "/Users/cenv1069/Documents/data/notebooks\n"
     ]
    }
   ],
   "source": [
    "Path.cwd()\n",
    "print(Path(os.getcwd()))"
   ]
  },
  {
   "cell_type": "code",
   "execution_count": 4,
   "metadata": {},
   "outputs": [],
   "source": [
    "dose = conn.read_csv(\"../datasets/DOSE/V2.10/DOSE_V2.10.csv\",table_name=\"dose\",all_varchar = True)"
   ]
  },
  {
   "cell_type": "code",
   "execution_count": 5,
   "metadata": {},
   "outputs": [],
   "source": [
    "wdi = conn.read_csv(\"../datasets/WDI_CSV_2024_06_28/WDICSV.csv\",table_name=\"wdi\")"
   ]
  },
  {
   "cell_type": "code",
   "execution_count": 8,
   "metadata": {},
   "outputs": [],
   "source": [
    "# the merged file\n",
    "# local path with folder where the downloaded shapefiles are stored \n",
    "# (both GADM and the custom one)\n",
    "gadm_path = '../datasets/DOSE/V2/DOSE_replication_files/DOSE_replication_files/Data/spatial data/' # ../../../../../\n",
    "\n",
    "# Read shapefiles\n",
    "file_name = \"gadm36_1\"\n",
    "# gpd.list_layers(gadm_path+file_name+\".gpkg\")\n",
    "\n",
    "# gadm = gpd.read_file(gadm_path+\"gadm36_levels_shp/\" + file_name+\".shp\")\n",
    "# has to be downloaded from https://gadm.org/download_world36.html; follow instructions in readme\n"
   ]
  },
  {
   "cell_type": "code",
   "execution_count": 9,
   "metadata": {},
   "outputs": [
    {
     "data": {
      "text/plain": [
       "<duckdb.duckdb.DuckDBPyConnection at 0x1068ed4b0>"
      ]
     },
     "execution_count": 9,
     "metadata": {},
     "output_type": "execute_result"
    }
   ],
   "source": [
    "# ../datasets/boundaries/GADM/gadm_410.gpkg\n",
    "conn.raw_sql(f\"\"\"CREATE OR REPLACE TABLE boundaries AS SELECT * FROM st_read('{gadm_path+\"gadm36_levels_shp/\" + file_name+\".shp\"}');\"\"\") "
   ]
  },
  {
   "cell_type": "code",
   "execution_count": 10,
   "metadata": {},
   "outputs": [],
   "source": [
    "boundaries = conn.table(\"boundaries\")"
   ]
  },
  {
   "cell_type": "code",
   "execution_count": 11,
   "metadata": {},
   "outputs": [],
   "source": [
    "boundaries = boundaries.rename(\"snake_case\")"
   ]
  },
  {
   "cell_type": "code",
   "execution_count": 12,
   "metadata": {},
   "outputs": [
    {
     "name": "stdout",
     "output_type": "stream",
     "text": [
      "228\n"
     ]
    },
    {
     "data": {
      "text/plain": [
       "['FJI', 'CPV', 'MAC', 'PRT', 'NRU']"
      ]
     },
     "execution_count": 12,
     "metadata": {},
     "output_type": "execute_result"
    }
   ],
   "source": [
    "boundary_countries = conn.sql(\"Select distinct(gid_0) from boundaries;\").to_pandas().iloc[:,0].to_list()\n",
    "print(len(boundary_countries))\n",
    "sample(boundary_countries,k=5)"
   ]
  },
  {
   "cell_type": "code",
   "execution_count": 13,
   "metadata": {
    "tags": [
     "rm_cell"
    ]
   },
   "outputs": [
    {
     "data": {
      "text/plain": [
       "['boundaries', 'dose', 'wdi']"
      ]
     },
     "execution_count": 13,
     "metadata": {},
     "output_type": "execute_result"
    }
   ],
   "source": [
    "# how to name tables properly ?\n",
    "conn.list_tables()"
   ]
  },
  {
   "cell_type": "markdown",
   "metadata": {},
   "source": [
    "### Inspection"
   ]
  },
  {
   "cell_type": "code",
   "execution_count": 14,
   "metadata": {
    "tags": [
     "rm_cell"
    ]
   },
   "outputs": [
    {
     "data": {
      "text/html": [
       "<pre style=\"white-space:pre;overflow-x:auto;line-height:normal;font-family:Menlo,'DejaVu Sans Mono',consolas,'Courier New',monospace\">┏━━━━━━━━━┳━━━━━━━━┳━━━━━━━━┳━━━━━━━━━┳━━━━━━━━┳━━━━━━━━━━━━━━━┳━━━━━━━━━━┳━━━━━━━━━━━━┳━━━━━━━━━━━━━━━┳━━━━━━━━━━━━━━━━┳━━━━━━━━━━━━━━━━━┳━━━━━━━━━━━━━┳━━━━━━━━━━━━━━━┳━━━━━━━━━━━━━━━━┳━━━━━━━━━━━━━━━━━┳━━━━━━━━━━━━━━━━━┳━━━━━━━━━━━━━━━━━━━━┳━━━━━━━━━━━━━━━━━━━━━┳━━━━━━━━━━━━━━━━━━━━━━┳━━━━━━━━━━━━━━━━━┳━━━━━━━━━━━━━━━━━━━━┳━━━━━━━━━━━━━━━━━━━━━┳━━━━━━━━━━━━━━━━━━━━━━┳━━━━━━━━━━━━━━━━━━━━┳━━━━━━━━━━━━━━━━━━━━━━━┳━━━━━━━━━━━━━━━━━━━━━━━━┳━━━━━━━━━━━━━━━━━━━━━━━━━┳━━━━━━━━━━━━━━━━━━━━┳━━━━━━━━━━━━━━━┳━━━━━━━━━━━━━┳━━━━━━━━━━━━━┳━━━━━━━━━━━━━━┳━━━━━━━━━┳━━━━━━━━━━━━━┳━━━━━━━━━━━━━━━━━━━┓\n",
       "┃<span style=\"font-weight: bold\"> country </span>┃<span style=\"font-weight: bold\"> region </span>┃<span style=\"font-weight: bold\"> GID_0  </span>┃<span style=\"font-weight: bold\"> GID_1   </span>┃<span style=\"font-weight: bold\"> year   </span>┃<span style=\"font-weight: bold\"> grp_lcu       </span>┃<span style=\"font-weight: bold\"> pop      </span>┃<span style=\"font-weight: bold\"> grp_pc_lcu </span>┃<span style=\"font-weight: bold\"> ag_grp_pc_lcu </span>┃<span style=\"font-weight: bold\"> man_grp_pc_lcu </span>┃<span style=\"font-weight: bold\"> serv_grp_pc_lcu </span>┃<span style=\"font-weight: bold\"> grp_pc_usd  </span>┃<span style=\"font-weight: bold\"> ag_grp_pc_usd </span>┃<span style=\"font-weight: bold\"> man_grp_pc_usd </span>┃<span style=\"font-weight: bold\"> serv_grp_pc_usd </span>┃<span style=\"font-weight: bold\"> grp_pc_lcu_2015 </span>┃<span style=\"font-weight: bold\"> ag_grp_pc_lcu_2015 </span>┃<span style=\"font-weight: bold\"> man_grp_pc_lcu_2015 </span>┃<span style=\"font-weight: bold\"> serv_grp_pc_lcu_2015 </span>┃<span style=\"font-weight: bold\"> grp_pc_usd_2015 </span>┃<span style=\"font-weight: bold\"> ag_grp_pc_usd_2015 </span>┃<span style=\"font-weight: bold\"> man_grp_pc_usd_2015 </span>┃<span style=\"font-weight: bold\"> serv_grp_pc_usd_2015 </span>┃<span style=\"font-weight: bold\"> grp_pc_lcu2015_usd </span>┃<span style=\"font-weight: bold\"> ag_grp_pc_lcu2015_usd </span>┃<span style=\"font-weight: bold\"> man_grp_pc_lcu2015_usd </span>┃<span style=\"font-weight: bold\"> serv_grp_pc_lcu2015_usd </span>┃<span style=\"font-weight: bold\"> cpi_2015           </span>┃<span style=\"font-weight: bold\"> deflator_2015 </span>┃<span style=\"font-weight: bold\"> fx          </span>┃<span style=\"font-weight: bold\"> PPP         </span>┃<span style=\"font-weight: bold\"> StructChange </span>┃<span style=\"font-weight: bold\"> version </span>┃<span style=\"font-weight: bold\"> T_a         </span>┃<span style=\"font-weight: bold\"> P_a               </span>┃\n",
       "┡━━━━━━━━━╇━━━━━━━━╇━━━━━━━━╇━━━━━━━━━╇━━━━━━━━╇━━━━━━━━━━━━━━━╇━━━━━━━━━━╇━━━━━━━━━━━━╇━━━━━━━━━━━━━━━╇━━━━━━━━━━━━━━━━╇━━━━━━━━━━━━━━━━━╇━━━━━━━━━━━━━╇━━━━━━━━━━━━━━━╇━━━━━━━━━━━━━━━━╇━━━━━━━━━━━━━━━━━╇━━━━━━━━━━━━━━━━━╇━━━━━━━━━━━━━━━━━━━━╇━━━━━━━━━━━━━━━━━━━━━╇━━━━━━━━━━━━━━━━━━━━━━╇━━━━━━━━━━━━━━━━━╇━━━━━━━━━━━━━━━━━━━━╇━━━━━━━━━━━━━━━━━━━━━╇━━━━━━━━━━━━━━━━━━━━━━╇━━━━━━━━━━━━━━━━━━━━╇━━━━━━━━━━━━━━━━━━━━━━━╇━━━━━━━━━━━━━━━━━━━━━━━━╇━━━━━━━━━━━━━━━━━━━━━━━━━╇━━━━━━━━━━━━━━━━━━━━╇━━━━━━━━━━━━━━━╇━━━━━━━━━━━━━╇━━━━━━━━━━━━━╇━━━━━━━━━━━━━━╇━━━━━━━━━╇━━━━━━━━━━━━━╇━━━━━━━━━━━━━━━━━━━┩\n",
       "│ <span style=\"color: #7f7f7f; text-decoration-color: #7f7f7f\">string</span>  │ <span style=\"color: #7f7f7f; text-decoration-color: #7f7f7f\">string</span> │ <span style=\"color: #7f7f7f; text-decoration-color: #7f7f7f\">string</span> │ <span style=\"color: #7f7f7f; text-decoration-color: #7f7f7f\">string</span>  │ <span style=\"color: #7f7f7f; text-decoration-color: #7f7f7f\">string</span> │ <span style=\"color: #7f7f7f; text-decoration-color: #7f7f7f\">string</span>        │ <span style=\"color: #7f7f7f; text-decoration-color: #7f7f7f\">string</span>   │ <span style=\"color: #7f7f7f; text-decoration-color: #7f7f7f\">string</span>     │ <span style=\"color: #7f7f7f; text-decoration-color: #7f7f7f\">string</span>        │ <span style=\"color: #7f7f7f; text-decoration-color: #7f7f7f\">string</span>         │ <span style=\"color: #7f7f7f; text-decoration-color: #7f7f7f\">string</span>          │ <span style=\"color: #7f7f7f; text-decoration-color: #7f7f7f\">string</span>      │ <span style=\"color: #7f7f7f; text-decoration-color: #7f7f7f\">string</span>        │ <span style=\"color: #7f7f7f; text-decoration-color: #7f7f7f\">string</span>         │ <span style=\"color: #7f7f7f; text-decoration-color: #7f7f7f\">string</span>          │ <span style=\"color: #7f7f7f; text-decoration-color: #7f7f7f\">string</span>          │ <span style=\"color: #7f7f7f; text-decoration-color: #7f7f7f\">string</span>             │ <span style=\"color: #7f7f7f; text-decoration-color: #7f7f7f\">string</span>              │ <span style=\"color: #7f7f7f; text-decoration-color: #7f7f7f\">string</span>               │ <span style=\"color: #7f7f7f; text-decoration-color: #7f7f7f\">string</span>          │ <span style=\"color: #7f7f7f; text-decoration-color: #7f7f7f\">string</span>             │ <span style=\"color: #7f7f7f; text-decoration-color: #7f7f7f\">string</span>              │ <span style=\"color: #7f7f7f; text-decoration-color: #7f7f7f\">string</span>               │ <span style=\"color: #7f7f7f; text-decoration-color: #7f7f7f\">string</span>             │ <span style=\"color: #7f7f7f; text-decoration-color: #7f7f7f\">string</span>                │ <span style=\"color: #7f7f7f; text-decoration-color: #7f7f7f\">string</span>                 │ <span style=\"color: #7f7f7f; text-decoration-color: #7f7f7f\">string</span>                  │ <span style=\"color: #7f7f7f; text-decoration-color: #7f7f7f\">string</span>             │ <span style=\"color: #7f7f7f; text-decoration-color: #7f7f7f\">string</span>        │ <span style=\"color: #7f7f7f; text-decoration-color: #7f7f7f\">string</span>      │ <span style=\"color: #7f7f7f; text-decoration-color: #7f7f7f\">string</span>      │ <span style=\"color: #7f7f7f; text-decoration-color: #7f7f7f\">string</span>       │ <span style=\"color: #7f7f7f; text-decoration-color: #7f7f7f\">string</span>  │ <span style=\"color: #7f7f7f; text-decoration-color: #7f7f7f\">string</span>      │ <span style=\"color: #7f7f7f; text-decoration-color: #7f7f7f\">string</span>            │\n",
       "├─────────┼────────┼────────┼─────────┼────────┼───────────────┼──────────┼────────────┼───────────────┼────────────────┼─────────────────┼─────────────┼───────────────┼────────────────┼─────────────────┼─────────────────┼────────────────────┼─────────────────────┼──────────────────────┼─────────────────┼────────────────────┼─────────────────────┼──────────────────────┼────────────────────┼───────────────────────┼────────────────────────┼─────────────────────────┼────────────────────┼───────────────┼─────────────┼─────────────┼──────────────┼─────────┼─────────────┼───────────────────┤\n",
       "│ <span style=\"color: #008000; text-decoration-color: #008000\">Albania</span> │ <span style=\"color: #008000; text-decoration-color: #008000\">Berat </span> │ <span style=\"color: #008000; text-decoration-color: #008000\">ALB   </span> │ <span style=\"color: #008000; text-decoration-color: #008000\">ALB.1_1</span> │ <span style=\"color: #008000; text-decoration-color: #008000\">2010  </span> │ <span style=\"color: #008000; text-decoration-color: #008000\">49416066001.0</span> │ <span style=\"color: #008000; text-decoration-color: #008000\">151375.0</span> │ <span style=\"color: #008000; text-decoration-color: #008000\">326448.0  </span> │ <span style=\"color: #7f7f7f; text-decoration-color: #7f7f7f\">NULL</span>          │ <span style=\"color: #7f7f7f; text-decoration-color: #7f7f7f\">NULL</span>           │ <span style=\"color: #7f7f7f; text-decoration-color: #7f7f7f\">NULL</span>            │ <span style=\"color: #008000; text-decoration-color: #008000\">3140.842514</span> │ <span style=\"color: #7f7f7f; text-decoration-color: #7f7f7f\">NULL</span>          │ <span style=\"color: #7f7f7f; text-decoration-color: #7f7f7f\">NULL</span>           │ <span style=\"color: #7f7f7f; text-decoration-color: #7f7f7f\">NULL</span>            │ <span style=\"color: #008000; text-decoration-color: #008000\">345645.9835    </span> │ <span style=\"color: #7f7f7f; text-decoration-color: #7f7f7f\">NULL</span>               │ <span style=\"color: #7f7f7f; text-decoration-color: #7f7f7f\">NULL</span>                │ <span style=\"color: #7f7f7f; text-decoration-color: #7f7f7f\">NULL</span>                 │ <span style=\"color: #008000; text-decoration-color: #008000\">3419.068968    </span> │ <span style=\"color: #7f7f7f; text-decoration-color: #7f7f7f\">NULL</span>               │ <span style=\"color: #7f7f7f; text-decoration-color: #7f7f7f\">NULL</span>                │ <span style=\"color: #7f7f7f; text-decoration-color: #7f7f7f\">NULL</span>                 │ <span style=\"color: #008000; text-decoration-color: #008000\">2744.07514        </span> │ <span style=\"color: #7f7f7f; text-decoration-color: #7f7f7f\">NULL</span>                  │ <span style=\"color: #7f7f7f; text-decoration-color: #7f7f7f\">NULL</span>                   │ <span style=\"color: #7f7f7f; text-decoration-color: #7f7f7f\">NULL</span>                    │ <span style=\"color: #008000; text-decoration-color: #008000\">104.7429508       </span> │ <span style=\"color: #008000; text-decoration-color: #008000\">94.44576693  </span> │ <span style=\"color: #008000; text-decoration-color: #008000\">103.9364434</span> │ <span style=\"color: #008000; text-decoration-color: #008000\">44.19621436</span> │ <span style=\"color: #008000; text-decoration-color: #008000\">0.0         </span> │ <span style=\"color: #008000; text-decoration-color: #008000\">2.0    </span> │ <span style=\"color: #008000; text-decoration-color: #008000\">13.12376773</span> │ <span style=\"color: #008000; text-decoration-color: #008000\">1573.116224      </span> │\n",
       "│ <span style=\"color: #008000; text-decoration-color: #008000\">Albania</span> │ <span style=\"color: #008000; text-decoration-color: #008000\">Berat </span> │ <span style=\"color: #008000; text-decoration-color: #008000\">ALB   </span> │ <span style=\"color: #008000; text-decoration-color: #008000\">ALB.1_1</span> │ <span style=\"color: #008000; text-decoration-color: #008000\">2011  </span> │ <span style=\"color: #008000; text-decoration-color: #008000\">52603911678.0</span> │ <span style=\"color: #008000; text-decoration-color: #008000\">148160.0</span> │ <span style=\"color: #008000; text-decoration-color: #008000\">355048.0  </span> │ <span style=\"color: #7f7f7f; text-decoration-color: #7f7f7f\">NULL</span>          │ <span style=\"color: #7f7f7f; text-decoration-color: #7f7f7f\">NULL</span>           │ <span style=\"color: #7f7f7f; text-decoration-color: #7f7f7f\">NULL</span>            │ <span style=\"color: #008000; text-decoration-color: #008000\">3518.986662</span> │ <span style=\"color: #7f7f7f; text-decoration-color: #7f7f7f\">NULL</span>          │ <span style=\"color: #7f7f7f; text-decoration-color: #7f7f7f\">NULL</span>           │ <span style=\"color: #7f7f7f; text-decoration-color: #7f7f7f\">NULL</span>            │ <span style=\"color: #008000; text-decoration-color: #008000\">367423.0111    </span> │ <span style=\"color: #7f7f7f; text-decoration-color: #7f7f7f\">NULL</span>               │ <span style=\"color: #7f7f7f; text-decoration-color: #7f7f7f\">NULL</span>                │ <span style=\"color: #7f7f7f; text-decoration-color: #7f7f7f\">NULL</span>                 │ <span style=\"color: #008000; text-decoration-color: #008000\">3752.327886    </span> │ <span style=\"color: #7f7f7f; text-decoration-color: #7f7f7f\">NULL</span>               │ <span style=\"color: #7f7f7f; text-decoration-color: #7f7f7f\">NULL</span>                │ <span style=\"color: #7f7f7f; text-decoration-color: #7f7f7f\">NULL</span>                 │ <span style=\"color: #008000; text-decoration-color: #008000\">2916.962438       </span> │ <span style=\"color: #7f7f7f; text-decoration-color: #7f7f7f\">NULL</span>                  │ <span style=\"color: #7f7f7f; text-decoration-color: #7f7f7f\">NULL</span>                   │ <span style=\"color: #7f7f7f; text-decoration-color: #7f7f7f\">NULL</span>                    │ <span style=\"color: #008000; text-decoration-color: #008000\">113.20746640000002</span> │ <span style=\"color: #008000; text-decoration-color: #008000\">96.63194446  </span> │ <span style=\"color: #008000; text-decoration-color: #008000\">100.8949547</span> │ <span style=\"color: #008000; text-decoration-color: #008000\">43.85768488</span> │ <span style=\"color: #008000; text-decoration-color: #008000\">0.0         </span> │ <span style=\"color: #008000; text-decoration-color: #008000\">2.0    </span> │ <span style=\"color: #008000; text-decoration-color: #008000\">12.88203995</span> │ <span style=\"color: #008000; text-decoration-color: #008000\">796.2875597999999</span> │\n",
       "│ <span style=\"color: #008000; text-decoration-color: #008000\">Albania</span> │ <span style=\"color: #008000; text-decoration-color: #008000\">Berat </span> │ <span style=\"color: #008000; text-decoration-color: #008000\">ALB   </span> │ <span style=\"color: #008000; text-decoration-color: #008000\">ALB.1_1</span> │ <span style=\"color: #008000; text-decoration-color: #008000\">2012  </span> │ <span style=\"color: #008000; text-decoration-color: #008000\">49020995589.0</span> │ <span style=\"color: #008000; text-decoration-color: #008000\">145931.0</span> │ <span style=\"color: #008000; text-decoration-color: #008000\">335919.0  </span> │ <span style=\"color: #7f7f7f; text-decoration-color: #7f7f7f\">NULL</span>          │ <span style=\"color: #7f7f7f; text-decoration-color: #7f7f7f\">NULL</span>           │ <span style=\"color: #7f7f7f; text-decoration-color: #7f7f7f\">NULL</span>            │ <span style=\"color: #008000; text-decoration-color: #008000\">3105.052489</span> │ <span style=\"color: #7f7f7f; text-decoration-color: #7f7f7f\">NULL</span>          │ <span style=\"color: #7f7f7f; text-decoration-color: #7f7f7f\">NULL</span>           │ <span style=\"color: #7f7f7f; text-decoration-color: #7f7f7f\">NULL</span>            │ <span style=\"color: #008000; text-decoration-color: #008000\">344039.9253    </span> │ <span style=\"color: #7f7f7f; text-decoration-color: #7f7f7f\">NULL</span>               │ <span style=\"color: #7f7f7f; text-decoration-color: #7f7f7f\">NULL</span>                │ <span style=\"color: #7f7f7f; text-decoration-color: #7f7f7f\">NULL</span>                 │ <span style=\"color: #008000; text-decoration-color: #008000\">3248.642016    </span> │ <span style=\"color: #7f7f7f; text-decoration-color: #7f7f7f\">NULL</span>               │ <span style=\"color: #7f7f7f; text-decoration-color: #7f7f7f\">NULL</span>                │ <span style=\"color: #7f7f7f; text-decoration-color: #7f7f7f\">NULL</span>                 │ <span style=\"color: #008000; text-decoration-color: #008000\">2731.324683       </span> │ <span style=\"color: #7f7f7f; text-decoration-color: #7f7f7f\">NULL</span>                  │ <span style=\"color: #7f7f7f; text-decoration-color: #7f7f7f\">NULL</span>                   │ <span style=\"color: #7f7f7f; text-decoration-color: #7f7f7f\">NULL</span>                    │ <span style=\"color: #008000; text-decoration-color: #008000\">108.193489        </span> │ <span style=\"color: #008000; text-decoration-color: #008000\">97.63953986  </span> │ <span style=\"color: #008000; text-decoration-color: #008000\">108.1846446</span> │ <span style=\"color: #008000; text-decoration-color: #008000\">43.65524832</span> │ <span style=\"color: #008000; text-decoration-color: #008000\">0.0         </span> │ <span style=\"color: #008000; text-decoration-color: #008000\">2.0    </span> │ <span style=\"color: #008000; text-decoration-color: #008000\">13.37346461</span> │ <span style=\"color: #008000; text-decoration-color: #008000\">1177.160775      </span> │\n",
       "└─────────┴────────┴────────┴─────────┴────────┴───────────────┴──────────┴────────────┴───────────────┴────────────────┴─────────────────┴─────────────┴───────────────┴────────────────┴─────────────────┴─────────────────┴────────────────────┴─────────────────────┴──────────────────────┴─────────────────┴────────────────────┴─────────────────────┴──────────────────────┴────────────────────┴───────────────────────┴────────────────────────┴─────────────────────────┴────────────────────┴───────────────┴─────────────┴─────────────┴──────────────┴─────────┴─────────────┴───────────────────┘\n",
       "</pre>\n"
      ],
      "text/plain": [
       "┏━━━━━━━━━┳━━━━━━━━┳━━━━━━━━┳━━━━━━━━━┳━━━━━━━━┳━━━━━━━━━━━━━━━┳━━━━━━━━━━┳━━━━━━━━━━━━┳━━━━━━━━━━━━━━━┳━━━━━━━━━━━━━━━━┳━━━━━━━━━━━━━━━━━┳━━━━━━━━━━━━━┳━━━━━━━━━━━━━━━┳━━━━━━━━━━━━━━━━┳━━━━━━━━━━━━━━━━━┳━━━━━━━━━━━━━━━━━┳━━━━━━━━━━━━━━━━━━━━┳━━━━━━━━━━━━━━━━━━━━━┳━━━━━━━━━━━━━━━━━━━━━━┳━━━━━━━━━━━━━━━━━┳━━━━━━━━━━━━━━━━━━━━┳━━━━━━━━━━━━━━━━━━━━━┳━━━━━━━━━━━━━━━━━━━━━━┳━━━━━━━━━━━━━━━━━━━━┳━━━━━━━━━━━━━━━━━━━━━━━┳━━━━━━━━━━━━━━━━━━━━━━━━┳━━━━━━━━━━━━━━━━━━━━━━━━━┳━━━━━━━━━━━━━━━━━━━━┳━━━━━━━━━━━━━━━┳━━━━━━━━━━━━━┳━━━━━━━━━━━━━┳━━━━━━━━━━━━━━┳━━━━━━━━━┳━━━━━━━━━━━━━┳━━━━━━━━━━━━━━━━━━━┓\n",
       "┃\u001b[1m \u001b[0m\u001b[1mcountry\u001b[0m\u001b[1m \u001b[0m┃\u001b[1m \u001b[0m\u001b[1mregion\u001b[0m\u001b[1m \u001b[0m┃\u001b[1m \u001b[0m\u001b[1mGID_0\u001b[0m\u001b[1m \u001b[0m\u001b[1m \u001b[0m┃\u001b[1m \u001b[0m\u001b[1mGID_1\u001b[0m\u001b[1m  \u001b[0m\u001b[1m \u001b[0m┃\u001b[1m \u001b[0m\u001b[1myear\u001b[0m\u001b[1m  \u001b[0m\u001b[1m \u001b[0m┃\u001b[1m \u001b[0m\u001b[1mgrp_lcu\u001b[0m\u001b[1m      \u001b[0m\u001b[1m \u001b[0m┃\u001b[1m \u001b[0m\u001b[1mpop\u001b[0m\u001b[1m     \u001b[0m\u001b[1m \u001b[0m┃\u001b[1m \u001b[0m\u001b[1mgrp_pc_lcu\u001b[0m\u001b[1m \u001b[0m┃\u001b[1m \u001b[0m\u001b[1mag_grp_pc_lcu\u001b[0m\u001b[1m \u001b[0m┃\u001b[1m \u001b[0m\u001b[1mman_grp_pc_lcu\u001b[0m\u001b[1m \u001b[0m┃\u001b[1m \u001b[0m\u001b[1mserv_grp_pc_lcu\u001b[0m\u001b[1m \u001b[0m┃\u001b[1m \u001b[0m\u001b[1mgrp_pc_usd\u001b[0m\u001b[1m \u001b[0m\u001b[1m \u001b[0m┃\u001b[1m \u001b[0m\u001b[1mag_grp_pc_usd\u001b[0m\u001b[1m \u001b[0m┃\u001b[1m \u001b[0m\u001b[1mman_grp_pc_usd\u001b[0m\u001b[1m \u001b[0m┃\u001b[1m \u001b[0m\u001b[1mserv_grp_pc_usd\u001b[0m\u001b[1m \u001b[0m┃\u001b[1m \u001b[0m\u001b[1mgrp_pc_lcu_2015\u001b[0m\u001b[1m \u001b[0m┃\u001b[1m \u001b[0m\u001b[1mag_grp_pc_lcu_2015\u001b[0m\u001b[1m \u001b[0m┃\u001b[1m \u001b[0m\u001b[1mman_grp_pc_lcu_2015\u001b[0m\u001b[1m \u001b[0m┃\u001b[1m \u001b[0m\u001b[1mserv_grp_pc_lcu_2015\u001b[0m\u001b[1m \u001b[0m┃\u001b[1m \u001b[0m\u001b[1mgrp_pc_usd_2015\u001b[0m\u001b[1m \u001b[0m┃\u001b[1m \u001b[0m\u001b[1mag_grp_pc_usd_2015\u001b[0m\u001b[1m \u001b[0m┃\u001b[1m \u001b[0m\u001b[1mman_grp_pc_usd_2015\u001b[0m\u001b[1m \u001b[0m┃\u001b[1m \u001b[0m\u001b[1mserv_grp_pc_usd_2015\u001b[0m\u001b[1m \u001b[0m┃\u001b[1m \u001b[0m\u001b[1mgrp_pc_lcu2015_usd\u001b[0m\u001b[1m \u001b[0m┃\u001b[1m \u001b[0m\u001b[1mag_grp_pc_lcu2015_usd\u001b[0m\u001b[1m \u001b[0m┃\u001b[1m \u001b[0m\u001b[1mman_grp_pc_lcu2015_usd\u001b[0m\u001b[1m \u001b[0m┃\u001b[1m \u001b[0m\u001b[1mserv_grp_pc_lcu2015_usd\u001b[0m\u001b[1m \u001b[0m┃\u001b[1m \u001b[0m\u001b[1mcpi_2015\u001b[0m\u001b[1m          \u001b[0m\u001b[1m \u001b[0m┃\u001b[1m \u001b[0m\u001b[1mdeflator_2015\u001b[0m\u001b[1m \u001b[0m┃\u001b[1m \u001b[0m\u001b[1mfx\u001b[0m\u001b[1m         \u001b[0m\u001b[1m \u001b[0m┃\u001b[1m \u001b[0m\u001b[1mPPP\u001b[0m\u001b[1m        \u001b[0m\u001b[1m \u001b[0m┃\u001b[1m \u001b[0m\u001b[1mStructChange\u001b[0m\u001b[1m \u001b[0m┃\u001b[1m \u001b[0m\u001b[1mversion\u001b[0m\u001b[1m \u001b[0m┃\u001b[1m \u001b[0m\u001b[1mT_a\u001b[0m\u001b[1m        \u001b[0m\u001b[1m \u001b[0m┃\u001b[1m \u001b[0m\u001b[1mP_a\u001b[0m\u001b[1m              \u001b[0m\u001b[1m \u001b[0m┃\n",
       "┡━━━━━━━━━╇━━━━━━━━╇━━━━━━━━╇━━━━━━━━━╇━━━━━━━━╇━━━━━━━━━━━━━━━╇━━━━━━━━━━╇━━━━━━━━━━━━╇━━━━━━━━━━━━━━━╇━━━━━━━━━━━━━━━━╇━━━━━━━━━━━━━━━━━╇━━━━━━━━━━━━━╇━━━━━━━━━━━━━━━╇━━━━━━━━━━━━━━━━╇━━━━━━━━━━━━━━━━━╇━━━━━━━━━━━━━━━━━╇━━━━━━━━━━━━━━━━━━━━╇━━━━━━━━━━━━━━━━━━━━━╇━━━━━━━━━━━━━━━━━━━━━━╇━━━━━━━━━━━━━━━━━╇━━━━━━━━━━━━━━━━━━━━╇━━━━━━━━━━━━━━━━━━━━━╇━━━━━━━━━━━━━━━━━━━━━━╇━━━━━━━━━━━━━━━━━━━━╇━━━━━━━━━━━━━━━━━━━━━━━╇━━━━━━━━━━━━━━━━━━━━━━━━╇━━━━━━━━━━━━━━━━━━━━━━━━━╇━━━━━━━━━━━━━━━━━━━━╇━━━━━━━━━━━━━━━╇━━━━━━━━━━━━━╇━━━━━━━━━━━━━╇━━━━━━━━━━━━━━╇━━━━━━━━━╇━━━━━━━━━━━━━╇━━━━━━━━━━━━━━━━━━━┩\n",
       "│ \u001b[2mstring\u001b[0m  │ \u001b[2mstring\u001b[0m │ \u001b[2mstring\u001b[0m │ \u001b[2mstring\u001b[0m  │ \u001b[2mstring\u001b[0m │ \u001b[2mstring\u001b[0m        │ \u001b[2mstring\u001b[0m   │ \u001b[2mstring\u001b[0m     │ \u001b[2mstring\u001b[0m        │ \u001b[2mstring\u001b[0m         │ \u001b[2mstring\u001b[0m          │ \u001b[2mstring\u001b[0m      │ \u001b[2mstring\u001b[0m        │ \u001b[2mstring\u001b[0m         │ \u001b[2mstring\u001b[0m          │ \u001b[2mstring\u001b[0m          │ \u001b[2mstring\u001b[0m             │ \u001b[2mstring\u001b[0m              │ \u001b[2mstring\u001b[0m               │ \u001b[2mstring\u001b[0m          │ \u001b[2mstring\u001b[0m             │ \u001b[2mstring\u001b[0m              │ \u001b[2mstring\u001b[0m               │ \u001b[2mstring\u001b[0m             │ \u001b[2mstring\u001b[0m                │ \u001b[2mstring\u001b[0m                 │ \u001b[2mstring\u001b[0m                  │ \u001b[2mstring\u001b[0m             │ \u001b[2mstring\u001b[0m        │ \u001b[2mstring\u001b[0m      │ \u001b[2mstring\u001b[0m      │ \u001b[2mstring\u001b[0m       │ \u001b[2mstring\u001b[0m  │ \u001b[2mstring\u001b[0m      │ \u001b[2mstring\u001b[0m            │\n",
       "├─────────┼────────┼────────┼─────────┼────────┼───────────────┼──────────┼────────────┼───────────────┼────────────────┼─────────────────┼─────────────┼───────────────┼────────────────┼─────────────────┼─────────────────┼────────────────────┼─────────────────────┼──────────────────────┼─────────────────┼────────────────────┼─────────────────────┼──────────────────────┼────────────────────┼───────────────────────┼────────────────────────┼─────────────────────────┼────────────────────┼───────────────┼─────────────┼─────────────┼──────────────┼─────────┼─────────────┼───────────────────┤\n",
       "│ \u001b[32mAlbania\u001b[0m │ \u001b[32mBerat \u001b[0m │ \u001b[32mALB   \u001b[0m │ \u001b[32mALB.1_1\u001b[0m │ \u001b[32m2010  \u001b[0m │ \u001b[32m49416066001.0\u001b[0m │ \u001b[32m151375.0\u001b[0m │ \u001b[32m326448.0  \u001b[0m │ \u001b[2mNULL\u001b[0m          │ \u001b[2mNULL\u001b[0m           │ \u001b[2mNULL\u001b[0m            │ \u001b[32m3140.842514\u001b[0m │ \u001b[2mNULL\u001b[0m          │ \u001b[2mNULL\u001b[0m           │ \u001b[2mNULL\u001b[0m            │ \u001b[32m345645.9835    \u001b[0m │ \u001b[2mNULL\u001b[0m               │ \u001b[2mNULL\u001b[0m                │ \u001b[2mNULL\u001b[0m                 │ \u001b[32m3419.068968    \u001b[0m │ \u001b[2mNULL\u001b[0m               │ \u001b[2mNULL\u001b[0m                │ \u001b[2mNULL\u001b[0m                 │ \u001b[32m2744.07514        \u001b[0m │ \u001b[2mNULL\u001b[0m                  │ \u001b[2mNULL\u001b[0m                   │ \u001b[2mNULL\u001b[0m                    │ \u001b[32m104.7429508       \u001b[0m │ \u001b[32m94.44576693  \u001b[0m │ \u001b[32m103.9364434\u001b[0m │ \u001b[32m44.19621436\u001b[0m │ \u001b[32m0.0         \u001b[0m │ \u001b[32m2.0    \u001b[0m │ \u001b[32m13.12376773\u001b[0m │ \u001b[32m1573.116224      \u001b[0m │\n",
       "│ \u001b[32mAlbania\u001b[0m │ \u001b[32mBerat \u001b[0m │ \u001b[32mALB   \u001b[0m │ \u001b[32mALB.1_1\u001b[0m │ \u001b[32m2011  \u001b[0m │ \u001b[32m52603911678.0\u001b[0m │ \u001b[32m148160.0\u001b[0m │ \u001b[32m355048.0  \u001b[0m │ \u001b[2mNULL\u001b[0m          │ \u001b[2mNULL\u001b[0m           │ \u001b[2mNULL\u001b[0m            │ \u001b[32m3518.986662\u001b[0m │ \u001b[2mNULL\u001b[0m          │ \u001b[2mNULL\u001b[0m           │ \u001b[2mNULL\u001b[0m            │ \u001b[32m367423.0111    \u001b[0m │ \u001b[2mNULL\u001b[0m               │ \u001b[2mNULL\u001b[0m                │ \u001b[2mNULL\u001b[0m                 │ \u001b[32m3752.327886    \u001b[0m │ \u001b[2mNULL\u001b[0m               │ \u001b[2mNULL\u001b[0m                │ \u001b[2mNULL\u001b[0m                 │ \u001b[32m2916.962438       \u001b[0m │ \u001b[2mNULL\u001b[0m                  │ \u001b[2mNULL\u001b[0m                   │ \u001b[2mNULL\u001b[0m                    │ \u001b[32m113.20746640000002\u001b[0m │ \u001b[32m96.63194446  \u001b[0m │ \u001b[32m100.8949547\u001b[0m │ \u001b[32m43.85768488\u001b[0m │ \u001b[32m0.0         \u001b[0m │ \u001b[32m2.0    \u001b[0m │ \u001b[32m12.88203995\u001b[0m │ \u001b[32m796.2875597999999\u001b[0m │\n",
       "│ \u001b[32mAlbania\u001b[0m │ \u001b[32mBerat \u001b[0m │ \u001b[32mALB   \u001b[0m │ \u001b[32mALB.1_1\u001b[0m │ \u001b[32m2012  \u001b[0m │ \u001b[32m49020995589.0\u001b[0m │ \u001b[32m145931.0\u001b[0m │ \u001b[32m335919.0  \u001b[0m │ \u001b[2mNULL\u001b[0m          │ \u001b[2mNULL\u001b[0m           │ \u001b[2mNULL\u001b[0m            │ \u001b[32m3105.052489\u001b[0m │ \u001b[2mNULL\u001b[0m          │ \u001b[2mNULL\u001b[0m           │ \u001b[2mNULL\u001b[0m            │ \u001b[32m344039.9253    \u001b[0m │ \u001b[2mNULL\u001b[0m               │ \u001b[2mNULL\u001b[0m                │ \u001b[2mNULL\u001b[0m                 │ \u001b[32m3248.642016    \u001b[0m │ \u001b[2mNULL\u001b[0m               │ \u001b[2mNULL\u001b[0m                │ \u001b[2mNULL\u001b[0m                 │ \u001b[32m2731.324683       \u001b[0m │ \u001b[2mNULL\u001b[0m                  │ \u001b[2mNULL\u001b[0m                   │ \u001b[2mNULL\u001b[0m                    │ \u001b[32m108.193489        \u001b[0m │ \u001b[32m97.63953986  \u001b[0m │ \u001b[32m108.1846446\u001b[0m │ \u001b[32m43.65524832\u001b[0m │ \u001b[32m0.0         \u001b[0m │ \u001b[32m2.0    \u001b[0m │ \u001b[32m13.37346461\u001b[0m │ \u001b[32m1177.160775      \u001b[0m │\n",
       "└─────────┴────────┴────────┴─────────┴────────┴───────────────┴──────────┴────────────┴───────────────┴────────────────┴─────────────────┴─────────────┴───────────────┴────────────────┴─────────────────┴─────────────────┴────────────────────┴─────────────────────┴──────────────────────┴─────────────────┴────────────────────┴─────────────────────┴──────────────────────┴────────────────────┴───────────────────────┴────────────────────────┴─────────────────────────┴────────────────────┴───────────────┴─────────────┴─────────────┴──────────────┴─────────┴─────────────┴───────────────────┘"
      ]
     },
     "execution_count": 14,
     "metadata": {},
     "output_type": "execute_result"
    }
   ],
   "source": [
    "dose.head(3)"
   ]
  },
  {
   "cell_type": "code",
   "execution_count": 15,
   "metadata": {
    "tags": [
     "rm_cell"
    ]
   },
   "outputs": [
    {
     "data": {
      "text/html": [
       "<pre style=\"white-space:pre;overflow-x:auto;line-height:normal;font-family:Menlo,'DejaVu Sans Mono',consolas,'Courier New',monospace\">┏━━━━━━━━━┳━━━━━━━━━━━┳━━━━━━━━┳━━━━━━━━━┳━━━━━━━━┳━━━━━━━━━━━━━━━━━┳━━━━━━━━━━━┳━━━━━━━━━━━━━┳━━━━━━━━━━━━━━━┳━━━━━━━━━━━━━━━━┳━━━━━━━━━━━━━━━━━┳━━━━━━━━━━━━━━━━━━━━┳━━━━━━━━━━━━━━━━━━━┳━━━━━━━━━━━━━━━━┳━━━━━━━━━━━━━━━━━━━┳━━━━━━━━━━━━━━━━━┳━━━━━━━━━━━━━━━━━━━━┳━━━━━━━━━━━━━━━━━━━━━┳━━━━━━━━━━━━━━━━━━━━━━┳━━━━━━━━━━━━━━━━━━━━┳━━━━━━━━━━━━━━━━━━━━┳━━━━━━━━━━━━━━━━━━━━━┳━━━━━━━━━━━━━━━━━━━━━━┳━━━━━━━━━━━━━━━━━━━━┳━━━━━━━━━━━━━━━━━━━━━━━┳━━━━━━━━━━━━━━━━━━━━━━━━┳━━━━━━━━━━━━━━━━━━━━━━━━━┳━━━━━━━━━━━━━┳━━━━━━━━━━━━━━━┳━━━━━━━━━━━━━━━━━━━━┳━━━━━━━━━━━━━┳━━━━━━━━━━━━━━┳━━━━━━━━━┳━━━━━━━━━━━━━┳━━━━━━━━━━━━━┓\n",
       "┃<span style=\"font-weight: bold\"> country </span>┃<span style=\"font-weight: bold\"> region    </span>┃<span style=\"font-weight: bold\"> GID_0  </span>┃<span style=\"font-weight: bold\"> GID_1   </span>┃<span style=\"font-weight: bold\"> year   </span>┃<span style=\"font-weight: bold\"> grp_lcu         </span>┃<span style=\"font-weight: bold\"> pop       </span>┃<span style=\"font-weight: bold\"> grp_pc_lcu  </span>┃<span style=\"font-weight: bold\"> ag_grp_pc_lcu </span>┃<span style=\"font-weight: bold\"> man_grp_pc_lcu </span>┃<span style=\"font-weight: bold\"> serv_grp_pc_lcu </span>┃<span style=\"font-weight: bold\"> grp_pc_usd         </span>┃<span style=\"font-weight: bold\"> ag_grp_pc_usd     </span>┃<span style=\"font-weight: bold\"> man_grp_pc_usd </span>┃<span style=\"font-weight: bold\"> serv_grp_pc_usd   </span>┃<span style=\"font-weight: bold\"> grp_pc_lcu_2015 </span>┃<span style=\"font-weight: bold\"> ag_grp_pc_lcu_2015 </span>┃<span style=\"font-weight: bold\"> man_grp_pc_lcu_2015 </span>┃<span style=\"font-weight: bold\"> serv_grp_pc_lcu_2015 </span>┃<span style=\"font-weight: bold\"> grp_pc_usd_2015    </span>┃<span style=\"font-weight: bold\"> ag_grp_pc_usd_2015 </span>┃<span style=\"font-weight: bold\"> man_grp_pc_usd_2015 </span>┃<span style=\"font-weight: bold\"> serv_grp_pc_usd_2015 </span>┃<span style=\"font-weight: bold\"> grp_pc_lcu2015_usd </span>┃<span style=\"font-weight: bold\"> ag_grp_pc_lcu2015_usd </span>┃<span style=\"font-weight: bold\"> man_grp_pc_lcu2015_usd </span>┃<span style=\"font-weight: bold\"> serv_grp_pc_lcu2015_usd </span>┃<span style=\"font-weight: bold\"> cpi_2015    </span>┃<span style=\"font-weight: bold\"> deflator_2015 </span>┃<span style=\"font-weight: bold\"> fx                 </span>┃<span style=\"font-weight: bold\"> PPP         </span>┃<span style=\"font-weight: bold\"> StructChange </span>┃<span style=\"font-weight: bold\"> version </span>┃<span style=\"font-weight: bold\"> T_a         </span>┃<span style=\"font-weight: bold\"> P_a         </span>┃\n",
       "┡━━━━━━━━━╇━━━━━━━━━━━╇━━━━━━━━╇━━━━━━━━━╇━━━━━━━━╇━━━━━━━━━━━━━━━━━╇━━━━━━━━━━━╇━━━━━━━━━━━━━╇━━━━━━━━━━━━━━━╇━━━━━━━━━━━━━━━━╇━━━━━━━━━━━━━━━━━╇━━━━━━━━━━━━━━━━━━━━╇━━━━━━━━━━━━━━━━━━━╇━━━━━━━━━━━━━━━━╇━━━━━━━━━━━━━━━━━━━╇━━━━━━━━━━━━━━━━━╇━━━━━━━━━━━━━━━━━━━━╇━━━━━━━━━━━━━━━━━━━━━╇━━━━━━━━━━━━━━━━━━━━━━╇━━━━━━━━━━━━━━━━━━━━╇━━━━━━━━━━━━━━━━━━━━╇━━━━━━━━━━━━━━━━━━━━━╇━━━━━━━━━━━━━━━━━━━━━━╇━━━━━━━━━━━━━━━━━━━━╇━━━━━━━━━━━━━━━━━━━━━━━╇━━━━━━━━━━━━━━━━━━━━━━━━╇━━━━━━━━━━━━━━━━━━━━━━━━━╇━━━━━━━━━━━━━╇━━━━━━━━━━━━━━━╇━━━━━━━━━━━━━━━━━━━━╇━━━━━━━━━━━━━╇━━━━━━━━━━━━━━╇━━━━━━━━━╇━━━━━━━━━━━━━╇━━━━━━━━━━━━━┩\n",
       "│ <span style=\"color: #7f7f7f; text-decoration-color: #7f7f7f\">string</span>  │ <span style=\"color: #7f7f7f; text-decoration-color: #7f7f7f\">string</span>    │ <span style=\"color: #7f7f7f; text-decoration-color: #7f7f7f\">string</span> │ <span style=\"color: #7f7f7f; text-decoration-color: #7f7f7f\">string</span>  │ <span style=\"color: #7f7f7f; text-decoration-color: #7f7f7f\">string</span> │ <span style=\"color: #7f7f7f; text-decoration-color: #7f7f7f\">string</span>          │ <span style=\"color: #7f7f7f; text-decoration-color: #7f7f7f\">string</span>    │ <span style=\"color: #7f7f7f; text-decoration-color: #7f7f7f\">string</span>      │ <span style=\"color: #7f7f7f; text-decoration-color: #7f7f7f\">string</span>        │ <span style=\"color: #7f7f7f; text-decoration-color: #7f7f7f\">string</span>         │ <span style=\"color: #7f7f7f; text-decoration-color: #7f7f7f\">string</span>          │ <span style=\"color: #7f7f7f; text-decoration-color: #7f7f7f\">string</span>             │ <span style=\"color: #7f7f7f; text-decoration-color: #7f7f7f\">string</span>            │ <span style=\"color: #7f7f7f; text-decoration-color: #7f7f7f\">string</span>         │ <span style=\"color: #7f7f7f; text-decoration-color: #7f7f7f\">string</span>            │ <span style=\"color: #7f7f7f; text-decoration-color: #7f7f7f\">string</span>          │ <span style=\"color: #7f7f7f; text-decoration-color: #7f7f7f\">string</span>             │ <span style=\"color: #7f7f7f; text-decoration-color: #7f7f7f\">string</span>              │ <span style=\"color: #7f7f7f; text-decoration-color: #7f7f7f\">string</span>               │ <span style=\"color: #7f7f7f; text-decoration-color: #7f7f7f\">string</span>             │ <span style=\"color: #7f7f7f; text-decoration-color: #7f7f7f\">string</span>             │ <span style=\"color: #7f7f7f; text-decoration-color: #7f7f7f\">string</span>              │ <span style=\"color: #7f7f7f; text-decoration-color: #7f7f7f\">string</span>               │ <span style=\"color: #7f7f7f; text-decoration-color: #7f7f7f\">string</span>             │ <span style=\"color: #7f7f7f; text-decoration-color: #7f7f7f\">string</span>                │ <span style=\"color: #7f7f7f; text-decoration-color: #7f7f7f\">string</span>                 │ <span style=\"color: #7f7f7f; text-decoration-color: #7f7f7f\">string</span>                  │ <span style=\"color: #7f7f7f; text-decoration-color: #7f7f7f\">string</span>      │ <span style=\"color: #7f7f7f; text-decoration-color: #7f7f7f\">string</span>        │ <span style=\"color: #7f7f7f; text-decoration-color: #7f7f7f\">string</span>             │ <span style=\"color: #7f7f7f; text-decoration-color: #7f7f7f\">string</span>      │ <span style=\"color: #7f7f7f; text-decoration-color: #7f7f7f\">string</span>       │ <span style=\"color: #7f7f7f; text-decoration-color: #7f7f7f\">string</span>  │ <span style=\"color: #7f7f7f; text-decoration-color: #7f7f7f\">string</span>      │ <span style=\"color: #7f7f7f; text-decoration-color: #7f7f7f\">string</span>      │\n",
       "├─────────┼───────────┼────────┼─────────┼────────┼─────────────────┼───────────┼─────────────┼───────────────┼────────────────┼─────────────────┼────────────────────┼───────────────────┼────────────────┼───────────────────┼─────────────────┼────────────────────┼─────────────────────┼──────────────────────┼────────────────────┼────────────────────┼─────────────────────┼──────────────────────┼────────────────────┼───────────────────────┼────────────────────────┼─────────────────────────┼─────────────┼───────────────┼────────────────────┼─────────────┼──────────────┼─────────┼─────────────┼─────────────┤\n",
       "│ <span style=\"color: #008000; text-decoration-color: #008000\">Nigeria</span> │ <span style=\"color: #008000; text-decoration-color: #008000\">Akwa Ibom</span> │ <span style=\"color: #008000; text-decoration-color: #008000\">NGA   </span> │ <span style=\"color: #008000; text-decoration-color: #008000\">NGA.3_1</span> │ <span style=\"color: #008000; text-decoration-color: #008000\">2013  </span> │ <span style=\"color: #008000; text-decoration-color: #008000\">4120000000000.0</span> │ <span style=\"color: #008000; text-decoration-color: #008000\">4950568.0</span> │ <span style=\"color: #008000; text-decoration-color: #008000\">832675.8744</span> │ <span style=\"color: #008000; text-decoration-color: #008000\">121159.4448  </span> │ <span style=\"color: #008000; text-decoration-color: #008000\">592373.0363   </span> │ <span style=\"color: #008000; text-decoration-color: #008000\">119143.3933    </span> │ <span style=\"color: #008000; text-decoration-color: #008000\">5293.175197       </span> │ <span style=\"color: #008000; text-decoration-color: #008000\">770.1894434999999</span> │ <span style=\"color: #008000; text-decoration-color: #008000\">3765.611998   </span> │ <span style=\"color: #008000; text-decoration-color: #008000\">757.3737555      </span> │ <span style=\"color: #008000; text-decoration-color: #008000\">896457.2639    </span> │ <span style=\"color: #008000; text-decoration-color: #008000\">130440.028        </span> │ <span style=\"color: #008000; text-decoration-color: #008000\">637747.6851        </span> │ <span style=\"color: #008000; text-decoration-color: #008000\">128269.5507         </span> │ <span style=\"color: #008000; text-decoration-color: #008000\">5442.441637       </span> │ <span style=\"color: #008000; text-decoration-color: #008000\">791.9086255       </span> │ <span style=\"color: #008000; text-decoration-color: #008000\">3871.801473        </span> │ <span style=\"color: #008000; text-decoration-color: #008000\">778.7315378         </span> │ <span style=\"color: #008000; text-decoration-color: #008000\">4658.360117       </span> │ <span style=\"color: #008000; text-decoration-color: #008000\">677.8199572000001    </span> │ <span style=\"color: #008000; text-decoration-color: #008000\">3313.9988940000003    </span> │ <span style=\"color: #008000; text-decoration-color: #008000\">666.5412658            </span> │ <span style=\"color: #008000; text-decoration-color: #008000\">104.4966144</span> │ <span style=\"color: #008000; text-decoration-color: #008000\">92.88517233  </span> │ <span style=\"color: #008000; text-decoration-color: #008000\">157.311225        </span> │ <span style=\"color: #008000; text-decoration-color: #008000\">90.26118469</span> │ <span style=\"color: #008000; text-decoration-color: #008000\">0.0         </span> │ <span style=\"color: #008000; text-decoration-color: #008000\">2.0    </span> │ <span style=\"color: #008000; text-decoration-color: #008000\">26.12869183</span> │ <span style=\"color: #008000; text-decoration-color: #008000\">3279.543909</span> │\n",
       "│ <span style=\"color: #008000; text-decoration-color: #008000\">Nigeria</span> │ <span style=\"color: #008000; text-decoration-color: #008000\">Akwa Ibom</span> │ <span style=\"color: #008000; text-decoration-color: #008000\">NGA   </span> │ <span style=\"color: #008000; text-decoration-color: #008000\">NGA.3_1</span> │ <span style=\"color: #008000; text-decoration-color: #008000\">2014  </span> │ <span style=\"color: #008000; text-decoration-color: #008000\">4430000000000.0</span> │ <span style=\"color: #008000; text-decoration-color: #008000\">5121781.0</span> │ <span style=\"color: #008000; text-decoration-color: #008000\">865753.0708</span> │ <span style=\"color: #008000; text-decoration-color: #008000\">110542.9285  </span> │ <span style=\"color: #008000; text-decoration-color: #008000\">628155.1311   </span> │ <span style=\"color: #008000; text-decoration-color: #008000\">127055.0113    </span> │ <span style=\"color: #008000; text-decoration-color: #008000\">5460.350971       </span> │ <span style=\"color: #008000; text-decoration-color: #008000\">697.2001683999999</span> │ <span style=\"color: #008000; text-decoration-color: #008000\">3961.808044   </span> │ <span style=\"color: #008000; text-decoration-color: #008000\">801.3427586      </span> │ <span style=\"color: #008000; text-decoration-color: #008000\">890545.3396    </span> │ <span style=\"color: #008000; text-decoration-color: #008000\">113708.5078       </span> │ <span style=\"color: #008000; text-decoration-color: #008000\">646143.3905        </span> │ <span style=\"color: #008000; text-decoration-color: #008000\">130693.4413         </span> │ <span style=\"color: #008000; text-decoration-color: #008000\">5512.362535       </span> │ <span style=\"color: #008000; text-decoration-color: #008000\">703.8412199       </span> │ <span style=\"color: #008000; text-decoration-color: #008000\">3999.545514        </span> │ <span style=\"color: #008000; text-decoration-color: #008000\">808.9758011         </span> │ <span style=\"color: #008000; text-decoration-color: #008000\">4627.63933        </span> │ <span style=\"color: #008000; text-decoration-color: #008000\">590.8761062000001    </span> │ <span style=\"color: #008000; text-decoration-color: #008000\">3357.626427           </span> │ <span style=\"color: #008000; text-decoration-color: #008000\">679.1367966            </span> │ <span style=\"color: #008000; text-decoration-color: #008000\">112.2992346</span> │ <span style=\"color: #008000; text-decoration-color: #008000\">97.21605766  </span> │ <span style=\"color: #008000; text-decoration-color: #008000\">158.55264169999998</span> │ <span style=\"color: #008000; text-decoration-color: #008000\">92.7820282 </span> │ <span style=\"color: #008000; text-decoration-color: #008000\">0.0         </span> │ <span style=\"color: #008000; text-decoration-color: #008000\">2.0    </span> │ <span style=\"color: #008000; text-decoration-color: #008000\">26.23870081</span> │ <span style=\"color: #008000; text-decoration-color: #008000\">3149.203077</span> │\n",
       "│ <span style=\"color: #008000; text-decoration-color: #008000\">Nigeria</span> │ <span style=\"color: #008000; text-decoration-color: #008000\">Akwa Ibom</span> │ <span style=\"color: #008000; text-decoration-color: #008000\">NGA   </span> │ <span style=\"color: #008000; text-decoration-color: #008000\">NGA.3_1</span> │ <span style=\"color: #008000; text-decoration-color: #008000\">2015  </span> │ <span style=\"color: #008000; text-decoration-color: #008000\">3240000000000.0</span> │ <span style=\"color: #008000; text-decoration-color: #008000\">5298916.0</span> │ <span style=\"color: #008000; text-decoration-color: #008000\">611830.0923</span> │ <span style=\"color: #008000; text-decoration-color: #008000\">127815.307   </span> │ <span style=\"color: #008000; text-decoration-color: #008000\">354874.4935   </span> │ <span style=\"color: #008000; text-decoration-color: #008000\">129140.2918    </span> │ <span style=\"color: #008000; text-decoration-color: #008000\">3179.3204370000003</span> │ <span style=\"color: #008000; text-decoration-color: #008000\">664.1808285      </span> │ <span style=\"color: #008000; text-decoration-color: #008000\">1844.073615   </span> │ <span style=\"color: #008000; text-decoration-color: #008000\">671.0659937999999</span> │ <span style=\"color: #008000; text-decoration-color: #008000\">611830.0923    </span> │ <span style=\"color: #008000; text-decoration-color: #008000\">127815.307        </span> │ <span style=\"color: #008000; text-decoration-color: #008000\">354874.4935        </span> │ <span style=\"color: #008000; text-decoration-color: #008000\">129140.2918         </span> │ <span style=\"color: #008000; text-decoration-color: #008000\">3179.3204370000003</span> │ <span style=\"color: #008000; text-decoration-color: #008000\">664.1808285       </span> │ <span style=\"color: #008000; text-decoration-color: #008000\">1844.073615        </span> │ <span style=\"color: #008000; text-decoration-color: #008000\">671.0659937999999   </span> │ <span style=\"color: #008000; text-decoration-color: #008000\">3179.3204370000003</span> │ <span style=\"color: #008000; text-decoration-color: #008000\">664.1808285          </span> │ <span style=\"color: #008000; text-decoration-color: #008000\">1844.073615           </span> │ <span style=\"color: #008000; text-decoration-color: #008000\">671.0659937999999      </span> │ <span style=\"color: #008000; text-decoration-color: #008000\">100.0      </span> │ <span style=\"color: #008000; text-decoration-color: #008000\">100.0        </span> │ <span style=\"color: #008000; text-decoration-color: #008000\">192.4405244       </span> │ <span style=\"color: #008000; text-decoration-color: #008000\">96.83239746</span> │ <span style=\"color: #008000; text-decoration-color: #008000\">0.0         </span> │ <span style=\"color: #008000; text-decoration-color: #008000\">2.0    </span> │ <span style=\"color: #008000; text-decoration-color: #008000\">26.28886945</span> │ <span style=\"color: #008000; text-decoration-color: #008000\">3073.289462</span> │\n",
       "└─────────┴───────────┴────────┴─────────┴────────┴─────────────────┴───────────┴─────────────┴───────────────┴────────────────┴─────────────────┴────────────────────┴───────────────────┴────────────────┴───────────────────┴─────────────────┴────────────────────┴─────────────────────┴──────────────────────┴────────────────────┴────────────────────┴─────────────────────┴──────────────────────┴────────────────────┴───────────────────────┴────────────────────────┴─────────────────────────┴─────────────┴───────────────┴────────────────────┴─────────────┴──────────────┴─────────┴─────────────┴─────────────┘\n",
       "</pre>\n"
      ],
      "text/plain": [
       "┏━━━━━━━━━┳━━━━━━━━━━━┳━━━━━━━━┳━━━━━━━━━┳━━━━━━━━┳━━━━━━━━━━━━━━━━━┳━━━━━━━━━━━┳━━━━━━━━━━━━━┳━━━━━━━━━━━━━━━┳━━━━━━━━━━━━━━━━┳━━━━━━━━━━━━━━━━━┳━━━━━━━━━━━━━━━━━━━━┳━━━━━━━━━━━━━━━━━━━┳━━━━━━━━━━━━━━━━┳━━━━━━━━━━━━━━━━━━━┳━━━━━━━━━━━━━━━━━┳━━━━━━━━━━━━━━━━━━━━┳━━━━━━━━━━━━━━━━━━━━━┳━━━━━━━━━━━━━━━━━━━━━━┳━━━━━━━━━━━━━━━━━━━━┳━━━━━━━━━━━━━━━━━━━━┳━━━━━━━━━━━━━━━━━━━━━┳━━━━━━━━━━━━━━━━━━━━━━┳━━━━━━━━━━━━━━━━━━━━┳━━━━━━━━━━━━━━━━━━━━━━━┳━━━━━━━━━━━━━━━━━━━━━━━━┳━━━━━━━━━━━━━━━━━━━━━━━━━┳━━━━━━━━━━━━━┳━━━━━━━━━━━━━━━┳━━━━━━━━━━━━━━━━━━━━┳━━━━━━━━━━━━━┳━━━━━━━━━━━━━━┳━━━━━━━━━┳━━━━━━━━━━━━━┳━━━━━━━━━━━━━┓\n",
       "┃\u001b[1m \u001b[0m\u001b[1mcountry\u001b[0m\u001b[1m \u001b[0m┃\u001b[1m \u001b[0m\u001b[1mregion\u001b[0m\u001b[1m   \u001b[0m\u001b[1m \u001b[0m┃\u001b[1m \u001b[0m\u001b[1mGID_0\u001b[0m\u001b[1m \u001b[0m\u001b[1m \u001b[0m┃\u001b[1m \u001b[0m\u001b[1mGID_1\u001b[0m\u001b[1m  \u001b[0m\u001b[1m \u001b[0m┃\u001b[1m \u001b[0m\u001b[1myear\u001b[0m\u001b[1m  \u001b[0m\u001b[1m \u001b[0m┃\u001b[1m \u001b[0m\u001b[1mgrp_lcu\u001b[0m\u001b[1m        \u001b[0m\u001b[1m \u001b[0m┃\u001b[1m \u001b[0m\u001b[1mpop\u001b[0m\u001b[1m      \u001b[0m\u001b[1m \u001b[0m┃\u001b[1m \u001b[0m\u001b[1mgrp_pc_lcu\u001b[0m\u001b[1m \u001b[0m\u001b[1m \u001b[0m┃\u001b[1m \u001b[0m\u001b[1mag_grp_pc_lcu\u001b[0m\u001b[1m \u001b[0m┃\u001b[1m \u001b[0m\u001b[1mman_grp_pc_lcu\u001b[0m\u001b[1m \u001b[0m┃\u001b[1m \u001b[0m\u001b[1mserv_grp_pc_lcu\u001b[0m\u001b[1m \u001b[0m┃\u001b[1m \u001b[0m\u001b[1mgrp_pc_usd\u001b[0m\u001b[1m        \u001b[0m\u001b[1m \u001b[0m┃\u001b[1m \u001b[0m\u001b[1mag_grp_pc_usd\u001b[0m\u001b[1m    \u001b[0m\u001b[1m \u001b[0m┃\u001b[1m \u001b[0m\u001b[1mman_grp_pc_usd\u001b[0m\u001b[1m \u001b[0m┃\u001b[1m \u001b[0m\u001b[1mserv_grp_pc_usd\u001b[0m\u001b[1m  \u001b[0m\u001b[1m \u001b[0m┃\u001b[1m \u001b[0m\u001b[1mgrp_pc_lcu_2015\u001b[0m\u001b[1m \u001b[0m┃\u001b[1m \u001b[0m\u001b[1mag_grp_pc_lcu_2015\u001b[0m\u001b[1m \u001b[0m┃\u001b[1m \u001b[0m\u001b[1mman_grp_pc_lcu_2015\u001b[0m\u001b[1m \u001b[0m┃\u001b[1m \u001b[0m\u001b[1mserv_grp_pc_lcu_2015\u001b[0m\u001b[1m \u001b[0m┃\u001b[1m \u001b[0m\u001b[1mgrp_pc_usd_2015\u001b[0m\u001b[1m   \u001b[0m\u001b[1m \u001b[0m┃\u001b[1m \u001b[0m\u001b[1mag_grp_pc_usd_2015\u001b[0m\u001b[1m \u001b[0m┃\u001b[1m \u001b[0m\u001b[1mman_grp_pc_usd_2015\u001b[0m\u001b[1m \u001b[0m┃\u001b[1m \u001b[0m\u001b[1mserv_grp_pc_usd_2015\u001b[0m\u001b[1m \u001b[0m┃\u001b[1m \u001b[0m\u001b[1mgrp_pc_lcu2015_usd\u001b[0m\u001b[1m \u001b[0m┃\u001b[1m \u001b[0m\u001b[1mag_grp_pc_lcu2015_usd\u001b[0m\u001b[1m \u001b[0m┃\u001b[1m \u001b[0m\u001b[1mman_grp_pc_lcu2015_usd\u001b[0m\u001b[1m \u001b[0m┃\u001b[1m \u001b[0m\u001b[1mserv_grp_pc_lcu2015_usd\u001b[0m\u001b[1m \u001b[0m┃\u001b[1m \u001b[0m\u001b[1mcpi_2015\u001b[0m\u001b[1m   \u001b[0m\u001b[1m \u001b[0m┃\u001b[1m \u001b[0m\u001b[1mdeflator_2015\u001b[0m\u001b[1m \u001b[0m┃\u001b[1m \u001b[0m\u001b[1mfx\u001b[0m\u001b[1m                \u001b[0m\u001b[1m \u001b[0m┃\u001b[1m \u001b[0m\u001b[1mPPP\u001b[0m\u001b[1m        \u001b[0m\u001b[1m \u001b[0m┃\u001b[1m \u001b[0m\u001b[1mStructChange\u001b[0m\u001b[1m \u001b[0m┃\u001b[1m \u001b[0m\u001b[1mversion\u001b[0m\u001b[1m \u001b[0m┃\u001b[1m \u001b[0m\u001b[1mT_a\u001b[0m\u001b[1m        \u001b[0m\u001b[1m \u001b[0m┃\u001b[1m \u001b[0m\u001b[1mP_a\u001b[0m\u001b[1m        \u001b[0m\u001b[1m \u001b[0m┃\n",
       "┡━━━━━━━━━╇━━━━━━━━━━━╇━━━━━━━━╇━━━━━━━━━╇━━━━━━━━╇━━━━━━━━━━━━━━━━━╇━━━━━━━━━━━╇━━━━━━━━━━━━━╇━━━━━━━━━━━━━━━╇━━━━━━━━━━━━━━━━╇━━━━━━━━━━━━━━━━━╇━━━━━━━━━━━━━━━━━━━━╇━━━━━━━━━━━━━━━━━━━╇━━━━━━━━━━━━━━━━╇━━━━━━━━━━━━━━━━━━━╇━━━━━━━━━━━━━━━━━╇━━━━━━━━━━━━━━━━━━━━╇━━━━━━━━━━━━━━━━━━━━━╇━━━━━━━━━━━━━━━━━━━━━━╇━━━━━━━━━━━━━━━━━━━━╇━━━━━━━━━━━━━━━━━━━━╇━━━━━━━━━━━━━━━━━━━━━╇━━━━━━━━━━━━━━━━━━━━━━╇━━━━━━━━━━━━━━━━━━━━╇━━━━━━━━━━━━━━━━━━━━━━━╇━━━━━━━━━━━━━━━━━━━━━━━━╇━━━━━━━━━━━━━━━━━━━━━━━━━╇━━━━━━━━━━━━━╇━━━━━━━━━━━━━━━╇━━━━━━━━━━━━━━━━━━━━╇━━━━━━━━━━━━━╇━━━━━━━━━━━━━━╇━━━━━━━━━╇━━━━━━━━━━━━━╇━━━━━━━━━━━━━┩\n",
       "│ \u001b[2mstring\u001b[0m  │ \u001b[2mstring\u001b[0m    │ \u001b[2mstring\u001b[0m │ \u001b[2mstring\u001b[0m  │ \u001b[2mstring\u001b[0m │ \u001b[2mstring\u001b[0m          │ \u001b[2mstring\u001b[0m    │ \u001b[2mstring\u001b[0m      │ \u001b[2mstring\u001b[0m        │ \u001b[2mstring\u001b[0m         │ \u001b[2mstring\u001b[0m          │ \u001b[2mstring\u001b[0m             │ \u001b[2mstring\u001b[0m            │ \u001b[2mstring\u001b[0m         │ \u001b[2mstring\u001b[0m            │ \u001b[2mstring\u001b[0m          │ \u001b[2mstring\u001b[0m             │ \u001b[2mstring\u001b[0m              │ \u001b[2mstring\u001b[0m               │ \u001b[2mstring\u001b[0m             │ \u001b[2mstring\u001b[0m             │ \u001b[2mstring\u001b[0m              │ \u001b[2mstring\u001b[0m               │ \u001b[2mstring\u001b[0m             │ \u001b[2mstring\u001b[0m                │ \u001b[2mstring\u001b[0m                 │ \u001b[2mstring\u001b[0m                  │ \u001b[2mstring\u001b[0m      │ \u001b[2mstring\u001b[0m        │ \u001b[2mstring\u001b[0m             │ \u001b[2mstring\u001b[0m      │ \u001b[2mstring\u001b[0m       │ \u001b[2mstring\u001b[0m  │ \u001b[2mstring\u001b[0m      │ \u001b[2mstring\u001b[0m      │\n",
       "├─────────┼───────────┼────────┼─────────┼────────┼─────────────────┼───────────┼─────────────┼───────────────┼────────────────┼─────────────────┼────────────────────┼───────────────────┼────────────────┼───────────────────┼─────────────────┼────────────────────┼─────────────────────┼──────────────────────┼────────────────────┼────────────────────┼─────────────────────┼──────────────────────┼────────────────────┼───────────────────────┼────────────────────────┼─────────────────────────┼─────────────┼───────────────┼────────────────────┼─────────────┼──────────────┼─────────┼─────────────┼─────────────┤\n",
       "│ \u001b[32mNigeria\u001b[0m │ \u001b[32mAkwa Ibom\u001b[0m │ \u001b[32mNGA   \u001b[0m │ \u001b[32mNGA.3_1\u001b[0m │ \u001b[32m2013  \u001b[0m │ \u001b[32m4120000000000.0\u001b[0m │ \u001b[32m4950568.0\u001b[0m │ \u001b[32m832675.8744\u001b[0m │ \u001b[32m121159.4448  \u001b[0m │ \u001b[32m592373.0363   \u001b[0m │ \u001b[32m119143.3933    \u001b[0m │ \u001b[32m5293.175197       \u001b[0m │ \u001b[32m770.1894434999999\u001b[0m │ \u001b[32m3765.611998   \u001b[0m │ \u001b[32m757.3737555      \u001b[0m │ \u001b[32m896457.2639    \u001b[0m │ \u001b[32m130440.028        \u001b[0m │ \u001b[32m637747.6851        \u001b[0m │ \u001b[32m128269.5507         \u001b[0m │ \u001b[32m5442.441637       \u001b[0m │ \u001b[32m791.9086255       \u001b[0m │ \u001b[32m3871.801473        \u001b[0m │ \u001b[32m778.7315378         \u001b[0m │ \u001b[32m4658.360117       \u001b[0m │ \u001b[32m677.8199572000001    \u001b[0m │ \u001b[32m3313.9988940000003    \u001b[0m │ \u001b[32m666.5412658            \u001b[0m │ \u001b[32m104.4966144\u001b[0m │ \u001b[32m92.88517233  \u001b[0m │ \u001b[32m157.311225        \u001b[0m │ \u001b[32m90.26118469\u001b[0m │ \u001b[32m0.0         \u001b[0m │ \u001b[32m2.0    \u001b[0m │ \u001b[32m26.12869183\u001b[0m │ \u001b[32m3279.543909\u001b[0m │\n",
       "│ \u001b[32mNigeria\u001b[0m │ \u001b[32mAkwa Ibom\u001b[0m │ \u001b[32mNGA   \u001b[0m │ \u001b[32mNGA.3_1\u001b[0m │ \u001b[32m2014  \u001b[0m │ \u001b[32m4430000000000.0\u001b[0m │ \u001b[32m5121781.0\u001b[0m │ \u001b[32m865753.0708\u001b[0m │ \u001b[32m110542.9285  \u001b[0m │ \u001b[32m628155.1311   \u001b[0m │ \u001b[32m127055.0113    \u001b[0m │ \u001b[32m5460.350971       \u001b[0m │ \u001b[32m697.2001683999999\u001b[0m │ \u001b[32m3961.808044   \u001b[0m │ \u001b[32m801.3427586      \u001b[0m │ \u001b[32m890545.3396    \u001b[0m │ \u001b[32m113708.5078       \u001b[0m │ \u001b[32m646143.3905        \u001b[0m │ \u001b[32m130693.4413         \u001b[0m │ \u001b[32m5512.362535       \u001b[0m │ \u001b[32m703.8412199       \u001b[0m │ \u001b[32m3999.545514        \u001b[0m │ \u001b[32m808.9758011         \u001b[0m │ \u001b[32m4627.63933        \u001b[0m │ \u001b[32m590.8761062000001    \u001b[0m │ \u001b[32m3357.626427           \u001b[0m │ \u001b[32m679.1367966            \u001b[0m │ \u001b[32m112.2992346\u001b[0m │ \u001b[32m97.21605766  \u001b[0m │ \u001b[32m158.55264169999998\u001b[0m │ \u001b[32m92.7820282 \u001b[0m │ \u001b[32m0.0         \u001b[0m │ \u001b[32m2.0    \u001b[0m │ \u001b[32m26.23870081\u001b[0m │ \u001b[32m3149.203077\u001b[0m │\n",
       "│ \u001b[32mNigeria\u001b[0m │ \u001b[32mAkwa Ibom\u001b[0m │ \u001b[32mNGA   \u001b[0m │ \u001b[32mNGA.3_1\u001b[0m │ \u001b[32m2015  \u001b[0m │ \u001b[32m3240000000000.0\u001b[0m │ \u001b[32m5298916.0\u001b[0m │ \u001b[32m611830.0923\u001b[0m │ \u001b[32m127815.307   \u001b[0m │ \u001b[32m354874.4935   \u001b[0m │ \u001b[32m129140.2918    \u001b[0m │ \u001b[32m3179.3204370000003\u001b[0m │ \u001b[32m664.1808285      \u001b[0m │ \u001b[32m1844.073615   \u001b[0m │ \u001b[32m671.0659937999999\u001b[0m │ \u001b[32m611830.0923    \u001b[0m │ \u001b[32m127815.307        \u001b[0m │ \u001b[32m354874.4935        \u001b[0m │ \u001b[32m129140.2918         \u001b[0m │ \u001b[32m3179.3204370000003\u001b[0m │ \u001b[32m664.1808285       \u001b[0m │ \u001b[32m1844.073615        \u001b[0m │ \u001b[32m671.0659937999999   \u001b[0m │ \u001b[32m3179.3204370000003\u001b[0m │ \u001b[32m664.1808285          \u001b[0m │ \u001b[32m1844.073615           \u001b[0m │ \u001b[32m671.0659937999999      \u001b[0m │ \u001b[32m100.0      \u001b[0m │ \u001b[32m100.0        \u001b[0m │ \u001b[32m192.4405244       \u001b[0m │ \u001b[32m96.83239746\u001b[0m │ \u001b[32m0.0         \u001b[0m │ \u001b[32m2.0    \u001b[0m │ \u001b[32m26.28886945\u001b[0m │ \u001b[32m3073.289462\u001b[0m │\n",
       "└─────────┴───────────┴────────┴─────────┴────────┴─────────────────┴───────────┴─────────────┴───────────────┴────────────────┴─────────────────┴────────────────────┴───────────────────┴────────────────┴───────────────────┴─────────────────┴────────────────────┴─────────────────────┴──────────────────────┴────────────────────┴────────────────────┴─────────────────────┴──────────────────────┴────────────────────┴───────────────────────┴────────────────────────┴─────────────────────────┴─────────────┴───────────────┴────────────────────┴─────────────┴──────────────┴─────────┴─────────────┴─────────────┘"
      ]
     },
     "execution_count": 15,
     "metadata": {},
     "output_type": "execute_result"
    }
   ],
   "source": [
    "dose.filter(_.country==\"Nigeria\").head(3)"
   ]
  },
  {
   "cell_type": "code",
   "execution_count": 16,
   "metadata": {
    "tags": [
     "rm_cell"
    ]
   },
   "outputs": [
    {
     "data": {
      "text/html": [
       "<pre style=\"white-space:pre;overflow-x:auto;line-height:normal;font-family:Menlo,'DejaVu Sans Mono',consolas,'Courier New',monospace\">┏━━━━━━━━━━━━━━━━━━━━━━━━━━━━━┳━━━━━━━━━━━━━━┳━━━━━━━━━━━━━━━━━━━━━━━━━━━━━━━━━━━━━━━━━━━━━━━━━━━━━━━━━━━━━━━━━━━━━━━━━━━━━━━━━━┳━━━━━━━━━━━━━━━━━━━┳━━━━━━━━━┳━━━━━━━━━┳━━━━━━━━━┳━━━━━━━━━┳━━━━━━━━━┳━━━━━━━━━┳━━━━━━━━━┳━━━━━━━━━┳━━━━━━━━━┳━━━━━━━━━┳━━━━━━━━━┳━━━━━━━━━┳━━━━━━━━━┳━━━━━━━━━┳━━━━━━━━━┳━━━━━━━━━┳━━━━━━━━━┳━━━━━━━━━┳━━━━━━━━━┳━━━━━━━━━┳━━━━━━━━━┳━━━━━━━━━┳━━━━━━━━━┳━━━━━━━━━┳━━━━━━━━━┳━━━━━━━━━┳━━━━━━━━━┳━━━━━━━━━┳━━━━━━━━━┳━━━━━━━━━┳━━━━━━━━━┳━━━━━━━━━┳━━━━━━━━━┳━━━━━━━━━┳━━━━━━━━━┳━━━━━━━━━┳━━━━━━━━━┳━━━━━━━━━┳━━━━━━━━━┳━━━━━━━━━┳━━━━━━━━━━━┳━━━━━━━━━━━┳━━━━━━━━━━━┳━━━━━━━━━━━┳━━━━━━━━━━━┳━━━━━━━━━━━┳━━━━━━━━━━━┳━━━━━━━━━━━┳━━━━━━━━━━━┳━━━━━━━━━━━┳━━━━━━━━━━━┳━━━━━━━━━━━┳━━━━━━━━━━━┳━━━━━━━━━━━┳━━━━━━━━━━━┳━━━━━━━━━━━┳━━━━━━━━━━━┳━━━━━━━━━━━┳━━━━━━━━━━━┳━━━━━━━━━━━┳━━━━━━━━━━━┳━━━━━━━━━━━┳━━━━━━━━━━━┳━━━━━━━━━┓\n",
       "┃<span style=\"font-weight: bold\"> Country Name                </span>┃<span style=\"font-weight: bold\"> Country Code </span>┃<span style=\"font-weight: bold\"> Indicator Name                                                                   </span>┃<span style=\"font-weight: bold\"> Indicator Code    </span>┃<span style=\"font-weight: bold\"> 1960    </span>┃<span style=\"font-weight: bold\"> 1961    </span>┃<span style=\"font-weight: bold\"> 1962    </span>┃<span style=\"font-weight: bold\"> 1963    </span>┃<span style=\"font-weight: bold\"> 1964    </span>┃<span style=\"font-weight: bold\"> 1965    </span>┃<span style=\"font-weight: bold\"> 1966    </span>┃<span style=\"font-weight: bold\"> 1967    </span>┃<span style=\"font-weight: bold\"> 1968    </span>┃<span style=\"font-weight: bold\"> 1969    </span>┃<span style=\"font-weight: bold\"> 1970    </span>┃<span style=\"font-weight: bold\"> 1971    </span>┃<span style=\"font-weight: bold\"> 1972    </span>┃<span style=\"font-weight: bold\"> 1973    </span>┃<span style=\"font-weight: bold\"> 1974    </span>┃<span style=\"font-weight: bold\"> 1975    </span>┃<span style=\"font-weight: bold\"> 1976    </span>┃<span style=\"font-weight: bold\"> 1977    </span>┃<span style=\"font-weight: bold\"> 1978    </span>┃<span style=\"font-weight: bold\"> 1979    </span>┃<span style=\"font-weight: bold\"> 1980    </span>┃<span style=\"font-weight: bold\"> 1981    </span>┃<span style=\"font-weight: bold\"> 1982    </span>┃<span style=\"font-weight: bold\"> 1983    </span>┃<span style=\"font-weight: bold\"> 1984    </span>┃<span style=\"font-weight: bold\"> 1985    </span>┃<span style=\"font-weight: bold\"> 1986    </span>┃<span style=\"font-weight: bold\"> 1987    </span>┃<span style=\"font-weight: bold\"> 1988    </span>┃<span style=\"font-weight: bold\"> 1989    </span>┃<span style=\"font-weight: bold\"> 1990    </span>┃<span style=\"font-weight: bold\"> 1991    </span>┃<span style=\"font-weight: bold\"> 1992    </span>┃<span style=\"font-weight: bold\"> 1993    </span>┃<span style=\"font-weight: bold\"> 1994    </span>┃<span style=\"font-weight: bold\"> 1995    </span>┃<span style=\"font-weight: bold\"> 1996    </span>┃<span style=\"font-weight: bold\"> 1997    </span>┃<span style=\"font-weight: bold\"> 1998    </span>┃<span style=\"font-weight: bold\"> 1999    </span>┃<span style=\"font-weight: bold\"> 2000      </span>┃<span style=\"font-weight: bold\"> 2001      </span>┃<span style=\"font-weight: bold\"> 2002      </span>┃<span style=\"font-weight: bold\"> 2003      </span>┃<span style=\"font-weight: bold\"> 2004      </span>┃<span style=\"font-weight: bold\"> 2005      </span>┃<span style=\"font-weight: bold\"> 2006      </span>┃<span style=\"font-weight: bold\"> 2007      </span>┃<span style=\"font-weight: bold\"> 2008      </span>┃<span style=\"font-weight: bold\"> 2009      </span>┃<span style=\"font-weight: bold\"> 2010      </span>┃<span style=\"font-weight: bold\"> 2011      </span>┃<span style=\"font-weight: bold\"> 2012      </span>┃<span style=\"font-weight: bold\"> 2013      </span>┃<span style=\"font-weight: bold\"> 2014      </span>┃<span style=\"font-weight: bold\"> 2015      </span>┃<span style=\"font-weight: bold\"> 2016      </span>┃<span style=\"font-weight: bold\"> 2017      </span>┃<span style=\"font-weight: bold\"> 2018      </span>┃<span style=\"font-weight: bold\"> 2019      </span>┃<span style=\"font-weight: bold\"> 2020      </span>┃<span style=\"font-weight: bold\"> 2021      </span>┃<span style=\"font-weight: bold\"> 2022      </span>┃<span style=\"font-weight: bold\"> 2023    </span>┃\n",
       "┡━━━━━━━━━━━━━━━━━━━━━━━━━━━━━╇━━━━━━━━━━━━━━╇━━━━━━━━━━━━━━━━━━━━━━━━━━━━━━━━━━━━━━━━━━━━━━━━━━━━━━━━━━━━━━━━━━━━━━━━━━━━━━━━━━╇━━━━━━━━━━━━━━━━━━━╇━━━━━━━━━╇━━━━━━━━━╇━━━━━━━━━╇━━━━━━━━━╇━━━━━━━━━╇━━━━━━━━━╇━━━━━━━━━╇━━━━━━━━━╇━━━━━━━━━╇━━━━━━━━━╇━━━━━━━━━╇━━━━━━━━━╇━━━━━━━━━╇━━━━━━━━━╇━━━━━━━━━╇━━━━━━━━━╇━━━━━━━━━╇━━━━━━━━━╇━━━━━━━━━╇━━━━━━━━━╇━━━━━━━━━╇━━━━━━━━━╇━━━━━━━━━╇━━━━━━━━━╇━━━━━━━━━╇━━━━━━━━━╇━━━━━━━━━╇━━━━━━━━━╇━━━━━━━━━╇━━━━━━━━━╇━━━━━━━━━╇━━━━━━━━━╇━━━━━━━━━╇━━━━━━━━━╇━━━━━━━━━╇━━━━━━━━━╇━━━━━━━━━╇━━━━━━━━━╇━━━━━━━━━╇━━━━━━━━━╇━━━━━━━━━━━╇━━━━━━━━━━━╇━━━━━━━━━━━╇━━━━━━━━━━━╇━━━━━━━━━━━╇━━━━━━━━━━━╇━━━━━━━━━━━╇━━━━━━━━━━━╇━━━━━━━━━━━╇━━━━━━━━━━━╇━━━━━━━━━━━╇━━━━━━━━━━━╇━━━━━━━━━━━╇━━━━━━━━━━━╇━━━━━━━━━━━╇━━━━━━━━━━━╇━━━━━━━━━━━╇━━━━━━━━━━━╇━━━━━━━━━━━╇━━━━━━━━━━━╇━━━━━━━━━━━╇━━━━━━━━━━━╇━━━━━━━━━━━╇━━━━━━━━━┩\n",
       "│ <span style=\"color: #7f7f7f; text-decoration-color: #7f7f7f\">string</span>                      │ <span style=\"color: #7f7f7f; text-decoration-color: #7f7f7f\">string</span>       │ <span style=\"color: #7f7f7f; text-decoration-color: #7f7f7f\">string</span>                                                                           │ <span style=\"color: #7f7f7f; text-decoration-color: #7f7f7f\">string</span>            │ <span style=\"color: #7f7f7f; text-decoration-color: #7f7f7f\">float64</span> │ <span style=\"color: #7f7f7f; text-decoration-color: #7f7f7f\">float64</span> │ <span style=\"color: #7f7f7f; text-decoration-color: #7f7f7f\">float64</span> │ <span style=\"color: #7f7f7f; text-decoration-color: #7f7f7f\">float64</span> │ <span style=\"color: #7f7f7f; text-decoration-color: #7f7f7f\">float64</span> │ <span style=\"color: #7f7f7f; text-decoration-color: #7f7f7f\">float64</span> │ <span style=\"color: #7f7f7f; text-decoration-color: #7f7f7f\">float64</span> │ <span style=\"color: #7f7f7f; text-decoration-color: #7f7f7f\">float64</span> │ <span style=\"color: #7f7f7f; text-decoration-color: #7f7f7f\">float64</span> │ <span style=\"color: #7f7f7f; text-decoration-color: #7f7f7f\">float64</span> │ <span style=\"color: #7f7f7f; text-decoration-color: #7f7f7f\">float64</span> │ <span style=\"color: #7f7f7f; text-decoration-color: #7f7f7f\">float64</span> │ <span style=\"color: #7f7f7f; text-decoration-color: #7f7f7f\">float64</span> │ <span style=\"color: #7f7f7f; text-decoration-color: #7f7f7f\">float64</span> │ <span style=\"color: #7f7f7f; text-decoration-color: #7f7f7f\">float64</span> │ <span style=\"color: #7f7f7f; text-decoration-color: #7f7f7f\">float64</span> │ <span style=\"color: #7f7f7f; text-decoration-color: #7f7f7f\">float64</span> │ <span style=\"color: #7f7f7f; text-decoration-color: #7f7f7f\">float64</span> │ <span style=\"color: #7f7f7f; text-decoration-color: #7f7f7f\">float64</span> │ <span style=\"color: #7f7f7f; text-decoration-color: #7f7f7f\">float64</span> │ <span style=\"color: #7f7f7f; text-decoration-color: #7f7f7f\">float64</span> │ <span style=\"color: #7f7f7f; text-decoration-color: #7f7f7f\">float64</span> │ <span style=\"color: #7f7f7f; text-decoration-color: #7f7f7f\">float64</span> │ <span style=\"color: #7f7f7f; text-decoration-color: #7f7f7f\">float64</span> │ <span style=\"color: #7f7f7f; text-decoration-color: #7f7f7f\">float64</span> │ <span style=\"color: #7f7f7f; text-decoration-color: #7f7f7f\">float64</span> │ <span style=\"color: #7f7f7f; text-decoration-color: #7f7f7f\">float64</span> │ <span style=\"color: #7f7f7f; text-decoration-color: #7f7f7f\">float64</span> │ <span style=\"color: #7f7f7f; text-decoration-color: #7f7f7f\">float64</span> │ <span style=\"color: #7f7f7f; text-decoration-color: #7f7f7f\">float64</span> │ <span style=\"color: #7f7f7f; text-decoration-color: #7f7f7f\">float64</span> │ <span style=\"color: #7f7f7f; text-decoration-color: #7f7f7f\">float64</span> │ <span style=\"color: #7f7f7f; text-decoration-color: #7f7f7f\">float64</span> │ <span style=\"color: #7f7f7f; text-decoration-color: #7f7f7f\">float64</span> │ <span style=\"color: #7f7f7f; text-decoration-color: #7f7f7f\">float64</span> │ <span style=\"color: #7f7f7f; text-decoration-color: #7f7f7f\">float64</span> │ <span style=\"color: #7f7f7f; text-decoration-color: #7f7f7f\">float64</span> │ <span style=\"color: #7f7f7f; text-decoration-color: #7f7f7f\">float64</span> │ <span style=\"color: #7f7f7f; text-decoration-color: #7f7f7f\">float64</span> │ <span style=\"color: #7f7f7f; text-decoration-color: #7f7f7f\">float64</span> │ <span style=\"color: #7f7f7f; text-decoration-color: #7f7f7f\">float64</span>   │ <span style=\"color: #7f7f7f; text-decoration-color: #7f7f7f\">float64</span>   │ <span style=\"color: #7f7f7f; text-decoration-color: #7f7f7f\">float64</span>   │ <span style=\"color: #7f7f7f; text-decoration-color: #7f7f7f\">float64</span>   │ <span style=\"color: #7f7f7f; text-decoration-color: #7f7f7f\">float64</span>   │ <span style=\"color: #7f7f7f; text-decoration-color: #7f7f7f\">float64</span>   │ <span style=\"color: #7f7f7f; text-decoration-color: #7f7f7f\">float64</span>   │ <span style=\"color: #7f7f7f; text-decoration-color: #7f7f7f\">float64</span>   │ <span style=\"color: #7f7f7f; text-decoration-color: #7f7f7f\">float64</span>   │ <span style=\"color: #7f7f7f; text-decoration-color: #7f7f7f\">float64</span>   │ <span style=\"color: #7f7f7f; text-decoration-color: #7f7f7f\">float64</span>   │ <span style=\"color: #7f7f7f; text-decoration-color: #7f7f7f\">float64</span>   │ <span style=\"color: #7f7f7f; text-decoration-color: #7f7f7f\">float64</span>   │ <span style=\"color: #7f7f7f; text-decoration-color: #7f7f7f\">float64</span>   │ <span style=\"color: #7f7f7f; text-decoration-color: #7f7f7f\">float64</span>   │ <span style=\"color: #7f7f7f; text-decoration-color: #7f7f7f\">float64</span>   │ <span style=\"color: #7f7f7f; text-decoration-color: #7f7f7f\">float64</span>   │ <span style=\"color: #7f7f7f; text-decoration-color: #7f7f7f\">float64</span>   │ <span style=\"color: #7f7f7f; text-decoration-color: #7f7f7f\">float64</span>   │ <span style=\"color: #7f7f7f; text-decoration-color: #7f7f7f\">float64</span>   │ <span style=\"color: #7f7f7f; text-decoration-color: #7f7f7f\">float64</span>   │ <span style=\"color: #7f7f7f; text-decoration-color: #7f7f7f\">float64</span>   │ <span style=\"color: #7f7f7f; text-decoration-color: #7f7f7f\">float64</span>   │ <span style=\"color: #7f7f7f; text-decoration-color: #7f7f7f\">float64</span> │\n",
       "├─────────────────────────────┼──────────────┼──────────────────────────────────────────────────────────────────────────────────┼───────────────────┼─────────┼─────────┼─────────┼─────────┼─────────┼─────────┼─────────┼─────────┼─────────┼─────────┼─────────┼─────────┼─────────┼─────────┼─────────┼─────────┼─────────┼─────────┼─────────┼─────────┼─────────┼─────────┼─────────┼─────────┼─────────┼─────────┼─────────┼─────────┼─────────┼─────────┼─────────┼─────────┼─────────┼─────────┼─────────┼─────────┼─────────┼─────────┼─────────┼─────────┼───────────┼───────────┼───────────┼───────────┼───────────┼───────────┼───────────┼───────────┼───────────┼───────────┼───────────┼───────────┼───────────┼───────────┼───────────┼───────────┼───────────┼───────────┼───────────┼───────────┼───────────┼───────────┼───────────┼─────────┤\n",
       "│ <span style=\"color: #008000; text-decoration-color: #008000\">Africa Eastern and Southern</span> │ <span style=\"color: #008000; text-decoration-color: #008000\">AFE         </span> │ <span style=\"color: #008000; text-decoration-color: #008000\">Access to clean fuels and technologies for cooking (% of population)            </span> │ <span style=\"color: #008000; text-decoration-color: #008000\">EG.CFT.ACCS.ZS   </span> │    <span style=\"color: #7f7f7f; text-decoration-color: #7f7f7f\">NULL</span> │    <span style=\"color: #7f7f7f; text-decoration-color: #7f7f7f\">NULL</span> │    <span style=\"color: #7f7f7f; text-decoration-color: #7f7f7f\">NULL</span> │    <span style=\"color: #7f7f7f; text-decoration-color: #7f7f7f\">NULL</span> │    <span style=\"color: #7f7f7f; text-decoration-color: #7f7f7f\">NULL</span> │    <span style=\"color: #7f7f7f; text-decoration-color: #7f7f7f\">NULL</span> │    <span style=\"color: #7f7f7f; text-decoration-color: #7f7f7f\">NULL</span> │    <span style=\"color: #7f7f7f; text-decoration-color: #7f7f7f\">NULL</span> │    <span style=\"color: #7f7f7f; text-decoration-color: #7f7f7f\">NULL</span> │    <span style=\"color: #7f7f7f; text-decoration-color: #7f7f7f\">NULL</span> │    <span style=\"color: #7f7f7f; text-decoration-color: #7f7f7f\">NULL</span> │    <span style=\"color: #7f7f7f; text-decoration-color: #7f7f7f\">NULL</span> │    <span style=\"color: #7f7f7f; text-decoration-color: #7f7f7f\">NULL</span> │    <span style=\"color: #7f7f7f; text-decoration-color: #7f7f7f\">NULL</span> │    <span style=\"color: #7f7f7f; text-decoration-color: #7f7f7f\">NULL</span> │    <span style=\"color: #7f7f7f; text-decoration-color: #7f7f7f\">NULL</span> │    <span style=\"color: #7f7f7f; text-decoration-color: #7f7f7f\">NULL</span> │    <span style=\"color: #7f7f7f; text-decoration-color: #7f7f7f\">NULL</span> │    <span style=\"color: #7f7f7f; text-decoration-color: #7f7f7f\">NULL</span> │    <span style=\"color: #7f7f7f; text-decoration-color: #7f7f7f\">NULL</span> │    <span style=\"color: #7f7f7f; text-decoration-color: #7f7f7f\">NULL</span> │    <span style=\"color: #7f7f7f; text-decoration-color: #7f7f7f\">NULL</span> │    <span style=\"color: #7f7f7f; text-decoration-color: #7f7f7f\">NULL</span> │    <span style=\"color: #7f7f7f; text-decoration-color: #7f7f7f\">NULL</span> │    <span style=\"color: #7f7f7f; text-decoration-color: #7f7f7f\">NULL</span> │    <span style=\"color: #7f7f7f; text-decoration-color: #7f7f7f\">NULL</span> │    <span style=\"color: #7f7f7f; text-decoration-color: #7f7f7f\">NULL</span> │    <span style=\"color: #7f7f7f; text-decoration-color: #7f7f7f\">NULL</span> │    <span style=\"color: #7f7f7f; text-decoration-color: #7f7f7f\">NULL</span> │    <span style=\"color: #7f7f7f; text-decoration-color: #7f7f7f\">NULL</span> │    <span style=\"color: #7f7f7f; text-decoration-color: #7f7f7f\">NULL</span> │    <span style=\"color: #7f7f7f; text-decoration-color: #7f7f7f\">NULL</span> │    <span style=\"color: #7f7f7f; text-decoration-color: #7f7f7f\">NULL</span> │    <span style=\"color: #7f7f7f; text-decoration-color: #7f7f7f\">NULL</span> │    <span style=\"color: #7f7f7f; text-decoration-color: #7f7f7f\">NULL</span> │    <span style=\"color: #7f7f7f; text-decoration-color: #7f7f7f\">NULL</span> │    <span style=\"color: #7f7f7f; text-decoration-color: #7f7f7f\">NULL</span> │    <span style=\"color: #7f7f7f; text-decoration-color: #7f7f7f\">NULL</span> │    <span style=\"color: #7f7f7f; text-decoration-color: #7f7f7f\">NULL</span> │    <span style=\"color: #7f7f7f; text-decoration-color: #7f7f7f\">NULL</span> │ <span style=\"color: #008080; text-decoration-color: #008080; font-weight: bold\">11.525904</span> │ <span style=\"color: #008080; text-decoration-color: #008080; font-weight: bold\">11.850593</span> │ <span style=\"color: #008080; text-decoration-color: #008080; font-weight: bold\">12.175592</span> │ <span style=\"color: #008080; text-decoration-color: #008080; font-weight: bold\">12.551723</span> │ <span style=\"color: #008080; text-decoration-color: #008080; font-weight: bold\">12.924851</span> │ <span style=\"color: #008080; text-decoration-color: #008080; font-weight: bold\">13.347701</span> │ <span style=\"color: #008080; text-decoration-color: #008080; font-weight: bold\">13.804893</span> │ <span style=\"color: #008080; text-decoration-color: #008080; font-weight: bold\">14.226285</span> │ <span style=\"color: #008080; text-decoration-color: #008080; font-weight: bold\">14.644801</span> │ <span style=\"color: #008080; text-decoration-color: #008080; font-weight: bold\">15.136871</span> │ <span style=\"color: #008080; text-decoration-color: #008080; font-weight: bold\">15.592328</span> │ <span style=\"color: #008080; text-decoration-color: #008080; font-weight: bold\">16.005356</span> │ <span style=\"color: #008080; text-decoration-color: #008080; font-weight: bold\">16.466945</span> │ <span style=\"color: #008080; text-decoration-color: #008080; font-weight: bold\">16.877313</span> │ <span style=\"color: #008080; text-decoration-color: #008080; font-weight: bold\">17.401410</span> │ <span style=\"color: #008080; text-decoration-color: #008080; font-weight: bold\">17.911234</span> │ <span style=\"color: #008080; text-decoration-color: #008080; font-weight: bold\">18.463874</span> │ <span style=\"color: #008080; text-decoration-color: #008080; font-weight: bold\">18.924037</span> │ <span style=\"color: #008080; text-decoration-color: #008080; font-weight: bold\">19.437054</span> │ <span style=\"color: #008080; text-decoration-color: #008080; font-weight: bold\">20.026254</span> │ <span style=\"color: #008080; text-decoration-color: #008080; font-weight: bold\">20.647969</span> │ <span style=\"color: #008080; text-decoration-color: #008080; font-weight: bold\">21.165877</span> │ <span style=\"color: #008080; text-decoration-color: #008080; font-weight: bold\">21.863139</span> │    <span style=\"color: #7f7f7f; text-decoration-color: #7f7f7f\">NULL</span> │\n",
       "│ <span style=\"color: #008000; text-decoration-color: #008000\">Africa Eastern and Southern</span> │ <span style=\"color: #008000; text-decoration-color: #008000\">AFE         </span> │ <span style=\"color: #008000; text-decoration-color: #008000\">Access to clean fuels and technologies for cooking, rural (% of rural populatio…</span> │ <span style=\"color: #008000; text-decoration-color: #008000\">EG.CFT.ACCS.RU.ZS</span> │    <span style=\"color: #7f7f7f; text-decoration-color: #7f7f7f\">NULL</span> │    <span style=\"color: #7f7f7f; text-decoration-color: #7f7f7f\">NULL</span> │    <span style=\"color: #7f7f7f; text-decoration-color: #7f7f7f\">NULL</span> │    <span style=\"color: #7f7f7f; text-decoration-color: #7f7f7f\">NULL</span> │    <span style=\"color: #7f7f7f; text-decoration-color: #7f7f7f\">NULL</span> │    <span style=\"color: #7f7f7f; text-decoration-color: #7f7f7f\">NULL</span> │    <span style=\"color: #7f7f7f; text-decoration-color: #7f7f7f\">NULL</span> │    <span style=\"color: #7f7f7f; text-decoration-color: #7f7f7f\">NULL</span> │    <span style=\"color: #7f7f7f; text-decoration-color: #7f7f7f\">NULL</span> │    <span style=\"color: #7f7f7f; text-decoration-color: #7f7f7f\">NULL</span> │    <span style=\"color: #7f7f7f; text-decoration-color: #7f7f7f\">NULL</span> │    <span style=\"color: #7f7f7f; text-decoration-color: #7f7f7f\">NULL</span> │    <span style=\"color: #7f7f7f; text-decoration-color: #7f7f7f\">NULL</span> │    <span style=\"color: #7f7f7f; text-decoration-color: #7f7f7f\">NULL</span> │    <span style=\"color: #7f7f7f; text-decoration-color: #7f7f7f\">NULL</span> │    <span style=\"color: #7f7f7f; text-decoration-color: #7f7f7f\">NULL</span> │    <span style=\"color: #7f7f7f; text-decoration-color: #7f7f7f\">NULL</span> │    <span style=\"color: #7f7f7f; text-decoration-color: #7f7f7f\">NULL</span> │    <span style=\"color: #7f7f7f; text-decoration-color: #7f7f7f\">NULL</span> │    <span style=\"color: #7f7f7f; text-decoration-color: #7f7f7f\">NULL</span> │    <span style=\"color: #7f7f7f; text-decoration-color: #7f7f7f\">NULL</span> │    <span style=\"color: #7f7f7f; text-decoration-color: #7f7f7f\">NULL</span> │    <span style=\"color: #7f7f7f; text-decoration-color: #7f7f7f\">NULL</span> │    <span style=\"color: #7f7f7f; text-decoration-color: #7f7f7f\">NULL</span> │    <span style=\"color: #7f7f7f; text-decoration-color: #7f7f7f\">NULL</span> │    <span style=\"color: #7f7f7f; text-decoration-color: #7f7f7f\">NULL</span> │    <span style=\"color: #7f7f7f; text-decoration-color: #7f7f7f\">NULL</span> │    <span style=\"color: #7f7f7f; text-decoration-color: #7f7f7f\">NULL</span> │    <span style=\"color: #7f7f7f; text-decoration-color: #7f7f7f\">NULL</span> │    <span style=\"color: #7f7f7f; text-decoration-color: #7f7f7f\">NULL</span> │    <span style=\"color: #7f7f7f; text-decoration-color: #7f7f7f\">NULL</span> │    <span style=\"color: #7f7f7f; text-decoration-color: #7f7f7f\">NULL</span> │    <span style=\"color: #7f7f7f; text-decoration-color: #7f7f7f\">NULL</span> │    <span style=\"color: #7f7f7f; text-decoration-color: #7f7f7f\">NULL</span> │    <span style=\"color: #7f7f7f; text-decoration-color: #7f7f7f\">NULL</span> │    <span style=\"color: #7f7f7f; text-decoration-color: #7f7f7f\">NULL</span> │    <span style=\"color: #7f7f7f; text-decoration-color: #7f7f7f\">NULL</span> │    <span style=\"color: #7f7f7f; text-decoration-color: #7f7f7f\">NULL</span> │    <span style=\"color: #7f7f7f; text-decoration-color: #7f7f7f\">NULL</span> │    <span style=\"color: #7f7f7f; text-decoration-color: #7f7f7f\">NULL</span> │  <span style=\"color: #008080; text-decoration-color: #008080; font-weight: bold\">3.469977</span> │  <span style=\"color: #008080; text-decoration-color: #008080; font-weight: bold\">3.642010</span> │  <span style=\"color: #008080; text-decoration-color: #008080; font-weight: bold\">3.849942</span> │  <span style=\"color: #008080; text-decoration-color: #008080; font-weight: bold\">4.054108</span> │  <span style=\"color: #008080; text-decoration-color: #008080; font-weight: bold\">4.285291</span> │  <span style=\"color: #008080; text-decoration-color: #008080; font-weight: bold\">4.490187</span> │  <span style=\"color: #008080; text-decoration-color: #008080; font-weight: bold\">4.734117</span> │  <span style=\"color: #008080; text-decoration-color: #008080; font-weight: bold\">4.996842</span> │  <span style=\"color: #008080; text-decoration-color: #008080; font-weight: bold\">5.239006</span> │  <span style=\"color: #008080; text-decoration-color: #008080; font-weight: bold\">5.457240</span> │  <span style=\"color: #008080; text-decoration-color: #008080; font-weight: bold\">5.686400</span> │  <span style=\"color: #008080; text-decoration-color: #008080; font-weight: bold\">5.959239</span> │  <span style=\"color: #008080; text-decoration-color: #008080; font-weight: bold\">6.202221</span> │  <span style=\"color: #008080; text-decoration-color: #008080; font-weight: bold\">6.453240</span> │  <span style=\"color: #008080; text-decoration-color: #008080; font-weight: bold\">6.728819</span> │  <span style=\"color: #008080; text-decoration-color: #008080; font-weight: bold\">7.005877</span> │  <span style=\"color: #008080; text-decoration-color: #008080; font-weight: bold\">7.308571</span> │  <span style=\"color: #008080; text-decoration-color: #008080; font-weight: bold\">7.547226</span> │  <span style=\"color: #008080; text-decoration-color: #008080; font-weight: bold\">7.875917</span> │  <span style=\"color: #008080; text-decoration-color: #008080; font-weight: bold\">8.243018</span> │  <span style=\"color: #008080; text-decoration-color: #008080; font-weight: bold\">8.545483</span> │  <span style=\"color: #008080; text-decoration-color: #008080; font-weight: bold\">8.906711</span> │  <span style=\"color: #008080; text-decoration-color: #008080; font-weight: bold\">9.261320</span> │    <span style=\"color: #7f7f7f; text-decoration-color: #7f7f7f\">NULL</span> │\n",
       "│ <span style=\"color: #008000; text-decoration-color: #008000\">Africa Eastern and Southern</span> │ <span style=\"color: #008000; text-decoration-color: #008000\">AFE         </span> │ <span style=\"color: #008000; text-decoration-color: #008000\">Access to clean fuels and technologies for cooking, urban (% of urban populatio…</span> │ <span style=\"color: #008000; text-decoration-color: #008000\">EG.CFT.ACCS.UR.ZS</span> │    <span style=\"color: #7f7f7f; text-decoration-color: #7f7f7f\">NULL</span> │    <span style=\"color: #7f7f7f; text-decoration-color: #7f7f7f\">NULL</span> │    <span style=\"color: #7f7f7f; text-decoration-color: #7f7f7f\">NULL</span> │    <span style=\"color: #7f7f7f; text-decoration-color: #7f7f7f\">NULL</span> │    <span style=\"color: #7f7f7f; text-decoration-color: #7f7f7f\">NULL</span> │    <span style=\"color: #7f7f7f; text-decoration-color: #7f7f7f\">NULL</span> │    <span style=\"color: #7f7f7f; text-decoration-color: #7f7f7f\">NULL</span> │    <span style=\"color: #7f7f7f; text-decoration-color: #7f7f7f\">NULL</span> │    <span style=\"color: #7f7f7f; text-decoration-color: #7f7f7f\">NULL</span> │    <span style=\"color: #7f7f7f; text-decoration-color: #7f7f7f\">NULL</span> │    <span style=\"color: #7f7f7f; text-decoration-color: #7f7f7f\">NULL</span> │    <span style=\"color: #7f7f7f; text-decoration-color: #7f7f7f\">NULL</span> │    <span style=\"color: #7f7f7f; text-decoration-color: #7f7f7f\">NULL</span> │    <span style=\"color: #7f7f7f; text-decoration-color: #7f7f7f\">NULL</span> │    <span style=\"color: #7f7f7f; text-decoration-color: #7f7f7f\">NULL</span> │    <span style=\"color: #7f7f7f; text-decoration-color: #7f7f7f\">NULL</span> │    <span style=\"color: #7f7f7f; text-decoration-color: #7f7f7f\">NULL</span> │    <span style=\"color: #7f7f7f; text-decoration-color: #7f7f7f\">NULL</span> │    <span style=\"color: #7f7f7f; text-decoration-color: #7f7f7f\">NULL</span> │    <span style=\"color: #7f7f7f; text-decoration-color: #7f7f7f\">NULL</span> │    <span style=\"color: #7f7f7f; text-decoration-color: #7f7f7f\">NULL</span> │    <span style=\"color: #7f7f7f; text-decoration-color: #7f7f7f\">NULL</span> │    <span style=\"color: #7f7f7f; text-decoration-color: #7f7f7f\">NULL</span> │    <span style=\"color: #7f7f7f; text-decoration-color: #7f7f7f\">NULL</span> │    <span style=\"color: #7f7f7f; text-decoration-color: #7f7f7f\">NULL</span> │    <span style=\"color: #7f7f7f; text-decoration-color: #7f7f7f\">NULL</span> │    <span style=\"color: #7f7f7f; text-decoration-color: #7f7f7f\">NULL</span> │    <span style=\"color: #7f7f7f; text-decoration-color: #7f7f7f\">NULL</span> │    <span style=\"color: #7f7f7f; text-decoration-color: #7f7f7f\">NULL</span> │    <span style=\"color: #7f7f7f; text-decoration-color: #7f7f7f\">NULL</span> │    <span style=\"color: #7f7f7f; text-decoration-color: #7f7f7f\">NULL</span> │    <span style=\"color: #7f7f7f; text-decoration-color: #7f7f7f\">NULL</span> │    <span style=\"color: #7f7f7f; text-decoration-color: #7f7f7f\">NULL</span> │    <span style=\"color: #7f7f7f; text-decoration-color: #7f7f7f\">NULL</span> │    <span style=\"color: #7f7f7f; text-decoration-color: #7f7f7f\">NULL</span> │    <span style=\"color: #7f7f7f; text-decoration-color: #7f7f7f\">NULL</span> │    <span style=\"color: #7f7f7f; text-decoration-color: #7f7f7f\">NULL</span> │    <span style=\"color: #7f7f7f; text-decoration-color: #7f7f7f\">NULL</span> │    <span style=\"color: #7f7f7f; text-decoration-color: #7f7f7f\">NULL</span> │    <span style=\"color: #7f7f7f; text-decoration-color: #7f7f7f\">NULL</span> │ <span style=\"color: #008080; text-decoration-color: #008080; font-weight: bold\">32.431714</span> │ <span style=\"color: #008080; text-decoration-color: #008080; font-weight: bold\">32.828683</span> │ <span style=\"color: #008080; text-decoration-color: #008080; font-weight: bold\">33.247739</span> │ <span style=\"color: #008080; text-decoration-color: #008080; font-weight: bold\">33.702059</span> │ <span style=\"color: #008080; text-decoration-color: #008080; font-weight: bold\">34.194895</span> │ <span style=\"color: #008080; text-decoration-color: #008080; font-weight: bold\">34.584696</span> │ <span style=\"color: #008080; text-decoration-color: #008080; font-weight: bold\">35.136730</span> │ <span style=\"color: #008080; text-decoration-color: #008080; font-weight: bold\">35.693131</span> │ <span style=\"color: #008080; text-decoration-color: #008080; font-weight: bold\">36.038789</span> │ <span style=\"color: #008080; text-decoration-color: #008080; font-weight: bold\">36.502796</span> │ <span style=\"color: #008080; text-decoration-color: #008080; font-weight: bold\">36.805328</span> │ <span style=\"color: #008080; text-decoration-color: #008080; font-weight: bold\">37.162243</span> │ <span style=\"color: #008080; text-decoration-color: #008080; font-weight: bold\">37.485980</span> │ <span style=\"color: #008080; text-decoration-color: #008080; font-weight: bold\">37.784029</span> │ <span style=\"color: #008080; text-decoration-color: #008080; font-weight: bold\">38.080931</span> │ <span style=\"color: #008080; text-decoration-color: #008080; font-weight: bold\">38.422282</span> │ <span style=\"color: #008080; text-decoration-color: #008080; font-weight: bold\">38.722108</span> │ <span style=\"color: #008080; text-decoration-color: #008080; font-weight: bold\">38.993157</span> │ <span style=\"color: #008080; text-decoration-color: #008080; font-weight: bold\">39.337872</span> │ <span style=\"color: #008080; text-decoration-color: #008080; font-weight: bold\">39.695279</span> │ <span style=\"color: #008080; text-decoration-color: #008080; font-weight: bold\">40.137847</span> │ <span style=\"color: #008080; text-decoration-color: #008080; font-weight: bold\">40.522209</span> │ <span style=\"color: #008080; text-decoration-color: #008080; font-weight: bold\">41.011132</span> │    <span style=\"color: #7f7f7f; text-decoration-color: #7f7f7f\">NULL</span> │\n",
       "└─────────────────────────────┴──────────────┴──────────────────────────────────────────────────────────────────────────────────┴───────────────────┴─────────┴─────────┴─────────┴─────────┴─────────┴─────────┴─────────┴─────────┴─────────┴─────────┴─────────┴─────────┴─────────┴─────────┴─────────┴─────────┴─────────┴─────────┴─────────┴─────────┴─────────┴─────────┴─────────┴─────────┴─────────┴─────────┴─────────┴─────────┴─────────┴─────────┴─────────┴─────────┴─────────┴─────────┴─────────┴─────────┴─────────┴─────────┴─────────┴─────────┴───────────┴───────────┴───────────┴───────────┴───────────┴───────────┴───────────┴───────────┴───────────┴───────────┴───────────┴───────────┴───────────┴───────────┴───────────┴───────────┴───────────┴───────────┴───────────┴───────────┴───────────┴───────────┴───────────┴─────────┘\n",
       "</pre>\n"
      ],
      "text/plain": [
       "┏━━━━━━━━━━━━━━━━━━━━━━━━━━━━━┳━━━━━━━━━━━━━━┳━━━━━━━━━━━━━━━━━━━━━━━━━━━━━━━━━━━━━━━━━━━━━━━━━━━━━━━━━━━━━━━━━━━━━━━━━━━━━━━━━━┳━━━━━━━━━━━━━━━━━━━┳━━━━━━━━━┳━━━━━━━━━┳━━━━━━━━━┳━━━━━━━━━┳━━━━━━━━━┳━━━━━━━━━┳━━━━━━━━━┳━━━━━━━━━┳━━━━━━━━━┳━━━━━━━━━┳━━━━━━━━━┳━━━━━━━━━┳━━━━━━━━━┳━━━━━━━━━┳━━━━━━━━━┳━━━━━━━━━┳━━━━━━━━━┳━━━━━━━━━┳━━━━━━━━━┳━━━━━━━━━┳━━━━━━━━━┳━━━━━━━━━┳━━━━━━━━━┳━━━━━━━━━┳━━━━━━━━━┳━━━━━━━━━┳━━━━━━━━━┳━━━━━━━━━┳━━━━━━━━━┳━━━━━━━━━┳━━━━━━━━━┳━━━━━━━━━┳━━━━━━━━━┳━━━━━━━━━┳━━━━━━━━━┳━━━━━━━━━┳━━━━━━━━━┳━━━━━━━━━┳━━━━━━━━━┳━━━━━━━━━┳━━━━━━━━━━━┳━━━━━━━━━━━┳━━━━━━━━━━━┳━━━━━━━━━━━┳━━━━━━━━━━━┳━━━━━━━━━━━┳━━━━━━━━━━━┳━━━━━━━━━━━┳━━━━━━━━━━━┳━━━━━━━━━━━┳━━━━━━━━━━━┳━━━━━━━━━━━┳━━━━━━━━━━━┳━━━━━━━━━━━┳━━━━━━━━━━━┳━━━━━━━━━━━┳━━━━━━━━━━━┳━━━━━━━━━━━┳━━━━━━━━━━━┳━━━━━━━━━━━┳━━━━━━━━━━━┳━━━━━━━━━━━┳━━━━━━━━━━━┳━━━━━━━━━┓\n",
       "┃\u001b[1m \u001b[0m\u001b[1mCountry Name\u001b[0m\u001b[1m               \u001b[0m\u001b[1m \u001b[0m┃\u001b[1m \u001b[0m\u001b[1mCountry Code\u001b[0m\u001b[1m \u001b[0m┃\u001b[1m \u001b[0m\u001b[1mIndicator Name\u001b[0m\u001b[1m                                                                  \u001b[0m\u001b[1m \u001b[0m┃\u001b[1m \u001b[0m\u001b[1mIndicator Code\u001b[0m\u001b[1m   \u001b[0m\u001b[1m \u001b[0m┃\u001b[1m \u001b[0m\u001b[1m1960\u001b[0m\u001b[1m   \u001b[0m\u001b[1m \u001b[0m┃\u001b[1m \u001b[0m\u001b[1m1961\u001b[0m\u001b[1m   \u001b[0m\u001b[1m \u001b[0m┃\u001b[1m \u001b[0m\u001b[1m1962\u001b[0m\u001b[1m   \u001b[0m\u001b[1m \u001b[0m┃\u001b[1m \u001b[0m\u001b[1m1963\u001b[0m\u001b[1m   \u001b[0m\u001b[1m \u001b[0m┃\u001b[1m \u001b[0m\u001b[1m1964\u001b[0m\u001b[1m   \u001b[0m\u001b[1m \u001b[0m┃\u001b[1m \u001b[0m\u001b[1m1965\u001b[0m\u001b[1m   \u001b[0m\u001b[1m \u001b[0m┃\u001b[1m \u001b[0m\u001b[1m1966\u001b[0m\u001b[1m   \u001b[0m\u001b[1m \u001b[0m┃\u001b[1m \u001b[0m\u001b[1m1967\u001b[0m\u001b[1m   \u001b[0m\u001b[1m \u001b[0m┃\u001b[1m \u001b[0m\u001b[1m1968\u001b[0m\u001b[1m   \u001b[0m\u001b[1m \u001b[0m┃\u001b[1m \u001b[0m\u001b[1m1969\u001b[0m\u001b[1m   \u001b[0m\u001b[1m \u001b[0m┃\u001b[1m \u001b[0m\u001b[1m1970\u001b[0m\u001b[1m   \u001b[0m\u001b[1m \u001b[0m┃\u001b[1m \u001b[0m\u001b[1m1971\u001b[0m\u001b[1m   \u001b[0m\u001b[1m \u001b[0m┃\u001b[1m \u001b[0m\u001b[1m1972\u001b[0m\u001b[1m   \u001b[0m\u001b[1m \u001b[0m┃\u001b[1m \u001b[0m\u001b[1m1973\u001b[0m\u001b[1m   \u001b[0m\u001b[1m \u001b[0m┃\u001b[1m \u001b[0m\u001b[1m1974\u001b[0m\u001b[1m   \u001b[0m\u001b[1m \u001b[0m┃\u001b[1m \u001b[0m\u001b[1m1975\u001b[0m\u001b[1m   \u001b[0m\u001b[1m \u001b[0m┃\u001b[1m \u001b[0m\u001b[1m1976\u001b[0m\u001b[1m   \u001b[0m\u001b[1m \u001b[0m┃\u001b[1m \u001b[0m\u001b[1m1977\u001b[0m\u001b[1m   \u001b[0m\u001b[1m \u001b[0m┃\u001b[1m \u001b[0m\u001b[1m1978\u001b[0m\u001b[1m   \u001b[0m\u001b[1m \u001b[0m┃\u001b[1m \u001b[0m\u001b[1m1979\u001b[0m\u001b[1m   \u001b[0m\u001b[1m \u001b[0m┃\u001b[1m \u001b[0m\u001b[1m1980\u001b[0m\u001b[1m   \u001b[0m\u001b[1m \u001b[0m┃\u001b[1m \u001b[0m\u001b[1m1981\u001b[0m\u001b[1m   \u001b[0m\u001b[1m \u001b[0m┃\u001b[1m \u001b[0m\u001b[1m1982\u001b[0m\u001b[1m   \u001b[0m\u001b[1m \u001b[0m┃\u001b[1m \u001b[0m\u001b[1m1983\u001b[0m\u001b[1m   \u001b[0m\u001b[1m \u001b[0m┃\u001b[1m \u001b[0m\u001b[1m1984\u001b[0m\u001b[1m   \u001b[0m\u001b[1m \u001b[0m┃\u001b[1m \u001b[0m\u001b[1m1985\u001b[0m\u001b[1m   \u001b[0m\u001b[1m \u001b[0m┃\u001b[1m \u001b[0m\u001b[1m1986\u001b[0m\u001b[1m   \u001b[0m\u001b[1m \u001b[0m┃\u001b[1m \u001b[0m\u001b[1m1987\u001b[0m\u001b[1m   \u001b[0m\u001b[1m \u001b[0m┃\u001b[1m \u001b[0m\u001b[1m1988\u001b[0m\u001b[1m   \u001b[0m\u001b[1m \u001b[0m┃\u001b[1m \u001b[0m\u001b[1m1989\u001b[0m\u001b[1m   \u001b[0m\u001b[1m \u001b[0m┃\u001b[1m \u001b[0m\u001b[1m1990\u001b[0m\u001b[1m   \u001b[0m\u001b[1m \u001b[0m┃\u001b[1m \u001b[0m\u001b[1m1991\u001b[0m\u001b[1m   \u001b[0m\u001b[1m \u001b[0m┃\u001b[1m \u001b[0m\u001b[1m1992\u001b[0m\u001b[1m   \u001b[0m\u001b[1m \u001b[0m┃\u001b[1m \u001b[0m\u001b[1m1993\u001b[0m\u001b[1m   \u001b[0m\u001b[1m \u001b[0m┃\u001b[1m \u001b[0m\u001b[1m1994\u001b[0m\u001b[1m   \u001b[0m\u001b[1m \u001b[0m┃\u001b[1m \u001b[0m\u001b[1m1995\u001b[0m\u001b[1m   \u001b[0m\u001b[1m \u001b[0m┃\u001b[1m \u001b[0m\u001b[1m1996\u001b[0m\u001b[1m   \u001b[0m\u001b[1m \u001b[0m┃\u001b[1m \u001b[0m\u001b[1m1997\u001b[0m\u001b[1m   \u001b[0m\u001b[1m \u001b[0m┃\u001b[1m \u001b[0m\u001b[1m1998\u001b[0m\u001b[1m   \u001b[0m\u001b[1m \u001b[0m┃\u001b[1m \u001b[0m\u001b[1m1999\u001b[0m\u001b[1m   \u001b[0m\u001b[1m \u001b[0m┃\u001b[1m \u001b[0m\u001b[1m2000\u001b[0m\u001b[1m     \u001b[0m\u001b[1m \u001b[0m┃\u001b[1m \u001b[0m\u001b[1m2001\u001b[0m\u001b[1m     \u001b[0m\u001b[1m \u001b[0m┃\u001b[1m \u001b[0m\u001b[1m2002\u001b[0m\u001b[1m     \u001b[0m\u001b[1m \u001b[0m┃\u001b[1m \u001b[0m\u001b[1m2003\u001b[0m\u001b[1m     \u001b[0m\u001b[1m \u001b[0m┃\u001b[1m \u001b[0m\u001b[1m2004\u001b[0m\u001b[1m     \u001b[0m\u001b[1m \u001b[0m┃\u001b[1m \u001b[0m\u001b[1m2005\u001b[0m\u001b[1m     \u001b[0m\u001b[1m \u001b[0m┃\u001b[1m \u001b[0m\u001b[1m2006\u001b[0m\u001b[1m     \u001b[0m\u001b[1m \u001b[0m┃\u001b[1m \u001b[0m\u001b[1m2007\u001b[0m\u001b[1m     \u001b[0m\u001b[1m \u001b[0m┃\u001b[1m \u001b[0m\u001b[1m2008\u001b[0m\u001b[1m     \u001b[0m\u001b[1m \u001b[0m┃\u001b[1m \u001b[0m\u001b[1m2009\u001b[0m\u001b[1m     \u001b[0m\u001b[1m \u001b[0m┃\u001b[1m \u001b[0m\u001b[1m2010\u001b[0m\u001b[1m     \u001b[0m\u001b[1m \u001b[0m┃\u001b[1m \u001b[0m\u001b[1m2011\u001b[0m\u001b[1m     \u001b[0m\u001b[1m \u001b[0m┃\u001b[1m \u001b[0m\u001b[1m2012\u001b[0m\u001b[1m     \u001b[0m\u001b[1m \u001b[0m┃\u001b[1m \u001b[0m\u001b[1m2013\u001b[0m\u001b[1m     \u001b[0m\u001b[1m \u001b[0m┃\u001b[1m \u001b[0m\u001b[1m2014\u001b[0m\u001b[1m     \u001b[0m\u001b[1m \u001b[0m┃\u001b[1m \u001b[0m\u001b[1m2015\u001b[0m\u001b[1m     \u001b[0m\u001b[1m \u001b[0m┃\u001b[1m \u001b[0m\u001b[1m2016\u001b[0m\u001b[1m     \u001b[0m\u001b[1m \u001b[0m┃\u001b[1m \u001b[0m\u001b[1m2017\u001b[0m\u001b[1m     \u001b[0m\u001b[1m \u001b[0m┃\u001b[1m \u001b[0m\u001b[1m2018\u001b[0m\u001b[1m     \u001b[0m\u001b[1m \u001b[0m┃\u001b[1m \u001b[0m\u001b[1m2019\u001b[0m\u001b[1m     \u001b[0m\u001b[1m \u001b[0m┃\u001b[1m \u001b[0m\u001b[1m2020\u001b[0m\u001b[1m     \u001b[0m\u001b[1m \u001b[0m┃\u001b[1m \u001b[0m\u001b[1m2021\u001b[0m\u001b[1m     \u001b[0m\u001b[1m \u001b[0m┃\u001b[1m \u001b[0m\u001b[1m2022\u001b[0m\u001b[1m     \u001b[0m\u001b[1m \u001b[0m┃\u001b[1m \u001b[0m\u001b[1m2023\u001b[0m\u001b[1m   \u001b[0m\u001b[1m \u001b[0m┃\n",
       "┡━━━━━━━━━━━━━━━━━━━━━━━━━━━━━╇━━━━━━━━━━━━━━╇━━━━━━━━━━━━━━━━━━━━━━━━━━━━━━━━━━━━━━━━━━━━━━━━━━━━━━━━━━━━━━━━━━━━━━━━━━━━━━━━━━╇━━━━━━━━━━━━━━━━━━━╇━━━━━━━━━╇━━━━━━━━━╇━━━━━━━━━╇━━━━━━━━━╇━━━━━━━━━╇━━━━━━━━━╇━━━━━━━━━╇━━━━━━━━━╇━━━━━━━━━╇━━━━━━━━━╇━━━━━━━━━╇━━━━━━━━━╇━━━━━━━━━╇━━━━━━━━━╇━━━━━━━━━╇━━━━━━━━━╇━━━━━━━━━╇━━━━━━━━━╇━━━━━━━━━╇━━━━━━━━━╇━━━━━━━━━╇━━━━━━━━━╇━━━━━━━━━╇━━━━━━━━━╇━━━━━━━━━╇━━━━━━━━━╇━━━━━━━━━╇━━━━━━━━━╇━━━━━━━━━╇━━━━━━━━━╇━━━━━━━━━╇━━━━━━━━━╇━━━━━━━━━╇━━━━━━━━━╇━━━━━━━━━╇━━━━━━━━━╇━━━━━━━━━╇━━━━━━━━━╇━━━━━━━━━╇━━━━━━━━━╇━━━━━━━━━━━╇━━━━━━━━━━━╇━━━━━━━━━━━╇━━━━━━━━━━━╇━━━━━━━━━━━╇━━━━━━━━━━━╇━━━━━━━━━━━╇━━━━━━━━━━━╇━━━━━━━━━━━╇━━━━━━━━━━━╇━━━━━━━━━━━╇━━━━━━━━━━━╇━━━━━━━━━━━╇━━━━━━━━━━━╇━━━━━━━━━━━╇━━━━━━━━━━━╇━━━━━━━━━━━╇━━━━━━━━━━━╇━━━━━━━━━━━╇━━━━━━━━━━━╇━━━━━━━━━━━╇━━━━━━━━━━━╇━━━━━━━━━━━╇━━━━━━━━━┩\n",
       "│ \u001b[2mstring\u001b[0m                      │ \u001b[2mstring\u001b[0m       │ \u001b[2mstring\u001b[0m                                                                           │ \u001b[2mstring\u001b[0m            │ \u001b[2mfloat64\u001b[0m │ \u001b[2mfloat64\u001b[0m │ \u001b[2mfloat64\u001b[0m │ \u001b[2mfloat64\u001b[0m │ \u001b[2mfloat64\u001b[0m │ \u001b[2mfloat64\u001b[0m │ \u001b[2mfloat64\u001b[0m │ \u001b[2mfloat64\u001b[0m │ \u001b[2mfloat64\u001b[0m │ \u001b[2mfloat64\u001b[0m │ \u001b[2mfloat64\u001b[0m │ \u001b[2mfloat64\u001b[0m │ \u001b[2mfloat64\u001b[0m │ \u001b[2mfloat64\u001b[0m │ \u001b[2mfloat64\u001b[0m │ \u001b[2mfloat64\u001b[0m │ \u001b[2mfloat64\u001b[0m │ \u001b[2mfloat64\u001b[0m │ \u001b[2mfloat64\u001b[0m │ \u001b[2mfloat64\u001b[0m │ \u001b[2mfloat64\u001b[0m │ \u001b[2mfloat64\u001b[0m │ \u001b[2mfloat64\u001b[0m │ \u001b[2mfloat64\u001b[0m │ \u001b[2mfloat64\u001b[0m │ \u001b[2mfloat64\u001b[0m │ \u001b[2mfloat64\u001b[0m │ \u001b[2mfloat64\u001b[0m │ \u001b[2mfloat64\u001b[0m │ \u001b[2mfloat64\u001b[0m │ \u001b[2mfloat64\u001b[0m │ \u001b[2mfloat64\u001b[0m │ \u001b[2mfloat64\u001b[0m │ \u001b[2mfloat64\u001b[0m │ \u001b[2mfloat64\u001b[0m │ \u001b[2mfloat64\u001b[0m │ \u001b[2mfloat64\u001b[0m │ \u001b[2mfloat64\u001b[0m │ \u001b[2mfloat64\u001b[0m │ \u001b[2mfloat64\u001b[0m │ \u001b[2mfloat64\u001b[0m   │ \u001b[2mfloat64\u001b[0m   │ \u001b[2mfloat64\u001b[0m   │ \u001b[2mfloat64\u001b[0m   │ \u001b[2mfloat64\u001b[0m   │ \u001b[2mfloat64\u001b[0m   │ \u001b[2mfloat64\u001b[0m   │ \u001b[2mfloat64\u001b[0m   │ \u001b[2mfloat64\u001b[0m   │ \u001b[2mfloat64\u001b[0m   │ \u001b[2mfloat64\u001b[0m   │ \u001b[2mfloat64\u001b[0m   │ \u001b[2mfloat64\u001b[0m   │ \u001b[2mfloat64\u001b[0m   │ \u001b[2mfloat64\u001b[0m   │ \u001b[2mfloat64\u001b[0m   │ \u001b[2mfloat64\u001b[0m   │ \u001b[2mfloat64\u001b[0m   │ \u001b[2mfloat64\u001b[0m   │ \u001b[2mfloat64\u001b[0m   │ \u001b[2mfloat64\u001b[0m   │ \u001b[2mfloat64\u001b[0m   │ \u001b[2mfloat64\u001b[0m   │ \u001b[2mfloat64\u001b[0m │\n",
       "├─────────────────────────────┼──────────────┼──────────────────────────────────────────────────────────────────────────────────┼───────────────────┼─────────┼─────────┼─────────┼─────────┼─────────┼─────────┼─────────┼─────────┼─────────┼─────────┼─────────┼─────────┼─────────┼─────────┼─────────┼─────────┼─────────┼─────────┼─────────┼─────────┼─────────┼─────────┼─────────┼─────────┼─────────┼─────────┼─────────┼─────────┼─────────┼─────────┼─────────┼─────────┼─────────┼─────────┼─────────┼─────────┼─────────┼─────────┼─────────┼─────────┼───────────┼───────────┼───────────┼───────────┼───────────┼───────────┼───────────┼───────────┼───────────┼───────────┼───────────┼───────────┼───────────┼───────────┼───────────┼───────────┼───────────┼───────────┼───────────┼───────────┼───────────┼───────────┼───────────┼─────────┤\n",
       "│ \u001b[32mAfrica Eastern and Southern\u001b[0m │ \u001b[32mAFE         \u001b[0m │ \u001b[32mAccess to clean fuels and technologies for cooking (% of population)            \u001b[0m │ \u001b[32mEG.CFT.ACCS.ZS   \u001b[0m │    \u001b[2mNULL\u001b[0m │    \u001b[2mNULL\u001b[0m │    \u001b[2mNULL\u001b[0m │    \u001b[2mNULL\u001b[0m │    \u001b[2mNULL\u001b[0m │    \u001b[2mNULL\u001b[0m │    \u001b[2mNULL\u001b[0m │    \u001b[2mNULL\u001b[0m │    \u001b[2mNULL\u001b[0m │    \u001b[2mNULL\u001b[0m │    \u001b[2mNULL\u001b[0m │    \u001b[2mNULL\u001b[0m │    \u001b[2mNULL\u001b[0m │    \u001b[2mNULL\u001b[0m │    \u001b[2mNULL\u001b[0m │    \u001b[2mNULL\u001b[0m │    \u001b[2mNULL\u001b[0m │    \u001b[2mNULL\u001b[0m │    \u001b[2mNULL\u001b[0m │    \u001b[2mNULL\u001b[0m │    \u001b[2mNULL\u001b[0m │    \u001b[2mNULL\u001b[0m │    \u001b[2mNULL\u001b[0m │    \u001b[2mNULL\u001b[0m │    \u001b[2mNULL\u001b[0m │    \u001b[2mNULL\u001b[0m │    \u001b[2mNULL\u001b[0m │    \u001b[2mNULL\u001b[0m │    \u001b[2mNULL\u001b[0m │    \u001b[2mNULL\u001b[0m │    \u001b[2mNULL\u001b[0m │    \u001b[2mNULL\u001b[0m │    \u001b[2mNULL\u001b[0m │    \u001b[2mNULL\u001b[0m │    \u001b[2mNULL\u001b[0m │    \u001b[2mNULL\u001b[0m │    \u001b[2mNULL\u001b[0m │    \u001b[2mNULL\u001b[0m │    \u001b[2mNULL\u001b[0m │    \u001b[2mNULL\u001b[0m │ \u001b[1;36m11.525904\u001b[0m │ \u001b[1;36m11.850593\u001b[0m │ \u001b[1;36m12.175592\u001b[0m │ \u001b[1;36m12.551723\u001b[0m │ \u001b[1;36m12.924851\u001b[0m │ \u001b[1;36m13.347701\u001b[0m │ \u001b[1;36m13.804893\u001b[0m │ \u001b[1;36m14.226285\u001b[0m │ \u001b[1;36m14.644801\u001b[0m │ \u001b[1;36m15.136871\u001b[0m │ \u001b[1;36m15.592328\u001b[0m │ \u001b[1;36m16.005356\u001b[0m │ \u001b[1;36m16.466945\u001b[0m │ \u001b[1;36m16.877313\u001b[0m │ \u001b[1;36m17.401410\u001b[0m │ \u001b[1;36m17.911234\u001b[0m │ \u001b[1;36m18.463874\u001b[0m │ \u001b[1;36m18.924037\u001b[0m │ \u001b[1;36m19.437054\u001b[0m │ \u001b[1;36m20.026254\u001b[0m │ \u001b[1;36m20.647969\u001b[0m │ \u001b[1;36m21.165877\u001b[0m │ \u001b[1;36m21.863139\u001b[0m │    \u001b[2mNULL\u001b[0m │\n",
       "│ \u001b[32mAfrica Eastern and Southern\u001b[0m │ \u001b[32mAFE         \u001b[0m │ \u001b[32mAccess to clean fuels and technologies for cooking, rural (% of rural populatio…\u001b[0m │ \u001b[32mEG.CFT.ACCS.RU.ZS\u001b[0m │    \u001b[2mNULL\u001b[0m │    \u001b[2mNULL\u001b[0m │    \u001b[2mNULL\u001b[0m │    \u001b[2mNULL\u001b[0m │    \u001b[2mNULL\u001b[0m │    \u001b[2mNULL\u001b[0m │    \u001b[2mNULL\u001b[0m │    \u001b[2mNULL\u001b[0m │    \u001b[2mNULL\u001b[0m │    \u001b[2mNULL\u001b[0m │    \u001b[2mNULL\u001b[0m │    \u001b[2mNULL\u001b[0m │    \u001b[2mNULL\u001b[0m │    \u001b[2mNULL\u001b[0m │    \u001b[2mNULL\u001b[0m │    \u001b[2mNULL\u001b[0m │    \u001b[2mNULL\u001b[0m │    \u001b[2mNULL\u001b[0m │    \u001b[2mNULL\u001b[0m │    \u001b[2mNULL\u001b[0m │    \u001b[2mNULL\u001b[0m │    \u001b[2mNULL\u001b[0m │    \u001b[2mNULL\u001b[0m │    \u001b[2mNULL\u001b[0m │    \u001b[2mNULL\u001b[0m │    \u001b[2mNULL\u001b[0m │    \u001b[2mNULL\u001b[0m │    \u001b[2mNULL\u001b[0m │    \u001b[2mNULL\u001b[0m │    \u001b[2mNULL\u001b[0m │    \u001b[2mNULL\u001b[0m │    \u001b[2mNULL\u001b[0m │    \u001b[2mNULL\u001b[0m │    \u001b[2mNULL\u001b[0m │    \u001b[2mNULL\u001b[0m │    \u001b[2mNULL\u001b[0m │    \u001b[2mNULL\u001b[0m │    \u001b[2mNULL\u001b[0m │    \u001b[2mNULL\u001b[0m │    \u001b[2mNULL\u001b[0m │  \u001b[1;36m3.469977\u001b[0m │  \u001b[1;36m3.642010\u001b[0m │  \u001b[1;36m3.849942\u001b[0m │  \u001b[1;36m4.054108\u001b[0m │  \u001b[1;36m4.285291\u001b[0m │  \u001b[1;36m4.490187\u001b[0m │  \u001b[1;36m4.734117\u001b[0m │  \u001b[1;36m4.996842\u001b[0m │  \u001b[1;36m5.239006\u001b[0m │  \u001b[1;36m5.457240\u001b[0m │  \u001b[1;36m5.686400\u001b[0m │  \u001b[1;36m5.959239\u001b[0m │  \u001b[1;36m6.202221\u001b[0m │  \u001b[1;36m6.453240\u001b[0m │  \u001b[1;36m6.728819\u001b[0m │  \u001b[1;36m7.005877\u001b[0m │  \u001b[1;36m7.308571\u001b[0m │  \u001b[1;36m7.547226\u001b[0m │  \u001b[1;36m7.875917\u001b[0m │  \u001b[1;36m8.243018\u001b[0m │  \u001b[1;36m8.545483\u001b[0m │  \u001b[1;36m8.906711\u001b[0m │  \u001b[1;36m9.261320\u001b[0m │    \u001b[2mNULL\u001b[0m │\n",
       "│ \u001b[32mAfrica Eastern and Southern\u001b[0m │ \u001b[32mAFE         \u001b[0m │ \u001b[32mAccess to clean fuels and technologies for cooking, urban (% of urban populatio…\u001b[0m │ \u001b[32mEG.CFT.ACCS.UR.ZS\u001b[0m │    \u001b[2mNULL\u001b[0m │    \u001b[2mNULL\u001b[0m │    \u001b[2mNULL\u001b[0m │    \u001b[2mNULL\u001b[0m │    \u001b[2mNULL\u001b[0m │    \u001b[2mNULL\u001b[0m │    \u001b[2mNULL\u001b[0m │    \u001b[2mNULL\u001b[0m │    \u001b[2mNULL\u001b[0m │    \u001b[2mNULL\u001b[0m │    \u001b[2mNULL\u001b[0m │    \u001b[2mNULL\u001b[0m │    \u001b[2mNULL\u001b[0m │    \u001b[2mNULL\u001b[0m │    \u001b[2mNULL\u001b[0m │    \u001b[2mNULL\u001b[0m │    \u001b[2mNULL\u001b[0m │    \u001b[2mNULL\u001b[0m │    \u001b[2mNULL\u001b[0m │    \u001b[2mNULL\u001b[0m │    \u001b[2mNULL\u001b[0m │    \u001b[2mNULL\u001b[0m │    \u001b[2mNULL\u001b[0m │    \u001b[2mNULL\u001b[0m │    \u001b[2mNULL\u001b[0m │    \u001b[2mNULL\u001b[0m │    \u001b[2mNULL\u001b[0m │    \u001b[2mNULL\u001b[0m │    \u001b[2mNULL\u001b[0m │    \u001b[2mNULL\u001b[0m │    \u001b[2mNULL\u001b[0m │    \u001b[2mNULL\u001b[0m │    \u001b[2mNULL\u001b[0m │    \u001b[2mNULL\u001b[0m │    \u001b[2mNULL\u001b[0m │    \u001b[2mNULL\u001b[0m │    \u001b[2mNULL\u001b[0m │    \u001b[2mNULL\u001b[0m │    \u001b[2mNULL\u001b[0m │    \u001b[2mNULL\u001b[0m │ \u001b[1;36m32.431714\u001b[0m │ \u001b[1;36m32.828683\u001b[0m │ \u001b[1;36m33.247739\u001b[0m │ \u001b[1;36m33.702059\u001b[0m │ \u001b[1;36m34.194895\u001b[0m │ \u001b[1;36m34.584696\u001b[0m │ \u001b[1;36m35.136730\u001b[0m │ \u001b[1;36m35.693131\u001b[0m │ \u001b[1;36m36.038789\u001b[0m │ \u001b[1;36m36.502796\u001b[0m │ \u001b[1;36m36.805328\u001b[0m │ \u001b[1;36m37.162243\u001b[0m │ \u001b[1;36m37.485980\u001b[0m │ \u001b[1;36m37.784029\u001b[0m │ \u001b[1;36m38.080931\u001b[0m │ \u001b[1;36m38.422282\u001b[0m │ \u001b[1;36m38.722108\u001b[0m │ \u001b[1;36m38.993157\u001b[0m │ \u001b[1;36m39.337872\u001b[0m │ \u001b[1;36m39.695279\u001b[0m │ \u001b[1;36m40.137847\u001b[0m │ \u001b[1;36m40.522209\u001b[0m │ \u001b[1;36m41.011132\u001b[0m │    \u001b[2mNULL\u001b[0m │\n",
       "└─────────────────────────────┴──────────────┴──────────────────────────────────────────────────────────────────────────────────┴───────────────────┴─────────┴─────────┴─────────┴─────────┴─────────┴─────────┴─────────┴─────────┴─────────┴─────────┴─────────┴─────────┴─────────┴─────────┴─────────┴─────────┴─────────┴─────────┴─────────┴─────────┴─────────┴─────────┴─────────┴─────────┴─────────┴─────────┴─────────┴─────────┴─────────┴─────────┴─────────┴─────────┴─────────┴─────────┴─────────┴─────────┴─────────┴─────────┴─────────┴─────────┴───────────┴───────────┴───────────┴───────────┴───────────┴───────────┴───────────┴───────────┴───────────┴───────────┴───────────┴───────────┴───────────┴───────────┴───────────┴───────────┴───────────┴───────────┴───────────┴───────────┴───────────┴───────────┴───────────┴─────────┘"
      ]
     },
     "execution_count": 16,
     "metadata": {},
     "output_type": "execute_result"
    }
   ],
   "source": [
    "wdi.head(3)"
   ]
  },
  {
   "cell_type": "markdown",
   "metadata": {},
   "source": [
    "#### Changing column names for easier manipulation"
   ]
  },
  {
   "cell_type": "code",
   "execution_count": 17,
   "metadata": {},
   "outputs": [],
   "source": [
    "# cool function from ibis, no need for the previous cells, althought the python dict comprehension method is cool as well.\n",
    "wdi = wdi.rename(\"snake_case\")\n",
    "dose = dose.rename(\"snake_case\")"
   ]
  },
  {
   "cell_type": "code",
   "execution_count": 18,
   "metadata": {
    "tags": [
     "rm_cell"
    ]
   },
   "outputs": [
    {
     "data": {
      "text/plain": [
       "['country_name', 'country_code', 'indicator_name', 'indicator_code', '1960']"
      ]
     },
     "execution_count": 18,
     "metadata": {},
     "output_type": "execute_result"
    }
   ],
   "source": [
    "# some columns\n",
    "wdi.columns[0:5]"
   ]
  },
  {
   "cell_type": "code",
   "execution_count": 19,
   "metadata": {
    "tags": [
     "rm_cell"
    ]
   },
   "outputs": [
    {
     "data": {
      "text/plain": [
       "['country', 'region', 'gid_0', 'gid_1', 'year']"
      ]
     },
     "execution_count": 19,
     "metadata": {},
     "output_type": "execute_result"
    }
   ],
   "source": [
    "# some columns\n",
    "dose.columns[0:5]"
   ]
  },
  {
   "cell_type": "code",
   "execution_count": 20,
   "metadata": {
    "tags": [
     "rm_cell"
    ]
   },
   "outputs": [
    {
     "data": {
      "text/html": [
       "<pre style=\"white-space:pre;overflow-x:auto;line-height:normal;font-family:Menlo,'DejaVu Sans Mono',consolas,'Courier New',monospace\">┏━━━━━━━━━━━━━━━┳━━━━━━━━━━━━━━┳━━━━━━━━━━━━━━━━━━━━━━━━━━━━━━━━━━━━━━━━━━━━━━━━━━━━━━━━━━━━━━━━━━━━━━━━━━━━━━━━━━┳━━━━━━━━━━━━━━━━━━━┳━━━━━━━━━┳━━━━━━━━━┳━━━━━━━━━┳━━━━━━━━━┳━━━━━━━━━┳━━━━━━━━━┳━━━━━━━━━┳━━━━━━━━━┳━━━━━━━━━┳━━━━━━━━━┳━━━━━━━━━┳━━━━━━━━━┳━━━━━━━━━┳━━━━━━━━━┳━━━━━━━━━┳━━━━━━━━━┳━━━━━━━━━┳━━━━━━━━━┳━━━━━━━━━┳━━━━━━━━━┳━━━━━━━━━┳━━━━━━━━━┳━━━━━━━━━┳━━━━━━━━━┳━━━━━━━━━┳━━━━━━━━━┳━━━━━━━━━┳━━━━━━━━━┳━━━━━━━━━┳━━━━━━━━━┳━━━━━━━━━┳━━━━━━━━━┳━━━━━━━━━┳━━━━━━━━━┳━━━━━━━━━┳━━━━━━━━━┳━━━━━━━━━┳━━━━━━━━━┳━━━━━━━━━┳━━━━━━━━━┳━━━━━━━━━┳━━━━━━━━━┳━━━━━━━━━┳━━━━━━━━━┳━━━━━━━━━┳━━━━━━━━━┳━━━━━━━━━┳━━━━━━━━━┳━━━━━━━━━┳━━━━━━━━━┳━━━━━━━━━┳━━━━━━━━━┳━━━━━━━━━┳━━━━━━━━━┳━━━━━━━━━┳━━━━━━━━━┳━━━━━━━━━┳━━━━━━━━━┳━━━━━━━━━┳━━━━━━━━━┳━━━━━━━━━┳━━━━━━━━━┳━━━━━━━━━┳━━━━━━━━━┓\n",
       "┃<span style=\"font-weight: bold\"> country_name  </span>┃<span style=\"font-weight: bold\"> country_code </span>┃<span style=\"font-weight: bold\"> indicator_name                                                                   </span>┃<span style=\"font-weight: bold\"> indicator_code    </span>┃<span style=\"font-weight: bold\"> 1960    </span>┃<span style=\"font-weight: bold\"> 1961    </span>┃<span style=\"font-weight: bold\"> 1962    </span>┃<span style=\"font-weight: bold\"> 1963    </span>┃<span style=\"font-weight: bold\"> 1964    </span>┃<span style=\"font-weight: bold\"> 1965    </span>┃<span style=\"font-weight: bold\"> 1966    </span>┃<span style=\"font-weight: bold\"> 1967    </span>┃<span style=\"font-weight: bold\"> 1968    </span>┃<span style=\"font-weight: bold\"> 1969    </span>┃<span style=\"font-weight: bold\"> 1970    </span>┃<span style=\"font-weight: bold\"> 1971    </span>┃<span style=\"font-weight: bold\"> 1972    </span>┃<span style=\"font-weight: bold\"> 1973    </span>┃<span style=\"font-weight: bold\"> 1974    </span>┃<span style=\"font-weight: bold\"> 1975    </span>┃<span style=\"font-weight: bold\"> 1976    </span>┃<span style=\"font-weight: bold\"> 1977    </span>┃<span style=\"font-weight: bold\"> 1978    </span>┃<span style=\"font-weight: bold\"> 1979    </span>┃<span style=\"font-weight: bold\"> 1980    </span>┃<span style=\"font-weight: bold\"> 1981    </span>┃<span style=\"font-weight: bold\"> 1982    </span>┃<span style=\"font-weight: bold\"> 1983    </span>┃<span style=\"font-weight: bold\"> 1984    </span>┃<span style=\"font-weight: bold\"> 1985    </span>┃<span style=\"font-weight: bold\"> 1986    </span>┃<span style=\"font-weight: bold\"> 1987    </span>┃<span style=\"font-weight: bold\"> 1988    </span>┃<span style=\"font-weight: bold\"> 1989    </span>┃<span style=\"font-weight: bold\"> 1990    </span>┃<span style=\"font-weight: bold\"> 1991    </span>┃<span style=\"font-weight: bold\"> 1992    </span>┃<span style=\"font-weight: bold\"> 1993    </span>┃<span style=\"font-weight: bold\"> 1994    </span>┃<span style=\"font-weight: bold\"> 1995    </span>┃<span style=\"font-weight: bold\"> 1996    </span>┃<span style=\"font-weight: bold\"> 1997    </span>┃<span style=\"font-weight: bold\"> 1998    </span>┃<span style=\"font-weight: bold\"> 1999    </span>┃<span style=\"font-weight: bold\"> 2000    </span>┃<span style=\"font-weight: bold\"> 2001    </span>┃<span style=\"font-weight: bold\"> 2002    </span>┃<span style=\"font-weight: bold\"> 2003    </span>┃<span style=\"font-weight: bold\"> 2004    </span>┃<span style=\"font-weight: bold\"> 2005    </span>┃<span style=\"font-weight: bold\"> 2006    </span>┃<span style=\"font-weight: bold\"> 2007    </span>┃<span style=\"font-weight: bold\"> 2008    </span>┃<span style=\"font-weight: bold\"> 2009    </span>┃<span style=\"font-weight: bold\"> 2010    </span>┃<span style=\"font-weight: bold\"> 2011    </span>┃<span style=\"font-weight: bold\"> 2012    </span>┃<span style=\"font-weight: bold\"> 2013    </span>┃<span style=\"font-weight: bold\"> 2014    </span>┃<span style=\"font-weight: bold\"> 2015    </span>┃<span style=\"font-weight: bold\"> 2016    </span>┃<span style=\"font-weight: bold\"> 2017    </span>┃<span style=\"font-weight: bold\"> 2018    </span>┃<span style=\"font-weight: bold\"> 2019    </span>┃<span style=\"font-weight: bold\"> 2020    </span>┃<span style=\"font-weight: bold\"> 2021    </span>┃<span style=\"font-weight: bold\"> 2022    </span>┃<span style=\"font-weight: bold\"> 2023    </span>┃\n",
       "┡━━━━━━━━━━━━━━━╇━━━━━━━━━━━━━━╇━━━━━━━━━━━━━━━━━━━━━━━━━━━━━━━━━━━━━━━━━━━━━━━━━━━━━━━━━━━━━━━━━━━━━━━━━━━━━━━━━━╇━━━━━━━━━━━━━━━━━━━╇━━━━━━━━━╇━━━━━━━━━╇━━━━━━━━━╇━━━━━━━━━╇━━━━━━━━━╇━━━━━━━━━╇━━━━━━━━━╇━━━━━━━━━╇━━━━━━━━━╇━━━━━━━━━╇━━━━━━━━━╇━━━━━━━━━╇━━━━━━━━━╇━━━━━━━━━╇━━━━━━━━━╇━━━━━━━━━╇━━━━━━━━━╇━━━━━━━━━╇━━━━━━━━━╇━━━━━━━━━╇━━━━━━━━━╇━━━━━━━━━╇━━━━━━━━━╇━━━━━━━━━╇━━━━━━━━━╇━━━━━━━━━╇━━━━━━━━━╇━━━━━━━━━╇━━━━━━━━━╇━━━━━━━━━╇━━━━━━━━━╇━━━━━━━━━╇━━━━━━━━━╇━━━━━━━━━╇━━━━━━━━━╇━━━━━━━━━╇━━━━━━━━━╇━━━━━━━━━╇━━━━━━━━━╇━━━━━━━━━╇━━━━━━━━━╇━━━━━━━━━╇━━━━━━━━━╇━━━━━━━━━╇━━━━━━━━━╇━━━━━━━━━╇━━━━━━━━━╇━━━━━━━━━╇━━━━━━━━━╇━━━━━━━━━╇━━━━━━━━━╇━━━━━━━━━╇━━━━━━━━━╇━━━━━━━━━╇━━━━━━━━━╇━━━━━━━━━╇━━━━━━━━━╇━━━━━━━━━╇━━━━━━━━━╇━━━━━━━━━╇━━━━━━━━━╇━━━━━━━━━╇━━━━━━━━━╇━━━━━━━━━┩\n",
       "│ <span style=\"color: #7f7f7f; text-decoration-color: #7f7f7f\">string</span>        │ <span style=\"color: #7f7f7f; text-decoration-color: #7f7f7f\">string</span>       │ <span style=\"color: #7f7f7f; text-decoration-color: #7f7f7f\">string</span>                                                                           │ <span style=\"color: #7f7f7f; text-decoration-color: #7f7f7f\">string</span>            │ <span style=\"color: #7f7f7f; text-decoration-color: #7f7f7f\">float64</span> │ <span style=\"color: #7f7f7f; text-decoration-color: #7f7f7f\">float64</span> │ <span style=\"color: #7f7f7f; text-decoration-color: #7f7f7f\">float64</span> │ <span style=\"color: #7f7f7f; text-decoration-color: #7f7f7f\">float64</span> │ <span style=\"color: #7f7f7f; text-decoration-color: #7f7f7f\">float64</span> │ <span style=\"color: #7f7f7f; text-decoration-color: #7f7f7f\">float64</span> │ <span style=\"color: #7f7f7f; text-decoration-color: #7f7f7f\">float64</span> │ <span style=\"color: #7f7f7f; text-decoration-color: #7f7f7f\">float64</span> │ <span style=\"color: #7f7f7f; text-decoration-color: #7f7f7f\">float64</span> │ <span style=\"color: #7f7f7f; text-decoration-color: #7f7f7f\">float64</span> │ <span style=\"color: #7f7f7f; text-decoration-color: #7f7f7f\">float64</span> │ <span style=\"color: #7f7f7f; text-decoration-color: #7f7f7f\">float64</span> │ <span style=\"color: #7f7f7f; text-decoration-color: #7f7f7f\">float64</span> │ <span style=\"color: #7f7f7f; text-decoration-color: #7f7f7f\">float64</span> │ <span style=\"color: #7f7f7f; text-decoration-color: #7f7f7f\">float64</span> │ <span style=\"color: #7f7f7f; text-decoration-color: #7f7f7f\">float64</span> │ <span style=\"color: #7f7f7f; text-decoration-color: #7f7f7f\">float64</span> │ <span style=\"color: #7f7f7f; text-decoration-color: #7f7f7f\">float64</span> │ <span style=\"color: #7f7f7f; text-decoration-color: #7f7f7f\">float64</span> │ <span style=\"color: #7f7f7f; text-decoration-color: #7f7f7f\">float64</span> │ <span style=\"color: #7f7f7f; text-decoration-color: #7f7f7f\">float64</span> │ <span style=\"color: #7f7f7f; text-decoration-color: #7f7f7f\">float64</span> │ <span style=\"color: #7f7f7f; text-decoration-color: #7f7f7f\">float64</span> │ <span style=\"color: #7f7f7f; text-decoration-color: #7f7f7f\">float64</span> │ <span style=\"color: #7f7f7f; text-decoration-color: #7f7f7f\">float64</span> │ <span style=\"color: #7f7f7f; text-decoration-color: #7f7f7f\">float64</span> │ <span style=\"color: #7f7f7f; text-decoration-color: #7f7f7f\">float64</span> │ <span style=\"color: #7f7f7f; text-decoration-color: #7f7f7f\">float64</span> │ <span style=\"color: #7f7f7f; text-decoration-color: #7f7f7f\">float64</span> │ <span style=\"color: #7f7f7f; text-decoration-color: #7f7f7f\">float64</span> │ <span style=\"color: #7f7f7f; text-decoration-color: #7f7f7f\">float64</span> │ <span style=\"color: #7f7f7f; text-decoration-color: #7f7f7f\">float64</span> │ <span style=\"color: #7f7f7f; text-decoration-color: #7f7f7f\">float64</span> │ <span style=\"color: #7f7f7f; text-decoration-color: #7f7f7f\">float64</span> │ <span style=\"color: #7f7f7f; text-decoration-color: #7f7f7f\">float64</span> │ <span style=\"color: #7f7f7f; text-decoration-color: #7f7f7f\">float64</span> │ <span style=\"color: #7f7f7f; text-decoration-color: #7f7f7f\">float64</span> │ <span style=\"color: #7f7f7f; text-decoration-color: #7f7f7f\">float64</span> │ <span style=\"color: #7f7f7f; text-decoration-color: #7f7f7f\">float64</span> │ <span style=\"color: #7f7f7f; text-decoration-color: #7f7f7f\">float64</span> │ <span style=\"color: #7f7f7f; text-decoration-color: #7f7f7f\">float64</span> │ <span style=\"color: #7f7f7f; text-decoration-color: #7f7f7f\">float64</span> │ <span style=\"color: #7f7f7f; text-decoration-color: #7f7f7f\">float64</span> │ <span style=\"color: #7f7f7f; text-decoration-color: #7f7f7f\">float64</span> │ <span style=\"color: #7f7f7f; text-decoration-color: #7f7f7f\">float64</span> │ <span style=\"color: #7f7f7f; text-decoration-color: #7f7f7f\">float64</span> │ <span style=\"color: #7f7f7f; text-decoration-color: #7f7f7f\">float64</span> │ <span style=\"color: #7f7f7f; text-decoration-color: #7f7f7f\">float64</span> │ <span style=\"color: #7f7f7f; text-decoration-color: #7f7f7f\">float64</span> │ <span style=\"color: #7f7f7f; text-decoration-color: #7f7f7f\">float64</span> │ <span style=\"color: #7f7f7f; text-decoration-color: #7f7f7f\">float64</span> │ <span style=\"color: #7f7f7f; text-decoration-color: #7f7f7f\">float64</span> │ <span style=\"color: #7f7f7f; text-decoration-color: #7f7f7f\">float64</span> │ <span style=\"color: #7f7f7f; text-decoration-color: #7f7f7f\">float64</span> │ <span style=\"color: #7f7f7f; text-decoration-color: #7f7f7f\">float64</span> │ <span style=\"color: #7f7f7f; text-decoration-color: #7f7f7f\">float64</span> │ <span style=\"color: #7f7f7f; text-decoration-color: #7f7f7f\">float64</span> │ <span style=\"color: #7f7f7f; text-decoration-color: #7f7f7f\">float64</span> │ <span style=\"color: #7f7f7f; text-decoration-color: #7f7f7f\">float64</span> │ <span style=\"color: #7f7f7f; text-decoration-color: #7f7f7f\">float64</span> │ <span style=\"color: #7f7f7f; text-decoration-color: #7f7f7f\">float64</span> │ <span style=\"color: #7f7f7f; text-decoration-color: #7f7f7f\">float64</span> │ <span style=\"color: #7f7f7f; text-decoration-color: #7f7f7f\">float64</span> │ <span style=\"color: #7f7f7f; text-decoration-color: #7f7f7f\">float64</span> │\n",
       "├───────────────┼──────────────┼──────────────────────────────────────────────────────────────────────────────────┼───────────────────┼─────────┼─────────┼─────────┼─────────┼─────────┼─────────┼─────────┼─────────┼─────────┼─────────┼─────────┼─────────┼─────────┼─────────┼─────────┼─────────┼─────────┼─────────┼─────────┼─────────┼─────────┼─────────┼─────────┼─────────┼─────────┼─────────┼─────────┼─────────┼─────────┼─────────┼─────────┼─────────┼─────────┼─────────┼─────────┼─────────┼─────────┼─────────┼─────────┼─────────┼─────────┼─────────┼─────────┼─────────┼─────────┼─────────┼─────────┼─────────┼─────────┼─────────┼─────────┼─────────┼─────────┼─────────┼─────────┼─────────┼─────────┼─────────┼─────────┼─────────┼─────────┼─────────┼─────────┼─────────┤\n",
       "│ <span style=\"color: #008000; text-decoration-color: #008000\">Venezuela, RB</span> │ <span style=\"color: #008000; text-decoration-color: #008000\">VEN         </span> │ <span style=\"color: #008000; text-decoration-color: #008000\">Access to clean fuels and technologies for cooking (% of population)            </span> │ <span style=\"color: #008000; text-decoration-color: #008000\">EG.CFT.ACCS.ZS   </span> │    <span style=\"color: #7f7f7f; text-decoration-color: #7f7f7f\">NULL</span> │    <span style=\"color: #7f7f7f; text-decoration-color: #7f7f7f\">NULL</span> │    <span style=\"color: #7f7f7f; text-decoration-color: #7f7f7f\">NULL</span> │    <span style=\"color: #7f7f7f; text-decoration-color: #7f7f7f\">NULL</span> │    <span style=\"color: #7f7f7f; text-decoration-color: #7f7f7f\">NULL</span> │    <span style=\"color: #7f7f7f; text-decoration-color: #7f7f7f\">NULL</span> │    <span style=\"color: #7f7f7f; text-decoration-color: #7f7f7f\">NULL</span> │    <span style=\"color: #7f7f7f; text-decoration-color: #7f7f7f\">NULL</span> │    <span style=\"color: #7f7f7f; text-decoration-color: #7f7f7f\">NULL</span> │    <span style=\"color: #7f7f7f; text-decoration-color: #7f7f7f\">NULL</span> │    <span style=\"color: #7f7f7f; text-decoration-color: #7f7f7f\">NULL</span> │    <span style=\"color: #7f7f7f; text-decoration-color: #7f7f7f\">NULL</span> │    <span style=\"color: #7f7f7f; text-decoration-color: #7f7f7f\">NULL</span> │    <span style=\"color: #7f7f7f; text-decoration-color: #7f7f7f\">NULL</span> │    <span style=\"color: #7f7f7f; text-decoration-color: #7f7f7f\">NULL</span> │    <span style=\"color: #7f7f7f; text-decoration-color: #7f7f7f\">NULL</span> │    <span style=\"color: #7f7f7f; text-decoration-color: #7f7f7f\">NULL</span> │    <span style=\"color: #7f7f7f; text-decoration-color: #7f7f7f\">NULL</span> │    <span style=\"color: #7f7f7f; text-decoration-color: #7f7f7f\">NULL</span> │    <span style=\"color: #7f7f7f; text-decoration-color: #7f7f7f\">NULL</span> │    <span style=\"color: #7f7f7f; text-decoration-color: #7f7f7f\">NULL</span> │    <span style=\"color: #7f7f7f; text-decoration-color: #7f7f7f\">NULL</span> │    <span style=\"color: #7f7f7f; text-decoration-color: #7f7f7f\">NULL</span> │    <span style=\"color: #7f7f7f; text-decoration-color: #7f7f7f\">NULL</span> │    <span style=\"color: #7f7f7f; text-decoration-color: #7f7f7f\">NULL</span> │    <span style=\"color: #7f7f7f; text-decoration-color: #7f7f7f\">NULL</span> │    <span style=\"color: #7f7f7f; text-decoration-color: #7f7f7f\">NULL</span> │    <span style=\"color: #7f7f7f; text-decoration-color: #7f7f7f\">NULL</span> │    <span style=\"color: #7f7f7f; text-decoration-color: #7f7f7f\">NULL</span> │    <span style=\"color: #7f7f7f; text-decoration-color: #7f7f7f\">NULL</span> │    <span style=\"color: #7f7f7f; text-decoration-color: #7f7f7f\">NULL</span> │    <span style=\"color: #7f7f7f; text-decoration-color: #7f7f7f\">NULL</span> │    <span style=\"color: #7f7f7f; text-decoration-color: #7f7f7f\">NULL</span> │    <span style=\"color: #7f7f7f; text-decoration-color: #7f7f7f\">NULL</span> │    <span style=\"color: #7f7f7f; text-decoration-color: #7f7f7f\">NULL</span> │    <span style=\"color: #7f7f7f; text-decoration-color: #7f7f7f\">NULL</span> │    <span style=\"color: #7f7f7f; text-decoration-color: #7f7f7f\">NULL</span> │    <span style=\"color: #7f7f7f; text-decoration-color: #7f7f7f\">NULL</span> │    <span style=\"color: #7f7f7f; text-decoration-color: #7f7f7f\">NULL</span> │    <span style=\"color: #7f7f7f; text-decoration-color: #7f7f7f\">NULL</span> │    <span style=\"color: #008080; text-decoration-color: #008080; font-weight: bold\">97.2</span> │    <span style=\"color: #008080; text-decoration-color: #008080; font-weight: bold\">97.2</span> │    <span style=\"color: #008080; text-decoration-color: #008080; font-weight: bold\">97.0</span> │    <span style=\"color: #008080; text-decoration-color: #008080; font-weight: bold\">96.9</span> │    <span style=\"color: #008080; text-decoration-color: #008080; font-weight: bold\">96.9</span> │    <span style=\"color: #008080; text-decoration-color: #008080; font-weight: bold\">96.9</span> │    <span style=\"color: #008080; text-decoration-color: #008080; font-weight: bold\">96.8</span> │    <span style=\"color: #008080; text-decoration-color: #008080; font-weight: bold\">96.8</span> │    <span style=\"color: #008080; text-decoration-color: #008080; font-weight: bold\">96.7</span> │    <span style=\"color: #008080; text-decoration-color: #008080; font-weight: bold\">96.8</span> │    <span style=\"color: #008080; text-decoration-color: #008080; font-weight: bold\">96.7</span> │    <span style=\"color: #008080; text-decoration-color: #008080; font-weight: bold\">96.6</span> │    <span style=\"color: #008080; text-decoration-color: #008080; font-weight: bold\">96.8</span> │    <span style=\"color: #008080; text-decoration-color: #008080; font-weight: bold\">96.6</span> │    <span style=\"color: #008080; text-decoration-color: #008080; font-weight: bold\">96.6</span> │   <span style=\"color: #008080; text-decoration-color: #008080; font-weight: bold\">96.40</span> │    <span style=\"color: #008080; text-decoration-color: #008080; font-weight: bold\">96.2</span> │    <span style=\"color: #008080; text-decoration-color: #008080; font-weight: bold\">96.1</span> │    <span style=\"color: #008080; text-decoration-color: #008080; font-weight: bold\">95.9</span> │    <span style=\"color: #008080; text-decoration-color: #008080; font-weight: bold\">95.8</span> │    <span style=\"color: #008080; text-decoration-color: #008080; font-weight: bold\">95.5</span> │    <span style=\"color: #008080; text-decoration-color: #008080; font-weight: bold\">95.1</span> │    <span style=\"color: #008080; text-decoration-color: #008080; font-weight: bold\">95.0</span> │    <span style=\"color: #7f7f7f; text-decoration-color: #7f7f7f\">NULL</span> │\n",
       "│ <span style=\"color: #008000; text-decoration-color: #008000\">Venezuela, RB</span> │ <span style=\"color: #008000; text-decoration-color: #008000\">VEN         </span> │ <span style=\"color: #008000; text-decoration-color: #008000\">Access to clean fuels and technologies for cooking, rural (% of rural populatio…</span> │ <span style=\"color: #008000; text-decoration-color: #008000\">EG.CFT.ACCS.RU.ZS</span> │    <span style=\"color: #7f7f7f; text-decoration-color: #7f7f7f\">NULL</span> │    <span style=\"color: #7f7f7f; text-decoration-color: #7f7f7f\">NULL</span> │    <span style=\"color: #7f7f7f; text-decoration-color: #7f7f7f\">NULL</span> │    <span style=\"color: #7f7f7f; text-decoration-color: #7f7f7f\">NULL</span> │    <span style=\"color: #7f7f7f; text-decoration-color: #7f7f7f\">NULL</span> │    <span style=\"color: #7f7f7f; text-decoration-color: #7f7f7f\">NULL</span> │    <span style=\"color: #7f7f7f; text-decoration-color: #7f7f7f\">NULL</span> │    <span style=\"color: #7f7f7f; text-decoration-color: #7f7f7f\">NULL</span> │    <span style=\"color: #7f7f7f; text-decoration-color: #7f7f7f\">NULL</span> │    <span style=\"color: #7f7f7f; text-decoration-color: #7f7f7f\">NULL</span> │    <span style=\"color: #7f7f7f; text-decoration-color: #7f7f7f\">NULL</span> │    <span style=\"color: #7f7f7f; text-decoration-color: #7f7f7f\">NULL</span> │    <span style=\"color: #7f7f7f; text-decoration-color: #7f7f7f\">NULL</span> │    <span style=\"color: #7f7f7f; text-decoration-color: #7f7f7f\">NULL</span> │    <span style=\"color: #7f7f7f; text-decoration-color: #7f7f7f\">NULL</span> │    <span style=\"color: #7f7f7f; text-decoration-color: #7f7f7f\">NULL</span> │    <span style=\"color: #7f7f7f; text-decoration-color: #7f7f7f\">NULL</span> │    <span style=\"color: #7f7f7f; text-decoration-color: #7f7f7f\">NULL</span> │    <span style=\"color: #7f7f7f; text-decoration-color: #7f7f7f\">NULL</span> │    <span style=\"color: #7f7f7f; text-decoration-color: #7f7f7f\">NULL</span> │    <span style=\"color: #7f7f7f; text-decoration-color: #7f7f7f\">NULL</span> │    <span style=\"color: #7f7f7f; text-decoration-color: #7f7f7f\">NULL</span> │    <span style=\"color: #7f7f7f; text-decoration-color: #7f7f7f\">NULL</span> │    <span style=\"color: #7f7f7f; text-decoration-color: #7f7f7f\">NULL</span> │    <span style=\"color: #7f7f7f; text-decoration-color: #7f7f7f\">NULL</span> │    <span style=\"color: #7f7f7f; text-decoration-color: #7f7f7f\">NULL</span> │    <span style=\"color: #7f7f7f; text-decoration-color: #7f7f7f\">NULL</span> │    <span style=\"color: #7f7f7f; text-decoration-color: #7f7f7f\">NULL</span> │    <span style=\"color: #7f7f7f; text-decoration-color: #7f7f7f\">NULL</span> │    <span style=\"color: #7f7f7f; text-decoration-color: #7f7f7f\">NULL</span> │    <span style=\"color: #7f7f7f; text-decoration-color: #7f7f7f\">NULL</span> │    <span style=\"color: #7f7f7f; text-decoration-color: #7f7f7f\">NULL</span> │    <span style=\"color: #7f7f7f; text-decoration-color: #7f7f7f\">NULL</span> │    <span style=\"color: #7f7f7f; text-decoration-color: #7f7f7f\">NULL</span> │    <span style=\"color: #7f7f7f; text-decoration-color: #7f7f7f\">NULL</span> │    <span style=\"color: #7f7f7f; text-decoration-color: #7f7f7f\">NULL</span> │    <span style=\"color: #7f7f7f; text-decoration-color: #7f7f7f\">NULL</span> │    <span style=\"color: #7f7f7f; text-decoration-color: #7f7f7f\">NULL</span> │    <span style=\"color: #7f7f7f; text-decoration-color: #7f7f7f\">NULL</span> │    <span style=\"color: #7f7f7f; text-decoration-color: #7f7f7f\">NULL</span> │    <span style=\"color: #008080; text-decoration-color: #008080; font-weight: bold\">77.1</span> │    <span style=\"color: #008080; text-decoration-color: #008080; font-weight: bold\">76.5</span> │    <span style=\"color: #008080; text-decoration-color: #008080; font-weight: bold\">76.4</span> │    <span style=\"color: #008080; text-decoration-color: #008080; font-weight: bold\">76.0</span> │    <span style=\"color: #008080; text-decoration-color: #008080; font-weight: bold\">76.8</span> │    <span style=\"color: #008080; text-decoration-color: #008080; font-weight: bold\">76.6</span> │    <span style=\"color: #008080; text-decoration-color: #008080; font-weight: bold\">77.0</span> │    <span style=\"color: #008080; text-decoration-color: #008080; font-weight: bold\">77.8</span> │    <span style=\"color: #008080; text-decoration-color: #008080; font-weight: bold\">78.5</span> │    <span style=\"color: #008080; text-decoration-color: #008080; font-weight: bold\">79.2</span> │    <span style=\"color: #008080; text-decoration-color: #008080; font-weight: bold\">79.9</span> │    <span style=\"color: #008080; text-decoration-color: #008080; font-weight: bold\">80.6</span> │    <span style=\"color: #008080; text-decoration-color: #008080; font-weight: bold\">81.6</span> │    <span style=\"color: #008080; text-decoration-color: #008080; font-weight: bold\">82.3</span> │    <span style=\"color: #008080; text-decoration-color: #008080; font-weight: bold\">82.9</span> │   <span style=\"color: #008080; text-decoration-color: #008080; font-weight: bold\">83.55</span> │    <span style=\"color: #008080; text-decoration-color: #008080; font-weight: bold\">84.6</span> │    <span style=\"color: #008080; text-decoration-color: #008080; font-weight: bold\">84.8</span> │    <span style=\"color: #008080; text-decoration-color: #008080; font-weight: bold\">85.6</span> │    <span style=\"color: #008080; text-decoration-color: #008080; font-weight: bold\">86.0</span> │    <span style=\"color: #008080; text-decoration-color: #008080; font-weight: bold\">86.1</span> │    <span style=\"color: #008080; text-decoration-color: #008080; font-weight: bold\">86.5</span> │    <span style=\"color: #008080; text-decoration-color: #008080; font-weight: bold\">87.5</span> │    <span style=\"color: #7f7f7f; text-decoration-color: #7f7f7f\">NULL</span> │\n",
       "│ <span style=\"color: #008000; text-decoration-color: #008000\">Venezuela, RB</span> │ <span style=\"color: #008000; text-decoration-color: #008000\">VEN         </span> │ <span style=\"color: #008000; text-decoration-color: #008000\">Access to clean fuels and technologies for cooking, urban (% of urban populatio…</span> │ <span style=\"color: #008000; text-decoration-color: #008000\">EG.CFT.ACCS.UR.ZS</span> │    <span style=\"color: #7f7f7f; text-decoration-color: #7f7f7f\">NULL</span> │    <span style=\"color: #7f7f7f; text-decoration-color: #7f7f7f\">NULL</span> │    <span style=\"color: #7f7f7f; text-decoration-color: #7f7f7f\">NULL</span> │    <span style=\"color: #7f7f7f; text-decoration-color: #7f7f7f\">NULL</span> │    <span style=\"color: #7f7f7f; text-decoration-color: #7f7f7f\">NULL</span> │    <span style=\"color: #7f7f7f; text-decoration-color: #7f7f7f\">NULL</span> │    <span style=\"color: #7f7f7f; text-decoration-color: #7f7f7f\">NULL</span> │    <span style=\"color: #7f7f7f; text-decoration-color: #7f7f7f\">NULL</span> │    <span style=\"color: #7f7f7f; text-decoration-color: #7f7f7f\">NULL</span> │    <span style=\"color: #7f7f7f; text-decoration-color: #7f7f7f\">NULL</span> │    <span style=\"color: #7f7f7f; text-decoration-color: #7f7f7f\">NULL</span> │    <span style=\"color: #7f7f7f; text-decoration-color: #7f7f7f\">NULL</span> │    <span style=\"color: #7f7f7f; text-decoration-color: #7f7f7f\">NULL</span> │    <span style=\"color: #7f7f7f; text-decoration-color: #7f7f7f\">NULL</span> │    <span style=\"color: #7f7f7f; text-decoration-color: #7f7f7f\">NULL</span> │    <span style=\"color: #7f7f7f; text-decoration-color: #7f7f7f\">NULL</span> │    <span style=\"color: #7f7f7f; text-decoration-color: #7f7f7f\">NULL</span> │    <span style=\"color: #7f7f7f; text-decoration-color: #7f7f7f\">NULL</span> │    <span style=\"color: #7f7f7f; text-decoration-color: #7f7f7f\">NULL</span> │    <span style=\"color: #7f7f7f; text-decoration-color: #7f7f7f\">NULL</span> │    <span style=\"color: #7f7f7f; text-decoration-color: #7f7f7f\">NULL</span> │    <span style=\"color: #7f7f7f; text-decoration-color: #7f7f7f\">NULL</span> │    <span style=\"color: #7f7f7f; text-decoration-color: #7f7f7f\">NULL</span> │    <span style=\"color: #7f7f7f; text-decoration-color: #7f7f7f\">NULL</span> │    <span style=\"color: #7f7f7f; text-decoration-color: #7f7f7f\">NULL</span> │    <span style=\"color: #7f7f7f; text-decoration-color: #7f7f7f\">NULL</span> │    <span style=\"color: #7f7f7f; text-decoration-color: #7f7f7f\">NULL</span> │    <span style=\"color: #7f7f7f; text-decoration-color: #7f7f7f\">NULL</span> │    <span style=\"color: #7f7f7f; text-decoration-color: #7f7f7f\">NULL</span> │    <span style=\"color: #7f7f7f; text-decoration-color: #7f7f7f\">NULL</span> │    <span style=\"color: #7f7f7f; text-decoration-color: #7f7f7f\">NULL</span> │    <span style=\"color: #7f7f7f; text-decoration-color: #7f7f7f\">NULL</span> │    <span style=\"color: #7f7f7f; text-decoration-color: #7f7f7f\">NULL</span> │    <span style=\"color: #7f7f7f; text-decoration-color: #7f7f7f\">NULL</span> │    <span style=\"color: #7f7f7f; text-decoration-color: #7f7f7f\">NULL</span> │    <span style=\"color: #7f7f7f; text-decoration-color: #7f7f7f\">NULL</span> │    <span style=\"color: #7f7f7f; text-decoration-color: #7f7f7f\">NULL</span> │    <span style=\"color: #7f7f7f; text-decoration-color: #7f7f7f\">NULL</span> │    <span style=\"color: #7f7f7f; text-decoration-color: #7f7f7f\">NULL</span> │    <span style=\"color: #7f7f7f; text-decoration-color: #7f7f7f\">NULL</span> │    <span style=\"color: #008080; text-decoration-color: #008080; font-weight: bold\">99.5</span> │    <span style=\"color: #008080; text-decoration-color: #008080; font-weight: bold\">99.5</span> │    <span style=\"color: #008080; text-decoration-color: #008080; font-weight: bold\">99.4</span> │    <span style=\"color: #008080; text-decoration-color: #008080; font-weight: bold\">99.4</span> │    <span style=\"color: #008080; text-decoration-color: #008080; font-weight: bold\">99.3</span> │    <span style=\"color: #008080; text-decoration-color: #008080; font-weight: bold\">99.4</span> │    <span style=\"color: #008080; text-decoration-color: #008080; font-weight: bold\">99.3</span> │    <span style=\"color: #008080; text-decoration-color: #008080; font-weight: bold\">99.3</span> │    <span style=\"color: #008080; text-decoration-color: #008080; font-weight: bold\">99.2</span> │    <span style=\"color: #008080; text-decoration-color: #008080; font-weight: bold\">99.1</span> │    <span style=\"color: #008080; text-decoration-color: #008080; font-weight: bold\">99.0</span> │    <span style=\"color: #008080; text-decoration-color: #008080; font-weight: bold\">99.0</span> │    <span style=\"color: #008080; text-decoration-color: #008080; font-weight: bold\">98.9</span> │    <span style=\"color: #008080; text-decoration-color: #008080; font-weight: bold\">98.7</span> │    <span style=\"color: #008080; text-decoration-color: #008080; font-weight: bold\">98.6</span> │   <span style=\"color: #008080; text-decoration-color: #008080; font-weight: bold\">98.50</span> │    <span style=\"color: #008080; text-decoration-color: #008080; font-weight: bold\">98.4</span> │    <span style=\"color: #008080; text-decoration-color: #008080; font-weight: bold\">98.3</span> │    <span style=\"color: #008080; text-decoration-color: #008080; font-weight: bold\">98.0</span> │    <span style=\"color: #008080; text-decoration-color: #008080; font-weight: bold\">97.8</span> │    <span style=\"color: #008080; text-decoration-color: #008080; font-weight: bold\">97.7</span> │    <span style=\"color: #008080; text-decoration-color: #008080; font-weight: bold\">97.4</span> │    <span style=\"color: #008080; text-decoration-color: #008080; font-weight: bold\">97.3</span> │    <span style=\"color: #7f7f7f; text-decoration-color: #7f7f7f\">NULL</span> │\n",
       "└───────────────┴──────────────┴──────────────────────────────────────────────────────────────────────────────────┴───────────────────┴─────────┴─────────┴─────────┴─────────┴─────────┴─────────┴─────────┴─────────┴─────────┴─────────┴─────────┴─────────┴─────────┴─────────┴─────────┴─────────┴─────────┴─────────┴─────────┴─────────┴─────────┴─────────┴─────────┴─────────┴─────────┴─────────┴─────────┴─────────┴─────────┴─────────┴─────────┴─────────┴─────────┴─────────┴─────────┴─────────┴─────────┴─────────┴─────────┴─────────┴─────────┴─────────┴─────────┴─────────┴─────────┴─────────┴─────────┴─────────┴─────────┴─────────┴─────────┴─────────┴─────────┴─────────┴─────────┴─────────┴─────────┴─────────┴─────────┴─────────┴─────────┴─────────┴─────────┴─────────┘\n",
       "</pre>\n"
      ],
      "text/plain": [
       "┏━━━━━━━━━━━━━━━┳━━━━━━━━━━━━━━┳━━━━━━━━━━━━━━━━━━━━━━━━━━━━━━━━━━━━━━━━━━━━━━━━━━━━━━━━━━━━━━━━━━━━━━━━━━━━━━━━━━┳━━━━━━━━━━━━━━━━━━━┳━━━━━━━━━┳━━━━━━━━━┳━━━━━━━━━┳━━━━━━━━━┳━━━━━━━━━┳━━━━━━━━━┳━━━━━━━━━┳━━━━━━━━━┳━━━━━━━━━┳━━━━━━━━━┳━━━━━━━━━┳━━━━━━━━━┳━━━━━━━━━┳━━━━━━━━━┳━━━━━━━━━┳━━━━━━━━━┳━━━━━━━━━┳━━━━━━━━━┳━━━━━━━━━┳━━━━━━━━━┳━━━━━━━━━┳━━━━━━━━━┳━━━━━━━━━┳━━━━━━━━━┳━━━━━━━━━┳━━━━━━━━━┳━━━━━━━━━┳━━━━━━━━━┳━━━━━━━━━┳━━━━━━━━━┳━━━━━━━━━┳━━━━━━━━━┳━━━━━━━━━┳━━━━━━━━━┳━━━━━━━━━┳━━━━━━━━━┳━━━━━━━━━┳━━━━━━━━━┳━━━━━━━━━┳━━━━━━━━━┳━━━━━━━━━┳━━━━━━━━━┳━━━━━━━━━┳━━━━━━━━━┳━━━━━━━━━┳━━━━━━━━━┳━━━━━━━━━┳━━━━━━━━━┳━━━━━━━━━┳━━━━━━━━━┳━━━━━━━━━┳━━━━━━━━━┳━━━━━━━━━┳━━━━━━━━━┳━━━━━━━━━┳━━━━━━━━━┳━━━━━━━━━┳━━━━━━━━━┳━━━━━━━━━┳━━━━━━━━━┳━━━━━━━━━┳━━━━━━━━━┳━━━━━━━━━┳━━━━━━━━━┓\n",
       "┃\u001b[1m \u001b[0m\u001b[1mcountry_name\u001b[0m\u001b[1m \u001b[0m\u001b[1m \u001b[0m┃\u001b[1m \u001b[0m\u001b[1mcountry_code\u001b[0m\u001b[1m \u001b[0m┃\u001b[1m \u001b[0m\u001b[1mindicator_name\u001b[0m\u001b[1m                                                                  \u001b[0m\u001b[1m \u001b[0m┃\u001b[1m \u001b[0m\u001b[1mindicator_code\u001b[0m\u001b[1m   \u001b[0m\u001b[1m \u001b[0m┃\u001b[1m \u001b[0m\u001b[1m1960\u001b[0m\u001b[1m   \u001b[0m\u001b[1m \u001b[0m┃\u001b[1m \u001b[0m\u001b[1m1961\u001b[0m\u001b[1m   \u001b[0m\u001b[1m \u001b[0m┃\u001b[1m \u001b[0m\u001b[1m1962\u001b[0m\u001b[1m   \u001b[0m\u001b[1m \u001b[0m┃\u001b[1m \u001b[0m\u001b[1m1963\u001b[0m\u001b[1m   \u001b[0m\u001b[1m \u001b[0m┃\u001b[1m \u001b[0m\u001b[1m1964\u001b[0m\u001b[1m   \u001b[0m\u001b[1m \u001b[0m┃\u001b[1m \u001b[0m\u001b[1m1965\u001b[0m\u001b[1m   \u001b[0m\u001b[1m \u001b[0m┃\u001b[1m \u001b[0m\u001b[1m1966\u001b[0m\u001b[1m   \u001b[0m\u001b[1m \u001b[0m┃\u001b[1m \u001b[0m\u001b[1m1967\u001b[0m\u001b[1m   \u001b[0m\u001b[1m \u001b[0m┃\u001b[1m \u001b[0m\u001b[1m1968\u001b[0m\u001b[1m   \u001b[0m\u001b[1m \u001b[0m┃\u001b[1m \u001b[0m\u001b[1m1969\u001b[0m\u001b[1m   \u001b[0m\u001b[1m \u001b[0m┃\u001b[1m \u001b[0m\u001b[1m1970\u001b[0m\u001b[1m   \u001b[0m\u001b[1m \u001b[0m┃\u001b[1m \u001b[0m\u001b[1m1971\u001b[0m\u001b[1m   \u001b[0m\u001b[1m \u001b[0m┃\u001b[1m \u001b[0m\u001b[1m1972\u001b[0m\u001b[1m   \u001b[0m\u001b[1m \u001b[0m┃\u001b[1m \u001b[0m\u001b[1m1973\u001b[0m\u001b[1m   \u001b[0m\u001b[1m \u001b[0m┃\u001b[1m \u001b[0m\u001b[1m1974\u001b[0m\u001b[1m   \u001b[0m\u001b[1m \u001b[0m┃\u001b[1m \u001b[0m\u001b[1m1975\u001b[0m\u001b[1m   \u001b[0m\u001b[1m \u001b[0m┃\u001b[1m \u001b[0m\u001b[1m1976\u001b[0m\u001b[1m   \u001b[0m\u001b[1m \u001b[0m┃\u001b[1m \u001b[0m\u001b[1m1977\u001b[0m\u001b[1m   \u001b[0m\u001b[1m \u001b[0m┃\u001b[1m \u001b[0m\u001b[1m1978\u001b[0m\u001b[1m   \u001b[0m\u001b[1m \u001b[0m┃\u001b[1m \u001b[0m\u001b[1m1979\u001b[0m\u001b[1m   \u001b[0m\u001b[1m \u001b[0m┃\u001b[1m \u001b[0m\u001b[1m1980\u001b[0m\u001b[1m   \u001b[0m\u001b[1m \u001b[0m┃\u001b[1m \u001b[0m\u001b[1m1981\u001b[0m\u001b[1m   \u001b[0m\u001b[1m \u001b[0m┃\u001b[1m \u001b[0m\u001b[1m1982\u001b[0m\u001b[1m   \u001b[0m\u001b[1m \u001b[0m┃\u001b[1m \u001b[0m\u001b[1m1983\u001b[0m\u001b[1m   \u001b[0m\u001b[1m \u001b[0m┃\u001b[1m \u001b[0m\u001b[1m1984\u001b[0m\u001b[1m   \u001b[0m\u001b[1m \u001b[0m┃\u001b[1m \u001b[0m\u001b[1m1985\u001b[0m\u001b[1m   \u001b[0m\u001b[1m \u001b[0m┃\u001b[1m \u001b[0m\u001b[1m1986\u001b[0m\u001b[1m   \u001b[0m\u001b[1m \u001b[0m┃\u001b[1m \u001b[0m\u001b[1m1987\u001b[0m\u001b[1m   \u001b[0m\u001b[1m \u001b[0m┃\u001b[1m \u001b[0m\u001b[1m1988\u001b[0m\u001b[1m   \u001b[0m\u001b[1m \u001b[0m┃\u001b[1m \u001b[0m\u001b[1m1989\u001b[0m\u001b[1m   \u001b[0m\u001b[1m \u001b[0m┃\u001b[1m \u001b[0m\u001b[1m1990\u001b[0m\u001b[1m   \u001b[0m\u001b[1m \u001b[0m┃\u001b[1m \u001b[0m\u001b[1m1991\u001b[0m\u001b[1m   \u001b[0m\u001b[1m \u001b[0m┃\u001b[1m \u001b[0m\u001b[1m1992\u001b[0m\u001b[1m   \u001b[0m\u001b[1m \u001b[0m┃\u001b[1m \u001b[0m\u001b[1m1993\u001b[0m\u001b[1m   \u001b[0m\u001b[1m \u001b[0m┃\u001b[1m \u001b[0m\u001b[1m1994\u001b[0m\u001b[1m   \u001b[0m\u001b[1m \u001b[0m┃\u001b[1m \u001b[0m\u001b[1m1995\u001b[0m\u001b[1m   \u001b[0m\u001b[1m \u001b[0m┃\u001b[1m \u001b[0m\u001b[1m1996\u001b[0m\u001b[1m   \u001b[0m\u001b[1m \u001b[0m┃\u001b[1m \u001b[0m\u001b[1m1997\u001b[0m\u001b[1m   \u001b[0m\u001b[1m \u001b[0m┃\u001b[1m \u001b[0m\u001b[1m1998\u001b[0m\u001b[1m   \u001b[0m\u001b[1m \u001b[0m┃\u001b[1m \u001b[0m\u001b[1m1999\u001b[0m\u001b[1m   \u001b[0m\u001b[1m \u001b[0m┃\u001b[1m \u001b[0m\u001b[1m2000\u001b[0m\u001b[1m   \u001b[0m\u001b[1m \u001b[0m┃\u001b[1m \u001b[0m\u001b[1m2001\u001b[0m\u001b[1m   \u001b[0m\u001b[1m \u001b[0m┃\u001b[1m \u001b[0m\u001b[1m2002\u001b[0m\u001b[1m   \u001b[0m\u001b[1m \u001b[0m┃\u001b[1m \u001b[0m\u001b[1m2003\u001b[0m\u001b[1m   \u001b[0m\u001b[1m \u001b[0m┃\u001b[1m \u001b[0m\u001b[1m2004\u001b[0m\u001b[1m   \u001b[0m\u001b[1m \u001b[0m┃\u001b[1m \u001b[0m\u001b[1m2005\u001b[0m\u001b[1m   \u001b[0m\u001b[1m \u001b[0m┃\u001b[1m \u001b[0m\u001b[1m2006\u001b[0m\u001b[1m   \u001b[0m\u001b[1m \u001b[0m┃\u001b[1m \u001b[0m\u001b[1m2007\u001b[0m\u001b[1m   \u001b[0m\u001b[1m \u001b[0m┃\u001b[1m \u001b[0m\u001b[1m2008\u001b[0m\u001b[1m   \u001b[0m\u001b[1m \u001b[0m┃\u001b[1m \u001b[0m\u001b[1m2009\u001b[0m\u001b[1m   \u001b[0m\u001b[1m \u001b[0m┃\u001b[1m \u001b[0m\u001b[1m2010\u001b[0m\u001b[1m   \u001b[0m\u001b[1m \u001b[0m┃\u001b[1m \u001b[0m\u001b[1m2011\u001b[0m\u001b[1m   \u001b[0m\u001b[1m \u001b[0m┃\u001b[1m \u001b[0m\u001b[1m2012\u001b[0m\u001b[1m   \u001b[0m\u001b[1m \u001b[0m┃\u001b[1m \u001b[0m\u001b[1m2013\u001b[0m\u001b[1m   \u001b[0m\u001b[1m \u001b[0m┃\u001b[1m \u001b[0m\u001b[1m2014\u001b[0m\u001b[1m   \u001b[0m\u001b[1m \u001b[0m┃\u001b[1m \u001b[0m\u001b[1m2015\u001b[0m\u001b[1m   \u001b[0m\u001b[1m \u001b[0m┃\u001b[1m \u001b[0m\u001b[1m2016\u001b[0m\u001b[1m   \u001b[0m\u001b[1m \u001b[0m┃\u001b[1m \u001b[0m\u001b[1m2017\u001b[0m\u001b[1m   \u001b[0m\u001b[1m \u001b[0m┃\u001b[1m \u001b[0m\u001b[1m2018\u001b[0m\u001b[1m   \u001b[0m\u001b[1m \u001b[0m┃\u001b[1m \u001b[0m\u001b[1m2019\u001b[0m\u001b[1m   \u001b[0m\u001b[1m \u001b[0m┃\u001b[1m \u001b[0m\u001b[1m2020\u001b[0m\u001b[1m   \u001b[0m\u001b[1m \u001b[0m┃\u001b[1m \u001b[0m\u001b[1m2021\u001b[0m\u001b[1m   \u001b[0m\u001b[1m \u001b[0m┃\u001b[1m \u001b[0m\u001b[1m2022\u001b[0m\u001b[1m   \u001b[0m\u001b[1m \u001b[0m┃\u001b[1m \u001b[0m\u001b[1m2023\u001b[0m\u001b[1m   \u001b[0m\u001b[1m \u001b[0m┃\n",
       "┡━━━━━━━━━━━━━━━╇━━━━━━━━━━━━━━╇━━━━━━━━━━━━━━━━━━━━━━━━━━━━━━━━━━━━━━━━━━━━━━━━━━━━━━━━━━━━━━━━━━━━━━━━━━━━━━━━━━╇━━━━━━━━━━━━━━━━━━━╇━━━━━━━━━╇━━━━━━━━━╇━━━━━━━━━╇━━━━━━━━━╇━━━━━━━━━╇━━━━━━━━━╇━━━━━━━━━╇━━━━━━━━━╇━━━━━━━━━╇━━━━━━━━━╇━━━━━━━━━╇━━━━━━━━━╇━━━━━━━━━╇━━━━━━━━━╇━━━━━━━━━╇━━━━━━━━━╇━━━━━━━━━╇━━━━━━━━━╇━━━━━━━━━╇━━━━━━━━━╇━━━━━━━━━╇━━━━━━━━━╇━━━━━━━━━╇━━━━━━━━━╇━━━━━━━━━╇━━━━━━━━━╇━━━━━━━━━╇━━━━━━━━━╇━━━━━━━━━╇━━━━━━━━━╇━━━━━━━━━╇━━━━━━━━━╇━━━━━━━━━╇━━━━━━━━━╇━━━━━━━━━╇━━━━━━━━━╇━━━━━━━━━╇━━━━━━━━━╇━━━━━━━━━╇━━━━━━━━━╇━━━━━━━━━╇━━━━━━━━━╇━━━━━━━━━╇━━━━━━━━━╇━━━━━━━━━╇━━━━━━━━━╇━━━━━━━━━╇━━━━━━━━━╇━━━━━━━━━╇━━━━━━━━━╇━━━━━━━━━╇━━━━━━━━━╇━━━━━━━━━╇━━━━━━━━━╇━━━━━━━━━╇━━━━━━━━━╇━━━━━━━━━╇━━━━━━━━━╇━━━━━━━━━╇━━━━━━━━━╇━━━━━━━━━╇━━━━━━━━━╇━━━━━━━━━╇━━━━━━━━━┩\n",
       "│ \u001b[2mstring\u001b[0m        │ \u001b[2mstring\u001b[0m       │ \u001b[2mstring\u001b[0m                                                                           │ \u001b[2mstring\u001b[0m            │ \u001b[2mfloat64\u001b[0m │ \u001b[2mfloat64\u001b[0m │ \u001b[2mfloat64\u001b[0m │ \u001b[2mfloat64\u001b[0m │ \u001b[2mfloat64\u001b[0m │ \u001b[2mfloat64\u001b[0m │ \u001b[2mfloat64\u001b[0m │ \u001b[2mfloat64\u001b[0m │ \u001b[2mfloat64\u001b[0m │ \u001b[2mfloat64\u001b[0m │ \u001b[2mfloat64\u001b[0m │ \u001b[2mfloat64\u001b[0m │ \u001b[2mfloat64\u001b[0m │ \u001b[2mfloat64\u001b[0m │ \u001b[2mfloat64\u001b[0m │ \u001b[2mfloat64\u001b[0m │ \u001b[2mfloat64\u001b[0m │ \u001b[2mfloat64\u001b[0m │ \u001b[2mfloat64\u001b[0m │ \u001b[2mfloat64\u001b[0m │ \u001b[2mfloat64\u001b[0m │ \u001b[2mfloat64\u001b[0m │ \u001b[2mfloat64\u001b[0m │ \u001b[2mfloat64\u001b[0m │ \u001b[2mfloat64\u001b[0m │ \u001b[2mfloat64\u001b[0m │ \u001b[2mfloat64\u001b[0m │ \u001b[2mfloat64\u001b[0m │ \u001b[2mfloat64\u001b[0m │ \u001b[2mfloat64\u001b[0m │ \u001b[2mfloat64\u001b[0m │ \u001b[2mfloat64\u001b[0m │ \u001b[2mfloat64\u001b[0m │ \u001b[2mfloat64\u001b[0m │ \u001b[2mfloat64\u001b[0m │ \u001b[2mfloat64\u001b[0m │ \u001b[2mfloat64\u001b[0m │ \u001b[2mfloat64\u001b[0m │ \u001b[2mfloat64\u001b[0m │ \u001b[2mfloat64\u001b[0m │ \u001b[2mfloat64\u001b[0m │ \u001b[2mfloat64\u001b[0m │ \u001b[2mfloat64\u001b[0m │ \u001b[2mfloat64\u001b[0m │ \u001b[2mfloat64\u001b[0m │ \u001b[2mfloat64\u001b[0m │ \u001b[2mfloat64\u001b[0m │ \u001b[2mfloat64\u001b[0m │ \u001b[2mfloat64\u001b[0m │ \u001b[2mfloat64\u001b[0m │ \u001b[2mfloat64\u001b[0m │ \u001b[2mfloat64\u001b[0m │ \u001b[2mfloat64\u001b[0m │ \u001b[2mfloat64\u001b[0m │ \u001b[2mfloat64\u001b[0m │ \u001b[2mfloat64\u001b[0m │ \u001b[2mfloat64\u001b[0m │ \u001b[2mfloat64\u001b[0m │ \u001b[2mfloat64\u001b[0m │ \u001b[2mfloat64\u001b[0m │ \u001b[2mfloat64\u001b[0m │ \u001b[2mfloat64\u001b[0m │ \u001b[2mfloat64\u001b[0m │ \u001b[2mfloat64\u001b[0m │\n",
       "├───────────────┼──────────────┼──────────────────────────────────────────────────────────────────────────────────┼───────────────────┼─────────┼─────────┼─────────┼─────────┼─────────┼─────────┼─────────┼─────────┼─────────┼─────────┼─────────┼─────────┼─────────┼─────────┼─────────┼─────────┼─────────┼─────────┼─────────┼─────────┼─────────┼─────────┼─────────┼─────────┼─────────┼─────────┼─────────┼─────────┼─────────┼─────────┼─────────┼─────────┼─────────┼─────────┼─────────┼─────────┼─────────┼─────────┼─────────┼─────────┼─────────┼─────────┼─────────┼─────────┼─────────┼─────────┼─────────┼─────────┼─────────┼─────────┼─────────┼─────────┼─────────┼─────────┼─────────┼─────────┼─────────┼─────────┼─────────┼─────────┼─────────┼─────────┼─────────┼─────────┤\n",
       "│ \u001b[32mVenezuela, RB\u001b[0m │ \u001b[32mVEN         \u001b[0m │ \u001b[32mAccess to clean fuels and technologies for cooking (% of population)            \u001b[0m │ \u001b[32mEG.CFT.ACCS.ZS   \u001b[0m │    \u001b[2mNULL\u001b[0m │    \u001b[2mNULL\u001b[0m │    \u001b[2mNULL\u001b[0m │    \u001b[2mNULL\u001b[0m │    \u001b[2mNULL\u001b[0m │    \u001b[2mNULL\u001b[0m │    \u001b[2mNULL\u001b[0m │    \u001b[2mNULL\u001b[0m │    \u001b[2mNULL\u001b[0m │    \u001b[2mNULL\u001b[0m │    \u001b[2mNULL\u001b[0m │    \u001b[2mNULL\u001b[0m │    \u001b[2mNULL\u001b[0m │    \u001b[2mNULL\u001b[0m │    \u001b[2mNULL\u001b[0m │    \u001b[2mNULL\u001b[0m │    \u001b[2mNULL\u001b[0m │    \u001b[2mNULL\u001b[0m │    \u001b[2mNULL\u001b[0m │    \u001b[2mNULL\u001b[0m │    \u001b[2mNULL\u001b[0m │    \u001b[2mNULL\u001b[0m │    \u001b[2mNULL\u001b[0m │    \u001b[2mNULL\u001b[0m │    \u001b[2mNULL\u001b[0m │    \u001b[2mNULL\u001b[0m │    \u001b[2mNULL\u001b[0m │    \u001b[2mNULL\u001b[0m │    \u001b[2mNULL\u001b[0m │    \u001b[2mNULL\u001b[0m │    \u001b[2mNULL\u001b[0m │    \u001b[2mNULL\u001b[0m │    \u001b[2mNULL\u001b[0m │    \u001b[2mNULL\u001b[0m │    \u001b[2mNULL\u001b[0m │    \u001b[2mNULL\u001b[0m │    \u001b[2mNULL\u001b[0m │    \u001b[2mNULL\u001b[0m │    \u001b[2mNULL\u001b[0m │    \u001b[2mNULL\u001b[0m │    \u001b[1;36m97.2\u001b[0m │    \u001b[1;36m97.2\u001b[0m │    \u001b[1;36m97.0\u001b[0m │    \u001b[1;36m96.9\u001b[0m │    \u001b[1;36m96.9\u001b[0m │    \u001b[1;36m96.9\u001b[0m │    \u001b[1;36m96.8\u001b[0m │    \u001b[1;36m96.8\u001b[0m │    \u001b[1;36m96.7\u001b[0m │    \u001b[1;36m96.8\u001b[0m │    \u001b[1;36m96.7\u001b[0m │    \u001b[1;36m96.6\u001b[0m │    \u001b[1;36m96.8\u001b[0m │    \u001b[1;36m96.6\u001b[0m │    \u001b[1;36m96.6\u001b[0m │   \u001b[1;36m96.40\u001b[0m │    \u001b[1;36m96.2\u001b[0m │    \u001b[1;36m96.1\u001b[0m │    \u001b[1;36m95.9\u001b[0m │    \u001b[1;36m95.8\u001b[0m │    \u001b[1;36m95.5\u001b[0m │    \u001b[1;36m95.1\u001b[0m │    \u001b[1;36m95.0\u001b[0m │    \u001b[2mNULL\u001b[0m │\n",
       "│ \u001b[32mVenezuela, RB\u001b[0m │ \u001b[32mVEN         \u001b[0m │ \u001b[32mAccess to clean fuels and technologies for cooking, rural (% of rural populatio…\u001b[0m │ \u001b[32mEG.CFT.ACCS.RU.ZS\u001b[0m │    \u001b[2mNULL\u001b[0m │    \u001b[2mNULL\u001b[0m │    \u001b[2mNULL\u001b[0m │    \u001b[2mNULL\u001b[0m │    \u001b[2mNULL\u001b[0m │    \u001b[2mNULL\u001b[0m │    \u001b[2mNULL\u001b[0m │    \u001b[2mNULL\u001b[0m │    \u001b[2mNULL\u001b[0m │    \u001b[2mNULL\u001b[0m │    \u001b[2mNULL\u001b[0m │    \u001b[2mNULL\u001b[0m │    \u001b[2mNULL\u001b[0m │    \u001b[2mNULL\u001b[0m │    \u001b[2mNULL\u001b[0m │    \u001b[2mNULL\u001b[0m │    \u001b[2mNULL\u001b[0m │    \u001b[2mNULL\u001b[0m │    \u001b[2mNULL\u001b[0m │    \u001b[2mNULL\u001b[0m │    \u001b[2mNULL\u001b[0m │    \u001b[2mNULL\u001b[0m │    \u001b[2mNULL\u001b[0m │    \u001b[2mNULL\u001b[0m │    \u001b[2mNULL\u001b[0m │    \u001b[2mNULL\u001b[0m │    \u001b[2mNULL\u001b[0m │    \u001b[2mNULL\u001b[0m │    \u001b[2mNULL\u001b[0m │    \u001b[2mNULL\u001b[0m │    \u001b[2mNULL\u001b[0m │    \u001b[2mNULL\u001b[0m │    \u001b[2mNULL\u001b[0m │    \u001b[2mNULL\u001b[0m │    \u001b[2mNULL\u001b[0m │    \u001b[2mNULL\u001b[0m │    \u001b[2mNULL\u001b[0m │    \u001b[2mNULL\u001b[0m │    \u001b[2mNULL\u001b[0m │    \u001b[2mNULL\u001b[0m │    \u001b[1;36m77.1\u001b[0m │    \u001b[1;36m76.5\u001b[0m │    \u001b[1;36m76.4\u001b[0m │    \u001b[1;36m76.0\u001b[0m │    \u001b[1;36m76.8\u001b[0m │    \u001b[1;36m76.6\u001b[0m │    \u001b[1;36m77.0\u001b[0m │    \u001b[1;36m77.8\u001b[0m │    \u001b[1;36m78.5\u001b[0m │    \u001b[1;36m79.2\u001b[0m │    \u001b[1;36m79.9\u001b[0m │    \u001b[1;36m80.6\u001b[0m │    \u001b[1;36m81.6\u001b[0m │    \u001b[1;36m82.3\u001b[0m │    \u001b[1;36m82.9\u001b[0m │   \u001b[1;36m83.55\u001b[0m │    \u001b[1;36m84.6\u001b[0m │    \u001b[1;36m84.8\u001b[0m │    \u001b[1;36m85.6\u001b[0m │    \u001b[1;36m86.0\u001b[0m │    \u001b[1;36m86.1\u001b[0m │    \u001b[1;36m86.5\u001b[0m │    \u001b[1;36m87.5\u001b[0m │    \u001b[2mNULL\u001b[0m │\n",
       "│ \u001b[32mVenezuela, RB\u001b[0m │ \u001b[32mVEN         \u001b[0m │ \u001b[32mAccess to clean fuels and technologies for cooking, urban (% of urban populatio…\u001b[0m │ \u001b[32mEG.CFT.ACCS.UR.ZS\u001b[0m │    \u001b[2mNULL\u001b[0m │    \u001b[2mNULL\u001b[0m │    \u001b[2mNULL\u001b[0m │    \u001b[2mNULL\u001b[0m │    \u001b[2mNULL\u001b[0m │    \u001b[2mNULL\u001b[0m │    \u001b[2mNULL\u001b[0m │    \u001b[2mNULL\u001b[0m │    \u001b[2mNULL\u001b[0m │    \u001b[2mNULL\u001b[0m │    \u001b[2mNULL\u001b[0m │    \u001b[2mNULL\u001b[0m │    \u001b[2mNULL\u001b[0m │    \u001b[2mNULL\u001b[0m │    \u001b[2mNULL\u001b[0m │    \u001b[2mNULL\u001b[0m │    \u001b[2mNULL\u001b[0m │    \u001b[2mNULL\u001b[0m │    \u001b[2mNULL\u001b[0m │    \u001b[2mNULL\u001b[0m │    \u001b[2mNULL\u001b[0m │    \u001b[2mNULL\u001b[0m │    \u001b[2mNULL\u001b[0m │    \u001b[2mNULL\u001b[0m │    \u001b[2mNULL\u001b[0m │    \u001b[2mNULL\u001b[0m │    \u001b[2mNULL\u001b[0m │    \u001b[2mNULL\u001b[0m │    \u001b[2mNULL\u001b[0m │    \u001b[2mNULL\u001b[0m │    \u001b[2mNULL\u001b[0m │    \u001b[2mNULL\u001b[0m │    \u001b[2mNULL\u001b[0m │    \u001b[2mNULL\u001b[0m │    \u001b[2mNULL\u001b[0m │    \u001b[2mNULL\u001b[0m │    \u001b[2mNULL\u001b[0m │    \u001b[2mNULL\u001b[0m │    \u001b[2mNULL\u001b[0m │    \u001b[2mNULL\u001b[0m │    \u001b[1;36m99.5\u001b[0m │    \u001b[1;36m99.5\u001b[0m │    \u001b[1;36m99.4\u001b[0m │    \u001b[1;36m99.4\u001b[0m │    \u001b[1;36m99.3\u001b[0m │    \u001b[1;36m99.4\u001b[0m │    \u001b[1;36m99.3\u001b[0m │    \u001b[1;36m99.3\u001b[0m │    \u001b[1;36m99.2\u001b[0m │    \u001b[1;36m99.1\u001b[0m │    \u001b[1;36m99.0\u001b[0m │    \u001b[1;36m99.0\u001b[0m │    \u001b[1;36m98.9\u001b[0m │    \u001b[1;36m98.7\u001b[0m │    \u001b[1;36m98.6\u001b[0m │   \u001b[1;36m98.50\u001b[0m │    \u001b[1;36m98.4\u001b[0m │    \u001b[1;36m98.3\u001b[0m │    \u001b[1;36m98.0\u001b[0m │    \u001b[1;36m97.8\u001b[0m │    \u001b[1;36m97.7\u001b[0m │    \u001b[1;36m97.4\u001b[0m │    \u001b[1;36m97.3\u001b[0m │    \u001b[2mNULL\u001b[0m │\n",
       "└───────────────┴──────────────┴──────────────────────────────────────────────────────────────────────────────────┴───────────────────┴─────────┴─────────┴─────────┴─────────┴─────────┴─────────┴─────────┴─────────┴─────────┴─────────┴─────────┴─────────┴─────────┴─────────┴─────────┴─────────┴─────────┴─────────┴─────────┴─────────┴─────────┴─────────┴─────────┴─────────┴─────────┴─────────┴─────────┴─────────┴─────────┴─────────┴─────────┴─────────┴─────────┴─────────┴─────────┴─────────┴─────────┴─────────┴─────────┴─────────┴─────────┴─────────┴─────────┴─────────┴─────────┴─────────┴─────────┴─────────┴─────────┴─────────┴─────────┴─────────┴─────────┴─────────┴─────────┴─────────┴─────────┴─────────┴─────────┴─────────┴─────────┴─────────┴─────────┴─────────┘"
      ]
     },
     "execution_count": 20,
     "metadata": {},
     "output_type": "execute_result"
    }
   ],
   "source": [
    "wdi.filter(_.country_code==\"VEN\").head(3)"
   ]
  },
  {
   "cell_type": "markdown",
   "metadata": {},
   "source": [
    "#### Country codes in the data sets"
   ]
  },
  {
   "cell_type": "code",
   "execution_count": 21,
   "metadata": {},
   "outputs": [],
   "source": [
    "wdi_countries = np.unique(wdi.country_code.__array__()).tolist()"
   ]
  },
  {
   "cell_type": "code",
   "execution_count": 22,
   "metadata": {
    "tags": [
     "rm_cell"
    ]
   },
   "outputs": [
    {
     "data": {
      "text/plain": [
       "266"
      ]
     },
     "execution_count": 22,
     "metadata": {},
     "output_type": "execute_result"
    }
   ],
   "source": [
    "len(wdi_countries)"
   ]
  },
  {
   "cell_type": "code",
   "execution_count": 23,
   "metadata": {},
   "outputs": [
    {
     "data": {
      "text/plain": [
       "['ALB', 'ARG', 'AUS', 'AUT', 'AZE']"
      ]
     },
     "execution_count": 23,
     "metadata": {},
     "output_type": "execute_result"
    }
   ],
   "source": [
    "dose_countries = dose.filter(_.year==str(year)).gid_0.to_pandas().unique().tolist()\n",
    "dose_countries[0:5]"
   ]
  },
  {
   "cell_type": "code",
   "execution_count": 24,
   "metadata": {
    "tags": [
     "rm_cell"
    ]
   },
   "outputs": [
    {
     "data": {
      "text/html": [
       "<pre style=\"white-space:pre;overflow-x:auto;line-height:normal;font-family:Menlo,'DejaVu Sans Mono',consolas,'Courier New',monospace\">┏━━━━━━━━━━━━━━━┳━━━━━━━━━━━━━━┳━━━━━━━━━━━━━━━━━━━━━━━━━━━━━━━━━━━━━━━━━━━━━━━━━━━━━━━━━━━━━━━━━━━━━━━━━━━━━━━━━━┳━━━━━━━━━━━━━━━━━━━┳━━━━━━━━━┳━━━━━━━━━┳━━━━━━━━━┳━━━━━━━━━┳━━━━━━━━━┳━━━━━━━━━┳━━━━━━━━━┳━━━━━━━━━┳━━━━━━━━━┳━━━━━━━━━┳━━━━━━━━━┳━━━━━━━━━┳━━━━━━━━━┳━━━━━━━━━┳━━━━━━━━━┳━━━━━━━━━┳━━━━━━━━━┳━━━━━━━━━┳━━━━━━━━━┳━━━━━━━━━┳━━━━━━━━━┳━━━━━━━━━┳━━━━━━━━━┳━━━━━━━━━┳━━━━━━━━━┳━━━━━━━━━┳━━━━━━━━━┳━━━━━━━━━┳━━━━━━━━━┳━━━━━━━━━┳━━━━━━━━━┳━━━━━━━━━┳━━━━━━━━━┳━━━━━━━━━┳━━━━━━━━━┳━━━━━━━━━┳━━━━━━━━━┳━━━━━━━━━┳━━━━━━━━━┳━━━━━━━━━┳━━━━━━━━━┳━━━━━━━━━┳━━━━━━━━━┳━━━━━━━━━┳━━━━━━━━━┳━━━━━━━━━┳━━━━━━━━━┳━━━━━━━━━┳━━━━━━━━━┳━━━━━━━━━┳━━━━━━━━━┳━━━━━━━━━┳━━━━━━━━━┳━━━━━━━━━┳━━━━━━━━━┳━━━━━━━━━┳━━━━━━━━━┳━━━━━━━━━┳━━━━━━━━━┳━━━━━━━━━┳━━━━━━━━━┳━━━━━━━━━┳━━━━━━━━━┳━━━━━━━━━┓\n",
       "┃<span style=\"font-weight: bold\"> country_name  </span>┃<span style=\"font-weight: bold\"> country_code </span>┃<span style=\"font-weight: bold\"> indicator_name                                                                   </span>┃<span style=\"font-weight: bold\"> indicator_code    </span>┃<span style=\"font-weight: bold\"> 1960    </span>┃<span style=\"font-weight: bold\"> 1961    </span>┃<span style=\"font-weight: bold\"> 1962    </span>┃<span style=\"font-weight: bold\"> 1963    </span>┃<span style=\"font-weight: bold\"> 1964    </span>┃<span style=\"font-weight: bold\"> 1965    </span>┃<span style=\"font-weight: bold\"> 1966    </span>┃<span style=\"font-weight: bold\"> 1967    </span>┃<span style=\"font-weight: bold\"> 1968    </span>┃<span style=\"font-weight: bold\"> 1969    </span>┃<span style=\"font-weight: bold\"> 1970    </span>┃<span style=\"font-weight: bold\"> 1971    </span>┃<span style=\"font-weight: bold\"> 1972    </span>┃<span style=\"font-weight: bold\"> 1973    </span>┃<span style=\"font-weight: bold\"> 1974    </span>┃<span style=\"font-weight: bold\"> 1975    </span>┃<span style=\"font-weight: bold\"> 1976    </span>┃<span style=\"font-weight: bold\"> 1977    </span>┃<span style=\"font-weight: bold\"> 1978    </span>┃<span style=\"font-weight: bold\"> 1979    </span>┃<span style=\"font-weight: bold\"> 1980    </span>┃<span style=\"font-weight: bold\"> 1981    </span>┃<span style=\"font-weight: bold\"> 1982    </span>┃<span style=\"font-weight: bold\"> 1983    </span>┃<span style=\"font-weight: bold\"> 1984    </span>┃<span style=\"font-weight: bold\"> 1985    </span>┃<span style=\"font-weight: bold\"> 1986    </span>┃<span style=\"font-weight: bold\"> 1987    </span>┃<span style=\"font-weight: bold\"> 1988    </span>┃<span style=\"font-weight: bold\"> 1989    </span>┃<span style=\"font-weight: bold\"> 1990    </span>┃<span style=\"font-weight: bold\"> 1991    </span>┃<span style=\"font-weight: bold\"> 1992    </span>┃<span style=\"font-weight: bold\"> 1993    </span>┃<span style=\"font-weight: bold\"> 1994    </span>┃<span style=\"font-weight: bold\"> 1995    </span>┃<span style=\"font-weight: bold\"> 1996    </span>┃<span style=\"font-weight: bold\"> 1997    </span>┃<span style=\"font-weight: bold\"> 1998    </span>┃<span style=\"font-weight: bold\"> 1999    </span>┃<span style=\"font-weight: bold\"> 2000    </span>┃<span style=\"font-weight: bold\"> 2001    </span>┃<span style=\"font-weight: bold\"> 2002    </span>┃<span style=\"font-weight: bold\"> 2003    </span>┃<span style=\"font-weight: bold\"> 2004    </span>┃<span style=\"font-weight: bold\"> 2005    </span>┃<span style=\"font-weight: bold\"> 2006    </span>┃<span style=\"font-weight: bold\"> 2007    </span>┃<span style=\"font-weight: bold\"> 2008    </span>┃<span style=\"font-weight: bold\"> 2009    </span>┃<span style=\"font-weight: bold\"> 2010    </span>┃<span style=\"font-weight: bold\"> 2011    </span>┃<span style=\"font-weight: bold\"> 2012    </span>┃<span style=\"font-weight: bold\"> 2013    </span>┃<span style=\"font-weight: bold\"> 2014    </span>┃<span style=\"font-weight: bold\"> 2015    </span>┃<span style=\"font-weight: bold\"> 2016    </span>┃<span style=\"font-weight: bold\"> 2017    </span>┃<span style=\"font-weight: bold\"> 2018    </span>┃<span style=\"font-weight: bold\"> 2019    </span>┃<span style=\"font-weight: bold\"> 2020    </span>┃<span style=\"font-weight: bold\"> 2021    </span>┃<span style=\"font-weight: bold\"> 2022    </span>┃<span style=\"font-weight: bold\"> 2023    </span>┃\n",
       "┡━━━━━━━━━━━━━━━╇━━━━━━━━━━━━━━╇━━━━━━━━━━━━━━━━━━━━━━━━━━━━━━━━━━━━━━━━━━━━━━━━━━━━━━━━━━━━━━━━━━━━━━━━━━━━━━━━━━╇━━━━━━━━━━━━━━━━━━━╇━━━━━━━━━╇━━━━━━━━━╇━━━━━━━━━╇━━━━━━━━━╇━━━━━━━━━╇━━━━━━━━━╇━━━━━━━━━╇━━━━━━━━━╇━━━━━━━━━╇━━━━━━━━━╇━━━━━━━━━╇━━━━━━━━━╇━━━━━━━━━╇━━━━━━━━━╇━━━━━━━━━╇━━━━━━━━━╇━━━━━━━━━╇━━━━━━━━━╇━━━━━━━━━╇━━━━━━━━━╇━━━━━━━━━╇━━━━━━━━━╇━━━━━━━━━╇━━━━━━━━━╇━━━━━━━━━╇━━━━━━━━━╇━━━━━━━━━╇━━━━━━━━━╇━━━━━━━━━╇━━━━━━━━━╇━━━━━━━━━╇━━━━━━━━━╇━━━━━━━━━╇━━━━━━━━━╇━━━━━━━━━╇━━━━━━━━━╇━━━━━━━━━╇━━━━━━━━━╇━━━━━━━━━╇━━━━━━━━━╇━━━━━━━━━╇━━━━━━━━━╇━━━━━━━━━╇━━━━━━━━━╇━━━━━━━━━╇━━━━━━━━━╇━━━━━━━━━╇━━━━━━━━━╇━━━━━━━━━╇━━━━━━━━━╇━━━━━━━━━╇━━━━━━━━━╇━━━━━━━━━╇━━━━━━━━━╇━━━━━━━━━╇━━━━━━━━━╇━━━━━━━━━╇━━━━━━━━━╇━━━━━━━━━╇━━━━━━━━━╇━━━━━━━━━╇━━━━━━━━━╇━━━━━━━━━╇━━━━━━━━━┩\n",
       "│ <span style=\"color: #7f7f7f; text-decoration-color: #7f7f7f\">string</span>        │ <span style=\"color: #7f7f7f; text-decoration-color: #7f7f7f\">string</span>       │ <span style=\"color: #7f7f7f; text-decoration-color: #7f7f7f\">string</span>                                                                           │ <span style=\"color: #7f7f7f; text-decoration-color: #7f7f7f\">string</span>            │ <span style=\"color: #7f7f7f; text-decoration-color: #7f7f7f\">float64</span> │ <span style=\"color: #7f7f7f; text-decoration-color: #7f7f7f\">float64</span> │ <span style=\"color: #7f7f7f; text-decoration-color: #7f7f7f\">float64</span> │ <span style=\"color: #7f7f7f; text-decoration-color: #7f7f7f\">float64</span> │ <span style=\"color: #7f7f7f; text-decoration-color: #7f7f7f\">float64</span> │ <span style=\"color: #7f7f7f; text-decoration-color: #7f7f7f\">float64</span> │ <span style=\"color: #7f7f7f; text-decoration-color: #7f7f7f\">float64</span> │ <span style=\"color: #7f7f7f; text-decoration-color: #7f7f7f\">float64</span> │ <span style=\"color: #7f7f7f; text-decoration-color: #7f7f7f\">float64</span> │ <span style=\"color: #7f7f7f; text-decoration-color: #7f7f7f\">float64</span> │ <span style=\"color: #7f7f7f; text-decoration-color: #7f7f7f\">float64</span> │ <span style=\"color: #7f7f7f; text-decoration-color: #7f7f7f\">float64</span> │ <span style=\"color: #7f7f7f; text-decoration-color: #7f7f7f\">float64</span> │ <span style=\"color: #7f7f7f; text-decoration-color: #7f7f7f\">float64</span> │ <span style=\"color: #7f7f7f; text-decoration-color: #7f7f7f\">float64</span> │ <span style=\"color: #7f7f7f; text-decoration-color: #7f7f7f\">float64</span> │ <span style=\"color: #7f7f7f; text-decoration-color: #7f7f7f\">float64</span> │ <span style=\"color: #7f7f7f; text-decoration-color: #7f7f7f\">float64</span> │ <span style=\"color: #7f7f7f; text-decoration-color: #7f7f7f\">float64</span> │ <span style=\"color: #7f7f7f; text-decoration-color: #7f7f7f\">float64</span> │ <span style=\"color: #7f7f7f; text-decoration-color: #7f7f7f\">float64</span> │ <span style=\"color: #7f7f7f; text-decoration-color: #7f7f7f\">float64</span> │ <span style=\"color: #7f7f7f; text-decoration-color: #7f7f7f\">float64</span> │ <span style=\"color: #7f7f7f; text-decoration-color: #7f7f7f\">float64</span> │ <span style=\"color: #7f7f7f; text-decoration-color: #7f7f7f\">float64</span> │ <span style=\"color: #7f7f7f; text-decoration-color: #7f7f7f\">float64</span> │ <span style=\"color: #7f7f7f; text-decoration-color: #7f7f7f\">float64</span> │ <span style=\"color: #7f7f7f; text-decoration-color: #7f7f7f\">float64</span> │ <span style=\"color: #7f7f7f; text-decoration-color: #7f7f7f\">float64</span> │ <span style=\"color: #7f7f7f; text-decoration-color: #7f7f7f\">float64</span> │ <span style=\"color: #7f7f7f; text-decoration-color: #7f7f7f\">float64</span> │ <span style=\"color: #7f7f7f; text-decoration-color: #7f7f7f\">float64</span> │ <span style=\"color: #7f7f7f; text-decoration-color: #7f7f7f\">float64</span> │ <span style=\"color: #7f7f7f; text-decoration-color: #7f7f7f\">float64</span> │ <span style=\"color: #7f7f7f; text-decoration-color: #7f7f7f\">float64</span> │ <span style=\"color: #7f7f7f; text-decoration-color: #7f7f7f\">float64</span> │ <span style=\"color: #7f7f7f; text-decoration-color: #7f7f7f\">float64</span> │ <span style=\"color: #7f7f7f; text-decoration-color: #7f7f7f\">float64</span> │ <span style=\"color: #7f7f7f; text-decoration-color: #7f7f7f\">float64</span> │ <span style=\"color: #7f7f7f; text-decoration-color: #7f7f7f\">float64</span> │ <span style=\"color: #7f7f7f; text-decoration-color: #7f7f7f\">float64</span> │ <span style=\"color: #7f7f7f; text-decoration-color: #7f7f7f\">float64</span> │ <span style=\"color: #7f7f7f; text-decoration-color: #7f7f7f\">float64</span> │ <span style=\"color: #7f7f7f; text-decoration-color: #7f7f7f\">float64</span> │ <span style=\"color: #7f7f7f; text-decoration-color: #7f7f7f\">float64</span> │ <span style=\"color: #7f7f7f; text-decoration-color: #7f7f7f\">float64</span> │ <span style=\"color: #7f7f7f; text-decoration-color: #7f7f7f\">float64</span> │ <span style=\"color: #7f7f7f; text-decoration-color: #7f7f7f\">float64</span> │ <span style=\"color: #7f7f7f; text-decoration-color: #7f7f7f\">float64</span> │ <span style=\"color: #7f7f7f; text-decoration-color: #7f7f7f\">float64</span> │ <span style=\"color: #7f7f7f; text-decoration-color: #7f7f7f\">float64</span> │ <span style=\"color: #7f7f7f; text-decoration-color: #7f7f7f\">float64</span> │ <span style=\"color: #7f7f7f; text-decoration-color: #7f7f7f\">float64</span> │ <span style=\"color: #7f7f7f; text-decoration-color: #7f7f7f\">float64</span> │ <span style=\"color: #7f7f7f; text-decoration-color: #7f7f7f\">float64</span> │ <span style=\"color: #7f7f7f; text-decoration-color: #7f7f7f\">float64</span> │ <span style=\"color: #7f7f7f; text-decoration-color: #7f7f7f\">float64</span> │ <span style=\"color: #7f7f7f; text-decoration-color: #7f7f7f\">float64</span> │ <span style=\"color: #7f7f7f; text-decoration-color: #7f7f7f\">float64</span> │ <span style=\"color: #7f7f7f; text-decoration-color: #7f7f7f\">float64</span> │ <span style=\"color: #7f7f7f; text-decoration-color: #7f7f7f\">float64</span> │ <span style=\"color: #7f7f7f; text-decoration-color: #7f7f7f\">float64</span> │ <span style=\"color: #7f7f7f; text-decoration-color: #7f7f7f\">float64</span> │ <span style=\"color: #7f7f7f; text-decoration-color: #7f7f7f\">float64</span> │\n",
       "├───────────────┼──────────────┼──────────────────────────────────────────────────────────────────────────────────┼───────────────────┼─────────┼─────────┼─────────┼─────────┼─────────┼─────────┼─────────┼─────────┼─────────┼─────────┼─────────┼─────────┼─────────┼─────────┼─────────┼─────────┼─────────┼─────────┼─────────┼─────────┼─────────┼─────────┼─────────┼─────────┼─────────┼─────────┼─────────┼─────────┼─────────┼─────────┼─────────┼─────────┼─────────┼─────────┼─────────┼─────────┼─────────┼─────────┼─────────┼─────────┼─────────┼─────────┼─────────┼─────────┼─────────┼─────────┼─────────┼─────────┼─────────┼─────────┼─────────┼─────────┼─────────┼─────────┼─────────┼─────────┼─────────┼─────────┼─────────┼─────────┼─────────┼─────────┼─────────┼─────────┤\n",
       "│ <span style=\"color: #008000; text-decoration-color: #008000\">Venezuela, RB</span> │ <span style=\"color: #008000; text-decoration-color: #008000\">VEN         </span> │ <span style=\"color: #008000; text-decoration-color: #008000\">Access to clean fuels and technologies for cooking (% of population)            </span> │ <span style=\"color: #008000; text-decoration-color: #008000\">EG.CFT.ACCS.ZS   </span> │    <span style=\"color: #7f7f7f; text-decoration-color: #7f7f7f\">NULL</span> │    <span style=\"color: #7f7f7f; text-decoration-color: #7f7f7f\">NULL</span> │    <span style=\"color: #7f7f7f; text-decoration-color: #7f7f7f\">NULL</span> │    <span style=\"color: #7f7f7f; text-decoration-color: #7f7f7f\">NULL</span> │    <span style=\"color: #7f7f7f; text-decoration-color: #7f7f7f\">NULL</span> │    <span style=\"color: #7f7f7f; text-decoration-color: #7f7f7f\">NULL</span> │    <span style=\"color: #7f7f7f; text-decoration-color: #7f7f7f\">NULL</span> │    <span style=\"color: #7f7f7f; text-decoration-color: #7f7f7f\">NULL</span> │    <span style=\"color: #7f7f7f; text-decoration-color: #7f7f7f\">NULL</span> │    <span style=\"color: #7f7f7f; text-decoration-color: #7f7f7f\">NULL</span> │    <span style=\"color: #7f7f7f; text-decoration-color: #7f7f7f\">NULL</span> │    <span style=\"color: #7f7f7f; text-decoration-color: #7f7f7f\">NULL</span> │    <span style=\"color: #7f7f7f; text-decoration-color: #7f7f7f\">NULL</span> │    <span style=\"color: #7f7f7f; text-decoration-color: #7f7f7f\">NULL</span> │    <span style=\"color: #7f7f7f; text-decoration-color: #7f7f7f\">NULL</span> │    <span style=\"color: #7f7f7f; text-decoration-color: #7f7f7f\">NULL</span> │    <span style=\"color: #7f7f7f; text-decoration-color: #7f7f7f\">NULL</span> │    <span style=\"color: #7f7f7f; text-decoration-color: #7f7f7f\">NULL</span> │    <span style=\"color: #7f7f7f; text-decoration-color: #7f7f7f\">NULL</span> │    <span style=\"color: #7f7f7f; text-decoration-color: #7f7f7f\">NULL</span> │    <span style=\"color: #7f7f7f; text-decoration-color: #7f7f7f\">NULL</span> │    <span style=\"color: #7f7f7f; text-decoration-color: #7f7f7f\">NULL</span> │    <span style=\"color: #7f7f7f; text-decoration-color: #7f7f7f\">NULL</span> │    <span style=\"color: #7f7f7f; text-decoration-color: #7f7f7f\">NULL</span> │    <span style=\"color: #7f7f7f; text-decoration-color: #7f7f7f\">NULL</span> │    <span style=\"color: #7f7f7f; text-decoration-color: #7f7f7f\">NULL</span> │    <span style=\"color: #7f7f7f; text-decoration-color: #7f7f7f\">NULL</span> │    <span style=\"color: #7f7f7f; text-decoration-color: #7f7f7f\">NULL</span> │    <span style=\"color: #7f7f7f; text-decoration-color: #7f7f7f\">NULL</span> │    <span style=\"color: #7f7f7f; text-decoration-color: #7f7f7f\">NULL</span> │    <span style=\"color: #7f7f7f; text-decoration-color: #7f7f7f\">NULL</span> │    <span style=\"color: #7f7f7f; text-decoration-color: #7f7f7f\">NULL</span> │    <span style=\"color: #7f7f7f; text-decoration-color: #7f7f7f\">NULL</span> │    <span style=\"color: #7f7f7f; text-decoration-color: #7f7f7f\">NULL</span> │    <span style=\"color: #7f7f7f; text-decoration-color: #7f7f7f\">NULL</span> │    <span style=\"color: #7f7f7f; text-decoration-color: #7f7f7f\">NULL</span> │    <span style=\"color: #7f7f7f; text-decoration-color: #7f7f7f\">NULL</span> │    <span style=\"color: #7f7f7f; text-decoration-color: #7f7f7f\">NULL</span> │    <span style=\"color: #7f7f7f; text-decoration-color: #7f7f7f\">NULL</span> │    <span style=\"color: #7f7f7f; text-decoration-color: #7f7f7f\">NULL</span> │    <span style=\"color: #008080; text-decoration-color: #008080; font-weight: bold\">97.2</span> │    <span style=\"color: #008080; text-decoration-color: #008080; font-weight: bold\">97.2</span> │    <span style=\"color: #008080; text-decoration-color: #008080; font-weight: bold\">97.0</span> │    <span style=\"color: #008080; text-decoration-color: #008080; font-weight: bold\">96.9</span> │    <span style=\"color: #008080; text-decoration-color: #008080; font-weight: bold\">96.9</span> │    <span style=\"color: #008080; text-decoration-color: #008080; font-weight: bold\">96.9</span> │    <span style=\"color: #008080; text-decoration-color: #008080; font-weight: bold\">96.8</span> │    <span style=\"color: #008080; text-decoration-color: #008080; font-weight: bold\">96.8</span> │    <span style=\"color: #008080; text-decoration-color: #008080; font-weight: bold\">96.7</span> │    <span style=\"color: #008080; text-decoration-color: #008080; font-weight: bold\">96.8</span> │    <span style=\"color: #008080; text-decoration-color: #008080; font-weight: bold\">96.7</span> │    <span style=\"color: #008080; text-decoration-color: #008080; font-weight: bold\">96.6</span> │    <span style=\"color: #008080; text-decoration-color: #008080; font-weight: bold\">96.8</span> │    <span style=\"color: #008080; text-decoration-color: #008080; font-weight: bold\">96.6</span> │    <span style=\"color: #008080; text-decoration-color: #008080; font-weight: bold\">96.6</span> │   <span style=\"color: #008080; text-decoration-color: #008080; font-weight: bold\">96.40</span> │    <span style=\"color: #008080; text-decoration-color: #008080; font-weight: bold\">96.2</span> │    <span style=\"color: #008080; text-decoration-color: #008080; font-weight: bold\">96.1</span> │    <span style=\"color: #008080; text-decoration-color: #008080; font-weight: bold\">95.9</span> │    <span style=\"color: #008080; text-decoration-color: #008080; font-weight: bold\">95.8</span> │    <span style=\"color: #008080; text-decoration-color: #008080; font-weight: bold\">95.5</span> │    <span style=\"color: #008080; text-decoration-color: #008080; font-weight: bold\">95.1</span> │    <span style=\"color: #008080; text-decoration-color: #008080; font-weight: bold\">95.0</span> │    <span style=\"color: #7f7f7f; text-decoration-color: #7f7f7f\">NULL</span> │\n",
       "│ <span style=\"color: #008000; text-decoration-color: #008000\">Venezuela, RB</span> │ <span style=\"color: #008000; text-decoration-color: #008000\">VEN         </span> │ <span style=\"color: #008000; text-decoration-color: #008000\">Access to clean fuels and technologies for cooking, rural (% of rural populatio…</span> │ <span style=\"color: #008000; text-decoration-color: #008000\">EG.CFT.ACCS.RU.ZS</span> │    <span style=\"color: #7f7f7f; text-decoration-color: #7f7f7f\">NULL</span> │    <span style=\"color: #7f7f7f; text-decoration-color: #7f7f7f\">NULL</span> │    <span style=\"color: #7f7f7f; text-decoration-color: #7f7f7f\">NULL</span> │    <span style=\"color: #7f7f7f; text-decoration-color: #7f7f7f\">NULL</span> │    <span style=\"color: #7f7f7f; text-decoration-color: #7f7f7f\">NULL</span> │    <span style=\"color: #7f7f7f; text-decoration-color: #7f7f7f\">NULL</span> │    <span style=\"color: #7f7f7f; text-decoration-color: #7f7f7f\">NULL</span> │    <span style=\"color: #7f7f7f; text-decoration-color: #7f7f7f\">NULL</span> │    <span style=\"color: #7f7f7f; text-decoration-color: #7f7f7f\">NULL</span> │    <span style=\"color: #7f7f7f; text-decoration-color: #7f7f7f\">NULL</span> │    <span style=\"color: #7f7f7f; text-decoration-color: #7f7f7f\">NULL</span> │    <span style=\"color: #7f7f7f; text-decoration-color: #7f7f7f\">NULL</span> │    <span style=\"color: #7f7f7f; text-decoration-color: #7f7f7f\">NULL</span> │    <span style=\"color: #7f7f7f; text-decoration-color: #7f7f7f\">NULL</span> │    <span style=\"color: #7f7f7f; text-decoration-color: #7f7f7f\">NULL</span> │    <span style=\"color: #7f7f7f; text-decoration-color: #7f7f7f\">NULL</span> │    <span style=\"color: #7f7f7f; text-decoration-color: #7f7f7f\">NULL</span> │    <span style=\"color: #7f7f7f; text-decoration-color: #7f7f7f\">NULL</span> │    <span style=\"color: #7f7f7f; text-decoration-color: #7f7f7f\">NULL</span> │    <span style=\"color: #7f7f7f; text-decoration-color: #7f7f7f\">NULL</span> │    <span style=\"color: #7f7f7f; text-decoration-color: #7f7f7f\">NULL</span> │    <span style=\"color: #7f7f7f; text-decoration-color: #7f7f7f\">NULL</span> │    <span style=\"color: #7f7f7f; text-decoration-color: #7f7f7f\">NULL</span> │    <span style=\"color: #7f7f7f; text-decoration-color: #7f7f7f\">NULL</span> │    <span style=\"color: #7f7f7f; text-decoration-color: #7f7f7f\">NULL</span> │    <span style=\"color: #7f7f7f; text-decoration-color: #7f7f7f\">NULL</span> │    <span style=\"color: #7f7f7f; text-decoration-color: #7f7f7f\">NULL</span> │    <span style=\"color: #7f7f7f; text-decoration-color: #7f7f7f\">NULL</span> │    <span style=\"color: #7f7f7f; text-decoration-color: #7f7f7f\">NULL</span> │    <span style=\"color: #7f7f7f; text-decoration-color: #7f7f7f\">NULL</span> │    <span style=\"color: #7f7f7f; text-decoration-color: #7f7f7f\">NULL</span> │    <span style=\"color: #7f7f7f; text-decoration-color: #7f7f7f\">NULL</span> │    <span style=\"color: #7f7f7f; text-decoration-color: #7f7f7f\">NULL</span> │    <span style=\"color: #7f7f7f; text-decoration-color: #7f7f7f\">NULL</span> │    <span style=\"color: #7f7f7f; text-decoration-color: #7f7f7f\">NULL</span> │    <span style=\"color: #7f7f7f; text-decoration-color: #7f7f7f\">NULL</span> │    <span style=\"color: #7f7f7f; text-decoration-color: #7f7f7f\">NULL</span> │    <span style=\"color: #7f7f7f; text-decoration-color: #7f7f7f\">NULL</span> │    <span style=\"color: #7f7f7f; text-decoration-color: #7f7f7f\">NULL</span> │    <span style=\"color: #7f7f7f; text-decoration-color: #7f7f7f\">NULL</span> │    <span style=\"color: #008080; text-decoration-color: #008080; font-weight: bold\">77.1</span> │    <span style=\"color: #008080; text-decoration-color: #008080; font-weight: bold\">76.5</span> │    <span style=\"color: #008080; text-decoration-color: #008080; font-weight: bold\">76.4</span> │    <span style=\"color: #008080; text-decoration-color: #008080; font-weight: bold\">76.0</span> │    <span style=\"color: #008080; text-decoration-color: #008080; font-weight: bold\">76.8</span> │    <span style=\"color: #008080; text-decoration-color: #008080; font-weight: bold\">76.6</span> │    <span style=\"color: #008080; text-decoration-color: #008080; font-weight: bold\">77.0</span> │    <span style=\"color: #008080; text-decoration-color: #008080; font-weight: bold\">77.8</span> │    <span style=\"color: #008080; text-decoration-color: #008080; font-weight: bold\">78.5</span> │    <span style=\"color: #008080; text-decoration-color: #008080; font-weight: bold\">79.2</span> │    <span style=\"color: #008080; text-decoration-color: #008080; font-weight: bold\">79.9</span> │    <span style=\"color: #008080; text-decoration-color: #008080; font-weight: bold\">80.6</span> │    <span style=\"color: #008080; text-decoration-color: #008080; font-weight: bold\">81.6</span> │    <span style=\"color: #008080; text-decoration-color: #008080; font-weight: bold\">82.3</span> │    <span style=\"color: #008080; text-decoration-color: #008080; font-weight: bold\">82.9</span> │   <span style=\"color: #008080; text-decoration-color: #008080; font-weight: bold\">83.55</span> │    <span style=\"color: #008080; text-decoration-color: #008080; font-weight: bold\">84.6</span> │    <span style=\"color: #008080; text-decoration-color: #008080; font-weight: bold\">84.8</span> │    <span style=\"color: #008080; text-decoration-color: #008080; font-weight: bold\">85.6</span> │    <span style=\"color: #008080; text-decoration-color: #008080; font-weight: bold\">86.0</span> │    <span style=\"color: #008080; text-decoration-color: #008080; font-weight: bold\">86.1</span> │    <span style=\"color: #008080; text-decoration-color: #008080; font-weight: bold\">86.5</span> │    <span style=\"color: #008080; text-decoration-color: #008080; font-weight: bold\">87.5</span> │    <span style=\"color: #7f7f7f; text-decoration-color: #7f7f7f\">NULL</span> │\n",
       "│ <span style=\"color: #008000; text-decoration-color: #008000\">Venezuela, RB</span> │ <span style=\"color: #008000; text-decoration-color: #008000\">VEN         </span> │ <span style=\"color: #008000; text-decoration-color: #008000\">Access to clean fuels and technologies for cooking, urban (% of urban populatio…</span> │ <span style=\"color: #008000; text-decoration-color: #008000\">EG.CFT.ACCS.UR.ZS</span> │    <span style=\"color: #7f7f7f; text-decoration-color: #7f7f7f\">NULL</span> │    <span style=\"color: #7f7f7f; text-decoration-color: #7f7f7f\">NULL</span> │    <span style=\"color: #7f7f7f; text-decoration-color: #7f7f7f\">NULL</span> │    <span style=\"color: #7f7f7f; text-decoration-color: #7f7f7f\">NULL</span> │    <span style=\"color: #7f7f7f; text-decoration-color: #7f7f7f\">NULL</span> │    <span style=\"color: #7f7f7f; text-decoration-color: #7f7f7f\">NULL</span> │    <span style=\"color: #7f7f7f; text-decoration-color: #7f7f7f\">NULL</span> │    <span style=\"color: #7f7f7f; text-decoration-color: #7f7f7f\">NULL</span> │    <span style=\"color: #7f7f7f; text-decoration-color: #7f7f7f\">NULL</span> │    <span style=\"color: #7f7f7f; text-decoration-color: #7f7f7f\">NULL</span> │    <span style=\"color: #7f7f7f; text-decoration-color: #7f7f7f\">NULL</span> │    <span style=\"color: #7f7f7f; text-decoration-color: #7f7f7f\">NULL</span> │    <span style=\"color: #7f7f7f; text-decoration-color: #7f7f7f\">NULL</span> │    <span style=\"color: #7f7f7f; text-decoration-color: #7f7f7f\">NULL</span> │    <span style=\"color: #7f7f7f; text-decoration-color: #7f7f7f\">NULL</span> │    <span style=\"color: #7f7f7f; text-decoration-color: #7f7f7f\">NULL</span> │    <span style=\"color: #7f7f7f; text-decoration-color: #7f7f7f\">NULL</span> │    <span style=\"color: #7f7f7f; text-decoration-color: #7f7f7f\">NULL</span> │    <span style=\"color: #7f7f7f; text-decoration-color: #7f7f7f\">NULL</span> │    <span style=\"color: #7f7f7f; text-decoration-color: #7f7f7f\">NULL</span> │    <span style=\"color: #7f7f7f; text-decoration-color: #7f7f7f\">NULL</span> │    <span style=\"color: #7f7f7f; text-decoration-color: #7f7f7f\">NULL</span> │    <span style=\"color: #7f7f7f; text-decoration-color: #7f7f7f\">NULL</span> │    <span style=\"color: #7f7f7f; text-decoration-color: #7f7f7f\">NULL</span> │    <span style=\"color: #7f7f7f; text-decoration-color: #7f7f7f\">NULL</span> │    <span style=\"color: #7f7f7f; text-decoration-color: #7f7f7f\">NULL</span> │    <span style=\"color: #7f7f7f; text-decoration-color: #7f7f7f\">NULL</span> │    <span style=\"color: #7f7f7f; text-decoration-color: #7f7f7f\">NULL</span> │    <span style=\"color: #7f7f7f; text-decoration-color: #7f7f7f\">NULL</span> │    <span style=\"color: #7f7f7f; text-decoration-color: #7f7f7f\">NULL</span> │    <span style=\"color: #7f7f7f; text-decoration-color: #7f7f7f\">NULL</span> │    <span style=\"color: #7f7f7f; text-decoration-color: #7f7f7f\">NULL</span> │    <span style=\"color: #7f7f7f; text-decoration-color: #7f7f7f\">NULL</span> │    <span style=\"color: #7f7f7f; text-decoration-color: #7f7f7f\">NULL</span> │    <span style=\"color: #7f7f7f; text-decoration-color: #7f7f7f\">NULL</span> │    <span style=\"color: #7f7f7f; text-decoration-color: #7f7f7f\">NULL</span> │    <span style=\"color: #7f7f7f; text-decoration-color: #7f7f7f\">NULL</span> │    <span style=\"color: #7f7f7f; text-decoration-color: #7f7f7f\">NULL</span> │    <span style=\"color: #7f7f7f; text-decoration-color: #7f7f7f\">NULL</span> │    <span style=\"color: #7f7f7f; text-decoration-color: #7f7f7f\">NULL</span> │    <span style=\"color: #008080; text-decoration-color: #008080; font-weight: bold\">99.5</span> │    <span style=\"color: #008080; text-decoration-color: #008080; font-weight: bold\">99.5</span> │    <span style=\"color: #008080; text-decoration-color: #008080; font-weight: bold\">99.4</span> │    <span style=\"color: #008080; text-decoration-color: #008080; font-weight: bold\">99.4</span> │    <span style=\"color: #008080; text-decoration-color: #008080; font-weight: bold\">99.3</span> │    <span style=\"color: #008080; text-decoration-color: #008080; font-weight: bold\">99.4</span> │    <span style=\"color: #008080; text-decoration-color: #008080; font-weight: bold\">99.3</span> │    <span style=\"color: #008080; text-decoration-color: #008080; font-weight: bold\">99.3</span> │    <span style=\"color: #008080; text-decoration-color: #008080; font-weight: bold\">99.2</span> │    <span style=\"color: #008080; text-decoration-color: #008080; font-weight: bold\">99.1</span> │    <span style=\"color: #008080; text-decoration-color: #008080; font-weight: bold\">99.0</span> │    <span style=\"color: #008080; text-decoration-color: #008080; font-weight: bold\">99.0</span> │    <span style=\"color: #008080; text-decoration-color: #008080; font-weight: bold\">98.9</span> │    <span style=\"color: #008080; text-decoration-color: #008080; font-weight: bold\">98.7</span> │    <span style=\"color: #008080; text-decoration-color: #008080; font-weight: bold\">98.6</span> │   <span style=\"color: #008080; text-decoration-color: #008080; font-weight: bold\">98.50</span> │    <span style=\"color: #008080; text-decoration-color: #008080; font-weight: bold\">98.4</span> │    <span style=\"color: #008080; text-decoration-color: #008080; font-weight: bold\">98.3</span> │    <span style=\"color: #008080; text-decoration-color: #008080; font-weight: bold\">98.0</span> │    <span style=\"color: #008080; text-decoration-color: #008080; font-weight: bold\">97.8</span> │    <span style=\"color: #008080; text-decoration-color: #008080; font-weight: bold\">97.7</span> │    <span style=\"color: #008080; text-decoration-color: #008080; font-weight: bold\">97.4</span> │    <span style=\"color: #008080; text-decoration-color: #008080; font-weight: bold\">97.3</span> │    <span style=\"color: #7f7f7f; text-decoration-color: #7f7f7f\">NULL</span> │\n",
       "└───────────────┴──────────────┴──────────────────────────────────────────────────────────────────────────────────┴───────────────────┴─────────┴─────────┴─────────┴─────────┴─────────┴─────────┴─────────┴─────────┴─────────┴─────────┴─────────┴─────────┴─────────┴─────────┴─────────┴─────────┴─────────┴─────────┴─────────┴─────────┴─────────┴─────────┴─────────┴─────────┴─────────┴─────────┴─────────┴─────────┴─────────┴─────────┴─────────┴─────────┴─────────┴─────────┴─────────┴─────────┴─────────┴─────────┴─────────┴─────────┴─────────┴─────────┴─────────┴─────────┴─────────┴─────────┴─────────┴─────────┴─────────┴─────────┴─────────┴─────────┴─────────┴─────────┴─────────┴─────────┴─────────┴─────────┴─────────┴─────────┴─────────┴─────────┴─────────┴─────────┘\n",
       "</pre>\n"
      ],
      "text/plain": [
       "┏━━━━━━━━━━━━━━━┳━━━━━━━━━━━━━━┳━━━━━━━━━━━━━━━━━━━━━━━━━━━━━━━━━━━━━━━━━━━━━━━━━━━━━━━━━━━━━━━━━━━━━━━━━━━━━━━━━━┳━━━━━━━━━━━━━━━━━━━┳━━━━━━━━━┳━━━━━━━━━┳━━━━━━━━━┳━━━━━━━━━┳━━━━━━━━━┳━━━━━━━━━┳━━━━━━━━━┳━━━━━━━━━┳━━━━━━━━━┳━━━━━━━━━┳━━━━━━━━━┳━━━━━━━━━┳━━━━━━━━━┳━━━━━━━━━┳━━━━━━━━━┳━━━━━━━━━┳━━━━━━━━━┳━━━━━━━━━┳━━━━━━━━━┳━━━━━━━━━┳━━━━━━━━━┳━━━━━━━━━┳━━━━━━━━━┳━━━━━━━━━┳━━━━━━━━━┳━━━━━━━━━┳━━━━━━━━━┳━━━━━━━━━┳━━━━━━━━━┳━━━━━━━━━┳━━━━━━━━━┳━━━━━━━━━┳━━━━━━━━━┳━━━━━━━━━┳━━━━━━━━━┳━━━━━━━━━┳━━━━━━━━━┳━━━━━━━━━┳━━━━━━━━━┳━━━━━━━━━┳━━━━━━━━━┳━━━━━━━━━┳━━━━━━━━━┳━━━━━━━━━┳━━━━━━━━━┳━━━━━━━━━┳━━━━━━━━━┳━━━━━━━━━┳━━━━━━━━━┳━━━━━━━━━┳━━━━━━━━━┳━━━━━━━━━┳━━━━━━━━━┳━━━━━━━━━┳━━━━━━━━━┳━━━━━━━━━┳━━━━━━━━━┳━━━━━━━━━┳━━━━━━━━━┳━━━━━━━━━┳━━━━━━━━━┳━━━━━━━━━┳━━━━━━━━━┳━━━━━━━━━┓\n",
       "┃\u001b[1m \u001b[0m\u001b[1mcountry_name\u001b[0m\u001b[1m \u001b[0m\u001b[1m \u001b[0m┃\u001b[1m \u001b[0m\u001b[1mcountry_code\u001b[0m\u001b[1m \u001b[0m┃\u001b[1m \u001b[0m\u001b[1mindicator_name\u001b[0m\u001b[1m                                                                  \u001b[0m\u001b[1m \u001b[0m┃\u001b[1m \u001b[0m\u001b[1mindicator_code\u001b[0m\u001b[1m   \u001b[0m\u001b[1m \u001b[0m┃\u001b[1m \u001b[0m\u001b[1m1960\u001b[0m\u001b[1m   \u001b[0m\u001b[1m \u001b[0m┃\u001b[1m \u001b[0m\u001b[1m1961\u001b[0m\u001b[1m   \u001b[0m\u001b[1m \u001b[0m┃\u001b[1m \u001b[0m\u001b[1m1962\u001b[0m\u001b[1m   \u001b[0m\u001b[1m \u001b[0m┃\u001b[1m \u001b[0m\u001b[1m1963\u001b[0m\u001b[1m   \u001b[0m\u001b[1m \u001b[0m┃\u001b[1m \u001b[0m\u001b[1m1964\u001b[0m\u001b[1m   \u001b[0m\u001b[1m \u001b[0m┃\u001b[1m \u001b[0m\u001b[1m1965\u001b[0m\u001b[1m   \u001b[0m\u001b[1m \u001b[0m┃\u001b[1m \u001b[0m\u001b[1m1966\u001b[0m\u001b[1m   \u001b[0m\u001b[1m \u001b[0m┃\u001b[1m \u001b[0m\u001b[1m1967\u001b[0m\u001b[1m   \u001b[0m\u001b[1m \u001b[0m┃\u001b[1m \u001b[0m\u001b[1m1968\u001b[0m\u001b[1m   \u001b[0m\u001b[1m \u001b[0m┃\u001b[1m \u001b[0m\u001b[1m1969\u001b[0m\u001b[1m   \u001b[0m\u001b[1m \u001b[0m┃\u001b[1m \u001b[0m\u001b[1m1970\u001b[0m\u001b[1m   \u001b[0m\u001b[1m \u001b[0m┃\u001b[1m \u001b[0m\u001b[1m1971\u001b[0m\u001b[1m   \u001b[0m\u001b[1m \u001b[0m┃\u001b[1m \u001b[0m\u001b[1m1972\u001b[0m\u001b[1m   \u001b[0m\u001b[1m \u001b[0m┃\u001b[1m \u001b[0m\u001b[1m1973\u001b[0m\u001b[1m   \u001b[0m\u001b[1m \u001b[0m┃\u001b[1m \u001b[0m\u001b[1m1974\u001b[0m\u001b[1m   \u001b[0m\u001b[1m \u001b[0m┃\u001b[1m \u001b[0m\u001b[1m1975\u001b[0m\u001b[1m   \u001b[0m\u001b[1m \u001b[0m┃\u001b[1m \u001b[0m\u001b[1m1976\u001b[0m\u001b[1m   \u001b[0m\u001b[1m \u001b[0m┃\u001b[1m \u001b[0m\u001b[1m1977\u001b[0m\u001b[1m   \u001b[0m\u001b[1m \u001b[0m┃\u001b[1m \u001b[0m\u001b[1m1978\u001b[0m\u001b[1m   \u001b[0m\u001b[1m \u001b[0m┃\u001b[1m \u001b[0m\u001b[1m1979\u001b[0m\u001b[1m   \u001b[0m\u001b[1m \u001b[0m┃\u001b[1m \u001b[0m\u001b[1m1980\u001b[0m\u001b[1m   \u001b[0m\u001b[1m \u001b[0m┃\u001b[1m \u001b[0m\u001b[1m1981\u001b[0m\u001b[1m   \u001b[0m\u001b[1m \u001b[0m┃\u001b[1m \u001b[0m\u001b[1m1982\u001b[0m\u001b[1m   \u001b[0m\u001b[1m \u001b[0m┃\u001b[1m \u001b[0m\u001b[1m1983\u001b[0m\u001b[1m   \u001b[0m\u001b[1m \u001b[0m┃\u001b[1m \u001b[0m\u001b[1m1984\u001b[0m\u001b[1m   \u001b[0m\u001b[1m \u001b[0m┃\u001b[1m \u001b[0m\u001b[1m1985\u001b[0m\u001b[1m   \u001b[0m\u001b[1m \u001b[0m┃\u001b[1m \u001b[0m\u001b[1m1986\u001b[0m\u001b[1m   \u001b[0m\u001b[1m \u001b[0m┃\u001b[1m \u001b[0m\u001b[1m1987\u001b[0m\u001b[1m   \u001b[0m\u001b[1m \u001b[0m┃\u001b[1m \u001b[0m\u001b[1m1988\u001b[0m\u001b[1m   \u001b[0m\u001b[1m \u001b[0m┃\u001b[1m \u001b[0m\u001b[1m1989\u001b[0m\u001b[1m   \u001b[0m\u001b[1m \u001b[0m┃\u001b[1m \u001b[0m\u001b[1m1990\u001b[0m\u001b[1m   \u001b[0m\u001b[1m \u001b[0m┃\u001b[1m \u001b[0m\u001b[1m1991\u001b[0m\u001b[1m   \u001b[0m\u001b[1m \u001b[0m┃\u001b[1m \u001b[0m\u001b[1m1992\u001b[0m\u001b[1m   \u001b[0m\u001b[1m \u001b[0m┃\u001b[1m \u001b[0m\u001b[1m1993\u001b[0m\u001b[1m   \u001b[0m\u001b[1m \u001b[0m┃\u001b[1m \u001b[0m\u001b[1m1994\u001b[0m\u001b[1m   \u001b[0m\u001b[1m \u001b[0m┃\u001b[1m \u001b[0m\u001b[1m1995\u001b[0m\u001b[1m   \u001b[0m\u001b[1m \u001b[0m┃\u001b[1m \u001b[0m\u001b[1m1996\u001b[0m\u001b[1m   \u001b[0m\u001b[1m \u001b[0m┃\u001b[1m \u001b[0m\u001b[1m1997\u001b[0m\u001b[1m   \u001b[0m\u001b[1m \u001b[0m┃\u001b[1m \u001b[0m\u001b[1m1998\u001b[0m\u001b[1m   \u001b[0m\u001b[1m \u001b[0m┃\u001b[1m \u001b[0m\u001b[1m1999\u001b[0m\u001b[1m   \u001b[0m\u001b[1m \u001b[0m┃\u001b[1m \u001b[0m\u001b[1m2000\u001b[0m\u001b[1m   \u001b[0m\u001b[1m \u001b[0m┃\u001b[1m \u001b[0m\u001b[1m2001\u001b[0m\u001b[1m   \u001b[0m\u001b[1m \u001b[0m┃\u001b[1m \u001b[0m\u001b[1m2002\u001b[0m\u001b[1m   \u001b[0m\u001b[1m \u001b[0m┃\u001b[1m \u001b[0m\u001b[1m2003\u001b[0m\u001b[1m   \u001b[0m\u001b[1m \u001b[0m┃\u001b[1m \u001b[0m\u001b[1m2004\u001b[0m\u001b[1m   \u001b[0m\u001b[1m \u001b[0m┃\u001b[1m \u001b[0m\u001b[1m2005\u001b[0m\u001b[1m   \u001b[0m\u001b[1m \u001b[0m┃\u001b[1m \u001b[0m\u001b[1m2006\u001b[0m\u001b[1m   \u001b[0m\u001b[1m \u001b[0m┃\u001b[1m \u001b[0m\u001b[1m2007\u001b[0m\u001b[1m   \u001b[0m\u001b[1m \u001b[0m┃\u001b[1m \u001b[0m\u001b[1m2008\u001b[0m\u001b[1m   \u001b[0m\u001b[1m \u001b[0m┃\u001b[1m \u001b[0m\u001b[1m2009\u001b[0m\u001b[1m   \u001b[0m\u001b[1m \u001b[0m┃\u001b[1m \u001b[0m\u001b[1m2010\u001b[0m\u001b[1m   \u001b[0m\u001b[1m \u001b[0m┃\u001b[1m \u001b[0m\u001b[1m2011\u001b[0m\u001b[1m   \u001b[0m\u001b[1m \u001b[0m┃\u001b[1m \u001b[0m\u001b[1m2012\u001b[0m\u001b[1m   \u001b[0m\u001b[1m \u001b[0m┃\u001b[1m \u001b[0m\u001b[1m2013\u001b[0m\u001b[1m   \u001b[0m\u001b[1m \u001b[0m┃\u001b[1m \u001b[0m\u001b[1m2014\u001b[0m\u001b[1m   \u001b[0m\u001b[1m \u001b[0m┃\u001b[1m \u001b[0m\u001b[1m2015\u001b[0m\u001b[1m   \u001b[0m\u001b[1m \u001b[0m┃\u001b[1m \u001b[0m\u001b[1m2016\u001b[0m\u001b[1m   \u001b[0m\u001b[1m \u001b[0m┃\u001b[1m \u001b[0m\u001b[1m2017\u001b[0m\u001b[1m   \u001b[0m\u001b[1m \u001b[0m┃\u001b[1m \u001b[0m\u001b[1m2018\u001b[0m\u001b[1m   \u001b[0m\u001b[1m \u001b[0m┃\u001b[1m \u001b[0m\u001b[1m2019\u001b[0m\u001b[1m   \u001b[0m\u001b[1m \u001b[0m┃\u001b[1m \u001b[0m\u001b[1m2020\u001b[0m\u001b[1m   \u001b[0m\u001b[1m \u001b[0m┃\u001b[1m \u001b[0m\u001b[1m2021\u001b[0m\u001b[1m   \u001b[0m\u001b[1m \u001b[0m┃\u001b[1m \u001b[0m\u001b[1m2022\u001b[0m\u001b[1m   \u001b[0m\u001b[1m \u001b[0m┃\u001b[1m \u001b[0m\u001b[1m2023\u001b[0m\u001b[1m   \u001b[0m\u001b[1m \u001b[0m┃\n",
       "┡━━━━━━━━━━━━━━━╇━━━━━━━━━━━━━━╇━━━━━━━━━━━━━━━━━━━━━━━━━━━━━━━━━━━━━━━━━━━━━━━━━━━━━━━━━━━━━━━━━━━━━━━━━━━━━━━━━━╇━━━━━━━━━━━━━━━━━━━╇━━━━━━━━━╇━━━━━━━━━╇━━━━━━━━━╇━━━━━━━━━╇━━━━━━━━━╇━━━━━━━━━╇━━━━━━━━━╇━━━━━━━━━╇━━━━━━━━━╇━━━━━━━━━╇━━━━━━━━━╇━━━━━━━━━╇━━━━━━━━━╇━━━━━━━━━╇━━━━━━━━━╇━━━━━━━━━╇━━━━━━━━━╇━━━━━━━━━╇━━━━━━━━━╇━━━━━━━━━╇━━━━━━━━━╇━━━━━━━━━╇━━━━━━━━━╇━━━━━━━━━╇━━━━━━━━━╇━━━━━━━━━╇━━━━━━━━━╇━━━━━━━━━╇━━━━━━━━━╇━━━━━━━━━╇━━━━━━━━━╇━━━━━━━━━╇━━━━━━━━━╇━━━━━━━━━╇━━━━━━━━━╇━━━━━━━━━╇━━━━━━━━━╇━━━━━━━━━╇━━━━━━━━━╇━━━━━━━━━╇━━━━━━━━━╇━━━━━━━━━╇━━━━━━━━━╇━━━━━━━━━╇━━━━━━━━━╇━━━━━━━━━╇━━━━━━━━━╇━━━━━━━━━╇━━━━━━━━━╇━━━━━━━━━╇━━━━━━━━━╇━━━━━━━━━╇━━━━━━━━━╇━━━━━━━━━╇━━━━━━━━━╇━━━━━━━━━╇━━━━━━━━━╇━━━━━━━━━╇━━━━━━━━━╇━━━━━━━━━╇━━━━━━━━━╇━━━━━━━━━╇━━━━━━━━━╇━━━━━━━━━┩\n",
       "│ \u001b[2mstring\u001b[0m        │ \u001b[2mstring\u001b[0m       │ \u001b[2mstring\u001b[0m                                                                           │ \u001b[2mstring\u001b[0m            │ \u001b[2mfloat64\u001b[0m │ \u001b[2mfloat64\u001b[0m │ \u001b[2mfloat64\u001b[0m │ \u001b[2mfloat64\u001b[0m │ \u001b[2mfloat64\u001b[0m │ \u001b[2mfloat64\u001b[0m │ \u001b[2mfloat64\u001b[0m │ \u001b[2mfloat64\u001b[0m │ \u001b[2mfloat64\u001b[0m │ \u001b[2mfloat64\u001b[0m │ \u001b[2mfloat64\u001b[0m │ \u001b[2mfloat64\u001b[0m │ \u001b[2mfloat64\u001b[0m │ \u001b[2mfloat64\u001b[0m │ \u001b[2mfloat64\u001b[0m │ \u001b[2mfloat64\u001b[0m │ \u001b[2mfloat64\u001b[0m │ \u001b[2mfloat64\u001b[0m │ \u001b[2mfloat64\u001b[0m │ \u001b[2mfloat64\u001b[0m │ \u001b[2mfloat64\u001b[0m │ \u001b[2mfloat64\u001b[0m │ \u001b[2mfloat64\u001b[0m │ \u001b[2mfloat64\u001b[0m │ \u001b[2mfloat64\u001b[0m │ \u001b[2mfloat64\u001b[0m │ \u001b[2mfloat64\u001b[0m │ \u001b[2mfloat64\u001b[0m │ \u001b[2mfloat64\u001b[0m │ \u001b[2mfloat64\u001b[0m │ \u001b[2mfloat64\u001b[0m │ \u001b[2mfloat64\u001b[0m │ \u001b[2mfloat64\u001b[0m │ \u001b[2mfloat64\u001b[0m │ \u001b[2mfloat64\u001b[0m │ \u001b[2mfloat64\u001b[0m │ \u001b[2mfloat64\u001b[0m │ \u001b[2mfloat64\u001b[0m │ \u001b[2mfloat64\u001b[0m │ \u001b[2mfloat64\u001b[0m │ \u001b[2mfloat64\u001b[0m │ \u001b[2mfloat64\u001b[0m │ \u001b[2mfloat64\u001b[0m │ \u001b[2mfloat64\u001b[0m │ \u001b[2mfloat64\u001b[0m │ \u001b[2mfloat64\u001b[0m │ \u001b[2mfloat64\u001b[0m │ \u001b[2mfloat64\u001b[0m │ \u001b[2mfloat64\u001b[0m │ \u001b[2mfloat64\u001b[0m │ \u001b[2mfloat64\u001b[0m │ \u001b[2mfloat64\u001b[0m │ \u001b[2mfloat64\u001b[0m │ \u001b[2mfloat64\u001b[0m │ \u001b[2mfloat64\u001b[0m │ \u001b[2mfloat64\u001b[0m │ \u001b[2mfloat64\u001b[0m │ \u001b[2mfloat64\u001b[0m │ \u001b[2mfloat64\u001b[0m │ \u001b[2mfloat64\u001b[0m │ \u001b[2mfloat64\u001b[0m │ \u001b[2mfloat64\u001b[0m │ \u001b[2mfloat64\u001b[0m │ \u001b[2mfloat64\u001b[0m │\n",
       "├───────────────┼──────────────┼──────────────────────────────────────────────────────────────────────────────────┼───────────────────┼─────────┼─────────┼─────────┼─────────┼─────────┼─────────┼─────────┼─────────┼─────────┼─────────┼─────────┼─────────┼─────────┼─────────┼─────────┼─────────┼─────────┼─────────┼─────────┼─────────┼─────────┼─────────┼─────────┼─────────┼─────────┼─────────┼─────────┼─────────┼─────────┼─────────┼─────────┼─────────┼─────────┼─────────┼─────────┼─────────┼─────────┼─────────┼─────────┼─────────┼─────────┼─────────┼─────────┼─────────┼─────────┼─────────┼─────────┼─────────┼─────────┼─────────┼─────────┼─────────┼─────────┼─────────┼─────────┼─────────┼─────────┼─────────┼─────────┼─────────┼─────────┼─────────┼─────────┼─────────┤\n",
       "│ \u001b[32mVenezuela, RB\u001b[0m │ \u001b[32mVEN         \u001b[0m │ \u001b[32mAccess to clean fuels and technologies for cooking (% of population)            \u001b[0m │ \u001b[32mEG.CFT.ACCS.ZS   \u001b[0m │    \u001b[2mNULL\u001b[0m │    \u001b[2mNULL\u001b[0m │    \u001b[2mNULL\u001b[0m │    \u001b[2mNULL\u001b[0m │    \u001b[2mNULL\u001b[0m │    \u001b[2mNULL\u001b[0m │    \u001b[2mNULL\u001b[0m │    \u001b[2mNULL\u001b[0m │    \u001b[2mNULL\u001b[0m │    \u001b[2mNULL\u001b[0m │    \u001b[2mNULL\u001b[0m │    \u001b[2mNULL\u001b[0m │    \u001b[2mNULL\u001b[0m │    \u001b[2mNULL\u001b[0m │    \u001b[2mNULL\u001b[0m │    \u001b[2mNULL\u001b[0m │    \u001b[2mNULL\u001b[0m │    \u001b[2mNULL\u001b[0m │    \u001b[2mNULL\u001b[0m │    \u001b[2mNULL\u001b[0m │    \u001b[2mNULL\u001b[0m │    \u001b[2mNULL\u001b[0m │    \u001b[2mNULL\u001b[0m │    \u001b[2mNULL\u001b[0m │    \u001b[2mNULL\u001b[0m │    \u001b[2mNULL\u001b[0m │    \u001b[2mNULL\u001b[0m │    \u001b[2mNULL\u001b[0m │    \u001b[2mNULL\u001b[0m │    \u001b[2mNULL\u001b[0m │    \u001b[2mNULL\u001b[0m │    \u001b[2mNULL\u001b[0m │    \u001b[2mNULL\u001b[0m │    \u001b[2mNULL\u001b[0m │    \u001b[2mNULL\u001b[0m │    \u001b[2mNULL\u001b[0m │    \u001b[2mNULL\u001b[0m │    \u001b[2mNULL\u001b[0m │    \u001b[2mNULL\u001b[0m │    \u001b[2mNULL\u001b[0m │    \u001b[1;36m97.2\u001b[0m │    \u001b[1;36m97.2\u001b[0m │    \u001b[1;36m97.0\u001b[0m │    \u001b[1;36m96.9\u001b[0m │    \u001b[1;36m96.9\u001b[0m │    \u001b[1;36m96.9\u001b[0m │    \u001b[1;36m96.8\u001b[0m │    \u001b[1;36m96.8\u001b[0m │    \u001b[1;36m96.7\u001b[0m │    \u001b[1;36m96.8\u001b[0m │    \u001b[1;36m96.7\u001b[0m │    \u001b[1;36m96.6\u001b[0m │    \u001b[1;36m96.8\u001b[0m │    \u001b[1;36m96.6\u001b[0m │    \u001b[1;36m96.6\u001b[0m │   \u001b[1;36m96.40\u001b[0m │    \u001b[1;36m96.2\u001b[0m │    \u001b[1;36m96.1\u001b[0m │    \u001b[1;36m95.9\u001b[0m │    \u001b[1;36m95.8\u001b[0m │    \u001b[1;36m95.5\u001b[0m │    \u001b[1;36m95.1\u001b[0m │    \u001b[1;36m95.0\u001b[0m │    \u001b[2mNULL\u001b[0m │\n",
       "│ \u001b[32mVenezuela, RB\u001b[0m │ \u001b[32mVEN         \u001b[0m │ \u001b[32mAccess to clean fuels and technologies for cooking, rural (% of rural populatio…\u001b[0m │ \u001b[32mEG.CFT.ACCS.RU.ZS\u001b[0m │    \u001b[2mNULL\u001b[0m │    \u001b[2mNULL\u001b[0m │    \u001b[2mNULL\u001b[0m │    \u001b[2mNULL\u001b[0m │    \u001b[2mNULL\u001b[0m │    \u001b[2mNULL\u001b[0m │    \u001b[2mNULL\u001b[0m │    \u001b[2mNULL\u001b[0m │    \u001b[2mNULL\u001b[0m │    \u001b[2mNULL\u001b[0m │    \u001b[2mNULL\u001b[0m │    \u001b[2mNULL\u001b[0m │    \u001b[2mNULL\u001b[0m │    \u001b[2mNULL\u001b[0m │    \u001b[2mNULL\u001b[0m │    \u001b[2mNULL\u001b[0m │    \u001b[2mNULL\u001b[0m │    \u001b[2mNULL\u001b[0m │    \u001b[2mNULL\u001b[0m │    \u001b[2mNULL\u001b[0m │    \u001b[2mNULL\u001b[0m │    \u001b[2mNULL\u001b[0m │    \u001b[2mNULL\u001b[0m │    \u001b[2mNULL\u001b[0m │    \u001b[2mNULL\u001b[0m │    \u001b[2mNULL\u001b[0m │    \u001b[2mNULL\u001b[0m │    \u001b[2mNULL\u001b[0m │    \u001b[2mNULL\u001b[0m │    \u001b[2mNULL\u001b[0m │    \u001b[2mNULL\u001b[0m │    \u001b[2mNULL\u001b[0m │    \u001b[2mNULL\u001b[0m │    \u001b[2mNULL\u001b[0m │    \u001b[2mNULL\u001b[0m │    \u001b[2mNULL\u001b[0m │    \u001b[2mNULL\u001b[0m │    \u001b[2mNULL\u001b[0m │    \u001b[2mNULL\u001b[0m │    \u001b[2mNULL\u001b[0m │    \u001b[1;36m77.1\u001b[0m │    \u001b[1;36m76.5\u001b[0m │    \u001b[1;36m76.4\u001b[0m │    \u001b[1;36m76.0\u001b[0m │    \u001b[1;36m76.8\u001b[0m │    \u001b[1;36m76.6\u001b[0m │    \u001b[1;36m77.0\u001b[0m │    \u001b[1;36m77.8\u001b[0m │    \u001b[1;36m78.5\u001b[0m │    \u001b[1;36m79.2\u001b[0m │    \u001b[1;36m79.9\u001b[0m │    \u001b[1;36m80.6\u001b[0m │    \u001b[1;36m81.6\u001b[0m │    \u001b[1;36m82.3\u001b[0m │    \u001b[1;36m82.9\u001b[0m │   \u001b[1;36m83.55\u001b[0m │    \u001b[1;36m84.6\u001b[0m │    \u001b[1;36m84.8\u001b[0m │    \u001b[1;36m85.6\u001b[0m │    \u001b[1;36m86.0\u001b[0m │    \u001b[1;36m86.1\u001b[0m │    \u001b[1;36m86.5\u001b[0m │    \u001b[1;36m87.5\u001b[0m │    \u001b[2mNULL\u001b[0m │\n",
       "│ \u001b[32mVenezuela, RB\u001b[0m │ \u001b[32mVEN         \u001b[0m │ \u001b[32mAccess to clean fuels and technologies for cooking, urban (% of urban populatio…\u001b[0m │ \u001b[32mEG.CFT.ACCS.UR.ZS\u001b[0m │    \u001b[2mNULL\u001b[0m │    \u001b[2mNULL\u001b[0m │    \u001b[2mNULL\u001b[0m │    \u001b[2mNULL\u001b[0m │    \u001b[2mNULL\u001b[0m │    \u001b[2mNULL\u001b[0m │    \u001b[2mNULL\u001b[0m │    \u001b[2mNULL\u001b[0m │    \u001b[2mNULL\u001b[0m │    \u001b[2mNULL\u001b[0m │    \u001b[2mNULL\u001b[0m │    \u001b[2mNULL\u001b[0m │    \u001b[2mNULL\u001b[0m │    \u001b[2mNULL\u001b[0m │    \u001b[2mNULL\u001b[0m │    \u001b[2mNULL\u001b[0m │    \u001b[2mNULL\u001b[0m │    \u001b[2mNULL\u001b[0m │    \u001b[2mNULL\u001b[0m │    \u001b[2mNULL\u001b[0m │    \u001b[2mNULL\u001b[0m │    \u001b[2mNULL\u001b[0m │    \u001b[2mNULL\u001b[0m │    \u001b[2mNULL\u001b[0m │    \u001b[2mNULL\u001b[0m │    \u001b[2mNULL\u001b[0m │    \u001b[2mNULL\u001b[0m │    \u001b[2mNULL\u001b[0m │    \u001b[2mNULL\u001b[0m │    \u001b[2mNULL\u001b[0m │    \u001b[2mNULL\u001b[0m │    \u001b[2mNULL\u001b[0m │    \u001b[2mNULL\u001b[0m │    \u001b[2mNULL\u001b[0m │    \u001b[2mNULL\u001b[0m │    \u001b[2mNULL\u001b[0m │    \u001b[2mNULL\u001b[0m │    \u001b[2mNULL\u001b[0m │    \u001b[2mNULL\u001b[0m │    \u001b[2mNULL\u001b[0m │    \u001b[1;36m99.5\u001b[0m │    \u001b[1;36m99.5\u001b[0m │    \u001b[1;36m99.4\u001b[0m │    \u001b[1;36m99.4\u001b[0m │    \u001b[1;36m99.3\u001b[0m │    \u001b[1;36m99.4\u001b[0m │    \u001b[1;36m99.3\u001b[0m │    \u001b[1;36m99.3\u001b[0m │    \u001b[1;36m99.2\u001b[0m │    \u001b[1;36m99.1\u001b[0m │    \u001b[1;36m99.0\u001b[0m │    \u001b[1;36m99.0\u001b[0m │    \u001b[1;36m98.9\u001b[0m │    \u001b[1;36m98.7\u001b[0m │    \u001b[1;36m98.6\u001b[0m │   \u001b[1;36m98.50\u001b[0m │    \u001b[1;36m98.4\u001b[0m │    \u001b[1;36m98.3\u001b[0m │    \u001b[1;36m98.0\u001b[0m │    \u001b[1;36m97.8\u001b[0m │    \u001b[1;36m97.7\u001b[0m │    \u001b[1;36m97.4\u001b[0m │    \u001b[1;36m97.3\u001b[0m │    \u001b[2mNULL\u001b[0m │\n",
       "└───────────────┴──────────────┴──────────────────────────────────────────────────────────────────────────────────┴───────────────────┴─────────┴─────────┴─────────┴─────────┴─────────┴─────────┴─────────┴─────────┴─────────┴─────────┴─────────┴─────────┴─────────┴─────────┴─────────┴─────────┴─────────┴─────────┴─────────┴─────────┴─────────┴─────────┴─────────┴─────────┴─────────┴─────────┴─────────┴─────────┴─────────┴─────────┴─────────┴─────────┴─────────┴─────────┴─────────┴─────────┴─────────┴─────────┴─────────┴─────────┴─────────┴─────────┴─────────┴─────────┴─────────┴─────────┴─────────┴─────────┴─────────┴─────────┴─────────┴─────────┴─────────┴─────────┴─────────┴─────────┴─────────┴─────────┴─────────┴─────────┴─────────┴─────────┴─────────┴─────────┘"
      ]
     },
     "execution_count": 24,
     "metadata": {},
     "output_type": "execute_result"
    }
   ],
   "source": [
    "wdi.filter(_.country_code==\"VEN\").head(3)"
   ]
  },
  {
   "cell_type": "markdown",
   "metadata": {},
   "source": [
    "## Country representation"
   ]
  },
  {
   "cell_type": "code",
   "execution_count": 25,
   "metadata": {},
   "outputs": [],
   "source": [
    "# in dose, there is an uneven representation of regions from one year to another.\n",
    "# using boundaries as the baseline to how many sub national entities should be in a country \n",
    "boundary_sizes = boundaries.gid_0.value_counts() #.execute().set_index(\"gid_0\")"
   ]
  },
  {
   "cell_type": "code",
   "execution_count": 26,
   "metadata": {},
   "outputs": [],
   "source": [
    "dose_representation = (\n",
    "    dose\n",
    "    .filter(_.year==str(year))\n",
    "    .gid_0\n",
    "    .value_counts()\n",
    ")"
   ]
  },
  {
   "cell_type": "code",
   "execution_count": 27,
   "metadata": {},
   "outputs": [],
   "source": [
    "bound_complete = (\n",
    "    boundary_sizes\n",
    "    .join(dose_representation,\n",
    "           how=\"left\",\n",
    "           lname=\"{name}_bound\",\n",
    "           rname = \"{name}_dose\",\n",
    "           predicates=\"gid_0\",)\n",
    "    .mutate(repr_frac=_.gid_0_count_dose/_.gid_0_count_bound)\n",
    "    .fill_null({\"gid_0_count_dose\" : 0})\n",
    ")"
   ]
  },
  {
   "cell_type": "code",
   "execution_count": 28,
   "metadata": {},
   "outputs": [
    {
     "data": {
      "text/html": [
       "<pre style=\"white-space:pre;overflow-x:auto;line-height:normal;font-family:Menlo,'DejaVu Sans Mono',consolas,'Courier New',monospace\"></pre>\n"
      ],
      "text/plain": []
     },
     "metadata": {},
     "output_type": "display_data"
    },
    {
     "data": {
      "text/plain": [
       "┌─────┐\n",
       "│ \u001b[1;36m228\u001b[0m │\n",
       "└─────┘"
      ]
     },
     "execution_count": 28,
     "metadata": {},
     "output_type": "execute_result"
    }
   ],
   "source": [
    "bound_complete.count()"
   ]
  },
  {
   "cell_type": "code",
   "execution_count": 29,
   "metadata": {},
   "outputs": [
    {
     "data": {
      "text/html": [
       "<pre style=\"white-space:pre;overflow-x:auto;line-height:normal;font-family:Menlo,'DejaVu Sans Mono',consolas,'Courier New',monospace\">┏━━━━━━━━━━━━━┳━━━━━━━━━━━━━━━━━━━┳━━━━━━━━━━━━┳━━━━━━━━━━━━━━━━━━┳━━━━━━━━━━━┓\n",
       "┃<span style=\"font-weight: bold\"> gid_0_bound </span>┃<span style=\"font-weight: bold\"> gid_0_count_bound </span>┃<span style=\"font-weight: bold\"> gid_0_dose </span>┃<span style=\"font-weight: bold\"> gid_0_count_dose </span>┃<span style=\"font-weight: bold\"> repr_frac </span>┃\n",
       "┡━━━━━━━━━━━━━╇━━━━━━━━━━━━━━━━━━━╇━━━━━━━━━━━━╇━━━━━━━━━━━━━━━━━━╇━━━━━━━━━━━┩\n",
       "│ <span style=\"color: #7f7f7f; text-decoration-color: #7f7f7f\">string</span>      │ <span style=\"color: #7f7f7f; text-decoration-color: #7f7f7f\">int64</span>             │ <span style=\"color: #7f7f7f; text-decoration-color: #7f7f7f\">string</span>     │ <span style=\"color: #7f7f7f; text-decoration-color: #7f7f7f\">int64</span>            │ <span style=\"color: #7f7f7f; text-decoration-color: #7f7f7f\">float64</span>   │\n",
       "├─────────────┼───────────────────┼────────────┼──────────────────┼───────────┤\n",
       "│ <span style=\"color: #008000; text-decoration-color: #008000\">AZE        </span> │                <span style=\"color: #008080; text-decoration-color: #008080; font-weight: bold\">10</span> │ <span style=\"color: #008000; text-decoration-color: #008000\">AZE       </span> │               <span style=\"color: #008080; text-decoration-color: #008080; font-weight: bold\">10</span> │  <span style=\"color: #008080; text-decoration-color: #008080; font-weight: bold\">1.000000</span> │\n",
       "│ <span style=\"color: #008000; text-decoration-color: #008000\">BEL        </span> │                 <span style=\"color: #008080; text-decoration-color: #008080; font-weight: bold\">3</span> │ <span style=\"color: #008000; text-decoration-color: #008000\">BEL       </span> │                <span style=\"color: #008080; text-decoration-color: #008080; font-weight: bold\">3</span> │  <span style=\"color: #008080; text-decoration-color: #008080; font-weight: bold\">1.000000</span> │\n",
       "│ <span style=\"color: #008000; text-decoration-color: #008000\">CHL        </span> │                <span style=\"color: #008080; text-decoration-color: #008080; font-weight: bold\">16</span> │ <span style=\"color: #008000; text-decoration-color: #008000\">CHL       </span> │               <span style=\"color: #008080; text-decoration-color: #008080; font-weight: bold\">15</span> │  <span style=\"color: #008080; text-decoration-color: #008080; font-weight: bold\">0.937500</span> │\n",
       "│ <span style=\"color: #008000; text-decoration-color: #008000\">CHN        </span> │                <span style=\"color: #008080; text-decoration-color: #008080; font-weight: bold\">31</span> │ <span style=\"color: #008000; text-decoration-color: #008000\">CHN       </span> │               <span style=\"color: #008080; text-decoration-color: #008080; font-weight: bold\">31</span> │  <span style=\"color: #008080; text-decoration-color: #008080; font-weight: bold\">1.000000</span> │\n",
       "│ <span style=\"color: #008000; text-decoration-color: #008000\">NLD        </span> │                <span style=\"color: #008080; text-decoration-color: #008080; font-weight: bold\">14</span> │ <span style=\"color: #008000; text-decoration-color: #008000\">NLD       </span> │               <span style=\"color: #008080; text-decoration-color: #008080; font-weight: bold\">12</span> │  <span style=\"color: #008080; text-decoration-color: #008080; font-weight: bold\">0.857143</span> │\n",
       "│ <span style=\"color: #008000; text-decoration-color: #008000\">PRY        </span> │                <span style=\"color: #008080; text-decoration-color: #008080; font-weight: bold\">18</span> │ <span style=\"color: #008000; text-decoration-color: #008000\">PRY       </span> │               <span style=\"color: #008080; text-decoration-color: #008080; font-weight: bold\">17</span> │  <span style=\"color: #008080; text-decoration-color: #008080; font-weight: bold\">0.944444</span> │\n",
       "│ <span style=\"color: #008000; text-decoration-color: #008000\">SWE        </span> │                <span style=\"color: #008080; text-decoration-color: #008080; font-weight: bold\">21</span> │ <span style=\"color: #008000; text-decoration-color: #008000\">SWE       </span> │               <span style=\"color: #008080; text-decoration-color: #008080; font-weight: bold\">21</span> │  <span style=\"color: #008080; text-decoration-color: #008080; font-weight: bold\">1.000000</span> │\n",
       "│ <span style=\"color: #008000; text-decoration-color: #008000\">MNG        </span> │                <span style=\"color: #008080; text-decoration-color: #008080; font-weight: bold\">22</span> │ <span style=\"color: #008000; text-decoration-color: #008000\">MNG       </span> │               <span style=\"color: #008080; text-decoration-color: #008080; font-weight: bold\">22</span> │  <span style=\"color: #008080; text-decoration-color: #008080; font-weight: bold\">1.000000</span> │\n",
       "│ <span style=\"color: #008000; text-decoration-color: #008000\">PHL        </span> │                <span style=\"color: #008080; text-decoration-color: #008080; font-weight: bold\">81</span> │ <span style=\"color: #008000; text-decoration-color: #008000\">PHL       </span> │               <span style=\"color: #008080; text-decoration-color: #008080; font-weight: bold\">17</span> │  <span style=\"color: #008080; text-decoration-color: #008080; font-weight: bold\">0.209877</span> │\n",
       "│ <span style=\"color: #008000; text-decoration-color: #008000\">PRT        </span> │                <span style=\"color: #008080; text-decoration-color: #008080; font-weight: bold\">20</span> │ <span style=\"color: #008000; text-decoration-color: #008000\">PRT       </span> │               <span style=\"color: #008080; text-decoration-color: #008080; font-weight: bold\">20</span> │  <span style=\"color: #008080; text-decoration-color: #008080; font-weight: bold\">1.000000</span> │\n",
       "└─────────────┴───────────────────┴────────────┴──────────────────┴───────────┘\n",
       "</pre>\n"
      ],
      "text/plain": [
       "┏━━━━━━━━━━━━━┳━━━━━━━━━━━━━━━━━━━┳━━━━━━━━━━━━┳━━━━━━━━━━━━━━━━━━┳━━━━━━━━━━━┓\n",
       "┃\u001b[1m \u001b[0m\u001b[1mgid_0_bound\u001b[0m\u001b[1m \u001b[0m┃\u001b[1m \u001b[0m\u001b[1mgid_0_count_bound\u001b[0m\u001b[1m \u001b[0m┃\u001b[1m \u001b[0m\u001b[1mgid_0_dose\u001b[0m\u001b[1m \u001b[0m┃\u001b[1m \u001b[0m\u001b[1mgid_0_count_dose\u001b[0m\u001b[1m \u001b[0m┃\u001b[1m \u001b[0m\u001b[1mrepr_frac\u001b[0m\u001b[1m \u001b[0m┃\n",
       "┡━━━━━━━━━━━━━╇━━━━━━━━━━━━━━━━━━━╇━━━━━━━━━━━━╇━━━━━━━━━━━━━━━━━━╇━━━━━━━━━━━┩\n",
       "│ \u001b[2mstring\u001b[0m      │ \u001b[2mint64\u001b[0m             │ \u001b[2mstring\u001b[0m     │ \u001b[2mint64\u001b[0m            │ \u001b[2mfloat64\u001b[0m   │\n",
       "├─────────────┼───────────────────┼────────────┼──────────────────┼───────────┤\n",
       "│ \u001b[32mAZE        \u001b[0m │                \u001b[1;36m10\u001b[0m │ \u001b[32mAZE       \u001b[0m │               \u001b[1;36m10\u001b[0m │  \u001b[1;36m1.000000\u001b[0m │\n",
       "│ \u001b[32mBEL        \u001b[0m │                 \u001b[1;36m3\u001b[0m │ \u001b[32mBEL       \u001b[0m │                \u001b[1;36m3\u001b[0m │  \u001b[1;36m1.000000\u001b[0m │\n",
       "│ \u001b[32mCHL        \u001b[0m │                \u001b[1;36m16\u001b[0m │ \u001b[32mCHL       \u001b[0m │               \u001b[1;36m15\u001b[0m │  \u001b[1;36m0.937500\u001b[0m │\n",
       "│ \u001b[32mCHN        \u001b[0m │                \u001b[1;36m31\u001b[0m │ \u001b[32mCHN       \u001b[0m │               \u001b[1;36m31\u001b[0m │  \u001b[1;36m1.000000\u001b[0m │\n",
       "│ \u001b[32mNLD        \u001b[0m │                \u001b[1;36m14\u001b[0m │ \u001b[32mNLD       \u001b[0m │               \u001b[1;36m12\u001b[0m │  \u001b[1;36m0.857143\u001b[0m │\n",
       "│ \u001b[32mPRY        \u001b[0m │                \u001b[1;36m18\u001b[0m │ \u001b[32mPRY       \u001b[0m │               \u001b[1;36m17\u001b[0m │  \u001b[1;36m0.944444\u001b[0m │\n",
       "│ \u001b[32mSWE        \u001b[0m │                \u001b[1;36m21\u001b[0m │ \u001b[32mSWE       \u001b[0m │               \u001b[1;36m21\u001b[0m │  \u001b[1;36m1.000000\u001b[0m │\n",
       "│ \u001b[32mMNG        \u001b[0m │                \u001b[1;36m22\u001b[0m │ \u001b[32mMNG       \u001b[0m │               \u001b[1;36m22\u001b[0m │  \u001b[1;36m1.000000\u001b[0m │\n",
       "│ \u001b[32mPHL        \u001b[0m │                \u001b[1;36m81\u001b[0m │ \u001b[32mPHL       \u001b[0m │               \u001b[1;36m17\u001b[0m │  \u001b[1;36m0.209877\u001b[0m │\n",
       "│ \u001b[32mPRT        \u001b[0m │                \u001b[1;36m20\u001b[0m │ \u001b[32mPRT       \u001b[0m │               \u001b[1;36m20\u001b[0m │  \u001b[1;36m1.000000\u001b[0m │\n",
       "└─────────────┴───────────────────┴────────────┴──────────────────┴───────────┘"
      ]
     },
     "execution_count": 29,
     "metadata": {},
     "output_type": "execute_result"
    }
   ],
   "source": [
    "bound_complete.head(10)"
   ]
  },
  {
   "cell_type": "code",
   "execution_count": 30,
   "metadata": {},
   "outputs": [],
   "source": [
    "bound_complete_df = bound_complete.execute()"
   ]
  },
  {
   "cell_type": "code",
   "execution_count": 31,
   "metadata": {},
   "outputs": [
    {
     "data": {
      "text/plain": [
       "26"
      ]
     },
     "execution_count": 31,
     "metadata": {},
     "output_type": "execute_result"
    }
   ],
   "source": [
    "# missing values are dropped here when executing, leaving only the indices of countries that are in both but the representation is less than 1\n",
    "incomplete_countries_year = bound_complete.filter(_.repr_frac<1).gid_0_bound.execute().to_list()\n",
    "\n",
    "# this means that for the selected year there are the following number of incomplete countries in DOSE.\n",
    "len(incomplete_countries_year)"
   ]
  },
  {
   "cell_type": "code",
   "execution_count": 32,
   "metadata": {},
   "outputs": [
    {
     "data": {
      "text/plain": [
       "['ARG', 'BHS', 'IND', 'MKD', 'GEO']"
      ]
     },
     "execution_count": 32,
     "metadata": {},
     "output_type": "execute_result"
    }
   ],
   "source": [
    "incomplete_countries_year[0:5]"
   ]
  },
  {
   "cell_type": "code",
   "execution_count": 33,
   "metadata": {},
   "outputs": [],
   "source": [
    "missing_countries_year = bound_complete.filter(_.gid_0_count_dose==0).gid_0_bound.execute().to_list()"
   ]
  },
  {
   "cell_type": "code",
   "execution_count": 34,
   "metadata": {},
   "outputs": [
    {
     "data": {
      "text/plain": [
       "154"
      ]
     },
     "execution_count": 34,
     "metadata": {},
     "output_type": "execute_result"
    }
   ],
   "source": [
    "len(missing_countries_year)"
   ]
  },
  {
   "cell_type": "code",
   "execution_count": 35,
   "metadata": {},
   "outputs": [
    {
     "data": {
      "text/plain": [
       "['VCT', 'PRI', 'PAK', 'WSM', 'XAD']"
      ]
     },
     "execution_count": 35,
     "metadata": {},
     "output_type": "execute_result"
    }
   ],
   "source": [
    "missing_countries_year[0:5]"
   ]
  },
  {
   "cell_type": "markdown",
   "metadata": {},
   "source": [
    "## Missing regions\n",
    "Determining the missing regions from DOSE using the 3 letter country codes compared to the equivalent variable in WDI indicators"
   ]
  },
  {
   "cell_type": "code",
   "execution_count": 36,
   "metadata": {},
   "outputs": [],
   "source": [
    "# # dose.filter(_.country==\"Nigeria\").count()\n",
    "# boundaries.filter(_.name_0==\"Ethiopia\")"
   ]
  },
  {
   "cell_type": "code",
   "execution_count": 37,
   "metadata": {},
   "outputs": [],
   "source": [
    "dose_regions = (\n",
    "    dose\n",
    "    .filter(_.year==str(year))\n",
    "    .gid_1\n",
    "    .execute()\n",
    "    .unique()\n",
    "    .tolist()\n",
    ")"
   ]
  },
  {
   "cell_type": "code",
   "execution_count": 38,
   "metadata": {},
   "outputs": [
    {
     "data": {
      "text/plain": [
       "['ALB.1_1', 'ALB.2_1', 'ALB.3_1', 'ALB.4_1', 'ALB.5_1']"
      ]
     },
     "execution_count": 38,
     "metadata": {},
     "output_type": "execute_result"
    }
   ],
   "source": [
    "dose_regions[0:5]"
   ]
  },
  {
   "cell_type": "code",
   "execution_count": 39,
   "metadata": {},
   "outputs": [
    {
     "data": {
      "text/plain": [
       "1548"
      ]
     },
     "execution_count": 39,
     "metadata": {},
     "output_type": "execute_result"
    }
   ],
   "source": [
    "len(dose_regions)"
   ]
  },
  {
   "cell_type": "code",
   "execution_count": 40,
   "metadata": {},
   "outputs": [],
   "source": [
    "bound_regions = (\n",
    "    boundaries\n",
    "    # .filter(~_.gid_1.isin(dose_regions))\n",
    "    .gid_1\n",
    "    .execute()\n",
    "    .tolist()\n",
    ")"
   ]
  },
  {
   "cell_type": "code",
   "execution_count": 41,
   "metadata": {},
   "outputs": [],
   "source": [
    "missing_regions = [x for x in bound_regions if x not in dose_regions]"
   ]
  },
  {
   "cell_type": "code",
   "execution_count": 42,
   "metadata": {
    "tags": [
     "rm_cell"
    ]
   },
   "outputs": [
    {
     "data": {
      "text/plain": [
       "2111"
      ]
     },
     "execution_count": 42,
     "metadata": {},
     "output_type": "execute_result"
    }
   ],
   "source": [
    "len(missing_regions)"
   ]
  },
  {
   "cell_type": "code",
   "execution_count": 43,
   "metadata": {},
   "outputs": [],
   "source": [
    "full_missing_regions_df = pd.DataFrame([x.split(\".\") for x in missing_regions],columns=[\"country\",\"region\"])"
   ]
  },
  {
   "cell_type": "code",
   "execution_count": 44,
   "metadata": {},
   "outputs": [
    {
     "data": {
      "text/html": [
       "<div>\n",
       "<style scoped>\n",
       "    .dataframe tbody tr th:only-of-type {\n",
       "        vertical-align: middle;\n",
       "    }\n",
       "\n",
       "    .dataframe tbody tr th {\n",
       "        vertical-align: top;\n",
       "    }\n",
       "\n",
       "    .dataframe thead th {\n",
       "        text-align: right;\n",
       "    }\n",
       "</style>\n",
       "<table border=\"1\" class=\"dataframe\">\n",
       "  <thead>\n",
       "    <tr style=\"text-align: right;\">\n",
       "      <th></th>\n",
       "      <th>country</th>\n",
       "      <th>region</th>\n",
       "    </tr>\n",
       "  </thead>\n",
       "  <tbody>\n",
       "    <tr>\n",
       "      <th>0</th>\n",
       "      <td>AFG</td>\n",
       "      <td>1_1</td>\n",
       "    </tr>\n",
       "    <tr>\n",
       "      <th>1</th>\n",
       "      <td>AFG</td>\n",
       "      <td>2_1</td>\n",
       "    </tr>\n",
       "    <tr>\n",
       "      <th>2</th>\n",
       "      <td>AFG</td>\n",
       "      <td>3_1</td>\n",
       "    </tr>\n",
       "    <tr>\n",
       "      <th>3</th>\n",
       "      <td>AFG</td>\n",
       "      <td>4_1</td>\n",
       "    </tr>\n",
       "    <tr>\n",
       "      <th>4</th>\n",
       "      <td>AFG</td>\n",
       "      <td>5_1</td>\n",
       "    </tr>\n",
       "    <tr>\n",
       "      <th>...</th>\n",
       "      <td>...</td>\n",
       "      <td>...</td>\n",
       "    </tr>\n",
       "    <tr>\n",
       "      <th>2106</th>\n",
       "      <td>ZWE</td>\n",
       "      <td>6_1</td>\n",
       "    </tr>\n",
       "    <tr>\n",
       "      <th>2107</th>\n",
       "      <td>ZWE</td>\n",
       "      <td>7_1</td>\n",
       "    </tr>\n",
       "    <tr>\n",
       "      <th>2108</th>\n",
       "      <td>ZWE</td>\n",
       "      <td>8_1</td>\n",
       "    </tr>\n",
       "    <tr>\n",
       "      <th>2109</th>\n",
       "      <td>ZWE</td>\n",
       "      <td>9_1</td>\n",
       "    </tr>\n",
       "    <tr>\n",
       "      <th>2110</th>\n",
       "      <td>ZWE</td>\n",
       "      <td>10_1</td>\n",
       "    </tr>\n",
       "  </tbody>\n",
       "</table>\n",
       "<p>2111 rows × 2 columns</p>\n",
       "</div>"
      ],
      "text/plain": [
       "     country region\n",
       "0        AFG    1_1\n",
       "1        AFG    2_1\n",
       "2        AFG    3_1\n",
       "3        AFG    4_1\n",
       "4        AFG    5_1\n",
       "...      ...    ...\n",
       "2106     ZWE    6_1\n",
       "2107     ZWE    7_1\n",
       "2108     ZWE    8_1\n",
       "2109     ZWE    9_1\n",
       "2110     ZWE   10_1\n",
       "\n",
       "[2111 rows x 2 columns]"
      ]
     },
     "execution_count": 44,
     "metadata": {},
     "output_type": "execute_result"
    }
   ],
   "source": [
    "full_missing_regions_df"
   ]
  },
  {
   "cell_type": "code",
   "execution_count": 45,
   "metadata": {},
   "outputs": [],
   "source": [
    "dose_missing_regions = full_missing_regions_df.loc[full_missing_regions_df.country.isin(incomplete_countries_year)].reset_index(drop=True)"
   ]
  },
  {
   "cell_type": "code",
   "execution_count": 46,
   "metadata": {},
   "outputs": [
    {
     "data": {
      "text/html": [
       "<div>\n",
       "<style scoped>\n",
       "    .dataframe tbody tr th:only-of-type {\n",
       "        vertical-align: middle;\n",
       "    }\n",
       "\n",
       "    .dataframe tbody tr th {\n",
       "        vertical-align: top;\n",
       "    }\n",
       "\n",
       "    .dataframe thead th {\n",
       "        text-align: right;\n",
       "    }\n",
       "</style>\n",
       "<table border=\"1\" class=\"dataframe\">\n",
       "  <thead>\n",
       "    <tr style=\"text-align: right;\">\n",
       "      <th></th>\n",
       "      <th>country</th>\n",
       "      <th>region</th>\n",
       "    </tr>\n",
       "  </thead>\n",
       "  <tbody>\n",
       "    <tr>\n",
       "      <th>0</th>\n",
       "      <td>ARG</td>\n",
       "      <td>2_1</td>\n",
       "    </tr>\n",
       "    <tr>\n",
       "      <th>1</th>\n",
       "      <td>ARG</td>\n",
       "      <td>3_1</td>\n",
       "    </tr>\n",
       "    <tr>\n",
       "      <th>2</th>\n",
       "      <td>ARG</td>\n",
       "      <td>5_1</td>\n",
       "    </tr>\n",
       "    <tr>\n",
       "      <th>3</th>\n",
       "      <td>ARG</td>\n",
       "      <td>7_1</td>\n",
       "    </tr>\n",
       "    <tr>\n",
       "      <th>4</th>\n",
       "      <td>ARG</td>\n",
       "      <td>9_1</td>\n",
       "    </tr>\n",
       "    <tr>\n",
       "      <th>...</th>\n",
       "      <td>...</td>\n",
       "      <td>...</td>\n",
       "    </tr>\n",
       "    <tr>\n",
       "      <th>301</th>\n",
       "      <td>TZA</td>\n",
       "      <td>28_1</td>\n",
       "    </tr>\n",
       "    <tr>\n",
       "      <th>302</th>\n",
       "      <td>TZA</td>\n",
       "      <td>29_1</td>\n",
       "    </tr>\n",
       "    <tr>\n",
       "      <th>303</th>\n",
       "      <td>TZA</td>\n",
       "      <td>30_1</td>\n",
       "    </tr>\n",
       "    <tr>\n",
       "      <th>304</th>\n",
       "      <td>UKR</td>\n",
       "      <td>4_1</td>\n",
       "    </tr>\n",
       "    <tr>\n",
       "      <th>305</th>\n",
       "      <td>UKR</td>\n",
       "      <td>20_1</td>\n",
       "    </tr>\n",
       "  </tbody>\n",
       "</table>\n",
       "<p>306 rows × 2 columns</p>\n",
       "</div>"
      ],
      "text/plain": [
       "    country region\n",
       "0       ARG    2_1\n",
       "1       ARG    3_1\n",
       "2       ARG    5_1\n",
       "3       ARG    7_1\n",
       "4       ARG    9_1\n",
       "..      ...    ...\n",
       "301     TZA   28_1\n",
       "302     TZA   29_1\n",
       "303     TZA   30_1\n",
       "304     UKR    4_1\n",
       "305     UKR   20_1\n",
       "\n",
       "[306 rows x 2 columns]"
      ]
     },
     "execution_count": 46,
     "metadata": {},
     "output_type": "execute_result"
    }
   ],
   "source": [
    "dose_missing_regions"
   ]
  },
  {
   "cell_type": "markdown",
   "metadata": {},
   "source": [
    "### WDI of interest\n",
    "\n",
    "getting the variables of interest from the WDI index for the missing countries in the DOSE data set."
   ]
  },
  {
   "cell_type": "code",
   "execution_count": 47,
   "metadata": {
    "tags": [
     "rm_cell"
    ]
   },
   "outputs": [
    {
     "data": {
      "text/html": [
       "<pre style=\"white-space:pre;overflow-x:auto;line-height:normal;font-family:Menlo,'DejaVu Sans Mono',consolas,'Courier New',monospace\">┏━━━━━━━━━━━━━━┳━━━━━━━━━━━━━━┳━━━━━━━━━━━━━━━━━━━━━━━━━━━━━━━━━━━━━━━━━━━━━━━━━━━━━━━━━━━━━━━━━━━━━━━━━━━━━━━━━━┳━━━━━━━━━━━━━━━━━━━┳━━━━━━━━━┳━━━━━━━━━┳━━━━━━━━━┳━━━━━━━━━┳━━━━━━━━━┳━━━━━━━━━┳━━━━━━━━━┳━━━━━━━━━┳━━━━━━━━━┳━━━━━━━━━┳━━━━━━━━━┳━━━━━━━━━┳━━━━━━━━━┳━━━━━━━━━┳━━━━━━━━━┳━━━━━━━━━┳━━━━━━━━━┳━━━━━━━━━┳━━━━━━━━━┳━━━━━━━━━┳━━━━━━━━━┳━━━━━━━━━┳━━━━━━━━━┳━━━━━━━━━┳━━━━━━━━━┳━━━━━━━━━┳━━━━━━━━━┳━━━━━━━━━┳━━━━━━━━━┳━━━━━━━━━┳━━━━━━━━━┳━━━━━━━━━┳━━━━━━━━━┳━━━━━━━━━┳━━━━━━━━━┳━━━━━━━━━┳━━━━━━━━━┳━━━━━━━━━┳━━━━━━━━━┳━━━━━━━━━┳━━━━━━━━━┳━━━━━━━━━┳━━━━━━━━━━━━━━┳━━━━━━━━━━━━━━┳━━━━━━━━━━━━━━┳━━━━━━━━━━━━━━┳━━━━━━━━━━━━━━┳━━━━━━━━━━━━━━┳━━━━━━━━━━━━━━┳━━━━━━━━━━━━━━┳━━━━━━━━━━━━━━┳━━━━━━━━━━━━━━┳━━━━━━━━━━━━━━┳━━━━━━━━━━━━━━┳━━━━━━━━━━━━━━┳━━━━━━━━━━━━━━┳━━━━━━━━━━━━━━┳━━━━━━━━━━━━━━┳━━━━━━━━━━━━━━┳━━━━━━━━━━━━━━┳━━━━━━━━━━━━━━┳━━━━━━━━━━━━━━┳━━━━━━━━━━━━━━┳━━━━━━━━━┓\n",
       "┃<span style=\"font-weight: bold\"> country_name </span>┃<span style=\"font-weight: bold\"> country_code </span>┃<span style=\"font-weight: bold\"> indicator_name                                                                   </span>┃<span style=\"font-weight: bold\"> indicator_code    </span>┃<span style=\"font-weight: bold\"> 1960    </span>┃<span style=\"font-weight: bold\"> 1961    </span>┃<span style=\"font-weight: bold\"> 1962    </span>┃<span style=\"font-weight: bold\"> 1963    </span>┃<span style=\"font-weight: bold\"> 1964    </span>┃<span style=\"font-weight: bold\"> 1965    </span>┃<span style=\"font-weight: bold\"> 1966    </span>┃<span style=\"font-weight: bold\"> 1967    </span>┃<span style=\"font-weight: bold\"> 1968    </span>┃<span style=\"font-weight: bold\"> 1969    </span>┃<span style=\"font-weight: bold\"> 1970    </span>┃<span style=\"font-weight: bold\"> 1971    </span>┃<span style=\"font-weight: bold\"> 1972    </span>┃<span style=\"font-weight: bold\"> 1973    </span>┃<span style=\"font-weight: bold\"> 1974    </span>┃<span style=\"font-weight: bold\"> 1975    </span>┃<span style=\"font-weight: bold\"> 1976    </span>┃<span style=\"font-weight: bold\"> 1977    </span>┃<span style=\"font-weight: bold\"> 1978    </span>┃<span style=\"font-weight: bold\"> 1979    </span>┃<span style=\"font-weight: bold\"> 1980    </span>┃<span style=\"font-weight: bold\"> 1981    </span>┃<span style=\"font-weight: bold\"> 1982    </span>┃<span style=\"font-weight: bold\"> 1983    </span>┃<span style=\"font-weight: bold\"> 1984    </span>┃<span style=\"font-weight: bold\"> 1985    </span>┃<span style=\"font-weight: bold\"> 1986    </span>┃<span style=\"font-weight: bold\"> 1987    </span>┃<span style=\"font-weight: bold\"> 1988    </span>┃<span style=\"font-weight: bold\"> 1989    </span>┃<span style=\"font-weight: bold\"> 1990    </span>┃<span style=\"font-weight: bold\"> 1991    </span>┃<span style=\"font-weight: bold\"> 1992    </span>┃<span style=\"font-weight: bold\"> 1993    </span>┃<span style=\"font-weight: bold\"> 1994    </span>┃<span style=\"font-weight: bold\"> 1995    </span>┃<span style=\"font-weight: bold\"> 1996    </span>┃<span style=\"font-weight: bold\"> 1997    </span>┃<span style=\"font-weight: bold\"> 1998    </span>┃<span style=\"font-weight: bold\"> 1999    </span>┃<span style=\"font-weight: bold\"> 2000    </span>┃<span style=\"font-weight: bold\"> 2001    </span>┃<span style=\"font-weight: bold\"> 2002         </span>┃<span style=\"font-weight: bold\"> 2003         </span>┃<span style=\"font-weight: bold\"> 2004         </span>┃<span style=\"font-weight: bold\"> 2005         </span>┃<span style=\"font-weight: bold\"> 2006         </span>┃<span style=\"font-weight: bold\"> 2007         </span>┃<span style=\"font-weight: bold\"> 2008         </span>┃<span style=\"font-weight: bold\"> 2009         </span>┃<span style=\"font-weight: bold\"> 2010         </span>┃<span style=\"font-weight: bold\"> 2011         </span>┃<span style=\"font-weight: bold\"> 2012         </span>┃<span style=\"font-weight: bold\"> 2013         </span>┃<span style=\"font-weight: bold\"> 2014         </span>┃<span style=\"font-weight: bold\"> 2015         </span>┃<span style=\"font-weight: bold\"> 2016         </span>┃<span style=\"font-weight: bold\"> 2017         </span>┃<span style=\"font-weight: bold\"> 2018         </span>┃<span style=\"font-weight: bold\"> 2019         </span>┃<span style=\"font-weight: bold\"> 2020         </span>┃<span style=\"font-weight: bold\"> 2021         </span>┃<span style=\"font-weight: bold\"> 2022         </span>┃<span style=\"font-weight: bold\"> 2023    </span>┃\n",
       "┡━━━━━━━━━━━━━━╇━━━━━━━━━━━━━━╇━━━━━━━━━━━━━━━━━━━━━━━━━━━━━━━━━━━━━━━━━━━━━━━━━━━━━━━━━━━━━━━━━━━━━━━━━━━━━━━━━━╇━━━━━━━━━━━━━━━━━━━╇━━━━━━━━━╇━━━━━━━━━╇━━━━━━━━━╇━━━━━━━━━╇━━━━━━━━━╇━━━━━━━━━╇━━━━━━━━━╇━━━━━━━━━╇━━━━━━━━━╇━━━━━━━━━╇━━━━━━━━━╇━━━━━━━━━╇━━━━━━━━━╇━━━━━━━━━╇━━━━━━━━━╇━━━━━━━━━╇━━━━━━━━━╇━━━━━━━━━╇━━━━━━━━━╇━━━━━━━━━╇━━━━━━━━━╇━━━━━━━━━╇━━━━━━━━━╇━━━━━━━━━╇━━━━━━━━━╇━━━━━━━━━╇━━━━━━━━━╇━━━━━━━━━╇━━━━━━━━━╇━━━━━━━━━╇━━━━━━━━━╇━━━━━━━━━╇━━━━━━━━━╇━━━━━━━━━╇━━━━━━━━━╇━━━━━━━━━╇━━━━━━━━━╇━━━━━━━━━╇━━━━━━━━━╇━━━━━━━━━╇━━━━━━━━━╇━━━━━━━━━╇━━━━━━━━━━━━━━╇━━━━━━━━━━━━━━╇━━━━━━━━━━━━━━╇━━━━━━━━━━━━━━╇━━━━━━━━━━━━━━╇━━━━━━━━━━━━━━╇━━━━━━━━━━━━━━╇━━━━━━━━━━━━━━╇━━━━━━━━━━━━━━╇━━━━━━━━━━━━━━╇━━━━━━━━━━━━━━╇━━━━━━━━━━━━━━╇━━━━━━━━━━━━━━╇━━━━━━━━━━━━━━╇━━━━━━━━━━━━━━╇━━━━━━━━━━━━━━╇━━━━━━━━━━━━━━╇━━━━━━━━━━━━━━╇━━━━━━━━━━━━━━╇━━━━━━━━━━━━━━╇━━━━━━━━━━━━━━╇━━━━━━━━━┩\n",
       "│ <span style=\"color: #7f7f7f; text-decoration-color: #7f7f7f\">string</span>       │ <span style=\"color: #7f7f7f; text-decoration-color: #7f7f7f\">string</span>       │ <span style=\"color: #7f7f7f; text-decoration-color: #7f7f7f\">string</span>                                                                           │ <span style=\"color: #7f7f7f; text-decoration-color: #7f7f7f\">string</span>            │ <span style=\"color: #7f7f7f; text-decoration-color: #7f7f7f\">float64</span> │ <span style=\"color: #7f7f7f; text-decoration-color: #7f7f7f\">float64</span> │ <span style=\"color: #7f7f7f; text-decoration-color: #7f7f7f\">float64</span> │ <span style=\"color: #7f7f7f; text-decoration-color: #7f7f7f\">float64</span> │ <span style=\"color: #7f7f7f; text-decoration-color: #7f7f7f\">float64</span> │ <span style=\"color: #7f7f7f; text-decoration-color: #7f7f7f\">float64</span> │ <span style=\"color: #7f7f7f; text-decoration-color: #7f7f7f\">float64</span> │ <span style=\"color: #7f7f7f; text-decoration-color: #7f7f7f\">float64</span> │ <span style=\"color: #7f7f7f; text-decoration-color: #7f7f7f\">float64</span> │ <span style=\"color: #7f7f7f; text-decoration-color: #7f7f7f\">float64</span> │ <span style=\"color: #7f7f7f; text-decoration-color: #7f7f7f\">float64</span> │ <span style=\"color: #7f7f7f; text-decoration-color: #7f7f7f\">float64</span> │ <span style=\"color: #7f7f7f; text-decoration-color: #7f7f7f\">float64</span> │ <span style=\"color: #7f7f7f; text-decoration-color: #7f7f7f\">float64</span> │ <span style=\"color: #7f7f7f; text-decoration-color: #7f7f7f\">float64</span> │ <span style=\"color: #7f7f7f; text-decoration-color: #7f7f7f\">float64</span> │ <span style=\"color: #7f7f7f; text-decoration-color: #7f7f7f\">float64</span> │ <span style=\"color: #7f7f7f; text-decoration-color: #7f7f7f\">float64</span> │ <span style=\"color: #7f7f7f; text-decoration-color: #7f7f7f\">float64</span> │ <span style=\"color: #7f7f7f; text-decoration-color: #7f7f7f\">float64</span> │ <span style=\"color: #7f7f7f; text-decoration-color: #7f7f7f\">float64</span> │ <span style=\"color: #7f7f7f; text-decoration-color: #7f7f7f\">float64</span> │ <span style=\"color: #7f7f7f; text-decoration-color: #7f7f7f\">float64</span> │ <span style=\"color: #7f7f7f; text-decoration-color: #7f7f7f\">float64</span> │ <span style=\"color: #7f7f7f; text-decoration-color: #7f7f7f\">float64</span> │ <span style=\"color: #7f7f7f; text-decoration-color: #7f7f7f\">float64</span> │ <span style=\"color: #7f7f7f; text-decoration-color: #7f7f7f\">float64</span> │ <span style=\"color: #7f7f7f; text-decoration-color: #7f7f7f\">float64</span> │ <span style=\"color: #7f7f7f; text-decoration-color: #7f7f7f\">float64</span> │ <span style=\"color: #7f7f7f; text-decoration-color: #7f7f7f\">float64</span> │ <span style=\"color: #7f7f7f; text-decoration-color: #7f7f7f\">float64</span> │ <span style=\"color: #7f7f7f; text-decoration-color: #7f7f7f\">float64</span> │ <span style=\"color: #7f7f7f; text-decoration-color: #7f7f7f\">float64</span> │ <span style=\"color: #7f7f7f; text-decoration-color: #7f7f7f\">float64</span> │ <span style=\"color: #7f7f7f; text-decoration-color: #7f7f7f\">float64</span> │ <span style=\"color: #7f7f7f; text-decoration-color: #7f7f7f\">float64</span> │ <span style=\"color: #7f7f7f; text-decoration-color: #7f7f7f\">float64</span> │ <span style=\"color: #7f7f7f; text-decoration-color: #7f7f7f\">float64</span> │ <span style=\"color: #7f7f7f; text-decoration-color: #7f7f7f\">float64</span> │ <span style=\"color: #7f7f7f; text-decoration-color: #7f7f7f\">float64</span> │ <span style=\"color: #7f7f7f; text-decoration-color: #7f7f7f\">float64</span> │ <span style=\"color: #7f7f7f; text-decoration-color: #7f7f7f\">float64</span> │ <span style=\"color: #7f7f7f; text-decoration-color: #7f7f7f\">float64</span>      │ <span style=\"color: #7f7f7f; text-decoration-color: #7f7f7f\">float64</span>      │ <span style=\"color: #7f7f7f; text-decoration-color: #7f7f7f\">float64</span>      │ <span style=\"color: #7f7f7f; text-decoration-color: #7f7f7f\">float64</span>      │ <span style=\"color: #7f7f7f; text-decoration-color: #7f7f7f\">float64</span>      │ <span style=\"color: #7f7f7f; text-decoration-color: #7f7f7f\">float64</span>      │ <span style=\"color: #7f7f7f; text-decoration-color: #7f7f7f\">float64</span>      │ <span style=\"color: #7f7f7f; text-decoration-color: #7f7f7f\">float64</span>      │ <span style=\"color: #7f7f7f; text-decoration-color: #7f7f7f\">float64</span>      │ <span style=\"color: #7f7f7f; text-decoration-color: #7f7f7f\">float64</span>      │ <span style=\"color: #7f7f7f; text-decoration-color: #7f7f7f\">float64</span>      │ <span style=\"color: #7f7f7f; text-decoration-color: #7f7f7f\">float64</span>      │ <span style=\"color: #7f7f7f; text-decoration-color: #7f7f7f\">float64</span>      │ <span style=\"color: #7f7f7f; text-decoration-color: #7f7f7f\">float64</span>      │ <span style=\"color: #7f7f7f; text-decoration-color: #7f7f7f\">float64</span>      │ <span style=\"color: #7f7f7f; text-decoration-color: #7f7f7f\">float64</span>      │ <span style=\"color: #7f7f7f; text-decoration-color: #7f7f7f\">float64</span>      │ <span style=\"color: #7f7f7f; text-decoration-color: #7f7f7f\">float64</span>      │ <span style=\"color: #7f7f7f; text-decoration-color: #7f7f7f\">float64</span>      │ <span style=\"color: #7f7f7f; text-decoration-color: #7f7f7f\">float64</span>      │ <span style=\"color: #7f7f7f; text-decoration-color: #7f7f7f\">float64</span>      │ <span style=\"color: #7f7f7f; text-decoration-color: #7f7f7f\">float64</span> │\n",
       "├──────────────┼──────────────┼──────────────────────────────────────────────────────────────────────────────────┼───────────────────┼─────────┼─────────┼─────────┼─────────┼─────────┼─────────┼─────────┼─────────┼─────────┼─────────┼─────────┼─────────┼─────────┼─────────┼─────────┼─────────┼─────────┼─────────┼─────────┼─────────┼─────────┼─────────┼─────────┼─────────┼─────────┼─────────┼─────────┼─────────┼─────────┼─────────┼─────────┼─────────┼─────────┼─────────┼─────────┼─────────┼─────────┼─────────┼─────────┼─────────┼─────────┼─────────┼──────────────┼──────────────┼──────────────┼──────────────┼──────────────┼──────────────┼──────────────┼──────────────┼──────────────┼──────────────┼──────────────┼──────────────┼──────────────┼──────────────┼──────────────┼──────────────┼──────────────┼──────────────┼──────────────┼──────────────┼──────────────┼─────────┤\n",
       "│ <span style=\"color: #008000; text-decoration-color: #008000\">Afghanistan </span> │ <span style=\"color: #008000; text-decoration-color: #008000\">AFG         </span> │ <span style=\"color: #008000; text-decoration-color: #008000\">Access to clean fuels and technologies for cooking, rural (% of rural populatio…</span> │ <span style=\"color: #008000; text-decoration-color: #008000\">EG.CFT.ACCS.RU.ZS</span> │    <span style=\"color: #7f7f7f; text-decoration-color: #7f7f7f\">NULL</span> │    <span style=\"color: #7f7f7f; text-decoration-color: #7f7f7f\">NULL</span> │    <span style=\"color: #7f7f7f; text-decoration-color: #7f7f7f\">NULL</span> │    <span style=\"color: #7f7f7f; text-decoration-color: #7f7f7f\">NULL</span> │    <span style=\"color: #7f7f7f; text-decoration-color: #7f7f7f\">NULL</span> │    <span style=\"color: #7f7f7f; text-decoration-color: #7f7f7f\">NULL</span> │    <span style=\"color: #7f7f7f; text-decoration-color: #7f7f7f\">NULL</span> │    <span style=\"color: #7f7f7f; text-decoration-color: #7f7f7f\">NULL</span> │    <span style=\"color: #7f7f7f; text-decoration-color: #7f7f7f\">NULL</span> │    <span style=\"color: #7f7f7f; text-decoration-color: #7f7f7f\">NULL</span> │    <span style=\"color: #7f7f7f; text-decoration-color: #7f7f7f\">NULL</span> │    <span style=\"color: #7f7f7f; text-decoration-color: #7f7f7f\">NULL</span> │    <span style=\"color: #7f7f7f; text-decoration-color: #7f7f7f\">NULL</span> │    <span style=\"color: #7f7f7f; text-decoration-color: #7f7f7f\">NULL</span> │    <span style=\"color: #7f7f7f; text-decoration-color: #7f7f7f\">NULL</span> │    <span style=\"color: #7f7f7f; text-decoration-color: #7f7f7f\">NULL</span> │    <span style=\"color: #7f7f7f; text-decoration-color: #7f7f7f\">NULL</span> │    <span style=\"color: #7f7f7f; text-decoration-color: #7f7f7f\">NULL</span> │    <span style=\"color: #7f7f7f; text-decoration-color: #7f7f7f\">NULL</span> │    <span style=\"color: #7f7f7f; text-decoration-color: #7f7f7f\">NULL</span> │    <span style=\"color: #7f7f7f; text-decoration-color: #7f7f7f\">NULL</span> │    <span style=\"color: #7f7f7f; text-decoration-color: #7f7f7f\">NULL</span> │    <span style=\"color: #7f7f7f; text-decoration-color: #7f7f7f\">NULL</span> │    <span style=\"color: #7f7f7f; text-decoration-color: #7f7f7f\">NULL</span> │    <span style=\"color: #7f7f7f; text-decoration-color: #7f7f7f\">NULL</span> │    <span style=\"color: #7f7f7f; text-decoration-color: #7f7f7f\">NULL</span> │    <span style=\"color: #7f7f7f; text-decoration-color: #7f7f7f\">NULL</span> │    <span style=\"color: #7f7f7f; text-decoration-color: #7f7f7f\">NULL</span> │    <span style=\"color: #7f7f7f; text-decoration-color: #7f7f7f\">NULL</span> │    <span style=\"color: #7f7f7f; text-decoration-color: #7f7f7f\">NULL</span> │    <span style=\"color: #7f7f7f; text-decoration-color: #7f7f7f\">NULL</span> │    <span style=\"color: #7f7f7f; text-decoration-color: #7f7f7f\">NULL</span> │    <span style=\"color: #7f7f7f; text-decoration-color: #7f7f7f\">NULL</span> │    <span style=\"color: #7f7f7f; text-decoration-color: #7f7f7f\">NULL</span> │    <span style=\"color: #7f7f7f; text-decoration-color: #7f7f7f\">NULL</span> │    <span style=\"color: #7f7f7f; text-decoration-color: #7f7f7f\">NULL</span> │    <span style=\"color: #7f7f7f; text-decoration-color: #7f7f7f\">NULL</span> │    <span style=\"color: #7f7f7f; text-decoration-color: #7f7f7f\">NULL</span> │    <span style=\"color: #7f7f7f; text-decoration-color: #7f7f7f\">NULL</span> │    <span style=\"color: #7f7f7f; text-decoration-color: #7f7f7f\">NULL</span> │     <span style=\"color: #008080; text-decoration-color: #008080; font-weight: bold\">0.8</span> │     <span style=\"color: #008080; text-decoration-color: #008080; font-weight: bold\">1.0</span> │ <span style=\"color: #008080; text-decoration-color: #008080; font-weight: bold\">1.300000e+00</span> │ <span style=\"color: #008080; text-decoration-color: #008080; font-weight: bold\">1.600000e+00</span> │ <span style=\"color: #008080; text-decoration-color: #008080; font-weight: bold\">1.900000e+00</span> │ <span style=\"color: #008080; text-decoration-color: #008080; font-weight: bold\">2.400000e+00</span> │ <span style=\"color: #008080; text-decoration-color: #008080; font-weight: bold\">3.000000e+00</span> │ <span style=\"color: #008080; text-decoration-color: #008080; font-weight: bold\">3.600000e+00</span> │ <span style=\"color: #008080; text-decoration-color: #008080; font-weight: bold\">4.300000e+00</span> │ <span style=\"color: #008080; text-decoration-color: #008080; font-weight: bold\">5.100000e+00</span> │ <span style=\"color: #008080; text-decoration-color: #008080; font-weight: bold\">5.900000e+00</span> │ <span style=\"color: #008080; text-decoration-color: #008080; font-weight: bold\">7.000000e+00</span> │ <span style=\"color: #008080; text-decoration-color: #008080; font-weight: bold\">8.000000e+00</span> │ <span style=\"color: #008080; text-decoration-color: #008080; font-weight: bold\">9.000000e+00</span> │ <span style=\"color: #008080; text-decoration-color: #008080; font-weight: bold\">1.020000e+01</span> │ <span style=\"color: #008080; text-decoration-color: #008080; font-weight: bold\">1.140000e+01</span> │ <span style=\"color: #008080; text-decoration-color: #008080; font-weight: bold\">1.260000e+01</span> │ <span style=\"color: #008080; text-decoration-color: #008080; font-weight: bold\">1.350000e+01</span> │ <span style=\"color: #008080; text-decoration-color: #008080; font-weight: bold\">1.450000e+01</span> │ <span style=\"color: #008080; text-decoration-color: #008080; font-weight: bold\">1.560000e+01</span> │ <span style=\"color: #008080; text-decoration-color: #008080; font-weight: bold\">1.640000e+01</span> │ <span style=\"color: #008080; text-decoration-color: #008080; font-weight: bold\">1.740000e+01</span> │ <span style=\"color: #008080; text-decoration-color: #008080; font-weight: bold\">1.850000e+01</span> │    <span style=\"color: #7f7f7f; text-decoration-color: #7f7f7f\">NULL</span> │\n",
       "│ <span style=\"color: #008000; text-decoration-color: #008000\">Afghanistan </span> │ <span style=\"color: #008000; text-decoration-color: #008000\">AFG         </span> │ <span style=\"color: #008000; text-decoration-color: #008000\">Access to clean fuels and technologies for cooking, urban (% of urban populatio…</span> │ <span style=\"color: #008000; text-decoration-color: #008000\">EG.CFT.ACCS.UR.ZS</span> │    <span style=\"color: #7f7f7f; text-decoration-color: #7f7f7f\">NULL</span> │    <span style=\"color: #7f7f7f; text-decoration-color: #7f7f7f\">NULL</span> │    <span style=\"color: #7f7f7f; text-decoration-color: #7f7f7f\">NULL</span> │    <span style=\"color: #7f7f7f; text-decoration-color: #7f7f7f\">NULL</span> │    <span style=\"color: #7f7f7f; text-decoration-color: #7f7f7f\">NULL</span> │    <span style=\"color: #7f7f7f; text-decoration-color: #7f7f7f\">NULL</span> │    <span style=\"color: #7f7f7f; text-decoration-color: #7f7f7f\">NULL</span> │    <span style=\"color: #7f7f7f; text-decoration-color: #7f7f7f\">NULL</span> │    <span style=\"color: #7f7f7f; text-decoration-color: #7f7f7f\">NULL</span> │    <span style=\"color: #7f7f7f; text-decoration-color: #7f7f7f\">NULL</span> │    <span style=\"color: #7f7f7f; text-decoration-color: #7f7f7f\">NULL</span> │    <span style=\"color: #7f7f7f; text-decoration-color: #7f7f7f\">NULL</span> │    <span style=\"color: #7f7f7f; text-decoration-color: #7f7f7f\">NULL</span> │    <span style=\"color: #7f7f7f; text-decoration-color: #7f7f7f\">NULL</span> │    <span style=\"color: #7f7f7f; text-decoration-color: #7f7f7f\">NULL</span> │    <span style=\"color: #7f7f7f; text-decoration-color: #7f7f7f\">NULL</span> │    <span style=\"color: #7f7f7f; text-decoration-color: #7f7f7f\">NULL</span> │    <span style=\"color: #7f7f7f; text-decoration-color: #7f7f7f\">NULL</span> │    <span style=\"color: #7f7f7f; text-decoration-color: #7f7f7f\">NULL</span> │    <span style=\"color: #7f7f7f; text-decoration-color: #7f7f7f\">NULL</span> │    <span style=\"color: #7f7f7f; text-decoration-color: #7f7f7f\">NULL</span> │    <span style=\"color: #7f7f7f; text-decoration-color: #7f7f7f\">NULL</span> │    <span style=\"color: #7f7f7f; text-decoration-color: #7f7f7f\">NULL</span> │    <span style=\"color: #7f7f7f; text-decoration-color: #7f7f7f\">NULL</span> │    <span style=\"color: #7f7f7f; text-decoration-color: #7f7f7f\">NULL</span> │    <span style=\"color: #7f7f7f; text-decoration-color: #7f7f7f\">NULL</span> │    <span style=\"color: #7f7f7f; text-decoration-color: #7f7f7f\">NULL</span> │    <span style=\"color: #7f7f7f; text-decoration-color: #7f7f7f\">NULL</span> │    <span style=\"color: #7f7f7f; text-decoration-color: #7f7f7f\">NULL</span> │    <span style=\"color: #7f7f7f; text-decoration-color: #7f7f7f\">NULL</span> │    <span style=\"color: #7f7f7f; text-decoration-color: #7f7f7f\">NULL</span> │    <span style=\"color: #7f7f7f; text-decoration-color: #7f7f7f\">NULL</span> │    <span style=\"color: #7f7f7f; text-decoration-color: #7f7f7f\">NULL</span> │    <span style=\"color: #7f7f7f; text-decoration-color: #7f7f7f\">NULL</span> │    <span style=\"color: #7f7f7f; text-decoration-color: #7f7f7f\">NULL</span> │    <span style=\"color: #7f7f7f; text-decoration-color: #7f7f7f\">NULL</span> │    <span style=\"color: #7f7f7f; text-decoration-color: #7f7f7f\">NULL</span> │    <span style=\"color: #7f7f7f; text-decoration-color: #7f7f7f\">NULL</span> │    <span style=\"color: #7f7f7f; text-decoration-color: #7f7f7f\">NULL</span> │    <span style=\"color: #7f7f7f; text-decoration-color: #7f7f7f\">NULL</span> │    <span style=\"color: #008080; text-decoration-color: #008080; font-weight: bold\">25.3</span> │    <span style=\"color: #008080; text-decoration-color: #008080; font-weight: bold\">29.9</span> │ <span style=\"color: #008080; text-decoration-color: #008080; font-weight: bold\">3.510000e+01</span> │ <span style=\"color: #008080; text-decoration-color: #008080; font-weight: bold\">4.025000e+01</span> │ <span style=\"color: #008080; text-decoration-color: #008080; font-weight: bold\">4.530000e+01</span> │ <span style=\"color: #008080; text-decoration-color: #008080; font-weight: bold\">5.020000e+01</span> │ <span style=\"color: #008080; text-decoration-color: #008080; font-weight: bold\">5.470000e+01</span> │ <span style=\"color: #008080; text-decoration-color: #008080; font-weight: bold\">5.920000e+01</span> │ <span style=\"color: #008080; text-decoration-color: #008080; font-weight: bold\">6.290000e+01</span> │ <span style=\"color: #008080; text-decoration-color: #008080; font-weight: bold\">6.640000e+01</span> │ <span style=\"color: #008080; text-decoration-color: #008080; font-weight: bold\">6.940000e+01</span> │ <span style=\"color: #008080; text-decoration-color: #008080; font-weight: bold\">7.200000e+01</span> │ <span style=\"color: #008080; text-decoration-color: #008080; font-weight: bold\">7.430000e+01</span> │ <span style=\"color: #008080; text-decoration-color: #008080; font-weight: bold\">7.610000e+01</span> │ <span style=\"color: #008080; text-decoration-color: #008080; font-weight: bold\">7.800000e+01</span> │ <span style=\"color: #008080; text-decoration-color: #008080; font-weight: bold\">7.950000e+01</span> │ <span style=\"color: #008080; text-decoration-color: #008080; font-weight: bold\">8.050000e+01</span> │ <span style=\"color: #008080; text-decoration-color: #008080; font-weight: bold\">8.160000e+01</span> │ <span style=\"color: #008080; text-decoration-color: #008080; font-weight: bold\">8.260000e+01</span> │ <span style=\"color: #008080; text-decoration-color: #008080; font-weight: bold\">8.320000e+01</span> │ <span style=\"color: #008080; text-decoration-color: #008080; font-weight: bold\">8.380000e+01</span> │ <span style=\"color: #008080; text-decoration-color: #008080; font-weight: bold\">8.450000e+01</span> │ <span style=\"color: #008080; text-decoration-color: #008080; font-weight: bold\">8.500000e+01</span> │    <span style=\"color: #7f7f7f; text-decoration-color: #7f7f7f\">NULL</span> │\n",
       "│ <span style=\"color: #008000; text-decoration-color: #008000\">Afghanistan </span> │ <span style=\"color: #008000; text-decoration-color: #008000\">AFG         </span> │ <span style=\"color: #008000; text-decoration-color: #008000\">Access to electricity (% of population)                                         </span> │ <span style=\"color: #008000; text-decoration-color: #008000\">EG.ELC.ACCS.ZS   </span> │    <span style=\"color: #7f7f7f; text-decoration-color: #7f7f7f\">NULL</span> │    <span style=\"color: #7f7f7f; text-decoration-color: #7f7f7f\">NULL</span> │    <span style=\"color: #7f7f7f; text-decoration-color: #7f7f7f\">NULL</span> │    <span style=\"color: #7f7f7f; text-decoration-color: #7f7f7f\">NULL</span> │    <span style=\"color: #7f7f7f; text-decoration-color: #7f7f7f\">NULL</span> │    <span style=\"color: #7f7f7f; text-decoration-color: #7f7f7f\">NULL</span> │    <span style=\"color: #7f7f7f; text-decoration-color: #7f7f7f\">NULL</span> │    <span style=\"color: #7f7f7f; text-decoration-color: #7f7f7f\">NULL</span> │    <span style=\"color: #7f7f7f; text-decoration-color: #7f7f7f\">NULL</span> │    <span style=\"color: #7f7f7f; text-decoration-color: #7f7f7f\">NULL</span> │    <span style=\"color: #7f7f7f; text-decoration-color: #7f7f7f\">NULL</span> │    <span style=\"color: #7f7f7f; text-decoration-color: #7f7f7f\">NULL</span> │    <span style=\"color: #7f7f7f; text-decoration-color: #7f7f7f\">NULL</span> │    <span style=\"color: #7f7f7f; text-decoration-color: #7f7f7f\">NULL</span> │    <span style=\"color: #7f7f7f; text-decoration-color: #7f7f7f\">NULL</span> │    <span style=\"color: #7f7f7f; text-decoration-color: #7f7f7f\">NULL</span> │    <span style=\"color: #7f7f7f; text-decoration-color: #7f7f7f\">NULL</span> │    <span style=\"color: #7f7f7f; text-decoration-color: #7f7f7f\">NULL</span> │    <span style=\"color: #7f7f7f; text-decoration-color: #7f7f7f\">NULL</span> │    <span style=\"color: #7f7f7f; text-decoration-color: #7f7f7f\">NULL</span> │    <span style=\"color: #7f7f7f; text-decoration-color: #7f7f7f\">NULL</span> │    <span style=\"color: #7f7f7f; text-decoration-color: #7f7f7f\">NULL</span> │    <span style=\"color: #7f7f7f; text-decoration-color: #7f7f7f\">NULL</span> │    <span style=\"color: #7f7f7f; text-decoration-color: #7f7f7f\">NULL</span> │    <span style=\"color: #7f7f7f; text-decoration-color: #7f7f7f\">NULL</span> │    <span style=\"color: #7f7f7f; text-decoration-color: #7f7f7f\">NULL</span> │    <span style=\"color: #7f7f7f; text-decoration-color: #7f7f7f\">NULL</span> │    <span style=\"color: #7f7f7f; text-decoration-color: #7f7f7f\">NULL</span> │    <span style=\"color: #7f7f7f; text-decoration-color: #7f7f7f\">NULL</span> │    <span style=\"color: #7f7f7f; text-decoration-color: #7f7f7f\">NULL</span> │    <span style=\"color: #7f7f7f; text-decoration-color: #7f7f7f\">NULL</span> │    <span style=\"color: #7f7f7f; text-decoration-color: #7f7f7f\">NULL</span> │    <span style=\"color: #7f7f7f; text-decoration-color: #7f7f7f\">NULL</span> │    <span style=\"color: #7f7f7f; text-decoration-color: #7f7f7f\">NULL</span> │    <span style=\"color: #7f7f7f; text-decoration-color: #7f7f7f\">NULL</span> │    <span style=\"color: #7f7f7f; text-decoration-color: #7f7f7f\">NULL</span> │    <span style=\"color: #7f7f7f; text-decoration-color: #7f7f7f\">NULL</span> │    <span style=\"color: #7f7f7f; text-decoration-color: #7f7f7f\">NULL</span> │    <span style=\"color: #7f7f7f; text-decoration-color: #7f7f7f\">NULL</span> │    <span style=\"color: #7f7f7f; text-decoration-color: #7f7f7f\">NULL</span> │     <span style=\"color: #008080; text-decoration-color: #008080; font-weight: bold\">4.4</span> │     <span style=\"color: #008080; text-decoration-color: #008080; font-weight: bold\">9.3</span> │ <span style=\"color: #008080; text-decoration-color: #008080; font-weight: bold\">1.410000e+01</span> │ <span style=\"color: #008080; text-decoration-color: #008080; font-weight: bold\">1.900000e+01</span> │ <span style=\"color: #008080; text-decoration-color: #008080; font-weight: bold\">2.380000e+01</span> │ <span style=\"color: #008080; text-decoration-color: #008080; font-weight: bold\">2.870000e+01</span> │ <span style=\"color: #008080; text-decoration-color: #008080; font-weight: bold\">3.350000e+01</span> │ <span style=\"color: #008080; text-decoration-color: #008080; font-weight: bold\">3.840000e+01</span> │ <span style=\"color: #008080; text-decoration-color: #008080; font-weight: bold\">4.240000e+01</span> │ <span style=\"color: #008080; text-decoration-color: #008080; font-weight: bold\">4.830000e+01</span> │ <span style=\"color: #008080; text-decoration-color: #008080; font-weight: bold\">4.270000e+01</span> │ <span style=\"color: #008080; text-decoration-color: #008080; font-weight: bold\">4.320000e+01</span> │ <span style=\"color: #008080; text-decoration-color: #008080; font-weight: bold\">6.910000e+01</span> │ <span style=\"color: #008080; text-decoration-color: #008080; font-weight: bold\">6.800000e+01</span> │ <span style=\"color: #008080; text-decoration-color: #008080; font-weight: bold\">8.950000e+01</span> │ <span style=\"color: #008080; text-decoration-color: #008080; font-weight: bold\">7.150000e+01</span> │ <span style=\"color: #008080; text-decoration-color: #008080; font-weight: bold\">9.770000e+01</span> │ <span style=\"color: #008080; text-decoration-color: #008080; font-weight: bold\">9.770000e+01</span> │ <span style=\"color: #008080; text-decoration-color: #008080; font-weight: bold\">9.340000e+01</span> │ <span style=\"color: #008080; text-decoration-color: #008080; font-weight: bold\">9.770000e+01</span> │ <span style=\"color: #008080; text-decoration-color: #008080; font-weight: bold\">9.770000e+01</span> │ <span style=\"color: #008080; text-decoration-color: #008080; font-weight: bold\">9.770000e+01</span> │ <span style=\"color: #008080; text-decoration-color: #008080; font-weight: bold\">8.530000e+01</span> │    <span style=\"color: #7f7f7f; text-decoration-color: #7f7f7f\">NULL</span> │\n",
       "│ <span style=\"color: #008000; text-decoration-color: #008000\">Afghanistan </span> │ <span style=\"color: #008000; text-decoration-color: #008000\">AFG         </span> │ <span style=\"color: #008000; text-decoration-color: #008000\">Access to electricity, rural (% of rural population)                            </span> │ <span style=\"color: #008000; text-decoration-color: #008000\">EG.ELC.ACCS.RU.ZS</span> │    <span style=\"color: #7f7f7f; text-decoration-color: #7f7f7f\">NULL</span> │    <span style=\"color: #7f7f7f; text-decoration-color: #7f7f7f\">NULL</span> │    <span style=\"color: #7f7f7f; text-decoration-color: #7f7f7f\">NULL</span> │    <span style=\"color: #7f7f7f; text-decoration-color: #7f7f7f\">NULL</span> │    <span style=\"color: #7f7f7f; text-decoration-color: #7f7f7f\">NULL</span> │    <span style=\"color: #7f7f7f; text-decoration-color: #7f7f7f\">NULL</span> │    <span style=\"color: #7f7f7f; text-decoration-color: #7f7f7f\">NULL</span> │    <span style=\"color: #7f7f7f; text-decoration-color: #7f7f7f\">NULL</span> │    <span style=\"color: #7f7f7f; text-decoration-color: #7f7f7f\">NULL</span> │    <span style=\"color: #7f7f7f; text-decoration-color: #7f7f7f\">NULL</span> │    <span style=\"color: #7f7f7f; text-decoration-color: #7f7f7f\">NULL</span> │    <span style=\"color: #7f7f7f; text-decoration-color: #7f7f7f\">NULL</span> │    <span style=\"color: #7f7f7f; text-decoration-color: #7f7f7f\">NULL</span> │    <span style=\"color: #7f7f7f; text-decoration-color: #7f7f7f\">NULL</span> │    <span style=\"color: #7f7f7f; text-decoration-color: #7f7f7f\">NULL</span> │    <span style=\"color: #7f7f7f; text-decoration-color: #7f7f7f\">NULL</span> │    <span style=\"color: #7f7f7f; text-decoration-color: #7f7f7f\">NULL</span> │    <span style=\"color: #7f7f7f; text-decoration-color: #7f7f7f\">NULL</span> │    <span style=\"color: #7f7f7f; text-decoration-color: #7f7f7f\">NULL</span> │    <span style=\"color: #7f7f7f; text-decoration-color: #7f7f7f\">NULL</span> │    <span style=\"color: #7f7f7f; text-decoration-color: #7f7f7f\">NULL</span> │    <span style=\"color: #7f7f7f; text-decoration-color: #7f7f7f\">NULL</span> │    <span style=\"color: #7f7f7f; text-decoration-color: #7f7f7f\">NULL</span> │    <span style=\"color: #7f7f7f; text-decoration-color: #7f7f7f\">NULL</span> │    <span style=\"color: #7f7f7f; text-decoration-color: #7f7f7f\">NULL</span> │    <span style=\"color: #7f7f7f; text-decoration-color: #7f7f7f\">NULL</span> │    <span style=\"color: #7f7f7f; text-decoration-color: #7f7f7f\">NULL</span> │    <span style=\"color: #7f7f7f; text-decoration-color: #7f7f7f\">NULL</span> │    <span style=\"color: #7f7f7f; text-decoration-color: #7f7f7f\">NULL</span> │    <span style=\"color: #7f7f7f; text-decoration-color: #7f7f7f\">NULL</span> │    <span style=\"color: #7f7f7f; text-decoration-color: #7f7f7f\">NULL</span> │    <span style=\"color: #7f7f7f; text-decoration-color: #7f7f7f\">NULL</span> │    <span style=\"color: #7f7f7f; text-decoration-color: #7f7f7f\">NULL</span> │    <span style=\"color: #7f7f7f; text-decoration-color: #7f7f7f\">NULL</span> │    <span style=\"color: #7f7f7f; text-decoration-color: #7f7f7f\">NULL</span> │    <span style=\"color: #7f7f7f; text-decoration-color: #7f7f7f\">NULL</span> │    <span style=\"color: #7f7f7f; text-decoration-color: #7f7f7f\">NULL</span> │    <span style=\"color: #7f7f7f; text-decoration-color: #7f7f7f\">NULL</span> │    <span style=\"color: #7f7f7f; text-decoration-color: #7f7f7f\">NULL</span> │    <span style=\"color: #7f7f7f; text-decoration-color: #7f7f7f\">NULL</span> │    <span style=\"color: #7f7f7f; text-decoration-color: #7f7f7f\">NULL</span> │    <span style=\"color: #7f7f7f; text-decoration-color: #7f7f7f\">NULL</span> │         <span style=\"color: #7f7f7f; text-decoration-color: #7f7f7f\">NULL</span> │ <span style=\"color: #008080; text-decoration-color: #008080; font-weight: bold\">2.100000e+00</span> │ <span style=\"color: #008080; text-decoration-color: #008080; font-weight: bold\">7.800000e+00</span> │ <span style=\"color: #008080; text-decoration-color: #008080; font-weight: bold\">1.540000e+01</span> │ <span style=\"color: #008080; text-decoration-color: #008080; font-weight: bold\">1.930000e+01</span> │ <span style=\"color: #008080; text-decoration-color: #008080; font-weight: bold\">2.500000e+01</span> │ <span style=\"color: #008080; text-decoration-color: #008080; font-weight: bold\">2.800000e+01</span> │ <span style=\"color: #008080; text-decoration-color: #008080; font-weight: bold\">3.670000e+01</span> │ <span style=\"color: #008080; text-decoration-color: #008080; font-weight: bold\">3.020000e+01</span> │ <span style=\"color: #008080; text-decoration-color: #008080; font-weight: bold\">2.960000e+01</span> │ <span style=\"color: #008080; text-decoration-color: #008080; font-weight: bold\">6.080000e+01</span> │ <span style=\"color: #008080; text-decoration-color: #008080; font-weight: bold\">6.020000e+01</span> │ <span style=\"color: #008080; text-decoration-color: #008080; font-weight: bold\">8.650000e+01</span> │ <span style=\"color: #008080; text-decoration-color: #008080; font-weight: bold\">6.460000e+01</span> │ <span style=\"color: #008080; text-decoration-color: #008080; font-weight: bold\">9.710000e+01</span> │ <span style=\"color: #008080; text-decoration-color: #008080; font-weight: bold\">9.710000e+01</span> │ <span style=\"color: #008080; text-decoration-color: #008080; font-weight: bold\">9.160000e+01</span> │ <span style=\"color: #008080; text-decoration-color: #008080; font-weight: bold\">9.710000e+01</span> │ <span style=\"color: #008080; text-decoration-color: #008080; font-weight: bold\">9.710000e+01</span> │ <span style=\"color: #008080; text-decoration-color: #008080; font-weight: bold\">9.710000e+01</span> │ <span style=\"color: #008080; text-decoration-color: #008080; font-weight: bold\">8.170000e+01</span> │    <span style=\"color: #7f7f7f; text-decoration-color: #7f7f7f\">NULL</span> │\n",
       "│ <span style=\"color: #008000; text-decoration-color: #008000\">Afghanistan </span> │ <span style=\"color: #008000; text-decoration-color: #008000\">AFG         </span> │ <span style=\"color: #008000; text-decoration-color: #008000\">Manufacturing, value added (current LCU)                                        </span> │ <span style=\"color: #008000; text-decoration-color: #008000\">NV.IND.MANF.CN   </span> │    <span style=\"color: #7f7f7f; text-decoration-color: #7f7f7f\">NULL</span> │    <span style=\"color: #7f7f7f; text-decoration-color: #7f7f7f\">NULL</span> │    <span style=\"color: #7f7f7f; text-decoration-color: #7f7f7f\">NULL</span> │    <span style=\"color: #7f7f7f; text-decoration-color: #7f7f7f\">NULL</span> │    <span style=\"color: #7f7f7f; text-decoration-color: #7f7f7f\">NULL</span> │    <span style=\"color: #7f7f7f; text-decoration-color: #7f7f7f\">NULL</span> │    <span style=\"color: #7f7f7f; text-decoration-color: #7f7f7f\">NULL</span> │    <span style=\"color: #7f7f7f; text-decoration-color: #7f7f7f\">NULL</span> │    <span style=\"color: #7f7f7f; text-decoration-color: #7f7f7f\">NULL</span> │    <span style=\"color: #7f7f7f; text-decoration-color: #7f7f7f\">NULL</span> │    <span style=\"color: #7f7f7f; text-decoration-color: #7f7f7f\">NULL</span> │    <span style=\"color: #7f7f7f; text-decoration-color: #7f7f7f\">NULL</span> │    <span style=\"color: #7f7f7f; text-decoration-color: #7f7f7f\">NULL</span> │    <span style=\"color: #7f7f7f; text-decoration-color: #7f7f7f\">NULL</span> │    <span style=\"color: #7f7f7f; text-decoration-color: #7f7f7f\">NULL</span> │    <span style=\"color: #7f7f7f; text-decoration-color: #7f7f7f\">NULL</span> │    <span style=\"color: #7f7f7f; text-decoration-color: #7f7f7f\">NULL</span> │    <span style=\"color: #7f7f7f; text-decoration-color: #7f7f7f\">NULL</span> │    <span style=\"color: #7f7f7f; text-decoration-color: #7f7f7f\">NULL</span> │    <span style=\"color: #7f7f7f; text-decoration-color: #7f7f7f\">NULL</span> │    <span style=\"color: #7f7f7f; text-decoration-color: #7f7f7f\">NULL</span> │    <span style=\"color: #7f7f7f; text-decoration-color: #7f7f7f\">NULL</span> │    <span style=\"color: #7f7f7f; text-decoration-color: #7f7f7f\">NULL</span> │    <span style=\"color: #7f7f7f; text-decoration-color: #7f7f7f\">NULL</span> │    <span style=\"color: #7f7f7f; text-decoration-color: #7f7f7f\">NULL</span> │    <span style=\"color: #7f7f7f; text-decoration-color: #7f7f7f\">NULL</span> │    <span style=\"color: #7f7f7f; text-decoration-color: #7f7f7f\">NULL</span> │    <span style=\"color: #7f7f7f; text-decoration-color: #7f7f7f\">NULL</span> │    <span style=\"color: #7f7f7f; text-decoration-color: #7f7f7f\">NULL</span> │    <span style=\"color: #7f7f7f; text-decoration-color: #7f7f7f\">NULL</span> │    <span style=\"color: #7f7f7f; text-decoration-color: #7f7f7f\">NULL</span> │    <span style=\"color: #7f7f7f; text-decoration-color: #7f7f7f\">NULL</span> │    <span style=\"color: #7f7f7f; text-decoration-color: #7f7f7f\">NULL</span> │    <span style=\"color: #7f7f7f; text-decoration-color: #7f7f7f\">NULL</span> │    <span style=\"color: #7f7f7f; text-decoration-color: #7f7f7f\">NULL</span> │    <span style=\"color: #7f7f7f; text-decoration-color: #7f7f7f\">NULL</span> │    <span style=\"color: #7f7f7f; text-decoration-color: #7f7f7f\">NULL</span> │    <span style=\"color: #7f7f7f; text-decoration-color: #7f7f7f\">NULL</span> │    <span style=\"color: #7f7f7f; text-decoration-color: #7f7f7f\">NULL</span> │    <span style=\"color: #7f7f7f; text-decoration-color: #7f7f7f\">NULL</span> │    <span style=\"color: #7f7f7f; text-decoration-color: #7f7f7f\">NULL</span> │    <span style=\"color: #7f7f7f; text-decoration-color: #7f7f7f\">NULL</span> │ <span style=\"color: #008080; text-decoration-color: #008080; font-weight: bold\">3.428804e+10</span> │ <span style=\"color: #008080; text-decoration-color: #008080; font-weight: bold\">3.746243e+10</span> │ <span style=\"color: #008080; text-decoration-color: #008080; font-weight: bold\">4.384849e+10</span> │ <span style=\"color: #008080; text-decoration-color: #008080; font-weight: bold\">5.114959e+10</span> │ <span style=\"color: #008080; text-decoration-color: #008080; font-weight: bold\">5.702960e+10</span> │ <span style=\"color: #008080; text-decoration-color: #008080; font-weight: bold\">8.614882e+10</span> │ <span style=\"color: #008080; text-decoration-color: #008080; font-weight: bold\">9.187981e+10</span> │ <span style=\"color: #008080; text-decoration-color: #008080; font-weight: bold\">8.043676e+10</span> │ <span style=\"color: #008080; text-decoration-color: #008080; font-weight: bold\">9.094285e+10</span> │ <span style=\"color: #008080; text-decoration-color: #008080; font-weight: bold\">1.171710e+11</span> │ <span style=\"color: #008080; text-decoration-color: #008080; font-weight: bold\">1.284561e+11</span> │ <span style=\"color: #008080; text-decoration-color: #008080; font-weight: bold\">1.309616e+11</span> │ <span style=\"color: #008080; text-decoration-color: #008080; font-weight: bold\">1.350303e+11</span> │ <span style=\"color: #008080; text-decoration-color: #008080; font-weight: bold\">1.396389e+11</span> │ <span style=\"color: #008080; text-decoration-color: #008080; font-weight: bold\">5.031320e+10</span> │ <span style=\"color: #008080; text-decoration-color: #008080; font-weight: bold\">4.538218e+10</span> │ <span style=\"color: #008080; text-decoration-color: #008080; font-weight: bold\">8.178808e+10</span> │ <span style=\"color: #008080; text-decoration-color: #008080; font-weight: bold\">1.035063e+11</span> │ <span style=\"color: #008080; text-decoration-color: #008080; font-weight: bold\">1.155540e+11</span> │ <span style=\"color: #008080; text-decoration-color: #008080; font-weight: bold\">1.062640e+11</span> │ <span style=\"color: #008080; text-decoration-color: #008080; font-weight: bold\">1.307860e+11</span> │    <span style=\"color: #7f7f7f; text-decoration-color: #7f7f7f\">NULL</span> │\n",
       "└──────────────┴──────────────┴──────────────────────────────────────────────────────────────────────────────────┴───────────────────┴─────────┴─────────┴─────────┴─────────┴─────────┴─────────┴─────────┴─────────┴─────────┴─────────┴─────────┴─────────┴─────────┴─────────┴─────────┴─────────┴─────────┴─────────┴─────────┴─────────┴─────────┴─────────┴─────────┴─────────┴─────────┴─────────┴─────────┴─────────┴─────────┴─────────┴─────────┴─────────┴─────────┴─────────┴─────────┴─────────┴─────────┴─────────┴─────────┴─────────┴─────────┴─────────┴──────────────┴──────────────┴──────────────┴──────────────┴──────────────┴──────────────┴──────────────┴──────────────┴──────────────┴──────────────┴──────────────┴──────────────┴──────────────┴──────────────┴──────────────┴──────────────┴──────────────┴──────────────┴──────────────┴──────────────┴──────────────┴─────────┘\n",
       "</pre>\n"
      ],
      "text/plain": [
       "┏━━━━━━━━━━━━━━┳━━━━━━━━━━━━━━┳━━━━━━━━━━━━━━━━━━━━━━━━━━━━━━━━━━━━━━━━━━━━━━━━━━━━━━━━━━━━━━━━━━━━━━━━━━━━━━━━━━┳━━━━━━━━━━━━━━━━━━━┳━━━━━━━━━┳━━━━━━━━━┳━━━━━━━━━┳━━━━━━━━━┳━━━━━━━━━┳━━━━━━━━━┳━━━━━━━━━┳━━━━━━━━━┳━━━━━━━━━┳━━━━━━━━━┳━━━━━━━━━┳━━━━━━━━━┳━━━━━━━━━┳━━━━━━━━━┳━━━━━━━━━┳━━━━━━━━━┳━━━━━━━━━┳━━━━━━━━━┳━━━━━━━━━┳━━━━━━━━━┳━━━━━━━━━┳━━━━━━━━━┳━━━━━━━━━┳━━━━━━━━━┳━━━━━━━━━┳━━━━━━━━━┳━━━━━━━━━┳━━━━━━━━━┳━━━━━━━━━┳━━━━━━━━━┳━━━━━━━━━┳━━━━━━━━━┳━━━━━━━━━┳━━━━━━━━━┳━━━━━━━━━┳━━━━━━━━━┳━━━━━━━━━┳━━━━━━━━━┳━━━━━━━━━┳━━━━━━━━━┳━━━━━━━━━┳━━━━━━━━━┳━━━━━━━━━━━━━━┳━━━━━━━━━━━━━━┳━━━━━━━━━━━━━━┳━━━━━━━━━━━━━━┳━━━━━━━━━━━━━━┳━━━━━━━━━━━━━━┳━━━━━━━━━━━━━━┳━━━━━━━━━━━━━━┳━━━━━━━━━━━━━━┳━━━━━━━━━━━━━━┳━━━━━━━━━━━━━━┳━━━━━━━━━━━━━━┳━━━━━━━━━━━━━━┳━━━━━━━━━━━━━━┳━━━━━━━━━━━━━━┳━━━━━━━━━━━━━━┳━━━━━━━━━━━━━━┳━━━━━━━━━━━━━━┳━━━━━━━━━━━━━━┳━━━━━━━━━━━━━━┳━━━━━━━━━━━━━━┳━━━━━━━━━┓\n",
       "┃\u001b[1m \u001b[0m\u001b[1mcountry_name\u001b[0m\u001b[1m \u001b[0m┃\u001b[1m \u001b[0m\u001b[1mcountry_code\u001b[0m\u001b[1m \u001b[0m┃\u001b[1m \u001b[0m\u001b[1mindicator_name\u001b[0m\u001b[1m                                                                  \u001b[0m\u001b[1m \u001b[0m┃\u001b[1m \u001b[0m\u001b[1mindicator_code\u001b[0m\u001b[1m   \u001b[0m\u001b[1m \u001b[0m┃\u001b[1m \u001b[0m\u001b[1m1960\u001b[0m\u001b[1m   \u001b[0m\u001b[1m \u001b[0m┃\u001b[1m \u001b[0m\u001b[1m1961\u001b[0m\u001b[1m   \u001b[0m\u001b[1m \u001b[0m┃\u001b[1m \u001b[0m\u001b[1m1962\u001b[0m\u001b[1m   \u001b[0m\u001b[1m \u001b[0m┃\u001b[1m \u001b[0m\u001b[1m1963\u001b[0m\u001b[1m   \u001b[0m\u001b[1m \u001b[0m┃\u001b[1m \u001b[0m\u001b[1m1964\u001b[0m\u001b[1m   \u001b[0m\u001b[1m \u001b[0m┃\u001b[1m \u001b[0m\u001b[1m1965\u001b[0m\u001b[1m   \u001b[0m\u001b[1m \u001b[0m┃\u001b[1m \u001b[0m\u001b[1m1966\u001b[0m\u001b[1m   \u001b[0m\u001b[1m \u001b[0m┃\u001b[1m \u001b[0m\u001b[1m1967\u001b[0m\u001b[1m   \u001b[0m\u001b[1m \u001b[0m┃\u001b[1m \u001b[0m\u001b[1m1968\u001b[0m\u001b[1m   \u001b[0m\u001b[1m \u001b[0m┃\u001b[1m \u001b[0m\u001b[1m1969\u001b[0m\u001b[1m   \u001b[0m\u001b[1m \u001b[0m┃\u001b[1m \u001b[0m\u001b[1m1970\u001b[0m\u001b[1m   \u001b[0m\u001b[1m \u001b[0m┃\u001b[1m \u001b[0m\u001b[1m1971\u001b[0m\u001b[1m   \u001b[0m\u001b[1m \u001b[0m┃\u001b[1m \u001b[0m\u001b[1m1972\u001b[0m\u001b[1m   \u001b[0m\u001b[1m \u001b[0m┃\u001b[1m \u001b[0m\u001b[1m1973\u001b[0m\u001b[1m   \u001b[0m\u001b[1m \u001b[0m┃\u001b[1m \u001b[0m\u001b[1m1974\u001b[0m\u001b[1m   \u001b[0m\u001b[1m \u001b[0m┃\u001b[1m \u001b[0m\u001b[1m1975\u001b[0m\u001b[1m   \u001b[0m\u001b[1m \u001b[0m┃\u001b[1m \u001b[0m\u001b[1m1976\u001b[0m\u001b[1m   \u001b[0m\u001b[1m \u001b[0m┃\u001b[1m \u001b[0m\u001b[1m1977\u001b[0m\u001b[1m   \u001b[0m\u001b[1m \u001b[0m┃\u001b[1m \u001b[0m\u001b[1m1978\u001b[0m\u001b[1m   \u001b[0m\u001b[1m \u001b[0m┃\u001b[1m \u001b[0m\u001b[1m1979\u001b[0m\u001b[1m   \u001b[0m\u001b[1m \u001b[0m┃\u001b[1m \u001b[0m\u001b[1m1980\u001b[0m\u001b[1m   \u001b[0m\u001b[1m \u001b[0m┃\u001b[1m \u001b[0m\u001b[1m1981\u001b[0m\u001b[1m   \u001b[0m\u001b[1m \u001b[0m┃\u001b[1m \u001b[0m\u001b[1m1982\u001b[0m\u001b[1m   \u001b[0m\u001b[1m \u001b[0m┃\u001b[1m \u001b[0m\u001b[1m1983\u001b[0m\u001b[1m   \u001b[0m\u001b[1m \u001b[0m┃\u001b[1m \u001b[0m\u001b[1m1984\u001b[0m\u001b[1m   \u001b[0m\u001b[1m \u001b[0m┃\u001b[1m \u001b[0m\u001b[1m1985\u001b[0m\u001b[1m   \u001b[0m\u001b[1m \u001b[0m┃\u001b[1m \u001b[0m\u001b[1m1986\u001b[0m\u001b[1m   \u001b[0m\u001b[1m \u001b[0m┃\u001b[1m \u001b[0m\u001b[1m1987\u001b[0m\u001b[1m   \u001b[0m\u001b[1m \u001b[0m┃\u001b[1m \u001b[0m\u001b[1m1988\u001b[0m\u001b[1m   \u001b[0m\u001b[1m \u001b[0m┃\u001b[1m \u001b[0m\u001b[1m1989\u001b[0m\u001b[1m   \u001b[0m\u001b[1m \u001b[0m┃\u001b[1m \u001b[0m\u001b[1m1990\u001b[0m\u001b[1m   \u001b[0m\u001b[1m \u001b[0m┃\u001b[1m \u001b[0m\u001b[1m1991\u001b[0m\u001b[1m   \u001b[0m\u001b[1m \u001b[0m┃\u001b[1m \u001b[0m\u001b[1m1992\u001b[0m\u001b[1m   \u001b[0m\u001b[1m \u001b[0m┃\u001b[1m \u001b[0m\u001b[1m1993\u001b[0m\u001b[1m   \u001b[0m\u001b[1m \u001b[0m┃\u001b[1m \u001b[0m\u001b[1m1994\u001b[0m\u001b[1m   \u001b[0m\u001b[1m \u001b[0m┃\u001b[1m \u001b[0m\u001b[1m1995\u001b[0m\u001b[1m   \u001b[0m\u001b[1m \u001b[0m┃\u001b[1m \u001b[0m\u001b[1m1996\u001b[0m\u001b[1m   \u001b[0m\u001b[1m \u001b[0m┃\u001b[1m \u001b[0m\u001b[1m1997\u001b[0m\u001b[1m   \u001b[0m\u001b[1m \u001b[0m┃\u001b[1m \u001b[0m\u001b[1m1998\u001b[0m\u001b[1m   \u001b[0m\u001b[1m \u001b[0m┃\u001b[1m \u001b[0m\u001b[1m1999\u001b[0m\u001b[1m   \u001b[0m\u001b[1m \u001b[0m┃\u001b[1m \u001b[0m\u001b[1m2000\u001b[0m\u001b[1m   \u001b[0m\u001b[1m \u001b[0m┃\u001b[1m \u001b[0m\u001b[1m2001\u001b[0m\u001b[1m   \u001b[0m\u001b[1m \u001b[0m┃\u001b[1m \u001b[0m\u001b[1m2002\u001b[0m\u001b[1m        \u001b[0m\u001b[1m \u001b[0m┃\u001b[1m \u001b[0m\u001b[1m2003\u001b[0m\u001b[1m        \u001b[0m\u001b[1m \u001b[0m┃\u001b[1m \u001b[0m\u001b[1m2004\u001b[0m\u001b[1m        \u001b[0m\u001b[1m \u001b[0m┃\u001b[1m \u001b[0m\u001b[1m2005\u001b[0m\u001b[1m        \u001b[0m\u001b[1m \u001b[0m┃\u001b[1m \u001b[0m\u001b[1m2006\u001b[0m\u001b[1m        \u001b[0m\u001b[1m \u001b[0m┃\u001b[1m \u001b[0m\u001b[1m2007\u001b[0m\u001b[1m        \u001b[0m\u001b[1m \u001b[0m┃\u001b[1m \u001b[0m\u001b[1m2008\u001b[0m\u001b[1m        \u001b[0m\u001b[1m \u001b[0m┃\u001b[1m \u001b[0m\u001b[1m2009\u001b[0m\u001b[1m        \u001b[0m\u001b[1m \u001b[0m┃\u001b[1m \u001b[0m\u001b[1m2010\u001b[0m\u001b[1m        \u001b[0m\u001b[1m \u001b[0m┃\u001b[1m \u001b[0m\u001b[1m2011\u001b[0m\u001b[1m        \u001b[0m\u001b[1m \u001b[0m┃\u001b[1m \u001b[0m\u001b[1m2012\u001b[0m\u001b[1m        \u001b[0m\u001b[1m \u001b[0m┃\u001b[1m \u001b[0m\u001b[1m2013\u001b[0m\u001b[1m        \u001b[0m\u001b[1m \u001b[0m┃\u001b[1m \u001b[0m\u001b[1m2014\u001b[0m\u001b[1m        \u001b[0m\u001b[1m \u001b[0m┃\u001b[1m \u001b[0m\u001b[1m2015\u001b[0m\u001b[1m        \u001b[0m\u001b[1m \u001b[0m┃\u001b[1m \u001b[0m\u001b[1m2016\u001b[0m\u001b[1m        \u001b[0m\u001b[1m \u001b[0m┃\u001b[1m \u001b[0m\u001b[1m2017\u001b[0m\u001b[1m        \u001b[0m\u001b[1m \u001b[0m┃\u001b[1m \u001b[0m\u001b[1m2018\u001b[0m\u001b[1m        \u001b[0m\u001b[1m \u001b[0m┃\u001b[1m \u001b[0m\u001b[1m2019\u001b[0m\u001b[1m        \u001b[0m\u001b[1m \u001b[0m┃\u001b[1m \u001b[0m\u001b[1m2020\u001b[0m\u001b[1m        \u001b[0m\u001b[1m \u001b[0m┃\u001b[1m \u001b[0m\u001b[1m2021\u001b[0m\u001b[1m        \u001b[0m\u001b[1m \u001b[0m┃\u001b[1m \u001b[0m\u001b[1m2022\u001b[0m\u001b[1m        \u001b[0m\u001b[1m \u001b[0m┃\u001b[1m \u001b[0m\u001b[1m2023\u001b[0m\u001b[1m   \u001b[0m\u001b[1m \u001b[0m┃\n",
       "┡━━━━━━━━━━━━━━╇━━━━━━━━━━━━━━╇━━━━━━━━━━━━━━━━━━━━━━━━━━━━━━━━━━━━━━━━━━━━━━━━━━━━━━━━━━━━━━━━━━━━━━━━━━━━━━━━━━╇━━━━━━━━━━━━━━━━━━━╇━━━━━━━━━╇━━━━━━━━━╇━━━━━━━━━╇━━━━━━━━━╇━━━━━━━━━╇━━━━━━━━━╇━━━━━━━━━╇━━━━━━━━━╇━━━━━━━━━╇━━━━━━━━━╇━━━━━━━━━╇━━━━━━━━━╇━━━━━━━━━╇━━━━━━━━━╇━━━━━━━━━╇━━━━━━━━━╇━━━━━━━━━╇━━━━━━━━━╇━━━━━━━━━╇━━━━━━━━━╇━━━━━━━━━╇━━━━━━━━━╇━━━━━━━━━╇━━━━━━━━━╇━━━━━━━━━╇━━━━━━━━━╇━━━━━━━━━╇━━━━━━━━━╇━━━━━━━━━╇━━━━━━━━━╇━━━━━━━━━╇━━━━━━━━━╇━━━━━━━━━╇━━━━━━━━━╇━━━━━━━━━╇━━━━━━━━━╇━━━━━━━━━╇━━━━━━━━━╇━━━━━━━━━╇━━━━━━━━━╇━━━━━━━━━╇━━━━━━━━━╇━━━━━━━━━━━━━━╇━━━━━━━━━━━━━━╇━━━━━━━━━━━━━━╇━━━━━━━━━━━━━━╇━━━━━━━━━━━━━━╇━━━━━━━━━━━━━━╇━━━━━━━━━━━━━━╇━━━━━━━━━━━━━━╇━━━━━━━━━━━━━━╇━━━━━━━━━━━━━━╇━━━━━━━━━━━━━━╇━━━━━━━━━━━━━━╇━━━━━━━━━━━━━━╇━━━━━━━━━━━━━━╇━━━━━━━━━━━━━━╇━━━━━━━━━━━━━━╇━━━━━━━━━━━━━━╇━━━━━━━━━━━━━━╇━━━━━━━━━━━━━━╇━━━━━━━━━━━━━━╇━━━━━━━━━━━━━━╇━━━━━━━━━┩\n",
       "│ \u001b[2mstring\u001b[0m       │ \u001b[2mstring\u001b[0m       │ \u001b[2mstring\u001b[0m                                                                           │ \u001b[2mstring\u001b[0m            │ \u001b[2mfloat64\u001b[0m │ \u001b[2mfloat64\u001b[0m │ \u001b[2mfloat64\u001b[0m │ \u001b[2mfloat64\u001b[0m │ \u001b[2mfloat64\u001b[0m │ \u001b[2mfloat64\u001b[0m │ \u001b[2mfloat64\u001b[0m │ \u001b[2mfloat64\u001b[0m │ \u001b[2mfloat64\u001b[0m │ \u001b[2mfloat64\u001b[0m │ \u001b[2mfloat64\u001b[0m │ \u001b[2mfloat64\u001b[0m │ \u001b[2mfloat64\u001b[0m │ \u001b[2mfloat64\u001b[0m │ \u001b[2mfloat64\u001b[0m │ \u001b[2mfloat64\u001b[0m │ \u001b[2mfloat64\u001b[0m │ \u001b[2mfloat64\u001b[0m │ \u001b[2mfloat64\u001b[0m │ \u001b[2mfloat64\u001b[0m │ \u001b[2mfloat64\u001b[0m │ \u001b[2mfloat64\u001b[0m │ \u001b[2mfloat64\u001b[0m │ \u001b[2mfloat64\u001b[0m │ \u001b[2mfloat64\u001b[0m │ \u001b[2mfloat64\u001b[0m │ \u001b[2mfloat64\u001b[0m │ \u001b[2mfloat64\u001b[0m │ \u001b[2mfloat64\u001b[0m │ \u001b[2mfloat64\u001b[0m │ \u001b[2mfloat64\u001b[0m │ \u001b[2mfloat64\u001b[0m │ \u001b[2mfloat64\u001b[0m │ \u001b[2mfloat64\u001b[0m │ \u001b[2mfloat64\u001b[0m │ \u001b[2mfloat64\u001b[0m │ \u001b[2mfloat64\u001b[0m │ \u001b[2mfloat64\u001b[0m │ \u001b[2mfloat64\u001b[0m │ \u001b[2mfloat64\u001b[0m │ \u001b[2mfloat64\u001b[0m │ \u001b[2mfloat64\u001b[0m │ \u001b[2mfloat64\u001b[0m      │ \u001b[2mfloat64\u001b[0m      │ \u001b[2mfloat64\u001b[0m      │ \u001b[2mfloat64\u001b[0m      │ \u001b[2mfloat64\u001b[0m      │ \u001b[2mfloat64\u001b[0m      │ \u001b[2mfloat64\u001b[0m      │ \u001b[2mfloat64\u001b[0m      │ \u001b[2mfloat64\u001b[0m      │ \u001b[2mfloat64\u001b[0m      │ \u001b[2mfloat64\u001b[0m      │ \u001b[2mfloat64\u001b[0m      │ \u001b[2mfloat64\u001b[0m      │ \u001b[2mfloat64\u001b[0m      │ \u001b[2mfloat64\u001b[0m      │ \u001b[2mfloat64\u001b[0m      │ \u001b[2mfloat64\u001b[0m      │ \u001b[2mfloat64\u001b[0m      │ \u001b[2mfloat64\u001b[0m      │ \u001b[2mfloat64\u001b[0m      │ \u001b[2mfloat64\u001b[0m      │ \u001b[2mfloat64\u001b[0m │\n",
       "├──────────────┼──────────────┼──────────────────────────────────────────────────────────────────────────────────┼───────────────────┼─────────┼─────────┼─────────┼─────────┼─────────┼─────────┼─────────┼─────────┼─────────┼─────────┼─────────┼─────────┼─────────┼─────────┼─────────┼─────────┼─────────┼─────────┼─────────┼─────────┼─────────┼─────────┼─────────┼─────────┼─────────┼─────────┼─────────┼─────────┼─────────┼─────────┼─────────┼─────────┼─────────┼─────────┼─────────┼─────────┼─────────┼─────────┼─────────┼─────────┼─────────┼─────────┼──────────────┼──────────────┼──────────────┼──────────────┼──────────────┼──────────────┼──────────────┼──────────────┼──────────────┼──────────────┼──────────────┼──────────────┼──────────────┼──────────────┼──────────────┼──────────────┼──────────────┼──────────────┼──────────────┼──────────────┼──────────────┼─────────┤\n",
       "│ \u001b[32mAfghanistan \u001b[0m │ \u001b[32mAFG         \u001b[0m │ \u001b[32mAccess to clean fuels and technologies for cooking, rural (% of rural populatio…\u001b[0m │ \u001b[32mEG.CFT.ACCS.RU.ZS\u001b[0m │    \u001b[2mNULL\u001b[0m │    \u001b[2mNULL\u001b[0m │    \u001b[2mNULL\u001b[0m │    \u001b[2mNULL\u001b[0m │    \u001b[2mNULL\u001b[0m │    \u001b[2mNULL\u001b[0m │    \u001b[2mNULL\u001b[0m │    \u001b[2mNULL\u001b[0m │    \u001b[2mNULL\u001b[0m │    \u001b[2mNULL\u001b[0m │    \u001b[2mNULL\u001b[0m │    \u001b[2mNULL\u001b[0m │    \u001b[2mNULL\u001b[0m │    \u001b[2mNULL\u001b[0m │    \u001b[2mNULL\u001b[0m │    \u001b[2mNULL\u001b[0m │    \u001b[2mNULL\u001b[0m │    \u001b[2mNULL\u001b[0m │    \u001b[2mNULL\u001b[0m │    \u001b[2mNULL\u001b[0m │    \u001b[2mNULL\u001b[0m │    \u001b[2mNULL\u001b[0m │    \u001b[2mNULL\u001b[0m │    \u001b[2mNULL\u001b[0m │    \u001b[2mNULL\u001b[0m │    \u001b[2mNULL\u001b[0m │    \u001b[2mNULL\u001b[0m │    \u001b[2mNULL\u001b[0m │    \u001b[2mNULL\u001b[0m │    \u001b[2mNULL\u001b[0m │    \u001b[2mNULL\u001b[0m │    \u001b[2mNULL\u001b[0m │    \u001b[2mNULL\u001b[0m │    \u001b[2mNULL\u001b[0m │    \u001b[2mNULL\u001b[0m │    \u001b[2mNULL\u001b[0m │    \u001b[2mNULL\u001b[0m │    \u001b[2mNULL\u001b[0m │    \u001b[2mNULL\u001b[0m │    \u001b[2mNULL\u001b[0m │     \u001b[1;36m0.8\u001b[0m │     \u001b[1;36m1.0\u001b[0m │ \u001b[1;36m1.300000e+00\u001b[0m │ \u001b[1;36m1.600000e+00\u001b[0m │ \u001b[1;36m1.900000e+00\u001b[0m │ \u001b[1;36m2.400000e+00\u001b[0m │ \u001b[1;36m3.000000e+00\u001b[0m │ \u001b[1;36m3.600000e+00\u001b[0m │ \u001b[1;36m4.300000e+00\u001b[0m │ \u001b[1;36m5.100000e+00\u001b[0m │ \u001b[1;36m5.900000e+00\u001b[0m │ \u001b[1;36m7.000000e+00\u001b[0m │ \u001b[1;36m8.000000e+00\u001b[0m │ \u001b[1;36m9.000000e+00\u001b[0m │ \u001b[1;36m1.020000e+01\u001b[0m │ \u001b[1;36m1.140000e+01\u001b[0m │ \u001b[1;36m1.260000e+01\u001b[0m │ \u001b[1;36m1.350000e+01\u001b[0m │ \u001b[1;36m1.450000e+01\u001b[0m │ \u001b[1;36m1.560000e+01\u001b[0m │ \u001b[1;36m1.640000e+01\u001b[0m │ \u001b[1;36m1.740000e+01\u001b[0m │ \u001b[1;36m1.850000e+01\u001b[0m │    \u001b[2mNULL\u001b[0m │\n",
       "│ \u001b[32mAfghanistan \u001b[0m │ \u001b[32mAFG         \u001b[0m │ \u001b[32mAccess to clean fuels and technologies for cooking, urban (% of urban populatio…\u001b[0m │ \u001b[32mEG.CFT.ACCS.UR.ZS\u001b[0m │    \u001b[2mNULL\u001b[0m │    \u001b[2mNULL\u001b[0m │    \u001b[2mNULL\u001b[0m │    \u001b[2mNULL\u001b[0m │    \u001b[2mNULL\u001b[0m │    \u001b[2mNULL\u001b[0m │    \u001b[2mNULL\u001b[0m │    \u001b[2mNULL\u001b[0m │    \u001b[2mNULL\u001b[0m │    \u001b[2mNULL\u001b[0m │    \u001b[2mNULL\u001b[0m │    \u001b[2mNULL\u001b[0m │    \u001b[2mNULL\u001b[0m │    \u001b[2mNULL\u001b[0m │    \u001b[2mNULL\u001b[0m │    \u001b[2mNULL\u001b[0m │    \u001b[2mNULL\u001b[0m │    \u001b[2mNULL\u001b[0m │    \u001b[2mNULL\u001b[0m │    \u001b[2mNULL\u001b[0m │    \u001b[2mNULL\u001b[0m │    \u001b[2mNULL\u001b[0m │    \u001b[2mNULL\u001b[0m │    \u001b[2mNULL\u001b[0m │    \u001b[2mNULL\u001b[0m │    \u001b[2mNULL\u001b[0m │    \u001b[2mNULL\u001b[0m │    \u001b[2mNULL\u001b[0m │    \u001b[2mNULL\u001b[0m │    \u001b[2mNULL\u001b[0m │    \u001b[2mNULL\u001b[0m │    \u001b[2mNULL\u001b[0m │    \u001b[2mNULL\u001b[0m │    \u001b[2mNULL\u001b[0m │    \u001b[2mNULL\u001b[0m │    \u001b[2mNULL\u001b[0m │    \u001b[2mNULL\u001b[0m │    \u001b[2mNULL\u001b[0m │    \u001b[2mNULL\u001b[0m │    \u001b[2mNULL\u001b[0m │    \u001b[1;36m25.3\u001b[0m │    \u001b[1;36m29.9\u001b[0m │ \u001b[1;36m3.510000e+01\u001b[0m │ \u001b[1;36m4.025000e+01\u001b[0m │ \u001b[1;36m4.530000e+01\u001b[0m │ \u001b[1;36m5.020000e+01\u001b[0m │ \u001b[1;36m5.470000e+01\u001b[0m │ \u001b[1;36m5.920000e+01\u001b[0m │ \u001b[1;36m6.290000e+01\u001b[0m │ \u001b[1;36m6.640000e+01\u001b[0m │ \u001b[1;36m6.940000e+01\u001b[0m │ \u001b[1;36m7.200000e+01\u001b[0m │ \u001b[1;36m7.430000e+01\u001b[0m │ \u001b[1;36m7.610000e+01\u001b[0m │ \u001b[1;36m7.800000e+01\u001b[0m │ \u001b[1;36m7.950000e+01\u001b[0m │ \u001b[1;36m8.050000e+01\u001b[0m │ \u001b[1;36m8.160000e+01\u001b[0m │ \u001b[1;36m8.260000e+01\u001b[0m │ \u001b[1;36m8.320000e+01\u001b[0m │ \u001b[1;36m8.380000e+01\u001b[0m │ \u001b[1;36m8.450000e+01\u001b[0m │ \u001b[1;36m8.500000e+01\u001b[0m │    \u001b[2mNULL\u001b[0m │\n",
       "│ \u001b[32mAfghanistan \u001b[0m │ \u001b[32mAFG         \u001b[0m │ \u001b[32mAccess to electricity (% of population)                                         \u001b[0m │ \u001b[32mEG.ELC.ACCS.ZS   \u001b[0m │    \u001b[2mNULL\u001b[0m │    \u001b[2mNULL\u001b[0m │    \u001b[2mNULL\u001b[0m │    \u001b[2mNULL\u001b[0m │    \u001b[2mNULL\u001b[0m │    \u001b[2mNULL\u001b[0m │    \u001b[2mNULL\u001b[0m │    \u001b[2mNULL\u001b[0m │    \u001b[2mNULL\u001b[0m │    \u001b[2mNULL\u001b[0m │    \u001b[2mNULL\u001b[0m │    \u001b[2mNULL\u001b[0m │    \u001b[2mNULL\u001b[0m │    \u001b[2mNULL\u001b[0m │    \u001b[2mNULL\u001b[0m │    \u001b[2mNULL\u001b[0m │    \u001b[2mNULL\u001b[0m │    \u001b[2mNULL\u001b[0m │    \u001b[2mNULL\u001b[0m │    \u001b[2mNULL\u001b[0m │    \u001b[2mNULL\u001b[0m │    \u001b[2mNULL\u001b[0m │    \u001b[2mNULL\u001b[0m │    \u001b[2mNULL\u001b[0m │    \u001b[2mNULL\u001b[0m │    \u001b[2mNULL\u001b[0m │    \u001b[2mNULL\u001b[0m │    \u001b[2mNULL\u001b[0m │    \u001b[2mNULL\u001b[0m │    \u001b[2mNULL\u001b[0m │    \u001b[2mNULL\u001b[0m │    \u001b[2mNULL\u001b[0m │    \u001b[2mNULL\u001b[0m │    \u001b[2mNULL\u001b[0m │    \u001b[2mNULL\u001b[0m │    \u001b[2mNULL\u001b[0m │    \u001b[2mNULL\u001b[0m │    \u001b[2mNULL\u001b[0m │    \u001b[2mNULL\u001b[0m │    \u001b[2mNULL\u001b[0m │     \u001b[1;36m4.4\u001b[0m │     \u001b[1;36m9.3\u001b[0m │ \u001b[1;36m1.410000e+01\u001b[0m │ \u001b[1;36m1.900000e+01\u001b[0m │ \u001b[1;36m2.380000e+01\u001b[0m │ \u001b[1;36m2.870000e+01\u001b[0m │ \u001b[1;36m3.350000e+01\u001b[0m │ \u001b[1;36m3.840000e+01\u001b[0m │ \u001b[1;36m4.240000e+01\u001b[0m │ \u001b[1;36m4.830000e+01\u001b[0m │ \u001b[1;36m4.270000e+01\u001b[0m │ \u001b[1;36m4.320000e+01\u001b[0m │ \u001b[1;36m6.910000e+01\u001b[0m │ \u001b[1;36m6.800000e+01\u001b[0m │ \u001b[1;36m8.950000e+01\u001b[0m │ \u001b[1;36m7.150000e+01\u001b[0m │ \u001b[1;36m9.770000e+01\u001b[0m │ \u001b[1;36m9.770000e+01\u001b[0m │ \u001b[1;36m9.340000e+01\u001b[0m │ \u001b[1;36m9.770000e+01\u001b[0m │ \u001b[1;36m9.770000e+01\u001b[0m │ \u001b[1;36m9.770000e+01\u001b[0m │ \u001b[1;36m8.530000e+01\u001b[0m │    \u001b[2mNULL\u001b[0m │\n",
       "│ \u001b[32mAfghanistan \u001b[0m │ \u001b[32mAFG         \u001b[0m │ \u001b[32mAccess to electricity, rural (% of rural population)                            \u001b[0m │ \u001b[32mEG.ELC.ACCS.RU.ZS\u001b[0m │    \u001b[2mNULL\u001b[0m │    \u001b[2mNULL\u001b[0m │    \u001b[2mNULL\u001b[0m │    \u001b[2mNULL\u001b[0m │    \u001b[2mNULL\u001b[0m │    \u001b[2mNULL\u001b[0m │    \u001b[2mNULL\u001b[0m │    \u001b[2mNULL\u001b[0m │    \u001b[2mNULL\u001b[0m │    \u001b[2mNULL\u001b[0m │    \u001b[2mNULL\u001b[0m │    \u001b[2mNULL\u001b[0m │    \u001b[2mNULL\u001b[0m │    \u001b[2mNULL\u001b[0m │    \u001b[2mNULL\u001b[0m │    \u001b[2mNULL\u001b[0m │    \u001b[2mNULL\u001b[0m │    \u001b[2mNULL\u001b[0m │    \u001b[2mNULL\u001b[0m │    \u001b[2mNULL\u001b[0m │    \u001b[2mNULL\u001b[0m │    \u001b[2mNULL\u001b[0m │    \u001b[2mNULL\u001b[0m │    \u001b[2mNULL\u001b[0m │    \u001b[2mNULL\u001b[0m │    \u001b[2mNULL\u001b[0m │    \u001b[2mNULL\u001b[0m │    \u001b[2mNULL\u001b[0m │    \u001b[2mNULL\u001b[0m │    \u001b[2mNULL\u001b[0m │    \u001b[2mNULL\u001b[0m │    \u001b[2mNULL\u001b[0m │    \u001b[2mNULL\u001b[0m │    \u001b[2mNULL\u001b[0m │    \u001b[2mNULL\u001b[0m │    \u001b[2mNULL\u001b[0m │    \u001b[2mNULL\u001b[0m │    \u001b[2mNULL\u001b[0m │    \u001b[2mNULL\u001b[0m │    \u001b[2mNULL\u001b[0m │    \u001b[2mNULL\u001b[0m │    \u001b[2mNULL\u001b[0m │         \u001b[2mNULL\u001b[0m │ \u001b[1;36m2.100000e+00\u001b[0m │ \u001b[1;36m7.800000e+00\u001b[0m │ \u001b[1;36m1.540000e+01\u001b[0m │ \u001b[1;36m1.930000e+01\u001b[0m │ \u001b[1;36m2.500000e+01\u001b[0m │ \u001b[1;36m2.800000e+01\u001b[0m │ \u001b[1;36m3.670000e+01\u001b[0m │ \u001b[1;36m3.020000e+01\u001b[0m │ \u001b[1;36m2.960000e+01\u001b[0m │ \u001b[1;36m6.080000e+01\u001b[0m │ \u001b[1;36m6.020000e+01\u001b[0m │ \u001b[1;36m8.650000e+01\u001b[0m │ \u001b[1;36m6.460000e+01\u001b[0m │ \u001b[1;36m9.710000e+01\u001b[0m │ \u001b[1;36m9.710000e+01\u001b[0m │ \u001b[1;36m9.160000e+01\u001b[0m │ \u001b[1;36m9.710000e+01\u001b[0m │ \u001b[1;36m9.710000e+01\u001b[0m │ \u001b[1;36m9.710000e+01\u001b[0m │ \u001b[1;36m8.170000e+01\u001b[0m │    \u001b[2mNULL\u001b[0m │\n",
       "│ \u001b[32mAfghanistan \u001b[0m │ \u001b[32mAFG         \u001b[0m │ \u001b[32mManufacturing, value added (current LCU)                                        \u001b[0m │ \u001b[32mNV.IND.MANF.CN   \u001b[0m │    \u001b[2mNULL\u001b[0m │    \u001b[2mNULL\u001b[0m │    \u001b[2mNULL\u001b[0m │    \u001b[2mNULL\u001b[0m │    \u001b[2mNULL\u001b[0m │    \u001b[2mNULL\u001b[0m │    \u001b[2mNULL\u001b[0m │    \u001b[2mNULL\u001b[0m │    \u001b[2mNULL\u001b[0m │    \u001b[2mNULL\u001b[0m │    \u001b[2mNULL\u001b[0m │    \u001b[2mNULL\u001b[0m │    \u001b[2mNULL\u001b[0m │    \u001b[2mNULL\u001b[0m │    \u001b[2mNULL\u001b[0m │    \u001b[2mNULL\u001b[0m │    \u001b[2mNULL\u001b[0m │    \u001b[2mNULL\u001b[0m │    \u001b[2mNULL\u001b[0m │    \u001b[2mNULL\u001b[0m │    \u001b[2mNULL\u001b[0m │    \u001b[2mNULL\u001b[0m │    \u001b[2mNULL\u001b[0m │    \u001b[2mNULL\u001b[0m │    \u001b[2mNULL\u001b[0m │    \u001b[2mNULL\u001b[0m │    \u001b[2mNULL\u001b[0m │    \u001b[2mNULL\u001b[0m │    \u001b[2mNULL\u001b[0m │    \u001b[2mNULL\u001b[0m │    \u001b[2mNULL\u001b[0m │    \u001b[2mNULL\u001b[0m │    \u001b[2mNULL\u001b[0m │    \u001b[2mNULL\u001b[0m │    \u001b[2mNULL\u001b[0m │    \u001b[2mNULL\u001b[0m │    \u001b[2mNULL\u001b[0m │    \u001b[2mNULL\u001b[0m │    \u001b[2mNULL\u001b[0m │    \u001b[2mNULL\u001b[0m │    \u001b[2mNULL\u001b[0m │    \u001b[2mNULL\u001b[0m │ \u001b[1;36m3.428804e+10\u001b[0m │ \u001b[1;36m3.746243e+10\u001b[0m │ \u001b[1;36m4.384849e+10\u001b[0m │ \u001b[1;36m5.114959e+10\u001b[0m │ \u001b[1;36m5.702960e+10\u001b[0m │ \u001b[1;36m8.614882e+10\u001b[0m │ \u001b[1;36m9.187981e+10\u001b[0m │ \u001b[1;36m8.043676e+10\u001b[0m │ \u001b[1;36m9.094285e+10\u001b[0m │ \u001b[1;36m1.171710e+11\u001b[0m │ \u001b[1;36m1.284561e+11\u001b[0m │ \u001b[1;36m1.309616e+11\u001b[0m │ \u001b[1;36m1.350303e+11\u001b[0m │ \u001b[1;36m1.396389e+11\u001b[0m │ \u001b[1;36m5.031320e+10\u001b[0m │ \u001b[1;36m4.538218e+10\u001b[0m │ \u001b[1;36m8.178808e+10\u001b[0m │ \u001b[1;36m1.035063e+11\u001b[0m │ \u001b[1;36m1.155540e+11\u001b[0m │ \u001b[1;36m1.062640e+11\u001b[0m │ \u001b[1;36m1.307860e+11\u001b[0m │    \u001b[2mNULL\u001b[0m │\n",
       "└──────────────┴──────────────┴──────────────────────────────────────────────────────────────────────────────────┴───────────────────┴─────────┴─────────┴─────────┴─────────┴─────────┴─────────┴─────────┴─────────┴─────────┴─────────┴─────────┴─────────┴─────────┴─────────┴─────────┴─────────┴─────────┴─────────┴─────────┴─────────┴─────────┴─────────┴─────────┴─────────┴─────────┴─────────┴─────────┴─────────┴─────────┴─────────┴─────────┴─────────┴─────────┴─────────┴─────────┴─────────┴─────────┴─────────┴─────────┴─────────┴─────────┴─────────┴──────────────┴──────────────┴──────────────┴──────────────┴──────────────┴──────────────┴──────────────┴──────────────┴──────────────┴──────────────┴──────────────┴──────────────┴──────────────┴──────────────┴──────────────┴──────────────┴──────────────┴──────────────┴──────────────┴──────────────┴──────────────┴─────────┘"
      ]
     },
     "execution_count": 47,
     "metadata": {},
     "output_type": "execute_result"
    }
   ],
   "source": [
    "# should not be null\n",
    "wdi.filter(_.country_code.isin(missing_countries_year)).order_by(\"country_name\").head(5)"
   ]
  },
  {
   "cell_type": "code",
   "execution_count": 48,
   "metadata": {},
   "outputs": [
    {
     "data": {
      "text/html": [
       "<pre style=\"white-space:pre;overflow-x:auto;line-height:normal;font-family:Menlo,'DejaVu Sans Mono',consolas,'Courier New',monospace\">┏━━━━━━━━━━━━━━┳━━━━━━━━━━━━━━┳━━━━━━━━━━━━━━━━━━━━━━━━━━━━━━━━━━━━━━━━━━━━━━━━━━━━━━━━━━━━━━━━━━━━━━━━━━━━┳━━━━━━━━━━━━━━━━━━━━━━┳━━━━━━━━━┳━━━━━━━━━┳━━━━━━━━━┳━━━━━━━━━┳━━━━━━━━━┳━━━━━━━━━┳━━━━━━━━━┳━━━━━━━━━┳━━━━━━━━━┳━━━━━━━━━┳━━━━━━━━━┳━━━━━━━━━┳━━━━━━━━━┳━━━━━━━━━┳━━━━━━━━━┳━━━━━━━━━┳━━━━━━━━━┳━━━━━━━━━━━━┳━━━━━━━━━━━━┳━━━━━━━━━━━┳━━━━━━━━━┳━━━━━━━━━┳━━━━━━━━━┳━━━━━━━━━┳━━━━━━━━━━┳━━━━━━━━━━━━━━┳━━━━━━━━━━━━━━┳━━━━━━━━━━━━━━┳━━━━━━━━━━━━━━┳━━━━━━━━━━━━━━┳━━━━━━━━━━━━━━┳━━━━━━━━━━━━━━┳━━━━━━━━━━━━━━┳━━━━━━━━━━━━━━┳━━━━━━━━━━━━━━┳━━━━━━━━━━━━━━┳━━━━━━━━━━━━━━┳━━━━━━━━━━━━━━┳━━━━━━━━━━━━━━┳━━━━━━━━━━━━━━┳━━━━━━━━━━━━━━┳━━━━━━━━━━━━━━┳━━━━━━━━━━━━━━┳━━━━━━━━━━━━━━┳━━━━━━━━━━━━━━┳━━━━━━━━━━━━━━┳━━━━━━━━━━━━━━┳━━━━━━━━━━━━━━┳━━━━━━━━━━━━━━┳━━━━━━━━━━━━━━┳━━━━━━━━━━━━━━┳━━━━━━━━━━━━━━┳━━━━━━━━━━━━━━┳━━━━━━━━━━━━━━┳━━━━━━━━━━━━━━┳━━━━━━━━━━━━━━┳━━━━━━━━━━━━━━┳━━━━━━━━━━━━━━┳━━━━━━━━━━━━━━┳━━━━━━━━━━━━━━┳━━━━━━━━━━━━━━┳━━━━━━━━━━━━━━┳━━━━━━━━━━━━━━┳━━━━━━━━━━━━━━┓\n",
       "┃<span style=\"font-weight: bold\"> country_name </span>┃<span style=\"font-weight: bold\"> country_code </span>┃<span style=\"font-weight: bold\"> indicator_name                                                             </span>┃<span style=\"font-weight: bold\"> indicator_code       </span>┃<span style=\"font-weight: bold\"> 1960    </span>┃<span style=\"font-weight: bold\"> 1961    </span>┃<span style=\"font-weight: bold\"> 1962    </span>┃<span style=\"font-weight: bold\"> 1963    </span>┃<span style=\"font-weight: bold\"> 1964    </span>┃<span style=\"font-weight: bold\"> 1965    </span>┃<span style=\"font-weight: bold\"> 1966    </span>┃<span style=\"font-weight: bold\"> 1967    </span>┃<span style=\"font-weight: bold\"> 1968    </span>┃<span style=\"font-weight: bold\"> 1969    </span>┃<span style=\"font-weight: bold\"> 1970    </span>┃<span style=\"font-weight: bold\"> 1971    </span>┃<span style=\"font-weight: bold\"> 1972    </span>┃<span style=\"font-weight: bold\"> 1973    </span>┃<span style=\"font-weight: bold\"> 1974    </span>┃<span style=\"font-weight: bold\"> 1975    </span>┃<span style=\"font-weight: bold\"> 1976    </span>┃<span style=\"font-weight: bold\"> 1977       </span>┃<span style=\"font-weight: bold\"> 1978       </span>┃<span style=\"font-weight: bold\"> 1979      </span>┃<span style=\"font-weight: bold\"> 1980    </span>┃<span style=\"font-weight: bold\"> 1981    </span>┃<span style=\"font-weight: bold\"> 1982    </span>┃<span style=\"font-weight: bold\"> 1983    </span>┃<span style=\"font-weight: bold\"> 1984     </span>┃<span style=\"font-weight: bold\"> 1985         </span>┃<span style=\"font-weight: bold\"> 1986         </span>┃<span style=\"font-weight: bold\"> 1987         </span>┃<span style=\"font-weight: bold\"> 1988         </span>┃<span style=\"font-weight: bold\"> 1989         </span>┃<span style=\"font-weight: bold\"> 1990         </span>┃<span style=\"font-weight: bold\"> 1991         </span>┃<span style=\"font-weight: bold\"> 1992         </span>┃<span style=\"font-weight: bold\"> 1993         </span>┃<span style=\"font-weight: bold\"> 1994         </span>┃<span style=\"font-weight: bold\"> 1995         </span>┃<span style=\"font-weight: bold\"> 1996         </span>┃<span style=\"font-weight: bold\"> 1997         </span>┃<span style=\"font-weight: bold\"> 1998         </span>┃<span style=\"font-weight: bold\"> 1999         </span>┃<span style=\"font-weight: bold\"> 2000         </span>┃<span style=\"font-weight: bold\"> 2001         </span>┃<span style=\"font-weight: bold\"> 2002         </span>┃<span style=\"font-weight: bold\"> 2003         </span>┃<span style=\"font-weight: bold\"> 2004         </span>┃<span style=\"font-weight: bold\"> 2005         </span>┃<span style=\"font-weight: bold\"> 2006         </span>┃<span style=\"font-weight: bold\"> 2007         </span>┃<span style=\"font-weight: bold\"> 2008         </span>┃<span style=\"font-weight: bold\"> 2009         </span>┃<span style=\"font-weight: bold\"> 2010         </span>┃<span style=\"font-weight: bold\"> 2011         </span>┃<span style=\"font-weight: bold\"> 2012         </span>┃<span style=\"font-weight: bold\"> 2013         </span>┃<span style=\"font-weight: bold\"> 2014         </span>┃<span style=\"font-weight: bold\"> 2015         </span>┃<span style=\"font-weight: bold\"> 2016         </span>┃<span style=\"font-weight: bold\"> 2017         </span>┃<span style=\"font-weight: bold\"> 2018         </span>┃<span style=\"font-weight: bold\"> 2019         </span>┃<span style=\"font-weight: bold\"> 2020         </span>┃<span style=\"font-weight: bold\"> 2021         </span>┃<span style=\"font-weight: bold\"> 2022         </span>┃<span style=\"font-weight: bold\"> 2023         </span>┃\n",
       "┡━━━━━━━━━━━━━━╇━━━━━━━━━━━━━━╇━━━━━━━━━━━━━━━━━━━━━━━━━━━━━━━━━━━━━━━━━━━━━━━━━━━━━━━━━━━━━━━━━━━━━━━━━━━━╇━━━━━━━━━━━━━━━━━━━━━━╇━━━━━━━━━╇━━━━━━━━━╇━━━━━━━━━╇━━━━━━━━━╇━━━━━━━━━╇━━━━━━━━━╇━━━━━━━━━╇━━━━━━━━━╇━━━━━━━━━╇━━━━━━━━━╇━━━━━━━━━╇━━━━━━━━━╇━━━━━━━━━╇━━━━━━━━━╇━━━━━━━━━╇━━━━━━━━━╇━━━━━━━━━╇━━━━━━━━━━━━╇━━━━━━━━━━━━╇━━━━━━━━━━━╇━━━━━━━━━╇━━━━━━━━━╇━━━━━━━━━╇━━━━━━━━━╇━━━━━━━━━━╇━━━━━━━━━━━━━━╇━━━━━━━━━━━━━━╇━━━━━━━━━━━━━━╇━━━━━━━━━━━━━━╇━━━━━━━━━━━━━━╇━━━━━━━━━━━━━━╇━━━━━━━━━━━━━━╇━━━━━━━━━━━━━━╇━━━━━━━━━━━━━━╇━━━━━━━━━━━━━━╇━━━━━━━━━━━━━━╇━━━━━━━━━━━━━━╇━━━━━━━━━━━━━━╇━━━━━━━━━━━━━━╇━━━━━━━━━━━━━━╇━━━━━━━━━━━━━━╇━━━━━━━━━━━━━━╇━━━━━━━━━━━━━━╇━━━━━━━━━━━━━━╇━━━━━━━━━━━━━━╇━━━━━━━━━━━━━━╇━━━━━━━━━━━━━━╇━━━━━━━━━━━━━━╇━━━━━━━━━━━━━━╇━━━━━━━━━━━━━━╇━━━━━━━━━━━━━━╇━━━━━━━━━━━━━━╇━━━━━━━━━━━━━━╇━━━━━━━━━━━━━━╇━━━━━━━━━━━━━━╇━━━━━━━━━━━━━━╇━━━━━━━━━━━━━━╇━━━━━━━━━━━━━━╇━━━━━━━━━━━━━━╇━━━━━━━━━━━━━━╇━━━━━━━━━━━━━━╇━━━━━━━━━━━━━━╇━━━━━━━━━━━━━━╇━━━━━━━━━━━━━━┩\n",
       "│ <span style=\"color: #7f7f7f; text-decoration-color: #7f7f7f\">string</span>       │ <span style=\"color: #7f7f7f; text-decoration-color: #7f7f7f\">string</span>       │ <span style=\"color: #7f7f7f; text-decoration-color: #7f7f7f\">string</span>                                                                     │ <span style=\"color: #7f7f7f; text-decoration-color: #7f7f7f\">string</span>               │ <span style=\"color: #7f7f7f; text-decoration-color: #7f7f7f\">float64</span> │ <span style=\"color: #7f7f7f; text-decoration-color: #7f7f7f\">float64</span> │ <span style=\"color: #7f7f7f; text-decoration-color: #7f7f7f\">float64</span> │ <span style=\"color: #7f7f7f; text-decoration-color: #7f7f7f\">float64</span> │ <span style=\"color: #7f7f7f; text-decoration-color: #7f7f7f\">float64</span> │ <span style=\"color: #7f7f7f; text-decoration-color: #7f7f7f\">float64</span> │ <span style=\"color: #7f7f7f; text-decoration-color: #7f7f7f\">float64</span> │ <span style=\"color: #7f7f7f; text-decoration-color: #7f7f7f\">float64</span> │ <span style=\"color: #7f7f7f; text-decoration-color: #7f7f7f\">float64</span> │ <span style=\"color: #7f7f7f; text-decoration-color: #7f7f7f\">float64</span> │ <span style=\"color: #7f7f7f; text-decoration-color: #7f7f7f\">float64</span> │ <span style=\"color: #7f7f7f; text-decoration-color: #7f7f7f\">float64</span> │ <span style=\"color: #7f7f7f; text-decoration-color: #7f7f7f\">float64</span> │ <span style=\"color: #7f7f7f; text-decoration-color: #7f7f7f\">float64</span> │ <span style=\"color: #7f7f7f; text-decoration-color: #7f7f7f\">float64</span> │ <span style=\"color: #7f7f7f; text-decoration-color: #7f7f7f\">float64</span> │ <span style=\"color: #7f7f7f; text-decoration-color: #7f7f7f\">float64</span> │ <span style=\"color: #7f7f7f; text-decoration-color: #7f7f7f\">float64</span>    │ <span style=\"color: #7f7f7f; text-decoration-color: #7f7f7f\">float64</span>    │ <span style=\"color: #7f7f7f; text-decoration-color: #7f7f7f\">float64</span>   │ <span style=\"color: #7f7f7f; text-decoration-color: #7f7f7f\">float64</span> │ <span style=\"color: #7f7f7f; text-decoration-color: #7f7f7f\">float64</span> │ <span style=\"color: #7f7f7f; text-decoration-color: #7f7f7f\">float64</span> │ <span style=\"color: #7f7f7f; text-decoration-color: #7f7f7f\">float64</span> │ <span style=\"color: #7f7f7f; text-decoration-color: #7f7f7f\">float64</span>  │ <span style=\"color: #7f7f7f; text-decoration-color: #7f7f7f\">float64</span>      │ <span style=\"color: #7f7f7f; text-decoration-color: #7f7f7f\">float64</span>      │ <span style=\"color: #7f7f7f; text-decoration-color: #7f7f7f\">float64</span>      │ <span style=\"color: #7f7f7f; text-decoration-color: #7f7f7f\">float64</span>      │ <span style=\"color: #7f7f7f; text-decoration-color: #7f7f7f\">float64</span>      │ <span style=\"color: #7f7f7f; text-decoration-color: #7f7f7f\">float64</span>      │ <span style=\"color: #7f7f7f; text-decoration-color: #7f7f7f\">float64</span>      │ <span style=\"color: #7f7f7f; text-decoration-color: #7f7f7f\">float64</span>      │ <span style=\"color: #7f7f7f; text-decoration-color: #7f7f7f\">float64</span>      │ <span style=\"color: #7f7f7f; text-decoration-color: #7f7f7f\">float64</span>      │ <span style=\"color: #7f7f7f; text-decoration-color: #7f7f7f\">float64</span>      │ <span style=\"color: #7f7f7f; text-decoration-color: #7f7f7f\">float64</span>      │ <span style=\"color: #7f7f7f; text-decoration-color: #7f7f7f\">float64</span>      │ <span style=\"color: #7f7f7f; text-decoration-color: #7f7f7f\">float64</span>      │ <span style=\"color: #7f7f7f; text-decoration-color: #7f7f7f\">float64</span>      │ <span style=\"color: #7f7f7f; text-decoration-color: #7f7f7f\">float64</span>      │ <span style=\"color: #7f7f7f; text-decoration-color: #7f7f7f\">float64</span>      │ <span style=\"color: #7f7f7f; text-decoration-color: #7f7f7f\">float64</span>      │ <span style=\"color: #7f7f7f; text-decoration-color: #7f7f7f\">float64</span>      │ <span style=\"color: #7f7f7f; text-decoration-color: #7f7f7f\">float64</span>      │ <span style=\"color: #7f7f7f; text-decoration-color: #7f7f7f\">float64</span>      │ <span style=\"color: #7f7f7f; text-decoration-color: #7f7f7f\">float64</span>      │ <span style=\"color: #7f7f7f; text-decoration-color: #7f7f7f\">float64</span>      │ <span style=\"color: #7f7f7f; text-decoration-color: #7f7f7f\">float64</span>      │ <span style=\"color: #7f7f7f; text-decoration-color: #7f7f7f\">float64</span>      │ <span style=\"color: #7f7f7f; text-decoration-color: #7f7f7f\">float64</span>      │ <span style=\"color: #7f7f7f; text-decoration-color: #7f7f7f\">float64</span>      │ <span style=\"color: #7f7f7f; text-decoration-color: #7f7f7f\">float64</span>      │ <span style=\"color: #7f7f7f; text-decoration-color: #7f7f7f\">float64</span>      │ <span style=\"color: #7f7f7f; text-decoration-color: #7f7f7f\">float64</span>      │ <span style=\"color: #7f7f7f; text-decoration-color: #7f7f7f\">float64</span>      │ <span style=\"color: #7f7f7f; text-decoration-color: #7f7f7f\">float64</span>      │ <span style=\"color: #7f7f7f; text-decoration-color: #7f7f7f\">float64</span>      │ <span style=\"color: #7f7f7f; text-decoration-color: #7f7f7f\">float64</span>      │ <span style=\"color: #7f7f7f; text-decoration-color: #7f7f7f\">float64</span>      │ <span style=\"color: #7f7f7f; text-decoration-color: #7f7f7f\">float64</span>      │ <span style=\"color: #7f7f7f; text-decoration-color: #7f7f7f\">float64</span>      │ <span style=\"color: #7f7f7f; text-decoration-color: #7f7f7f\">float64</span>      │ <span style=\"color: #7f7f7f; text-decoration-color: #7f7f7f\">float64</span>      │\n",
       "├──────────────┼──────────────┼────────────────────────────────────────────────────────────────────────────┼──────────────────────┼─────────┼─────────┼─────────┼─────────┼─────────┼─────────┼─────────┼─────────┼─────────┼─────────┼─────────┼─────────┼─────────┼─────────┼─────────┼─────────┼─────────┼────────────┼────────────┼───────────┼─────────┼─────────┼─────────┼─────────┼──────────┼──────────────┼──────────────┼──────────────┼──────────────┼──────────────┼──────────────┼──────────────┼──────────────┼──────────────┼──────────────┼──────────────┼──────────────┼──────────────┼──────────────┼──────────────┼──────────────┼──────────────┼──────────────┼──────────────┼──────────────┼──────────────┼──────────────┼──────────────┼──────────────┼──────────────┼──────────────┼──────────────┼──────────────┼──────────────┼──────────────┼──────────────┼──────────────┼──────────────┼──────────────┼──────────────┼──────────────┼──────────────┼──────────────┼──────────────┤\n",
       "│ <span style=\"color: #008000; text-decoration-color: #008000\">Argentina   </span> │ <span style=\"color: #008000; text-decoration-color: #008000\">ARG         </span> │ <span style=\"color: #008000; text-decoration-color: #008000\">Access to electricity, rural (% of rural population)                      </span> │ <span style=\"color: #008000; text-decoration-color: #008000\">EG.ELC.ACCS.RU.ZS   </span> │    <span style=\"color: #7f7f7f; text-decoration-color: #7f7f7f\">NULL</span> │    <span style=\"color: #7f7f7f; text-decoration-color: #7f7f7f\">NULL</span> │    <span style=\"color: #7f7f7f; text-decoration-color: #7f7f7f\">NULL</span> │    <span style=\"color: #7f7f7f; text-decoration-color: #7f7f7f\">NULL</span> │    <span style=\"color: #7f7f7f; text-decoration-color: #7f7f7f\">NULL</span> │    <span style=\"color: #7f7f7f; text-decoration-color: #7f7f7f\">NULL</span> │    <span style=\"color: #7f7f7f; text-decoration-color: #7f7f7f\">NULL</span> │    <span style=\"color: #7f7f7f; text-decoration-color: #7f7f7f\">NULL</span> │    <span style=\"color: #7f7f7f; text-decoration-color: #7f7f7f\">NULL</span> │    <span style=\"color: #7f7f7f; text-decoration-color: #7f7f7f\">NULL</span> │    <span style=\"color: #7f7f7f; text-decoration-color: #7f7f7f\">NULL</span> │    <span style=\"color: #7f7f7f; text-decoration-color: #7f7f7f\">NULL</span> │    <span style=\"color: #7f7f7f; text-decoration-color: #7f7f7f\">NULL</span> │    <span style=\"color: #7f7f7f; text-decoration-color: #7f7f7f\">NULL</span> │    <span style=\"color: #7f7f7f; text-decoration-color: #7f7f7f\">NULL</span> │    <span style=\"color: #7f7f7f; text-decoration-color: #7f7f7f\">NULL</span> │    <span style=\"color: #7f7f7f; text-decoration-color: #7f7f7f\">NULL</span> │       <span style=\"color: #7f7f7f; text-decoration-color: #7f7f7f\">NULL</span> │       <span style=\"color: #7f7f7f; text-decoration-color: #7f7f7f\">NULL</span> │      <span style=\"color: #7f7f7f; text-decoration-color: #7f7f7f\">NULL</span> │    <span style=\"color: #7f7f7f; text-decoration-color: #7f7f7f\">NULL</span> │    <span style=\"color: #7f7f7f; text-decoration-color: #7f7f7f\">NULL</span> │    <span style=\"color: #7f7f7f; text-decoration-color: #7f7f7f\">NULL</span> │    <span style=\"color: #7f7f7f; text-decoration-color: #7f7f7f\">NULL</span> │     <span style=\"color: #7f7f7f; text-decoration-color: #7f7f7f\">NULL</span> │         <span style=\"color: #7f7f7f; text-decoration-color: #7f7f7f\">NULL</span> │         <span style=\"color: #7f7f7f; text-decoration-color: #7f7f7f\">NULL</span> │         <span style=\"color: #7f7f7f; text-decoration-color: #7f7f7f\">NULL</span> │         <span style=\"color: #7f7f7f; text-decoration-color: #7f7f7f\">NULL</span> │         <span style=\"color: #7f7f7f; text-decoration-color: #7f7f7f\">NULL</span> │ <span style=\"color: #008080; text-decoration-color: #008080; font-weight: bold\">7.889459e+01</span> │ <span style=\"color: #008080; text-decoration-color: #008080; font-weight: bold\">7.925427e+01</span> │ <span style=\"color: #008080; text-decoration-color: #008080; font-weight: bold\">7.977864e+01</span> │ <span style=\"color: #008080; text-decoration-color: #008080; font-weight: bold\">8.033370e+01</span> │ <span style=\"color: #008080; text-decoration-color: #008080; font-weight: bold\">8.093589e+01</span> │ <span style=\"color: #008080; text-decoration-color: #008080; font-weight: bold\">8.160809e+01</span> │ <span style=\"color: #008080; text-decoration-color: #008080; font-weight: bold\">8.236988e+01</span> │ <span style=\"color: #008080; text-decoration-color: #008080; font-weight: bold\">8.324706e+01</span> │ <span style=\"color: #008080; text-decoration-color: #008080; font-weight: bold\">8.426384e+01</span> │ <span style=\"color: #008080; text-decoration-color: #008080; font-weight: bold\">8.543186e+01</span> │ <span style=\"color: #008080; text-decoration-color: #008080; font-weight: bold\">9.180000e+01</span> │ <span style=\"color: #008080; text-decoration-color: #008080; font-weight: bold\">8.860000e+01</span> │ <span style=\"color: #008080; text-decoration-color: #008080; font-weight: bold\">9.260000e+01</span> │ <span style=\"color: #008080; text-decoration-color: #008080; font-weight: bold\">9.290000e+01</span> │ <span style=\"color: #008080; text-decoration-color: #008080; font-weight: bold\">9.320000e+01</span> │ <span style=\"color: #008080; text-decoration-color: #008080; font-weight: bold\">9.340000e+01</span> │ <span style=\"color: #008080; text-decoration-color: #008080; font-weight: bold\">9.360000e+01</span> │ <span style=\"color: #008080; text-decoration-color: #008080; font-weight: bold\">9.380000e+01</span> │ <span style=\"color: #008080; text-decoration-color: #008080; font-weight: bold\">9.400000e+01</span> │ <span style=\"color: #008080; text-decoration-color: #008080; font-weight: bold\">9.420000e+01</span> │ <span style=\"color: #008080; text-decoration-color: #008080; font-weight: bold\">9.860000e+01</span> │ <span style=\"color: #008080; text-decoration-color: #008080; font-weight: bold\">9.780000e+01</span> │ <span style=\"color: #008080; text-decoration-color: #008080; font-weight: bold\">9.610000e+01</span> │ <span style=\"color: #008080; text-decoration-color: #008080; font-weight: bold\">9.540000e+01</span> │ <span style=\"color: #008080; text-decoration-color: #008080; font-weight: bold\">1.000000e+02</span> │ <span style=\"color: #008080; text-decoration-color: #008080; font-weight: bold\">9.760000e+01</span> │ <span style=\"color: #008080; text-decoration-color: #008080; font-weight: bold\">9.930000e+01</span> │ <span style=\"color: #008080; text-decoration-color: #008080; font-weight: bold\">1.000000e+02</span> │ <span style=\"color: #008080; text-decoration-color: #008080; font-weight: bold\">9.990000e+01</span> │ <span style=\"color: #008080; text-decoration-color: #008080; font-weight: bold\">1.000000e+02</span> │ <span style=\"color: #008080; text-decoration-color: #008080; font-weight: bold\">1.000000e+02</span> │ <span style=\"color: #008080; text-decoration-color: #008080; font-weight: bold\">1.000000e+02</span> │ <span style=\"color: #008080; text-decoration-color: #008080; font-weight: bold\">1.000000e+02</span> │         <span style=\"color: #7f7f7f; text-decoration-color: #7f7f7f\">NULL</span> │\n",
       "│ <span style=\"color: #008000; text-decoration-color: #008000\">Argentina   </span> │ <span style=\"color: #008000; text-decoration-color: #008000\">ARG         </span> │ <span style=\"color: #008000; text-decoration-color: #008000\">Employment to population ratio, 15+, female (%) (modeled ILO estimate)    </span> │ <span style=\"color: #008000; text-decoration-color: #008000\">SL.EMP.TOTL.SP.FE.ZS</span> │    <span style=\"color: #7f7f7f; text-decoration-color: #7f7f7f\">NULL</span> │    <span style=\"color: #7f7f7f; text-decoration-color: #7f7f7f\">NULL</span> │    <span style=\"color: #7f7f7f; text-decoration-color: #7f7f7f\">NULL</span> │    <span style=\"color: #7f7f7f; text-decoration-color: #7f7f7f\">NULL</span> │    <span style=\"color: #7f7f7f; text-decoration-color: #7f7f7f\">NULL</span> │    <span style=\"color: #7f7f7f; text-decoration-color: #7f7f7f\">NULL</span> │    <span style=\"color: #7f7f7f; text-decoration-color: #7f7f7f\">NULL</span> │    <span style=\"color: #7f7f7f; text-decoration-color: #7f7f7f\">NULL</span> │    <span style=\"color: #7f7f7f; text-decoration-color: #7f7f7f\">NULL</span> │    <span style=\"color: #7f7f7f; text-decoration-color: #7f7f7f\">NULL</span> │    <span style=\"color: #7f7f7f; text-decoration-color: #7f7f7f\">NULL</span> │    <span style=\"color: #7f7f7f; text-decoration-color: #7f7f7f\">NULL</span> │    <span style=\"color: #7f7f7f; text-decoration-color: #7f7f7f\">NULL</span> │    <span style=\"color: #7f7f7f; text-decoration-color: #7f7f7f\">NULL</span> │    <span style=\"color: #7f7f7f; text-decoration-color: #7f7f7f\">NULL</span> │    <span style=\"color: #7f7f7f; text-decoration-color: #7f7f7f\">NULL</span> │    <span style=\"color: #7f7f7f; text-decoration-color: #7f7f7f\">NULL</span> │       <span style=\"color: #7f7f7f; text-decoration-color: #7f7f7f\">NULL</span> │       <span style=\"color: #7f7f7f; text-decoration-color: #7f7f7f\">NULL</span> │      <span style=\"color: #7f7f7f; text-decoration-color: #7f7f7f\">NULL</span> │    <span style=\"color: #7f7f7f; text-decoration-color: #7f7f7f\">NULL</span> │    <span style=\"color: #7f7f7f; text-decoration-color: #7f7f7f\">NULL</span> │    <span style=\"color: #7f7f7f; text-decoration-color: #7f7f7f\">NULL</span> │    <span style=\"color: #7f7f7f; text-decoration-color: #7f7f7f\">NULL</span> │     <span style=\"color: #7f7f7f; text-decoration-color: #7f7f7f\">NULL</span> │         <span style=\"color: #7f7f7f; text-decoration-color: #7f7f7f\">NULL</span> │         <span style=\"color: #7f7f7f; text-decoration-color: #7f7f7f\">NULL</span> │         <span style=\"color: #7f7f7f; text-decoration-color: #7f7f7f\">NULL</span> │         <span style=\"color: #7f7f7f; text-decoration-color: #7f7f7f\">NULL</span> │         <span style=\"color: #7f7f7f; text-decoration-color: #7f7f7f\">NULL</span> │         <span style=\"color: #7f7f7f; text-decoration-color: #7f7f7f\">NULL</span> │ <span style=\"color: #008080; text-decoration-color: #008080; font-weight: bold\">4.382200e+01</span> │ <span style=\"color: #008080; text-decoration-color: #008080; font-weight: bold\">4.443800e+01</span> │ <span style=\"color: #008080; text-decoration-color: #008080; font-weight: bold\">4.271300e+01</span> │ <span style=\"color: #008080; text-decoration-color: #008080; font-weight: bold\">4.274900e+01</span> │ <span style=\"color: #008080; text-decoration-color: #008080; font-weight: bold\">3.806800e+01</span> │ <span style=\"color: #008080; text-decoration-color: #008080; font-weight: bold\">4.017200e+01</span> │ <span style=\"color: #008080; text-decoration-color: #008080; font-weight: bold\">4.196200e+01</span> │ <span style=\"color: #008080; text-decoration-color: #008080; font-weight: bold\">4.423900e+01</span> │ <span style=\"color: #008080; text-decoration-color: #008080; font-weight: bold\">4.298600e+01</span> │ <span style=\"color: #008080; text-decoration-color: #008080; font-weight: bold\">4.212100e+01</span> │ <span style=\"color: #008080; text-decoration-color: #008080; font-weight: bold\">4.089900e+01</span> │ <span style=\"color: #008080; text-decoration-color: #008080; font-weight: bold\">3.828400e+01</span> │ <span style=\"color: #008080; text-decoration-color: #008080; font-weight: bold\">3.999600e+01</span> │ <span style=\"color: #008080; text-decoration-color: #008080; font-weight: bold\">4.205100e+01</span> │ <span style=\"color: #008080; text-decoration-color: #008080; font-weight: bold\">4.241700e+01</span> │ <span style=\"color: #008080; text-decoration-color: #008080; font-weight: bold\">4.355100e+01</span> │ <span style=\"color: #008080; text-decoration-color: #008080; font-weight: bold\">4.376800e+01</span> │ <span style=\"color: #008080; text-decoration-color: #008080; font-weight: bold\">4.337400e+01</span> │ <span style=\"color: #008080; text-decoration-color: #008080; font-weight: bold\">4.397100e+01</span> │ <span style=\"color: #008080; text-decoration-color: #008080; font-weight: bold\">4.329900e+01</span> │ <span style=\"color: #008080; text-decoration-color: #008080; font-weight: bold\">4.386200e+01</span> │ <span style=\"color: #008080; text-decoration-color: #008080; font-weight: bold\">4.380400e+01</span> │ <span style=\"color: #008080; text-decoration-color: #008080; font-weight: bold\">4.359600e+01</span> │ <span style=\"color: #008080; text-decoration-color: #008080; font-weight: bold\">4.344800e+01</span> │ <span style=\"color: #008080; text-decoration-color: #008080; font-weight: bold\">4.337400e+01</span> │ <span style=\"color: #008080; text-decoration-color: #008080; font-weight: bold\">4.320700e+01</span> │ <span style=\"color: #008080; text-decoration-color: #008080; font-weight: bold\">4.315900e+01</span> │ <span style=\"color: #008080; text-decoration-color: #008080; font-weight: bold\">4.397200e+01</span> │ <span style=\"color: #008080; text-decoration-color: #008080; font-weight: bold\">4.466200e+01</span> │ <span style=\"color: #008080; text-decoration-color: #008080; font-weight: bold\">4.074400e+01</span> │ <span style=\"color: #008080; text-decoration-color: #008080; font-weight: bold\">4.532600e+01</span> │ <span style=\"color: #008080; text-decoration-color: #008080; font-weight: bold\">4.649300e+01</span> │ <span style=\"color: #008080; text-decoration-color: #008080; font-weight: bold\">4.698400e+01</span> │\n",
       "│ <span style=\"color: #008000; text-decoration-color: #008000\">Argentina   </span> │ <span style=\"color: #008000; text-decoration-color: #008000\">ARG         </span> │ <span style=\"color: #008000; text-decoration-color: #008000\">Employment in services, male (% of male employment) (modeled ILO estimate)</span> │ <span style=\"color: #008000; text-decoration-color: #008000\">SL.SRV.EMPL.MA.ZS   </span> │    <span style=\"color: #7f7f7f; text-decoration-color: #7f7f7f\">NULL</span> │    <span style=\"color: #7f7f7f; text-decoration-color: #7f7f7f\">NULL</span> │    <span style=\"color: #7f7f7f; text-decoration-color: #7f7f7f\">NULL</span> │    <span style=\"color: #7f7f7f; text-decoration-color: #7f7f7f\">NULL</span> │    <span style=\"color: #7f7f7f; text-decoration-color: #7f7f7f\">NULL</span> │    <span style=\"color: #7f7f7f; text-decoration-color: #7f7f7f\">NULL</span> │    <span style=\"color: #7f7f7f; text-decoration-color: #7f7f7f\">NULL</span> │    <span style=\"color: #7f7f7f; text-decoration-color: #7f7f7f\">NULL</span> │    <span style=\"color: #7f7f7f; text-decoration-color: #7f7f7f\">NULL</span> │    <span style=\"color: #7f7f7f; text-decoration-color: #7f7f7f\">NULL</span> │    <span style=\"color: #7f7f7f; text-decoration-color: #7f7f7f\">NULL</span> │    <span style=\"color: #7f7f7f; text-decoration-color: #7f7f7f\">NULL</span> │    <span style=\"color: #7f7f7f; text-decoration-color: #7f7f7f\">NULL</span> │    <span style=\"color: #7f7f7f; text-decoration-color: #7f7f7f\">NULL</span> │    <span style=\"color: #7f7f7f; text-decoration-color: #7f7f7f\">NULL</span> │    <span style=\"color: #7f7f7f; text-decoration-color: #7f7f7f\">NULL</span> │    <span style=\"color: #7f7f7f; text-decoration-color: #7f7f7f\">NULL</span> │       <span style=\"color: #7f7f7f; text-decoration-color: #7f7f7f\">NULL</span> │       <span style=\"color: #7f7f7f; text-decoration-color: #7f7f7f\">NULL</span> │      <span style=\"color: #7f7f7f; text-decoration-color: #7f7f7f\">NULL</span> │    <span style=\"color: #7f7f7f; text-decoration-color: #7f7f7f\">NULL</span> │    <span style=\"color: #7f7f7f; text-decoration-color: #7f7f7f\">NULL</span> │    <span style=\"color: #7f7f7f; text-decoration-color: #7f7f7f\">NULL</span> │    <span style=\"color: #7f7f7f; text-decoration-color: #7f7f7f\">NULL</span> │     <span style=\"color: #7f7f7f; text-decoration-color: #7f7f7f\">NULL</span> │         <span style=\"color: #7f7f7f; text-decoration-color: #7f7f7f\">NULL</span> │         <span style=\"color: #7f7f7f; text-decoration-color: #7f7f7f\">NULL</span> │         <span style=\"color: #7f7f7f; text-decoration-color: #7f7f7f\">NULL</span> │         <span style=\"color: #7f7f7f; text-decoration-color: #7f7f7f\">NULL</span> │         <span style=\"color: #7f7f7f; text-decoration-color: #7f7f7f\">NULL</span> │         <span style=\"color: #7f7f7f; text-decoration-color: #7f7f7f\">NULL</span> │ <span style=\"color: #008080; text-decoration-color: #008080; font-weight: bold\">4.744678e+01</span> │ <span style=\"color: #008080; text-decoration-color: #008080; font-weight: bold\">4.771632e+01</span> │ <span style=\"color: #008080; text-decoration-color: #008080; font-weight: bold\">5.012785e+01</span> │ <span style=\"color: #008080; text-decoration-color: #008080; font-weight: bold\">5.067099e+01</span> │ <span style=\"color: #008080; text-decoration-color: #008080; font-weight: bold\">5.344836e+01</span> │ <span style=\"color: #008080; text-decoration-color: #008080; font-weight: bold\">5.459502e+01</span> │ <span style=\"color: #008080; text-decoration-color: #008080; font-weight: bold\">5.335802e+01</span> │ <span style=\"color: #008080; text-decoration-color: #008080; font-weight: bold\">5.355386e+01</span> │ <span style=\"color: #008080; text-decoration-color: #008080; font-weight: bold\">5.558457e+01</span> │ <span style=\"color: #008080; text-decoration-color: #008080; font-weight: bold\">5.685059e+01</span> │ <span style=\"color: #008080; text-decoration-color: #008080; font-weight: bold\">5.792646e+01</span> │ <span style=\"color: #008080; text-decoration-color: #008080; font-weight: bold\">5.983224e+01</span> │ <span style=\"color: #008080; text-decoration-color: #008080; font-weight: bold\">5.916357e+01</span> │ <span style=\"color: #008080; text-decoration-color: #008080; font-weight: bold\">5.780125e+01</span> │ <span style=\"color: #008080; text-decoration-color: #008080; font-weight: bold\">5.746455e+01</span> │ <span style=\"color: #008080; text-decoration-color: #008080; font-weight: bold\">5.726198e+01</span> │ <span style=\"color: #008080; text-decoration-color: #008080; font-weight: bold\">5.709595e+01</span> │ <span style=\"color: #008080; text-decoration-color: #008080; font-weight: bold\">5.710822e+01</span> │ <span style=\"color: #008080; text-decoration-color: #008080; font-weight: bold\">5.796159e+01</span> │ <span style=\"color: #008080; text-decoration-color: #008080; font-weight: bold\">5.810280e+01</span> │ <span style=\"color: #008080; text-decoration-color: #008080; font-weight: bold\">5.809786e+01</span> │ <span style=\"color: #008080; text-decoration-color: #008080; font-weight: bold\">5.841510e+01</span> │ <span style=\"color: #008080; text-decoration-color: #008080; font-weight: bold\">5.777329e+01</span> │ <span style=\"color: #008080; text-decoration-color: #008080; font-weight: bold\">5.708053e+01</span> │ <span style=\"color: #008080; text-decoration-color: #008080; font-weight: bold\">5.781827e+01</span> │ <span style=\"color: #008080; text-decoration-color: #008080; font-weight: bold\">5.925296e+01</span> │ <span style=\"color: #008080; text-decoration-color: #008080; font-weight: bold\">6.062976e+01</span> │ <span style=\"color: #008080; text-decoration-color: #008080; font-weight: bold\">6.122295e+01</span> │ <span style=\"color: #008080; text-decoration-color: #008080; font-weight: bold\">6.130271e+01</span> │ <span style=\"color: #008080; text-decoration-color: #008080; font-weight: bold\">6.156022e+01</span> │ <span style=\"color: #008080; text-decoration-color: #008080; font-weight: bold\">6.160034e+01</span> │ <span style=\"color: #008080; text-decoration-color: #008080; font-weight: bold\">6.192525e+01</span> │         <span style=\"color: #7f7f7f; text-decoration-color: #7f7f7f\">NULL</span> │\n",
       "│ <span style=\"color: #008000; text-decoration-color: #008000\">Argentina   </span> │ <span style=\"color: #008000; text-decoration-color: #008000\">ARG         </span> │ <span style=\"color: #008000; text-decoration-color: #008000\">Prevalence of HIV, total (% of population ages 15-49)                     </span> │ <span style=\"color: #008000; text-decoration-color: #008000\">SH.DYN.AIDS.ZS      </span> │    <span style=\"color: #7f7f7f; text-decoration-color: #7f7f7f\">NULL</span> │    <span style=\"color: #7f7f7f; text-decoration-color: #7f7f7f\">NULL</span> │    <span style=\"color: #7f7f7f; text-decoration-color: #7f7f7f\">NULL</span> │    <span style=\"color: #7f7f7f; text-decoration-color: #7f7f7f\">NULL</span> │    <span style=\"color: #7f7f7f; text-decoration-color: #7f7f7f\">NULL</span> │    <span style=\"color: #7f7f7f; text-decoration-color: #7f7f7f\">NULL</span> │    <span style=\"color: #7f7f7f; text-decoration-color: #7f7f7f\">NULL</span> │    <span style=\"color: #7f7f7f; text-decoration-color: #7f7f7f\">NULL</span> │    <span style=\"color: #7f7f7f; text-decoration-color: #7f7f7f\">NULL</span> │    <span style=\"color: #7f7f7f; text-decoration-color: #7f7f7f\">NULL</span> │    <span style=\"color: #7f7f7f; text-decoration-color: #7f7f7f\">NULL</span> │    <span style=\"color: #7f7f7f; text-decoration-color: #7f7f7f\">NULL</span> │    <span style=\"color: #7f7f7f; text-decoration-color: #7f7f7f\">NULL</span> │    <span style=\"color: #7f7f7f; text-decoration-color: #7f7f7f\">NULL</span> │    <span style=\"color: #7f7f7f; text-decoration-color: #7f7f7f\">NULL</span> │    <span style=\"color: #7f7f7f; text-decoration-color: #7f7f7f\">NULL</span> │    <span style=\"color: #7f7f7f; text-decoration-color: #7f7f7f\">NULL</span> │       <span style=\"color: #7f7f7f; text-decoration-color: #7f7f7f\">NULL</span> │       <span style=\"color: #7f7f7f; text-decoration-color: #7f7f7f\">NULL</span> │      <span style=\"color: #7f7f7f; text-decoration-color: #7f7f7f\">NULL</span> │    <span style=\"color: #7f7f7f; text-decoration-color: #7f7f7f\">NULL</span> │    <span style=\"color: #7f7f7f; text-decoration-color: #7f7f7f\">NULL</span> │    <span style=\"color: #7f7f7f; text-decoration-color: #7f7f7f\">NULL</span> │    <span style=\"color: #7f7f7f; text-decoration-color: #7f7f7f\">NULL</span> │     <span style=\"color: #7f7f7f; text-decoration-color: #7f7f7f\">NULL</span> │         <span style=\"color: #7f7f7f; text-decoration-color: #7f7f7f\">NULL</span> │         <span style=\"color: #7f7f7f; text-decoration-color: #7f7f7f\">NULL</span> │         <span style=\"color: #7f7f7f; text-decoration-color: #7f7f7f\">NULL</span> │         <span style=\"color: #7f7f7f; text-decoration-color: #7f7f7f\">NULL</span> │         <span style=\"color: #7f7f7f; text-decoration-color: #7f7f7f\">NULL</span> │ <span style=\"color: #008080; text-decoration-color: #008080; font-weight: bold\">1.000000e-01</span> │ <span style=\"color: #008080; text-decoration-color: #008080; font-weight: bold\">1.000000e-01</span> │ <span style=\"color: #008080; text-decoration-color: #008080; font-weight: bold\">1.000000e-01</span> │ <span style=\"color: #008080; text-decoration-color: #008080; font-weight: bold\">2.000000e-01</span> │ <span style=\"color: #008080; text-decoration-color: #008080; font-weight: bold\">2.000000e-01</span> │ <span style=\"color: #008080; text-decoration-color: #008080; font-weight: bold\">2.000000e-01</span> │ <span style=\"color: #008080; text-decoration-color: #008080; font-weight: bold\">2.000000e-01</span> │ <span style=\"color: #008080; text-decoration-color: #008080; font-weight: bold\">3.000000e-01</span> │ <span style=\"color: #008080; text-decoration-color: #008080; font-weight: bold\">3.000000e-01</span> │ <span style=\"color: #008080; text-decoration-color: #008080; font-weight: bold\">3.000000e-01</span> │ <span style=\"color: #008080; text-decoration-color: #008080; font-weight: bold\">3.000000e-01</span> │ <span style=\"color: #008080; text-decoration-color: #008080; font-weight: bold\">3.000000e-01</span> │ <span style=\"color: #008080; text-decoration-color: #008080; font-weight: bold\">3.000000e-01</span> │ <span style=\"color: #008080; text-decoration-color: #008080; font-weight: bold\">3.000000e-01</span> │ <span style=\"color: #008080; text-decoration-color: #008080; font-weight: bold\">3.000000e-01</span> │ <span style=\"color: #008080; text-decoration-color: #008080; font-weight: bold\">4.000000e-01</span> │ <span style=\"color: #008080; text-decoration-color: #008080; font-weight: bold\">4.000000e-01</span> │ <span style=\"color: #008080; text-decoration-color: #008080; font-weight: bold\">4.000000e-01</span> │ <span style=\"color: #008080; text-decoration-color: #008080; font-weight: bold\">4.000000e-01</span> │ <span style=\"color: #008080; text-decoration-color: #008080; font-weight: bold\">4.000000e-01</span> │ <span style=\"color: #008080; text-decoration-color: #008080; font-weight: bold\">4.000000e-01</span> │ <span style=\"color: #008080; text-decoration-color: #008080; font-weight: bold\">4.000000e-01</span> │ <span style=\"color: #008080; text-decoration-color: #008080; font-weight: bold\">4.000000e-01</span> │ <span style=\"color: #008080; text-decoration-color: #008080; font-weight: bold\">4.000000e-01</span> │ <span style=\"color: #008080; text-decoration-color: #008080; font-weight: bold\">4.000000e-01</span> │ <span style=\"color: #008080; text-decoration-color: #008080; font-weight: bold\">4.000000e-01</span> │ <span style=\"color: #008080; text-decoration-color: #008080; font-weight: bold\">4.000000e-01</span> │ <span style=\"color: #008080; text-decoration-color: #008080; font-weight: bold\">4.000000e-01</span> │ <span style=\"color: #008080; text-decoration-color: #008080; font-weight: bold\">4.000000e-01</span> │ <span style=\"color: #008080; text-decoration-color: #008080; font-weight: bold\">4.000000e-01</span> │ <span style=\"color: #008080; text-decoration-color: #008080; font-weight: bold\">4.000000e-01</span> │ <span style=\"color: #008080; text-decoration-color: #008080; font-weight: bold\">4.000000e-01</span> │ <span style=\"color: #008080; text-decoration-color: #008080; font-weight: bold\">4.000000e-01</span> │         <span style=\"color: #7f7f7f; text-decoration-color: #7f7f7f\">NULL</span> │\n",
       "│ <span style=\"color: #008000; text-decoration-color: #008000\">Argentina   </span> │ <span style=\"color: #008000; text-decoration-color: #008000\">ARG         </span> │ <span style=\"color: #008000; text-decoration-color: #008000\">Manufacturing, value added (current LCU)                                  </span> │ <span style=\"color: #008000; text-decoration-color: #008000\">NV.IND.MANF.CN      </span> │    <span style=\"color: #7f7f7f; text-decoration-color: #7f7f7f\">NULL</span> │    <span style=\"color: #7f7f7f; text-decoration-color: #7f7f7f\">NULL</span> │    <span style=\"color: #7f7f7f; text-decoration-color: #7f7f7f\">NULL</span> │    <span style=\"color: #7f7f7f; text-decoration-color: #7f7f7f\">NULL</span> │    <span style=\"color: #7f7f7f; text-decoration-color: #7f7f7f\">NULL</span> │ <span style=\"color: #008080; text-decoration-color: #008080; font-weight: bold\">0.19845</span> │ <span style=\"color: #008080; text-decoration-color: #008080; font-weight: bold\">0.24656</span> │ <span style=\"color: #008080; text-decoration-color: #008080; font-weight: bold\">0.30277</span> │ <span style=\"color: #008080; text-decoration-color: #008080; font-weight: bold\">0.33492</span> │ <span style=\"color: #008080; text-decoration-color: #008080; font-weight: bold\">0.40089</span> │  <span style=\"color: #008080; text-decoration-color: #008080; font-weight: bold\">0.3786</span> │ <span style=\"color: #008080; text-decoration-color: #008080; font-weight: bold\">0.59533</span> │ <span style=\"color: #008080; text-decoration-color: #008080; font-weight: bold\">1.01026</span> │ <span style=\"color: #008080; text-decoration-color: #008080; font-weight: bold\">1.62364</span> │ <span style=\"color: #008080; text-decoration-color: #008080; font-weight: bold\">2.21897</span> │ <span style=\"color: #008080; text-decoration-color: #008080; font-weight: bold\">7.41461</span> │ <span style=\"color: #008080; text-decoration-color: #008080; font-weight: bold\">40.0317</span> │ <span style=\"color: #008080; text-decoration-color: #008080; font-weight: bold\">103.894997</span> │ <span style=\"color: #008080; text-decoration-color: #008080; font-weight: bold\">241.832001</span> │ <span style=\"color: #008080; text-decoration-color: #008080; font-weight: bold\">631.52301</span> │  <span style=\"color: #008080; text-decoration-color: #008080; font-weight: bold\">1132.0</span> │  <span style=\"color: #008080; text-decoration-color: #008080; font-weight: bold\">2150.0</span> │  <span style=\"color: #008080; text-decoration-color: #008080; font-weight: bold\">6853.0</span> │ <span style=\"color: #008080; text-decoration-color: #008080; font-weight: bold\">33580.0</span> │ <span style=\"color: #008080; text-decoration-color: #008080; font-weight: bold\">234970.0</span> │ <span style=\"color: #008080; text-decoration-color: #008080; font-weight: bold\">1.572500e+06</span> │ <span style=\"color: #008080; text-decoration-color: #008080; font-weight: bold\">2.737600e+06</span> │ <span style=\"color: #008080; text-decoration-color: #008080; font-weight: bold\">6.415600e+06</span> │ <span style=\"color: #008080; text-decoration-color: #008080; font-weight: bold\">3.109700e+07</span> │ <span style=\"color: #008080; text-decoration-color: #008080; font-weight: bold\">1.004010e+09</span> │ <span style=\"color: #008080; text-decoration-color: #008080; font-weight: bold\">1.846400e+10</span> │ <span style=\"color: #008080; text-decoration-color: #008080; font-weight: bold\">4.411460e+10</span> │ <span style=\"color: #008080; text-decoration-color: #008080; font-weight: bold\">4.954110e+10</span> │ <span style=\"color: #008080; text-decoration-color: #008080; font-weight: bold\">4.313830e+10</span> │ <span style=\"color: #008080; text-decoration-color: #008080; font-weight: bold\">4.587347e+10</span> │ <span style=\"color: #008080; text-decoration-color: #008080; font-weight: bold\">4.450210e+10</span> │ <span style=\"color: #008080; text-decoration-color: #008080; font-weight: bold\">4.772343e+10</span> │ <span style=\"color: #008080; text-decoration-color: #008080; font-weight: bold\">5.338206e+10</span> │ <span style=\"color: #008080; text-decoration-color: #008080; font-weight: bold\">5.332626e+10</span> │ <span style=\"color: #008080; text-decoration-color: #008080; font-weight: bold\">4.808982e+10</span> │ <span style=\"color: #008080; text-decoration-color: #008080; font-weight: bold\">4.687734e+10</span> │ <span style=\"color: #008080; text-decoration-color: #008080; font-weight: bold\">4.324197e+10</span> │ <span style=\"color: #008080; text-decoration-color: #008080; font-weight: bold\">6.360307e+10</span> │ <span style=\"color: #008080; text-decoration-color: #008080; font-weight: bold\">8.452983e+10</span> │ <span style=\"color: #008080; text-decoration-color: #008080; font-weight: bold\">9.186633e+10</span> │ <span style=\"color: #008080; text-decoration-color: #008080; font-weight: bold\">1.068399e+11</span> │ <span style=\"color: #008080; text-decoration-color: #008080; font-weight: bold\">1.279879e+11</span> │ <span style=\"color: #008080; text-decoration-color: #008080; font-weight: bold\">1.529119e+11</span> │ <span style=\"color: #008080; text-decoration-color: #008080; font-weight: bold\">1.901327e+11</span> │ <span style=\"color: #008080; text-decoration-color: #008080; font-weight: bold\">1.944745e+11</span> │ <span style=\"color: #008080; text-decoration-color: #008080; font-weight: bold\">2.632974e+11</span> │ <span style=\"color: #008080; text-decoration-color: #008080; font-weight: bold\">3.453905e+11</span> │ <span style=\"color: #008080; text-decoration-color: #008080; font-weight: bold\">4.014061e+11</span> │ <span style=\"color: #008080; text-decoration-color: #008080; font-weight: bold\">5.026164e+11</span> │ <span style=\"color: #008080; text-decoration-color: #008080; font-weight: bold\">6.764583e+11</span> │ <span style=\"color: #008080; text-decoration-color: #008080; font-weight: bold\">8.444441e+11</span> │ <span style=\"color: #008080; text-decoration-color: #008080; font-weight: bold\">1.109816e+12</span> │ <span style=\"color: #008080; text-decoration-color: #008080; font-weight: bold\">1.368258e+12</span> │ <span style=\"color: #008080; text-decoration-color: #008080; font-weight: bold\">2.073142e+12</span> │ <span style=\"color: #008080; text-decoration-color: #008080; font-weight: bold\">2.919194e+12</span> │ <span style=\"color: #008080; text-decoration-color: #008080; font-weight: bold\">3.970056e+12</span> │ <span style=\"color: #008080; text-decoration-color: #008080; font-weight: bold\">7.310393e+12</span> │ <span style=\"color: #008080; text-decoration-color: #008080; font-weight: bold\">1.323379e+13</span> │ <span style=\"color: #008080; text-decoration-color: #008080; font-weight: bold\">3.092516e+13</span> │\n",
       "└──────────────┴──────────────┴────────────────────────────────────────────────────────────────────────────┴──────────────────────┴─────────┴─────────┴─────────┴─────────┴─────────┴─────────┴─────────┴─────────┴─────────┴─────────┴─────────┴─────────┴─────────┴─────────┴─────────┴─────────┴─────────┴────────────┴────────────┴───────────┴─────────┴─────────┴─────────┴─────────┴──────────┴──────────────┴──────────────┴──────────────┴──────────────┴──────────────┴──────────────┴──────────────┴──────────────┴──────────────┴──────────────┴──────────────┴──────────────┴──────────────┴──────────────┴──────────────┴──────────────┴──────────────┴──────────────┴──────────────┴──────────────┴──────────────┴──────────────┴──────────────┴──────────────┴──────────────┴──────────────┴──────────────┴──────────────┴──────────────┴──────────────┴──────────────┴──────────────┴──────────────┴──────────────┴──────────────┴──────────────┴──────────────┴──────────────┴──────────────┘\n",
       "</pre>\n"
      ],
      "text/plain": [
       "┏━━━━━━━━━━━━━━┳━━━━━━━━━━━━━━┳━━━━━━━━━━━━━━━━━━━━━━━━━━━━━━━━━━━━━━━━━━━━━━━━━━━━━━━━━━━━━━━━━━━━━━━━━━━━┳━━━━━━━━━━━━━━━━━━━━━━┳━━━━━━━━━┳━━━━━━━━━┳━━━━━━━━━┳━━━━━━━━━┳━━━━━━━━━┳━━━━━━━━━┳━━━━━━━━━┳━━━━━━━━━┳━━━━━━━━━┳━━━━━━━━━┳━━━━━━━━━┳━━━━━━━━━┳━━━━━━━━━┳━━━━━━━━━┳━━━━━━━━━┳━━━━━━━━━┳━━━━━━━━━┳━━━━━━━━━━━━┳━━━━━━━━━━━━┳━━━━━━━━━━━┳━━━━━━━━━┳━━━━━━━━━┳━━━━━━━━━┳━━━━━━━━━┳━━━━━━━━━━┳━━━━━━━━━━━━━━┳━━━━━━━━━━━━━━┳━━━━━━━━━━━━━━┳━━━━━━━━━━━━━━┳━━━━━━━━━━━━━━┳━━━━━━━━━━━━━━┳━━━━━━━━━━━━━━┳━━━━━━━━━━━━━━┳━━━━━━━━━━━━━━┳━━━━━━━━━━━━━━┳━━━━━━━━━━━━━━┳━━━━━━━━━━━━━━┳━━━━━━━━━━━━━━┳━━━━━━━━━━━━━━┳━━━━━━━━━━━━━━┳━━━━━━━━━━━━━━┳━━━━━━━━━━━━━━┳━━━━━━━━━━━━━━┳━━━━━━━━━━━━━━┳━━━━━━━━━━━━━━┳━━━━━━━━━━━━━━┳━━━━━━━━━━━━━━┳━━━━━━━━━━━━━━┳━━━━━━━━━━━━━━┳━━━━━━━━━━━━━━┳━━━━━━━━━━━━━━┳━━━━━━━━━━━━━━┳━━━━━━━━━━━━━━┳━━━━━━━━━━━━━━┳━━━━━━━━━━━━━━┳━━━━━━━━━━━━━━┳━━━━━━━━━━━━━━┳━━━━━━━━━━━━━━┳━━━━━━━━━━━━━━┳━━━━━━━━━━━━━━┳━━━━━━━━━━━━━━┳━━━━━━━━━━━━━━┳━━━━━━━━━━━━━━┳━━━━━━━━━━━━━━┓\n",
       "┃\u001b[1m \u001b[0m\u001b[1mcountry_name\u001b[0m\u001b[1m \u001b[0m┃\u001b[1m \u001b[0m\u001b[1mcountry_code\u001b[0m\u001b[1m \u001b[0m┃\u001b[1m \u001b[0m\u001b[1mindicator_name\u001b[0m\u001b[1m                                                            \u001b[0m\u001b[1m \u001b[0m┃\u001b[1m \u001b[0m\u001b[1mindicator_code\u001b[0m\u001b[1m      \u001b[0m\u001b[1m \u001b[0m┃\u001b[1m \u001b[0m\u001b[1m1960\u001b[0m\u001b[1m   \u001b[0m\u001b[1m \u001b[0m┃\u001b[1m \u001b[0m\u001b[1m1961\u001b[0m\u001b[1m   \u001b[0m\u001b[1m \u001b[0m┃\u001b[1m \u001b[0m\u001b[1m1962\u001b[0m\u001b[1m   \u001b[0m\u001b[1m \u001b[0m┃\u001b[1m \u001b[0m\u001b[1m1963\u001b[0m\u001b[1m   \u001b[0m\u001b[1m \u001b[0m┃\u001b[1m \u001b[0m\u001b[1m1964\u001b[0m\u001b[1m   \u001b[0m\u001b[1m \u001b[0m┃\u001b[1m \u001b[0m\u001b[1m1965\u001b[0m\u001b[1m   \u001b[0m\u001b[1m \u001b[0m┃\u001b[1m \u001b[0m\u001b[1m1966\u001b[0m\u001b[1m   \u001b[0m\u001b[1m \u001b[0m┃\u001b[1m \u001b[0m\u001b[1m1967\u001b[0m\u001b[1m   \u001b[0m\u001b[1m \u001b[0m┃\u001b[1m \u001b[0m\u001b[1m1968\u001b[0m\u001b[1m   \u001b[0m\u001b[1m \u001b[0m┃\u001b[1m \u001b[0m\u001b[1m1969\u001b[0m\u001b[1m   \u001b[0m\u001b[1m \u001b[0m┃\u001b[1m \u001b[0m\u001b[1m1970\u001b[0m\u001b[1m   \u001b[0m\u001b[1m \u001b[0m┃\u001b[1m \u001b[0m\u001b[1m1971\u001b[0m\u001b[1m   \u001b[0m\u001b[1m \u001b[0m┃\u001b[1m \u001b[0m\u001b[1m1972\u001b[0m\u001b[1m   \u001b[0m\u001b[1m \u001b[0m┃\u001b[1m \u001b[0m\u001b[1m1973\u001b[0m\u001b[1m   \u001b[0m\u001b[1m \u001b[0m┃\u001b[1m \u001b[0m\u001b[1m1974\u001b[0m\u001b[1m   \u001b[0m\u001b[1m \u001b[0m┃\u001b[1m \u001b[0m\u001b[1m1975\u001b[0m\u001b[1m   \u001b[0m\u001b[1m \u001b[0m┃\u001b[1m \u001b[0m\u001b[1m1976\u001b[0m\u001b[1m   \u001b[0m\u001b[1m \u001b[0m┃\u001b[1m \u001b[0m\u001b[1m1977\u001b[0m\u001b[1m      \u001b[0m\u001b[1m \u001b[0m┃\u001b[1m \u001b[0m\u001b[1m1978\u001b[0m\u001b[1m      \u001b[0m\u001b[1m \u001b[0m┃\u001b[1m \u001b[0m\u001b[1m1979\u001b[0m\u001b[1m     \u001b[0m\u001b[1m \u001b[0m┃\u001b[1m \u001b[0m\u001b[1m1980\u001b[0m\u001b[1m   \u001b[0m\u001b[1m \u001b[0m┃\u001b[1m \u001b[0m\u001b[1m1981\u001b[0m\u001b[1m   \u001b[0m\u001b[1m \u001b[0m┃\u001b[1m \u001b[0m\u001b[1m1982\u001b[0m\u001b[1m   \u001b[0m\u001b[1m \u001b[0m┃\u001b[1m \u001b[0m\u001b[1m1983\u001b[0m\u001b[1m   \u001b[0m\u001b[1m \u001b[0m┃\u001b[1m \u001b[0m\u001b[1m1984\u001b[0m\u001b[1m    \u001b[0m\u001b[1m \u001b[0m┃\u001b[1m \u001b[0m\u001b[1m1985\u001b[0m\u001b[1m        \u001b[0m\u001b[1m \u001b[0m┃\u001b[1m \u001b[0m\u001b[1m1986\u001b[0m\u001b[1m        \u001b[0m\u001b[1m \u001b[0m┃\u001b[1m \u001b[0m\u001b[1m1987\u001b[0m\u001b[1m        \u001b[0m\u001b[1m \u001b[0m┃\u001b[1m \u001b[0m\u001b[1m1988\u001b[0m\u001b[1m        \u001b[0m\u001b[1m \u001b[0m┃\u001b[1m \u001b[0m\u001b[1m1989\u001b[0m\u001b[1m        \u001b[0m\u001b[1m \u001b[0m┃\u001b[1m \u001b[0m\u001b[1m1990\u001b[0m\u001b[1m        \u001b[0m\u001b[1m \u001b[0m┃\u001b[1m \u001b[0m\u001b[1m1991\u001b[0m\u001b[1m        \u001b[0m\u001b[1m \u001b[0m┃\u001b[1m \u001b[0m\u001b[1m1992\u001b[0m\u001b[1m        \u001b[0m\u001b[1m \u001b[0m┃\u001b[1m \u001b[0m\u001b[1m1993\u001b[0m\u001b[1m        \u001b[0m\u001b[1m \u001b[0m┃\u001b[1m \u001b[0m\u001b[1m1994\u001b[0m\u001b[1m        \u001b[0m\u001b[1m \u001b[0m┃\u001b[1m \u001b[0m\u001b[1m1995\u001b[0m\u001b[1m        \u001b[0m\u001b[1m \u001b[0m┃\u001b[1m \u001b[0m\u001b[1m1996\u001b[0m\u001b[1m        \u001b[0m\u001b[1m \u001b[0m┃\u001b[1m \u001b[0m\u001b[1m1997\u001b[0m\u001b[1m        \u001b[0m\u001b[1m \u001b[0m┃\u001b[1m \u001b[0m\u001b[1m1998\u001b[0m\u001b[1m        \u001b[0m\u001b[1m \u001b[0m┃\u001b[1m \u001b[0m\u001b[1m1999\u001b[0m\u001b[1m        \u001b[0m\u001b[1m \u001b[0m┃\u001b[1m \u001b[0m\u001b[1m2000\u001b[0m\u001b[1m        \u001b[0m\u001b[1m \u001b[0m┃\u001b[1m \u001b[0m\u001b[1m2001\u001b[0m\u001b[1m        \u001b[0m\u001b[1m \u001b[0m┃\u001b[1m \u001b[0m\u001b[1m2002\u001b[0m\u001b[1m        \u001b[0m\u001b[1m \u001b[0m┃\u001b[1m \u001b[0m\u001b[1m2003\u001b[0m\u001b[1m        \u001b[0m\u001b[1m \u001b[0m┃\u001b[1m \u001b[0m\u001b[1m2004\u001b[0m\u001b[1m        \u001b[0m\u001b[1m \u001b[0m┃\u001b[1m \u001b[0m\u001b[1m2005\u001b[0m\u001b[1m        \u001b[0m\u001b[1m \u001b[0m┃\u001b[1m \u001b[0m\u001b[1m2006\u001b[0m\u001b[1m        \u001b[0m\u001b[1m \u001b[0m┃\u001b[1m \u001b[0m\u001b[1m2007\u001b[0m\u001b[1m        \u001b[0m\u001b[1m \u001b[0m┃\u001b[1m \u001b[0m\u001b[1m2008\u001b[0m\u001b[1m        \u001b[0m\u001b[1m \u001b[0m┃\u001b[1m \u001b[0m\u001b[1m2009\u001b[0m\u001b[1m        \u001b[0m\u001b[1m \u001b[0m┃\u001b[1m \u001b[0m\u001b[1m2010\u001b[0m\u001b[1m        \u001b[0m\u001b[1m \u001b[0m┃\u001b[1m \u001b[0m\u001b[1m2011\u001b[0m\u001b[1m        \u001b[0m\u001b[1m \u001b[0m┃\u001b[1m \u001b[0m\u001b[1m2012\u001b[0m\u001b[1m        \u001b[0m\u001b[1m \u001b[0m┃\u001b[1m \u001b[0m\u001b[1m2013\u001b[0m\u001b[1m        \u001b[0m\u001b[1m \u001b[0m┃\u001b[1m \u001b[0m\u001b[1m2014\u001b[0m\u001b[1m        \u001b[0m\u001b[1m \u001b[0m┃\u001b[1m \u001b[0m\u001b[1m2015\u001b[0m\u001b[1m        \u001b[0m\u001b[1m \u001b[0m┃\u001b[1m \u001b[0m\u001b[1m2016\u001b[0m\u001b[1m        \u001b[0m\u001b[1m \u001b[0m┃\u001b[1m \u001b[0m\u001b[1m2017\u001b[0m\u001b[1m        \u001b[0m\u001b[1m \u001b[0m┃\u001b[1m \u001b[0m\u001b[1m2018\u001b[0m\u001b[1m        \u001b[0m\u001b[1m \u001b[0m┃\u001b[1m \u001b[0m\u001b[1m2019\u001b[0m\u001b[1m        \u001b[0m\u001b[1m \u001b[0m┃\u001b[1m \u001b[0m\u001b[1m2020\u001b[0m\u001b[1m        \u001b[0m\u001b[1m \u001b[0m┃\u001b[1m \u001b[0m\u001b[1m2021\u001b[0m\u001b[1m        \u001b[0m\u001b[1m \u001b[0m┃\u001b[1m \u001b[0m\u001b[1m2022\u001b[0m\u001b[1m        \u001b[0m\u001b[1m \u001b[0m┃\u001b[1m \u001b[0m\u001b[1m2023\u001b[0m\u001b[1m        \u001b[0m\u001b[1m \u001b[0m┃\n",
       "┡━━━━━━━━━━━━━━╇━━━━━━━━━━━━━━╇━━━━━━━━━━━━━━━━━━━━━━━━━━━━━━━━━━━━━━━━━━━━━━━━━━━━━━━━━━━━━━━━━━━━━━━━━━━━╇━━━━━━━━━━━━━━━━━━━━━━╇━━━━━━━━━╇━━━━━━━━━╇━━━━━━━━━╇━━━━━━━━━╇━━━━━━━━━╇━━━━━━━━━╇━━━━━━━━━╇━━━━━━━━━╇━━━━━━━━━╇━━━━━━━━━╇━━━━━━━━━╇━━━━━━━━━╇━━━━━━━━━╇━━━━━━━━━╇━━━━━━━━━╇━━━━━━━━━╇━━━━━━━━━╇━━━━━━━━━━━━╇━━━━━━━━━━━━╇━━━━━━━━━━━╇━━━━━━━━━╇━━━━━━━━━╇━━━━━━━━━╇━━━━━━━━━╇━━━━━━━━━━╇━━━━━━━━━━━━━━╇━━━━━━━━━━━━━━╇━━━━━━━━━━━━━━╇━━━━━━━━━━━━━━╇━━━━━━━━━━━━━━╇━━━━━━━━━━━━━━╇━━━━━━━━━━━━━━╇━━━━━━━━━━━━━━╇━━━━━━━━━━━━━━╇━━━━━━━━━━━━━━╇━━━━━━━━━━━━━━╇━━━━━━━━━━━━━━╇━━━━━━━━━━━━━━╇━━━━━━━━━━━━━━╇━━━━━━━━━━━━━━╇━━━━━━━━━━━━━━╇━━━━━━━━━━━━━━╇━━━━━━━━━━━━━━╇━━━━━━━━━━━━━━╇━━━━━━━━━━━━━━╇━━━━━━━━━━━━━━╇━━━━━━━━━━━━━━╇━━━━━━━━━━━━━━╇━━━━━━━━━━━━━━╇━━━━━━━━━━━━━━╇━━━━━━━━━━━━━━╇━━━━━━━━━━━━━━╇━━━━━━━━━━━━━━╇━━━━━━━━━━━━━━╇━━━━━━━━━━━━━━╇━━━━━━━━━━━━━━╇━━━━━━━━━━━━━━╇━━━━━━━━━━━━━━╇━━━━━━━━━━━━━━╇━━━━━━━━━━━━━━╇━━━━━━━━━━━━━━╇━━━━━━━━━━━━━━╇━━━━━━━━━━━━━━╇━━━━━━━━━━━━━━┩\n",
       "│ \u001b[2mstring\u001b[0m       │ \u001b[2mstring\u001b[0m       │ \u001b[2mstring\u001b[0m                                                                     │ \u001b[2mstring\u001b[0m               │ \u001b[2mfloat64\u001b[0m │ \u001b[2mfloat64\u001b[0m │ \u001b[2mfloat64\u001b[0m │ \u001b[2mfloat64\u001b[0m │ \u001b[2mfloat64\u001b[0m │ \u001b[2mfloat64\u001b[0m │ \u001b[2mfloat64\u001b[0m │ \u001b[2mfloat64\u001b[0m │ \u001b[2mfloat64\u001b[0m │ \u001b[2mfloat64\u001b[0m │ \u001b[2mfloat64\u001b[0m │ \u001b[2mfloat64\u001b[0m │ \u001b[2mfloat64\u001b[0m │ \u001b[2mfloat64\u001b[0m │ \u001b[2mfloat64\u001b[0m │ \u001b[2mfloat64\u001b[0m │ \u001b[2mfloat64\u001b[0m │ \u001b[2mfloat64\u001b[0m    │ \u001b[2mfloat64\u001b[0m    │ \u001b[2mfloat64\u001b[0m   │ \u001b[2mfloat64\u001b[0m │ \u001b[2mfloat64\u001b[0m │ \u001b[2mfloat64\u001b[0m │ \u001b[2mfloat64\u001b[0m │ \u001b[2mfloat64\u001b[0m  │ \u001b[2mfloat64\u001b[0m      │ \u001b[2mfloat64\u001b[0m      │ \u001b[2mfloat64\u001b[0m      │ \u001b[2mfloat64\u001b[0m      │ \u001b[2mfloat64\u001b[0m      │ \u001b[2mfloat64\u001b[0m      │ \u001b[2mfloat64\u001b[0m      │ \u001b[2mfloat64\u001b[0m      │ \u001b[2mfloat64\u001b[0m      │ \u001b[2mfloat64\u001b[0m      │ \u001b[2mfloat64\u001b[0m      │ \u001b[2mfloat64\u001b[0m      │ \u001b[2mfloat64\u001b[0m      │ \u001b[2mfloat64\u001b[0m      │ \u001b[2mfloat64\u001b[0m      │ \u001b[2mfloat64\u001b[0m      │ \u001b[2mfloat64\u001b[0m      │ \u001b[2mfloat64\u001b[0m      │ \u001b[2mfloat64\u001b[0m      │ \u001b[2mfloat64\u001b[0m      │ \u001b[2mfloat64\u001b[0m      │ \u001b[2mfloat64\u001b[0m      │ \u001b[2mfloat64\u001b[0m      │ \u001b[2mfloat64\u001b[0m      │ \u001b[2mfloat64\u001b[0m      │ \u001b[2mfloat64\u001b[0m      │ \u001b[2mfloat64\u001b[0m      │ \u001b[2mfloat64\u001b[0m      │ \u001b[2mfloat64\u001b[0m      │ \u001b[2mfloat64\u001b[0m      │ \u001b[2mfloat64\u001b[0m      │ \u001b[2mfloat64\u001b[0m      │ \u001b[2mfloat64\u001b[0m      │ \u001b[2mfloat64\u001b[0m      │ \u001b[2mfloat64\u001b[0m      │ \u001b[2mfloat64\u001b[0m      │ \u001b[2mfloat64\u001b[0m      │ \u001b[2mfloat64\u001b[0m      │ \u001b[2mfloat64\u001b[0m      │\n",
       "├──────────────┼──────────────┼────────────────────────────────────────────────────────────────────────────┼──────────────────────┼─────────┼─────────┼─────────┼─────────┼─────────┼─────────┼─────────┼─────────┼─────────┼─────────┼─────────┼─────────┼─────────┼─────────┼─────────┼─────────┼─────────┼────────────┼────────────┼───────────┼─────────┼─────────┼─────────┼─────────┼──────────┼──────────────┼──────────────┼──────────────┼──────────────┼──────────────┼──────────────┼──────────────┼──────────────┼──────────────┼──────────────┼──────────────┼──────────────┼──────────────┼──────────────┼──────────────┼──────────────┼──────────────┼──────────────┼──────────────┼──────────────┼──────────────┼──────────────┼──────────────┼──────────────┼──────────────┼──────────────┼──────────────┼──────────────┼──────────────┼──────────────┼──────────────┼──────────────┼──────────────┼──────────────┼──────────────┼──────────────┼──────────────┼──────────────┼──────────────┤\n",
       "│ \u001b[32mArgentina   \u001b[0m │ \u001b[32mARG         \u001b[0m │ \u001b[32mAccess to electricity, rural (% of rural population)                      \u001b[0m │ \u001b[32mEG.ELC.ACCS.RU.ZS   \u001b[0m │    \u001b[2mNULL\u001b[0m │    \u001b[2mNULL\u001b[0m │    \u001b[2mNULL\u001b[0m │    \u001b[2mNULL\u001b[0m │    \u001b[2mNULL\u001b[0m │    \u001b[2mNULL\u001b[0m │    \u001b[2mNULL\u001b[0m │    \u001b[2mNULL\u001b[0m │    \u001b[2mNULL\u001b[0m │    \u001b[2mNULL\u001b[0m │    \u001b[2mNULL\u001b[0m │    \u001b[2mNULL\u001b[0m │    \u001b[2mNULL\u001b[0m │    \u001b[2mNULL\u001b[0m │    \u001b[2mNULL\u001b[0m │    \u001b[2mNULL\u001b[0m │    \u001b[2mNULL\u001b[0m │       \u001b[2mNULL\u001b[0m │       \u001b[2mNULL\u001b[0m │      \u001b[2mNULL\u001b[0m │    \u001b[2mNULL\u001b[0m │    \u001b[2mNULL\u001b[0m │    \u001b[2mNULL\u001b[0m │    \u001b[2mNULL\u001b[0m │     \u001b[2mNULL\u001b[0m │         \u001b[2mNULL\u001b[0m │         \u001b[2mNULL\u001b[0m │         \u001b[2mNULL\u001b[0m │         \u001b[2mNULL\u001b[0m │         \u001b[2mNULL\u001b[0m │ \u001b[1;36m7.889459e+01\u001b[0m │ \u001b[1;36m7.925427e+01\u001b[0m │ \u001b[1;36m7.977864e+01\u001b[0m │ \u001b[1;36m8.033370e+01\u001b[0m │ \u001b[1;36m8.093589e+01\u001b[0m │ \u001b[1;36m8.160809e+01\u001b[0m │ \u001b[1;36m8.236988e+01\u001b[0m │ \u001b[1;36m8.324706e+01\u001b[0m │ \u001b[1;36m8.426384e+01\u001b[0m │ \u001b[1;36m8.543186e+01\u001b[0m │ \u001b[1;36m9.180000e+01\u001b[0m │ \u001b[1;36m8.860000e+01\u001b[0m │ \u001b[1;36m9.260000e+01\u001b[0m │ \u001b[1;36m9.290000e+01\u001b[0m │ \u001b[1;36m9.320000e+01\u001b[0m │ \u001b[1;36m9.340000e+01\u001b[0m │ \u001b[1;36m9.360000e+01\u001b[0m │ \u001b[1;36m9.380000e+01\u001b[0m │ \u001b[1;36m9.400000e+01\u001b[0m │ \u001b[1;36m9.420000e+01\u001b[0m │ \u001b[1;36m9.860000e+01\u001b[0m │ \u001b[1;36m9.780000e+01\u001b[0m │ \u001b[1;36m9.610000e+01\u001b[0m │ \u001b[1;36m9.540000e+01\u001b[0m │ \u001b[1;36m1.000000e+02\u001b[0m │ \u001b[1;36m9.760000e+01\u001b[0m │ \u001b[1;36m9.930000e+01\u001b[0m │ \u001b[1;36m1.000000e+02\u001b[0m │ \u001b[1;36m9.990000e+01\u001b[0m │ \u001b[1;36m1.000000e+02\u001b[0m │ \u001b[1;36m1.000000e+02\u001b[0m │ \u001b[1;36m1.000000e+02\u001b[0m │ \u001b[1;36m1.000000e+02\u001b[0m │         \u001b[2mNULL\u001b[0m │\n",
       "│ \u001b[32mArgentina   \u001b[0m │ \u001b[32mARG         \u001b[0m │ \u001b[32mEmployment to population ratio, 15+, female (%) (modeled ILO estimate)    \u001b[0m │ \u001b[32mSL.EMP.TOTL.SP.FE.ZS\u001b[0m │    \u001b[2mNULL\u001b[0m │    \u001b[2mNULL\u001b[0m │    \u001b[2mNULL\u001b[0m │    \u001b[2mNULL\u001b[0m │    \u001b[2mNULL\u001b[0m │    \u001b[2mNULL\u001b[0m │    \u001b[2mNULL\u001b[0m │    \u001b[2mNULL\u001b[0m │    \u001b[2mNULL\u001b[0m │    \u001b[2mNULL\u001b[0m │    \u001b[2mNULL\u001b[0m │    \u001b[2mNULL\u001b[0m │    \u001b[2mNULL\u001b[0m │    \u001b[2mNULL\u001b[0m │    \u001b[2mNULL\u001b[0m │    \u001b[2mNULL\u001b[0m │    \u001b[2mNULL\u001b[0m │       \u001b[2mNULL\u001b[0m │       \u001b[2mNULL\u001b[0m │      \u001b[2mNULL\u001b[0m │    \u001b[2mNULL\u001b[0m │    \u001b[2mNULL\u001b[0m │    \u001b[2mNULL\u001b[0m │    \u001b[2mNULL\u001b[0m │     \u001b[2mNULL\u001b[0m │         \u001b[2mNULL\u001b[0m │         \u001b[2mNULL\u001b[0m │         \u001b[2mNULL\u001b[0m │         \u001b[2mNULL\u001b[0m │         \u001b[2mNULL\u001b[0m │         \u001b[2mNULL\u001b[0m │ \u001b[1;36m4.382200e+01\u001b[0m │ \u001b[1;36m4.443800e+01\u001b[0m │ \u001b[1;36m4.271300e+01\u001b[0m │ \u001b[1;36m4.274900e+01\u001b[0m │ \u001b[1;36m3.806800e+01\u001b[0m │ \u001b[1;36m4.017200e+01\u001b[0m │ \u001b[1;36m4.196200e+01\u001b[0m │ \u001b[1;36m4.423900e+01\u001b[0m │ \u001b[1;36m4.298600e+01\u001b[0m │ \u001b[1;36m4.212100e+01\u001b[0m │ \u001b[1;36m4.089900e+01\u001b[0m │ \u001b[1;36m3.828400e+01\u001b[0m │ \u001b[1;36m3.999600e+01\u001b[0m │ \u001b[1;36m4.205100e+01\u001b[0m │ \u001b[1;36m4.241700e+01\u001b[0m │ \u001b[1;36m4.355100e+01\u001b[0m │ \u001b[1;36m4.376800e+01\u001b[0m │ \u001b[1;36m4.337400e+01\u001b[0m │ \u001b[1;36m4.397100e+01\u001b[0m │ \u001b[1;36m4.329900e+01\u001b[0m │ \u001b[1;36m4.386200e+01\u001b[0m │ \u001b[1;36m4.380400e+01\u001b[0m │ \u001b[1;36m4.359600e+01\u001b[0m │ \u001b[1;36m4.344800e+01\u001b[0m │ \u001b[1;36m4.337400e+01\u001b[0m │ \u001b[1;36m4.320700e+01\u001b[0m │ \u001b[1;36m4.315900e+01\u001b[0m │ \u001b[1;36m4.397200e+01\u001b[0m │ \u001b[1;36m4.466200e+01\u001b[0m │ \u001b[1;36m4.074400e+01\u001b[0m │ \u001b[1;36m4.532600e+01\u001b[0m │ \u001b[1;36m4.649300e+01\u001b[0m │ \u001b[1;36m4.698400e+01\u001b[0m │\n",
       "│ \u001b[32mArgentina   \u001b[0m │ \u001b[32mARG         \u001b[0m │ \u001b[32mEmployment in services, male (% of male employment) (modeled ILO estimate)\u001b[0m │ \u001b[32mSL.SRV.EMPL.MA.ZS   \u001b[0m │    \u001b[2mNULL\u001b[0m │    \u001b[2mNULL\u001b[0m │    \u001b[2mNULL\u001b[0m │    \u001b[2mNULL\u001b[0m │    \u001b[2mNULL\u001b[0m │    \u001b[2mNULL\u001b[0m │    \u001b[2mNULL\u001b[0m │    \u001b[2mNULL\u001b[0m │    \u001b[2mNULL\u001b[0m │    \u001b[2mNULL\u001b[0m │    \u001b[2mNULL\u001b[0m │    \u001b[2mNULL\u001b[0m │    \u001b[2mNULL\u001b[0m │    \u001b[2mNULL\u001b[0m │    \u001b[2mNULL\u001b[0m │    \u001b[2mNULL\u001b[0m │    \u001b[2mNULL\u001b[0m │       \u001b[2mNULL\u001b[0m │       \u001b[2mNULL\u001b[0m │      \u001b[2mNULL\u001b[0m │    \u001b[2mNULL\u001b[0m │    \u001b[2mNULL\u001b[0m │    \u001b[2mNULL\u001b[0m │    \u001b[2mNULL\u001b[0m │     \u001b[2mNULL\u001b[0m │         \u001b[2mNULL\u001b[0m │         \u001b[2mNULL\u001b[0m │         \u001b[2mNULL\u001b[0m │         \u001b[2mNULL\u001b[0m │         \u001b[2mNULL\u001b[0m │         \u001b[2mNULL\u001b[0m │ \u001b[1;36m4.744678e+01\u001b[0m │ \u001b[1;36m4.771632e+01\u001b[0m │ \u001b[1;36m5.012785e+01\u001b[0m │ \u001b[1;36m5.067099e+01\u001b[0m │ \u001b[1;36m5.344836e+01\u001b[0m │ \u001b[1;36m5.459502e+01\u001b[0m │ \u001b[1;36m5.335802e+01\u001b[0m │ \u001b[1;36m5.355386e+01\u001b[0m │ \u001b[1;36m5.558457e+01\u001b[0m │ \u001b[1;36m5.685059e+01\u001b[0m │ \u001b[1;36m5.792646e+01\u001b[0m │ \u001b[1;36m5.983224e+01\u001b[0m │ \u001b[1;36m5.916357e+01\u001b[0m │ \u001b[1;36m5.780125e+01\u001b[0m │ \u001b[1;36m5.746455e+01\u001b[0m │ \u001b[1;36m5.726198e+01\u001b[0m │ \u001b[1;36m5.709595e+01\u001b[0m │ \u001b[1;36m5.710822e+01\u001b[0m │ \u001b[1;36m5.796159e+01\u001b[0m │ \u001b[1;36m5.810280e+01\u001b[0m │ \u001b[1;36m5.809786e+01\u001b[0m │ \u001b[1;36m5.841510e+01\u001b[0m │ \u001b[1;36m5.777329e+01\u001b[0m │ \u001b[1;36m5.708053e+01\u001b[0m │ \u001b[1;36m5.781827e+01\u001b[0m │ \u001b[1;36m5.925296e+01\u001b[0m │ \u001b[1;36m6.062976e+01\u001b[0m │ \u001b[1;36m6.122295e+01\u001b[0m │ \u001b[1;36m6.130271e+01\u001b[0m │ \u001b[1;36m6.156022e+01\u001b[0m │ \u001b[1;36m6.160034e+01\u001b[0m │ \u001b[1;36m6.192525e+01\u001b[0m │         \u001b[2mNULL\u001b[0m │\n",
       "│ \u001b[32mArgentina   \u001b[0m │ \u001b[32mARG         \u001b[0m │ \u001b[32mPrevalence of HIV, total (% of population ages 15-49)                     \u001b[0m │ \u001b[32mSH.DYN.AIDS.ZS      \u001b[0m │    \u001b[2mNULL\u001b[0m │    \u001b[2mNULL\u001b[0m │    \u001b[2mNULL\u001b[0m │    \u001b[2mNULL\u001b[0m │    \u001b[2mNULL\u001b[0m │    \u001b[2mNULL\u001b[0m │    \u001b[2mNULL\u001b[0m │    \u001b[2mNULL\u001b[0m │    \u001b[2mNULL\u001b[0m │    \u001b[2mNULL\u001b[0m │    \u001b[2mNULL\u001b[0m │    \u001b[2mNULL\u001b[0m │    \u001b[2mNULL\u001b[0m │    \u001b[2mNULL\u001b[0m │    \u001b[2mNULL\u001b[0m │    \u001b[2mNULL\u001b[0m │    \u001b[2mNULL\u001b[0m │       \u001b[2mNULL\u001b[0m │       \u001b[2mNULL\u001b[0m │      \u001b[2mNULL\u001b[0m │    \u001b[2mNULL\u001b[0m │    \u001b[2mNULL\u001b[0m │    \u001b[2mNULL\u001b[0m │    \u001b[2mNULL\u001b[0m │     \u001b[2mNULL\u001b[0m │         \u001b[2mNULL\u001b[0m │         \u001b[2mNULL\u001b[0m │         \u001b[2mNULL\u001b[0m │         \u001b[2mNULL\u001b[0m │         \u001b[2mNULL\u001b[0m │ \u001b[1;36m1.000000e-01\u001b[0m │ \u001b[1;36m1.000000e-01\u001b[0m │ \u001b[1;36m1.000000e-01\u001b[0m │ \u001b[1;36m2.000000e-01\u001b[0m │ \u001b[1;36m2.000000e-01\u001b[0m │ \u001b[1;36m2.000000e-01\u001b[0m │ \u001b[1;36m2.000000e-01\u001b[0m │ \u001b[1;36m3.000000e-01\u001b[0m │ \u001b[1;36m3.000000e-01\u001b[0m │ \u001b[1;36m3.000000e-01\u001b[0m │ \u001b[1;36m3.000000e-01\u001b[0m │ \u001b[1;36m3.000000e-01\u001b[0m │ \u001b[1;36m3.000000e-01\u001b[0m │ \u001b[1;36m3.000000e-01\u001b[0m │ \u001b[1;36m3.000000e-01\u001b[0m │ \u001b[1;36m4.000000e-01\u001b[0m │ \u001b[1;36m4.000000e-01\u001b[0m │ \u001b[1;36m4.000000e-01\u001b[0m │ \u001b[1;36m4.000000e-01\u001b[0m │ \u001b[1;36m4.000000e-01\u001b[0m │ \u001b[1;36m4.000000e-01\u001b[0m │ \u001b[1;36m4.000000e-01\u001b[0m │ \u001b[1;36m4.000000e-01\u001b[0m │ \u001b[1;36m4.000000e-01\u001b[0m │ \u001b[1;36m4.000000e-01\u001b[0m │ \u001b[1;36m4.000000e-01\u001b[0m │ \u001b[1;36m4.000000e-01\u001b[0m │ \u001b[1;36m4.000000e-01\u001b[0m │ \u001b[1;36m4.000000e-01\u001b[0m │ \u001b[1;36m4.000000e-01\u001b[0m │ \u001b[1;36m4.000000e-01\u001b[0m │ \u001b[1;36m4.000000e-01\u001b[0m │ \u001b[1;36m4.000000e-01\u001b[0m │         \u001b[2mNULL\u001b[0m │\n",
       "│ \u001b[32mArgentina   \u001b[0m │ \u001b[32mARG         \u001b[0m │ \u001b[32mManufacturing, value added (current LCU)                                  \u001b[0m │ \u001b[32mNV.IND.MANF.CN      \u001b[0m │    \u001b[2mNULL\u001b[0m │    \u001b[2mNULL\u001b[0m │    \u001b[2mNULL\u001b[0m │    \u001b[2mNULL\u001b[0m │    \u001b[2mNULL\u001b[0m │ \u001b[1;36m0.19845\u001b[0m │ \u001b[1;36m0.24656\u001b[0m │ \u001b[1;36m0.30277\u001b[0m │ \u001b[1;36m0.33492\u001b[0m │ \u001b[1;36m0.40089\u001b[0m │  \u001b[1;36m0.3786\u001b[0m │ \u001b[1;36m0.59533\u001b[0m │ \u001b[1;36m1.01026\u001b[0m │ \u001b[1;36m1.62364\u001b[0m │ \u001b[1;36m2.21897\u001b[0m │ \u001b[1;36m7.41461\u001b[0m │ \u001b[1;36m40.0317\u001b[0m │ \u001b[1;36m103.894997\u001b[0m │ \u001b[1;36m241.832001\u001b[0m │ \u001b[1;36m631.52301\u001b[0m │  \u001b[1;36m1132.0\u001b[0m │  \u001b[1;36m2150.0\u001b[0m │  \u001b[1;36m6853.0\u001b[0m │ \u001b[1;36m33580.0\u001b[0m │ \u001b[1;36m234970.0\u001b[0m │ \u001b[1;36m1.572500e+06\u001b[0m │ \u001b[1;36m2.737600e+06\u001b[0m │ \u001b[1;36m6.415600e+06\u001b[0m │ \u001b[1;36m3.109700e+07\u001b[0m │ \u001b[1;36m1.004010e+09\u001b[0m │ \u001b[1;36m1.846400e+10\u001b[0m │ \u001b[1;36m4.411460e+10\u001b[0m │ \u001b[1;36m4.954110e+10\u001b[0m │ \u001b[1;36m4.313830e+10\u001b[0m │ \u001b[1;36m4.587347e+10\u001b[0m │ \u001b[1;36m4.450210e+10\u001b[0m │ \u001b[1;36m4.772343e+10\u001b[0m │ \u001b[1;36m5.338206e+10\u001b[0m │ \u001b[1;36m5.332626e+10\u001b[0m │ \u001b[1;36m4.808982e+10\u001b[0m │ \u001b[1;36m4.687734e+10\u001b[0m │ \u001b[1;36m4.324197e+10\u001b[0m │ \u001b[1;36m6.360307e+10\u001b[0m │ \u001b[1;36m8.452983e+10\u001b[0m │ \u001b[1;36m9.186633e+10\u001b[0m │ \u001b[1;36m1.068399e+11\u001b[0m │ \u001b[1;36m1.279879e+11\u001b[0m │ \u001b[1;36m1.529119e+11\u001b[0m │ \u001b[1;36m1.901327e+11\u001b[0m │ \u001b[1;36m1.944745e+11\u001b[0m │ \u001b[1;36m2.632974e+11\u001b[0m │ \u001b[1;36m3.453905e+11\u001b[0m │ \u001b[1;36m4.014061e+11\u001b[0m │ \u001b[1;36m5.026164e+11\u001b[0m │ \u001b[1;36m6.764583e+11\u001b[0m │ \u001b[1;36m8.444441e+11\u001b[0m │ \u001b[1;36m1.109816e+12\u001b[0m │ \u001b[1;36m1.368258e+12\u001b[0m │ \u001b[1;36m2.073142e+12\u001b[0m │ \u001b[1;36m2.919194e+12\u001b[0m │ \u001b[1;36m3.970056e+12\u001b[0m │ \u001b[1;36m7.310393e+12\u001b[0m │ \u001b[1;36m1.323379e+13\u001b[0m │ \u001b[1;36m3.092516e+13\u001b[0m │\n",
       "└──────────────┴──────────────┴────────────────────────────────────────────────────────────────────────────┴──────────────────────┴─────────┴─────────┴─────────┴─────────┴─────────┴─────────┴─────────┴─────────┴─────────┴─────────┴─────────┴─────────┴─────────┴─────────┴─────────┴─────────┴─────────┴────────────┴────────────┴───────────┴─────────┴─────────┴─────────┴─────────┴──────────┴──────────────┴──────────────┴──────────────┴──────────────┴──────────────┴──────────────┴──────────────┴──────────────┴──────────────┴──────────────┴──────────────┴──────────────┴──────────────┴──────────────┴──────────────┴──────────────┴──────────────┴──────────────┴──────────────┴──────────────┴──────────────┴──────────────┴──────────────┴──────────────┴──────────────┴──────────────┴──────────────┴──────────────┴──────────────┴──────────────┴──────────────┴──────────────┴──────────────┴──────────────┴──────────────┴──────────────┴──────────────┴──────────────┴──────────────┘"
      ]
     },
     "execution_count": 48,
     "metadata": {},
     "output_type": "execute_result"
    }
   ],
   "source": [
    "# should not be null\n",
    "wdi.filter(_.country_code.isin(incomplete_countries_year)).order_by(\"country_name\").head(5)"
   ]
  },
  {
   "cell_type": "markdown",
   "metadata": {
    "tags": [
     "rm_cell"
    ]
   },
   "source": [
    "### Indicators \n",
    "\n",
    "#### WDI\n",
    "\n",
    "More on the indicators considered from the wdi website : https://datacatalog.worldbank.org/search/dataset/0037712/World-Development-Indicators.\n",
    "\n",
    "\n",
    "##### Agriculture, forestry, and fishing, value added (ppercentage of GDP)\n",
    "\n",
    "Agriculture corresponds to ISIC divisions 1-5 and includes forestry, hunting, and fishing, as well as cultivation of crops and livestock production. Value added is the net output of a sector after adding up all outputs and subtracting intermediate inputs. It is calculated without making deductions for depreciation of fabricated assets or depletion and degradation of natural resources. The origin of value added is determined by the International Standard Industrial Classification (ISIC), revision 3. Note: For VAB countries, gross value added at factor cost is used as the denominator.\n",
    "\n",
    "##### Industry (including construction), value added (% of GDP)\n",
    "\n",
    "Industry corresponds to ISIC divisions 10-45 and includes manufacturing (ISIC divisions 15-37). It comprises value added in mining, manufacturing (also reported as a separate subgroup), construction, electricity, water, and gas. Value added is the net output of a sector after adding up all outputs and subtracting intermediate inputs. It is calculated without making deductions for depreciation of fabricated assets or depletion and degradation of natural resources. The origin of value added is determined by the International Standard Industrial Classification (ISIC), revision 3. Note: For VAB countries, gross value added at factor cost is used as the denominator.\n",
    "\n",
    "##### Manufacturing, value added (% of GDP)\n",
    "\n",
    "Manufacturing refers to industries belonging to ISIC divisions 15-37. Value added is the net output of a sector after adding up all outputs and subtracting intermediate inputs. It is calculated without making deductions for depreciation of fabricated assets or depletion and degradation of natural resources. The origin of value added is determined by the International Standard Industrial Classification (ISIC), revision 3. Note: For VAB countries, gross value added at factor cost is used as the denominator.\n",
    "\n",
    "##### Services, value added (% of GDP)\n",
    "\n",
    "Services correspond to ISIC divisions 50-99 and they include value added in wholesale and retail trade (including hotels and restaurants), transport, and government, financial, professional, and personal services such as education, health care, and real estate services. Also included are imputed bank service charges, import duties, and any statistical discrepancies noted by national compilers as well as discrepancies arising from rescaling. Value added is the net output of a sector after adding up all outputs and subtracting intermediate inputs. It is calculated without making deductions for depreciation of fabricated assets or depletion and degradation of natural resources. The industrial origin of value added is determined by the International Standard Industrial Classification (ISIC), revision 3 or 4.\n",
    "\n",
    "#### <font color='green'>Manufacturing is included in construction !!!</font>\n"
   ]
  },
  {
   "cell_type": "markdown",
   "metadata": {
    "tags": [
     "rm_cell"
    ]
   },
   "source": [
    "### DOSE"
   ]
  },
  {
   "cell_type": "markdown",
   "metadata": {
    "tags": [
     "rm_cell"
    ]
   },
   "source": [
    "<!-- ![Dose ISIC classification](../img/dose_isic_table.png) -->\n",
    "<center>\n",
    "<img src=\"../img/dose_isic_table.png\" width=\"50%\">\n",
    "</center>\n",
    "\n",
    "<!-- # from IPython.display import Image\n",
    "# Image(filename=\"../img/dose_isic_table.png\", width=700) -->"
   ]
  },
  {
   "cell_type": "markdown",
   "metadata": {
    "tags": [
     "rm_cell"
    ]
   },
   "source": [
    "### Remarks\n",
    "\n",
    "* The ISIC divisions 46-49 (inclusive) seem not to be covered in WDI, the are in the *services* category in DOSE.\n",
    "* In order to match with DOSE, the *industry* variable from WDI (which includes *manufacturing*) is renamed into *manufacturing* later on."
   ]
  },
  {
   "cell_type": "code",
   "execution_count": 49,
   "metadata": {},
   "outputs": [
    {
     "data": {
      "text/plain": [
       "['Access to clean fuels and technologies for cooking (% of population)',\n",
       " 'Access to clean fuels and technologies for cooking, rural (% of rural population)',\n",
       " 'Access to clean fuels and technologies for cooking, urban (% of urban population)',\n",
       " 'Access to electricity (% of population)',\n",
       " 'Access to electricity, rural (% of rural population)',\n",
       " 'Access to electricity, urban (% of urban population)',\n",
       " 'Account ownership at a financial institution or with a mobile-money-service provider (% of population ages 15+)',\n",
       " 'Account ownership at a financial institution or with a mobile-money-service provider, female (% of population ages 15+)',\n",
       " 'Account ownership at a financial institution or with a mobile-money-service provider, male (% of population ages 15+)']"
      ]
     },
     "execution_count": 49,
     "metadata": {},
     "output_type": "execute_result"
    }
   ],
   "source": [
    "indicators = wdi.indicator_name.to_pandas().unique().tolist()\n",
    "indicators[0:9]"
   ]
  },
  {
   "cell_type": "code",
   "execution_count": 50,
   "metadata": {},
   "outputs": [],
   "source": [
    "# subsetting the variables with relevant currency as constant 2015 values\n",
    "# [x for x in indicators if re.search(string=x,pattern=\"constant 2015 US\\\\$\")]\n",
    "# [x for x in indicators if re.search(string=x,pattern=\"\\\\% of GDP\")]"
   ]
  },
  {
   "cell_type": "code",
   "execution_count": 51,
   "metadata": {},
   "outputs": [],
   "source": [
    "# manually getting the useful variables and storing in a dict with simplified names.\n",
    "indicators_of_intereset_perc = {\n",
    "    \"country\" : \"country_name\",\n",
    "    \"grp_usd_2015\" : 'GDP (constant 2015 US$)',\n",
    "    \"gdp_cap\" : \"GDP per capita (constant 2015 US$)\",\n",
    "    \"industry_perc\" : \"Industry (including construction), value added (% of GDP)\",\n",
    "    \"services_perc\" : \"Services, value added (% of GDP)\",\n",
    "    \"agriculture_perc\" : \"Agriculture, forestry, and fishing, value added (% of GDP)\",\n",
    "}\n",
    "\n",
    "indicators_of_intereset_usd_2015 = {\n",
    "    \"country\" : \"country_name\",\n",
    "    \"grp_usd_2015\" : 'GDP (constant 2015 US$)',\n",
    "    \"gdp_cap\" : \"GDP per capita (constant 2015 US$)\",\n",
    "    \"industry_usd_2015\" : \"Industry (including construction), value added (constant 2015 US$)\",\n",
    "    \"services_usd_2015\" : \"Services, value added (constant 2015 US$)\",\n",
    "    \"agriculture_usd_2015\" : \"Agriculture, forestry, and fishing, value added (constant 2015 US$)\",\n",
    "    \n",
    "}\n"
   ]
  },
  {
   "cell_type": "code",
   "execution_count": 52,
   "metadata": {},
   "outputs": [],
   "source": [
    "# select here which dict of indicators to use : the _usd_2015 is considered only at this point\n",
    "indicators_of_intereset = indicators_of_intereset_usd_2015"
   ]
  },
  {
   "cell_type": "code",
   "execution_count": 53,
   "metadata": {},
   "outputs": [],
   "source": [
    "if str(year) not in wdi.columns:\n",
    "    raise ValueError(\"No such year ({}) in WDI data\".format(year))"
   ]
  },
  {
   "cell_type": "code",
   "execution_count": 54,
   "metadata": {},
   "outputs": [],
   "source": [
    "wdi_cols = [\"country_name\",\"country_code\",\"indicator_name\",\"indicator_code\",str(year)]\n",
    "\n",
    "# keeping indicators of interest and countries of interest\n",
    "wdi_of_interest = wdi.select(wdi_cols).filter(_.indicator_name.isin(indicators_of_intereset.values()))"
   ]
  },
  {
   "cell_type": "code",
   "execution_count": 55,
   "metadata": {},
   "outputs": [],
   "source": [
    "# get the data of interest into a pandas df\n",
    "wdi_df = wdi_of_interest.filter(_.country_code.isin(missing_countries_year)).to_pandas()"
   ]
  },
  {
   "cell_type": "code",
   "execution_count": 56,
   "metadata": {
    "tags": [
     "rm_cell"
    ]
   },
   "outputs": [
    {
     "name": "stdout",
     "output_type": "stream",
     "text": [
      "(660, 5)\n"
     ]
    },
    {
     "data": {
      "text/html": [
       "<div>\n",
       "<style scoped>\n",
       "    .dataframe tbody tr th:only-of-type {\n",
       "        vertical-align: middle;\n",
       "    }\n",
       "\n",
       "    .dataframe tbody tr th {\n",
       "        vertical-align: top;\n",
       "    }\n",
       "\n",
       "    .dataframe thead th {\n",
       "        text-align: right;\n",
       "    }\n",
       "</style>\n",
       "<table border=\"1\" class=\"dataframe\">\n",
       "  <thead>\n",
       "    <tr style=\"text-align: right;\">\n",
       "      <th></th>\n",
       "      <th>country_name</th>\n",
       "      <th>country_code</th>\n",
       "      <th>indicator_name</th>\n",
       "      <th>indicator_code</th>\n",
       "      <th>2015</th>\n",
       "    </tr>\n",
       "  </thead>\n",
       "  <tbody>\n",
       "    <tr>\n",
       "      <th>0</th>\n",
       "      <td>Botswana</td>\n",
       "      <td>BWA</td>\n",
       "      <td>Agriculture, forestry, and fishing, value adde...</td>\n",
       "      <td>NV.AGR.TOTL.KD</td>\n",
       "      <td>2.635472e+08</td>\n",
       "    </tr>\n",
       "    <tr>\n",
       "      <th>1</th>\n",
       "      <td>Botswana</td>\n",
       "      <td>BWA</td>\n",
       "      <td>GDP (constant 2015 US$)</td>\n",
       "      <td>NY.GDP.MKTP.KD</td>\n",
       "      <td>1.353075e+10</td>\n",
       "    </tr>\n",
       "    <tr>\n",
       "      <th>2</th>\n",
       "      <td>Botswana</td>\n",
       "      <td>BWA</td>\n",
       "      <td>GDP per capita (constant 2015 US$)</td>\n",
       "      <td>NY.GDP.PCAP.KD</td>\n",
       "      <td>5.869738e+03</td>\n",
       "    </tr>\n",
       "    <tr>\n",
       "      <th>3</th>\n",
       "      <td>Botswana</td>\n",
       "      <td>BWA</td>\n",
       "      <td>Industry (including construction), value added...</td>\n",
       "      <td>NV.IND.TOTL.KD</td>\n",
       "      <td>5.079984e+09</td>\n",
       "    </tr>\n",
       "    <tr>\n",
       "      <th>4</th>\n",
       "      <td>Botswana</td>\n",
       "      <td>BWA</td>\n",
       "      <td>Services, value added (constant 2015 US$)</td>\n",
       "      <td>NV.SRV.TOTL.KD</td>\n",
       "      <td>7.695736e+09</td>\n",
       "    </tr>\n",
       "  </tbody>\n",
       "</table>\n",
       "</div>"
      ],
      "text/plain": [
       "  country_name country_code  \\\n",
       "0     Botswana          BWA   \n",
       "1     Botswana          BWA   \n",
       "2     Botswana          BWA   \n",
       "3     Botswana          BWA   \n",
       "4     Botswana          BWA   \n",
       "\n",
       "                                      indicator_name  indicator_code  \\\n",
       "0  Agriculture, forestry, and fishing, value adde...  NV.AGR.TOTL.KD   \n",
       "1                            GDP (constant 2015 US$)  NY.GDP.MKTP.KD   \n",
       "2                 GDP per capita (constant 2015 US$)  NY.GDP.PCAP.KD   \n",
       "3  Industry (including construction), value added...  NV.IND.TOTL.KD   \n",
       "4          Services, value added (constant 2015 US$)  NV.SRV.TOTL.KD   \n",
       "\n",
       "           2015  \n",
       "0  2.635472e+08  \n",
       "1  1.353075e+10  \n",
       "2  5.869738e+03  \n",
       "3  5.079984e+09  \n",
       "4  7.695736e+09  "
      ]
     },
     "execution_count": 56,
     "metadata": {},
     "output_type": "execute_result"
    }
   ],
   "source": [
    "print(wdi_df.shape)\n",
    "wdi_df.head(5)"
   ]
  },
  {
   "cell_type": "markdown",
   "metadata": {},
   "source": [
    "### Manually adding Venezuela"
   ]
  },
  {
   "cell_type": "code",
   "execution_count": 57,
   "metadata": {},
   "outputs": [
    {
     "data": {
      "text/html": [
       "<div>\n",
       "<style scoped>\n",
       "    .dataframe tbody tr th:only-of-type {\n",
       "        vertical-align: middle;\n",
       "    }\n",
       "\n",
       "    .dataframe tbody tr th {\n",
       "        vertical-align: top;\n",
       "    }\n",
       "\n",
       "    .dataframe thead th {\n",
       "        text-align: right;\n",
       "    }\n",
       "</style>\n",
       "<table border=\"1\" class=\"dataframe\">\n",
       "  <thead>\n",
       "    <tr style=\"text-align: right;\">\n",
       "      <th></th>\n",
       "      <th></th>\n",
       "      <th>2015</th>\n",
       "    </tr>\n",
       "    <tr>\n",
       "      <th>indicator_code</th>\n",
       "      <th>country_code</th>\n",
       "      <th></th>\n",
       "    </tr>\n",
       "  </thead>\n",
       "  <tbody>\n",
       "    <tr>\n",
       "      <th>NV.AGR.TOTL.KD</th>\n",
       "      <th>VEN</th>\n",
       "      <td>1.573330e+10</td>\n",
       "    </tr>\n",
       "    <tr>\n",
       "      <th>NY.GDP.MKTP.KD</th>\n",
       "      <th>VEN</th>\n",
       "      <td>3.347510e+11</td>\n",
       "    </tr>\n",
       "    <tr>\n",
       "      <th>NY.GDP.PCAP.KD</th>\n",
       "      <th>VEN</th>\n",
       "      <td>9.417000e+03</td>\n",
       "    </tr>\n",
       "    <tr>\n",
       "      <th>NV.IND.TOTL.KD</th>\n",
       "      <th>VEN</th>\n",
       "      <td>1.352394e+11</td>\n",
       "    </tr>\n",
       "    <tr>\n",
       "      <th>NV.SRV.TOTL.KD</th>\n",
       "      <th>VEN</th>\n",
       "      <td>1.837783e+11</td>\n",
       "    </tr>\n",
       "  </tbody>\n",
       "</table>\n",
       "</div>"
      ],
      "text/plain": [
       "                                     2015\n",
       "indicator_code country_code              \n",
       "NV.AGR.TOTL.KD VEN           1.573330e+10\n",
       "NY.GDP.MKTP.KD VEN           3.347510e+11\n",
       "NY.GDP.PCAP.KD VEN           9.417000e+03\n",
       "NV.IND.TOTL.KD VEN           1.352394e+11\n",
       "NV.SRV.TOTL.KD VEN           1.837783e+11"
      ]
     },
     "execution_count": 57,
     "metadata": {},
     "output_type": "execute_result"
    }
   ],
   "source": [
    "# filling available values for Venzuela from other sources.\n",
    "# This source: https://www.cia.gov/the-world-factbook/countries/venezuela/#economy\n",
    "\n",
    "gdp_2017 = 334.751e9\n",
    "gdp_pc_2017 = 9_417 \n",
    "\n",
    "manuf_gdp_frac = 0.404\n",
    "serv_gdp_frac = 0.549\n",
    "agri_gdp_frac = 0.047\n",
    "\n",
    "venezuela_gaps = {\"indicator_code\" : [\"NV.AGR.TOTL.KD\",\"NY.GDP.MKTP.KD\",\"NY.GDP.PCAP.KD\",\"NV.IND.TOTL.KD\",\"NV.SRV.TOTL.KD\"]\n",
    "                  ,str(year) : [agri_gdp_frac*gdp_2017, gdp_2017, gdp_pc_2017, manuf_gdp_frac*gdp_2017, serv_gdp_frac*gdp_2017]\n",
    "                  ,\"country_code\" : [\"VEN\"]*5}\n",
    "\n",
    "venezuela_gaps_df = pd.DataFrame(venezuela_gaps).set_index([\"indicator_code\",\"country_code\"])\n",
    "\n",
    "venezuela_gaps_df"
   ]
  },
  {
   "cell_type": "code",
   "execution_count": 58,
   "metadata": {},
   "outputs": [],
   "source": [
    "wdi_df.set_index([\"indicator_code\",\"country_code\"],inplace=True)"
   ]
  },
  {
   "cell_type": "code",
   "execution_count": 59,
   "metadata": {},
   "outputs": [],
   "source": [
    "wdi_df.loc[venezuela_gaps_df.index,\"2015\"]=venezuela_gaps_df"
   ]
  },
  {
   "cell_type": "code",
   "execution_count": 60,
   "metadata": {},
   "outputs": [],
   "source": [
    "wdi_df.reset_index(inplace=True,drop=False)"
   ]
  },
  {
   "cell_type": "code",
   "execution_count": 61,
   "metadata": {
    "tags": [
     "rm_cell"
    ]
   },
   "outputs": [
    {
     "data": {
      "text/html": [
       "<div>\n",
       "<style scoped>\n",
       "    .dataframe tbody tr th:only-of-type {\n",
       "        vertical-align: middle;\n",
       "    }\n",
       "\n",
       "    .dataframe tbody tr th {\n",
       "        vertical-align: top;\n",
       "    }\n",
       "\n",
       "    .dataframe thead th {\n",
       "        text-align: right;\n",
       "    }\n",
       "</style>\n",
       "<table border=\"1\" class=\"dataframe\">\n",
       "  <thead>\n",
       "    <tr style=\"text-align: right;\">\n",
       "      <th></th>\n",
       "      <th>indicator_code</th>\n",
       "      <th>country_code</th>\n",
       "      <th>country_name</th>\n",
       "      <th>indicator_name</th>\n",
       "      <th>2015</th>\n",
       "    </tr>\n",
       "  </thead>\n",
       "  <tbody>\n",
       "    <tr>\n",
       "      <th>424</th>\n",
       "      <td>NV.AGR.TOTL.KD</td>\n",
       "      <td>VEN</td>\n",
       "      <td>Venezuela, RB</td>\n",
       "      <td>Agriculture, forestry, and fishing, value adde...</td>\n",
       "      <td>1.573330e+10</td>\n",
       "    </tr>\n",
       "    <tr>\n",
       "      <th>425</th>\n",
       "      <td>NY.GDP.MKTP.KD</td>\n",
       "      <td>VEN</td>\n",
       "      <td>Venezuela, RB</td>\n",
       "      <td>GDP (constant 2015 US$)</td>\n",
       "      <td>3.347510e+11</td>\n",
       "    </tr>\n",
       "    <tr>\n",
       "      <th>426</th>\n",
       "      <td>NY.GDP.PCAP.KD</td>\n",
       "      <td>VEN</td>\n",
       "      <td>Venezuela, RB</td>\n",
       "      <td>GDP per capita (constant 2015 US$)</td>\n",
       "      <td>9.417000e+03</td>\n",
       "    </tr>\n",
       "    <tr>\n",
       "      <th>427</th>\n",
       "      <td>NV.IND.TOTL.KD</td>\n",
       "      <td>VEN</td>\n",
       "      <td>Venezuela, RB</td>\n",
       "      <td>Industry (including construction), value added...</td>\n",
       "      <td>1.352394e+11</td>\n",
       "    </tr>\n",
       "    <tr>\n",
       "      <th>428</th>\n",
       "      <td>NV.SRV.TOTL.KD</td>\n",
       "      <td>VEN</td>\n",
       "      <td>Venezuela, RB</td>\n",
       "      <td>Services, value added (constant 2015 US$)</td>\n",
       "      <td>1.837783e+11</td>\n",
       "    </tr>\n",
       "  </tbody>\n",
       "</table>\n",
       "</div>"
      ],
      "text/plain": [
       "     indicator_code country_code   country_name  \\\n",
       "424  NV.AGR.TOTL.KD          VEN  Venezuela, RB   \n",
       "425  NY.GDP.MKTP.KD          VEN  Venezuela, RB   \n",
       "426  NY.GDP.PCAP.KD          VEN  Venezuela, RB   \n",
       "427  NV.IND.TOTL.KD          VEN  Venezuela, RB   \n",
       "428  NV.SRV.TOTL.KD          VEN  Venezuela, RB   \n",
       "\n",
       "                                        indicator_name          2015  \n",
       "424  Agriculture, forestry, and fishing, value adde...  1.573330e+10  \n",
       "425                            GDP (constant 2015 US$)  3.347510e+11  \n",
       "426                 GDP per capita (constant 2015 US$)  9.417000e+03  \n",
       "427  Industry (including construction), value added...  1.352394e+11  \n",
       "428          Services, value added (constant 2015 US$)  1.837783e+11  "
      ]
     },
     "execution_count": 61,
     "metadata": {},
     "output_type": "execute_result"
    }
   ],
   "source": [
    "wdi_df[wdi_df.country_code==\"VEN\"]"
   ]
  },
  {
   "cell_type": "code",
   "execution_count": 62,
   "metadata": {
    "tags": [
     "rm_cell"
    ]
   },
   "outputs": [
    {
     "data": {
      "text/html": [
       "<div>\n",
       "<style scoped>\n",
       "    .dataframe tbody tr th:only-of-type {\n",
       "        vertical-align: middle;\n",
       "    }\n",
       "\n",
       "    .dataframe tbody tr th {\n",
       "        vertical-align: top;\n",
       "    }\n",
       "\n",
       "    .dataframe thead th {\n",
       "        text-align: right;\n",
       "    }\n",
       "</style>\n",
       "<table border=\"1\" class=\"dataframe\">\n",
       "  <thead>\n",
       "    <tr style=\"text-align: right;\">\n",
       "      <th></th>\n",
       "      <th>indicator_code</th>\n",
       "      <th>country_code</th>\n",
       "      <th>country_name</th>\n",
       "      <th>indicator_name</th>\n",
       "      <th>2015</th>\n",
       "    </tr>\n",
       "  </thead>\n",
       "  <tbody>\n",
       "    <tr>\n",
       "      <th>30</th>\n",
       "      <td>NV.AGR.TOTL.KD</td>\n",
       "      <td>KHM</td>\n",
       "      <td>Cambodia</td>\n",
       "      <td>Agriculture, forestry, and fishing, value adde...</td>\n",
       "      <td>4.797743e+09</td>\n",
       "    </tr>\n",
       "    <tr>\n",
       "      <th>182</th>\n",
       "      <td>NV.AGR.TOTL.KD</td>\n",
       "      <td>DOM</td>\n",
       "      <td>Dominican Republic</td>\n",
       "      <td>Agriculture, forestry, and fishing, value adde...</td>\n",
       "      <td>3.903174e+09</td>\n",
       "    </tr>\n",
       "    <tr>\n",
       "      <th>443</th>\n",
       "      <td>NV.SRV.TOTL.KD</td>\n",
       "      <td>YEM</td>\n",
       "      <td>Yemen, Rep.</td>\n",
       "      <td>Services, value added (constant 2015 US$)</td>\n",
       "      <td>1.779608e+10</td>\n",
       "    </tr>\n",
       "    <tr>\n",
       "      <th>109</th>\n",
       "      <td>NV.SRV.TOTL.KD</td>\n",
       "      <td>AND</td>\n",
       "      <td>Andorra</td>\n",
       "      <td>Services, value added (constant 2015 US$)</td>\n",
       "      <td>2.194727e+09</td>\n",
       "    </tr>\n",
       "    <tr>\n",
       "      <th>478</th>\n",
       "      <td>NV.AGR.TOTL.KD</td>\n",
       "      <td>CRI</td>\n",
       "      <td>Costa Rica</td>\n",
       "      <td>Agriculture, forestry, and fishing, value adde...</td>\n",
       "      <td>2.680489e+09</td>\n",
       "    </tr>\n",
       "  </tbody>\n",
       "</table>\n",
       "</div>"
      ],
      "text/plain": [
       "     indicator_code country_code        country_name  \\\n",
       "30   NV.AGR.TOTL.KD          KHM            Cambodia   \n",
       "182  NV.AGR.TOTL.KD          DOM  Dominican Republic   \n",
       "443  NV.SRV.TOTL.KD          YEM         Yemen, Rep.   \n",
       "109  NV.SRV.TOTL.KD          AND             Andorra   \n",
       "478  NV.AGR.TOTL.KD          CRI          Costa Rica   \n",
       "\n",
       "                                        indicator_name          2015  \n",
       "30   Agriculture, forestry, and fishing, value adde...  4.797743e+09  \n",
       "182  Agriculture, forestry, and fishing, value adde...  3.903174e+09  \n",
       "443          Services, value added (constant 2015 US$)  1.779608e+10  \n",
       "109          Services, value added (constant 2015 US$)  2.194727e+09  \n",
       "478  Agriculture, forestry, and fishing, value adde...  2.680489e+09  "
      ]
     },
     "execution_count": 62,
     "metadata": {},
     "output_type": "execute_result"
    }
   ],
   "source": [
    "wdi_df.sample(n=5)"
   ]
  },
  {
   "cell_type": "markdown",
   "metadata": {},
   "source": [
    "## WDI data transformed\n",
    "pivoting the data WDI data"
   ]
  },
  {
   "cell_type": "code",
   "execution_count": 63,
   "metadata": {},
   "outputs": [],
   "source": [
    "wdi_df_var = wdi_df.pivot(columns=[\"indicator_name\",],values=[str(year)],index=[\"country_name\",\"country_code\"]).reset_index()"
   ]
  },
  {
   "cell_type": "code",
   "execution_count": 64,
   "metadata": {},
   "outputs": [],
   "source": [
    "wdi_df_var.rename(columns={v:k for (k,v) in indicators_of_intereset.items()} # inverting the indicators of interest to rename columns\n",
    "                  ,inplace=True)"
   ]
  },
  {
   "cell_type": "code",
   "execution_count": 65,
   "metadata": {},
   "outputs": [],
   "source": [
    "wdi_df_var.columns = [x[1] if x[1]!='' else x[0] for x in wdi_df_var.columns]"
   ]
  },
  {
   "cell_type": "code",
   "execution_count": 66,
   "metadata": {},
   "outputs": [],
   "source": [
    "wdi_df_var.columns = [x.replace(\"industry\", \"manufacturing\") if re.search(string=x,pattern=\"industry_\") else x for x in wdi_df_var.columns]"
   ]
  },
  {
   "cell_type": "code",
   "execution_count": 67,
   "metadata": {
    "tags": [
     "rm_cell"
    ]
   },
   "outputs": [
    {
     "name": "stdout",
     "output_type": "stream",
     "text": [
      "(132, 7)\n"
     ]
    },
    {
     "data": {
      "text/html": [
       "<div>\n",
       "<style scoped>\n",
       "    .dataframe tbody tr th:only-of-type {\n",
       "        vertical-align: middle;\n",
       "    }\n",
       "\n",
       "    .dataframe tbody tr th {\n",
       "        vertical-align: top;\n",
       "    }\n",
       "\n",
       "    .dataframe thead th {\n",
       "        text-align: right;\n",
       "    }\n",
       "</style>\n",
       "<table border=\"1\" class=\"dataframe\">\n",
       "  <thead>\n",
       "    <tr style=\"text-align: right;\">\n",
       "      <th></th>\n",
       "      <th>country</th>\n",
       "      <th>country_code</th>\n",
       "      <th>agriculture_usd_2015</th>\n",
       "      <th>grp_usd_2015</th>\n",
       "      <th>gdp_cap</th>\n",
       "      <th>manufacturing_usd_2015</th>\n",
       "      <th>services_usd_2015</th>\n",
       "    </tr>\n",
       "  </thead>\n",
       "  <tbody>\n",
       "    <tr>\n",
       "      <th>0</th>\n",
       "      <td>Afghanistan</td>\n",
       "      <td>AFG</td>\n",
       "      <td>3.948217e+09</td>\n",
       "      <td>1.913422e+10</td>\n",
       "      <td>566.881130</td>\n",
       "      <td>4.233263e+09</td>\n",
       "      <td>1.018616e+10</td>\n",
       "    </tr>\n",
       "    <tr>\n",
       "      <th>1</th>\n",
       "      <td>Algeria</td>\n",
       "      <td>DZA</td>\n",
       "      <td>1.974833e+10</td>\n",
       "      <td>1.874939e+11</td>\n",
       "      <td>4741.499770</td>\n",
       "      <td>6.141643e+10</td>\n",
       "      <td>9.770374e+10</td>\n",
       "    </tr>\n",
       "    <tr>\n",
       "      <th>2</th>\n",
       "      <td>American Samoa</td>\n",
       "      <td>ASM</td>\n",
       "      <td>NaN</td>\n",
       "      <td>6.730000e+08</td>\n",
       "      <td>13101.541816</td>\n",
       "      <td>NaN</td>\n",
       "      <td>NaN</td>\n",
       "    </tr>\n",
       "  </tbody>\n",
       "</table>\n",
       "</div>"
      ],
      "text/plain": [
       "          country country_code  agriculture_usd_2015  grp_usd_2015  \\\n",
       "0     Afghanistan          AFG          3.948217e+09  1.913422e+10   \n",
       "1         Algeria          DZA          1.974833e+10  1.874939e+11   \n",
       "2  American Samoa          ASM                   NaN  6.730000e+08   \n",
       "\n",
       "        gdp_cap  manufacturing_usd_2015  services_usd_2015  \n",
       "0    566.881130            4.233263e+09       1.018616e+10  \n",
       "1   4741.499770            6.141643e+10       9.770374e+10  \n",
       "2  13101.541816                     NaN                NaN  "
      ]
     },
     "execution_count": 67,
     "metadata": {},
     "output_type": "execute_result"
    }
   ],
   "source": [
    "print(wdi_df_var.shape)\n",
    "wdi_df_var.head(3)"
   ]
  },
  {
   "cell_type": "code",
   "execution_count": 68,
   "metadata": {
    "tags": [
     "rm_cell"
    ]
   },
   "outputs": [
    {
     "data": {
      "text/html": [
       "<div>\n",
       "<style scoped>\n",
       "    .dataframe tbody tr th:only-of-type {\n",
       "        vertical-align: middle;\n",
       "    }\n",
       "\n",
       "    .dataframe tbody tr th {\n",
       "        vertical-align: top;\n",
       "    }\n",
       "\n",
       "    .dataframe thead th {\n",
       "        text-align: right;\n",
       "    }\n",
       "</style>\n",
       "<table border=\"1\" class=\"dataframe\">\n",
       "  <thead>\n",
       "    <tr style=\"text-align: right;\">\n",
       "      <th></th>\n",
       "      <th>country</th>\n",
       "      <th>country_code</th>\n",
       "      <th>agriculture_usd_2015</th>\n",
       "      <th>grp_usd_2015</th>\n",
       "      <th>gdp_cap</th>\n",
       "      <th>manufacturing_usd_2015</th>\n",
       "      <th>services_usd_2015</th>\n",
       "    </tr>\n",
       "  </thead>\n",
       "  <tbody>\n",
       "    <tr>\n",
       "      <th>2</th>\n",
       "      <td>American Samoa</td>\n",
       "      <td>ASM</td>\n",
       "      <td>NaN</td>\n",
       "      <td>6.730000e+08</td>\n",
       "      <td>13101.541816</td>\n",
       "      <td>NaN</td>\n",
       "      <td>NaN</td>\n",
       "    </tr>\n",
       "    <tr>\n",
       "      <th>15</th>\n",
       "      <td>British Virgin Islands</td>\n",
       "      <td>VGB</td>\n",
       "      <td>NaN</td>\n",
       "      <td>NaN</td>\n",
       "      <td>NaN</td>\n",
       "      <td>NaN</td>\n",
       "      <td>NaN</td>\n",
       "    </tr>\n",
       "    <tr>\n",
       "      <th>37</th>\n",
       "      <td>Eritrea</td>\n",
       "      <td>ERI</td>\n",
       "      <td>NaN</td>\n",
       "      <td>NaN</td>\n",
       "      <td>NaN</td>\n",
       "      <td>NaN</td>\n",
       "      <td>NaN</td>\n",
       "    </tr>\n",
       "    <tr>\n",
       "      <th>48</th>\n",
       "      <td>Guam</td>\n",
       "      <td>GUM</td>\n",
       "      <td>NaN</td>\n",
       "      <td>5.799000e+09</td>\n",
       "      <td>34522.377930</td>\n",
       "      <td>NaN</td>\n",
       "      <td>NaN</td>\n",
       "    </tr>\n",
       "    <tr>\n",
       "      <th>62</th>\n",
       "      <td>Korea, Dem. People's Rep.</td>\n",
       "      <td>PRK</td>\n",
       "      <td>NaN</td>\n",
       "      <td>NaN</td>\n",
       "      <td>NaN</td>\n",
       "      <td>NaN</td>\n",
       "      <td>NaN</td>\n",
       "    </tr>\n",
       "    <tr>\n",
       "      <th>69</th>\n",
       "      <td>Liechtenstein</td>\n",
       "      <td>LIE</td>\n",
       "      <td>NaN</td>\n",
       "      <td>6.268515e+09</td>\n",
       "      <td>167809.269875</td>\n",
       "      <td>2.335665e+09</td>\n",
       "      <td>NaN</td>\n",
       "    </tr>\n",
       "    <tr>\n",
       "      <th>71</th>\n",
       "      <td>Macao SAR, China</td>\n",
       "      <td>MAC</td>\n",
       "      <td>NaN</td>\n",
       "      <td>4.504819e+10</td>\n",
       "      <td>73220.635555</td>\n",
       "      <td>3.466893e+09</td>\n",
       "      <td>4.131905e+10</td>\n",
       "    </tr>\n",
       "    <tr>\n",
       "      <th>83</th>\n",
       "      <td>Nauru</td>\n",
       "      <td>NRU</td>\n",
       "      <td>NaN</td>\n",
       "      <td>8.486344e+07</td>\n",
       "      <td>7587.254410</td>\n",
       "      <td>NaN</td>\n",
       "      <td>NaN</td>\n",
       "    </tr>\n",
       "    <tr>\n",
       "      <th>88</th>\n",
       "      <td>Northern Mariana Islands</td>\n",
       "      <td>MNP</td>\n",
       "      <td>NaN</td>\n",
       "      <td>9.100000e+08</td>\n",
       "      <td>17665.100749</td>\n",
       "      <td>NaN</td>\n",
       "      <td>NaN</td>\n",
       "    </tr>\n",
       "    <tr>\n",
       "      <th>105</th>\n",
       "      <td>Somalia</td>\n",
       "      <td>SOM</td>\n",
       "      <td>NaN</td>\n",
       "      <td>6.984947e+09</td>\n",
       "      <td>507.482915</td>\n",
       "      <td>NaN</td>\n",
       "      <td>NaN</td>\n",
       "    </tr>\n",
       "    <tr>\n",
       "      <th>121</th>\n",
       "      <td>Tuvalu</td>\n",
       "      <td>TUV</td>\n",
       "      <td>5.859108e+06</td>\n",
       "      <td>3.681194e+07</td>\n",
       "      <td>3384.383201</td>\n",
       "      <td>2.582545e+06</td>\n",
       "      <td>NaN</td>\n",
       "    </tr>\n",
       "    <tr>\n",
       "      <th>127</th>\n",
       "      <td>Virgin Islands (U.S.)</td>\n",
       "      <td>VIR</td>\n",
       "      <td>NaN</td>\n",
       "      <td>3.663000e+09</td>\n",
       "      <td>34007.352941</td>\n",
       "      <td>NaN</td>\n",
       "      <td>NaN</td>\n",
       "    </tr>\n",
       "  </tbody>\n",
       "</table>\n",
       "</div>"
      ],
      "text/plain": [
       "                       country country_code  agriculture_usd_2015  \\\n",
       "2               American Samoa          ASM                   NaN   \n",
       "15      British Virgin Islands          VGB                   NaN   \n",
       "37                     Eritrea          ERI                   NaN   \n",
       "48                        Guam          GUM                   NaN   \n",
       "62   Korea, Dem. People's Rep.          PRK                   NaN   \n",
       "69               Liechtenstein          LIE                   NaN   \n",
       "71            Macao SAR, China          MAC                   NaN   \n",
       "83                       Nauru          NRU                   NaN   \n",
       "88    Northern Mariana Islands          MNP                   NaN   \n",
       "105                    Somalia          SOM                   NaN   \n",
       "121                     Tuvalu          TUV          5.859108e+06   \n",
       "127      Virgin Islands (U.S.)          VIR                   NaN   \n",
       "\n",
       "     grp_usd_2015        gdp_cap  manufacturing_usd_2015  services_usd_2015  \n",
       "2    6.730000e+08   13101.541816                     NaN                NaN  \n",
       "15            NaN            NaN                     NaN                NaN  \n",
       "37            NaN            NaN                     NaN                NaN  \n",
       "48   5.799000e+09   34522.377930                     NaN                NaN  \n",
       "62            NaN            NaN                     NaN                NaN  \n",
       "69   6.268515e+09  167809.269875            2.335665e+09                NaN  \n",
       "71   4.504819e+10   73220.635555            3.466893e+09       4.131905e+10  \n",
       "83   8.486344e+07    7587.254410                     NaN                NaN  \n",
       "88   9.100000e+08   17665.100749                     NaN                NaN  \n",
       "105  6.984947e+09     507.482915                     NaN                NaN  \n",
       "121  3.681194e+07    3384.383201            2.582545e+06                NaN  \n",
       "127  3.663000e+09   34007.352941                     NaN                NaN  "
      ]
     },
     "execution_count": 68,
     "metadata": {},
     "output_type": "execute_result"
    }
   ],
   "source": [
    "wdi_df_var[wdi_df_var.isna().any(axis=1)]"
   ]
  },
  {
   "cell_type": "code",
   "execution_count": 69,
   "metadata": {},
   "outputs": [
    {
     "data": {
      "text/plain": [
       "['agriculture_usd_2015', 'manufacturing_usd_2015', 'services_usd_2015']"
      ]
     },
     "execution_count": 69,
     "metadata": {},
     "output_type": "execute_result"
    }
   ],
   "source": [
    "# without 'manufacturing' it makes more sense:\n",
    "indicator_columns = [x for x in wdi_df_var.columns if re.search(string=x,pattern=\"(services_)|(agriculture_)|(manufacturing_)\")]\n",
    "indicator_columns"
   ]
  },
  {
   "cell_type": "code",
   "execution_count": 70,
   "metadata": {
    "tags": [
     "rm_cell"
    ]
   },
   "outputs": [
    {
     "data": {
      "text/plain": [
       "<Axes: >"
      ]
     },
     "execution_count": 70,
     "metadata": {},
     "output_type": "execute_result"
    },
    {
     "data": {
      "image/png": "[encoded data removed]",
      "text/plain": [
       "<Figure size 640x480 with 1 Axes>"
      ]
     },
     "metadata": {},
     "output_type": "display_data"
    }
   ],
   "source": [
    "wdi_df_var[indicator_columns].sum(axis=1).apply(np.log1p).hist()"
   ]
  },
  {
   "cell_type": "markdown",
   "metadata": {},
   "source": [
    "## Combining the data sets"
   ]
  },
  {
   "cell_type": "code",
   "execution_count": 71,
   "metadata": {
    "tags": [
     "rm_cell"
    ]
   },
   "outputs": [
    {
     "data": {
      "text/html": [
       "<div>\n",
       "<style scoped>\n",
       "    .dataframe tbody tr th:only-of-type {\n",
       "        vertical-align: middle;\n",
       "    }\n",
       "\n",
       "    .dataframe tbody tr th {\n",
       "        vertical-align: top;\n",
       "    }\n",
       "\n",
       "    .dataframe thead th {\n",
       "        text-align: right;\n",
       "    }\n",
       "</style>\n",
       "<table border=\"1\" class=\"dataframe\">\n",
       "  <thead>\n",
       "    <tr style=\"text-align: right;\">\n",
       "      <th></th>\n",
       "      <th>year</th>\n",
       "      <th>year_count</th>\n",
       "    </tr>\n",
       "  </thead>\n",
       "  <tbody>\n",
       "    <tr>\n",
       "      <th>52</th>\n",
       "      <td>2011</td>\n",
       "      <td>1420</td>\n",
       "    </tr>\n",
       "    <tr>\n",
       "      <th>53</th>\n",
       "      <td>2012</td>\n",
       "      <td>1476</td>\n",
       "    </tr>\n",
       "    <tr>\n",
       "      <th>54</th>\n",
       "      <td>2013</td>\n",
       "      <td>1564</td>\n",
       "    </tr>\n",
       "    <tr>\n",
       "      <th>55</th>\n",
       "      <td>2014</td>\n",
       "      <td>1557</td>\n",
       "    </tr>\n",
       "    <tr>\n",
       "      <th>56</th>\n",
       "      <td>2015</td>\n",
       "      <td>1548</td>\n",
       "    </tr>\n",
       "    <tr>\n",
       "      <th>57</th>\n",
       "      <td>2016</td>\n",
       "      <td>1531</td>\n",
       "    </tr>\n",
       "    <tr>\n",
       "      <th>58</th>\n",
       "      <td>2017</td>\n",
       "      <td>1518</td>\n",
       "    </tr>\n",
       "    <tr>\n",
       "      <th>59</th>\n",
       "      <td>2018</td>\n",
       "      <td>1335</td>\n",
       "    </tr>\n",
       "    <tr>\n",
       "      <th>60</th>\n",
       "      <td>2019</td>\n",
       "      <td>1039</td>\n",
       "    </tr>\n",
       "    <tr>\n",
       "      <th>61</th>\n",
       "      <td>2020</td>\n",
       "      <td>354</td>\n",
       "    </tr>\n",
       "  </tbody>\n",
       "</table>\n",
       "</div>"
      ],
      "text/plain": [
       "    year  year_count\n",
       "52  2011        1420\n",
       "53  2012        1476\n",
       "54  2013        1564\n",
       "55  2014        1557\n",
       "56  2015        1548\n",
       "57  2016        1531\n",
       "58  2017        1518\n",
       "59  2018        1335\n",
       "60  2019        1039\n",
       "61  2020         354"
      ]
     },
     "execution_count": 71,
     "metadata": {},
     "output_type": "execute_result"
    }
   ],
   "source": [
    "# inspecting the \n",
    "dose.year.value_counts().order_by(\"year\").to_pandas().tail(10)"
   ]
  },
  {
   "cell_type": "code",
   "execution_count": 72,
   "metadata": {
    "tags": [
     "rm_cell"
    ]
   },
   "outputs": [
    {
     "data": {
      "text/plain": [
       "['country',\n",
       " 'region',\n",
       " 'gid_0',\n",
       " 'gid_1',\n",
       " 'year',\n",
       " 'grp_lcu',\n",
       " 'pop',\n",
       " 'grp_pc_lcu',\n",
       " 'ag_grp_pc_lcu']"
      ]
     },
     "execution_count": 72,
     "metadata": {},
     "output_type": "execute_result"
    }
   ],
   "source": [
    "dose.columns[0:9]"
   ]
  },
  {
   "cell_type": "markdown",
   "metadata": {},
   "source": [
    "### Using the year variable assigned earlier"
   ]
  },
  {
   "cell_type": "code",
   "execution_count": 73,
   "metadata": {
    "tags": [
     "rm_cell"
    ]
   },
   "outputs": [
    {
     "data": {
      "text/plain": [
       "['gid_0', 'region', 'country', 'ag_grp_pc_lcu', 'ag_grp_pc_lcu2015_usd']"
      ]
     },
     "execution_count": 73,
     "metadata": {},
     "output_type": "execute_result"
    }
   ],
   "source": [
    "# some columns\n",
    "sample(dose.columns,5)"
   ]
  },
  {
   "cell_type": "code",
   "execution_count": 74,
   "metadata": {},
   "outputs": [],
   "source": [
    "dose_year = dose.filter(_.year==str(year)).to_pandas()"
   ]
  },
  {
   "cell_type": "code",
   "execution_count": 75,
   "metadata": {},
   "outputs": [],
   "source": [
    "# due to the way na values are written in the data set, all the data had to be read as strings, changing this here.\n",
    "dose_year.replace(to_replace=\"#N/A\",value=np.nan,inplace=True)"
   ]
  },
  {
   "cell_type": "code",
   "execution_count": 76,
   "metadata": {
    "tags": [
     "rm_cell"
    ]
   },
   "outputs": [
    {
     "data": {
      "text/html": [
       "<div>\n",
       "<style scoped>\n",
       "    .dataframe tbody tr th:only-of-type {\n",
       "        vertical-align: middle;\n",
       "    }\n",
       "\n",
       "    .dataframe tbody tr th {\n",
       "        vertical-align: top;\n",
       "    }\n",
       "\n",
       "    .dataframe thead th {\n",
       "        text-align: right;\n",
       "    }\n",
       "</style>\n",
       "<table border=\"1\" class=\"dataframe\">\n",
       "  <thead>\n",
       "    <tr style=\"text-align: right;\">\n",
       "      <th></th>\n",
       "      <th>country</th>\n",
       "      <th>region</th>\n",
       "      <th>gid_0</th>\n",
       "      <th>gid_1</th>\n",
       "      <th>year</th>\n",
       "      <th>grp_lcu</th>\n",
       "      <th>pop</th>\n",
       "      <th>grp_pc_lcu</th>\n",
       "      <th>ag_grp_pc_lcu</th>\n",
       "      <th>man_grp_pc_lcu</th>\n",
       "      <th>...</th>\n",
       "      <th>man_grp_pc_lcu2015_usd</th>\n",
       "      <th>serv_grp_pc_lcu2015_usd</th>\n",
       "      <th>cpi_2015</th>\n",
       "      <th>deflator_2015</th>\n",
       "      <th>fx</th>\n",
       "      <th>ppp</th>\n",
       "      <th>struct_change</th>\n",
       "      <th>version</th>\n",
       "      <th>t_a</th>\n",
       "      <th>p_a</th>\n",
       "    </tr>\n",
       "  </thead>\n",
       "  <tbody>\n",
       "    <tr>\n",
       "      <th>0</th>\n",
       "      <td>Albania</td>\n",
       "      <td>Berat</td>\n",
       "      <td>ALB</td>\n",
       "      <td>ALB.1_1</td>\n",
       "      <td>2015</td>\n",
       "      <td>54691123900.0</td>\n",
       "      <td>136904.0</td>\n",
       "      <td>399485.2152</td>\n",
       "      <td>None</td>\n",
       "      <td>None</td>\n",
       "      <td>...</td>\n",
       "      <td>None</td>\n",
       "      <td>None</td>\n",
       "      <td>100.0</td>\n",
       "      <td>100.0</td>\n",
       "      <td>125.9608304</td>\n",
       "      <td>42.70570052</td>\n",
       "      <td>3.0</td>\n",
       "      <td>2.0</td>\n",
       "      <td>13.50185305</td>\n",
       "      <td>1093.56268</td>\n",
       "    </tr>\n",
       "    <tr>\n",
       "      <th>1</th>\n",
       "      <td>Albania</td>\n",
       "      <td>Dibër</td>\n",
       "      <td>ALB</td>\n",
       "      <td>ALB.2_1</td>\n",
       "      <td>2015</td>\n",
       "      <td>46850206200.0</td>\n",
       "      <td>130056.0</td>\n",
       "      <td>360231.0251</td>\n",
       "      <td>None</td>\n",
       "      <td>None</td>\n",
       "      <td>...</td>\n",
       "      <td>None</td>\n",
       "      <td>None</td>\n",
       "      <td>100.0</td>\n",
       "      <td>100.0</td>\n",
       "      <td>125.9608304</td>\n",
       "      <td>42.70570052</td>\n",
       "      <td>3.0</td>\n",
       "      <td>2.0</td>\n",
       "      <td>10.45442675</td>\n",
       "      <td>1175.134798</td>\n",
       "    </tr>\n",
       "    <tr>\n",
       "      <th>2</th>\n",
       "      <td>Albania</td>\n",
       "      <td>Durrës</td>\n",
       "      <td>ALB</td>\n",
       "      <td>ALB.3_1</td>\n",
       "      <td>2015</td>\n",
       "      <td>140000000000.0</td>\n",
       "      <td>279097.0</td>\n",
       "      <td>502550.8411</td>\n",
       "      <td>None</td>\n",
       "      <td>None</td>\n",
       "      <td>...</td>\n",
       "      <td>None</td>\n",
       "      <td>None</td>\n",
       "      <td>100.0</td>\n",
       "      <td>100.0</td>\n",
       "      <td>125.9608304</td>\n",
       "      <td>42.70570052</td>\n",
       "      <td>3.0</td>\n",
       "      <td>2.0</td>\n",
       "      <td>16.16559071</td>\n",
       "      <td>1047.35031</td>\n",
       "    </tr>\n",
       "  </tbody>\n",
       "</table>\n",
       "<p>3 rows × 35 columns</p>\n",
       "</div>"
      ],
      "text/plain": [
       "   country  region gid_0    gid_1  year         grp_lcu       pop  \\\n",
       "0  Albania   Berat   ALB  ALB.1_1  2015   54691123900.0  136904.0   \n",
       "1  Albania   Dibër   ALB  ALB.2_1  2015   46850206200.0  130056.0   \n",
       "2  Albania  Durrës   ALB  ALB.3_1  2015  140000000000.0  279097.0   \n",
       "\n",
       "    grp_pc_lcu ag_grp_pc_lcu man_grp_pc_lcu  ... man_grp_pc_lcu2015_usd  \\\n",
       "0  399485.2152          None           None  ...                   None   \n",
       "1  360231.0251          None           None  ...                   None   \n",
       "2  502550.8411          None           None  ...                   None   \n",
       "\n",
       "  serv_grp_pc_lcu2015_usd cpi_2015 deflator_2015           fx          ppp  \\\n",
       "0                    None    100.0         100.0  125.9608304  42.70570052   \n",
       "1                    None    100.0         100.0  125.9608304  42.70570052   \n",
       "2                    None    100.0         100.0  125.9608304  42.70570052   \n",
       "\n",
       "  struct_change version          t_a          p_a  \n",
       "0           3.0     2.0  13.50185305   1093.56268  \n",
       "1           3.0     2.0  10.45442675  1175.134798  \n",
       "2           3.0     2.0  16.16559071   1047.35031  \n",
       "\n",
       "[3 rows x 35 columns]"
      ]
     },
     "execution_count": 76,
     "metadata": {},
     "output_type": "execute_result"
    }
   ],
   "source": [
    "dose_year.head(3)"
   ]
  },
  {
   "cell_type": "markdown",
   "metadata": {},
   "source": [
    "On the duckdb end all the data was stored as strings becuase the NA values were not interpretable as numeric. so converting back \n"
   ]
  },
  {
   "cell_type": "code",
   "execution_count": 77,
   "metadata": {
    "tags": [
     "rm_cell"
    ]
   },
   "outputs": [],
   "source": [
    "# # have a look at the columns\n",
    "# sample(dose_year.columns,)"
   ]
  },
  {
   "cell_type": "code",
   "execution_count": 78,
   "metadata": {},
   "outputs": [],
   "source": [
    "# The columns that we will use later will be multiplied, so this step is essential as the automatic type is sometimes wrong.\n",
    "float_cols = dose_year.filter(regex=\"(lcu)|(usd)|(cpi)|(pop)|(year)|(T_a)|(P_a)|(PPP)|(2015)\").columns.unique()\n",
    "dose_year[float_cols] = dose_year[float_cols].astype(float)"
   ]
  },
  {
   "cell_type": "code",
   "execution_count": 79,
   "metadata": {},
   "outputs": [],
   "source": [
    "gdp_thres = 1.1"
   ]
  },
  {
   "cell_type": "code",
   "execution_count": 80,
   "metadata": {},
   "outputs": [
    {
     "name": "stdout",
     "output_type": "stream",
     "text": [
      "Inconsistencies in the DOSE data set in LCU_2015.\n",
      "When converting to absolute values :  9\n",
      "In pc values :  9\n"
     ]
    }
   ],
   "source": [
    "#  IN NORMAL LCU\n",
    "# But before checking if things add up\n",
    "# 'grp_pc_lcu_2015',\n",
    "#  'ag_grp_pc_lcu_2015',\n",
    "#  'man_grp_pc_lcu_2015',\n",
    "#  'serv_grp_pc_lcu_2015',\n",
    "\n",
    "dose_year[\"manufacturing_lcu_2015\"] = dose_year[\"man_grp_pc_lcu_2015\"]*dose_year[\"pop\"]\n",
    "dose_year[\"services_lcu_2015\"]=dose_year['serv_grp_pc_lcu_2015']*dose_year[\"pop\"]\n",
    "dose_year[\"agriculture_lcu_2015\"]=dose_year['ag_grp_pc_lcu_2015']*dose_year[\"pop\"]\n",
    "dose_year[\"grp_lcu_2015\"]=dose_year[\"grp_pc_lcu_2015\"]*dose_year[\"pop\"]\n",
    "\n",
    "\n",
    "\n",
    "print(\"Inconsistencies in the DOSE data set in LCU_2015.\")\n",
    "print(\"When converting to absolute values : \",dose_year[((dose_year[\"manufacturing_lcu_2015\"]+dose_year[\"services_lcu_2015\"]+dose_year[\"agriculture_lcu_2015\"])/dose_year[\"grp_lcu_2015\"])>gdp_thres].shape[0])\n",
    "print(\"In pc values : \", dose_year[((dose_year[\"man_grp_pc_lcu_2015\"]+dose_year[\"serv_grp_pc_lcu_2015\"]+dose_year[\"ag_grp_pc_lcu_2015\"])/dose_year[\"grp_pc_lcu_2015\"])>gdp_thres].shape[0])"
   ]
  },
  {
   "cell_type": "code",
   "execution_count": 81,
   "metadata": {},
   "outputs": [
    {
     "name": "stdout",
     "output_type": "stream",
     "text": [
      "Inconsistencies in the DOSE data set in LCU2015_USD.\n",
      "When converting to absolute values :  9\n",
      "In pc values :  9\n"
     ]
    }
   ],
   "source": [
    "# #  IN LCU2015_USD whatever it means\n",
    "\n",
    "# 'grp_pc_lcu2015_usd',\n",
    "#        'ag_grp_pc_lcu2015_usd', 'man_grp_pc_lcu2015_usd',\n",
    "#        'serv_grp_pc_lcu2015_usd'\n",
    "\n",
    "dose_year[\"manufacturing_lcu_2015_usd\"] = dose_year[\"man_grp_pc_lcu2015_usd\"]*dose_year[\"pop\"]\n",
    "dose_year[\"services_lcu_2015_usd\"]=dose_year['serv_grp_pc_lcu2015_usd']*dose_year[\"pop\"]\n",
    "dose_year[\"agriculture_lcu_2015_usd\"]=dose_year['ag_grp_pc_lcu2015_usd']*dose_year[\"pop\"]\n",
    "dose_year[\"grp_lcu_2015_usd\"]=dose_year[\"grp_pc_lcu2015_usd\"]*dose_year[\"pop\"]\n",
    "\n",
    "print(\"Inconsistencies in the DOSE data set in LCU2015_USD.\")\n",
    "print(\"When converting to absolute values : \",dose_year[((dose_year[\"manufacturing_lcu_2015_usd\"]+dose_year[\"services_lcu_2015_usd\"]+dose_year[\"agriculture_lcu_2015_usd\"])/dose_year[\"grp_lcu_2015_usd\"])>gdp_thres].shape[0])\n",
    "print(\"In pc values : \", dose_year[((dose_year[\"man_grp_pc_lcu2015_usd\"]+dose_year[\"serv_grp_pc_lcu2015_usd\"]+dose_year[\"ag_grp_pc_lcu2015_usd\"])/dose_year[\"grp_pc_lcu2015_usd\"])>gdp_thres].shape[0])"
   ]
  },
  {
   "cell_type": "code",
   "execution_count": 82,
   "metadata": {
    "tags": [
     "rm_cell"
    ]
   },
   "outputs": [
    {
     "data": {
      "text/plain": [
       "<Axes: >"
      ]
     },
     "execution_count": 82,
     "metadata": {},
     "output_type": "execute_result"
    },
    {
     "data": {
      "image/png": "[encoded data removed]",
      "text/plain": [
       "<Figure size 640x480 with 1 Axes>"
      ]
     },
     "metadata": {},
     "output_type": "display_data"
    }
   ],
   "source": [
    "((dose_year[\"manufacturing_lcu_2015_usd\"]+dose_year[\"services_lcu_2015_usd\"]+dose_year[\"agriculture_lcu_2015_usd\"])/dose_year[\"grp_lcu_2015_usd\"]).hist()"
   ]
  },
  {
   "cell_type": "markdown",
   "metadata": {},
   "source": [
    "## Filling population gaps in DOSE\n",
    "The missing *population* values generates missing values when converting from per capita values back into absolute values.\n",
    "#### Converting per capita into absolute values with the population variable.\n"
   ]
  },
  {
   "cell_type": "code",
   "execution_count": 83,
   "metadata": {
    "tags": [
     "rm_cell"
    ]
   },
   "outputs": [
    {
     "data": {
      "text/html": [
       "<div>\n",
       "<style scoped>\n",
       "    .dataframe tbody tr th:only-of-type {\n",
       "        vertical-align: middle;\n",
       "    }\n",
       "\n",
       "    .dataframe tbody tr th {\n",
       "        vertical-align: top;\n",
       "    }\n",
       "\n",
       "    .dataframe thead th {\n",
       "        text-align: right;\n",
       "    }\n",
       "</style>\n",
       "<table border=\"1\" class=\"dataframe\">\n",
       "  <thead>\n",
       "    <tr style=\"text-align: right;\">\n",
       "      <th></th>\n",
       "      <th>country</th>\n",
       "      <th>region</th>\n",
       "      <th>gid_0</th>\n",
       "      <th>gid_1</th>\n",
       "      <th>year</th>\n",
       "      <th>grp_lcu</th>\n",
       "      <th>pop</th>\n",
       "      <th>grp_pc_lcu</th>\n",
       "      <th>ag_grp_pc_lcu</th>\n",
       "      <th>man_grp_pc_lcu</th>\n",
       "      <th>...</th>\n",
       "      <th>t_a</th>\n",
       "      <th>p_a</th>\n",
       "      <th>manufacturing_lcu_2015</th>\n",
       "      <th>services_lcu_2015</th>\n",
       "      <th>agriculture_lcu_2015</th>\n",
       "      <th>grp_lcu_2015</th>\n",
       "      <th>manufacturing_lcu_2015_usd</th>\n",
       "      <th>services_lcu_2015_usd</th>\n",
       "      <th>agriculture_lcu_2015_usd</th>\n",
       "      <th>grp_lcu_2015_usd</th>\n",
       "    </tr>\n",
       "  </thead>\n",
       "  <tbody>\n",
       "    <tr>\n",
       "      <th>0</th>\n",
       "      <td>Albania</td>\n",
       "      <td>Berat</td>\n",
       "      <td>ALB</td>\n",
       "      <td>ALB.1_1</td>\n",
       "      <td>2015.0</td>\n",
       "      <td>5.469112e+10</td>\n",
       "      <td>136904.0</td>\n",
       "      <td>399485.2152</td>\n",
       "      <td>NaN</td>\n",
       "      <td>NaN</td>\n",
       "      <td>...</td>\n",
       "      <td>13.50185305</td>\n",
       "      <td>1093.56268</td>\n",
       "      <td>NaN</td>\n",
       "      <td>NaN</td>\n",
       "      <td>NaN</td>\n",
       "      <td>5.469112e+10</td>\n",
       "      <td>NaN</td>\n",
       "      <td>NaN</td>\n",
       "      <td>NaN</td>\n",
       "      <td>4.341915e+08</td>\n",
       "    </tr>\n",
       "    <tr>\n",
       "      <th>1</th>\n",
       "      <td>Albania</td>\n",
       "      <td>Dibër</td>\n",
       "      <td>ALB</td>\n",
       "      <td>ALB.2_1</td>\n",
       "      <td>2015.0</td>\n",
       "      <td>4.685021e+10</td>\n",
       "      <td>130056.0</td>\n",
       "      <td>360231.0251</td>\n",
       "      <td>NaN</td>\n",
       "      <td>NaN</td>\n",
       "      <td>...</td>\n",
       "      <td>10.45442675</td>\n",
       "      <td>1175.134798</td>\n",
       "      <td>NaN</td>\n",
       "      <td>NaN</td>\n",
       "      <td>NaN</td>\n",
       "      <td>4.685021e+10</td>\n",
       "      <td>NaN</td>\n",
       "      <td>NaN</td>\n",
       "      <td>NaN</td>\n",
       "      <td>3.719427e+08</td>\n",
       "    </tr>\n",
       "    <tr>\n",
       "      <th>2</th>\n",
       "      <td>Albania</td>\n",
       "      <td>Durrës</td>\n",
       "      <td>ALB</td>\n",
       "      <td>ALB.3_1</td>\n",
       "      <td>2015.0</td>\n",
       "      <td>1.400000e+11</td>\n",
       "      <td>279097.0</td>\n",
       "      <td>502550.8411</td>\n",
       "      <td>NaN</td>\n",
       "      <td>NaN</td>\n",
       "      <td>...</td>\n",
       "      <td>16.16559071</td>\n",
       "      <td>1047.35031</td>\n",
       "      <td>NaN</td>\n",
       "      <td>NaN</td>\n",
       "      <td>NaN</td>\n",
       "      <td>1.402604e+11</td>\n",
       "      <td>NaN</td>\n",
       "      <td>NaN</td>\n",
       "      <td>NaN</td>\n",
       "      <td>1.113524e+09</td>\n",
       "    </tr>\n",
       "    <tr>\n",
       "      <th>3</th>\n",
       "      <td>Albania</td>\n",
       "      <td>Elbasan</td>\n",
       "      <td>ALB</td>\n",
       "      <td>ALB.4_1</td>\n",
       "      <td>2015.0</td>\n",
       "      <td>1.000000e+11</td>\n",
       "      <td>289136.0</td>\n",
       "      <td>346548.9099</td>\n",
       "      <td>NaN</td>\n",
       "      <td>NaN</td>\n",
       "      <td>...</td>\n",
       "      <td>12.9849634</td>\n",
       "      <td>1017.524637</td>\n",
       "      <td>NaN</td>\n",
       "      <td>NaN</td>\n",
       "      <td>NaN</td>\n",
       "      <td>1.001998e+11</td>\n",
       "      <td>NaN</td>\n",
       "      <td>NaN</td>\n",
       "      <td>NaN</td>\n",
       "      <td>7.954835e+08</td>\n",
       "    </tr>\n",
       "    <tr>\n",
       "      <th>4</th>\n",
       "      <td>Albania</td>\n",
       "      <td>Fier</td>\n",
       "      <td>ALB</td>\n",
       "      <td>ALB.5_1</td>\n",
       "      <td>2015.0</td>\n",
       "      <td>1.690000e+11</td>\n",
       "      <td>306561.0</td>\n",
       "      <td>552703.4714</td>\n",
       "      <td>NaN</td>\n",
       "      <td>NaN</td>\n",
       "      <td>...</td>\n",
       "      <td>16.91313816</td>\n",
       "      <td>978.7869504</td>\n",
       "      <td>NaN</td>\n",
       "      <td>NaN</td>\n",
       "      <td>NaN</td>\n",
       "      <td>1.694373e+11</td>\n",
       "      <td>NaN</td>\n",
       "      <td>NaN</td>\n",
       "      <td>NaN</td>\n",
       "      <td>1.345159e+09</td>\n",
       "    </tr>\n",
       "  </tbody>\n",
       "</table>\n",
       "<p>5 rows × 43 columns</p>\n",
       "</div>"
      ],
      "text/plain": [
       "   country   region gid_0    gid_1    year       grp_lcu       pop  \\\n",
       "0  Albania    Berat   ALB  ALB.1_1  2015.0  5.469112e+10  136904.0   \n",
       "1  Albania    Dibër   ALB  ALB.2_1  2015.0  4.685021e+10  130056.0   \n",
       "2  Albania   Durrës   ALB  ALB.3_1  2015.0  1.400000e+11  279097.0   \n",
       "3  Albania  Elbasan   ALB  ALB.4_1  2015.0  1.000000e+11  289136.0   \n",
       "4  Albania     Fier   ALB  ALB.5_1  2015.0  1.690000e+11  306561.0   \n",
       "\n",
       "    grp_pc_lcu  ag_grp_pc_lcu  man_grp_pc_lcu  ...          t_a          p_a  \\\n",
       "0  399485.2152            NaN             NaN  ...  13.50185305   1093.56268   \n",
       "1  360231.0251            NaN             NaN  ...  10.45442675  1175.134798   \n",
       "2  502550.8411            NaN             NaN  ...  16.16559071   1047.35031   \n",
       "3  346548.9099            NaN             NaN  ...   12.9849634  1017.524637   \n",
       "4  552703.4714            NaN             NaN  ...  16.91313816  978.7869504   \n",
       "\n",
       "   manufacturing_lcu_2015  services_lcu_2015  agriculture_lcu_2015  \\\n",
       "0                     NaN                NaN                   NaN   \n",
       "1                     NaN                NaN                   NaN   \n",
       "2                     NaN                NaN                   NaN   \n",
       "3                     NaN                NaN                   NaN   \n",
       "4                     NaN                NaN                   NaN   \n",
       "\n",
       "   grp_lcu_2015  manufacturing_lcu_2015_usd  services_lcu_2015_usd  \\\n",
       "0  5.469112e+10                         NaN                    NaN   \n",
       "1  4.685021e+10                         NaN                    NaN   \n",
       "2  1.402604e+11                         NaN                    NaN   \n",
       "3  1.001998e+11                         NaN                    NaN   \n",
       "4  1.694373e+11                         NaN                    NaN   \n",
       "\n",
       "   agriculture_lcu_2015_usd  grp_lcu_2015_usd  \n",
       "0                       NaN      4.341915e+08  \n",
       "1                       NaN      3.719427e+08  \n",
       "2                       NaN      1.113524e+09  \n",
       "3                       NaN      7.954835e+08  \n",
       "4                       NaN      1.345159e+09  \n",
       "\n",
       "[5 rows x 43 columns]"
      ]
     },
     "execution_count": 83,
     "metadata": {},
     "output_type": "execute_result"
    }
   ],
   "source": [
    "dose_year.head(5)"
   ]
  },
  {
   "cell_type": "code",
   "execution_count": 84,
   "metadata": {},
   "outputs": [],
   "source": [
    "# filling some extra missing values of population to reconstruct the economic indicators. From sources on the net.\n",
    "missing_pop = dose_year.loc[dose_year[\"pop\"].isna(),[\"country\",\"region\",\"pop\"]].copy()\n",
    "# missing_pop.head()\n",
    "# # writing out this file to refer to the missing values\n",
    "# missing_pop[\"region\"].to_csv(\"missing_pop.csv\",index=False) \n",
    "\n",
    "missing_pop.set_index(\"region\",inplace=True)"
   ]
  },
  {
   "cell_type": "code",
   "execution_count": 85,
   "metadata": {},
   "outputs": [],
   "source": [
    "## strangely, Ireland is missing from the data, using it's census data to fill the gaps.\n",
    "# https://data.gov.ie/dataset/population-classified-by-area \n",
    "\n",
    "# this data set : https://www.cso.ie/en/media/csoie/census/documents/saps2011files/AllThemesTablesCTY.csv\n",
    "\n",
    "ireland = pd.read_csv(\"../datasets/support_data/ireland/AllThemesTablesCTY.csv\"\n",
    "                      ,encoding=\"UTF-8\")\n",
    "ireland.columns = [x.lower() for x in ireland.columns]\n",
    "ireland.head(3)\n",
    "\n",
    "# manually replaced Dublin City -> Dublin, Laois -> Laoighis in the data set.\n",
    "\n",
    "# to many columns\n",
    "ireland = ireland[[\"t1_1agett\",\"geogdesc\"]]\n"
   ]
  },
  {
   "cell_type": "code",
   "execution_count": 86,
   "metadata": {},
   "outputs": [],
   "source": [
    "# renaming consistently\n",
    "ireland.rename(columns={\"t1_1agett\":\"pop\"\n",
    "                        ,\"geogdesc\":\"region\"},inplace=True)\n",
    "\n",
    "# few cases to treat individually\n",
    "tipperary_pop = ireland.loc[ireland.region.isin([\"Tipperary North\",\"Tipperary South\"]),\"pop\"].sum()\n",
    "\n",
    "missing_case = pd.DataFrame([{\"region\" : \"Tipperary\", \"pop\" : tipperary_pop}])\n",
    "\n",
    "ireland = pd.concat([ireland,missing_case])\n",
    "\n",
    "ireland.set_index(\"region\",inplace=True)\n",
    "# ireland.head()"
   ]
  },
  {
   "cell_type": "code",
   "execution_count": 87,
   "metadata": {},
   "outputs": [],
   "source": [
    "missing_index = [x for x in ireland.index if x in missing_pop.index]\n"
   ]
  },
  {
   "cell_type": "code",
   "execution_count": 88,
   "metadata": {},
   "outputs": [],
   "source": [
    "missing_pop.loc[missing_index,\"pop\"] = ireland.loc[missing_index,\"pop\"]"
   ]
  },
  {
   "cell_type": "code",
   "execution_count": 89,
   "metadata": {
    "tags": [
     "rm_cell"
    ]
   },
   "outputs": [
    {
     "data": {
      "text/html": [
       "<div>\n",
       "<style scoped>\n",
       "    .dataframe tbody tr th:only-of-type {\n",
       "        vertical-align: middle;\n",
       "    }\n",
       "\n",
       "    .dataframe tbody tr th {\n",
       "        vertical-align: top;\n",
       "    }\n",
       "\n",
       "    .dataframe thead th {\n",
       "        text-align: right;\n",
       "    }\n",
       "</style>\n",
       "<table border=\"1\" class=\"dataframe\">\n",
       "  <thead>\n",
       "    <tr style=\"text-align: right;\">\n",
       "      <th></th>\n",
       "      <th>country</th>\n",
       "      <th>pop</th>\n",
       "    </tr>\n",
       "    <tr>\n",
       "      <th>region</th>\n",
       "      <th></th>\n",
       "      <th></th>\n",
       "    </tr>\n",
       "  </thead>\n",
       "  <tbody>\n",
       "    <tr>\n",
       "      <th>Westmeath</th>\n",
       "      <td>Ireland</td>\n",
       "      <td>86164.0</td>\n",
       "    </tr>\n",
       "    <tr>\n",
       "      <th>Wexford</th>\n",
       "      <td>Ireland</td>\n",
       "      <td>145320.0</td>\n",
       "    </tr>\n",
       "    <tr>\n",
       "      <th>Wicklow</th>\n",
       "      <td>Ireland</td>\n",
       "      <td>136640.0</td>\n",
       "    </tr>\n",
       "  </tbody>\n",
       "</table>\n",
       "</div>"
      ],
      "text/plain": [
       "           country       pop\n",
       "region                      \n",
       "Westmeath  Ireland   86164.0\n",
       "Wexford    Ireland  145320.0\n",
       "Wicklow    Ireland  136640.0"
      ]
     },
     "execution_count": 89,
     "metadata": {},
     "output_type": "execute_result"
    }
   ],
   "source": [
    "# yey, ireland is in.\n",
    "missing_pop.loc[missing_pop.country==\"Ireland\"].tail(3)"
   ]
  },
  {
   "cell_type": "code",
   "execution_count": 90,
   "metadata": {},
   "outputs": [],
   "source": [
    "# need to go back and forth between indexing based on the region and putting it back into the columns, the R function match() does that well. \n",
    "missing_pop.reset_index(inplace=True,drop=False)\n",
    "# missing_pop.head()"
   ]
  },
  {
   "cell_type": "code",
   "execution_count": 91,
   "metadata": {},
   "outputs": [],
   "source": [
    "# the fully manual bit, took some time.\n",
    "\n",
    "# Argentina\n",
    "missing_pop.loc[missing_pop.region==\"Neuquen\",\"pop\"] = 744_592 # statista : https://www.statista.com/statistics/1413909/population-by-group-age-gender-neuquen-argentina\n",
    "missing_pop.loc[missing_pop.region==\"Tucuman\",\"pop\"] = 1.593e6 # wiki\n",
    "\n",
    "# Brasil\n",
    "missing_pop.loc[missing_pop.region==\"Mato Grosso Do Sul\",\"pop\"] = 2_833_742 # https://www.britannica.com/place/Mato-Grosso-do-Sul\n",
    "missing_pop.loc[missing_pop.region==\"Rio De Janeiro\",\"pop\"] = 6_625_849 # https://www.britannica.com/place/Rio-de-Janeiro-Brazil\n",
    "missing_pop.loc[missing_pop.region==\"Rio Grande Do Norte\",\"pop\"] = 3_302_729 # https://cidades.ibge.gov.br/brasil/rn/panorama\n",
    "missing_pop.loc[missing_pop.region==\"Rio Grande Do Sul\",\"pop\"] = 11_329_605 # https://www.ceicdata.com/en/brazil/population/population-south-rio-grande-do-sul\n",
    "\n",
    "# Canada\n",
    "missing_pop.loc[missing_pop.region==\"Newfoundland And Labrador\",\"pop\"] = 541_391 # https://www.gov.nl.ca/fin/economics/eb-population/\n",
    "\n",
    "#Colombia\n",
    "missing_pop.loc[missing_pop.region==\"Norte de Santander\",\"pop\"] = 1_617_209 # https://www.citypopulation.de/en/colombia/admin/54__norte_de_santander/\n",
    "\n",
    "# croatia\n",
    "missing_pop.loc[missing_pop.region==\"Slavonskibrod-Posavina\",\"pop\"] = 130_267 # https://www.citypopulation.de/en/croatia/admin/12__brod_posavina/\n",
    "\n",
    "# Kazakhstan\n",
    "missing_pop.loc[missing_pop.region==\"Aktobe\",\"pop\"] = 944_600 # https://stat.gov.kz/en/region/aktobe/\n",
    "missing_pop.loc[missing_pop.region==\"Atirau\",\"pop\"] = 708_500 # https://stat.gov.kz/en/region/atyrau/\n",
    "missing_pop.loc[missing_pop.region==\"East Kazakhstan\",\"pop\"] = 731_246 # https://www.citypopulation.de/en/kazakhstan/cities/\n",
    "missing_pop.loc[missing_pop.region==\"Kostanay\",\"pop\"] = 827_900 # https://stat.gov.kz/en/region/kostanay/\n",
    "missing_pop.loc[missing_pop.region==\"North Kazakhstan\",\"pop\"] = 540_700 # \n",
    "\n",
    "# south Korea\n",
    "missing_pop.loc[missing_pop.region==\"Gangwond-do\",\"pop\"] = 1_521_763 # https://www.citypopulation.de/en/southkorea/admin/32__gangwon_do/\n",
    "\n",
    "# Tanzania\n",
    "missing_pop.loc[missing_pop.region==\"Arusha\",\"pop\"] = 2_356_255 # https://www.citypopulation.de/en/tanzania/admin/02__arusha/\n",
    "missing_pop.loc[missing_pop.region==\"Dar es salaam\",\"pop\"] = 8_161_231 # https://worldpopulationreview.com/cities/tanzania/dar-es-salaam\n",
    "missing_pop.loc[missing_pop.region==\"Dodoma\",\"pop\"] = 3_085_625 # https://www.citypopulation.de/en/tanzania/admin/01__dodoma/\n",
    "missing_pop.loc[missing_pop.region==\"Geita\",\"pop\"] = 2_977_608 # https://www.citypopulation.de/en/tanzania/admin/25__geita\n",
    "missing_pop.loc[missing_pop.region==\"Iringa\",\"pop\"] = 1_192_728 # http://www.citypopulation.de/en/tanzania/admin/11__iringa/\n",
    "missing_pop.loc[missing_pop.region==\"Kagera\",\"pop\"] = 2_989_299 # https://www.citypopulation.de/en/tanzania/admin/18/\n",
    "missing_pop.loc[missing_pop.region==\"Katavi\",\"pop\"] = 1_152_958 # https://citypopulation.de/en/tanzania/admin/23__katavi/\n",
    "missing_pop.loc[missing_pop.region==\"Kigoma\",\"pop\"] = 2_470_967 # https://citypopulation.de/en/tanzania/admin/\n",
    "missing_pop.loc[missing_pop.region==\"Kilimanjaro\",\"pop\"] = 1_861_934 # ---\n",
    "missing_pop.loc[missing_pop.region==\"Lindi\",\"pop\"] = 1_194_028 # ---\n",
    "missing_pop.loc[missing_pop.region==\"Manyara\",\"pop\"] = 1_892_502 # ---\n",
    "missing_pop.loc[missing_pop.region==\"Mara\",\"pop\"] = 2_372_015 # ---\n",
    "missing_pop.loc[missing_pop.region==\"Mbeya\",\"pop\"] = 2_343_754 # ---\n",
    "missing_pop.loc[missing_pop.region==\"Morogoro\",\"pop\"] = 3_197_104 # ---\n",
    "missing_pop.loc[missing_pop.region==\"Mtwara\",\"pop\"] = 1_634_947 # ---\n",
    "missing_pop.loc[missing_pop.region==\"Mwanza\",\"pop\"] = 3_699_872 # ---\n",
    "missing_pop.loc[missing_pop.region==\"Njombe\",\"pop\"] = 889_946 # ---\n",
    "missing_pop.loc[missing_pop.region==\"Pwani\",\"pop\"] = 2_024_947 # ---\n",
    "missing_pop.loc[missing_pop.region==\"Rukwa\",\"pop\"] = 1_540_519 # ---\n",
    "missing_pop.loc[missing_pop.region==\"Ruvuma\",\"pop\"] = 1_848_794 # ---\n",
    "missing_pop.loc[missing_pop.region==\"Shinyanga\",\"pop\"] = 2_241_299 # ---\n",
    "missing_pop.loc[missing_pop.region==\"Singida\",\"pop\"] = 2_008_058 # ---\n",
    "missing_pop.loc[missing_pop.region==\"Tabora\",\"pop\"] = 3_391_679 # ---\n",
    "missing_pop.loc[missing_pop.region==\"Tanga\",\"pop\"] = 2_615_597 # ---\n",
    "\n",
    "# Ukraine\n",
    "missing_pop.loc[missing_pop.region==\"Dnipropetrovsk\",\"pop\"] = 1_145_065 # https://www.citypopulation.de/en/ukraine/\n",
    "missing_pop.loc[missing_pop.region==\"Kyiv City\",\"pop\"] = 2_952_301 # https://www.citypopulation.de/en/ukraine/kievcity/"
   ]
  },
  {
   "cell_type": "code",
   "execution_count": 92,
   "metadata": {},
   "outputs": [],
   "source": [
    "# no 'fx' is na\n",
    "# dose_year[dose_year[\"fx\"].isna()]\n",
    "# NA for gid_0==\"ANT\"\n",
    "# dose_year[dose_year[\"deflator_2015\"].isna()]\n",
    "# # dose_year[dose_year.gid_0==\"ANT\"]\n",
    "# lcu_vars = [x for x in dose_year.columns if re.search(string=x,pattern=\"_lcu\")]\n",
    "# dose_year[lcu_vars].isna() "
   ]
  },
  {
   "cell_type": "markdown",
   "metadata": {},
   "source": [
    "### Putting the missing populations back in"
   ]
  },
  {
   "cell_type": "code",
   "execution_count": 93,
   "metadata": {},
   "outputs": [],
   "source": [
    "dose_year.set_index(\"region\",inplace=True)\n",
    "missing_pop.set_index(\"region\",inplace=True)"
   ]
  },
  {
   "cell_type": "code",
   "execution_count": 94,
   "metadata": {},
   "outputs": [],
   "source": [
    "# yeahhhh\n",
    "dose_year.loc[missing_pop.index,\"pop\"] = missing_pop[\"pop\"]"
   ]
  },
  {
   "cell_type": "code",
   "execution_count": 95,
   "metadata": {},
   "outputs": [],
   "source": [
    "# resetting back the index.\n",
    "dose_year.reset_index(inplace=True,drop=False)"
   ]
  },
  {
   "cell_type": "markdown",
   "metadata": {},
   "source": [
    "## Converting to absolute GDP values\n",
    "Computing grp values in usd_2015."
   ]
  },
  {
   "cell_type": "code",
   "execution_count": 96,
   "metadata": {},
   "outputs": [],
   "source": [
    "# USD\n",
    "\n",
    "dose_year[\"agriculture_usd_2015\"] = dose_year[\"ag_grp_pc_usd_2015\"]*dose_year[\"pop\"]\n",
    "dose_year[\"manufacturing_usd_2015\"] = dose_year[\"man_grp_pc_usd_2015\"]*dose_year[\"pop\"]\n",
    "dose_year[\"services_usd_2015\"] = dose_year[\"serv_grp_pc_usd_2015\"]*dose_year[\"pop\"]\n",
    "dose_year[\"grp_usd_2015\"] = dose_year[\"grp_pc_usd_2015\"]*dose_year[\"pop\"]\n",
    "\n",
    "# LCU\n",
    "# \n",
    "# dose_year[\"agriculture_lcu_2015\"] = dose_year[\"ag_grp_pc_lcu_2015\"]*dose_year[\"pop\"]\n",
    "# dose_year[\"manufacturing_lcu_2015\"] = dose_year[\"man_grp_pc_lcu_2015\"]*dose_year[\"pop\"]\n",
    "# dose_year[\"services_lcu_2015\"] = dose_year[\"serv_grp_pc_lcu_2015\"]*dose_year[\"pop\"]\n",
    "# dose_year[\"grp_lcu_2015\"] = dose_year[\"grp_pc_lcu_2015\"]*dose_year[\"pop\"]\n"
   ]
  },
  {
   "cell_type": "markdown",
   "metadata": {},
   "source": [
    "### missing values from lcu and usd"
   ]
  },
  {
   "cell_type": "code",
   "execution_count": 97,
   "metadata": {
    "tags": [
     "rm_cell"
    ]
   },
   "outputs": [
    {
     "data": {
      "text/html": [
       "<div>\n",
       "<style scoped>\n",
       "    .dataframe tbody tr th:only-of-type {\n",
       "        vertical-align: middle;\n",
       "    }\n",
       "\n",
       "    .dataframe tbody tr th {\n",
       "        vertical-align: top;\n",
       "    }\n",
       "\n",
       "    .dataframe thead th {\n",
       "        text-align: right;\n",
       "    }\n",
       "</style>\n",
       "<table border=\"1\" class=\"dataframe\">\n",
       "  <thead>\n",
       "    <tr style=\"text-align: right;\">\n",
       "      <th></th>\n",
       "      <th>gid_0</th>\n",
       "      <th>gid_1</th>\n",
       "      <th>grp_pc_usd_2015</th>\n",
       "      <th>ag_grp_pc_usd_2015</th>\n",
       "      <th>man_grp_pc_usd_2015</th>\n",
       "      <th>serv_grp_pc_usd_2015</th>\n",
       "      <th>agriculture_usd_2015</th>\n",
       "      <th>manufacturing_usd_2015</th>\n",
       "      <th>services_usd_2015</th>\n",
       "      <th>grp_usd_2015</th>\n",
       "    </tr>\n",
       "  </thead>\n",
       "  <tbody>\n",
       "    <tr>\n",
       "      <th>778</th>\n",
       "      <td>ANT</td>\n",
       "      <td>BES.1_1</td>\n",
       "      <td>24649.56361</td>\n",
       "      <td>NaN</td>\n",
       "      <td>NaN</td>\n",
       "      <td>NaN</td>\n",
       "      <td>NaN</td>\n",
       "      <td>NaN</td>\n",
       "      <td>NaN</td>\n",
       "      <td>4.660000e+08</td>\n",
       "    </tr>\n",
       "    <tr>\n",
       "      <th>779</th>\n",
       "      <td>ANT</td>\n",
       "      <td>BES.2_1</td>\n",
       "      <td>25952.51242</td>\n",
       "      <td>NaN</td>\n",
       "      <td>NaN</td>\n",
       "      <td>NaN</td>\n",
       "      <td>NaN</td>\n",
       "      <td>NaN</td>\n",
       "      <td>NaN</td>\n",
       "      <td>4.700000e+07</td>\n",
       "    </tr>\n",
       "    <tr>\n",
       "      <th>780</th>\n",
       "      <td>ANT</td>\n",
       "      <td>BES.3_1</td>\n",
       "      <td>34562.80629</td>\n",
       "      <td>NaN</td>\n",
       "      <td>NaN</td>\n",
       "      <td>NaN</td>\n",
       "      <td>NaN</td>\n",
       "      <td>NaN</td>\n",
       "      <td>NaN</td>\n",
       "      <td>1.340000e+08</td>\n",
       "    </tr>\n",
       "  </tbody>\n",
       "</table>\n",
       "</div>"
      ],
      "text/plain": [
       "    gid_0    gid_1  grp_pc_usd_2015  ag_grp_pc_usd_2015  man_grp_pc_usd_2015  \\\n",
       "778   ANT  BES.1_1      24649.56361                 NaN                  NaN   \n",
       "779   ANT  BES.2_1      25952.51242                 NaN                  NaN   \n",
       "780   ANT  BES.3_1      34562.80629                 NaN                  NaN   \n",
       "\n",
       "     serv_grp_pc_usd_2015  agriculture_usd_2015  manufacturing_usd_2015  \\\n",
       "778                   NaN                   NaN                     NaN   \n",
       "779                   NaN                   NaN                     NaN   \n",
       "780                   NaN                   NaN                     NaN   \n",
       "\n",
       "     services_usd_2015  grp_usd_2015  \n",
       "778                NaN  4.660000e+08  \n",
       "779                NaN  4.700000e+07  \n",
       "780                NaN  1.340000e+08  "
      ]
     },
     "execution_count": 97,
     "metadata": {},
     "output_type": "execute_result"
    }
   ],
   "source": [
    "# dose_year.loc[dose_year.filter(regex=\"_lcu_\").isna().any(axis=1),dose_year.filter(regex=\"_usd_\").columns]\n",
    "dose_year.loc[dose_year.filter(regex=\"^grp_pc_lcu_\").isna().any(axis=1),dose_year.filter(regex=\"(_usd_)|(gid_)\").columns]"
   ]
  },
  {
   "cell_type": "code",
   "execution_count": 98,
   "metadata": {
    "tags": [
     "rm_cell"
    ]
   },
   "outputs": [
    {
     "data": {
      "text/html": [
       "<div>\n",
       "<style scoped>\n",
       "    .dataframe tbody tr th:only-of-type {\n",
       "        vertical-align: middle;\n",
       "    }\n",
       "\n",
       "    .dataframe tbody tr th {\n",
       "        vertical-align: top;\n",
       "    }\n",
       "\n",
       "    .dataframe thead th {\n",
       "        text-align: right;\n",
       "    }\n",
       "</style>\n",
       "<table border=\"1\" class=\"dataframe\">\n",
       "  <thead>\n",
       "    <tr style=\"text-align: right;\">\n",
       "      <th></th>\n",
       "      <th>gid_0</th>\n",
       "      <th>gid_1</th>\n",
       "      <th>grp_pc_usd_2015</th>\n",
       "      <th>ag_grp_pc_usd_2015</th>\n",
       "      <th>man_grp_pc_usd_2015</th>\n",
       "      <th>serv_grp_pc_usd_2015</th>\n",
       "      <th>agriculture_usd_2015</th>\n",
       "      <th>manufacturing_usd_2015</th>\n",
       "      <th>services_usd_2015</th>\n",
       "      <th>grp_usd_2015</th>\n",
       "    </tr>\n",
       "  </thead>\n",
       "  <tbody>\n",
       "  </tbody>\n",
       "</table>\n",
       "</div>"
      ],
      "text/plain": [
       "Empty DataFrame\n",
       "Columns: [gid_0, gid_1, grp_pc_usd_2015, ag_grp_pc_usd_2015, man_grp_pc_usd_2015, serv_grp_pc_usd_2015, agriculture_usd_2015, manufacturing_usd_2015, services_usd_2015, grp_usd_2015]\n",
       "Index: []"
      ]
     },
     "execution_count": 98,
     "metadata": {},
     "output_type": "execute_result"
    }
   ],
   "source": [
    "# dose_year.loc[dose_year.filter(regex=\"_lcu_\").isna().any(axis=1),dose_year.filter(regex=\"_lcu_\").columns]\n",
    "dose_year.loc[dose_year.filter(regex=\"^grp_pc_usd_\").isna().any(axis=1),dose_year.filter(regex=\"(_usd_)|(gid_)\").columns]"
   ]
  },
  {
   "cell_type": "code",
   "execution_count": 99,
   "metadata": {
    "tags": [
     "rm_cell"
    ]
   },
   "outputs": [
    {
     "data": {
      "text/plain": [
       "False"
      ]
     },
     "execution_count": 99,
     "metadata": {},
     "output_type": "execute_result"
    }
   ],
   "source": [
    "dose_year.grp_pc_usd_2015.isna().any()"
   ]
  },
  {
   "cell_type": "code",
   "execution_count": 100,
   "metadata": {
    "tags": [
     "rm_cell"
    ]
   },
   "outputs": [
    {
     "data": {
      "text/html": [
       "<div>\n",
       "<style scoped>\n",
       "    .dataframe tbody tr th:only-of-type {\n",
       "        vertical-align: middle;\n",
       "    }\n",
       "\n",
       "    .dataframe tbody tr th {\n",
       "        vertical-align: top;\n",
       "    }\n",
       "\n",
       "    .dataframe thead th {\n",
       "        text-align: right;\n",
       "    }\n",
       "</style>\n",
       "<table border=\"1\" class=\"dataframe\">\n",
       "  <thead>\n",
       "    <tr style=\"text-align: right;\">\n",
       "      <th></th>\n",
       "      <th>region</th>\n",
       "      <th>country</th>\n",
       "      <th>gid_0</th>\n",
       "      <th>gid_1</th>\n",
       "      <th>year</th>\n",
       "      <th>grp_lcu</th>\n",
       "      <th>pop</th>\n",
       "      <th>grp_pc_lcu</th>\n",
       "      <th>ag_grp_pc_lcu</th>\n",
       "      <th>man_grp_pc_lcu</th>\n",
       "      <th>...</th>\n",
       "      <th>agriculture_lcu_2015</th>\n",
       "      <th>grp_lcu_2015</th>\n",
       "      <th>manufacturing_lcu_2015_usd</th>\n",
       "      <th>services_lcu_2015_usd</th>\n",
       "      <th>agriculture_lcu_2015_usd</th>\n",
       "      <th>grp_lcu_2015_usd</th>\n",
       "      <th>agriculture_usd_2015</th>\n",
       "      <th>manufacturing_usd_2015</th>\n",
       "      <th>services_usd_2015</th>\n",
       "      <th>grp_usd_2015</th>\n",
       "    </tr>\n",
       "  </thead>\n",
       "  <tbody>\n",
       "    <tr>\n",
       "      <th>1229</th>\n",
       "      <td>Songwe</td>\n",
       "      <td>Tanzania</td>\n",
       "      <td>TZA</td>\n",
       "      <td>None</td>\n",
       "      <td>2015.0</td>\n",
       "      <td>NaN</td>\n",
       "      <td>NaN</td>\n",
       "      <td>1567157.0</td>\n",
       "      <td>NaN</td>\n",
       "      <td>NaN</td>\n",
       "      <td>...</td>\n",
       "      <td>NaN</td>\n",
       "      <td>NaN</td>\n",
       "      <td>NaN</td>\n",
       "      <td>NaN</td>\n",
       "      <td>NaN</td>\n",
       "      <td>NaN</td>\n",
       "      <td>NaN</td>\n",
       "      <td>NaN</td>\n",
       "      <td>NaN</td>\n",
       "      <td>NaN</td>\n",
       "    </tr>\n",
       "  </tbody>\n",
       "</table>\n",
       "<p>1 rows × 47 columns</p>\n",
       "</div>"
      ],
      "text/plain": [
       "      region   country gid_0 gid_1    year  grp_lcu  pop  grp_pc_lcu  \\\n",
       "1229  Songwe  Tanzania   TZA  None  2015.0      NaN  NaN   1567157.0   \n",
       "\n",
       "      ag_grp_pc_lcu  man_grp_pc_lcu  ...  agriculture_lcu_2015  grp_lcu_2015  \\\n",
       "1229            NaN             NaN  ...                   NaN           NaN   \n",
       "\n",
       "      manufacturing_lcu_2015_usd  services_lcu_2015_usd  \\\n",
       "1229                         NaN                    NaN   \n",
       "\n",
       "      agriculture_lcu_2015_usd  grp_lcu_2015_usd  agriculture_usd_2015  \\\n",
       "1229                       NaN               NaN                   NaN   \n",
       "\n",
       "      manufacturing_usd_2015  services_usd_2015  grp_usd_2015  \n",
       "1229                     NaN                NaN           NaN  \n",
       "\n",
       "[1 rows x 47 columns]"
      ]
     },
     "execution_count": 100,
     "metadata": {},
     "output_type": "execute_result"
    }
   ],
   "source": [
    "dose_year[dose_year[\"pop\"].isna()]"
   ]
  },
  {
   "cell_type": "markdown",
   "metadata": {},
   "source": [
    "### Do things add up ? \n"
   ]
  },
  {
   "cell_type": "code",
   "execution_count": 101,
   "metadata": {
    "tags": [
     "rm_cell"
    ]
   },
   "outputs": [
    {
     "data": {
      "text/html": [
       "<div>\n",
       "<style scoped>\n",
       "    .dataframe tbody tr th:only-of-type {\n",
       "        vertical-align: middle;\n",
       "    }\n",
       "\n",
       "    .dataframe tbody tr th {\n",
       "        vertical-align: top;\n",
       "    }\n",
       "\n",
       "    .dataframe thead th {\n",
       "        text-align: right;\n",
       "    }\n",
       "</style>\n",
       "<table border=\"1\" class=\"dataframe\">\n",
       "  <thead>\n",
       "    <tr style=\"text-align: right;\">\n",
       "      <th></th>\n",
       "      <th>region</th>\n",
       "      <th>country</th>\n",
       "      <th>gid_0</th>\n",
       "      <th>gid_1</th>\n",
       "      <th>year</th>\n",
       "      <th>grp_lcu</th>\n",
       "      <th>pop</th>\n",
       "      <th>grp_pc_lcu</th>\n",
       "      <th>ag_grp_pc_lcu</th>\n",
       "      <th>man_grp_pc_lcu</th>\n",
       "      <th>...</th>\n",
       "      <th>agriculture_lcu_2015</th>\n",
       "      <th>grp_lcu_2015</th>\n",
       "      <th>manufacturing_lcu_2015_usd</th>\n",
       "      <th>services_lcu_2015_usd</th>\n",
       "      <th>agriculture_lcu_2015_usd</th>\n",
       "      <th>grp_lcu_2015_usd</th>\n",
       "      <th>agriculture_usd_2015</th>\n",
       "      <th>manufacturing_usd_2015</th>\n",
       "      <th>services_usd_2015</th>\n",
       "      <th>grp_usd_2015</th>\n",
       "    </tr>\n",
       "  </thead>\n",
       "  <tbody>\n",
       "    <tr>\n",
       "      <th>541</th>\n",
       "      <td>Fukui</td>\n",
       "      <td>Japan</td>\n",
       "      <td>JPN</td>\n",
       "      <td>JPN.6_1</td>\n",
       "      <td>2015.0</td>\n",
       "      <td>3.260000e+12</td>\n",
       "      <td>787100.0</td>\n",
       "      <td>4.139796e+06</td>\n",
       "      <td>36744.74344</td>\n",
       "      <td>1.474893e+06</td>\n",
       "      <td>...</td>\n",
       "      <td>2.892179e+10</td>\n",
       "      <td>3.258433e+12</td>\n",
       "      <td>9.590629e+09</td>\n",
       "      <td>4.667655e+10</td>\n",
       "      <td>2.389361e+08</td>\n",
       "      <td>2.691941e+10</td>\n",
       "      <td>2.389361e+08</td>\n",
       "      <td>9.590629e+09</td>\n",
       "      <td>4.667655e+10</td>\n",
       "      <td>2.691941e+10</td>\n",
       "    </tr>\n",
       "    <tr>\n",
       "      <th>550</th>\n",
       "      <td>Ishikawa</td>\n",
       "      <td>Japan</td>\n",
       "      <td>JPN</td>\n",
       "      <td>JPN.15_1</td>\n",
       "      <td>2015.0</td>\n",
       "      <td>4.590000e+12</td>\n",
       "      <td>1154300.0</td>\n",
       "      <td>3.979596e+06</td>\n",
       "      <td>36165.85805</td>\n",
       "      <td>1.342122e+06</td>\n",
       "      <td>...</td>\n",
       "      <td>4.174625e+10</td>\n",
       "      <td>4.593647e+12</td>\n",
       "      <td>1.279874e+10</td>\n",
       "      <td>7.542466e+10</td>\n",
       "      <td>3.448848e+08</td>\n",
       "      <td>3.795022e+10</td>\n",
       "      <td>3.448848e+08</td>\n",
       "      <td>1.279874e+10</td>\n",
       "      <td>7.542466e+10</td>\n",
       "      <td>3.795022e+10</td>\n",
       "    </tr>\n",
       "    <tr>\n",
       "      <th>578</th>\n",
       "      <td>Toyama</td>\n",
       "      <td>Japan</td>\n",
       "      <td>JPN</td>\n",
       "      <td>JPN.43_1</td>\n",
       "      <td>2015.0</td>\n",
       "      <td>4.550000e+12</td>\n",
       "      <td>1066900.0</td>\n",
       "      <td>4.261926e+06</td>\n",
       "      <td>41846.59141</td>\n",
       "      <td>1.776911e+06</td>\n",
       "      <td>...</td>\n",
       "      <td>4.464613e+10</td>\n",
       "      <td>4.547049e+12</td>\n",
       "      <td>1.566196e+10</td>\n",
       "      <td>3.440526e+10</td>\n",
       "      <td>3.688421e+08</td>\n",
       "      <td>3.756525e+10</td>\n",
       "      <td>3.688421e+08</td>\n",
       "      <td>1.566196e+10</td>\n",
       "      <td>3.440526e+10</td>\n",
       "      <td>3.756525e+10</td>\n",
       "    </tr>\n",
       "    <tr>\n",
       "      <th>1116</th>\n",
       "      <td>Busan</td>\n",
       "      <td>South Korea</td>\n",
       "      <td>KOR</td>\n",
       "      <td>KOR.1_1</td>\n",
       "      <td>2015.0</td>\n",
       "      <td>7.670000e+13</td>\n",
       "      <td>3448737.0</td>\n",
       "      <td>2.223695e+07</td>\n",
       "      <td>113439.78970</td>\n",
       "      <td>8.367178e+06</td>\n",
       "      <td>...</td>\n",
       "      <td>3.912240e+11</td>\n",
       "      <td>7.668938e+13</td>\n",
       "      <td>2.551033e+10</td>\n",
       "      <td>4.883196e+10</td>\n",
       "      <td>3.458617e+08</td>\n",
       "      <td>6.779726e+10</td>\n",
       "      <td>3.458617e+08</td>\n",
       "      <td>2.551033e+10</td>\n",
       "      <td>4.883196e+10</td>\n",
       "      <td>6.779726e+10</td>\n",
       "    </tr>\n",
       "    <tr>\n",
       "      <th>1119</th>\n",
       "      <td>Daegu</td>\n",
       "      <td>South Korea</td>\n",
       "      <td>KOR</td>\n",
       "      <td>KOR.4_1</td>\n",
       "      <td>2015.0</td>\n",
       "      <td>4.820000e+13</td>\n",
       "      <td>2466052.0</td>\n",
       "      <td>1.953006e+07</td>\n",
       "      <td>101246.44570</td>\n",
       "      <td>1.154899e+07</td>\n",
       "      <td>...</td>\n",
       "      <td>2.496790e+11</td>\n",
       "      <td>4.816215e+13</td>\n",
       "      <td>2.517811e+10</td>\n",
       "      <td>2.994070e+10</td>\n",
       "      <td>2.207288e+08</td>\n",
       "      <td>4.257775e+10</td>\n",
       "      <td>2.207288e+08</td>\n",
       "      <td>2.517811e+10</td>\n",
       "      <td>2.994070e+10</td>\n",
       "      <td>4.257775e+10</td>\n",
       "    </tr>\n",
       "  </tbody>\n",
       "</table>\n",
       "<p>5 rows × 47 columns</p>\n",
       "</div>"
      ],
      "text/plain": [
       "        region      country gid_0     gid_1    year       grp_lcu        pop  \\\n",
       "541      Fukui        Japan   JPN   JPN.6_1  2015.0  3.260000e+12   787100.0   \n",
       "550   Ishikawa        Japan   JPN  JPN.15_1  2015.0  4.590000e+12  1154300.0   \n",
       "578     Toyama        Japan   JPN  JPN.43_1  2015.0  4.550000e+12  1066900.0   \n",
       "1116     Busan  South Korea   KOR   KOR.1_1  2015.0  7.670000e+13  3448737.0   \n",
       "1119     Daegu  South Korea   KOR   KOR.4_1  2015.0  4.820000e+13  2466052.0   \n",
       "\n",
       "        grp_pc_lcu  ag_grp_pc_lcu  man_grp_pc_lcu  ...  agriculture_lcu_2015  \\\n",
       "541   4.139796e+06    36744.74344    1.474893e+06  ...          2.892179e+10   \n",
       "550   3.979596e+06    36165.85805    1.342122e+06  ...          4.174625e+10   \n",
       "578   4.261926e+06    41846.59141    1.776911e+06  ...          4.464613e+10   \n",
       "1116  2.223695e+07   113439.78970    8.367178e+06  ...          3.912240e+11   \n",
       "1119  1.953006e+07   101246.44570    1.154899e+07  ...          2.496790e+11   \n",
       "\n",
       "      grp_lcu_2015  manufacturing_lcu_2015_usd  services_lcu_2015_usd  \\\n",
       "541   3.258433e+12                9.590629e+09           4.667655e+10   \n",
       "550   4.593647e+12                1.279874e+10           7.542466e+10   \n",
       "578   4.547049e+12                1.566196e+10           3.440526e+10   \n",
       "1116  7.668938e+13                2.551033e+10           4.883196e+10   \n",
       "1119  4.816215e+13                2.517811e+10           2.994070e+10   \n",
       "\n",
       "      agriculture_lcu_2015_usd  grp_lcu_2015_usd  agriculture_usd_2015  \\\n",
       "541               2.389361e+08      2.691941e+10          2.389361e+08   \n",
       "550               3.448848e+08      3.795022e+10          3.448848e+08   \n",
       "578               3.688421e+08      3.756525e+10          3.688421e+08   \n",
       "1116              3.458617e+08      6.779726e+10          3.458617e+08   \n",
       "1119              2.207288e+08      4.257775e+10          2.207288e+08   \n",
       "\n",
       "      manufacturing_usd_2015  services_usd_2015  grp_usd_2015  \n",
       "541             9.590629e+09       4.667655e+10  2.691941e+10  \n",
       "550             1.279874e+10       7.542466e+10  3.795022e+10  \n",
       "578             1.566196e+10       3.440526e+10  3.756525e+10  \n",
       "1116            2.551033e+10       4.883196e+10  6.779726e+10  \n",
       "1119            2.517811e+10       2.994070e+10  4.257775e+10  \n",
       "\n",
       "[5 rows x 47 columns]"
      ]
     },
     "execution_count": 101,
     "metadata": {},
     "output_type": "execute_result"
    }
   ],
   "source": [
    "# in USD\n",
    "dose_year[np.abs((dose_year[\"manufacturing_usd_2015\"]+dose_year[\"services_usd_2015\"]+dose_year[\"agriculture_usd_2015\"])/dose_year[\"grp_usd_2015\"])>1.1].head()"
   ]
  },
  {
   "cell_type": "code",
   "execution_count": 102,
   "metadata": {
    "tags": [
     "rm_cell"
    ]
   },
   "outputs": [
    {
     "data": {
      "text/html": [
       "<div>\n",
       "<style scoped>\n",
       "    .dataframe tbody tr th:only-of-type {\n",
       "        vertical-align: middle;\n",
       "    }\n",
       "\n",
       "    .dataframe tbody tr th {\n",
       "        vertical-align: top;\n",
       "    }\n",
       "\n",
       "    .dataframe thead th {\n",
       "        text-align: right;\n",
       "    }\n",
       "</style>\n",
       "<table border=\"1\" class=\"dataframe\">\n",
       "  <thead>\n",
       "    <tr style=\"text-align: right;\">\n",
       "      <th></th>\n",
       "      <th>region</th>\n",
       "      <th>country</th>\n",
       "      <th>gid_0</th>\n",
       "      <th>gid_1</th>\n",
       "      <th>year</th>\n",
       "      <th>grp_lcu</th>\n",
       "      <th>pop</th>\n",
       "      <th>grp_pc_lcu</th>\n",
       "      <th>ag_grp_pc_lcu</th>\n",
       "      <th>man_grp_pc_lcu</th>\n",
       "      <th>...</th>\n",
       "      <th>agriculture_lcu_2015</th>\n",
       "      <th>grp_lcu_2015</th>\n",
       "      <th>manufacturing_lcu_2015_usd</th>\n",
       "      <th>services_lcu_2015_usd</th>\n",
       "      <th>agriculture_lcu_2015_usd</th>\n",
       "      <th>grp_lcu_2015_usd</th>\n",
       "      <th>agriculture_usd_2015</th>\n",
       "      <th>manufacturing_usd_2015</th>\n",
       "      <th>services_usd_2015</th>\n",
       "      <th>grp_usd_2015</th>\n",
       "    </tr>\n",
       "  </thead>\n",
       "  <tbody>\n",
       "    <tr>\n",
       "      <th>541</th>\n",
       "      <td>Fukui</td>\n",
       "      <td>Japan</td>\n",
       "      <td>JPN</td>\n",
       "      <td>JPN.6_1</td>\n",
       "      <td>2015.0</td>\n",
       "      <td>3.260000e+12</td>\n",
       "      <td>787100.0</td>\n",
       "      <td>4.139796e+06</td>\n",
       "      <td>36744.74344</td>\n",
       "      <td>1.474893e+06</td>\n",
       "      <td>...</td>\n",
       "      <td>2.892179e+10</td>\n",
       "      <td>3.258433e+12</td>\n",
       "      <td>9.590629e+09</td>\n",
       "      <td>4.667655e+10</td>\n",
       "      <td>2.389361e+08</td>\n",
       "      <td>2.691941e+10</td>\n",
       "      <td>2.389361e+08</td>\n",
       "      <td>9.590629e+09</td>\n",
       "      <td>4.667655e+10</td>\n",
       "      <td>2.691941e+10</td>\n",
       "    </tr>\n",
       "    <tr>\n",
       "      <th>550</th>\n",
       "      <td>Ishikawa</td>\n",
       "      <td>Japan</td>\n",
       "      <td>JPN</td>\n",
       "      <td>JPN.15_1</td>\n",
       "      <td>2015.0</td>\n",
       "      <td>4.590000e+12</td>\n",
       "      <td>1154300.0</td>\n",
       "      <td>3.979596e+06</td>\n",
       "      <td>36165.85805</td>\n",
       "      <td>1.342122e+06</td>\n",
       "      <td>...</td>\n",
       "      <td>4.174625e+10</td>\n",
       "      <td>4.593647e+12</td>\n",
       "      <td>1.279874e+10</td>\n",
       "      <td>7.542466e+10</td>\n",
       "      <td>3.448848e+08</td>\n",
       "      <td>3.795022e+10</td>\n",
       "      <td>3.448848e+08</td>\n",
       "      <td>1.279874e+10</td>\n",
       "      <td>7.542466e+10</td>\n",
       "      <td>3.795022e+10</td>\n",
       "    </tr>\n",
       "    <tr>\n",
       "      <th>578</th>\n",
       "      <td>Toyama</td>\n",
       "      <td>Japan</td>\n",
       "      <td>JPN</td>\n",
       "      <td>JPN.43_1</td>\n",
       "      <td>2015.0</td>\n",
       "      <td>4.550000e+12</td>\n",
       "      <td>1066900.0</td>\n",
       "      <td>4.261926e+06</td>\n",
       "      <td>41846.59141</td>\n",
       "      <td>1.776911e+06</td>\n",
       "      <td>...</td>\n",
       "      <td>4.464613e+10</td>\n",
       "      <td>4.547049e+12</td>\n",
       "      <td>1.566196e+10</td>\n",
       "      <td>3.440526e+10</td>\n",
       "      <td>3.688421e+08</td>\n",
       "      <td>3.756525e+10</td>\n",
       "      <td>3.688421e+08</td>\n",
       "      <td>1.566196e+10</td>\n",
       "      <td>3.440526e+10</td>\n",
       "      <td>3.756525e+10</td>\n",
       "    </tr>\n",
       "    <tr>\n",
       "      <th>1116</th>\n",
       "      <td>Busan</td>\n",
       "      <td>South Korea</td>\n",
       "      <td>KOR</td>\n",
       "      <td>KOR.1_1</td>\n",
       "      <td>2015.0</td>\n",
       "      <td>7.670000e+13</td>\n",
       "      <td>3448737.0</td>\n",
       "      <td>2.223695e+07</td>\n",
       "      <td>113439.78970</td>\n",
       "      <td>8.367178e+06</td>\n",
       "      <td>...</td>\n",
       "      <td>3.912240e+11</td>\n",
       "      <td>7.668938e+13</td>\n",
       "      <td>2.551033e+10</td>\n",
       "      <td>4.883196e+10</td>\n",
       "      <td>3.458617e+08</td>\n",
       "      <td>6.779726e+10</td>\n",
       "      <td>3.458617e+08</td>\n",
       "      <td>2.551033e+10</td>\n",
       "      <td>4.883196e+10</td>\n",
       "      <td>6.779726e+10</td>\n",
       "    </tr>\n",
       "    <tr>\n",
       "      <th>1119</th>\n",
       "      <td>Daegu</td>\n",
       "      <td>South Korea</td>\n",
       "      <td>KOR</td>\n",
       "      <td>KOR.4_1</td>\n",
       "      <td>2015.0</td>\n",
       "      <td>4.820000e+13</td>\n",
       "      <td>2466052.0</td>\n",
       "      <td>1.953006e+07</td>\n",
       "      <td>101246.44570</td>\n",
       "      <td>1.154899e+07</td>\n",
       "      <td>...</td>\n",
       "      <td>2.496790e+11</td>\n",
       "      <td>4.816215e+13</td>\n",
       "      <td>2.517811e+10</td>\n",
       "      <td>2.994070e+10</td>\n",
       "      <td>2.207288e+08</td>\n",
       "      <td>4.257775e+10</td>\n",
       "      <td>2.207288e+08</td>\n",
       "      <td>2.517811e+10</td>\n",
       "      <td>2.994070e+10</td>\n",
       "      <td>4.257775e+10</td>\n",
       "    </tr>\n",
       "  </tbody>\n",
       "</table>\n",
       "<p>5 rows × 47 columns</p>\n",
       "</div>"
      ],
      "text/plain": [
       "        region      country gid_0     gid_1    year       grp_lcu        pop  \\\n",
       "541      Fukui        Japan   JPN   JPN.6_1  2015.0  3.260000e+12   787100.0   \n",
       "550   Ishikawa        Japan   JPN  JPN.15_1  2015.0  4.590000e+12  1154300.0   \n",
       "578     Toyama        Japan   JPN  JPN.43_1  2015.0  4.550000e+12  1066900.0   \n",
       "1116     Busan  South Korea   KOR   KOR.1_1  2015.0  7.670000e+13  3448737.0   \n",
       "1119     Daegu  South Korea   KOR   KOR.4_1  2015.0  4.820000e+13  2466052.0   \n",
       "\n",
       "        grp_pc_lcu  ag_grp_pc_lcu  man_grp_pc_lcu  ...  agriculture_lcu_2015  \\\n",
       "541   4.139796e+06    36744.74344    1.474893e+06  ...          2.892179e+10   \n",
       "550   3.979596e+06    36165.85805    1.342122e+06  ...          4.174625e+10   \n",
       "578   4.261926e+06    41846.59141    1.776911e+06  ...          4.464613e+10   \n",
       "1116  2.223695e+07   113439.78970    8.367178e+06  ...          3.912240e+11   \n",
       "1119  1.953006e+07   101246.44570    1.154899e+07  ...          2.496790e+11   \n",
       "\n",
       "      grp_lcu_2015  manufacturing_lcu_2015_usd  services_lcu_2015_usd  \\\n",
       "541   3.258433e+12                9.590629e+09           4.667655e+10   \n",
       "550   4.593647e+12                1.279874e+10           7.542466e+10   \n",
       "578   4.547049e+12                1.566196e+10           3.440526e+10   \n",
       "1116  7.668938e+13                2.551033e+10           4.883196e+10   \n",
       "1119  4.816215e+13                2.517811e+10           2.994070e+10   \n",
       "\n",
       "      agriculture_lcu_2015_usd  grp_lcu_2015_usd  agriculture_usd_2015  \\\n",
       "541               2.389361e+08      2.691941e+10          2.389361e+08   \n",
       "550               3.448848e+08      3.795022e+10          3.448848e+08   \n",
       "578               3.688421e+08      3.756525e+10          3.688421e+08   \n",
       "1116              3.458617e+08      6.779726e+10          3.458617e+08   \n",
       "1119              2.207288e+08      4.257775e+10          2.207288e+08   \n",
       "\n",
       "      manufacturing_usd_2015  services_usd_2015  grp_usd_2015  \n",
       "541             9.590629e+09       4.667655e+10  2.691941e+10  \n",
       "550             1.279874e+10       7.542466e+10  3.795022e+10  \n",
       "578             1.566196e+10       3.440526e+10  3.756525e+10  \n",
       "1116            2.551033e+10       4.883196e+10  6.779726e+10  \n",
       "1119            2.517811e+10       2.994070e+10  4.257775e+10  \n",
       "\n",
       "[5 rows x 47 columns]"
      ]
     },
     "execution_count": 102,
     "metadata": {},
     "output_type": "execute_result"
    }
   ],
   "source": [
    "# in LCU\n",
    "dose_year[np.abs((dose_year[\"manufacturing_lcu_2015\"]+dose_year[\"services_lcu_2015\"]+dose_year[\"agriculture_lcu_2015\"])/dose_year[\"grp_lcu_2015\"])>1.1].head()"
   ]
  },
  {
   "cell_type": "markdown",
   "metadata": {},
   "source": [
    "### Data sets light"
   ]
  },
  {
   "cell_type": "code",
   "execution_count": 103,
   "metadata": {},
   "outputs": [],
   "source": [
    "# the light version is reduced to the variables of interest only. This includes a specific year, sector and total gdp(grp) values.\n",
    "dose_light = dose_year[[\"country\",\"gid_0\",\"gid_1\",\"grp_usd_2015\",\"services_usd_2015\",\"manufacturing_usd_2015\",\"agriculture_usd_2015\"]].copy()"
   ]
  },
  {
   "cell_type": "code",
   "execution_count": 104,
   "metadata": {},
   "outputs": [],
   "source": [
    "wdi_df_var.dropna(subset=[\"grp_usd_2015\"],inplace=True)"
   ]
  },
  {
   "cell_type": "code",
   "execution_count": 105,
   "metadata": {},
   "outputs": [],
   "source": [
    "# WDI is also reduced to the essential in order to concat the data sets later on.\n",
    "# this step could be done at an earlier stage as well to avoid redundancy.\n",
    "wdi_country_simple = wdi_df_var.loc[:,~wdi_df_var.columns.isin([\"gdp_cap\"])]"
   ]
  },
  {
   "cell_type": "markdown",
   "metadata": {},
   "source": [
    "## Combining \n",
    "Using the fact that columns are named the same."
   ]
  },
  {
   "cell_type": "markdown",
   "metadata": {},
   "source": [
    "#### The column names should match"
   ]
  },
  {
   "cell_type": "code",
   "execution_count": 106,
   "metadata": {
    "tags": [
     "rm_cell"
    ]
   },
   "outputs": [
    {
     "data": {
      "text/html": [
       "<div>\n",
       "<style scoped>\n",
       "    .dataframe tbody tr th:only-of-type {\n",
       "        vertical-align: middle;\n",
       "    }\n",
       "\n",
       "    .dataframe tbody tr th {\n",
       "        vertical-align: top;\n",
       "    }\n",
       "\n",
       "    .dataframe thead th {\n",
       "        text-align: right;\n",
       "    }\n",
       "</style>\n",
       "<table border=\"1\" class=\"dataframe\">\n",
       "  <thead>\n",
       "    <tr style=\"text-align: right;\">\n",
       "      <th></th>\n",
       "      <th>country</th>\n",
       "      <th>gid_0</th>\n",
       "      <th>gid_1</th>\n",
       "      <th>grp_usd_2015</th>\n",
       "      <th>services_usd_2015</th>\n",
       "      <th>manufacturing_usd_2015</th>\n",
       "      <th>agriculture_usd_2015</th>\n",
       "    </tr>\n",
       "  </thead>\n",
       "  <tbody>\n",
       "    <tr>\n",
       "      <th>0</th>\n",
       "      <td>Albania</td>\n",
       "      <td>ALB</td>\n",
       "      <td>ALB.1_1</td>\n",
       "      <td>4.341915e+08</td>\n",
       "      <td>NaN</td>\n",
       "      <td>NaN</td>\n",
       "      <td>NaN</td>\n",
       "    </tr>\n",
       "    <tr>\n",
       "      <th>1</th>\n",
       "      <td>Albania</td>\n",
       "      <td>ALB</td>\n",
       "      <td>ALB.2_1</td>\n",
       "      <td>3.719427e+08</td>\n",
       "      <td>NaN</td>\n",
       "      <td>NaN</td>\n",
       "      <td>NaN</td>\n",
       "    </tr>\n",
       "    <tr>\n",
       "      <th>2</th>\n",
       "      <td>Albania</td>\n",
       "      <td>ALB</td>\n",
       "      <td>ALB.3_1</td>\n",
       "      <td>1.113524e+09</td>\n",
       "      <td>NaN</td>\n",
       "      <td>NaN</td>\n",
       "      <td>NaN</td>\n",
       "    </tr>\n",
       "  </tbody>\n",
       "</table>\n",
       "</div>"
      ],
      "text/plain": [
       "   country gid_0    gid_1  grp_usd_2015  services_usd_2015  \\\n",
       "0  Albania   ALB  ALB.1_1  4.341915e+08                NaN   \n",
       "1  Albania   ALB  ALB.2_1  3.719427e+08                NaN   \n",
       "2  Albania   ALB  ALB.3_1  1.113524e+09                NaN   \n",
       "\n",
       "   manufacturing_usd_2015  agriculture_usd_2015  \n",
       "0                     NaN                   NaN  \n",
       "1                     NaN                   NaN  \n",
       "2                     NaN                   NaN  "
      ]
     },
     "execution_count": 106,
     "metadata": {},
     "output_type": "execute_result"
    }
   ],
   "source": [
    "dose_light.head(3)"
   ]
  },
  {
   "cell_type": "markdown",
   "metadata": {},
   "source": [
    "### Do things add up at this point ?"
   ]
  },
  {
   "cell_type": "code",
   "execution_count": 107,
   "metadata": {
    "tags": [
     "rm_cell"
    ]
   },
   "outputs": [
    {
     "data": {
      "text/html": [
       "<div>\n",
       "<style scoped>\n",
       "    .dataframe tbody tr th:only-of-type {\n",
       "        vertical-align: middle;\n",
       "    }\n",
       "\n",
       "    .dataframe tbody tr th {\n",
       "        vertical-align: top;\n",
       "    }\n",
       "\n",
       "    .dataframe thead th {\n",
       "        text-align: right;\n",
       "    }\n",
       "</style>\n",
       "<table border=\"1\" class=\"dataframe\">\n",
       "  <thead>\n",
       "    <tr style=\"text-align: right;\">\n",
       "      <th></th>\n",
       "      <th>country</th>\n",
       "      <th>gid_0</th>\n",
       "      <th>gid_1</th>\n",
       "      <th>grp_usd_2015</th>\n",
       "      <th>services_usd_2015</th>\n",
       "      <th>manufacturing_usd_2015</th>\n",
       "      <th>agriculture_usd_2015</th>\n",
       "    </tr>\n",
       "  </thead>\n",
       "  <tbody>\n",
       "    <tr>\n",
       "      <th>541</th>\n",
       "      <td>Japan</td>\n",
       "      <td>JPN</td>\n",
       "      <td>JPN.6_1</td>\n",
       "      <td>2.691941e+10</td>\n",
       "      <td>4.667655e+10</td>\n",
       "      <td>9.590629e+09</td>\n",
       "      <td>2.389361e+08</td>\n",
       "    </tr>\n",
       "    <tr>\n",
       "      <th>550</th>\n",
       "      <td>Japan</td>\n",
       "      <td>JPN</td>\n",
       "      <td>JPN.15_1</td>\n",
       "      <td>3.795022e+10</td>\n",
       "      <td>7.542466e+10</td>\n",
       "      <td>1.279874e+10</td>\n",
       "      <td>3.448848e+08</td>\n",
       "    </tr>\n",
       "    <tr>\n",
       "      <th>578</th>\n",
       "      <td>Japan</td>\n",
       "      <td>JPN</td>\n",
       "      <td>JPN.43_1</td>\n",
       "      <td>3.756525e+10</td>\n",
       "      <td>3.440526e+10</td>\n",
       "      <td>1.566196e+10</td>\n",
       "      <td>3.688421e+08</td>\n",
       "    </tr>\n",
       "    <tr>\n",
       "      <th>1116</th>\n",
       "      <td>South Korea</td>\n",
       "      <td>KOR</td>\n",
       "      <td>KOR.1_1</td>\n",
       "      <td>6.779726e+10</td>\n",
       "      <td>4.883196e+10</td>\n",
       "      <td>2.551033e+10</td>\n",
       "      <td>3.458617e+08</td>\n",
       "    </tr>\n",
       "    <tr>\n",
       "      <th>1119</th>\n",
       "      <td>South Korea</td>\n",
       "      <td>KOR</td>\n",
       "      <td>KOR.4_1</td>\n",
       "      <td>4.257775e+10</td>\n",
       "      <td>2.994070e+10</td>\n",
       "      <td>2.517811e+10</td>\n",
       "      <td>2.207288e+08</td>\n",
       "    </tr>\n",
       "    <tr>\n",
       "      <th>1122</th>\n",
       "      <td>South Korea</td>\n",
       "      <td>KOR</td>\n",
       "      <td>KOR.7_1</td>\n",
       "      <td>2.867021e+10</td>\n",
       "      <td>1.893307e+10</td>\n",
       "      <td>3.734052e+10</td>\n",
       "      <td>1.425761e+08</td>\n",
       "    </tr>\n",
       "    <tr>\n",
       "      <th>1124</th>\n",
       "      <td>South Korea</td>\n",
       "      <td>KOR</td>\n",
       "      <td>KOR.9_1</td>\n",
       "      <td>8.624658e+10</td>\n",
       "      <td>3.173980e+10</td>\n",
       "      <td>1.353713e+11</td>\n",
       "      <td>3.113129e+09</td>\n",
       "    </tr>\n",
       "    <tr>\n",
       "      <th>1127</th>\n",
       "      <td>South Korea</td>\n",
       "      <td>KOR</td>\n",
       "      <td>KOR.12_1</td>\n",
       "      <td>1.375481e+10</td>\n",
       "      <td>9.949754e+09</td>\n",
       "      <td>5.067870e+10</td>\n",
       "      <td>3.974607e+09</td>\n",
       "    </tr>\n",
       "    <tr>\n",
       "      <th>1130</th>\n",
       "      <td>South Korea</td>\n",
       "      <td>KOR</td>\n",
       "      <td>KOR.15_1</td>\n",
       "      <td>7.529369e+09</td>\n",
       "      <td>3.825910e+09</td>\n",
       "      <td>4.966091e+10</td>\n",
       "      <td>4.845865e+09</td>\n",
       "    </tr>\n",
       "  </tbody>\n",
       "</table>\n",
       "</div>"
      ],
      "text/plain": [
       "          country gid_0     gid_1  grp_usd_2015  services_usd_2015  \\\n",
       "541         Japan   JPN   JPN.6_1  2.691941e+10       4.667655e+10   \n",
       "550         Japan   JPN  JPN.15_1  3.795022e+10       7.542466e+10   \n",
       "578         Japan   JPN  JPN.43_1  3.756525e+10       3.440526e+10   \n",
       "1116  South Korea   KOR   KOR.1_1  6.779726e+10       4.883196e+10   \n",
       "1119  South Korea   KOR   KOR.4_1  4.257775e+10       2.994070e+10   \n",
       "1122  South Korea   KOR   KOR.7_1  2.867021e+10       1.893307e+10   \n",
       "1124  South Korea   KOR   KOR.9_1  8.624658e+10       3.173980e+10   \n",
       "1127  South Korea   KOR  KOR.12_1  1.375481e+10       9.949754e+09   \n",
       "1130  South Korea   KOR  KOR.15_1  7.529369e+09       3.825910e+09   \n",
       "\n",
       "      manufacturing_usd_2015  agriculture_usd_2015  \n",
       "541             9.590629e+09          2.389361e+08  \n",
       "550             1.279874e+10          3.448848e+08  \n",
       "578             1.566196e+10          3.688421e+08  \n",
       "1116            2.551033e+10          3.458617e+08  \n",
       "1119            2.517811e+10          2.207288e+08  \n",
       "1122            3.734052e+10          1.425761e+08  \n",
       "1124            1.353713e+11          3.113129e+09  \n",
       "1127            5.067870e+10          3.974607e+09  \n",
       "1130            4.966091e+10          4.845865e+09  "
      ]
     },
     "execution_count": 107,
     "metadata": {},
     "output_type": "execute_result"
    }
   ],
   "source": [
    "dose_light.loc[((dose_light[\"manufacturing_usd_2015\"]+dose_light[\"services_usd_2015\"]+dose_light[\"agriculture_usd_2015\"])/dose_light[\"grp_usd_2015\"])>1.1]"
   ]
  },
  {
   "cell_type": "code",
   "execution_count": 108,
   "metadata": {
    "tags": [
     "rm_cell"
    ]
   },
   "outputs": [
    {
     "data": {
      "text/plain": [
       "<Axes: >"
      ]
     },
     "execution_count": 108,
     "metadata": {},
     "output_type": "execute_result"
    },
    {
     "data": {
      "image/png": "[encoded data removed]",
      "text/plain": [
       "<Figure size 640x480 with 1 Axes>"
      ]
     },
     "metadata": {},
     "output_type": "display_data"
    }
   ],
   "source": [
    "((dose_light[\"manufacturing_usd_2015\"]+dose_light[\"services_usd_2015\"]+dose_light[\"agriculture_usd_2015\"])/dose_light[\"grp_usd_2015\"]).hist()"
   ]
  },
  {
   "cell_type": "code",
   "execution_count": 109,
   "metadata": {},
   "outputs": [],
   "source": [
    "# NO THEY DONT !!"
   ]
  },
  {
   "cell_type": "code",
   "execution_count": 110,
   "metadata": {},
   "outputs": [],
   "source": [
    "wdi_country_simple = (wdi_country_simple.assign(gid_0=wdi_country_simple[\"country_code\"]\n",
    "                                                ,gid_1=wdi_country_simple[\"country_code\"])\n",
    "                                                .drop(columns=[\"country_code\"]))"
   ]
  },
  {
   "cell_type": "code",
   "execution_count": 111,
   "metadata": {},
   "outputs": [],
   "source": [
    "if wdi_country_simple.columns.difference(dose_light.columns).__len__()!=0:\n",
    "    raise Exception(\"Some columns don't match in the data sets, concatenation behaviour will be unexpected.\")"
   ]
  },
  {
   "cell_type": "code",
   "execution_count": 112,
   "metadata": {
    "tags": [
     "rm_cell"
    ]
   },
   "outputs": [
    {
     "data": {
      "text/plain": [
       "[]"
      ]
     },
     "execution_count": 112,
     "metadata": {},
     "output_type": "execute_result"
    }
   ],
   "source": [
    "[x for x in dose_light.country if x in wdi_country_simple.country]"
   ]
  },
  {
   "cell_type": "markdown",
   "metadata": {},
   "source": [
    "### filling admin 1 gaps in dose with WDI\n",
    "\n",
    "The process : \n",
    "when a country in DOSE has missing sectorial values, take the proportion of per sector gdp in WDI for the national scale and replace in DOSE."
   ]
  },
  {
   "cell_type": "code",
   "execution_count": 113,
   "metadata": {},
   "outputs": [],
   "source": [
    "incomplete_dose = list(dose_light.loc[dose_light[[\"services_usd_2015\",\"manufacturing_usd_2015\",\"agriculture_usd_2015\",\"grp_usd_2015\"]].isna().any(axis=1),\"gid_0\"].unique())"
   ]
  },
  {
   "cell_type": "code",
   "execution_count": 114,
   "metadata": {},
   "outputs": [],
   "source": [
    "# get the data of interest into a pandas df\n",
    "# wdi_df_full contains the same countries as the original dose\n",
    "wdi_df_full = (wdi_of_interest\n",
    "               .filter(~_.country_code.isin(missing_regions),_.country_code.isin(dose_countries))\n",
    "               .to_pandas()\n",
    "               .pivot(columns=[\"indicator_name\",],values=[str(year)],index=[\"country_name\",\"country_code\"]).reset_index())\n",
    "\n",
    "wdi_df_full.rename(columns={v:k for (k,v) in indicators_of_intereset.items()} # inverting the indicators of interest to rename columns\n",
    "                  ,inplace=True)\n",
    "wdi_df_full.columns = [x[1] if x[1]!='' else x[0] for x in wdi_df_full.columns]\n",
    "wdi_df_full.columns = [x.replace(\"industry\", \"manufacturing\") if re.search(string=x,pattern=\"industry_\") else x for x in wdi_df_full.columns]"
   ]
  },
  {
   "cell_type": "code",
   "execution_count": 115,
   "metadata": {
    "tags": [
     "rm_cell"
    ]
   },
   "outputs": [
    {
     "data": {
      "text/html": [
       "<div>\n",
       "<style scoped>\n",
       "    .dataframe tbody tr th:only-of-type {\n",
       "        vertical-align: middle;\n",
       "    }\n",
       "\n",
       "    .dataframe tbody tr th {\n",
       "        vertical-align: top;\n",
       "    }\n",
       "\n",
       "    .dataframe thead th {\n",
       "        text-align: right;\n",
       "    }\n",
       "</style>\n",
       "<table border=\"1\" class=\"dataframe\">\n",
       "  <thead>\n",
       "    <tr style=\"text-align: right;\">\n",
       "      <th></th>\n",
       "      <th>country</th>\n",
       "      <th>country_code</th>\n",
       "      <th>agriculture_usd_2015</th>\n",
       "      <th>grp_usd_2015</th>\n",
       "      <th>gdp_cap</th>\n",
       "      <th>manufacturing_usd_2015</th>\n",
       "      <th>services_usd_2015</th>\n",
       "    </tr>\n",
       "  </thead>\n",
       "  <tbody>\n",
       "    <tr>\n",
       "      <th>0</th>\n",
       "      <td>Albania</td>\n",
       "      <td>ALB</td>\n",
       "      <td>2.252344e+09</td>\n",
       "      <td>1.138685e+10</td>\n",
       "      <td>3952.803574</td>\n",
       "      <td>2.478198e+09</td>\n",
       "      <td>5.270341e+09</td>\n",
       "    </tr>\n",
       "    <tr>\n",
       "      <th>1</th>\n",
       "      <td>Argentina</td>\n",
       "      <td>ARG</td>\n",
       "      <td>3.066935e+10</td>\n",
       "      <td>5.947493e+11</td>\n",
       "      <td>13789.060425</td>\n",
       "      <td>1.377026e+11</td>\n",
       "      <td>3.319587e+11</td>\n",
       "    </tr>\n",
       "    <tr>\n",
       "      <th>2</th>\n",
       "      <td>Australia</td>\n",
       "      <td>AUS</td>\n",
       "      <td>3.210833e+10</td>\n",
       "      <td>1.351769e+12</td>\n",
       "      <td>56758.869203</td>\n",
       "      <td>3.201382e+11</td>\n",
       "      <td>9.077942e+11</td>\n",
       "    </tr>\n",
       "    <tr>\n",
       "      <th>3</th>\n",
       "      <td>Austria</td>\n",
       "      <td>AUT</td>\n",
       "      <td>4.315473e+09</td>\n",
       "      <td>3.819711e+11</td>\n",
       "      <td>44195.817595</td>\n",
       "      <td>9.616091e+10</td>\n",
       "      <td>2.401859e+11</td>\n",
       "    </tr>\n",
       "    <tr>\n",
       "      <th>4</th>\n",
       "      <td>Azerbaijan</td>\n",
       "      <td>AZE</td>\n",
       "      <td>3.278761e+09</td>\n",
       "      <td>5.307624e+10</td>\n",
       "      <td>5500.503646</td>\n",
       "      <td>2.382662e+10</td>\n",
       "      <td>2.122835e+10</td>\n",
       "    </tr>\n",
       "  </tbody>\n",
       "</table>\n",
       "</div>"
      ],
      "text/plain": [
       "      country country_code  agriculture_usd_2015  grp_usd_2015       gdp_cap  \\\n",
       "0     Albania          ALB          2.252344e+09  1.138685e+10   3952.803574   \n",
       "1   Argentina          ARG          3.066935e+10  5.947493e+11  13789.060425   \n",
       "2   Australia          AUS          3.210833e+10  1.351769e+12  56758.869203   \n",
       "3     Austria          AUT          4.315473e+09  3.819711e+11  44195.817595   \n",
       "4  Azerbaijan          AZE          3.278761e+09  5.307624e+10   5500.503646   \n",
       "\n",
       "   manufacturing_usd_2015  services_usd_2015  \n",
       "0            2.478198e+09       5.270341e+09  \n",
       "1            1.377026e+11       3.319587e+11  \n",
       "2            3.201382e+11       9.077942e+11  \n",
       "3            9.616091e+10       2.401859e+11  \n",
       "4            2.382662e+10       2.122835e+10  "
      ]
     },
     "execution_count": 115,
     "metadata": {},
     "output_type": "execute_result"
    }
   ],
   "source": [
    "wdi_df_full.head()"
   ]
  },
  {
   "cell_type": "code",
   "execution_count": 116,
   "metadata": {},
   "outputs": [],
   "source": [
    "# This data frame name is a bit confusing, but it contains WDI data missing from dose.\n",
    "dose_missing_df = wdi_df_full.loc[wdi_df_full.country_code.isin(incomplete_dose)].copy()"
   ]
  },
  {
   "cell_type": "code",
   "execution_count": 117,
   "metadata": {},
   "outputs": [
    {
     "name": "stdout",
     "output_type": "stream",
     "text": [
      "Any value missing:  False\n"
     ]
    }
   ],
   "source": [
    "# should not be empty\n",
    "print(\"Any value missing: \",dose_missing_df.isna().any().any())"
   ]
  },
  {
   "cell_type": "code",
   "execution_count": 118,
   "metadata": {
    "tags": [
     "rm_cell"
    ]
   },
   "outputs": [
    {
     "data": {
      "text/html": [
       "<div>\n",
       "<style scoped>\n",
       "    .dataframe tbody tr th:only-of-type {\n",
       "        vertical-align: middle;\n",
       "    }\n",
       "\n",
       "    .dataframe tbody tr th {\n",
       "        vertical-align: top;\n",
       "    }\n",
       "\n",
       "    .dataframe thead th {\n",
       "        text-align: right;\n",
       "    }\n",
       "</style>\n",
       "<table border=\"1\" class=\"dataframe\">\n",
       "  <thead>\n",
       "    <tr style=\"text-align: right;\">\n",
       "      <th></th>\n",
       "      <th>country</th>\n",
       "      <th>country_code</th>\n",
       "      <th>agriculture_usd_2015</th>\n",
       "      <th>grp_usd_2015</th>\n",
       "      <th>gdp_cap</th>\n",
       "      <th>manufacturing_usd_2015</th>\n",
       "      <th>services_usd_2015</th>\n",
       "    </tr>\n",
       "  </thead>\n",
       "  <tbody>\n",
       "    <tr>\n",
       "      <th>4</th>\n",
       "      <td>Azerbaijan</td>\n",
       "      <td>AZE</td>\n",
       "      <td>3.278761e+09</td>\n",
       "      <td>5.307624e+10</td>\n",
       "      <td>5500.503646</td>\n",
       "      <td>2.382662e+10</td>\n",
       "      <td>2.122835e+10</td>\n",
       "    </tr>\n",
       "    <tr>\n",
       "      <th>51</th>\n",
       "      <td>Paraguay</td>\n",
       "      <td>PRY</td>\n",
       "      <td>3.418513e+09</td>\n",
       "      <td>3.621145e+10</td>\n",
       "      <td>5861.401895</td>\n",
       "      <td>1.252273e+10</td>\n",
       "      <td>1.761408e+10</td>\n",
       "    </tr>\n",
       "    <tr>\n",
       "      <th>0</th>\n",
       "      <td>Albania</td>\n",
       "      <td>ALB</td>\n",
       "      <td>2.252344e+09</td>\n",
       "      <td>1.138685e+10</td>\n",
       "      <td>3952.803574</td>\n",
       "      <td>2.478198e+09</td>\n",
       "      <td>5.270341e+09</td>\n",
       "    </tr>\n",
       "    <tr>\n",
       "      <th>31</th>\n",
       "      <td>Ireland</td>\n",
       "      <td>IRL</td>\n",
       "      <td>2.608556e+09</td>\n",
       "      <td>2.923642e+11</td>\n",
       "      <td>62179.264266</td>\n",
       "      <td>1.118455e+11</td>\n",
       "      <td>1.569943e+11</td>\n",
       "    </tr>\n",
       "    <tr>\n",
       "      <th>9</th>\n",
       "      <td>Bosnia and Herzegovina</td>\n",
       "      <td>BIH</td>\n",
       "      <td>9.904235e+08</td>\n",
       "      <td>1.640435e+10</td>\n",
       "      <td>4654.608620</td>\n",
       "      <td>3.564084e+09</td>\n",
       "      <td>9.010718e+09</td>\n",
       "    </tr>\n",
       "  </tbody>\n",
       "</table>\n",
       "</div>"
      ],
      "text/plain": [
       "                   country country_code  agriculture_usd_2015  grp_usd_2015  \\\n",
       "4               Azerbaijan          AZE          3.278761e+09  5.307624e+10   \n",
       "51                Paraguay          PRY          3.418513e+09  3.621145e+10   \n",
       "0                  Albania          ALB          2.252344e+09  1.138685e+10   \n",
       "31                 Ireland          IRL          2.608556e+09  2.923642e+11   \n",
       "9   Bosnia and Herzegovina          BIH          9.904235e+08  1.640435e+10   \n",
       "\n",
       "         gdp_cap  manufacturing_usd_2015  services_usd_2015  \n",
       "4    5500.503646            2.382662e+10       2.122835e+10  \n",
       "51   5861.401895            1.252273e+10       1.761408e+10  \n",
       "0    3952.803574            2.478198e+09       5.270341e+09  \n",
       "31  62179.264266            1.118455e+11       1.569943e+11  \n",
       "9    4654.608620            3.564084e+09       9.010718e+09  "
      ]
     },
     "execution_count": 118,
     "metadata": {},
     "output_type": "execute_result"
    }
   ],
   "source": [
    "dose_missing_df.sample(5,axis=0)"
   ]
  },
  {
   "cell_type": "code",
   "execution_count": 119,
   "metadata": {},
   "outputs": [],
   "source": [
    "dose_missing_df.reset_index(inplace=True,drop=True)"
   ]
  },
  {
   "cell_type": "code",
   "execution_count": 120,
   "metadata": {},
   "outputs": [],
   "source": [
    "# computing fractions of GDP per sector from WDI\n",
    "\n",
    "dose_missing_df[\"services_frac\"] = dose_missing_df[\"services_usd_2015\"]/dose_missing_df[\"grp_usd_2015\"]\n",
    "dose_missing_df[\"manufacturing_frac\"] = (dose_missing_df[\"manufacturing_usd_2015\"]/dose_missing_df[\"grp_usd_2015\"])\n",
    "dose_missing_df[\"agriculture_frac\"] = dose_missing_df[\"agriculture_usd_2015\"]/dose_missing_df[\"grp_usd_2015\"]\n",
    "\n",
    "# dose_missing_df[\"industry_frac\"] = dose_missing_df[\"industry_usd_2015\"]/dose_missing_df[\"grp_usd_2015\"]\n"
   ]
  },
  {
   "cell_type": "code",
   "execution_count": 121,
   "metadata": {
    "tags": [
     "rm_cell"
    ]
   },
   "outputs": [
    {
     "data": {
      "text/html": [
       "<div>\n",
       "<style scoped>\n",
       "    .dataframe tbody tr th:only-of-type {\n",
       "        vertical-align: middle;\n",
       "    }\n",
       "\n",
       "    .dataframe tbody tr th {\n",
       "        vertical-align: top;\n",
       "    }\n",
       "\n",
       "    .dataframe thead th {\n",
       "        text-align: right;\n",
       "    }\n",
       "</style>\n",
       "<table border=\"1\" class=\"dataframe\">\n",
       "  <thead>\n",
       "    <tr style=\"text-align: right;\">\n",
       "      <th></th>\n",
       "      <th>country</th>\n",
       "      <th>country_code</th>\n",
       "      <th>agriculture_usd_2015</th>\n",
       "      <th>grp_usd_2015</th>\n",
       "      <th>gdp_cap</th>\n",
       "      <th>manufacturing_usd_2015</th>\n",
       "      <th>services_usd_2015</th>\n",
       "      <th>services_frac</th>\n",
       "      <th>manufacturing_frac</th>\n",
       "      <th>agriculture_frac</th>\n",
       "    </tr>\n",
       "  </thead>\n",
       "  <tbody>\n",
       "    <tr>\n",
       "      <th>10</th>\n",
       "      <td>Uzbekistan</td>\n",
       "      <td>UZB</td>\n",
       "      <td>2.518717e+10</td>\n",
       "      <td>8.619626e+10</td>\n",
       "      <td>2753.971058</td>\n",
       "      <td>1.941180e+10</td>\n",
       "      <td>3.375191e+10</td>\n",
       "      <td>0.39157</td>\n",
       "      <td>0.225205</td>\n",
       "      <td>0.292207</td>\n",
       "    </tr>\n",
       "  </tbody>\n",
       "</table>\n",
       "</div>"
      ],
      "text/plain": [
       "       country country_code  agriculture_usd_2015  grp_usd_2015      gdp_cap  \\\n",
       "10  Uzbekistan          UZB          2.518717e+10  8.619626e+10  2753.971058   \n",
       "\n",
       "    manufacturing_usd_2015  services_usd_2015  services_frac  \\\n",
       "10            1.941180e+10       3.375191e+10        0.39157   \n",
       "\n",
       "    manufacturing_frac  agriculture_frac  \n",
       "10            0.225205          0.292207  "
      ]
     },
     "execution_count": 121,
     "metadata": {},
     "output_type": "execute_result"
    }
   ],
   "source": [
    "dose_missing_df.loc[dose_missing_df.country==\"Uzbekistan\"]"
   ]
  },
  {
   "cell_type": "code",
   "execution_count": 122,
   "metadata": {
    "tags": [
     "rm_cell"
    ]
   },
   "outputs": [
    {
     "data": {
      "text/plain": [
       "<Axes: >"
      ]
     },
     "execution_count": 122,
     "metadata": {},
     "output_type": "execute_result"
    },
    {
     "data": {
      "image/png": "[encoded data removed]",
      "text/plain": [
       "<Figure size 640x480 with 1 Axes>"
      ]
     },
     "metadata": {},
     "output_type": "display_data"
    }
   ],
   "source": [
    "# looking much better now\n",
    "\n",
    "dose_missing_df.filter(regex=\"_frac\").apply(sum,axis=1).hist()"
   ]
  },
  {
   "cell_type": "markdown",
   "metadata": {},
   "source": [
    "To avoid mixing up WDI, first fill in gaps from dose regions with WDI fracions of GDP per sector for industies\n",
    "\n",
    "Then combine with the missing regions/countries"
   ]
  },
  {
   "cell_type": "code",
   "execution_count": 123,
   "metadata": {},
   "outputs": [],
   "source": [
    "# dose_missing_df.filter(regex=\"(_frac)|(country_code)\")\n",
    "dose_light = dose_light.merge(dose_missing_df.filter(regex=\"(_frac)|(country_code)\"),left_on=\"gid_0\",right_on=\"country_code\",how=\"left\",suffixes=[\"_dose\",\"_wdi\"])"
   ]
  },
  {
   "cell_type": "code",
   "execution_count": 124,
   "metadata": {
    "tags": [
     "rm_cell"
    ]
   },
   "outputs": [
    {
     "data": {
      "text/plain": [
       "Index(['country', 'gid_0', 'gid_1', 'grp_usd_2015', 'services_usd_2015',\n",
       "       'manufacturing_usd_2015', 'agriculture_usd_2015', 'country_code',\n",
       "       'services_frac', 'manufacturing_frac', 'agriculture_frac'],\n",
       "      dtype='object')"
      ]
     },
     "execution_count": 124,
     "metadata": {},
     "output_type": "execute_result"
    }
   ],
   "source": [
    "dose_light.columns"
   ]
  },
  {
   "cell_type": "code",
   "execution_count": 125,
   "metadata": {},
   "outputs": [],
   "source": [
    "# dose_light[dose_light.country==\"Laos\"]"
   ]
  },
  {
   "cell_type": "code",
   "execution_count": 126,
   "metadata": {},
   "outputs": [],
   "source": [
    "missing_agriculture = dose_light[dose_light[\"agriculture_usd_2015\"].isna()].index\n",
    "missing_services = dose_light[dose_light[\"services_usd_2015\"].isna()].index\n",
    "missing_manufacturing = dose_light[dose_light[\"manufacturing_usd_2015\"].isna()].index\n",
    "\n",
    "missing_grp = dose_light[dose_light[\"grp_usd_2015\"].isna()].index"
   ]
  },
  {
   "cell_type": "code",
   "execution_count": 127,
   "metadata": {},
   "outputs": [],
   "source": [
    "dose_light.loc[missing_agriculture,\"agriculture_usd_2015\"] = dose_light.loc[missing_agriculture,\"agriculture_frac\"]*dose_light.loc[missing_agriculture,\"grp_usd_2015\"]\n",
    "\n",
    "dose_light.loc[missing_manufacturing,\"manufacturing_usd_2015\"] = dose_light.loc[missing_manufacturing,\"manufacturing_frac\"]*dose_light.loc[missing_manufacturing,\"grp_usd_2015\"]\n",
    "\n",
    "dose_light.loc[missing_services,\"services_usd_2015\"] = dose_light.loc[missing_services,\"services_frac\"]*dose_light.loc[missing_services,\"grp_usd_2015\"]\n",
    "\n",
    "# dose_light.loc[missing_grp,\"grp_usd_2015\"] = dose_light.loc[missing_services,\"grp_usd_2015_\"]"
   ]
  },
  {
   "cell_type": "code",
   "execution_count": 128,
   "metadata": {
    "tags": [
     "rm_cell"
    ]
   },
   "outputs": [
    {
     "data": {
      "text/html": [
       "<div>\n",
       "<style scoped>\n",
       "    .dataframe tbody tr th:only-of-type {\n",
       "        vertical-align: middle;\n",
       "    }\n",
       "\n",
       "    .dataframe tbody tr th {\n",
       "        vertical-align: top;\n",
       "    }\n",
       "\n",
       "    .dataframe thead th {\n",
       "        text-align: right;\n",
       "    }\n",
       "</style>\n",
       "<table border=\"1\" class=\"dataframe\">\n",
       "  <thead>\n",
       "    <tr style=\"text-align: right;\">\n",
       "      <th></th>\n",
       "      <th>country</th>\n",
       "      <th>gid_0</th>\n",
       "      <th>gid_1</th>\n",
       "      <th>grp_usd_2015</th>\n",
       "      <th>services_usd_2015</th>\n",
       "      <th>manufacturing_usd_2015</th>\n",
       "      <th>agriculture_usd_2015</th>\n",
       "      <th>country_code</th>\n",
       "      <th>services_frac</th>\n",
       "      <th>manufacturing_frac</th>\n",
       "      <th>agriculture_frac</th>\n",
       "    </tr>\n",
       "  </thead>\n",
       "  <tbody>\n",
       "    <tr>\n",
       "      <th>0</th>\n",
       "      <td>Albania</td>\n",
       "      <td>ALB</td>\n",
       "      <td>ALB.1_1</td>\n",
       "      <td>4.341915e+08</td>\n",
       "      <td>2.009631e+08</td>\n",
       "      <td>9.449606e+07</td>\n",
       "      <td>8.588401e+07</td>\n",
       "      <td>ALB</td>\n",
       "      <td>0.462844</td>\n",
       "      <td>0.217637</td>\n",
       "      <td>0.197802</td>\n",
       "    </tr>\n",
       "    <tr>\n",
       "      <th>1</th>\n",
       "      <td>Albania</td>\n",
       "      <td>ALB</td>\n",
       "      <td>ALB.2_1</td>\n",
       "      <td>3.719427e+08</td>\n",
       "      <td>1.721516e+08</td>\n",
       "      <td>8.094841e+07</td>\n",
       "      <td>7.357106e+07</td>\n",
       "      <td>ALB</td>\n",
       "      <td>0.462844</td>\n",
       "      <td>0.217637</td>\n",
       "      <td>0.197802</td>\n",
       "    </tr>\n",
       "    <tr>\n",
       "      <th>2</th>\n",
       "      <td>Albania</td>\n",
       "      <td>ALB</td>\n",
       "      <td>ALB.3_1</td>\n",
       "      <td>1.113524e+09</td>\n",
       "      <td>5.153885e+08</td>\n",
       "      <td>2.423439e+08</td>\n",
       "      <td>2.202575e+08</td>\n",
       "      <td>ALB</td>\n",
       "      <td>0.462844</td>\n",
       "      <td>0.217637</td>\n",
       "      <td>0.197802</td>\n",
       "    </tr>\n",
       "    <tr>\n",
       "      <th>3</th>\n",
       "      <td>Albania</td>\n",
       "      <td>ALB</td>\n",
       "      <td>ALB.4_1</td>\n",
       "      <td>7.954835e+08</td>\n",
       "      <td>3.681851e+08</td>\n",
       "      <td>1.731265e+08</td>\n",
       "      <td>1.573483e+08</td>\n",
       "      <td>ALB</td>\n",
       "      <td>0.462844</td>\n",
       "      <td>0.217637</td>\n",
       "      <td>0.197802</td>\n",
       "    </tr>\n",
       "    <tr>\n",
       "      <th>4</th>\n",
       "      <td>Albania</td>\n",
       "      <td>ALB</td>\n",
       "      <td>ALB.5_1</td>\n",
       "      <td>1.345159e+09</td>\n",
       "      <td>6.225993e+08</td>\n",
       "      <td>2.927561e+08</td>\n",
       "      <td>2.660753e+08</td>\n",
       "      <td>ALB</td>\n",
       "      <td>0.462844</td>\n",
       "      <td>0.217637</td>\n",
       "      <td>0.197802</td>\n",
       "    </tr>\n",
       "    <tr>\n",
       "      <th>...</th>\n",
       "      <td>...</td>\n",
       "      <td>...</td>\n",
       "      <td>...</td>\n",
       "      <td>...</td>\n",
       "      <td>...</td>\n",
       "      <td>...</td>\n",
       "      <td>...</td>\n",
       "      <td>...</td>\n",
       "      <td>...</td>\n",
       "      <td>...</td>\n",
       "      <td>...</td>\n",
       "    </tr>\n",
       "    <tr>\n",
       "      <th>1479</th>\n",
       "      <td>Uzbekistan</td>\n",
       "      <td>UZB</td>\n",
       "      <td>UZB.10_1</td>\n",
       "      <td>7.209421e+09</td>\n",
       "      <td>2.822996e+09</td>\n",
       "      <td>1.623595e+09</td>\n",
       "      <td>2.106645e+09</td>\n",
       "      <td>UZB</td>\n",
       "      <td>0.391570</td>\n",
       "      <td>0.225205</td>\n",
       "      <td>0.292207</td>\n",
       "    </tr>\n",
       "    <tr>\n",
       "      <th>1480</th>\n",
       "      <td>Uzbekistan</td>\n",
       "      <td>UZB</td>\n",
       "      <td>UZB.11_1</td>\n",
       "      <td>1.976996e+09</td>\n",
       "      <td>7.741331e+08</td>\n",
       "      <td>4.452286e+08</td>\n",
       "      <td>5.776924e+08</td>\n",
       "      <td>UZB</td>\n",
       "      <td>0.391570</td>\n",
       "      <td>0.225205</td>\n",
       "      <td>0.292207</td>\n",
       "    </tr>\n",
       "    <tr>\n",
       "      <th>1481</th>\n",
       "      <td>Uzbekistan</td>\n",
       "      <td>UZB</td>\n",
       "      <td>UZB.12_1</td>\n",
       "      <td>4.328059e+09</td>\n",
       "      <td>1.694740e+09</td>\n",
       "      <td>9.746988e+08</td>\n",
       "      <td>1.264690e+09</td>\n",
       "      <td>UZB</td>\n",
       "      <td>0.391570</td>\n",
       "      <td>0.225205</td>\n",
       "      <td>0.292207</td>\n",
       "    </tr>\n",
       "    <tr>\n",
       "      <th>1482</th>\n",
       "      <td>Uzbekistan</td>\n",
       "      <td>UZB</td>\n",
       "      <td>UZB.14_1</td>\n",
       "      <td>8.601678e+09</td>\n",
       "      <td>3.368163e+09</td>\n",
       "      <td>1.937138e+09</td>\n",
       "      <td>2.513472e+09</td>\n",
       "      <td>UZB</td>\n",
       "      <td>0.391570</td>\n",
       "      <td>0.225205</td>\n",
       "      <td>0.292207</td>\n",
       "    </tr>\n",
       "    <tr>\n",
       "      <th>1483</th>\n",
       "      <td>Uzbekistan</td>\n",
       "      <td>UZB</td>\n",
       "      <td>UZB.13_1</td>\n",
       "      <td>1.162288e+10</td>\n",
       "      <td>4.551175e+09</td>\n",
       "      <td>2.617526e+09</td>\n",
       "      <td>3.396288e+09</td>\n",
       "      <td>UZB</td>\n",
       "      <td>0.391570</td>\n",
       "      <td>0.225205</td>\n",
       "      <td>0.292207</td>\n",
       "    </tr>\n",
       "  </tbody>\n",
       "</table>\n",
       "<p>200 rows × 11 columns</p>\n",
       "</div>"
      ],
      "text/plain": [
       "         country gid_0     gid_1  grp_usd_2015  services_usd_2015  \\\n",
       "0        Albania   ALB   ALB.1_1  4.341915e+08       2.009631e+08   \n",
       "1        Albania   ALB   ALB.2_1  3.719427e+08       1.721516e+08   \n",
       "2        Albania   ALB   ALB.3_1  1.113524e+09       5.153885e+08   \n",
       "3        Albania   ALB   ALB.4_1  7.954835e+08       3.681851e+08   \n",
       "4        Albania   ALB   ALB.5_1  1.345159e+09       6.225993e+08   \n",
       "...          ...   ...       ...           ...                ...   \n",
       "1479  Uzbekistan   UZB  UZB.10_1  7.209421e+09       2.822996e+09   \n",
       "1480  Uzbekistan   UZB  UZB.11_1  1.976996e+09       7.741331e+08   \n",
       "1481  Uzbekistan   UZB  UZB.12_1  4.328059e+09       1.694740e+09   \n",
       "1482  Uzbekistan   UZB  UZB.14_1  8.601678e+09       3.368163e+09   \n",
       "1483  Uzbekistan   UZB  UZB.13_1  1.162288e+10       4.551175e+09   \n",
       "\n",
       "      manufacturing_usd_2015  agriculture_usd_2015 country_code  \\\n",
       "0               9.449606e+07          8.588401e+07          ALB   \n",
       "1               8.094841e+07          7.357106e+07          ALB   \n",
       "2               2.423439e+08          2.202575e+08          ALB   \n",
       "3               1.731265e+08          1.573483e+08          ALB   \n",
       "4               2.927561e+08          2.660753e+08          ALB   \n",
       "...                      ...                   ...          ...   \n",
       "1479            1.623595e+09          2.106645e+09          UZB   \n",
       "1480            4.452286e+08          5.776924e+08          UZB   \n",
       "1481            9.746988e+08          1.264690e+09          UZB   \n",
       "1482            1.937138e+09          2.513472e+09          UZB   \n",
       "1483            2.617526e+09          3.396288e+09          UZB   \n",
       "\n",
       "      services_frac  manufacturing_frac  agriculture_frac  \n",
       "0          0.462844            0.217637          0.197802  \n",
       "1          0.462844            0.217637          0.197802  \n",
       "2          0.462844            0.217637          0.197802  \n",
       "3          0.462844            0.217637          0.197802  \n",
       "4          0.462844            0.217637          0.197802  \n",
       "...             ...                 ...               ...  \n",
       "1479       0.391570            0.225205          0.292207  \n",
       "1480       0.391570            0.225205          0.292207  \n",
       "1481       0.391570            0.225205          0.292207  \n",
       "1482       0.391570            0.225205          0.292207  \n",
       "1483       0.391570            0.225205          0.292207  \n",
       "\n",
       "[200 rows x 11 columns]"
      ]
     },
     "execution_count": 128,
     "metadata": {},
     "output_type": "execute_result"
    }
   ],
   "source": [
    "dose_light.iloc[missing_agriculture]"
   ]
  },
  {
   "cell_type": "code",
   "execution_count": 129,
   "metadata": {},
   "outputs": [],
   "source": [
    "dose_light = dose_light.drop(columns=[\"country_code\",*[x for x in dose_light.columns if re.search(string = x,pattern=\"(_frac)|(_2015_wdi)\")]])"
   ]
  },
  {
   "cell_type": "code",
   "execution_count": 130,
   "metadata": {
    "tags": [
     "rm_cell"
    ]
   },
   "outputs": [
    {
     "name": "stdout",
     "output_type": "stream",
     "text": [
      "(4, 7)\n"
     ]
    },
    {
     "data": {
      "text/html": [
       "<div>\n",
       "<style scoped>\n",
       "    .dataframe tbody tr th:only-of-type {\n",
       "        vertical-align: middle;\n",
       "    }\n",
       "\n",
       "    .dataframe tbody tr th {\n",
       "        vertical-align: top;\n",
       "    }\n",
       "\n",
       "    .dataframe thead th {\n",
       "        text-align: right;\n",
       "    }\n",
       "</style>\n",
       "<table border=\"1\" class=\"dataframe\">\n",
       "  <thead>\n",
       "    <tr style=\"text-align: right;\">\n",
       "      <th></th>\n",
       "      <th>country</th>\n",
       "      <th>gid_0</th>\n",
       "      <th>gid_1</th>\n",
       "      <th>grp_usd_2015</th>\n",
       "      <th>services_usd_2015</th>\n",
       "      <th>manufacturing_usd_2015</th>\n",
       "      <th>agriculture_usd_2015</th>\n",
       "    </tr>\n",
       "  </thead>\n",
       "  <tbody>\n",
       "    <tr>\n",
       "      <th>778</th>\n",
       "      <td>Netherlands Antilles</td>\n",
       "      <td>ANT</td>\n",
       "      <td>BES.1_1</td>\n",
       "      <td>4.660000e+08</td>\n",
       "      <td>NaN</td>\n",
       "      <td>NaN</td>\n",
       "      <td>NaN</td>\n",
       "    </tr>\n",
       "    <tr>\n",
       "      <th>779</th>\n",
       "      <td>Netherlands Antilles</td>\n",
       "      <td>ANT</td>\n",
       "      <td>BES.2_1</td>\n",
       "      <td>4.700000e+07</td>\n",
       "      <td>NaN</td>\n",
       "      <td>NaN</td>\n",
       "      <td>NaN</td>\n",
       "    </tr>\n",
       "    <tr>\n",
       "      <th>780</th>\n",
       "      <td>Netherlands Antilles</td>\n",
       "      <td>ANT</td>\n",
       "      <td>BES.3_1</td>\n",
       "      <td>1.340000e+08</td>\n",
       "      <td>NaN</td>\n",
       "      <td>NaN</td>\n",
       "      <td>NaN</td>\n",
       "    </tr>\n",
       "    <tr>\n",
       "      <th>1229</th>\n",
       "      <td>Tanzania</td>\n",
       "      <td>TZA</td>\n",
       "      <td>None</td>\n",
       "      <td>NaN</td>\n",
       "      <td>NaN</td>\n",
       "      <td>NaN</td>\n",
       "      <td>NaN</td>\n",
       "    </tr>\n",
       "  </tbody>\n",
       "</table>\n",
       "</div>"
      ],
      "text/plain": [
       "                   country gid_0    gid_1  grp_usd_2015  services_usd_2015  \\\n",
       "778   Netherlands Antilles   ANT  BES.1_1  4.660000e+08                NaN   \n",
       "779   Netherlands Antilles   ANT  BES.2_1  4.700000e+07                NaN   \n",
       "780   Netherlands Antilles   ANT  BES.3_1  1.340000e+08                NaN   \n",
       "1229              Tanzania   TZA     None           NaN                NaN   \n",
       "\n",
       "      manufacturing_usd_2015  agriculture_usd_2015  \n",
       "778                      NaN                   NaN  \n",
       "779                      NaN                   NaN  \n",
       "780                      NaN                   NaN  \n",
       "1229                     NaN                   NaN  "
      ]
     },
     "execution_count": 130,
     "metadata": {},
     "output_type": "execute_result"
    }
   ],
   "source": [
    "# still some NAs\n",
    "print(dose_light.loc[dose_light.isna().any(axis=1)].shape)\n",
    "\n",
    "dose_light.loc[dose_light.isna().any(axis=1)]"
   ]
  },
  {
   "cell_type": "code",
   "execution_count": 131,
   "metadata": {
    "tags": [
     "rm_cell"
    ]
   },
   "outputs": [
    {
     "data": {
      "text/plain": [
       "(1548, 7)"
      ]
     },
     "execution_count": 131,
     "metadata": {},
     "output_type": "execute_result"
    }
   ],
   "source": [
    "dose_light.shape"
   ]
  },
  {
   "cell_type": "code",
   "execution_count": 132,
   "metadata": {},
   "outputs": [],
   "source": [
    "# dose_light[dose_light.country==\"Colombia\"]"
   ]
  },
  {
   "cell_type": "code",
   "execution_count": 133,
   "metadata": {
    "tags": [
     "rm_cell"
    ]
   },
   "outputs": [
    {
     "name": "stdout",
     "output_type": "stream",
     "text": [
      "(129, 7)\n"
     ]
    },
    {
     "data": {
      "text/html": [
       "<div>\n",
       "<style scoped>\n",
       "    .dataframe tbody tr th:only-of-type {\n",
       "        vertical-align: middle;\n",
       "    }\n",
       "\n",
       "    .dataframe tbody tr th {\n",
       "        vertical-align: top;\n",
       "    }\n",
       "\n",
       "    .dataframe thead th {\n",
       "        text-align: right;\n",
       "    }\n",
       "</style>\n",
       "<table border=\"1\" class=\"dataframe\">\n",
       "  <thead>\n",
       "    <tr style=\"text-align: right;\">\n",
       "      <th></th>\n",
       "      <th>country</th>\n",
       "      <th>agriculture_usd_2015</th>\n",
       "      <th>grp_usd_2015</th>\n",
       "      <th>manufacturing_usd_2015</th>\n",
       "      <th>services_usd_2015</th>\n",
       "      <th>gid_0</th>\n",
       "      <th>gid_1</th>\n",
       "    </tr>\n",
       "  </thead>\n",
       "  <tbody>\n",
       "    <tr>\n",
       "      <th>0</th>\n",
       "      <td>Afghanistan</td>\n",
       "      <td>3.948217e+09</td>\n",
       "      <td>1.913422e+10</td>\n",
       "      <td>4.233263e+09</td>\n",
       "      <td>1.018616e+10</td>\n",
       "      <td>AFG</td>\n",
       "      <td>AFG</td>\n",
       "    </tr>\n",
       "    <tr>\n",
       "      <th>1</th>\n",
       "      <td>Algeria</td>\n",
       "      <td>1.974833e+10</td>\n",
       "      <td>1.874939e+11</td>\n",
       "      <td>6.141643e+10</td>\n",
       "      <td>9.770374e+10</td>\n",
       "      <td>DZA</td>\n",
       "      <td>DZA</td>\n",
       "    </tr>\n",
       "    <tr>\n",
       "      <th>2</th>\n",
       "      <td>American Samoa</td>\n",
       "      <td>NaN</td>\n",
       "      <td>6.730000e+08</td>\n",
       "      <td>NaN</td>\n",
       "      <td>NaN</td>\n",
       "      <td>ASM</td>\n",
       "      <td>ASM</td>\n",
       "    </tr>\n",
       "    <tr>\n",
       "      <th>3</th>\n",
       "      <td>Andorra</td>\n",
       "      <td>1.432381e+07</td>\n",
       "      <td>2.789881e+09</td>\n",
       "      <td>2.784655e+08</td>\n",
       "      <td>2.194727e+09</td>\n",
       "      <td>AND</td>\n",
       "      <td>AND</td>\n",
       "    </tr>\n",
       "    <tr>\n",
       "      <th>4</th>\n",
       "      <td>Angola</td>\n",
       "      <td>8.255567e+09</td>\n",
       "      <td>9.049642e+10</td>\n",
       "      <td>3.794795e+10</td>\n",
       "      <td>4.403546e+10</td>\n",
       "      <td>AGO</td>\n",
       "      <td>AGO</td>\n",
       "    </tr>\n",
       "  </tbody>\n",
       "</table>\n",
       "</div>"
      ],
      "text/plain": [
       "          country  agriculture_usd_2015  grp_usd_2015  manufacturing_usd_2015  \\\n",
       "0     Afghanistan          3.948217e+09  1.913422e+10            4.233263e+09   \n",
       "1         Algeria          1.974833e+10  1.874939e+11            6.141643e+10   \n",
       "2  American Samoa                   NaN  6.730000e+08                     NaN   \n",
       "3         Andorra          1.432381e+07  2.789881e+09            2.784655e+08   \n",
       "4          Angola          8.255567e+09  9.049642e+10            3.794795e+10   \n",
       "\n",
       "   services_usd_2015 gid_0 gid_1  \n",
       "0       1.018616e+10   AFG   AFG  \n",
       "1       9.770374e+10   DZA   DZA  \n",
       "2                NaN   ASM   ASM  \n",
       "3       2.194727e+09   AND   AND  \n",
       "4       4.403546e+10   AGO   AGO  "
      ]
     },
     "execution_count": 133,
     "metadata": {},
     "output_type": "execute_result"
    }
   ],
   "source": [
    "print(wdi_country_simple.shape)\n",
    "wdi_country_simple.head()"
   ]
  },
  {
   "cell_type": "code",
   "execution_count": 134,
   "metadata": {
    "tags": [
     "rm_cell"
    ]
   },
   "outputs": [
    {
     "data": {
      "text/html": [
       "<div>\n",
       "<style scoped>\n",
       "    .dataframe tbody tr th:only-of-type {\n",
       "        vertical-align: middle;\n",
       "    }\n",
       "\n",
       "    .dataframe tbody tr th {\n",
       "        vertical-align: top;\n",
       "    }\n",
       "\n",
       "    .dataframe thead th {\n",
       "        text-align: right;\n",
       "    }\n",
       "</style>\n",
       "<table border=\"1\" class=\"dataframe\">\n",
       "  <thead>\n",
       "    <tr style=\"text-align: right;\">\n",
       "      <th></th>\n",
       "      <th>country</th>\n",
       "      <th>agriculture_usd_2015</th>\n",
       "      <th>grp_usd_2015</th>\n",
       "      <th>manufacturing_usd_2015</th>\n",
       "      <th>services_usd_2015</th>\n",
       "      <th>gid_0</th>\n",
       "      <th>gid_1</th>\n",
       "    </tr>\n",
       "  </thead>\n",
       "  <tbody>\n",
       "    <tr>\n",
       "      <th>126</th>\n",
       "      <td>Venezuela, RB</td>\n",
       "      <td>1.573330e+10</td>\n",
       "      <td>3.347510e+11</td>\n",
       "      <td>1.352394e+11</td>\n",
       "      <td>1.837783e+11</td>\n",
       "      <td>VEN</td>\n",
       "      <td>VEN</td>\n",
       "    </tr>\n",
       "  </tbody>\n",
       "</table>\n",
       "</div>"
      ],
      "text/plain": [
       "           country  agriculture_usd_2015  grp_usd_2015  \\\n",
       "126  Venezuela, RB          1.573330e+10  3.347510e+11   \n",
       "\n",
       "     manufacturing_usd_2015  services_usd_2015 gid_0 gid_1  \n",
       "126            1.352394e+11       1.837783e+11   VEN   VEN  "
      ]
     },
     "execution_count": 134,
     "metadata": {},
     "output_type": "execute_result"
    }
   ],
   "source": [
    "wdi_country_simple.loc[wdi_country_simple.gid_0==\"VEN\"]"
   ]
  },
  {
   "cell_type": "markdown",
   "metadata": {},
   "source": [
    "### Now combine the WDI data with filled missing regional gdp with missing countries from WDI."
   ]
  },
  {
   "cell_type": "code",
   "execution_count": 135,
   "metadata": {},
   "outputs": [],
   "source": [
    "dose_light_combined = pd.concat([dose_light,wdi_country_simple],axis=0).reset_index(drop=True)"
   ]
  },
  {
   "cell_type": "code",
   "execution_count": 136,
   "metadata": {
    "tags": [
     "rm_cell"
    ]
   },
   "outputs": [
    {
     "data": {
      "text/html": [
       "<div>\n",
       "<style scoped>\n",
       "    .dataframe tbody tr th:only-of-type {\n",
       "        vertical-align: middle;\n",
       "    }\n",
       "\n",
       "    .dataframe tbody tr th {\n",
       "        vertical-align: top;\n",
       "    }\n",
       "\n",
       "    .dataframe thead th {\n",
       "        text-align: right;\n",
       "    }\n",
       "</style>\n",
       "<table border=\"1\" class=\"dataframe\">\n",
       "  <thead>\n",
       "    <tr style=\"text-align: right;\">\n",
       "      <th></th>\n",
       "      <th>country</th>\n",
       "      <th>gid_0</th>\n",
       "      <th>gid_1</th>\n",
       "      <th>grp_usd_2015</th>\n",
       "      <th>services_usd_2015</th>\n",
       "      <th>manufacturing_usd_2015</th>\n",
       "      <th>agriculture_usd_2015</th>\n",
       "    </tr>\n",
       "  </thead>\n",
       "  <tbody>\n",
       "    <tr>\n",
       "      <th>0</th>\n",
       "      <td>Albania</td>\n",
       "      <td>ALB</td>\n",
       "      <td>ALB.1_1</td>\n",
       "      <td>4.341915e+08</td>\n",
       "      <td>2.009631e+08</td>\n",
       "      <td>9.449606e+07</td>\n",
       "      <td>8.588401e+07</td>\n",
       "    </tr>\n",
       "    <tr>\n",
       "      <th>1</th>\n",
       "      <td>Albania</td>\n",
       "      <td>ALB</td>\n",
       "      <td>ALB.2_1</td>\n",
       "      <td>3.719427e+08</td>\n",
       "      <td>1.721516e+08</td>\n",
       "      <td>8.094841e+07</td>\n",
       "      <td>7.357106e+07</td>\n",
       "    </tr>\n",
       "    <tr>\n",
       "      <th>2</th>\n",
       "      <td>Albania</td>\n",
       "      <td>ALB</td>\n",
       "      <td>ALB.3_1</td>\n",
       "      <td>1.113524e+09</td>\n",
       "      <td>5.153885e+08</td>\n",
       "      <td>2.423439e+08</td>\n",
       "      <td>2.202575e+08</td>\n",
       "    </tr>\n",
       "    <tr>\n",
       "      <th>3</th>\n",
       "      <td>Albania</td>\n",
       "      <td>ALB</td>\n",
       "      <td>ALB.4_1</td>\n",
       "      <td>7.954835e+08</td>\n",
       "      <td>3.681851e+08</td>\n",
       "      <td>1.731265e+08</td>\n",
       "      <td>1.573483e+08</td>\n",
       "    </tr>\n",
       "    <tr>\n",
       "      <th>4</th>\n",
       "      <td>Albania</td>\n",
       "      <td>ALB</td>\n",
       "      <td>ALB.5_1</td>\n",
       "      <td>1.345159e+09</td>\n",
       "      <td>6.225993e+08</td>\n",
       "      <td>2.927561e+08</td>\n",
       "      <td>2.660753e+08</td>\n",
       "    </tr>\n",
       "  </tbody>\n",
       "</table>\n",
       "</div>"
      ],
      "text/plain": [
       "   country gid_0    gid_1  grp_usd_2015  services_usd_2015  \\\n",
       "0  Albania   ALB  ALB.1_1  4.341915e+08       2.009631e+08   \n",
       "1  Albania   ALB  ALB.2_1  3.719427e+08       1.721516e+08   \n",
       "2  Albania   ALB  ALB.3_1  1.113524e+09       5.153885e+08   \n",
       "3  Albania   ALB  ALB.4_1  7.954835e+08       3.681851e+08   \n",
       "4  Albania   ALB  ALB.5_1  1.345159e+09       6.225993e+08   \n",
       "\n",
       "   manufacturing_usd_2015  agriculture_usd_2015  \n",
       "0            9.449606e+07          8.588401e+07  \n",
       "1            8.094841e+07          7.357106e+07  \n",
       "2            2.423439e+08          2.202575e+08  \n",
       "3            1.731265e+08          1.573483e+08  \n",
       "4            2.927561e+08          2.660753e+08  "
      ]
     },
     "execution_count": 136,
     "metadata": {},
     "output_type": "execute_result"
    }
   ],
   "source": [
    "dose_light_combined.head()"
   ]
  },
  {
   "cell_type": "code",
   "execution_count": 137,
   "metadata": {
    "tags": [
     "rm_cell"
    ]
   },
   "outputs": [
    {
     "data": {
      "text/plain": [
       "(1677, 7)"
      ]
     },
     "execution_count": 137,
     "metadata": {},
     "output_type": "execute_result"
    }
   ],
   "source": [
    "dose_light_combined.shape"
   ]
  },
  {
   "cell_type": "code",
   "execution_count": 138,
   "metadata": {
    "tags": [
     "rm_cell"
    ]
   },
   "outputs": [
    {
     "data": {
      "text/html": [
       "<div>\n",
       "<style scoped>\n",
       "    .dataframe tbody tr th:only-of-type {\n",
       "        vertical-align: middle;\n",
       "    }\n",
       "\n",
       "    .dataframe tbody tr th {\n",
       "        vertical-align: top;\n",
       "    }\n",
       "\n",
       "    .dataframe thead th {\n",
       "        text-align: right;\n",
       "    }\n",
       "</style>\n",
       "<table border=\"1\" class=\"dataframe\">\n",
       "  <thead>\n",
       "    <tr style=\"text-align: right;\">\n",
       "      <th></th>\n",
       "      <th>country</th>\n",
       "      <th>gid_0</th>\n",
       "      <th>gid_1</th>\n",
       "      <th>grp_usd_2015</th>\n",
       "      <th>services_usd_2015</th>\n",
       "      <th>manufacturing_usd_2015</th>\n",
       "      <th>agriculture_usd_2015</th>\n",
       "    </tr>\n",
       "  </thead>\n",
       "  <tbody>\n",
       "    <tr>\n",
       "      <th>778</th>\n",
       "      <td>Netherlands Antilles</td>\n",
       "      <td>ANT</td>\n",
       "      <td>BES.1_1</td>\n",
       "      <td>4.660000e+08</td>\n",
       "      <td>NaN</td>\n",
       "      <td>NaN</td>\n",
       "      <td>NaN</td>\n",
       "    </tr>\n",
       "    <tr>\n",
       "      <th>779</th>\n",
       "      <td>Netherlands Antilles</td>\n",
       "      <td>ANT</td>\n",
       "      <td>BES.2_1</td>\n",
       "      <td>4.700000e+07</td>\n",
       "      <td>NaN</td>\n",
       "      <td>NaN</td>\n",
       "      <td>NaN</td>\n",
       "    </tr>\n",
       "    <tr>\n",
       "      <th>780</th>\n",
       "      <td>Netherlands Antilles</td>\n",
       "      <td>ANT</td>\n",
       "      <td>BES.3_1</td>\n",
       "      <td>1.340000e+08</td>\n",
       "      <td>NaN</td>\n",
       "      <td>NaN</td>\n",
       "      <td>NaN</td>\n",
       "    </tr>\n",
       "    <tr>\n",
       "      <th>1229</th>\n",
       "      <td>Tanzania</td>\n",
       "      <td>TZA</td>\n",
       "      <td>None</td>\n",
       "      <td>NaN</td>\n",
       "      <td>NaN</td>\n",
       "      <td>NaN</td>\n",
       "      <td>NaN</td>\n",
       "    </tr>\n",
       "    <tr>\n",
       "      <th>1550</th>\n",
       "      <td>American Samoa</td>\n",
       "      <td>ASM</td>\n",
       "      <td>ASM</td>\n",
       "      <td>6.730000e+08</td>\n",
       "      <td>NaN</td>\n",
       "      <td>NaN</td>\n",
       "      <td>NaN</td>\n",
       "    </tr>\n",
       "  </tbody>\n",
       "</table>\n",
       "</div>"
      ],
      "text/plain": [
       "                   country gid_0    gid_1  grp_usd_2015  services_usd_2015  \\\n",
       "778   Netherlands Antilles   ANT  BES.1_1  4.660000e+08                NaN   \n",
       "779   Netherlands Antilles   ANT  BES.2_1  4.700000e+07                NaN   \n",
       "780   Netherlands Antilles   ANT  BES.3_1  1.340000e+08                NaN   \n",
       "1229              Tanzania   TZA     None           NaN                NaN   \n",
       "1550        American Samoa   ASM      ASM  6.730000e+08                NaN   \n",
       "\n",
       "      manufacturing_usd_2015  agriculture_usd_2015  \n",
       "778                      NaN                   NaN  \n",
       "779                      NaN                   NaN  \n",
       "780                      NaN                   NaN  \n",
       "1229                     NaN                   NaN  \n",
       "1550                     NaN                   NaN  "
      ]
     },
     "execution_count": 138,
     "metadata": {},
     "output_type": "execute_result"
    }
   ],
   "source": [
    "dose_light_combined[dose_light_combined.isna().any(axis=1)].head()"
   ]
  },
  {
   "cell_type": "code",
   "execution_count": 139,
   "metadata": {},
   "outputs": [
    {
     "name": "stdout",
     "output_type": "stream",
     "text": [
      "Data to this point:  (1677, 7)\n",
      "Full row of NAs removed:  (1677, 7)\n",
      "Some missing economic indicator removed:  (1664, 7)\n"
     ]
    }
   ],
   "source": [
    "print(\"Data to this point: \",dose_light_combined.shape)\n",
    "print(\"Full row of NAs removed: \", dose_light_combined.dropna(axis=0,how=\"all\").shape)\n",
    "print(\"Some missing economic indicator removed: \", dose_light_combined.dropna(subset=[\"grp_usd_2015\",\"services_usd_2015\",\"manufacturing_usd_2015\",\"agriculture_usd_2015\"],axis=0,how=\"any\").shape)"
   ]
  },
  {
   "cell_type": "markdown",
   "metadata": {},
   "source": [
    "## Complementary filling\n",
    "\n",
    "We have GDP = agriculture + manufacturing + services. If any single value of the rhs is missing, we can find it. If lhs is missing, we can sum rhs.\n",
    "\n",
    "next, a function will check this. "
   ]
  },
  {
   "cell_type": "code",
   "execution_count": 140,
   "metadata": {
    "tags": [
     "rm_cell"
    ]
   },
   "outputs": [
    {
     "data": {
      "text/html": [
       "<div>\n",
       "<style scoped>\n",
       "    .dataframe tbody tr th:only-of-type {\n",
       "        vertical-align: middle;\n",
       "    }\n",
       "\n",
       "    .dataframe tbody tr th {\n",
       "        vertical-align: top;\n",
       "    }\n",
       "\n",
       "    .dataframe thead th {\n",
       "        text-align: right;\n",
       "    }\n",
       "</style>\n",
       "<table border=\"1\" class=\"dataframe\">\n",
       "  <thead>\n",
       "    <tr style=\"text-align: right;\">\n",
       "      <th></th>\n",
       "      <th>country</th>\n",
       "      <th>gid_0</th>\n",
       "      <th>gid_1</th>\n",
       "      <th>grp_usd_2015</th>\n",
       "      <th>services_usd_2015</th>\n",
       "      <th>manufacturing_usd_2015</th>\n",
       "      <th>agriculture_usd_2015</th>\n",
       "    </tr>\n",
       "  </thead>\n",
       "  <tbody>\n",
       "    <tr>\n",
       "      <th>0</th>\n",
       "      <td>Albania</td>\n",
       "      <td>ALB</td>\n",
       "      <td>ALB.1_1</td>\n",
       "      <td>4.341915e+08</td>\n",
       "      <td>2.009631e+08</td>\n",
       "      <td>9.449606e+07</td>\n",
       "      <td>8.588401e+07</td>\n",
       "    </tr>\n",
       "    <tr>\n",
       "      <th>1</th>\n",
       "      <td>Albania</td>\n",
       "      <td>ALB</td>\n",
       "      <td>ALB.2_1</td>\n",
       "      <td>3.719427e+08</td>\n",
       "      <td>1.721516e+08</td>\n",
       "      <td>8.094841e+07</td>\n",
       "      <td>7.357106e+07</td>\n",
       "    </tr>\n",
       "    <tr>\n",
       "      <th>2</th>\n",
       "      <td>Albania</td>\n",
       "      <td>ALB</td>\n",
       "      <td>ALB.3_1</td>\n",
       "      <td>1.113524e+09</td>\n",
       "      <td>5.153885e+08</td>\n",
       "      <td>2.423439e+08</td>\n",
       "      <td>2.202575e+08</td>\n",
       "    </tr>\n",
       "  </tbody>\n",
       "</table>\n",
       "</div>"
      ],
      "text/plain": [
       "   country gid_0    gid_1  grp_usd_2015  services_usd_2015  \\\n",
       "0  Albania   ALB  ALB.1_1  4.341915e+08       2.009631e+08   \n",
       "1  Albania   ALB  ALB.2_1  3.719427e+08       1.721516e+08   \n",
       "2  Albania   ALB  ALB.3_1  1.113524e+09       5.153885e+08   \n",
       "\n",
       "   manufacturing_usd_2015  agriculture_usd_2015  \n",
       "0            9.449606e+07          8.588401e+07  \n",
       "1            8.094841e+07          7.357106e+07  \n",
       "2            2.423439e+08          2.202575e+08  "
      ]
     },
     "execution_count": 140,
     "metadata": {},
     "output_type": "execute_result"
    }
   ],
   "source": [
    "dose_light_combined.head(3)"
   ]
  },
  {
   "cell_type": "code",
   "execution_count": 141,
   "metadata": {},
   "outputs": [],
   "source": [
    "# function to find the missing values in rows and fill them if possible\n",
    "def check_and_fill_row(row: pd.Series):\n",
    "    lhs = [x for x in row.index.tolist() if re.search(string=x, pattern=\"(gdp)|(grp)\")]\n",
    "    rhs = [x for x in row.index.tolist() if re.search(string=x, pattern=\"(manufacturing)|(services)|(agriculture)\")]\n",
    "\n",
    "    if row[lhs].isna().item() and (not row[rhs].isna().any().item()):\n",
    "        row[lhs]=row[rhs].sum()\n",
    "    \n",
    "    elif (not row[lhs].isna().item()) and row[rhs].isna().sum()==1:\n",
    "        which = row[rhs].isna()[row[rhs].isna()].index.tolist()\n",
    "        # assign to the missing values in the rhs, the value of the lhs minus the values of the other rhs variables.\n",
    "        row[which] = row[lhs]-row[[x for x in rhs if x not in which]].sum()\n",
    "    else:\n",
    "        pass\n",
    "\n",
    "    return row"
   ]
  },
  {
   "cell_type": "code",
   "execution_count": 142,
   "metadata": {},
   "outputs": [],
   "source": [
    "dose_light_combined[dose_light_combined.isna().any(axis=1)] = dose_light_combined[dose_light_combined.isna().any(axis=1)].apply(check_and_fill_row,axis=1)"
   ]
  },
  {
   "cell_type": "code",
   "execution_count": 143,
   "metadata": {},
   "outputs": [
    {
     "name": "stdout",
     "output_type": "stream",
     "text": [
      "Data to this point:  (1677, 7)\n",
      "Full row of NAs removed:  (1677, 7)\n",
      "Some missing economic indicator removed:  (1666, 7)\n"
     ]
    }
   ],
   "source": [
    "print(\"Data to this point: \",dose_light_combined.shape)\n",
    "print(\"Full row of NAs removed: \", dose_light_combined.dropna(axis=0,how=\"all\").shape)\n",
    "print(\"Some missing economic indicator removed: \", dose_light_combined.dropna(subset=[\"grp_usd_2015\",\"services_usd_2015\",\"manufacturing_usd_2015\",\"agriculture_usd_2015\"],axis=0,how=\"any\").shape)"
   ]
  },
  {
   "cell_type": "code",
   "execution_count": 144,
   "metadata": {
    "tags": [
     "rm_cell"
    ]
   },
   "outputs": [
    {
     "data": {
      "text/html": [
       "<div>\n",
       "<style scoped>\n",
       "    .dataframe tbody tr th:only-of-type {\n",
       "        vertical-align: middle;\n",
       "    }\n",
       "\n",
       "    .dataframe tbody tr th {\n",
       "        vertical-align: top;\n",
       "    }\n",
       "\n",
       "    .dataframe thead th {\n",
       "        text-align: right;\n",
       "    }\n",
       "</style>\n",
       "<table border=\"1\" class=\"dataframe\">\n",
       "  <thead>\n",
       "    <tr style=\"text-align: right;\">\n",
       "      <th></th>\n",
       "      <th>country</th>\n",
       "      <th>gid_0</th>\n",
       "      <th>gid_1</th>\n",
       "      <th>grp_usd_2015</th>\n",
       "      <th>services_usd_2015</th>\n",
       "      <th>manufacturing_usd_2015</th>\n",
       "      <th>agriculture_usd_2015</th>\n",
       "    </tr>\n",
       "  </thead>\n",
       "  <tbody>\n",
       "    <tr>\n",
       "      <th>778</th>\n",
       "      <td>Netherlands Antilles</td>\n",
       "      <td>ANT</td>\n",
       "      <td>BES.1_1</td>\n",
       "      <td>4.660000e+08</td>\n",
       "      <td>NaN</td>\n",
       "      <td>NaN</td>\n",
       "      <td>NaN</td>\n",
       "    </tr>\n",
       "    <tr>\n",
       "      <th>779</th>\n",
       "      <td>Netherlands Antilles</td>\n",
       "      <td>ANT</td>\n",
       "      <td>BES.2_1</td>\n",
       "      <td>4.700000e+07</td>\n",
       "      <td>NaN</td>\n",
       "      <td>NaN</td>\n",
       "      <td>NaN</td>\n",
       "    </tr>\n",
       "    <tr>\n",
       "      <th>780</th>\n",
       "      <td>Netherlands Antilles</td>\n",
       "      <td>ANT</td>\n",
       "      <td>BES.3_1</td>\n",
       "      <td>1.340000e+08</td>\n",
       "      <td>NaN</td>\n",
       "      <td>NaN</td>\n",
       "      <td>NaN</td>\n",
       "    </tr>\n",
       "    <tr>\n",
       "      <th>1229</th>\n",
       "      <td>Tanzania</td>\n",
       "      <td>TZA</td>\n",
       "      <td>None</td>\n",
       "      <td>NaN</td>\n",
       "      <td>NaN</td>\n",
       "      <td>NaN</td>\n",
       "      <td>NaN</td>\n",
       "    </tr>\n",
       "    <tr>\n",
       "      <th>1550</th>\n",
       "      <td>American Samoa</td>\n",
       "      <td>ASM</td>\n",
       "      <td>ASM</td>\n",
       "      <td>6.730000e+08</td>\n",
       "      <td>NaN</td>\n",
       "      <td>NaN</td>\n",
       "      <td>NaN</td>\n",
       "    </tr>\n",
       "    <tr>\n",
       "      <th>1594</th>\n",
       "      <td>Guam</td>\n",
       "      <td>GUM</td>\n",
       "      <td>GUM</td>\n",
       "      <td>5.799000e+09</td>\n",
       "      <td>NaN</td>\n",
       "      <td>NaN</td>\n",
       "      <td>NaN</td>\n",
       "    </tr>\n",
       "    <tr>\n",
       "      <th>1614</th>\n",
       "      <td>Liechtenstein</td>\n",
       "      <td>LIE</td>\n",
       "      <td>LIE</td>\n",
       "      <td>6.268515e+09</td>\n",
       "      <td>NaN</td>\n",
       "      <td>2.335665e+09</td>\n",
       "      <td>NaN</td>\n",
       "    </tr>\n",
       "    <tr>\n",
       "      <th>1628</th>\n",
       "      <td>Nauru</td>\n",
       "      <td>NRU</td>\n",
       "      <td>NRU</td>\n",
       "      <td>8.486344e+07</td>\n",
       "      <td>NaN</td>\n",
       "      <td>NaN</td>\n",
       "      <td>NaN</td>\n",
       "    </tr>\n",
       "    <tr>\n",
       "      <th>1633</th>\n",
       "      <td>Northern Mariana Islands</td>\n",
       "      <td>MNP</td>\n",
       "      <td>MNP</td>\n",
       "      <td>9.100000e+08</td>\n",
       "      <td>NaN</td>\n",
       "      <td>NaN</td>\n",
       "      <td>NaN</td>\n",
       "    </tr>\n",
       "    <tr>\n",
       "      <th>1650</th>\n",
       "      <td>Somalia</td>\n",
       "      <td>SOM</td>\n",
       "      <td>SOM</td>\n",
       "      <td>6.984947e+09</td>\n",
       "      <td>NaN</td>\n",
       "      <td>NaN</td>\n",
       "      <td>NaN</td>\n",
       "    </tr>\n",
       "    <tr>\n",
       "      <th>1672</th>\n",
       "      <td>Virgin Islands (U.S.)</td>\n",
       "      <td>VIR</td>\n",
       "      <td>VIR</td>\n",
       "      <td>3.663000e+09</td>\n",
       "      <td>NaN</td>\n",
       "      <td>NaN</td>\n",
       "      <td>NaN</td>\n",
       "    </tr>\n",
       "  </tbody>\n",
       "</table>\n",
       "</div>"
      ],
      "text/plain": [
       "                       country gid_0    gid_1  grp_usd_2015  \\\n",
       "778       Netherlands Antilles   ANT  BES.1_1  4.660000e+08   \n",
       "779       Netherlands Antilles   ANT  BES.2_1  4.700000e+07   \n",
       "780       Netherlands Antilles   ANT  BES.3_1  1.340000e+08   \n",
       "1229                  Tanzania   TZA     None           NaN   \n",
       "1550            American Samoa   ASM      ASM  6.730000e+08   \n",
       "1594                      Guam   GUM      GUM  5.799000e+09   \n",
       "1614             Liechtenstein   LIE      LIE  6.268515e+09   \n",
       "1628                     Nauru   NRU      NRU  8.486344e+07   \n",
       "1633  Northern Mariana Islands   MNP      MNP  9.100000e+08   \n",
       "1650                   Somalia   SOM      SOM  6.984947e+09   \n",
       "1672     Virgin Islands (U.S.)   VIR      VIR  3.663000e+09   \n",
       "\n",
       "      services_usd_2015  manufacturing_usd_2015  agriculture_usd_2015  \n",
       "778                 NaN                     NaN                   NaN  \n",
       "779                 NaN                     NaN                   NaN  \n",
       "780                 NaN                     NaN                   NaN  \n",
       "1229                NaN                     NaN                   NaN  \n",
       "1550                NaN                     NaN                   NaN  \n",
       "1594                NaN                     NaN                   NaN  \n",
       "1614                NaN            2.335665e+09                   NaN  \n",
       "1628                NaN                     NaN                   NaN  \n",
       "1633                NaN                     NaN                   NaN  \n",
       "1650                NaN                     NaN                   NaN  \n",
       "1672                NaN                     NaN                   NaN  "
      ]
     },
     "execution_count": 144,
     "metadata": {},
     "output_type": "execute_result"
    }
   ],
   "source": [
    "# 6 values have no economic information at all and will be removed in the next step\n",
    "dose_light_combined[dose_light_combined.isna().any(axis=1)]"
   ]
  },
  {
   "cell_type": "code",
   "execution_count": 145,
   "metadata": {},
   "outputs": [],
   "source": [
    "# writing back the modified data set into the original one. this can be avoided and all the operations can be done on the original one right away once the workflow is good. \n",
    "dose_light_combined.dropna(subset=[\"grp_usd_2015\",\"services_usd_2015\",\"manufacturing_usd_2015\",\"agriculture_usd_2015\"],axis=0,how=\"all\",inplace=True)\n",
    "dose_light_combined.reset_index(inplace=True,drop=True)"
   ]
  },
  {
   "cell_type": "code",
   "execution_count": 146,
   "metadata": {
    "tags": [
     "rm_cell"
    ]
   },
   "outputs": [
    {
     "data": {
      "text/html": [
       "<div>\n",
       "<style scoped>\n",
       "    .dataframe tbody tr th:only-of-type {\n",
       "        vertical-align: middle;\n",
       "    }\n",
       "\n",
       "    .dataframe tbody tr th {\n",
       "        vertical-align: top;\n",
       "    }\n",
       "\n",
       "    .dataframe thead th {\n",
       "        text-align: right;\n",
       "    }\n",
       "</style>\n",
       "<table border=\"1\" class=\"dataframe\">\n",
       "  <thead>\n",
       "    <tr style=\"text-align: right;\">\n",
       "      <th></th>\n",
       "      <th>country</th>\n",
       "      <th>gid_0</th>\n",
       "      <th>gid_1</th>\n",
       "      <th>grp_usd_2015</th>\n",
       "      <th>services_usd_2015</th>\n",
       "      <th>manufacturing_usd_2015</th>\n",
       "      <th>agriculture_usd_2015</th>\n",
       "    </tr>\n",
       "  </thead>\n",
       "  <tbody>\n",
       "    <tr>\n",
       "      <th>0</th>\n",
       "      <td>Albania</td>\n",
       "      <td>ALB</td>\n",
       "      <td>ALB.1_1</td>\n",
       "      <td>4.341915e+08</td>\n",
       "      <td>2.009631e+08</td>\n",
       "      <td>9.449606e+07</td>\n",
       "      <td>8.588401e+07</td>\n",
       "    </tr>\n",
       "    <tr>\n",
       "      <th>1</th>\n",
       "      <td>Albania</td>\n",
       "      <td>ALB</td>\n",
       "      <td>ALB.2_1</td>\n",
       "      <td>3.719427e+08</td>\n",
       "      <td>1.721516e+08</td>\n",
       "      <td>8.094841e+07</td>\n",
       "      <td>7.357106e+07</td>\n",
       "    </tr>\n",
       "    <tr>\n",
       "      <th>2</th>\n",
       "      <td>Albania</td>\n",
       "      <td>ALB</td>\n",
       "      <td>ALB.3_1</td>\n",
       "      <td>1.113524e+09</td>\n",
       "      <td>5.153885e+08</td>\n",
       "      <td>2.423439e+08</td>\n",
       "      <td>2.202575e+08</td>\n",
       "    </tr>\n",
       "    <tr>\n",
       "      <th>3</th>\n",
       "      <td>Albania</td>\n",
       "      <td>ALB</td>\n",
       "      <td>ALB.4_1</td>\n",
       "      <td>7.954835e+08</td>\n",
       "      <td>3.681851e+08</td>\n",
       "      <td>1.731265e+08</td>\n",
       "      <td>1.573483e+08</td>\n",
       "    </tr>\n",
       "    <tr>\n",
       "      <th>4</th>\n",
       "      <td>Albania</td>\n",
       "      <td>ALB</td>\n",
       "      <td>ALB.5_1</td>\n",
       "      <td>1.345159e+09</td>\n",
       "      <td>6.225993e+08</td>\n",
       "      <td>2.927561e+08</td>\n",
       "      <td>2.660753e+08</td>\n",
       "    </tr>\n",
       "    <tr>\n",
       "      <th>...</th>\n",
       "      <td>...</td>\n",
       "      <td>...</td>\n",
       "      <td>...</td>\n",
       "      <td>...</td>\n",
       "      <td>...</td>\n",
       "      <td>...</td>\n",
       "      <td>...</td>\n",
       "    </tr>\n",
       "    <tr>\n",
       "      <th>1671</th>\n",
       "      <td>Virgin Islands (U.S.)</td>\n",
       "      <td>VIR</td>\n",
       "      <td>VIR</td>\n",
       "      <td>3.663000e+09</td>\n",
       "      <td>NaN</td>\n",
       "      <td>NaN</td>\n",
       "      <td>NaN</td>\n",
       "    </tr>\n",
       "    <tr>\n",
       "      <th>1672</th>\n",
       "      <td>West Bank and Gaza</td>\n",
       "      <td>PSE</td>\n",
       "      <td>PSE</td>\n",
       "      <td>1.397240e+10</td>\n",
       "      <td>8.618600e+09</td>\n",
       "      <td>2.295000e+09</td>\n",
       "      <td>1.035200e+09</td>\n",
       "    </tr>\n",
       "    <tr>\n",
       "      <th>1673</th>\n",
       "      <td>Yemen, Rep.</td>\n",
       "      <td>YEM</td>\n",
       "      <td>YEM</td>\n",
       "      <td>4.244449e+10</td>\n",
       "      <td>1.779608e+10</td>\n",
       "      <td>1.437432e+10</td>\n",
       "      <td>8.576307e+09</td>\n",
       "    </tr>\n",
       "    <tr>\n",
       "      <th>1674</th>\n",
       "      <td>Zambia</td>\n",
       "      <td>ZMB</td>\n",
       "      <td>ZMB</td>\n",
       "      <td>2.125122e+10</td>\n",
       "      <td>1.194752e+10</td>\n",
       "      <td>7.152575e+09</td>\n",
       "      <td>1.058488e+09</td>\n",
       "    </tr>\n",
       "    <tr>\n",
       "      <th>1675</th>\n",
       "      <td>Zimbabwe</td>\n",
       "      <td>ZWE</td>\n",
       "      <td>ZWE</td>\n",
       "      <td>1.996312e+10</td>\n",
       "      <td>1.170858e+10</td>\n",
       "      <td>4.463433e+09</td>\n",
       "      <td>1.653794e+09</td>\n",
       "    </tr>\n",
       "  </tbody>\n",
       "</table>\n",
       "<p>1676 rows × 7 columns</p>\n",
       "</div>"
      ],
      "text/plain": [
       "                    country gid_0    gid_1  grp_usd_2015  services_usd_2015  \\\n",
       "0                   Albania   ALB  ALB.1_1  4.341915e+08       2.009631e+08   \n",
       "1                   Albania   ALB  ALB.2_1  3.719427e+08       1.721516e+08   \n",
       "2                   Albania   ALB  ALB.3_1  1.113524e+09       5.153885e+08   \n",
       "3                   Albania   ALB  ALB.4_1  7.954835e+08       3.681851e+08   \n",
       "4                   Albania   ALB  ALB.5_1  1.345159e+09       6.225993e+08   \n",
       "...                     ...   ...      ...           ...                ...   \n",
       "1671  Virgin Islands (U.S.)   VIR      VIR  3.663000e+09                NaN   \n",
       "1672     West Bank and Gaza   PSE      PSE  1.397240e+10       8.618600e+09   \n",
       "1673            Yemen, Rep.   YEM      YEM  4.244449e+10       1.779608e+10   \n",
       "1674                 Zambia   ZMB      ZMB  2.125122e+10       1.194752e+10   \n",
       "1675               Zimbabwe   ZWE      ZWE  1.996312e+10       1.170858e+10   \n",
       "\n",
       "      manufacturing_usd_2015  agriculture_usd_2015  \n",
       "0               9.449606e+07          8.588401e+07  \n",
       "1               8.094841e+07          7.357106e+07  \n",
       "2               2.423439e+08          2.202575e+08  \n",
       "3               1.731265e+08          1.573483e+08  \n",
       "4               2.927561e+08          2.660753e+08  \n",
       "...                      ...                   ...  \n",
       "1671                     NaN                   NaN  \n",
       "1672            2.295000e+09          1.035200e+09  \n",
       "1673            1.437432e+10          8.576307e+09  \n",
       "1674            7.152575e+09          1.058488e+09  \n",
       "1675            4.463433e+09          1.653794e+09  \n",
       "\n",
       "[1676 rows x 7 columns]"
      ]
     },
     "execution_count": 146,
     "metadata": {},
     "output_type": "execute_result"
    }
   ],
   "source": [
    "dose_light_combined"
   ]
  },
  {
   "cell_type": "code",
   "execution_count": 147,
   "metadata": {
    "tags": [
     "rm_cell"
    ]
   },
   "outputs": [
    {
     "data": {
      "text/html": [
       "<div>\n",
       "<style scoped>\n",
       "    .dataframe tbody tr th:only-of-type {\n",
       "        vertical-align: middle;\n",
       "    }\n",
       "\n",
       "    .dataframe tbody tr th {\n",
       "        vertical-align: top;\n",
       "    }\n",
       "\n",
       "    .dataframe thead th {\n",
       "        text-align: right;\n",
       "    }\n",
       "</style>\n",
       "<table border=\"1\" class=\"dataframe\">\n",
       "  <thead>\n",
       "    <tr style=\"text-align: right;\">\n",
       "      <th></th>\n",
       "      <th>country</th>\n",
       "      <th>gid_0</th>\n",
       "      <th>gid_1</th>\n",
       "      <th>grp_usd_2015</th>\n",
       "      <th>services_usd_2015</th>\n",
       "      <th>manufacturing_usd_2015</th>\n",
       "      <th>agriculture_usd_2015</th>\n",
       "    </tr>\n",
       "  </thead>\n",
       "  <tbody>\n",
       "    <tr>\n",
       "      <th>1670</th>\n",
       "      <td>Venezuela, RB</td>\n",
       "      <td>VEN</td>\n",
       "      <td>VEN</td>\n",
       "      <td>3.347510e+11</td>\n",
       "      <td>1.837783e+11</td>\n",
       "      <td>1.352394e+11</td>\n",
       "      <td>1.573330e+10</td>\n",
       "    </tr>\n",
       "  </tbody>\n",
       "</table>\n",
       "</div>"
      ],
      "text/plain": [
       "            country gid_0 gid_1  grp_usd_2015  services_usd_2015  \\\n",
       "1670  Venezuela, RB   VEN   VEN  3.347510e+11       1.837783e+11   \n",
       "\n",
       "      manufacturing_usd_2015  agriculture_usd_2015  \n",
       "1670            1.352394e+11          1.573330e+10  "
      ]
     },
     "execution_count": 147,
     "metadata": {},
     "output_type": "execute_result"
    }
   ],
   "source": [
    "dose_light_combined[dose_light_combined.gid_0==\"VEN\"]"
   ]
  },
  {
   "cell_type": "markdown",
   "metadata": {},
   "source": [
    "## Countries with missing regions\n",
    "\n",
    "In some cases, not all the regions in a country covered by DOSE are provided. This case has not been treated yet. The process here is to distribute the remainder of gdp across the 3 sectors uniformly to the missing regions. This is again a first order approximation. And whenever better data is obtained can be ameliorated.\n",
    "We rely on the table computed earlier containing incomplete country regions. \n"
   ]
  },
  {
   "cell_type": "code",
   "execution_count": 148,
   "metadata": {},
   "outputs": [
    {
     "data": {
      "text/html": [
       "<div>\n",
       "<style scoped>\n",
       "    .dataframe tbody tr th:only-of-type {\n",
       "        vertical-align: middle;\n",
       "    }\n",
       "\n",
       "    .dataframe tbody tr th {\n",
       "        vertical-align: top;\n",
       "    }\n",
       "\n",
       "    .dataframe thead th {\n",
       "        text-align: right;\n",
       "    }\n",
       "</style>\n",
       "<table border=\"1\" class=\"dataframe\">\n",
       "  <thead>\n",
       "    <tr style=\"text-align: right;\">\n",
       "      <th></th>\n",
       "      <th>country</th>\n",
       "      <th>region</th>\n",
       "    </tr>\n",
       "  </thead>\n",
       "  <tbody>\n",
       "    <tr>\n",
       "      <th>0</th>\n",
       "      <td>ARG</td>\n",
       "      <td>2_1</td>\n",
       "    </tr>\n",
       "    <tr>\n",
       "      <th>1</th>\n",
       "      <td>ARG</td>\n",
       "      <td>3_1</td>\n",
       "    </tr>\n",
       "    <tr>\n",
       "      <th>2</th>\n",
       "      <td>ARG</td>\n",
       "      <td>5_1</td>\n",
       "    </tr>\n",
       "    <tr>\n",
       "      <th>3</th>\n",
       "      <td>ARG</td>\n",
       "      <td>7_1</td>\n",
       "    </tr>\n",
       "    <tr>\n",
       "      <th>4</th>\n",
       "      <td>ARG</td>\n",
       "      <td>9_1</td>\n",
       "    </tr>\n",
       "    <tr>\n",
       "      <th>...</th>\n",
       "      <td>...</td>\n",
       "      <td>...</td>\n",
       "    </tr>\n",
       "    <tr>\n",
       "      <th>301</th>\n",
       "      <td>TZA</td>\n",
       "      <td>28_1</td>\n",
       "    </tr>\n",
       "    <tr>\n",
       "      <th>302</th>\n",
       "      <td>TZA</td>\n",
       "      <td>29_1</td>\n",
       "    </tr>\n",
       "    <tr>\n",
       "      <th>303</th>\n",
       "      <td>TZA</td>\n",
       "      <td>30_1</td>\n",
       "    </tr>\n",
       "    <tr>\n",
       "      <th>304</th>\n",
       "      <td>UKR</td>\n",
       "      <td>4_1</td>\n",
       "    </tr>\n",
       "    <tr>\n",
       "      <th>305</th>\n",
       "      <td>UKR</td>\n",
       "      <td>20_1</td>\n",
       "    </tr>\n",
       "  </tbody>\n",
       "</table>\n",
       "<p>306 rows × 2 columns</p>\n",
       "</div>"
      ],
      "text/plain": [
       "    country region\n",
       "0       ARG    2_1\n",
       "1       ARG    3_1\n",
       "2       ARG    5_1\n",
       "3       ARG    7_1\n",
       "4       ARG    9_1\n",
       "..      ...    ...\n",
       "301     TZA   28_1\n",
       "302     TZA   29_1\n",
       "303     TZA   30_1\n",
       "304     UKR    4_1\n",
       "305     UKR   20_1\n",
       "\n",
       "[306 rows x 2 columns]"
      ]
     },
     "execution_count": 148,
     "metadata": {},
     "output_type": "execute_result"
    }
   ],
   "source": [
    "dose_missing_regions"
   ]
  },
  {
   "cell_type": "code",
   "execution_count": 149,
   "metadata": {},
   "outputs": [
    {
     "data": {
      "text/plain": [
       "array(['ARG', 'AUS', 'BHS', 'CHL', 'COL', 'EST', 'GEO', 'GRC', 'IDN',\n",
       "       'IND', 'IRN', 'KAZ', 'LKA', 'MAR', 'MKD', 'MYS', 'NGA', 'NLD',\n",
       "       'NZL', 'PAN', 'PER', 'PHL', 'PRY', 'RUS', 'TZA', 'UKR'],\n",
       "      dtype=object)"
      ]
     },
     "execution_count": 149,
     "metadata": {},
     "output_type": "execute_result"
    }
   ],
   "source": [
    "incomplete_countries = dose_missing_regions.country.unique()\n",
    "incomplete_countries"
   ]
  },
  {
   "cell_type": "code",
   "execution_count": 150,
   "metadata": {},
   "outputs": [],
   "source": [
    "wdi_incomplete = wdi_df_full[wdi_df_full.country_code.isin(incomplete_countries)].groupby(\"country_code\").sum(numeric_only=True)"
   ]
  },
  {
   "cell_type": "code",
   "execution_count": 151,
   "metadata": {},
   "outputs": [
    {
     "data": {
      "text/html": [
       "<div>\n",
       "<style scoped>\n",
       "    .dataframe tbody tr th:only-of-type {\n",
       "        vertical-align: middle;\n",
       "    }\n",
       "\n",
       "    .dataframe tbody tr th {\n",
       "        vertical-align: top;\n",
       "    }\n",
       "\n",
       "    .dataframe thead th {\n",
       "        text-align: right;\n",
       "    }\n",
       "</style>\n",
       "<table border=\"1\" class=\"dataframe\">\n",
       "  <thead>\n",
       "    <tr style=\"text-align: right;\">\n",
       "      <th></th>\n",
       "      <th>agriculture_usd_2015</th>\n",
       "      <th>grp_usd_2015</th>\n",
       "      <th>gdp_cap</th>\n",
       "      <th>manufacturing_usd_2015</th>\n",
       "      <th>services_usd_2015</th>\n",
       "    </tr>\n",
       "    <tr>\n",
       "      <th>country_code</th>\n",
       "      <th></th>\n",
       "      <th></th>\n",
       "      <th></th>\n",
       "      <th></th>\n",
       "      <th></th>\n",
       "    </tr>\n",
       "  </thead>\n",
       "  <tbody>\n",
       "    <tr>\n",
       "      <th>ARG</th>\n",
       "      <td>3.066935e+10</td>\n",
       "      <td>5.947493e+11</td>\n",
       "      <td>13789.060425</td>\n",
       "      <td>1.377026e+11</td>\n",
       "      <td>3.319587e+11</td>\n",
       "    </tr>\n",
       "    <tr>\n",
       "      <th>AUS</th>\n",
       "      <td>3.210833e+10</td>\n",
       "      <td>1.351769e+12</td>\n",
       "      <td>56758.869203</td>\n",
       "      <td>3.201382e+11</td>\n",
       "      <td>9.077942e+11</td>\n",
       "    </tr>\n",
       "    <tr>\n",
       "      <th>BHS</th>\n",
       "      <td>9.650000e+07</td>\n",
       "      <td>1.167190e+10</td>\n",
       "      <td>29722.406843</td>\n",
       "      <td>1.320300e+09</td>\n",
       "      <td>9.092900e+09</td>\n",
       "    </tr>\n",
       "    <tr>\n",
       "      <th>CHL</th>\n",
       "      <td>8.993464e+09</td>\n",
       "      <td>2.424504e+11</td>\n",
       "      <td>13567.357217</td>\n",
       "      <td>6.759671e+10</td>\n",
       "      <td>1.414570e+11</td>\n",
       "    </tr>\n",
       "    <tr>\n",
       "      <th>COL</th>\n",
       "      <td>1.755209e+10</td>\n",
       "      <td>2.934924e+11</td>\n",
       "      <td>6228.651621</td>\n",
       "      <td>8.390785e+10</td>\n",
       "      <td>1.649883e+11</td>\n",
       "    </tr>\n",
       "  </tbody>\n",
       "</table>\n",
       "</div>"
      ],
      "text/plain": [
       "              agriculture_usd_2015  grp_usd_2015       gdp_cap  \\\n",
       "country_code                                                     \n",
       "ARG                   3.066935e+10  5.947493e+11  13789.060425   \n",
       "AUS                   3.210833e+10  1.351769e+12  56758.869203   \n",
       "BHS                   9.650000e+07  1.167190e+10  29722.406843   \n",
       "CHL                   8.993464e+09  2.424504e+11  13567.357217   \n",
       "COL                   1.755209e+10  2.934924e+11   6228.651621   \n",
       "\n",
       "              manufacturing_usd_2015  services_usd_2015  \n",
       "country_code                                             \n",
       "ARG                     1.377026e+11       3.319587e+11  \n",
       "AUS                     3.201382e+11       9.077942e+11  \n",
       "BHS                     1.320300e+09       9.092900e+09  \n",
       "CHL                     6.759671e+10       1.414570e+11  \n",
       "COL                     8.390785e+10       1.649883e+11  "
      ]
     },
     "execution_count": 151,
     "metadata": {},
     "output_type": "execute_result"
    }
   ],
   "source": [
    "wdi_incomplete.head()"
   ]
  },
  {
   "cell_type": "code",
   "execution_count": 152,
   "metadata": {},
   "outputs": [],
   "source": [
    "dose_incomplete = dose_light_combined[dose_light_combined.gid_0.isin(incomplete_countries)].assign(count=1).groupby(\"gid_0\").sum(numeric_only=True)"
   ]
  },
  {
   "cell_type": "code",
   "execution_count": 153,
   "metadata": {},
   "outputs": [
    {
     "data": {
      "text/html": [
       "<div>\n",
       "<style scoped>\n",
       "    .dataframe tbody tr th:only-of-type {\n",
       "        vertical-align: middle;\n",
       "    }\n",
       "\n",
       "    .dataframe tbody tr th {\n",
       "        vertical-align: top;\n",
       "    }\n",
       "\n",
       "    .dataframe thead th {\n",
       "        text-align: right;\n",
       "    }\n",
       "</style>\n",
       "<table border=\"1\" class=\"dataframe\">\n",
       "  <thead>\n",
       "    <tr style=\"text-align: right;\">\n",
       "      <th></th>\n",
       "      <th>grp_usd_2015</th>\n",
       "      <th>services_usd_2015</th>\n",
       "      <th>manufacturing_usd_2015</th>\n",
       "      <th>agriculture_usd_2015</th>\n",
       "      <th>count</th>\n",
       "    </tr>\n",
       "    <tr>\n",
       "      <th>gid_0</th>\n",
       "      <th></th>\n",
       "      <th></th>\n",
       "      <th></th>\n",
       "      <th></th>\n",
       "      <th></th>\n",
       "    </tr>\n",
       "  </thead>\n",
       "  <tbody>\n",
       "    <tr>\n",
       "      <th>ARG</th>\n",
       "      <td>4.105693e+11</td>\n",
       "      <td>2.319845e+11</td>\n",
       "      <td>1.142921e+11</td>\n",
       "      <td>2.522318e+10</td>\n",
       "      <td>10</td>\n",
       "    </tr>\n",
       "    <tr>\n",
       "      <th>AUS</th>\n",
       "      <td>1.220506e+12</td>\n",
       "      <td>5.406748e+11</td>\n",
       "      <td>4.357668e+11</td>\n",
       "      <td>2.828058e+10</td>\n",
       "      <td>8</td>\n",
       "    </tr>\n",
       "    <tr>\n",
       "      <th>BHS</th>\n",
       "      <td>1.056050e+10</td>\n",
       "      <td>9.156000e+09</td>\n",
       "      <td>1.308000e+09</td>\n",
       "      <td>9.650000e+07</td>\n",
       "      <td>3</td>\n",
       "    </tr>\n",
       "    <tr>\n",
       "      <th>CHL</th>\n",
       "      <td>2.226211e+11</td>\n",
       "      <td>1.410754e+11</td>\n",
       "      <td>7.265867e+10</td>\n",
       "      <td>8.887047e+09</td>\n",
       "      <td>15</td>\n",
       "    </tr>\n",
       "    <tr>\n",
       "      <th>COL</th>\n",
       "      <td>2.547149e+11</td>\n",
       "      <td>1.507876e+11</td>\n",
       "      <td>8.649792e+10</td>\n",
       "      <td>1.742939e+10</td>\n",
       "      <td>31</td>\n",
       "    </tr>\n",
       "  </tbody>\n",
       "</table>\n",
       "</div>"
      ],
      "text/plain": [
       "       grp_usd_2015  services_usd_2015  manufacturing_usd_2015  \\\n",
       "gid_0                                                            \n",
       "ARG    4.105693e+11       2.319845e+11            1.142921e+11   \n",
       "AUS    1.220506e+12       5.406748e+11            4.357668e+11   \n",
       "BHS    1.056050e+10       9.156000e+09            1.308000e+09   \n",
       "CHL    2.226211e+11       1.410754e+11            7.265867e+10   \n",
       "COL    2.547149e+11       1.507876e+11            8.649792e+10   \n",
       "\n",
       "       agriculture_usd_2015  count  \n",
       "gid_0                               \n",
       "ARG            2.522318e+10     10  \n",
       "AUS            2.828058e+10      8  \n",
       "BHS            9.650000e+07      3  \n",
       "CHL            8.887047e+09     15  \n",
       "COL            1.742939e+10     31  "
      ]
     },
     "execution_count": 153,
     "metadata": {},
     "output_type": "execute_result"
    }
   ],
   "source": [
    "dose_incomplete.head()"
   ]
  },
  {
   "cell_type": "code",
   "execution_count": 154,
   "metadata": {},
   "outputs": [],
   "source": [
    "incomplete_values = (wdi_incomplete - dose_incomplete)"
   ]
  },
  {
   "cell_type": "code",
   "execution_count": 155,
   "metadata": {},
   "outputs": [],
   "source": [
    "incomplete_values.drop(columns=[\"count\",\"gdp_cap\"],inplace=True)"
   ]
  },
  {
   "cell_type": "code",
   "execution_count": 156,
   "metadata": {},
   "outputs": [
    {
     "data": {
      "text/html": [
       "<div>\n",
       "<style scoped>\n",
       "    .dataframe tbody tr th:only-of-type {\n",
       "        vertical-align: middle;\n",
       "    }\n",
       "\n",
       "    .dataframe tbody tr th {\n",
       "        vertical-align: top;\n",
       "    }\n",
       "\n",
       "    .dataframe thead th {\n",
       "        text-align: right;\n",
       "    }\n",
       "</style>\n",
       "<table border=\"1\" class=\"dataframe\">\n",
       "  <thead>\n",
       "    <tr style=\"text-align: right;\">\n",
       "      <th></th>\n",
       "      <th>agriculture_usd_2015</th>\n",
       "      <th>grp_usd_2015</th>\n",
       "      <th>manufacturing_usd_2015</th>\n",
       "      <th>services_usd_2015</th>\n",
       "    </tr>\n",
       "    <tr>\n",
       "      <th>country_code</th>\n",
       "      <th></th>\n",
       "      <th></th>\n",
       "      <th></th>\n",
       "      <th></th>\n",
       "    </tr>\n",
       "  </thead>\n",
       "  <tbody>\n",
       "    <tr>\n",
       "      <th>ARG</th>\n",
       "      <td>5.446175e+09</td>\n",
       "      <td>1.841800e+11</td>\n",
       "      <td>2.341056e+10</td>\n",
       "      <td>9.997425e+10</td>\n",
       "    </tr>\n",
       "    <tr>\n",
       "      <th>AUS</th>\n",
       "      <td>3.827756e+09</td>\n",
       "      <td>1.312634e+11</td>\n",
       "      <td>-1.156287e+11</td>\n",
       "      <td>3.671194e+11</td>\n",
       "    </tr>\n",
       "    <tr>\n",
       "      <th>BHS</th>\n",
       "      <td>-3.958195e-03</td>\n",
       "      <td>1.111400e+09</td>\n",
       "      <td>1.230000e+07</td>\n",
       "      <td>-6.310000e+07</td>\n",
       "    </tr>\n",
       "    <tr>\n",
       "      <th>CHL</th>\n",
       "      <td>1.064166e+08</td>\n",
       "      <td>1.982922e+10</td>\n",
       "      <td>-5.061962e+09</td>\n",
       "      <td>3.815390e+08</td>\n",
       "    </tr>\n",
       "    <tr>\n",
       "      <th>COL</th>\n",
       "      <td>1.226958e+08</td>\n",
       "      <td>3.877744e+10</td>\n",
       "      <td>-2.590075e+09</td>\n",
       "      <td>1.420072e+10</td>\n",
       "    </tr>\n",
       "    <tr>\n",
       "      <th>EST</th>\n",
       "      <td>-2.610651e+06</td>\n",
       "      <td>3.485741e+09</td>\n",
       "      <td>1.371738e+08</td>\n",
       "      <td>3.103609e+08</td>\n",
       "    </tr>\n",
       "    <tr>\n",
       "      <th>GEO</th>\n",
       "      <td>1.319855e+08</td>\n",
       "      <td>2.701133e+08</td>\n",
       "      <td>1.457421e+08</td>\n",
       "      <td>-8.018212e+07</td>\n",
       "    </tr>\n",
       "    <tr>\n",
       "      <th>GRC</th>\n",
       "      <td>-5.793244e+05</td>\n",
       "      <td>2.716491e+08</td>\n",
       "      <td>3.070754e+06</td>\n",
       "      <td>2.709419e+08</td>\n",
       "    </tr>\n",
       "    <tr>\n",
       "      <th>IDN</th>\n",
       "      <td>3.093781e+09</td>\n",
       "      <td>-1.879679e+08</td>\n",
       "      <td>-2.299134e+10</td>\n",
       "      <td>-4.470318e+09</td>\n",
       "    </tr>\n",
       "    <tr>\n",
       "      <th>IND</th>\n",
       "      <td>-3.250346e+10</td>\n",
       "      <td>3.478994e+11</td>\n",
       "      <td>9.428154e+10</td>\n",
       "      <td>1.032279e+11</td>\n",
       "    </tr>\n",
       "    <tr>\n",
       "      <th>IRN</th>\n",
       "      <td>1.355663e+09</td>\n",
       "      <td>-4.423149e+09</td>\n",
       "      <td>-2.565775e+10</td>\n",
       "      <td>9.462633e+09</td>\n",
       "    </tr>\n",
       "    <tr>\n",
       "      <th>KAZ</th>\n",
       "      <td>7.281530e+08</td>\n",
       "      <td>7.915945e+09</td>\n",
       "      <td>3.202990e+09</td>\n",
       "      <td>-5.487300e+09</td>\n",
       "    </tr>\n",
       "    <tr>\n",
       "      <th>LKA</th>\n",
       "      <td>3.991279e+08</td>\n",
       "      <td>4.536864e+09</td>\n",
       "      <td>3.247005e+09</td>\n",
       "      <td>-9.453686e+07</td>\n",
       "    </tr>\n",
       "    <tr>\n",
       "      <th>MAR</th>\n",
       "      <td>2.476361e+08</td>\n",
       "      <td>9.377794e+09</td>\n",
       "      <td>1.889324e+09</td>\n",
       "      <td>7.454058e+09</td>\n",
       "    </tr>\n",
       "    <tr>\n",
       "      <th>MKD</th>\n",
       "      <td>7.941985e-02</td>\n",
       "      <td>1.800621e+04</td>\n",
       "      <td>1.800581e+04</td>\n",
       "      <td>1.800611e+04</td>\n",
       "    </tr>\n",
       "    <tr>\n",
       "      <th>MYS</th>\n",
       "      <td>-8.903172e+06</td>\n",
       "      <td>1.306310e+10</td>\n",
       "      <td>2.125138e+10</td>\n",
       "      <td>-8.177832e+09</td>\n",
       "    </tr>\n",
       "    <tr>\n",
       "      <th>NGA</th>\n",
       "      <td>4.310124e+10</td>\n",
       "      <td>2.344016e+11</td>\n",
       "      <td>3.059781e+10</td>\n",
       "      <td>1.553527e+11</td>\n",
       "    </tr>\n",
       "    <tr>\n",
       "      <th>NLD</th>\n",
       "      <td>-1.036427e+06</td>\n",
       "      <td>3.635894e+09</td>\n",
       "      <td>3.072647e+09</td>\n",
       "      <td>1.920124e+08</td>\n",
       "    </tr>\n",
       "    <tr>\n",
       "      <th>NZL</th>\n",
       "      <td>2.192961e+09</td>\n",
       "      <td>8.212354e+09</td>\n",
       "      <td>-9.845468e+08</td>\n",
       "      <td>6.111460e+09</td>\n",
       "    </tr>\n",
       "    <tr>\n",
       "      <th>PAN</th>\n",
       "      <td>4.407097e+08</td>\n",
       "      <td>8.746725e+04</td>\n",
       "      <td>1.217962e+08</td>\n",
       "      <td>3.443944e+09</td>\n",
       "    </tr>\n",
       "    <tr>\n",
       "      <th>PER</th>\n",
       "      <td>2.333985e+08</td>\n",
       "      <td>3.139194e+10</td>\n",
       "      <td>-2.262249e+10</td>\n",
       "      <td>3.750752e+10</td>\n",
       "    </tr>\n",
       "    <tr>\n",
       "      <th>PHL</th>\n",
       "      <td>3.676829e+09</td>\n",
       "      <td>1.399673e+10</td>\n",
       "      <td>3.419156e+09</td>\n",
       "      <td>6.900772e+09</td>\n",
       "    </tr>\n",
       "    <tr>\n",
       "      <th>PRY</th>\n",
       "      <td>1.921274e+09</td>\n",
       "      <td>2.035158e+10</td>\n",
       "      <td>7.038034e+09</td>\n",
       "      <td>9.899475e+09</td>\n",
       "    </tr>\n",
       "    <tr>\n",
       "      <th>RUS</th>\n",
       "      <td>-4.825697e+09</td>\n",
       "      <td>2.906793e+11</td>\n",
       "      <td>-6.283311e+09</td>\n",
       "      <td>1.628447e+11</td>\n",
       "    </tr>\n",
       "    <tr>\n",
       "      <th>TZA</th>\n",
       "      <td>-3.589079e+09</td>\n",
       "      <td>-1.341918e+10</td>\n",
       "      <td>-3.286002e+09</td>\n",
       "      <td>-5.425531e+09</td>\n",
       "    </tr>\n",
       "    <tr>\n",
       "      <th>UKR</th>\n",
       "      <td>7.241473e+08</td>\n",
       "      <td>6.004849e+09</td>\n",
       "      <td>1.304731e+09</td>\n",
       "      <td>3.072600e+09</td>\n",
       "    </tr>\n",
       "  </tbody>\n",
       "</table>\n",
       "</div>"
      ],
      "text/plain": [
       "              agriculture_usd_2015  grp_usd_2015  manufacturing_usd_2015  \\\n",
       "country_code                                                               \n",
       "ARG                   5.446175e+09  1.841800e+11            2.341056e+10   \n",
       "AUS                   3.827756e+09  1.312634e+11           -1.156287e+11   \n",
       "BHS                  -3.958195e-03  1.111400e+09            1.230000e+07   \n",
       "CHL                   1.064166e+08  1.982922e+10           -5.061962e+09   \n",
       "COL                   1.226958e+08  3.877744e+10           -2.590075e+09   \n",
       "EST                  -2.610651e+06  3.485741e+09            1.371738e+08   \n",
       "GEO                   1.319855e+08  2.701133e+08            1.457421e+08   \n",
       "GRC                  -5.793244e+05  2.716491e+08            3.070754e+06   \n",
       "IDN                   3.093781e+09 -1.879679e+08           -2.299134e+10   \n",
       "IND                  -3.250346e+10  3.478994e+11            9.428154e+10   \n",
       "IRN                   1.355663e+09 -4.423149e+09           -2.565775e+10   \n",
       "KAZ                   7.281530e+08  7.915945e+09            3.202990e+09   \n",
       "LKA                   3.991279e+08  4.536864e+09            3.247005e+09   \n",
       "MAR                   2.476361e+08  9.377794e+09            1.889324e+09   \n",
       "MKD                   7.941985e-02  1.800621e+04            1.800581e+04   \n",
       "MYS                  -8.903172e+06  1.306310e+10            2.125138e+10   \n",
       "NGA                   4.310124e+10  2.344016e+11            3.059781e+10   \n",
       "NLD                  -1.036427e+06  3.635894e+09            3.072647e+09   \n",
       "NZL                   2.192961e+09  8.212354e+09           -9.845468e+08   \n",
       "PAN                   4.407097e+08  8.746725e+04            1.217962e+08   \n",
       "PER                   2.333985e+08  3.139194e+10           -2.262249e+10   \n",
       "PHL                   3.676829e+09  1.399673e+10            3.419156e+09   \n",
       "PRY                   1.921274e+09  2.035158e+10            7.038034e+09   \n",
       "RUS                  -4.825697e+09  2.906793e+11           -6.283311e+09   \n",
       "TZA                  -3.589079e+09 -1.341918e+10           -3.286002e+09   \n",
       "UKR                   7.241473e+08  6.004849e+09            1.304731e+09   \n",
       "\n",
       "              services_usd_2015  \n",
       "country_code                     \n",
       "ARG                9.997425e+10  \n",
       "AUS                3.671194e+11  \n",
       "BHS               -6.310000e+07  \n",
       "CHL                3.815390e+08  \n",
       "COL                1.420072e+10  \n",
       "EST                3.103609e+08  \n",
       "GEO               -8.018212e+07  \n",
       "GRC                2.709419e+08  \n",
       "IDN               -4.470318e+09  \n",
       "IND                1.032279e+11  \n",
       "IRN                9.462633e+09  \n",
       "KAZ               -5.487300e+09  \n",
       "LKA               -9.453686e+07  \n",
       "MAR                7.454058e+09  \n",
       "MKD                1.800611e+04  \n",
       "MYS               -8.177832e+09  \n",
       "NGA                1.553527e+11  \n",
       "NLD                1.920124e+08  \n",
       "NZL                6.111460e+09  \n",
       "PAN                3.443944e+09  \n",
       "PER                3.750752e+10  \n",
       "PHL                6.900772e+09  \n",
       "PRY                9.899475e+09  \n",
       "RUS                1.628447e+11  \n",
       "TZA               -5.425531e+09  \n",
       "UKR                3.072600e+09  "
      ]
     },
     "execution_count": 156,
     "metadata": {},
     "output_type": "execute_result"
    }
   ],
   "source": [
    "incomplete_values"
   ]
  },
  {
   "cell_type": "code",
   "execution_count": 157,
   "metadata": {},
   "outputs": [
    {
     "data": {
      "text/plain": [
       "<Axes: >"
      ]
     },
     "execution_count": 157,
     "metadata": {},
     "output_type": "execute_result"
    },
    {
     "data": {
      "image/png": "[encoded data removed]",
      "text/plain": [
       "<Figure size 640x480 with 1 Axes>"
      ]
     },
     "metadata": {},
     "output_type": "display_data"
    }
   ],
   "source": [
    "incomplete_values.grp_usd_2015.hist()\n",
    "plt.show()"
   ]
  },
  {
   "cell_type": "code",
   "execution_count": 158,
   "metadata": {},
   "outputs": [
    {
     "data": {
      "text/plain": [
       "<Axes: >"
      ]
     },
     "execution_count": 158,
     "metadata": {},
     "output_type": "execute_result"
    },
    {
     "data": {
      "image/png": "[encoded data removed]",
      "text/plain": [
       "<Figure size 640x480 with 1 Axes>"
      ]
     },
     "metadata": {},
     "output_type": "display_data"
    }
   ],
   "source": [
    "incomplete_values.manufacturing_usd_2015.hist()\n",
    "plt.show()"
   ]
  },
  {
   "cell_type": "code",
   "execution_count": 159,
   "metadata": {},
   "outputs": [
    {
     "data": {
      "text/plain": [
       "<Axes: >"
      ]
     },
     "execution_count": 159,
     "metadata": {},
     "output_type": "execute_result"
    },
    {
     "data": {
      "image/png": "[encoded data removed]",
      "text/plain": [
       "<Figure size 640x480 with 1 Axes>"
      ]
     },
     "metadata": {},
     "output_type": "display_data"
    }
   ],
   "source": [
    "incomplete_values.services_usd_2015.hist()\n",
    "plt.show()"
   ]
  },
  {
   "cell_type": "code",
   "execution_count": 160,
   "metadata": {},
   "outputs": [
    {
     "data": {
      "text/plain": [
       "<Axes: >"
      ]
     },
     "execution_count": 160,
     "metadata": {},
     "output_type": "execute_result"
    },
    {
     "data": {
      "image/png": "[encoded data removed]",
      "text/plain": [
       "<Figure size 640x480 with 1 Axes>"
      ]
     },
     "metadata": {},
     "output_type": "display_data"
    }
   ],
   "source": [
    "incomplete_values.agriculture_usd_2015.hist()\n",
    "plt.show()"
   ]
  },
  {
   "cell_type": "markdown",
   "metadata": {},
   "source": [
    "## Validations\n",
    "Running some tests on the data to identify problems"
   ]
  },
  {
   "cell_type": "code",
   "execution_count": 161,
   "metadata": {
    "tags": [
     "rm_cell"
    ]
   },
   "outputs": [
    {
     "data": {
      "text/html": [
       "<div>\n",
       "<style scoped>\n",
       "    .dataframe tbody tr th:only-of-type {\n",
       "        vertical-align: middle;\n",
       "    }\n",
       "\n",
       "    .dataframe tbody tr th {\n",
       "        vertical-align: top;\n",
       "    }\n",
       "\n",
       "    .dataframe thead th {\n",
       "        text-align: right;\n",
       "    }\n",
       "</style>\n",
       "<table border=\"1\" class=\"dataframe\">\n",
       "  <thead>\n",
       "    <tr style=\"text-align: right;\">\n",
       "      <th></th>\n",
       "      <th>country</th>\n",
       "      <th>gid_0</th>\n",
       "      <th>gid_1</th>\n",
       "      <th>grp_usd_2015</th>\n",
       "      <th>services_usd_2015</th>\n",
       "      <th>manufacturing_usd_2015</th>\n",
       "      <th>agriculture_usd_2015</th>\n",
       "    </tr>\n",
       "  </thead>\n",
       "  <tbody>\n",
       "    <tr>\n",
       "      <th>541</th>\n",
       "      <td>Japan</td>\n",
       "      <td>JPN</td>\n",
       "      <td>JPN.6_1</td>\n",
       "      <td>2.691941e+10</td>\n",
       "      <td>4.667655e+10</td>\n",
       "      <td>9.590629e+09</td>\n",
       "      <td>2.389361e+08</td>\n",
       "    </tr>\n",
       "    <tr>\n",
       "      <th>550</th>\n",
       "      <td>Japan</td>\n",
       "      <td>JPN</td>\n",
       "      <td>JPN.15_1</td>\n",
       "      <td>3.795022e+10</td>\n",
       "      <td>7.542466e+10</td>\n",
       "      <td>1.279874e+10</td>\n",
       "      <td>3.448848e+08</td>\n",
       "    </tr>\n",
       "    <tr>\n",
       "      <th>578</th>\n",
       "      <td>Japan</td>\n",
       "      <td>JPN</td>\n",
       "      <td>JPN.43_1</td>\n",
       "      <td>3.756525e+10</td>\n",
       "      <td>3.440526e+10</td>\n",
       "      <td>1.566196e+10</td>\n",
       "      <td>3.688421e+08</td>\n",
       "    </tr>\n",
       "    <tr>\n",
       "      <th>1116</th>\n",
       "      <td>South Korea</td>\n",
       "      <td>KOR</td>\n",
       "      <td>KOR.1_1</td>\n",
       "      <td>6.779726e+10</td>\n",
       "      <td>4.883196e+10</td>\n",
       "      <td>2.551033e+10</td>\n",
       "      <td>3.458617e+08</td>\n",
       "    </tr>\n",
       "    <tr>\n",
       "      <th>1119</th>\n",
       "      <td>South Korea</td>\n",
       "      <td>KOR</td>\n",
       "      <td>KOR.4_1</td>\n",
       "      <td>4.257775e+10</td>\n",
       "      <td>2.994070e+10</td>\n",
       "      <td>2.517811e+10</td>\n",
       "      <td>2.207288e+08</td>\n",
       "    </tr>\n",
       "    <tr>\n",
       "      <th>1122</th>\n",
       "      <td>South Korea</td>\n",
       "      <td>KOR</td>\n",
       "      <td>KOR.7_1</td>\n",
       "      <td>2.867021e+10</td>\n",
       "      <td>1.893307e+10</td>\n",
       "      <td>3.734052e+10</td>\n",
       "      <td>1.425761e+08</td>\n",
       "    </tr>\n",
       "    <tr>\n",
       "      <th>1124</th>\n",
       "      <td>South Korea</td>\n",
       "      <td>KOR</td>\n",
       "      <td>KOR.9_1</td>\n",
       "      <td>8.624658e+10</td>\n",
       "      <td>3.173980e+10</td>\n",
       "      <td>1.353713e+11</td>\n",
       "      <td>3.113129e+09</td>\n",
       "    </tr>\n",
       "    <tr>\n",
       "      <th>1127</th>\n",
       "      <td>South Korea</td>\n",
       "      <td>KOR</td>\n",
       "      <td>KOR.12_1</td>\n",
       "      <td>1.375481e+10</td>\n",
       "      <td>9.949754e+09</td>\n",
       "      <td>5.067870e+10</td>\n",
       "      <td>3.974607e+09</td>\n",
       "    </tr>\n",
       "    <tr>\n",
       "      <th>1130</th>\n",
       "      <td>South Korea</td>\n",
       "      <td>KOR</td>\n",
       "      <td>KOR.15_1</td>\n",
       "      <td>7.529369e+09</td>\n",
       "      <td>3.825910e+09</td>\n",
       "      <td>4.966091e+10</td>\n",
       "      <td>4.845865e+09</td>\n",
       "    </tr>\n",
       "    <tr>\n",
       "      <th>1607</th>\n",
       "      <td>Kuwait</td>\n",
       "      <td>KWT</td>\n",
       "      <td>KWT</td>\n",
       "      <td>1.145856e+11</td>\n",
       "      <td>6.696191e+10</td>\n",
       "      <td>6.409440e+10</td>\n",
       "      <td>6.161598e+08</td>\n",
       "    </tr>\n",
       "    <tr>\n",
       "      <th>1612</th>\n",
       "      <td>Libya</td>\n",
       "      <td>LBY</td>\n",
       "      <td>LBY</td>\n",
       "      <td>4.871750e+10</td>\n",
       "      <td>3.529398e+10</td>\n",
       "      <td>1.696780e+10</td>\n",
       "      <td>2.136894e+09</td>\n",
       "    </tr>\n",
       "  </tbody>\n",
       "</table>\n",
       "</div>"
      ],
      "text/plain": [
       "          country gid_0     gid_1  grp_usd_2015  services_usd_2015  \\\n",
       "541         Japan   JPN   JPN.6_1  2.691941e+10       4.667655e+10   \n",
       "550         Japan   JPN  JPN.15_1  3.795022e+10       7.542466e+10   \n",
       "578         Japan   JPN  JPN.43_1  3.756525e+10       3.440526e+10   \n",
       "1116  South Korea   KOR   KOR.1_1  6.779726e+10       4.883196e+10   \n",
       "1119  South Korea   KOR   KOR.4_1  4.257775e+10       2.994070e+10   \n",
       "1122  South Korea   KOR   KOR.7_1  2.867021e+10       1.893307e+10   \n",
       "1124  South Korea   KOR   KOR.9_1  8.624658e+10       3.173980e+10   \n",
       "1127  South Korea   KOR  KOR.12_1  1.375481e+10       9.949754e+09   \n",
       "1130  South Korea   KOR  KOR.15_1  7.529369e+09       3.825910e+09   \n",
       "1607       Kuwait   KWT       KWT  1.145856e+11       6.696191e+10   \n",
       "1612        Libya   LBY       LBY  4.871750e+10       3.529398e+10   \n",
       "\n",
       "      manufacturing_usd_2015  agriculture_usd_2015  \n",
       "541             9.590629e+09          2.389361e+08  \n",
       "550             1.279874e+10          3.448848e+08  \n",
       "578             1.566196e+10          3.688421e+08  \n",
       "1116            2.551033e+10          3.458617e+08  \n",
       "1119            2.517811e+10          2.207288e+08  \n",
       "1122            3.734052e+10          1.425761e+08  \n",
       "1124            1.353713e+11          3.113129e+09  \n",
       "1127            5.067870e+10          3.974607e+09  \n",
       "1130            4.966091e+10          4.845865e+09  \n",
       "1607            6.409440e+10          6.161598e+08  \n",
       "1612            1.696780e+10          2.136894e+09  "
      ]
     },
     "execution_count": 161,
     "metadata": {},
     "output_type": "execute_result"
    }
   ],
   "source": [
    "dose_light_combined[((dose_light_combined[\"manufacturing_usd_2015\"]+dose_light_combined[\"services_usd_2015\"]+dose_light_combined[\"agriculture_usd_2015\"])/dose_light_combined[\"grp_usd_2015\"])>1.1]"
   ]
  },
  {
   "cell_type": "code",
   "execution_count": 162,
   "metadata": {
    "tags": [
     "rm_cell"
    ]
   },
   "outputs": [
    {
     "data": {
      "image/png": "[encoded data removed]",
      "text/plain": [
       "<Figure size 640x480 with 1 Axes>"
      ]
     },
     "metadata": {},
     "output_type": "display_data"
    }
   ],
   "source": [
    "((dose_light_combined[\"grp_usd_2015\"]-dose_light_combined[\"manufacturing_usd_2015\"]-dose_light_combined[\"services_usd_2015\"]-dose_light_combined[\"agriculture_usd_2015\"])/dose_light_combined[\"grp_usd_2015\"]).hist()\n",
    "plt.show()"
   ]
  },
  {
   "cell_type": "code",
   "execution_count": 163,
   "metadata": {
    "tags": [
     "rm_cell"
    ]
   },
   "outputs": [
    {
     "data": {
      "text/html": [
       "<div>\n",
       "<style scoped>\n",
       "    .dataframe tbody tr th:only-of-type {\n",
       "        vertical-align: middle;\n",
       "    }\n",
       "\n",
       "    .dataframe tbody tr th {\n",
       "        vertical-align: top;\n",
       "    }\n",
       "\n",
       "    .dataframe thead th {\n",
       "        text-align: right;\n",
       "    }\n",
       "</style>\n",
       "<table border=\"1\" class=\"dataframe\">\n",
       "  <thead>\n",
       "    <tr style=\"text-align: right;\">\n",
       "      <th></th>\n",
       "      <th>country</th>\n",
       "      <th>country_code</th>\n",
       "      <th>agriculture_usd_2015</th>\n",
       "      <th>grp_usd_2015</th>\n",
       "      <th>gdp_cap</th>\n",
       "      <th>manufacturing_usd_2015</th>\n",
       "      <th>services_usd_2015</th>\n",
       "    </tr>\n",
       "  </thead>\n",
       "  <tbody>\n",
       "    <tr>\n",
       "      <th>0</th>\n",
       "      <td>Afghanistan</td>\n",
       "      <td>AFG</td>\n",
       "      <td>3.948217e+09</td>\n",
       "      <td>1.913422e+10</td>\n",
       "      <td>566.881130</td>\n",
       "      <td>4.233263e+09</td>\n",
       "      <td>1.018616e+10</td>\n",
       "    </tr>\n",
       "    <tr>\n",
       "      <th>1</th>\n",
       "      <td>Algeria</td>\n",
       "      <td>DZA</td>\n",
       "      <td>1.974833e+10</td>\n",
       "      <td>1.874939e+11</td>\n",
       "      <td>4741.499770</td>\n",
       "      <td>6.141643e+10</td>\n",
       "      <td>9.770374e+10</td>\n",
       "    </tr>\n",
       "    <tr>\n",
       "      <th>2</th>\n",
       "      <td>American Samoa</td>\n",
       "      <td>ASM</td>\n",
       "      <td>NaN</td>\n",
       "      <td>6.730000e+08</td>\n",
       "      <td>13101.541816</td>\n",
       "      <td>NaN</td>\n",
       "      <td>NaN</td>\n",
       "    </tr>\n",
       "  </tbody>\n",
       "</table>\n",
       "</div>"
      ],
      "text/plain": [
       "          country country_code  agriculture_usd_2015  grp_usd_2015  \\\n",
       "0     Afghanistan          AFG          3.948217e+09  1.913422e+10   \n",
       "1         Algeria          DZA          1.974833e+10  1.874939e+11   \n",
       "2  American Samoa          ASM                   NaN  6.730000e+08   \n",
       "\n",
       "        gdp_cap  manufacturing_usd_2015  services_usd_2015  \n",
       "0    566.881130            4.233263e+09       1.018616e+10  \n",
       "1   4741.499770            6.141643e+10       9.770374e+10  \n",
       "2  13101.541816                     NaN                NaN  "
      ]
     },
     "execution_count": 163,
     "metadata": {},
     "output_type": "execute_result"
    }
   ],
   "source": [
    "# dose_light.head(3)\n",
    "wdi_df_var.head(3)"
   ]
  },
  {
   "cell_type": "code",
   "execution_count": 164,
   "metadata": {
    "tags": [
     "rm_cell"
    ]
   },
   "outputs": [
    {
     "data": {
      "text/html": [
       "<div>\n",
       "<style scoped>\n",
       "    .dataframe tbody tr th:only-of-type {\n",
       "        vertical-align: middle;\n",
       "    }\n",
       "\n",
       "    .dataframe tbody tr th {\n",
       "        vertical-align: top;\n",
       "    }\n",
       "\n",
       "    .dataframe thead th {\n",
       "        text-align: right;\n",
       "    }\n",
       "</style>\n",
       "<table border=\"1\" class=\"dataframe\">\n",
       "  <thead>\n",
       "    <tr style=\"text-align: right;\">\n",
       "      <th></th>\n",
       "      <th>country</th>\n",
       "      <th>gid_0</th>\n",
       "      <th>gid_1</th>\n",
       "      <th>grp_usd_2015</th>\n",
       "      <th>services_usd_2015</th>\n",
       "      <th>manufacturing_usd_2015</th>\n",
       "      <th>agriculture_usd_2015</th>\n",
       "    </tr>\n",
       "  </thead>\n",
       "  <tbody>\n",
       "    <tr>\n",
       "      <th>0</th>\n",
       "      <td>Albania</td>\n",
       "      <td>ALB</td>\n",
       "      <td>ALB.1_1</td>\n",
       "      <td>4.341915e+08</td>\n",
       "      <td>2.009631e+08</td>\n",
       "      <td>9.449606e+07</td>\n",
       "      <td>8.588401e+07</td>\n",
       "    </tr>\n",
       "    <tr>\n",
       "      <th>1</th>\n",
       "      <td>Albania</td>\n",
       "      <td>ALB</td>\n",
       "      <td>ALB.2_1</td>\n",
       "      <td>3.719427e+08</td>\n",
       "      <td>1.721516e+08</td>\n",
       "      <td>8.094841e+07</td>\n",
       "      <td>7.357106e+07</td>\n",
       "    </tr>\n",
       "    <tr>\n",
       "      <th>2</th>\n",
       "      <td>Albania</td>\n",
       "      <td>ALB</td>\n",
       "      <td>ALB.3_1</td>\n",
       "      <td>1.113524e+09</td>\n",
       "      <td>5.153885e+08</td>\n",
       "      <td>2.423439e+08</td>\n",
       "      <td>2.202575e+08</td>\n",
       "    </tr>\n",
       "    <tr>\n",
       "      <th>3</th>\n",
       "      <td>Albania</td>\n",
       "      <td>ALB</td>\n",
       "      <td>ALB.4_1</td>\n",
       "      <td>7.954835e+08</td>\n",
       "      <td>3.681851e+08</td>\n",
       "      <td>1.731265e+08</td>\n",
       "      <td>1.573483e+08</td>\n",
       "    </tr>\n",
       "    <tr>\n",
       "      <th>4</th>\n",
       "      <td>Albania</td>\n",
       "      <td>ALB</td>\n",
       "      <td>ALB.5_1</td>\n",
       "      <td>1.345159e+09</td>\n",
       "      <td>6.225993e+08</td>\n",
       "      <td>2.927561e+08</td>\n",
       "      <td>2.660753e+08</td>\n",
       "    </tr>\n",
       "    <tr>\n",
       "      <th>...</th>\n",
       "      <td>...</td>\n",
       "      <td>...</td>\n",
       "      <td>...</td>\n",
       "      <td>...</td>\n",
       "      <td>...</td>\n",
       "      <td>...</td>\n",
       "      <td>...</td>\n",
       "    </tr>\n",
       "    <tr>\n",
       "      <th>1543</th>\n",
       "      <td>Vietnam</td>\n",
       "      <td>VNM</td>\n",
       "      <td>VNM.16_1</td>\n",
       "      <td>9.437463e+08</td>\n",
       "      <td>2.968536e+08</td>\n",
       "      <td>1.331486e+08</td>\n",
       "      <td>4.877044e+08</td>\n",
       "    </tr>\n",
       "    <tr>\n",
       "      <th>1544</th>\n",
       "      <td>Vietnam</td>\n",
       "      <td>VNM</td>\n",
       "      <td>VNM.15_1</td>\n",
       "      <td>2.639374e+09</td>\n",
       "      <td>1.107037e+09</td>\n",
       "      <td>3.491636e+08</td>\n",
       "      <td>1.123582e+09</td>\n",
       "    </tr>\n",
       "    <tr>\n",
       "      <th>1545</th>\n",
       "      <td>Vietnam</td>\n",
       "      <td>VNM</td>\n",
       "      <td>VNM.17_1</td>\n",
       "      <td>1.051774e+10</td>\n",
       "      <td>2.348005e+09</td>\n",
       "      <td>6.212079e+09</td>\n",
       "      <td>1.013385e+09</td>\n",
       "    </tr>\n",
       "    <tr>\n",
       "      <th>1546</th>\n",
       "      <td>Vietnam</td>\n",
       "      <td>VNM</td>\n",
       "      <td>VNM.18_1</td>\n",
       "      <td>2.395983e+09</td>\n",
       "      <td>9.377088e+08</td>\n",
       "      <td>5.723222e+08</td>\n",
       "      <td>9.495074e+08</td>\n",
       "    </tr>\n",
       "    <tr>\n",
       "      <th>1547</th>\n",
       "      <td>Morocco</td>\n",
       "      <td>MAR</td>\n",
       "      <td>MAR.22_1</td>\n",
       "      <td>4.857364e+09</td>\n",
       "      <td>2.481784e+09</td>\n",
       "      <td>9.500890e+08</td>\n",
       "      <td>7.088030e+08</td>\n",
       "    </tr>\n",
       "  </tbody>\n",
       "</table>\n",
       "<p>1548 rows × 7 columns</p>\n",
       "</div>"
      ],
      "text/plain": [
       "      country gid_0     gid_1  grp_usd_2015  services_usd_2015  \\\n",
       "0     Albania   ALB   ALB.1_1  4.341915e+08       2.009631e+08   \n",
       "1     Albania   ALB   ALB.2_1  3.719427e+08       1.721516e+08   \n",
       "2     Albania   ALB   ALB.3_1  1.113524e+09       5.153885e+08   \n",
       "3     Albania   ALB   ALB.4_1  7.954835e+08       3.681851e+08   \n",
       "4     Albania   ALB   ALB.5_1  1.345159e+09       6.225993e+08   \n",
       "...       ...   ...       ...           ...                ...   \n",
       "1543  Vietnam   VNM  VNM.16_1  9.437463e+08       2.968536e+08   \n",
       "1544  Vietnam   VNM  VNM.15_1  2.639374e+09       1.107037e+09   \n",
       "1545  Vietnam   VNM  VNM.17_1  1.051774e+10       2.348005e+09   \n",
       "1546  Vietnam   VNM  VNM.18_1  2.395983e+09       9.377088e+08   \n",
       "1547  Morocco   MAR  MAR.22_1  4.857364e+09       2.481784e+09   \n",
       "\n",
       "      manufacturing_usd_2015  agriculture_usd_2015  \n",
       "0               9.449606e+07          8.588401e+07  \n",
       "1               8.094841e+07          7.357106e+07  \n",
       "2               2.423439e+08          2.202575e+08  \n",
       "3               1.731265e+08          1.573483e+08  \n",
       "4               2.927561e+08          2.660753e+08  \n",
       "...                      ...                   ...  \n",
       "1543            1.331486e+08          4.877044e+08  \n",
       "1544            3.491636e+08          1.123582e+09  \n",
       "1545            6.212079e+09          1.013385e+09  \n",
       "1546            5.723222e+08          9.495074e+08  \n",
       "1547            9.500890e+08          7.088030e+08  \n",
       "\n",
       "[1548 rows x 7 columns]"
      ]
     },
     "execution_count": 164,
     "metadata": {},
     "output_type": "execute_result"
    }
   ],
   "source": [
    "dose_light"
   ]
  },
  {
   "cell_type": "code",
   "execution_count": 165,
   "metadata": {
    "tags": [
     "rm_cell"
    ]
   },
   "outputs": [
    {
     "name": "stdout",
     "output_type": "stream",
     "text": [
      "(0, 7)\n"
     ]
    },
    {
     "data": {
      "text/html": [
       "<div>\n",
       "<style scoped>\n",
       "    .dataframe tbody tr th:only-of-type {\n",
       "        vertical-align: middle;\n",
       "    }\n",
       "\n",
       "    .dataframe tbody tr th {\n",
       "        vertical-align: top;\n",
       "    }\n",
       "\n",
       "    .dataframe thead th {\n",
       "        text-align: right;\n",
       "    }\n",
       "</style>\n",
       "<table border=\"1\" class=\"dataframe\">\n",
       "  <thead>\n",
       "    <tr style=\"text-align: right;\">\n",
       "      <th></th>\n",
       "      <th>country</th>\n",
       "      <th>country_code</th>\n",
       "      <th>agriculture_usd_2015</th>\n",
       "      <th>grp_usd_2015</th>\n",
       "      <th>gdp_cap</th>\n",
       "      <th>manufacturing_usd_2015</th>\n",
       "      <th>services_usd_2015</th>\n",
       "    </tr>\n",
       "  </thead>\n",
       "  <tbody>\n",
       "    <tr>\n",
       "      <th>0</th>\n",
       "      <td>Afghanistan</td>\n",
       "      <td>AFG</td>\n",
       "      <td>3.948217e+09</td>\n",
       "      <td>1.913422e+10</td>\n",
       "      <td>566.881130</td>\n",
       "      <td>4.233263e+09</td>\n",
       "      <td>1.018616e+10</td>\n",
       "    </tr>\n",
       "    <tr>\n",
       "      <th>1</th>\n",
       "      <td>Algeria</td>\n",
       "      <td>DZA</td>\n",
       "      <td>1.974833e+10</td>\n",
       "      <td>1.874939e+11</td>\n",
       "      <td>4741.499770</td>\n",
       "      <td>6.141643e+10</td>\n",
       "      <td>9.770374e+10</td>\n",
       "    </tr>\n",
       "    <tr>\n",
       "      <th>2</th>\n",
       "      <td>American Samoa</td>\n",
       "      <td>ASM</td>\n",
       "      <td>NaN</td>\n",
       "      <td>6.730000e+08</td>\n",
       "      <td>13101.541816</td>\n",
       "      <td>NaN</td>\n",
       "      <td>NaN</td>\n",
       "    </tr>\n",
       "    <tr>\n",
       "      <th>3</th>\n",
       "      <td>Andorra</td>\n",
       "      <td>AND</td>\n",
       "      <td>1.432381e+07</td>\n",
       "      <td>2.789881e+09</td>\n",
       "      <td>38885.530322</td>\n",
       "      <td>2.784655e+08</td>\n",
       "      <td>2.194727e+09</td>\n",
       "    </tr>\n",
       "    <tr>\n",
       "      <th>4</th>\n",
       "      <td>Angola</td>\n",
       "      <td>AGO</td>\n",
       "      <td>8.255567e+09</td>\n",
       "      <td>9.049642e+10</td>\n",
       "      <td>3217.339240</td>\n",
       "      <td>3.794795e+10</td>\n",
       "      <td>4.403546e+10</td>\n",
       "    </tr>\n",
       "  </tbody>\n",
       "</table>\n",
       "</div>"
      ],
      "text/plain": [
       "          country country_code  agriculture_usd_2015  grp_usd_2015  \\\n",
       "0     Afghanistan          AFG          3.948217e+09  1.913422e+10   \n",
       "1         Algeria          DZA          1.974833e+10  1.874939e+11   \n",
       "2  American Samoa          ASM                   NaN  6.730000e+08   \n",
       "3         Andorra          AND          1.432381e+07  2.789881e+09   \n",
       "4          Angola          AGO          8.255567e+09  9.049642e+10   \n",
       "\n",
       "        gdp_cap  manufacturing_usd_2015  services_usd_2015  \n",
       "0    566.881130            4.233263e+09       1.018616e+10  \n",
       "1   4741.499770            6.141643e+10       9.770374e+10  \n",
       "2  13101.541816                     NaN                NaN  \n",
       "3  38885.530322            2.784655e+08       2.194727e+09  \n",
       "4   3217.339240            3.794795e+10       4.403546e+10  "
      ]
     },
     "execution_count": 165,
     "metadata": {},
     "output_type": "execute_result"
    }
   ],
   "source": [
    "print(wdi_df_var[wdi_df_var[\"grp_usd_2015\"].isna()].shape)\n",
    "wdi_df_var.reset_index(inplace=True,drop=True)\n",
    "wdi_df_var.head()"
   ]
  },
  {
   "cell_type": "code",
   "execution_count": 166,
   "metadata": {
    "tags": [
     "rm_cell"
    ]
   },
   "outputs": [
    {
     "data": {
      "text/html": [
       "<div>\n",
       "<style scoped>\n",
       "    .dataframe tbody tr th:only-of-type {\n",
       "        vertical-align: middle;\n",
       "    }\n",
       "\n",
       "    .dataframe tbody tr th {\n",
       "        vertical-align: top;\n",
       "    }\n",
       "\n",
       "    .dataframe thead th {\n",
       "        text-align: right;\n",
       "    }\n",
       "</style>\n",
       "<table border=\"1\" class=\"dataframe\">\n",
       "  <thead>\n",
       "    <tr style=\"text-align: right;\">\n",
       "      <th></th>\n",
       "      <th>grp_usd_2015_dose</th>\n",
       "      <th>country</th>\n",
       "      <th>country_code</th>\n",
       "      <th>grp_usd_2015_wdi</th>\n",
       "    </tr>\n",
       "  </thead>\n",
       "  <tbody>\n",
       "    <tr>\n",
       "      <th>0</th>\n",
       "      <td>1.138692e+10</td>\n",
       "      <td>Albania</td>\n",
       "      <td>ALB</td>\n",
       "      <td>1.138685e+10</td>\n",
       "    </tr>\n",
       "    <tr>\n",
       "      <th>1</th>\n",
       "      <td>6.470000e+08</td>\n",
       "      <td>NaN</td>\n",
       "      <td>NaN</td>\n",
       "      <td>NaN</td>\n",
       "    </tr>\n",
       "    <tr>\n",
       "      <th>2</th>\n",
       "      <td>4.105693e+11</td>\n",
       "      <td>Argentina</td>\n",
       "      <td>ARG</td>\n",
       "      <td>5.947493e+11</td>\n",
       "    </tr>\n",
       "    <tr>\n",
       "      <th>3</th>\n",
       "      <td>1.220506e+12</td>\n",
       "      <td>Australia</td>\n",
       "      <td>AUS</td>\n",
       "      <td>1.351769e+12</td>\n",
       "    </tr>\n",
       "    <tr>\n",
       "      <th>4</th>\n",
       "      <td>3.818610e+11</td>\n",
       "      <td>Austria</td>\n",
       "      <td>AUT</td>\n",
       "      <td>3.819711e+11</td>\n",
       "    </tr>\n",
       "    <tr>\n",
       "      <th>...</th>\n",
       "      <td>...</td>\n",
       "      <td>...</td>\n",
       "      <td>...</td>\n",
       "      <td>...</td>\n",
       "    </tr>\n",
       "    <tr>\n",
       "      <th>70</th>\n",
       "      <td>8.502612e+10</td>\n",
       "      <td>Ukraine</td>\n",
       "      <td>UKR</td>\n",
       "      <td>9.103097e+10</td>\n",
       "    </tr>\n",
       "    <tr>\n",
       "      <th>71</th>\n",
       "      <td>1.812635e+13</td>\n",
       "      <td>United States</td>\n",
       "      <td>USA</td>\n",
       "      <td>1.829502e+13</td>\n",
       "    </tr>\n",
       "    <tr>\n",
       "      <th>72</th>\n",
       "      <td>7.408962e+10</td>\n",
       "      <td>Uzbekistan</td>\n",
       "      <td>UZB</td>\n",
       "      <td>8.619626e+10</td>\n",
       "    </tr>\n",
       "    <tr>\n",
       "      <th>73</th>\n",
       "      <td>2.224252e+11</td>\n",
       "      <td>Viet Nam</td>\n",
       "      <td>VNM</td>\n",
       "      <td>2.392583e+11</td>\n",
       "    </tr>\n",
       "    <tr>\n",
       "      <th>74</th>\n",
       "      <td>3.173975e+11</td>\n",
       "      <td>South Africa</td>\n",
       "      <td>ZAF</td>\n",
       "      <td>3.467098e+11</td>\n",
       "    </tr>\n",
       "  </tbody>\n",
       "</table>\n",
       "<p>75 rows × 4 columns</p>\n",
       "</div>"
      ],
      "text/plain": [
       "    grp_usd_2015_dose        country country_code  grp_usd_2015_wdi\n",
       "0        1.138692e+10        Albania          ALB      1.138685e+10\n",
       "1        6.470000e+08            NaN          NaN               NaN\n",
       "2        4.105693e+11      Argentina          ARG      5.947493e+11\n",
       "3        1.220506e+12      Australia          AUS      1.351769e+12\n",
       "4        3.818610e+11        Austria          AUT      3.819711e+11\n",
       "..                ...            ...          ...               ...\n",
       "70       8.502612e+10        Ukraine          UKR      9.103097e+10\n",
       "71       1.812635e+13  United States          USA      1.829502e+13\n",
       "72       7.408962e+10     Uzbekistan          UZB      8.619626e+10\n",
       "73       2.224252e+11       Viet Nam          VNM      2.392583e+11\n",
       "74       3.173975e+11   South Africa          ZAF      3.467098e+11\n",
       "\n",
       "[75 rows x 4 columns]"
      ]
     },
     "execution_count": 166,
     "metadata": {},
     "output_type": "execute_result"
    }
   ],
   "source": [
    "val = (dose_light[[\"gid_0\",\"grp_usd_2015\"]]\n",
    "    .groupby(\"gid_0\").sum()\n",
    "    .merge(wdi_df_full[[\"country\",\"country_code\",\"grp_usd_2015\"]],how=\"left\",left_on=\"gid_0\",right_on=\"country_code\",suffixes=(\"_dose\",\"_wdi\")))\n",
    "val"
   ]
  },
  {
   "cell_type": "code",
   "execution_count": 167,
   "metadata": {
    "tags": [
     "rm_cell"
    ]
   },
   "outputs": [
    {
     "data": {
      "text/plain": [
       "<Axes: >"
      ]
     },
     "execution_count": 167,
     "metadata": {},
     "output_type": "execute_result"
    },
    {
     "data": {
      "image/png": "[encoded data removed]",
      "text/plain": [
       "<Figure size 640x480 with 1 Axes>"
      ]
     },
     "metadata": {},
     "output_type": "display_data"
    }
   ],
   "source": [
    "# The wdi GDP data tends to be greater that the DOSE value which makes some sens as it is supposed to have more sectors. \n",
    "(val[\"grp_usd_2015_wdi\"]-val[\"grp_usd_2015_dose\"]).hist(bins=15) # .apply(np.log1p)"
   ]
  },
  {
   "cell_type": "code",
   "execution_count": 168,
   "metadata": {
    "tags": [
     "rm_cell"
    ]
   },
   "outputs": [
    {
     "data": {
      "text/plain": [
       "<Axes: >"
      ]
     },
     "execution_count": 168,
     "metadata": {},
     "output_type": "execute_result"
    },
    {
     "data": {
      "image/png": "[encoded data removed]",
      "text/plain": [
       "<Figure size 640x480 with 1 Axes>"
      ]
     },
     "metadata": {},
     "output_type": "display_data"
    }
   ],
   "source": [
    "abs_diff = (np.abs(val[\"grp_usd_2015_wdi\"]-val[\"grp_usd_2015_dose\"])/val[\"grp_usd_2015_dose\"])#.isna()#.hist(bins=15)\n",
    "\n",
    "# we aim to cluster all the values close to 0\n",
    "abs_diff.hist(bins=10)"
   ]
  },
  {
   "cell_type": "code",
   "execution_count": 169,
   "metadata": {
    "tags": [
     "rm_cell"
    ]
   },
   "outputs": [
    {
     "data": {
      "text/html": [
       "<div>\n",
       "<style scoped>\n",
       "    .dataframe tbody tr th:only-of-type {\n",
       "        vertical-align: middle;\n",
       "    }\n",
       "\n",
       "    .dataframe tbody tr th {\n",
       "        vertical-align: top;\n",
       "    }\n",
       "\n",
       "    .dataframe thead th {\n",
       "        text-align: right;\n",
       "    }\n",
       "</style>\n",
       "<table border=\"1\" class=\"dataframe\">\n",
       "  <thead>\n",
       "    <tr style=\"text-align: right;\">\n",
       "      <th></th>\n",
       "      <th>grp_usd_2015_dose</th>\n",
       "      <th>country</th>\n",
       "      <th>country_code</th>\n",
       "      <th>grp_usd_2015_wdi</th>\n",
       "    </tr>\n",
       "  </thead>\n",
       "  <tbody>\n",
       "    <tr>\n",
       "      <th>2</th>\n",
       "      <td>4.105693e+11</td>\n",
       "      <td>Argentina</td>\n",
       "      <td>ARG</td>\n",
       "      <td>5.947493e+11</td>\n",
       "    </tr>\n",
       "    <tr>\n",
       "      <th>7</th>\n",
       "      <td>4.370948e+10</td>\n",
       "      <td>Bulgaria</td>\n",
       "      <td>BGR</td>\n",
       "      <td>5.081200e+10</td>\n",
       "    </tr>\n",
       "    <tr>\n",
       "      <th>10</th>\n",
       "      <td>4.164175e+10</td>\n",
       "      <td>Belarus</td>\n",
       "      <td>BLR</td>\n",
       "      <td>5.645489e+10</td>\n",
       "    </tr>\n",
       "    <tr>\n",
       "      <th>17</th>\n",
       "      <td>2.547149e+11</td>\n",
       "      <td>Colombia</td>\n",
       "      <td>COL</td>\n",
       "      <td>2.934924e+11</td>\n",
       "    </tr>\n",
       "    <tr>\n",
       "      <th>20</th>\n",
       "      <td>2.574787e+11</td>\n",
       "      <td>Denmark</td>\n",
       "      <td>DNK</td>\n",
       "      <td>3.026731e+11</td>\n",
       "    </tr>\n",
       "    <tr>\n",
       "      <th>24</th>\n",
       "      <td>1.940502e+10</td>\n",
       "      <td>Estonia</td>\n",
       "      <td>EST</td>\n",
       "      <td>2.289076e+10</td>\n",
       "    </tr>\n",
       "    <tr>\n",
       "      <th>25</th>\n",
       "      <td>1.829793e+11</td>\n",
       "      <td>Finland</td>\n",
       "      <td>FIN</td>\n",
       "      <td>2.345344e+11</td>\n",
       "    </tr>\n",
       "    <tr>\n",
       "      <th>33</th>\n",
       "      <td>1.755689e+12</td>\n",
       "      <td>India</td>\n",
       "      <td>IND</td>\n",
       "      <td>2.103588e+12</td>\n",
       "    </tr>\n",
       "    <tr>\n",
       "      <th>34</th>\n",
       "      <td>1.023588e+11</td>\n",
       "      <td>Ireland</td>\n",
       "      <td>IRL</td>\n",
       "      <td>2.923642e+11</td>\n",
       "    </tr>\n",
       "    <tr>\n",
       "      <th>39</th>\n",
       "      <td>5.831810e+10</td>\n",
       "      <td>Kenya</td>\n",
       "      <td>KEN</td>\n",
       "      <td>7.012045e+10</td>\n",
       "    </tr>\n",
       "    <tr>\n",
       "      <th>51</th>\n",
       "      <td>2.586251e+11</td>\n",
       "      <td>Nigeria</td>\n",
       "      <td>NGA</td>\n",
       "      <td>4.930267e+11</td>\n",
       "    </tr>\n",
       "    <tr>\n",
       "      <th>53</th>\n",
       "      <td>3.256829e+11</td>\n",
       "      <td>Norway</td>\n",
       "      <td>NOR</td>\n",
       "      <td>3.881595e+11</td>\n",
       "    </tr>\n",
       "    <tr>\n",
       "      <th>56</th>\n",
       "      <td>1.584110e+11</td>\n",
       "      <td>Peru</td>\n",
       "      <td>PER</td>\n",
       "      <td>1.898030e+11</td>\n",
       "    </tr>\n",
       "    <tr>\n",
       "      <th>59</th>\n",
       "      <td>1.526096e+11</td>\n",
       "      <td>Portugal</td>\n",
       "      <td>PRT</td>\n",
       "      <td>1.993941e+11</td>\n",
       "    </tr>\n",
       "    <tr>\n",
       "      <th>60</th>\n",
       "      <td>1.585987e+10</td>\n",
       "      <td>Paraguay</td>\n",
       "      <td>PRY</td>\n",
       "      <td>3.621145e+10</td>\n",
       "    </tr>\n",
       "    <tr>\n",
       "      <th>62</th>\n",
       "      <td>1.072803e+12</td>\n",
       "      <td>Russian Federation</td>\n",
       "      <td>RUS</td>\n",
       "      <td>1.363482e+12</td>\n",
       "    </tr>\n",
       "    <tr>\n",
       "      <th>69</th>\n",
       "      <td>6.083310e+10</td>\n",
       "      <td>Tanzania</td>\n",
       "      <td>TZA</td>\n",
       "      <td>4.741392e+10</td>\n",
       "    </tr>\n",
       "    <tr>\n",
       "      <th>72</th>\n",
       "      <td>7.408962e+10</td>\n",
       "      <td>Uzbekistan</td>\n",
       "      <td>UZB</td>\n",
       "      <td>8.619626e+10</td>\n",
       "    </tr>\n",
       "  </tbody>\n",
       "</table>\n",
       "</div>"
      ],
      "text/plain": [
       "    grp_usd_2015_dose             country country_code  grp_usd_2015_wdi\n",
       "2        4.105693e+11           Argentina          ARG      5.947493e+11\n",
       "7        4.370948e+10            Bulgaria          BGR      5.081200e+10\n",
       "10       4.164175e+10             Belarus          BLR      5.645489e+10\n",
       "17       2.547149e+11            Colombia          COL      2.934924e+11\n",
       "20       2.574787e+11             Denmark          DNK      3.026731e+11\n",
       "24       1.940502e+10             Estonia          EST      2.289076e+10\n",
       "25       1.829793e+11             Finland          FIN      2.345344e+11\n",
       "33       1.755689e+12               India          IND      2.103588e+12\n",
       "34       1.023588e+11             Ireland          IRL      2.923642e+11\n",
       "39       5.831810e+10               Kenya          KEN      7.012045e+10\n",
       "51       2.586251e+11             Nigeria          NGA      4.930267e+11\n",
       "53       3.256829e+11              Norway          NOR      3.881595e+11\n",
       "56       1.584110e+11                Peru          PER      1.898030e+11\n",
       "59       1.526096e+11            Portugal          PRT      1.993941e+11\n",
       "60       1.585987e+10            Paraguay          PRY      3.621145e+10\n",
       "62       1.072803e+12  Russian Federation          RUS      1.363482e+12\n",
       "69       6.083310e+10            Tanzania          TZA      4.741392e+10\n",
       "72       7.408962e+10          Uzbekistan          UZB      8.619626e+10"
      ]
     },
     "execution_count": 169,
     "metadata": {},
     "output_type": "execute_result"
    }
   ],
   "source": [
    "val.loc[(np.abs(val[\"grp_usd_2015_wdi\"]-val[\"grp_usd_2015_dose\"])/val[\"grp_usd_2015_dose\"]) > .15,]"
   ]
  },
  {
   "cell_type": "markdown",
   "metadata": {},
   "source": [
    "## Saving the combined file."
   ]
  },
  {
   "cell_type": "code",
   "execution_count": 170,
   "metadata": {},
   "outputs": [
    {
     "data": {
      "text/plain": [
       "'../datasets/local_data/dose-wdi/0_3/dose_light_combined_2015_0_3.csv'"
      ]
     },
     "execution_count": 170,
     "metadata": {},
     "output_type": "execute_result"
    }
   ],
   "source": [
    "import os\n",
    "\n",
    "version = \"0_3\"\n",
    "\n",
    "dir_name = f\"../datasets/local_data/dose-wdi/\"\n",
    "\n",
    "filename_dose_light = f\"{dir_name}{version}/dose_light_combined_{year}_{version}.csv\"\n",
    "filename_dose_light\n"
   ]
  },
  {
   "cell_type": "code",
   "execution_count": 171,
   "metadata": {},
   "outputs": [
    {
     "name": "stdout",
     "output_type": "stream",
     "text": [
      "File already exists, erase before if you want to regenerate, or update version\n"
     ]
    }
   ],
   "source": [
    "\n",
    "if not os.path.exists(f\"{dir_name}{version}\"):\n",
    "    os.mkdir(f\"{dir_name}{version}\")\n",
    "\n",
    "if os.path.exists(filename_dose_light):\n",
    "    print(Warning(\"File already exists, erase before if you want to regenerate, or update version\"))\n",
    "\n",
    "else: \n",
    "    print(f\"Writing file locally to '{filename_dose_light}'.\")\n",
    "    dose_light_combined.to_csv(filename_dose_light,index=False)"
   ]
  },
  {
   "cell_type": "markdown",
   "metadata": {},
   "source": [
    "### Reading the local file"
   ]
  },
  {
   "cell_type": "code",
   "execution_count": 172,
   "metadata": {
    "tags": [
     "rm_cell"
    ]
   },
   "outputs": [
    {
     "name": "stdout",
     "output_type": "stream",
     "text": [
      "(1676, 7)\n"
     ]
    },
    {
     "data": {
      "text/html": [
       "<div>\n",
       "<style scoped>\n",
       "    .dataframe tbody tr th:only-of-type {\n",
       "        vertical-align: middle;\n",
       "    }\n",
       "\n",
       "    .dataframe tbody tr th {\n",
       "        vertical-align: top;\n",
       "    }\n",
       "\n",
       "    .dataframe thead th {\n",
       "        text-align: right;\n",
       "    }\n",
       "</style>\n",
       "<table border=\"1\" class=\"dataframe\">\n",
       "  <thead>\n",
       "    <tr style=\"text-align: right;\">\n",
       "      <th></th>\n",
       "      <th>country</th>\n",
       "      <th>gid_0</th>\n",
       "      <th>gid_1</th>\n",
       "      <th>grp_usd_2015</th>\n",
       "      <th>services_usd_2015</th>\n",
       "      <th>manufacturing_usd_2015</th>\n",
       "      <th>agriculture_usd_2015</th>\n",
       "    </tr>\n",
       "  </thead>\n",
       "  <tbody>\n",
       "    <tr>\n",
       "      <th>0</th>\n",
       "      <td>Albania</td>\n",
       "      <td>ALB</td>\n",
       "      <td>ALB.1_1</td>\n",
       "      <td>4.341915e+08</td>\n",
       "      <td>2.009631e+08</td>\n",
       "      <td>9.449606e+07</td>\n",
       "      <td>8.588401e+07</td>\n",
       "    </tr>\n",
       "    <tr>\n",
       "      <th>1</th>\n",
       "      <td>Albania</td>\n",
       "      <td>ALB</td>\n",
       "      <td>ALB.2_1</td>\n",
       "      <td>3.719427e+08</td>\n",
       "      <td>1.721516e+08</td>\n",
       "      <td>8.094841e+07</td>\n",
       "      <td>7.357106e+07</td>\n",
       "    </tr>\n",
       "    <tr>\n",
       "      <th>2</th>\n",
       "      <td>Albania</td>\n",
       "      <td>ALB</td>\n",
       "      <td>ALB.3_1</td>\n",
       "      <td>1.113524e+09</td>\n",
       "      <td>5.153885e+08</td>\n",
       "      <td>2.423439e+08</td>\n",
       "      <td>2.202575e+08</td>\n",
       "    </tr>\n",
       "  </tbody>\n",
       "</table>\n",
       "</div>"
      ],
      "text/plain": [
       "   country gid_0    gid_1  grp_usd_2015  services_usd_2015  \\\n",
       "0  Albania   ALB  ALB.1_1  4.341915e+08       2.009631e+08   \n",
       "1  Albania   ALB  ALB.2_1  3.719427e+08       1.721516e+08   \n",
       "2  Albania   ALB  ALB.3_1  1.113524e+09       5.153885e+08   \n",
       "\n",
       "   manufacturing_usd_2015  agriculture_usd_2015  \n",
       "0            9.449606e+07          8.588401e+07  \n",
       "1            8.094841e+07          7.357106e+07  \n",
       "2            2.423439e+08          2.202575e+08  "
      ]
     },
     "execution_count": 172,
     "metadata": {},
     "output_type": "execute_result"
    }
   ],
   "source": [
    "print(dose_light_combined.shape)\n",
    "dose_light_combined.head(3)"
   ]
  },
  {
   "cell_type": "code",
   "execution_count": 173,
   "metadata": {
    "tags": [
     "rm_cell"
    ]
   },
   "outputs": [
    {
     "name": "stdout",
     "output_type": "stream",
     "text": [
      "Reading local file\n"
     ]
    }
   ],
   "source": [
    "if os.path.exists(filename_dose_light):\n",
    "    print(\"Reading local file\")\n",
    "    dose_light_combined = pd.read_csv(filename_dose_light)\n",
    "else :\n",
    "    raise IOError(\"Could not find file.\")"
   ]
  },
  {
   "cell_type": "code",
   "execution_count": 174,
   "metadata": {
    "tags": [
     "rm_cell"
    ]
   },
   "outputs": [
    {
     "data": {
      "text/html": [
       "<div>\n",
       "<style scoped>\n",
       "    .dataframe tbody tr th:only-of-type {\n",
       "        vertical-align: middle;\n",
       "    }\n",
       "\n",
       "    .dataframe tbody tr th {\n",
       "        vertical-align: top;\n",
       "    }\n",
       "\n",
       "    .dataframe thead th {\n",
       "        text-align: right;\n",
       "    }\n",
       "</style>\n",
       "<table border=\"1\" class=\"dataframe\">\n",
       "  <thead>\n",
       "    <tr style=\"text-align: right;\">\n",
       "      <th></th>\n",
       "      <th>country</th>\n",
       "      <th>gid_0</th>\n",
       "      <th>gid_1</th>\n",
       "      <th>grp_usd_2015</th>\n",
       "      <th>services_usd_2015</th>\n",
       "      <th>manufacturing_usd_2015</th>\n",
       "      <th>agriculture_usd_2015</th>\n",
       "    </tr>\n",
       "  </thead>\n",
       "  <tbody>\n",
       "    <tr>\n",
       "      <th>1646</th>\n",
       "      <td>Venezuela, RB</td>\n",
       "      <td>VEN</td>\n",
       "      <td>VEN</td>\n",
       "      <td>3.347510e+11</td>\n",
       "      <td>1.837783e+11</td>\n",
       "      <td>1.352394e+11</td>\n",
       "      <td>1.573330e+10</td>\n",
       "    </tr>\n",
       "  </tbody>\n",
       "</table>\n",
       "</div>"
      ],
      "text/plain": [
       "            country gid_0 gid_1  grp_usd_2015  services_usd_2015  \\\n",
       "1646  Venezuela, RB   VEN   VEN  3.347510e+11       1.837783e+11   \n",
       "\n",
       "      manufacturing_usd_2015  agriculture_usd_2015  \n",
       "1646            1.352394e+11          1.573330e+10  "
      ]
     },
     "execution_count": 174,
     "metadata": {},
     "output_type": "execute_result"
    }
   ],
   "source": [
    "dose_light_combined.loc[dose_light_combined.gid_0==\"VEN\"]"
   ]
  },
  {
   "cell_type": "code",
   "execution_count": 175,
   "metadata": {
    "tags": [
     "rm_cell"
    ]
   },
   "outputs": [
    {
     "data": {
      "text/html": [
       "<div>\n",
       "<style scoped>\n",
       "    .dataframe tbody tr th:only-of-type {\n",
       "        vertical-align: middle;\n",
       "    }\n",
       "\n",
       "    .dataframe tbody tr th {\n",
       "        vertical-align: top;\n",
       "    }\n",
       "\n",
       "    .dataframe thead th {\n",
       "        text-align: right;\n",
       "    }\n",
       "</style>\n",
       "<table border=\"1\" class=\"dataframe\">\n",
       "  <thead>\n",
       "    <tr style=\"text-align: right;\">\n",
       "      <th></th>\n",
       "      <th>country</th>\n",
       "      <th>gid_0</th>\n",
       "      <th>gid_1</th>\n",
       "      <th>grp_usd_2015</th>\n",
       "      <th>services_usd_2015</th>\n",
       "      <th>manufacturing_usd_2015</th>\n",
       "      <th>agriculture_usd_2015</th>\n",
       "    </tr>\n",
       "  </thead>\n",
       "  <tbody>\n",
       "  </tbody>\n",
       "</table>\n",
       "</div>"
      ],
      "text/plain": [
       "Empty DataFrame\n",
       "Columns: [country, gid_0, gid_1, grp_usd_2015, services_usd_2015, manufacturing_usd_2015, agriculture_usd_2015]\n",
       "Index: []"
      ]
     },
     "execution_count": 175,
     "metadata": {},
     "output_type": "execute_result"
    }
   ],
   "source": [
    "dose_light_combined.loc[dose_light_combined[\"grp_usd_2015\"].isna()]"
   ]
  },
  {
   "cell_type": "code",
   "execution_count": 176,
   "metadata": {
    "tags": [
     "rm_cell"
    ]
   },
   "outputs": [
    {
     "data": {
      "text/html": [
       "<div>\n",
       "<style scoped>\n",
       "    .dataframe tbody tr th:only-of-type {\n",
       "        vertical-align: middle;\n",
       "    }\n",
       "\n",
       "    .dataframe tbody tr th {\n",
       "        vertical-align: top;\n",
       "    }\n",
       "\n",
       "    .dataframe thead th {\n",
       "        text-align: right;\n",
       "    }\n",
       "</style>\n",
       "<table border=\"1\" class=\"dataframe\">\n",
       "  <thead>\n",
       "    <tr style=\"text-align: right;\">\n",
       "      <th></th>\n",
       "      <th>country</th>\n",
       "      <th>gid_0</th>\n",
       "      <th>gid_1</th>\n",
       "      <th>grp_usd_2015</th>\n",
       "      <th>services_usd_2015</th>\n",
       "      <th>manufacturing_usd_2015</th>\n",
       "      <th>agriculture_usd_2015</th>\n",
       "    </tr>\n",
       "  </thead>\n",
       "  <tbody>\n",
       "  </tbody>\n",
       "</table>\n",
       "</div>"
      ],
      "text/plain": [
       "Empty DataFrame\n",
       "Columns: [country, gid_0, gid_1, grp_usd_2015, services_usd_2015, manufacturing_usd_2015, agriculture_usd_2015]\n",
       "Index: []"
      ]
     },
     "execution_count": 176,
     "metadata": {},
     "output_type": "execute_result"
    }
   ],
   "source": [
    "dose_light_combined.loc[dose_light_combined[\"gid_1\"].isna()]"
   ]
  },
  {
   "cell_type": "code",
   "execution_count": 177,
   "metadata": {
    "tags": [
     "rm_cell"
    ]
   },
   "outputs": [
    {
     "name": "stdout",
     "output_type": "stream",
     "text": [
      "1.0\n"
     ]
    },
    {
     "data": {
      "text/html": [
       "<div>\n",
       "<style scoped>\n",
       "    .dataframe tbody tr th:only-of-type {\n",
       "        vertical-align: middle;\n",
       "    }\n",
       "\n",
       "    .dataframe tbody tr th {\n",
       "        vertical-align: top;\n",
       "    }\n",
       "\n",
       "    .dataframe thead th {\n",
       "        text-align: right;\n",
       "    }\n",
       "</style>\n",
       "<table border=\"1\" class=\"dataframe\">\n",
       "  <thead>\n",
       "    <tr style=\"text-align: right;\">\n",
       "      <th></th>\n",
       "      <th>country</th>\n",
       "      <th>gid_0</th>\n",
       "      <th>gid_1</th>\n",
       "      <th>grp_usd_2015</th>\n",
       "      <th>services_usd_2015</th>\n",
       "      <th>manufacturing_usd_2015</th>\n",
       "      <th>agriculture_usd_2015</th>\n",
       "    </tr>\n",
       "  </thead>\n",
       "  <tbody>\n",
       "    <tr>\n",
       "      <th>0</th>\n",
       "      <td>Albania</td>\n",
       "      <td>ALB</td>\n",
       "      <td>ALB.1_1</td>\n",
       "      <td>4.341915e+08</td>\n",
       "      <td>2.009631e+08</td>\n",
       "      <td>9.449606e+07</td>\n",
       "      <td>8.588401e+07</td>\n",
       "    </tr>\n",
       "    <tr>\n",
       "      <th>1</th>\n",
       "      <td>Albania</td>\n",
       "      <td>ALB</td>\n",
       "      <td>ALB.2_1</td>\n",
       "      <td>3.719427e+08</td>\n",
       "      <td>1.721516e+08</td>\n",
       "      <td>8.094841e+07</td>\n",
       "      <td>7.357106e+07</td>\n",
       "    </tr>\n",
       "    <tr>\n",
       "      <th>2</th>\n",
       "      <td>Albania</td>\n",
       "      <td>ALB</td>\n",
       "      <td>ALB.3_1</td>\n",
       "      <td>1.113524e+09</td>\n",
       "      <td>5.153885e+08</td>\n",
       "      <td>2.423439e+08</td>\n",
       "      <td>2.202575e+08</td>\n",
       "    </tr>\n",
       "    <tr>\n",
       "      <th>3</th>\n",
       "      <td>Albania</td>\n",
       "      <td>ALB</td>\n",
       "      <td>ALB.4_1</td>\n",
       "      <td>7.954835e+08</td>\n",
       "      <td>3.681851e+08</td>\n",
       "      <td>1.731265e+08</td>\n",
       "      <td>1.573483e+08</td>\n",
       "    </tr>\n",
       "    <tr>\n",
       "      <th>4</th>\n",
       "      <td>Albania</td>\n",
       "      <td>ALB</td>\n",
       "      <td>ALB.5_1</td>\n",
       "      <td>1.345159e+09</td>\n",
       "      <td>6.225993e+08</td>\n",
       "      <td>2.927561e+08</td>\n",
       "      <td>2.660753e+08</td>\n",
       "    </tr>\n",
       "  </tbody>\n",
       "</table>\n",
       "</div>"
      ],
      "text/plain": [
       "   country gid_0    gid_1  grp_usd_2015  services_usd_2015  \\\n",
       "0  Albania   ALB  ALB.1_1  4.341915e+08       2.009631e+08   \n",
       "1  Albania   ALB  ALB.2_1  3.719427e+08       1.721516e+08   \n",
       "2  Albania   ALB  ALB.3_1  1.113524e+09       5.153885e+08   \n",
       "3  Albania   ALB  ALB.4_1  7.954835e+08       3.681851e+08   \n",
       "4  Albania   ALB  ALB.5_1  1.345159e+09       6.225993e+08   \n",
       "\n",
       "   manufacturing_usd_2015  agriculture_usd_2015  \n",
       "0            9.449606e+07          8.588401e+07  \n",
       "1            8.094841e+07          7.357106e+07  \n",
       "2            2.423439e+08          2.202575e+08  \n",
       "3            1.731265e+08          1.573483e+08  \n",
       "4            2.927561e+08          2.660753e+08  "
      ]
     },
     "execution_count": 177,
     "metadata": {},
     "output_type": "execute_result"
    }
   ],
   "source": [
    "print((dose_light_combined.dropna(axis=0,ignore_index=True,subset=[\"grp_usd_2015\"]).shape[0])/dose_light_combined.shape[0])\n",
    "\n",
    "dose_light_combined.dropna(axis=0,ignore_index=True,subset=[\"grp_usd_2015\"]).head(5)"
   ]
  },
  {
   "cell_type": "code",
   "execution_count": 178,
   "metadata": {
    "tags": [
     "rm_cell"
    ]
   },
   "outputs": [
    {
     "data": {
      "text/html": [
       "<div>\n",
       "<style scoped>\n",
       "    .dataframe tbody tr th:only-of-type {\n",
       "        vertical-align: middle;\n",
       "    }\n",
       "\n",
       "    .dataframe tbody tr th {\n",
       "        vertical-align: top;\n",
       "    }\n",
       "\n",
       "    .dataframe thead th {\n",
       "        text-align: right;\n",
       "    }\n",
       "</style>\n",
       "<table border=\"1\" class=\"dataframe\">\n",
       "  <thead>\n",
       "    <tr style=\"text-align: right;\">\n",
       "      <th></th>\n",
       "      <th>country</th>\n",
       "      <th>gid_0</th>\n",
       "      <th>gid_1</th>\n",
       "      <th>grp_usd_2015</th>\n",
       "      <th>services_usd_2015</th>\n",
       "      <th>manufacturing_usd_2015</th>\n",
       "      <th>agriculture_usd_2015</th>\n",
       "    </tr>\n",
       "  </thead>\n",
       "  <tbody>\n",
       "    <tr>\n",
       "      <th>0</th>\n",
       "      <td>Albania</td>\n",
       "      <td>ALB</td>\n",
       "      <td>ALB.1_1</td>\n",
       "      <td>4.341915e+08</td>\n",
       "      <td>2.009631e+08</td>\n",
       "      <td>9.449606e+07</td>\n",
       "      <td>8.588401e+07</td>\n",
       "    </tr>\n",
       "    <tr>\n",
       "      <th>1</th>\n",
       "      <td>Albania</td>\n",
       "      <td>ALB</td>\n",
       "      <td>ALB.2_1</td>\n",
       "      <td>3.719427e+08</td>\n",
       "      <td>1.721516e+08</td>\n",
       "      <td>8.094841e+07</td>\n",
       "      <td>7.357106e+07</td>\n",
       "    </tr>\n",
       "    <tr>\n",
       "      <th>2</th>\n",
       "      <td>Albania</td>\n",
       "      <td>ALB</td>\n",
       "      <td>ALB.3_1</td>\n",
       "      <td>1.113524e+09</td>\n",
       "      <td>5.153885e+08</td>\n",
       "      <td>2.423439e+08</td>\n",
       "      <td>2.202575e+08</td>\n",
       "    </tr>\n",
       "    <tr>\n",
       "      <th>3</th>\n",
       "      <td>Albania</td>\n",
       "      <td>ALB</td>\n",
       "      <td>ALB.4_1</td>\n",
       "      <td>7.954835e+08</td>\n",
       "      <td>3.681851e+08</td>\n",
       "      <td>1.731265e+08</td>\n",
       "      <td>1.573483e+08</td>\n",
       "    </tr>\n",
       "    <tr>\n",
       "      <th>4</th>\n",
       "      <td>Albania</td>\n",
       "      <td>ALB</td>\n",
       "      <td>ALB.5_1</td>\n",
       "      <td>1.345159e+09</td>\n",
       "      <td>6.225993e+08</td>\n",
       "      <td>2.927561e+08</td>\n",
       "      <td>2.660753e+08</td>\n",
       "    </tr>\n",
       "    <tr>\n",
       "      <th>...</th>\n",
       "      <td>...</td>\n",
       "      <td>...</td>\n",
       "      <td>...</td>\n",
       "      <td>...</td>\n",
       "      <td>...</td>\n",
       "      <td>...</td>\n",
       "      <td>...</td>\n",
       "    </tr>\n",
       "    <tr>\n",
       "      <th>1637</th>\n",
       "      <td>Venezuela, RB</td>\n",
       "      <td>VEN</td>\n",
       "      <td>VEN</td>\n",
       "      <td>3.347510e+11</td>\n",
       "      <td>1.837783e+11</td>\n",
       "      <td>1.352394e+11</td>\n",
       "      <td>1.573330e+10</td>\n",
       "    </tr>\n",
       "    <tr>\n",
       "      <th>1638</th>\n",
       "      <td>West Bank and Gaza</td>\n",
       "      <td>PSE</td>\n",
       "      <td>PSE</td>\n",
       "      <td>1.397240e+10</td>\n",
       "      <td>8.618600e+09</td>\n",
       "      <td>2.295000e+09</td>\n",
       "      <td>1.035200e+09</td>\n",
       "    </tr>\n",
       "    <tr>\n",
       "      <th>1639</th>\n",
       "      <td>Yemen, Rep.</td>\n",
       "      <td>YEM</td>\n",
       "      <td>YEM</td>\n",
       "      <td>4.244449e+10</td>\n",
       "      <td>1.779608e+10</td>\n",
       "      <td>1.437432e+10</td>\n",
       "      <td>8.576307e+09</td>\n",
       "    </tr>\n",
       "    <tr>\n",
       "      <th>1640</th>\n",
       "      <td>Zambia</td>\n",
       "      <td>ZMB</td>\n",
       "      <td>ZMB</td>\n",
       "      <td>2.125122e+10</td>\n",
       "      <td>1.194752e+10</td>\n",
       "      <td>7.152575e+09</td>\n",
       "      <td>1.058488e+09</td>\n",
       "    </tr>\n",
       "    <tr>\n",
       "      <th>1641</th>\n",
       "      <td>Zimbabwe</td>\n",
       "      <td>ZWE</td>\n",
       "      <td>ZWE</td>\n",
       "      <td>1.996312e+10</td>\n",
       "      <td>1.170858e+10</td>\n",
       "      <td>4.463433e+09</td>\n",
       "      <td>1.653794e+09</td>\n",
       "    </tr>\n",
       "  </tbody>\n",
       "</table>\n",
       "<p>1642 rows × 7 columns</p>\n",
       "</div>"
      ],
      "text/plain": [
       "                 country gid_0    gid_1  grp_usd_2015  services_usd_2015  \\\n",
       "0                Albania   ALB  ALB.1_1  4.341915e+08       2.009631e+08   \n",
       "1                Albania   ALB  ALB.2_1  3.719427e+08       1.721516e+08   \n",
       "2                Albania   ALB  ALB.3_1  1.113524e+09       5.153885e+08   \n",
       "3                Albania   ALB  ALB.4_1  7.954835e+08       3.681851e+08   \n",
       "4                Albania   ALB  ALB.5_1  1.345159e+09       6.225993e+08   \n",
       "...                  ...   ...      ...           ...                ...   \n",
       "1637       Venezuela, RB   VEN      VEN  3.347510e+11       1.837783e+11   \n",
       "1638  West Bank and Gaza   PSE      PSE  1.397240e+10       8.618600e+09   \n",
       "1639         Yemen, Rep.   YEM      YEM  4.244449e+10       1.779608e+10   \n",
       "1640              Zambia   ZMB      ZMB  2.125122e+10       1.194752e+10   \n",
       "1641            Zimbabwe   ZWE      ZWE  1.996312e+10       1.170858e+10   \n",
       "\n",
       "      manufacturing_usd_2015  agriculture_usd_2015  \n",
       "0               9.449606e+07          8.588401e+07  \n",
       "1               8.094841e+07          7.357106e+07  \n",
       "2               2.423439e+08          2.202575e+08  \n",
       "3               1.731265e+08          1.573483e+08  \n",
       "4               2.927561e+08          2.660753e+08  \n",
       "...                      ...                   ...  \n",
       "1637            1.352394e+11          1.573330e+10  \n",
       "1638            2.295000e+09          1.035200e+09  \n",
       "1639            1.437432e+10          8.576307e+09  \n",
       "1640            7.152575e+09          1.058488e+09  \n",
       "1641            4.463433e+09          1.653794e+09  \n",
       "\n",
       "[1642 rows x 7 columns]"
      ]
     },
     "execution_count": 178,
     "metadata": {},
     "output_type": "execute_result"
    }
   ],
   "source": [
    "dose_light_combined.dropna(axis=0,ignore_index=True,subset=[\"services_usd_2015\"])"
   ]
  },
  {
   "cell_type": "code",
   "execution_count": 179,
   "metadata": {
    "tags": [
     "rm_cell"
    ]
   },
   "outputs": [
    {
     "data": {
      "text/html": [
       "<div>\n",
       "<style scoped>\n",
       "    .dataframe tbody tr th:only-of-type {\n",
       "        vertical-align: middle;\n",
       "    }\n",
       "\n",
       "    .dataframe tbody tr th {\n",
       "        vertical-align: top;\n",
       "    }\n",
       "\n",
       "    .dataframe thead th {\n",
       "        text-align: right;\n",
       "    }\n",
       "</style>\n",
       "<table border=\"1\" class=\"dataframe\">\n",
       "  <thead>\n",
       "    <tr style=\"text-align: right;\">\n",
       "      <th></th>\n",
       "      <th>country</th>\n",
       "      <th>gid_0</th>\n",
       "      <th>gid_1</th>\n",
       "      <th>grp_usd_2015</th>\n",
       "      <th>services_usd_2015</th>\n",
       "      <th>manufacturing_usd_2015</th>\n",
       "      <th>agriculture_usd_2015</th>\n",
       "    </tr>\n",
       "  </thead>\n",
       "  <tbody>\n",
       "    <tr>\n",
       "      <th>0</th>\n",
       "      <td>Albania</td>\n",
       "      <td>ALB</td>\n",
       "      <td>ALB.1_1</td>\n",
       "      <td>4.341915e+08</td>\n",
       "      <td>2.009631e+08</td>\n",
       "      <td>9.449606e+07</td>\n",
       "      <td>8.588401e+07</td>\n",
       "    </tr>\n",
       "    <tr>\n",
       "      <th>1</th>\n",
       "      <td>Albania</td>\n",
       "      <td>ALB</td>\n",
       "      <td>ALB.2_1</td>\n",
       "      <td>3.719427e+08</td>\n",
       "      <td>1.721516e+08</td>\n",
       "      <td>8.094841e+07</td>\n",
       "      <td>7.357106e+07</td>\n",
       "    </tr>\n",
       "    <tr>\n",
       "      <th>2</th>\n",
       "      <td>Albania</td>\n",
       "      <td>ALB</td>\n",
       "      <td>ALB.3_1</td>\n",
       "      <td>1.113524e+09</td>\n",
       "      <td>5.153885e+08</td>\n",
       "      <td>2.423439e+08</td>\n",
       "      <td>2.202575e+08</td>\n",
       "    </tr>\n",
       "    <tr>\n",
       "      <th>3</th>\n",
       "      <td>Albania</td>\n",
       "      <td>ALB</td>\n",
       "      <td>ALB.4_1</td>\n",
       "      <td>7.954835e+08</td>\n",
       "      <td>3.681851e+08</td>\n",
       "      <td>1.731265e+08</td>\n",
       "      <td>1.573483e+08</td>\n",
       "    </tr>\n",
       "    <tr>\n",
       "      <th>4</th>\n",
       "      <td>Albania</td>\n",
       "      <td>ALB</td>\n",
       "      <td>ALB.5_1</td>\n",
       "      <td>1.345159e+09</td>\n",
       "      <td>6.225993e+08</td>\n",
       "      <td>2.927561e+08</td>\n",
       "      <td>2.660753e+08</td>\n",
       "    </tr>\n",
       "    <tr>\n",
       "      <th>...</th>\n",
       "      <td>...</td>\n",
       "      <td>...</td>\n",
       "      <td>...</td>\n",
       "      <td>...</td>\n",
       "      <td>...</td>\n",
       "      <td>...</td>\n",
       "      <td>...</td>\n",
       "    </tr>\n",
       "    <tr>\n",
       "      <th>1638</th>\n",
       "      <td>Venezuela, RB</td>\n",
       "      <td>VEN</td>\n",
       "      <td>VEN</td>\n",
       "      <td>3.347510e+11</td>\n",
       "      <td>1.837783e+11</td>\n",
       "      <td>1.352394e+11</td>\n",
       "      <td>1.573330e+10</td>\n",
       "    </tr>\n",
       "    <tr>\n",
       "      <th>1639</th>\n",
       "      <td>West Bank and Gaza</td>\n",
       "      <td>PSE</td>\n",
       "      <td>PSE</td>\n",
       "      <td>1.397240e+10</td>\n",
       "      <td>8.618600e+09</td>\n",
       "      <td>2.295000e+09</td>\n",
       "      <td>1.035200e+09</td>\n",
       "    </tr>\n",
       "    <tr>\n",
       "      <th>1640</th>\n",
       "      <td>Yemen, Rep.</td>\n",
       "      <td>YEM</td>\n",
       "      <td>YEM</td>\n",
       "      <td>4.244449e+10</td>\n",
       "      <td>1.779608e+10</td>\n",
       "      <td>1.437432e+10</td>\n",
       "      <td>8.576307e+09</td>\n",
       "    </tr>\n",
       "    <tr>\n",
       "      <th>1641</th>\n",
       "      <td>Zambia</td>\n",
       "      <td>ZMB</td>\n",
       "      <td>ZMB</td>\n",
       "      <td>2.125122e+10</td>\n",
       "      <td>1.194752e+10</td>\n",
       "      <td>7.152575e+09</td>\n",
       "      <td>1.058488e+09</td>\n",
       "    </tr>\n",
       "    <tr>\n",
       "      <th>1642</th>\n",
       "      <td>Zimbabwe</td>\n",
       "      <td>ZWE</td>\n",
       "      <td>ZWE</td>\n",
       "      <td>1.996312e+10</td>\n",
       "      <td>1.170858e+10</td>\n",
       "      <td>4.463433e+09</td>\n",
       "      <td>1.653794e+09</td>\n",
       "    </tr>\n",
       "  </tbody>\n",
       "</table>\n",
       "<p>1643 rows × 7 columns</p>\n",
       "</div>"
      ],
      "text/plain": [
       "                 country gid_0    gid_1  grp_usd_2015  services_usd_2015  \\\n",
       "0                Albania   ALB  ALB.1_1  4.341915e+08       2.009631e+08   \n",
       "1                Albania   ALB  ALB.2_1  3.719427e+08       1.721516e+08   \n",
       "2                Albania   ALB  ALB.3_1  1.113524e+09       5.153885e+08   \n",
       "3                Albania   ALB  ALB.4_1  7.954835e+08       3.681851e+08   \n",
       "4                Albania   ALB  ALB.5_1  1.345159e+09       6.225993e+08   \n",
       "...                  ...   ...      ...           ...                ...   \n",
       "1638       Venezuela, RB   VEN      VEN  3.347510e+11       1.837783e+11   \n",
       "1639  West Bank and Gaza   PSE      PSE  1.397240e+10       8.618600e+09   \n",
       "1640         Yemen, Rep.   YEM      YEM  4.244449e+10       1.779608e+10   \n",
       "1641              Zambia   ZMB      ZMB  2.125122e+10       1.194752e+10   \n",
       "1642            Zimbabwe   ZWE      ZWE  1.996312e+10       1.170858e+10   \n",
       "\n",
       "      manufacturing_usd_2015  agriculture_usd_2015  \n",
       "0               9.449606e+07          8.588401e+07  \n",
       "1               8.094841e+07          7.357106e+07  \n",
       "2               2.423439e+08          2.202575e+08  \n",
       "3               1.731265e+08          1.573483e+08  \n",
       "4               2.927561e+08          2.660753e+08  \n",
       "...                      ...                   ...  \n",
       "1638            1.352394e+11          1.573330e+10  \n",
       "1639            2.295000e+09          1.035200e+09  \n",
       "1640            1.437432e+10          8.576307e+09  \n",
       "1641            7.152575e+09          1.058488e+09  \n",
       "1642            4.463433e+09          1.653794e+09  \n",
       "\n",
       "[1643 rows x 7 columns]"
      ]
     },
     "execution_count": 179,
     "metadata": {},
     "output_type": "execute_result"
    }
   ],
   "source": [
    "dose_light_combined.dropna(axis=0,ignore_index=True,subset=[\"manufacturing_usd_2015\"])"
   ]
  },
  {
   "cell_type": "code",
   "execution_count": 180,
   "metadata": {
    "tags": [
     "rm_cell"
    ]
   },
   "outputs": [
    {
     "data": {
      "text/html": [
       "<div>\n",
       "<style scoped>\n",
       "    .dataframe tbody tr th:only-of-type {\n",
       "        vertical-align: middle;\n",
       "    }\n",
       "\n",
       "    .dataframe tbody tr th {\n",
       "        vertical-align: top;\n",
       "    }\n",
       "\n",
       "    .dataframe thead th {\n",
       "        text-align: right;\n",
       "    }\n",
       "</style>\n",
       "<table border=\"1\" class=\"dataframe\">\n",
       "  <thead>\n",
       "    <tr style=\"text-align: right;\">\n",
       "      <th></th>\n",
       "      <th>country</th>\n",
       "      <th>gid_0</th>\n",
       "      <th>gid_1</th>\n",
       "      <th>grp_usd_2015</th>\n",
       "      <th>services_usd_2015</th>\n",
       "      <th>manufacturing_usd_2015</th>\n",
       "      <th>agriculture_usd_2015</th>\n",
       "    </tr>\n",
       "  </thead>\n",
       "  <tbody>\n",
       "    <tr>\n",
       "      <th>0</th>\n",
       "      <td>Albania</td>\n",
       "      <td>ALB</td>\n",
       "      <td>ALB.1_1</td>\n",
       "      <td>4.341915e+08</td>\n",
       "      <td>2.009631e+08</td>\n",
       "      <td>9.449606e+07</td>\n",
       "      <td>8.588401e+07</td>\n",
       "    </tr>\n",
       "    <tr>\n",
       "      <th>1</th>\n",
       "      <td>Albania</td>\n",
       "      <td>ALB</td>\n",
       "      <td>ALB.2_1</td>\n",
       "      <td>3.719427e+08</td>\n",
       "      <td>1.721516e+08</td>\n",
       "      <td>8.094841e+07</td>\n",
       "      <td>7.357106e+07</td>\n",
       "    </tr>\n",
       "    <tr>\n",
       "      <th>2</th>\n",
       "      <td>Albania</td>\n",
       "      <td>ALB</td>\n",
       "      <td>ALB.3_1</td>\n",
       "      <td>1.113524e+09</td>\n",
       "      <td>5.153885e+08</td>\n",
       "      <td>2.423439e+08</td>\n",
       "      <td>2.202575e+08</td>\n",
       "    </tr>\n",
       "    <tr>\n",
       "      <th>3</th>\n",
       "      <td>Albania</td>\n",
       "      <td>ALB</td>\n",
       "      <td>ALB.4_1</td>\n",
       "      <td>7.954835e+08</td>\n",
       "      <td>3.681851e+08</td>\n",
       "      <td>1.731265e+08</td>\n",
       "      <td>1.573483e+08</td>\n",
       "    </tr>\n",
       "    <tr>\n",
       "      <th>4</th>\n",
       "      <td>Albania</td>\n",
       "      <td>ALB</td>\n",
       "      <td>ALB.5_1</td>\n",
       "      <td>1.345159e+09</td>\n",
       "      <td>6.225993e+08</td>\n",
       "      <td>2.927561e+08</td>\n",
       "      <td>2.660753e+08</td>\n",
       "    </tr>\n",
       "    <tr>\n",
       "      <th>...</th>\n",
       "      <td>...</td>\n",
       "      <td>...</td>\n",
       "      <td>...</td>\n",
       "      <td>...</td>\n",
       "      <td>...</td>\n",
       "      <td>...</td>\n",
       "      <td>...</td>\n",
       "    </tr>\n",
       "    <tr>\n",
       "      <th>1637</th>\n",
       "      <td>Venezuela, RB</td>\n",
       "      <td>VEN</td>\n",
       "      <td>VEN</td>\n",
       "      <td>3.347510e+11</td>\n",
       "      <td>1.837783e+11</td>\n",
       "      <td>1.352394e+11</td>\n",
       "      <td>1.573330e+10</td>\n",
       "    </tr>\n",
       "    <tr>\n",
       "      <th>1638</th>\n",
       "      <td>West Bank and Gaza</td>\n",
       "      <td>PSE</td>\n",
       "      <td>PSE</td>\n",
       "      <td>1.397240e+10</td>\n",
       "      <td>8.618600e+09</td>\n",
       "      <td>2.295000e+09</td>\n",
       "      <td>1.035200e+09</td>\n",
       "    </tr>\n",
       "    <tr>\n",
       "      <th>1639</th>\n",
       "      <td>Yemen, Rep.</td>\n",
       "      <td>YEM</td>\n",
       "      <td>YEM</td>\n",
       "      <td>4.244449e+10</td>\n",
       "      <td>1.779608e+10</td>\n",
       "      <td>1.437432e+10</td>\n",
       "      <td>8.576307e+09</td>\n",
       "    </tr>\n",
       "    <tr>\n",
       "      <th>1640</th>\n",
       "      <td>Zambia</td>\n",
       "      <td>ZMB</td>\n",
       "      <td>ZMB</td>\n",
       "      <td>2.125122e+10</td>\n",
       "      <td>1.194752e+10</td>\n",
       "      <td>7.152575e+09</td>\n",
       "      <td>1.058488e+09</td>\n",
       "    </tr>\n",
       "    <tr>\n",
       "      <th>1641</th>\n",
       "      <td>Zimbabwe</td>\n",
       "      <td>ZWE</td>\n",
       "      <td>ZWE</td>\n",
       "      <td>1.996312e+10</td>\n",
       "      <td>1.170858e+10</td>\n",
       "      <td>4.463433e+09</td>\n",
       "      <td>1.653794e+09</td>\n",
       "    </tr>\n",
       "  </tbody>\n",
       "</table>\n",
       "<p>1642 rows × 7 columns</p>\n",
       "</div>"
      ],
      "text/plain": [
       "                 country gid_0    gid_1  grp_usd_2015  services_usd_2015  \\\n",
       "0                Albania   ALB  ALB.1_1  4.341915e+08       2.009631e+08   \n",
       "1                Albania   ALB  ALB.2_1  3.719427e+08       1.721516e+08   \n",
       "2                Albania   ALB  ALB.3_1  1.113524e+09       5.153885e+08   \n",
       "3                Albania   ALB  ALB.4_1  7.954835e+08       3.681851e+08   \n",
       "4                Albania   ALB  ALB.5_1  1.345159e+09       6.225993e+08   \n",
       "...                  ...   ...      ...           ...                ...   \n",
       "1637       Venezuela, RB   VEN      VEN  3.347510e+11       1.837783e+11   \n",
       "1638  West Bank and Gaza   PSE      PSE  1.397240e+10       8.618600e+09   \n",
       "1639         Yemen, Rep.   YEM      YEM  4.244449e+10       1.779608e+10   \n",
       "1640              Zambia   ZMB      ZMB  2.125122e+10       1.194752e+10   \n",
       "1641            Zimbabwe   ZWE      ZWE  1.996312e+10       1.170858e+10   \n",
       "\n",
       "      manufacturing_usd_2015  agriculture_usd_2015  \n",
       "0               9.449606e+07          8.588401e+07  \n",
       "1               8.094841e+07          7.357106e+07  \n",
       "2               2.423439e+08          2.202575e+08  \n",
       "3               1.731265e+08          1.573483e+08  \n",
       "4               2.927561e+08          2.660753e+08  \n",
       "...                      ...                   ...  \n",
       "1637            1.352394e+11          1.573330e+10  \n",
       "1638            2.295000e+09          1.035200e+09  \n",
       "1639            1.437432e+10          8.576307e+09  \n",
       "1640            7.152575e+09          1.058488e+09  \n",
       "1641            4.463433e+09          1.653794e+09  \n",
       "\n",
       "[1642 rows x 7 columns]"
      ]
     },
     "execution_count": 180,
     "metadata": {},
     "output_type": "execute_result"
    }
   ],
   "source": [
    "dose_light_combined.dropna(axis=0,ignore_index=True,subset=[\"agriculture_usd_2015\"])"
   ]
  },
  {
   "cell_type": "markdown",
   "metadata": {},
   "source": [
    "### Checking if things add up"
   ]
  },
  {
   "cell_type": "code",
   "execution_count": 181,
   "metadata": {
    "tags": [
     "rm_cell"
    ]
   },
   "outputs": [
    {
     "data": {
      "text/plain": [
       "<Axes: >"
      ]
     },
     "execution_count": 181,
     "metadata": {},
     "output_type": "execute_result"
    },
    {
     "data": {
      "image/png": "[encoded data removed]",
      "text/plain": [
       "<Figure size 640x480 with 1 Axes>"
      ]
     },
     "metadata": {},
     "output_type": "display_data"
    }
   ],
   "source": [
    "((dose_light_combined[\"grp_usd_2015\"]-dose_light_combined[\"manufacturing_usd_2015\"]-dose_light_combined[\"services_usd_2015\"]-dose_light_combined[\"agriculture_usd_2015\"])/dose_light_combined[\"grp_usd_2015\"]).hist()"
   ]
  },
  {
   "cell_type": "markdown",
   "metadata": {},
   "source": [
    "## H3 with duckdb\n",
    "\n",
    "testing the duckdb h3 extension to potentially transfer all the projection on the db side for better performance."
   ]
  },
  {
   "cell_type": "code",
   "execution_count": 182,
   "metadata": {
    "tags": [
     "rm_cell"
    ]
   },
   "outputs": [
    {
     "data": {
      "text/html": [
       "<div>\n",
       "<style scoped>\n",
       "    .dataframe tbody tr th:only-of-type {\n",
       "        vertical-align: middle;\n",
       "    }\n",
       "\n",
       "    .dataframe tbody tr th {\n",
       "        vertical-align: top;\n",
       "    }\n",
       "\n",
       "    .dataframe thead th {\n",
       "        text-align: right;\n",
       "    }\n",
       "</style>\n",
       "<table border=\"1\" class=\"dataframe\">\n",
       "  <thead>\n",
       "    <tr style=\"text-align: right;\">\n",
       "      <th></th>\n",
       "      <th>Success</th>\n",
       "    </tr>\n",
       "  </thead>\n",
       "  <tbody>\n",
       "  </tbody>\n",
       "</table>\n",
       "</div>"
      ],
      "text/plain": [
       "Empty DataFrame\n",
       "Columns: [Success]\n",
       "Index: []"
      ]
     },
     "execution_count": 182,
     "metadata": {},
     "output_type": "execute_result"
    }
   ],
   "source": [
    "res = conn.raw_sql(\"\"\"INSTALL h3 FROM community;\n",
    "                   LOAD h3;\"\"\").df()\n",
    "\n",
    "res"
   ]
  },
  {
   "cell_type": "code",
   "execution_count": 183,
   "metadata": {},
   "outputs": [
    {
     "data": {
      "text/html": [
       "<pre style=\"white-space:pre;overflow-x:auto;line-height:normal;font-family:Menlo,'DejaVu Sans Mono',consolas,'Courier New',monospace\">┏━━━━━━━━━━━━━━━━━━━━━━━━━━━━━━━━━━━━━━━━━━━━━━━━━━━━━━━━━━━━━━━━━━━━━━━━━━━━━━━━━━┓\n",
       "┃<span style=\"font-weight: bold\"> h3_cell_to_boundary_wkt('822d57fffffffff')                                       </span>┃\n",
       "┡━━━━━━━━━━━━━━━━━━━━━━━━━━━━━━━━━━━━━━━━━━━━━━━━━━━━━━━━━━━━━━━━━━━━━━━━━━━━━━━━━━┩\n",
       "│ <span style=\"color: #7f7f7f; text-decoration-color: #7f7f7f\">string</span>                                                                           │\n",
       "├──────────────────────────────────────────────────────────────────────────────────┤\n",
       "│ <span style=\"color: #008000; text-decoration-color: #008000\">POLYGON ((38.777546 44.198571, 39.938746 42.736298, 42.150674 42.631271, 43.258…</span> │\n",
       "└──────────────────────────────────────────────────────────────────────────────────┘\n",
       "</pre>\n"
      ],
      "text/plain": [
       "┏━━━━━━━━━━━━━━━━━━━━━━━━━━━━━━━━━━━━━━━━━━━━━━━━━━━━━━━━━━━━━━━━━━━━━━━━━━━━━━━━━━┓\n",
       "┃\u001b[1m \u001b[0m\u001b[1mh3_cell_to_boundary_wkt('822d57fffffffff')\u001b[0m\u001b[1m                                      \u001b[0m\u001b[1m \u001b[0m┃\n",
       "┡━━━━━━━━━━━━━━━━━━━━━━━━━━━━━━━━━━━━━━━━━━━━━━━━━━━━━━━━━━━━━━━━━━━━━━━━━━━━━━━━━━┩\n",
       "│ \u001b[2mstring\u001b[0m                                                                           │\n",
       "├──────────────────────────────────────────────────────────────────────────────────┤\n",
       "│ \u001b[32mPOLYGON ((38.777546 44.198571, 39.938746 42.736298, 42.150674 42.631271, 43.258…\u001b[0m │\n",
       "└──────────────────────────────────────────────────────────────────────────────────┘"
      ]
     },
     "execution_count": 183,
     "metadata": {},
     "output_type": "execute_result"
    }
   ],
   "source": [
    "\n",
    "conn.sql(\"SELECT h3_cell_to_latlng('822d57fffffffff');\")\n",
    "\n",
    "conn.sql(\"SELECT h3_cell_to_boundary_wkt('822d57fffffffff');\")"
   ]
  },
  {
   "cell_type": "code",
   "execution_count": 184,
   "metadata": {
    "tags": [
     "rm_cell"
    ]
   },
   "outputs": [
    {
     "name": "stdout",
     "output_type": "stream",
     "text": [
      "[NbConvertApp] Converting notebook missing_countries.ipynb to python\n",
      "[NbConvertApp] Writing 29501 bytes to missing_countries.py\n"
     ]
    }
   ],
   "source": [
    "! jupyter nbconvert missing_countries.ipynb --TagRemovePreprocessor.enabled=True --TagRemovePreprocessor.remove_cell_tags rm_cell --to python\n"
   ]
  }
 ],
 "metadata": {
  "kernelspec": {
   "display_name": "Python 3",
   "language": "python",
   "name": "python3"
  },
  "language_info": {
   "codemirror_mode": {
    "name": "ipython",
    "version": 3
   },
   "file_extension": ".py",
   "mimetype": "text/x-python",
   "name": "python",
   "nbconvert_exporter": "python",
   "pygments_lexer": "ipython3",
   "version": "3.12.5"
  }
 },
 "nbformat": 4,
 "nbformat_minor": 2
}
