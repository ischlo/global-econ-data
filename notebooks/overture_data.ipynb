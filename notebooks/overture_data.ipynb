{
 "cells": [
  {
   "cell_type": "markdown",
   "metadata": {},
   "source": [
    "# Visualising Overture data and breaking it down into sectors"
   ]
  },
  {
   "cell_type": "code",
   "execution_count": 1,
   "metadata": {},
   "outputs": [],
   "source": [
    "import numpy as np\n",
    "import json\n",
    "# import shapely\n",
    "from scalenav.plotting import cmap\n",
    "import scalenav.oop as snoo\n",
    "import matplotlib.pyplot as plt\n",
    "\n",
    "import ibis as ib\n",
    "from ibis import _\n",
    "import ibis.selectors as s\n",
    "\n",
    "ib.options.interactive = True\n",
    "ib.options.graphviz_repr = True\n",
    "\n",
    "import pydeck as pdk\n"
   ]
  },
  {
   "cell_type": "markdown",
   "metadata": {},
   "source": [
    "## Params"
   ]
  },
  {
   "cell_type": "code",
   "execution_count": 2,
   "metadata": {},
   "outputs": [],
   "source": [
    "from parameters import *\n",
    "bboxs = json.load(open(\"data/bboxs.json\",\"r\"))"
   ]
  },
  {
   "cell_type": "code",
   "execution_count": null,
   "metadata": {},
   "outputs": [],
   "source": [
    "# the spatial extension\n",
    "# https://duckdb.org/docs/extensions/spatial/functions\n",
    "\n",
    "# the h3 extension in duckdb\n",
    "# https://github.com/isaacbrodsky/h3-duckdb?tab=readme-ov-file\n",
    "\n",
    "conn = snoo.sn_connect(\"../\" + overture_db_filename,interactive=True, memory_limit=\"100GB\",threads = 8)"
   ]
  },
  {
   "cell_type": "markdown",
   "metadata": {},
   "source": [
    "## Guide on working with Overture\n",
    "Smaller files are downloaded here\n",
    "\n",
    "https://docs.overturemaps.org/guides/\n",
    "\n",
    "https://github.com/OvertureMaps/data?tab=readme-ov-file "
   ]
  },
  {
   "cell_type": "markdown",
   "metadata": {},
   "source": [
    "## Selecting an area of interest"
   ]
  },
  {
   "cell_type": "code",
   "execution_count": null,
   "metadata": {},
   "outputs": [],
   "source": [
    "bbox_name = 'global'\n",
    "bbox = bboxs[bbox_name]"
   ]
  },
  {
   "cell_type": "code",
   "execution_count": null,
   "metadata": {},
   "outputs": [],
   "source": [
    "# Set the viewport location\n",
    "view_state = pdk.ViewState(latitude=np.mean(bbox[1::2]), longitude=np.mean(bbox[0::2]), zoom=3, bearing=0, pitch=30)"
   ]
  },
  {
   "cell_type": "markdown",
   "metadata": {},
   "source": [
    "## Local places and landuse file"
   ]
  },
  {
   "cell_type": "code",
   "execution_count": null,
   "metadata": {},
   "outputs": [],
   "source": [
    "conn.list_tables()"
   ]
  },
  {
   "cell_type": "code",
   "execution_count": null,
   "metadata": {},
   "outputs": [],
   "source": [
    "# overture_data = conn.read_parquet(\"../\" + overture_places_landuses_filename)\n",
    "overture_data = conn.table(\"overture_pois\")\n"
   ]
  },
  {
   "cell_type": "code",
   "execution_count": null,
   "metadata": {},
   "outputs": [],
   "source": [
    "print(overture_data.columns)"
   ]
  },
  {
   "cell_type": "code",
   "execution_count": null,
   "metadata": {},
   "outputs": [],
   "source": [
    "overture_sections = overture_data.section.value_counts().execute()"
   ]
  },
  {
   "cell_type": "code",
   "execution_count": null,
   "metadata": {},
   "outputs": [],
   "source": [
    "overture_sections.plot.bar(x=\"section\",y=\"section_count\",title=\"ISIC Coverage\",xlabel=\"ISIC section\",ylabel=\"Count\",legend=False,rot=0)\n",
    "plt.savefig(\"isic_count_overture.png\")\n",
    "plt.show()"
   ]
  },
  {
   "cell_type": "code",
   "execution_count": null,
   "metadata": {},
   "outputs": [],
   "source": [
    "overture_data_top_cat = overture_data.sec_cat.value_counts().head(10).execute().sec_cat.to_list()"
   ]
  },
  {
   "cell_type": "code",
   "execution_count": null,
   "metadata": {},
   "outputs": [],
   "source": [
    "overture_data_top_cat"
   ]
  },
  {
   "cell_type": "code",
   "execution_count": null,
   "metadata": {},
   "outputs": [],
   "source": [
    "overture_data.count()"
   ]
  },
  {
   "cell_type": "code",
   "execution_count": null,
   "metadata": {},
   "outputs": [],
   "source": [
    "overture_data.distinct(on=\"h3_id\").count()"
   ]
  },
  {
   "cell_type": "markdown",
   "metadata": {},
   "source": [
    "## Economic classification of Overture places and landuses"
   ]
  },
  {
   "cell_type": "code",
   "execution_count": null,
   "metadata": {},
   "outputs": [],
   "source": [
    "overture_data.head().execute()"
   ]
  },
  {
   "cell_type": "code",
   "execution_count": null,
   "metadata": {},
   "outputs": [],
   "source": [
    "overture_data.filter(~_.dose.isnull()).select(\"sec_cat\").distinct()"
   ]
  },
  {
   "cell_type": "code",
   "execution_count": null,
   "metadata": {},
   "outputs": [],
   "source": [
    "overture_data = overture_data.drop_null(subset=[\"dose\"],how=\"any\")"
   ]
  },
  {
   "cell_type": "code",
   "execution_count": null,
   "metadata": {},
   "outputs": [],
   "source": [
    "overture_data.count()"
   ]
  },
  {
   "cell_type": "code",
   "execution_count": null,
   "metadata": {},
   "outputs": [],
   "source": [
    "overture_data = overture_data.filter(_.match_score > .4)"
   ]
  },
  {
   "cell_type": "code",
   "execution_count": null,
   "metadata": {},
   "outputs": [],
   "source": [
    "overture_data.count()"
   ]
  },
  {
   "cell_type": "markdown",
   "metadata": {},
   "source": [
    "### ISIC categories mapped"
   ]
  },
  {
   "cell_type": "code",
   "execution_count": null,
   "metadata": {},
   "outputs": [],
   "source": [
    "places_isic = overture_data.select([\"id\",\"dose\",\"sec_cat\",\"x\",\"y\"])"
   ]
  },
  {
   "cell_type": "code",
   "execution_count": null,
   "metadata": {},
   "outputs": [],
   "source": [
    "places_isic.head()"
   ]
  },
  {
   "cell_type": "markdown",
   "metadata": {},
   "source": [
    "## Plotting DOSE classifications"
   ]
  },
  {
   "cell_type": "code",
   "execution_count": null,
   "metadata": {},
   "outputs": [],
   "source": [
    "places_isic = places_isic.drop_null(subset=\"dose\")"
   ]
  },
  {
   "cell_type": "code",
   "execution_count": null,
   "metadata": {},
   "outputs": [],
   "source": [
    "places_isic.head()"
   ]
  },
  {
   "cell_type": "code",
   "execution_count": null,
   "metadata": {},
   "outputs": [],
   "source": [
    "places_isic.dose.value_counts()"
   ]
  },
  {
   "cell_type": "code",
   "execution_count": null,
   "metadata": {},
   "outputs": [],
   "source": [
    "places_isic[places_isic.dose==\"manufacturing\"]"
   ]
  },
  {
   "cell_type": "markdown",
   "metadata": {},
   "source": [
    "## Adding econ data"
   ]
  },
  {
   "cell_type": "code",
   "execution_count": null,
   "metadata": {},
   "outputs": [],
   "source": [
    "conn.raw_sql(\n",
    "\"\"\"CREATE OR REPLACE TABLE dose_wdi as (\n",
    "    SELECT * FROM '../datasets/local_data/dose-wdi/0_4/dose_wdi_geo.parquet');\n",
    "\"\"\")"
   ]
  },
  {
   "cell_type": "code",
   "execution_count": null,
   "metadata": {},
   "outputs": [],
   "source": [
    "dose_wdi = conn.table(\"dose_wdi\")"
   ]
  },
  {
   "cell_type": "code",
   "execution_count": null,
   "metadata": {},
   "outputs": [],
   "source": [
    "dose_wdi = (\n",
    "    dose_wdi.select(\"gid_0\",\"country\",\"gid_1\",\"grp_usd_2015\",\"services_usd_2015\",\"manufacturing_usd_2015\",\"agriculture_usd_2015\",\"geometry\",\"x\",\"y\")\n",
    "    .filter(_.x>bbox[0],\n",
    "            _.x<bbox[2],\n",
    "            _.y>bbox[1],\n",
    "            _.y<bbox[3])\n",
    ")"
   ]
  },
  {
   "cell_type": "code",
   "execution_count": null,
   "metadata": {},
   "outputs": [],
   "source": [
    "print(dose_wdi.count())\n",
    "dose_wdi.head()"
   ]
  },
  {
   "cell_type": "markdown",
   "metadata": {},
   "source": [
    "## Spatial join v2\n",
    "\n",
    "This approach first groups features spatially on H3, then pivots the values to get a table with a row for each spatial index and the densities of features in each column. "
   ]
  },
  {
   "cell_type": "code",
   "execution_count": null,
   "metadata": {},
   "outputs": [],
   "source": [
    "overture_data.head()"
   ]
  },
  {
   "cell_type": "code",
   "execution_count": null,
   "metadata": {},
   "outputs": [],
   "source": [
    "overture_data = snoo.sn_project(overture_data,res=agg_res)"
   ]
  },
  {
   "cell_type": "code",
   "execution_count": null,
   "metadata": {},
   "outputs": [],
   "source": [
    "# overture_data.select(s.of_type(str) & ~s.matches(\"id\"))"
   ]
  },
  {
   "cell_type": "markdown",
   "metadata": {},
   "source": [
    "## Transorming the data"
   ]
  },
  {
   "cell_type": "code",
   "execution_count": null,
   "metadata": {},
   "outputs": [],
   "source": [
    "overture_h3_dens = (\n",
    "    overture_data\n",
    "    .select(\"id\",\"h3_id\",\"dose\")\n",
    "    .pivot_wider(\n",
    "        id_cols=\"h3_id\",\n",
    "        names_from=\"dose\",\n",
    "        values_from=\"id\",\n",
    "        values_agg=\"count\",\n",
    "        values_fill=0,\n",
    "    )\n",
    ")"
   ]
  },
  {
   "cell_type": "code",
   "execution_count": null,
   "metadata": {},
   "outputs": [],
   "source": [
    "overture_h3_dens.distinct(on=\"h3_id\").select(\"h3_id\").count()"
   ]
  },
  {
   "cell_type": "code",
   "execution_count": null,
   "metadata": {},
   "outputs": [],
   "source": [
    "overture_h3_geom = snoo.sn_add_centr(overture_h3_dens)\n",
    "overture_h3_geom.head()"
   ]
  },
  {
   "cell_type": "code",
   "execution_count": null,
   "metadata": {},
   "outputs": [],
   "source": [
    "# conn.drop_table(\"overture_h3_geom\")\n",
    "overture_h3_geom = conn.create_table(obj=overture_h3_geom,name=\"overture_h3_geom\")"
   ]
  },
  {
   "cell_type": "code",
   "execution_count": null,
   "metadata": {},
   "outputs": [],
   "source": [
    "conn.list_tables()"
   ]
  },
  {
   "cell_type": "code",
   "execution_count": null,
   "metadata": {},
   "outputs": [],
   "source": [
    "h3_gid_dens = overture_h3_geom.alias(\"t_geom\").sql(\"\"\"\n",
    "SELECT t_geom.* EXCLUDE geom,\n",
    "        dose_wdi.gid_1,\n",
    "        dose_wdi.gid_0,\n",
    "        dose_wdi.grp_usd_2015,\n",
    "        dose_wdi.services_usd_2015,\n",
    "        dose_wdi.manufacturing_usd_2015,\n",
    "        dose_wdi.agriculture_usd_2015\n",
    "    FROM t_geom \n",
    "    LEFT OUTER JOIN dose_wdi \n",
    "    ON ST_CONTAINS(dose_wdi.geometry,t_geom.geom::GEOMETRY);\n",
    "\"\"\").cache()"
   ]
  },
  {
   "cell_type": "code",
   "execution_count": null,
   "metadata": {},
   "outputs": [],
   "source": [
    "print(h3_gid_dens.count())\n",
    "h3_gid_dens.head()"
   ]
  },
  {
   "cell_type": "code",
   "execution_count": null,
   "metadata": {},
   "outputs": [],
   "source": [
    "conn.list_tables()"
   ]
  },
  {
   "cell_type": "code",
   "execution_count": null,
   "metadata": {},
   "outputs": [],
   "source": [
    "#  similar to previous cell but using windows: \n",
    "grid_dens = (\n",
    "    h3_gid_dens\n",
    "    .mutate(\n",
    "        services_dens=(_.services/_.services.sum().over(group_by=_.gid_1)),\n",
    "        manufacturing_dens=(_.manufacturing/_.manufacturing.sum().over(group_by=_.gid_1)),\n",
    "        )\n",
    "    .mutate(\n",
    "        services_h3_gdp = (_.services_dens*_.services_usd_2015).round(),\n",
    "        manufacturing_h3_gdp = (_.manufacturing_dens*_.manufacturing_usd_2015).round(),\n",
    "            )\n",
    "    .fill_null({\n",
    "        \"services_h3_gdp\" : 0,\n",
    "        \"manufacturing_h3_gdp\" : 0,\n",
    "        })\n",
    ")"
   ]
  },
  {
   "cell_type": "code",
   "execution_count": null,
   "metadata": {},
   "outputs": [],
   "source": [
    "grid_dens.head()"
   ]
  },
  {
   "cell_type": "code",
   "execution_count": null,
   "metadata": {},
   "outputs": [],
   "source": [
    "# ib.to_sql(grid_dens)"
   ]
  },
  {
   "cell_type": "code",
   "execution_count": null,
   "metadata": {},
   "outputs": [],
   "source": [
    "h3_grid=(\n",
    "    grid_dens\n",
    "    .select(~s.matches(\"(_usd_)|(_dens)|(agriculture)\")\n",
    "            )\n",
    ").execute()"
   ]
  },
  {
   "cell_type": "code",
   "execution_count": null,
   "metadata": {},
   "outputs": [],
   "source": [
    "print(h3_grid.shape)\n",
    "h3_grid.head()"
   ]
  },
  {
   "cell_type": "code",
   "execution_count": null,
   "metadata": {},
   "outputs": [],
   "source": [
    "h3_grid[\"services_cols\"] = cmap(input=h3_grid.services_h3_gdp,log=True,palette=gdp_pal)\n",
    "h3_grid[\"manufacturing_cols\"] = cmap(input=h3_grid.manufacturing_h3_gdp,log=True,palette=gdp_pal)"
   ]
  },
  {
   "cell_type": "markdown",
   "metadata": {},
   "source": [
    "### Formatted strings"
   ]
  },
  {
   "cell_type": "code",
   "execution_count": null,
   "metadata": {},
   "outputs": [],
   "source": [
    "h3_grid[\"serv_format\"] = h3_grid.services_h3_gdp.apply(lambda x: f\"{x:,}\")\n",
    "h3_grid[\"manuf_format\"] = h3_grid.manufacturing_h3_gdp.apply(lambda x: f\"{x:,}\")"
   ]
  },
  {
   "cell_type": "code",
   "execution_count": null,
   "metadata": {},
   "outputs": [],
   "source": [
    "# h3_grid"
   ]
  },
  {
   "cell_type": "markdown",
   "metadata": {},
   "source": [
    "## Map downscaled"
   ]
  },
  {
   "cell_type": "code",
   "execution_count": null,
   "metadata": {},
   "outputs": [],
   "source": [
    "# Define a layer to display on a map\n",
    "layer = pdk.Layer(\n",
    "    \"H3HexagonLayer\",\n",
    "    h3_grid[h3_grid.services_h3_gdp!=0],\n",
    "    pickable=True,\n",
    "    stroked=True,\n",
    "    filled=True,\n",
    "    opacity = .6,\n",
    "    extruded=False,\n",
    "    get_hexagon=\"h3_id\",\n",
    "    get_fill_color= \"services_cols\",\n",
    "    get_line_color=[255, 255, 255, 0],\n",
    "    line_width_min_pixels=1,\n",
    "    line_width_max_pixels=2,\n",
    ")\n",
    "\n",
    "# Render\n",
    "r = pdk.Deck(layers=[layer], initial_view_state=view_state, tooltip={\"html\": \"<h3> Estimated GDP </h3> <p> Services sector : {serv_format} </p> <p> Manufacturing sector : {manuf_format} </p>\"})\n",
    "r.to_html(f\"../deck_maps/{bbox_name}_h3_services_hexagon_layer.html\", iframe_height=700)"
   ]
  },
  {
   "cell_type": "code",
   "execution_count": null,
   "metadata": {},
   "outputs": [],
   "source": [
    "# Define a layer to display on a map\n",
    "# layer = pdk.Layer(\n",
    "#     \"H3HexagonLayer\",\n",
    "#     h3_grid[h3_grid.manufacturing_h3_gdp!=0],\n",
    "#     pickable=True,\n",
    "#     stroked=True,\n",
    "#     filled=True,\n",
    "#     opacity = .6,\n",
    "#     extruded=False,\n",
    "#     get_hexagon=\"h3_id\",\n",
    "#     get_fill_color= \"manufacturing_cols\",\n",
    "#     get_line_color=[255, 255, 255, 0],\n",
    "#     line_width_min_pixels=1,\n",
    "#     line_width_max_pixels=2,\n",
    "# )\n",
    "\n",
    "# # Render\n",
    "# r = pdk.Deck(layers=[layer], initial_view_state=view_state, tooltip={\"html\": \"<h3> Estimated GDP </h3> <p> Services sector : {serv_format} </p> <p> Manufacturing sector : {manuf_format} </p>\"})\n",
    "# r.to_html(f\"../deck_maps/{bbox_name}_h3_manufacturing_hexagon_layer.html\", iframe_height=700)"
   ]
  }
 ],
 "metadata": {
  "kernelspec": {
   "display_name": "Python 3",
   "language": "python",
   "name": "python3"
  },
  "language_info": {
   "codemirror_mode": {
    "name": "ipython",
    "version": 3
   },
   "file_extension": ".py",
   "mimetype": "text/x-python",
   "name": "python",
   "nbconvert_exporter": "python",
   "pygments_lexer": "ipython3",
   "version": "3.12.5"
  }
 },
 "nbformat": 4,
 "nbformat_minor": 2
}
