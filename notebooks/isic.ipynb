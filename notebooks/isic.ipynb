{
 "cells": [
  {
   "cell_type": "markdown",
   "metadata": {
    "vscode": {
     "languageId": "plaintext"
    }
   },
   "source": [
    "# Matching ISIC classifications\n",
    "\n",
    "From here :\n",
    "https://unstats.un.org/unsd/classifications/Econ "
   ]
  },
  {
   "cell_type": "code",
   "execution_count": 1,
   "metadata": {},
   "outputs": [
    {
     "name": "stderr",
     "output_type": "stream",
     "text": [
      "/Users/cenv1069/micromamba/envs/global-data/lib/python3.12/site-packages/sentence_transformers/cross_encoder/CrossEncoder.py:13: TqdmExperimentalWarning: Using `tqdm.autonotebook.tqdm` in notebook mode. Use `tqdm.tqdm` instead to force console mode (e.g. in jupyter console)\n",
      "  from tqdm.autonotebook import tqdm, trange\n"
     ]
    }
   ],
   "source": [
    "import re\n",
    "import itertools as iter\n",
    "import numpy as np\n",
    "\n",
    "# data\n",
    "import pandas as pd\n",
    "\n",
    "# import shapely\n",
    "from scalenav.plotting import cmap\n",
    "\n",
    "import ibis as ib\n",
    "from ibis import _\n",
    "ib.options.interactive = True\n",
    "\n",
    "from sentence_transformers import SentenceTransformer\n",
    "from sklearn.metrics.pairwise import cosine_similarity\n",
    "\n",
    "# plots\n",
    "from wordcloud import WordCloud\n",
    "\n",
    "# from datashader import transfer_functions as tf, reductions as rd"
   ]
  },
  {
   "cell_type": "code",
   "execution_count": 2,
   "metadata": {},
   "outputs": [
    {
     "name": "stdout",
     "output_type": "stream",
     "text": [
      "/Users/cenv1069/Documents/data/notebooks\n"
     ]
    }
   ],
   "source": [
    "from parameters import *"
   ]
  },
  {
   "cell_type": "markdown",
   "metadata": {},
   "source": [
    "## Support function "
   ]
  },
  {
   "cell_type": "code",
   "execution_count": 3,
   "metadata": {},
   "outputs": [],
   "source": [
    "# def fuzzy_match_category(poi_category, isic_df, threshold=60):\n",
    "#     match = process.extractOne(\n",
    "#         poi_category, \n",
    "#         isic_df['Description'], \n",
    "#         scorer=fuzz.ratio\n",
    "#     )\n",
    "#     # print(match)\n",
    "#     if match and match[1] >= threshold:\n",
    "#         return isic_df.iloc[match[2]][[\"Code\"]], # ,\"Description\"\n",
    "#     return None#, None"
   ]
  },
  {
   "cell_type": "markdown",
   "metadata": {},
   "source": [
    "## Data"
   ]
  },
  {
   "cell_type": "code",
   "execution_count": 4,
   "metadata": {},
   "outputs": [],
   "source": [
    "isic_simple = pd.read_csv(\"https://unstats.un.org/unsd/classifications/Econ/Download/In%20Text/ISIC_Rev_4_english_structure.Txt\")"
   ]
  },
  {
   "cell_type": "code",
   "execution_count": 5,
   "metadata": {},
   "outputs": [
    {
     "name": "stdout",
     "output_type": "stream",
     "text": [
      "(766, 2)\n"
     ]
    },
    {
     "data": {
      "application/vnd.microsoft.datawrangler.viewer.v0+json": {
       "columns": [
        {
         "name": "index",
         "rawType": "int64",
         "type": "integer"
        },
        {
         "name": "Code",
         "rawType": "object",
         "type": "string"
        },
        {
         "name": "Description",
         "rawType": "object",
         "type": "string"
        }
       ],
       "conversionMethod": "pd.DataFrame",
       "ref": "96a24ef3-7266-4d89-b0da-3869859c4446",
       "rows": [
        [
         "0",
         "A",
         "Agriculture, forestry and fishing"
        ],
        [
         "1",
         "01",
         "Crop and animal production, hunting and related service activities"
        ],
        [
         "2",
         "011",
         "Growing of non-perennial crops"
        ],
        [
         "3",
         "0111",
         "Growing of cereals (except rice), leguminous crops and oil seeds"
        ],
        [
         "4",
         "0112",
         "Growing of rice"
        ]
       ],
       "shape": {
        "columns": 2,
        "rows": 5
       }
      },
      "text/html": [
       "<div>\n",
       "<style scoped>\n",
       "    .dataframe tbody tr th:only-of-type {\n",
       "        vertical-align: middle;\n",
       "    }\n",
       "\n",
       "    .dataframe tbody tr th {\n",
       "        vertical-align: top;\n",
       "    }\n",
       "\n",
       "    .dataframe thead th {\n",
       "        text-align: right;\n",
       "    }\n",
       "</style>\n",
       "<table border=\"1\" class=\"dataframe\">\n",
       "  <thead>\n",
       "    <tr style=\"text-align: right;\">\n",
       "      <th></th>\n",
       "      <th>Code</th>\n",
       "      <th>Description</th>\n",
       "    </tr>\n",
       "  </thead>\n",
       "  <tbody>\n",
       "    <tr>\n",
       "      <th>0</th>\n",
       "      <td>A</td>\n",
       "      <td>Agriculture, forestry and fishing</td>\n",
       "    </tr>\n",
       "    <tr>\n",
       "      <th>1</th>\n",
       "      <td>01</td>\n",
       "      <td>Crop and animal production, hunting and relate...</td>\n",
       "    </tr>\n",
       "    <tr>\n",
       "      <th>2</th>\n",
       "      <td>011</td>\n",
       "      <td>Growing of non-perennial crops</td>\n",
       "    </tr>\n",
       "    <tr>\n",
       "      <th>3</th>\n",
       "      <td>0111</td>\n",
       "      <td>Growing of cereals (except rice), leguminous c...</td>\n",
       "    </tr>\n",
       "    <tr>\n",
       "      <th>4</th>\n",
       "      <td>0112</td>\n",
       "      <td>Growing of rice</td>\n",
       "    </tr>\n",
       "  </tbody>\n",
       "</table>\n",
       "</div>"
      ],
      "text/plain": [
       "   Code                                        Description\n",
       "0     A                  Agriculture, forestry and fishing\n",
       "1    01  Crop and animal production, hunting and relate...\n",
       "2   011                     Growing of non-perennial crops\n",
       "3  0111  Growing of cereals (except rice), leguminous c...\n",
       "4  0112                                    Growing of rice"
      ]
     },
     "execution_count": 5,
     "metadata": {},
     "output_type": "execute_result"
    }
   ],
   "source": [
    "print(isic_simple.shape)\n",
    "isic_simple.head()"
   ]
  },
  {
   "cell_type": "code",
   "execution_count": 6,
   "metadata": {},
   "outputs": [],
   "source": [
    "letter = []\n",
    "# number\n",
    "main_letter = \"A\"\n",
    "for val in isic_simple[\"Code\"]:\n",
    "    if re.search(r\"[A-Z]\",val):\n",
    "        main_letter = val\n",
    "        letter.append(main_letter)\n",
    "    else :\n",
    "        letter.append(main_letter)"
   ]
  },
  {
   "cell_type": "code",
   "execution_count": 7,
   "metadata": {},
   "outputs": [
    {
     "data": {
      "text/plain": [
       "['A', 'A', 'A', 'A', 'A']"
      ]
     },
     "execution_count": 7,
     "metadata": {},
     "output_type": "execute_result"
    }
   ],
   "source": [
    "letter[0:5]"
   ]
  },
  {
   "cell_type": "code",
   "execution_count": 8,
   "metadata": {},
   "outputs": [],
   "source": [
    "isic_simple[\"section\"]=letter"
   ]
  },
  {
   "cell_type": "code",
   "execution_count": 9,
   "metadata": {},
   "outputs": [],
   "source": [
    "filt = [True if re.search(r\"^\\d{2}$\",string=x) else False for x in isic_simple.Code]\n",
    "isic_double = isic_simple.loc[filt].copy()"
   ]
  },
  {
   "cell_type": "code",
   "execution_count": 10,
   "metadata": {},
   "outputs": [
    {
     "name": "stdout",
     "output_type": "stream",
     "text": [
      "(88, 3)\n"
     ]
    },
    {
     "data": {
      "application/vnd.microsoft.datawrangler.viewer.v0+json": {
       "columns": [
        {
         "name": "index",
         "rawType": "int64",
         "type": "integer"
        },
        {
         "name": "Code",
         "rawType": "object",
         "type": "string"
        },
        {
         "name": "Description",
         "rawType": "object",
         "type": "string"
        },
        {
         "name": "section",
         "rawType": "object",
         "type": "string"
        }
       ],
       "conversionMethod": "pd.DataFrame",
       "ref": "baa2ef80-44c1-4750-9f33-52e2c271e190",
       "rows": [
        [
         "1",
         "01",
         "Crop and animal production, hunting and related service activities",
         "A"
        ],
        [
         "39",
         "02",
         "Forestry and logging",
         "A"
        ],
        [
         "48",
         "03",
         "Fishing and aquaculture",
         "A"
        ],
        [
         "56",
         "05",
         "Mining of coal and lignite",
         "B"
        ],
        [
         "61",
         "06",
         "Extraction of crude petroleum and natural gas",
         "B"
        ]
       ],
       "shape": {
        "columns": 3,
        "rows": 5
       }
      },
      "text/html": [
       "<div>\n",
       "<style scoped>\n",
       "    .dataframe tbody tr th:only-of-type {\n",
       "        vertical-align: middle;\n",
       "    }\n",
       "\n",
       "    .dataframe tbody tr th {\n",
       "        vertical-align: top;\n",
       "    }\n",
       "\n",
       "    .dataframe thead th {\n",
       "        text-align: right;\n",
       "    }\n",
       "</style>\n",
       "<table border=\"1\" class=\"dataframe\">\n",
       "  <thead>\n",
       "    <tr style=\"text-align: right;\">\n",
       "      <th></th>\n",
       "      <th>Code</th>\n",
       "      <th>Description</th>\n",
       "      <th>section</th>\n",
       "    </tr>\n",
       "  </thead>\n",
       "  <tbody>\n",
       "    <tr>\n",
       "      <th>1</th>\n",
       "      <td>01</td>\n",
       "      <td>Crop and animal production, hunting and relate...</td>\n",
       "      <td>A</td>\n",
       "    </tr>\n",
       "    <tr>\n",
       "      <th>39</th>\n",
       "      <td>02</td>\n",
       "      <td>Forestry and logging</td>\n",
       "      <td>A</td>\n",
       "    </tr>\n",
       "    <tr>\n",
       "      <th>48</th>\n",
       "      <td>03</td>\n",
       "      <td>Fishing and aquaculture</td>\n",
       "      <td>A</td>\n",
       "    </tr>\n",
       "    <tr>\n",
       "      <th>56</th>\n",
       "      <td>05</td>\n",
       "      <td>Mining of coal and lignite</td>\n",
       "      <td>B</td>\n",
       "    </tr>\n",
       "    <tr>\n",
       "      <th>61</th>\n",
       "      <td>06</td>\n",
       "      <td>Extraction of crude petroleum and natural gas</td>\n",
       "      <td>B</td>\n",
       "    </tr>\n",
       "  </tbody>\n",
       "</table>\n",
       "</div>"
      ],
      "text/plain": [
       "   Code                                        Description section\n",
       "1    01  Crop and animal production, hunting and relate...       A\n",
       "39   02                               Forestry and logging       A\n",
       "48   03                            Fishing and aquaculture       A\n",
       "56   05                         Mining of coal and lignite       B\n",
       "61   06      Extraction of crude petroleum and natural gas       B"
      ]
     },
     "execution_count": 10,
     "metadata": {},
     "output_type": "execute_result"
    }
   ],
   "source": [
    "print(isic_double.shape)\n",
    "isic_double.head()"
   ]
  },
  {
   "cell_type": "markdown",
   "metadata": {},
   "source": [
    "### Adding detail for better learning \n",
    "By concatenating the description for all the subclasses into a single one."
   ]
  },
  {
   "cell_type": "code",
   "execution_count": 11,
   "metadata": {},
   "outputs": [],
   "source": [
    "detailed_descr=[]\n",
    "for ind,ind_p in zip(isic_double.index[:-1],isic_double.index[1:]):\n",
    "    detailed_descr.append(\", \".join(isic_simple.iloc[ind:ind_p][\"Description\"]))\n",
    "detailed_descr.append(\", \".join(isic_simple.iloc[isic_double.index[-1]:][\"Description\"]))"
   ]
  },
  {
   "cell_type": "code",
   "execution_count": 12,
   "metadata": {},
   "outputs": [
    {
     "name": "stdout",
     "output_type": "stream",
     "text": [
      "88\n"
     ]
    },
    {
     "data": {
      "text/plain": [
       "['Crop and animal production, hunting and related service activities, Growing of non-perennial crops, Growing of cereals (except rice), leguminous crops and oil seeds, Growing of rice, Growing of vegetables and melons, roots and tubers, Growing of sugar cane, Growing of tobacco, Growing of fibre crops, Growing of other non-perennial crops, Growing of perennial crops, Growing of grapes, Growing of tropical and subtropical fruits, Growing of citrus fruits, Growing of pome fruits and stone fruits, Growing of other tree and bush fruits and nuts, Growing of oleaginous fruits, Growing of beverage crops, Growing of spices, aromatic, drug and pharmaceutical crops, Growing of other perennial crops, Plant propagation, Plant propagation, Animal production, Raising of cattle and buffaloes, Raising of horses and other equines, Raising of camels and camelids, Raising of sheep and goats, Raising of swine/pigs, Raising of poultry, Raising of other animals, Mixed farming, Mixed farming, Support activities to agriculture and post-harvest crop activities, Support activities for crop production, Support activities for animal production, Post-harvest crop activities, Seed processing for propagation, Hunting, trapping and related service activities, Hunting, trapping and related service activities',\n",
       " 'Forestry and logging, Silviculture and other forestry activities, Silviculture and other forestry activities, Logging, Logging, Gathering of non-wood forest products, Gathering of non-wood forest products, Support services to forestry, Support services to forestry',\n",
       " 'Fishing and aquaculture, Fishing, Marine fishing, Freshwater fishing, Aquaculture, Marine aquaculture, Freshwater aquaculture, Mining and quarrying',\n",
       " 'Mining of coal and lignite, Mining of hard coal, Mining of hard coal, Mining of lignite, Mining of lignite',\n",
       " 'Extraction of crude petroleum and natural gas, Extraction of crude petroleum, Extraction of crude petroleum, Extraction of natural gas, Extraction of natural gas',\n",
       " 'Mining of metal ores, Mining of iron ores, Mining of iron ores, Mining of non-ferrous metal ores, Mining of uranium and thorium ores, Mining of other non-ferrous metal ores',\n",
       " 'Other mining and quarrying, Quarrying of stone, sand and clay, Quarrying of stone, sand and clay, Mining and quarrying n.e.c., Mining of chemical and fertilizer minerals, Extraction of peat, Extraction of salt, Other mining and quarrying n.e.c.',\n",
       " 'Mining support service activities, Support activities for petroleum and natural gas extraction, Support activities for petroleum and natural gas extraction, Support activities for other mining and quarrying, Support activities for other mining and quarrying, Manufacturing',\n",
       " 'Manufacture of food products, Processing and preserving of meat, Processing and preserving of meat, Processing and preserving of fish, crustaceans and molluscs, Processing and preserving of fish, crustaceans and molluscs, Processing and preserving of fruit and vegetables, Processing and preserving of fruit and vegetables, Manufacture of vegetable and animal oils and fats, Manufacture of vegetable and animal oils and fats, Manufacture of dairy products, Manufacture of dairy products, Manufacture of grain mill products, starches and starch products, Manufacture of grain mill products, Manufacture of starches and starch products, Manufacture of other food products, Manufacture of bakery products, Manufacture of sugar, Manufacture of cocoa, chocolate and sugar confectionery, Manufacture of macaroni, noodles, couscous and similar farinaceous products, Manufacture of prepared meals and dishes, Manufacture of other food products n.e.c., Manufacture of prepared animal feeds, Manufacture of prepared animal feeds',\n",
       " 'Manufacture of beverages, Manufacture of beverages, Distilling, rectifying and blending of spirits, Manufacture of wines, Manufacture of malt liquors and malt, Manufacture of soft drinks; production of mineral waters and other bottled waters',\n",
       " 'Manufacture of tobacco products, Manufacture of tobacco products, Manufacture of tobacco products',\n",
       " 'Manufacture of textiles, Spinning, weaving and finishing of textiles, Preparation and spinning of textile fibres, Weaving of textiles, Finishing of textiles, Manufacture of other textiles, Manufacture of knitted and crocheted fabrics, Manufacture of made-up textile articles, except apparel, Manufacture of carpets and rugs, Manufacture of cordage, rope, twine and netting, Manufacture of other textiles n.e.c.',\n",
       " 'Manufacture of wearing apparel, Manufacture of wearing apparel, except fur apparel, Manufacture of wearing apparel, except fur apparel, Manufacture of articles of fur, Manufacture of articles of fur, Manufacture of knitted and crocheted apparel, Manufacture of knitted and crocheted apparel',\n",
       " 'Manufacture of leather and related products, Tanning and dressing of leather; manufacture of luggage, handbags, saddlery and harness; dressing and dyeing of fur, Tanning and dressing of leather; dressing and dyeing of fur, Manufacture of luggage, handbags and the like, saddlery and harness, Manufacture of footwear, Manufacture of footwear',\n",
       " \"Manufacture of wood and of products of wood and cork, except furniture; manufacture of articles of straw and plaiting materials, Sawmilling and planing of wood, Sawmilling and planing of wood, Manufacture of products of wood, cork, straw and plaiting materials, Manufacture of veneer sheets and wood-based panels, Manufacture of builders' carpentry and joinery, Manufacture of wooden containers, Manufacture of other products of wood; manufacture of articles of cork, straw and plaiting materials\",\n",
       " 'Manufacture of paper and paper products, Manufacture of paper and paper products, Manufacture of pulp, paper and paperboard, Manufacture of corrugated paper and paperboard and of containers of paper and paperboard, Manufacture of other articles of paper and paperboard',\n",
       " 'Printing and reproduction of recorded media, Printing and service activities related to printing, Printing, Service activities related to printing, Reproduction of recorded media, Reproduction of recorded media',\n",
       " 'Manufacture of coke and refined petroleum products, Manufacture of coke oven products, Manufacture of coke oven products, Manufacture of refined petroleum products, Manufacture of refined petroleum products',\n",
       " 'Manufacture of chemicals and chemical products, Manufacture of basic chemicals, fertilizers and nitrogen compounds, plastics and synthetic rubber in primary forms, Manufacture of basic chemicals, Manufacture of fertilizers and nitrogen compounds, Manufacture of plastics and synthetic rubber in primary forms, Manufacture of other chemical products, Manufacture of pesticides and other agrochemical products, Manufacture of paints, varnishes and similar coatings, printing ink and mastics, Manufacture of soap and detergents, cleaning and polishing preparations, perfumes and toilet preparations, Manufacture of other chemical products n.e.c., Manufacture of man-made fibres, Manufacture of man-made fibres',\n",
       " 'Manufacture of basic pharmaceutical products and pharmaceutical preparations, Manufacture of pharmaceuticals, medicinal chemical and botanical products, Manufacture of pharmaceuticals, medicinal chemical and botanical products',\n",
       " 'Manufacture of rubber and plastics products, Manufacture of rubber products, Manufacture of rubber tyres and tubes; retreading and rebuilding of rubber tyres, Manufacture of other rubber products, Manufacture of plastics products, Manufacture of plastics products',\n",
       " 'Manufacture of other non-metallic mineral products, Manufacture of glass and glass products, Manufacture of glass and glass products, Manufacture of non-metallic mineral products n.e.c., Manufacture of refractory products, Manufacture of clay building materials, Manufacture of other porcelain and ceramic products, Manufacture of cement, lime and plaster, Manufacture of articles of concrete, cement and plaster, Cutting, shaping and finishing of stone, Manufacture of other non-metallic mineral products n.e.c.',\n",
       " 'Manufacture of basic metals, Manufacture of basic iron and steel, Manufacture of basic iron and steel, Manufacture of basic precious and other non-ferrous metals, Manufacture of basic precious and other non-ferrous metals, Casting of metals, Casting of iron and steel, Casting of non-ferrous metals',\n",
       " 'Manufacture of fabricated metal products, except machinery and equipment, Manufacture of structural metal products, tanks, reservoirs and steam generators, Manufacture of structural metal products, Manufacture of tanks, reservoirs and containers of metal, Manufacture of steam generators, except central heating hot water boilers, Manufacture of weapons and ammunition, Manufacture of weapons and ammunition, Manufacture of other fabricated metal products; metalworking service activities, Forging, pressing, stamping and roll-forming of metal; powder metallurgy, Treatment and coating of metals; machining, Manufacture of cutlery, hand tools and general hardware, Manufacture of other fabricated metal products n.e.c.',\n",
       " 'Manufacture of computer, electronic and optical products, Manufacture of electronic components and boards, Manufacture of electronic components and boards, Manufacture of computers and peripheral equipment, Manufacture of computers and peripheral equipment, Manufacture of communication equipment, Manufacture of communication equipment, Manufacture of consumer electronics, Manufacture of consumer electronics, Manufacture of measuring, testing, navigating and control equipment; watches and clocks, Manufacture of measuring, testing, navigating and control equipment, Manufacture of watches and clocks, Manufacture of irradiation, electromedical and electrotherapeutic equipment, Manufacture of irradiation, electromedical and electrotherapeutic equipment, Manufacture of optical instruments and photographic equipment, Manufacture of optical instruments and photographic equipment, Manufacture of magnetic and optical media, Manufacture of magnetic and optical media',\n",
       " 'Manufacture of electrical equipment, Manufacture of electric motors, generators, transformers and electricity distribution and control apparatus, Manufacture of electric motors, generators, transformers and electricity distribution and control apparatus, Manufacture of batteries and accumulators, Manufacture of batteries and accumulators, Manufacture of wiring and wiring devices, Manufacture of fibre optic cables, Manufacture of other electronic and electric wires and cables, Manufacture of wiring devices, Manufacture of electric lighting equipment, Manufacture of electric lighting equipment, Manufacture of domestic appliances, Manufacture of domestic appliances, Manufacture of other electrical equipment, Manufacture of other electrical equipment',\n",
       " 'Manufacture of machinery and equipment n.e.c., Manufacture of general-purpose machinery, Manufacture of engines and turbines, except aircraft, vehicle and cycle engines, Manufacture of fluid power equipment, Manufacture of other pumps, compressors, taps and valves, Manufacture of bearings, gears, gearing and driving elements, Manufacture of ovens, furnaces and furnace burners, Manufacture of lifting and handling equipment, Manufacture of office machinery and equipment (except computers and peripheral equipment), Manufacture of power-driven hand tools, Manufacture of other general-purpose machinery, Manufacture of special-purpose machinery, Manufacture of agricultural and forestry machinery, Manufacture of metal-forming machinery and machine tools, Manufacture of machinery for metallurgy, Manufacture of machinery for mining, quarrying and construction, Manufacture of machinery for food, beverage and tobacco processing, Manufacture of machinery for textile, apparel and leather production, Manufacture of other special-purpose machinery',\n",
       " 'Manufacture of motor vehicles, trailers and semi-trailers, Manufacture of motor vehicles, Manufacture of motor vehicles, Manufacture of bodies (coachwork) for motor vehicles; manufacture of trailers and semi-trailers, Manufacture of bodies (coachwork) for motor vehicles; manufacture of trailers and semi-trailers, Manufacture of parts and accessories for motor vehicles, Manufacture of parts and accessories for motor vehicles',\n",
       " 'Manufacture of other transport equipment, Building of ships and boats, Building of ships and floating structures, Building of pleasure and sporting boats, Manufacture of railway locomotives and rolling stock, Manufacture of railway locomotives and rolling stock, Manufacture of air and spacecraft and related machinery, Manufacture of air and spacecraft and related machinery, Manufacture of military fighting vehicles, Manufacture of military fighting vehicles, Manufacture of transport equipment n.e.c., Manufacture of motorcycles, Manufacture of bicycles and invalid carriages, Manufacture of other transport equipment n.e.c.',\n",
       " 'Manufacture of furniture, Manufacture of furniture, Manufacture of furniture',\n",
       " 'Other manufacturing, Manufacture of jewellery, bijouterie and related articles, Manufacture of jewellery and related articles, Manufacture of imitation jewellery and related articles, Manufacture of musical instruments, Manufacture of musical instruments, Manufacture of sports goods, Manufacture of sports goods, Manufacture of games and toys, Manufacture of games and toys, Manufacture of medical and dental instruments and supplies, Manufacture of medical and dental instruments and supplies, Other manufacturing n.e.c., Other manufacturing n.e.c.',\n",
       " 'Repair and installation of machinery and equipment, Repair of fabricated metal products, machinery and equipment, Repair of fabricated metal products, Repair of machinery, Repair of electronic and optical equipment, Repair of electrical equipment, Repair of transport equipment, except motor vehicles, Repair of other equipment, Installation of industrial machinery and equipment, Installation of industrial machinery and equipment, Electricity, gas, steam and air conditioning supply',\n",
       " 'Electricity, gas, steam and air conditioning supply, Electric power generation, transmission and distribution, Electric power generation, transmission and distribution, Manufacture of gas; distribution of gaseous fuels through mains, Manufacture of gas; distribution of gaseous fuels through mains, Steam and air conditioning supply, Steam and air conditioning supply, Water supply; sewerage, waste management and remediation activities',\n",
       " 'Water collection, treatment and supply, Water collection, treatment and supply, Water collection, treatment and supply',\n",
       " 'Sewerage, Sewerage, Sewerage',\n",
       " 'Waste collection, treatment and disposal activities; materials recovery, Waste collection, Collection of non-hazardous waste, Collection of hazardous waste, Waste treatment and disposal, Treatment and disposal of non-hazardous waste, Treatment and disposal of hazardous waste, Materials recovery, Materials recovery',\n",
       " 'Remediation activities and other waste management services, Remediation activities and other waste management services, Remediation activities and other waste management services, Construction',\n",
       " 'Construction of buildings, Construction of buildings, Construction of buildings',\n",
       " 'Civil engineering, Construction of roads and railways, Construction of roads and railways, Construction of utility projects, Construction of utility projects, Construction of other civil engineering projects, Construction of other civil engineering projects',\n",
       " 'Specialized construction activities, Demolition and site preparation, Demolition, Site preparation, Electrical, plumbing and other construction installation activities, Electrical installation, Plumbing, heat and air-conditioning installation, Other construction installation, Building completion and finishing, Building completion and finishing, Other specialized construction activities, Other specialized construction activities, Wholesale and retail trade; repair of motor vehicles and motorcycles',\n",
       " 'Wholesale and retail trade and repair of motor vehicles and motorcycles, Sale of motor vehicles, Sale of motor vehicles, Maintenance and repair of motor vehicles, Maintenance and repair of motor vehicles, Sale of motor vehicle parts and accessories, Sale of motor vehicle parts and accessories, Sale, maintenance and repair of motorcycles and related parts and accessories, Sale, maintenance and repair of motorcycles and related parts and accessories',\n",
       " 'Wholesale trade, except of motor vehicles and motorcycles, Wholesale on a fee or contract basis, Wholesale on a fee or contract basis, Wholesale of agricultural raw materials and live animals, Wholesale of agricultural raw materials and live animals, Wholesale of food, beverages and tobacco, Wholesale of food, beverages and tobacco, Wholesale of household goods, Wholesale of textiles, clothing and footwear, Wholesale of other household goods, Wholesale of machinery, equipment and supplies, Wholesale of computers, computer peripheral equipment and software, Wholesale of electronic and telecommunications equipment and parts, Wholesale of agricultural machinery, equipment and supplies, Wholesale of other machinery and equipment, Other specialized wholesale, Wholesale of solid, liquid and gaseous fuels and related products, Wholesale of metals and metal ores, Wholesale of construction materials, hardware, plumbing and heating equipment and supplies, Wholesale of waste and scrap and other products n.e.c., Non-specialized wholesale trade, Non-specialized wholesale trade',\n",
       " 'Retail trade, except of motor vehicles and motorcycles, Retail sale in non-specialized stores, Retail sale in non-specialized stores with food, beverages or tobacco predominating, Other retail sale in non-specialized stores, Retail sale of food, beverages and tobacco in specialized stores, Retail sale of food in specialized stores, Retail sale of beverages in specialized stores, Retail sale of tobacco products in specialized stores, Retail sale of automotive fuel in specialized stores, Retail sale of automotive fuel in specialized stores, Retail sale of information and communications equipment in specialized stores, Retail sale of computers, peripheral units, software and telecommunications equipment in specialized stores, Retail sale of audio and video equipment in specialized stores, Retail sale of other household equipment in specialized stores, Retail sale of textiles in specialized stores, Retail sale of hardware, paints and glass in specialized stores, Retail sale of carpets, rugs, wall and floor coverings in specialized stores, Retail sale of electrical household appliances, furniture, lighting equipment and other household articles in specialized stores, Retail sale of cultural and recreation goods in specialized stores, Retail sale of books, newspapers and stationary in specialized stores, Retail sale of music and video recordings in specialized stores, Retail sale of sporting equipment in specialized stores, Retail sale of games and toys in specialized stores, Retail sale of other goods in specialized stores, Retail sale of clothing, footwear and leather articles in specialized stores, Retail sale of pharmaceutical and medical goods, cosmetic and toilet articles in specialized stores, Other retail sale of new goods in specialized stores, Retail sale of second-hand goods, Retail sale via stalls and markets, Retail sale via stalls and markets of food, beverages and tobacco products, Retail sale via stalls and markets of textiles, clothing and footwear, Retail sale via stalls and markets of other goods, Retail trade not in stores, stalls or markets, Retail sale via mail order houses or via Internet, Other retail sale not in stores, stalls or markets, Transportation and storage',\n",
       " 'Land transport and transport via pipelines, Transport via railways, Passenger rail transport, interurban, Freight rail transport, Other land transport, Urban and suburban passenger land transport, Other passenger land transport, Freight transport by road, Transport via pipeline, Transport via pipeline',\n",
       " 'Water transport, Sea and coastal water transport, Sea and coastal passenger water transport, Sea and coastal freight water transport, Inland water transport, Inland passenger water transport, Inland freight water transport',\n",
       " 'Air transport, Passenger air transport, Passenger air transport, Freight air transport, Freight air transport',\n",
       " 'Warehousing and support activities for transportation, Warehousing and storage, Warehousing and storage, Support activities for transportation, Service activities incidental to land transportation, Service activities incidental to water transportation, Service activities incidental to air transportation, Cargo handling, Other transportation support activities',\n",
       " 'Postal and courier activities, Postal activities, Postal activities, Courier activities, Courier activities, Accommodation and food service activities',\n",
       " 'Accommodation, Short term accommodation activities, Short term accommodation activities, Camping grounds, recreational vehicle parks and trailer parks, Camping grounds, recreational vehicle parks and trailer parks, Other accommodation, Other accommodation',\n",
       " 'Food and beverage service activities, Restaurants and mobile food service activities, Restaurants and mobile food service activities, Event catering and other food service activities, Event catering, Other food service activities, Beverage serving activities, Beverage serving activities, Information and communication',\n",
       " 'Publishing activities, Publishing of books, periodicals and other publishing activities, Book publishing, Publishing of directories and mailing lists, Publishing of newspapers, journals and periodicals, Other publishing activities, Software publishing, Software publishing',\n",
       " 'Motion picture, video and television programme production, sound recording and music publishing activities, Motion picture, video and television programme activities, Motion picture, video and television programme production activities, Motion picture, video and television programme post-production activities, Motion picture, video and television programme distribution activities, Motion picture projection activities, Sound recording and music publishing activities, Sound recording and music publishing activities',\n",
       " 'Programming and broadcasting activities, Radio broadcasting, Radio broadcasting, Television programming and broadcasting activities, Television programming and broadcasting activities',\n",
       " 'Telecommunications, Wired telecommunications activities, Wired telecommunications activities, Wireless telecommunications activities, Wireless telecommunications activities, Satellite telecommunications activities, Satellite telecommunications activities, Other telecommunications activities, Other telecommunications activities',\n",
       " 'Computer programming, consultancy and related activities, Computer programming, consultancy and related activities, Computer programming activities, Computer consultancy and computer facilities management activities, Other information technology and computer service activities',\n",
       " 'Information service activities, Data processing, hosting and related activities; web portals, Data processing, hosting and related activities, Web portals, Other information service activities, News agency activities, Other information service activities n.e.c., Financial and insurance activities',\n",
       " 'Financial service activities, except insurance and pension funding, Monetary intermediation, Central banking, Other monetary intermediation, Activities of holding companies, Activities of holding companies, Trusts, funds and similar financial entities, Trusts, funds and similar financial entities, Other financial service activities, except insurance and pension funding activities, Financial leasing, Other credit granting, Other financial service activities, except insurance and pension funding activities, n.e.c.',\n",
       " 'Insurance, reinsurance and pension funding, except compulsory social security, Insurance, Life insurance, Non-life insurance, Reinsurance, Reinsurance, Pension funding, Pension funding',\n",
       " 'Activities auxiliary to financial service and insurance activities, Activities auxiliary to financial service activities, except insurance and pension funding, Administration of financial markets, Security and commodity contracts brokerage, Other activities auxiliary to financial service activities, Activities auxiliary to insurance and pension funding, Risk and damage evaluation, Activities of insurance agents and brokers, Other activities auxiliary to insurance and pension funding, Fund management activities, Fund management activities, Real estate activities',\n",
       " 'Real estate activities, Real estate activities with own or leased property, Real estate activities with own or leased property, Real estate activities on a fee or contract basis, Real estate activities on a fee or contract basis, Professional, scientific and technical activities',\n",
       " 'Legal and accounting activities, Legal activities, Legal activities, Accounting, bookkeeping and auditing activities; tax consultancy, Accounting, bookkeeping and auditing activities; tax consultancy',\n",
       " 'Activities of head offices; management consultancy activities, Activities of head offices, Activities of head offices, Management consultancy activities, Management consultancy activities',\n",
       " 'Architectural and engineering activities; technical testing and analysis, Architectural and engineering activities and related technical consultancy, Architectural and engineering activities and related technical consultancy, Technical testing and analysis, Technical testing and analysis',\n",
       " 'Scientific research and development, Research and experimental development on natural sciences and engineering, Research and experimental development on natural sciences and engineering, Research and experimental development on social sciences and humanities, Research and experimental development on social sciences and humanities',\n",
       " 'Advertising and market research, Advertising, Advertising, Market research and public opinion polling, Market research and public opinion polling',\n",
       " 'Other professional, scientific and technical activities, Specialized design activities, Specialized design activities, Photographic activities, Photographic activities, Other professional, scientific and technical activities n.e.c., Other professional, scientific and technical activities n.e.c.',\n",
       " 'Veterinary activities, Veterinary activities, Veterinary activities, Administrative and support service activities',\n",
       " 'Rental and leasing activities, Renting and leasing of motor vehicles, Renting and leasing of motor vehicles, Renting and leasing of personal and household goods, Renting and leasing of recreational and sports goods, Renting of video tapes and disks, Renting and leasing of other personal and household goods, Renting and leasing of other machinery, equipment and tangible goods, Renting and leasing of other machinery, equipment and tangible goods, Leasing of intellectual property and similar products, except copyrighted works, Leasing of intellectual property and similar products, except copyrighted works',\n",
       " 'Employment activities, Activities of employment placement agencies, Activities of employment placement agencies, Temporary employment agency activities, Temporary employment agency activities, Other human resources provision, Other human resources provision',\n",
       " 'Travel agency, tour operator, reservation service and related activities, Travel agency and tour operator activities, Travel agency activities, Tour operator activities, Other reservation service and related activities, Other reservation service and related activities',\n",
       " 'Security and investigation activities, Private security activities, Private security activities, Security systems service activities, Security systems service activities, Investigation activities, Investigation activities',\n",
       " 'Services to buildings and landscape activities, Combined facilities support activities, Combined facilities support activities, Cleaning activities, General cleaning of buildings, Other building and industrial cleaning activities, Landscape care and maintenance service activities, Landscape care and maintenance service activities',\n",
       " 'Office administrative, office support and other business support activities, Office administrative and support activities, Combined office administrative service activities, Photocopying, document preparation and other specialized office support activities, Activities of call centres, Activities of call centres, Organization of conventions and trade shows, Organization of conventions and trade shows, Business support service activities n.e.c., Activities of collection agencies and credit bureaus, Packaging activities, Other business support service activities n.e.c., Public administration and defence; compulsory social security',\n",
       " 'Public administration and defence; compulsory social security, Administration of the State and the economic and social policy of the community, General public administration activities, Regulation of the activities of providing health care, education, cultural services and other social services, excluding social security, Regulation of and contribution to more efficient operation of businesses, Provision of services to the community as a whole, Foreign affairs, Defence activities, Public order and safety activities, Compulsory social security activities, Compulsory social security activities, Education',\n",
       " 'Education, Pre-primary and primary education, Pre-primary and primary education, Secondary education, General secondary education, Technical and vocational secondary education, Higher education, Higher education, Other education, Sports and recreation education, Cultural education, Other education n.e.c., Educational support activities, Educational support activities, Human health and social work activities',\n",
       " 'Human health activities, Hospital activities, Hospital activities, Medical and dental practice activities, Medical and dental practice activities, Other human health activities, Other human health activities',\n",
       " 'Residential care activities, Residential nursing care facilities, Residential nursing care facilities, Residential care activities for mental retardation, mental health and substance abuse, Residential care activities for mental retardation, mental health and substance abuse, Residential care activities for the elderly and disabled, Residential care activities for the elderly and disabled, Other residential care activities, Other residential care activities',\n",
       " 'Social work activities without accommodation, Social work activities without accommodation for the elderly and disabled, Social work activities without accommodation for the elderly and disabled, Other social work activities without accommodation, Other social work activities without accommodation, Arts, entertainment and recreation',\n",
       " 'Creative, arts and entertainment activities, Creative, arts and entertainment activities, Creative, arts and entertainment activities',\n",
       " 'Libraries, archives, museums and other cultural activities, Libraries, archives, museums and other cultural activities, Library and archives activities, Museums activities and operation of historical sites and buildings, Botanical and zoological gardens and nature reserves activities',\n",
       " 'Gambling and betting activities, Gambling and betting activities, Gambling and betting activities',\n",
       " 'Sports activities and amusement and recreation activities, Sports activities, Operation of sports facilities, Activities of sports clubs, Other sports activities, Other amusement and recreation activities, Activities of amusement parks and theme parks, Other amusement and recreation activities n.e.c., Other service activities',\n",
       " 'Activities of membership organizations, Activities of business, employers and professional membership organizations, Activities of business and employers membership organizations, Activities of professional membership organizations, Activities of trade unions, Activities of trade unions, Activities of other membership organizations, Activities of religious organizations, Activities of political organizations, Activities of other membership organizations n.e.c.',\n",
       " 'Repair of computers and personal and household goods, Repair of computers and communication equipment, Repair of computers and peripheral equipment, Repair of communication equipment, Repair of personal and household goods, Repair of consumer electronics, Repair of household appliances and home and garden equipment, Repair of footwear and leather goods, Repair of furniture and home furnishings, Repair of other personal and household goods',\n",
       " 'Other personal service activities, Other personal service activities, Washing and (dry-) cleaning of textile and fur products, Hairdressing and other beauty treatment, Funeral and related activities, Other personal service activities n.e.c., Activities of households as employers; undifferentiated goods- and services-producing activities of households for own use',\n",
       " 'Activities of households as employers of domestic personnel, Activities of households as employers of domestic personnel, Activities of households as employers of domestic personnel',\n",
       " 'Undifferentiated goods- and services-producing activities of private households for own use, Undifferentiated goods-producing activities of private households for own use, Undifferentiated goods-producing activities of private households for own use, Undifferentiated service-producing activities of private households for own use, Undifferentiated service-producing activities of private households for own use, Activities of extraterritorial organizations and bodies',\n",
       " 'Activities of extraterritorial organizations and bodies, Activities of extraterritorial organizations and bodies, Activities of extraterritorial organizations and bodies']"
      ]
     },
     "execution_count": 12,
     "metadata": {},
     "output_type": "execute_result"
    }
   ],
   "source": [
    "print(len(detailed_descr))\n",
    "detailed_descr"
   ]
  },
  {
   "cell_type": "code",
   "execution_count": 13,
   "metadata": {},
   "outputs": [],
   "source": [
    "isic_double[\"detailed_descr\"] = detailed_descr"
   ]
  },
  {
   "cell_type": "markdown",
   "metadata": {},
   "source": [
    "### Matching DOSE, high level aggregation"
   ]
  },
  {
   "cell_type": "code",
   "execution_count": 14,
   "metadata": {},
   "outputs": [],
   "source": [
    "dose_types = {\"services\" : \"G-U\"\n",
    "              ,\"manufacturing\" : \"B-F\"\n",
    "              ,\"agriculture\" : \"A\"}"
   ]
  },
  {
   "cell_type": "code",
   "execution_count": 15,
   "metadata": {},
   "outputs": [],
   "source": [
    "dose_to_isic = [key for x in isic_double.section for (key,val) in dose_types.items() if re.search(pattern=f\"[{val}]\",string=x)]"
   ]
  },
  {
   "cell_type": "code",
   "execution_count": 16,
   "metadata": {},
   "outputs": [],
   "source": [
    "isic_double[\"dose\"] = dose_to_isic"
   ]
  },
  {
   "cell_type": "code",
   "execution_count": 17,
   "metadata": {},
   "outputs": [
    {
     "data": {
      "text/plain": [
       "'Manufacture of beverages, Manufacture of beverages, Distilling, rectifying and blending of spirits, Manufacture of wines, Manufacture of malt liquors and malt, Manufacture of soft drinks; production of mineral waters and other bottled waters'"
      ]
     },
     "execution_count": 17,
     "metadata": {},
     "output_type": "execute_result"
    }
   ],
   "source": [
    "isic_double.iloc[9].loc[\"detailed_descr\"]"
   ]
  },
  {
   "cell_type": "markdown",
   "metadata": {},
   "source": [
    "## Combining with place type from Overture"
   ]
  },
  {
   "cell_type": "code",
   "execution_count": 18,
   "metadata": {},
   "outputs": [],
   "source": [
    "place_types = pd.read_csv(\"data/overture_place_types.csv\")\n",
    "landuse_type = pd.read_csv(\"data/overture_landuse_type.csv\")"
   ]
  },
  {
   "cell_type": "code",
   "execution_count": 19,
   "metadata": {},
   "outputs": [
    {
     "data": {
      "application/vnd.microsoft.datawrangler.viewer.v0+json": {
       "columns": [
        {
         "name": "index",
         "rawType": "int64",
         "type": "integer"
        },
        {
         "name": "main_cat",
         "rawType": "object",
         "type": "string"
        },
        {
         "name": "sec_cat",
         "rawType": "object",
         "type": "string"
        },
        {
         "name": "raw_cat",
         "rawType": "object",
         "type": "string"
        }
       ],
       "conversionMethod": "pd.DataFrame",
       "ref": "75fd4d10-c1fa-4c20-8707-56b3a99f0729",
       "rows": [
        [
         "0",
         "eat_and_drink",
         "eat_and_drink",
         "eat_and_drink"
        ],
        [
         "1",
         "eat_and_drink",
         "restaurant",
         "restaurant"
        ],
        [
         "2",
         "eat_and_drink",
         "restaurant",
         "afghan_restaurant"
        ],
        [
         "3",
         "eat_and_drink",
         "restaurant",
         "african_restaurant"
        ],
        [
         "4",
         "eat_and_drink",
         "restaurant",
         "ethiopian_restaurant"
        ]
       ],
       "shape": {
        "columns": 3,
        "rows": 5
       }
      },
      "text/html": [
       "<div>\n",
       "<style scoped>\n",
       "    .dataframe tbody tr th:only-of-type {\n",
       "        vertical-align: middle;\n",
       "    }\n",
       "\n",
       "    .dataframe tbody tr th {\n",
       "        vertical-align: top;\n",
       "    }\n",
       "\n",
       "    .dataframe thead th {\n",
       "        text-align: right;\n",
       "    }\n",
       "</style>\n",
       "<table border=\"1\" class=\"dataframe\">\n",
       "  <thead>\n",
       "    <tr style=\"text-align: right;\">\n",
       "      <th></th>\n",
       "      <th>main_cat</th>\n",
       "      <th>sec_cat</th>\n",
       "      <th>raw_cat</th>\n",
       "    </tr>\n",
       "  </thead>\n",
       "  <tbody>\n",
       "    <tr>\n",
       "      <th>0</th>\n",
       "      <td>eat_and_drink</td>\n",
       "      <td>eat_and_drink</td>\n",
       "      <td>eat_and_drink</td>\n",
       "    </tr>\n",
       "    <tr>\n",
       "      <th>1</th>\n",
       "      <td>eat_and_drink</td>\n",
       "      <td>restaurant</td>\n",
       "      <td>restaurant</td>\n",
       "    </tr>\n",
       "    <tr>\n",
       "      <th>2</th>\n",
       "      <td>eat_and_drink</td>\n",
       "      <td>restaurant</td>\n",
       "      <td>afghan_restaurant</td>\n",
       "    </tr>\n",
       "    <tr>\n",
       "      <th>3</th>\n",
       "      <td>eat_and_drink</td>\n",
       "      <td>restaurant</td>\n",
       "      <td>african_restaurant</td>\n",
       "    </tr>\n",
       "    <tr>\n",
       "      <th>4</th>\n",
       "      <td>eat_and_drink</td>\n",
       "      <td>restaurant</td>\n",
       "      <td>ethiopian_restaurant</td>\n",
       "    </tr>\n",
       "  </tbody>\n",
       "</table>\n",
       "</div>"
      ],
      "text/plain": [
       "        main_cat        sec_cat               raw_cat\n",
       "0  eat_and_drink  eat_and_drink         eat_and_drink\n",
       "1  eat_and_drink     restaurant            restaurant\n",
       "2  eat_and_drink     restaurant     afghan_restaurant\n",
       "3  eat_and_drink     restaurant    african_restaurant\n",
       "4  eat_and_drink     restaurant  ethiopian_restaurant"
      ]
     },
     "execution_count": 19,
     "metadata": {},
     "output_type": "execute_result"
    }
   ],
   "source": [
    "place_types.head()"
   ]
  },
  {
   "cell_type": "code",
   "execution_count": 20,
   "metadata": {},
   "outputs": [],
   "source": [
    "place_types.drop_duplicates(\"sec_cat\",inplace=True)"
   ]
  },
  {
   "cell_type": "code",
   "execution_count": 21,
   "metadata": {},
   "outputs": [],
   "source": [
    "landuses_raw = landuse_type.iloc[:,0].values.tolist()"
   ]
  },
  {
   "cell_type": "markdown",
   "metadata": {},
   "source": [
    "### Landuse"
   ]
  },
  {
   "cell_type": "code",
   "execution_count": 22,
   "metadata": {},
   "outputs": [],
   "source": [
    "landuse_type = pd.DataFrame([x.split(\" \") for x in landuses_raw],columns=[\"sec_cat\",\"main_cat\"])"
   ]
  },
  {
   "cell_type": "code",
   "execution_count": 23,
   "metadata": {},
   "outputs": [
    {
     "data": {
      "application/vnd.microsoft.datawrangler.viewer.v0+json": {
       "columns": [
        {
         "name": "index",
         "rawType": "int64",
         "type": "integer"
        },
        {
         "name": "sec_cat",
         "rawType": "object",
         "type": "string"
        },
        {
         "name": "main_cat",
         "rawType": "object",
         "type": "string"
        }
       ],
       "conversionMethod": "pd.DataFrame",
       "ref": "55d89566-10d7-4636-aa98-0fc8710b0e06",
       "rows": [
        [
         "0",
         "greenfield",
         "construction"
        ],
        [
         "1",
         "college",
         "education"
        ],
        [
         "2",
         "village_green",
         "park"
        ],
        [
         "3",
         "nature_reserve",
         "protected"
        ],
        [
         "4",
         "education",
         "education"
        ]
       ],
       "shape": {
        "columns": 2,
        "rows": 5
       }
      },
      "text/html": [
       "<div>\n",
       "<style scoped>\n",
       "    .dataframe tbody tr th:only-of-type {\n",
       "        vertical-align: middle;\n",
       "    }\n",
       "\n",
       "    .dataframe tbody tr th {\n",
       "        vertical-align: top;\n",
       "    }\n",
       "\n",
       "    .dataframe thead th {\n",
       "        text-align: right;\n",
       "    }\n",
       "</style>\n",
       "<table border=\"1\" class=\"dataframe\">\n",
       "  <thead>\n",
       "    <tr style=\"text-align: right;\">\n",
       "      <th></th>\n",
       "      <th>sec_cat</th>\n",
       "      <th>main_cat</th>\n",
       "    </tr>\n",
       "  </thead>\n",
       "  <tbody>\n",
       "    <tr>\n",
       "      <th>0</th>\n",
       "      <td>greenfield</td>\n",
       "      <td>construction</td>\n",
       "    </tr>\n",
       "    <tr>\n",
       "      <th>1</th>\n",
       "      <td>college</td>\n",
       "      <td>education</td>\n",
       "    </tr>\n",
       "    <tr>\n",
       "      <th>2</th>\n",
       "      <td>village_green</td>\n",
       "      <td>park</td>\n",
       "    </tr>\n",
       "    <tr>\n",
       "      <th>3</th>\n",
       "      <td>nature_reserve</td>\n",
       "      <td>protected</td>\n",
       "    </tr>\n",
       "    <tr>\n",
       "      <th>4</th>\n",
       "      <td>education</td>\n",
       "      <td>education</td>\n",
       "    </tr>\n",
       "  </tbody>\n",
       "</table>\n",
       "</div>"
      ],
      "text/plain": [
       "          sec_cat      main_cat\n",
       "0      greenfield  construction\n",
       "1         college     education\n",
       "2   village_green          park\n",
       "3  nature_reserve     protected\n",
       "4       education     education"
      ]
     },
     "execution_count": 23,
     "metadata": {},
     "output_type": "execute_result"
    }
   ],
   "source": [
    "landuse_type.head()"
   ]
  },
  {
   "cell_type": "markdown",
   "metadata": {},
   "source": [
    "### Overture categories together"
   ]
  },
  {
   "cell_type": "code",
   "execution_count": 24,
   "metadata": {},
   "outputs": [],
   "source": [
    "overture_cats = pd.concat([place_types,landuse_type],axis=0,ignore_index=True)"
   ]
  },
  {
   "cell_type": "code",
   "execution_count": 25,
   "metadata": {},
   "outputs": [
    {
     "name": "stdout",
     "output_type": "stream",
     "text": [
      "(812, 3)\n"
     ]
    },
    {
     "data": {
      "application/vnd.microsoft.datawrangler.viewer.v0+json": {
       "columns": [
        {
         "name": "index",
         "rawType": "int64",
         "type": "integer"
        },
        {
         "name": "main_cat",
         "rawType": "object",
         "type": "string"
        },
        {
         "name": "sec_cat",
         "rawType": "object",
         "type": "string"
        },
        {
         "name": "raw_cat",
         "rawType": "object",
         "type": "string"
        }
       ],
       "conversionMethod": "pd.DataFrame",
       "ref": "07f988b7-ff1f-41d7-8632-5fee1797ca14",
       "rows": [
        [
         "0",
         "eat_and_drink",
         "eat_and_drink",
         "eat_and_drink"
        ],
        [
         "1",
         "eat_and_drink",
         "restaurant",
         "restaurant"
        ],
        [
         "2",
         "eat_and_drink",
         "bar",
         "bar"
        ],
        [
         "3",
         "eat_and_drink",
         "cafe",
         "cafe"
        ],
        [
         "4",
         "accommodation",
         "accommodation",
         "accommodation"
        ]
       ],
       "shape": {
        "columns": 3,
        "rows": 5
       }
      },
      "text/html": [
       "<div>\n",
       "<style scoped>\n",
       "    .dataframe tbody tr th:only-of-type {\n",
       "        vertical-align: middle;\n",
       "    }\n",
       "\n",
       "    .dataframe tbody tr th {\n",
       "        vertical-align: top;\n",
       "    }\n",
       "\n",
       "    .dataframe thead th {\n",
       "        text-align: right;\n",
       "    }\n",
       "</style>\n",
       "<table border=\"1\" class=\"dataframe\">\n",
       "  <thead>\n",
       "    <tr style=\"text-align: right;\">\n",
       "      <th></th>\n",
       "      <th>main_cat</th>\n",
       "      <th>sec_cat</th>\n",
       "      <th>raw_cat</th>\n",
       "    </tr>\n",
       "  </thead>\n",
       "  <tbody>\n",
       "    <tr>\n",
       "      <th>0</th>\n",
       "      <td>eat_and_drink</td>\n",
       "      <td>eat_and_drink</td>\n",
       "      <td>eat_and_drink</td>\n",
       "    </tr>\n",
       "    <tr>\n",
       "      <th>1</th>\n",
       "      <td>eat_and_drink</td>\n",
       "      <td>restaurant</td>\n",
       "      <td>restaurant</td>\n",
       "    </tr>\n",
       "    <tr>\n",
       "      <th>2</th>\n",
       "      <td>eat_and_drink</td>\n",
       "      <td>bar</td>\n",
       "      <td>bar</td>\n",
       "    </tr>\n",
       "    <tr>\n",
       "      <th>3</th>\n",
       "      <td>eat_and_drink</td>\n",
       "      <td>cafe</td>\n",
       "      <td>cafe</td>\n",
       "    </tr>\n",
       "    <tr>\n",
       "      <th>4</th>\n",
       "      <td>accommodation</td>\n",
       "      <td>accommodation</td>\n",
       "      <td>accommodation</td>\n",
       "    </tr>\n",
       "  </tbody>\n",
       "</table>\n",
       "</div>"
      ],
      "text/plain": [
       "        main_cat        sec_cat        raw_cat\n",
       "0  eat_and_drink  eat_and_drink  eat_and_drink\n",
       "1  eat_and_drink     restaurant     restaurant\n",
       "2  eat_and_drink            bar            bar\n",
       "3  eat_and_drink           cafe           cafe\n",
       "4  accommodation  accommodation  accommodation"
      ]
     },
     "execution_count": 25,
     "metadata": {},
     "output_type": "execute_result"
    }
   ],
   "source": [
    "print(overture_cats.shape)\n",
    "overture_cats.head()#[overture_cats.main_cat=='transport']"
   ]
  },
  {
   "cell_type": "code",
   "execution_count": 26,
   "metadata": {},
   "outputs": [
    {
     "data": {
      "text/plain": [
       "800"
      ]
     },
     "execution_count": 26,
     "metadata": {},
     "output_type": "execute_result"
    }
   ],
   "source": [
    "overture_cats.sec_cat.nunique()"
   ]
  },
  {
   "cell_type": "markdown",
   "metadata": {},
   "source": [
    "## Using LLMs : background\n",
    "\n",
    "We use a lightweight sentence encoder model to match categories in incoming data sets to the reference ISIC classifications. This helps bring the desciptions and categorical variables in the incoming data sets to a standardised and commonly used definition of economic activity. \n",
    "\n",
    "More information : \n",
    "[SBERT light weight models](https://www.sbert.net/docs/sentence_transformer/pretrained_models.html)"
   ]
  },
  {
   "cell_type": "markdown",
   "metadata": {},
   "source": [
    "## Model setup for classification"
   ]
  },
  {
   "cell_type": "code",
   "execution_count": 27,
   "metadata": {},
   "outputs": [],
   "source": [
    "model = SentenceTransformer(selected_model)\n",
    "\n",
    "# Precompute embeddings for ISIC categories\n",
    "isic_double['embedding'] = isic_double[\"detailed_descr\"].apply(lambda x: model.encode(x))"
   ]
  },
  {
   "cell_type": "markdown",
   "metadata": {},
   "source": [
    "### Embedding and matching function"
   ]
  },
  {
   "cell_type": "code",
   "execution_count": 28,
   "metadata": {},
   "outputs": [],
   "source": [
    "def embedding_match_category(poi_category, isic_df):\n",
    "    poi_embedding = model.encode(poi_category)\n",
    "    embeddings = list(isic_df['embedding'])\n",
    "    similarities = cosine_similarity([poi_embedding], embeddings)[0]\n",
    "    best_match_index = similarities.argmax()\n",
    "    best_match_score = similarities[best_match_index]\n",
    "    best_match_row = isic_df.iloc[best_match_index]\n",
    "    \n",
    "    return [best_match_row['section'],best_match_row['Code'], best_match_row['Description'], best_match_row['dose'], best_match_score]"
   ]
  },
  {
   "cell_type": "markdown",
   "metadata": {},
   "source": [
    "## Matching categories"
   ]
  },
  {
   "cell_type": "code",
   "execution_count": 29,
   "metadata": {},
   "outputs": [],
   "source": [
    "# fuzzy_thres = .2\n",
    "# place_types[\"fuzzy_isic\"] = place_types[\"raw_cat\"].apply(lambda x: fuzzy_match_category(x.replace(\"_\",\" \"),isic_simple)) # ,\"isic_description\""
   ]
  },
  {
   "cell_type": "code",
   "execution_count": 30,
   "metadata": {},
   "outputs": [],
   "source": [
    "overture_cats[[\"section\",\"isic_embed\", \"isic_descr\",\"dose\", \"match_score\"]] = [\n",
    "    *overture_cats[\"sec_cat\"].apply(\n",
    "        lambda x: embedding_match_category(x.replace(\"_\", \" \"), isic_double)\n",
    "    )\n",
    "]"
   ]
  },
  {
   "cell_type": "code",
   "execution_count": 31,
   "metadata": {},
   "outputs": [
    {
     "data": {
      "text/plain": [
       "(812, 8)"
      ]
     },
     "execution_count": 31,
     "metadata": {},
     "output_type": "execute_result"
    }
   ],
   "source": [
    "overture_cats.shape"
   ]
  },
  {
   "cell_type": "code",
   "execution_count": 32,
   "metadata": {},
   "outputs": [
    {
     "data": {
      "application/vnd.microsoft.datawrangler.viewer.v0+json": {
       "columns": [
        {
         "name": "index",
         "rawType": "int64",
         "type": "integer"
        },
        {
         "name": "sec_cat",
         "rawType": "object",
         "type": "string"
        },
        {
         "name": "section",
         "rawType": "object",
         "type": "string"
        },
        {
         "name": "isic_embed",
         "rawType": "object",
         "type": "string"
        },
        {
         "name": "isic_descr",
         "rawType": "object",
         "type": "string"
        },
        {
         "name": "dose",
         "rawType": "object",
         "type": "string"
        },
        {
         "name": "match_score",
         "rawType": "object",
         "type": "unknown"
        }
       ],
       "conversionMethod": "pd.DataFrame",
       "ref": "6cf5f60c-c9b1-464f-aced-f030ea2f9a88",
       "rows": [
        [
         "0",
         "eat_and_drink",
         "Q",
         "86",
         "Human health activities",
         "services",
         "0.26407650113105774"
        ],
        [
         "2",
         "bar",
         "R",
         "92",
         "Gambling and betting activities",
         "services",
         "0.2504656910896301"
        ],
        [
         "6",
         "cabin",
         "C",
         "31",
         "Manufacture of furniture",
         "manufacturing",
         "0.28590697050094604"
        ],
        [
         "12",
         "hostel",
         "I",
         "55",
         "Accommodation",
         "services",
         "0.2874944508075714"
        ],
        [
         "14",
         "inn",
         "I",
         "55",
         "Accommodation",
         "services",
         "0.2508334815502167"
        ],
        [
         "15",
         "lodge",
         "R",
         "92",
         "Gambling and betting activities",
         "services",
         "0.1839679777622223"
        ],
        [
         "16",
         "motel",
         "I",
         "55",
         "Accommodation",
         "services",
         "0.2930336892604828"
        ],
        [
         "18",
         "resort",
         "N",
         "79",
         "Travel agency, tour operator, reservation service and related activities",
         "services",
         "0.2886270582675934"
        ],
        [
         "35",
         "truck_stop",
         "G",
         "45",
         "Wholesale and retail trade and repair of motor vehicles and motorcycles",
         "services",
         "0.2962411344051361"
        ],
        [
         "42",
         "arcade",
         "R",
         "93",
         "Sports activities and amusement and recreation activities",
         "services",
         "0.2885025441646576"
        ],
        [
         "43",
         "auditorium",
         "R",
         "90",
         "Creative, arts and entertainment activities",
         "services",
         "0.2459292858839035"
        ],
        [
         "44",
         "bar_crawl",
         "S",
         "94",
         "Activities of membership organizations",
         "services",
         "0.25692546367645264"
        ],
        [
         "48",
         "cabaret",
         "J",
         "59",
         "Motion picture, video and television programme production, sound recording and music publishing activities",
         "services",
         "0.21240438520908356"
        ],
        [
         "49",
         "carousel",
         "R",
         "90",
         "Creative, arts and entertainment activities",
         "services",
         "0.23370477557182312"
        ],
        [
         "52",
         "choir",
         "R",
         "90",
         "Creative, arts and entertainment activities",
         "services",
         "0.2530968189239502"
        ],
        [
         "55",
         "comedy_club",
         "R",
         "90",
         "Creative, arts and entertainment activities",
         "services",
         "0.29774391651153564"
        ],
        [
         "57",
         "country_club",
         "R",
         "93",
         "Sports activities and amusement and recreation activities",
         "services",
         "0.2776029109954834"
        ],
        [
         "58",
         "country_dance_hall",
         "R",
         "91",
         "Libraries, archives, museums and other cultural activities",
         "services",
         "0.23039162158966064"
        ],
        [
         "59",
         "dance_club",
         "R",
         "90",
         "Creative, arts and entertainment activities",
         "services",
         "0.27418410778045654"
        ],
        [
         "60",
         "dinner_theater",
         "I",
         "56",
         "Food and beverage service activities",
         "services",
         "0.26724526286125183"
        ],
        [
         "62",
         "escape_rooms",
         "Q",
         "88",
         "Social work activities without accommodation",
         "services",
         "0.25487443804740906"
        ],
        [
         "64",
         "glass_blowing",
         "C",
         "31",
         "Manufacture of furniture",
         "manufacturing",
         "0.21989743411540985"
        ],
        [
         "67",
         "jazz_and_blues",
         "R",
         "90",
         "Creative, arts and entertainment activities",
         "services",
         "0.28549230098724365"
        ],
        [
         "69",
         "laser_tag",
         "S",
         "95",
         "Repair of computers and personal and household goods",
         "services",
         "0.2278667390346527"
        ],
        [
         "71",
         "marching_band",
         "S",
         "94",
         "Activities of membership organizations",
         "services",
         "0.24951718747615814"
        ],
        [
         "73",
         "musical_band_orchestras_and_symphonies",
         "J",
         "59",
         "Motion picture, video and television programme production, sound recording and music publishing activities",
         "services",
         "0.25153401494026184"
        ],
        [
         "75",
         "paint_and_sip",
         "R",
         "90",
         "Creative, arts and entertainment activities",
         "services",
         "0.2639668583869934"
        ],
        [
         "76",
         "paintball",
         "R",
         "93",
         "Sports activities and amusement and recreation activities",
         "services",
         "0.2942188084125519"
        ],
        [
         "79",
         "rodeo",
         "R",
         "92",
         "Gambling and betting activities",
         "services",
         "0.2516553997993469"
        ],
        [
         "80",
         "salsa_club",
         "S",
         "94",
         "Activities of membership organizations",
         "services",
         "0.21773572266101837"
        ],
        [
         "82",
         "stadium_arena",
         "R",
         "93",
         "Sports activities and amusement and recreation activities",
         "services",
         "0.29783833026885986"
        ],
        [
         "86",
         "virtual_reality_center",
         "R",
         "90",
         "Creative, arts and entertainment activities",
         "services",
         "0.24555182456970215"
        ],
        [
         "92",
         "supernatural_reading",
         "R",
         "90",
         "Creative, arts and entertainment activities",
         "services",
         "0.1485225111246109"
        ],
        [
         "99",
         "axe_throwing",
         "A",
         "02",
         "Forestry and logging",
         "agriculture",
         "0.2038365751504898"
        ],
        [
         "101",
         "beach",
         "R",
         "93",
         "Sports activities and amusement and recreation activities",
         "services",
         "0.25058484077453613"
        ],
        [
         "108",
         "canyon",
         "R",
         "91",
         "Libraries, archives, museums and other cultural activities",
         "services",
         "0.15669909119606018"
        ],
        [
         "109",
         "castle",
         "F",
         "41",
         "Construction of buildings",
         "manufacturing",
         "0.27145761251449585"
        ],
        [
         "110",
         "cave",
         "E",
         "37",
         "Sewerage",
         "manufacturing",
         "0.22265681624412537"
        ],
        [
         "112",
         "cliff_jumping_center",
         "R",
         "93",
         "Sports activities and amusement and recreation activities",
         "services",
         "0.2065088450908661"
        ],
        [
         "114",
         "crater",
         "E",
         "37",
         "Sewerage",
         "manufacturing",
         "0.20749709010124207"
        ],
        [
         "118",
         "fort",
         "E",
         "37",
         "Sewerage",
         "manufacturing",
         "0.2205638289451599"
        ],
        [
         "121",
         "haunted_house",
         "E",
         "37",
         "Sewerage",
         "manufacturing",
         "0.18428587913513184"
        ],
        [
         "122",
         "high_gliding_center",
         "R",
         "93",
         "Sports activities and amusement and recreation activities",
         "services",
         "0.16404147446155548"
        ],
        [
         "124",
         "hot_air_balloons_tour",
         "H",
         "51",
         "Air transport",
         "services",
         "0.27735182642936707"
        ],
        [
         "125",
         "hot_springs",
         "E",
         "36",
         "Water collection, treatment and supply",
         "manufacturing",
         "0.27348706126213074"
        ],
        [
         "127",
         "kiteboarding_instruction",
         "R",
         "93",
         "Sports activities and amusement and recreation activities",
         "services",
         "0.283092737197876"
        ],
        [
         "130",
         "lighthouse",
         "F",
         "41",
         "Construction of buildings",
         "manufacturing",
         "0.1898733377456665"
        ],
        [
         "131",
         "lookout",
         "N",
         "80",
         "Security and investigation activities",
         "services",
         "0.2279946655035019"
        ],
        [
         "132",
         "marina",
         "E",
         "37",
         "Sewerage",
         "manufacturing",
         "0.28488558530807495"
        ],
        [
         "137",
         "palace",
         "E",
         "37",
         "Sewerage",
         "manufacturing",
         "0.23170892894268036"
        ]
       ],
       "shape": {
        "columns": 6,
        "rows": 234
       }
      },
      "text/html": [
       "<div>\n",
       "<style scoped>\n",
       "    .dataframe tbody tr th:only-of-type {\n",
       "        vertical-align: middle;\n",
       "    }\n",
       "\n",
       "    .dataframe tbody tr th {\n",
       "        vertical-align: top;\n",
       "    }\n",
       "\n",
       "    .dataframe thead th {\n",
       "        text-align: right;\n",
       "    }\n",
       "</style>\n",
       "<table border=\"1\" class=\"dataframe\">\n",
       "  <thead>\n",
       "    <tr style=\"text-align: right;\">\n",
       "      <th></th>\n",
       "      <th>sec_cat</th>\n",
       "      <th>section</th>\n",
       "      <th>isic_embed</th>\n",
       "      <th>isic_descr</th>\n",
       "      <th>dose</th>\n",
       "      <th>match_score</th>\n",
       "    </tr>\n",
       "  </thead>\n",
       "  <tbody>\n",
       "    <tr>\n",
       "      <th>0</th>\n",
       "      <td>eat_and_drink</td>\n",
       "      <td>Q</td>\n",
       "      <td>86</td>\n",
       "      <td>Human health activities</td>\n",
       "      <td>services</td>\n",
       "      <td>0.264077</td>\n",
       "    </tr>\n",
       "    <tr>\n",
       "      <th>2</th>\n",
       "      <td>bar</td>\n",
       "      <td>R</td>\n",
       "      <td>92</td>\n",
       "      <td>Gambling and betting activities</td>\n",
       "      <td>services</td>\n",
       "      <td>0.250466</td>\n",
       "    </tr>\n",
       "    <tr>\n",
       "      <th>6</th>\n",
       "      <td>cabin</td>\n",
       "      <td>C</td>\n",
       "      <td>31</td>\n",
       "      <td>Manufacture of furniture</td>\n",
       "      <td>manufacturing</td>\n",
       "      <td>0.285907</td>\n",
       "    </tr>\n",
       "    <tr>\n",
       "      <th>12</th>\n",
       "      <td>hostel</td>\n",
       "      <td>I</td>\n",
       "      <td>55</td>\n",
       "      <td>Accommodation</td>\n",
       "      <td>services</td>\n",
       "      <td>0.287494</td>\n",
       "    </tr>\n",
       "    <tr>\n",
       "      <th>14</th>\n",
       "      <td>inn</td>\n",
       "      <td>I</td>\n",
       "      <td>55</td>\n",
       "      <td>Accommodation</td>\n",
       "      <td>services</td>\n",
       "      <td>0.250833</td>\n",
       "    </tr>\n",
       "    <tr>\n",
       "      <th>...</th>\n",
       "      <td>...</td>\n",
       "      <td>...</td>\n",
       "      <td>...</td>\n",
       "      <td>...</td>\n",
       "      <td>...</td>\n",
       "      <td>...</td>\n",
       "    </tr>\n",
       "    <tr>\n",
       "      <th>798</th>\n",
       "      <td>driving_range</td>\n",
       "      <td>G</td>\n",
       "      <td>45</td>\n",
       "      <td>Wholesale and retail trade and repair of motor...</td>\n",
       "      <td>services</td>\n",
       "      <td>0.289407</td>\n",
       "    </tr>\n",
       "    <tr>\n",
       "      <th>799</th>\n",
       "      <td>schoolyard</td>\n",
       "      <td>E</td>\n",
       "      <td>37</td>\n",
       "      <td>Sewerage</td>\n",
       "      <td>manufacturing</td>\n",
       "      <td>0.256795</td>\n",
       "    </tr>\n",
       "    <tr>\n",
       "      <th>802</th>\n",
       "      <td>brownfield</td>\n",
       "      <td>E</td>\n",
       "      <td>37</td>\n",
       "      <td>Sewerage</td>\n",
       "      <td>manufacturing</td>\n",
       "      <td>0.230865</td>\n",
       "    </tr>\n",
       "    <tr>\n",
       "      <th>804</th>\n",
       "      <td>meadow</td>\n",
       "      <td>N</td>\n",
       "      <td>81</td>\n",
       "      <td>Services to buildings and landscape activities</td>\n",
       "      <td>services</td>\n",
       "      <td>0.229788</td>\n",
       "    </tr>\n",
       "    <tr>\n",
       "      <th>808</th>\n",
       "      <td>beach_resort</td>\n",
       "      <td>N</td>\n",
       "      <td>79</td>\n",
       "      <td>Travel agency, tour operator, reservation serv...</td>\n",
       "      <td>services</td>\n",
       "      <td>0.287185</td>\n",
       "    </tr>\n",
       "  </tbody>\n",
       "</table>\n",
       "<p>234 rows × 6 columns</p>\n",
       "</div>"
      ],
      "text/plain": [
       "           sec_cat section isic_embed  \\\n",
       "0    eat_and_drink       Q         86   \n",
       "2              bar       R         92   \n",
       "6            cabin       C         31   \n",
       "12          hostel       I         55   \n",
       "14             inn       I         55   \n",
       "..             ...     ...        ...   \n",
       "798  driving_range       G         45   \n",
       "799     schoolyard       E         37   \n",
       "802     brownfield       E         37   \n",
       "804         meadow       N         81   \n",
       "808   beach_resort       N         79   \n",
       "\n",
       "                                            isic_descr           dose  \\\n",
       "0                              Human health activities       services   \n",
       "2                      Gambling and betting activities       services   \n",
       "6                             Manufacture of furniture  manufacturing   \n",
       "12                                       Accommodation       services   \n",
       "14                                       Accommodation       services   \n",
       "..                                                 ...            ...   \n",
       "798  Wholesale and retail trade and repair of motor...       services   \n",
       "799                                           Sewerage  manufacturing   \n",
       "802                                           Sewerage  manufacturing   \n",
       "804     Services to buildings and landscape activities       services   \n",
       "808  Travel agency, tour operator, reservation serv...       services   \n",
       "\n",
       "    match_score  \n",
       "0      0.264077  \n",
       "2      0.250466  \n",
       "6      0.285907  \n",
       "12     0.287494  \n",
       "14     0.250833  \n",
       "..          ...  \n",
       "798    0.289407  \n",
       "799    0.256795  \n",
       "802    0.230865  \n",
       "804    0.229788  \n",
       "808    0.287185  \n",
       "\n",
       "[234 rows x 6 columns]"
      ]
     },
     "execution_count": 32,
     "metadata": {},
     "output_type": "execute_result"
    }
   ],
   "source": [
    "overture_cats.loc[overture_cats.match_score<0.3,[\"sec_cat\",\"section\",\"isic_embed\",\"isic_descr\",\"dose\",\"match_score\"]]"
   ]
  },
  {
   "cell_type": "code",
   "execution_count": 33,
   "metadata": {},
   "outputs": [
    {
     "data": {
      "text/plain": [
       "array(['hazardous_waste_disposal', 'E', '39',\n",
       "       'Remediation activities and other waste management services',\n",
       "       'manufacturing', 0.6262050867080688], dtype=object)"
      ]
     },
     "execution_count": 33,
     "metadata": {},
     "output_type": "execute_result"
    }
   ],
   "source": [
    "overture_cats.loc[630,[\"sec_cat\",\"section\",\"isic_embed\",\"isic_descr\",\"dose\",\"match_score\"]].values"
   ]
  },
  {
   "cell_type": "code",
   "execution_count": 34,
   "metadata": {},
   "outputs": [
    {
     "data": {
      "application/vnd.microsoft.datawrangler.viewer.v0+json": {
       "columns": [
        {
         "name": "index",
         "rawType": "int64",
         "type": "integer"
        },
        {
         "name": "main_cat",
         "rawType": "object",
         "type": "string"
        },
        {
         "name": "sec_cat",
         "rawType": "object",
         "type": "string"
        },
        {
         "name": "raw_cat",
         "rawType": "object",
         "type": "string"
        },
        {
         "name": "section",
         "rawType": "object",
         "type": "string"
        },
        {
         "name": "isic_embed",
         "rawType": "object",
         "type": "string"
        },
        {
         "name": "isic_descr",
         "rawType": "object",
         "type": "string"
        },
        {
         "name": "dose",
         "rawType": "object",
         "type": "string"
        },
        {
         "name": "match_score",
         "rawType": "object",
         "type": "unknown"
        }
       ],
       "conversionMethod": "pd.DataFrame",
       "ref": "38a40f2d-c58c-4e69-946c-c17643ca855b",
       "rows": [
        [
         "258",
         "retail",
         "shopping",
         "shopping",
         "G",
         "47",
         "Retail trade, except of motor vehicles and motorcycles",
         "services",
         "0.47710737586021423"
        ]
       ],
       "shape": {
        "columns": 8,
        "rows": 1
       }
      },
      "text/html": [
       "<div>\n",
       "<style scoped>\n",
       "    .dataframe tbody tr th:only-of-type {\n",
       "        vertical-align: middle;\n",
       "    }\n",
       "\n",
       "    .dataframe tbody tr th {\n",
       "        vertical-align: top;\n",
       "    }\n",
       "\n",
       "    .dataframe thead th {\n",
       "        text-align: right;\n",
       "    }\n",
       "</style>\n",
       "<table border=\"1\" class=\"dataframe\">\n",
       "  <thead>\n",
       "    <tr style=\"text-align: right;\">\n",
       "      <th></th>\n",
       "      <th>main_cat</th>\n",
       "      <th>sec_cat</th>\n",
       "      <th>raw_cat</th>\n",
       "      <th>section</th>\n",
       "      <th>isic_embed</th>\n",
       "      <th>isic_descr</th>\n",
       "      <th>dose</th>\n",
       "      <th>match_score</th>\n",
       "    </tr>\n",
       "  </thead>\n",
       "  <tbody>\n",
       "    <tr>\n",
       "      <th>258</th>\n",
       "      <td>retail</td>\n",
       "      <td>shopping</td>\n",
       "      <td>shopping</td>\n",
       "      <td>G</td>\n",
       "      <td>47</td>\n",
       "      <td>Retail trade, except of motor vehicles and mot...</td>\n",
       "      <td>services</td>\n",
       "      <td>0.477107</td>\n",
       "    </tr>\n",
       "  </tbody>\n",
       "</table>\n",
       "</div>"
      ],
      "text/plain": [
       "    main_cat   sec_cat   raw_cat section isic_embed  \\\n",
       "258   retail  shopping  shopping       G         47   \n",
       "\n",
       "                                            isic_descr      dose match_score  \n",
       "258  Retail trade, except of motor vehicles and mot...  services    0.477107  "
      ]
     },
     "execution_count": 34,
     "metadata": {},
     "output_type": "execute_result"
    }
   ],
   "source": [
    "overture_cats.loc[overture_cats.sec_cat==\"shopping\"]"
   ]
  },
  {
   "cell_type": "code",
   "execution_count": 35,
   "metadata": {},
   "outputs": [
    {
     "data": {
      "application/vnd.microsoft.datawrangler.viewer.v0+json": {
       "columns": [
        {
         "name": "index",
         "rawType": "int64",
         "type": "integer"
        },
        {
         "name": "main_cat",
         "rawType": "object",
         "type": "string"
        },
        {
         "name": "sec_cat",
         "rawType": "object",
         "type": "string"
        },
        {
         "name": "raw_cat",
         "rawType": "object",
         "type": "unknown"
        },
        {
         "name": "section",
         "rawType": "object",
         "type": "string"
        },
        {
         "name": "isic_embed",
         "rawType": "object",
         "type": "string"
        },
        {
         "name": "isic_descr",
         "rawType": "object",
         "type": "string"
        },
        {
         "name": "dose",
         "rawType": "object",
         "type": "string"
        },
        {
         "name": "match_score",
         "rawType": "object",
         "type": "unknown"
        }
       ],
       "conversionMethod": "pd.DataFrame",
       "ref": "d0aecc9e-3edf-4e49-b5b2-f4f5ee8f6dbb",
       "rows": [
        [
         "807",
         "horticulture",
         "greenhouse_horticulture",
         null,
         "A",
         "01",
         "Crop and animal production, hunting and related service activities",
         "agriculture",
         "0.4572475850582123"
        ],
        [
         "808",
         "recreation",
         "beach_resort",
         null,
         "N",
         "79",
         "Travel agency, tour operator, reservation service and related activities",
         "services",
         "0.28718453645706177"
        ],
        [
         "809",
         "developed",
         "institutional",
         null,
         "S",
         "94",
         "Activities of membership organizations",
         "services",
         "0.3036586046218872"
        ],
        [
         "810",
         "protected",
         "state_park",
         null,
         "R",
         "91",
         "Libraries, archives, museums and other cultural activities",
         "services",
         "0.3135208785533905"
        ],
        [
         "811",
         "military",
         "danger_area",
         null,
         "N",
         "80",
         "Security and investigation activities",
         "services",
         "0.3369763493537903"
        ]
       ],
       "shape": {
        "columns": 8,
        "rows": 5
       }
      },
      "text/html": [
       "<div>\n",
       "<style scoped>\n",
       "    .dataframe tbody tr th:only-of-type {\n",
       "        vertical-align: middle;\n",
       "    }\n",
       "\n",
       "    .dataframe tbody tr th {\n",
       "        vertical-align: top;\n",
       "    }\n",
       "\n",
       "    .dataframe thead th {\n",
       "        text-align: right;\n",
       "    }\n",
       "</style>\n",
       "<table border=\"1\" class=\"dataframe\">\n",
       "  <thead>\n",
       "    <tr style=\"text-align: right;\">\n",
       "      <th></th>\n",
       "      <th>main_cat</th>\n",
       "      <th>sec_cat</th>\n",
       "      <th>raw_cat</th>\n",
       "      <th>section</th>\n",
       "      <th>isic_embed</th>\n",
       "      <th>isic_descr</th>\n",
       "      <th>dose</th>\n",
       "      <th>match_score</th>\n",
       "    </tr>\n",
       "  </thead>\n",
       "  <tbody>\n",
       "    <tr>\n",
       "      <th>807</th>\n",
       "      <td>horticulture</td>\n",
       "      <td>greenhouse_horticulture</td>\n",
       "      <td>NaN</td>\n",
       "      <td>A</td>\n",
       "      <td>01</td>\n",
       "      <td>Crop and animal production, hunting and relate...</td>\n",
       "      <td>agriculture</td>\n",
       "      <td>0.457248</td>\n",
       "    </tr>\n",
       "    <tr>\n",
       "      <th>808</th>\n",
       "      <td>recreation</td>\n",
       "      <td>beach_resort</td>\n",
       "      <td>NaN</td>\n",
       "      <td>N</td>\n",
       "      <td>79</td>\n",
       "      <td>Travel agency, tour operator, reservation serv...</td>\n",
       "      <td>services</td>\n",
       "      <td>0.287185</td>\n",
       "    </tr>\n",
       "    <tr>\n",
       "      <th>809</th>\n",
       "      <td>developed</td>\n",
       "      <td>institutional</td>\n",
       "      <td>NaN</td>\n",
       "      <td>S</td>\n",
       "      <td>94</td>\n",
       "      <td>Activities of membership organizations</td>\n",
       "      <td>services</td>\n",
       "      <td>0.303659</td>\n",
       "    </tr>\n",
       "    <tr>\n",
       "      <th>810</th>\n",
       "      <td>protected</td>\n",
       "      <td>state_park</td>\n",
       "      <td>NaN</td>\n",
       "      <td>R</td>\n",
       "      <td>91</td>\n",
       "      <td>Libraries, archives, museums and other cultura...</td>\n",
       "      <td>services</td>\n",
       "      <td>0.313521</td>\n",
       "    </tr>\n",
       "    <tr>\n",
       "      <th>811</th>\n",
       "      <td>military</td>\n",
       "      <td>danger_area</td>\n",
       "      <td>NaN</td>\n",
       "      <td>N</td>\n",
       "      <td>80</td>\n",
       "      <td>Security and investigation activities</td>\n",
       "      <td>services</td>\n",
       "      <td>0.336976</td>\n",
       "    </tr>\n",
       "  </tbody>\n",
       "</table>\n",
       "</div>"
      ],
      "text/plain": [
       "         main_cat                  sec_cat raw_cat section isic_embed  \\\n",
       "807  horticulture  greenhouse_horticulture     NaN       A         01   \n",
       "808    recreation             beach_resort     NaN       N         79   \n",
       "809     developed            institutional     NaN       S         94   \n",
       "810     protected               state_park     NaN       R         91   \n",
       "811      military              danger_area     NaN       N         80   \n",
       "\n",
       "                                            isic_descr         dose  \\\n",
       "807  Crop and animal production, hunting and relate...  agriculture   \n",
       "808  Travel agency, tour operator, reservation serv...     services   \n",
       "809             Activities of membership organizations     services   \n",
       "810  Libraries, archives, museums and other cultura...     services   \n",
       "811              Security and investigation activities     services   \n",
       "\n",
       "    match_score  \n",
       "807    0.457248  \n",
       "808    0.287185  \n",
       "809    0.303659  \n",
       "810    0.313521  \n",
       "811    0.336976  "
      ]
     },
     "execution_count": 35,
     "metadata": {},
     "output_type": "execute_result"
    }
   ],
   "source": [
    "overture_cats.tail()"
   ]
  },
  {
   "cell_type": "code",
   "execution_count": 36,
   "metadata": {},
   "outputs": [
    {
     "data": {
      "application/vnd.microsoft.datawrangler.viewer.v0+json": {
       "columns": [
        {
         "name": "index",
         "rawType": "int64",
         "type": "integer"
        },
        {
         "name": "main_cat",
         "rawType": "object",
         "type": "string"
        },
        {
         "name": "sec_cat",
         "rawType": "object",
         "type": "string"
        },
        {
         "name": "raw_cat",
         "rawType": "object",
         "type": "unknown"
        },
        {
         "name": "section",
         "rawType": "object",
         "type": "string"
        },
        {
         "name": "isic_embed",
         "rawType": "object",
         "type": "string"
        },
        {
         "name": "isic_descr",
         "rawType": "object",
         "type": "string"
        },
        {
         "name": "dose",
         "rawType": "object",
         "type": "string"
        },
        {
         "name": "match_score",
         "rawType": "object",
         "type": "unknown"
        }
       ],
       "conversionMethod": "pd.DataFrame",
       "ref": "00d1e892-33f8-4561-8dad-67753a4b9465",
       "rows": [
        [
         "734",
         "agriculture",
         "farmland",
         null,
         "A",
         "01",
         "Crop and animal production, hunting and related service activities",
         "agriculture",
         "0.5069692134857178"
        ]
       ],
       "shape": {
        "columns": 8,
        "rows": 1
       }
      },
      "text/html": [
       "<div>\n",
       "<style scoped>\n",
       "    .dataframe tbody tr th:only-of-type {\n",
       "        vertical-align: middle;\n",
       "    }\n",
       "\n",
       "    .dataframe tbody tr th {\n",
       "        vertical-align: top;\n",
       "    }\n",
       "\n",
       "    .dataframe thead th {\n",
       "        text-align: right;\n",
       "    }\n",
       "</style>\n",
       "<table border=\"1\" class=\"dataframe\">\n",
       "  <thead>\n",
       "    <tr style=\"text-align: right;\">\n",
       "      <th></th>\n",
       "      <th>main_cat</th>\n",
       "      <th>sec_cat</th>\n",
       "      <th>raw_cat</th>\n",
       "      <th>section</th>\n",
       "      <th>isic_embed</th>\n",
       "      <th>isic_descr</th>\n",
       "      <th>dose</th>\n",
       "      <th>match_score</th>\n",
       "    </tr>\n",
       "  </thead>\n",
       "  <tbody>\n",
       "    <tr>\n",
       "      <th>734</th>\n",
       "      <td>agriculture</td>\n",
       "      <td>farmland</td>\n",
       "      <td>NaN</td>\n",
       "      <td>A</td>\n",
       "      <td>01</td>\n",
       "      <td>Crop and animal production, hunting and relate...</td>\n",
       "      <td>agriculture</td>\n",
       "      <td>0.506969</td>\n",
       "    </tr>\n",
       "  </tbody>\n",
       "</table>\n",
       "</div>"
      ],
      "text/plain": [
       "        main_cat   sec_cat raw_cat section isic_embed  \\\n",
       "734  agriculture  farmland     NaN       A         01   \n",
       "\n",
       "                                            isic_descr         dose  \\\n",
       "734  Crop and animal production, hunting and relate...  agriculture   \n",
       "\n",
       "    match_score  \n",
       "734    0.506969  "
      ]
     },
     "execution_count": 36,
     "metadata": {},
     "output_type": "execute_result"
    }
   ],
   "source": [
    "overture_cats[overture_cats.sec_cat==\"farmland\"]"
   ]
  },
  {
   "cell_type": "code",
   "execution_count": 37,
   "metadata": {},
   "outputs": [],
   "source": [
    "# match_thres = .4"
   ]
  },
  {
   "cell_type": "code",
   "execution_count": 38,
   "metadata": {},
   "outputs": [],
   "source": [
    "overture_cats.loc[~overture_cats[\"sec_cat\"].duplicated()].to_csv(place_types_filename,index=False)"
   ]
  },
  {
   "cell_type": "code",
   "execution_count": 39,
   "metadata": {},
   "outputs": [
    {
     "data": {
      "text/plain": [
       "'data/place_types_isic_all-mpnet-base-v2.csv'"
      ]
     },
     "execution_count": 39,
     "metadata": {},
     "output_type": "execute_result"
    }
   ],
   "source": [
    "place_types_filename"
   ]
  }
 ],
 "metadata": {
  "kernelspec": {
   "display_name": "Python 3",
   "language": "python",
   "name": "python3"
  },
  "language_info": {
   "codemirror_mode": {
    "name": "ipython",
    "version": 3
   },
   "file_extension": ".py",
   "mimetype": "text/x-python",
   "name": "python",
   "nbconvert_exporter": "python",
   "pygments_lexer": "ipython3",
   "version": "3.12.5"
  }
 },
 "nbformat": 4,
 "nbformat_minor": 2
}
