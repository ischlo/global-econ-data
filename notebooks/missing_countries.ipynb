{
 "cells": [
  {
   "cell_type": "markdown",
   "metadata": {},
   "source": [
    "# This notebook aims to fill the gaps from the DOSE data set\n",
    "\n",
    "It uses the UN WDI, and the complementary set of countries from DOSE. "
   ]
  },
  {
   "cell_type": "code",
   "execution_count": 1,
   "metadata": {},
   "outputs": [],
   "source": [
    "import json\n",
    "import io\n",
    "import re\n",
    "import itertools as iter\n",
    "import numpy as np\n",
    "import os\n",
    "from random import sample\n",
    "\n",
    "# data\n",
    "\n",
    "import pandas as pd\n",
    "import ibis as ib\n",
    "from ibis import _\n",
    "ib.options.interactive = True\n",
    "\n",
    "from parameters import year,missing_frac\n",
    "\n"
   ]
  },
  {
   "cell_type": "code",
   "execution_count": 2,
   "metadata": {},
   "outputs": [
    {
     "data": {
      "text/plain": [
       "[]"
      ]
     },
     "execution_count": 2,
     "metadata": {},
     "output_type": "execute_result"
    }
   ],
   "source": [
    "# The duckdb/ibis way require to either create an in-memory database at the moment of execution of the notebook, or saving the database in a file. \n",
    "conn = ib.connect('duckdb://')\n",
    "conn.list_tables() # empty"
   ]
  },
  {
   "cell_type": "code",
   "execution_count": 3,
   "metadata": {},
   "outputs": [
    {
     "name": "stdout",
     "output_type": "stream",
     "text": [
      "<duckdb.duckdb.DuckDBPyConnection object at 0x1455caff0>\n"
     ]
    }
   ],
   "source": [
    "# loading the spatial extension.\n",
    "# res = conn.raw_sql(\"install spatial; load spatial\")\n",
    "# print(res)"
   ]
  },
  {
   "cell_type": "code",
   "execution_count": 4,
   "metadata": {},
   "outputs": [],
   "source": [
    "### A year of interest:\n"
   ]
  },
  {
   "cell_type": "markdown",
   "metadata": {},
   "source": [
    "### Enter A YEAR OF INTEREST IN parameters.py"
   ]
  },
  {
   "cell_type": "markdown",
   "metadata": {},
   "source": [
    "Reading in data\n",
    "\n",
    "With **ibis**"
   ]
  },
  {
   "cell_type": "code",
   "execution_count": 5,
   "metadata": {},
   "outputs": [],
   "source": [
    "dose = conn.read_csv(\"../datasets/DOSE/DOSE_V2.csv\",table_name=\"dose\",all_varchar = True)"
   ]
  },
  {
   "cell_type": "code",
   "execution_count": 6,
   "metadata": {},
   "outputs": [],
   "source": [
    "wdi = conn.read_csv(\"../datasets/WDI_CSV_2024_06_28/WDICSV.csv\",table_name=\"wdi\")"
   ]
  },
  {
   "cell_type": "code",
   "execution_count": 7,
   "metadata": {},
   "outputs": [
    {
     "data": {
      "text/plain": [
       "<duckdb.duckdb.DuckDBPyConnection at 0x1455caff0>"
      ]
     },
     "execution_count": 7,
     "metadata": {},
     "output_type": "execute_result"
    }
   ],
   "source": [
    "# load extension first\n",
    "res = conn.raw_sql(\"\"\"INSTALL spatial;LOAD spatial;\"\"\")\n",
    "res"
   ]
  },
  {
   "cell_type": "code",
   "execution_count": 8,
   "metadata": {},
   "outputs": [],
   "source": [
    "# the merged file\n",
    "#local path with folder where the downloaded shapefiles are stored \n",
    "#(both GADM and the custom one)\n",
    "gadm_path = '../datasets/DOSE/DOSE_replication_files/DOSE_replication_files/Data/spatial data/' # ../../../../../\n",
    "# Read shapefiles\n",
    "file_name = \"gadm36_1\"\n",
    "# gpd.list_layers(gadm_path+file_name+\".gpkg\")\n",
    "\n",
    "# gadm = gpd.read_file(gadm_path+\"gadm36_levels_shp/\" + file_name+\".shp\")\n",
    "# has to be downloaded from https://gadm.org/download_world36.html; follow instructions in readme\n"
   ]
  },
  {
   "cell_type": "code",
   "execution_count": 9,
   "metadata": {},
   "outputs": [
    {
     "data": {
      "text/plain": [
       "<duckdb.duckdb.DuckDBPyConnection at 0x1455caff0>"
      ]
     },
     "execution_count": 9,
     "metadata": {},
     "output_type": "execute_result"
    }
   ],
   "source": [
    "# ../datasets/boundaries/GADM/gadm_410.gpkg\n",
    "\n",
    "conn.raw_sql(f\"\"\"CREATE OR REPLACE TABLE boundaries AS SELECT * FROM st_read('{gadm_path+\"gadm36_levels_shp/\" + file_name+\".shp\"}');\"\"\") "
   ]
  },
  {
   "cell_type": "code",
   "execution_count": 10,
   "metadata": {},
   "outputs": [],
   "source": [
    "boundaries = conn.table(\"boundaries\")"
   ]
  },
  {
   "cell_type": "code",
   "execution_count": 11,
   "metadata": {},
   "outputs": [],
   "source": [
    "boundaries = boundaries.rename(\"snake_case\")"
   ]
  },
  {
   "cell_type": "code",
   "execution_count": 12,
   "metadata": {},
   "outputs": [
    {
     "name": "stdout",
     "output_type": "stream",
     "text": [
      "228\n"
     ]
    },
    {
     "data": {
      "text/plain": [
       "['AGO',\n",
       " 'ARM',\n",
       " 'AUS',\n",
       " 'BRN',\n",
       " 'COG',\n",
       " 'CPV',\n",
       " 'CRI',\n",
       " 'CYM',\n",
       " 'ESP',\n",
       " 'FIN',\n",
       " 'GGY',\n",
       " 'IMN',\n",
       " 'IRL',\n",
       " 'ISR',\n",
       " 'JAM',\n",
       " 'KGZ',\n",
       " 'KHM',\n",
       " 'KNA',\n",
       " 'LIE',\n",
       " 'MAR',\n",
       " 'MWI',\n",
       " 'MYT',\n",
       " 'NCL',\n",
       " 'NPL',\n",
       " 'REU',\n",
       " 'RWA',\n",
       " 'SEN',\n",
       " 'SWE',\n",
       " 'TCD',\n",
       " 'TJK',\n",
       " 'TWN',\n",
       " 'UKR',\n",
       " 'URY',\n",
       " 'USA',\n",
       " 'VGB',\n",
       " 'VIR',\n",
       " 'BES',\n",
       " 'BOL',\n",
       " 'CMR',\n",
       " 'CUB',\n",
       " 'DMA',\n",
       " 'ECU',\n",
       " 'FRA',\n",
       " 'GNB',\n",
       " 'GUY',\n",
       " 'IND',\n",
       " 'LUX',\n",
       " 'MKD',\n",
       " 'MNG',\n",
       " 'MNP',\n",
       " 'MUS',\n",
       " 'PER',\n",
       " 'PHL',\n",
       " 'SAU',\n",
       " 'TCA',\n",
       " 'TGO',\n",
       " 'VUT',\n",
       " 'YEM',\n",
       " 'ALA',\n",
       " 'AZE',\n",
       " 'BHS',\n",
       " 'CIV',\n",
       " 'COL',\n",
       " 'CZE',\n",
       " 'DJI',\n",
       " 'FJI',\n",
       " 'GAB',\n",
       " 'GLP',\n",
       " 'ITA',\n",
       " 'KWT',\n",
       " 'LBN',\n",
       " 'LCA',\n",
       " 'MAC',\n",
       " 'MLT',\n",
       " 'MRT',\n",
       " 'MSR',\n",
       " 'MTQ',\n",
       " 'NGA',\n",
       " 'PRI',\n",
       " 'SUR',\n",
       " 'SVK',\n",
       " 'THA',\n",
       " 'TTO',\n",
       " 'TZA',\n",
       " 'UGA',\n",
       " 'AFG',\n",
       " 'ALB',\n",
       " 'ATG',\n",
       " 'BGD',\n",
       " 'BRB',\n",
       " 'CAN',\n",
       " 'COD',\n",
       " 'DZA',\n",
       " 'ESH',\n",
       " 'GHA',\n",
       " 'GUF',\n",
       " 'HRV',\n",
       " 'ISL',\n",
       " 'JOR',\n",
       " 'KAZ',\n",
       " 'KEN',\n",
       " 'KOR',\n",
       " 'LBR',\n",
       " 'LKA',\n",
       " 'MDG',\n",
       " 'NAM',\n",
       " 'OMN',\n",
       " 'PAN',\n",
       " 'PLW',\n",
       " 'PNG',\n",
       " 'PRK',\n",
       " 'PSE',\n",
       " 'RUS',\n",
       " 'SPM',\n",
       " 'SSD',\n",
       " 'TUR',\n",
       " 'VEN',\n",
       " 'ZAF',\n",
       " 'ARE',\n",
       " 'ARG',\n",
       " 'ATF',\n",
       " 'BLR',\n",
       " 'CAF',\n",
       " 'CHL',\n",
       " 'DNK',\n",
       " 'FRO',\n",
       " 'FSM',\n",
       " 'GMB',\n",
       " 'GTM',\n",
       " 'MEX',\n",
       " 'MLI',\n",
       " 'NIC',\n",
       " 'NOR',\n",
       " 'NZL',\n",
       " 'PYF',\n",
       " 'QAT',\n",
       " 'ROU',\n",
       " 'SLB',\n",
       " 'SWZ',\n",
       " 'TKL',\n",
       " 'TON',\n",
       " 'VCT',\n",
       " 'VNM',\n",
       " 'ZWE',\n",
       " 'ASM',\n",
       " 'AUT',\n",
       " 'BEL',\n",
       " 'BHR',\n",
       " 'BLZ',\n",
       " 'BRA',\n",
       " 'BTN',\n",
       " 'CHN',\n",
       " 'DOM',\n",
       " 'ETH',\n",
       " 'GIN',\n",
       " 'HND',\n",
       " 'IDN',\n",
       " 'IRQ',\n",
       " 'JPN',\n",
       " 'NRU',\n",
       " 'PRY',\n",
       " 'SGP',\n",
       " 'SLV',\n",
       " 'SMR',\n",
       " 'SOM',\n",
       " 'STP',\n",
       " 'SVN',\n",
       " 'SYC',\n",
       " 'TUV',\n",
       " 'UMI',\n",
       " 'WSM',\n",
       " 'XAD',\n",
       " 'XKO',\n",
       " 'AND',\n",
       " 'BEN',\n",
       " 'BGR',\n",
       " 'BIH',\n",
       " 'BWA',\n",
       " 'COM',\n",
       " 'CYP',\n",
       " 'ERI',\n",
       " 'EST',\n",
       " 'GBR',\n",
       " 'GRD',\n",
       " 'GRL',\n",
       " 'GUM',\n",
       " 'HKG',\n",
       " 'IRN',\n",
       " 'JEY',\n",
       " 'LSO',\n",
       " 'LTU',\n",
       " 'LVA',\n",
       " 'MDA',\n",
       " 'MMR',\n",
       " 'MNE',\n",
       " 'MOZ',\n",
       " 'MYS',\n",
       " 'SDN',\n",
       " 'SHN',\n",
       " 'SJM',\n",
       " 'SLE',\n",
       " 'SRB',\n",
       " 'TKM',\n",
       " 'TLS',\n",
       " 'TUN',\n",
       " 'WLF',\n",
       " 'ZMB',\n",
       " 'BDI',\n",
       " 'BFA',\n",
       " 'BMU',\n",
       " 'CHE',\n",
       " 'DEU',\n",
       " 'EGY',\n",
       " 'GEO',\n",
       " 'GNQ',\n",
       " 'GRC',\n",
       " 'HTI',\n",
       " 'HUN',\n",
       " 'LAO',\n",
       " 'LBY',\n",
       " 'NER',\n",
       " 'NLD',\n",
       " 'PAK',\n",
       " 'POL',\n",
       " 'PRT',\n",
       " 'SYR',\n",
       " 'UZB',\n",
       " 'XNC']"
      ]
     },
     "execution_count": 12,
     "metadata": {},
     "output_type": "execute_result"
    }
   ],
   "source": [
    "boundary_countries = conn.sql(\"Select distinct(gid_0) from boundaries;\").to_pandas().iloc[:,0].to_list()\n",
    "print(len(boundary_countries))\n",
    "sample(boundary_countries,k=5)"
   ]
  },
  {
   "cell_type": "code",
   "execution_count": 13,
   "metadata": {
    "tags": [
     "rm_cell"
    ]
   },
   "outputs": [
    {
     "data": {
      "text/plain": [
       "['boundaries', 'dose', 'wdi']"
      ]
     },
     "execution_count": 13,
     "metadata": {},
     "output_type": "execute_result"
    }
   ],
   "source": [
    "# how to name tables properly ?\n",
    "conn.list_tables()"
   ]
  },
  {
   "cell_type": "markdown",
   "metadata": {},
   "source": [
    "### Inspection"
   ]
  },
  {
   "cell_type": "code",
   "execution_count": 14,
   "metadata": {
    "tags": [
     "rm_cell"
    ]
   },
   "outputs": [
    {
     "data": {
      "text/html": [
       "<pre style=\"white-space:pre;overflow-x:auto;line-height:normal;font-family:Menlo,'DejaVu Sans Mono',consolas,'Courier New',monospace\">┏━━━━━━━━━┳━━━━━━━━┳━━━━━━━━┳━━━━━━━━━┳━━━━━━━━┳━━━━━━━━━━━━━┳━━━━━━━━┳━━━━━━━━━━━━┳━━━━━━━━━━━━━━━┳━━━━━━━━━━━━━━━━┳━━━━━━━━━━━━━━━━━┳━━━━━━━━━━━━━┳━━━━━━━━━━━━━━━┳━━━━━━━━━━━━━━━━┳━━━━━━━━━━━━━━━━━┳━━━━━━━━━━━━━━━━━┳━━━━━━━━━━━━━━━━━━━━┳━━━━━━━━━━━━━━━━━━━━━┳━━━━━━━━━━━━━━━━━━━━━━┳━━━━━━━━━━━━━━━━━┳━━━━━━━━━━━━━━━━━━━━┳━━━━━━━━━━━━━━━━━━━━━┳━━━━━━━━━━━━━━━━━━━━━━┳━━━━━━━━━━━━━━━━━━━━┳━━━━━━━━━━━━━━━━━━━━━━━┳━━━━━━━━━━━━━━━━━━━━━━━━┳━━━━━━━━━━━━━━━━━━━━━━━━━┳━━━━━━━━━━━━━┳━━━━━━━━━━━━━━━┳━━━━━━━━━━━━━┳━━━━━━━━━━━━━┳━━━━━━━━━━━━━━┳━━━━━━━━━┳━━━━━━━━━━━━━┳━━━━━━━━━━━━━┓\n",
       "┃<span style=\"font-weight: bold\"> country </span>┃<span style=\"font-weight: bold\"> region </span>┃<span style=\"font-weight: bold\"> GID_0  </span>┃<span style=\"font-weight: bold\"> GID_1   </span>┃<span style=\"font-weight: bold\"> year   </span>┃<span style=\"font-weight: bold\"> grp_lcu     </span>┃<span style=\"font-weight: bold\"> pop    </span>┃<span style=\"font-weight: bold\"> grp_pc_lcu </span>┃<span style=\"font-weight: bold\"> ag_grp_pc_lcu </span>┃<span style=\"font-weight: bold\"> man_grp_pc_lcu </span>┃<span style=\"font-weight: bold\"> serv_grp_pc_lcu </span>┃<span style=\"font-weight: bold\"> grp_pc_usd  </span>┃<span style=\"font-weight: bold\"> ag_grp_pc_usd </span>┃<span style=\"font-weight: bold\"> man_grp_pc_usd </span>┃<span style=\"font-weight: bold\"> serv_grp_pc_usd </span>┃<span style=\"font-weight: bold\"> grp_pc_lcu_2015 </span>┃<span style=\"font-weight: bold\"> ag_grp_pc_lcu_2015 </span>┃<span style=\"font-weight: bold\"> man_grp_pc_lcu_2015 </span>┃<span style=\"font-weight: bold\"> serv_grp_pc_lcu_2015 </span>┃<span style=\"font-weight: bold\"> grp_pc_usd_2015 </span>┃<span style=\"font-weight: bold\"> ag_grp_pc_usd_2015 </span>┃<span style=\"font-weight: bold\"> man_grp_pc_usd_2015 </span>┃<span style=\"font-weight: bold\"> serv_grp_pc_usd_2015 </span>┃<span style=\"font-weight: bold\"> grp_pc_lcu2015_usd </span>┃<span style=\"font-weight: bold\"> ag_grp_pc_lcu2015_usd </span>┃<span style=\"font-weight: bold\"> man_grp_pc_lcu2015_usd </span>┃<span style=\"font-weight: bold\"> serv_grp_pc_lcu2015_usd </span>┃<span style=\"font-weight: bold\"> cpi_2015    </span>┃<span style=\"font-weight: bold\"> deflator_2015 </span>┃<span style=\"font-weight: bold\"> fx          </span>┃<span style=\"font-weight: bold\"> PPP         </span>┃<span style=\"font-weight: bold\"> StructChange </span>┃<span style=\"font-weight: bold\"> version </span>┃<span style=\"font-weight: bold\"> T_a         </span>┃<span style=\"font-weight: bold\"> P_a         </span>┃\n",
       "┡━━━━━━━━━╇━━━━━━━━╇━━━━━━━━╇━━━━━━━━━╇━━━━━━━━╇━━━━━━━━━━━━━╇━━━━━━━━╇━━━━━━━━━━━━╇━━━━━━━━━━━━━━━╇━━━━━━━━━━━━━━━━╇━━━━━━━━━━━━━━━━━╇━━━━━━━━━━━━━╇━━━━━━━━━━━━━━━╇━━━━━━━━━━━━━━━━╇━━━━━━━━━━━━━━━━━╇━━━━━━━━━━━━━━━━━╇━━━━━━━━━━━━━━━━━━━━╇━━━━━━━━━━━━━━━━━━━━━╇━━━━━━━━━━━━━━━━━━━━━━╇━━━━━━━━━━━━━━━━━╇━━━━━━━━━━━━━━━━━━━━╇━━━━━━━━━━━━━━━━━━━━━╇━━━━━━━━━━━━━━━━━━━━━━╇━━━━━━━━━━━━━━━━━━━━╇━━━━━━━━━━━━━━━━━━━━━━━╇━━━━━━━━━━━━━━━━━━━━━━━━╇━━━━━━━━━━━━━━━━━━━━━━━━━╇━━━━━━━━━━━━━╇━━━━━━━━━━━━━━━╇━━━━━━━━━━━━━╇━━━━━━━━━━━━━╇━━━━━━━━━━━━━━╇━━━━━━━━━╇━━━━━━━━━━━━━╇━━━━━━━━━━━━━┩\n",
       "│ <span style=\"color: #7f7f7f; text-decoration-color: #7f7f7f\">string</span>  │ <span style=\"color: #7f7f7f; text-decoration-color: #7f7f7f\">string</span> │ <span style=\"color: #7f7f7f; text-decoration-color: #7f7f7f\">string</span> │ <span style=\"color: #7f7f7f; text-decoration-color: #7f7f7f\">string</span>  │ <span style=\"color: #7f7f7f; text-decoration-color: #7f7f7f\">string</span> │ <span style=\"color: #7f7f7f; text-decoration-color: #7f7f7f\">string</span>      │ <span style=\"color: #7f7f7f; text-decoration-color: #7f7f7f\">string</span> │ <span style=\"color: #7f7f7f; text-decoration-color: #7f7f7f\">string</span>     │ <span style=\"color: #7f7f7f; text-decoration-color: #7f7f7f\">string</span>        │ <span style=\"color: #7f7f7f; text-decoration-color: #7f7f7f\">string</span>         │ <span style=\"color: #7f7f7f; text-decoration-color: #7f7f7f\">string</span>          │ <span style=\"color: #7f7f7f; text-decoration-color: #7f7f7f\">string</span>      │ <span style=\"color: #7f7f7f; text-decoration-color: #7f7f7f\">string</span>        │ <span style=\"color: #7f7f7f; text-decoration-color: #7f7f7f\">string</span>         │ <span style=\"color: #7f7f7f; text-decoration-color: #7f7f7f\">string</span>          │ <span style=\"color: #7f7f7f; text-decoration-color: #7f7f7f\">string</span>          │ <span style=\"color: #7f7f7f; text-decoration-color: #7f7f7f\">string</span>             │ <span style=\"color: #7f7f7f; text-decoration-color: #7f7f7f\">string</span>              │ <span style=\"color: #7f7f7f; text-decoration-color: #7f7f7f\">string</span>               │ <span style=\"color: #7f7f7f; text-decoration-color: #7f7f7f\">string</span>          │ <span style=\"color: #7f7f7f; text-decoration-color: #7f7f7f\">string</span>             │ <span style=\"color: #7f7f7f; text-decoration-color: #7f7f7f\">string</span>              │ <span style=\"color: #7f7f7f; text-decoration-color: #7f7f7f\">string</span>               │ <span style=\"color: #7f7f7f; text-decoration-color: #7f7f7f\">string</span>             │ <span style=\"color: #7f7f7f; text-decoration-color: #7f7f7f\">string</span>                │ <span style=\"color: #7f7f7f; text-decoration-color: #7f7f7f\">string</span>                 │ <span style=\"color: #7f7f7f; text-decoration-color: #7f7f7f\">string</span>                  │ <span style=\"color: #7f7f7f; text-decoration-color: #7f7f7f\">string</span>      │ <span style=\"color: #7f7f7f; text-decoration-color: #7f7f7f\">string</span>        │ <span style=\"color: #7f7f7f; text-decoration-color: #7f7f7f\">string</span>      │ <span style=\"color: #7f7f7f; text-decoration-color: #7f7f7f\">string</span>      │ <span style=\"color: #7f7f7f; text-decoration-color: #7f7f7f\">string</span>       │ <span style=\"color: #7f7f7f; text-decoration-color: #7f7f7f\">string</span>  │ <span style=\"color: #7f7f7f; text-decoration-color: #7f7f7f\">string</span>      │ <span style=\"color: #7f7f7f; text-decoration-color: #7f7f7f\">string</span>      │\n",
       "├─────────┼────────┼────────┼─────────┼────────┼─────────────┼────────┼────────────┼───────────────┼────────────────┼─────────────────┼─────────────┼───────────────┼────────────────┼─────────────────┼─────────────────┼────────────────────┼─────────────────────┼──────────────────────┼─────────────────┼────────────────────┼─────────────────────┼──────────────────────┼────────────────────┼───────────────────────┼────────────────────────┼─────────────────────────┼─────────────┼───────────────┼─────────────┼─────────────┼──────────────┼─────────┼─────────────┼─────────────┤\n",
       "│ <span style=\"color: #008000; text-decoration-color: #008000\">Albania</span> │ <span style=\"color: #008000; text-decoration-color: #008000\">Berat </span> │ <span style=\"color: #008000; text-decoration-color: #008000\">ALB   </span> │ <span style=\"color: #008000; text-decoration-color: #008000\">ALB.1_1</span> │ <span style=\"color: #008000; text-decoration-color: #008000\">2010  </span> │ <span style=\"color: #008000; text-decoration-color: #008000\">49416066001</span> │ <span style=\"color: #008000; text-decoration-color: #008000\">151375</span> │ <span style=\"color: #008000; text-decoration-color: #008000\">326448    </span> │ <span style=\"color: #7f7f7f; text-decoration-color: #7f7f7f\">NULL</span>          │ <span style=\"color: #7f7f7f; text-decoration-color: #7f7f7f\">NULL</span>           │ <span style=\"color: #7f7f7f; text-decoration-color: #7f7f7f\">NULL</span>            │ <span style=\"color: #008000; text-decoration-color: #008000\">3140.842514</span> │ <span style=\"color: #7f7f7f; text-decoration-color: #7f7f7f\">NULL</span>          │ <span style=\"color: #7f7f7f; text-decoration-color: #7f7f7f\">NULL</span>           │ <span style=\"color: #7f7f7f; text-decoration-color: #7f7f7f\">NULL</span>            │ <span style=\"color: #008000; text-decoration-color: #008000\">345645.9835    </span> │ <span style=\"color: #7f7f7f; text-decoration-color: #7f7f7f\">NULL</span>               │ <span style=\"color: #7f7f7f; text-decoration-color: #7f7f7f\">NULL</span>                │ <span style=\"color: #7f7f7f; text-decoration-color: #7f7f7f\">NULL</span>                 │ <span style=\"color: #008000; text-decoration-color: #008000\">3419.068968    </span> │ <span style=\"color: #7f7f7f; text-decoration-color: #7f7f7f\">NULL</span>               │ <span style=\"color: #7f7f7f; text-decoration-color: #7f7f7f\">NULL</span>                │ <span style=\"color: #7f7f7f; text-decoration-color: #7f7f7f\">NULL</span>                 │ <span style=\"color: #008000; text-decoration-color: #008000\">2744.075141       </span> │ <span style=\"color: #7f7f7f; text-decoration-color: #7f7f7f\">NULL</span>                  │ <span style=\"color: #7f7f7f; text-decoration-color: #7f7f7f\">NULL</span>                   │ <span style=\"color: #7f7f7f; text-decoration-color: #7f7f7f\">NULL</span>                    │ <span style=\"color: #008000; text-decoration-color: #008000\">104.7429508</span> │ <span style=\"color: #008000; text-decoration-color: #008000\">94.44576693  </span> │ <span style=\"color: #008000; text-decoration-color: #008000\">103.9364434</span> │ <span style=\"color: #008000; text-decoration-color: #008000\">44.19621436</span> │ <span style=\"color: #008000; text-decoration-color: #008000\">0           </span> │ <span style=\"color: #008000; text-decoration-color: #008000\">2      </span> │ <span style=\"color: #008000; text-decoration-color: #008000\">13.12376773</span> │ <span style=\"color: #008000; text-decoration-color: #008000\">1573.116224</span> │\n",
       "│ <span style=\"color: #008000; text-decoration-color: #008000\">Albania</span> │ <span style=\"color: #008000; text-decoration-color: #008000\">Berat </span> │ <span style=\"color: #008000; text-decoration-color: #008000\">ALB   </span> │ <span style=\"color: #008000; text-decoration-color: #008000\">ALB.1_1</span> │ <span style=\"color: #008000; text-decoration-color: #008000\">2011  </span> │ <span style=\"color: #008000; text-decoration-color: #008000\">52603911678</span> │ <span style=\"color: #008000; text-decoration-color: #008000\">148160</span> │ <span style=\"color: #008000; text-decoration-color: #008000\">355048    </span> │ <span style=\"color: #7f7f7f; text-decoration-color: #7f7f7f\">NULL</span>          │ <span style=\"color: #7f7f7f; text-decoration-color: #7f7f7f\">NULL</span>           │ <span style=\"color: #7f7f7f; text-decoration-color: #7f7f7f\">NULL</span>            │ <span style=\"color: #008000; text-decoration-color: #008000\">3518.986662</span> │ <span style=\"color: #7f7f7f; text-decoration-color: #7f7f7f\">NULL</span>          │ <span style=\"color: #7f7f7f; text-decoration-color: #7f7f7f\">NULL</span>           │ <span style=\"color: #7f7f7f; text-decoration-color: #7f7f7f\">NULL</span>            │ <span style=\"color: #008000; text-decoration-color: #008000\">367423.0111    </span> │ <span style=\"color: #7f7f7f; text-decoration-color: #7f7f7f\">NULL</span>               │ <span style=\"color: #7f7f7f; text-decoration-color: #7f7f7f\">NULL</span>                │ <span style=\"color: #7f7f7f; text-decoration-color: #7f7f7f\">NULL</span>                 │ <span style=\"color: #008000; text-decoration-color: #008000\">3752.327886    </span> │ <span style=\"color: #7f7f7f; text-decoration-color: #7f7f7f\">NULL</span>               │ <span style=\"color: #7f7f7f; text-decoration-color: #7f7f7f\">NULL</span>                │ <span style=\"color: #7f7f7f; text-decoration-color: #7f7f7f\">NULL</span>                 │ <span style=\"color: #008000; text-decoration-color: #008000\">2916.962438       </span> │ <span style=\"color: #7f7f7f; text-decoration-color: #7f7f7f\">NULL</span>                  │ <span style=\"color: #7f7f7f; text-decoration-color: #7f7f7f\">NULL</span>                   │ <span style=\"color: #7f7f7f; text-decoration-color: #7f7f7f\">NULL</span>                    │ <span style=\"color: #008000; text-decoration-color: #008000\">113.2074664</span> │ <span style=\"color: #008000; text-decoration-color: #008000\">96.63194446  </span> │ <span style=\"color: #008000; text-decoration-color: #008000\">100.8949547</span> │ <span style=\"color: #008000; text-decoration-color: #008000\">43.85768488</span> │ <span style=\"color: #008000; text-decoration-color: #008000\">0           </span> │ <span style=\"color: #008000; text-decoration-color: #008000\">2      </span> │ <span style=\"color: #008000; text-decoration-color: #008000\">12.88203995</span> │ <span style=\"color: #008000; text-decoration-color: #008000\">796.2875598</span> │\n",
       "│ <span style=\"color: #008000; text-decoration-color: #008000\">Albania</span> │ <span style=\"color: #008000; text-decoration-color: #008000\">Berat </span> │ <span style=\"color: #008000; text-decoration-color: #008000\">ALB   </span> │ <span style=\"color: #008000; text-decoration-color: #008000\">ALB.1_1</span> │ <span style=\"color: #008000; text-decoration-color: #008000\">2012  </span> │ <span style=\"color: #008000; text-decoration-color: #008000\">49020995589</span> │ <span style=\"color: #008000; text-decoration-color: #008000\">145931</span> │ <span style=\"color: #008000; text-decoration-color: #008000\">335919    </span> │ <span style=\"color: #7f7f7f; text-decoration-color: #7f7f7f\">NULL</span>          │ <span style=\"color: #7f7f7f; text-decoration-color: #7f7f7f\">NULL</span>           │ <span style=\"color: #7f7f7f; text-decoration-color: #7f7f7f\">NULL</span>            │ <span style=\"color: #008000; text-decoration-color: #008000\">3105.052489</span> │ <span style=\"color: #7f7f7f; text-decoration-color: #7f7f7f\">NULL</span>          │ <span style=\"color: #7f7f7f; text-decoration-color: #7f7f7f\">NULL</span>           │ <span style=\"color: #7f7f7f; text-decoration-color: #7f7f7f\">NULL</span>            │ <span style=\"color: #008000; text-decoration-color: #008000\">344039.9253    </span> │ <span style=\"color: #7f7f7f; text-decoration-color: #7f7f7f\">NULL</span>               │ <span style=\"color: #7f7f7f; text-decoration-color: #7f7f7f\">NULL</span>                │ <span style=\"color: #7f7f7f; text-decoration-color: #7f7f7f\">NULL</span>                 │ <span style=\"color: #008000; text-decoration-color: #008000\">3248.642016    </span> │ <span style=\"color: #7f7f7f; text-decoration-color: #7f7f7f\">NULL</span>               │ <span style=\"color: #7f7f7f; text-decoration-color: #7f7f7f\">NULL</span>                │ <span style=\"color: #7f7f7f; text-decoration-color: #7f7f7f\">NULL</span>                 │ <span style=\"color: #008000; text-decoration-color: #008000\">2731.324683       </span> │ <span style=\"color: #7f7f7f; text-decoration-color: #7f7f7f\">NULL</span>                  │ <span style=\"color: #7f7f7f; text-decoration-color: #7f7f7f\">NULL</span>                   │ <span style=\"color: #7f7f7f; text-decoration-color: #7f7f7f\">NULL</span>                    │ <span style=\"color: #008000; text-decoration-color: #008000\">108.193489 </span> │ <span style=\"color: #008000; text-decoration-color: #008000\">97.63953986  </span> │ <span style=\"color: #008000; text-decoration-color: #008000\">108.1846446</span> │ <span style=\"color: #008000; text-decoration-color: #008000\">43.65524832</span> │ <span style=\"color: #008000; text-decoration-color: #008000\">0           </span> │ <span style=\"color: #008000; text-decoration-color: #008000\">2      </span> │ <span style=\"color: #008000; text-decoration-color: #008000\">13.37346461</span> │ <span style=\"color: #008000; text-decoration-color: #008000\">1177.160775</span> │\n",
       "│ <span style=\"color: #008000; text-decoration-color: #008000\">Albania</span> │ <span style=\"color: #008000; text-decoration-color: #008000\">Berat </span> │ <span style=\"color: #008000; text-decoration-color: #008000\">ALB   </span> │ <span style=\"color: #008000; text-decoration-color: #008000\">ALB.1_1</span> │ <span style=\"color: #008000; text-decoration-color: #008000\">2013  </span> │ <span style=\"color: #008000; text-decoration-color: #008000\">50164150141</span> │ <span style=\"color: #008000; text-decoration-color: #008000\">145132</span> │ <span style=\"color: #008000; text-decoration-color: #008000\">345645    </span> │ <span style=\"color: #7f7f7f; text-decoration-color: #7f7f7f\">NULL</span>          │ <span style=\"color: #7f7f7f; text-decoration-color: #7f7f7f\">NULL</span>           │ <span style=\"color: #7f7f7f; text-decoration-color: #7f7f7f\">NULL</span>            │ <span style=\"color: #008000; text-decoration-color: #008000\">3271.026209</span> │ <span style=\"color: #7f7f7f; text-decoration-color: #7f7f7f\">NULL</span>          │ <span style=\"color: #7f7f7f; text-decoration-color: #7f7f7f\">NULL</span>           │ <span style=\"color: #7f7f7f; text-decoration-color: #7f7f7f\">NULL</span>            │ <span style=\"color: #008000; text-decoration-color: #008000\">352981.833     </span> │ <span style=\"color: #7f7f7f; text-decoration-color: #7f7f7f\">NULL</span>               │ <span style=\"color: #7f7f7f; text-decoration-color: #7f7f7f\">NULL</span>                │ <span style=\"color: #7f7f7f; text-decoration-color: #7f7f7f\">NULL</span>                 │ <span style=\"color: #008000; text-decoration-color: #008000\">3363.268468    </span> │ <span style=\"color: #7f7f7f; text-decoration-color: #7f7f7f\">NULL</span>               │ <span style=\"color: #7f7f7f; text-decoration-color: #7f7f7f\">NULL</span>                │ <span style=\"color: #7f7f7f; text-decoration-color: #7f7f7f\">NULL</span>                 │ <span style=\"color: #008000; text-decoration-color: #008000\">2802.314273       </span> │ <span style=\"color: #7f7f7f; text-decoration-color: #7f7f7f\">NULL</span>                  │ <span style=\"color: #7f7f7f; text-decoration-color: #7f7f7f\">NULL</span>                   │ <span style=\"color: #7f7f7f; text-decoration-color: #7f7f7f\">NULL</span>                    │ <span style=\"color: #008000; text-decoration-color: #008000\">112.2015339</span> │ <span style=\"color: #008000; text-decoration-color: #008000\">97.92147009  </span> │ <span style=\"color: #008000; text-decoration-color: #008000\">105.6686734</span> │ <span style=\"color: #008000; text-decoration-color: #008000\">44.11373867</span> │ <span style=\"color: #008000; text-decoration-color: #008000\">0           </span> │ <span style=\"color: #008000; text-decoration-color: #008000\">2      </span> │ <span style=\"color: #008000; text-decoration-color: #008000\">13.53541203</span> │ <span style=\"color: #008000; text-decoration-color: #008000\">1086.023721</span> │\n",
       "│ <span style=\"color: #008000; text-decoration-color: #008000\">Albania</span> │ <span style=\"color: #008000; text-decoration-color: #008000\">Berat </span> │ <span style=\"color: #008000; text-decoration-color: #008000\">ALB   </span> │ <span style=\"color: #008000; text-decoration-color: #008000\">ALB.1_1</span> │ <span style=\"color: #008000; text-decoration-color: #008000\">2014  </span> │ <span style=\"color: #008000; text-decoration-color: #008000\">51948832130</span> │ <span style=\"color: #008000; text-decoration-color: #008000\">143846</span> │ <span style=\"color: #008000; text-decoration-color: #008000\">361142    </span> │ <span style=\"color: #7f7f7f; text-decoration-color: #7f7f7f\">NULL</span>          │ <span style=\"color: #7f7f7f; text-decoration-color: #7f7f7f\">NULL</span>           │ <span style=\"color: #7f7f7f; text-decoration-color: #7f7f7f\">NULL</span>            │ <span style=\"color: #008000; text-decoration-color: #008000\">3423.82084 </span> │ <span style=\"color: #7f7f7f; text-decoration-color: #7f7f7f\">NULL</span>          │ <span style=\"color: #7f7f7f; text-decoration-color: #7f7f7f\">NULL</span>           │ <span style=\"color: #7f7f7f; text-decoration-color: #7f7f7f\">NULL</span>            │ <span style=\"color: #008000; text-decoration-color: #008000\">363178.8096    </span> │ <span style=\"color: #7f7f7f; text-decoration-color: #7f7f7f\">NULL</span>               │ <span style=\"color: #7f7f7f; text-decoration-color: #7f7f7f\">NULL</span>                │ <span style=\"color: #7f7f7f; text-decoration-color: #7f7f7f\">NULL</span>                 │ <span style=\"color: #008000; text-decoration-color: #008000\">3456.433813    </span> │ <span style=\"color: #7f7f7f; text-decoration-color: #7f7f7f\">NULL</span>               │ <span style=\"color: #7f7f7f; text-decoration-color: #7f7f7f\">NULL</span>                │ <span style=\"color: #7f7f7f; text-decoration-color: #7f7f7f\">NULL</span>                 │ <span style=\"color: #008000; text-decoration-color: #008000\">2883.267825       </span> │ <span style=\"color: #7f7f7f; text-decoration-color: #7f7f7f\">NULL</span>                  │ <span style=\"color: #7f7f7f; text-decoration-color: #7f7f7f\">NULL</span>                   │ <span style=\"color: #7f7f7f; text-decoration-color: #7f7f7f\">NULL</span>                    │ <span style=\"color: #008000; text-decoration-color: #008000\">116.170384 </span> │ <span style=\"color: #008000; text-decoration-color: #008000\">99.43917167  </span> │ <span style=\"color: #008000; text-decoration-color: #008000\">105.4792341</span> │ <span style=\"color: #008000; text-decoration-color: #008000\">42.89392984</span> │ <span style=\"color: #008000; text-decoration-color: #008000\">0           </span> │ <span style=\"color: #008000; text-decoration-color: #008000\">2      </span> │ <span style=\"color: #008000; text-decoration-color: #008000\">13.35798003</span> │ <span style=\"color: #008000; text-decoration-color: #008000\">1198.51479 </span> │\n",
       "└─────────┴────────┴────────┴─────────┴────────┴─────────────┴────────┴────────────┴───────────────┴────────────────┴─────────────────┴─────────────┴───────────────┴────────────────┴─────────────────┴─────────────────┴────────────────────┴─────────────────────┴──────────────────────┴─────────────────┴────────────────────┴─────────────────────┴──────────────────────┴────────────────────┴───────────────────────┴────────────────────────┴─────────────────────────┴─────────────┴───────────────┴─────────────┴─────────────┴──────────────┴─────────┴─────────────┴─────────────┘\n",
       "</pre>\n"
      ],
      "text/plain": [
       "┏━━━━━━━━━┳━━━━━━━━┳━━━━━━━━┳━━━━━━━━━┳━━━━━━━━┳━━━━━━━━━━━━━┳━━━━━━━━┳━━━━━━━━━━━━┳━━━━━━━━━━━━━━━┳━━━━━━━━━━━━━━━━┳━━━━━━━━━━━━━━━━━┳━━━━━━━━━━━━━┳━━━━━━━━━━━━━━━┳━━━━━━━━━━━━━━━━┳━━━━━━━━━━━━━━━━━┳━━━━━━━━━━━━━━━━━┳━━━━━━━━━━━━━━━━━━━━┳━━━━━━━━━━━━━━━━━━━━━┳━━━━━━━━━━━━━━━━━━━━━━┳━━━━━━━━━━━━━━━━━┳━━━━━━━━━━━━━━━━━━━━┳━━━━━━━━━━━━━━━━━━━━━┳━━━━━━━━━━━━━━━━━━━━━━┳━━━━━━━━━━━━━━━━━━━━┳━━━━━━━━━━━━━━━━━━━━━━━┳━━━━━━━━━━━━━━━━━━━━━━━━┳━━━━━━━━━━━━━━━━━━━━━━━━━┳━━━━━━━━━━━━━┳━━━━━━━━━━━━━━━┳━━━━━━━━━━━━━┳━━━━━━━━━━━━━┳━━━━━━━━━━━━━━┳━━━━━━━━━┳━━━━━━━━━━━━━┳━━━━━━━━━━━━━┓\n",
       "┃\u001b[1m \u001b[0m\u001b[1mcountry\u001b[0m\u001b[1m \u001b[0m┃\u001b[1m \u001b[0m\u001b[1mregion\u001b[0m\u001b[1m \u001b[0m┃\u001b[1m \u001b[0m\u001b[1mGID_0\u001b[0m\u001b[1m \u001b[0m\u001b[1m \u001b[0m┃\u001b[1m \u001b[0m\u001b[1mGID_1\u001b[0m\u001b[1m  \u001b[0m\u001b[1m \u001b[0m┃\u001b[1m \u001b[0m\u001b[1myear\u001b[0m\u001b[1m  \u001b[0m\u001b[1m \u001b[0m┃\u001b[1m \u001b[0m\u001b[1mgrp_lcu\u001b[0m\u001b[1m    \u001b[0m\u001b[1m \u001b[0m┃\u001b[1m \u001b[0m\u001b[1mpop\u001b[0m\u001b[1m   \u001b[0m\u001b[1m \u001b[0m┃\u001b[1m \u001b[0m\u001b[1mgrp_pc_lcu\u001b[0m\u001b[1m \u001b[0m┃\u001b[1m \u001b[0m\u001b[1mag_grp_pc_lcu\u001b[0m\u001b[1m \u001b[0m┃\u001b[1m \u001b[0m\u001b[1mman_grp_pc_lcu\u001b[0m\u001b[1m \u001b[0m┃\u001b[1m \u001b[0m\u001b[1mserv_grp_pc_lcu\u001b[0m\u001b[1m \u001b[0m┃\u001b[1m \u001b[0m\u001b[1mgrp_pc_usd\u001b[0m\u001b[1m \u001b[0m\u001b[1m \u001b[0m┃\u001b[1m \u001b[0m\u001b[1mag_grp_pc_usd\u001b[0m\u001b[1m \u001b[0m┃\u001b[1m \u001b[0m\u001b[1mman_grp_pc_usd\u001b[0m\u001b[1m \u001b[0m┃\u001b[1m \u001b[0m\u001b[1mserv_grp_pc_usd\u001b[0m\u001b[1m \u001b[0m┃\u001b[1m \u001b[0m\u001b[1mgrp_pc_lcu_2015\u001b[0m\u001b[1m \u001b[0m┃\u001b[1m \u001b[0m\u001b[1mag_grp_pc_lcu_2015\u001b[0m\u001b[1m \u001b[0m┃\u001b[1m \u001b[0m\u001b[1mman_grp_pc_lcu_2015\u001b[0m\u001b[1m \u001b[0m┃\u001b[1m \u001b[0m\u001b[1mserv_grp_pc_lcu_2015\u001b[0m\u001b[1m \u001b[0m┃\u001b[1m \u001b[0m\u001b[1mgrp_pc_usd_2015\u001b[0m\u001b[1m \u001b[0m┃\u001b[1m \u001b[0m\u001b[1mag_grp_pc_usd_2015\u001b[0m\u001b[1m \u001b[0m┃\u001b[1m \u001b[0m\u001b[1mman_grp_pc_usd_2015\u001b[0m\u001b[1m \u001b[0m┃\u001b[1m \u001b[0m\u001b[1mserv_grp_pc_usd_2015\u001b[0m\u001b[1m \u001b[0m┃\u001b[1m \u001b[0m\u001b[1mgrp_pc_lcu2015_usd\u001b[0m\u001b[1m \u001b[0m┃\u001b[1m \u001b[0m\u001b[1mag_grp_pc_lcu2015_usd\u001b[0m\u001b[1m \u001b[0m┃\u001b[1m \u001b[0m\u001b[1mman_grp_pc_lcu2015_usd\u001b[0m\u001b[1m \u001b[0m┃\u001b[1m \u001b[0m\u001b[1mserv_grp_pc_lcu2015_usd\u001b[0m\u001b[1m \u001b[0m┃\u001b[1m \u001b[0m\u001b[1mcpi_2015\u001b[0m\u001b[1m   \u001b[0m\u001b[1m \u001b[0m┃\u001b[1m \u001b[0m\u001b[1mdeflator_2015\u001b[0m\u001b[1m \u001b[0m┃\u001b[1m \u001b[0m\u001b[1mfx\u001b[0m\u001b[1m         \u001b[0m\u001b[1m \u001b[0m┃\u001b[1m \u001b[0m\u001b[1mPPP\u001b[0m\u001b[1m        \u001b[0m\u001b[1m \u001b[0m┃\u001b[1m \u001b[0m\u001b[1mStructChange\u001b[0m\u001b[1m \u001b[0m┃\u001b[1m \u001b[0m\u001b[1mversion\u001b[0m\u001b[1m \u001b[0m┃\u001b[1m \u001b[0m\u001b[1mT_a\u001b[0m\u001b[1m        \u001b[0m\u001b[1m \u001b[0m┃\u001b[1m \u001b[0m\u001b[1mP_a\u001b[0m\u001b[1m        \u001b[0m\u001b[1m \u001b[0m┃\n",
       "┡━━━━━━━━━╇━━━━━━━━╇━━━━━━━━╇━━━━━━━━━╇━━━━━━━━╇━━━━━━━━━━━━━╇━━━━━━━━╇━━━━━━━━━━━━╇━━━━━━━━━━━━━━━╇━━━━━━━━━━━━━━━━╇━━━━━━━━━━━━━━━━━╇━━━━━━━━━━━━━╇━━━━━━━━━━━━━━━╇━━━━━━━━━━━━━━━━╇━━━━━━━━━━━━━━━━━╇━━━━━━━━━━━━━━━━━╇━━━━━━━━━━━━━━━━━━━━╇━━━━━━━━━━━━━━━━━━━━━╇━━━━━━━━━━━━━━━━━━━━━━╇━━━━━━━━━━━━━━━━━╇━━━━━━━━━━━━━━━━━━━━╇━━━━━━━━━━━━━━━━━━━━━╇━━━━━━━━━━━━━━━━━━━━━━╇━━━━━━━━━━━━━━━━━━━━╇━━━━━━━━━━━━━━━━━━━━━━━╇━━━━━━━━━━━━━━━━━━━━━━━━╇━━━━━━━━━━━━━━━━━━━━━━━━━╇━━━━━━━━━━━━━╇━━━━━━━━━━━━━━━╇━━━━━━━━━━━━━╇━━━━━━━━━━━━━╇━━━━━━━━━━━━━━╇━━━━━━━━━╇━━━━━━━━━━━━━╇━━━━━━━━━━━━━┩\n",
       "│ \u001b[2mstring\u001b[0m  │ \u001b[2mstring\u001b[0m │ \u001b[2mstring\u001b[0m │ \u001b[2mstring\u001b[0m  │ \u001b[2mstring\u001b[0m │ \u001b[2mstring\u001b[0m      │ \u001b[2mstring\u001b[0m │ \u001b[2mstring\u001b[0m     │ \u001b[2mstring\u001b[0m        │ \u001b[2mstring\u001b[0m         │ \u001b[2mstring\u001b[0m          │ \u001b[2mstring\u001b[0m      │ \u001b[2mstring\u001b[0m        │ \u001b[2mstring\u001b[0m         │ \u001b[2mstring\u001b[0m          │ \u001b[2mstring\u001b[0m          │ \u001b[2mstring\u001b[0m             │ \u001b[2mstring\u001b[0m              │ \u001b[2mstring\u001b[0m               │ \u001b[2mstring\u001b[0m          │ \u001b[2mstring\u001b[0m             │ \u001b[2mstring\u001b[0m              │ \u001b[2mstring\u001b[0m               │ \u001b[2mstring\u001b[0m             │ \u001b[2mstring\u001b[0m                │ \u001b[2mstring\u001b[0m                 │ \u001b[2mstring\u001b[0m                  │ \u001b[2mstring\u001b[0m      │ \u001b[2mstring\u001b[0m        │ \u001b[2mstring\u001b[0m      │ \u001b[2mstring\u001b[0m      │ \u001b[2mstring\u001b[0m       │ \u001b[2mstring\u001b[0m  │ \u001b[2mstring\u001b[0m      │ \u001b[2mstring\u001b[0m      │\n",
       "├─────────┼────────┼────────┼─────────┼────────┼─────────────┼────────┼────────────┼───────────────┼────────────────┼─────────────────┼─────────────┼───────────────┼────────────────┼─────────────────┼─────────────────┼────────────────────┼─────────────────────┼──────────────────────┼─────────────────┼────────────────────┼─────────────────────┼──────────────────────┼────────────────────┼───────────────────────┼────────────────────────┼─────────────────────────┼─────────────┼───────────────┼─────────────┼─────────────┼──────────────┼─────────┼─────────────┼─────────────┤\n",
       "│ \u001b[32mAlbania\u001b[0m │ \u001b[32mBerat \u001b[0m │ \u001b[32mALB   \u001b[0m │ \u001b[32mALB.1_1\u001b[0m │ \u001b[32m2010  \u001b[0m │ \u001b[32m49416066001\u001b[0m │ \u001b[32m151375\u001b[0m │ \u001b[32m326448    \u001b[0m │ \u001b[2mNULL\u001b[0m          │ \u001b[2mNULL\u001b[0m           │ \u001b[2mNULL\u001b[0m            │ \u001b[32m3140.842514\u001b[0m │ \u001b[2mNULL\u001b[0m          │ \u001b[2mNULL\u001b[0m           │ \u001b[2mNULL\u001b[0m            │ \u001b[32m345645.9835    \u001b[0m │ \u001b[2mNULL\u001b[0m               │ \u001b[2mNULL\u001b[0m                │ \u001b[2mNULL\u001b[0m                 │ \u001b[32m3419.068968    \u001b[0m │ \u001b[2mNULL\u001b[0m               │ \u001b[2mNULL\u001b[0m                │ \u001b[2mNULL\u001b[0m                 │ \u001b[32m2744.075141       \u001b[0m │ \u001b[2mNULL\u001b[0m                  │ \u001b[2mNULL\u001b[0m                   │ \u001b[2mNULL\u001b[0m                    │ \u001b[32m104.7429508\u001b[0m │ \u001b[32m94.44576693  \u001b[0m │ \u001b[32m103.9364434\u001b[0m │ \u001b[32m44.19621436\u001b[0m │ \u001b[32m0           \u001b[0m │ \u001b[32m2      \u001b[0m │ \u001b[32m13.12376773\u001b[0m │ \u001b[32m1573.116224\u001b[0m │\n",
       "│ \u001b[32mAlbania\u001b[0m │ \u001b[32mBerat \u001b[0m │ \u001b[32mALB   \u001b[0m │ \u001b[32mALB.1_1\u001b[0m │ \u001b[32m2011  \u001b[0m │ \u001b[32m52603911678\u001b[0m │ \u001b[32m148160\u001b[0m │ \u001b[32m355048    \u001b[0m │ \u001b[2mNULL\u001b[0m          │ \u001b[2mNULL\u001b[0m           │ \u001b[2mNULL\u001b[0m            │ \u001b[32m3518.986662\u001b[0m │ \u001b[2mNULL\u001b[0m          │ \u001b[2mNULL\u001b[0m           │ \u001b[2mNULL\u001b[0m            │ \u001b[32m367423.0111    \u001b[0m │ \u001b[2mNULL\u001b[0m               │ \u001b[2mNULL\u001b[0m                │ \u001b[2mNULL\u001b[0m                 │ \u001b[32m3752.327886    \u001b[0m │ \u001b[2mNULL\u001b[0m               │ \u001b[2mNULL\u001b[0m                │ \u001b[2mNULL\u001b[0m                 │ \u001b[32m2916.962438       \u001b[0m │ \u001b[2mNULL\u001b[0m                  │ \u001b[2mNULL\u001b[0m                   │ \u001b[2mNULL\u001b[0m                    │ \u001b[32m113.2074664\u001b[0m │ \u001b[32m96.63194446  \u001b[0m │ \u001b[32m100.8949547\u001b[0m │ \u001b[32m43.85768488\u001b[0m │ \u001b[32m0           \u001b[0m │ \u001b[32m2      \u001b[0m │ \u001b[32m12.88203995\u001b[0m │ \u001b[32m796.2875598\u001b[0m │\n",
       "│ \u001b[32mAlbania\u001b[0m │ \u001b[32mBerat \u001b[0m │ \u001b[32mALB   \u001b[0m │ \u001b[32mALB.1_1\u001b[0m │ \u001b[32m2012  \u001b[0m │ \u001b[32m49020995589\u001b[0m │ \u001b[32m145931\u001b[0m │ \u001b[32m335919    \u001b[0m │ \u001b[2mNULL\u001b[0m          │ \u001b[2mNULL\u001b[0m           │ \u001b[2mNULL\u001b[0m            │ \u001b[32m3105.052489\u001b[0m │ \u001b[2mNULL\u001b[0m          │ \u001b[2mNULL\u001b[0m           │ \u001b[2mNULL\u001b[0m            │ \u001b[32m344039.9253    \u001b[0m │ \u001b[2mNULL\u001b[0m               │ \u001b[2mNULL\u001b[0m                │ \u001b[2mNULL\u001b[0m                 │ \u001b[32m3248.642016    \u001b[0m │ \u001b[2mNULL\u001b[0m               │ \u001b[2mNULL\u001b[0m                │ \u001b[2mNULL\u001b[0m                 │ \u001b[32m2731.324683       \u001b[0m │ \u001b[2mNULL\u001b[0m                  │ \u001b[2mNULL\u001b[0m                   │ \u001b[2mNULL\u001b[0m                    │ \u001b[32m108.193489 \u001b[0m │ \u001b[32m97.63953986  \u001b[0m │ \u001b[32m108.1846446\u001b[0m │ \u001b[32m43.65524832\u001b[0m │ \u001b[32m0           \u001b[0m │ \u001b[32m2      \u001b[0m │ \u001b[32m13.37346461\u001b[0m │ \u001b[32m1177.160775\u001b[0m │\n",
       "│ \u001b[32mAlbania\u001b[0m │ \u001b[32mBerat \u001b[0m │ \u001b[32mALB   \u001b[0m │ \u001b[32mALB.1_1\u001b[0m │ \u001b[32m2013  \u001b[0m │ \u001b[32m50164150141\u001b[0m │ \u001b[32m145132\u001b[0m │ \u001b[32m345645    \u001b[0m │ \u001b[2mNULL\u001b[0m          │ \u001b[2mNULL\u001b[0m           │ \u001b[2mNULL\u001b[0m            │ \u001b[32m3271.026209\u001b[0m │ \u001b[2mNULL\u001b[0m          │ \u001b[2mNULL\u001b[0m           │ \u001b[2mNULL\u001b[0m            │ \u001b[32m352981.833     \u001b[0m │ \u001b[2mNULL\u001b[0m               │ \u001b[2mNULL\u001b[0m                │ \u001b[2mNULL\u001b[0m                 │ \u001b[32m3363.268468    \u001b[0m │ \u001b[2mNULL\u001b[0m               │ \u001b[2mNULL\u001b[0m                │ \u001b[2mNULL\u001b[0m                 │ \u001b[32m2802.314273       \u001b[0m │ \u001b[2mNULL\u001b[0m                  │ \u001b[2mNULL\u001b[0m                   │ \u001b[2mNULL\u001b[0m                    │ \u001b[32m112.2015339\u001b[0m │ \u001b[32m97.92147009  \u001b[0m │ \u001b[32m105.6686734\u001b[0m │ \u001b[32m44.11373867\u001b[0m │ \u001b[32m0           \u001b[0m │ \u001b[32m2      \u001b[0m │ \u001b[32m13.53541203\u001b[0m │ \u001b[32m1086.023721\u001b[0m │\n",
       "│ \u001b[32mAlbania\u001b[0m │ \u001b[32mBerat \u001b[0m │ \u001b[32mALB   \u001b[0m │ \u001b[32mALB.1_1\u001b[0m │ \u001b[32m2014  \u001b[0m │ \u001b[32m51948832130\u001b[0m │ \u001b[32m143846\u001b[0m │ \u001b[32m361142    \u001b[0m │ \u001b[2mNULL\u001b[0m          │ \u001b[2mNULL\u001b[0m           │ \u001b[2mNULL\u001b[0m            │ \u001b[32m3423.82084 \u001b[0m │ \u001b[2mNULL\u001b[0m          │ \u001b[2mNULL\u001b[0m           │ \u001b[2mNULL\u001b[0m            │ \u001b[32m363178.8096    \u001b[0m │ \u001b[2mNULL\u001b[0m               │ \u001b[2mNULL\u001b[0m                │ \u001b[2mNULL\u001b[0m                 │ \u001b[32m3456.433813    \u001b[0m │ \u001b[2mNULL\u001b[0m               │ \u001b[2mNULL\u001b[0m                │ \u001b[2mNULL\u001b[0m                 │ \u001b[32m2883.267825       \u001b[0m │ \u001b[2mNULL\u001b[0m                  │ \u001b[2mNULL\u001b[0m                   │ \u001b[2mNULL\u001b[0m                    │ \u001b[32m116.170384 \u001b[0m │ \u001b[32m99.43917167  \u001b[0m │ \u001b[32m105.4792341\u001b[0m │ \u001b[32m42.89392984\u001b[0m │ \u001b[32m0           \u001b[0m │ \u001b[32m2      \u001b[0m │ \u001b[32m13.35798003\u001b[0m │ \u001b[32m1198.51479 \u001b[0m │\n",
       "└─────────┴────────┴────────┴─────────┴────────┴─────────────┴────────┴────────────┴───────────────┴────────────────┴─────────────────┴─────────────┴───────────────┴────────────────┴─────────────────┴─────────────────┴────────────────────┴─────────────────────┴──────────────────────┴─────────────────┴────────────────────┴─────────────────────┴──────────────────────┴────────────────────┴───────────────────────┴────────────────────────┴─────────────────────────┴─────────────┴───────────────┴─────────────┴─────────────┴──────────────┴─────────┴─────────────┴─────────────┘"
      ]
     },
     "execution_count": 14,
     "metadata": {},
     "output_type": "execute_result"
    }
   ],
   "source": [
    "dose.head()"
   ]
  },
  {
   "cell_type": "code",
   "execution_count": 15,
   "metadata": {
    "tags": [
     "rm_cell"
    ]
   },
   "outputs": [
    {
     "data": {
      "text/html": [
       "<pre style=\"white-space:pre;overflow-x:auto;line-height:normal;font-family:Menlo,'DejaVu Sans Mono',consolas,'Courier New',monospace\">┏━━━━━━━━━┳━━━━━━━━━┳━━━━━━━━┳━━━━━━━━━━┳━━━━━━━━┳━━━━━━━━━━┳━━━━━━━━┳━━━━━━━━━━━━━┳━━━━━━━━━━━━━━━┳━━━━━━━━━━━━━━━━┳━━━━━━━━━━━━━━━━━┳━━━━━━━━━━━━━┳━━━━━━━━━━━━━━━┳━━━━━━━━━━━━━━━━┳━━━━━━━━━━━━━━━━━┳━━━━━━━━━━━━━━━━━┳━━━━━━━━━━━━━━━━━━━━┳━━━━━━━━━━━━━━━━━━━━━┳━━━━━━━━━━━━━━━━━━━━━━┳━━━━━━━━━━━━━━━━━┳━━━━━━━━━━━━━━━━━━━━┳━━━━━━━━━━━━━━━━━━━━━┳━━━━━━━━━━━━━━━━━━━━━━┳━━━━━━━━━━━━━━━━━━━━┳━━━━━━━━━━━━━━━━━━━━━━━┳━━━━━━━━━━━━━━━━━━━━━━━━┳━━━━━━━━━━━━━━━━━━━━━━━━━┳━━━━━━━━━━━━━┳━━━━━━━━━━━━━━━┳━━━━━━━━━━━━━┳━━━━━━━━━━━━━┳━━━━━━━━━━━━━━┳━━━━━━━━━┳━━━━━━━━━━━━━┳━━━━━━━━━━━━━┓\n",
       "┃<span style=\"font-weight: bold\"> country </span>┃<span style=\"font-weight: bold\"> region  </span>┃<span style=\"font-weight: bold\"> GID_0  </span>┃<span style=\"font-weight: bold\"> GID_1    </span>┃<span style=\"font-weight: bold\"> year   </span>┃<span style=\"font-weight: bold\"> grp_lcu  </span>┃<span style=\"font-weight: bold\"> pop    </span>┃<span style=\"font-weight: bold\"> grp_pc_lcu  </span>┃<span style=\"font-weight: bold\"> ag_grp_pc_lcu </span>┃<span style=\"font-weight: bold\"> man_grp_pc_lcu </span>┃<span style=\"font-weight: bold\"> serv_grp_pc_lcu </span>┃<span style=\"font-weight: bold\"> grp_pc_usd  </span>┃<span style=\"font-weight: bold\"> ag_grp_pc_usd </span>┃<span style=\"font-weight: bold\"> man_grp_pc_usd </span>┃<span style=\"font-weight: bold\"> serv_grp_pc_usd </span>┃<span style=\"font-weight: bold\"> grp_pc_lcu_2015 </span>┃<span style=\"font-weight: bold\"> ag_grp_pc_lcu_2015 </span>┃<span style=\"font-weight: bold\"> man_grp_pc_lcu_2015 </span>┃<span style=\"font-weight: bold\"> serv_grp_pc_lcu_2015 </span>┃<span style=\"font-weight: bold\"> grp_pc_usd_2015 </span>┃<span style=\"font-weight: bold\"> ag_grp_pc_usd_2015 </span>┃<span style=\"font-weight: bold\"> man_grp_pc_usd_2015 </span>┃<span style=\"font-weight: bold\"> serv_grp_pc_usd_2015 </span>┃<span style=\"font-weight: bold\"> grp_pc_lcu2015_usd </span>┃<span style=\"font-weight: bold\"> ag_grp_pc_lcu2015_usd </span>┃<span style=\"font-weight: bold\"> man_grp_pc_lcu2015_usd </span>┃<span style=\"font-weight: bold\"> serv_grp_pc_lcu2015_usd </span>┃<span style=\"font-weight: bold\"> cpi_2015    </span>┃<span style=\"font-weight: bold\"> deflator_2015 </span>┃<span style=\"font-weight: bold\"> fx          </span>┃<span style=\"font-weight: bold\"> PPP         </span>┃<span style=\"font-weight: bold\"> StructChange </span>┃<span style=\"font-weight: bold\"> version </span>┃<span style=\"font-weight: bold\"> T_a         </span>┃<span style=\"font-weight: bold\"> P_a         </span>┃\n",
       "┡━━━━━━━━━╇━━━━━━━━━╇━━━━━━━━╇━━━━━━━━━━╇━━━━━━━━╇━━━━━━━━━━╇━━━━━━━━╇━━━━━━━━━━━━━╇━━━━━━━━━━━━━━━╇━━━━━━━━━━━━━━━━╇━━━━━━━━━━━━━━━━━╇━━━━━━━━━━━━━╇━━━━━━━━━━━━━━━╇━━━━━━━━━━━━━━━━╇━━━━━━━━━━━━━━━━━╇━━━━━━━━━━━━━━━━━╇━━━━━━━━━━━━━━━━━━━━╇━━━━━━━━━━━━━━━━━━━━━╇━━━━━━━━━━━━━━━━━━━━━━╇━━━━━━━━━━━━━━━━━╇━━━━━━━━━━━━━━━━━━━━╇━━━━━━━━━━━━━━━━━━━━━╇━━━━━━━━━━━━━━━━━━━━━━╇━━━━━━━━━━━━━━━━━━━━╇━━━━━━━━━━━━━━━━━━━━━━━╇━━━━━━━━━━━━━━━━━━━━━━━━╇━━━━━━━━━━━━━━━━━━━━━━━━━╇━━━━━━━━━━━━━╇━━━━━━━━━━━━━━━╇━━━━━━━━━━━━━╇━━━━━━━━━━━━━╇━━━━━━━━━━━━━━╇━━━━━━━━━╇━━━━━━━━━━━━━╇━━━━━━━━━━━━━┩\n",
       "│ <span style=\"color: #7f7f7f; text-decoration-color: #7f7f7f\">string</span>  │ <span style=\"color: #7f7f7f; text-decoration-color: #7f7f7f\">string</span>  │ <span style=\"color: #7f7f7f; text-decoration-color: #7f7f7f\">string</span> │ <span style=\"color: #7f7f7f; text-decoration-color: #7f7f7f\">string</span>   │ <span style=\"color: #7f7f7f; text-decoration-color: #7f7f7f\">string</span> │ <span style=\"color: #7f7f7f; text-decoration-color: #7f7f7f\">string</span>   │ <span style=\"color: #7f7f7f; text-decoration-color: #7f7f7f\">string</span> │ <span style=\"color: #7f7f7f; text-decoration-color: #7f7f7f\">string</span>      │ <span style=\"color: #7f7f7f; text-decoration-color: #7f7f7f\">string</span>        │ <span style=\"color: #7f7f7f; text-decoration-color: #7f7f7f\">string</span>         │ <span style=\"color: #7f7f7f; text-decoration-color: #7f7f7f\">string</span>          │ <span style=\"color: #7f7f7f; text-decoration-color: #7f7f7f\">string</span>      │ <span style=\"color: #7f7f7f; text-decoration-color: #7f7f7f\">string</span>        │ <span style=\"color: #7f7f7f; text-decoration-color: #7f7f7f\">string</span>         │ <span style=\"color: #7f7f7f; text-decoration-color: #7f7f7f\">string</span>          │ <span style=\"color: #7f7f7f; text-decoration-color: #7f7f7f\">string</span>          │ <span style=\"color: #7f7f7f; text-decoration-color: #7f7f7f\">string</span>             │ <span style=\"color: #7f7f7f; text-decoration-color: #7f7f7f\">string</span>              │ <span style=\"color: #7f7f7f; text-decoration-color: #7f7f7f\">string</span>               │ <span style=\"color: #7f7f7f; text-decoration-color: #7f7f7f\">string</span>          │ <span style=\"color: #7f7f7f; text-decoration-color: #7f7f7f\">string</span>             │ <span style=\"color: #7f7f7f; text-decoration-color: #7f7f7f\">string</span>              │ <span style=\"color: #7f7f7f; text-decoration-color: #7f7f7f\">string</span>               │ <span style=\"color: #7f7f7f; text-decoration-color: #7f7f7f\">string</span>             │ <span style=\"color: #7f7f7f; text-decoration-color: #7f7f7f\">string</span>                │ <span style=\"color: #7f7f7f; text-decoration-color: #7f7f7f\">string</span>                 │ <span style=\"color: #7f7f7f; text-decoration-color: #7f7f7f\">string</span>                  │ <span style=\"color: #7f7f7f; text-decoration-color: #7f7f7f\">string</span>      │ <span style=\"color: #7f7f7f; text-decoration-color: #7f7f7f\">string</span>        │ <span style=\"color: #7f7f7f; text-decoration-color: #7f7f7f\">string</span>      │ <span style=\"color: #7f7f7f; text-decoration-color: #7f7f7f\">string</span>      │ <span style=\"color: #7f7f7f; text-decoration-color: #7f7f7f\">string</span>       │ <span style=\"color: #7f7f7f; text-decoration-color: #7f7f7f\">string</span>  │ <span style=\"color: #7f7f7f; text-decoration-color: #7f7f7f\">string</span>      │ <span style=\"color: #7f7f7f; text-decoration-color: #7f7f7f\">string</span>      │\n",
       "├─────────┼─────────┼────────┼──────────┼────────┼──────────┼────────┼─────────────┼───────────────┼────────────────┼─────────────────┼─────────────┼───────────────┼────────────────┼─────────────────┼─────────────────┼────────────────────┼─────────────────────┼──────────────────────┼─────────────────┼────────────────────┼─────────────────────┼──────────────────────┼────────────────────┼───────────────────────┼────────────────────────┼─────────────────────────┼─────────────┼───────────────┼─────────────┼─────────────┼──────────────┼─────────┼─────────────┼─────────────┤\n",
       "│ <span style=\"color: #008000; text-decoration-color: #008000\">Laos   </span> │ <span style=\"color: #008000; text-decoration-color: #008000\">Saravan</span> │ <span style=\"color: #008000; text-decoration-color: #008000\">LAO   </span> │ <span style=\"color: #008000; text-decoration-color: #008000\">LAO.11_1</span> │ <span style=\"color: #008000; text-decoration-color: #008000\">1995  </span> │ <span style=\"color: #7f7f7f; text-decoration-color: #7f7f7f\">NULL</span>     │ <span style=\"color: #7f7f7f; text-decoration-color: #7f7f7f\">NULL</span>   │ <span style=\"color: #008000; text-decoration-color: #008000\">135973.9777</span> │ <span style=\"color: #7f7f7f; text-decoration-color: #7f7f7f\">NULL</span>          │ <span style=\"color: #7f7f7f; text-decoration-color: #7f7f7f\">NULL</span>           │ <span style=\"color: #7f7f7f; text-decoration-color: #7f7f7f\">NULL</span>            │ <span style=\"color: #008000; text-decoration-color: #008000\">168.9768454</span> │ <span style=\"color: #7f7f7f; text-decoration-color: #7f7f7f\">NULL</span>          │ <span style=\"color: #7f7f7f; text-decoration-color: #7f7f7f\">NULL</span>           │ <span style=\"color: #7f7f7f; text-decoration-color: #7f7f7f\">NULL</span>            │ <span style=\"color: #008000; text-decoration-color: #008000\">2876195.764    </span> │ <span style=\"color: #7f7f7f; text-decoration-color: #7f7f7f\">NULL</span>               │ <span style=\"color: #7f7f7f; text-decoration-color: #7f7f7f\">NULL</span>                │ <span style=\"color: #7f7f7f; text-decoration-color: #7f7f7f\">NULL</span>                 │ <span style=\"color: #008000; text-decoration-color: #008000\">246.1497107    </span> │ <span style=\"color: #7f7f7f; text-decoration-color: #7f7f7f\">NULL</span>               │ <span style=\"color: #7f7f7f; text-decoration-color: #7f7f7f\">NULL</span>                │ <span style=\"color: #7f7f7f; text-decoration-color: #7f7f7f\">NULL</span>                 │ <span style=\"color: #7f7f7f; text-decoration-color: #7f7f7f\">NULL</span>               │ <span style=\"color: #7f7f7f; text-decoration-color: #7f7f7f\">NULL</span>                  │ <span style=\"color: #7f7f7f; text-decoration-color: #7f7f7f\">NULL</span>                   │ <span style=\"color: #7f7f7f; text-decoration-color: #7f7f7f\">NULL</span>                    │ <span style=\"color: #008000; text-decoration-color: #008000\">12.22438449</span> │ <span style=\"color: #008000; text-decoration-color: #008000\">4.727563381  </span> │ <span style=\"color: #008000; text-decoration-color: #008000\">804.69     </span> │ <span style=\"color: #008000; text-decoration-color: #008000\">213.4563692</span> │ <span style=\"color: #008000; text-decoration-color: #008000\">0           </span> │ <span style=\"color: #008000; text-decoration-color: #008000\">1      </span> │ <span style=\"color: #008000; text-decoration-color: #008000\">23.97160813</span> │ <span style=\"color: #008000; text-decoration-color: #008000\">1676.981038</span> │\n",
       "│ <span style=\"color: #008000; text-decoration-color: #008000\">Laos   </span> │ <span style=\"color: #008000; text-decoration-color: #008000\">Saravan</span> │ <span style=\"color: #008000; text-decoration-color: #008000\">LAO   </span> │ <span style=\"color: #008000; text-decoration-color: #008000\">LAO.11_1</span> │ <span style=\"color: #008000; text-decoration-color: #008000\">2006  </span> │ <span style=\"color: #008000; text-decoration-color: #008000\">1.45E+12</span> │ <span style=\"color: #008000; text-decoration-color: #008000\">332037</span> │ <span style=\"color: #008000; text-decoration-color: #008000\">4354935.737</span> │ <span style=\"color: #008000; text-decoration-color: #008000\">2611154.78   </span> │ <span style=\"color: #008000; text-decoration-color: #008000\">728834.4369   </span> │ <span style=\"color: #008000; text-decoration-color: #008000\">1014947.129    </span> │ <span style=\"color: #008000; text-decoration-color: #008000\">428.6379737</span> │ <span style=\"color: #008000; text-decoration-color: #008000\">257.0049621  </span> │ <span style=\"color: #008000; text-decoration-color: #008000\">71.73610244   </span> │ <span style=\"color: #008000; text-decoration-color: #008000\">99.89696911    </span> │ <span style=\"color: #008000; text-decoration-color: #008000\">7388921.332    </span> │ <span style=\"color: #008000; text-decoration-color: #008000\">4430287.476       </span> │ <span style=\"color: #008000; text-decoration-color: #008000\">1236596.966        </span> │ <span style=\"color: #008000; text-decoration-color: #008000\">1722037.923         </span> │ <span style=\"color: #008000; text-decoration-color: #008000\">497.9215242    </span> │ <span style=\"color: #008000; text-decoration-color: #008000\">298.5463498       </span> │ <span style=\"color: #008000; text-decoration-color: #008000\">83.33127642        </span> │ <span style=\"color: #008000; text-decoration-color: #008000\">116.0439676         </span> │ <span style=\"color: #7f7f7f; text-decoration-color: #7f7f7f\">NULL</span>               │ <span style=\"color: #7f7f7f; text-decoration-color: #7f7f7f\">NULL</span>                  │ <span style=\"color: #7f7f7f; text-decoration-color: #7f7f7f\">NULL</span>                   │ <span style=\"color: #7f7f7f; text-decoration-color: #7f7f7f\">NULL</span>                    │ <span style=\"color: #008000; text-decoration-color: #008000\">23.949398  </span> │ <span style=\"color: #008000; text-decoration-color: #008000\">58.93872112  </span> │ <span style=\"color: #008000; text-decoration-color: #008000\">10159.93917</span> │ <span style=\"color: #008000; text-decoration-color: #008000\">2118.886332</span> │ <span style=\"color: #008000; text-decoration-color: #008000\">1           </span> │ <span style=\"color: #008000; text-decoration-color: #008000\">1      </span> │ <span style=\"color: #008000; text-decoration-color: #008000\">24.49803094</span> │ <span style=\"color: #008000; text-decoration-color: #008000\">2122.269795</span> │\n",
       "│ <span style=\"color: #008000; text-decoration-color: #008000\">Laos   </span> │ <span style=\"color: #008000; text-decoration-color: #008000\">Saravan</span> │ <span style=\"color: #008000; text-decoration-color: #008000\">LAO   </span> │ <span style=\"color: #008000; text-decoration-color: #008000\">LAO.11_1</span> │ <span style=\"color: #008000; text-decoration-color: #008000\">2007  </span> │ <span style=\"color: #008000; text-decoration-color: #008000\">1.57E+12</span> │ <span style=\"color: #008000; text-decoration-color: #008000\">340000</span> │ <span style=\"color: #008000; text-decoration-color: #008000\">4617648.151</span> │ <span style=\"color: #008000; text-decoration-color: #008000\">2679411.765  </span> │ <span style=\"color: #008000; text-decoration-color: #008000\">832352.9412   </span> │ <span style=\"color: #008000; text-decoration-color: #008000\">1108823.529    </span> │ <span style=\"color: #008000; text-decoration-color: #008000\">480.8467217</span> │ <span style=\"color: #008000; text-decoration-color: #008000\">279.0135413  </span> │ <span style=\"color: #008000; text-decoration-color: #008000\">86.67489812   </span> │ <span style=\"color: #008000; text-decoration-color: #008000\">115.4644403    </span> │ <span style=\"color: #008000; text-decoration-color: #008000\">7292241.766    </span> │ <span style=\"color: #008000; text-decoration-color: #008000\">4231357.119       </span> │ <span style=\"color: #008000; text-decoration-color: #008000\">1314461.103        </span> │ <span style=\"color: #008000; text-decoration-color: #008000\">1751066.557         </span> │ <span style=\"color: #008000; text-decoration-color: #008000\">543.9569128    </span> │ <span style=\"color: #008000; text-decoration-color: #008000\">315.6335225       </span> │ <span style=\"color: #008000; text-decoration-color: #008000\">98.05080885        </span> │ <span style=\"color: #008000; text-decoration-color: #008000\">130.618922          </span> │ <span style=\"color: #7f7f7f; text-decoration-color: #7f7f7f\">NULL</span>               │ <span style=\"color: #7f7f7f; text-decoration-color: #7f7f7f\">NULL</span>                  │ <span style=\"color: #7f7f7f; text-decoration-color: #7f7f7f\">NULL</span>                   │ <span style=\"color: #7f7f7f; text-decoration-color: #7f7f7f\">NULL</span>                    │ <span style=\"color: #008000; text-decoration-color: #008000\">29.27381555</span> │ <span style=\"color: #008000; text-decoration-color: #008000\">63.32275176  </span> │ <span style=\"color: #008000; text-decoration-color: #008000\">9603.160306</span> │ <span style=\"color: #008000; text-decoration-color: #008000\">2216.591191</span> │ <span style=\"color: #008000; text-decoration-color: #008000\">0           </span> │ <span style=\"color: #008000; text-decoration-color: #008000\">1      </span> │ <span style=\"color: #008000; text-decoration-color: #008000\">24.25283637</span> │ <span style=\"color: #008000; text-decoration-color: #008000\">2192.02254 </span> │\n",
       "└─────────┴─────────┴────────┴──────────┴────────┴──────────┴────────┴─────────────┴───────────────┴────────────────┴─────────────────┴─────────────┴───────────────┴────────────────┴─────────────────┴─────────────────┴────────────────────┴─────────────────────┴──────────────────────┴─────────────────┴────────────────────┴─────────────────────┴──────────────────────┴────────────────────┴───────────────────────┴────────────────────────┴─────────────────────────┴─────────────┴───────────────┴─────────────┴─────────────┴──────────────┴─────────┴─────────────┴─────────────┘\n",
       "</pre>\n"
      ],
      "text/plain": [
       "┏━━━━━━━━━┳━━━━━━━━━┳━━━━━━━━┳━━━━━━━━━━┳━━━━━━━━┳━━━━━━━━━━┳━━━━━━━━┳━━━━━━━━━━━━━┳━━━━━━━━━━━━━━━┳━━━━━━━━━━━━━━━━┳━━━━━━━━━━━━━━━━━┳━━━━━━━━━━━━━┳━━━━━━━━━━━━━━━┳━━━━━━━━━━━━━━━━┳━━━━━━━━━━━━━━━━━┳━━━━━━━━━━━━━━━━━┳━━━━━━━━━━━━━━━━━━━━┳━━━━━━━━━━━━━━━━━━━━━┳━━━━━━━━━━━━━━━━━━━━━━┳━━━━━━━━━━━━━━━━━┳━━━━━━━━━━━━━━━━━━━━┳━━━━━━━━━━━━━━━━━━━━━┳━━━━━━━━━━━━━━━━━━━━━━┳━━━━━━━━━━━━━━━━━━━━┳━━━━━━━━━━━━━━━━━━━━━━━┳━━━━━━━━━━━━━━━━━━━━━━━━┳━━━━━━━━━━━━━━━━━━━━━━━━━┳━━━━━━━━━━━━━┳━━━━━━━━━━━━━━━┳━━━━━━━━━━━━━┳━━━━━━━━━━━━━┳━━━━━━━━━━━━━━┳━━━━━━━━━┳━━━━━━━━━━━━━┳━━━━━━━━━━━━━┓\n",
       "┃\u001b[1m \u001b[0m\u001b[1mcountry\u001b[0m\u001b[1m \u001b[0m┃\u001b[1m \u001b[0m\u001b[1mregion\u001b[0m\u001b[1m \u001b[0m\u001b[1m \u001b[0m┃\u001b[1m \u001b[0m\u001b[1mGID_0\u001b[0m\u001b[1m \u001b[0m\u001b[1m \u001b[0m┃\u001b[1m \u001b[0m\u001b[1mGID_1\u001b[0m\u001b[1m   \u001b[0m\u001b[1m \u001b[0m┃\u001b[1m \u001b[0m\u001b[1myear\u001b[0m\u001b[1m  \u001b[0m\u001b[1m \u001b[0m┃\u001b[1m \u001b[0m\u001b[1mgrp_lcu\u001b[0m\u001b[1m \u001b[0m\u001b[1m \u001b[0m┃\u001b[1m \u001b[0m\u001b[1mpop\u001b[0m\u001b[1m   \u001b[0m\u001b[1m \u001b[0m┃\u001b[1m \u001b[0m\u001b[1mgrp_pc_lcu\u001b[0m\u001b[1m \u001b[0m\u001b[1m \u001b[0m┃\u001b[1m \u001b[0m\u001b[1mag_grp_pc_lcu\u001b[0m\u001b[1m \u001b[0m┃\u001b[1m \u001b[0m\u001b[1mman_grp_pc_lcu\u001b[0m\u001b[1m \u001b[0m┃\u001b[1m \u001b[0m\u001b[1mserv_grp_pc_lcu\u001b[0m\u001b[1m \u001b[0m┃\u001b[1m \u001b[0m\u001b[1mgrp_pc_usd\u001b[0m\u001b[1m \u001b[0m\u001b[1m \u001b[0m┃\u001b[1m \u001b[0m\u001b[1mag_grp_pc_usd\u001b[0m\u001b[1m \u001b[0m┃\u001b[1m \u001b[0m\u001b[1mman_grp_pc_usd\u001b[0m\u001b[1m \u001b[0m┃\u001b[1m \u001b[0m\u001b[1mserv_grp_pc_usd\u001b[0m\u001b[1m \u001b[0m┃\u001b[1m \u001b[0m\u001b[1mgrp_pc_lcu_2015\u001b[0m\u001b[1m \u001b[0m┃\u001b[1m \u001b[0m\u001b[1mag_grp_pc_lcu_2015\u001b[0m\u001b[1m \u001b[0m┃\u001b[1m \u001b[0m\u001b[1mman_grp_pc_lcu_2015\u001b[0m\u001b[1m \u001b[0m┃\u001b[1m \u001b[0m\u001b[1mserv_grp_pc_lcu_2015\u001b[0m\u001b[1m \u001b[0m┃\u001b[1m \u001b[0m\u001b[1mgrp_pc_usd_2015\u001b[0m\u001b[1m \u001b[0m┃\u001b[1m \u001b[0m\u001b[1mag_grp_pc_usd_2015\u001b[0m\u001b[1m \u001b[0m┃\u001b[1m \u001b[0m\u001b[1mman_grp_pc_usd_2015\u001b[0m\u001b[1m \u001b[0m┃\u001b[1m \u001b[0m\u001b[1mserv_grp_pc_usd_2015\u001b[0m\u001b[1m \u001b[0m┃\u001b[1m \u001b[0m\u001b[1mgrp_pc_lcu2015_usd\u001b[0m\u001b[1m \u001b[0m┃\u001b[1m \u001b[0m\u001b[1mag_grp_pc_lcu2015_usd\u001b[0m\u001b[1m \u001b[0m┃\u001b[1m \u001b[0m\u001b[1mman_grp_pc_lcu2015_usd\u001b[0m\u001b[1m \u001b[0m┃\u001b[1m \u001b[0m\u001b[1mserv_grp_pc_lcu2015_usd\u001b[0m\u001b[1m \u001b[0m┃\u001b[1m \u001b[0m\u001b[1mcpi_2015\u001b[0m\u001b[1m   \u001b[0m\u001b[1m \u001b[0m┃\u001b[1m \u001b[0m\u001b[1mdeflator_2015\u001b[0m\u001b[1m \u001b[0m┃\u001b[1m \u001b[0m\u001b[1mfx\u001b[0m\u001b[1m         \u001b[0m\u001b[1m \u001b[0m┃\u001b[1m \u001b[0m\u001b[1mPPP\u001b[0m\u001b[1m        \u001b[0m\u001b[1m \u001b[0m┃\u001b[1m \u001b[0m\u001b[1mStructChange\u001b[0m\u001b[1m \u001b[0m┃\u001b[1m \u001b[0m\u001b[1mversion\u001b[0m\u001b[1m \u001b[0m┃\u001b[1m \u001b[0m\u001b[1mT_a\u001b[0m\u001b[1m        \u001b[0m\u001b[1m \u001b[0m┃\u001b[1m \u001b[0m\u001b[1mP_a\u001b[0m\u001b[1m        \u001b[0m\u001b[1m \u001b[0m┃\n",
       "┡━━━━━━━━━╇━━━━━━━━━╇━━━━━━━━╇━━━━━━━━━━╇━━━━━━━━╇━━━━━━━━━━╇━━━━━━━━╇━━━━━━━━━━━━━╇━━━━━━━━━━━━━━━╇━━━━━━━━━━━━━━━━╇━━━━━━━━━━━━━━━━━╇━━━━━━━━━━━━━╇━━━━━━━━━━━━━━━╇━━━━━━━━━━━━━━━━╇━━━━━━━━━━━━━━━━━╇━━━━━━━━━━━━━━━━━╇━━━━━━━━━━━━━━━━━━━━╇━━━━━━━━━━━━━━━━━━━━━╇━━━━━━━━━━━━━━━━━━━━━━╇━━━━━━━━━━━━━━━━━╇━━━━━━━━━━━━━━━━━━━━╇━━━━━━━━━━━━━━━━━━━━━╇━━━━━━━━━━━━━━━━━━━━━━╇━━━━━━━━━━━━━━━━━━━━╇━━━━━━━━━━━━━━━━━━━━━━━╇━━━━━━━━━━━━━━━━━━━━━━━━╇━━━━━━━━━━━━━━━━━━━━━━━━━╇━━━━━━━━━━━━━╇━━━━━━━━━━━━━━━╇━━━━━━━━━━━━━╇━━━━━━━━━━━━━╇━━━━━━━━━━━━━━╇━━━━━━━━━╇━━━━━━━━━━━━━╇━━━━━━━━━━━━━┩\n",
       "│ \u001b[2mstring\u001b[0m  │ \u001b[2mstring\u001b[0m  │ \u001b[2mstring\u001b[0m │ \u001b[2mstring\u001b[0m   │ \u001b[2mstring\u001b[0m │ \u001b[2mstring\u001b[0m   │ \u001b[2mstring\u001b[0m │ \u001b[2mstring\u001b[0m      │ \u001b[2mstring\u001b[0m        │ \u001b[2mstring\u001b[0m         │ \u001b[2mstring\u001b[0m          │ \u001b[2mstring\u001b[0m      │ \u001b[2mstring\u001b[0m        │ \u001b[2mstring\u001b[0m         │ \u001b[2mstring\u001b[0m          │ \u001b[2mstring\u001b[0m          │ \u001b[2mstring\u001b[0m             │ \u001b[2mstring\u001b[0m              │ \u001b[2mstring\u001b[0m               │ \u001b[2mstring\u001b[0m          │ \u001b[2mstring\u001b[0m             │ \u001b[2mstring\u001b[0m              │ \u001b[2mstring\u001b[0m               │ \u001b[2mstring\u001b[0m             │ \u001b[2mstring\u001b[0m                │ \u001b[2mstring\u001b[0m                 │ \u001b[2mstring\u001b[0m                  │ \u001b[2mstring\u001b[0m      │ \u001b[2mstring\u001b[0m        │ \u001b[2mstring\u001b[0m      │ \u001b[2mstring\u001b[0m      │ \u001b[2mstring\u001b[0m       │ \u001b[2mstring\u001b[0m  │ \u001b[2mstring\u001b[0m      │ \u001b[2mstring\u001b[0m      │\n",
       "├─────────┼─────────┼────────┼──────────┼────────┼──────────┼────────┼─────────────┼───────────────┼────────────────┼─────────────────┼─────────────┼───────────────┼────────────────┼─────────────────┼─────────────────┼────────────────────┼─────────────────────┼──────────────────────┼─────────────────┼────────────────────┼─────────────────────┼──────────────────────┼────────────────────┼───────────────────────┼────────────────────────┼─────────────────────────┼─────────────┼───────────────┼─────────────┼─────────────┼──────────────┼─────────┼─────────────┼─────────────┤\n",
       "│ \u001b[32mLaos   \u001b[0m │ \u001b[32mSaravan\u001b[0m │ \u001b[32mLAO   \u001b[0m │ \u001b[32mLAO.11_1\u001b[0m │ \u001b[32m1995  \u001b[0m │ \u001b[2mNULL\u001b[0m     │ \u001b[2mNULL\u001b[0m   │ \u001b[32m135973.9777\u001b[0m │ \u001b[2mNULL\u001b[0m          │ \u001b[2mNULL\u001b[0m           │ \u001b[2mNULL\u001b[0m            │ \u001b[32m168.9768454\u001b[0m │ \u001b[2mNULL\u001b[0m          │ \u001b[2mNULL\u001b[0m           │ \u001b[2mNULL\u001b[0m            │ \u001b[32m2876195.764    \u001b[0m │ \u001b[2mNULL\u001b[0m               │ \u001b[2mNULL\u001b[0m                │ \u001b[2mNULL\u001b[0m                 │ \u001b[32m246.1497107    \u001b[0m │ \u001b[2mNULL\u001b[0m               │ \u001b[2mNULL\u001b[0m                │ \u001b[2mNULL\u001b[0m                 │ \u001b[2mNULL\u001b[0m               │ \u001b[2mNULL\u001b[0m                  │ \u001b[2mNULL\u001b[0m                   │ \u001b[2mNULL\u001b[0m                    │ \u001b[32m12.22438449\u001b[0m │ \u001b[32m4.727563381  \u001b[0m │ \u001b[32m804.69     \u001b[0m │ \u001b[32m213.4563692\u001b[0m │ \u001b[32m0           \u001b[0m │ \u001b[32m1      \u001b[0m │ \u001b[32m23.97160813\u001b[0m │ \u001b[32m1676.981038\u001b[0m │\n",
       "│ \u001b[32mLaos   \u001b[0m │ \u001b[32mSaravan\u001b[0m │ \u001b[32mLAO   \u001b[0m │ \u001b[32mLAO.11_1\u001b[0m │ \u001b[32m2006  \u001b[0m │ \u001b[32m1.45E+12\u001b[0m │ \u001b[32m332037\u001b[0m │ \u001b[32m4354935.737\u001b[0m │ \u001b[32m2611154.78   \u001b[0m │ \u001b[32m728834.4369   \u001b[0m │ \u001b[32m1014947.129    \u001b[0m │ \u001b[32m428.6379737\u001b[0m │ \u001b[32m257.0049621  \u001b[0m │ \u001b[32m71.73610244   \u001b[0m │ \u001b[32m99.89696911    \u001b[0m │ \u001b[32m7388921.332    \u001b[0m │ \u001b[32m4430287.476       \u001b[0m │ \u001b[32m1236596.966        \u001b[0m │ \u001b[32m1722037.923         \u001b[0m │ \u001b[32m497.9215242    \u001b[0m │ \u001b[32m298.5463498       \u001b[0m │ \u001b[32m83.33127642        \u001b[0m │ \u001b[32m116.0439676         \u001b[0m │ \u001b[2mNULL\u001b[0m               │ \u001b[2mNULL\u001b[0m                  │ \u001b[2mNULL\u001b[0m                   │ \u001b[2mNULL\u001b[0m                    │ \u001b[32m23.949398  \u001b[0m │ \u001b[32m58.93872112  \u001b[0m │ \u001b[32m10159.93917\u001b[0m │ \u001b[32m2118.886332\u001b[0m │ \u001b[32m1           \u001b[0m │ \u001b[32m1      \u001b[0m │ \u001b[32m24.49803094\u001b[0m │ \u001b[32m2122.269795\u001b[0m │\n",
       "│ \u001b[32mLaos   \u001b[0m │ \u001b[32mSaravan\u001b[0m │ \u001b[32mLAO   \u001b[0m │ \u001b[32mLAO.11_1\u001b[0m │ \u001b[32m2007  \u001b[0m │ \u001b[32m1.57E+12\u001b[0m │ \u001b[32m340000\u001b[0m │ \u001b[32m4617648.151\u001b[0m │ \u001b[32m2679411.765  \u001b[0m │ \u001b[32m832352.9412   \u001b[0m │ \u001b[32m1108823.529    \u001b[0m │ \u001b[32m480.8467217\u001b[0m │ \u001b[32m279.0135413  \u001b[0m │ \u001b[32m86.67489812   \u001b[0m │ \u001b[32m115.4644403    \u001b[0m │ \u001b[32m7292241.766    \u001b[0m │ \u001b[32m4231357.119       \u001b[0m │ \u001b[32m1314461.103        \u001b[0m │ \u001b[32m1751066.557         \u001b[0m │ \u001b[32m543.9569128    \u001b[0m │ \u001b[32m315.6335225       \u001b[0m │ \u001b[32m98.05080885        \u001b[0m │ \u001b[32m130.618922          \u001b[0m │ \u001b[2mNULL\u001b[0m               │ \u001b[2mNULL\u001b[0m                  │ \u001b[2mNULL\u001b[0m                   │ \u001b[2mNULL\u001b[0m                    │ \u001b[32m29.27381555\u001b[0m │ \u001b[32m63.32275176  \u001b[0m │ \u001b[32m9603.160306\u001b[0m │ \u001b[32m2216.591191\u001b[0m │ \u001b[32m0           \u001b[0m │ \u001b[32m1      \u001b[0m │ \u001b[32m24.25283637\u001b[0m │ \u001b[32m2192.02254 \u001b[0m │\n",
       "└─────────┴─────────┴────────┴──────────┴────────┴──────────┴────────┴─────────────┴───────────────┴────────────────┴─────────────────┴─────────────┴───────────────┴────────────────┴─────────────────┴─────────────────┴────────────────────┴─────────────────────┴──────────────────────┴─────────────────┴────────────────────┴─────────────────────┴──────────────────────┴────────────────────┴───────────────────────┴────────────────────────┴─────────────────────────┴─────────────┴───────────────┴─────────────┴─────────────┴──────────────┴─────────┴─────────────┴─────────────┘"
      ]
     },
     "execution_count": 15,
     "metadata": {},
     "output_type": "execute_result"
    }
   ],
   "source": [
    "dose.filter(_.country==\"Laos\").head(3)"
   ]
  },
  {
   "cell_type": "code",
   "execution_count": 16,
   "metadata": {
    "tags": [
     "rm_cell"
    ]
   },
   "outputs": [
    {
     "data": {
      "text/html": [
       "<pre style=\"white-space:pre;overflow-x:auto;line-height:normal;font-family:Menlo,'DejaVu Sans Mono',consolas,'Courier New',monospace\">┏━━━━━━━━━━━━━━━━━━━━━━━━━━━━━┳━━━━━━━━━━━━━━┳━━━━━━━━━━━━━━━━━━━━━━━━━━━━━━━━━━━━━━━━━━━━━━━━━━━━━━━━━━━━━━━━━━━━━━━━━━━━━━━━━━┳━━━━━━━━━━━━━━━━━━━┳━━━━━━━━━┳━━━━━━━━━┳━━━━━━━━━┳━━━━━━━━━┳━━━━━━━━━┳━━━━━━━━━┳━━━━━━━━━┳━━━━━━━━━┳━━━━━━━━━┳━━━━━━━━━┳━━━━━━━━━┳━━━━━━━━━┳━━━━━━━━━┳━━━━━━━━━┳━━━━━━━━━┳━━━━━━━━━┳━━━━━━━━━┳━━━━━━━━━┳━━━━━━━━━┳━━━━━━━━━┳━━━━━━━━━┳━━━━━━━━━┳━━━━━━━━━┳━━━━━━━━━┳━━━━━━━━━┳━━━━━━━━━┳━━━━━━━━━┳━━━━━━━━━┳━━━━━━━━━┳━━━━━━━━━┳━━━━━━━━━┳━━━━━━━━━┳━━━━━━━━━┳━━━━━━━━━┳━━━━━━━━━┳━━━━━━━━━┳━━━━━━━━━┳━━━━━━━━━┳━━━━━━━━━┳━━━━━━━━━┳━━━━━━━━━━━┳━━━━━━━━━━━┳━━━━━━━━━━━┳━━━━━━━━━━━┳━━━━━━━━━━━┳━━━━━━━━━━━┳━━━━━━━━━━━┳━━━━━━━━━━━┳━━━━━━━━━━━┳━━━━━━━━━━━┳━━━━━━━━━━━┳━━━━━━━━━━━┳━━━━━━━━━━━┳━━━━━━━━━━━┳━━━━━━━━━━━┳━━━━━━━━━━━┳━━━━━━━━━━━┳━━━━━━━━━━━┳━━━━━━━━━━━┳━━━━━━━━━━━┳━━━━━━━━━━━┳━━━━━━━━━━━┳━━━━━━━━━━━┳━━━━━━━━━┓\n",
       "┃<span style=\"font-weight: bold\"> Country Name                </span>┃<span style=\"font-weight: bold\"> Country Code </span>┃<span style=\"font-weight: bold\"> Indicator Name                                                                   </span>┃<span style=\"font-weight: bold\"> Indicator Code    </span>┃<span style=\"font-weight: bold\"> 1960    </span>┃<span style=\"font-weight: bold\"> 1961    </span>┃<span style=\"font-weight: bold\"> 1962    </span>┃<span style=\"font-weight: bold\"> 1963    </span>┃<span style=\"font-weight: bold\"> 1964    </span>┃<span style=\"font-weight: bold\"> 1965    </span>┃<span style=\"font-weight: bold\"> 1966    </span>┃<span style=\"font-weight: bold\"> 1967    </span>┃<span style=\"font-weight: bold\"> 1968    </span>┃<span style=\"font-weight: bold\"> 1969    </span>┃<span style=\"font-weight: bold\"> 1970    </span>┃<span style=\"font-weight: bold\"> 1971    </span>┃<span style=\"font-weight: bold\"> 1972    </span>┃<span style=\"font-weight: bold\"> 1973    </span>┃<span style=\"font-weight: bold\"> 1974    </span>┃<span style=\"font-weight: bold\"> 1975    </span>┃<span style=\"font-weight: bold\"> 1976    </span>┃<span style=\"font-weight: bold\"> 1977    </span>┃<span style=\"font-weight: bold\"> 1978    </span>┃<span style=\"font-weight: bold\"> 1979    </span>┃<span style=\"font-weight: bold\"> 1980    </span>┃<span style=\"font-weight: bold\"> 1981    </span>┃<span style=\"font-weight: bold\"> 1982    </span>┃<span style=\"font-weight: bold\"> 1983    </span>┃<span style=\"font-weight: bold\"> 1984    </span>┃<span style=\"font-weight: bold\"> 1985    </span>┃<span style=\"font-weight: bold\"> 1986    </span>┃<span style=\"font-weight: bold\"> 1987    </span>┃<span style=\"font-weight: bold\"> 1988    </span>┃<span style=\"font-weight: bold\"> 1989    </span>┃<span style=\"font-weight: bold\"> 1990    </span>┃<span style=\"font-weight: bold\"> 1991    </span>┃<span style=\"font-weight: bold\"> 1992    </span>┃<span style=\"font-weight: bold\"> 1993    </span>┃<span style=\"font-weight: bold\"> 1994    </span>┃<span style=\"font-weight: bold\"> 1995    </span>┃<span style=\"font-weight: bold\"> 1996    </span>┃<span style=\"font-weight: bold\"> 1997    </span>┃<span style=\"font-weight: bold\"> 1998    </span>┃<span style=\"font-weight: bold\"> 1999    </span>┃<span style=\"font-weight: bold\"> 2000      </span>┃<span style=\"font-weight: bold\"> 2001      </span>┃<span style=\"font-weight: bold\"> 2002      </span>┃<span style=\"font-weight: bold\"> 2003      </span>┃<span style=\"font-weight: bold\"> 2004      </span>┃<span style=\"font-weight: bold\"> 2005      </span>┃<span style=\"font-weight: bold\"> 2006      </span>┃<span style=\"font-weight: bold\"> 2007      </span>┃<span style=\"font-weight: bold\"> 2008      </span>┃<span style=\"font-weight: bold\"> 2009      </span>┃<span style=\"font-weight: bold\"> 2010      </span>┃<span style=\"font-weight: bold\"> 2011      </span>┃<span style=\"font-weight: bold\"> 2012      </span>┃<span style=\"font-weight: bold\"> 2013      </span>┃<span style=\"font-weight: bold\"> 2014      </span>┃<span style=\"font-weight: bold\"> 2015      </span>┃<span style=\"font-weight: bold\"> 2016      </span>┃<span style=\"font-weight: bold\"> 2017      </span>┃<span style=\"font-weight: bold\"> 2018      </span>┃<span style=\"font-weight: bold\"> 2019      </span>┃<span style=\"font-weight: bold\"> 2020      </span>┃<span style=\"font-weight: bold\"> 2021      </span>┃<span style=\"font-weight: bold\"> 2022      </span>┃<span style=\"font-weight: bold\"> 2023    </span>┃\n",
       "┡━━━━━━━━━━━━━━━━━━━━━━━━━━━━━╇━━━━━━━━━━━━━━╇━━━━━━━━━━━━━━━━━━━━━━━━━━━━━━━━━━━━━━━━━━━━━━━━━━━━━━━━━━━━━━━━━━━━━━━━━━━━━━━━━━╇━━━━━━━━━━━━━━━━━━━╇━━━━━━━━━╇━━━━━━━━━╇━━━━━━━━━╇━━━━━━━━━╇━━━━━━━━━╇━━━━━━━━━╇━━━━━━━━━╇━━━━━━━━━╇━━━━━━━━━╇━━━━━━━━━╇━━━━━━━━━╇━━━━━━━━━╇━━━━━━━━━╇━━━━━━━━━╇━━━━━━━━━╇━━━━━━━━━╇━━━━━━━━━╇━━━━━━━━━╇━━━━━━━━━╇━━━━━━━━━╇━━━━━━━━━╇━━━━━━━━━╇━━━━━━━━━╇━━━━━━━━━╇━━━━━━━━━╇━━━━━━━━━╇━━━━━━━━━╇━━━━━━━━━╇━━━━━━━━━╇━━━━━━━━━╇━━━━━━━━━╇━━━━━━━━━╇━━━━━━━━━╇━━━━━━━━━╇━━━━━━━━━╇━━━━━━━━━╇━━━━━━━━━╇━━━━━━━━━╇━━━━━━━━━╇━━━━━━━━━╇━━━━━━━━━━━╇━━━━━━━━━━━╇━━━━━━━━━━━╇━━━━━━━━━━━╇━━━━━━━━━━━╇━━━━━━━━━━━╇━━━━━━━━━━━╇━━━━━━━━━━━╇━━━━━━━━━━━╇━━━━━━━━━━━╇━━━━━━━━━━━╇━━━━━━━━━━━╇━━━━━━━━━━━╇━━━━━━━━━━━╇━━━━━━━━━━━╇━━━━━━━━━━━╇━━━━━━━━━━━╇━━━━━━━━━━━╇━━━━━━━━━━━╇━━━━━━━━━━━╇━━━━━━━━━━━╇━━━━━━━━━━━╇━━━━━━━━━━━╇━━━━━━━━━┩\n",
       "│ <span style=\"color: #7f7f7f; text-decoration-color: #7f7f7f\">string</span>                      │ <span style=\"color: #7f7f7f; text-decoration-color: #7f7f7f\">string</span>       │ <span style=\"color: #7f7f7f; text-decoration-color: #7f7f7f\">string</span>                                                                           │ <span style=\"color: #7f7f7f; text-decoration-color: #7f7f7f\">string</span>            │ <span style=\"color: #7f7f7f; text-decoration-color: #7f7f7f\">float64</span> │ <span style=\"color: #7f7f7f; text-decoration-color: #7f7f7f\">float64</span> │ <span style=\"color: #7f7f7f; text-decoration-color: #7f7f7f\">float64</span> │ <span style=\"color: #7f7f7f; text-decoration-color: #7f7f7f\">float64</span> │ <span style=\"color: #7f7f7f; text-decoration-color: #7f7f7f\">float64</span> │ <span style=\"color: #7f7f7f; text-decoration-color: #7f7f7f\">float64</span> │ <span style=\"color: #7f7f7f; text-decoration-color: #7f7f7f\">float64</span> │ <span style=\"color: #7f7f7f; text-decoration-color: #7f7f7f\">float64</span> │ <span style=\"color: #7f7f7f; text-decoration-color: #7f7f7f\">float64</span> │ <span style=\"color: #7f7f7f; text-decoration-color: #7f7f7f\">float64</span> │ <span style=\"color: #7f7f7f; text-decoration-color: #7f7f7f\">float64</span> │ <span style=\"color: #7f7f7f; text-decoration-color: #7f7f7f\">float64</span> │ <span style=\"color: #7f7f7f; text-decoration-color: #7f7f7f\">float64</span> │ <span style=\"color: #7f7f7f; text-decoration-color: #7f7f7f\">float64</span> │ <span style=\"color: #7f7f7f; text-decoration-color: #7f7f7f\">float64</span> │ <span style=\"color: #7f7f7f; text-decoration-color: #7f7f7f\">float64</span> │ <span style=\"color: #7f7f7f; text-decoration-color: #7f7f7f\">float64</span> │ <span style=\"color: #7f7f7f; text-decoration-color: #7f7f7f\">float64</span> │ <span style=\"color: #7f7f7f; text-decoration-color: #7f7f7f\">float64</span> │ <span style=\"color: #7f7f7f; text-decoration-color: #7f7f7f\">float64</span> │ <span style=\"color: #7f7f7f; text-decoration-color: #7f7f7f\">float64</span> │ <span style=\"color: #7f7f7f; text-decoration-color: #7f7f7f\">float64</span> │ <span style=\"color: #7f7f7f; text-decoration-color: #7f7f7f\">float64</span> │ <span style=\"color: #7f7f7f; text-decoration-color: #7f7f7f\">float64</span> │ <span style=\"color: #7f7f7f; text-decoration-color: #7f7f7f\">float64</span> │ <span style=\"color: #7f7f7f; text-decoration-color: #7f7f7f\">float64</span> │ <span style=\"color: #7f7f7f; text-decoration-color: #7f7f7f\">float64</span> │ <span style=\"color: #7f7f7f; text-decoration-color: #7f7f7f\">float64</span> │ <span style=\"color: #7f7f7f; text-decoration-color: #7f7f7f\">float64</span> │ <span style=\"color: #7f7f7f; text-decoration-color: #7f7f7f\">float64</span> │ <span style=\"color: #7f7f7f; text-decoration-color: #7f7f7f\">float64</span> │ <span style=\"color: #7f7f7f; text-decoration-color: #7f7f7f\">float64</span> │ <span style=\"color: #7f7f7f; text-decoration-color: #7f7f7f\">float64</span> │ <span style=\"color: #7f7f7f; text-decoration-color: #7f7f7f\">float64</span> │ <span style=\"color: #7f7f7f; text-decoration-color: #7f7f7f\">float64</span> │ <span style=\"color: #7f7f7f; text-decoration-color: #7f7f7f\">float64</span> │ <span style=\"color: #7f7f7f; text-decoration-color: #7f7f7f\">float64</span> │ <span style=\"color: #7f7f7f; text-decoration-color: #7f7f7f\">float64</span> │ <span style=\"color: #7f7f7f; text-decoration-color: #7f7f7f\">float64</span> │ <span style=\"color: #7f7f7f; text-decoration-color: #7f7f7f\">float64</span> │ <span style=\"color: #7f7f7f; text-decoration-color: #7f7f7f\">float64</span>   │ <span style=\"color: #7f7f7f; text-decoration-color: #7f7f7f\">float64</span>   │ <span style=\"color: #7f7f7f; text-decoration-color: #7f7f7f\">float64</span>   │ <span style=\"color: #7f7f7f; text-decoration-color: #7f7f7f\">float64</span>   │ <span style=\"color: #7f7f7f; text-decoration-color: #7f7f7f\">float64</span>   │ <span style=\"color: #7f7f7f; text-decoration-color: #7f7f7f\">float64</span>   │ <span style=\"color: #7f7f7f; text-decoration-color: #7f7f7f\">float64</span>   │ <span style=\"color: #7f7f7f; text-decoration-color: #7f7f7f\">float64</span>   │ <span style=\"color: #7f7f7f; text-decoration-color: #7f7f7f\">float64</span>   │ <span style=\"color: #7f7f7f; text-decoration-color: #7f7f7f\">float64</span>   │ <span style=\"color: #7f7f7f; text-decoration-color: #7f7f7f\">float64</span>   │ <span style=\"color: #7f7f7f; text-decoration-color: #7f7f7f\">float64</span>   │ <span style=\"color: #7f7f7f; text-decoration-color: #7f7f7f\">float64</span>   │ <span style=\"color: #7f7f7f; text-decoration-color: #7f7f7f\">float64</span>   │ <span style=\"color: #7f7f7f; text-decoration-color: #7f7f7f\">float64</span>   │ <span style=\"color: #7f7f7f; text-decoration-color: #7f7f7f\">float64</span>   │ <span style=\"color: #7f7f7f; text-decoration-color: #7f7f7f\">float64</span>   │ <span style=\"color: #7f7f7f; text-decoration-color: #7f7f7f\">float64</span>   │ <span style=\"color: #7f7f7f; text-decoration-color: #7f7f7f\">float64</span>   │ <span style=\"color: #7f7f7f; text-decoration-color: #7f7f7f\">float64</span>   │ <span style=\"color: #7f7f7f; text-decoration-color: #7f7f7f\">float64</span>   │ <span style=\"color: #7f7f7f; text-decoration-color: #7f7f7f\">float64</span>   │ <span style=\"color: #7f7f7f; text-decoration-color: #7f7f7f\">float64</span>   │ <span style=\"color: #7f7f7f; text-decoration-color: #7f7f7f\">float64</span> │\n",
       "├─────────────────────────────┼──────────────┼──────────────────────────────────────────────────────────────────────────────────┼───────────────────┼─────────┼─────────┼─────────┼─────────┼─────────┼─────────┼─────────┼─────────┼─────────┼─────────┼─────────┼─────────┼─────────┼─────────┼─────────┼─────────┼─────────┼─────────┼─────────┼─────────┼─────────┼─────────┼─────────┼─────────┼─────────┼─────────┼─────────┼─────────┼─────────┼─────────┼─────────┼─────────┼─────────┼─────────┼─────────┼─────────┼─────────┼─────────┼─────────┼─────────┼───────────┼───────────┼───────────┼───────────┼───────────┼───────────┼───────────┼───────────┼───────────┼───────────┼───────────┼───────────┼───────────┼───────────┼───────────┼───────────┼───────────┼───────────┼───────────┼───────────┼───────────┼───────────┼───────────┼─────────┤\n",
       "│ <span style=\"color: #008000; text-decoration-color: #008000\">Africa Eastern and Southern</span> │ <span style=\"color: #008000; text-decoration-color: #008000\">AFE         </span> │ <span style=\"color: #008000; text-decoration-color: #008000\">Access to clean fuels and technologies for cooking (% of population)            </span> │ <span style=\"color: #008000; text-decoration-color: #008000\">EG.CFT.ACCS.ZS   </span> │    <span style=\"color: #7f7f7f; text-decoration-color: #7f7f7f\">NULL</span> │    <span style=\"color: #7f7f7f; text-decoration-color: #7f7f7f\">NULL</span> │    <span style=\"color: #7f7f7f; text-decoration-color: #7f7f7f\">NULL</span> │    <span style=\"color: #7f7f7f; text-decoration-color: #7f7f7f\">NULL</span> │    <span style=\"color: #7f7f7f; text-decoration-color: #7f7f7f\">NULL</span> │    <span style=\"color: #7f7f7f; text-decoration-color: #7f7f7f\">NULL</span> │    <span style=\"color: #7f7f7f; text-decoration-color: #7f7f7f\">NULL</span> │    <span style=\"color: #7f7f7f; text-decoration-color: #7f7f7f\">NULL</span> │    <span style=\"color: #7f7f7f; text-decoration-color: #7f7f7f\">NULL</span> │    <span style=\"color: #7f7f7f; text-decoration-color: #7f7f7f\">NULL</span> │    <span style=\"color: #7f7f7f; text-decoration-color: #7f7f7f\">NULL</span> │    <span style=\"color: #7f7f7f; text-decoration-color: #7f7f7f\">NULL</span> │    <span style=\"color: #7f7f7f; text-decoration-color: #7f7f7f\">NULL</span> │    <span style=\"color: #7f7f7f; text-decoration-color: #7f7f7f\">NULL</span> │    <span style=\"color: #7f7f7f; text-decoration-color: #7f7f7f\">NULL</span> │    <span style=\"color: #7f7f7f; text-decoration-color: #7f7f7f\">NULL</span> │    <span style=\"color: #7f7f7f; text-decoration-color: #7f7f7f\">NULL</span> │    <span style=\"color: #7f7f7f; text-decoration-color: #7f7f7f\">NULL</span> │    <span style=\"color: #7f7f7f; text-decoration-color: #7f7f7f\">NULL</span> │    <span style=\"color: #7f7f7f; text-decoration-color: #7f7f7f\">NULL</span> │    <span style=\"color: #7f7f7f; text-decoration-color: #7f7f7f\">NULL</span> │    <span style=\"color: #7f7f7f; text-decoration-color: #7f7f7f\">NULL</span> │    <span style=\"color: #7f7f7f; text-decoration-color: #7f7f7f\">NULL</span> │    <span style=\"color: #7f7f7f; text-decoration-color: #7f7f7f\">NULL</span> │    <span style=\"color: #7f7f7f; text-decoration-color: #7f7f7f\">NULL</span> │    <span style=\"color: #7f7f7f; text-decoration-color: #7f7f7f\">NULL</span> │    <span style=\"color: #7f7f7f; text-decoration-color: #7f7f7f\">NULL</span> │    <span style=\"color: #7f7f7f; text-decoration-color: #7f7f7f\">NULL</span> │    <span style=\"color: #7f7f7f; text-decoration-color: #7f7f7f\">NULL</span> │    <span style=\"color: #7f7f7f; text-decoration-color: #7f7f7f\">NULL</span> │    <span style=\"color: #7f7f7f; text-decoration-color: #7f7f7f\">NULL</span> │    <span style=\"color: #7f7f7f; text-decoration-color: #7f7f7f\">NULL</span> │    <span style=\"color: #7f7f7f; text-decoration-color: #7f7f7f\">NULL</span> │    <span style=\"color: #7f7f7f; text-decoration-color: #7f7f7f\">NULL</span> │    <span style=\"color: #7f7f7f; text-decoration-color: #7f7f7f\">NULL</span> │    <span style=\"color: #7f7f7f; text-decoration-color: #7f7f7f\">NULL</span> │    <span style=\"color: #7f7f7f; text-decoration-color: #7f7f7f\">NULL</span> │    <span style=\"color: #7f7f7f; text-decoration-color: #7f7f7f\">NULL</span> │    <span style=\"color: #7f7f7f; text-decoration-color: #7f7f7f\">NULL</span> │    <span style=\"color: #7f7f7f; text-decoration-color: #7f7f7f\">NULL</span> │ <span style=\"color: #008080; text-decoration-color: #008080; font-weight: bold\">11.525904</span> │ <span style=\"color: #008080; text-decoration-color: #008080; font-weight: bold\">11.850593</span> │ <span style=\"color: #008080; text-decoration-color: #008080; font-weight: bold\">12.175592</span> │ <span style=\"color: #008080; text-decoration-color: #008080; font-weight: bold\">12.551723</span> │ <span style=\"color: #008080; text-decoration-color: #008080; font-weight: bold\">12.924851</span> │ <span style=\"color: #008080; text-decoration-color: #008080; font-weight: bold\">13.347701</span> │ <span style=\"color: #008080; text-decoration-color: #008080; font-weight: bold\">13.804893</span> │ <span style=\"color: #008080; text-decoration-color: #008080; font-weight: bold\">14.226285</span> │ <span style=\"color: #008080; text-decoration-color: #008080; font-weight: bold\">14.644801</span> │ <span style=\"color: #008080; text-decoration-color: #008080; font-weight: bold\">15.136871</span> │ <span style=\"color: #008080; text-decoration-color: #008080; font-weight: bold\">15.592328</span> │ <span style=\"color: #008080; text-decoration-color: #008080; font-weight: bold\">16.005356</span> │ <span style=\"color: #008080; text-decoration-color: #008080; font-weight: bold\">16.466945</span> │ <span style=\"color: #008080; text-decoration-color: #008080; font-weight: bold\">16.877313</span> │ <span style=\"color: #008080; text-decoration-color: #008080; font-weight: bold\">17.401410</span> │ <span style=\"color: #008080; text-decoration-color: #008080; font-weight: bold\">17.911234</span> │ <span style=\"color: #008080; text-decoration-color: #008080; font-weight: bold\">18.463874</span> │ <span style=\"color: #008080; text-decoration-color: #008080; font-weight: bold\">18.924037</span> │ <span style=\"color: #008080; text-decoration-color: #008080; font-weight: bold\">19.437054</span> │ <span style=\"color: #008080; text-decoration-color: #008080; font-weight: bold\">20.026254</span> │ <span style=\"color: #008080; text-decoration-color: #008080; font-weight: bold\">20.647969</span> │ <span style=\"color: #008080; text-decoration-color: #008080; font-weight: bold\">21.165877</span> │ <span style=\"color: #008080; text-decoration-color: #008080; font-weight: bold\">21.863139</span> │    <span style=\"color: #7f7f7f; text-decoration-color: #7f7f7f\">NULL</span> │\n",
       "│ <span style=\"color: #008000; text-decoration-color: #008000\">Africa Eastern and Southern</span> │ <span style=\"color: #008000; text-decoration-color: #008000\">AFE         </span> │ <span style=\"color: #008000; text-decoration-color: #008000\">Access to clean fuels and technologies for cooking, rural (% of rural populatio…</span> │ <span style=\"color: #008000; text-decoration-color: #008000\">EG.CFT.ACCS.RU.ZS</span> │    <span style=\"color: #7f7f7f; text-decoration-color: #7f7f7f\">NULL</span> │    <span style=\"color: #7f7f7f; text-decoration-color: #7f7f7f\">NULL</span> │    <span style=\"color: #7f7f7f; text-decoration-color: #7f7f7f\">NULL</span> │    <span style=\"color: #7f7f7f; text-decoration-color: #7f7f7f\">NULL</span> │    <span style=\"color: #7f7f7f; text-decoration-color: #7f7f7f\">NULL</span> │    <span style=\"color: #7f7f7f; text-decoration-color: #7f7f7f\">NULL</span> │    <span style=\"color: #7f7f7f; text-decoration-color: #7f7f7f\">NULL</span> │    <span style=\"color: #7f7f7f; text-decoration-color: #7f7f7f\">NULL</span> │    <span style=\"color: #7f7f7f; text-decoration-color: #7f7f7f\">NULL</span> │    <span style=\"color: #7f7f7f; text-decoration-color: #7f7f7f\">NULL</span> │    <span style=\"color: #7f7f7f; text-decoration-color: #7f7f7f\">NULL</span> │    <span style=\"color: #7f7f7f; text-decoration-color: #7f7f7f\">NULL</span> │    <span style=\"color: #7f7f7f; text-decoration-color: #7f7f7f\">NULL</span> │    <span style=\"color: #7f7f7f; text-decoration-color: #7f7f7f\">NULL</span> │    <span style=\"color: #7f7f7f; text-decoration-color: #7f7f7f\">NULL</span> │    <span style=\"color: #7f7f7f; text-decoration-color: #7f7f7f\">NULL</span> │    <span style=\"color: #7f7f7f; text-decoration-color: #7f7f7f\">NULL</span> │    <span style=\"color: #7f7f7f; text-decoration-color: #7f7f7f\">NULL</span> │    <span style=\"color: #7f7f7f; text-decoration-color: #7f7f7f\">NULL</span> │    <span style=\"color: #7f7f7f; text-decoration-color: #7f7f7f\">NULL</span> │    <span style=\"color: #7f7f7f; text-decoration-color: #7f7f7f\">NULL</span> │    <span style=\"color: #7f7f7f; text-decoration-color: #7f7f7f\">NULL</span> │    <span style=\"color: #7f7f7f; text-decoration-color: #7f7f7f\">NULL</span> │    <span style=\"color: #7f7f7f; text-decoration-color: #7f7f7f\">NULL</span> │    <span style=\"color: #7f7f7f; text-decoration-color: #7f7f7f\">NULL</span> │    <span style=\"color: #7f7f7f; text-decoration-color: #7f7f7f\">NULL</span> │    <span style=\"color: #7f7f7f; text-decoration-color: #7f7f7f\">NULL</span> │    <span style=\"color: #7f7f7f; text-decoration-color: #7f7f7f\">NULL</span> │    <span style=\"color: #7f7f7f; text-decoration-color: #7f7f7f\">NULL</span> │    <span style=\"color: #7f7f7f; text-decoration-color: #7f7f7f\">NULL</span> │    <span style=\"color: #7f7f7f; text-decoration-color: #7f7f7f\">NULL</span> │    <span style=\"color: #7f7f7f; text-decoration-color: #7f7f7f\">NULL</span> │    <span style=\"color: #7f7f7f; text-decoration-color: #7f7f7f\">NULL</span> │    <span style=\"color: #7f7f7f; text-decoration-color: #7f7f7f\">NULL</span> │    <span style=\"color: #7f7f7f; text-decoration-color: #7f7f7f\">NULL</span> │    <span style=\"color: #7f7f7f; text-decoration-color: #7f7f7f\">NULL</span> │    <span style=\"color: #7f7f7f; text-decoration-color: #7f7f7f\">NULL</span> │    <span style=\"color: #7f7f7f; text-decoration-color: #7f7f7f\">NULL</span> │    <span style=\"color: #7f7f7f; text-decoration-color: #7f7f7f\">NULL</span> │    <span style=\"color: #7f7f7f; text-decoration-color: #7f7f7f\">NULL</span> │  <span style=\"color: #008080; text-decoration-color: #008080; font-weight: bold\">3.469977</span> │  <span style=\"color: #008080; text-decoration-color: #008080; font-weight: bold\">3.642010</span> │  <span style=\"color: #008080; text-decoration-color: #008080; font-weight: bold\">3.849942</span> │  <span style=\"color: #008080; text-decoration-color: #008080; font-weight: bold\">4.054108</span> │  <span style=\"color: #008080; text-decoration-color: #008080; font-weight: bold\">4.285291</span> │  <span style=\"color: #008080; text-decoration-color: #008080; font-weight: bold\">4.490187</span> │  <span style=\"color: #008080; text-decoration-color: #008080; font-weight: bold\">4.734117</span> │  <span style=\"color: #008080; text-decoration-color: #008080; font-weight: bold\">4.996842</span> │  <span style=\"color: #008080; text-decoration-color: #008080; font-weight: bold\">5.239006</span> │  <span style=\"color: #008080; text-decoration-color: #008080; font-weight: bold\">5.457240</span> │  <span style=\"color: #008080; text-decoration-color: #008080; font-weight: bold\">5.686400</span> │  <span style=\"color: #008080; text-decoration-color: #008080; font-weight: bold\">5.959239</span> │  <span style=\"color: #008080; text-decoration-color: #008080; font-weight: bold\">6.202221</span> │  <span style=\"color: #008080; text-decoration-color: #008080; font-weight: bold\">6.453240</span> │  <span style=\"color: #008080; text-decoration-color: #008080; font-weight: bold\">6.728819</span> │  <span style=\"color: #008080; text-decoration-color: #008080; font-weight: bold\">7.005877</span> │  <span style=\"color: #008080; text-decoration-color: #008080; font-weight: bold\">7.308571</span> │  <span style=\"color: #008080; text-decoration-color: #008080; font-weight: bold\">7.547226</span> │  <span style=\"color: #008080; text-decoration-color: #008080; font-weight: bold\">7.875917</span> │  <span style=\"color: #008080; text-decoration-color: #008080; font-weight: bold\">8.243018</span> │  <span style=\"color: #008080; text-decoration-color: #008080; font-weight: bold\">8.545483</span> │  <span style=\"color: #008080; text-decoration-color: #008080; font-weight: bold\">8.906711</span> │  <span style=\"color: #008080; text-decoration-color: #008080; font-weight: bold\">9.261320</span> │    <span style=\"color: #7f7f7f; text-decoration-color: #7f7f7f\">NULL</span> │\n",
       "│ <span style=\"color: #008000; text-decoration-color: #008000\">Africa Eastern and Southern</span> │ <span style=\"color: #008000; text-decoration-color: #008000\">AFE         </span> │ <span style=\"color: #008000; text-decoration-color: #008000\">Access to clean fuels and technologies for cooking, urban (% of urban populatio…</span> │ <span style=\"color: #008000; text-decoration-color: #008000\">EG.CFT.ACCS.UR.ZS</span> │    <span style=\"color: #7f7f7f; text-decoration-color: #7f7f7f\">NULL</span> │    <span style=\"color: #7f7f7f; text-decoration-color: #7f7f7f\">NULL</span> │    <span style=\"color: #7f7f7f; text-decoration-color: #7f7f7f\">NULL</span> │    <span style=\"color: #7f7f7f; text-decoration-color: #7f7f7f\">NULL</span> │    <span style=\"color: #7f7f7f; text-decoration-color: #7f7f7f\">NULL</span> │    <span style=\"color: #7f7f7f; text-decoration-color: #7f7f7f\">NULL</span> │    <span style=\"color: #7f7f7f; text-decoration-color: #7f7f7f\">NULL</span> │    <span style=\"color: #7f7f7f; text-decoration-color: #7f7f7f\">NULL</span> │    <span style=\"color: #7f7f7f; text-decoration-color: #7f7f7f\">NULL</span> │    <span style=\"color: #7f7f7f; text-decoration-color: #7f7f7f\">NULL</span> │    <span style=\"color: #7f7f7f; text-decoration-color: #7f7f7f\">NULL</span> │    <span style=\"color: #7f7f7f; text-decoration-color: #7f7f7f\">NULL</span> │    <span style=\"color: #7f7f7f; text-decoration-color: #7f7f7f\">NULL</span> │    <span style=\"color: #7f7f7f; text-decoration-color: #7f7f7f\">NULL</span> │    <span style=\"color: #7f7f7f; text-decoration-color: #7f7f7f\">NULL</span> │    <span style=\"color: #7f7f7f; text-decoration-color: #7f7f7f\">NULL</span> │    <span style=\"color: #7f7f7f; text-decoration-color: #7f7f7f\">NULL</span> │    <span style=\"color: #7f7f7f; text-decoration-color: #7f7f7f\">NULL</span> │    <span style=\"color: #7f7f7f; text-decoration-color: #7f7f7f\">NULL</span> │    <span style=\"color: #7f7f7f; text-decoration-color: #7f7f7f\">NULL</span> │    <span style=\"color: #7f7f7f; text-decoration-color: #7f7f7f\">NULL</span> │    <span style=\"color: #7f7f7f; text-decoration-color: #7f7f7f\">NULL</span> │    <span style=\"color: #7f7f7f; text-decoration-color: #7f7f7f\">NULL</span> │    <span style=\"color: #7f7f7f; text-decoration-color: #7f7f7f\">NULL</span> │    <span style=\"color: #7f7f7f; text-decoration-color: #7f7f7f\">NULL</span> │    <span style=\"color: #7f7f7f; text-decoration-color: #7f7f7f\">NULL</span> │    <span style=\"color: #7f7f7f; text-decoration-color: #7f7f7f\">NULL</span> │    <span style=\"color: #7f7f7f; text-decoration-color: #7f7f7f\">NULL</span> │    <span style=\"color: #7f7f7f; text-decoration-color: #7f7f7f\">NULL</span> │    <span style=\"color: #7f7f7f; text-decoration-color: #7f7f7f\">NULL</span> │    <span style=\"color: #7f7f7f; text-decoration-color: #7f7f7f\">NULL</span> │    <span style=\"color: #7f7f7f; text-decoration-color: #7f7f7f\">NULL</span> │    <span style=\"color: #7f7f7f; text-decoration-color: #7f7f7f\">NULL</span> │    <span style=\"color: #7f7f7f; text-decoration-color: #7f7f7f\">NULL</span> │    <span style=\"color: #7f7f7f; text-decoration-color: #7f7f7f\">NULL</span> │    <span style=\"color: #7f7f7f; text-decoration-color: #7f7f7f\">NULL</span> │    <span style=\"color: #7f7f7f; text-decoration-color: #7f7f7f\">NULL</span> │    <span style=\"color: #7f7f7f; text-decoration-color: #7f7f7f\">NULL</span> │    <span style=\"color: #7f7f7f; text-decoration-color: #7f7f7f\">NULL</span> │    <span style=\"color: #7f7f7f; text-decoration-color: #7f7f7f\">NULL</span> │ <span style=\"color: #008080; text-decoration-color: #008080; font-weight: bold\">32.431714</span> │ <span style=\"color: #008080; text-decoration-color: #008080; font-weight: bold\">32.828683</span> │ <span style=\"color: #008080; text-decoration-color: #008080; font-weight: bold\">33.247739</span> │ <span style=\"color: #008080; text-decoration-color: #008080; font-weight: bold\">33.702059</span> │ <span style=\"color: #008080; text-decoration-color: #008080; font-weight: bold\">34.194895</span> │ <span style=\"color: #008080; text-decoration-color: #008080; font-weight: bold\">34.584696</span> │ <span style=\"color: #008080; text-decoration-color: #008080; font-weight: bold\">35.136730</span> │ <span style=\"color: #008080; text-decoration-color: #008080; font-weight: bold\">35.693131</span> │ <span style=\"color: #008080; text-decoration-color: #008080; font-weight: bold\">36.038789</span> │ <span style=\"color: #008080; text-decoration-color: #008080; font-weight: bold\">36.502796</span> │ <span style=\"color: #008080; text-decoration-color: #008080; font-weight: bold\">36.805328</span> │ <span style=\"color: #008080; text-decoration-color: #008080; font-weight: bold\">37.162243</span> │ <span style=\"color: #008080; text-decoration-color: #008080; font-weight: bold\">37.485980</span> │ <span style=\"color: #008080; text-decoration-color: #008080; font-weight: bold\">37.784029</span> │ <span style=\"color: #008080; text-decoration-color: #008080; font-weight: bold\">38.080931</span> │ <span style=\"color: #008080; text-decoration-color: #008080; font-weight: bold\">38.422282</span> │ <span style=\"color: #008080; text-decoration-color: #008080; font-weight: bold\">38.722108</span> │ <span style=\"color: #008080; text-decoration-color: #008080; font-weight: bold\">38.993157</span> │ <span style=\"color: #008080; text-decoration-color: #008080; font-weight: bold\">39.337872</span> │ <span style=\"color: #008080; text-decoration-color: #008080; font-weight: bold\">39.695279</span> │ <span style=\"color: #008080; text-decoration-color: #008080; font-weight: bold\">40.137847</span> │ <span style=\"color: #008080; text-decoration-color: #008080; font-weight: bold\">40.522209</span> │ <span style=\"color: #008080; text-decoration-color: #008080; font-weight: bold\">41.011132</span> │    <span style=\"color: #7f7f7f; text-decoration-color: #7f7f7f\">NULL</span> │\n",
       "│ <span style=\"color: #008000; text-decoration-color: #008000\">Africa Eastern and Southern</span> │ <span style=\"color: #008000; text-decoration-color: #008000\">AFE         </span> │ <span style=\"color: #008000; text-decoration-color: #008000\">Access to electricity (% of population)                                         </span> │ <span style=\"color: #008000; text-decoration-color: #008000\">EG.ELC.ACCS.ZS   </span> │    <span style=\"color: #7f7f7f; text-decoration-color: #7f7f7f\">NULL</span> │    <span style=\"color: #7f7f7f; text-decoration-color: #7f7f7f\">NULL</span> │    <span style=\"color: #7f7f7f; text-decoration-color: #7f7f7f\">NULL</span> │    <span style=\"color: #7f7f7f; text-decoration-color: #7f7f7f\">NULL</span> │    <span style=\"color: #7f7f7f; text-decoration-color: #7f7f7f\">NULL</span> │    <span style=\"color: #7f7f7f; text-decoration-color: #7f7f7f\">NULL</span> │    <span style=\"color: #7f7f7f; text-decoration-color: #7f7f7f\">NULL</span> │    <span style=\"color: #7f7f7f; text-decoration-color: #7f7f7f\">NULL</span> │    <span style=\"color: #7f7f7f; text-decoration-color: #7f7f7f\">NULL</span> │    <span style=\"color: #7f7f7f; text-decoration-color: #7f7f7f\">NULL</span> │    <span style=\"color: #7f7f7f; text-decoration-color: #7f7f7f\">NULL</span> │    <span style=\"color: #7f7f7f; text-decoration-color: #7f7f7f\">NULL</span> │    <span style=\"color: #7f7f7f; text-decoration-color: #7f7f7f\">NULL</span> │    <span style=\"color: #7f7f7f; text-decoration-color: #7f7f7f\">NULL</span> │    <span style=\"color: #7f7f7f; text-decoration-color: #7f7f7f\">NULL</span> │    <span style=\"color: #7f7f7f; text-decoration-color: #7f7f7f\">NULL</span> │    <span style=\"color: #7f7f7f; text-decoration-color: #7f7f7f\">NULL</span> │    <span style=\"color: #7f7f7f; text-decoration-color: #7f7f7f\">NULL</span> │    <span style=\"color: #7f7f7f; text-decoration-color: #7f7f7f\">NULL</span> │    <span style=\"color: #7f7f7f; text-decoration-color: #7f7f7f\">NULL</span> │    <span style=\"color: #7f7f7f; text-decoration-color: #7f7f7f\">NULL</span> │    <span style=\"color: #7f7f7f; text-decoration-color: #7f7f7f\">NULL</span> │    <span style=\"color: #7f7f7f; text-decoration-color: #7f7f7f\">NULL</span> │    <span style=\"color: #7f7f7f; text-decoration-color: #7f7f7f\">NULL</span> │    <span style=\"color: #7f7f7f; text-decoration-color: #7f7f7f\">NULL</span> │    <span style=\"color: #7f7f7f; text-decoration-color: #7f7f7f\">NULL</span> │    <span style=\"color: #7f7f7f; text-decoration-color: #7f7f7f\">NULL</span> │    <span style=\"color: #7f7f7f; text-decoration-color: #7f7f7f\">NULL</span> │    <span style=\"color: #7f7f7f; text-decoration-color: #7f7f7f\">NULL</span> │    <span style=\"color: #7f7f7f; text-decoration-color: #7f7f7f\">NULL</span> │    <span style=\"color: #7f7f7f; text-decoration-color: #7f7f7f\">NULL</span> │    <span style=\"color: #7f7f7f; text-decoration-color: #7f7f7f\">NULL</span> │    <span style=\"color: #7f7f7f; text-decoration-color: #7f7f7f\">NULL</span> │    <span style=\"color: #7f7f7f; text-decoration-color: #7f7f7f\">NULL</span> │    <span style=\"color: #7f7f7f; text-decoration-color: #7f7f7f\">NULL</span> │    <span style=\"color: #7f7f7f; text-decoration-color: #7f7f7f\">NULL</span> │    <span style=\"color: #7f7f7f; text-decoration-color: #7f7f7f\">NULL</span> │    <span style=\"color: #7f7f7f; text-decoration-color: #7f7f7f\">NULL</span> │    <span style=\"color: #7f7f7f; text-decoration-color: #7f7f7f\">NULL</span> │    <span style=\"color: #7f7f7f; text-decoration-color: #7f7f7f\">NULL</span> │ <span style=\"color: #008080; text-decoration-color: #008080; font-weight: bold\">19.963882</span> │ <span style=\"color: #008080; text-decoration-color: #008080; font-weight: bold\">19.969148</span> │ <span style=\"color: #008080; text-decoration-color: #008080; font-weight: bold\">21.580282</span> │ <span style=\"color: #008080; text-decoration-color: #008080; font-weight: bold\">22.516962</span> │ <span style=\"color: #008080; text-decoration-color: #008080; font-weight: bold\">23.753953</span> │ <span style=\"color: #008080; text-decoration-color: #008080; font-weight: bold\">23.487376</span> │ <span style=\"color: #008080; text-decoration-color: #008080; font-weight: bold\">25.198527</span> │ <span style=\"color: #008080; text-decoration-color: #008080; font-weight: bold\">26.807288</span> │ <span style=\"color: #008080; text-decoration-color: #008080; font-weight: bold\">25.947513</span> │ <span style=\"color: #008080; text-decoration-color: #008080; font-weight: bold\">26.185912</span> │ <span style=\"color: #008080; text-decoration-color: #008080; font-weight: bold\">27.402014</span> │ <span style=\"color: #008080; text-decoration-color: #008080; font-weight: bold\">28.911594</span> │ <span style=\"color: #008080; text-decoration-color: #008080; font-weight: bold\">31.666038</span> │ <span style=\"color: #008080; text-decoration-color: #008080; font-weight: bold\">31.703057</span> │ <span style=\"color: #008080; text-decoration-color: #008080; font-weight: bold\">31.860474</span> │ <span style=\"color: #008080; text-decoration-color: #008080; font-weight: bold\">33.903800</span> │ <span style=\"color: #008080; text-decoration-color: #008080; font-weight: bold\">38.854624</span> │ <span style=\"color: #008080; text-decoration-color: #008080; font-weight: bold\">40.199898</span> │ <span style=\"color: #008080; text-decoration-color: #008080; font-weight: bold\">43.017148</span> │ <span style=\"color: #008080; text-decoration-color: #008080; font-weight: bold\">44.381259</span> │ <span style=\"color: #008080; text-decoration-color: #008080; font-weight: bold\">46.264875</span> │ <span style=\"color: #008080; text-decoration-color: #008080; font-weight: bold\">48.100862</span> │ <span style=\"color: #008080; text-decoration-color: #008080; font-weight: bold\">48.711995</span> │    <span style=\"color: #7f7f7f; text-decoration-color: #7f7f7f\">NULL</span> │\n",
       "│ <span style=\"color: #008000; text-decoration-color: #008000\">Africa Eastern and Southern</span> │ <span style=\"color: #008000; text-decoration-color: #008000\">AFE         </span> │ <span style=\"color: #008000; text-decoration-color: #008000\">Access to electricity, rural (% of rural population)                            </span> │ <span style=\"color: #008000; text-decoration-color: #008000\">EG.ELC.ACCS.RU.ZS</span> │    <span style=\"color: #7f7f7f; text-decoration-color: #7f7f7f\">NULL</span> │    <span style=\"color: #7f7f7f; text-decoration-color: #7f7f7f\">NULL</span> │    <span style=\"color: #7f7f7f; text-decoration-color: #7f7f7f\">NULL</span> │    <span style=\"color: #7f7f7f; text-decoration-color: #7f7f7f\">NULL</span> │    <span style=\"color: #7f7f7f; text-decoration-color: #7f7f7f\">NULL</span> │    <span style=\"color: #7f7f7f; text-decoration-color: #7f7f7f\">NULL</span> │    <span style=\"color: #7f7f7f; text-decoration-color: #7f7f7f\">NULL</span> │    <span style=\"color: #7f7f7f; text-decoration-color: #7f7f7f\">NULL</span> │    <span style=\"color: #7f7f7f; text-decoration-color: #7f7f7f\">NULL</span> │    <span style=\"color: #7f7f7f; text-decoration-color: #7f7f7f\">NULL</span> │    <span style=\"color: #7f7f7f; text-decoration-color: #7f7f7f\">NULL</span> │    <span style=\"color: #7f7f7f; text-decoration-color: #7f7f7f\">NULL</span> │    <span style=\"color: #7f7f7f; text-decoration-color: #7f7f7f\">NULL</span> │    <span style=\"color: #7f7f7f; text-decoration-color: #7f7f7f\">NULL</span> │    <span style=\"color: #7f7f7f; text-decoration-color: #7f7f7f\">NULL</span> │    <span style=\"color: #7f7f7f; text-decoration-color: #7f7f7f\">NULL</span> │    <span style=\"color: #7f7f7f; text-decoration-color: #7f7f7f\">NULL</span> │    <span style=\"color: #7f7f7f; text-decoration-color: #7f7f7f\">NULL</span> │    <span style=\"color: #7f7f7f; text-decoration-color: #7f7f7f\">NULL</span> │    <span style=\"color: #7f7f7f; text-decoration-color: #7f7f7f\">NULL</span> │    <span style=\"color: #7f7f7f; text-decoration-color: #7f7f7f\">NULL</span> │    <span style=\"color: #7f7f7f; text-decoration-color: #7f7f7f\">NULL</span> │    <span style=\"color: #7f7f7f; text-decoration-color: #7f7f7f\">NULL</span> │    <span style=\"color: #7f7f7f; text-decoration-color: #7f7f7f\">NULL</span> │    <span style=\"color: #7f7f7f; text-decoration-color: #7f7f7f\">NULL</span> │    <span style=\"color: #7f7f7f; text-decoration-color: #7f7f7f\">NULL</span> │    <span style=\"color: #7f7f7f; text-decoration-color: #7f7f7f\">NULL</span> │    <span style=\"color: #7f7f7f; text-decoration-color: #7f7f7f\">NULL</span> │    <span style=\"color: #7f7f7f; text-decoration-color: #7f7f7f\">NULL</span> │    <span style=\"color: #7f7f7f; text-decoration-color: #7f7f7f\">NULL</span> │    <span style=\"color: #7f7f7f; text-decoration-color: #7f7f7f\">NULL</span> │    <span style=\"color: #7f7f7f; text-decoration-color: #7f7f7f\">NULL</span> │    <span style=\"color: #7f7f7f; text-decoration-color: #7f7f7f\">NULL</span> │    <span style=\"color: #7f7f7f; text-decoration-color: #7f7f7f\">NULL</span> │    <span style=\"color: #7f7f7f; text-decoration-color: #7f7f7f\">NULL</span> │    <span style=\"color: #7f7f7f; text-decoration-color: #7f7f7f\">NULL</span> │    <span style=\"color: #7f7f7f; text-decoration-color: #7f7f7f\">NULL</span> │    <span style=\"color: #7f7f7f; text-decoration-color: #7f7f7f\">NULL</span> │    <span style=\"color: #7f7f7f; text-decoration-color: #7f7f7f\">NULL</span> │    <span style=\"color: #7f7f7f; text-decoration-color: #7f7f7f\">NULL</span> │  <span style=\"color: #008080; text-decoration-color: #008080; font-weight: bold\">8.619522</span> │      <span style=\"color: #7f7f7f; text-decoration-color: #7f7f7f\">NULL</span> │      <span style=\"color: #7f7f7f; text-decoration-color: #7f7f7f\">NULL</span> │  <span style=\"color: #008080; text-decoration-color: #008080; font-weight: bold\">9.753039</span> │ <span style=\"color: #008080; text-decoration-color: #008080; font-weight: bold\">10.918457</span> │ <span style=\"color: #008080; text-decoration-color: #008080; font-weight: bold\">10.417716</span> │ <span style=\"color: #008080; text-decoration-color: #008080; font-weight: bold\">12.540041</span> │ <span style=\"color: #008080; text-decoration-color: #008080; font-weight: bold\">12.533393</span> │ <span style=\"color: #008080; text-decoration-color: #008080; font-weight: bold\">12.982311</span> │ <span style=\"color: #008080; text-decoration-color: #008080; font-weight: bold\">15.521475</span> │ <span style=\"color: #008080; text-decoration-color: #008080; font-weight: bold\">14.471036</span> │ <span style=\"color: #008080; text-decoration-color: #008080; font-weight: bold\">16.109617</span> │ <span style=\"color: #008080; text-decoration-color: #008080; font-weight: bold\">19.369552</span> │ <span style=\"color: #008080; text-decoration-color: #008080; font-weight: bold\">18.688707</span> │ <span style=\"color: #008080; text-decoration-color: #008080; font-weight: bold\">17.619475</span> │ <span style=\"color: #008080; text-decoration-color: #008080; font-weight: bold\">16.500171</span> │ <span style=\"color: #008080; text-decoration-color: #008080; font-weight: bold\">24.605861</span> │ <span style=\"color: #008080; text-decoration-color: #008080; font-weight: bold\">25.396929</span> │ <span style=\"color: #008080; text-decoration-color: #008080; font-weight: bold\">27.037528</span> │ <span style=\"color: #008080; text-decoration-color: #008080; font-weight: bold\">29.137914</span> │ <span style=\"color: #008080; text-decoration-color: #008080; font-weight: bold\">31.001049</span> │ <span style=\"color: #008080; text-decoration-color: #008080; font-weight: bold\">32.777910</span> │ <span style=\"color: #008080; text-decoration-color: #008080; font-weight: bold\">33.747907</span> │    <span style=\"color: #7f7f7f; text-decoration-color: #7f7f7f\">NULL</span> │\n",
       "└─────────────────────────────┴──────────────┴──────────────────────────────────────────────────────────────────────────────────┴───────────────────┴─────────┴─────────┴─────────┴─────────┴─────────┴─────────┴─────────┴─────────┴─────────┴─────────┴─────────┴─────────┴─────────┴─────────┴─────────┴─────────┴─────────┴─────────┴─────────┴─────────┴─────────┴─────────┴─────────┴─────────┴─────────┴─────────┴─────────┴─────────┴─────────┴─────────┴─────────┴─────────┴─────────┴─────────┴─────────┴─────────┴─────────┴─────────┴─────────┴─────────┴───────────┴───────────┴───────────┴───────────┴───────────┴───────────┴───────────┴───────────┴───────────┴───────────┴───────────┴───────────┴───────────┴───────────┴───────────┴───────────┴───────────┴───────────┴───────────┴───────────┴───────────┴───────────┴───────────┴─────────┘\n",
       "</pre>\n"
      ],
      "text/plain": [
       "┏━━━━━━━━━━━━━━━━━━━━━━━━━━━━━┳━━━━━━━━━━━━━━┳━━━━━━━━━━━━━━━━━━━━━━━━━━━━━━━━━━━━━━━━━━━━━━━━━━━━━━━━━━━━━━━━━━━━━━━━━━━━━━━━━━┳━━━━━━━━━━━━━━━━━━━┳━━━━━━━━━┳━━━━━━━━━┳━━━━━━━━━┳━━━━━━━━━┳━━━━━━━━━┳━━━━━━━━━┳━━━━━━━━━┳━━━━━━━━━┳━━━━━━━━━┳━━━━━━━━━┳━━━━━━━━━┳━━━━━━━━━┳━━━━━━━━━┳━━━━━━━━━┳━━━━━━━━━┳━━━━━━━━━┳━━━━━━━━━┳━━━━━━━━━┳━━━━━━━━━┳━━━━━━━━━┳━━━━━━━━━┳━━━━━━━━━┳━━━━━━━━━┳━━━━━━━━━┳━━━━━━━━━┳━━━━━━━━━┳━━━━━━━━━┳━━━━━━━━━┳━━━━━━━━━┳━━━━━━━━━┳━━━━━━━━━┳━━━━━━━━━┳━━━━━━━━━┳━━━━━━━━━┳━━━━━━━━━┳━━━━━━━━━┳━━━━━━━━━┳━━━━━━━━━┳━━━━━━━━━┳━━━━━━━━━┳━━━━━━━━━━━┳━━━━━━━━━━━┳━━━━━━━━━━━┳━━━━━━━━━━━┳━━━━━━━━━━━┳━━━━━━━━━━━┳━━━━━━━━━━━┳━━━━━━━━━━━┳━━━━━━━━━━━┳━━━━━━━━━━━┳━━━━━━━━━━━┳━━━━━━━━━━━┳━━━━━━━━━━━┳━━━━━━━━━━━┳━━━━━━━━━━━┳━━━━━━━━━━━┳━━━━━━━━━━━┳━━━━━━━━━━━┳━━━━━━━━━━━┳━━━━━━━━━━━┳━━━━━━━━━━━┳━━━━━━━━━━━┳━━━━━━━━━━━┳━━━━━━━━━┓\n",
       "┃\u001b[1m \u001b[0m\u001b[1mCountry Name\u001b[0m\u001b[1m               \u001b[0m\u001b[1m \u001b[0m┃\u001b[1m \u001b[0m\u001b[1mCountry Code\u001b[0m\u001b[1m \u001b[0m┃\u001b[1m \u001b[0m\u001b[1mIndicator Name\u001b[0m\u001b[1m                                                                  \u001b[0m\u001b[1m \u001b[0m┃\u001b[1m \u001b[0m\u001b[1mIndicator Code\u001b[0m\u001b[1m   \u001b[0m\u001b[1m \u001b[0m┃\u001b[1m \u001b[0m\u001b[1m1960\u001b[0m\u001b[1m   \u001b[0m\u001b[1m \u001b[0m┃\u001b[1m \u001b[0m\u001b[1m1961\u001b[0m\u001b[1m   \u001b[0m\u001b[1m \u001b[0m┃\u001b[1m \u001b[0m\u001b[1m1962\u001b[0m\u001b[1m   \u001b[0m\u001b[1m \u001b[0m┃\u001b[1m \u001b[0m\u001b[1m1963\u001b[0m\u001b[1m   \u001b[0m\u001b[1m \u001b[0m┃\u001b[1m \u001b[0m\u001b[1m1964\u001b[0m\u001b[1m   \u001b[0m\u001b[1m \u001b[0m┃\u001b[1m \u001b[0m\u001b[1m1965\u001b[0m\u001b[1m   \u001b[0m\u001b[1m \u001b[0m┃\u001b[1m \u001b[0m\u001b[1m1966\u001b[0m\u001b[1m   \u001b[0m\u001b[1m \u001b[0m┃\u001b[1m \u001b[0m\u001b[1m1967\u001b[0m\u001b[1m   \u001b[0m\u001b[1m \u001b[0m┃\u001b[1m \u001b[0m\u001b[1m1968\u001b[0m\u001b[1m   \u001b[0m\u001b[1m \u001b[0m┃\u001b[1m \u001b[0m\u001b[1m1969\u001b[0m\u001b[1m   \u001b[0m\u001b[1m \u001b[0m┃\u001b[1m \u001b[0m\u001b[1m1970\u001b[0m\u001b[1m   \u001b[0m\u001b[1m \u001b[0m┃\u001b[1m \u001b[0m\u001b[1m1971\u001b[0m\u001b[1m   \u001b[0m\u001b[1m \u001b[0m┃\u001b[1m \u001b[0m\u001b[1m1972\u001b[0m\u001b[1m   \u001b[0m\u001b[1m \u001b[0m┃\u001b[1m \u001b[0m\u001b[1m1973\u001b[0m\u001b[1m   \u001b[0m\u001b[1m \u001b[0m┃\u001b[1m \u001b[0m\u001b[1m1974\u001b[0m\u001b[1m   \u001b[0m\u001b[1m \u001b[0m┃\u001b[1m \u001b[0m\u001b[1m1975\u001b[0m\u001b[1m   \u001b[0m\u001b[1m \u001b[0m┃\u001b[1m \u001b[0m\u001b[1m1976\u001b[0m\u001b[1m   \u001b[0m\u001b[1m \u001b[0m┃\u001b[1m \u001b[0m\u001b[1m1977\u001b[0m\u001b[1m   \u001b[0m\u001b[1m \u001b[0m┃\u001b[1m \u001b[0m\u001b[1m1978\u001b[0m\u001b[1m   \u001b[0m\u001b[1m \u001b[0m┃\u001b[1m \u001b[0m\u001b[1m1979\u001b[0m\u001b[1m   \u001b[0m\u001b[1m \u001b[0m┃\u001b[1m \u001b[0m\u001b[1m1980\u001b[0m\u001b[1m   \u001b[0m\u001b[1m \u001b[0m┃\u001b[1m \u001b[0m\u001b[1m1981\u001b[0m\u001b[1m   \u001b[0m\u001b[1m \u001b[0m┃\u001b[1m \u001b[0m\u001b[1m1982\u001b[0m\u001b[1m   \u001b[0m\u001b[1m \u001b[0m┃\u001b[1m \u001b[0m\u001b[1m1983\u001b[0m\u001b[1m   \u001b[0m\u001b[1m \u001b[0m┃\u001b[1m \u001b[0m\u001b[1m1984\u001b[0m\u001b[1m   \u001b[0m\u001b[1m \u001b[0m┃\u001b[1m \u001b[0m\u001b[1m1985\u001b[0m\u001b[1m   \u001b[0m\u001b[1m \u001b[0m┃\u001b[1m \u001b[0m\u001b[1m1986\u001b[0m\u001b[1m   \u001b[0m\u001b[1m \u001b[0m┃\u001b[1m \u001b[0m\u001b[1m1987\u001b[0m\u001b[1m   \u001b[0m\u001b[1m \u001b[0m┃\u001b[1m \u001b[0m\u001b[1m1988\u001b[0m\u001b[1m   \u001b[0m\u001b[1m \u001b[0m┃\u001b[1m \u001b[0m\u001b[1m1989\u001b[0m\u001b[1m   \u001b[0m\u001b[1m \u001b[0m┃\u001b[1m \u001b[0m\u001b[1m1990\u001b[0m\u001b[1m   \u001b[0m\u001b[1m \u001b[0m┃\u001b[1m \u001b[0m\u001b[1m1991\u001b[0m\u001b[1m   \u001b[0m\u001b[1m \u001b[0m┃\u001b[1m \u001b[0m\u001b[1m1992\u001b[0m\u001b[1m   \u001b[0m\u001b[1m \u001b[0m┃\u001b[1m \u001b[0m\u001b[1m1993\u001b[0m\u001b[1m   \u001b[0m\u001b[1m \u001b[0m┃\u001b[1m \u001b[0m\u001b[1m1994\u001b[0m\u001b[1m   \u001b[0m\u001b[1m \u001b[0m┃\u001b[1m \u001b[0m\u001b[1m1995\u001b[0m\u001b[1m   \u001b[0m\u001b[1m \u001b[0m┃\u001b[1m \u001b[0m\u001b[1m1996\u001b[0m\u001b[1m   \u001b[0m\u001b[1m \u001b[0m┃\u001b[1m \u001b[0m\u001b[1m1997\u001b[0m\u001b[1m   \u001b[0m\u001b[1m \u001b[0m┃\u001b[1m \u001b[0m\u001b[1m1998\u001b[0m\u001b[1m   \u001b[0m\u001b[1m \u001b[0m┃\u001b[1m \u001b[0m\u001b[1m1999\u001b[0m\u001b[1m   \u001b[0m\u001b[1m \u001b[0m┃\u001b[1m \u001b[0m\u001b[1m2000\u001b[0m\u001b[1m     \u001b[0m\u001b[1m \u001b[0m┃\u001b[1m \u001b[0m\u001b[1m2001\u001b[0m\u001b[1m     \u001b[0m\u001b[1m \u001b[0m┃\u001b[1m \u001b[0m\u001b[1m2002\u001b[0m\u001b[1m     \u001b[0m\u001b[1m \u001b[0m┃\u001b[1m \u001b[0m\u001b[1m2003\u001b[0m\u001b[1m     \u001b[0m\u001b[1m \u001b[0m┃\u001b[1m \u001b[0m\u001b[1m2004\u001b[0m\u001b[1m     \u001b[0m\u001b[1m \u001b[0m┃\u001b[1m \u001b[0m\u001b[1m2005\u001b[0m\u001b[1m     \u001b[0m\u001b[1m \u001b[0m┃\u001b[1m \u001b[0m\u001b[1m2006\u001b[0m\u001b[1m     \u001b[0m\u001b[1m \u001b[0m┃\u001b[1m \u001b[0m\u001b[1m2007\u001b[0m\u001b[1m     \u001b[0m\u001b[1m \u001b[0m┃\u001b[1m \u001b[0m\u001b[1m2008\u001b[0m\u001b[1m     \u001b[0m\u001b[1m \u001b[0m┃\u001b[1m \u001b[0m\u001b[1m2009\u001b[0m\u001b[1m     \u001b[0m\u001b[1m \u001b[0m┃\u001b[1m \u001b[0m\u001b[1m2010\u001b[0m\u001b[1m     \u001b[0m\u001b[1m \u001b[0m┃\u001b[1m \u001b[0m\u001b[1m2011\u001b[0m\u001b[1m     \u001b[0m\u001b[1m \u001b[0m┃\u001b[1m \u001b[0m\u001b[1m2012\u001b[0m\u001b[1m     \u001b[0m\u001b[1m \u001b[0m┃\u001b[1m \u001b[0m\u001b[1m2013\u001b[0m\u001b[1m     \u001b[0m\u001b[1m \u001b[0m┃\u001b[1m \u001b[0m\u001b[1m2014\u001b[0m\u001b[1m     \u001b[0m\u001b[1m \u001b[0m┃\u001b[1m \u001b[0m\u001b[1m2015\u001b[0m\u001b[1m     \u001b[0m\u001b[1m \u001b[0m┃\u001b[1m \u001b[0m\u001b[1m2016\u001b[0m\u001b[1m     \u001b[0m\u001b[1m \u001b[0m┃\u001b[1m \u001b[0m\u001b[1m2017\u001b[0m\u001b[1m     \u001b[0m\u001b[1m \u001b[0m┃\u001b[1m \u001b[0m\u001b[1m2018\u001b[0m\u001b[1m     \u001b[0m\u001b[1m \u001b[0m┃\u001b[1m \u001b[0m\u001b[1m2019\u001b[0m\u001b[1m     \u001b[0m\u001b[1m \u001b[0m┃\u001b[1m \u001b[0m\u001b[1m2020\u001b[0m\u001b[1m     \u001b[0m\u001b[1m \u001b[0m┃\u001b[1m \u001b[0m\u001b[1m2021\u001b[0m\u001b[1m     \u001b[0m\u001b[1m \u001b[0m┃\u001b[1m \u001b[0m\u001b[1m2022\u001b[0m\u001b[1m     \u001b[0m\u001b[1m \u001b[0m┃\u001b[1m \u001b[0m\u001b[1m2023\u001b[0m\u001b[1m   \u001b[0m\u001b[1m \u001b[0m┃\n",
       "┡━━━━━━━━━━━━━━━━━━━━━━━━━━━━━╇━━━━━━━━━━━━━━╇━━━━━━━━━━━━━━━━━━━━━━━━━━━━━━━━━━━━━━━━━━━━━━━━━━━━━━━━━━━━━━━━━━━━━━━━━━━━━━━━━━╇━━━━━━━━━━━━━━━━━━━╇━━━━━━━━━╇━━━━━━━━━╇━━━━━━━━━╇━━━━━━━━━╇━━━━━━━━━╇━━━━━━━━━╇━━━━━━━━━╇━━━━━━━━━╇━━━━━━━━━╇━━━━━━━━━╇━━━━━━━━━╇━━━━━━━━━╇━━━━━━━━━╇━━━━━━━━━╇━━━━━━━━━╇━━━━━━━━━╇━━━━━━━━━╇━━━━━━━━━╇━━━━━━━━━╇━━━━━━━━━╇━━━━━━━━━╇━━━━━━━━━╇━━━━━━━━━╇━━━━━━━━━╇━━━━━━━━━╇━━━━━━━━━╇━━━━━━━━━╇━━━━━━━━━╇━━━━━━━━━╇━━━━━━━━━╇━━━━━━━━━╇━━━━━━━━━╇━━━━━━━━━╇━━━━━━━━━╇━━━━━━━━━╇━━━━━━━━━╇━━━━━━━━━╇━━━━━━━━━╇━━━━━━━━━╇━━━━━━━━━╇━━━━━━━━━━━╇━━━━━━━━━━━╇━━━━━━━━━━━╇━━━━━━━━━━━╇━━━━━━━━━━━╇━━━━━━━━━━━╇━━━━━━━━━━━╇━━━━━━━━━━━╇━━━━━━━━━━━╇━━━━━━━━━━━╇━━━━━━━━━━━╇━━━━━━━━━━━╇━━━━━━━━━━━╇━━━━━━━━━━━╇━━━━━━━━━━━╇━━━━━━━━━━━╇━━━━━━━━━━━╇━━━━━━━━━━━╇━━━━━━━━━━━╇━━━━━━━━━━━╇━━━━━━━━━━━╇━━━━━━━━━━━╇━━━━━━━━━━━╇━━━━━━━━━┩\n",
       "│ \u001b[2mstring\u001b[0m                      │ \u001b[2mstring\u001b[0m       │ \u001b[2mstring\u001b[0m                                                                           │ \u001b[2mstring\u001b[0m            │ \u001b[2mfloat64\u001b[0m │ \u001b[2mfloat64\u001b[0m │ \u001b[2mfloat64\u001b[0m │ \u001b[2mfloat64\u001b[0m │ \u001b[2mfloat64\u001b[0m │ \u001b[2mfloat64\u001b[0m │ \u001b[2mfloat64\u001b[0m │ \u001b[2mfloat64\u001b[0m │ \u001b[2mfloat64\u001b[0m │ \u001b[2mfloat64\u001b[0m │ \u001b[2mfloat64\u001b[0m │ \u001b[2mfloat64\u001b[0m │ \u001b[2mfloat64\u001b[0m │ \u001b[2mfloat64\u001b[0m │ \u001b[2mfloat64\u001b[0m │ \u001b[2mfloat64\u001b[0m │ \u001b[2mfloat64\u001b[0m │ \u001b[2mfloat64\u001b[0m │ \u001b[2mfloat64\u001b[0m │ \u001b[2mfloat64\u001b[0m │ \u001b[2mfloat64\u001b[0m │ \u001b[2mfloat64\u001b[0m │ \u001b[2mfloat64\u001b[0m │ \u001b[2mfloat64\u001b[0m │ \u001b[2mfloat64\u001b[0m │ \u001b[2mfloat64\u001b[0m │ \u001b[2mfloat64\u001b[0m │ \u001b[2mfloat64\u001b[0m │ \u001b[2mfloat64\u001b[0m │ \u001b[2mfloat64\u001b[0m │ \u001b[2mfloat64\u001b[0m │ \u001b[2mfloat64\u001b[0m │ \u001b[2mfloat64\u001b[0m │ \u001b[2mfloat64\u001b[0m │ \u001b[2mfloat64\u001b[0m │ \u001b[2mfloat64\u001b[0m │ \u001b[2mfloat64\u001b[0m │ \u001b[2mfloat64\u001b[0m │ \u001b[2mfloat64\u001b[0m │ \u001b[2mfloat64\u001b[0m │ \u001b[2mfloat64\u001b[0m   │ \u001b[2mfloat64\u001b[0m   │ \u001b[2mfloat64\u001b[0m   │ \u001b[2mfloat64\u001b[0m   │ \u001b[2mfloat64\u001b[0m   │ \u001b[2mfloat64\u001b[0m   │ \u001b[2mfloat64\u001b[0m   │ \u001b[2mfloat64\u001b[0m   │ \u001b[2mfloat64\u001b[0m   │ \u001b[2mfloat64\u001b[0m   │ \u001b[2mfloat64\u001b[0m   │ \u001b[2mfloat64\u001b[0m   │ \u001b[2mfloat64\u001b[0m   │ \u001b[2mfloat64\u001b[0m   │ \u001b[2mfloat64\u001b[0m   │ \u001b[2mfloat64\u001b[0m   │ \u001b[2mfloat64\u001b[0m   │ \u001b[2mfloat64\u001b[0m   │ \u001b[2mfloat64\u001b[0m   │ \u001b[2mfloat64\u001b[0m   │ \u001b[2mfloat64\u001b[0m   │ \u001b[2mfloat64\u001b[0m   │ \u001b[2mfloat64\u001b[0m   │ \u001b[2mfloat64\u001b[0m │\n",
       "├─────────────────────────────┼──────────────┼──────────────────────────────────────────────────────────────────────────────────┼───────────────────┼─────────┼─────────┼─────────┼─────────┼─────────┼─────────┼─────────┼─────────┼─────────┼─────────┼─────────┼─────────┼─────────┼─────────┼─────────┼─────────┼─────────┼─────────┼─────────┼─────────┼─────────┼─────────┼─────────┼─────────┼─────────┼─────────┼─────────┼─────────┼─────────┼─────────┼─────────┼─────────┼─────────┼─────────┼─────────┼─────────┼─────────┼─────────┼─────────┼─────────┼───────────┼───────────┼───────────┼───────────┼───────────┼───────────┼───────────┼───────────┼───────────┼───────────┼───────────┼───────────┼───────────┼───────────┼───────────┼───────────┼───────────┼───────────┼───────────┼───────────┼───────────┼───────────┼───────────┼─────────┤\n",
       "│ \u001b[32mAfrica Eastern and Southern\u001b[0m │ \u001b[32mAFE         \u001b[0m │ \u001b[32mAccess to clean fuels and technologies for cooking (% of population)            \u001b[0m │ \u001b[32mEG.CFT.ACCS.ZS   \u001b[0m │    \u001b[2mNULL\u001b[0m │    \u001b[2mNULL\u001b[0m │    \u001b[2mNULL\u001b[0m │    \u001b[2mNULL\u001b[0m │    \u001b[2mNULL\u001b[0m │    \u001b[2mNULL\u001b[0m │    \u001b[2mNULL\u001b[0m │    \u001b[2mNULL\u001b[0m │    \u001b[2mNULL\u001b[0m │    \u001b[2mNULL\u001b[0m │    \u001b[2mNULL\u001b[0m │    \u001b[2mNULL\u001b[0m │    \u001b[2mNULL\u001b[0m │    \u001b[2mNULL\u001b[0m │    \u001b[2mNULL\u001b[0m │    \u001b[2mNULL\u001b[0m │    \u001b[2mNULL\u001b[0m │    \u001b[2mNULL\u001b[0m │    \u001b[2mNULL\u001b[0m │    \u001b[2mNULL\u001b[0m │    \u001b[2mNULL\u001b[0m │    \u001b[2mNULL\u001b[0m │    \u001b[2mNULL\u001b[0m │    \u001b[2mNULL\u001b[0m │    \u001b[2mNULL\u001b[0m │    \u001b[2mNULL\u001b[0m │    \u001b[2mNULL\u001b[0m │    \u001b[2mNULL\u001b[0m │    \u001b[2mNULL\u001b[0m │    \u001b[2mNULL\u001b[0m │    \u001b[2mNULL\u001b[0m │    \u001b[2mNULL\u001b[0m │    \u001b[2mNULL\u001b[0m │    \u001b[2mNULL\u001b[0m │    \u001b[2mNULL\u001b[0m │    \u001b[2mNULL\u001b[0m │    \u001b[2mNULL\u001b[0m │    \u001b[2mNULL\u001b[0m │    \u001b[2mNULL\u001b[0m │    \u001b[2mNULL\u001b[0m │ \u001b[1;36m11.525904\u001b[0m │ \u001b[1;36m11.850593\u001b[0m │ \u001b[1;36m12.175592\u001b[0m │ \u001b[1;36m12.551723\u001b[0m │ \u001b[1;36m12.924851\u001b[0m │ \u001b[1;36m13.347701\u001b[0m │ \u001b[1;36m13.804893\u001b[0m │ \u001b[1;36m14.226285\u001b[0m │ \u001b[1;36m14.644801\u001b[0m │ \u001b[1;36m15.136871\u001b[0m │ \u001b[1;36m15.592328\u001b[0m │ \u001b[1;36m16.005356\u001b[0m │ \u001b[1;36m16.466945\u001b[0m │ \u001b[1;36m16.877313\u001b[0m │ \u001b[1;36m17.401410\u001b[0m │ \u001b[1;36m17.911234\u001b[0m │ \u001b[1;36m18.463874\u001b[0m │ \u001b[1;36m18.924037\u001b[0m │ \u001b[1;36m19.437054\u001b[0m │ \u001b[1;36m20.026254\u001b[0m │ \u001b[1;36m20.647969\u001b[0m │ \u001b[1;36m21.165877\u001b[0m │ \u001b[1;36m21.863139\u001b[0m │    \u001b[2mNULL\u001b[0m │\n",
       "│ \u001b[32mAfrica Eastern and Southern\u001b[0m │ \u001b[32mAFE         \u001b[0m │ \u001b[32mAccess to clean fuels and technologies for cooking, rural (% of rural populatio…\u001b[0m │ \u001b[32mEG.CFT.ACCS.RU.ZS\u001b[0m │    \u001b[2mNULL\u001b[0m │    \u001b[2mNULL\u001b[0m │    \u001b[2mNULL\u001b[0m │    \u001b[2mNULL\u001b[0m │    \u001b[2mNULL\u001b[0m │    \u001b[2mNULL\u001b[0m │    \u001b[2mNULL\u001b[0m │    \u001b[2mNULL\u001b[0m │    \u001b[2mNULL\u001b[0m │    \u001b[2mNULL\u001b[0m │    \u001b[2mNULL\u001b[0m │    \u001b[2mNULL\u001b[0m │    \u001b[2mNULL\u001b[0m │    \u001b[2mNULL\u001b[0m │    \u001b[2mNULL\u001b[0m │    \u001b[2mNULL\u001b[0m │    \u001b[2mNULL\u001b[0m │    \u001b[2mNULL\u001b[0m │    \u001b[2mNULL\u001b[0m │    \u001b[2mNULL\u001b[0m │    \u001b[2mNULL\u001b[0m │    \u001b[2mNULL\u001b[0m │    \u001b[2mNULL\u001b[0m │    \u001b[2mNULL\u001b[0m │    \u001b[2mNULL\u001b[0m │    \u001b[2mNULL\u001b[0m │    \u001b[2mNULL\u001b[0m │    \u001b[2mNULL\u001b[0m │    \u001b[2mNULL\u001b[0m │    \u001b[2mNULL\u001b[0m │    \u001b[2mNULL\u001b[0m │    \u001b[2mNULL\u001b[0m │    \u001b[2mNULL\u001b[0m │    \u001b[2mNULL\u001b[0m │    \u001b[2mNULL\u001b[0m │    \u001b[2mNULL\u001b[0m │    \u001b[2mNULL\u001b[0m │    \u001b[2mNULL\u001b[0m │    \u001b[2mNULL\u001b[0m │    \u001b[2mNULL\u001b[0m │  \u001b[1;36m3.469977\u001b[0m │  \u001b[1;36m3.642010\u001b[0m │  \u001b[1;36m3.849942\u001b[0m │  \u001b[1;36m4.054108\u001b[0m │  \u001b[1;36m4.285291\u001b[0m │  \u001b[1;36m4.490187\u001b[0m │  \u001b[1;36m4.734117\u001b[0m │  \u001b[1;36m4.996842\u001b[0m │  \u001b[1;36m5.239006\u001b[0m │  \u001b[1;36m5.457240\u001b[0m │  \u001b[1;36m5.686400\u001b[0m │  \u001b[1;36m5.959239\u001b[0m │  \u001b[1;36m6.202221\u001b[0m │  \u001b[1;36m6.453240\u001b[0m │  \u001b[1;36m6.728819\u001b[0m │  \u001b[1;36m7.005877\u001b[0m │  \u001b[1;36m7.308571\u001b[0m │  \u001b[1;36m7.547226\u001b[0m │  \u001b[1;36m7.875917\u001b[0m │  \u001b[1;36m8.243018\u001b[0m │  \u001b[1;36m8.545483\u001b[0m │  \u001b[1;36m8.906711\u001b[0m │  \u001b[1;36m9.261320\u001b[0m │    \u001b[2mNULL\u001b[0m │\n",
       "│ \u001b[32mAfrica Eastern and Southern\u001b[0m │ \u001b[32mAFE         \u001b[0m │ \u001b[32mAccess to clean fuels and technologies for cooking, urban (% of urban populatio…\u001b[0m │ \u001b[32mEG.CFT.ACCS.UR.ZS\u001b[0m │    \u001b[2mNULL\u001b[0m │    \u001b[2mNULL\u001b[0m │    \u001b[2mNULL\u001b[0m │    \u001b[2mNULL\u001b[0m │    \u001b[2mNULL\u001b[0m │    \u001b[2mNULL\u001b[0m │    \u001b[2mNULL\u001b[0m │    \u001b[2mNULL\u001b[0m │    \u001b[2mNULL\u001b[0m │    \u001b[2mNULL\u001b[0m │    \u001b[2mNULL\u001b[0m │    \u001b[2mNULL\u001b[0m │    \u001b[2mNULL\u001b[0m │    \u001b[2mNULL\u001b[0m │    \u001b[2mNULL\u001b[0m │    \u001b[2mNULL\u001b[0m │    \u001b[2mNULL\u001b[0m │    \u001b[2mNULL\u001b[0m │    \u001b[2mNULL\u001b[0m │    \u001b[2mNULL\u001b[0m │    \u001b[2mNULL\u001b[0m │    \u001b[2mNULL\u001b[0m │    \u001b[2mNULL\u001b[0m │    \u001b[2mNULL\u001b[0m │    \u001b[2mNULL\u001b[0m │    \u001b[2mNULL\u001b[0m │    \u001b[2mNULL\u001b[0m │    \u001b[2mNULL\u001b[0m │    \u001b[2mNULL\u001b[0m │    \u001b[2mNULL\u001b[0m │    \u001b[2mNULL\u001b[0m │    \u001b[2mNULL\u001b[0m │    \u001b[2mNULL\u001b[0m │    \u001b[2mNULL\u001b[0m │    \u001b[2mNULL\u001b[0m │    \u001b[2mNULL\u001b[0m │    \u001b[2mNULL\u001b[0m │    \u001b[2mNULL\u001b[0m │    \u001b[2mNULL\u001b[0m │    \u001b[2mNULL\u001b[0m │ \u001b[1;36m32.431714\u001b[0m │ \u001b[1;36m32.828683\u001b[0m │ \u001b[1;36m33.247739\u001b[0m │ \u001b[1;36m33.702059\u001b[0m │ \u001b[1;36m34.194895\u001b[0m │ \u001b[1;36m34.584696\u001b[0m │ \u001b[1;36m35.136730\u001b[0m │ \u001b[1;36m35.693131\u001b[0m │ \u001b[1;36m36.038789\u001b[0m │ \u001b[1;36m36.502796\u001b[0m │ \u001b[1;36m36.805328\u001b[0m │ \u001b[1;36m37.162243\u001b[0m │ \u001b[1;36m37.485980\u001b[0m │ \u001b[1;36m37.784029\u001b[0m │ \u001b[1;36m38.080931\u001b[0m │ \u001b[1;36m38.422282\u001b[0m │ \u001b[1;36m38.722108\u001b[0m │ \u001b[1;36m38.993157\u001b[0m │ \u001b[1;36m39.337872\u001b[0m │ \u001b[1;36m39.695279\u001b[0m │ \u001b[1;36m40.137847\u001b[0m │ \u001b[1;36m40.522209\u001b[0m │ \u001b[1;36m41.011132\u001b[0m │    \u001b[2mNULL\u001b[0m │\n",
       "│ \u001b[32mAfrica Eastern and Southern\u001b[0m │ \u001b[32mAFE         \u001b[0m │ \u001b[32mAccess to electricity (% of population)                                         \u001b[0m │ \u001b[32mEG.ELC.ACCS.ZS   \u001b[0m │    \u001b[2mNULL\u001b[0m │    \u001b[2mNULL\u001b[0m │    \u001b[2mNULL\u001b[0m │    \u001b[2mNULL\u001b[0m │    \u001b[2mNULL\u001b[0m │    \u001b[2mNULL\u001b[0m │    \u001b[2mNULL\u001b[0m │    \u001b[2mNULL\u001b[0m │    \u001b[2mNULL\u001b[0m │    \u001b[2mNULL\u001b[0m │    \u001b[2mNULL\u001b[0m │    \u001b[2mNULL\u001b[0m │    \u001b[2mNULL\u001b[0m │    \u001b[2mNULL\u001b[0m │    \u001b[2mNULL\u001b[0m │    \u001b[2mNULL\u001b[0m │    \u001b[2mNULL\u001b[0m │    \u001b[2mNULL\u001b[0m │    \u001b[2mNULL\u001b[0m │    \u001b[2mNULL\u001b[0m │    \u001b[2mNULL\u001b[0m │    \u001b[2mNULL\u001b[0m │    \u001b[2mNULL\u001b[0m │    \u001b[2mNULL\u001b[0m │    \u001b[2mNULL\u001b[0m │    \u001b[2mNULL\u001b[0m │    \u001b[2mNULL\u001b[0m │    \u001b[2mNULL\u001b[0m │    \u001b[2mNULL\u001b[0m │    \u001b[2mNULL\u001b[0m │    \u001b[2mNULL\u001b[0m │    \u001b[2mNULL\u001b[0m │    \u001b[2mNULL\u001b[0m │    \u001b[2mNULL\u001b[0m │    \u001b[2mNULL\u001b[0m │    \u001b[2mNULL\u001b[0m │    \u001b[2mNULL\u001b[0m │    \u001b[2mNULL\u001b[0m │    \u001b[2mNULL\u001b[0m │    \u001b[2mNULL\u001b[0m │ \u001b[1;36m19.963882\u001b[0m │ \u001b[1;36m19.969148\u001b[0m │ \u001b[1;36m21.580282\u001b[0m │ \u001b[1;36m22.516962\u001b[0m │ \u001b[1;36m23.753953\u001b[0m │ \u001b[1;36m23.487376\u001b[0m │ \u001b[1;36m25.198527\u001b[0m │ \u001b[1;36m26.807288\u001b[0m │ \u001b[1;36m25.947513\u001b[0m │ \u001b[1;36m26.185912\u001b[0m │ \u001b[1;36m27.402014\u001b[0m │ \u001b[1;36m28.911594\u001b[0m │ \u001b[1;36m31.666038\u001b[0m │ \u001b[1;36m31.703057\u001b[0m │ \u001b[1;36m31.860474\u001b[0m │ \u001b[1;36m33.903800\u001b[0m │ \u001b[1;36m38.854624\u001b[0m │ \u001b[1;36m40.199898\u001b[0m │ \u001b[1;36m43.017148\u001b[0m │ \u001b[1;36m44.381259\u001b[0m │ \u001b[1;36m46.264875\u001b[0m │ \u001b[1;36m48.100862\u001b[0m │ \u001b[1;36m48.711995\u001b[0m │    \u001b[2mNULL\u001b[0m │\n",
       "│ \u001b[32mAfrica Eastern and Southern\u001b[0m │ \u001b[32mAFE         \u001b[0m │ \u001b[32mAccess to electricity, rural (% of rural population)                            \u001b[0m │ \u001b[32mEG.ELC.ACCS.RU.ZS\u001b[0m │    \u001b[2mNULL\u001b[0m │    \u001b[2mNULL\u001b[0m │    \u001b[2mNULL\u001b[0m │    \u001b[2mNULL\u001b[0m │    \u001b[2mNULL\u001b[0m │    \u001b[2mNULL\u001b[0m │    \u001b[2mNULL\u001b[0m │    \u001b[2mNULL\u001b[0m │    \u001b[2mNULL\u001b[0m │    \u001b[2mNULL\u001b[0m │    \u001b[2mNULL\u001b[0m │    \u001b[2mNULL\u001b[0m │    \u001b[2mNULL\u001b[0m │    \u001b[2mNULL\u001b[0m │    \u001b[2mNULL\u001b[0m │    \u001b[2mNULL\u001b[0m │    \u001b[2mNULL\u001b[0m │    \u001b[2mNULL\u001b[0m │    \u001b[2mNULL\u001b[0m │    \u001b[2mNULL\u001b[0m │    \u001b[2mNULL\u001b[0m │    \u001b[2mNULL\u001b[0m │    \u001b[2mNULL\u001b[0m │    \u001b[2mNULL\u001b[0m │    \u001b[2mNULL\u001b[0m │    \u001b[2mNULL\u001b[0m │    \u001b[2mNULL\u001b[0m │    \u001b[2mNULL\u001b[0m │    \u001b[2mNULL\u001b[0m │    \u001b[2mNULL\u001b[0m │    \u001b[2mNULL\u001b[0m │    \u001b[2mNULL\u001b[0m │    \u001b[2mNULL\u001b[0m │    \u001b[2mNULL\u001b[0m │    \u001b[2mNULL\u001b[0m │    \u001b[2mNULL\u001b[0m │    \u001b[2mNULL\u001b[0m │    \u001b[2mNULL\u001b[0m │    \u001b[2mNULL\u001b[0m │    \u001b[2mNULL\u001b[0m │  \u001b[1;36m8.619522\u001b[0m │      \u001b[2mNULL\u001b[0m │      \u001b[2mNULL\u001b[0m │  \u001b[1;36m9.753039\u001b[0m │ \u001b[1;36m10.918457\u001b[0m │ \u001b[1;36m10.417716\u001b[0m │ \u001b[1;36m12.540041\u001b[0m │ \u001b[1;36m12.533393\u001b[0m │ \u001b[1;36m12.982311\u001b[0m │ \u001b[1;36m15.521475\u001b[0m │ \u001b[1;36m14.471036\u001b[0m │ \u001b[1;36m16.109617\u001b[0m │ \u001b[1;36m19.369552\u001b[0m │ \u001b[1;36m18.688707\u001b[0m │ \u001b[1;36m17.619475\u001b[0m │ \u001b[1;36m16.500171\u001b[0m │ \u001b[1;36m24.605861\u001b[0m │ \u001b[1;36m25.396929\u001b[0m │ \u001b[1;36m27.037528\u001b[0m │ \u001b[1;36m29.137914\u001b[0m │ \u001b[1;36m31.001049\u001b[0m │ \u001b[1;36m32.777910\u001b[0m │ \u001b[1;36m33.747907\u001b[0m │    \u001b[2mNULL\u001b[0m │\n",
       "└─────────────────────────────┴──────────────┴──────────────────────────────────────────────────────────────────────────────────┴───────────────────┴─────────┴─────────┴─────────┴─────────┴─────────┴─────────┴─────────┴─────────┴─────────┴─────────┴─────────┴─────────┴─────────┴─────────┴─────────┴─────────┴─────────┴─────────┴─────────┴─────────┴─────────┴─────────┴─────────┴─────────┴─────────┴─────────┴─────────┴─────────┴─────────┴─────────┴─────────┴─────────┴─────────┴─────────┴─────────┴─────────┴─────────┴─────────┴─────────┴─────────┴───────────┴───────────┴───────────┴───────────┴───────────┴───────────┴───────────┴───────────┴───────────┴───────────┴───────────┴───────────┴───────────┴───────────┴───────────┴───────────┴───────────┴───────────┴───────────┴───────────┴───────────┴───────────┴───────────┴─────────┘"
      ]
     },
     "execution_count": 16,
     "metadata": {},
     "output_type": "execute_result"
    }
   ],
   "source": [
    "wdi.head()"
   ]
  },
  {
   "cell_type": "markdown",
   "metadata": {},
   "source": [
    "#### Changing column names for easier manipulation"
   ]
  },
  {
   "cell_type": "code",
   "execution_count": 17,
   "metadata": {},
   "outputs": [],
   "source": [
    "# cool function from ibis, no need for the previous cells, althought the python dict comprehension method is cool as well.\n",
    "wdi = wdi.rename(\"snake_case\")\n",
    "dose = dose.rename(\"snake_case\")"
   ]
  },
  {
   "cell_type": "code",
   "execution_count": 18,
   "metadata": {
    "tags": [
     "rm_cell"
    ]
   },
   "outputs": [
    {
     "data": {
      "text/plain": [
       "['country_name', 'country_code', 'indicator_name', 'indicator_code', '1960']"
      ]
     },
     "execution_count": 18,
     "metadata": {},
     "output_type": "execute_result"
    }
   ],
   "source": [
    "# some columns\n",
    "wdi.columns[0:5]"
   ]
  },
  {
   "cell_type": "code",
   "execution_count": 19,
   "metadata": {
    "tags": [
     "rm_cell"
    ]
   },
   "outputs": [
    {
     "data": {
      "text/plain": [
       "['country', 'region', 'gid_0', 'gid_1', 'year']"
      ]
     },
     "execution_count": 19,
     "metadata": {},
     "output_type": "execute_result"
    }
   ],
   "source": [
    "# some columns\n",
    "dose.columns[0:5]"
   ]
  },
  {
   "cell_type": "code",
   "execution_count": 20,
   "metadata": {
    "tags": [
     "rm_cell"
    ]
   },
   "outputs": [
    {
     "data": {
      "text/html": [
       "<pre style=\"white-space:pre;overflow-x:auto;line-height:normal;font-family:Menlo,'DejaVu Sans Mono',consolas,'Courier New',monospace\">┏━━━━━━━━━━━━━━━┳━━━━━━━━━━━━━━┳━━━━━━━━━━━━━━━━━━━━━━━━━━━━━━━━━━━━━━━━━━━━━━━━━━━━━━━━━━━━━━━━━━━━━━━━━━━━━━━━━━┳━━━━━━━━━━━━━━━━━━━┳━━━━━━━━━┳━━━━━━━━━┳━━━━━━━━━┳━━━━━━━━━┳━━━━━━━━━┳━━━━━━━━━┳━━━━━━━━━┳━━━━━━━━━┳━━━━━━━━━┳━━━━━━━━━┳━━━━━━━━━┳━━━━━━━━━┳━━━━━━━━━┳━━━━━━━━━┳━━━━━━━━━┳━━━━━━━━━┳━━━━━━━━━┳━━━━━━━━━┳━━━━━━━━━┳━━━━━━━━━┳━━━━━━━━━┳━━━━━━━━━┳━━━━━━━━━┳━━━━━━━━━┳━━━━━━━━━┳━━━━━━━━━┳━━━━━━━━━┳━━━━━━━━━┳━━━━━━━━━┳━━━━━━━━━┳━━━━━━━━━┳━━━━━━━━━┳━━━━━━━━━┳━━━━━━━━━┳━━━━━━━━━┳━━━━━━━━━┳━━━━━━━━━┳━━━━━━━━━┳━━━━━━━━━┳━━━━━━━━━┳━━━━━━━━━┳━━━━━━━━━┳━━━━━━━━━┳━━━━━━━━━┳━━━━━━━━━┳━━━━━━━━━┳━━━━━━━━━┳━━━━━━━━━┳━━━━━━━━━┳━━━━━━━━━┳━━━━━━━━━┳━━━━━━━━━┳━━━━━━━━━┳━━━━━━━━━┳━━━━━━━━━┳━━━━━━━━━┳━━━━━━━━━┳━━━━━━━━━┳━━━━━━━━━┳━━━━━━━━━┳━━━━━━━━━┳━━━━━━━━━┳━━━━━━━━━┳━━━━━━━━━┓\n",
       "┃<span style=\"font-weight: bold\"> country_name  </span>┃<span style=\"font-weight: bold\"> country_code </span>┃<span style=\"font-weight: bold\"> indicator_name                                                                   </span>┃<span style=\"font-weight: bold\"> indicator_code    </span>┃<span style=\"font-weight: bold\"> 1960    </span>┃<span style=\"font-weight: bold\"> 1961    </span>┃<span style=\"font-weight: bold\"> 1962    </span>┃<span style=\"font-weight: bold\"> 1963    </span>┃<span style=\"font-weight: bold\"> 1964    </span>┃<span style=\"font-weight: bold\"> 1965    </span>┃<span style=\"font-weight: bold\"> 1966    </span>┃<span style=\"font-weight: bold\"> 1967    </span>┃<span style=\"font-weight: bold\"> 1968    </span>┃<span style=\"font-weight: bold\"> 1969    </span>┃<span style=\"font-weight: bold\"> 1970    </span>┃<span style=\"font-weight: bold\"> 1971    </span>┃<span style=\"font-weight: bold\"> 1972    </span>┃<span style=\"font-weight: bold\"> 1973    </span>┃<span style=\"font-weight: bold\"> 1974    </span>┃<span style=\"font-weight: bold\"> 1975    </span>┃<span style=\"font-weight: bold\"> 1976    </span>┃<span style=\"font-weight: bold\"> 1977    </span>┃<span style=\"font-weight: bold\"> 1978    </span>┃<span style=\"font-weight: bold\"> 1979    </span>┃<span style=\"font-weight: bold\"> 1980    </span>┃<span style=\"font-weight: bold\"> 1981    </span>┃<span style=\"font-weight: bold\"> 1982    </span>┃<span style=\"font-weight: bold\"> 1983    </span>┃<span style=\"font-weight: bold\"> 1984    </span>┃<span style=\"font-weight: bold\"> 1985    </span>┃<span style=\"font-weight: bold\"> 1986    </span>┃<span style=\"font-weight: bold\"> 1987    </span>┃<span style=\"font-weight: bold\"> 1988    </span>┃<span style=\"font-weight: bold\"> 1989    </span>┃<span style=\"font-weight: bold\"> 1990    </span>┃<span style=\"font-weight: bold\"> 1991    </span>┃<span style=\"font-weight: bold\"> 1992    </span>┃<span style=\"font-weight: bold\"> 1993    </span>┃<span style=\"font-weight: bold\"> 1994    </span>┃<span style=\"font-weight: bold\"> 1995    </span>┃<span style=\"font-weight: bold\"> 1996    </span>┃<span style=\"font-weight: bold\"> 1997    </span>┃<span style=\"font-weight: bold\"> 1998    </span>┃<span style=\"font-weight: bold\"> 1999    </span>┃<span style=\"font-weight: bold\"> 2000    </span>┃<span style=\"font-weight: bold\"> 2001    </span>┃<span style=\"font-weight: bold\"> 2002    </span>┃<span style=\"font-weight: bold\"> 2003    </span>┃<span style=\"font-weight: bold\"> 2004    </span>┃<span style=\"font-weight: bold\"> 2005    </span>┃<span style=\"font-weight: bold\"> 2006    </span>┃<span style=\"font-weight: bold\"> 2007    </span>┃<span style=\"font-weight: bold\"> 2008    </span>┃<span style=\"font-weight: bold\"> 2009    </span>┃<span style=\"font-weight: bold\"> 2010    </span>┃<span style=\"font-weight: bold\"> 2011    </span>┃<span style=\"font-weight: bold\"> 2012    </span>┃<span style=\"font-weight: bold\"> 2013    </span>┃<span style=\"font-weight: bold\"> 2014    </span>┃<span style=\"font-weight: bold\"> 2015    </span>┃<span style=\"font-weight: bold\"> 2016    </span>┃<span style=\"font-weight: bold\"> 2017    </span>┃<span style=\"font-weight: bold\"> 2018    </span>┃<span style=\"font-weight: bold\"> 2019    </span>┃<span style=\"font-weight: bold\"> 2020    </span>┃<span style=\"font-weight: bold\"> 2021    </span>┃<span style=\"font-weight: bold\"> 2022    </span>┃<span style=\"font-weight: bold\"> 2023    </span>┃\n",
       "┡━━━━━━━━━━━━━━━╇━━━━━━━━━━━━━━╇━━━━━━━━━━━━━━━━━━━━━━━━━━━━━━━━━━━━━━━━━━━━━━━━━━━━━━━━━━━━━━━━━━━━━━━━━━━━━━━━━━╇━━━━━━━━━━━━━━━━━━━╇━━━━━━━━━╇━━━━━━━━━╇━━━━━━━━━╇━━━━━━━━━╇━━━━━━━━━╇━━━━━━━━━╇━━━━━━━━━╇━━━━━━━━━╇━━━━━━━━━╇━━━━━━━━━╇━━━━━━━━━╇━━━━━━━━━╇━━━━━━━━━╇━━━━━━━━━╇━━━━━━━━━╇━━━━━━━━━╇━━━━━━━━━╇━━━━━━━━━╇━━━━━━━━━╇━━━━━━━━━╇━━━━━━━━━╇━━━━━━━━━╇━━━━━━━━━╇━━━━━━━━━╇━━━━━━━━━╇━━━━━━━━━╇━━━━━━━━━╇━━━━━━━━━╇━━━━━━━━━╇━━━━━━━━━╇━━━━━━━━━╇━━━━━━━━━╇━━━━━━━━━╇━━━━━━━━━╇━━━━━━━━━╇━━━━━━━━━╇━━━━━━━━━╇━━━━━━━━━╇━━━━━━━━━╇━━━━━━━━━╇━━━━━━━━━╇━━━━━━━━━╇━━━━━━━━━╇━━━━━━━━━╇━━━━━━━━━╇━━━━━━━━━╇━━━━━━━━━╇━━━━━━━━━╇━━━━━━━━━╇━━━━━━━━━╇━━━━━━━━━╇━━━━━━━━━╇━━━━━━━━━╇━━━━━━━━━╇━━━━━━━━━╇━━━━━━━━━╇━━━━━━━━━╇━━━━━━━━━╇━━━━━━━━━╇━━━━━━━━━╇━━━━━━━━━╇━━━━━━━━━╇━━━━━━━━━╇━━━━━━━━━┩\n",
       "│ <span style=\"color: #7f7f7f; text-decoration-color: #7f7f7f\">string</span>        │ <span style=\"color: #7f7f7f; text-decoration-color: #7f7f7f\">string</span>       │ <span style=\"color: #7f7f7f; text-decoration-color: #7f7f7f\">string</span>                                                                           │ <span style=\"color: #7f7f7f; text-decoration-color: #7f7f7f\">string</span>            │ <span style=\"color: #7f7f7f; text-decoration-color: #7f7f7f\">float64</span> │ <span style=\"color: #7f7f7f; text-decoration-color: #7f7f7f\">float64</span> │ <span style=\"color: #7f7f7f; text-decoration-color: #7f7f7f\">float64</span> │ <span style=\"color: #7f7f7f; text-decoration-color: #7f7f7f\">float64</span> │ <span style=\"color: #7f7f7f; text-decoration-color: #7f7f7f\">float64</span> │ <span style=\"color: #7f7f7f; text-decoration-color: #7f7f7f\">float64</span> │ <span style=\"color: #7f7f7f; text-decoration-color: #7f7f7f\">float64</span> │ <span style=\"color: #7f7f7f; text-decoration-color: #7f7f7f\">float64</span> │ <span style=\"color: #7f7f7f; text-decoration-color: #7f7f7f\">float64</span> │ <span style=\"color: #7f7f7f; text-decoration-color: #7f7f7f\">float64</span> │ <span style=\"color: #7f7f7f; text-decoration-color: #7f7f7f\">float64</span> │ <span style=\"color: #7f7f7f; text-decoration-color: #7f7f7f\">float64</span> │ <span style=\"color: #7f7f7f; text-decoration-color: #7f7f7f\">float64</span> │ <span style=\"color: #7f7f7f; text-decoration-color: #7f7f7f\">float64</span> │ <span style=\"color: #7f7f7f; text-decoration-color: #7f7f7f\">float64</span> │ <span style=\"color: #7f7f7f; text-decoration-color: #7f7f7f\">float64</span> │ <span style=\"color: #7f7f7f; text-decoration-color: #7f7f7f\">float64</span> │ <span style=\"color: #7f7f7f; text-decoration-color: #7f7f7f\">float64</span> │ <span style=\"color: #7f7f7f; text-decoration-color: #7f7f7f\">float64</span> │ <span style=\"color: #7f7f7f; text-decoration-color: #7f7f7f\">float64</span> │ <span style=\"color: #7f7f7f; text-decoration-color: #7f7f7f\">float64</span> │ <span style=\"color: #7f7f7f; text-decoration-color: #7f7f7f\">float64</span> │ <span style=\"color: #7f7f7f; text-decoration-color: #7f7f7f\">float64</span> │ <span style=\"color: #7f7f7f; text-decoration-color: #7f7f7f\">float64</span> │ <span style=\"color: #7f7f7f; text-decoration-color: #7f7f7f\">float64</span> │ <span style=\"color: #7f7f7f; text-decoration-color: #7f7f7f\">float64</span> │ <span style=\"color: #7f7f7f; text-decoration-color: #7f7f7f\">float64</span> │ <span style=\"color: #7f7f7f; text-decoration-color: #7f7f7f\">float64</span> │ <span style=\"color: #7f7f7f; text-decoration-color: #7f7f7f\">float64</span> │ <span style=\"color: #7f7f7f; text-decoration-color: #7f7f7f\">float64</span> │ <span style=\"color: #7f7f7f; text-decoration-color: #7f7f7f\">float64</span> │ <span style=\"color: #7f7f7f; text-decoration-color: #7f7f7f\">float64</span> │ <span style=\"color: #7f7f7f; text-decoration-color: #7f7f7f\">float64</span> │ <span style=\"color: #7f7f7f; text-decoration-color: #7f7f7f\">float64</span> │ <span style=\"color: #7f7f7f; text-decoration-color: #7f7f7f\">float64</span> │ <span style=\"color: #7f7f7f; text-decoration-color: #7f7f7f\">float64</span> │ <span style=\"color: #7f7f7f; text-decoration-color: #7f7f7f\">float64</span> │ <span style=\"color: #7f7f7f; text-decoration-color: #7f7f7f\">float64</span> │ <span style=\"color: #7f7f7f; text-decoration-color: #7f7f7f\">float64</span> │ <span style=\"color: #7f7f7f; text-decoration-color: #7f7f7f\">float64</span> │ <span style=\"color: #7f7f7f; text-decoration-color: #7f7f7f\">float64</span> │ <span style=\"color: #7f7f7f; text-decoration-color: #7f7f7f\">float64</span> │ <span style=\"color: #7f7f7f; text-decoration-color: #7f7f7f\">float64</span> │ <span style=\"color: #7f7f7f; text-decoration-color: #7f7f7f\">float64</span> │ <span style=\"color: #7f7f7f; text-decoration-color: #7f7f7f\">float64</span> │ <span style=\"color: #7f7f7f; text-decoration-color: #7f7f7f\">float64</span> │ <span style=\"color: #7f7f7f; text-decoration-color: #7f7f7f\">float64</span> │ <span style=\"color: #7f7f7f; text-decoration-color: #7f7f7f\">float64</span> │ <span style=\"color: #7f7f7f; text-decoration-color: #7f7f7f\">float64</span> │ <span style=\"color: #7f7f7f; text-decoration-color: #7f7f7f\">float64</span> │ <span style=\"color: #7f7f7f; text-decoration-color: #7f7f7f\">float64</span> │ <span style=\"color: #7f7f7f; text-decoration-color: #7f7f7f\">float64</span> │ <span style=\"color: #7f7f7f; text-decoration-color: #7f7f7f\">float64</span> │ <span style=\"color: #7f7f7f; text-decoration-color: #7f7f7f\">float64</span> │ <span style=\"color: #7f7f7f; text-decoration-color: #7f7f7f\">float64</span> │ <span style=\"color: #7f7f7f; text-decoration-color: #7f7f7f\">float64</span> │ <span style=\"color: #7f7f7f; text-decoration-color: #7f7f7f\">float64</span> │ <span style=\"color: #7f7f7f; text-decoration-color: #7f7f7f\">float64</span> │ <span style=\"color: #7f7f7f; text-decoration-color: #7f7f7f\">float64</span> │ <span style=\"color: #7f7f7f; text-decoration-color: #7f7f7f\">float64</span> │ <span style=\"color: #7f7f7f; text-decoration-color: #7f7f7f\">float64</span> │ <span style=\"color: #7f7f7f; text-decoration-color: #7f7f7f\">float64</span> │ <span style=\"color: #7f7f7f; text-decoration-color: #7f7f7f\">float64</span> │ <span style=\"color: #7f7f7f; text-decoration-color: #7f7f7f\">float64</span> │\n",
       "├───────────────┼──────────────┼──────────────────────────────────────────────────────────────────────────────────┼───────────────────┼─────────┼─────────┼─────────┼─────────┼─────────┼─────────┼─────────┼─────────┼─────────┼─────────┼─────────┼─────────┼─────────┼─────────┼─────────┼─────────┼─────────┼─────────┼─────────┼─────────┼─────────┼─────────┼─────────┼─────────┼─────────┼─────────┼─────────┼─────────┼─────────┼─────────┼─────────┼─────────┼─────────┼─────────┼─────────┼─────────┼─────────┼─────────┼─────────┼─────────┼─────────┼─────────┼─────────┼─────────┼─────────┼─────────┼─────────┼─────────┼─────────┼─────────┼─────────┼─────────┼─────────┼─────────┼─────────┼─────────┼─────────┼─────────┼─────────┼─────────┼─────────┼─────────┼─────────┼─────────┤\n",
       "│ <span style=\"color: #008000; text-decoration-color: #008000\">Venezuela, RB</span> │ <span style=\"color: #008000; text-decoration-color: #008000\">VEN         </span> │ <span style=\"color: #008000; text-decoration-color: #008000\">Access to clean fuels and technologies for cooking (% of population)            </span> │ <span style=\"color: #008000; text-decoration-color: #008000\">EG.CFT.ACCS.ZS   </span> │    <span style=\"color: #7f7f7f; text-decoration-color: #7f7f7f\">NULL</span> │    <span style=\"color: #7f7f7f; text-decoration-color: #7f7f7f\">NULL</span> │    <span style=\"color: #7f7f7f; text-decoration-color: #7f7f7f\">NULL</span> │    <span style=\"color: #7f7f7f; text-decoration-color: #7f7f7f\">NULL</span> │    <span style=\"color: #7f7f7f; text-decoration-color: #7f7f7f\">NULL</span> │    <span style=\"color: #7f7f7f; text-decoration-color: #7f7f7f\">NULL</span> │    <span style=\"color: #7f7f7f; text-decoration-color: #7f7f7f\">NULL</span> │    <span style=\"color: #7f7f7f; text-decoration-color: #7f7f7f\">NULL</span> │    <span style=\"color: #7f7f7f; text-decoration-color: #7f7f7f\">NULL</span> │    <span style=\"color: #7f7f7f; text-decoration-color: #7f7f7f\">NULL</span> │    <span style=\"color: #7f7f7f; text-decoration-color: #7f7f7f\">NULL</span> │    <span style=\"color: #7f7f7f; text-decoration-color: #7f7f7f\">NULL</span> │    <span style=\"color: #7f7f7f; text-decoration-color: #7f7f7f\">NULL</span> │    <span style=\"color: #7f7f7f; text-decoration-color: #7f7f7f\">NULL</span> │    <span style=\"color: #7f7f7f; text-decoration-color: #7f7f7f\">NULL</span> │    <span style=\"color: #7f7f7f; text-decoration-color: #7f7f7f\">NULL</span> │    <span style=\"color: #7f7f7f; text-decoration-color: #7f7f7f\">NULL</span> │    <span style=\"color: #7f7f7f; text-decoration-color: #7f7f7f\">NULL</span> │    <span style=\"color: #7f7f7f; text-decoration-color: #7f7f7f\">NULL</span> │    <span style=\"color: #7f7f7f; text-decoration-color: #7f7f7f\">NULL</span> │    <span style=\"color: #7f7f7f; text-decoration-color: #7f7f7f\">NULL</span> │    <span style=\"color: #7f7f7f; text-decoration-color: #7f7f7f\">NULL</span> │    <span style=\"color: #7f7f7f; text-decoration-color: #7f7f7f\">NULL</span> │    <span style=\"color: #7f7f7f; text-decoration-color: #7f7f7f\">NULL</span> │    <span style=\"color: #7f7f7f; text-decoration-color: #7f7f7f\">NULL</span> │    <span style=\"color: #7f7f7f; text-decoration-color: #7f7f7f\">NULL</span> │    <span style=\"color: #7f7f7f; text-decoration-color: #7f7f7f\">NULL</span> │    <span style=\"color: #7f7f7f; text-decoration-color: #7f7f7f\">NULL</span> │    <span style=\"color: #7f7f7f; text-decoration-color: #7f7f7f\">NULL</span> │    <span style=\"color: #7f7f7f; text-decoration-color: #7f7f7f\">NULL</span> │    <span style=\"color: #7f7f7f; text-decoration-color: #7f7f7f\">NULL</span> │    <span style=\"color: #7f7f7f; text-decoration-color: #7f7f7f\">NULL</span> │    <span style=\"color: #7f7f7f; text-decoration-color: #7f7f7f\">NULL</span> │    <span style=\"color: #7f7f7f; text-decoration-color: #7f7f7f\">NULL</span> │    <span style=\"color: #7f7f7f; text-decoration-color: #7f7f7f\">NULL</span> │    <span style=\"color: #7f7f7f; text-decoration-color: #7f7f7f\">NULL</span> │    <span style=\"color: #7f7f7f; text-decoration-color: #7f7f7f\">NULL</span> │    <span style=\"color: #7f7f7f; text-decoration-color: #7f7f7f\">NULL</span> │    <span style=\"color: #7f7f7f; text-decoration-color: #7f7f7f\">NULL</span> │    <span style=\"color: #7f7f7f; text-decoration-color: #7f7f7f\">NULL</span> │    <span style=\"color: #008080; text-decoration-color: #008080; font-weight: bold\">97.2</span> │    <span style=\"color: #008080; text-decoration-color: #008080; font-weight: bold\">97.2</span> │    <span style=\"color: #008080; text-decoration-color: #008080; font-weight: bold\">97.0</span> │    <span style=\"color: #008080; text-decoration-color: #008080; font-weight: bold\">96.9</span> │    <span style=\"color: #008080; text-decoration-color: #008080; font-weight: bold\">96.9</span> │    <span style=\"color: #008080; text-decoration-color: #008080; font-weight: bold\">96.9</span> │    <span style=\"color: #008080; text-decoration-color: #008080; font-weight: bold\">96.8</span> │    <span style=\"color: #008080; text-decoration-color: #008080; font-weight: bold\">96.8</span> │    <span style=\"color: #008080; text-decoration-color: #008080; font-weight: bold\">96.7</span> │    <span style=\"color: #008080; text-decoration-color: #008080; font-weight: bold\">96.8</span> │    <span style=\"color: #008080; text-decoration-color: #008080; font-weight: bold\">96.7</span> │    <span style=\"color: #008080; text-decoration-color: #008080; font-weight: bold\">96.6</span> │    <span style=\"color: #008080; text-decoration-color: #008080; font-weight: bold\">96.8</span> │    <span style=\"color: #008080; text-decoration-color: #008080; font-weight: bold\">96.6</span> │    <span style=\"color: #008080; text-decoration-color: #008080; font-weight: bold\">96.6</span> │   <span style=\"color: #008080; text-decoration-color: #008080; font-weight: bold\">96.40</span> │    <span style=\"color: #008080; text-decoration-color: #008080; font-weight: bold\">96.2</span> │    <span style=\"color: #008080; text-decoration-color: #008080; font-weight: bold\">96.1</span> │    <span style=\"color: #008080; text-decoration-color: #008080; font-weight: bold\">95.9</span> │    <span style=\"color: #008080; text-decoration-color: #008080; font-weight: bold\">95.8</span> │    <span style=\"color: #008080; text-decoration-color: #008080; font-weight: bold\">95.5</span> │    <span style=\"color: #008080; text-decoration-color: #008080; font-weight: bold\">95.1</span> │    <span style=\"color: #008080; text-decoration-color: #008080; font-weight: bold\">95.0</span> │    <span style=\"color: #7f7f7f; text-decoration-color: #7f7f7f\">NULL</span> │\n",
       "│ <span style=\"color: #008000; text-decoration-color: #008000\">Venezuela, RB</span> │ <span style=\"color: #008000; text-decoration-color: #008000\">VEN         </span> │ <span style=\"color: #008000; text-decoration-color: #008000\">Access to clean fuels and technologies for cooking, rural (% of rural populatio…</span> │ <span style=\"color: #008000; text-decoration-color: #008000\">EG.CFT.ACCS.RU.ZS</span> │    <span style=\"color: #7f7f7f; text-decoration-color: #7f7f7f\">NULL</span> │    <span style=\"color: #7f7f7f; text-decoration-color: #7f7f7f\">NULL</span> │    <span style=\"color: #7f7f7f; text-decoration-color: #7f7f7f\">NULL</span> │    <span style=\"color: #7f7f7f; text-decoration-color: #7f7f7f\">NULL</span> │    <span style=\"color: #7f7f7f; text-decoration-color: #7f7f7f\">NULL</span> │    <span style=\"color: #7f7f7f; text-decoration-color: #7f7f7f\">NULL</span> │    <span style=\"color: #7f7f7f; text-decoration-color: #7f7f7f\">NULL</span> │    <span style=\"color: #7f7f7f; text-decoration-color: #7f7f7f\">NULL</span> │    <span style=\"color: #7f7f7f; text-decoration-color: #7f7f7f\">NULL</span> │    <span style=\"color: #7f7f7f; text-decoration-color: #7f7f7f\">NULL</span> │    <span style=\"color: #7f7f7f; text-decoration-color: #7f7f7f\">NULL</span> │    <span style=\"color: #7f7f7f; text-decoration-color: #7f7f7f\">NULL</span> │    <span style=\"color: #7f7f7f; text-decoration-color: #7f7f7f\">NULL</span> │    <span style=\"color: #7f7f7f; text-decoration-color: #7f7f7f\">NULL</span> │    <span style=\"color: #7f7f7f; text-decoration-color: #7f7f7f\">NULL</span> │    <span style=\"color: #7f7f7f; text-decoration-color: #7f7f7f\">NULL</span> │    <span style=\"color: #7f7f7f; text-decoration-color: #7f7f7f\">NULL</span> │    <span style=\"color: #7f7f7f; text-decoration-color: #7f7f7f\">NULL</span> │    <span style=\"color: #7f7f7f; text-decoration-color: #7f7f7f\">NULL</span> │    <span style=\"color: #7f7f7f; text-decoration-color: #7f7f7f\">NULL</span> │    <span style=\"color: #7f7f7f; text-decoration-color: #7f7f7f\">NULL</span> │    <span style=\"color: #7f7f7f; text-decoration-color: #7f7f7f\">NULL</span> │    <span style=\"color: #7f7f7f; text-decoration-color: #7f7f7f\">NULL</span> │    <span style=\"color: #7f7f7f; text-decoration-color: #7f7f7f\">NULL</span> │    <span style=\"color: #7f7f7f; text-decoration-color: #7f7f7f\">NULL</span> │    <span style=\"color: #7f7f7f; text-decoration-color: #7f7f7f\">NULL</span> │    <span style=\"color: #7f7f7f; text-decoration-color: #7f7f7f\">NULL</span> │    <span style=\"color: #7f7f7f; text-decoration-color: #7f7f7f\">NULL</span> │    <span style=\"color: #7f7f7f; text-decoration-color: #7f7f7f\">NULL</span> │    <span style=\"color: #7f7f7f; text-decoration-color: #7f7f7f\">NULL</span> │    <span style=\"color: #7f7f7f; text-decoration-color: #7f7f7f\">NULL</span> │    <span style=\"color: #7f7f7f; text-decoration-color: #7f7f7f\">NULL</span> │    <span style=\"color: #7f7f7f; text-decoration-color: #7f7f7f\">NULL</span> │    <span style=\"color: #7f7f7f; text-decoration-color: #7f7f7f\">NULL</span> │    <span style=\"color: #7f7f7f; text-decoration-color: #7f7f7f\">NULL</span> │    <span style=\"color: #7f7f7f; text-decoration-color: #7f7f7f\">NULL</span> │    <span style=\"color: #7f7f7f; text-decoration-color: #7f7f7f\">NULL</span> │    <span style=\"color: #7f7f7f; text-decoration-color: #7f7f7f\">NULL</span> │    <span style=\"color: #7f7f7f; text-decoration-color: #7f7f7f\">NULL</span> │    <span style=\"color: #7f7f7f; text-decoration-color: #7f7f7f\">NULL</span> │    <span style=\"color: #008080; text-decoration-color: #008080; font-weight: bold\">77.1</span> │    <span style=\"color: #008080; text-decoration-color: #008080; font-weight: bold\">76.5</span> │    <span style=\"color: #008080; text-decoration-color: #008080; font-weight: bold\">76.4</span> │    <span style=\"color: #008080; text-decoration-color: #008080; font-weight: bold\">76.0</span> │    <span style=\"color: #008080; text-decoration-color: #008080; font-weight: bold\">76.8</span> │    <span style=\"color: #008080; text-decoration-color: #008080; font-weight: bold\">76.6</span> │    <span style=\"color: #008080; text-decoration-color: #008080; font-weight: bold\">77.0</span> │    <span style=\"color: #008080; text-decoration-color: #008080; font-weight: bold\">77.8</span> │    <span style=\"color: #008080; text-decoration-color: #008080; font-weight: bold\">78.5</span> │    <span style=\"color: #008080; text-decoration-color: #008080; font-weight: bold\">79.2</span> │    <span style=\"color: #008080; text-decoration-color: #008080; font-weight: bold\">79.9</span> │    <span style=\"color: #008080; text-decoration-color: #008080; font-weight: bold\">80.6</span> │    <span style=\"color: #008080; text-decoration-color: #008080; font-weight: bold\">81.6</span> │    <span style=\"color: #008080; text-decoration-color: #008080; font-weight: bold\">82.3</span> │    <span style=\"color: #008080; text-decoration-color: #008080; font-weight: bold\">82.9</span> │   <span style=\"color: #008080; text-decoration-color: #008080; font-weight: bold\">83.55</span> │    <span style=\"color: #008080; text-decoration-color: #008080; font-weight: bold\">84.6</span> │    <span style=\"color: #008080; text-decoration-color: #008080; font-weight: bold\">84.8</span> │    <span style=\"color: #008080; text-decoration-color: #008080; font-weight: bold\">85.6</span> │    <span style=\"color: #008080; text-decoration-color: #008080; font-weight: bold\">86.0</span> │    <span style=\"color: #008080; text-decoration-color: #008080; font-weight: bold\">86.1</span> │    <span style=\"color: #008080; text-decoration-color: #008080; font-weight: bold\">86.5</span> │    <span style=\"color: #008080; text-decoration-color: #008080; font-weight: bold\">87.5</span> │    <span style=\"color: #7f7f7f; text-decoration-color: #7f7f7f\">NULL</span> │\n",
       "│ <span style=\"color: #008000; text-decoration-color: #008000\">Venezuela, RB</span> │ <span style=\"color: #008000; text-decoration-color: #008000\">VEN         </span> │ <span style=\"color: #008000; text-decoration-color: #008000\">Access to clean fuels and technologies for cooking, urban (% of urban populatio…</span> │ <span style=\"color: #008000; text-decoration-color: #008000\">EG.CFT.ACCS.UR.ZS</span> │    <span style=\"color: #7f7f7f; text-decoration-color: #7f7f7f\">NULL</span> │    <span style=\"color: #7f7f7f; text-decoration-color: #7f7f7f\">NULL</span> │    <span style=\"color: #7f7f7f; text-decoration-color: #7f7f7f\">NULL</span> │    <span style=\"color: #7f7f7f; text-decoration-color: #7f7f7f\">NULL</span> │    <span style=\"color: #7f7f7f; text-decoration-color: #7f7f7f\">NULL</span> │    <span style=\"color: #7f7f7f; text-decoration-color: #7f7f7f\">NULL</span> │    <span style=\"color: #7f7f7f; text-decoration-color: #7f7f7f\">NULL</span> │    <span style=\"color: #7f7f7f; text-decoration-color: #7f7f7f\">NULL</span> │    <span style=\"color: #7f7f7f; text-decoration-color: #7f7f7f\">NULL</span> │    <span style=\"color: #7f7f7f; text-decoration-color: #7f7f7f\">NULL</span> │    <span style=\"color: #7f7f7f; text-decoration-color: #7f7f7f\">NULL</span> │    <span style=\"color: #7f7f7f; text-decoration-color: #7f7f7f\">NULL</span> │    <span style=\"color: #7f7f7f; text-decoration-color: #7f7f7f\">NULL</span> │    <span style=\"color: #7f7f7f; text-decoration-color: #7f7f7f\">NULL</span> │    <span style=\"color: #7f7f7f; text-decoration-color: #7f7f7f\">NULL</span> │    <span style=\"color: #7f7f7f; text-decoration-color: #7f7f7f\">NULL</span> │    <span style=\"color: #7f7f7f; text-decoration-color: #7f7f7f\">NULL</span> │    <span style=\"color: #7f7f7f; text-decoration-color: #7f7f7f\">NULL</span> │    <span style=\"color: #7f7f7f; text-decoration-color: #7f7f7f\">NULL</span> │    <span style=\"color: #7f7f7f; text-decoration-color: #7f7f7f\">NULL</span> │    <span style=\"color: #7f7f7f; text-decoration-color: #7f7f7f\">NULL</span> │    <span style=\"color: #7f7f7f; text-decoration-color: #7f7f7f\">NULL</span> │    <span style=\"color: #7f7f7f; text-decoration-color: #7f7f7f\">NULL</span> │    <span style=\"color: #7f7f7f; text-decoration-color: #7f7f7f\">NULL</span> │    <span style=\"color: #7f7f7f; text-decoration-color: #7f7f7f\">NULL</span> │    <span style=\"color: #7f7f7f; text-decoration-color: #7f7f7f\">NULL</span> │    <span style=\"color: #7f7f7f; text-decoration-color: #7f7f7f\">NULL</span> │    <span style=\"color: #7f7f7f; text-decoration-color: #7f7f7f\">NULL</span> │    <span style=\"color: #7f7f7f; text-decoration-color: #7f7f7f\">NULL</span> │    <span style=\"color: #7f7f7f; text-decoration-color: #7f7f7f\">NULL</span> │    <span style=\"color: #7f7f7f; text-decoration-color: #7f7f7f\">NULL</span> │    <span style=\"color: #7f7f7f; text-decoration-color: #7f7f7f\">NULL</span> │    <span style=\"color: #7f7f7f; text-decoration-color: #7f7f7f\">NULL</span> │    <span style=\"color: #7f7f7f; text-decoration-color: #7f7f7f\">NULL</span> │    <span style=\"color: #7f7f7f; text-decoration-color: #7f7f7f\">NULL</span> │    <span style=\"color: #7f7f7f; text-decoration-color: #7f7f7f\">NULL</span> │    <span style=\"color: #7f7f7f; text-decoration-color: #7f7f7f\">NULL</span> │    <span style=\"color: #7f7f7f; text-decoration-color: #7f7f7f\">NULL</span> │    <span style=\"color: #7f7f7f; text-decoration-color: #7f7f7f\">NULL</span> │    <span style=\"color: #7f7f7f; text-decoration-color: #7f7f7f\">NULL</span> │    <span style=\"color: #008080; text-decoration-color: #008080; font-weight: bold\">99.5</span> │    <span style=\"color: #008080; text-decoration-color: #008080; font-weight: bold\">99.5</span> │    <span style=\"color: #008080; text-decoration-color: #008080; font-weight: bold\">99.4</span> │    <span style=\"color: #008080; text-decoration-color: #008080; font-weight: bold\">99.4</span> │    <span style=\"color: #008080; text-decoration-color: #008080; font-weight: bold\">99.3</span> │    <span style=\"color: #008080; text-decoration-color: #008080; font-weight: bold\">99.4</span> │    <span style=\"color: #008080; text-decoration-color: #008080; font-weight: bold\">99.3</span> │    <span style=\"color: #008080; text-decoration-color: #008080; font-weight: bold\">99.3</span> │    <span style=\"color: #008080; text-decoration-color: #008080; font-weight: bold\">99.2</span> │    <span style=\"color: #008080; text-decoration-color: #008080; font-weight: bold\">99.1</span> │    <span style=\"color: #008080; text-decoration-color: #008080; font-weight: bold\">99.0</span> │    <span style=\"color: #008080; text-decoration-color: #008080; font-weight: bold\">99.0</span> │    <span style=\"color: #008080; text-decoration-color: #008080; font-weight: bold\">98.9</span> │    <span style=\"color: #008080; text-decoration-color: #008080; font-weight: bold\">98.7</span> │    <span style=\"color: #008080; text-decoration-color: #008080; font-weight: bold\">98.6</span> │   <span style=\"color: #008080; text-decoration-color: #008080; font-weight: bold\">98.50</span> │    <span style=\"color: #008080; text-decoration-color: #008080; font-weight: bold\">98.4</span> │    <span style=\"color: #008080; text-decoration-color: #008080; font-weight: bold\">98.3</span> │    <span style=\"color: #008080; text-decoration-color: #008080; font-weight: bold\">98.0</span> │    <span style=\"color: #008080; text-decoration-color: #008080; font-weight: bold\">97.8</span> │    <span style=\"color: #008080; text-decoration-color: #008080; font-weight: bold\">97.7</span> │    <span style=\"color: #008080; text-decoration-color: #008080; font-weight: bold\">97.4</span> │    <span style=\"color: #008080; text-decoration-color: #008080; font-weight: bold\">97.3</span> │    <span style=\"color: #7f7f7f; text-decoration-color: #7f7f7f\">NULL</span> │\n",
       "└───────────────┴──────────────┴──────────────────────────────────────────────────────────────────────────────────┴───────────────────┴─────────┴─────────┴─────────┴─────────┴─────────┴─────────┴─────────┴─────────┴─────────┴─────────┴─────────┴─────────┴─────────┴─────────┴─────────┴─────────┴─────────┴─────────┴─────────┴─────────┴─────────┴─────────┴─────────┴─────────┴─────────┴─────────┴─────────┴─────────┴─────────┴─────────┴─────────┴─────────┴─────────┴─────────┴─────────┴─────────┴─────────┴─────────┴─────────┴─────────┴─────────┴─────────┴─────────┴─────────┴─────────┴─────────┴─────────┴─────────┴─────────┴─────────┴─────────┴─────────┴─────────┴─────────┴─────────┴─────────┴─────────┴─────────┴─────────┴─────────┴─────────┴─────────┴─────────┴─────────┘\n",
       "</pre>\n"
      ],
      "text/plain": [
       "┏━━━━━━━━━━━━━━━┳━━━━━━━━━━━━━━┳━━━━━━━━━━━━━━━━━━━━━━━━━━━━━━━━━━━━━━━━━━━━━━━━━━━━━━━━━━━━━━━━━━━━━━━━━━━━━━━━━━┳━━━━━━━━━━━━━━━━━━━┳━━━━━━━━━┳━━━━━━━━━┳━━━━━━━━━┳━━━━━━━━━┳━━━━━━━━━┳━━━━━━━━━┳━━━━━━━━━┳━━━━━━━━━┳━━━━━━━━━┳━━━━━━━━━┳━━━━━━━━━┳━━━━━━━━━┳━━━━━━━━━┳━━━━━━━━━┳━━━━━━━━━┳━━━━━━━━━┳━━━━━━━━━┳━━━━━━━━━┳━━━━━━━━━┳━━━━━━━━━┳━━━━━━━━━┳━━━━━━━━━┳━━━━━━━━━┳━━━━━━━━━┳━━━━━━━━━┳━━━━━━━━━┳━━━━━━━━━┳━━━━━━━━━┳━━━━━━━━━┳━━━━━━━━━┳━━━━━━━━━┳━━━━━━━━━┳━━━━━━━━━┳━━━━━━━━━┳━━━━━━━━━┳━━━━━━━━━┳━━━━━━━━━┳━━━━━━━━━┳━━━━━━━━━┳━━━━━━━━━┳━━━━━━━━━┳━━━━━━━━━┳━━━━━━━━━┳━━━━━━━━━┳━━━━━━━━━┳━━━━━━━━━┳━━━━━━━━━┳━━━━━━━━━┳━━━━━━━━━┳━━━━━━━━━┳━━━━━━━━━┳━━━━━━━━━┳━━━━━━━━━┳━━━━━━━━━┳━━━━━━━━━┳━━━━━━━━━┳━━━━━━━━━┳━━━━━━━━━┳━━━━━━━━━┳━━━━━━━━━┳━━━━━━━━━┳━━━━━━━━━┳━━━━━━━━━┳━━━━━━━━━┓\n",
       "┃\u001b[1m \u001b[0m\u001b[1mcountry_name\u001b[0m\u001b[1m \u001b[0m\u001b[1m \u001b[0m┃\u001b[1m \u001b[0m\u001b[1mcountry_code\u001b[0m\u001b[1m \u001b[0m┃\u001b[1m \u001b[0m\u001b[1mindicator_name\u001b[0m\u001b[1m                                                                  \u001b[0m\u001b[1m \u001b[0m┃\u001b[1m \u001b[0m\u001b[1mindicator_code\u001b[0m\u001b[1m   \u001b[0m\u001b[1m \u001b[0m┃\u001b[1m \u001b[0m\u001b[1m1960\u001b[0m\u001b[1m   \u001b[0m\u001b[1m \u001b[0m┃\u001b[1m \u001b[0m\u001b[1m1961\u001b[0m\u001b[1m   \u001b[0m\u001b[1m \u001b[0m┃\u001b[1m \u001b[0m\u001b[1m1962\u001b[0m\u001b[1m   \u001b[0m\u001b[1m \u001b[0m┃\u001b[1m \u001b[0m\u001b[1m1963\u001b[0m\u001b[1m   \u001b[0m\u001b[1m \u001b[0m┃\u001b[1m \u001b[0m\u001b[1m1964\u001b[0m\u001b[1m   \u001b[0m\u001b[1m \u001b[0m┃\u001b[1m \u001b[0m\u001b[1m1965\u001b[0m\u001b[1m   \u001b[0m\u001b[1m \u001b[0m┃\u001b[1m \u001b[0m\u001b[1m1966\u001b[0m\u001b[1m   \u001b[0m\u001b[1m \u001b[0m┃\u001b[1m \u001b[0m\u001b[1m1967\u001b[0m\u001b[1m   \u001b[0m\u001b[1m \u001b[0m┃\u001b[1m \u001b[0m\u001b[1m1968\u001b[0m\u001b[1m   \u001b[0m\u001b[1m \u001b[0m┃\u001b[1m \u001b[0m\u001b[1m1969\u001b[0m\u001b[1m   \u001b[0m\u001b[1m \u001b[0m┃\u001b[1m \u001b[0m\u001b[1m1970\u001b[0m\u001b[1m   \u001b[0m\u001b[1m \u001b[0m┃\u001b[1m \u001b[0m\u001b[1m1971\u001b[0m\u001b[1m   \u001b[0m\u001b[1m \u001b[0m┃\u001b[1m \u001b[0m\u001b[1m1972\u001b[0m\u001b[1m   \u001b[0m\u001b[1m \u001b[0m┃\u001b[1m \u001b[0m\u001b[1m1973\u001b[0m\u001b[1m   \u001b[0m\u001b[1m \u001b[0m┃\u001b[1m \u001b[0m\u001b[1m1974\u001b[0m\u001b[1m   \u001b[0m\u001b[1m \u001b[0m┃\u001b[1m \u001b[0m\u001b[1m1975\u001b[0m\u001b[1m   \u001b[0m\u001b[1m \u001b[0m┃\u001b[1m \u001b[0m\u001b[1m1976\u001b[0m\u001b[1m   \u001b[0m\u001b[1m \u001b[0m┃\u001b[1m \u001b[0m\u001b[1m1977\u001b[0m\u001b[1m   \u001b[0m\u001b[1m \u001b[0m┃\u001b[1m \u001b[0m\u001b[1m1978\u001b[0m\u001b[1m   \u001b[0m\u001b[1m \u001b[0m┃\u001b[1m \u001b[0m\u001b[1m1979\u001b[0m\u001b[1m   \u001b[0m\u001b[1m \u001b[0m┃\u001b[1m \u001b[0m\u001b[1m1980\u001b[0m\u001b[1m   \u001b[0m\u001b[1m \u001b[0m┃\u001b[1m \u001b[0m\u001b[1m1981\u001b[0m\u001b[1m   \u001b[0m\u001b[1m \u001b[0m┃\u001b[1m \u001b[0m\u001b[1m1982\u001b[0m\u001b[1m   \u001b[0m\u001b[1m \u001b[0m┃\u001b[1m \u001b[0m\u001b[1m1983\u001b[0m\u001b[1m   \u001b[0m\u001b[1m \u001b[0m┃\u001b[1m \u001b[0m\u001b[1m1984\u001b[0m\u001b[1m   \u001b[0m\u001b[1m \u001b[0m┃\u001b[1m \u001b[0m\u001b[1m1985\u001b[0m\u001b[1m   \u001b[0m\u001b[1m \u001b[0m┃\u001b[1m \u001b[0m\u001b[1m1986\u001b[0m\u001b[1m   \u001b[0m\u001b[1m \u001b[0m┃\u001b[1m \u001b[0m\u001b[1m1987\u001b[0m\u001b[1m   \u001b[0m\u001b[1m \u001b[0m┃\u001b[1m \u001b[0m\u001b[1m1988\u001b[0m\u001b[1m   \u001b[0m\u001b[1m \u001b[0m┃\u001b[1m \u001b[0m\u001b[1m1989\u001b[0m\u001b[1m   \u001b[0m\u001b[1m \u001b[0m┃\u001b[1m \u001b[0m\u001b[1m1990\u001b[0m\u001b[1m   \u001b[0m\u001b[1m \u001b[0m┃\u001b[1m \u001b[0m\u001b[1m1991\u001b[0m\u001b[1m   \u001b[0m\u001b[1m \u001b[0m┃\u001b[1m \u001b[0m\u001b[1m1992\u001b[0m\u001b[1m   \u001b[0m\u001b[1m \u001b[0m┃\u001b[1m \u001b[0m\u001b[1m1993\u001b[0m\u001b[1m   \u001b[0m\u001b[1m \u001b[0m┃\u001b[1m \u001b[0m\u001b[1m1994\u001b[0m\u001b[1m   \u001b[0m\u001b[1m \u001b[0m┃\u001b[1m \u001b[0m\u001b[1m1995\u001b[0m\u001b[1m   \u001b[0m\u001b[1m \u001b[0m┃\u001b[1m \u001b[0m\u001b[1m1996\u001b[0m\u001b[1m   \u001b[0m\u001b[1m \u001b[0m┃\u001b[1m \u001b[0m\u001b[1m1997\u001b[0m\u001b[1m   \u001b[0m\u001b[1m \u001b[0m┃\u001b[1m \u001b[0m\u001b[1m1998\u001b[0m\u001b[1m   \u001b[0m\u001b[1m \u001b[0m┃\u001b[1m \u001b[0m\u001b[1m1999\u001b[0m\u001b[1m   \u001b[0m\u001b[1m \u001b[0m┃\u001b[1m \u001b[0m\u001b[1m2000\u001b[0m\u001b[1m   \u001b[0m\u001b[1m \u001b[0m┃\u001b[1m \u001b[0m\u001b[1m2001\u001b[0m\u001b[1m   \u001b[0m\u001b[1m \u001b[0m┃\u001b[1m \u001b[0m\u001b[1m2002\u001b[0m\u001b[1m   \u001b[0m\u001b[1m \u001b[0m┃\u001b[1m \u001b[0m\u001b[1m2003\u001b[0m\u001b[1m   \u001b[0m\u001b[1m \u001b[0m┃\u001b[1m \u001b[0m\u001b[1m2004\u001b[0m\u001b[1m   \u001b[0m\u001b[1m \u001b[0m┃\u001b[1m \u001b[0m\u001b[1m2005\u001b[0m\u001b[1m   \u001b[0m\u001b[1m \u001b[0m┃\u001b[1m \u001b[0m\u001b[1m2006\u001b[0m\u001b[1m   \u001b[0m\u001b[1m \u001b[0m┃\u001b[1m \u001b[0m\u001b[1m2007\u001b[0m\u001b[1m   \u001b[0m\u001b[1m \u001b[0m┃\u001b[1m \u001b[0m\u001b[1m2008\u001b[0m\u001b[1m   \u001b[0m\u001b[1m \u001b[0m┃\u001b[1m \u001b[0m\u001b[1m2009\u001b[0m\u001b[1m   \u001b[0m\u001b[1m \u001b[0m┃\u001b[1m \u001b[0m\u001b[1m2010\u001b[0m\u001b[1m   \u001b[0m\u001b[1m \u001b[0m┃\u001b[1m \u001b[0m\u001b[1m2011\u001b[0m\u001b[1m   \u001b[0m\u001b[1m \u001b[0m┃\u001b[1m \u001b[0m\u001b[1m2012\u001b[0m\u001b[1m   \u001b[0m\u001b[1m \u001b[0m┃\u001b[1m \u001b[0m\u001b[1m2013\u001b[0m\u001b[1m   \u001b[0m\u001b[1m \u001b[0m┃\u001b[1m \u001b[0m\u001b[1m2014\u001b[0m\u001b[1m   \u001b[0m\u001b[1m \u001b[0m┃\u001b[1m \u001b[0m\u001b[1m2015\u001b[0m\u001b[1m   \u001b[0m\u001b[1m \u001b[0m┃\u001b[1m \u001b[0m\u001b[1m2016\u001b[0m\u001b[1m   \u001b[0m\u001b[1m \u001b[0m┃\u001b[1m \u001b[0m\u001b[1m2017\u001b[0m\u001b[1m   \u001b[0m\u001b[1m \u001b[0m┃\u001b[1m \u001b[0m\u001b[1m2018\u001b[0m\u001b[1m   \u001b[0m\u001b[1m \u001b[0m┃\u001b[1m \u001b[0m\u001b[1m2019\u001b[0m\u001b[1m   \u001b[0m\u001b[1m \u001b[0m┃\u001b[1m \u001b[0m\u001b[1m2020\u001b[0m\u001b[1m   \u001b[0m\u001b[1m \u001b[0m┃\u001b[1m \u001b[0m\u001b[1m2021\u001b[0m\u001b[1m   \u001b[0m\u001b[1m \u001b[0m┃\u001b[1m \u001b[0m\u001b[1m2022\u001b[0m\u001b[1m   \u001b[0m\u001b[1m \u001b[0m┃\u001b[1m \u001b[0m\u001b[1m2023\u001b[0m\u001b[1m   \u001b[0m\u001b[1m \u001b[0m┃\n",
       "┡━━━━━━━━━━━━━━━╇━━━━━━━━━━━━━━╇━━━━━━━━━━━━━━━━━━━━━━━━━━━━━━━━━━━━━━━━━━━━━━━━━━━━━━━━━━━━━━━━━━━━━━━━━━━━━━━━━━╇━━━━━━━━━━━━━━━━━━━╇━━━━━━━━━╇━━━━━━━━━╇━━━━━━━━━╇━━━━━━━━━╇━━━━━━━━━╇━━━━━━━━━╇━━━━━━━━━╇━━━━━━━━━╇━━━━━━━━━╇━━━━━━━━━╇━━━━━━━━━╇━━━━━━━━━╇━━━━━━━━━╇━━━━━━━━━╇━━━━━━━━━╇━━━━━━━━━╇━━━━━━━━━╇━━━━━━━━━╇━━━━━━━━━╇━━━━━━━━━╇━━━━━━━━━╇━━━━━━━━━╇━━━━━━━━━╇━━━━━━━━━╇━━━━━━━━━╇━━━━━━━━━╇━━━━━━━━━╇━━━━━━━━━╇━━━━━━━━━╇━━━━━━━━━╇━━━━━━━━━╇━━━━━━━━━╇━━━━━━━━━╇━━━━━━━━━╇━━━━━━━━━╇━━━━━━━━━╇━━━━━━━━━╇━━━━━━━━━╇━━━━━━━━━╇━━━━━━━━━╇━━━━━━━━━╇━━━━━━━━━╇━━━━━━━━━╇━━━━━━━━━╇━━━━━━━━━╇━━━━━━━━━╇━━━━━━━━━╇━━━━━━━━━╇━━━━━━━━━╇━━━━━━━━━╇━━━━━━━━━╇━━━━━━━━━╇━━━━━━━━━╇━━━━━━━━━╇━━━━━━━━━╇━━━━━━━━━╇━━━━━━━━━╇━━━━━━━━━╇━━━━━━━━━╇━━━━━━━━━╇━━━━━━━━━╇━━━━━━━━━╇━━━━━━━━━╇━━━━━━━━━┩\n",
       "│ \u001b[2mstring\u001b[0m        │ \u001b[2mstring\u001b[0m       │ \u001b[2mstring\u001b[0m                                                                           │ \u001b[2mstring\u001b[0m            │ \u001b[2mfloat64\u001b[0m │ \u001b[2mfloat64\u001b[0m │ \u001b[2mfloat64\u001b[0m │ \u001b[2mfloat64\u001b[0m │ \u001b[2mfloat64\u001b[0m │ \u001b[2mfloat64\u001b[0m │ \u001b[2mfloat64\u001b[0m │ \u001b[2mfloat64\u001b[0m │ \u001b[2mfloat64\u001b[0m │ \u001b[2mfloat64\u001b[0m │ \u001b[2mfloat64\u001b[0m │ \u001b[2mfloat64\u001b[0m │ \u001b[2mfloat64\u001b[0m │ \u001b[2mfloat64\u001b[0m │ \u001b[2mfloat64\u001b[0m │ \u001b[2mfloat64\u001b[0m │ \u001b[2mfloat64\u001b[0m │ \u001b[2mfloat64\u001b[0m │ \u001b[2mfloat64\u001b[0m │ \u001b[2mfloat64\u001b[0m │ \u001b[2mfloat64\u001b[0m │ \u001b[2mfloat64\u001b[0m │ \u001b[2mfloat64\u001b[0m │ \u001b[2mfloat64\u001b[0m │ \u001b[2mfloat64\u001b[0m │ \u001b[2mfloat64\u001b[0m │ \u001b[2mfloat64\u001b[0m │ \u001b[2mfloat64\u001b[0m │ \u001b[2mfloat64\u001b[0m │ \u001b[2mfloat64\u001b[0m │ \u001b[2mfloat64\u001b[0m │ \u001b[2mfloat64\u001b[0m │ \u001b[2mfloat64\u001b[0m │ \u001b[2mfloat64\u001b[0m │ \u001b[2mfloat64\u001b[0m │ \u001b[2mfloat64\u001b[0m │ \u001b[2mfloat64\u001b[0m │ \u001b[2mfloat64\u001b[0m │ \u001b[2mfloat64\u001b[0m │ \u001b[2mfloat64\u001b[0m │ \u001b[2mfloat64\u001b[0m │ \u001b[2mfloat64\u001b[0m │ \u001b[2mfloat64\u001b[0m │ \u001b[2mfloat64\u001b[0m │ \u001b[2mfloat64\u001b[0m │ \u001b[2mfloat64\u001b[0m │ \u001b[2mfloat64\u001b[0m │ \u001b[2mfloat64\u001b[0m │ \u001b[2mfloat64\u001b[0m │ \u001b[2mfloat64\u001b[0m │ \u001b[2mfloat64\u001b[0m │ \u001b[2mfloat64\u001b[0m │ \u001b[2mfloat64\u001b[0m │ \u001b[2mfloat64\u001b[0m │ \u001b[2mfloat64\u001b[0m │ \u001b[2mfloat64\u001b[0m │ \u001b[2mfloat64\u001b[0m │ \u001b[2mfloat64\u001b[0m │ \u001b[2mfloat64\u001b[0m │ \u001b[2mfloat64\u001b[0m │ \u001b[2mfloat64\u001b[0m │ \u001b[2mfloat64\u001b[0m │ \u001b[2mfloat64\u001b[0m │ \u001b[2mfloat64\u001b[0m │\n",
       "├───────────────┼──────────────┼──────────────────────────────────────────────────────────────────────────────────┼───────────────────┼─────────┼─────────┼─────────┼─────────┼─────────┼─────────┼─────────┼─────────┼─────────┼─────────┼─────────┼─────────┼─────────┼─────────┼─────────┼─────────┼─────────┼─────────┼─────────┼─────────┼─────────┼─────────┼─────────┼─────────┼─────────┼─────────┼─────────┼─────────┼─────────┼─────────┼─────────┼─────────┼─────────┼─────────┼─────────┼─────────┼─────────┼─────────┼─────────┼─────────┼─────────┼─────────┼─────────┼─────────┼─────────┼─────────┼─────────┼─────────┼─────────┼─────────┼─────────┼─────────┼─────────┼─────────┼─────────┼─────────┼─────────┼─────────┼─────────┼─────────┼─────────┼─────────┼─────────┼─────────┤\n",
       "│ \u001b[32mVenezuela, RB\u001b[0m │ \u001b[32mVEN         \u001b[0m │ \u001b[32mAccess to clean fuels and technologies for cooking (% of population)            \u001b[0m │ \u001b[32mEG.CFT.ACCS.ZS   \u001b[0m │    \u001b[2mNULL\u001b[0m │    \u001b[2mNULL\u001b[0m │    \u001b[2mNULL\u001b[0m │    \u001b[2mNULL\u001b[0m │    \u001b[2mNULL\u001b[0m │    \u001b[2mNULL\u001b[0m │    \u001b[2mNULL\u001b[0m │    \u001b[2mNULL\u001b[0m │    \u001b[2mNULL\u001b[0m │    \u001b[2mNULL\u001b[0m │    \u001b[2mNULL\u001b[0m │    \u001b[2mNULL\u001b[0m │    \u001b[2mNULL\u001b[0m │    \u001b[2mNULL\u001b[0m │    \u001b[2mNULL\u001b[0m │    \u001b[2mNULL\u001b[0m │    \u001b[2mNULL\u001b[0m │    \u001b[2mNULL\u001b[0m │    \u001b[2mNULL\u001b[0m │    \u001b[2mNULL\u001b[0m │    \u001b[2mNULL\u001b[0m │    \u001b[2mNULL\u001b[0m │    \u001b[2mNULL\u001b[0m │    \u001b[2mNULL\u001b[0m │    \u001b[2mNULL\u001b[0m │    \u001b[2mNULL\u001b[0m │    \u001b[2mNULL\u001b[0m │    \u001b[2mNULL\u001b[0m │    \u001b[2mNULL\u001b[0m │    \u001b[2mNULL\u001b[0m │    \u001b[2mNULL\u001b[0m │    \u001b[2mNULL\u001b[0m │    \u001b[2mNULL\u001b[0m │    \u001b[2mNULL\u001b[0m │    \u001b[2mNULL\u001b[0m │    \u001b[2mNULL\u001b[0m │    \u001b[2mNULL\u001b[0m │    \u001b[2mNULL\u001b[0m │    \u001b[2mNULL\u001b[0m │    \u001b[2mNULL\u001b[0m │    \u001b[1;36m97.2\u001b[0m │    \u001b[1;36m97.2\u001b[0m │    \u001b[1;36m97.0\u001b[0m │    \u001b[1;36m96.9\u001b[0m │    \u001b[1;36m96.9\u001b[0m │    \u001b[1;36m96.9\u001b[0m │    \u001b[1;36m96.8\u001b[0m │    \u001b[1;36m96.8\u001b[0m │    \u001b[1;36m96.7\u001b[0m │    \u001b[1;36m96.8\u001b[0m │    \u001b[1;36m96.7\u001b[0m │    \u001b[1;36m96.6\u001b[0m │    \u001b[1;36m96.8\u001b[0m │    \u001b[1;36m96.6\u001b[0m │    \u001b[1;36m96.6\u001b[0m │   \u001b[1;36m96.40\u001b[0m │    \u001b[1;36m96.2\u001b[0m │    \u001b[1;36m96.1\u001b[0m │    \u001b[1;36m95.9\u001b[0m │    \u001b[1;36m95.8\u001b[0m │    \u001b[1;36m95.5\u001b[0m │    \u001b[1;36m95.1\u001b[0m │    \u001b[1;36m95.0\u001b[0m │    \u001b[2mNULL\u001b[0m │\n",
       "│ \u001b[32mVenezuela, RB\u001b[0m │ \u001b[32mVEN         \u001b[0m │ \u001b[32mAccess to clean fuels and technologies for cooking, rural (% of rural populatio…\u001b[0m │ \u001b[32mEG.CFT.ACCS.RU.ZS\u001b[0m │    \u001b[2mNULL\u001b[0m │    \u001b[2mNULL\u001b[0m │    \u001b[2mNULL\u001b[0m │    \u001b[2mNULL\u001b[0m │    \u001b[2mNULL\u001b[0m │    \u001b[2mNULL\u001b[0m │    \u001b[2mNULL\u001b[0m │    \u001b[2mNULL\u001b[0m │    \u001b[2mNULL\u001b[0m │    \u001b[2mNULL\u001b[0m │    \u001b[2mNULL\u001b[0m │    \u001b[2mNULL\u001b[0m │    \u001b[2mNULL\u001b[0m │    \u001b[2mNULL\u001b[0m │    \u001b[2mNULL\u001b[0m │    \u001b[2mNULL\u001b[0m │    \u001b[2mNULL\u001b[0m │    \u001b[2mNULL\u001b[0m │    \u001b[2mNULL\u001b[0m │    \u001b[2mNULL\u001b[0m │    \u001b[2mNULL\u001b[0m │    \u001b[2mNULL\u001b[0m │    \u001b[2mNULL\u001b[0m │    \u001b[2mNULL\u001b[0m │    \u001b[2mNULL\u001b[0m │    \u001b[2mNULL\u001b[0m │    \u001b[2mNULL\u001b[0m │    \u001b[2mNULL\u001b[0m │    \u001b[2mNULL\u001b[0m │    \u001b[2mNULL\u001b[0m │    \u001b[2mNULL\u001b[0m │    \u001b[2mNULL\u001b[0m │    \u001b[2mNULL\u001b[0m │    \u001b[2mNULL\u001b[0m │    \u001b[2mNULL\u001b[0m │    \u001b[2mNULL\u001b[0m │    \u001b[2mNULL\u001b[0m │    \u001b[2mNULL\u001b[0m │    \u001b[2mNULL\u001b[0m │    \u001b[2mNULL\u001b[0m │    \u001b[1;36m77.1\u001b[0m │    \u001b[1;36m76.5\u001b[0m │    \u001b[1;36m76.4\u001b[0m │    \u001b[1;36m76.0\u001b[0m │    \u001b[1;36m76.8\u001b[0m │    \u001b[1;36m76.6\u001b[0m │    \u001b[1;36m77.0\u001b[0m │    \u001b[1;36m77.8\u001b[0m │    \u001b[1;36m78.5\u001b[0m │    \u001b[1;36m79.2\u001b[0m │    \u001b[1;36m79.9\u001b[0m │    \u001b[1;36m80.6\u001b[0m │    \u001b[1;36m81.6\u001b[0m │    \u001b[1;36m82.3\u001b[0m │    \u001b[1;36m82.9\u001b[0m │   \u001b[1;36m83.55\u001b[0m │    \u001b[1;36m84.6\u001b[0m │    \u001b[1;36m84.8\u001b[0m │    \u001b[1;36m85.6\u001b[0m │    \u001b[1;36m86.0\u001b[0m │    \u001b[1;36m86.1\u001b[0m │    \u001b[1;36m86.5\u001b[0m │    \u001b[1;36m87.5\u001b[0m │    \u001b[2mNULL\u001b[0m │\n",
       "│ \u001b[32mVenezuela, RB\u001b[0m │ \u001b[32mVEN         \u001b[0m │ \u001b[32mAccess to clean fuels and technologies for cooking, urban (% of urban populatio…\u001b[0m │ \u001b[32mEG.CFT.ACCS.UR.ZS\u001b[0m │    \u001b[2mNULL\u001b[0m │    \u001b[2mNULL\u001b[0m │    \u001b[2mNULL\u001b[0m │    \u001b[2mNULL\u001b[0m │    \u001b[2mNULL\u001b[0m │    \u001b[2mNULL\u001b[0m │    \u001b[2mNULL\u001b[0m │    \u001b[2mNULL\u001b[0m │    \u001b[2mNULL\u001b[0m │    \u001b[2mNULL\u001b[0m │    \u001b[2mNULL\u001b[0m │    \u001b[2mNULL\u001b[0m │    \u001b[2mNULL\u001b[0m │    \u001b[2mNULL\u001b[0m │    \u001b[2mNULL\u001b[0m │    \u001b[2mNULL\u001b[0m │    \u001b[2mNULL\u001b[0m │    \u001b[2mNULL\u001b[0m │    \u001b[2mNULL\u001b[0m │    \u001b[2mNULL\u001b[0m │    \u001b[2mNULL\u001b[0m │    \u001b[2mNULL\u001b[0m │    \u001b[2mNULL\u001b[0m │    \u001b[2mNULL\u001b[0m │    \u001b[2mNULL\u001b[0m │    \u001b[2mNULL\u001b[0m │    \u001b[2mNULL\u001b[0m │    \u001b[2mNULL\u001b[0m │    \u001b[2mNULL\u001b[0m │    \u001b[2mNULL\u001b[0m │    \u001b[2mNULL\u001b[0m │    \u001b[2mNULL\u001b[0m │    \u001b[2mNULL\u001b[0m │    \u001b[2mNULL\u001b[0m │    \u001b[2mNULL\u001b[0m │    \u001b[2mNULL\u001b[0m │    \u001b[2mNULL\u001b[0m │    \u001b[2mNULL\u001b[0m │    \u001b[2mNULL\u001b[0m │    \u001b[2mNULL\u001b[0m │    \u001b[1;36m99.5\u001b[0m │    \u001b[1;36m99.5\u001b[0m │    \u001b[1;36m99.4\u001b[0m │    \u001b[1;36m99.4\u001b[0m │    \u001b[1;36m99.3\u001b[0m │    \u001b[1;36m99.4\u001b[0m │    \u001b[1;36m99.3\u001b[0m │    \u001b[1;36m99.3\u001b[0m │    \u001b[1;36m99.2\u001b[0m │    \u001b[1;36m99.1\u001b[0m │    \u001b[1;36m99.0\u001b[0m │    \u001b[1;36m99.0\u001b[0m │    \u001b[1;36m98.9\u001b[0m │    \u001b[1;36m98.7\u001b[0m │    \u001b[1;36m98.6\u001b[0m │   \u001b[1;36m98.50\u001b[0m │    \u001b[1;36m98.4\u001b[0m │    \u001b[1;36m98.3\u001b[0m │    \u001b[1;36m98.0\u001b[0m │    \u001b[1;36m97.8\u001b[0m │    \u001b[1;36m97.7\u001b[0m │    \u001b[1;36m97.4\u001b[0m │    \u001b[1;36m97.3\u001b[0m │    \u001b[2mNULL\u001b[0m │\n",
       "└───────────────┴──────────────┴──────────────────────────────────────────────────────────────────────────────────┴───────────────────┴─────────┴─────────┴─────────┴─────────┴─────────┴─────────┴─────────┴─────────┴─────────┴─────────┴─────────┴─────────┴─────────┴─────────┴─────────┴─────────┴─────────┴─────────┴─────────┴─────────┴─────────┴─────────┴─────────┴─────────┴─────────┴─────────┴─────────┴─────────┴─────────┴─────────┴─────────┴─────────┴─────────┴─────────┴─────────┴─────────┴─────────┴─────────┴─────────┴─────────┴─────────┴─────────┴─────────┴─────────┴─────────┴─────────┴─────────┴─────────┴─────────┴─────────┴─────────┴─────────┴─────────┴─────────┴─────────┴─────────┴─────────┴─────────┴─────────┴─────────┴─────────┴─────────┴─────────┴─────────┘"
      ]
     },
     "execution_count": 20,
     "metadata": {},
     "output_type": "execute_result"
    }
   ],
   "source": [
    "wdi.filter(_.country_code==\"VEN\").head(3)"
   ]
  },
  {
   "cell_type": "markdown",
   "metadata": {},
   "source": [
    "#### Country codes in the data sets"
   ]
  },
  {
   "cell_type": "code",
   "execution_count": 21,
   "metadata": {},
   "outputs": [],
   "source": [
    "wdi_countries = np.unique(wdi.country_code.__array__()).tolist()"
   ]
  },
  {
   "cell_type": "code",
   "execution_count": 22,
   "metadata": {
    "tags": [
     "rm_cell"
    ]
   },
   "outputs": [
    {
     "data": {
      "text/plain": [
       "266"
      ]
     },
     "execution_count": 22,
     "metadata": {},
     "output_type": "execute_result"
    }
   ],
   "source": [
    "len(wdi_countries)"
   ]
  },
  {
   "cell_type": "code",
   "execution_count": 23,
   "metadata": {},
   "outputs": [
    {
     "data": {
      "text/plain": [
       "['ALB',\n",
       " 'ARG',\n",
       " 'AUS',\n",
       " 'AUT',\n",
       " 'AZE',\n",
       " 'BHS',\n",
       " 'BLR',\n",
       " 'BEL',\n",
       " 'BOL',\n",
       " 'BIH',\n",
       " 'BRA',\n",
       " 'BGR',\n",
       " 'CAN',\n",
       " 'CHL',\n",
       " 'CHN',\n",
       " 'COL',\n",
       " 'HRV',\n",
       " 'CZE',\n",
       " 'DNK',\n",
       " 'ECU',\n",
       " 'EGY',\n",
       " 'EST',\n",
       " 'FIN',\n",
       " 'FRA',\n",
       " 'GEO',\n",
       " 'DEU',\n",
       " 'GRC',\n",
       " 'HUN',\n",
       " 'IND',\n",
       " 'IDN',\n",
       " 'IRN',\n",
       " 'IRL',\n",
       " 'ITA',\n",
       " 'JPN',\n",
       " 'KAZ',\n",
       " 'KEN',\n",
       " 'KGZ',\n",
       " 'LVA',\n",
       " 'LTU',\n",
       " 'MKD',\n",
       " 'MYS',\n",
       " 'MEX',\n",
       " 'MNG',\n",
       " 'MAR',\n",
       " 'MOZ',\n",
       " 'NLD',\n",
       " 'ANT',\n",
       " 'NZL',\n",
       " 'NGA',\n",
       " 'NOR',\n",
       " 'PAN',\n",
       " 'PRY',\n",
       " 'PHL',\n",
       " 'POL',\n",
       " 'PRT',\n",
       " 'ROU',\n",
       " 'RUS',\n",
       " 'SRB',\n",
       " 'SVK',\n",
       " 'SVN',\n",
       " 'ZAF',\n",
       " 'KOR',\n",
       " 'ESP',\n",
       " 'LKA',\n",
       " 'SWE',\n",
       " 'CHE',\n",
       " 'TZA',\n",
       " 'THA',\n",
       " 'TUR',\n",
       " 'GBR',\n",
       " 'USA',\n",
       " 'UKR',\n",
       " 'UZB',\n",
       " 'VNM']"
      ]
     },
     "execution_count": 23,
     "metadata": {},
     "output_type": "execute_result"
    }
   ],
   "source": [
    "dose_countries = dose.filter(_.year==str(year)).gid_0.to_pandas().unique().tolist()\n",
    "dose_countries"
   ]
  },
  {
   "cell_type": "code",
   "execution_count": 24,
   "metadata": {
    "tags": [
     "rm_cell"
    ]
   },
   "outputs": [
    {
     "data": {
      "text/html": [
       "<pre style=\"white-space:pre;overflow-x:auto;line-height:normal;font-family:Menlo,'DejaVu Sans Mono',consolas,'Courier New',monospace\">┏━━━━━━━━━━━━━━━┳━━━━━━━━━━━━━━┳━━━━━━━━━━━━━━━━━━━━━━━━━━━━━━━━━━━━━━━━━━━━━━━━━━━━━━━━━━━━━━━━━━━━━━━━━━━━━━━━━━┳━━━━━━━━━━━━━━━━━━━┳━━━━━━━━━┳━━━━━━━━━┳━━━━━━━━━┳━━━━━━━━━┳━━━━━━━━━┳━━━━━━━━━┳━━━━━━━━━┳━━━━━━━━━┳━━━━━━━━━┳━━━━━━━━━┳━━━━━━━━━┳━━━━━━━━━┳━━━━━━━━━┳━━━━━━━━━┳━━━━━━━━━┳━━━━━━━━━┳━━━━━━━━━┳━━━━━━━━━┳━━━━━━━━━┳━━━━━━━━━┳━━━━━━━━━┳━━━━━━━━━┳━━━━━━━━━┳━━━━━━━━━┳━━━━━━━━━┳━━━━━━━━━┳━━━━━━━━━┳━━━━━━━━━┳━━━━━━━━━┳━━━━━━━━━┳━━━━━━━━━┳━━━━━━━━━┳━━━━━━━━━━━┳━━━━━━━━━━━┳━━━━━━━━━━━┳━━━━━━━━━━━┳━━━━━━━━━━━┳━━━━━━━━━━━┳━━━━━━━━━━┳━━━━━━━━━━━┳━━━━━━━━━┳━━━━━━━━━┳━━━━━━━━━┳━━━━━━━━━┳━━━━━━━━━┳━━━━━━━━━┳━━━━━━━━━┳━━━━━━━━━┳━━━━━━━━━┳━━━━━━━━━┳━━━━━━━━━┳━━━━━━━━━┳━━━━━━━━━┳━━━━━━━━━┳━━━━━━━━━┳━━━━━━━━━┳━━━━━━━━━┳━━━━━━━━━┳━━━━━━━━━┳━━━━━━━━━┳━━━━━━━━━┳━━━━━━━━━┳━━━━━━━━━┳━━━━━━━━━┓\n",
       "┃<span style=\"font-weight: bold\"> country_name  </span>┃<span style=\"font-weight: bold\"> country_code </span>┃<span style=\"font-weight: bold\"> indicator_name                                                                   </span>┃<span style=\"font-weight: bold\"> indicator_code    </span>┃<span style=\"font-weight: bold\"> 1960    </span>┃<span style=\"font-weight: bold\"> 1961    </span>┃<span style=\"font-weight: bold\"> 1962    </span>┃<span style=\"font-weight: bold\"> 1963    </span>┃<span style=\"font-weight: bold\"> 1964    </span>┃<span style=\"font-weight: bold\"> 1965    </span>┃<span style=\"font-weight: bold\"> 1966    </span>┃<span style=\"font-weight: bold\"> 1967    </span>┃<span style=\"font-weight: bold\"> 1968    </span>┃<span style=\"font-weight: bold\"> 1969    </span>┃<span style=\"font-weight: bold\"> 1970    </span>┃<span style=\"font-weight: bold\"> 1971    </span>┃<span style=\"font-weight: bold\"> 1972    </span>┃<span style=\"font-weight: bold\"> 1973    </span>┃<span style=\"font-weight: bold\"> 1974    </span>┃<span style=\"font-weight: bold\"> 1975    </span>┃<span style=\"font-weight: bold\"> 1976    </span>┃<span style=\"font-weight: bold\"> 1977    </span>┃<span style=\"font-weight: bold\"> 1978    </span>┃<span style=\"font-weight: bold\"> 1979    </span>┃<span style=\"font-weight: bold\"> 1980    </span>┃<span style=\"font-weight: bold\"> 1981    </span>┃<span style=\"font-weight: bold\"> 1982    </span>┃<span style=\"font-weight: bold\"> 1983    </span>┃<span style=\"font-weight: bold\"> 1984    </span>┃<span style=\"font-weight: bold\"> 1985    </span>┃<span style=\"font-weight: bold\"> 1986    </span>┃<span style=\"font-weight: bold\"> 1987    </span>┃<span style=\"font-weight: bold\"> 1988    </span>┃<span style=\"font-weight: bold\"> 1989    </span>┃<span style=\"font-weight: bold\"> 1990    </span>┃<span style=\"font-weight: bold\"> 1991    </span>┃<span style=\"font-weight: bold\"> 1992      </span>┃<span style=\"font-weight: bold\"> 1993      </span>┃<span style=\"font-weight: bold\"> 1994      </span>┃<span style=\"font-weight: bold\"> 1995      </span>┃<span style=\"font-weight: bold\"> 1996      </span>┃<span style=\"font-weight: bold\"> 1997      </span>┃<span style=\"font-weight: bold\"> 1998     </span>┃<span style=\"font-weight: bold\"> 1999      </span>┃<span style=\"font-weight: bold\"> 2000    </span>┃<span style=\"font-weight: bold\"> 2001    </span>┃<span style=\"font-weight: bold\"> 2002    </span>┃<span style=\"font-weight: bold\"> 2003    </span>┃<span style=\"font-weight: bold\"> 2004    </span>┃<span style=\"font-weight: bold\"> 2005    </span>┃<span style=\"font-weight: bold\"> 2006    </span>┃<span style=\"font-weight: bold\"> 2007    </span>┃<span style=\"font-weight: bold\"> 2008    </span>┃<span style=\"font-weight: bold\"> 2009    </span>┃<span style=\"font-weight: bold\"> 2010    </span>┃<span style=\"font-weight: bold\"> 2011    </span>┃<span style=\"font-weight: bold\"> 2012    </span>┃<span style=\"font-weight: bold\"> 2013    </span>┃<span style=\"font-weight: bold\"> 2014    </span>┃<span style=\"font-weight: bold\"> 2015    </span>┃<span style=\"font-weight: bold\"> 2016    </span>┃<span style=\"font-weight: bold\"> 2017    </span>┃<span style=\"font-weight: bold\"> 2018    </span>┃<span style=\"font-weight: bold\"> 2019    </span>┃<span style=\"font-weight: bold\"> 2020    </span>┃<span style=\"font-weight: bold\"> 2021    </span>┃<span style=\"font-weight: bold\"> 2022    </span>┃<span style=\"font-weight: bold\"> 2023    </span>┃\n",
       "┡━━━━━━━━━━━━━━━╇━━━━━━━━━━━━━━╇━━━━━━━━━━━━━━━━━━━━━━━━━━━━━━━━━━━━━━━━━━━━━━━━━━━━━━━━━━━━━━━━━━━━━━━━━━━━━━━━━━╇━━━━━━━━━━━━━━━━━━━╇━━━━━━━━━╇━━━━━━━━━╇━━━━━━━━━╇━━━━━━━━━╇━━━━━━━━━╇━━━━━━━━━╇━━━━━━━━━╇━━━━━━━━━╇━━━━━━━━━╇━━━━━━━━━╇━━━━━━━━━╇━━━━━━━━━╇━━━━━━━━━╇━━━━━━━━━╇━━━━━━━━━╇━━━━━━━━━╇━━━━━━━━━╇━━━━━━━━━╇━━━━━━━━━╇━━━━━━━━━╇━━━━━━━━━╇━━━━━━━━━╇━━━━━━━━━╇━━━━━━━━━╇━━━━━━━━━╇━━━━━━━━━╇━━━━━━━━━╇━━━━━━━━━╇━━━━━━━━━╇━━━━━━━━━╇━━━━━━━━━╇━━━━━━━━━╇━━━━━━━━━━━╇━━━━━━━━━━━╇━━━━━━━━━━━╇━━━━━━━━━━━╇━━━━━━━━━━━╇━━━━━━━━━━━╇━━━━━━━━━━╇━━━━━━━━━━━╇━━━━━━━━━╇━━━━━━━━━╇━━━━━━━━━╇━━━━━━━━━╇━━━━━━━━━╇━━━━━━━━━╇━━━━━━━━━╇━━━━━━━━━╇━━━━━━━━━╇━━━━━━━━━╇━━━━━━━━━╇━━━━━━━━━╇━━━━━━━━━╇━━━━━━━━━╇━━━━━━━━━╇━━━━━━━━━╇━━━━━━━━━╇━━━━━━━━━╇━━━━━━━━━╇━━━━━━━━━╇━━━━━━━━━╇━━━━━━━━━╇━━━━━━━━━╇━━━━━━━━━┩\n",
       "│ <span style=\"color: #7f7f7f; text-decoration-color: #7f7f7f\">string</span>        │ <span style=\"color: #7f7f7f; text-decoration-color: #7f7f7f\">string</span>       │ <span style=\"color: #7f7f7f; text-decoration-color: #7f7f7f\">string</span>                                                                           │ <span style=\"color: #7f7f7f; text-decoration-color: #7f7f7f\">string</span>            │ <span style=\"color: #7f7f7f; text-decoration-color: #7f7f7f\">float64</span> │ <span style=\"color: #7f7f7f; text-decoration-color: #7f7f7f\">float64</span> │ <span style=\"color: #7f7f7f; text-decoration-color: #7f7f7f\">float64</span> │ <span style=\"color: #7f7f7f; text-decoration-color: #7f7f7f\">float64</span> │ <span style=\"color: #7f7f7f; text-decoration-color: #7f7f7f\">float64</span> │ <span style=\"color: #7f7f7f; text-decoration-color: #7f7f7f\">float64</span> │ <span style=\"color: #7f7f7f; text-decoration-color: #7f7f7f\">float64</span> │ <span style=\"color: #7f7f7f; text-decoration-color: #7f7f7f\">float64</span> │ <span style=\"color: #7f7f7f; text-decoration-color: #7f7f7f\">float64</span> │ <span style=\"color: #7f7f7f; text-decoration-color: #7f7f7f\">float64</span> │ <span style=\"color: #7f7f7f; text-decoration-color: #7f7f7f\">float64</span> │ <span style=\"color: #7f7f7f; text-decoration-color: #7f7f7f\">float64</span> │ <span style=\"color: #7f7f7f; text-decoration-color: #7f7f7f\">float64</span> │ <span style=\"color: #7f7f7f; text-decoration-color: #7f7f7f\">float64</span> │ <span style=\"color: #7f7f7f; text-decoration-color: #7f7f7f\">float64</span> │ <span style=\"color: #7f7f7f; text-decoration-color: #7f7f7f\">float64</span> │ <span style=\"color: #7f7f7f; text-decoration-color: #7f7f7f\">float64</span> │ <span style=\"color: #7f7f7f; text-decoration-color: #7f7f7f\">float64</span> │ <span style=\"color: #7f7f7f; text-decoration-color: #7f7f7f\">float64</span> │ <span style=\"color: #7f7f7f; text-decoration-color: #7f7f7f\">float64</span> │ <span style=\"color: #7f7f7f; text-decoration-color: #7f7f7f\">float64</span> │ <span style=\"color: #7f7f7f; text-decoration-color: #7f7f7f\">float64</span> │ <span style=\"color: #7f7f7f; text-decoration-color: #7f7f7f\">float64</span> │ <span style=\"color: #7f7f7f; text-decoration-color: #7f7f7f\">float64</span> │ <span style=\"color: #7f7f7f; text-decoration-color: #7f7f7f\">float64</span> │ <span style=\"color: #7f7f7f; text-decoration-color: #7f7f7f\">float64</span> │ <span style=\"color: #7f7f7f; text-decoration-color: #7f7f7f\">float64</span> │ <span style=\"color: #7f7f7f; text-decoration-color: #7f7f7f\">float64</span> │ <span style=\"color: #7f7f7f; text-decoration-color: #7f7f7f\">float64</span> │ <span style=\"color: #7f7f7f; text-decoration-color: #7f7f7f\">float64</span> │ <span style=\"color: #7f7f7f; text-decoration-color: #7f7f7f\">float64</span> │ <span style=\"color: #7f7f7f; text-decoration-color: #7f7f7f\">float64</span> │ <span style=\"color: #7f7f7f; text-decoration-color: #7f7f7f\">float64</span>   │ <span style=\"color: #7f7f7f; text-decoration-color: #7f7f7f\">float64</span>   │ <span style=\"color: #7f7f7f; text-decoration-color: #7f7f7f\">float64</span>   │ <span style=\"color: #7f7f7f; text-decoration-color: #7f7f7f\">float64</span>   │ <span style=\"color: #7f7f7f; text-decoration-color: #7f7f7f\">float64</span>   │ <span style=\"color: #7f7f7f; text-decoration-color: #7f7f7f\">float64</span>   │ <span style=\"color: #7f7f7f; text-decoration-color: #7f7f7f\">float64</span>  │ <span style=\"color: #7f7f7f; text-decoration-color: #7f7f7f\">float64</span>   │ <span style=\"color: #7f7f7f; text-decoration-color: #7f7f7f\">float64</span> │ <span style=\"color: #7f7f7f; text-decoration-color: #7f7f7f\">float64</span> │ <span style=\"color: #7f7f7f; text-decoration-color: #7f7f7f\">float64</span> │ <span style=\"color: #7f7f7f; text-decoration-color: #7f7f7f\">float64</span> │ <span style=\"color: #7f7f7f; text-decoration-color: #7f7f7f\">float64</span> │ <span style=\"color: #7f7f7f; text-decoration-color: #7f7f7f\">float64</span> │ <span style=\"color: #7f7f7f; text-decoration-color: #7f7f7f\">float64</span> │ <span style=\"color: #7f7f7f; text-decoration-color: #7f7f7f\">float64</span> │ <span style=\"color: #7f7f7f; text-decoration-color: #7f7f7f\">float64</span> │ <span style=\"color: #7f7f7f; text-decoration-color: #7f7f7f\">float64</span> │ <span style=\"color: #7f7f7f; text-decoration-color: #7f7f7f\">float64</span> │ <span style=\"color: #7f7f7f; text-decoration-color: #7f7f7f\">float64</span> │ <span style=\"color: #7f7f7f; text-decoration-color: #7f7f7f\">float64</span> │ <span style=\"color: #7f7f7f; text-decoration-color: #7f7f7f\">float64</span> │ <span style=\"color: #7f7f7f; text-decoration-color: #7f7f7f\">float64</span> │ <span style=\"color: #7f7f7f; text-decoration-color: #7f7f7f\">float64</span> │ <span style=\"color: #7f7f7f; text-decoration-color: #7f7f7f\">float64</span> │ <span style=\"color: #7f7f7f; text-decoration-color: #7f7f7f\">float64</span> │ <span style=\"color: #7f7f7f; text-decoration-color: #7f7f7f\">float64</span> │ <span style=\"color: #7f7f7f; text-decoration-color: #7f7f7f\">float64</span> │ <span style=\"color: #7f7f7f; text-decoration-color: #7f7f7f\">float64</span> │ <span style=\"color: #7f7f7f; text-decoration-color: #7f7f7f\">float64</span> │ <span style=\"color: #7f7f7f; text-decoration-color: #7f7f7f\">float64</span> │ <span style=\"color: #7f7f7f; text-decoration-color: #7f7f7f\">float64</span> │\n",
       "├───────────────┼──────────────┼──────────────────────────────────────────────────────────────────────────────────┼───────────────────┼─────────┼─────────┼─────────┼─────────┼─────────┼─────────┼─────────┼─────────┼─────────┼─────────┼─────────┼─────────┼─────────┼─────────┼─────────┼─────────┼─────────┼─────────┼─────────┼─────────┼─────────┼─────────┼─────────┼─────────┼─────────┼─────────┼─────────┼─────────┼─────────┼─────────┼─────────┼─────────┼───────────┼───────────┼───────────┼───────────┼───────────┼───────────┼──────────┼───────────┼─────────┼─────────┼─────────┼─────────┼─────────┼─────────┼─────────┼─────────┼─────────┼─────────┼─────────┼─────────┼─────────┼─────────┼─────────┼─────────┼─────────┼─────────┼─────────┼─────────┼─────────┼─────────┼─────────┼─────────┤\n",
       "│ <span style=\"color: #008000; text-decoration-color: #008000\">Venezuela, RB</span> │ <span style=\"color: #008000; text-decoration-color: #008000\">VEN         </span> │ <span style=\"color: #008000; text-decoration-color: #008000\">Access to clean fuels and technologies for cooking (% of population)            </span> │ <span style=\"color: #008000; text-decoration-color: #008000\">EG.CFT.ACCS.ZS   </span> │    <span style=\"color: #7f7f7f; text-decoration-color: #7f7f7f\">NULL</span> │    <span style=\"color: #7f7f7f; text-decoration-color: #7f7f7f\">NULL</span> │    <span style=\"color: #7f7f7f; text-decoration-color: #7f7f7f\">NULL</span> │    <span style=\"color: #7f7f7f; text-decoration-color: #7f7f7f\">NULL</span> │    <span style=\"color: #7f7f7f; text-decoration-color: #7f7f7f\">NULL</span> │    <span style=\"color: #7f7f7f; text-decoration-color: #7f7f7f\">NULL</span> │    <span style=\"color: #7f7f7f; text-decoration-color: #7f7f7f\">NULL</span> │    <span style=\"color: #7f7f7f; text-decoration-color: #7f7f7f\">NULL</span> │    <span style=\"color: #7f7f7f; text-decoration-color: #7f7f7f\">NULL</span> │    <span style=\"color: #7f7f7f; text-decoration-color: #7f7f7f\">NULL</span> │    <span style=\"color: #7f7f7f; text-decoration-color: #7f7f7f\">NULL</span> │    <span style=\"color: #7f7f7f; text-decoration-color: #7f7f7f\">NULL</span> │    <span style=\"color: #7f7f7f; text-decoration-color: #7f7f7f\">NULL</span> │    <span style=\"color: #7f7f7f; text-decoration-color: #7f7f7f\">NULL</span> │    <span style=\"color: #7f7f7f; text-decoration-color: #7f7f7f\">NULL</span> │    <span style=\"color: #7f7f7f; text-decoration-color: #7f7f7f\">NULL</span> │    <span style=\"color: #7f7f7f; text-decoration-color: #7f7f7f\">NULL</span> │    <span style=\"color: #7f7f7f; text-decoration-color: #7f7f7f\">NULL</span> │    <span style=\"color: #7f7f7f; text-decoration-color: #7f7f7f\">NULL</span> │    <span style=\"color: #7f7f7f; text-decoration-color: #7f7f7f\">NULL</span> │    <span style=\"color: #7f7f7f; text-decoration-color: #7f7f7f\">NULL</span> │    <span style=\"color: #7f7f7f; text-decoration-color: #7f7f7f\">NULL</span> │    <span style=\"color: #7f7f7f; text-decoration-color: #7f7f7f\">NULL</span> │    <span style=\"color: #7f7f7f; text-decoration-color: #7f7f7f\">NULL</span> │    <span style=\"color: #7f7f7f; text-decoration-color: #7f7f7f\">NULL</span> │    <span style=\"color: #7f7f7f; text-decoration-color: #7f7f7f\">NULL</span> │    <span style=\"color: #7f7f7f; text-decoration-color: #7f7f7f\">NULL</span> │    <span style=\"color: #7f7f7f; text-decoration-color: #7f7f7f\">NULL</span> │    <span style=\"color: #7f7f7f; text-decoration-color: #7f7f7f\">NULL</span> │    <span style=\"color: #7f7f7f; text-decoration-color: #7f7f7f\">NULL</span> │    <span style=\"color: #7f7f7f; text-decoration-color: #7f7f7f\">NULL</span> │    <span style=\"color: #7f7f7f; text-decoration-color: #7f7f7f\">NULL</span> │      <span style=\"color: #7f7f7f; text-decoration-color: #7f7f7f\">NULL</span> │      <span style=\"color: #7f7f7f; text-decoration-color: #7f7f7f\">NULL</span> │      <span style=\"color: #7f7f7f; text-decoration-color: #7f7f7f\">NULL</span> │      <span style=\"color: #7f7f7f; text-decoration-color: #7f7f7f\">NULL</span> │      <span style=\"color: #7f7f7f; text-decoration-color: #7f7f7f\">NULL</span> │      <span style=\"color: #7f7f7f; text-decoration-color: #7f7f7f\">NULL</span> │     <span style=\"color: #7f7f7f; text-decoration-color: #7f7f7f\">NULL</span> │      <span style=\"color: #7f7f7f; text-decoration-color: #7f7f7f\">NULL</span> │    <span style=\"color: #008080; text-decoration-color: #008080; font-weight: bold\">97.2</span> │    <span style=\"color: #008080; text-decoration-color: #008080; font-weight: bold\">97.2</span> │    <span style=\"color: #008080; text-decoration-color: #008080; font-weight: bold\">97.0</span> │    <span style=\"color: #008080; text-decoration-color: #008080; font-weight: bold\">96.9</span> │    <span style=\"color: #008080; text-decoration-color: #008080; font-weight: bold\">96.9</span> │    <span style=\"color: #008080; text-decoration-color: #008080; font-weight: bold\">96.9</span> │    <span style=\"color: #008080; text-decoration-color: #008080; font-weight: bold\">96.8</span> │    <span style=\"color: #008080; text-decoration-color: #008080; font-weight: bold\">96.8</span> │    <span style=\"color: #008080; text-decoration-color: #008080; font-weight: bold\">96.7</span> │    <span style=\"color: #008080; text-decoration-color: #008080; font-weight: bold\">96.8</span> │    <span style=\"color: #008080; text-decoration-color: #008080; font-weight: bold\">96.7</span> │   <span style=\"color: #008080; text-decoration-color: #008080; font-weight: bold\">96.60</span> │    <span style=\"color: #008080; text-decoration-color: #008080; font-weight: bold\">96.8</span> │    <span style=\"color: #008080; text-decoration-color: #008080; font-weight: bold\">96.6</span> │   <span style=\"color: #008080; text-decoration-color: #008080; font-weight: bold\">96.60</span> │   <span style=\"color: #008080; text-decoration-color: #008080; font-weight: bold\">96.40</span> │    <span style=\"color: #008080; text-decoration-color: #008080; font-weight: bold\">96.2</span> │   <span style=\"color: #008080; text-decoration-color: #008080; font-weight: bold\">96.10</span> │    <span style=\"color: #008080; text-decoration-color: #008080; font-weight: bold\">95.9</span> │    <span style=\"color: #008080; text-decoration-color: #008080; font-weight: bold\">95.8</span> │    <span style=\"color: #008080; text-decoration-color: #008080; font-weight: bold\">95.5</span> │   <span style=\"color: #008080; text-decoration-color: #008080; font-weight: bold\">95.10</span> │    <span style=\"color: #008080; text-decoration-color: #008080; font-weight: bold\">95.0</span> │    <span style=\"color: #7f7f7f; text-decoration-color: #7f7f7f\">NULL</span> │\n",
       "│ <span style=\"color: #008000; text-decoration-color: #008000\">Venezuela, RB</span> │ <span style=\"color: #008000; text-decoration-color: #008000\">VEN         </span> │ <span style=\"color: #008000; text-decoration-color: #008000\">Access to clean fuels and technologies for cooking, rural (% of rural populatio…</span> │ <span style=\"color: #008000; text-decoration-color: #008000\">EG.CFT.ACCS.RU.ZS</span> │    <span style=\"color: #7f7f7f; text-decoration-color: #7f7f7f\">NULL</span> │    <span style=\"color: #7f7f7f; text-decoration-color: #7f7f7f\">NULL</span> │    <span style=\"color: #7f7f7f; text-decoration-color: #7f7f7f\">NULL</span> │    <span style=\"color: #7f7f7f; text-decoration-color: #7f7f7f\">NULL</span> │    <span style=\"color: #7f7f7f; text-decoration-color: #7f7f7f\">NULL</span> │    <span style=\"color: #7f7f7f; text-decoration-color: #7f7f7f\">NULL</span> │    <span style=\"color: #7f7f7f; text-decoration-color: #7f7f7f\">NULL</span> │    <span style=\"color: #7f7f7f; text-decoration-color: #7f7f7f\">NULL</span> │    <span style=\"color: #7f7f7f; text-decoration-color: #7f7f7f\">NULL</span> │    <span style=\"color: #7f7f7f; text-decoration-color: #7f7f7f\">NULL</span> │    <span style=\"color: #7f7f7f; text-decoration-color: #7f7f7f\">NULL</span> │    <span style=\"color: #7f7f7f; text-decoration-color: #7f7f7f\">NULL</span> │    <span style=\"color: #7f7f7f; text-decoration-color: #7f7f7f\">NULL</span> │    <span style=\"color: #7f7f7f; text-decoration-color: #7f7f7f\">NULL</span> │    <span style=\"color: #7f7f7f; text-decoration-color: #7f7f7f\">NULL</span> │    <span style=\"color: #7f7f7f; text-decoration-color: #7f7f7f\">NULL</span> │    <span style=\"color: #7f7f7f; text-decoration-color: #7f7f7f\">NULL</span> │    <span style=\"color: #7f7f7f; text-decoration-color: #7f7f7f\">NULL</span> │    <span style=\"color: #7f7f7f; text-decoration-color: #7f7f7f\">NULL</span> │    <span style=\"color: #7f7f7f; text-decoration-color: #7f7f7f\">NULL</span> │    <span style=\"color: #7f7f7f; text-decoration-color: #7f7f7f\">NULL</span> │    <span style=\"color: #7f7f7f; text-decoration-color: #7f7f7f\">NULL</span> │    <span style=\"color: #7f7f7f; text-decoration-color: #7f7f7f\">NULL</span> │    <span style=\"color: #7f7f7f; text-decoration-color: #7f7f7f\">NULL</span> │    <span style=\"color: #7f7f7f; text-decoration-color: #7f7f7f\">NULL</span> │    <span style=\"color: #7f7f7f; text-decoration-color: #7f7f7f\">NULL</span> │    <span style=\"color: #7f7f7f; text-decoration-color: #7f7f7f\">NULL</span> │    <span style=\"color: #7f7f7f; text-decoration-color: #7f7f7f\">NULL</span> │    <span style=\"color: #7f7f7f; text-decoration-color: #7f7f7f\">NULL</span> │    <span style=\"color: #7f7f7f; text-decoration-color: #7f7f7f\">NULL</span> │    <span style=\"color: #7f7f7f; text-decoration-color: #7f7f7f\">NULL</span> │    <span style=\"color: #7f7f7f; text-decoration-color: #7f7f7f\">NULL</span> │      <span style=\"color: #7f7f7f; text-decoration-color: #7f7f7f\">NULL</span> │      <span style=\"color: #7f7f7f; text-decoration-color: #7f7f7f\">NULL</span> │      <span style=\"color: #7f7f7f; text-decoration-color: #7f7f7f\">NULL</span> │      <span style=\"color: #7f7f7f; text-decoration-color: #7f7f7f\">NULL</span> │      <span style=\"color: #7f7f7f; text-decoration-color: #7f7f7f\">NULL</span> │      <span style=\"color: #7f7f7f; text-decoration-color: #7f7f7f\">NULL</span> │     <span style=\"color: #7f7f7f; text-decoration-color: #7f7f7f\">NULL</span> │      <span style=\"color: #7f7f7f; text-decoration-color: #7f7f7f\">NULL</span> │    <span style=\"color: #008080; text-decoration-color: #008080; font-weight: bold\">77.1</span> │    <span style=\"color: #008080; text-decoration-color: #008080; font-weight: bold\">76.5</span> │    <span style=\"color: #008080; text-decoration-color: #008080; font-weight: bold\">76.4</span> │    <span style=\"color: #008080; text-decoration-color: #008080; font-weight: bold\">76.0</span> │    <span style=\"color: #008080; text-decoration-color: #008080; font-weight: bold\">76.8</span> │    <span style=\"color: #008080; text-decoration-color: #008080; font-weight: bold\">76.6</span> │    <span style=\"color: #008080; text-decoration-color: #008080; font-weight: bold\">77.0</span> │    <span style=\"color: #008080; text-decoration-color: #008080; font-weight: bold\">77.8</span> │    <span style=\"color: #008080; text-decoration-color: #008080; font-weight: bold\">78.5</span> │    <span style=\"color: #008080; text-decoration-color: #008080; font-weight: bold\">79.2</span> │    <span style=\"color: #008080; text-decoration-color: #008080; font-weight: bold\">79.9</span> │   <span style=\"color: #008080; text-decoration-color: #008080; font-weight: bold\">80.60</span> │    <span style=\"color: #008080; text-decoration-color: #008080; font-weight: bold\">81.6</span> │    <span style=\"color: #008080; text-decoration-color: #008080; font-weight: bold\">82.3</span> │   <span style=\"color: #008080; text-decoration-color: #008080; font-weight: bold\">82.90</span> │   <span style=\"color: #008080; text-decoration-color: #008080; font-weight: bold\">83.55</span> │    <span style=\"color: #008080; text-decoration-color: #008080; font-weight: bold\">84.6</span> │   <span style=\"color: #008080; text-decoration-color: #008080; font-weight: bold\">84.80</span> │    <span style=\"color: #008080; text-decoration-color: #008080; font-weight: bold\">85.6</span> │    <span style=\"color: #008080; text-decoration-color: #008080; font-weight: bold\">86.0</span> │    <span style=\"color: #008080; text-decoration-color: #008080; font-weight: bold\">86.1</span> │   <span style=\"color: #008080; text-decoration-color: #008080; font-weight: bold\">86.50</span> │    <span style=\"color: #008080; text-decoration-color: #008080; font-weight: bold\">87.5</span> │    <span style=\"color: #7f7f7f; text-decoration-color: #7f7f7f\">NULL</span> │\n",
       "│ <span style=\"color: #008000; text-decoration-color: #008000\">Venezuela, RB</span> │ <span style=\"color: #008000; text-decoration-color: #008000\">VEN         </span> │ <span style=\"color: #008000; text-decoration-color: #008000\">Access to clean fuels and technologies for cooking, urban (% of urban populatio…</span> │ <span style=\"color: #008000; text-decoration-color: #008000\">EG.CFT.ACCS.UR.ZS</span> │    <span style=\"color: #7f7f7f; text-decoration-color: #7f7f7f\">NULL</span> │    <span style=\"color: #7f7f7f; text-decoration-color: #7f7f7f\">NULL</span> │    <span style=\"color: #7f7f7f; text-decoration-color: #7f7f7f\">NULL</span> │    <span style=\"color: #7f7f7f; text-decoration-color: #7f7f7f\">NULL</span> │    <span style=\"color: #7f7f7f; text-decoration-color: #7f7f7f\">NULL</span> │    <span style=\"color: #7f7f7f; text-decoration-color: #7f7f7f\">NULL</span> │    <span style=\"color: #7f7f7f; text-decoration-color: #7f7f7f\">NULL</span> │    <span style=\"color: #7f7f7f; text-decoration-color: #7f7f7f\">NULL</span> │    <span style=\"color: #7f7f7f; text-decoration-color: #7f7f7f\">NULL</span> │    <span style=\"color: #7f7f7f; text-decoration-color: #7f7f7f\">NULL</span> │    <span style=\"color: #7f7f7f; text-decoration-color: #7f7f7f\">NULL</span> │    <span style=\"color: #7f7f7f; text-decoration-color: #7f7f7f\">NULL</span> │    <span style=\"color: #7f7f7f; text-decoration-color: #7f7f7f\">NULL</span> │    <span style=\"color: #7f7f7f; text-decoration-color: #7f7f7f\">NULL</span> │    <span style=\"color: #7f7f7f; text-decoration-color: #7f7f7f\">NULL</span> │    <span style=\"color: #7f7f7f; text-decoration-color: #7f7f7f\">NULL</span> │    <span style=\"color: #7f7f7f; text-decoration-color: #7f7f7f\">NULL</span> │    <span style=\"color: #7f7f7f; text-decoration-color: #7f7f7f\">NULL</span> │    <span style=\"color: #7f7f7f; text-decoration-color: #7f7f7f\">NULL</span> │    <span style=\"color: #7f7f7f; text-decoration-color: #7f7f7f\">NULL</span> │    <span style=\"color: #7f7f7f; text-decoration-color: #7f7f7f\">NULL</span> │    <span style=\"color: #7f7f7f; text-decoration-color: #7f7f7f\">NULL</span> │    <span style=\"color: #7f7f7f; text-decoration-color: #7f7f7f\">NULL</span> │    <span style=\"color: #7f7f7f; text-decoration-color: #7f7f7f\">NULL</span> │    <span style=\"color: #7f7f7f; text-decoration-color: #7f7f7f\">NULL</span> │    <span style=\"color: #7f7f7f; text-decoration-color: #7f7f7f\">NULL</span> │    <span style=\"color: #7f7f7f; text-decoration-color: #7f7f7f\">NULL</span> │    <span style=\"color: #7f7f7f; text-decoration-color: #7f7f7f\">NULL</span> │    <span style=\"color: #7f7f7f; text-decoration-color: #7f7f7f\">NULL</span> │    <span style=\"color: #7f7f7f; text-decoration-color: #7f7f7f\">NULL</span> │    <span style=\"color: #7f7f7f; text-decoration-color: #7f7f7f\">NULL</span> │    <span style=\"color: #7f7f7f; text-decoration-color: #7f7f7f\">NULL</span> │      <span style=\"color: #7f7f7f; text-decoration-color: #7f7f7f\">NULL</span> │      <span style=\"color: #7f7f7f; text-decoration-color: #7f7f7f\">NULL</span> │      <span style=\"color: #7f7f7f; text-decoration-color: #7f7f7f\">NULL</span> │      <span style=\"color: #7f7f7f; text-decoration-color: #7f7f7f\">NULL</span> │      <span style=\"color: #7f7f7f; text-decoration-color: #7f7f7f\">NULL</span> │      <span style=\"color: #7f7f7f; text-decoration-color: #7f7f7f\">NULL</span> │     <span style=\"color: #7f7f7f; text-decoration-color: #7f7f7f\">NULL</span> │      <span style=\"color: #7f7f7f; text-decoration-color: #7f7f7f\">NULL</span> │    <span style=\"color: #008080; text-decoration-color: #008080; font-weight: bold\">99.5</span> │    <span style=\"color: #008080; text-decoration-color: #008080; font-weight: bold\">99.5</span> │    <span style=\"color: #008080; text-decoration-color: #008080; font-weight: bold\">99.4</span> │    <span style=\"color: #008080; text-decoration-color: #008080; font-weight: bold\">99.4</span> │    <span style=\"color: #008080; text-decoration-color: #008080; font-weight: bold\">99.3</span> │    <span style=\"color: #008080; text-decoration-color: #008080; font-weight: bold\">99.4</span> │    <span style=\"color: #008080; text-decoration-color: #008080; font-weight: bold\">99.3</span> │    <span style=\"color: #008080; text-decoration-color: #008080; font-weight: bold\">99.3</span> │    <span style=\"color: #008080; text-decoration-color: #008080; font-weight: bold\">99.2</span> │    <span style=\"color: #008080; text-decoration-color: #008080; font-weight: bold\">99.1</span> │    <span style=\"color: #008080; text-decoration-color: #008080; font-weight: bold\">99.0</span> │   <span style=\"color: #008080; text-decoration-color: #008080; font-weight: bold\">99.00</span> │    <span style=\"color: #008080; text-decoration-color: #008080; font-weight: bold\">98.9</span> │    <span style=\"color: #008080; text-decoration-color: #008080; font-weight: bold\">98.7</span> │   <span style=\"color: #008080; text-decoration-color: #008080; font-weight: bold\">98.60</span> │   <span style=\"color: #008080; text-decoration-color: #008080; font-weight: bold\">98.50</span> │    <span style=\"color: #008080; text-decoration-color: #008080; font-weight: bold\">98.4</span> │   <span style=\"color: #008080; text-decoration-color: #008080; font-weight: bold\">98.30</span> │    <span style=\"color: #008080; text-decoration-color: #008080; font-weight: bold\">98.0</span> │    <span style=\"color: #008080; text-decoration-color: #008080; font-weight: bold\">97.8</span> │    <span style=\"color: #008080; text-decoration-color: #008080; font-weight: bold\">97.7</span> │   <span style=\"color: #008080; text-decoration-color: #008080; font-weight: bold\">97.40</span> │    <span style=\"color: #008080; text-decoration-color: #008080; font-weight: bold\">97.3</span> │    <span style=\"color: #7f7f7f; text-decoration-color: #7f7f7f\">NULL</span> │\n",
       "│ <span style=\"color: #008000; text-decoration-color: #008000\">Venezuela, RB</span> │ <span style=\"color: #008000; text-decoration-color: #008000\">VEN         </span> │ <span style=\"color: #008000; text-decoration-color: #008000\">Access to electricity (% of population)                                         </span> │ <span style=\"color: #008000; text-decoration-color: #008000\">EG.ELC.ACCS.ZS   </span> │    <span style=\"color: #7f7f7f; text-decoration-color: #7f7f7f\">NULL</span> │    <span style=\"color: #7f7f7f; text-decoration-color: #7f7f7f\">NULL</span> │    <span style=\"color: #7f7f7f; text-decoration-color: #7f7f7f\">NULL</span> │    <span style=\"color: #7f7f7f; text-decoration-color: #7f7f7f\">NULL</span> │    <span style=\"color: #7f7f7f; text-decoration-color: #7f7f7f\">NULL</span> │    <span style=\"color: #7f7f7f; text-decoration-color: #7f7f7f\">NULL</span> │    <span style=\"color: #7f7f7f; text-decoration-color: #7f7f7f\">NULL</span> │    <span style=\"color: #7f7f7f; text-decoration-color: #7f7f7f\">NULL</span> │    <span style=\"color: #7f7f7f; text-decoration-color: #7f7f7f\">NULL</span> │    <span style=\"color: #7f7f7f; text-decoration-color: #7f7f7f\">NULL</span> │    <span style=\"color: #7f7f7f; text-decoration-color: #7f7f7f\">NULL</span> │    <span style=\"color: #7f7f7f; text-decoration-color: #7f7f7f\">NULL</span> │    <span style=\"color: #7f7f7f; text-decoration-color: #7f7f7f\">NULL</span> │    <span style=\"color: #7f7f7f; text-decoration-color: #7f7f7f\">NULL</span> │    <span style=\"color: #7f7f7f; text-decoration-color: #7f7f7f\">NULL</span> │    <span style=\"color: #7f7f7f; text-decoration-color: #7f7f7f\">NULL</span> │    <span style=\"color: #7f7f7f; text-decoration-color: #7f7f7f\">NULL</span> │    <span style=\"color: #7f7f7f; text-decoration-color: #7f7f7f\">NULL</span> │    <span style=\"color: #7f7f7f; text-decoration-color: #7f7f7f\">NULL</span> │    <span style=\"color: #7f7f7f; text-decoration-color: #7f7f7f\">NULL</span> │    <span style=\"color: #7f7f7f; text-decoration-color: #7f7f7f\">NULL</span> │    <span style=\"color: #7f7f7f; text-decoration-color: #7f7f7f\">NULL</span> │    <span style=\"color: #7f7f7f; text-decoration-color: #7f7f7f\">NULL</span> │    <span style=\"color: #7f7f7f; text-decoration-color: #7f7f7f\">NULL</span> │    <span style=\"color: #7f7f7f; text-decoration-color: #7f7f7f\">NULL</span> │    <span style=\"color: #7f7f7f; text-decoration-color: #7f7f7f\">NULL</span> │    <span style=\"color: #7f7f7f; text-decoration-color: #7f7f7f\">NULL</span> │    <span style=\"color: #7f7f7f; text-decoration-color: #7f7f7f\">NULL</span> │    <span style=\"color: #7f7f7f; text-decoration-color: #7f7f7f\">NULL</span> │    <span style=\"color: #7f7f7f; text-decoration-color: #7f7f7f\">NULL</span> │    <span style=\"color: #7f7f7f; text-decoration-color: #7f7f7f\">NULL</span> │    <span style=\"color: #7f7f7f; text-decoration-color: #7f7f7f\">NULL</span> │ <span style=\"color: #008080; text-decoration-color: #008080; font-weight: bold\">97.820203</span> │ <span style=\"color: #008080; text-decoration-color: #008080; font-weight: bold\">98.239532</span> │ <span style=\"color: #008080; text-decoration-color: #008080; font-weight: bold\">98.323334</span> │ <span style=\"color: #008080; text-decoration-color: #008080; font-weight: bold\">99.000000</span> │ <span style=\"color: #008080; text-decoration-color: #008080; font-weight: bold\">98.484131</span> │ <span style=\"color: #008080; text-decoration-color: #008080; font-weight: bold\">98.700000</span> │ <span style=\"color: #008080; text-decoration-color: #008080; font-weight: bold\">98.40000</span> │ <span style=\"color: #008080; text-decoration-color: #008080; font-weight: bold\">98.900000</span> │    <span style=\"color: #008080; text-decoration-color: #008080; font-weight: bold\">98.9</span> │    <span style=\"color: #008080; text-decoration-color: #008080; font-weight: bold\">99.9</span> │    <span style=\"color: #008080; text-decoration-color: #008080; font-weight: bold\">99.8</span> │    <span style=\"color: #008080; text-decoration-color: #008080; font-weight: bold\">95.7</span> │    <span style=\"color: #008080; text-decoration-color: #008080; font-weight: bold\">99.1</span> │    <span style=\"color: #008080; text-decoration-color: #008080; font-weight: bold\">98.8</span> │    <span style=\"color: #008080; text-decoration-color: #008080; font-weight: bold\">99.3</span> │    <span style=\"color: #008080; text-decoration-color: #008080; font-weight: bold\">98.9</span> │    <span style=\"color: #008080; text-decoration-color: #008080; font-weight: bold\">98.9</span> │    <span style=\"color: #008080; text-decoration-color: #008080; font-weight: bold\">99.0</span> │    <span style=\"color: #008080; text-decoration-color: #008080; font-weight: bold\">99.1</span> │   <span style=\"color: #008080; text-decoration-color: #008080; font-weight: bold\">98.80</span> │    <span style=\"color: #008080; text-decoration-color: #008080; font-weight: bold\">99.3</span> │    <span style=\"color: #008080; text-decoration-color: #008080; font-weight: bold\">99.4</span> │  <span style=\"color: #008080; text-decoration-color: #008080; font-weight: bold\">100.00</span> │  <span style=\"color: #008080; text-decoration-color: #008080; font-weight: bold\">100.00</span> │    <span style=\"color: #008080; text-decoration-color: #008080; font-weight: bold\">99.4</span> │   <span style=\"color: #008080; text-decoration-color: #008080; font-weight: bold\">99.20</span> │    <span style=\"color: #008080; text-decoration-color: #008080; font-weight: bold\">99.9</span> │    <span style=\"color: #008080; text-decoration-color: #008080; font-weight: bold\">99.8</span> │    <span style=\"color: #008080; text-decoration-color: #008080; font-weight: bold\">99.9</span> │  <span style=\"color: #008080; text-decoration-color: #008080; font-weight: bold\">100.00</span> │   <span style=\"color: #008080; text-decoration-color: #008080; font-weight: bold\">100.0</span> │    <span style=\"color: #7f7f7f; text-decoration-color: #7f7f7f\">NULL</span> │\n",
       "│ <span style=\"color: #008000; text-decoration-color: #008000\">Venezuela, RB</span> │ <span style=\"color: #008000; text-decoration-color: #008000\">VEN         </span> │ <span style=\"color: #008000; text-decoration-color: #008000\">Access to electricity, rural (% of rural population)                            </span> │ <span style=\"color: #008000; text-decoration-color: #008000\">EG.ELC.ACCS.RU.ZS</span> │    <span style=\"color: #7f7f7f; text-decoration-color: #7f7f7f\">NULL</span> │    <span style=\"color: #7f7f7f; text-decoration-color: #7f7f7f\">NULL</span> │    <span style=\"color: #7f7f7f; text-decoration-color: #7f7f7f\">NULL</span> │    <span style=\"color: #7f7f7f; text-decoration-color: #7f7f7f\">NULL</span> │    <span style=\"color: #7f7f7f; text-decoration-color: #7f7f7f\">NULL</span> │    <span style=\"color: #7f7f7f; text-decoration-color: #7f7f7f\">NULL</span> │    <span style=\"color: #7f7f7f; text-decoration-color: #7f7f7f\">NULL</span> │    <span style=\"color: #7f7f7f; text-decoration-color: #7f7f7f\">NULL</span> │    <span style=\"color: #7f7f7f; text-decoration-color: #7f7f7f\">NULL</span> │    <span style=\"color: #7f7f7f; text-decoration-color: #7f7f7f\">NULL</span> │    <span style=\"color: #7f7f7f; text-decoration-color: #7f7f7f\">NULL</span> │    <span style=\"color: #7f7f7f; text-decoration-color: #7f7f7f\">NULL</span> │    <span style=\"color: #7f7f7f; text-decoration-color: #7f7f7f\">NULL</span> │    <span style=\"color: #7f7f7f; text-decoration-color: #7f7f7f\">NULL</span> │    <span style=\"color: #7f7f7f; text-decoration-color: #7f7f7f\">NULL</span> │    <span style=\"color: #7f7f7f; text-decoration-color: #7f7f7f\">NULL</span> │    <span style=\"color: #7f7f7f; text-decoration-color: #7f7f7f\">NULL</span> │    <span style=\"color: #7f7f7f; text-decoration-color: #7f7f7f\">NULL</span> │    <span style=\"color: #7f7f7f; text-decoration-color: #7f7f7f\">NULL</span> │    <span style=\"color: #7f7f7f; text-decoration-color: #7f7f7f\">NULL</span> │    <span style=\"color: #7f7f7f; text-decoration-color: #7f7f7f\">NULL</span> │    <span style=\"color: #7f7f7f; text-decoration-color: #7f7f7f\">NULL</span> │    <span style=\"color: #7f7f7f; text-decoration-color: #7f7f7f\">NULL</span> │    <span style=\"color: #7f7f7f; text-decoration-color: #7f7f7f\">NULL</span> │    <span style=\"color: #7f7f7f; text-decoration-color: #7f7f7f\">NULL</span> │    <span style=\"color: #7f7f7f; text-decoration-color: #7f7f7f\">NULL</span> │    <span style=\"color: #7f7f7f; text-decoration-color: #7f7f7f\">NULL</span> │    <span style=\"color: #7f7f7f; text-decoration-color: #7f7f7f\">NULL</span> │    <span style=\"color: #7f7f7f; text-decoration-color: #7f7f7f\">NULL</span> │    <span style=\"color: #7f7f7f; text-decoration-color: #7f7f7f\">NULL</span> │    <span style=\"color: #7f7f7f; text-decoration-color: #7f7f7f\">NULL</span> │    <span style=\"color: #7f7f7f; text-decoration-color: #7f7f7f\">NULL</span> │ <span style=\"color: #008080; text-decoration-color: #008080; font-weight: bold\">85.792005</span> │ <span style=\"color: #008080; text-decoration-color: #008080; font-weight: bold\">90.595856</span> │ <span style=\"color: #008080; text-decoration-color: #008080; font-weight: bold\">90.526775</span> │ <span style=\"color: #008080; text-decoration-color: #008080; font-weight: bold\">94.694994</span> │ <span style=\"color: #008080; text-decoration-color: #008080; font-weight: bold\">90.529747</span> │ <span style=\"color: #008080; text-decoration-color: #008080; font-weight: bold\">92.209364</span> │ <span style=\"color: #008080; text-decoration-color: #008080; font-weight: bold\">92.39869</span> │ <span style=\"color: #008080; text-decoration-color: #008080; font-weight: bold\">94.789684</span> │    <span style=\"color: #008080; text-decoration-color: #008080; font-weight: bold\">91.9</span> │    <span style=\"color: #008080; text-decoration-color: #008080; font-weight: bold\">99.2</span> │    <span style=\"color: #008080; text-decoration-color: #008080; font-weight: bold\">99.8</span> │    <span style=\"color: #008080; text-decoration-color: #008080; font-weight: bold\">67.3</span> │    <span style=\"color: #008080; text-decoration-color: #008080; font-weight: bold\">95.6</span> │    <span style=\"color: #008080; text-decoration-color: #008080; font-weight: bold\">93.0</span> │    <span style=\"color: #008080; text-decoration-color: #008080; font-weight: bold\">97.2</span> │    <span style=\"color: #008080; text-decoration-color: #008080; font-weight: bold\">93.1</span> │    <span style=\"color: #008080; text-decoration-color: #008080; font-weight: bold\">93.2</span> │    <span style=\"color: #008080; text-decoration-color: #008080; font-weight: bold\">93.3</span> │    <span style=\"color: #008080; text-decoration-color: #008080; font-weight: bold\">93.4</span> │   <span style=\"color: #008080; text-decoration-color: #008080; font-weight: bold\">90.80</span> │    <span style=\"color: #008080; text-decoration-color: #008080; font-weight: bold\">94.1</span> │    <span style=\"color: #008080; text-decoration-color: #008080; font-weight: bold\">94.7</span> │  <span style=\"color: #008080; text-decoration-color: #008080; font-weight: bold\">100.00</span> │  <span style=\"color: #008080; text-decoration-color: #008080; font-weight: bold\">100.00</span> │    <span style=\"color: #008080; text-decoration-color: #008080; font-weight: bold\">94.9</span> │   <span style=\"color: #008080; text-decoration-color: #008080; font-weight: bold\">93.20</span> │    <span style=\"color: #008080; text-decoration-color: #008080; font-weight: bold\">99.0</span> │    <span style=\"color: #008080; text-decoration-color: #008080; font-weight: bold\">98.7</span> │    <span style=\"color: #008080; text-decoration-color: #008080; font-weight: bold\">99.3</span> │   <span style=\"color: #008080; text-decoration-color: #008080; font-weight: bold\">99.90</span> │   <span style=\"color: #008080; text-decoration-color: #008080; font-weight: bold\">100.0</span> │    <span style=\"color: #7f7f7f; text-decoration-color: #7f7f7f\">NULL</span> │\n",
       "│ <span style=\"color: #008000; text-decoration-color: #008000\">Venezuela, RB</span> │ <span style=\"color: #008000; text-decoration-color: #008000\">VEN         </span> │ <span style=\"color: #008000; text-decoration-color: #008000\">Access to electricity, urban (% of urban population)                            </span> │ <span style=\"color: #008000; text-decoration-color: #008000\">EG.ELC.ACCS.UR.ZS</span> │    <span style=\"color: #7f7f7f; text-decoration-color: #7f7f7f\">NULL</span> │    <span style=\"color: #7f7f7f; text-decoration-color: #7f7f7f\">NULL</span> │    <span style=\"color: #7f7f7f; text-decoration-color: #7f7f7f\">NULL</span> │    <span style=\"color: #7f7f7f; text-decoration-color: #7f7f7f\">NULL</span> │    <span style=\"color: #7f7f7f; text-decoration-color: #7f7f7f\">NULL</span> │    <span style=\"color: #7f7f7f; text-decoration-color: #7f7f7f\">NULL</span> │    <span style=\"color: #7f7f7f; text-decoration-color: #7f7f7f\">NULL</span> │    <span style=\"color: #7f7f7f; text-decoration-color: #7f7f7f\">NULL</span> │    <span style=\"color: #7f7f7f; text-decoration-color: #7f7f7f\">NULL</span> │    <span style=\"color: #7f7f7f; text-decoration-color: #7f7f7f\">NULL</span> │    <span style=\"color: #7f7f7f; text-decoration-color: #7f7f7f\">NULL</span> │    <span style=\"color: #7f7f7f; text-decoration-color: #7f7f7f\">NULL</span> │    <span style=\"color: #7f7f7f; text-decoration-color: #7f7f7f\">NULL</span> │    <span style=\"color: #7f7f7f; text-decoration-color: #7f7f7f\">NULL</span> │    <span style=\"color: #7f7f7f; text-decoration-color: #7f7f7f\">NULL</span> │    <span style=\"color: #7f7f7f; text-decoration-color: #7f7f7f\">NULL</span> │    <span style=\"color: #7f7f7f; text-decoration-color: #7f7f7f\">NULL</span> │    <span style=\"color: #7f7f7f; text-decoration-color: #7f7f7f\">NULL</span> │    <span style=\"color: #7f7f7f; text-decoration-color: #7f7f7f\">NULL</span> │    <span style=\"color: #7f7f7f; text-decoration-color: #7f7f7f\">NULL</span> │    <span style=\"color: #7f7f7f; text-decoration-color: #7f7f7f\">NULL</span> │    <span style=\"color: #7f7f7f; text-decoration-color: #7f7f7f\">NULL</span> │    <span style=\"color: #7f7f7f; text-decoration-color: #7f7f7f\">NULL</span> │    <span style=\"color: #7f7f7f; text-decoration-color: #7f7f7f\">NULL</span> │    <span style=\"color: #7f7f7f; text-decoration-color: #7f7f7f\">NULL</span> │    <span style=\"color: #7f7f7f; text-decoration-color: #7f7f7f\">NULL</span> │    <span style=\"color: #7f7f7f; text-decoration-color: #7f7f7f\">NULL</span> │    <span style=\"color: #7f7f7f; text-decoration-color: #7f7f7f\">NULL</span> │    <span style=\"color: #7f7f7f; text-decoration-color: #7f7f7f\">NULL</span> │    <span style=\"color: #7f7f7f; text-decoration-color: #7f7f7f\">NULL</span> │    <span style=\"color: #7f7f7f; text-decoration-color: #7f7f7f\">NULL</span> │    <span style=\"color: #7f7f7f; text-decoration-color: #7f7f7f\">NULL</span> │ <span style=\"color: #008080; text-decoration-color: #008080; font-weight: bold\">99.940829</span> │ <span style=\"color: #008080; text-decoration-color: #008080; font-weight: bold\">99.551331</span> │ <span style=\"color: #008080; text-decoration-color: #008080; font-weight: bold\">99.625763</span> │ <span style=\"color: #008080; text-decoration-color: #008080; font-weight: bold\">99.700000</span> │ <span style=\"color: #008080; text-decoration-color: #008080; font-weight: bold\">99.743034</span> │ <span style=\"color: #008080; text-decoration-color: #008080; font-weight: bold\">99.700000</span> │ <span style=\"color: #008080; text-decoration-color: #008080; font-weight: bold\">99.30000</span> │ <span style=\"color: #008080; text-decoration-color: #008080; font-weight: bold\">99.500000</span> │    <span style=\"color: #008080; text-decoration-color: #008080; font-weight: bold\">99.9</span> │   <span style=\"color: #008080; text-decoration-color: #008080; font-weight: bold\">100.0</span> │    <span style=\"color: #008080; text-decoration-color: #008080; font-weight: bold\">99.8</span> │    <span style=\"color: #008080; text-decoration-color: #008080; font-weight: bold\">99.6</span> │    <span style=\"color: #008080; text-decoration-color: #008080; font-weight: bold\">99.6</span> │    <span style=\"color: #008080; text-decoration-color: #008080; font-weight: bold\">99.6</span> │    <span style=\"color: #008080; text-decoration-color: #008080; font-weight: bold\">99.6</span> │    <span style=\"color: #008080; text-decoration-color: #008080; font-weight: bold\">99.6</span> │    <span style=\"color: #008080; text-decoration-color: #008080; font-weight: bold\">99.7</span> │    <span style=\"color: #008080; text-decoration-color: #008080; font-weight: bold\">99.8</span> │    <span style=\"color: #008080; text-decoration-color: #008080; font-weight: bold\">99.9</span> │   <span style=\"color: #008080; text-decoration-color: #008080; font-weight: bold\">99.90</span> │   <span style=\"color: #008080; text-decoration-color: #008080; font-weight: bold\">100.0</span> │   <span style=\"color: #008080; text-decoration-color: #008080; font-weight: bold\">100.0</span> │  <span style=\"color: #008080; text-decoration-color: #008080; font-weight: bold\">100.00</span> │  <span style=\"color: #008080; text-decoration-color: #008080; font-weight: bold\">100.00</span> │   <span style=\"color: #008080; text-decoration-color: #008080; font-weight: bold\">100.0</span> │  <span style=\"color: #008080; text-decoration-color: #008080; font-weight: bold\">100.00</span> │   <span style=\"color: #008080; text-decoration-color: #008080; font-weight: bold\">100.0</span> │   <span style=\"color: #008080; text-decoration-color: #008080; font-weight: bold\">100.0</span> │   <span style=\"color: #008080; text-decoration-color: #008080; font-weight: bold\">100.0</span> │  <span style=\"color: #008080; text-decoration-color: #008080; font-weight: bold\">100.00</span> │   <span style=\"color: #008080; text-decoration-color: #008080; font-weight: bold\">100.0</span> │    <span style=\"color: #7f7f7f; text-decoration-color: #7f7f7f\">NULL</span> │\n",
       "│ <span style=\"color: #008000; text-decoration-color: #008000\">Venezuela, RB</span> │ <span style=\"color: #008000; text-decoration-color: #008000\">VEN         </span> │ <span style=\"color: #008000; text-decoration-color: #008000\">Account ownership at a financial institution or with a mobile-money-service pro…</span> │ <span style=\"color: #008000; text-decoration-color: #008000\">FX.OWN.TOTL.ZS   </span> │    <span style=\"color: #7f7f7f; text-decoration-color: #7f7f7f\">NULL</span> │    <span style=\"color: #7f7f7f; text-decoration-color: #7f7f7f\">NULL</span> │    <span style=\"color: #7f7f7f; text-decoration-color: #7f7f7f\">NULL</span> │    <span style=\"color: #7f7f7f; text-decoration-color: #7f7f7f\">NULL</span> │    <span style=\"color: #7f7f7f; text-decoration-color: #7f7f7f\">NULL</span> │    <span style=\"color: #7f7f7f; text-decoration-color: #7f7f7f\">NULL</span> │    <span style=\"color: #7f7f7f; text-decoration-color: #7f7f7f\">NULL</span> │    <span style=\"color: #7f7f7f; text-decoration-color: #7f7f7f\">NULL</span> │    <span style=\"color: #7f7f7f; text-decoration-color: #7f7f7f\">NULL</span> │    <span style=\"color: #7f7f7f; text-decoration-color: #7f7f7f\">NULL</span> │    <span style=\"color: #7f7f7f; text-decoration-color: #7f7f7f\">NULL</span> │    <span style=\"color: #7f7f7f; text-decoration-color: #7f7f7f\">NULL</span> │    <span style=\"color: #7f7f7f; text-decoration-color: #7f7f7f\">NULL</span> │    <span style=\"color: #7f7f7f; text-decoration-color: #7f7f7f\">NULL</span> │    <span style=\"color: #7f7f7f; text-decoration-color: #7f7f7f\">NULL</span> │    <span style=\"color: #7f7f7f; text-decoration-color: #7f7f7f\">NULL</span> │    <span style=\"color: #7f7f7f; text-decoration-color: #7f7f7f\">NULL</span> │    <span style=\"color: #7f7f7f; text-decoration-color: #7f7f7f\">NULL</span> │    <span style=\"color: #7f7f7f; text-decoration-color: #7f7f7f\">NULL</span> │    <span style=\"color: #7f7f7f; text-decoration-color: #7f7f7f\">NULL</span> │    <span style=\"color: #7f7f7f; text-decoration-color: #7f7f7f\">NULL</span> │    <span style=\"color: #7f7f7f; text-decoration-color: #7f7f7f\">NULL</span> │    <span style=\"color: #7f7f7f; text-decoration-color: #7f7f7f\">NULL</span> │    <span style=\"color: #7f7f7f; text-decoration-color: #7f7f7f\">NULL</span> │    <span style=\"color: #7f7f7f; text-decoration-color: #7f7f7f\">NULL</span> │    <span style=\"color: #7f7f7f; text-decoration-color: #7f7f7f\">NULL</span> │    <span style=\"color: #7f7f7f; text-decoration-color: #7f7f7f\">NULL</span> │    <span style=\"color: #7f7f7f; text-decoration-color: #7f7f7f\">NULL</span> │    <span style=\"color: #7f7f7f; text-decoration-color: #7f7f7f\">NULL</span> │    <span style=\"color: #7f7f7f; text-decoration-color: #7f7f7f\">NULL</span> │    <span style=\"color: #7f7f7f; text-decoration-color: #7f7f7f\">NULL</span> │    <span style=\"color: #7f7f7f; text-decoration-color: #7f7f7f\">NULL</span> │      <span style=\"color: #7f7f7f; text-decoration-color: #7f7f7f\">NULL</span> │      <span style=\"color: #7f7f7f; text-decoration-color: #7f7f7f\">NULL</span> │      <span style=\"color: #7f7f7f; text-decoration-color: #7f7f7f\">NULL</span> │      <span style=\"color: #7f7f7f; text-decoration-color: #7f7f7f\">NULL</span> │      <span style=\"color: #7f7f7f; text-decoration-color: #7f7f7f\">NULL</span> │      <span style=\"color: #7f7f7f; text-decoration-color: #7f7f7f\">NULL</span> │     <span style=\"color: #7f7f7f; text-decoration-color: #7f7f7f\">NULL</span> │      <span style=\"color: #7f7f7f; text-decoration-color: #7f7f7f\">NULL</span> │    <span style=\"color: #7f7f7f; text-decoration-color: #7f7f7f\">NULL</span> │    <span style=\"color: #7f7f7f; text-decoration-color: #7f7f7f\">NULL</span> │    <span style=\"color: #7f7f7f; text-decoration-color: #7f7f7f\">NULL</span> │    <span style=\"color: #7f7f7f; text-decoration-color: #7f7f7f\">NULL</span> │    <span style=\"color: #7f7f7f; text-decoration-color: #7f7f7f\">NULL</span> │    <span style=\"color: #7f7f7f; text-decoration-color: #7f7f7f\">NULL</span> │    <span style=\"color: #7f7f7f; text-decoration-color: #7f7f7f\">NULL</span> │    <span style=\"color: #7f7f7f; text-decoration-color: #7f7f7f\">NULL</span> │    <span style=\"color: #7f7f7f; text-decoration-color: #7f7f7f\">NULL</span> │    <span style=\"color: #7f7f7f; text-decoration-color: #7f7f7f\">NULL</span> │    <span style=\"color: #7f7f7f; text-decoration-color: #7f7f7f\">NULL</span> │   <span style=\"color: #008080; text-decoration-color: #008080; font-weight: bold\">44.12</span> │    <span style=\"color: #7f7f7f; text-decoration-color: #7f7f7f\">NULL</span> │    <span style=\"color: #7f7f7f; text-decoration-color: #7f7f7f\">NULL</span> │   <span style=\"color: #008080; text-decoration-color: #008080; font-weight: bold\">57.03</span> │    <span style=\"color: #7f7f7f; text-decoration-color: #7f7f7f\">NULL</span> │    <span style=\"color: #7f7f7f; text-decoration-color: #7f7f7f\">NULL</span> │   <span style=\"color: #008080; text-decoration-color: #008080; font-weight: bold\">73.49</span> │    <span style=\"color: #7f7f7f; text-decoration-color: #7f7f7f\">NULL</span> │    <span style=\"color: #7f7f7f; text-decoration-color: #7f7f7f\">NULL</span> │    <span style=\"color: #7f7f7f; text-decoration-color: #7f7f7f\">NULL</span> │   <span style=\"color: #008080; text-decoration-color: #008080; font-weight: bold\">84.39</span> │    <span style=\"color: #7f7f7f; text-decoration-color: #7f7f7f\">NULL</span> │    <span style=\"color: #7f7f7f; text-decoration-color: #7f7f7f\">NULL</span> │\n",
       "│ <span style=\"color: #008000; text-decoration-color: #008000\">Venezuela, RB</span> │ <span style=\"color: #008000; text-decoration-color: #008000\">VEN         </span> │ <span style=\"color: #008000; text-decoration-color: #008000\">Account ownership at a financial institution or with a mobile-money-service pro…</span> │ <span style=\"color: #008000; text-decoration-color: #008000\">FX.OWN.TOTL.FE.ZS</span> │    <span style=\"color: #7f7f7f; text-decoration-color: #7f7f7f\">NULL</span> │    <span style=\"color: #7f7f7f; text-decoration-color: #7f7f7f\">NULL</span> │    <span style=\"color: #7f7f7f; text-decoration-color: #7f7f7f\">NULL</span> │    <span style=\"color: #7f7f7f; text-decoration-color: #7f7f7f\">NULL</span> │    <span style=\"color: #7f7f7f; text-decoration-color: #7f7f7f\">NULL</span> │    <span style=\"color: #7f7f7f; text-decoration-color: #7f7f7f\">NULL</span> │    <span style=\"color: #7f7f7f; text-decoration-color: #7f7f7f\">NULL</span> │    <span style=\"color: #7f7f7f; text-decoration-color: #7f7f7f\">NULL</span> │    <span style=\"color: #7f7f7f; text-decoration-color: #7f7f7f\">NULL</span> │    <span style=\"color: #7f7f7f; text-decoration-color: #7f7f7f\">NULL</span> │    <span style=\"color: #7f7f7f; text-decoration-color: #7f7f7f\">NULL</span> │    <span style=\"color: #7f7f7f; text-decoration-color: #7f7f7f\">NULL</span> │    <span style=\"color: #7f7f7f; text-decoration-color: #7f7f7f\">NULL</span> │    <span style=\"color: #7f7f7f; text-decoration-color: #7f7f7f\">NULL</span> │    <span style=\"color: #7f7f7f; text-decoration-color: #7f7f7f\">NULL</span> │    <span style=\"color: #7f7f7f; text-decoration-color: #7f7f7f\">NULL</span> │    <span style=\"color: #7f7f7f; text-decoration-color: #7f7f7f\">NULL</span> │    <span style=\"color: #7f7f7f; text-decoration-color: #7f7f7f\">NULL</span> │    <span style=\"color: #7f7f7f; text-decoration-color: #7f7f7f\">NULL</span> │    <span style=\"color: #7f7f7f; text-decoration-color: #7f7f7f\">NULL</span> │    <span style=\"color: #7f7f7f; text-decoration-color: #7f7f7f\">NULL</span> │    <span style=\"color: #7f7f7f; text-decoration-color: #7f7f7f\">NULL</span> │    <span style=\"color: #7f7f7f; text-decoration-color: #7f7f7f\">NULL</span> │    <span style=\"color: #7f7f7f; text-decoration-color: #7f7f7f\">NULL</span> │    <span style=\"color: #7f7f7f; text-decoration-color: #7f7f7f\">NULL</span> │    <span style=\"color: #7f7f7f; text-decoration-color: #7f7f7f\">NULL</span> │    <span style=\"color: #7f7f7f; text-decoration-color: #7f7f7f\">NULL</span> │    <span style=\"color: #7f7f7f; text-decoration-color: #7f7f7f\">NULL</span> │    <span style=\"color: #7f7f7f; text-decoration-color: #7f7f7f\">NULL</span> │    <span style=\"color: #7f7f7f; text-decoration-color: #7f7f7f\">NULL</span> │    <span style=\"color: #7f7f7f; text-decoration-color: #7f7f7f\">NULL</span> │    <span style=\"color: #7f7f7f; text-decoration-color: #7f7f7f\">NULL</span> │      <span style=\"color: #7f7f7f; text-decoration-color: #7f7f7f\">NULL</span> │      <span style=\"color: #7f7f7f; text-decoration-color: #7f7f7f\">NULL</span> │      <span style=\"color: #7f7f7f; text-decoration-color: #7f7f7f\">NULL</span> │      <span style=\"color: #7f7f7f; text-decoration-color: #7f7f7f\">NULL</span> │      <span style=\"color: #7f7f7f; text-decoration-color: #7f7f7f\">NULL</span> │      <span style=\"color: #7f7f7f; text-decoration-color: #7f7f7f\">NULL</span> │     <span style=\"color: #7f7f7f; text-decoration-color: #7f7f7f\">NULL</span> │      <span style=\"color: #7f7f7f; text-decoration-color: #7f7f7f\">NULL</span> │    <span style=\"color: #7f7f7f; text-decoration-color: #7f7f7f\">NULL</span> │    <span style=\"color: #7f7f7f; text-decoration-color: #7f7f7f\">NULL</span> │    <span style=\"color: #7f7f7f; text-decoration-color: #7f7f7f\">NULL</span> │    <span style=\"color: #7f7f7f; text-decoration-color: #7f7f7f\">NULL</span> │    <span style=\"color: #7f7f7f; text-decoration-color: #7f7f7f\">NULL</span> │    <span style=\"color: #7f7f7f; text-decoration-color: #7f7f7f\">NULL</span> │    <span style=\"color: #7f7f7f; text-decoration-color: #7f7f7f\">NULL</span> │    <span style=\"color: #7f7f7f; text-decoration-color: #7f7f7f\">NULL</span> │    <span style=\"color: #7f7f7f; text-decoration-color: #7f7f7f\">NULL</span> │    <span style=\"color: #7f7f7f; text-decoration-color: #7f7f7f\">NULL</span> │    <span style=\"color: #7f7f7f; text-decoration-color: #7f7f7f\">NULL</span> │   <span style=\"color: #008080; text-decoration-color: #008080; font-weight: bold\">36.15</span> │    <span style=\"color: #7f7f7f; text-decoration-color: #7f7f7f\">NULL</span> │    <span style=\"color: #7f7f7f; text-decoration-color: #7f7f7f\">NULL</span> │   <span style=\"color: #008080; text-decoration-color: #008080; font-weight: bold\">53.26</span> │    <span style=\"color: #7f7f7f; text-decoration-color: #7f7f7f\">NULL</span> │    <span style=\"color: #7f7f7f; text-decoration-color: #7f7f7f\">NULL</span> │   <span style=\"color: #008080; text-decoration-color: #008080; font-weight: bold\">70.04</span> │    <span style=\"color: #7f7f7f; text-decoration-color: #7f7f7f\">NULL</span> │    <span style=\"color: #7f7f7f; text-decoration-color: #7f7f7f\">NULL</span> │    <span style=\"color: #7f7f7f; text-decoration-color: #7f7f7f\">NULL</span> │   <span style=\"color: #008080; text-decoration-color: #008080; font-weight: bold\">79.67</span> │    <span style=\"color: #7f7f7f; text-decoration-color: #7f7f7f\">NULL</span> │    <span style=\"color: #7f7f7f; text-decoration-color: #7f7f7f\">NULL</span> │\n",
       "│ <span style=\"color: #008000; text-decoration-color: #008000\">Venezuela, RB</span> │ <span style=\"color: #008000; text-decoration-color: #008000\">VEN         </span> │ <span style=\"color: #008000; text-decoration-color: #008000\">Account ownership at a financial institution or with a mobile-money-service pro…</span> │ <span style=\"color: #008000; text-decoration-color: #008000\">FX.OWN.TOTL.MA.ZS</span> │    <span style=\"color: #7f7f7f; text-decoration-color: #7f7f7f\">NULL</span> │    <span style=\"color: #7f7f7f; text-decoration-color: #7f7f7f\">NULL</span> │    <span style=\"color: #7f7f7f; text-decoration-color: #7f7f7f\">NULL</span> │    <span style=\"color: #7f7f7f; text-decoration-color: #7f7f7f\">NULL</span> │    <span style=\"color: #7f7f7f; text-decoration-color: #7f7f7f\">NULL</span> │    <span style=\"color: #7f7f7f; text-decoration-color: #7f7f7f\">NULL</span> │    <span style=\"color: #7f7f7f; text-decoration-color: #7f7f7f\">NULL</span> │    <span style=\"color: #7f7f7f; text-decoration-color: #7f7f7f\">NULL</span> │    <span style=\"color: #7f7f7f; text-decoration-color: #7f7f7f\">NULL</span> │    <span style=\"color: #7f7f7f; text-decoration-color: #7f7f7f\">NULL</span> │    <span style=\"color: #7f7f7f; text-decoration-color: #7f7f7f\">NULL</span> │    <span style=\"color: #7f7f7f; text-decoration-color: #7f7f7f\">NULL</span> │    <span style=\"color: #7f7f7f; text-decoration-color: #7f7f7f\">NULL</span> │    <span style=\"color: #7f7f7f; text-decoration-color: #7f7f7f\">NULL</span> │    <span style=\"color: #7f7f7f; text-decoration-color: #7f7f7f\">NULL</span> │    <span style=\"color: #7f7f7f; text-decoration-color: #7f7f7f\">NULL</span> │    <span style=\"color: #7f7f7f; text-decoration-color: #7f7f7f\">NULL</span> │    <span style=\"color: #7f7f7f; text-decoration-color: #7f7f7f\">NULL</span> │    <span style=\"color: #7f7f7f; text-decoration-color: #7f7f7f\">NULL</span> │    <span style=\"color: #7f7f7f; text-decoration-color: #7f7f7f\">NULL</span> │    <span style=\"color: #7f7f7f; text-decoration-color: #7f7f7f\">NULL</span> │    <span style=\"color: #7f7f7f; text-decoration-color: #7f7f7f\">NULL</span> │    <span style=\"color: #7f7f7f; text-decoration-color: #7f7f7f\">NULL</span> │    <span style=\"color: #7f7f7f; text-decoration-color: #7f7f7f\">NULL</span> │    <span style=\"color: #7f7f7f; text-decoration-color: #7f7f7f\">NULL</span> │    <span style=\"color: #7f7f7f; text-decoration-color: #7f7f7f\">NULL</span> │    <span style=\"color: #7f7f7f; text-decoration-color: #7f7f7f\">NULL</span> │    <span style=\"color: #7f7f7f; text-decoration-color: #7f7f7f\">NULL</span> │    <span style=\"color: #7f7f7f; text-decoration-color: #7f7f7f\">NULL</span> │    <span style=\"color: #7f7f7f; text-decoration-color: #7f7f7f\">NULL</span> │    <span style=\"color: #7f7f7f; text-decoration-color: #7f7f7f\">NULL</span> │    <span style=\"color: #7f7f7f; text-decoration-color: #7f7f7f\">NULL</span> │      <span style=\"color: #7f7f7f; text-decoration-color: #7f7f7f\">NULL</span> │      <span style=\"color: #7f7f7f; text-decoration-color: #7f7f7f\">NULL</span> │      <span style=\"color: #7f7f7f; text-decoration-color: #7f7f7f\">NULL</span> │      <span style=\"color: #7f7f7f; text-decoration-color: #7f7f7f\">NULL</span> │      <span style=\"color: #7f7f7f; text-decoration-color: #7f7f7f\">NULL</span> │      <span style=\"color: #7f7f7f; text-decoration-color: #7f7f7f\">NULL</span> │     <span style=\"color: #7f7f7f; text-decoration-color: #7f7f7f\">NULL</span> │      <span style=\"color: #7f7f7f; text-decoration-color: #7f7f7f\">NULL</span> │    <span style=\"color: #7f7f7f; text-decoration-color: #7f7f7f\">NULL</span> │    <span style=\"color: #7f7f7f; text-decoration-color: #7f7f7f\">NULL</span> │    <span style=\"color: #7f7f7f; text-decoration-color: #7f7f7f\">NULL</span> │    <span style=\"color: #7f7f7f; text-decoration-color: #7f7f7f\">NULL</span> │    <span style=\"color: #7f7f7f; text-decoration-color: #7f7f7f\">NULL</span> │    <span style=\"color: #7f7f7f; text-decoration-color: #7f7f7f\">NULL</span> │    <span style=\"color: #7f7f7f; text-decoration-color: #7f7f7f\">NULL</span> │    <span style=\"color: #7f7f7f; text-decoration-color: #7f7f7f\">NULL</span> │    <span style=\"color: #7f7f7f; text-decoration-color: #7f7f7f\">NULL</span> │    <span style=\"color: #7f7f7f; text-decoration-color: #7f7f7f\">NULL</span> │    <span style=\"color: #7f7f7f; text-decoration-color: #7f7f7f\">NULL</span> │   <span style=\"color: #008080; text-decoration-color: #008080; font-weight: bold\">53.06</span> │    <span style=\"color: #7f7f7f; text-decoration-color: #7f7f7f\">NULL</span> │    <span style=\"color: #7f7f7f; text-decoration-color: #7f7f7f\">NULL</span> │   <span style=\"color: #008080; text-decoration-color: #008080; font-weight: bold\">61.11</span> │    <span style=\"color: #7f7f7f; text-decoration-color: #7f7f7f\">NULL</span> │    <span style=\"color: #7f7f7f; text-decoration-color: #7f7f7f\">NULL</span> │   <span style=\"color: #008080; text-decoration-color: #008080; font-weight: bold\">77.31</span> │    <span style=\"color: #7f7f7f; text-decoration-color: #7f7f7f\">NULL</span> │    <span style=\"color: #7f7f7f; text-decoration-color: #7f7f7f\">NULL</span> │    <span style=\"color: #7f7f7f; text-decoration-color: #7f7f7f\">NULL</span> │   <span style=\"color: #008080; text-decoration-color: #008080; font-weight: bold\">89.06</span> │    <span style=\"color: #7f7f7f; text-decoration-color: #7f7f7f\">NULL</span> │    <span style=\"color: #7f7f7f; text-decoration-color: #7f7f7f\">NULL</span> │\n",
       "│ <span style=\"color: #008000; text-decoration-color: #008000\">Venezuela, RB</span> │ <span style=\"color: #008000; text-decoration-color: #008000\">VEN         </span> │ <span style=\"color: #008000; text-decoration-color: #008000\">Account ownership at a financial institution or with a mobile-money-service pro…</span> │ <span style=\"color: #008000; text-decoration-color: #008000\">FX.OWN.TOTL.OL.ZS</span> │    <span style=\"color: #7f7f7f; text-decoration-color: #7f7f7f\">NULL</span> │    <span style=\"color: #7f7f7f; text-decoration-color: #7f7f7f\">NULL</span> │    <span style=\"color: #7f7f7f; text-decoration-color: #7f7f7f\">NULL</span> │    <span style=\"color: #7f7f7f; text-decoration-color: #7f7f7f\">NULL</span> │    <span style=\"color: #7f7f7f; text-decoration-color: #7f7f7f\">NULL</span> │    <span style=\"color: #7f7f7f; text-decoration-color: #7f7f7f\">NULL</span> │    <span style=\"color: #7f7f7f; text-decoration-color: #7f7f7f\">NULL</span> │    <span style=\"color: #7f7f7f; text-decoration-color: #7f7f7f\">NULL</span> │    <span style=\"color: #7f7f7f; text-decoration-color: #7f7f7f\">NULL</span> │    <span style=\"color: #7f7f7f; text-decoration-color: #7f7f7f\">NULL</span> │    <span style=\"color: #7f7f7f; text-decoration-color: #7f7f7f\">NULL</span> │    <span style=\"color: #7f7f7f; text-decoration-color: #7f7f7f\">NULL</span> │    <span style=\"color: #7f7f7f; text-decoration-color: #7f7f7f\">NULL</span> │    <span style=\"color: #7f7f7f; text-decoration-color: #7f7f7f\">NULL</span> │    <span style=\"color: #7f7f7f; text-decoration-color: #7f7f7f\">NULL</span> │    <span style=\"color: #7f7f7f; text-decoration-color: #7f7f7f\">NULL</span> │    <span style=\"color: #7f7f7f; text-decoration-color: #7f7f7f\">NULL</span> │    <span style=\"color: #7f7f7f; text-decoration-color: #7f7f7f\">NULL</span> │    <span style=\"color: #7f7f7f; text-decoration-color: #7f7f7f\">NULL</span> │    <span style=\"color: #7f7f7f; text-decoration-color: #7f7f7f\">NULL</span> │    <span style=\"color: #7f7f7f; text-decoration-color: #7f7f7f\">NULL</span> │    <span style=\"color: #7f7f7f; text-decoration-color: #7f7f7f\">NULL</span> │    <span style=\"color: #7f7f7f; text-decoration-color: #7f7f7f\">NULL</span> │    <span style=\"color: #7f7f7f; text-decoration-color: #7f7f7f\">NULL</span> │    <span style=\"color: #7f7f7f; text-decoration-color: #7f7f7f\">NULL</span> │    <span style=\"color: #7f7f7f; text-decoration-color: #7f7f7f\">NULL</span> │    <span style=\"color: #7f7f7f; text-decoration-color: #7f7f7f\">NULL</span> │    <span style=\"color: #7f7f7f; text-decoration-color: #7f7f7f\">NULL</span> │    <span style=\"color: #7f7f7f; text-decoration-color: #7f7f7f\">NULL</span> │    <span style=\"color: #7f7f7f; text-decoration-color: #7f7f7f\">NULL</span> │    <span style=\"color: #7f7f7f; text-decoration-color: #7f7f7f\">NULL</span> │    <span style=\"color: #7f7f7f; text-decoration-color: #7f7f7f\">NULL</span> │      <span style=\"color: #7f7f7f; text-decoration-color: #7f7f7f\">NULL</span> │      <span style=\"color: #7f7f7f; text-decoration-color: #7f7f7f\">NULL</span> │      <span style=\"color: #7f7f7f; text-decoration-color: #7f7f7f\">NULL</span> │      <span style=\"color: #7f7f7f; text-decoration-color: #7f7f7f\">NULL</span> │      <span style=\"color: #7f7f7f; text-decoration-color: #7f7f7f\">NULL</span> │      <span style=\"color: #7f7f7f; text-decoration-color: #7f7f7f\">NULL</span> │     <span style=\"color: #7f7f7f; text-decoration-color: #7f7f7f\">NULL</span> │      <span style=\"color: #7f7f7f; text-decoration-color: #7f7f7f\">NULL</span> │    <span style=\"color: #7f7f7f; text-decoration-color: #7f7f7f\">NULL</span> │    <span style=\"color: #7f7f7f; text-decoration-color: #7f7f7f\">NULL</span> │    <span style=\"color: #7f7f7f; text-decoration-color: #7f7f7f\">NULL</span> │    <span style=\"color: #7f7f7f; text-decoration-color: #7f7f7f\">NULL</span> │    <span style=\"color: #7f7f7f; text-decoration-color: #7f7f7f\">NULL</span> │    <span style=\"color: #7f7f7f; text-decoration-color: #7f7f7f\">NULL</span> │    <span style=\"color: #7f7f7f; text-decoration-color: #7f7f7f\">NULL</span> │    <span style=\"color: #7f7f7f; text-decoration-color: #7f7f7f\">NULL</span> │    <span style=\"color: #7f7f7f; text-decoration-color: #7f7f7f\">NULL</span> │    <span style=\"color: #7f7f7f; text-decoration-color: #7f7f7f\">NULL</span> │    <span style=\"color: #7f7f7f; text-decoration-color: #7f7f7f\">NULL</span> │   <span style=\"color: #008080; text-decoration-color: #008080; font-weight: bold\">53.87</span> │    <span style=\"color: #7f7f7f; text-decoration-color: #7f7f7f\">NULL</span> │    <span style=\"color: #7f7f7f; text-decoration-color: #7f7f7f\">NULL</span> │   <span style=\"color: #008080; text-decoration-color: #008080; font-weight: bold\">66.58</span> │    <span style=\"color: #7f7f7f; text-decoration-color: #7f7f7f\">NULL</span> │    <span style=\"color: #7f7f7f; text-decoration-color: #7f7f7f\">NULL</span> │   <span style=\"color: #008080; text-decoration-color: #008080; font-weight: bold\">78.28</span> │    <span style=\"color: #7f7f7f; text-decoration-color: #7f7f7f\">NULL</span> │    <span style=\"color: #7f7f7f; text-decoration-color: #7f7f7f\">NULL</span> │    <span style=\"color: #7f7f7f; text-decoration-color: #7f7f7f\">NULL</span> │   <span style=\"color: #008080; text-decoration-color: #008080; font-weight: bold\">91.49</span> │    <span style=\"color: #7f7f7f; text-decoration-color: #7f7f7f\">NULL</span> │    <span style=\"color: #7f7f7f; text-decoration-color: #7f7f7f\">NULL</span> │\n",
       "│ <span style=\"color: #7f7f7f; text-decoration-color: #7f7f7f\">…</span>             │ <span style=\"color: #7f7f7f; text-decoration-color: #7f7f7f\">…</span>            │ <span style=\"color: #7f7f7f; text-decoration-color: #7f7f7f\">…</span>                                                                                │ <span style=\"color: #7f7f7f; text-decoration-color: #7f7f7f\">…</span>                 │       <span style=\"color: #7f7f7f; text-decoration-color: #7f7f7f\">…</span> │       <span style=\"color: #7f7f7f; text-decoration-color: #7f7f7f\">…</span> │       <span style=\"color: #7f7f7f; text-decoration-color: #7f7f7f\">…</span> │       <span style=\"color: #7f7f7f; text-decoration-color: #7f7f7f\">…</span> │       <span style=\"color: #7f7f7f; text-decoration-color: #7f7f7f\">…</span> │       <span style=\"color: #7f7f7f; text-decoration-color: #7f7f7f\">…</span> │       <span style=\"color: #7f7f7f; text-decoration-color: #7f7f7f\">…</span> │       <span style=\"color: #7f7f7f; text-decoration-color: #7f7f7f\">…</span> │       <span style=\"color: #7f7f7f; text-decoration-color: #7f7f7f\">…</span> │       <span style=\"color: #7f7f7f; text-decoration-color: #7f7f7f\">…</span> │       <span style=\"color: #7f7f7f; text-decoration-color: #7f7f7f\">…</span> │       <span style=\"color: #7f7f7f; text-decoration-color: #7f7f7f\">…</span> │       <span style=\"color: #7f7f7f; text-decoration-color: #7f7f7f\">…</span> │       <span style=\"color: #7f7f7f; text-decoration-color: #7f7f7f\">…</span> │       <span style=\"color: #7f7f7f; text-decoration-color: #7f7f7f\">…</span> │       <span style=\"color: #7f7f7f; text-decoration-color: #7f7f7f\">…</span> │       <span style=\"color: #7f7f7f; text-decoration-color: #7f7f7f\">…</span> │       <span style=\"color: #7f7f7f; text-decoration-color: #7f7f7f\">…</span> │       <span style=\"color: #7f7f7f; text-decoration-color: #7f7f7f\">…</span> │       <span style=\"color: #7f7f7f; text-decoration-color: #7f7f7f\">…</span> │       <span style=\"color: #7f7f7f; text-decoration-color: #7f7f7f\">…</span> │       <span style=\"color: #7f7f7f; text-decoration-color: #7f7f7f\">…</span> │       <span style=\"color: #7f7f7f; text-decoration-color: #7f7f7f\">…</span> │       <span style=\"color: #7f7f7f; text-decoration-color: #7f7f7f\">…</span> │       <span style=\"color: #7f7f7f; text-decoration-color: #7f7f7f\">…</span> │       <span style=\"color: #7f7f7f; text-decoration-color: #7f7f7f\">…</span> │       <span style=\"color: #7f7f7f; text-decoration-color: #7f7f7f\">…</span> │       <span style=\"color: #7f7f7f; text-decoration-color: #7f7f7f\">…</span> │       <span style=\"color: #7f7f7f; text-decoration-color: #7f7f7f\">…</span> │       <span style=\"color: #7f7f7f; text-decoration-color: #7f7f7f\">…</span> │       <span style=\"color: #7f7f7f; text-decoration-color: #7f7f7f\">…</span> │       <span style=\"color: #7f7f7f; text-decoration-color: #7f7f7f\">…</span> │         <span style=\"color: #7f7f7f; text-decoration-color: #7f7f7f\">…</span> │         <span style=\"color: #7f7f7f; text-decoration-color: #7f7f7f\">…</span> │         <span style=\"color: #7f7f7f; text-decoration-color: #7f7f7f\">…</span> │         <span style=\"color: #7f7f7f; text-decoration-color: #7f7f7f\">…</span> │         <span style=\"color: #7f7f7f; text-decoration-color: #7f7f7f\">…</span> │         <span style=\"color: #7f7f7f; text-decoration-color: #7f7f7f\">…</span> │        <span style=\"color: #7f7f7f; text-decoration-color: #7f7f7f\">…</span> │         <span style=\"color: #7f7f7f; text-decoration-color: #7f7f7f\">…</span> │       <span style=\"color: #7f7f7f; text-decoration-color: #7f7f7f\">…</span> │       <span style=\"color: #7f7f7f; text-decoration-color: #7f7f7f\">…</span> │       <span style=\"color: #7f7f7f; text-decoration-color: #7f7f7f\">…</span> │       <span style=\"color: #7f7f7f; text-decoration-color: #7f7f7f\">…</span> │       <span style=\"color: #7f7f7f; text-decoration-color: #7f7f7f\">…</span> │       <span style=\"color: #7f7f7f; text-decoration-color: #7f7f7f\">…</span> │       <span style=\"color: #7f7f7f; text-decoration-color: #7f7f7f\">…</span> │       <span style=\"color: #7f7f7f; text-decoration-color: #7f7f7f\">…</span> │       <span style=\"color: #7f7f7f; text-decoration-color: #7f7f7f\">…</span> │       <span style=\"color: #7f7f7f; text-decoration-color: #7f7f7f\">…</span> │       <span style=\"color: #7f7f7f; text-decoration-color: #7f7f7f\">…</span> │       <span style=\"color: #7f7f7f; text-decoration-color: #7f7f7f\">…</span> │       <span style=\"color: #7f7f7f; text-decoration-color: #7f7f7f\">…</span> │       <span style=\"color: #7f7f7f; text-decoration-color: #7f7f7f\">…</span> │       <span style=\"color: #7f7f7f; text-decoration-color: #7f7f7f\">…</span> │       <span style=\"color: #7f7f7f; text-decoration-color: #7f7f7f\">…</span> │       <span style=\"color: #7f7f7f; text-decoration-color: #7f7f7f\">…</span> │       <span style=\"color: #7f7f7f; text-decoration-color: #7f7f7f\">…</span> │       <span style=\"color: #7f7f7f; text-decoration-color: #7f7f7f\">…</span> │       <span style=\"color: #7f7f7f; text-decoration-color: #7f7f7f\">…</span> │       <span style=\"color: #7f7f7f; text-decoration-color: #7f7f7f\">…</span> │       <span style=\"color: #7f7f7f; text-decoration-color: #7f7f7f\">…</span> │       <span style=\"color: #7f7f7f; text-decoration-color: #7f7f7f\">…</span> │       <span style=\"color: #7f7f7f; text-decoration-color: #7f7f7f\">…</span> │\n",
       "└───────────────┴──────────────┴──────────────────────────────────────────────────────────────────────────────────┴───────────────────┴─────────┴─────────┴─────────┴─────────┴─────────┴─────────┴─────────┴─────────┴─────────┴─────────┴─────────┴─────────┴─────────┴─────────┴─────────┴─────────┴─────────┴─────────┴─────────┴─────────┴─────────┴─────────┴─────────┴─────────┴─────────┴─────────┴─────────┴─────────┴─────────┴─────────┴─────────┴─────────┴───────────┴───────────┴───────────┴───────────┴───────────┴───────────┴──────────┴───────────┴─────────┴─────────┴─────────┴─────────┴─────────┴─────────┴─────────┴─────────┴─────────┴─────────┴─────────┴─────────┴─────────┴─────────┴─────────┴─────────┴─────────┴─────────┴─────────┴─────────┴─────────┴─────────┴─────────┴─────────┘\n",
       "</pre>\n"
      ],
      "text/plain": [
       "┏━━━━━━━━━━━━━━━┳━━━━━━━━━━━━━━┳━━━━━━━━━━━━━━━━━━━━━━━━━━━━━━━━━━━━━━━━━━━━━━━━━━━━━━━━━━━━━━━━━━━━━━━━━━━━━━━━━━┳━━━━━━━━━━━━━━━━━━━┳━━━━━━━━━┳━━━━━━━━━┳━━━━━━━━━┳━━━━━━━━━┳━━━━━━━━━┳━━━━━━━━━┳━━━━━━━━━┳━━━━━━━━━┳━━━━━━━━━┳━━━━━━━━━┳━━━━━━━━━┳━━━━━━━━━┳━━━━━━━━━┳━━━━━━━━━┳━━━━━━━━━┳━━━━━━━━━┳━━━━━━━━━┳━━━━━━━━━┳━━━━━━━━━┳━━━━━━━━━┳━━━━━━━━━┳━━━━━━━━━┳━━━━━━━━━┳━━━━━━━━━┳━━━━━━━━━┳━━━━━━━━━┳━━━━━━━━━┳━━━━━━━━━┳━━━━━━━━━┳━━━━━━━━━┳━━━━━━━━━┳━━━━━━━━━┳━━━━━━━━━━━┳━━━━━━━━━━━┳━━━━━━━━━━━┳━━━━━━━━━━━┳━━━━━━━━━━━┳━━━━━━━━━━━┳━━━━━━━━━━┳━━━━━━━━━━━┳━━━━━━━━━┳━━━━━━━━━┳━━━━━━━━━┳━━━━━━━━━┳━━━━━━━━━┳━━━━━━━━━┳━━━━━━━━━┳━━━━━━━━━┳━━━━━━━━━┳━━━━━━━━━┳━━━━━━━━━┳━━━━━━━━━┳━━━━━━━━━┳━━━━━━━━━┳━━━━━━━━━┳━━━━━━━━━┳━━━━━━━━━┳━━━━━━━━━┳━━━━━━━━━┳━━━━━━━━━┳━━━━━━━━━┳━━━━━━━━━┳━━━━━━━━━┳━━━━━━━━━┓\n",
       "┃\u001b[1m \u001b[0m\u001b[1mcountry_name\u001b[0m\u001b[1m \u001b[0m\u001b[1m \u001b[0m┃\u001b[1m \u001b[0m\u001b[1mcountry_code\u001b[0m\u001b[1m \u001b[0m┃\u001b[1m \u001b[0m\u001b[1mindicator_name\u001b[0m\u001b[1m                                                                  \u001b[0m\u001b[1m \u001b[0m┃\u001b[1m \u001b[0m\u001b[1mindicator_code\u001b[0m\u001b[1m   \u001b[0m\u001b[1m \u001b[0m┃\u001b[1m \u001b[0m\u001b[1m1960\u001b[0m\u001b[1m   \u001b[0m\u001b[1m \u001b[0m┃\u001b[1m \u001b[0m\u001b[1m1961\u001b[0m\u001b[1m   \u001b[0m\u001b[1m \u001b[0m┃\u001b[1m \u001b[0m\u001b[1m1962\u001b[0m\u001b[1m   \u001b[0m\u001b[1m \u001b[0m┃\u001b[1m \u001b[0m\u001b[1m1963\u001b[0m\u001b[1m   \u001b[0m\u001b[1m \u001b[0m┃\u001b[1m \u001b[0m\u001b[1m1964\u001b[0m\u001b[1m   \u001b[0m\u001b[1m \u001b[0m┃\u001b[1m \u001b[0m\u001b[1m1965\u001b[0m\u001b[1m   \u001b[0m\u001b[1m \u001b[0m┃\u001b[1m \u001b[0m\u001b[1m1966\u001b[0m\u001b[1m   \u001b[0m\u001b[1m \u001b[0m┃\u001b[1m \u001b[0m\u001b[1m1967\u001b[0m\u001b[1m   \u001b[0m\u001b[1m \u001b[0m┃\u001b[1m \u001b[0m\u001b[1m1968\u001b[0m\u001b[1m   \u001b[0m\u001b[1m \u001b[0m┃\u001b[1m \u001b[0m\u001b[1m1969\u001b[0m\u001b[1m   \u001b[0m\u001b[1m \u001b[0m┃\u001b[1m \u001b[0m\u001b[1m1970\u001b[0m\u001b[1m   \u001b[0m\u001b[1m \u001b[0m┃\u001b[1m \u001b[0m\u001b[1m1971\u001b[0m\u001b[1m   \u001b[0m\u001b[1m \u001b[0m┃\u001b[1m \u001b[0m\u001b[1m1972\u001b[0m\u001b[1m   \u001b[0m\u001b[1m \u001b[0m┃\u001b[1m \u001b[0m\u001b[1m1973\u001b[0m\u001b[1m   \u001b[0m\u001b[1m \u001b[0m┃\u001b[1m \u001b[0m\u001b[1m1974\u001b[0m\u001b[1m   \u001b[0m\u001b[1m \u001b[0m┃\u001b[1m \u001b[0m\u001b[1m1975\u001b[0m\u001b[1m   \u001b[0m\u001b[1m \u001b[0m┃\u001b[1m \u001b[0m\u001b[1m1976\u001b[0m\u001b[1m   \u001b[0m\u001b[1m \u001b[0m┃\u001b[1m \u001b[0m\u001b[1m1977\u001b[0m\u001b[1m   \u001b[0m\u001b[1m \u001b[0m┃\u001b[1m \u001b[0m\u001b[1m1978\u001b[0m\u001b[1m   \u001b[0m\u001b[1m \u001b[0m┃\u001b[1m \u001b[0m\u001b[1m1979\u001b[0m\u001b[1m   \u001b[0m\u001b[1m \u001b[0m┃\u001b[1m \u001b[0m\u001b[1m1980\u001b[0m\u001b[1m   \u001b[0m\u001b[1m \u001b[0m┃\u001b[1m \u001b[0m\u001b[1m1981\u001b[0m\u001b[1m   \u001b[0m\u001b[1m \u001b[0m┃\u001b[1m \u001b[0m\u001b[1m1982\u001b[0m\u001b[1m   \u001b[0m\u001b[1m \u001b[0m┃\u001b[1m \u001b[0m\u001b[1m1983\u001b[0m\u001b[1m   \u001b[0m\u001b[1m \u001b[0m┃\u001b[1m \u001b[0m\u001b[1m1984\u001b[0m\u001b[1m   \u001b[0m\u001b[1m \u001b[0m┃\u001b[1m \u001b[0m\u001b[1m1985\u001b[0m\u001b[1m   \u001b[0m\u001b[1m \u001b[0m┃\u001b[1m \u001b[0m\u001b[1m1986\u001b[0m\u001b[1m   \u001b[0m\u001b[1m \u001b[0m┃\u001b[1m \u001b[0m\u001b[1m1987\u001b[0m\u001b[1m   \u001b[0m\u001b[1m \u001b[0m┃\u001b[1m \u001b[0m\u001b[1m1988\u001b[0m\u001b[1m   \u001b[0m\u001b[1m \u001b[0m┃\u001b[1m \u001b[0m\u001b[1m1989\u001b[0m\u001b[1m   \u001b[0m\u001b[1m \u001b[0m┃\u001b[1m \u001b[0m\u001b[1m1990\u001b[0m\u001b[1m   \u001b[0m\u001b[1m \u001b[0m┃\u001b[1m \u001b[0m\u001b[1m1991\u001b[0m\u001b[1m   \u001b[0m\u001b[1m \u001b[0m┃\u001b[1m \u001b[0m\u001b[1m1992\u001b[0m\u001b[1m     \u001b[0m\u001b[1m \u001b[0m┃\u001b[1m \u001b[0m\u001b[1m1993\u001b[0m\u001b[1m     \u001b[0m\u001b[1m \u001b[0m┃\u001b[1m \u001b[0m\u001b[1m1994\u001b[0m\u001b[1m     \u001b[0m\u001b[1m \u001b[0m┃\u001b[1m \u001b[0m\u001b[1m1995\u001b[0m\u001b[1m     \u001b[0m\u001b[1m \u001b[0m┃\u001b[1m \u001b[0m\u001b[1m1996\u001b[0m\u001b[1m     \u001b[0m\u001b[1m \u001b[0m┃\u001b[1m \u001b[0m\u001b[1m1997\u001b[0m\u001b[1m     \u001b[0m\u001b[1m \u001b[0m┃\u001b[1m \u001b[0m\u001b[1m1998\u001b[0m\u001b[1m    \u001b[0m\u001b[1m \u001b[0m┃\u001b[1m \u001b[0m\u001b[1m1999\u001b[0m\u001b[1m     \u001b[0m\u001b[1m \u001b[0m┃\u001b[1m \u001b[0m\u001b[1m2000\u001b[0m\u001b[1m   \u001b[0m\u001b[1m \u001b[0m┃\u001b[1m \u001b[0m\u001b[1m2001\u001b[0m\u001b[1m   \u001b[0m\u001b[1m \u001b[0m┃\u001b[1m \u001b[0m\u001b[1m2002\u001b[0m\u001b[1m   \u001b[0m\u001b[1m \u001b[0m┃\u001b[1m \u001b[0m\u001b[1m2003\u001b[0m\u001b[1m   \u001b[0m\u001b[1m \u001b[0m┃\u001b[1m \u001b[0m\u001b[1m2004\u001b[0m\u001b[1m   \u001b[0m\u001b[1m \u001b[0m┃\u001b[1m \u001b[0m\u001b[1m2005\u001b[0m\u001b[1m   \u001b[0m\u001b[1m \u001b[0m┃\u001b[1m \u001b[0m\u001b[1m2006\u001b[0m\u001b[1m   \u001b[0m\u001b[1m \u001b[0m┃\u001b[1m \u001b[0m\u001b[1m2007\u001b[0m\u001b[1m   \u001b[0m\u001b[1m \u001b[0m┃\u001b[1m \u001b[0m\u001b[1m2008\u001b[0m\u001b[1m   \u001b[0m\u001b[1m \u001b[0m┃\u001b[1m \u001b[0m\u001b[1m2009\u001b[0m\u001b[1m   \u001b[0m\u001b[1m \u001b[0m┃\u001b[1m \u001b[0m\u001b[1m2010\u001b[0m\u001b[1m   \u001b[0m\u001b[1m \u001b[0m┃\u001b[1m \u001b[0m\u001b[1m2011\u001b[0m\u001b[1m   \u001b[0m\u001b[1m \u001b[0m┃\u001b[1m \u001b[0m\u001b[1m2012\u001b[0m\u001b[1m   \u001b[0m\u001b[1m \u001b[0m┃\u001b[1m \u001b[0m\u001b[1m2013\u001b[0m\u001b[1m   \u001b[0m\u001b[1m \u001b[0m┃\u001b[1m \u001b[0m\u001b[1m2014\u001b[0m\u001b[1m   \u001b[0m\u001b[1m \u001b[0m┃\u001b[1m \u001b[0m\u001b[1m2015\u001b[0m\u001b[1m   \u001b[0m\u001b[1m \u001b[0m┃\u001b[1m \u001b[0m\u001b[1m2016\u001b[0m\u001b[1m   \u001b[0m\u001b[1m \u001b[0m┃\u001b[1m \u001b[0m\u001b[1m2017\u001b[0m\u001b[1m   \u001b[0m\u001b[1m \u001b[0m┃\u001b[1m \u001b[0m\u001b[1m2018\u001b[0m\u001b[1m   \u001b[0m\u001b[1m \u001b[0m┃\u001b[1m \u001b[0m\u001b[1m2019\u001b[0m\u001b[1m   \u001b[0m\u001b[1m \u001b[0m┃\u001b[1m \u001b[0m\u001b[1m2020\u001b[0m\u001b[1m   \u001b[0m\u001b[1m \u001b[0m┃\u001b[1m \u001b[0m\u001b[1m2021\u001b[0m\u001b[1m   \u001b[0m\u001b[1m \u001b[0m┃\u001b[1m \u001b[0m\u001b[1m2022\u001b[0m\u001b[1m   \u001b[0m\u001b[1m \u001b[0m┃\u001b[1m \u001b[0m\u001b[1m2023\u001b[0m\u001b[1m   \u001b[0m\u001b[1m \u001b[0m┃\n",
       "┡━━━━━━━━━━━━━━━╇━━━━━━━━━━━━━━╇━━━━━━━━━━━━━━━━━━━━━━━━━━━━━━━━━━━━━━━━━━━━━━━━━━━━━━━━━━━━━━━━━━━━━━━━━━━━━━━━━━╇━━━━━━━━━━━━━━━━━━━╇━━━━━━━━━╇━━━━━━━━━╇━━━━━━━━━╇━━━━━━━━━╇━━━━━━━━━╇━━━━━━━━━╇━━━━━━━━━╇━━━━━━━━━╇━━━━━━━━━╇━━━━━━━━━╇━━━━━━━━━╇━━━━━━━━━╇━━━━━━━━━╇━━━━━━━━━╇━━━━━━━━━╇━━━━━━━━━╇━━━━━━━━━╇━━━━━━━━━╇━━━━━━━━━╇━━━━━━━━━╇━━━━━━━━━╇━━━━━━━━━╇━━━━━━━━━╇━━━━━━━━━╇━━━━━━━━━╇━━━━━━━━━╇━━━━━━━━━╇━━━━━━━━━╇━━━━━━━━━╇━━━━━━━━━╇━━━━━━━━━╇━━━━━━━━━╇━━━━━━━━━━━╇━━━━━━━━━━━╇━━━━━━━━━━━╇━━━━━━━━━━━╇━━━━━━━━━━━╇━━━━━━━━━━━╇━━━━━━━━━━╇━━━━━━━━━━━╇━━━━━━━━━╇━━━━━━━━━╇━━━━━━━━━╇━━━━━━━━━╇━━━━━━━━━╇━━━━━━━━━╇━━━━━━━━━╇━━━━━━━━━╇━━━━━━━━━╇━━━━━━━━━╇━━━━━━━━━╇━━━━━━━━━╇━━━━━━━━━╇━━━━━━━━━╇━━━━━━━━━╇━━━━━━━━━╇━━━━━━━━━╇━━━━━━━━━╇━━━━━━━━━╇━━━━━━━━━╇━━━━━━━━━╇━━━━━━━━━╇━━━━━━━━━╇━━━━━━━━━┩\n",
       "│ \u001b[2mstring\u001b[0m        │ \u001b[2mstring\u001b[0m       │ \u001b[2mstring\u001b[0m                                                                           │ \u001b[2mstring\u001b[0m            │ \u001b[2mfloat64\u001b[0m │ \u001b[2mfloat64\u001b[0m │ \u001b[2mfloat64\u001b[0m │ \u001b[2mfloat64\u001b[0m │ \u001b[2mfloat64\u001b[0m │ \u001b[2mfloat64\u001b[0m │ \u001b[2mfloat64\u001b[0m │ \u001b[2mfloat64\u001b[0m │ \u001b[2mfloat64\u001b[0m │ \u001b[2mfloat64\u001b[0m │ \u001b[2mfloat64\u001b[0m │ \u001b[2mfloat64\u001b[0m │ \u001b[2mfloat64\u001b[0m │ \u001b[2mfloat64\u001b[0m │ \u001b[2mfloat64\u001b[0m │ \u001b[2mfloat64\u001b[0m │ \u001b[2mfloat64\u001b[0m │ \u001b[2mfloat64\u001b[0m │ \u001b[2mfloat64\u001b[0m │ \u001b[2mfloat64\u001b[0m │ \u001b[2mfloat64\u001b[0m │ \u001b[2mfloat64\u001b[0m │ \u001b[2mfloat64\u001b[0m │ \u001b[2mfloat64\u001b[0m │ \u001b[2mfloat64\u001b[0m │ \u001b[2mfloat64\u001b[0m │ \u001b[2mfloat64\u001b[0m │ \u001b[2mfloat64\u001b[0m │ \u001b[2mfloat64\u001b[0m │ \u001b[2mfloat64\u001b[0m │ \u001b[2mfloat64\u001b[0m │ \u001b[2mfloat64\u001b[0m │ \u001b[2mfloat64\u001b[0m   │ \u001b[2mfloat64\u001b[0m   │ \u001b[2mfloat64\u001b[0m   │ \u001b[2mfloat64\u001b[0m   │ \u001b[2mfloat64\u001b[0m   │ \u001b[2mfloat64\u001b[0m   │ \u001b[2mfloat64\u001b[0m  │ \u001b[2mfloat64\u001b[0m   │ \u001b[2mfloat64\u001b[0m │ \u001b[2mfloat64\u001b[0m │ \u001b[2mfloat64\u001b[0m │ \u001b[2mfloat64\u001b[0m │ \u001b[2mfloat64\u001b[0m │ \u001b[2mfloat64\u001b[0m │ \u001b[2mfloat64\u001b[0m │ \u001b[2mfloat64\u001b[0m │ \u001b[2mfloat64\u001b[0m │ \u001b[2mfloat64\u001b[0m │ \u001b[2mfloat64\u001b[0m │ \u001b[2mfloat64\u001b[0m │ \u001b[2mfloat64\u001b[0m │ \u001b[2mfloat64\u001b[0m │ \u001b[2mfloat64\u001b[0m │ \u001b[2mfloat64\u001b[0m │ \u001b[2mfloat64\u001b[0m │ \u001b[2mfloat64\u001b[0m │ \u001b[2mfloat64\u001b[0m │ \u001b[2mfloat64\u001b[0m │ \u001b[2mfloat64\u001b[0m │ \u001b[2mfloat64\u001b[0m │ \u001b[2mfloat64\u001b[0m │ \u001b[2mfloat64\u001b[0m │\n",
       "├───────────────┼──────────────┼──────────────────────────────────────────────────────────────────────────────────┼───────────────────┼─────────┼─────────┼─────────┼─────────┼─────────┼─────────┼─────────┼─────────┼─────────┼─────────┼─────────┼─────────┼─────────┼─────────┼─────────┼─────────┼─────────┼─────────┼─────────┼─────────┼─────────┼─────────┼─────────┼─────────┼─────────┼─────────┼─────────┼─────────┼─────────┼─────────┼─────────┼─────────┼───────────┼───────────┼───────────┼───────────┼───────────┼───────────┼──────────┼───────────┼─────────┼─────────┼─────────┼─────────┼─────────┼─────────┼─────────┼─────────┼─────────┼─────────┼─────────┼─────────┼─────────┼─────────┼─────────┼─────────┼─────────┼─────────┼─────────┼─────────┼─────────┼─────────┼─────────┼─────────┤\n",
       "│ \u001b[32mVenezuela, RB\u001b[0m │ \u001b[32mVEN         \u001b[0m │ \u001b[32mAccess to clean fuels and technologies for cooking (% of population)            \u001b[0m │ \u001b[32mEG.CFT.ACCS.ZS   \u001b[0m │    \u001b[2mNULL\u001b[0m │    \u001b[2mNULL\u001b[0m │    \u001b[2mNULL\u001b[0m │    \u001b[2mNULL\u001b[0m │    \u001b[2mNULL\u001b[0m │    \u001b[2mNULL\u001b[0m │    \u001b[2mNULL\u001b[0m │    \u001b[2mNULL\u001b[0m │    \u001b[2mNULL\u001b[0m │    \u001b[2mNULL\u001b[0m │    \u001b[2mNULL\u001b[0m │    \u001b[2mNULL\u001b[0m │    \u001b[2mNULL\u001b[0m │    \u001b[2mNULL\u001b[0m │    \u001b[2mNULL\u001b[0m │    \u001b[2mNULL\u001b[0m │    \u001b[2mNULL\u001b[0m │    \u001b[2mNULL\u001b[0m │    \u001b[2mNULL\u001b[0m │    \u001b[2mNULL\u001b[0m │    \u001b[2mNULL\u001b[0m │    \u001b[2mNULL\u001b[0m │    \u001b[2mNULL\u001b[0m │    \u001b[2mNULL\u001b[0m │    \u001b[2mNULL\u001b[0m │    \u001b[2mNULL\u001b[0m │    \u001b[2mNULL\u001b[0m │    \u001b[2mNULL\u001b[0m │    \u001b[2mNULL\u001b[0m │    \u001b[2mNULL\u001b[0m │    \u001b[2mNULL\u001b[0m │    \u001b[2mNULL\u001b[0m │      \u001b[2mNULL\u001b[0m │      \u001b[2mNULL\u001b[0m │      \u001b[2mNULL\u001b[0m │      \u001b[2mNULL\u001b[0m │      \u001b[2mNULL\u001b[0m │      \u001b[2mNULL\u001b[0m │     \u001b[2mNULL\u001b[0m │      \u001b[2mNULL\u001b[0m │    \u001b[1;36m97.2\u001b[0m │    \u001b[1;36m97.2\u001b[0m │    \u001b[1;36m97.0\u001b[0m │    \u001b[1;36m96.9\u001b[0m │    \u001b[1;36m96.9\u001b[0m │    \u001b[1;36m96.9\u001b[0m │    \u001b[1;36m96.8\u001b[0m │    \u001b[1;36m96.8\u001b[0m │    \u001b[1;36m96.7\u001b[0m │    \u001b[1;36m96.8\u001b[0m │    \u001b[1;36m96.7\u001b[0m │   \u001b[1;36m96.60\u001b[0m │    \u001b[1;36m96.8\u001b[0m │    \u001b[1;36m96.6\u001b[0m │   \u001b[1;36m96.60\u001b[0m │   \u001b[1;36m96.40\u001b[0m │    \u001b[1;36m96.2\u001b[0m │   \u001b[1;36m96.10\u001b[0m │    \u001b[1;36m95.9\u001b[0m │    \u001b[1;36m95.8\u001b[0m │    \u001b[1;36m95.5\u001b[0m │   \u001b[1;36m95.10\u001b[0m │    \u001b[1;36m95.0\u001b[0m │    \u001b[2mNULL\u001b[0m │\n",
       "│ \u001b[32mVenezuela, RB\u001b[0m │ \u001b[32mVEN         \u001b[0m │ \u001b[32mAccess to clean fuels and technologies for cooking, rural (% of rural populatio…\u001b[0m │ \u001b[32mEG.CFT.ACCS.RU.ZS\u001b[0m │    \u001b[2mNULL\u001b[0m │    \u001b[2mNULL\u001b[0m │    \u001b[2mNULL\u001b[0m │    \u001b[2mNULL\u001b[0m │    \u001b[2mNULL\u001b[0m │    \u001b[2mNULL\u001b[0m │    \u001b[2mNULL\u001b[0m │    \u001b[2mNULL\u001b[0m │    \u001b[2mNULL\u001b[0m │    \u001b[2mNULL\u001b[0m │    \u001b[2mNULL\u001b[0m │    \u001b[2mNULL\u001b[0m │    \u001b[2mNULL\u001b[0m │    \u001b[2mNULL\u001b[0m │    \u001b[2mNULL\u001b[0m │    \u001b[2mNULL\u001b[0m │    \u001b[2mNULL\u001b[0m │    \u001b[2mNULL\u001b[0m │    \u001b[2mNULL\u001b[0m │    \u001b[2mNULL\u001b[0m │    \u001b[2mNULL\u001b[0m │    \u001b[2mNULL\u001b[0m │    \u001b[2mNULL\u001b[0m │    \u001b[2mNULL\u001b[0m │    \u001b[2mNULL\u001b[0m │    \u001b[2mNULL\u001b[0m │    \u001b[2mNULL\u001b[0m │    \u001b[2mNULL\u001b[0m │    \u001b[2mNULL\u001b[0m │    \u001b[2mNULL\u001b[0m │    \u001b[2mNULL\u001b[0m │    \u001b[2mNULL\u001b[0m │      \u001b[2mNULL\u001b[0m │      \u001b[2mNULL\u001b[0m │      \u001b[2mNULL\u001b[0m │      \u001b[2mNULL\u001b[0m │      \u001b[2mNULL\u001b[0m │      \u001b[2mNULL\u001b[0m │     \u001b[2mNULL\u001b[0m │      \u001b[2mNULL\u001b[0m │    \u001b[1;36m77.1\u001b[0m │    \u001b[1;36m76.5\u001b[0m │    \u001b[1;36m76.4\u001b[0m │    \u001b[1;36m76.0\u001b[0m │    \u001b[1;36m76.8\u001b[0m │    \u001b[1;36m76.6\u001b[0m │    \u001b[1;36m77.0\u001b[0m │    \u001b[1;36m77.8\u001b[0m │    \u001b[1;36m78.5\u001b[0m │    \u001b[1;36m79.2\u001b[0m │    \u001b[1;36m79.9\u001b[0m │   \u001b[1;36m80.60\u001b[0m │    \u001b[1;36m81.6\u001b[0m │    \u001b[1;36m82.3\u001b[0m │   \u001b[1;36m82.90\u001b[0m │   \u001b[1;36m83.55\u001b[0m │    \u001b[1;36m84.6\u001b[0m │   \u001b[1;36m84.80\u001b[0m │    \u001b[1;36m85.6\u001b[0m │    \u001b[1;36m86.0\u001b[0m │    \u001b[1;36m86.1\u001b[0m │   \u001b[1;36m86.50\u001b[0m │    \u001b[1;36m87.5\u001b[0m │    \u001b[2mNULL\u001b[0m │\n",
       "│ \u001b[32mVenezuela, RB\u001b[0m │ \u001b[32mVEN         \u001b[0m │ \u001b[32mAccess to clean fuels and technologies for cooking, urban (% of urban populatio…\u001b[0m │ \u001b[32mEG.CFT.ACCS.UR.ZS\u001b[0m │    \u001b[2mNULL\u001b[0m │    \u001b[2mNULL\u001b[0m │    \u001b[2mNULL\u001b[0m │    \u001b[2mNULL\u001b[0m │    \u001b[2mNULL\u001b[0m │    \u001b[2mNULL\u001b[0m │    \u001b[2mNULL\u001b[0m │    \u001b[2mNULL\u001b[0m │    \u001b[2mNULL\u001b[0m │    \u001b[2mNULL\u001b[0m │    \u001b[2mNULL\u001b[0m │    \u001b[2mNULL\u001b[0m │    \u001b[2mNULL\u001b[0m │    \u001b[2mNULL\u001b[0m │    \u001b[2mNULL\u001b[0m │    \u001b[2mNULL\u001b[0m │    \u001b[2mNULL\u001b[0m │    \u001b[2mNULL\u001b[0m │    \u001b[2mNULL\u001b[0m │    \u001b[2mNULL\u001b[0m │    \u001b[2mNULL\u001b[0m │    \u001b[2mNULL\u001b[0m │    \u001b[2mNULL\u001b[0m │    \u001b[2mNULL\u001b[0m │    \u001b[2mNULL\u001b[0m │    \u001b[2mNULL\u001b[0m │    \u001b[2mNULL\u001b[0m │    \u001b[2mNULL\u001b[0m │    \u001b[2mNULL\u001b[0m │    \u001b[2mNULL\u001b[0m │    \u001b[2mNULL\u001b[0m │    \u001b[2mNULL\u001b[0m │      \u001b[2mNULL\u001b[0m │      \u001b[2mNULL\u001b[0m │      \u001b[2mNULL\u001b[0m │      \u001b[2mNULL\u001b[0m │      \u001b[2mNULL\u001b[0m │      \u001b[2mNULL\u001b[0m │     \u001b[2mNULL\u001b[0m │      \u001b[2mNULL\u001b[0m │    \u001b[1;36m99.5\u001b[0m │    \u001b[1;36m99.5\u001b[0m │    \u001b[1;36m99.4\u001b[0m │    \u001b[1;36m99.4\u001b[0m │    \u001b[1;36m99.3\u001b[0m │    \u001b[1;36m99.4\u001b[0m │    \u001b[1;36m99.3\u001b[0m │    \u001b[1;36m99.3\u001b[0m │    \u001b[1;36m99.2\u001b[0m │    \u001b[1;36m99.1\u001b[0m │    \u001b[1;36m99.0\u001b[0m │   \u001b[1;36m99.00\u001b[0m │    \u001b[1;36m98.9\u001b[0m │    \u001b[1;36m98.7\u001b[0m │   \u001b[1;36m98.60\u001b[0m │   \u001b[1;36m98.50\u001b[0m │    \u001b[1;36m98.4\u001b[0m │   \u001b[1;36m98.30\u001b[0m │    \u001b[1;36m98.0\u001b[0m │    \u001b[1;36m97.8\u001b[0m │    \u001b[1;36m97.7\u001b[0m │   \u001b[1;36m97.40\u001b[0m │    \u001b[1;36m97.3\u001b[0m │    \u001b[2mNULL\u001b[0m │\n",
       "│ \u001b[32mVenezuela, RB\u001b[0m │ \u001b[32mVEN         \u001b[0m │ \u001b[32mAccess to electricity (% of population)                                         \u001b[0m │ \u001b[32mEG.ELC.ACCS.ZS   \u001b[0m │    \u001b[2mNULL\u001b[0m │    \u001b[2mNULL\u001b[0m │    \u001b[2mNULL\u001b[0m │    \u001b[2mNULL\u001b[0m │    \u001b[2mNULL\u001b[0m │    \u001b[2mNULL\u001b[0m │    \u001b[2mNULL\u001b[0m │    \u001b[2mNULL\u001b[0m │    \u001b[2mNULL\u001b[0m │    \u001b[2mNULL\u001b[0m │    \u001b[2mNULL\u001b[0m │    \u001b[2mNULL\u001b[0m │    \u001b[2mNULL\u001b[0m │    \u001b[2mNULL\u001b[0m │    \u001b[2mNULL\u001b[0m │    \u001b[2mNULL\u001b[0m │    \u001b[2mNULL\u001b[0m │    \u001b[2mNULL\u001b[0m │    \u001b[2mNULL\u001b[0m │    \u001b[2mNULL\u001b[0m │    \u001b[2mNULL\u001b[0m │    \u001b[2mNULL\u001b[0m │    \u001b[2mNULL\u001b[0m │    \u001b[2mNULL\u001b[0m │    \u001b[2mNULL\u001b[0m │    \u001b[2mNULL\u001b[0m │    \u001b[2mNULL\u001b[0m │    \u001b[2mNULL\u001b[0m │    \u001b[2mNULL\u001b[0m │    \u001b[2mNULL\u001b[0m │    \u001b[2mNULL\u001b[0m │    \u001b[2mNULL\u001b[0m │ \u001b[1;36m97.820203\u001b[0m │ \u001b[1;36m98.239532\u001b[0m │ \u001b[1;36m98.323334\u001b[0m │ \u001b[1;36m99.000000\u001b[0m │ \u001b[1;36m98.484131\u001b[0m │ \u001b[1;36m98.700000\u001b[0m │ \u001b[1;36m98.40000\u001b[0m │ \u001b[1;36m98.900000\u001b[0m │    \u001b[1;36m98.9\u001b[0m │    \u001b[1;36m99.9\u001b[0m │    \u001b[1;36m99.8\u001b[0m │    \u001b[1;36m95.7\u001b[0m │    \u001b[1;36m99.1\u001b[0m │    \u001b[1;36m98.8\u001b[0m │    \u001b[1;36m99.3\u001b[0m │    \u001b[1;36m98.9\u001b[0m │    \u001b[1;36m98.9\u001b[0m │    \u001b[1;36m99.0\u001b[0m │    \u001b[1;36m99.1\u001b[0m │   \u001b[1;36m98.80\u001b[0m │    \u001b[1;36m99.3\u001b[0m │    \u001b[1;36m99.4\u001b[0m │  \u001b[1;36m100.00\u001b[0m │  \u001b[1;36m100.00\u001b[0m │    \u001b[1;36m99.4\u001b[0m │   \u001b[1;36m99.20\u001b[0m │    \u001b[1;36m99.9\u001b[0m │    \u001b[1;36m99.8\u001b[0m │    \u001b[1;36m99.9\u001b[0m │  \u001b[1;36m100.00\u001b[0m │   \u001b[1;36m100.0\u001b[0m │    \u001b[2mNULL\u001b[0m │\n",
       "│ \u001b[32mVenezuela, RB\u001b[0m │ \u001b[32mVEN         \u001b[0m │ \u001b[32mAccess to electricity, rural (% of rural population)                            \u001b[0m │ \u001b[32mEG.ELC.ACCS.RU.ZS\u001b[0m │    \u001b[2mNULL\u001b[0m │    \u001b[2mNULL\u001b[0m │    \u001b[2mNULL\u001b[0m │    \u001b[2mNULL\u001b[0m │    \u001b[2mNULL\u001b[0m │    \u001b[2mNULL\u001b[0m │    \u001b[2mNULL\u001b[0m │    \u001b[2mNULL\u001b[0m │    \u001b[2mNULL\u001b[0m │    \u001b[2mNULL\u001b[0m │    \u001b[2mNULL\u001b[0m │    \u001b[2mNULL\u001b[0m │    \u001b[2mNULL\u001b[0m │    \u001b[2mNULL\u001b[0m │    \u001b[2mNULL\u001b[0m │    \u001b[2mNULL\u001b[0m │    \u001b[2mNULL\u001b[0m │    \u001b[2mNULL\u001b[0m │    \u001b[2mNULL\u001b[0m │    \u001b[2mNULL\u001b[0m │    \u001b[2mNULL\u001b[0m │    \u001b[2mNULL\u001b[0m │    \u001b[2mNULL\u001b[0m │    \u001b[2mNULL\u001b[0m │    \u001b[2mNULL\u001b[0m │    \u001b[2mNULL\u001b[0m │    \u001b[2mNULL\u001b[0m │    \u001b[2mNULL\u001b[0m │    \u001b[2mNULL\u001b[0m │    \u001b[2mNULL\u001b[0m │    \u001b[2mNULL\u001b[0m │    \u001b[2mNULL\u001b[0m │ \u001b[1;36m85.792005\u001b[0m │ \u001b[1;36m90.595856\u001b[0m │ \u001b[1;36m90.526775\u001b[0m │ \u001b[1;36m94.694994\u001b[0m │ \u001b[1;36m90.529747\u001b[0m │ \u001b[1;36m92.209364\u001b[0m │ \u001b[1;36m92.39869\u001b[0m │ \u001b[1;36m94.789684\u001b[0m │    \u001b[1;36m91.9\u001b[0m │    \u001b[1;36m99.2\u001b[0m │    \u001b[1;36m99.8\u001b[0m │    \u001b[1;36m67.3\u001b[0m │    \u001b[1;36m95.6\u001b[0m │    \u001b[1;36m93.0\u001b[0m │    \u001b[1;36m97.2\u001b[0m │    \u001b[1;36m93.1\u001b[0m │    \u001b[1;36m93.2\u001b[0m │    \u001b[1;36m93.3\u001b[0m │    \u001b[1;36m93.4\u001b[0m │   \u001b[1;36m90.80\u001b[0m │    \u001b[1;36m94.1\u001b[0m │    \u001b[1;36m94.7\u001b[0m │  \u001b[1;36m100.00\u001b[0m │  \u001b[1;36m100.00\u001b[0m │    \u001b[1;36m94.9\u001b[0m │   \u001b[1;36m93.20\u001b[0m │    \u001b[1;36m99.0\u001b[0m │    \u001b[1;36m98.7\u001b[0m │    \u001b[1;36m99.3\u001b[0m │   \u001b[1;36m99.90\u001b[0m │   \u001b[1;36m100.0\u001b[0m │    \u001b[2mNULL\u001b[0m │\n",
       "│ \u001b[32mVenezuela, RB\u001b[0m │ \u001b[32mVEN         \u001b[0m │ \u001b[32mAccess to electricity, urban (% of urban population)                            \u001b[0m │ \u001b[32mEG.ELC.ACCS.UR.ZS\u001b[0m │    \u001b[2mNULL\u001b[0m │    \u001b[2mNULL\u001b[0m │    \u001b[2mNULL\u001b[0m │    \u001b[2mNULL\u001b[0m │    \u001b[2mNULL\u001b[0m │    \u001b[2mNULL\u001b[0m │    \u001b[2mNULL\u001b[0m │    \u001b[2mNULL\u001b[0m │    \u001b[2mNULL\u001b[0m │    \u001b[2mNULL\u001b[0m │    \u001b[2mNULL\u001b[0m │    \u001b[2mNULL\u001b[0m │    \u001b[2mNULL\u001b[0m │    \u001b[2mNULL\u001b[0m │    \u001b[2mNULL\u001b[0m │    \u001b[2mNULL\u001b[0m │    \u001b[2mNULL\u001b[0m │    \u001b[2mNULL\u001b[0m │    \u001b[2mNULL\u001b[0m │    \u001b[2mNULL\u001b[0m │    \u001b[2mNULL\u001b[0m │    \u001b[2mNULL\u001b[0m │    \u001b[2mNULL\u001b[0m │    \u001b[2mNULL\u001b[0m │    \u001b[2mNULL\u001b[0m │    \u001b[2mNULL\u001b[0m │    \u001b[2mNULL\u001b[0m │    \u001b[2mNULL\u001b[0m │    \u001b[2mNULL\u001b[0m │    \u001b[2mNULL\u001b[0m │    \u001b[2mNULL\u001b[0m │    \u001b[2mNULL\u001b[0m │ \u001b[1;36m99.940829\u001b[0m │ \u001b[1;36m99.551331\u001b[0m │ \u001b[1;36m99.625763\u001b[0m │ \u001b[1;36m99.700000\u001b[0m │ \u001b[1;36m99.743034\u001b[0m │ \u001b[1;36m99.700000\u001b[0m │ \u001b[1;36m99.30000\u001b[0m │ \u001b[1;36m99.500000\u001b[0m │    \u001b[1;36m99.9\u001b[0m │   \u001b[1;36m100.0\u001b[0m │    \u001b[1;36m99.8\u001b[0m │    \u001b[1;36m99.6\u001b[0m │    \u001b[1;36m99.6\u001b[0m │    \u001b[1;36m99.6\u001b[0m │    \u001b[1;36m99.6\u001b[0m │    \u001b[1;36m99.6\u001b[0m │    \u001b[1;36m99.7\u001b[0m │    \u001b[1;36m99.8\u001b[0m │    \u001b[1;36m99.9\u001b[0m │   \u001b[1;36m99.90\u001b[0m │   \u001b[1;36m100.0\u001b[0m │   \u001b[1;36m100.0\u001b[0m │  \u001b[1;36m100.00\u001b[0m │  \u001b[1;36m100.00\u001b[0m │   \u001b[1;36m100.0\u001b[0m │  \u001b[1;36m100.00\u001b[0m │   \u001b[1;36m100.0\u001b[0m │   \u001b[1;36m100.0\u001b[0m │   \u001b[1;36m100.0\u001b[0m │  \u001b[1;36m100.00\u001b[0m │   \u001b[1;36m100.0\u001b[0m │    \u001b[2mNULL\u001b[0m │\n",
       "│ \u001b[32mVenezuela, RB\u001b[0m │ \u001b[32mVEN         \u001b[0m │ \u001b[32mAccount ownership at a financial institution or with a mobile-money-service pro…\u001b[0m │ \u001b[32mFX.OWN.TOTL.ZS   \u001b[0m │    \u001b[2mNULL\u001b[0m │    \u001b[2mNULL\u001b[0m │    \u001b[2mNULL\u001b[0m │    \u001b[2mNULL\u001b[0m │    \u001b[2mNULL\u001b[0m │    \u001b[2mNULL\u001b[0m │    \u001b[2mNULL\u001b[0m │    \u001b[2mNULL\u001b[0m │    \u001b[2mNULL\u001b[0m │    \u001b[2mNULL\u001b[0m │    \u001b[2mNULL\u001b[0m │    \u001b[2mNULL\u001b[0m │    \u001b[2mNULL\u001b[0m │    \u001b[2mNULL\u001b[0m │    \u001b[2mNULL\u001b[0m │    \u001b[2mNULL\u001b[0m │    \u001b[2mNULL\u001b[0m │    \u001b[2mNULL\u001b[0m │    \u001b[2mNULL\u001b[0m │    \u001b[2mNULL\u001b[0m │    \u001b[2mNULL\u001b[0m │    \u001b[2mNULL\u001b[0m │    \u001b[2mNULL\u001b[0m │    \u001b[2mNULL\u001b[0m │    \u001b[2mNULL\u001b[0m │    \u001b[2mNULL\u001b[0m │    \u001b[2mNULL\u001b[0m │    \u001b[2mNULL\u001b[0m │    \u001b[2mNULL\u001b[0m │    \u001b[2mNULL\u001b[0m │    \u001b[2mNULL\u001b[0m │    \u001b[2mNULL\u001b[0m │      \u001b[2mNULL\u001b[0m │      \u001b[2mNULL\u001b[0m │      \u001b[2mNULL\u001b[0m │      \u001b[2mNULL\u001b[0m │      \u001b[2mNULL\u001b[0m │      \u001b[2mNULL\u001b[0m │     \u001b[2mNULL\u001b[0m │      \u001b[2mNULL\u001b[0m │    \u001b[2mNULL\u001b[0m │    \u001b[2mNULL\u001b[0m │    \u001b[2mNULL\u001b[0m │    \u001b[2mNULL\u001b[0m │    \u001b[2mNULL\u001b[0m │    \u001b[2mNULL\u001b[0m │    \u001b[2mNULL\u001b[0m │    \u001b[2mNULL\u001b[0m │    \u001b[2mNULL\u001b[0m │    \u001b[2mNULL\u001b[0m │    \u001b[2mNULL\u001b[0m │   \u001b[1;36m44.12\u001b[0m │    \u001b[2mNULL\u001b[0m │    \u001b[2mNULL\u001b[0m │   \u001b[1;36m57.03\u001b[0m │    \u001b[2mNULL\u001b[0m │    \u001b[2mNULL\u001b[0m │   \u001b[1;36m73.49\u001b[0m │    \u001b[2mNULL\u001b[0m │    \u001b[2mNULL\u001b[0m │    \u001b[2mNULL\u001b[0m │   \u001b[1;36m84.39\u001b[0m │    \u001b[2mNULL\u001b[0m │    \u001b[2mNULL\u001b[0m │\n",
       "│ \u001b[32mVenezuela, RB\u001b[0m │ \u001b[32mVEN         \u001b[0m │ \u001b[32mAccount ownership at a financial institution or with a mobile-money-service pro…\u001b[0m │ \u001b[32mFX.OWN.TOTL.FE.ZS\u001b[0m │    \u001b[2mNULL\u001b[0m │    \u001b[2mNULL\u001b[0m │    \u001b[2mNULL\u001b[0m │    \u001b[2mNULL\u001b[0m │    \u001b[2mNULL\u001b[0m │    \u001b[2mNULL\u001b[0m │    \u001b[2mNULL\u001b[0m │    \u001b[2mNULL\u001b[0m │    \u001b[2mNULL\u001b[0m │    \u001b[2mNULL\u001b[0m │    \u001b[2mNULL\u001b[0m │    \u001b[2mNULL\u001b[0m │    \u001b[2mNULL\u001b[0m │    \u001b[2mNULL\u001b[0m │    \u001b[2mNULL\u001b[0m │    \u001b[2mNULL\u001b[0m │    \u001b[2mNULL\u001b[0m │    \u001b[2mNULL\u001b[0m │    \u001b[2mNULL\u001b[0m │    \u001b[2mNULL\u001b[0m │    \u001b[2mNULL\u001b[0m │    \u001b[2mNULL\u001b[0m │    \u001b[2mNULL\u001b[0m │    \u001b[2mNULL\u001b[0m │    \u001b[2mNULL\u001b[0m │    \u001b[2mNULL\u001b[0m │    \u001b[2mNULL\u001b[0m │    \u001b[2mNULL\u001b[0m │    \u001b[2mNULL\u001b[0m │    \u001b[2mNULL\u001b[0m │    \u001b[2mNULL\u001b[0m │    \u001b[2mNULL\u001b[0m │      \u001b[2mNULL\u001b[0m │      \u001b[2mNULL\u001b[0m │      \u001b[2mNULL\u001b[0m │      \u001b[2mNULL\u001b[0m │      \u001b[2mNULL\u001b[0m │      \u001b[2mNULL\u001b[0m │     \u001b[2mNULL\u001b[0m │      \u001b[2mNULL\u001b[0m │    \u001b[2mNULL\u001b[0m │    \u001b[2mNULL\u001b[0m │    \u001b[2mNULL\u001b[0m │    \u001b[2mNULL\u001b[0m │    \u001b[2mNULL\u001b[0m │    \u001b[2mNULL\u001b[0m │    \u001b[2mNULL\u001b[0m │    \u001b[2mNULL\u001b[0m │    \u001b[2mNULL\u001b[0m │    \u001b[2mNULL\u001b[0m │    \u001b[2mNULL\u001b[0m │   \u001b[1;36m36.15\u001b[0m │    \u001b[2mNULL\u001b[0m │    \u001b[2mNULL\u001b[0m │   \u001b[1;36m53.26\u001b[0m │    \u001b[2mNULL\u001b[0m │    \u001b[2mNULL\u001b[0m │   \u001b[1;36m70.04\u001b[0m │    \u001b[2mNULL\u001b[0m │    \u001b[2mNULL\u001b[0m │    \u001b[2mNULL\u001b[0m │   \u001b[1;36m79.67\u001b[0m │    \u001b[2mNULL\u001b[0m │    \u001b[2mNULL\u001b[0m │\n",
       "│ \u001b[32mVenezuela, RB\u001b[0m │ \u001b[32mVEN         \u001b[0m │ \u001b[32mAccount ownership at a financial institution or with a mobile-money-service pro…\u001b[0m │ \u001b[32mFX.OWN.TOTL.MA.ZS\u001b[0m │    \u001b[2mNULL\u001b[0m │    \u001b[2mNULL\u001b[0m │    \u001b[2mNULL\u001b[0m │    \u001b[2mNULL\u001b[0m │    \u001b[2mNULL\u001b[0m │    \u001b[2mNULL\u001b[0m │    \u001b[2mNULL\u001b[0m │    \u001b[2mNULL\u001b[0m │    \u001b[2mNULL\u001b[0m │    \u001b[2mNULL\u001b[0m │    \u001b[2mNULL\u001b[0m │    \u001b[2mNULL\u001b[0m │    \u001b[2mNULL\u001b[0m │    \u001b[2mNULL\u001b[0m │    \u001b[2mNULL\u001b[0m │    \u001b[2mNULL\u001b[0m │    \u001b[2mNULL\u001b[0m │    \u001b[2mNULL\u001b[0m │    \u001b[2mNULL\u001b[0m │    \u001b[2mNULL\u001b[0m │    \u001b[2mNULL\u001b[0m │    \u001b[2mNULL\u001b[0m │    \u001b[2mNULL\u001b[0m │    \u001b[2mNULL\u001b[0m │    \u001b[2mNULL\u001b[0m │    \u001b[2mNULL\u001b[0m │    \u001b[2mNULL\u001b[0m │    \u001b[2mNULL\u001b[0m │    \u001b[2mNULL\u001b[0m │    \u001b[2mNULL\u001b[0m │    \u001b[2mNULL\u001b[0m │    \u001b[2mNULL\u001b[0m │      \u001b[2mNULL\u001b[0m │      \u001b[2mNULL\u001b[0m │      \u001b[2mNULL\u001b[0m │      \u001b[2mNULL\u001b[0m │      \u001b[2mNULL\u001b[0m │      \u001b[2mNULL\u001b[0m │     \u001b[2mNULL\u001b[0m │      \u001b[2mNULL\u001b[0m │    \u001b[2mNULL\u001b[0m │    \u001b[2mNULL\u001b[0m │    \u001b[2mNULL\u001b[0m │    \u001b[2mNULL\u001b[0m │    \u001b[2mNULL\u001b[0m │    \u001b[2mNULL\u001b[0m │    \u001b[2mNULL\u001b[0m │    \u001b[2mNULL\u001b[0m │    \u001b[2mNULL\u001b[0m │    \u001b[2mNULL\u001b[0m │    \u001b[2mNULL\u001b[0m │   \u001b[1;36m53.06\u001b[0m │    \u001b[2mNULL\u001b[0m │    \u001b[2mNULL\u001b[0m │   \u001b[1;36m61.11\u001b[0m │    \u001b[2mNULL\u001b[0m │    \u001b[2mNULL\u001b[0m │   \u001b[1;36m77.31\u001b[0m │    \u001b[2mNULL\u001b[0m │    \u001b[2mNULL\u001b[0m │    \u001b[2mNULL\u001b[0m │   \u001b[1;36m89.06\u001b[0m │    \u001b[2mNULL\u001b[0m │    \u001b[2mNULL\u001b[0m │\n",
       "│ \u001b[32mVenezuela, RB\u001b[0m │ \u001b[32mVEN         \u001b[0m │ \u001b[32mAccount ownership at a financial institution or with a mobile-money-service pro…\u001b[0m │ \u001b[32mFX.OWN.TOTL.OL.ZS\u001b[0m │    \u001b[2mNULL\u001b[0m │    \u001b[2mNULL\u001b[0m │    \u001b[2mNULL\u001b[0m │    \u001b[2mNULL\u001b[0m │    \u001b[2mNULL\u001b[0m │    \u001b[2mNULL\u001b[0m │    \u001b[2mNULL\u001b[0m │    \u001b[2mNULL\u001b[0m │    \u001b[2mNULL\u001b[0m │    \u001b[2mNULL\u001b[0m │    \u001b[2mNULL\u001b[0m │    \u001b[2mNULL\u001b[0m │    \u001b[2mNULL\u001b[0m │    \u001b[2mNULL\u001b[0m │    \u001b[2mNULL\u001b[0m │    \u001b[2mNULL\u001b[0m │    \u001b[2mNULL\u001b[0m │    \u001b[2mNULL\u001b[0m │    \u001b[2mNULL\u001b[0m │    \u001b[2mNULL\u001b[0m │    \u001b[2mNULL\u001b[0m │    \u001b[2mNULL\u001b[0m │    \u001b[2mNULL\u001b[0m │    \u001b[2mNULL\u001b[0m │    \u001b[2mNULL\u001b[0m │    \u001b[2mNULL\u001b[0m │    \u001b[2mNULL\u001b[0m │    \u001b[2mNULL\u001b[0m │    \u001b[2mNULL\u001b[0m │    \u001b[2mNULL\u001b[0m │    \u001b[2mNULL\u001b[0m │    \u001b[2mNULL\u001b[0m │      \u001b[2mNULL\u001b[0m │      \u001b[2mNULL\u001b[0m │      \u001b[2mNULL\u001b[0m │      \u001b[2mNULL\u001b[0m │      \u001b[2mNULL\u001b[0m │      \u001b[2mNULL\u001b[0m │     \u001b[2mNULL\u001b[0m │      \u001b[2mNULL\u001b[0m │    \u001b[2mNULL\u001b[0m │    \u001b[2mNULL\u001b[0m │    \u001b[2mNULL\u001b[0m │    \u001b[2mNULL\u001b[0m │    \u001b[2mNULL\u001b[0m │    \u001b[2mNULL\u001b[0m │    \u001b[2mNULL\u001b[0m │    \u001b[2mNULL\u001b[0m │    \u001b[2mNULL\u001b[0m │    \u001b[2mNULL\u001b[0m │    \u001b[2mNULL\u001b[0m │   \u001b[1;36m53.87\u001b[0m │    \u001b[2mNULL\u001b[0m │    \u001b[2mNULL\u001b[0m │   \u001b[1;36m66.58\u001b[0m │    \u001b[2mNULL\u001b[0m │    \u001b[2mNULL\u001b[0m │   \u001b[1;36m78.28\u001b[0m │    \u001b[2mNULL\u001b[0m │    \u001b[2mNULL\u001b[0m │    \u001b[2mNULL\u001b[0m │   \u001b[1;36m91.49\u001b[0m │    \u001b[2mNULL\u001b[0m │    \u001b[2mNULL\u001b[0m │\n",
       "│ \u001b[2m…\u001b[0m             │ \u001b[2m…\u001b[0m            │ \u001b[2m…\u001b[0m                                                                                │ \u001b[2m…\u001b[0m                 │       \u001b[2m…\u001b[0m │       \u001b[2m…\u001b[0m │       \u001b[2m…\u001b[0m │       \u001b[2m…\u001b[0m │       \u001b[2m…\u001b[0m │       \u001b[2m…\u001b[0m │       \u001b[2m…\u001b[0m │       \u001b[2m…\u001b[0m │       \u001b[2m…\u001b[0m │       \u001b[2m…\u001b[0m │       \u001b[2m…\u001b[0m │       \u001b[2m…\u001b[0m │       \u001b[2m…\u001b[0m │       \u001b[2m…\u001b[0m │       \u001b[2m…\u001b[0m │       \u001b[2m…\u001b[0m │       \u001b[2m…\u001b[0m │       \u001b[2m…\u001b[0m │       \u001b[2m…\u001b[0m │       \u001b[2m…\u001b[0m │       \u001b[2m…\u001b[0m │       \u001b[2m…\u001b[0m │       \u001b[2m…\u001b[0m │       \u001b[2m…\u001b[0m │       \u001b[2m…\u001b[0m │       \u001b[2m…\u001b[0m │       \u001b[2m…\u001b[0m │       \u001b[2m…\u001b[0m │       \u001b[2m…\u001b[0m │       \u001b[2m…\u001b[0m │       \u001b[2m…\u001b[0m │       \u001b[2m…\u001b[0m │         \u001b[2m…\u001b[0m │         \u001b[2m…\u001b[0m │         \u001b[2m…\u001b[0m │         \u001b[2m…\u001b[0m │         \u001b[2m…\u001b[0m │         \u001b[2m…\u001b[0m │        \u001b[2m…\u001b[0m │         \u001b[2m…\u001b[0m │       \u001b[2m…\u001b[0m │       \u001b[2m…\u001b[0m │       \u001b[2m…\u001b[0m │       \u001b[2m…\u001b[0m │       \u001b[2m…\u001b[0m │       \u001b[2m…\u001b[0m │       \u001b[2m…\u001b[0m │       \u001b[2m…\u001b[0m │       \u001b[2m…\u001b[0m │       \u001b[2m…\u001b[0m │       \u001b[2m…\u001b[0m │       \u001b[2m…\u001b[0m │       \u001b[2m…\u001b[0m │       \u001b[2m…\u001b[0m │       \u001b[2m…\u001b[0m │       \u001b[2m…\u001b[0m │       \u001b[2m…\u001b[0m │       \u001b[2m…\u001b[0m │       \u001b[2m…\u001b[0m │       \u001b[2m…\u001b[0m │       \u001b[2m…\u001b[0m │       \u001b[2m…\u001b[0m │       \u001b[2m…\u001b[0m │       \u001b[2m…\u001b[0m │\n",
       "└───────────────┴──────────────┴──────────────────────────────────────────────────────────────────────────────────┴───────────────────┴─────────┴─────────┴─────────┴─────────┴─────────┴─────────┴─────────┴─────────┴─────────┴─────────┴─────────┴─────────┴─────────┴─────────┴─────────┴─────────┴─────────┴─────────┴─────────┴─────────┴─────────┴─────────┴─────────┴─────────┴─────────┴─────────┴─────────┴─────────┴─────────┴─────────┴─────────┴─────────┴───────────┴───────────┴───────────┴───────────┴───────────┴───────────┴──────────┴───────────┴─────────┴─────────┴─────────┴─────────┴─────────┴─────────┴─────────┴─────────┴─────────┴─────────┴─────────┴─────────┴─────────┴─────────┴─────────┴─────────┴─────────┴─────────┴─────────┴─────────┴─────────┴─────────┴─────────┴─────────┘"
      ]
     },
     "execution_count": 24,
     "metadata": {},
     "output_type": "execute_result"
    }
   ],
   "source": [
    "wdi.filter(_.country_code==\"VEN\")"
   ]
  },
  {
   "cell_type": "markdown",
   "metadata": {},
   "source": [
    "## Country representation"
   ]
  },
  {
   "cell_type": "code",
   "execution_count": 26,
   "metadata": {},
   "outputs": [],
   "source": [
    "# in dose, there is an uneven representation of regions from one year to another.\n",
    "# using boundaries as the baseline to how many sub national entities should be in a country \n",
    "\n",
    "boundary_sizes = boundaries.gid_0.value_counts().execute().set_index(\"gid_0\")"
   ]
  },
  {
   "cell_type": "code",
   "execution_count": 27,
   "metadata": {},
   "outputs": [],
   "source": [
    "dose_representation = dose.filter(_.year==str(year)).gid_0.value_counts().execute().set_index(\"gid_0\")"
   ]
  },
  {
   "cell_type": "code",
   "execution_count": 28,
   "metadata": {},
   "outputs": [],
   "source": [
    "dose_complete = (boundary_sizes\n",
    "    .merge(dose_representation,how=\"left\",suffixes=[\"_bound\",\"_dose\"],on=\"gid_0\")\n",
    "    .assign(repr_frac=lambda x: x.gid_0_count_dose/x.gid_0_count_bound)\n",
    "    .fillna(0)\n",
    "    .reset_index(drop=False,inplace=False))\n"
   ]
  },
  {
   "cell_type": "code",
   "execution_count": 29,
   "metadata": {},
   "outputs": [
    {
     "data": {
      "text/plain": [
       "160"
      ]
     },
     "execution_count": 29,
     "metadata": {},
     "output_type": "execute_result"
    }
   ],
   "source": [
    "missing_frac = 0.5\n",
    "\n",
    "missing_countries_year = conn.sql(f\"\"\"select gid_0 from dose_complete where repr_frac<{missing_frac};\"\"\").to_pandas().gid_0.to_list()\n",
    "len(missing_countries_year)"
   ]
  },
  {
   "cell_type": "markdown",
   "metadata": {},
   "source": [
    "## Missing regions\n",
    "Determining the missing regions from DOSE using the 3 letter country codes compared to the equivalent variable in WDI indicators"
   ]
  },
  {
   "cell_type": "code",
   "execution_count": 30,
   "metadata": {},
   "outputs": [],
   "source": [
    "missing_regions = [x for x in wdi_countries if x not in dose_countries and x in boundary_countries]"
   ]
  },
  {
   "cell_type": "code",
   "execution_count": 31,
   "metadata": {
    "tags": [
     "rm_cell"
    ]
   },
   "outputs": [
    {
     "data": {
      "text/plain": [
       "133"
      ]
     },
     "execution_count": 31,
     "metadata": {},
     "output_type": "execute_result"
    }
   ],
   "source": [
    "len(missing_regions)"
   ]
  },
  {
   "cell_type": "markdown",
   "metadata": {},
   "source": [
    "### WDI of interest\n",
    "\n",
    "getting the variables of interest from the WDI index for the missing countries in the DOSE data set."
   ]
  },
  {
   "cell_type": "code",
   "execution_count": 33,
   "metadata": {
    "tags": [
     "rm_cell"
    ]
   },
   "outputs": [
    {
     "data": {
      "text/html": [
       "<pre style=\"white-space:pre;overflow-x:auto;line-height:normal;font-family:Menlo,'DejaVu Sans Mono',consolas,'Courier New',monospace\">┏━━━━━━━━━━━━━━┳━━━━━━━━━━━━━━┳━━━━━━━━━━━━━━━━━━━━━━━━━━━━━━━━━━━━━━━━━━━━━━━━━━━━━━━━━━━━━━━━━━━━━━━━━━━━━━━━━━┳━━━━━━━━━━━━━━━━┳━━━━━━━━━┳━━━━━━━━━┳━━━━━━━━━┳━━━━━━━━━┳━━━━━━━━━┳━━━━━━━━━┳━━━━━━━━━┳━━━━━━━━━┳━━━━━━━━━┳━━━━━━━━━┳━━━━━━━━━┳━━━━━━━━━┳━━━━━━━━━┳━━━━━━━━━┳━━━━━━━━━┳━━━━━━━━━┳━━━━━━━━━┳━━━━━━━━━┳━━━━━━━━━┳━━━━━━━━━┳━━━━━━━━━┳━━━━━━━━━┳━━━━━━━━━┳━━━━━━━━━┳━━━━━━━━━┳━━━━━━━━━┳━━━━━━━━━┳━━━━━━━━━┳━━━━━━━━━┳━━━━━━━━━┳━━━━━━━━━┳━━━━━━━━━┳━━━━━━━━━┳━━━━━━━━━┳━━━━━━━━━┳━━━━━━━━━┳━━━━━━━━━┳━━━━━━━━━┳━━━━━━━━━┳━━━━━━━━━┳━━━━━━━━━┳━━━━━━━━━┳━━━━━━━━━━━━━━┳━━━━━━━━━━━━━━┳━━━━━━━━━━━━━━┳━━━━━━━━━━━━━━┳━━━━━━━━━━━━━━┳━━━━━━━━━━━━━━┳━━━━━━━━━━━━━━┳━━━━━━━━━━━━━━┳━━━━━━━━━━━━━━┳━━━━━━━━━━━━━━┳━━━━━━━━━━━━━━┳━━━━━━━━━━━━━━┳━━━━━━━━━━━━━━┳━━━━━━━━━━━━━━┳━━━━━━━━━━━━━━┳━━━━━━━━━━━━━━┳━━━━━━━━━━━━━━┳━━━━━━━━━━━━━━┳━━━━━━━━━━━━━━┳━━━━━━━━━━━━━━┳━━━━━━━━━━━━━━┳━━━━━━━━━┓\n",
       "┃<span style=\"font-weight: bold\"> country_name </span>┃<span style=\"font-weight: bold\"> country_code </span>┃<span style=\"font-weight: bold\"> indicator_name                                                                   </span>┃<span style=\"font-weight: bold\"> indicator_code </span>┃<span style=\"font-weight: bold\"> 1960    </span>┃<span style=\"font-weight: bold\"> 1961    </span>┃<span style=\"font-weight: bold\"> 1962    </span>┃<span style=\"font-weight: bold\"> 1963    </span>┃<span style=\"font-weight: bold\"> 1964    </span>┃<span style=\"font-weight: bold\"> 1965    </span>┃<span style=\"font-weight: bold\"> 1966    </span>┃<span style=\"font-weight: bold\"> 1967    </span>┃<span style=\"font-weight: bold\"> 1968    </span>┃<span style=\"font-weight: bold\"> 1969    </span>┃<span style=\"font-weight: bold\"> 1970    </span>┃<span style=\"font-weight: bold\"> 1971    </span>┃<span style=\"font-weight: bold\"> 1972    </span>┃<span style=\"font-weight: bold\"> 1973    </span>┃<span style=\"font-weight: bold\"> 1974    </span>┃<span style=\"font-weight: bold\"> 1975    </span>┃<span style=\"font-weight: bold\"> 1976    </span>┃<span style=\"font-weight: bold\"> 1977    </span>┃<span style=\"font-weight: bold\"> 1978    </span>┃<span style=\"font-weight: bold\"> 1979    </span>┃<span style=\"font-weight: bold\"> 1980    </span>┃<span style=\"font-weight: bold\"> 1981    </span>┃<span style=\"font-weight: bold\"> 1982    </span>┃<span style=\"font-weight: bold\"> 1983    </span>┃<span style=\"font-weight: bold\"> 1984    </span>┃<span style=\"font-weight: bold\"> 1985    </span>┃<span style=\"font-weight: bold\"> 1986    </span>┃<span style=\"font-weight: bold\"> 1987    </span>┃<span style=\"font-weight: bold\"> 1988    </span>┃<span style=\"font-weight: bold\"> 1989    </span>┃<span style=\"font-weight: bold\"> 1990    </span>┃<span style=\"font-weight: bold\"> 1991    </span>┃<span style=\"font-weight: bold\"> 1992    </span>┃<span style=\"font-weight: bold\"> 1993    </span>┃<span style=\"font-weight: bold\"> 1994    </span>┃<span style=\"font-weight: bold\"> 1995    </span>┃<span style=\"font-weight: bold\"> 1996    </span>┃<span style=\"font-weight: bold\"> 1997    </span>┃<span style=\"font-weight: bold\"> 1998    </span>┃<span style=\"font-weight: bold\"> 1999    </span>┃<span style=\"font-weight: bold\"> 2000    </span>┃<span style=\"font-weight: bold\"> 2001    </span>┃<span style=\"font-weight: bold\"> 2002         </span>┃<span style=\"font-weight: bold\"> 2003         </span>┃<span style=\"font-weight: bold\"> 2004         </span>┃<span style=\"font-weight: bold\"> 2005         </span>┃<span style=\"font-weight: bold\"> 2006         </span>┃<span style=\"font-weight: bold\"> 2007         </span>┃<span style=\"font-weight: bold\"> 2008         </span>┃<span style=\"font-weight: bold\"> 2009         </span>┃<span style=\"font-weight: bold\"> 2010         </span>┃<span style=\"font-weight: bold\"> 2011         </span>┃<span style=\"font-weight: bold\"> 2012         </span>┃<span style=\"font-weight: bold\"> 2013         </span>┃<span style=\"font-weight: bold\"> 2014         </span>┃<span style=\"font-weight: bold\"> 2015         </span>┃<span style=\"font-weight: bold\"> 2016         </span>┃<span style=\"font-weight: bold\"> 2017         </span>┃<span style=\"font-weight: bold\"> 2018         </span>┃<span style=\"font-weight: bold\"> 2019         </span>┃<span style=\"font-weight: bold\"> 2020         </span>┃<span style=\"font-weight: bold\"> 2021         </span>┃<span style=\"font-weight: bold\"> 2022         </span>┃<span style=\"font-weight: bold\"> 2023    </span>┃\n",
       "┡━━━━━━━━━━━━━━╇━━━━━━━━━━━━━━╇━━━━━━━━━━━━━━━━━━━━━━━━━━━━━━━━━━━━━━━━━━━━━━━━━━━━━━━━━━━━━━━━━━━━━━━━━━━━━━━━━━╇━━━━━━━━━━━━━━━━╇━━━━━━━━━╇━━━━━━━━━╇━━━━━━━━━╇━━━━━━━━━╇━━━━━━━━━╇━━━━━━━━━╇━━━━━━━━━╇━━━━━━━━━╇━━━━━━━━━╇━━━━━━━━━╇━━━━━━━━━╇━━━━━━━━━╇━━━━━━━━━╇━━━━━━━━━╇━━━━━━━━━╇━━━━━━━━━╇━━━━━━━━━╇━━━━━━━━━╇━━━━━━━━━╇━━━━━━━━━╇━━━━━━━━━╇━━━━━━━━━╇━━━━━━━━━╇━━━━━━━━━╇━━━━━━━━━╇━━━━━━━━━╇━━━━━━━━━╇━━━━━━━━━╇━━━━━━━━━╇━━━━━━━━━╇━━━━━━━━━╇━━━━━━━━━╇━━━━━━━━━╇━━━━━━━━━╇━━━━━━━━━╇━━━━━━━━━╇━━━━━━━━━╇━━━━━━━━━╇━━━━━━━━━╇━━━━━━━━━╇━━━━━━━━━╇━━━━━━━━━╇━━━━━━━━━━━━━━╇━━━━━━━━━━━━━━╇━━━━━━━━━━━━━━╇━━━━━━━━━━━━━━╇━━━━━━━━━━━━━━╇━━━━━━━━━━━━━━╇━━━━━━━━━━━━━━╇━━━━━━━━━━━━━━╇━━━━━━━━━━━━━━╇━━━━━━━━━━━━━━╇━━━━━━━━━━━━━━╇━━━━━━━━━━━━━━╇━━━━━━━━━━━━━━╇━━━━━━━━━━━━━━╇━━━━━━━━━━━━━━╇━━━━━━━━━━━━━━╇━━━━━━━━━━━━━━╇━━━━━━━━━━━━━━╇━━━━━━━━━━━━━━╇━━━━━━━━━━━━━━╇━━━━━━━━━━━━━━╇━━━━━━━━━┩\n",
       "│ <span style=\"color: #7f7f7f; text-decoration-color: #7f7f7f\">string</span>       │ <span style=\"color: #7f7f7f; text-decoration-color: #7f7f7f\">string</span>       │ <span style=\"color: #7f7f7f; text-decoration-color: #7f7f7f\">string</span>                                                                           │ <span style=\"color: #7f7f7f; text-decoration-color: #7f7f7f\">string</span>         │ <span style=\"color: #7f7f7f; text-decoration-color: #7f7f7f\">float64</span> │ <span style=\"color: #7f7f7f; text-decoration-color: #7f7f7f\">float64</span> │ <span style=\"color: #7f7f7f; text-decoration-color: #7f7f7f\">float64</span> │ <span style=\"color: #7f7f7f; text-decoration-color: #7f7f7f\">float64</span> │ <span style=\"color: #7f7f7f; text-decoration-color: #7f7f7f\">float64</span> │ <span style=\"color: #7f7f7f; text-decoration-color: #7f7f7f\">float64</span> │ <span style=\"color: #7f7f7f; text-decoration-color: #7f7f7f\">float64</span> │ <span style=\"color: #7f7f7f; text-decoration-color: #7f7f7f\">float64</span> │ <span style=\"color: #7f7f7f; text-decoration-color: #7f7f7f\">float64</span> │ <span style=\"color: #7f7f7f; text-decoration-color: #7f7f7f\">float64</span> │ <span style=\"color: #7f7f7f; text-decoration-color: #7f7f7f\">float64</span> │ <span style=\"color: #7f7f7f; text-decoration-color: #7f7f7f\">float64</span> │ <span style=\"color: #7f7f7f; text-decoration-color: #7f7f7f\">float64</span> │ <span style=\"color: #7f7f7f; text-decoration-color: #7f7f7f\">float64</span> │ <span style=\"color: #7f7f7f; text-decoration-color: #7f7f7f\">float64</span> │ <span style=\"color: #7f7f7f; text-decoration-color: #7f7f7f\">float64</span> │ <span style=\"color: #7f7f7f; text-decoration-color: #7f7f7f\">float64</span> │ <span style=\"color: #7f7f7f; text-decoration-color: #7f7f7f\">float64</span> │ <span style=\"color: #7f7f7f; text-decoration-color: #7f7f7f\">float64</span> │ <span style=\"color: #7f7f7f; text-decoration-color: #7f7f7f\">float64</span> │ <span style=\"color: #7f7f7f; text-decoration-color: #7f7f7f\">float64</span> │ <span style=\"color: #7f7f7f; text-decoration-color: #7f7f7f\">float64</span> │ <span style=\"color: #7f7f7f; text-decoration-color: #7f7f7f\">float64</span> │ <span style=\"color: #7f7f7f; text-decoration-color: #7f7f7f\">float64</span> │ <span style=\"color: #7f7f7f; text-decoration-color: #7f7f7f\">float64</span> │ <span style=\"color: #7f7f7f; text-decoration-color: #7f7f7f\">float64</span> │ <span style=\"color: #7f7f7f; text-decoration-color: #7f7f7f\">float64</span> │ <span style=\"color: #7f7f7f; text-decoration-color: #7f7f7f\">float64</span> │ <span style=\"color: #7f7f7f; text-decoration-color: #7f7f7f\">float64</span> │ <span style=\"color: #7f7f7f; text-decoration-color: #7f7f7f\">float64</span> │ <span style=\"color: #7f7f7f; text-decoration-color: #7f7f7f\">float64</span> │ <span style=\"color: #7f7f7f; text-decoration-color: #7f7f7f\">float64</span> │ <span style=\"color: #7f7f7f; text-decoration-color: #7f7f7f\">float64</span> │ <span style=\"color: #7f7f7f; text-decoration-color: #7f7f7f\">float64</span> │ <span style=\"color: #7f7f7f; text-decoration-color: #7f7f7f\">float64</span> │ <span style=\"color: #7f7f7f; text-decoration-color: #7f7f7f\">float64</span> │ <span style=\"color: #7f7f7f; text-decoration-color: #7f7f7f\">float64</span> │ <span style=\"color: #7f7f7f; text-decoration-color: #7f7f7f\">float64</span> │ <span style=\"color: #7f7f7f; text-decoration-color: #7f7f7f\">float64</span> │ <span style=\"color: #7f7f7f; text-decoration-color: #7f7f7f\">float64</span> │ <span style=\"color: #7f7f7f; text-decoration-color: #7f7f7f\">float64</span> │ <span style=\"color: #7f7f7f; text-decoration-color: #7f7f7f\">float64</span> │ <span style=\"color: #7f7f7f; text-decoration-color: #7f7f7f\">float64</span>      │ <span style=\"color: #7f7f7f; text-decoration-color: #7f7f7f\">float64</span>      │ <span style=\"color: #7f7f7f; text-decoration-color: #7f7f7f\">float64</span>      │ <span style=\"color: #7f7f7f; text-decoration-color: #7f7f7f\">float64</span>      │ <span style=\"color: #7f7f7f; text-decoration-color: #7f7f7f\">float64</span>      │ <span style=\"color: #7f7f7f; text-decoration-color: #7f7f7f\">float64</span>      │ <span style=\"color: #7f7f7f; text-decoration-color: #7f7f7f\">float64</span>      │ <span style=\"color: #7f7f7f; text-decoration-color: #7f7f7f\">float64</span>      │ <span style=\"color: #7f7f7f; text-decoration-color: #7f7f7f\">float64</span>      │ <span style=\"color: #7f7f7f; text-decoration-color: #7f7f7f\">float64</span>      │ <span style=\"color: #7f7f7f; text-decoration-color: #7f7f7f\">float64</span>      │ <span style=\"color: #7f7f7f; text-decoration-color: #7f7f7f\">float64</span>      │ <span style=\"color: #7f7f7f; text-decoration-color: #7f7f7f\">float64</span>      │ <span style=\"color: #7f7f7f; text-decoration-color: #7f7f7f\">float64</span>      │ <span style=\"color: #7f7f7f; text-decoration-color: #7f7f7f\">float64</span>      │ <span style=\"color: #7f7f7f; text-decoration-color: #7f7f7f\">float64</span>      │ <span style=\"color: #7f7f7f; text-decoration-color: #7f7f7f\">float64</span>      │ <span style=\"color: #7f7f7f; text-decoration-color: #7f7f7f\">float64</span>      │ <span style=\"color: #7f7f7f; text-decoration-color: #7f7f7f\">float64</span>      │ <span style=\"color: #7f7f7f; text-decoration-color: #7f7f7f\">float64</span>      │ <span style=\"color: #7f7f7f; text-decoration-color: #7f7f7f\">float64</span>      │ <span style=\"color: #7f7f7f; text-decoration-color: #7f7f7f\">float64</span> │\n",
       "├──────────────┼──────────────┼──────────────────────────────────────────────────────────────────────────────────┼────────────────┼─────────┼─────────┼─────────┼─────────┼─────────┼─────────┼─────────┼─────────┼─────────┼─────────┼─────────┼─────────┼─────────┼─────────┼─────────┼─────────┼─────────┼─────────┼─────────┼─────────┼─────────┼─────────┼─────────┼─────────┼─────────┼─────────┼─────────┼─────────┼─────────┼─────────┼─────────┼─────────┼─────────┼─────────┼─────────┼─────────┼─────────┼─────────┼─────────┼─────────┼─────────┼─────────┼──────────────┼──────────────┼──────────────┼──────────────┼──────────────┼──────────────┼──────────────┼──────────────┼──────────────┼──────────────┼──────────────┼──────────────┼──────────────┼──────────────┼──────────────┼──────────────┼──────────────┼──────────────┼──────────────┼──────────────┼──────────────┼─────────┤\n",
       "│ <span style=\"color: #008000; text-decoration-color: #008000\">Afghanistan </span> │ <span style=\"color: #008000; text-decoration-color: #008000\">AFG         </span> │ <span style=\"color: #008000; text-decoration-color: #008000\">Manufacturing, value added (current LCU)                                        </span> │ <span style=\"color: #008000; text-decoration-color: #008000\">NV.IND.MANF.CN</span> │    <span style=\"color: #7f7f7f; text-decoration-color: #7f7f7f\">NULL</span> │    <span style=\"color: #7f7f7f; text-decoration-color: #7f7f7f\">NULL</span> │    <span style=\"color: #7f7f7f; text-decoration-color: #7f7f7f\">NULL</span> │    <span style=\"color: #7f7f7f; text-decoration-color: #7f7f7f\">NULL</span> │    <span style=\"color: #7f7f7f; text-decoration-color: #7f7f7f\">NULL</span> │    <span style=\"color: #7f7f7f; text-decoration-color: #7f7f7f\">NULL</span> │    <span style=\"color: #7f7f7f; text-decoration-color: #7f7f7f\">NULL</span> │    <span style=\"color: #7f7f7f; text-decoration-color: #7f7f7f\">NULL</span> │    <span style=\"color: #7f7f7f; text-decoration-color: #7f7f7f\">NULL</span> │    <span style=\"color: #7f7f7f; text-decoration-color: #7f7f7f\">NULL</span> │    <span style=\"color: #7f7f7f; text-decoration-color: #7f7f7f\">NULL</span> │    <span style=\"color: #7f7f7f; text-decoration-color: #7f7f7f\">NULL</span> │    <span style=\"color: #7f7f7f; text-decoration-color: #7f7f7f\">NULL</span> │    <span style=\"color: #7f7f7f; text-decoration-color: #7f7f7f\">NULL</span> │    <span style=\"color: #7f7f7f; text-decoration-color: #7f7f7f\">NULL</span> │    <span style=\"color: #7f7f7f; text-decoration-color: #7f7f7f\">NULL</span> │    <span style=\"color: #7f7f7f; text-decoration-color: #7f7f7f\">NULL</span> │    <span style=\"color: #7f7f7f; text-decoration-color: #7f7f7f\">NULL</span> │    <span style=\"color: #7f7f7f; text-decoration-color: #7f7f7f\">NULL</span> │    <span style=\"color: #7f7f7f; text-decoration-color: #7f7f7f\">NULL</span> │    <span style=\"color: #7f7f7f; text-decoration-color: #7f7f7f\">NULL</span> │    <span style=\"color: #7f7f7f; text-decoration-color: #7f7f7f\">NULL</span> │    <span style=\"color: #7f7f7f; text-decoration-color: #7f7f7f\">NULL</span> │    <span style=\"color: #7f7f7f; text-decoration-color: #7f7f7f\">NULL</span> │    <span style=\"color: #7f7f7f; text-decoration-color: #7f7f7f\">NULL</span> │    <span style=\"color: #7f7f7f; text-decoration-color: #7f7f7f\">NULL</span> │    <span style=\"color: #7f7f7f; text-decoration-color: #7f7f7f\">NULL</span> │    <span style=\"color: #7f7f7f; text-decoration-color: #7f7f7f\">NULL</span> │    <span style=\"color: #7f7f7f; text-decoration-color: #7f7f7f\">NULL</span> │    <span style=\"color: #7f7f7f; text-decoration-color: #7f7f7f\">NULL</span> │    <span style=\"color: #7f7f7f; text-decoration-color: #7f7f7f\">NULL</span> │    <span style=\"color: #7f7f7f; text-decoration-color: #7f7f7f\">NULL</span> │    <span style=\"color: #7f7f7f; text-decoration-color: #7f7f7f\">NULL</span> │    <span style=\"color: #7f7f7f; text-decoration-color: #7f7f7f\">NULL</span> │    <span style=\"color: #7f7f7f; text-decoration-color: #7f7f7f\">NULL</span> │    <span style=\"color: #7f7f7f; text-decoration-color: #7f7f7f\">NULL</span> │    <span style=\"color: #7f7f7f; text-decoration-color: #7f7f7f\">NULL</span> │    <span style=\"color: #7f7f7f; text-decoration-color: #7f7f7f\">NULL</span> │    <span style=\"color: #7f7f7f; text-decoration-color: #7f7f7f\">NULL</span> │    <span style=\"color: #7f7f7f; text-decoration-color: #7f7f7f\">NULL</span> │    <span style=\"color: #7f7f7f; text-decoration-color: #7f7f7f\">NULL</span> │    <span style=\"color: #7f7f7f; text-decoration-color: #7f7f7f\">NULL</span> │ <span style=\"color: #008080; text-decoration-color: #008080; font-weight: bold\">3.428804e+10</span> │ <span style=\"color: #008080; text-decoration-color: #008080; font-weight: bold\">3.746243e+10</span> │ <span style=\"color: #008080; text-decoration-color: #008080; font-weight: bold\">4.384849e+10</span> │ <span style=\"color: #008080; text-decoration-color: #008080; font-weight: bold\">5.114959e+10</span> │ <span style=\"color: #008080; text-decoration-color: #008080; font-weight: bold\">5.702960e+10</span> │ <span style=\"color: #008080; text-decoration-color: #008080; font-weight: bold\">8.614882e+10</span> │ <span style=\"color: #008080; text-decoration-color: #008080; font-weight: bold\">9.187981e+10</span> │ <span style=\"color: #008080; text-decoration-color: #008080; font-weight: bold\">8.043676e+10</span> │ <span style=\"color: #008080; text-decoration-color: #008080; font-weight: bold\">9.094285e+10</span> │ <span style=\"color: #008080; text-decoration-color: #008080; font-weight: bold\">1.171710e+11</span> │ <span style=\"color: #008080; text-decoration-color: #008080; font-weight: bold\">1.284561e+11</span> │ <span style=\"color: #008080; text-decoration-color: #008080; font-weight: bold\">1.309616e+11</span> │ <span style=\"color: #008080; text-decoration-color: #008080; font-weight: bold\">1.350303e+11</span> │ <span style=\"color: #008080; text-decoration-color: #008080; font-weight: bold\">1.396389e+11</span> │ <span style=\"color: #008080; text-decoration-color: #008080; font-weight: bold\">5.031320e+10</span> │ <span style=\"color: #008080; text-decoration-color: #008080; font-weight: bold\">4.538218e+10</span> │ <span style=\"color: #008080; text-decoration-color: #008080; font-weight: bold\">8.178808e+10</span> │ <span style=\"color: #008080; text-decoration-color: #008080; font-weight: bold\">1.035063e+11</span> │ <span style=\"color: #008080; text-decoration-color: #008080; font-weight: bold\">1.155540e+11</span> │ <span style=\"color: #008080; text-decoration-color: #008080; font-weight: bold\">1.062640e+11</span> │ <span style=\"color: #008080; text-decoration-color: #008080; font-weight: bold\">1.307860e+11</span> │    <span style=\"color: #7f7f7f; text-decoration-color: #7f7f7f\">NULL</span> │\n",
       "│ <span style=\"color: #008000; text-decoration-color: #008000\">Afghanistan </span> │ <span style=\"color: #008000; text-decoration-color: #008000\">AFG         </span> │ <span style=\"color: #008000; text-decoration-color: #008000\">Young people (ages 15-24) newly infected with HIV                               </span> │ <span style=\"color: #008000; text-decoration-color: #008000\">SH.HIV.INCD.YG</span> │    <span style=\"color: #7f7f7f; text-decoration-color: #7f7f7f\">NULL</span> │    <span style=\"color: #7f7f7f; text-decoration-color: #7f7f7f\">NULL</span> │    <span style=\"color: #7f7f7f; text-decoration-color: #7f7f7f\">NULL</span> │    <span style=\"color: #7f7f7f; text-decoration-color: #7f7f7f\">NULL</span> │    <span style=\"color: #7f7f7f; text-decoration-color: #7f7f7f\">NULL</span> │    <span style=\"color: #7f7f7f; text-decoration-color: #7f7f7f\">NULL</span> │    <span style=\"color: #7f7f7f; text-decoration-color: #7f7f7f\">NULL</span> │    <span style=\"color: #7f7f7f; text-decoration-color: #7f7f7f\">NULL</span> │    <span style=\"color: #7f7f7f; text-decoration-color: #7f7f7f\">NULL</span> │    <span style=\"color: #7f7f7f; text-decoration-color: #7f7f7f\">NULL</span> │    <span style=\"color: #7f7f7f; text-decoration-color: #7f7f7f\">NULL</span> │    <span style=\"color: #7f7f7f; text-decoration-color: #7f7f7f\">NULL</span> │    <span style=\"color: #7f7f7f; text-decoration-color: #7f7f7f\">NULL</span> │    <span style=\"color: #7f7f7f; text-decoration-color: #7f7f7f\">NULL</span> │    <span style=\"color: #7f7f7f; text-decoration-color: #7f7f7f\">NULL</span> │    <span style=\"color: #7f7f7f; text-decoration-color: #7f7f7f\">NULL</span> │    <span style=\"color: #7f7f7f; text-decoration-color: #7f7f7f\">NULL</span> │    <span style=\"color: #7f7f7f; text-decoration-color: #7f7f7f\">NULL</span> │    <span style=\"color: #7f7f7f; text-decoration-color: #7f7f7f\">NULL</span> │    <span style=\"color: #7f7f7f; text-decoration-color: #7f7f7f\">NULL</span> │    <span style=\"color: #7f7f7f; text-decoration-color: #7f7f7f\">NULL</span> │    <span style=\"color: #7f7f7f; text-decoration-color: #7f7f7f\">NULL</span> │    <span style=\"color: #7f7f7f; text-decoration-color: #7f7f7f\">NULL</span> │    <span style=\"color: #7f7f7f; text-decoration-color: #7f7f7f\">NULL</span> │    <span style=\"color: #7f7f7f; text-decoration-color: #7f7f7f\">NULL</span> │    <span style=\"color: #7f7f7f; text-decoration-color: #7f7f7f\">NULL</span> │    <span style=\"color: #7f7f7f; text-decoration-color: #7f7f7f\">NULL</span> │    <span style=\"color: #7f7f7f; text-decoration-color: #7f7f7f\">NULL</span> │    <span style=\"color: #7f7f7f; text-decoration-color: #7f7f7f\">NULL</span> │    <span style=\"color: #7f7f7f; text-decoration-color: #7f7f7f\">NULL</span> │   <span style=\"color: #008080; text-decoration-color: #008080; font-weight: bold\">100.0</span> │   <span style=\"color: #008080; text-decoration-color: #008080; font-weight: bold\">100.0</span> │   <span style=\"color: #008080; text-decoration-color: #008080; font-weight: bold\">100.0</span> │   <span style=\"color: #008080; text-decoration-color: #008080; font-weight: bold\">100.0</span> │   <span style=\"color: #008080; text-decoration-color: #008080; font-weight: bold\">200.0</span> │   <span style=\"color: #008080; text-decoration-color: #008080; font-weight: bold\">200.0</span> │   <span style=\"color: #008080; text-decoration-color: #008080; font-weight: bold\">200.0</span> │   <span style=\"color: #008080; text-decoration-color: #008080; font-weight: bold\">200.0</span> │   <span style=\"color: #008080; text-decoration-color: #008080; font-weight: bold\">200.0</span> │   <span style=\"color: #008080; text-decoration-color: #008080; font-weight: bold\">200.0</span> │   <span style=\"color: #008080; text-decoration-color: #008080; font-weight: bold\">200.0</span> │   <span style=\"color: #008080; text-decoration-color: #008080; font-weight: bold\">200.0</span> │ <span style=\"color: #008080; text-decoration-color: #008080; font-weight: bold\">5.000000e+02</span> │ <span style=\"color: #008080; text-decoration-color: #008080; font-weight: bold\">5.000000e+02</span> │ <span style=\"color: #008080; text-decoration-color: #008080; font-weight: bold\">5.000000e+02</span> │ <span style=\"color: #008080; text-decoration-color: #008080; font-weight: bold\">5.000000e+02</span> │ <span style=\"color: #008080; text-decoration-color: #008080; font-weight: bold\">5.000000e+02</span> │ <span style=\"color: #008080; text-decoration-color: #008080; font-weight: bold\">5.000000e+02</span> │ <span style=\"color: #008080; text-decoration-color: #008080; font-weight: bold\">5.000000e+02</span> │ <span style=\"color: #008080; text-decoration-color: #008080; font-weight: bold\">5.000000e+02</span> │ <span style=\"color: #008080; text-decoration-color: #008080; font-weight: bold\">5.000000e+02</span> │ <span style=\"color: #008080; text-decoration-color: #008080; font-weight: bold\">5.000000e+02</span> │ <span style=\"color: #008080; text-decoration-color: #008080; font-weight: bold\">5.000000e+02</span> │ <span style=\"color: #008080; text-decoration-color: #008080; font-weight: bold\">5.000000e+02</span> │ <span style=\"color: #008080; text-decoration-color: #008080; font-weight: bold\">5.000000e+02</span> │ <span style=\"color: #008080; text-decoration-color: #008080; font-weight: bold\">5.000000e+02</span> │ <span style=\"color: #008080; text-decoration-color: #008080; font-weight: bold\">5.000000e+02</span> │ <span style=\"color: #008080; text-decoration-color: #008080; font-weight: bold\">5.000000e+02</span> │ <span style=\"color: #008080; text-decoration-color: #008080; font-weight: bold\">5.000000e+02</span> │ <span style=\"color: #008080; text-decoration-color: #008080; font-weight: bold\">5.000000e+02</span> │ <span style=\"color: #008080; text-decoration-color: #008080; font-weight: bold\">5.000000e+02</span> │ <span style=\"color: #008080; text-decoration-color: #008080; font-weight: bold\">5.000000e+02</span> │ <span style=\"color: #008080; text-decoration-color: #008080; font-weight: bold\">5.000000e+02</span> │    <span style=\"color: #7f7f7f; text-decoration-color: #7f7f7f\">NULL</span> │\n",
       "│ <span style=\"color: #008000; text-decoration-color: #008000\">Afghanistan </span> │ <span style=\"color: #008000; text-decoration-color: #008000\">AFG         </span> │ <span style=\"color: #008000; text-decoration-color: #008000\">Internally displaced persons, new displacement associated with conflict and vio…</span> │ <span style=\"color: #008000; text-decoration-color: #008000\">VC.IDP.NWCV   </span> │    <span style=\"color: #7f7f7f; text-decoration-color: #7f7f7f\">NULL</span> │    <span style=\"color: #7f7f7f; text-decoration-color: #7f7f7f\">NULL</span> │    <span style=\"color: #7f7f7f; text-decoration-color: #7f7f7f\">NULL</span> │    <span style=\"color: #7f7f7f; text-decoration-color: #7f7f7f\">NULL</span> │    <span style=\"color: #7f7f7f; text-decoration-color: #7f7f7f\">NULL</span> │    <span style=\"color: #7f7f7f; text-decoration-color: #7f7f7f\">NULL</span> │    <span style=\"color: #7f7f7f; text-decoration-color: #7f7f7f\">NULL</span> │    <span style=\"color: #7f7f7f; text-decoration-color: #7f7f7f\">NULL</span> │    <span style=\"color: #7f7f7f; text-decoration-color: #7f7f7f\">NULL</span> │    <span style=\"color: #7f7f7f; text-decoration-color: #7f7f7f\">NULL</span> │    <span style=\"color: #7f7f7f; text-decoration-color: #7f7f7f\">NULL</span> │    <span style=\"color: #7f7f7f; text-decoration-color: #7f7f7f\">NULL</span> │    <span style=\"color: #7f7f7f; text-decoration-color: #7f7f7f\">NULL</span> │    <span style=\"color: #7f7f7f; text-decoration-color: #7f7f7f\">NULL</span> │    <span style=\"color: #7f7f7f; text-decoration-color: #7f7f7f\">NULL</span> │    <span style=\"color: #7f7f7f; text-decoration-color: #7f7f7f\">NULL</span> │    <span style=\"color: #7f7f7f; text-decoration-color: #7f7f7f\">NULL</span> │    <span style=\"color: #7f7f7f; text-decoration-color: #7f7f7f\">NULL</span> │    <span style=\"color: #7f7f7f; text-decoration-color: #7f7f7f\">NULL</span> │    <span style=\"color: #7f7f7f; text-decoration-color: #7f7f7f\">NULL</span> │    <span style=\"color: #7f7f7f; text-decoration-color: #7f7f7f\">NULL</span> │    <span style=\"color: #7f7f7f; text-decoration-color: #7f7f7f\">NULL</span> │    <span style=\"color: #7f7f7f; text-decoration-color: #7f7f7f\">NULL</span> │    <span style=\"color: #7f7f7f; text-decoration-color: #7f7f7f\">NULL</span> │    <span style=\"color: #7f7f7f; text-decoration-color: #7f7f7f\">NULL</span> │    <span style=\"color: #7f7f7f; text-decoration-color: #7f7f7f\">NULL</span> │    <span style=\"color: #7f7f7f; text-decoration-color: #7f7f7f\">NULL</span> │    <span style=\"color: #7f7f7f; text-decoration-color: #7f7f7f\">NULL</span> │    <span style=\"color: #7f7f7f; text-decoration-color: #7f7f7f\">NULL</span> │    <span style=\"color: #7f7f7f; text-decoration-color: #7f7f7f\">NULL</span> │    <span style=\"color: #7f7f7f; text-decoration-color: #7f7f7f\">NULL</span> │    <span style=\"color: #7f7f7f; text-decoration-color: #7f7f7f\">NULL</span> │    <span style=\"color: #7f7f7f; text-decoration-color: #7f7f7f\">NULL</span> │    <span style=\"color: #7f7f7f; text-decoration-color: #7f7f7f\">NULL</span> │    <span style=\"color: #7f7f7f; text-decoration-color: #7f7f7f\">NULL</span> │    <span style=\"color: #7f7f7f; text-decoration-color: #7f7f7f\">NULL</span> │    <span style=\"color: #7f7f7f; text-decoration-color: #7f7f7f\">NULL</span> │    <span style=\"color: #7f7f7f; text-decoration-color: #7f7f7f\">NULL</span> │    <span style=\"color: #7f7f7f; text-decoration-color: #7f7f7f\">NULL</span> │    <span style=\"color: #7f7f7f; text-decoration-color: #7f7f7f\">NULL</span> │    <span style=\"color: #7f7f7f; text-decoration-color: #7f7f7f\">NULL</span> │    <span style=\"color: #7f7f7f; text-decoration-color: #7f7f7f\">NULL</span> │         <span style=\"color: #7f7f7f; text-decoration-color: #7f7f7f\">NULL</span> │         <span style=\"color: #7f7f7f; text-decoration-color: #7f7f7f\">NULL</span> │         <span style=\"color: #7f7f7f; text-decoration-color: #7f7f7f\">NULL</span> │         <span style=\"color: #7f7f7f; text-decoration-color: #7f7f7f\">NULL</span> │         <span style=\"color: #7f7f7f; text-decoration-color: #7f7f7f\">NULL</span> │         <span style=\"color: #7f7f7f; text-decoration-color: #7f7f7f\">NULL</span> │         <span style=\"color: #7f7f7f; text-decoration-color: #7f7f7f\">NULL</span> │         <span style=\"color: #7f7f7f; text-decoration-color: #7f7f7f\">NULL</span> │ <span style=\"color: #008080; text-decoration-color: #008080; font-weight: bold\">1.020000e+05</span> │ <span style=\"color: #008080; text-decoration-color: #008080; font-weight: bold\">1.860000e+05</span> │ <span style=\"color: #008080; text-decoration-color: #008080; font-weight: bold\">1.000000e+05</span> │ <span style=\"color: #008080; text-decoration-color: #008080; font-weight: bold\">1.240000e+05</span> │ <span style=\"color: #008080; text-decoration-color: #008080; font-weight: bold\">1.560000e+05</span> │ <span style=\"color: #008080; text-decoration-color: #008080; font-weight: bold\">3.350000e+05</span> │ <span style=\"color: #008080; text-decoration-color: #008080; font-weight: bold\">6.530000e+05</span> │ <span style=\"color: #008080; text-decoration-color: #008080; font-weight: bold\">4.740000e+05</span> │ <span style=\"color: #008080; text-decoration-color: #008080; font-weight: bold\">3.720000e+05</span> │ <span style=\"color: #008080; text-decoration-color: #008080; font-weight: bold\">4.610000e+05</span> │ <span style=\"color: #008080; text-decoration-color: #008080; font-weight: bold\">4.040000e+05</span> │ <span style=\"color: #008080; text-decoration-color: #008080; font-weight: bold\">7.230000e+05</span> │ <span style=\"color: #008080; text-decoration-color: #008080; font-weight: bold\">3.200000e+04</span> │    <span style=\"color: #7f7f7f; text-decoration-color: #7f7f7f\">NULL</span> │\n",
       "└──────────────┴──────────────┴──────────────────────────────────────────────────────────────────────────────────┴────────────────┴─────────┴─────────┴─────────┴─────────┴─────────┴─────────┴─────────┴─────────┴─────────┴─────────┴─────────┴─────────┴─────────┴─────────┴─────────┴─────────┴─────────┴─────────┴─────────┴─────────┴─────────┴─────────┴─────────┴─────────┴─────────┴─────────┴─────────┴─────────┴─────────┴─────────┴─────────┴─────────┴─────────┴─────────┴─────────┴─────────┴─────────┴─────────┴─────────┴─────────┴─────────┴─────────┴──────────────┴──────────────┴──────────────┴──────────────┴──────────────┴──────────────┴──────────────┴──────────────┴──────────────┴──────────────┴──────────────┴──────────────┴──────────────┴──────────────┴──────────────┴──────────────┴──────────────┴──────────────┴──────────────┴──────────────┴──────────────┴─────────┘\n",
       "</pre>\n"
      ],
      "text/plain": [
       "┏━━━━━━━━━━━━━━┳━━━━━━━━━━━━━━┳━━━━━━━━━━━━━━━━━━━━━━━━━━━━━━━━━━━━━━━━━━━━━━━━━━━━━━━━━━━━━━━━━━━━━━━━━━━━━━━━━━┳━━━━━━━━━━━━━━━━┳━━━━━━━━━┳━━━━━━━━━┳━━━━━━━━━┳━━━━━━━━━┳━━━━━━━━━┳━━━━━━━━━┳━━━━━━━━━┳━━━━━━━━━┳━━━━━━━━━┳━━━━━━━━━┳━━━━━━━━━┳━━━━━━━━━┳━━━━━━━━━┳━━━━━━━━━┳━━━━━━━━━┳━━━━━━━━━┳━━━━━━━━━┳━━━━━━━━━┳━━━━━━━━━┳━━━━━━━━━┳━━━━━━━━━┳━━━━━━━━━┳━━━━━━━━━┳━━━━━━━━━┳━━━━━━━━━┳━━━━━━━━━┳━━━━━━━━━┳━━━━━━━━━┳━━━━━━━━━┳━━━━━━━━━┳━━━━━━━━━┳━━━━━━━━━┳━━━━━━━━━┳━━━━━━━━━┳━━━━━━━━━┳━━━━━━━━━┳━━━━━━━━━┳━━━━━━━━━┳━━━━━━━━━┳━━━━━━━━━┳━━━━━━━━━┳━━━━━━━━━┳━━━━━━━━━━━━━━┳━━━━━━━━━━━━━━┳━━━━━━━━━━━━━━┳━━━━━━━━━━━━━━┳━━━━━━━━━━━━━━┳━━━━━━━━━━━━━━┳━━━━━━━━━━━━━━┳━━━━━━━━━━━━━━┳━━━━━━━━━━━━━━┳━━━━━━━━━━━━━━┳━━━━━━━━━━━━━━┳━━━━━━━━━━━━━━┳━━━━━━━━━━━━━━┳━━━━━━━━━━━━━━┳━━━━━━━━━━━━━━┳━━━━━━━━━━━━━━┳━━━━━━━━━━━━━━┳━━━━━━━━━━━━━━┳━━━━━━━━━━━━━━┳━━━━━━━━━━━━━━┳━━━━━━━━━━━━━━┳━━━━━━━━━┓\n",
       "┃\u001b[1m \u001b[0m\u001b[1mcountry_name\u001b[0m\u001b[1m \u001b[0m┃\u001b[1m \u001b[0m\u001b[1mcountry_code\u001b[0m\u001b[1m \u001b[0m┃\u001b[1m \u001b[0m\u001b[1mindicator_name\u001b[0m\u001b[1m                                                                  \u001b[0m\u001b[1m \u001b[0m┃\u001b[1m \u001b[0m\u001b[1mindicator_code\u001b[0m\u001b[1m \u001b[0m┃\u001b[1m \u001b[0m\u001b[1m1960\u001b[0m\u001b[1m   \u001b[0m\u001b[1m \u001b[0m┃\u001b[1m \u001b[0m\u001b[1m1961\u001b[0m\u001b[1m   \u001b[0m\u001b[1m \u001b[0m┃\u001b[1m \u001b[0m\u001b[1m1962\u001b[0m\u001b[1m   \u001b[0m\u001b[1m \u001b[0m┃\u001b[1m \u001b[0m\u001b[1m1963\u001b[0m\u001b[1m   \u001b[0m\u001b[1m \u001b[0m┃\u001b[1m \u001b[0m\u001b[1m1964\u001b[0m\u001b[1m   \u001b[0m\u001b[1m \u001b[0m┃\u001b[1m \u001b[0m\u001b[1m1965\u001b[0m\u001b[1m   \u001b[0m\u001b[1m \u001b[0m┃\u001b[1m \u001b[0m\u001b[1m1966\u001b[0m\u001b[1m   \u001b[0m\u001b[1m \u001b[0m┃\u001b[1m \u001b[0m\u001b[1m1967\u001b[0m\u001b[1m   \u001b[0m\u001b[1m \u001b[0m┃\u001b[1m \u001b[0m\u001b[1m1968\u001b[0m\u001b[1m   \u001b[0m\u001b[1m \u001b[0m┃\u001b[1m \u001b[0m\u001b[1m1969\u001b[0m\u001b[1m   \u001b[0m\u001b[1m \u001b[0m┃\u001b[1m \u001b[0m\u001b[1m1970\u001b[0m\u001b[1m   \u001b[0m\u001b[1m \u001b[0m┃\u001b[1m \u001b[0m\u001b[1m1971\u001b[0m\u001b[1m   \u001b[0m\u001b[1m \u001b[0m┃\u001b[1m \u001b[0m\u001b[1m1972\u001b[0m\u001b[1m   \u001b[0m\u001b[1m \u001b[0m┃\u001b[1m \u001b[0m\u001b[1m1973\u001b[0m\u001b[1m   \u001b[0m\u001b[1m \u001b[0m┃\u001b[1m \u001b[0m\u001b[1m1974\u001b[0m\u001b[1m   \u001b[0m\u001b[1m \u001b[0m┃\u001b[1m \u001b[0m\u001b[1m1975\u001b[0m\u001b[1m   \u001b[0m\u001b[1m \u001b[0m┃\u001b[1m \u001b[0m\u001b[1m1976\u001b[0m\u001b[1m   \u001b[0m\u001b[1m \u001b[0m┃\u001b[1m \u001b[0m\u001b[1m1977\u001b[0m\u001b[1m   \u001b[0m\u001b[1m \u001b[0m┃\u001b[1m \u001b[0m\u001b[1m1978\u001b[0m\u001b[1m   \u001b[0m\u001b[1m \u001b[0m┃\u001b[1m \u001b[0m\u001b[1m1979\u001b[0m\u001b[1m   \u001b[0m\u001b[1m \u001b[0m┃\u001b[1m \u001b[0m\u001b[1m1980\u001b[0m\u001b[1m   \u001b[0m\u001b[1m \u001b[0m┃\u001b[1m \u001b[0m\u001b[1m1981\u001b[0m\u001b[1m   \u001b[0m\u001b[1m \u001b[0m┃\u001b[1m \u001b[0m\u001b[1m1982\u001b[0m\u001b[1m   \u001b[0m\u001b[1m \u001b[0m┃\u001b[1m \u001b[0m\u001b[1m1983\u001b[0m\u001b[1m   \u001b[0m\u001b[1m \u001b[0m┃\u001b[1m \u001b[0m\u001b[1m1984\u001b[0m\u001b[1m   \u001b[0m\u001b[1m \u001b[0m┃\u001b[1m \u001b[0m\u001b[1m1985\u001b[0m\u001b[1m   \u001b[0m\u001b[1m \u001b[0m┃\u001b[1m \u001b[0m\u001b[1m1986\u001b[0m\u001b[1m   \u001b[0m\u001b[1m \u001b[0m┃\u001b[1m \u001b[0m\u001b[1m1987\u001b[0m\u001b[1m   \u001b[0m\u001b[1m \u001b[0m┃\u001b[1m \u001b[0m\u001b[1m1988\u001b[0m\u001b[1m   \u001b[0m\u001b[1m \u001b[0m┃\u001b[1m \u001b[0m\u001b[1m1989\u001b[0m\u001b[1m   \u001b[0m\u001b[1m \u001b[0m┃\u001b[1m \u001b[0m\u001b[1m1990\u001b[0m\u001b[1m   \u001b[0m\u001b[1m \u001b[0m┃\u001b[1m \u001b[0m\u001b[1m1991\u001b[0m\u001b[1m   \u001b[0m\u001b[1m \u001b[0m┃\u001b[1m \u001b[0m\u001b[1m1992\u001b[0m\u001b[1m   \u001b[0m\u001b[1m \u001b[0m┃\u001b[1m \u001b[0m\u001b[1m1993\u001b[0m\u001b[1m   \u001b[0m\u001b[1m \u001b[0m┃\u001b[1m \u001b[0m\u001b[1m1994\u001b[0m\u001b[1m   \u001b[0m\u001b[1m \u001b[0m┃\u001b[1m \u001b[0m\u001b[1m1995\u001b[0m\u001b[1m   \u001b[0m\u001b[1m \u001b[0m┃\u001b[1m \u001b[0m\u001b[1m1996\u001b[0m\u001b[1m   \u001b[0m\u001b[1m \u001b[0m┃\u001b[1m \u001b[0m\u001b[1m1997\u001b[0m\u001b[1m   \u001b[0m\u001b[1m \u001b[0m┃\u001b[1m \u001b[0m\u001b[1m1998\u001b[0m\u001b[1m   \u001b[0m\u001b[1m \u001b[0m┃\u001b[1m \u001b[0m\u001b[1m1999\u001b[0m\u001b[1m   \u001b[0m\u001b[1m \u001b[0m┃\u001b[1m \u001b[0m\u001b[1m2000\u001b[0m\u001b[1m   \u001b[0m\u001b[1m \u001b[0m┃\u001b[1m \u001b[0m\u001b[1m2001\u001b[0m\u001b[1m   \u001b[0m\u001b[1m \u001b[0m┃\u001b[1m \u001b[0m\u001b[1m2002\u001b[0m\u001b[1m        \u001b[0m\u001b[1m \u001b[0m┃\u001b[1m \u001b[0m\u001b[1m2003\u001b[0m\u001b[1m        \u001b[0m\u001b[1m \u001b[0m┃\u001b[1m \u001b[0m\u001b[1m2004\u001b[0m\u001b[1m        \u001b[0m\u001b[1m \u001b[0m┃\u001b[1m \u001b[0m\u001b[1m2005\u001b[0m\u001b[1m        \u001b[0m\u001b[1m \u001b[0m┃\u001b[1m \u001b[0m\u001b[1m2006\u001b[0m\u001b[1m        \u001b[0m\u001b[1m \u001b[0m┃\u001b[1m \u001b[0m\u001b[1m2007\u001b[0m\u001b[1m        \u001b[0m\u001b[1m \u001b[0m┃\u001b[1m \u001b[0m\u001b[1m2008\u001b[0m\u001b[1m        \u001b[0m\u001b[1m \u001b[0m┃\u001b[1m \u001b[0m\u001b[1m2009\u001b[0m\u001b[1m        \u001b[0m\u001b[1m \u001b[0m┃\u001b[1m \u001b[0m\u001b[1m2010\u001b[0m\u001b[1m        \u001b[0m\u001b[1m \u001b[0m┃\u001b[1m \u001b[0m\u001b[1m2011\u001b[0m\u001b[1m        \u001b[0m\u001b[1m \u001b[0m┃\u001b[1m \u001b[0m\u001b[1m2012\u001b[0m\u001b[1m        \u001b[0m\u001b[1m \u001b[0m┃\u001b[1m \u001b[0m\u001b[1m2013\u001b[0m\u001b[1m        \u001b[0m\u001b[1m \u001b[0m┃\u001b[1m \u001b[0m\u001b[1m2014\u001b[0m\u001b[1m        \u001b[0m\u001b[1m \u001b[0m┃\u001b[1m \u001b[0m\u001b[1m2015\u001b[0m\u001b[1m        \u001b[0m\u001b[1m \u001b[0m┃\u001b[1m \u001b[0m\u001b[1m2016\u001b[0m\u001b[1m        \u001b[0m\u001b[1m \u001b[0m┃\u001b[1m \u001b[0m\u001b[1m2017\u001b[0m\u001b[1m        \u001b[0m\u001b[1m \u001b[0m┃\u001b[1m \u001b[0m\u001b[1m2018\u001b[0m\u001b[1m        \u001b[0m\u001b[1m \u001b[0m┃\u001b[1m \u001b[0m\u001b[1m2019\u001b[0m\u001b[1m        \u001b[0m\u001b[1m \u001b[0m┃\u001b[1m \u001b[0m\u001b[1m2020\u001b[0m\u001b[1m        \u001b[0m\u001b[1m \u001b[0m┃\u001b[1m \u001b[0m\u001b[1m2021\u001b[0m\u001b[1m        \u001b[0m\u001b[1m \u001b[0m┃\u001b[1m \u001b[0m\u001b[1m2022\u001b[0m\u001b[1m        \u001b[0m\u001b[1m \u001b[0m┃\u001b[1m \u001b[0m\u001b[1m2023\u001b[0m\u001b[1m   \u001b[0m\u001b[1m \u001b[0m┃\n",
       "┡━━━━━━━━━━━━━━╇━━━━━━━━━━━━━━╇━━━━━━━━━━━━━━━━━━━━━━━━━━━━━━━━━━━━━━━━━━━━━━━━━━━━━━━━━━━━━━━━━━━━━━━━━━━━━━━━━━╇━━━━━━━━━━━━━━━━╇━━━━━━━━━╇━━━━━━━━━╇━━━━━━━━━╇━━━━━━━━━╇━━━━━━━━━╇━━━━━━━━━╇━━━━━━━━━╇━━━━━━━━━╇━━━━━━━━━╇━━━━━━━━━╇━━━━━━━━━╇━━━━━━━━━╇━━━━━━━━━╇━━━━━━━━━╇━━━━━━━━━╇━━━━━━━━━╇━━━━━━━━━╇━━━━━━━━━╇━━━━━━━━━╇━━━━━━━━━╇━━━━━━━━━╇━━━━━━━━━╇━━━━━━━━━╇━━━━━━━━━╇━━━━━━━━━╇━━━━━━━━━╇━━━━━━━━━╇━━━━━━━━━╇━━━━━━━━━╇━━━━━━━━━╇━━━━━━━━━╇━━━━━━━━━╇━━━━━━━━━╇━━━━━━━━━╇━━━━━━━━━╇━━━━━━━━━╇━━━━━━━━━╇━━━━━━━━━╇━━━━━━━━━╇━━━━━━━━━╇━━━━━━━━━╇━━━━━━━━━╇━━━━━━━━━━━━━━╇━━━━━━━━━━━━━━╇━━━━━━━━━━━━━━╇━━━━━━━━━━━━━━╇━━━━━━━━━━━━━━╇━━━━━━━━━━━━━━╇━━━━━━━━━━━━━━╇━━━━━━━━━━━━━━╇━━━━━━━━━━━━━━╇━━━━━━━━━━━━━━╇━━━━━━━━━━━━━━╇━━━━━━━━━━━━━━╇━━━━━━━━━━━━━━╇━━━━━━━━━━━━━━╇━━━━━━━━━━━━━━╇━━━━━━━━━━━━━━╇━━━━━━━━━━━━━━╇━━━━━━━━━━━━━━╇━━━━━━━━━━━━━━╇━━━━━━━━━━━━━━╇━━━━━━━━━━━━━━╇━━━━━━━━━┩\n",
       "│ \u001b[2mstring\u001b[0m       │ \u001b[2mstring\u001b[0m       │ \u001b[2mstring\u001b[0m                                                                           │ \u001b[2mstring\u001b[0m         │ \u001b[2mfloat64\u001b[0m │ \u001b[2mfloat64\u001b[0m │ \u001b[2mfloat64\u001b[0m │ \u001b[2mfloat64\u001b[0m │ \u001b[2mfloat64\u001b[0m │ \u001b[2mfloat64\u001b[0m │ \u001b[2mfloat64\u001b[0m │ \u001b[2mfloat64\u001b[0m │ \u001b[2mfloat64\u001b[0m │ \u001b[2mfloat64\u001b[0m │ \u001b[2mfloat64\u001b[0m │ \u001b[2mfloat64\u001b[0m │ \u001b[2mfloat64\u001b[0m │ \u001b[2mfloat64\u001b[0m │ \u001b[2mfloat64\u001b[0m │ \u001b[2mfloat64\u001b[0m │ \u001b[2mfloat64\u001b[0m │ \u001b[2mfloat64\u001b[0m │ \u001b[2mfloat64\u001b[0m │ \u001b[2mfloat64\u001b[0m │ \u001b[2mfloat64\u001b[0m │ \u001b[2mfloat64\u001b[0m │ \u001b[2mfloat64\u001b[0m │ \u001b[2mfloat64\u001b[0m │ \u001b[2mfloat64\u001b[0m │ \u001b[2mfloat64\u001b[0m │ \u001b[2mfloat64\u001b[0m │ \u001b[2mfloat64\u001b[0m │ \u001b[2mfloat64\u001b[0m │ \u001b[2mfloat64\u001b[0m │ \u001b[2mfloat64\u001b[0m │ \u001b[2mfloat64\u001b[0m │ \u001b[2mfloat64\u001b[0m │ \u001b[2mfloat64\u001b[0m │ \u001b[2mfloat64\u001b[0m │ \u001b[2mfloat64\u001b[0m │ \u001b[2mfloat64\u001b[0m │ \u001b[2mfloat64\u001b[0m │ \u001b[2mfloat64\u001b[0m │ \u001b[2mfloat64\u001b[0m │ \u001b[2mfloat64\u001b[0m │ \u001b[2mfloat64\u001b[0m │ \u001b[2mfloat64\u001b[0m      │ \u001b[2mfloat64\u001b[0m      │ \u001b[2mfloat64\u001b[0m      │ \u001b[2mfloat64\u001b[0m      │ \u001b[2mfloat64\u001b[0m      │ \u001b[2mfloat64\u001b[0m      │ \u001b[2mfloat64\u001b[0m      │ \u001b[2mfloat64\u001b[0m      │ \u001b[2mfloat64\u001b[0m      │ \u001b[2mfloat64\u001b[0m      │ \u001b[2mfloat64\u001b[0m      │ \u001b[2mfloat64\u001b[0m      │ \u001b[2mfloat64\u001b[0m      │ \u001b[2mfloat64\u001b[0m      │ \u001b[2mfloat64\u001b[0m      │ \u001b[2mfloat64\u001b[0m      │ \u001b[2mfloat64\u001b[0m      │ \u001b[2mfloat64\u001b[0m      │ \u001b[2mfloat64\u001b[0m      │ \u001b[2mfloat64\u001b[0m      │ \u001b[2mfloat64\u001b[0m      │ \u001b[2mfloat64\u001b[0m │\n",
       "├──────────────┼──────────────┼──────────────────────────────────────────────────────────────────────────────────┼────────────────┼─────────┼─────────┼─────────┼─────────┼─────────┼─────────┼─────────┼─────────┼─────────┼─────────┼─────────┼─────────┼─────────┼─────────┼─────────┼─────────┼─────────┼─────────┼─────────┼─────────┼─────────┼─────────┼─────────┼─────────┼─────────┼─────────┼─────────┼─────────┼─────────┼─────────┼─────────┼─────────┼─────────┼─────────┼─────────┼─────────┼─────────┼─────────┼─────────┼─────────┼─────────┼─────────┼──────────────┼──────────────┼──────────────┼──────────────┼──────────────┼──────────────┼──────────────┼──────────────┼──────────────┼──────────────┼──────────────┼──────────────┼──────────────┼──────────────┼──────────────┼──────────────┼──────────────┼──────────────┼──────────────┼──────────────┼──────────────┼─────────┤\n",
       "│ \u001b[32mAfghanistan \u001b[0m │ \u001b[32mAFG         \u001b[0m │ \u001b[32mManufacturing, value added (current LCU)                                        \u001b[0m │ \u001b[32mNV.IND.MANF.CN\u001b[0m │    \u001b[2mNULL\u001b[0m │    \u001b[2mNULL\u001b[0m │    \u001b[2mNULL\u001b[0m │    \u001b[2mNULL\u001b[0m │    \u001b[2mNULL\u001b[0m │    \u001b[2mNULL\u001b[0m │    \u001b[2mNULL\u001b[0m │    \u001b[2mNULL\u001b[0m │    \u001b[2mNULL\u001b[0m │    \u001b[2mNULL\u001b[0m │    \u001b[2mNULL\u001b[0m │    \u001b[2mNULL\u001b[0m │    \u001b[2mNULL\u001b[0m │    \u001b[2mNULL\u001b[0m │    \u001b[2mNULL\u001b[0m │    \u001b[2mNULL\u001b[0m │    \u001b[2mNULL\u001b[0m │    \u001b[2mNULL\u001b[0m │    \u001b[2mNULL\u001b[0m │    \u001b[2mNULL\u001b[0m │    \u001b[2mNULL\u001b[0m │    \u001b[2mNULL\u001b[0m │    \u001b[2mNULL\u001b[0m │    \u001b[2mNULL\u001b[0m │    \u001b[2mNULL\u001b[0m │    \u001b[2mNULL\u001b[0m │    \u001b[2mNULL\u001b[0m │    \u001b[2mNULL\u001b[0m │    \u001b[2mNULL\u001b[0m │    \u001b[2mNULL\u001b[0m │    \u001b[2mNULL\u001b[0m │    \u001b[2mNULL\u001b[0m │    \u001b[2mNULL\u001b[0m │    \u001b[2mNULL\u001b[0m │    \u001b[2mNULL\u001b[0m │    \u001b[2mNULL\u001b[0m │    \u001b[2mNULL\u001b[0m │    \u001b[2mNULL\u001b[0m │    \u001b[2mNULL\u001b[0m │    \u001b[2mNULL\u001b[0m │    \u001b[2mNULL\u001b[0m │    \u001b[2mNULL\u001b[0m │ \u001b[1;36m3.428804e+10\u001b[0m │ \u001b[1;36m3.746243e+10\u001b[0m │ \u001b[1;36m4.384849e+10\u001b[0m │ \u001b[1;36m5.114959e+10\u001b[0m │ \u001b[1;36m5.702960e+10\u001b[0m │ \u001b[1;36m8.614882e+10\u001b[0m │ \u001b[1;36m9.187981e+10\u001b[0m │ \u001b[1;36m8.043676e+10\u001b[0m │ \u001b[1;36m9.094285e+10\u001b[0m │ \u001b[1;36m1.171710e+11\u001b[0m │ \u001b[1;36m1.284561e+11\u001b[0m │ \u001b[1;36m1.309616e+11\u001b[0m │ \u001b[1;36m1.350303e+11\u001b[0m │ \u001b[1;36m1.396389e+11\u001b[0m │ \u001b[1;36m5.031320e+10\u001b[0m │ \u001b[1;36m4.538218e+10\u001b[0m │ \u001b[1;36m8.178808e+10\u001b[0m │ \u001b[1;36m1.035063e+11\u001b[0m │ \u001b[1;36m1.155540e+11\u001b[0m │ \u001b[1;36m1.062640e+11\u001b[0m │ \u001b[1;36m1.307860e+11\u001b[0m │    \u001b[2mNULL\u001b[0m │\n",
       "│ \u001b[32mAfghanistan \u001b[0m │ \u001b[32mAFG         \u001b[0m │ \u001b[32mYoung people (ages 15-24) newly infected with HIV                               \u001b[0m │ \u001b[32mSH.HIV.INCD.YG\u001b[0m │    \u001b[2mNULL\u001b[0m │    \u001b[2mNULL\u001b[0m │    \u001b[2mNULL\u001b[0m │    \u001b[2mNULL\u001b[0m │    \u001b[2mNULL\u001b[0m │    \u001b[2mNULL\u001b[0m │    \u001b[2mNULL\u001b[0m │    \u001b[2mNULL\u001b[0m │    \u001b[2mNULL\u001b[0m │    \u001b[2mNULL\u001b[0m │    \u001b[2mNULL\u001b[0m │    \u001b[2mNULL\u001b[0m │    \u001b[2mNULL\u001b[0m │    \u001b[2mNULL\u001b[0m │    \u001b[2mNULL\u001b[0m │    \u001b[2mNULL\u001b[0m │    \u001b[2mNULL\u001b[0m │    \u001b[2mNULL\u001b[0m │    \u001b[2mNULL\u001b[0m │    \u001b[2mNULL\u001b[0m │    \u001b[2mNULL\u001b[0m │    \u001b[2mNULL\u001b[0m │    \u001b[2mNULL\u001b[0m │    \u001b[2mNULL\u001b[0m │    \u001b[2mNULL\u001b[0m │    \u001b[2mNULL\u001b[0m │    \u001b[2mNULL\u001b[0m │    \u001b[2mNULL\u001b[0m │    \u001b[2mNULL\u001b[0m │    \u001b[2mNULL\u001b[0m │   \u001b[1;36m100.0\u001b[0m │   \u001b[1;36m100.0\u001b[0m │   \u001b[1;36m100.0\u001b[0m │   \u001b[1;36m100.0\u001b[0m │   \u001b[1;36m200.0\u001b[0m │   \u001b[1;36m200.0\u001b[0m │   \u001b[1;36m200.0\u001b[0m │   \u001b[1;36m200.0\u001b[0m │   \u001b[1;36m200.0\u001b[0m │   \u001b[1;36m200.0\u001b[0m │   \u001b[1;36m200.0\u001b[0m │   \u001b[1;36m200.0\u001b[0m │ \u001b[1;36m5.000000e+02\u001b[0m │ \u001b[1;36m5.000000e+02\u001b[0m │ \u001b[1;36m5.000000e+02\u001b[0m │ \u001b[1;36m5.000000e+02\u001b[0m │ \u001b[1;36m5.000000e+02\u001b[0m │ \u001b[1;36m5.000000e+02\u001b[0m │ \u001b[1;36m5.000000e+02\u001b[0m │ \u001b[1;36m5.000000e+02\u001b[0m │ \u001b[1;36m5.000000e+02\u001b[0m │ \u001b[1;36m5.000000e+02\u001b[0m │ \u001b[1;36m5.000000e+02\u001b[0m │ \u001b[1;36m5.000000e+02\u001b[0m │ \u001b[1;36m5.000000e+02\u001b[0m │ \u001b[1;36m5.000000e+02\u001b[0m │ \u001b[1;36m5.000000e+02\u001b[0m │ \u001b[1;36m5.000000e+02\u001b[0m │ \u001b[1;36m5.000000e+02\u001b[0m │ \u001b[1;36m5.000000e+02\u001b[0m │ \u001b[1;36m5.000000e+02\u001b[0m │ \u001b[1;36m5.000000e+02\u001b[0m │ \u001b[1;36m5.000000e+02\u001b[0m │    \u001b[2mNULL\u001b[0m │\n",
       "│ \u001b[32mAfghanistan \u001b[0m │ \u001b[32mAFG         \u001b[0m │ \u001b[32mInternally displaced persons, new displacement associated with conflict and vio…\u001b[0m │ \u001b[32mVC.IDP.NWCV   \u001b[0m │    \u001b[2mNULL\u001b[0m │    \u001b[2mNULL\u001b[0m │    \u001b[2mNULL\u001b[0m │    \u001b[2mNULL\u001b[0m │    \u001b[2mNULL\u001b[0m │    \u001b[2mNULL\u001b[0m │    \u001b[2mNULL\u001b[0m │    \u001b[2mNULL\u001b[0m │    \u001b[2mNULL\u001b[0m │    \u001b[2mNULL\u001b[0m │    \u001b[2mNULL\u001b[0m │    \u001b[2mNULL\u001b[0m │    \u001b[2mNULL\u001b[0m │    \u001b[2mNULL\u001b[0m │    \u001b[2mNULL\u001b[0m │    \u001b[2mNULL\u001b[0m │    \u001b[2mNULL\u001b[0m │    \u001b[2mNULL\u001b[0m │    \u001b[2mNULL\u001b[0m │    \u001b[2mNULL\u001b[0m │    \u001b[2mNULL\u001b[0m │    \u001b[2mNULL\u001b[0m │    \u001b[2mNULL\u001b[0m │    \u001b[2mNULL\u001b[0m │    \u001b[2mNULL\u001b[0m │    \u001b[2mNULL\u001b[0m │    \u001b[2mNULL\u001b[0m │    \u001b[2mNULL\u001b[0m │    \u001b[2mNULL\u001b[0m │    \u001b[2mNULL\u001b[0m │    \u001b[2mNULL\u001b[0m │    \u001b[2mNULL\u001b[0m │    \u001b[2mNULL\u001b[0m │    \u001b[2mNULL\u001b[0m │    \u001b[2mNULL\u001b[0m │    \u001b[2mNULL\u001b[0m │    \u001b[2mNULL\u001b[0m │    \u001b[2mNULL\u001b[0m │    \u001b[2mNULL\u001b[0m │    \u001b[2mNULL\u001b[0m │    \u001b[2mNULL\u001b[0m │    \u001b[2mNULL\u001b[0m │         \u001b[2mNULL\u001b[0m │         \u001b[2mNULL\u001b[0m │         \u001b[2mNULL\u001b[0m │         \u001b[2mNULL\u001b[0m │         \u001b[2mNULL\u001b[0m │         \u001b[2mNULL\u001b[0m │         \u001b[2mNULL\u001b[0m │         \u001b[2mNULL\u001b[0m │ \u001b[1;36m1.020000e+05\u001b[0m │ \u001b[1;36m1.860000e+05\u001b[0m │ \u001b[1;36m1.000000e+05\u001b[0m │ \u001b[1;36m1.240000e+05\u001b[0m │ \u001b[1;36m1.560000e+05\u001b[0m │ \u001b[1;36m3.350000e+05\u001b[0m │ \u001b[1;36m6.530000e+05\u001b[0m │ \u001b[1;36m4.740000e+05\u001b[0m │ \u001b[1;36m3.720000e+05\u001b[0m │ \u001b[1;36m4.610000e+05\u001b[0m │ \u001b[1;36m4.040000e+05\u001b[0m │ \u001b[1;36m7.230000e+05\u001b[0m │ \u001b[1;36m3.200000e+04\u001b[0m │    \u001b[2mNULL\u001b[0m │\n",
       "└──────────────┴──────────────┴──────────────────────────────────────────────────────────────────────────────────┴────────────────┴─────────┴─────────┴─────────┴─────────┴─────────┴─────────┴─────────┴─────────┴─────────┴─────────┴─────────┴─────────┴─────────┴─────────┴─────────┴─────────┴─────────┴─────────┴─────────┴─────────┴─────────┴─────────┴─────────┴─────────┴─────────┴─────────┴─────────┴─────────┴─────────┴─────────┴─────────┴─────────┴─────────┴─────────┴─────────┴─────────┴─────────┴─────────┴─────────┴─────────┴─────────┴─────────┴──────────────┴──────────────┴──────────────┴──────────────┴──────────────┴──────────────┴──────────────┴──────────────┴──────────────┴──────────────┴──────────────┴──────────────┴──────────────┴──────────────┴──────────────┴──────────────┴──────────────┴──────────────┴──────────────┴──────────────┴──────────────┴─────────┘"
      ]
     },
     "execution_count": 33,
     "metadata": {},
     "output_type": "execute_result"
    }
   ],
   "source": [
    "# should not be null\n",
    "wdi.filter(_.country_code.isin(missing_countries_year)).order_by(\"country_name\").head(3)"
   ]
  },
  {
   "cell_type": "markdown",
   "metadata": {
    "tags": [
     "rm_cell"
    ]
   },
   "source": [
    "### Indicators \n",
    "\n",
    "#### WDI\n",
    "\n",
    "More on the indicators considered from the wdi website : https://datacatalog.worldbank.org/search/dataset/0037712/World-Development-Indicators.\n",
    "\n",
    "\n",
    "##### Agriculture, forestry, and fishing, value added (ppercentage of GDP)\n",
    "\n",
    "Agriculture corresponds to ISIC divisions 1-5 and includes forestry, hunting, and fishing, as well as cultivation of crops and livestock production. Value added is the net output of a sector after adding up all outputs and subtracting intermediate inputs. It is calculated without making deductions for depreciation of fabricated assets or depletion and degradation of natural resources. The origin of value added is determined by the International Standard Industrial Classification (ISIC), revision 3. Note: For VAB countries, gross value added at factor cost is used as the denominator.\n",
    "\n",
    "##### Industry (including construction), value added (% of GDP)\n",
    "\n",
    "Industry corresponds to ISIC divisions 10-45 and includes manufacturing (ISIC divisions 15-37). It comprises value added in mining, manufacturing (also reported as a separate subgroup), construction, electricity, water, and gas. Value added is the net output of a sector after adding up all outputs and subtracting intermediate inputs. It is calculated without making deductions for depreciation of fabricated assets or depletion and degradation of natural resources. The origin of value added is determined by the International Standard Industrial Classification (ISIC), revision 3. Note: For VAB countries, gross value added at factor cost is used as the denominator.\n",
    "\n",
    "##### Manufacturing, value added (% of GDP)\n",
    "\n",
    "Manufacturing refers to industries belonging to ISIC divisions 15-37. Value added is the net output of a sector after adding up all outputs and subtracting intermediate inputs. It is calculated without making deductions for depreciation of fabricated assets or depletion and degradation of natural resources. The origin of value added is determined by the International Standard Industrial Classification (ISIC), revision 3. Note: For VAB countries, gross value added at factor cost is used as the denominator.\n",
    "\n",
    "##### Services, value added (% of GDP)\n",
    "\n",
    "Services correspond to ISIC divisions 50-99 and they include value added in wholesale and retail trade (including hotels and restaurants), transport, and government, financial, professional, and personal services such as education, health care, and real estate services. Also included are imputed bank service charges, import duties, and any statistical discrepancies noted by national compilers as well as discrepancies arising from rescaling. Value added is the net output of a sector after adding up all outputs and subtracting intermediate inputs. It is calculated without making deductions for depreciation of fabricated assets or depletion and degradation of natural resources. The industrial origin of value added is determined by the International Standard Industrial Classification (ISIC), revision 3 or 4.\n",
    "\n",
    "#### <font color='green'>Manufacturing is included in construction !!!</font>\n"
   ]
  },
  {
   "cell_type": "markdown",
   "metadata": {
    "tags": [
     "rm_cell"
    ]
   },
   "source": [
    "### DOSE"
   ]
  },
  {
   "cell_type": "markdown",
   "metadata": {
    "tags": [
     "rm_cell"
    ]
   },
   "source": [
    "<!-- ![Dose ISIC classification](../img/dose_isic_table.png) -->\n",
    "<center>\n",
    "<img src=\"../img/dose_isic_table.png\" width=\"50%\">\n",
    "</center>\n",
    "\n",
    "<!-- # from IPython.display import Image\n",
    "# Image(filename=\"../img/dose_isic_table.png\", width=700) -->"
   ]
  },
  {
   "cell_type": "markdown",
   "metadata": {
    "tags": [
     "rm_cell"
    ]
   },
   "source": [
    "### Remarks\n",
    "\n",
    "* The ISIC divisions 46-49 (inclusive) seem not to be covered in WDI, the are in the *services* category in DOSE.\n",
    "* In order to match with DOSE, the *industry* variable from WDI (which includes *manufacturing*) is renamed into *manufacturing* later on."
   ]
  },
  {
   "cell_type": "code",
   "execution_count": 34,
   "metadata": {},
   "outputs": [
    {
     "data": {
      "text/plain": [
       "['Access to clean fuels and technologies for cooking (% of population)',\n",
       " 'Access to clean fuels and technologies for cooking, rural (% of rural population)',\n",
       " 'Access to clean fuels and technologies for cooking, urban (% of urban population)',\n",
       " 'Access to electricity (% of population)',\n",
       " 'Access to electricity, rural (% of rural population)',\n",
       " 'Access to electricity, urban (% of urban population)',\n",
       " 'Account ownership at a financial institution or with a mobile-money-service provider (% of population ages 15+)',\n",
       " 'Account ownership at a financial institution or with a mobile-money-service provider, female (% of population ages 15+)',\n",
       " 'Account ownership at a financial institution or with a mobile-money-service provider, male (% of population ages 15+)']"
      ]
     },
     "execution_count": 34,
     "metadata": {},
     "output_type": "execute_result"
    }
   ],
   "source": [
    "indicators = wdi.indicator_name.to_pandas().unique().tolist()\n",
    "indicators[0:9]"
   ]
  },
  {
   "cell_type": "code",
   "execution_count": 35,
   "metadata": {},
   "outputs": [],
   "source": [
    "# subsetting the variables with relevant currency as constant 2015 values\n",
    "# [x for x in indicators if re.search(string=x,pattern=\"constant 2015 US\\\\$\")]\n",
    "# [x for x in indicators if re.search(string=x,pattern=\"\\\\% of GDP\")]"
   ]
  },
  {
   "cell_type": "code",
   "execution_count": 36,
   "metadata": {},
   "outputs": [],
   "source": [
    "# manually getting the useful variables and storing in a dict with simplified names.\n",
    "indicators_of_intereset_perc = {\n",
    "    \"country\" : \"country_name\",\n",
    "    \"grp_usd_2015\" : 'GDP (constant 2015 US$)',\n",
    "    \"gdp_cap\" : \"GDP per capita (constant 2015 US$)\",\n",
    "    \"industry_perc\" : \"Industry (including construction), value added (% of GDP)\",\n",
    "    \"services_perc\" : \"Services, value added (% of GDP)\",\n",
    "    \"agriculture_perc\" : \"Agriculture, forestry, and fishing, value added (% of GDP)\",\n",
    "}\n",
    "\n",
    "indicators_of_intereset_usd_2015 = {\n",
    "    \"country\" : \"country_name\",\n",
    "    \"grp_usd_2015\" : 'GDP (constant 2015 US$)',\n",
    "    \"gdp_cap\" : \"GDP per capita (constant 2015 US$)\",\n",
    "    \"industry_usd_2015\" : \"Industry (including construction), value added (constant 2015 US$)\",\n",
    "    \"services_usd_2015\" : \"Services, value added (constant 2015 US$)\",\n",
    "    \"agriculture_usd_2015\" : \"Agriculture, forestry, and fishing, value added (constant 2015 US$)\",\n",
    "    \n",
    "}\n"
   ]
  },
  {
   "cell_type": "code",
   "execution_count": 37,
   "metadata": {},
   "outputs": [],
   "source": [
    "# select here which dict of indicators to use : the _usd_2015 is considered only at this point\n",
    "indicators_of_intereset = indicators_of_intereset_usd_2015"
   ]
  },
  {
   "cell_type": "code",
   "execution_count": 38,
   "metadata": {},
   "outputs": [],
   "source": [
    "if str(year) not in wdi.columns:\n",
    "    raise ValueError(\"No such year ({}) in WDI data\".format(year))"
   ]
  },
  {
   "cell_type": "code",
   "execution_count": 39,
   "metadata": {},
   "outputs": [],
   "source": [
    "wdi_cols = [\"country_name\",\"country_code\",\"indicator_name\",\"indicator_code\",str(year)]\n",
    "\n",
    "# keeping indicators of interest and countries of interest\n",
    "wdi_of_interest = wdi.select(wdi_cols).filter(_.indicator_name.isin(indicators_of_intereset.values()))"
   ]
  },
  {
   "cell_type": "code",
   "execution_count": 40,
   "metadata": {},
   "outputs": [],
   "source": [
    "# get the data of interest into a pandas df\n",
    "wdi_df = wdi_of_interest.filter(_.country_code.isin(missing_regions)).to_pandas()"
   ]
  },
  {
   "cell_type": "code",
   "execution_count": 41,
   "metadata": {
    "tags": [
     "rm_cell"
    ]
   },
   "outputs": [
    {
     "name": "stdout",
     "output_type": "stream",
     "text": [
      "(665, 5)\n"
     ]
    },
    {
     "data": {
      "text/html": [
       "<div>\n",
       "<style scoped>\n",
       "    .dataframe tbody tr th:only-of-type {\n",
       "        vertical-align: middle;\n",
       "    }\n",
       "\n",
       "    .dataframe tbody tr th {\n",
       "        vertical-align: top;\n",
       "    }\n",
       "\n",
       "    .dataframe thead th {\n",
       "        text-align: right;\n",
       "    }\n",
       "</style>\n",
       "<table border=\"1\" class=\"dataframe\">\n",
       "  <thead>\n",
       "    <tr style=\"text-align: right;\">\n",
       "      <th></th>\n",
       "      <th>country_name</th>\n",
       "      <th>country_code</th>\n",
       "      <th>indicator_name</th>\n",
       "      <th>indicator_code</th>\n",
       "      <th>2015</th>\n",
       "    </tr>\n",
       "  </thead>\n",
       "  <tbody>\n",
       "    <tr>\n",
       "      <th>0</th>\n",
       "      <td>French Polynesia</td>\n",
       "      <td>PYF</td>\n",
       "      <td>Agriculture, forestry, and fishing, value adde...</td>\n",
       "      <td>NV.AGR.TOTL.KD</td>\n",
       "      <td>1.719428e+08</td>\n",
       "    </tr>\n",
       "    <tr>\n",
       "      <th>1</th>\n",
       "      <td>French Polynesia</td>\n",
       "      <td>PYF</td>\n",
       "      <td>GDP (constant 2015 US$)</td>\n",
       "      <td>NY.GDP.MKTP.KD</td>\n",
       "      <td>5.325846e+09</td>\n",
       "    </tr>\n",
       "    <tr>\n",
       "      <th>2</th>\n",
       "      <td>French Polynesia</td>\n",
       "      <td>PYF</td>\n",
       "      <td>GDP per capita (constant 2015 US$)</td>\n",
       "      <td>NY.GDP.PCAP.KD</td>\n",
       "      <td>1.825251e+04</td>\n",
       "    </tr>\n",
       "    <tr>\n",
       "      <th>3</th>\n",
       "      <td>French Polynesia</td>\n",
       "      <td>PYF</td>\n",
       "      <td>Industry (including construction), value added...</td>\n",
       "      <td>NV.IND.TOTL.KD</td>\n",
       "      <td>5.765145e+08</td>\n",
       "    </tr>\n",
       "    <tr>\n",
       "      <th>4</th>\n",
       "      <td>French Polynesia</td>\n",
       "      <td>PYF</td>\n",
       "      <td>Services, value added (constant 2015 US$)</td>\n",
       "      <td>NV.SRV.TOTL.KD</td>\n",
       "      <td>4.038549e+09</td>\n",
       "    </tr>\n",
       "  </tbody>\n",
       "</table>\n",
       "</div>"
      ],
      "text/plain": [
       "       country_name country_code  \\\n",
       "0  French Polynesia          PYF   \n",
       "1  French Polynesia          PYF   \n",
       "2  French Polynesia          PYF   \n",
       "3  French Polynesia          PYF   \n",
       "4  French Polynesia          PYF   \n",
       "\n",
       "                                      indicator_name  indicator_code  \\\n",
       "0  Agriculture, forestry, and fishing, value adde...  NV.AGR.TOTL.KD   \n",
       "1                            GDP (constant 2015 US$)  NY.GDP.MKTP.KD   \n",
       "2                 GDP per capita (constant 2015 US$)  NY.GDP.PCAP.KD   \n",
       "3  Industry (including construction), value added...  NV.IND.TOTL.KD   \n",
       "4          Services, value added (constant 2015 US$)  NV.SRV.TOTL.KD   \n",
       "\n",
       "           2015  \n",
       "0  1.719428e+08  \n",
       "1  5.325846e+09  \n",
       "2  1.825251e+04  \n",
       "3  5.765145e+08  \n",
       "4  4.038549e+09  "
      ]
     },
     "execution_count": 41,
     "metadata": {},
     "output_type": "execute_result"
    }
   ],
   "source": [
    "print(wdi_df.shape)\n",
    "wdi_df.head(5)"
   ]
  },
  {
   "cell_type": "markdown",
   "metadata": {},
   "source": [
    "### Manually adding Venezuela"
   ]
  },
  {
   "cell_type": "code",
   "execution_count": 43,
   "metadata": {},
   "outputs": [
    {
     "data": {
      "text/html": [
       "<div>\n",
       "<style scoped>\n",
       "    .dataframe tbody tr th:only-of-type {\n",
       "        vertical-align: middle;\n",
       "    }\n",
       "\n",
       "    .dataframe tbody tr th {\n",
       "        vertical-align: top;\n",
       "    }\n",
       "\n",
       "    .dataframe thead th {\n",
       "        text-align: right;\n",
       "    }\n",
       "</style>\n",
       "<table border=\"1\" class=\"dataframe\">\n",
       "  <thead>\n",
       "    <tr style=\"text-align: right;\">\n",
       "      <th></th>\n",
       "      <th></th>\n",
       "      <th>2015</th>\n",
       "    </tr>\n",
       "    <tr>\n",
       "      <th>indicator_code</th>\n",
       "      <th>country_code</th>\n",
       "      <th></th>\n",
       "    </tr>\n",
       "  </thead>\n",
       "  <tbody>\n",
       "    <tr>\n",
       "      <th>NV.AGR.TOTL.KD</th>\n",
       "      <th>VEN</th>\n",
       "      <td>1.573330e+10</td>\n",
       "    </tr>\n",
       "    <tr>\n",
       "      <th>NY.GDP.MKTP.KD</th>\n",
       "      <th>VEN</th>\n",
       "      <td>3.347510e+11</td>\n",
       "    </tr>\n",
       "    <tr>\n",
       "      <th>NY.GDP.PCAP.KD</th>\n",
       "      <th>VEN</th>\n",
       "      <td>9.417000e+03</td>\n",
       "    </tr>\n",
       "    <tr>\n",
       "      <th>NV.IND.TOTL.KD</th>\n",
       "      <th>VEN</th>\n",
       "      <td>1.352394e+11</td>\n",
       "    </tr>\n",
       "    <tr>\n",
       "      <th>NV.SRV.TOTL.KD</th>\n",
       "      <th>VEN</th>\n",
       "      <td>1.837783e+11</td>\n",
       "    </tr>\n",
       "  </tbody>\n",
       "</table>\n",
       "</div>"
      ],
      "text/plain": [
       "                                     2015\n",
       "indicator_code country_code              \n",
       "NV.AGR.TOTL.KD VEN           1.573330e+10\n",
       "NY.GDP.MKTP.KD VEN           3.347510e+11\n",
       "NY.GDP.PCAP.KD VEN           9.417000e+03\n",
       "NV.IND.TOTL.KD VEN           1.352394e+11\n",
       "NV.SRV.TOTL.KD VEN           1.837783e+11"
      ]
     },
     "execution_count": 43,
     "metadata": {},
     "output_type": "execute_result"
    }
   ],
   "source": [
    "# filling available values for Venzuela from other sources.\n",
    "# This source: https://www.cia.gov/the-world-factbook/countries/venezuela/#economy\n",
    "\n",
    "gdp_2017 = 334.751e9\n",
    "gdp_pc_2017 = 9_417 \n",
    "\n",
    "manuf_gdp_frac = 0.404\n",
    "serv_gdp_frac = 0.549\n",
    "agri_gdp_frac = 0.047\n",
    "\n",
    "venezuela_gaps = {\"indicator_code\" : [\"NV.AGR.TOTL.KD\",\"NY.GDP.MKTP.KD\",\"NY.GDP.PCAP.KD\",\"NV.IND.TOTL.KD\",\"NV.SRV.TOTL.KD\"]\n",
    "                  ,str(year) : [agri_gdp_frac*gdp_2017, gdp_2017, gdp_pc_2017, manuf_gdp_frac*gdp_2017, serv_gdp_frac*gdp_2017]\n",
    "                  ,\"country_code\" : [\"VEN\"]*5}\n",
    "\n",
    "venezuela_gaps_df = pd.DataFrame(venezuela_gaps).set_index([\"indicator_code\",\"country_code\"])\n",
    "\n",
    "venezuela_gaps_df"
   ]
  },
  {
   "cell_type": "code",
   "execution_count": 44,
   "metadata": {},
   "outputs": [],
   "source": [
    "wdi_df.set_index([\"indicator_code\",\"country_code\"],inplace=True)\n"
   ]
  },
  {
   "cell_type": "code",
   "execution_count": 45,
   "metadata": {},
   "outputs": [],
   "source": [
    "wdi_df.loc[venezuela_gaps_df.index,\"2015\"]=venezuela_gaps_df"
   ]
  },
  {
   "cell_type": "code",
   "execution_count": 46,
   "metadata": {},
   "outputs": [],
   "source": [
    "wdi_df.reset_index(inplace=True,drop=False)"
   ]
  },
  {
   "cell_type": "code",
   "execution_count": 47,
   "metadata": {
    "tags": [
     "rm_cell"
    ]
   },
   "outputs": [
    {
     "data": {
      "text/html": [
       "<div>\n",
       "<style scoped>\n",
       "    .dataframe tbody tr th:only-of-type {\n",
       "        vertical-align: middle;\n",
       "    }\n",
       "\n",
       "    .dataframe tbody tr th {\n",
       "        vertical-align: top;\n",
       "    }\n",
       "\n",
       "    .dataframe thead th {\n",
       "        text-align: right;\n",
       "    }\n",
       "</style>\n",
       "<table border=\"1\" class=\"dataframe\">\n",
       "  <thead>\n",
       "    <tr style=\"text-align: right;\">\n",
       "      <th></th>\n",
       "      <th>indicator_code</th>\n",
       "      <th>country_code</th>\n",
       "      <th>country_name</th>\n",
       "      <th>indicator_name</th>\n",
       "      <th>2015</th>\n",
       "    </tr>\n",
       "  </thead>\n",
       "  <tbody>\n",
       "    <tr>\n",
       "      <th>581</th>\n",
       "      <td>NV.AGR.TOTL.KD</td>\n",
       "      <td>VEN</td>\n",
       "      <td>Venezuela, RB</td>\n",
       "      <td>Agriculture, forestry, and fishing, value adde...</td>\n",
       "      <td>1.573330e+10</td>\n",
       "    </tr>\n",
       "    <tr>\n",
       "      <th>582</th>\n",
       "      <td>NY.GDP.MKTP.KD</td>\n",
       "      <td>VEN</td>\n",
       "      <td>Venezuela, RB</td>\n",
       "      <td>GDP (constant 2015 US$)</td>\n",
       "      <td>3.347510e+11</td>\n",
       "    </tr>\n",
       "    <tr>\n",
       "      <th>583</th>\n",
       "      <td>NY.GDP.PCAP.KD</td>\n",
       "      <td>VEN</td>\n",
       "      <td>Venezuela, RB</td>\n",
       "      <td>GDP per capita (constant 2015 US$)</td>\n",
       "      <td>9.417000e+03</td>\n",
       "    </tr>\n",
       "    <tr>\n",
       "      <th>584</th>\n",
       "      <td>NV.IND.TOTL.KD</td>\n",
       "      <td>VEN</td>\n",
       "      <td>Venezuela, RB</td>\n",
       "      <td>Industry (including construction), value added...</td>\n",
       "      <td>1.352394e+11</td>\n",
       "    </tr>\n",
       "    <tr>\n",
       "      <th>585</th>\n",
       "      <td>NV.SRV.TOTL.KD</td>\n",
       "      <td>VEN</td>\n",
       "      <td>Venezuela, RB</td>\n",
       "      <td>Services, value added (constant 2015 US$)</td>\n",
       "      <td>1.837783e+11</td>\n",
       "    </tr>\n",
       "  </tbody>\n",
       "</table>\n",
       "</div>"
      ],
      "text/plain": [
       "     indicator_code country_code   country_name  \\\n",
       "581  NV.AGR.TOTL.KD          VEN  Venezuela, RB   \n",
       "582  NY.GDP.MKTP.KD          VEN  Venezuela, RB   \n",
       "583  NY.GDP.PCAP.KD          VEN  Venezuela, RB   \n",
       "584  NV.IND.TOTL.KD          VEN  Venezuela, RB   \n",
       "585  NV.SRV.TOTL.KD          VEN  Venezuela, RB   \n",
       "\n",
       "                                        indicator_name          2015  \n",
       "581  Agriculture, forestry, and fishing, value adde...  1.573330e+10  \n",
       "582                            GDP (constant 2015 US$)  3.347510e+11  \n",
       "583                 GDP per capita (constant 2015 US$)  9.417000e+03  \n",
       "584  Industry (including construction), value added...  1.352394e+11  \n",
       "585          Services, value added (constant 2015 US$)  1.837783e+11  "
      ]
     },
     "execution_count": 47,
     "metadata": {},
     "output_type": "execute_result"
    }
   ],
   "source": [
    "wdi_df[wdi_df.country_code==\"VEN\"]"
   ]
  },
  {
   "cell_type": "code",
   "execution_count": 48,
   "metadata": {
    "tags": [
     "rm_cell"
    ]
   },
   "outputs": [
    {
     "data": {
      "text/html": [
       "<div>\n",
       "<style scoped>\n",
       "    .dataframe tbody tr th:only-of-type {\n",
       "        vertical-align: middle;\n",
       "    }\n",
       "\n",
       "    .dataframe tbody tr th {\n",
       "        vertical-align: top;\n",
       "    }\n",
       "\n",
       "    .dataframe thead th {\n",
       "        text-align: right;\n",
       "    }\n",
       "</style>\n",
       "<table border=\"1\" class=\"dataframe\">\n",
       "  <thead>\n",
       "    <tr style=\"text-align: right;\">\n",
       "      <th></th>\n",
       "      <th>indicator_code</th>\n",
       "      <th>country_code</th>\n",
       "      <th>country_name</th>\n",
       "      <th>indicator_name</th>\n",
       "      <th>2015</th>\n",
       "    </tr>\n",
       "  </thead>\n",
       "  <tbody>\n",
       "    <tr>\n",
       "      <th>230</th>\n",
       "      <td>NV.AGR.TOTL.KD</td>\n",
       "      <td>MLI</td>\n",
       "      <td>Mali</td>\n",
       "      <td>Agriculture, forestry, and fishing, value adde...</td>\n",
       "      <td>4.943544e+09</td>\n",
       "    </tr>\n",
       "    <tr>\n",
       "      <th>412</th>\n",
       "      <td>NV.AGR.TOTL.KD</td>\n",
       "      <td>ISL</td>\n",
       "      <td>Iceland</td>\n",
       "      <td>Agriculture, forestry, and fishing, value adde...</td>\n",
       "      <td>9.268206e+08</td>\n",
       "    </tr>\n",
       "    <tr>\n",
       "      <th>23</th>\n",
       "      <td>NV.IND.TOTL.KD</td>\n",
       "      <td>GRL</td>\n",
       "      <td>Greenland</td>\n",
       "      <td>Industry (including construction), value added...</td>\n",
       "      <td>4.260166e+08</td>\n",
       "    </tr>\n",
       "    <tr>\n",
       "      <th>465</th>\n",
       "      <td>NV.IND.TOTL.KD</td>\n",
       "      <td>CIV</td>\n",
       "      <td>Cote d'Ivoire</td>\n",
       "      <td>Industry (including construction), value added...</td>\n",
       "      <td>9.218693e+09</td>\n",
       "    </tr>\n",
       "    <tr>\n",
       "      <th>385</th>\n",
       "      <td>NV.IND.TOTL.KD</td>\n",
       "      <td>GIN</td>\n",
       "      <td>Guinea</td>\n",
       "      <td>Industry (including construction), value added...</td>\n",
       "      <td>2.315042e+09</td>\n",
       "    </tr>\n",
       "  </tbody>\n",
       "</table>\n",
       "</div>"
      ],
      "text/plain": [
       "     indicator_code country_code   country_name  \\\n",
       "230  NV.AGR.TOTL.KD          MLI           Mali   \n",
       "412  NV.AGR.TOTL.KD          ISL        Iceland   \n",
       "23   NV.IND.TOTL.KD          GRL      Greenland   \n",
       "465  NV.IND.TOTL.KD          CIV  Cote d'Ivoire   \n",
       "385  NV.IND.TOTL.KD          GIN         Guinea   \n",
       "\n",
       "                                        indicator_name          2015  \n",
       "230  Agriculture, forestry, and fishing, value adde...  4.943544e+09  \n",
       "412  Agriculture, forestry, and fishing, value adde...  9.268206e+08  \n",
       "23   Industry (including construction), value added...  4.260166e+08  \n",
       "465  Industry (including construction), value added...  9.218693e+09  \n",
       "385  Industry (including construction), value added...  2.315042e+09  "
      ]
     },
     "execution_count": 48,
     "metadata": {},
     "output_type": "execute_result"
    }
   ],
   "source": [
    "wdi_df.sample(n=5)"
   ]
  },
  {
   "cell_type": "markdown",
   "metadata": {},
   "source": [
    "## WDI data transformed\n",
    "pivoting the data WDI data"
   ]
  },
  {
   "cell_type": "code",
   "execution_count": 49,
   "metadata": {},
   "outputs": [],
   "source": [
    "wdi_df_var = wdi_df.pivot(columns=[\"indicator_name\",],values=[str(year)],index=[\"country_name\",\"country_code\"]).reset_index()"
   ]
  },
  {
   "cell_type": "code",
   "execution_count": 50,
   "metadata": {},
   "outputs": [],
   "source": [
    "wdi_df_var.rename(columns={v:k for (k,v) in indicators_of_intereset.items()} # inverting the indicators of interest to rename columns\n",
    "                  ,inplace=True)"
   ]
  },
  {
   "cell_type": "code",
   "execution_count": 51,
   "metadata": {},
   "outputs": [],
   "source": [
    "wdi_df_var.columns = [x[1] if x[1]!='' else x[0] for x in wdi_df_var.columns]"
   ]
  },
  {
   "cell_type": "code",
   "execution_count": 52,
   "metadata": {},
   "outputs": [],
   "source": [
    "wdi_df_var.columns = [x.replace(\"industry\", \"manufacturing\") if re.search(string=x,pattern=\"industry_\") else x for x in wdi_df_var.columns]"
   ]
  },
  {
   "cell_type": "code",
   "execution_count": 53,
   "metadata": {
    "tags": [
     "rm_cell"
    ]
   },
   "outputs": [
    {
     "name": "stdout",
     "output_type": "stream",
     "text": [
      "(133, 7)\n"
     ]
    },
    {
     "data": {
      "text/html": [
       "<div>\n",
       "<style scoped>\n",
       "    .dataframe tbody tr th:only-of-type {\n",
       "        vertical-align: middle;\n",
       "    }\n",
       "\n",
       "    .dataframe tbody tr th {\n",
       "        vertical-align: top;\n",
       "    }\n",
       "\n",
       "    .dataframe thead th {\n",
       "        text-align: right;\n",
       "    }\n",
       "</style>\n",
       "<table border=\"1\" class=\"dataframe\">\n",
       "  <thead>\n",
       "    <tr style=\"text-align: right;\">\n",
       "      <th></th>\n",
       "      <th>country</th>\n",
       "      <th>country_code</th>\n",
       "      <th>agriculture_usd_2015</th>\n",
       "      <th>grp_usd_2015</th>\n",
       "      <th>gdp_cap</th>\n",
       "      <th>manufacturing_usd_2015</th>\n",
       "      <th>services_usd_2015</th>\n",
       "    </tr>\n",
       "  </thead>\n",
       "  <tbody>\n",
       "    <tr>\n",
       "      <th>0</th>\n",
       "      <td>Afghanistan</td>\n",
       "      <td>AFG</td>\n",
       "      <td>3.948217e+09</td>\n",
       "      <td>1.913422e+10</td>\n",
       "      <td>566.881130</td>\n",
       "      <td>4.233263e+09</td>\n",
       "      <td>1.018616e+10</td>\n",
       "    </tr>\n",
       "    <tr>\n",
       "      <th>1</th>\n",
       "      <td>Algeria</td>\n",
       "      <td>DZA</td>\n",
       "      <td>1.974833e+10</td>\n",
       "      <td>1.874939e+11</td>\n",
       "      <td>4741.499770</td>\n",
       "      <td>6.141643e+10</td>\n",
       "      <td>9.770374e+10</td>\n",
       "    </tr>\n",
       "    <tr>\n",
       "      <th>2</th>\n",
       "      <td>American Samoa</td>\n",
       "      <td>ASM</td>\n",
       "      <td>NaN</td>\n",
       "      <td>6.730000e+08</td>\n",
       "      <td>13101.541816</td>\n",
       "      <td>NaN</td>\n",
       "      <td>NaN</td>\n",
       "    </tr>\n",
       "  </tbody>\n",
       "</table>\n",
       "</div>"
      ],
      "text/plain": [
       "          country country_code  agriculture_usd_2015  grp_usd_2015  \\\n",
       "0     Afghanistan          AFG          3.948217e+09  1.913422e+10   \n",
       "1         Algeria          DZA          1.974833e+10  1.874939e+11   \n",
       "2  American Samoa          ASM                   NaN  6.730000e+08   \n",
       "\n",
       "        gdp_cap  manufacturing_usd_2015  services_usd_2015  \n",
       "0    566.881130            4.233263e+09       1.018616e+10  \n",
       "1   4741.499770            6.141643e+10       9.770374e+10  \n",
       "2  13101.541816                     NaN                NaN  "
      ]
     },
     "execution_count": 53,
     "metadata": {},
     "output_type": "execute_result"
    }
   ],
   "source": [
    "print(wdi_df_var.shape)\n",
    "wdi_df_var.head(3)"
   ]
  },
  {
   "cell_type": "code",
   "execution_count": 54,
   "metadata": {
    "tags": [
     "rm_cell"
    ]
   },
   "outputs": [
    {
     "data": {
      "text/html": [
       "<div>\n",
       "<style scoped>\n",
       "    .dataframe tbody tr th:only-of-type {\n",
       "        vertical-align: middle;\n",
       "    }\n",
       "\n",
       "    .dataframe tbody tr th {\n",
       "        vertical-align: top;\n",
       "    }\n",
       "\n",
       "    .dataframe thead th {\n",
       "        text-align: right;\n",
       "    }\n",
       "</style>\n",
       "<table border=\"1\" class=\"dataframe\">\n",
       "  <thead>\n",
       "    <tr style=\"text-align: right;\">\n",
       "      <th></th>\n",
       "      <th>country</th>\n",
       "      <th>country_code</th>\n",
       "      <th>agriculture_usd_2015</th>\n",
       "      <th>grp_usd_2015</th>\n",
       "      <th>gdp_cap</th>\n",
       "      <th>manufacturing_usd_2015</th>\n",
       "      <th>services_usd_2015</th>\n",
       "    </tr>\n",
       "  </thead>\n",
       "  <tbody>\n",
       "    <tr>\n",
       "      <th>2</th>\n",
       "      <td>American Samoa</td>\n",
       "      <td>ASM</td>\n",
       "      <td>NaN</td>\n",
       "      <td>6.730000e+08</td>\n",
       "      <td>13101.541816</td>\n",
       "      <td>NaN</td>\n",
       "      <td>NaN</td>\n",
       "    </tr>\n",
       "    <tr>\n",
       "      <th>15</th>\n",
       "      <td>British Virgin Islands</td>\n",
       "      <td>VGB</td>\n",
       "      <td>NaN</td>\n",
       "      <td>NaN</td>\n",
       "      <td>NaN</td>\n",
       "      <td>NaN</td>\n",
       "      <td>NaN</td>\n",
       "    </tr>\n",
       "    <tr>\n",
       "      <th>37</th>\n",
       "      <td>Eritrea</td>\n",
       "      <td>ERI</td>\n",
       "      <td>NaN</td>\n",
       "      <td>NaN</td>\n",
       "      <td>NaN</td>\n",
       "      <td>NaN</td>\n",
       "      <td>NaN</td>\n",
       "    </tr>\n",
       "    <tr>\n",
       "      <th>48</th>\n",
       "      <td>Guam</td>\n",
       "      <td>GUM</td>\n",
       "      <td>NaN</td>\n",
       "      <td>5.799000e+09</td>\n",
       "      <td>34522.377930</td>\n",
       "      <td>NaN</td>\n",
       "      <td>NaN</td>\n",
       "    </tr>\n",
       "    <tr>\n",
       "      <th>62</th>\n",
       "      <td>Korea, Dem. People's Rep.</td>\n",
       "      <td>PRK</td>\n",
       "      <td>NaN</td>\n",
       "      <td>NaN</td>\n",
       "      <td>NaN</td>\n",
       "      <td>NaN</td>\n",
       "      <td>NaN</td>\n",
       "    </tr>\n",
       "    <tr>\n",
       "      <th>69</th>\n",
       "      <td>Liechtenstein</td>\n",
       "      <td>LIE</td>\n",
       "      <td>NaN</td>\n",
       "      <td>6.268515e+09</td>\n",
       "      <td>167809.269875</td>\n",
       "      <td>2.335665e+09</td>\n",
       "      <td>NaN</td>\n",
       "    </tr>\n",
       "    <tr>\n",
       "      <th>71</th>\n",
       "      <td>Macao SAR, China</td>\n",
       "      <td>MAC</td>\n",
       "      <td>NaN</td>\n",
       "      <td>4.504819e+10</td>\n",
       "      <td>73220.635555</td>\n",
       "      <td>3.466893e+09</td>\n",
       "      <td>4.131905e+10</td>\n",
       "    </tr>\n",
       "    <tr>\n",
       "      <th>83</th>\n",
       "      <td>Nauru</td>\n",
       "      <td>NRU</td>\n",
       "      <td>NaN</td>\n",
       "      <td>8.486344e+07</td>\n",
       "      <td>7587.254410</td>\n",
       "      <td>NaN</td>\n",
       "      <td>NaN</td>\n",
       "    </tr>\n",
       "    <tr>\n",
       "      <th>88</th>\n",
       "      <td>Northern Mariana Islands</td>\n",
       "      <td>MNP</td>\n",
       "      <td>NaN</td>\n",
       "      <td>9.100000e+08</td>\n",
       "      <td>17665.100749</td>\n",
       "      <td>NaN</td>\n",
       "      <td>NaN</td>\n",
       "    </tr>\n",
       "    <tr>\n",
       "      <th>106</th>\n",
       "      <td>Somalia</td>\n",
       "      <td>SOM</td>\n",
       "      <td>NaN</td>\n",
       "      <td>6.984947e+09</td>\n",
       "      <td>507.482915</td>\n",
       "      <td>NaN</td>\n",
       "      <td>NaN</td>\n",
       "    </tr>\n",
       "    <tr>\n",
       "      <th>122</th>\n",
       "      <td>Tuvalu</td>\n",
       "      <td>TUV</td>\n",
       "      <td>5.859108e+06</td>\n",
       "      <td>3.681194e+07</td>\n",
       "      <td>3384.383201</td>\n",
       "      <td>2.582545e+06</td>\n",
       "      <td>NaN</td>\n",
       "    </tr>\n",
       "    <tr>\n",
       "      <th>128</th>\n",
       "      <td>Virgin Islands (U.S.)</td>\n",
       "      <td>VIR</td>\n",
       "      <td>NaN</td>\n",
       "      <td>3.663000e+09</td>\n",
       "      <td>34007.352941</td>\n",
       "      <td>NaN</td>\n",
       "      <td>NaN</td>\n",
       "    </tr>\n",
       "  </tbody>\n",
       "</table>\n",
       "</div>"
      ],
      "text/plain": [
       "                       country country_code  agriculture_usd_2015  \\\n",
       "2               American Samoa          ASM                   NaN   \n",
       "15      British Virgin Islands          VGB                   NaN   \n",
       "37                     Eritrea          ERI                   NaN   \n",
       "48                        Guam          GUM                   NaN   \n",
       "62   Korea, Dem. People's Rep.          PRK                   NaN   \n",
       "69               Liechtenstein          LIE                   NaN   \n",
       "71            Macao SAR, China          MAC                   NaN   \n",
       "83                       Nauru          NRU                   NaN   \n",
       "88    Northern Mariana Islands          MNP                   NaN   \n",
       "106                    Somalia          SOM                   NaN   \n",
       "122                     Tuvalu          TUV          5.859108e+06   \n",
       "128      Virgin Islands (U.S.)          VIR                   NaN   \n",
       "\n",
       "     grp_usd_2015        gdp_cap  manufacturing_usd_2015  services_usd_2015  \n",
       "2    6.730000e+08   13101.541816                     NaN                NaN  \n",
       "15            NaN            NaN                     NaN                NaN  \n",
       "37            NaN            NaN                     NaN                NaN  \n",
       "48   5.799000e+09   34522.377930                     NaN                NaN  \n",
       "62            NaN            NaN                     NaN                NaN  \n",
       "69   6.268515e+09  167809.269875            2.335665e+09                NaN  \n",
       "71   4.504819e+10   73220.635555            3.466893e+09       4.131905e+10  \n",
       "83   8.486344e+07    7587.254410                     NaN                NaN  \n",
       "88   9.100000e+08   17665.100749                     NaN                NaN  \n",
       "106  6.984947e+09     507.482915                     NaN                NaN  \n",
       "122  3.681194e+07    3384.383201            2.582545e+06                NaN  \n",
       "128  3.663000e+09   34007.352941                     NaN                NaN  "
      ]
     },
     "execution_count": 54,
     "metadata": {},
     "output_type": "execute_result"
    }
   ],
   "source": [
    "wdi_df_var[wdi_df_var.isna().any(axis=1)]"
   ]
  },
  {
   "cell_type": "code",
   "execution_count": 55,
   "metadata": {},
   "outputs": [
    {
     "data": {
      "text/plain": [
       "['agriculture_usd_2015', 'manufacturing_usd_2015', 'services_usd_2015']"
      ]
     },
     "execution_count": 55,
     "metadata": {},
     "output_type": "execute_result"
    }
   ],
   "source": [
    "# without 'manufacturing' it makes more sense:\n",
    "indicator_columns = [x for x in wdi_df_var.columns if re.search(string=x,pattern=\"(services_)|(agriculture_)|(manufacturing_)\")]\n",
    "indicator_columns"
   ]
  },
  {
   "cell_type": "code",
   "execution_count": 56,
   "metadata": {
    "tags": [
     "rm_cell"
    ]
   },
   "outputs": [
    {
     "data": {
      "text/plain": [
       "<Axes: >"
      ]
     },
     "execution_count": 56,
     "metadata": {},
     "output_type": "execute_result"
    },
    {
     "data": {
      "image/png": "[encoded data removed]",
      "text/plain": [
       "<Figure size 640x480 with 1 Axes>"
      ]
     },
     "metadata": {},
     "output_type": "display_data"
    }
   ],
   "source": [
    "wdi_df_var[indicator_columns].sum(axis=1).apply(np.log1p).hist()"
   ]
  },
  {
   "cell_type": "markdown",
   "metadata": {},
   "source": [
    "## Combining the data sets"
   ]
  },
  {
   "cell_type": "code",
   "execution_count": 58,
   "metadata": {
    "tags": [
     "rm_cell"
    ]
   },
   "outputs": [
    {
     "data": {
      "text/html": [
       "<div>\n",
       "<style scoped>\n",
       "    .dataframe tbody tr th:only-of-type {\n",
       "        vertical-align: middle;\n",
       "    }\n",
       "\n",
       "    .dataframe tbody tr th {\n",
       "        vertical-align: top;\n",
       "    }\n",
       "\n",
       "    .dataframe thead th {\n",
       "        text-align: right;\n",
       "    }\n",
       "</style>\n",
       "<table border=\"1\" class=\"dataframe\">\n",
       "  <thead>\n",
       "    <tr style=\"text-align: right;\">\n",
       "      <th></th>\n",
       "      <th>year</th>\n",
       "      <th>year_count</th>\n",
       "    </tr>\n",
       "  </thead>\n",
       "  <tbody>\n",
       "    <tr>\n",
       "      <th>52</th>\n",
       "      <td>2011</td>\n",
       "      <td>1420</td>\n",
       "    </tr>\n",
       "    <tr>\n",
       "      <th>53</th>\n",
       "      <td>2012</td>\n",
       "      <td>1476</td>\n",
       "    </tr>\n",
       "    <tr>\n",
       "      <th>54</th>\n",
       "      <td>2013</td>\n",
       "      <td>1564</td>\n",
       "    </tr>\n",
       "    <tr>\n",
       "      <th>55</th>\n",
       "      <td>2014</td>\n",
       "      <td>1548</td>\n",
       "    </tr>\n",
       "    <tr>\n",
       "      <th>56</th>\n",
       "      <td>2015</td>\n",
       "      <td>1524</td>\n",
       "    </tr>\n",
       "    <tr>\n",
       "      <th>57</th>\n",
       "      <td>2016</td>\n",
       "      <td>1521</td>\n",
       "    </tr>\n",
       "    <tr>\n",
       "      <th>58</th>\n",
       "      <td>2017</td>\n",
       "      <td>1518</td>\n",
       "    </tr>\n",
       "    <tr>\n",
       "      <th>59</th>\n",
       "      <td>2018</td>\n",
       "      <td>1335</td>\n",
       "    </tr>\n",
       "    <tr>\n",
       "      <th>60</th>\n",
       "      <td>2019</td>\n",
       "      <td>1039</td>\n",
       "    </tr>\n",
       "    <tr>\n",
       "      <th>61</th>\n",
       "      <td>2020</td>\n",
       "      <td>354</td>\n",
       "    </tr>\n",
       "  </tbody>\n",
       "</table>\n",
       "</div>"
      ],
      "text/plain": [
       "    year  year_count\n",
       "52  2011        1420\n",
       "53  2012        1476\n",
       "54  2013        1564\n",
       "55  2014        1548\n",
       "56  2015        1524\n",
       "57  2016        1521\n",
       "58  2017        1518\n",
       "59  2018        1335\n",
       "60  2019        1039\n",
       "61  2020         354"
      ]
     },
     "execution_count": 58,
     "metadata": {},
     "output_type": "execute_result"
    }
   ],
   "source": [
    "# inspecting the \n",
    "dose.year.value_counts().order_by(\"year\").to_pandas().tail(10)"
   ]
  },
  {
   "cell_type": "code",
   "execution_count": 59,
   "metadata": {
    "tags": [
     "rm_cell"
    ]
   },
   "outputs": [
    {
     "data": {
      "text/plain": [
       "['country',\n",
       " 'region',\n",
       " 'gid_0',\n",
       " 'gid_1',\n",
       " 'year',\n",
       " 'grp_lcu',\n",
       " 'pop',\n",
       " 'grp_pc_lcu',\n",
       " 'ag_grp_pc_lcu']"
      ]
     },
     "execution_count": 59,
     "metadata": {},
     "output_type": "execute_result"
    }
   ],
   "source": [
    "dose.columns[0:9]"
   ]
  },
  {
   "cell_type": "markdown",
   "metadata": {},
   "source": [
    "### Using the year variable assigned earlier"
   ]
  },
  {
   "cell_type": "code",
   "execution_count": 61,
   "metadata": {
    "tags": [
     "rm_cell"
    ]
   },
   "outputs": [
    {
     "data": {
      "text/plain": [
       "['country', 'region', 'gid_0', 'gid_1', 'year']"
      ]
     },
     "execution_count": 61,
     "metadata": {},
     "output_type": "execute_result"
    }
   ],
   "source": [
    "# some columns\n",
    "sample(dose.columns,5)"
   ]
  },
  {
   "cell_type": "code",
   "execution_count": 62,
   "metadata": {},
   "outputs": [],
   "source": [
    "dose_year = dose.filter(_.year==str(year)).to_pandas()"
   ]
  },
  {
   "cell_type": "code",
   "execution_count": 63,
   "metadata": {},
   "outputs": [
    {
     "data": {
      "text/html": [
       "<div>\n",
       "<style scoped>\n",
       "    .dataframe tbody tr th:only-of-type {\n",
       "        vertical-align: middle;\n",
       "    }\n",
       "\n",
       "    .dataframe tbody tr th {\n",
       "        vertical-align: top;\n",
       "    }\n",
       "\n",
       "    .dataframe thead th {\n",
       "        text-align: right;\n",
       "    }\n",
       "</style>\n",
       "<table border=\"1\" class=\"dataframe\">\n",
       "  <thead>\n",
       "    <tr style=\"text-align: right;\">\n",
       "      <th></th>\n",
       "      <th>country</th>\n",
       "      <th>region</th>\n",
       "      <th>gid_0</th>\n",
       "      <th>gid_1</th>\n",
       "      <th>year</th>\n",
       "      <th>grp_lcu</th>\n",
       "      <th>pop</th>\n",
       "      <th>grp_pc_lcu</th>\n",
       "      <th>ag_grp_pc_lcu</th>\n",
       "      <th>man_grp_pc_lcu</th>\n",
       "      <th>...</th>\n",
       "      <th>man_grp_pc_lcu2015_usd</th>\n",
       "      <th>serv_grp_pc_lcu2015_usd</th>\n",
       "      <th>cpi_2015</th>\n",
       "      <th>deflator_2015</th>\n",
       "      <th>fx</th>\n",
       "      <th>ppp</th>\n",
       "      <th>struct_change</th>\n",
       "      <th>version</th>\n",
       "      <th>t_a</th>\n",
       "      <th>p_a</th>\n",
       "    </tr>\n",
       "  </thead>\n",
       "  <tbody>\n",
       "    <tr>\n",
       "      <th>0</th>\n",
       "      <td>Albania</td>\n",
       "      <td>Berat</td>\n",
       "      <td>ALB</td>\n",
       "      <td>ALB.1_1</td>\n",
       "      <td>2015</td>\n",
       "      <td>54691123900</td>\n",
       "      <td>136904</td>\n",
       "      <td>399485.2152</td>\n",
       "      <td>None</td>\n",
       "      <td>None</td>\n",
       "      <td>...</td>\n",
       "      <td>None</td>\n",
       "      <td>None</td>\n",
       "      <td>100</td>\n",
       "      <td>100</td>\n",
       "      <td>125.9608304</td>\n",
       "      <td>42.70570052</td>\n",
       "      <td>3</td>\n",
       "      <td>2</td>\n",
       "      <td>13.50185305</td>\n",
       "      <td>1093.56268</td>\n",
       "    </tr>\n",
       "    <tr>\n",
       "      <th>1</th>\n",
       "      <td>Albania</td>\n",
       "      <td>Dibër</td>\n",
       "      <td>ALB</td>\n",
       "      <td>ALB.2_1</td>\n",
       "      <td>2015</td>\n",
       "      <td>46850206200</td>\n",
       "      <td>130056</td>\n",
       "      <td>360231.0251</td>\n",
       "      <td>None</td>\n",
       "      <td>None</td>\n",
       "      <td>...</td>\n",
       "      <td>None</td>\n",
       "      <td>None</td>\n",
       "      <td>100</td>\n",
       "      <td>100</td>\n",
       "      <td>125.9608304</td>\n",
       "      <td>42.70570052</td>\n",
       "      <td>3</td>\n",
       "      <td>2</td>\n",
       "      <td>10.45442675</td>\n",
       "      <td>1175.134798</td>\n",
       "    </tr>\n",
       "    <tr>\n",
       "      <th>2</th>\n",
       "      <td>Albania</td>\n",
       "      <td>Durrës</td>\n",
       "      <td>ALB</td>\n",
       "      <td>ALB.3_1</td>\n",
       "      <td>2015</td>\n",
       "      <td>1.40E+11</td>\n",
       "      <td>279097</td>\n",
       "      <td>502550.8411</td>\n",
       "      <td>None</td>\n",
       "      <td>None</td>\n",
       "      <td>...</td>\n",
       "      <td>None</td>\n",
       "      <td>None</td>\n",
       "      <td>100</td>\n",
       "      <td>100</td>\n",
       "      <td>125.9608304</td>\n",
       "      <td>42.70570052</td>\n",
       "      <td>3</td>\n",
       "      <td>2</td>\n",
       "      <td>16.16559071</td>\n",
       "      <td>1047.35031</td>\n",
       "    </tr>\n",
       "  </tbody>\n",
       "</table>\n",
       "<p>3 rows × 35 columns</p>\n",
       "</div>"
      ],
      "text/plain": [
       "   country  region gid_0    gid_1  year      grp_lcu     pop   grp_pc_lcu  \\\n",
       "0  Albania   Berat   ALB  ALB.1_1  2015  54691123900  136904  399485.2152   \n",
       "1  Albania   Dibër   ALB  ALB.2_1  2015  46850206200  130056  360231.0251   \n",
       "2  Albania  Durrës   ALB  ALB.3_1  2015     1.40E+11  279097  502550.8411   \n",
       "\n",
       "  ag_grp_pc_lcu man_grp_pc_lcu  ... man_grp_pc_lcu2015_usd  \\\n",
       "0          None           None  ...                   None   \n",
       "1          None           None  ...                   None   \n",
       "2          None           None  ...                   None   \n",
       "\n",
       "  serv_grp_pc_lcu2015_usd cpi_2015 deflator_2015           fx          ppp  \\\n",
       "0                    None      100           100  125.9608304  42.70570052   \n",
       "1                    None      100           100  125.9608304  42.70570052   \n",
       "2                    None      100           100  125.9608304  42.70570052   \n",
       "\n",
       "  struct_change version          t_a          p_a  \n",
       "0             3       2  13.50185305   1093.56268  \n",
       "1             3       2  10.45442675  1175.134798  \n",
       "2             3       2  16.16559071   1047.35031  \n",
       "\n",
       "[3 rows x 35 columns]"
      ]
     },
     "execution_count": 63,
     "metadata": {},
     "output_type": "execute_result"
    }
   ],
   "source": [
    "# due to the way na values are written in the data set, all the data had to be read as strings, changing this here.\n",
    "dose_year.replace(to_replace=\"#N/A\",value=np.nan,inplace=True)"
   ]
  },
  {
   "cell_type": "code",
   "execution_count": null,
   "metadata": {
    "tags": [
     "rm_cell"
    ]
   },
   "outputs": [],
   "source": [
    "dose_year.head(3)"
   ]
  },
  {
   "cell_type": "markdown",
   "metadata": {},
   "source": [
    "On the duckdb end all the data was stored as strings becuase the NA values were not interpretable as numeric. so converting back \n"
   ]
  },
  {
   "cell_type": "code",
   "execution_count": 64,
   "metadata": {
    "tags": [
     "rm_cell"
    ]
   },
   "outputs": [
    {
     "data": {
      "text/plain": [
       "Index(['country', 'region', 'gid_0', 'gid_1', 'year', 'grp_lcu', 'pop',\n",
       "       'grp_pc_lcu', 'ag_grp_pc_lcu', 'man_grp_pc_lcu', 'serv_grp_pc_lcu',\n",
       "       'grp_pc_usd', 'ag_grp_pc_usd', 'man_grp_pc_usd', 'serv_grp_pc_usd',\n",
       "       'grp_pc_lcu_2015', 'ag_grp_pc_lcu_2015', 'man_grp_pc_lcu_2015',\n",
       "       'serv_grp_pc_lcu_2015', 'grp_pc_usd_2015', 'ag_grp_pc_usd_2015',\n",
       "       'man_grp_pc_usd_2015', 'serv_grp_pc_usd_2015', 'grp_pc_lcu2015_usd',\n",
       "       'ag_grp_pc_lcu2015_usd', 'man_grp_pc_lcu2015_usd',\n",
       "       'serv_grp_pc_lcu2015_usd', 'cpi_2015', 'deflator_2015', 'fx', 'ppp',\n",
       "       'struct_change', 'version', 't_a', 'p_a'],\n",
       "      dtype='object')"
      ]
     },
     "execution_count": 64,
     "metadata": {},
     "output_type": "execute_result"
    }
   ],
   "source": [
    "# have a look at the columns\n",
    "sample(dose_year.columns)"
   ]
  },
  {
   "cell_type": "code",
   "execution_count": 65,
   "metadata": {},
   "outputs": [],
   "source": [
    "# The columns that we will use later will be multiplied, so this step is essential.\n",
    "float_cols = dose_year.filter(regex=\"(lcu)|(usd)|(cpi)|(pop)|(year)|(T_a)|(P_a)|(PPP)|(2015)\").columns.unique()\n",
    "dose_year[float_cols] = dose_year[float_cols].astype(float)"
   ]
  },
  {
   "cell_type": "code",
   "execution_count": 66,
   "metadata": {},
   "outputs": [],
   "source": [
    "gdp_thres = 1.1"
   ]
  },
  {
   "cell_type": "code",
   "execution_count": 67,
   "metadata": {},
   "outputs": [
    {
     "name": "stdout",
     "output_type": "stream",
     "text": [
      "Inconsistencies in the DOSE data set in LCU_2015.\n",
      "When converting to absolute values :  23\n",
      "In pc values :  23\n"
     ]
    }
   ],
   "source": [
    "#  IN NORMAL LCU\n",
    "# But before checking if things add up\n",
    "# 'grp_pc_lcu_2015',\n",
    "#  'ag_grp_pc_lcu_2015',\n",
    "#  'man_grp_pc_lcu_2015',\n",
    "#  'serv_grp_pc_lcu_2015',\n",
    "\n",
    "dose_year[\"manufacturing_lcu_2015\"] = dose_year[\"man_grp_pc_lcu_2015\"]*dose_year[\"pop\"]\n",
    "dose_year[\"services_lcu_2015\"]=dose_year['serv_grp_pc_lcu_2015']*dose_year[\"pop\"]\n",
    "dose_year[\"agriculture_lcu_2015\"]=dose_year['ag_grp_pc_lcu_2015']*dose_year[\"pop\"]\n",
    "dose_year[\"grp_lcu_2015\"]=dose_year[\"grp_pc_lcu_2015\"]*dose_year[\"pop\"]\n",
    "\n",
    "\n",
    "\n",
    "print(\"Inconsistencies in the DOSE data set in LCU_2015.\")\n",
    "print(\"When converting to absolute values : \",dose_year[((dose_year[\"manufacturing_lcu_2015\"]+dose_year[\"services_lcu_2015\"]+dose_year[\"agriculture_lcu_2015\"])/dose_year[\"grp_lcu_2015\"])>gdp_thres].shape[0])\n",
    "print(\"In pc values : \", dose_year[((dose_year[\"man_grp_pc_lcu_2015\"]+dose_year[\"serv_grp_pc_lcu_2015\"]+dose_year[\"ag_grp_pc_lcu_2015\"])/dose_year[\"grp_pc_lcu_2015\"])>gdp_thres].shape[0])"
   ]
  },
  {
   "cell_type": "code",
   "execution_count": 68,
   "metadata": {},
   "outputs": [
    {
     "name": "stdout",
     "output_type": "stream",
     "text": [
      "Inconsistencies in the DOSE data set in LCU2015_USD.\n",
      "When converting to absolute values :  23\n",
      "In pc values :  23\n"
     ]
    }
   ],
   "source": [
    "# #  IN LCU2015_USD whatever it means\n",
    "\n",
    "# 'grp_pc_lcu2015_usd',\n",
    "#        'ag_grp_pc_lcu2015_usd', 'man_grp_pc_lcu2015_usd',\n",
    "#        'serv_grp_pc_lcu2015_usd'\n",
    "\n",
    "dose_year[\"manufacturing_lcu_2015_usd\"] = dose_year[\"man_grp_pc_lcu2015_usd\"]*dose_year[\"pop\"]\n",
    "dose_year[\"services_lcu_2015_usd\"]=dose_year['serv_grp_pc_lcu2015_usd']*dose_year[\"pop\"]\n",
    "dose_year[\"agriculture_lcu_2015_usd\"]=dose_year['ag_grp_pc_lcu2015_usd']*dose_year[\"pop\"]\n",
    "dose_year[\"grp_lcu_2015_usd\"]=dose_year[\"grp_pc_lcu2015_usd\"]*dose_year[\"pop\"]\n",
    "\n",
    "print(\"Inconsistencies in the DOSE data set in LCU2015_USD.\")\n",
    "print(\"When converting to absolute values : \",dose_year[((dose_year[\"manufacturing_lcu_2015_usd\"]+dose_year[\"services_lcu_2015_usd\"]+dose_year[\"agriculture_lcu_2015_usd\"])/dose_year[\"grp_lcu_2015_usd\"])>gdp_thres].shape[0])\n",
    "print(\"In pc values : \", dose_year[((dose_year[\"man_grp_pc_lcu2015_usd\"]+dose_year[\"serv_grp_pc_lcu2015_usd\"]+dose_year[\"ag_grp_pc_lcu2015_usd\"])/dose_year[\"grp_pc_lcu2015_usd\"])>gdp_thres].shape[0])"
   ]
  },
  {
   "cell_type": "code",
   "execution_count": 69,
   "metadata": {
    "tags": [
     "rm_cell"
    ]
   },
   "outputs": [
    {
     "data": {
      "text/plain": [
       "<Axes: >"
      ]
     },
     "execution_count": 69,
     "metadata": {},
     "output_type": "execute_result"
    },
    {
     "data": {
      "image/png": "[encoded data removed]",
      "text/plain": [
       "<Figure size 640x480 with 1 Axes>"
      ]
     },
     "metadata": {},
     "output_type": "display_data"
    }
   ],
   "source": [
    "((dose_year[\"manufacturing_lcu_2015_usd\"]+dose_year[\"services_lcu_2015_usd\"]+dose_year[\"agriculture_lcu_2015_usd\"])/dose_year[\"grp_lcu_2015_usd\"]).hist()"
   ]
  },
  {
   "cell_type": "markdown",
   "metadata": {},
   "source": [
    "## Filling population gaps in DOSE\n",
    "The missing *population* values generates missing values when converting from per capita values back into absolute values.\n",
    "#### Converting per capita into absolute values with the population variable.\n"
   ]
  },
  {
   "cell_type": "code",
   "execution_count": 70,
   "metadata": {
    "tags": [
     "rm_cell"
    ]
   },
   "outputs": [
    {
     "data": {
      "text/html": [
       "<div>\n",
       "<style scoped>\n",
       "    .dataframe tbody tr th:only-of-type {\n",
       "        vertical-align: middle;\n",
       "    }\n",
       "\n",
       "    .dataframe tbody tr th {\n",
       "        vertical-align: top;\n",
       "    }\n",
       "\n",
       "    .dataframe thead th {\n",
       "        text-align: right;\n",
       "    }\n",
       "</style>\n",
       "<table border=\"1\" class=\"dataframe\">\n",
       "  <thead>\n",
       "    <tr style=\"text-align: right;\">\n",
       "      <th></th>\n",
       "      <th>country</th>\n",
       "      <th>region</th>\n",
       "      <th>gid_0</th>\n",
       "      <th>gid_1</th>\n",
       "      <th>year</th>\n",
       "      <th>grp_lcu</th>\n",
       "      <th>pop</th>\n",
       "      <th>grp_pc_lcu</th>\n",
       "      <th>ag_grp_pc_lcu</th>\n",
       "      <th>man_grp_pc_lcu</th>\n",
       "      <th>...</th>\n",
       "      <th>t_a</th>\n",
       "      <th>p_a</th>\n",
       "      <th>manufacturing_lcu_2015</th>\n",
       "      <th>services_lcu_2015</th>\n",
       "      <th>agriculture_lcu_2015</th>\n",
       "      <th>grp_lcu_2015</th>\n",
       "      <th>manufacturing_lcu_2015_usd</th>\n",
       "      <th>services_lcu_2015_usd</th>\n",
       "      <th>agriculture_lcu_2015_usd</th>\n",
       "      <th>grp_lcu_2015_usd</th>\n",
       "    </tr>\n",
       "  </thead>\n",
       "  <tbody>\n",
       "    <tr>\n",
       "      <th>0</th>\n",
       "      <td>Albania</td>\n",
       "      <td>Berat</td>\n",
       "      <td>ALB</td>\n",
       "      <td>ALB.1_1</td>\n",
       "      <td>2015.0</td>\n",
       "      <td>5.469112e+10</td>\n",
       "      <td>136904.0</td>\n",
       "      <td>399485.2152</td>\n",
       "      <td>NaN</td>\n",
       "      <td>NaN</td>\n",
       "      <td>...</td>\n",
       "      <td>13.50185305</td>\n",
       "      <td>1093.56268</td>\n",
       "      <td>NaN</td>\n",
       "      <td>NaN</td>\n",
       "      <td>NaN</td>\n",
       "      <td>5.469112e+10</td>\n",
       "      <td>NaN</td>\n",
       "      <td>NaN</td>\n",
       "      <td>NaN</td>\n",
       "      <td>4.341915e+08</td>\n",
       "    </tr>\n",
       "    <tr>\n",
       "      <th>1</th>\n",
       "      <td>Albania</td>\n",
       "      <td>Dibër</td>\n",
       "      <td>ALB</td>\n",
       "      <td>ALB.2_1</td>\n",
       "      <td>2015.0</td>\n",
       "      <td>4.685021e+10</td>\n",
       "      <td>130056.0</td>\n",
       "      <td>360231.0251</td>\n",
       "      <td>NaN</td>\n",
       "      <td>NaN</td>\n",
       "      <td>...</td>\n",
       "      <td>10.45442675</td>\n",
       "      <td>1175.134798</td>\n",
       "      <td>NaN</td>\n",
       "      <td>NaN</td>\n",
       "      <td>NaN</td>\n",
       "      <td>4.685021e+10</td>\n",
       "      <td>NaN</td>\n",
       "      <td>NaN</td>\n",
       "      <td>NaN</td>\n",
       "      <td>3.719427e+08</td>\n",
       "    </tr>\n",
       "    <tr>\n",
       "      <th>2</th>\n",
       "      <td>Albania</td>\n",
       "      <td>Durrës</td>\n",
       "      <td>ALB</td>\n",
       "      <td>ALB.3_1</td>\n",
       "      <td>2015.0</td>\n",
       "      <td>1.400000e+11</td>\n",
       "      <td>279097.0</td>\n",
       "      <td>502550.8411</td>\n",
       "      <td>NaN</td>\n",
       "      <td>NaN</td>\n",
       "      <td>...</td>\n",
       "      <td>16.16559071</td>\n",
       "      <td>1047.35031</td>\n",
       "      <td>NaN</td>\n",
       "      <td>NaN</td>\n",
       "      <td>NaN</td>\n",
       "      <td>1.402604e+11</td>\n",
       "      <td>NaN</td>\n",
       "      <td>NaN</td>\n",
       "      <td>NaN</td>\n",
       "      <td>1.113524e+09</td>\n",
       "    </tr>\n",
       "    <tr>\n",
       "      <th>3</th>\n",
       "      <td>Albania</td>\n",
       "      <td>Elbasan</td>\n",
       "      <td>ALB</td>\n",
       "      <td>ALB.4_1</td>\n",
       "      <td>2015.0</td>\n",
       "      <td>1.000000e+11</td>\n",
       "      <td>289136.0</td>\n",
       "      <td>346548.9099</td>\n",
       "      <td>NaN</td>\n",
       "      <td>NaN</td>\n",
       "      <td>...</td>\n",
       "      <td>12.9849634</td>\n",
       "      <td>1017.524637</td>\n",
       "      <td>NaN</td>\n",
       "      <td>NaN</td>\n",
       "      <td>NaN</td>\n",
       "      <td>1.001998e+11</td>\n",
       "      <td>NaN</td>\n",
       "      <td>NaN</td>\n",
       "      <td>NaN</td>\n",
       "      <td>7.954835e+08</td>\n",
       "    </tr>\n",
       "    <tr>\n",
       "      <th>4</th>\n",
       "      <td>Albania</td>\n",
       "      <td>Fier</td>\n",
       "      <td>ALB</td>\n",
       "      <td>ALB.5_1</td>\n",
       "      <td>2015.0</td>\n",
       "      <td>1.690000e+11</td>\n",
       "      <td>306561.0</td>\n",
       "      <td>552703.4714</td>\n",
       "      <td>NaN</td>\n",
       "      <td>NaN</td>\n",
       "      <td>...</td>\n",
       "      <td>16.91313816</td>\n",
       "      <td>978.7869504</td>\n",
       "      <td>NaN</td>\n",
       "      <td>NaN</td>\n",
       "      <td>NaN</td>\n",
       "      <td>1.694373e+11</td>\n",
       "      <td>NaN</td>\n",
       "      <td>NaN</td>\n",
       "      <td>NaN</td>\n",
       "      <td>1.345159e+09</td>\n",
       "    </tr>\n",
       "  </tbody>\n",
       "</table>\n",
       "<p>5 rows × 43 columns</p>\n",
       "</div>"
      ],
      "text/plain": [
       "   country   region gid_0    gid_1    year       grp_lcu       pop  \\\n",
       "0  Albania    Berat   ALB  ALB.1_1  2015.0  5.469112e+10  136904.0   \n",
       "1  Albania    Dibër   ALB  ALB.2_1  2015.0  4.685021e+10  130056.0   \n",
       "2  Albania   Durrës   ALB  ALB.3_1  2015.0  1.400000e+11  279097.0   \n",
       "3  Albania  Elbasan   ALB  ALB.4_1  2015.0  1.000000e+11  289136.0   \n",
       "4  Albania     Fier   ALB  ALB.5_1  2015.0  1.690000e+11  306561.0   \n",
       "\n",
       "    grp_pc_lcu  ag_grp_pc_lcu  man_grp_pc_lcu  ...          t_a          p_a  \\\n",
       "0  399485.2152            NaN             NaN  ...  13.50185305   1093.56268   \n",
       "1  360231.0251            NaN             NaN  ...  10.45442675  1175.134798   \n",
       "2  502550.8411            NaN             NaN  ...  16.16559071   1047.35031   \n",
       "3  346548.9099            NaN             NaN  ...   12.9849634  1017.524637   \n",
       "4  552703.4714            NaN             NaN  ...  16.91313816  978.7869504   \n",
       "\n",
       "   manufacturing_lcu_2015  services_lcu_2015  agriculture_lcu_2015  \\\n",
       "0                     NaN                NaN                   NaN   \n",
       "1                     NaN                NaN                   NaN   \n",
       "2                     NaN                NaN                   NaN   \n",
       "3                     NaN                NaN                   NaN   \n",
       "4                     NaN                NaN                   NaN   \n",
       "\n",
       "   grp_lcu_2015  manufacturing_lcu_2015_usd  services_lcu_2015_usd  \\\n",
       "0  5.469112e+10                         NaN                    NaN   \n",
       "1  4.685021e+10                         NaN                    NaN   \n",
       "2  1.402604e+11                         NaN                    NaN   \n",
       "3  1.001998e+11                         NaN                    NaN   \n",
       "4  1.694373e+11                         NaN                    NaN   \n",
       "\n",
       "   agriculture_lcu_2015_usd  grp_lcu_2015_usd  \n",
       "0                       NaN      4.341915e+08  \n",
       "1                       NaN      3.719427e+08  \n",
       "2                       NaN      1.113524e+09  \n",
       "3                       NaN      7.954835e+08  \n",
       "4                       NaN      1.345159e+09  \n",
       "\n",
       "[5 rows x 43 columns]"
      ]
     },
     "execution_count": 70,
     "metadata": {},
     "output_type": "execute_result"
    }
   ],
   "source": [
    "dose_year.head(5)"
   ]
  },
  {
   "cell_type": "code",
   "execution_count": 71,
   "metadata": {},
   "outputs": [],
   "source": [
    "# filling some extra missing values of population to reconstruct the economic indicators. From sources on the net.\n",
    "missing_pop = dose_year.loc[dose_year[\"pop\"].isna(),[\"country\",\"region\",\"pop\"]].copy()\n",
    "# missing_pop.head()\n",
    "# # writing out this file to refer to the missing values\n",
    "# missing_pop[\"region\"].to_csv(\"missing_pop.csv\",index=False) \n",
    "\n",
    "missing_pop.set_index(\"region\",inplace=True)"
   ]
  },
  {
   "cell_type": "code",
   "execution_count": 72,
   "metadata": {},
   "outputs": [],
   "source": [
    "## strangely, Ireland is missing from the data, using it's census data to fill the gaps.\n",
    "# https://data.gov.ie/dataset/population-classified-by-area \n",
    "\n",
    "# this data set : https://www.cso.ie/en/media/csoie/census/documents/saps2011files/AllThemesTablesCTY.csv\n",
    "\n",
    "ireland = pd.read_csv(\"../datasets/support_data/ireland/AllThemesTablesCTY.csv\"\n",
    "                      ,encoding=\"UTF-8\")\n",
    "ireland.columns = [x.lower() for x in ireland.columns]\n",
    "ireland.head(3)\n",
    "\n",
    "# manually replaced Dublin City -> Dublin, Laois -> Laoighis in the data set.\n",
    "\n",
    "# to many columns\n",
    "ireland = ireland[[\"t1_1agett\",\"geogdesc\"]]\n"
   ]
  },
  {
   "cell_type": "code",
   "execution_count": 73,
   "metadata": {},
   "outputs": [
    {
     "data": {
      "text/html": [
       "<div>\n",
       "<style scoped>\n",
       "    .dataframe tbody tr th:only-of-type {\n",
       "        vertical-align: middle;\n",
       "    }\n",
       "\n",
       "    .dataframe tbody tr th {\n",
       "        vertical-align: top;\n",
       "    }\n",
       "\n",
       "    .dataframe thead th {\n",
       "        text-align: right;\n",
       "    }\n",
       "</style>\n",
       "<table border=\"1\" class=\"dataframe\">\n",
       "  <thead>\n",
       "    <tr style=\"text-align: right;\">\n",
       "      <th></th>\n",
       "      <th>pop</th>\n",
       "    </tr>\n",
       "    <tr>\n",
       "      <th>region</th>\n",
       "      <th></th>\n",
       "    </tr>\n",
       "  </thead>\n",
       "  <tbody>\n",
       "    <tr>\n",
       "      <th>Carlow</th>\n",
       "      <td>54612</td>\n",
       "    </tr>\n",
       "    <tr>\n",
       "      <th>Dublin</th>\n",
       "      <td>527612</td>\n",
       "    </tr>\n",
       "    <tr>\n",
       "      <th>South Dublin</th>\n",
       "      <td>265205</td>\n",
       "    </tr>\n",
       "    <tr>\n",
       "      <th>Fingal</th>\n",
       "      <td>273991</td>\n",
       "    </tr>\n",
       "    <tr>\n",
       "      <th>Dún Laoghaire-Rathdown</th>\n",
       "      <td>206261</td>\n",
       "    </tr>\n",
       "  </tbody>\n",
       "</table>\n",
       "</div>"
      ],
      "text/plain": [
       "                           pop\n",
       "region                        \n",
       "Carlow                   54612\n",
       "Dublin                  527612\n",
       "South Dublin            265205\n",
       "Fingal                  273991\n",
       "Dún Laoghaire-Rathdown  206261"
      ]
     },
     "execution_count": 73,
     "metadata": {},
     "output_type": "execute_result"
    }
   ],
   "source": [
    "# renaming consistently\n",
    "ireland.rename(columns={\"t1_1agett\":\"pop\"\n",
    "                        ,\"geogdesc\":\"region\"},inplace=True)\n",
    "\n",
    "# few cases to treat individually\n",
    "tipperary_pop = ireland.loc[ireland.region.isin([\"Tipperary North\",\"Tipperary South\"]),\"pop\"].sum()\n",
    "\n",
    "missing_case = pd.DataFrame([{\"region\" : \"Tipperary\", \"pop\" : tipperary_pop}])\n",
    "\n",
    "ireland = pd.concat([ireland,missing_case])\n",
    "\n",
    "ireland.set_index(\"region\",inplace=True)\n",
    "# ireland.head()"
   ]
  },
  {
   "cell_type": "code",
   "execution_count": 74,
   "metadata": {},
   "outputs": [],
   "source": [
    "missing_index = [x for x in ireland.index if x in missing_pop.index]\n"
   ]
  },
  {
   "cell_type": "code",
   "execution_count": 75,
   "metadata": {},
   "outputs": [],
   "source": [
    "missing_pop.loc[missing_index,\"pop\"] = ireland.loc[missing_index,\"pop\"]"
   ]
  },
  {
   "cell_type": "code",
   "execution_count": 76,
   "metadata": {
    "tags": [
     "rm_cell"
    ]
   },
   "outputs": [
    {
     "data": {
      "text/html": [
       "<div>\n",
       "<style scoped>\n",
       "    .dataframe tbody tr th:only-of-type {\n",
       "        vertical-align: middle;\n",
       "    }\n",
       "\n",
       "    .dataframe tbody tr th {\n",
       "        vertical-align: top;\n",
       "    }\n",
       "\n",
       "    .dataframe thead th {\n",
       "        text-align: right;\n",
       "    }\n",
       "</style>\n",
       "<table border=\"1\" class=\"dataframe\">\n",
       "  <thead>\n",
       "    <tr style=\"text-align: right;\">\n",
       "      <th></th>\n",
       "      <th>country</th>\n",
       "      <th>pop</th>\n",
       "    </tr>\n",
       "    <tr>\n",
       "      <th>region</th>\n",
       "      <th></th>\n",
       "      <th></th>\n",
       "    </tr>\n",
       "  </thead>\n",
       "  <tbody>\n",
       "    <tr>\n",
       "      <th>Westmeath</th>\n",
       "      <td>Ireland</td>\n",
       "      <td>86164.0</td>\n",
       "    </tr>\n",
       "    <tr>\n",
       "      <th>Wexford</th>\n",
       "      <td>Ireland</td>\n",
       "      <td>145320.0</td>\n",
       "    </tr>\n",
       "    <tr>\n",
       "      <th>Wicklow</th>\n",
       "      <td>Ireland</td>\n",
       "      <td>136640.0</td>\n",
       "    </tr>\n",
       "  </tbody>\n",
       "</table>\n",
       "</div>"
      ],
      "text/plain": [
       "           country       pop\n",
       "region                      \n",
       "Westmeath  Ireland   86164.0\n",
       "Wexford    Ireland  145320.0\n",
       "Wicklow    Ireland  136640.0"
      ]
     },
     "execution_count": 76,
     "metadata": {},
     "output_type": "execute_result"
    }
   ],
   "source": [
    "# yey, ireland is in.\n",
    "missing_pop.loc[missing_pop.country==\"Ireland\"].tail(3)"
   ]
  },
  {
   "cell_type": "code",
   "execution_count": 77,
   "metadata": {},
   "outputs": [
    {
     "data": {
      "text/html": [
       "<div>\n",
       "<style scoped>\n",
       "    .dataframe tbody tr th:only-of-type {\n",
       "        vertical-align: middle;\n",
       "    }\n",
       "\n",
       "    .dataframe tbody tr th {\n",
       "        vertical-align: top;\n",
       "    }\n",
       "\n",
       "    .dataframe thead th {\n",
       "        text-align: right;\n",
       "    }\n",
       "</style>\n",
       "<table border=\"1\" class=\"dataframe\">\n",
       "  <thead>\n",
       "    <tr style=\"text-align: right;\">\n",
       "      <th></th>\n",
       "      <th>region</th>\n",
       "      <th>country</th>\n",
       "      <th>pop</th>\n",
       "    </tr>\n",
       "  </thead>\n",
       "  <tbody>\n",
       "    <tr>\n",
       "      <th>0</th>\n",
       "      <td>Neuquen</td>\n",
       "      <td>Argentina</td>\n",
       "      <td>NaN</td>\n",
       "    </tr>\n",
       "    <tr>\n",
       "      <th>1</th>\n",
       "      <td>Tucuman</td>\n",
       "      <td>Argentina</td>\n",
       "      <td>NaN</td>\n",
       "    </tr>\n",
       "    <tr>\n",
       "      <th>2</th>\n",
       "      <td>Mato Grosso Do Sul</td>\n",
       "      <td>Brazil</td>\n",
       "      <td>NaN</td>\n",
       "    </tr>\n",
       "    <tr>\n",
       "      <th>3</th>\n",
       "      <td>Rio De Janeiro</td>\n",
       "      <td>Brazil</td>\n",
       "      <td>NaN</td>\n",
       "    </tr>\n",
       "    <tr>\n",
       "      <th>4</th>\n",
       "      <td>Rio Grande Do Norte</td>\n",
       "      <td>Brazil</td>\n",
       "      <td>NaN</td>\n",
       "    </tr>\n",
       "  </tbody>\n",
       "</table>\n",
       "</div>"
      ],
      "text/plain": [
       "                region    country  pop\n",
       "0              Neuquen  Argentina  NaN\n",
       "1              Tucuman  Argentina  NaN\n",
       "2   Mato Grosso Do Sul     Brazil  NaN\n",
       "3       Rio De Janeiro     Brazil  NaN\n",
       "4  Rio Grande Do Norte     Brazil  NaN"
      ]
     },
     "execution_count": 77,
     "metadata": {},
     "output_type": "execute_result"
    }
   ],
   "source": [
    "# need to go back and forth between indexing based on the region and putting it back into the columns, the R function match() does that well. \n",
    "missing_pop.reset_index(inplace=True,drop=False)\n",
    "# missing_pop.head()"
   ]
  },
  {
   "cell_type": "code",
   "execution_count": 78,
   "metadata": {},
   "outputs": [],
   "source": [
    "# the fully manual bit, took some time.\n",
    "\n",
    "# Argentina\n",
    "missing_pop.loc[missing_pop.region==\"Neuquen\",\"pop\"] = 744_592 # statista : https://www.statista.com/statistics/1413909/population-by-group-age-gender-neuquen-argentina\n",
    "missing_pop.loc[missing_pop.region==\"Tucuman\",\"pop\"] = 1.593e6 # wiki\n",
    "\n",
    "# Brasil\n",
    "missing_pop.loc[missing_pop.region==\"Mato Grosso Do Sul\",\"pop\"] = 2_833_742 # https://www.britannica.com/place/Mato-Grosso-do-Sul\n",
    "missing_pop.loc[missing_pop.region==\"Rio De Janeiro\",\"pop\"] = 6_625_849 # https://www.britannica.com/place/Rio-de-Janeiro-Brazil\n",
    "missing_pop.loc[missing_pop.region==\"Rio Grande Do Norte\",\"pop\"] = 3_302_729 # https://cidades.ibge.gov.br/brasil/rn/panorama\n",
    "missing_pop.loc[missing_pop.region==\"Rio Grande Do Sul\",\"pop\"] = 11_329_605 # https://www.ceicdata.com/en/brazil/population/population-south-rio-grande-do-sul\n",
    "\n",
    "# Canada\n",
    "missing_pop.loc[missing_pop.region==\"Newfoundland And Labrador\",\"pop\"] = 541_391 # https://www.gov.nl.ca/fin/economics/eb-population/\n",
    "\n",
    "#Colombia\n",
    "missing_pop.loc[missing_pop.region==\"Norte de Santander\",\"pop\"] = 1_617_209 # https://www.citypopulation.de/en/colombia/admin/54__norte_de_santander/\n",
    "\n",
    "# croatia\n",
    "missing_pop.loc[missing_pop.region==\"Slavonskibrod-Posavina\",\"pop\"] = 130_267 # https://www.citypopulation.de/en/croatia/admin/12__brod_posavina/\n",
    "\n",
    "# Kazakhstan\n",
    "missing_pop.loc[missing_pop.region==\"Aktobe\",\"pop\"] = 944_600 # https://stat.gov.kz/en/region/aktobe/\n",
    "missing_pop.loc[missing_pop.region==\"Atirau\",\"pop\"] = 708_500 # https://stat.gov.kz/en/region/atyrau/\n",
    "missing_pop.loc[missing_pop.region==\"East Kazakhstan\",\"pop\"] = 731_246 # https://www.citypopulation.de/en/kazakhstan/cities/\n",
    "missing_pop.loc[missing_pop.region==\"Kostanay\",\"pop\"] = 827_900 # https://stat.gov.kz/en/region/kostanay/\n",
    "missing_pop.loc[missing_pop.region==\"North Kazakhstan\",\"pop\"] = 540_700 # \n",
    "\n",
    "# south Korea\n",
    "missing_pop.loc[missing_pop.region==\"Gangwond-do\",\"pop\"] = 1_521_763 # https://www.citypopulation.de/en/southkorea/admin/32__gangwon_do/\n",
    "\n",
    "# Tanzania\n",
    "missing_pop.loc[missing_pop.region==\"Arusha\",\"pop\"] = 2_356_255 # https://www.citypopulation.de/en/tanzania/admin/02__arusha/\n",
    "missing_pop.loc[missing_pop.region==\"Dar es salaam\",\"pop\"] = 8_161_231 # https://worldpopulationreview.com/cities/tanzania/dar-es-salaam\n",
    "missing_pop.loc[missing_pop.region==\"Dodoma\",\"pop\"] = 3_085_625 # https://www.citypopulation.de/en/tanzania/admin/01__dodoma/\n",
    "missing_pop.loc[missing_pop.region==\"Geita\",\"pop\"] = 2_977_608 # https://www.citypopulation.de/en/tanzania/admin/25__geita\n",
    "missing_pop.loc[missing_pop.region==\"Iringa\",\"pop\"] = 1_192_728 # http://www.citypopulation.de/en/tanzania/admin/11__iringa/\n",
    "missing_pop.loc[missing_pop.region==\"Kagera\",\"pop\"] = 2_989_299 # https://www.citypopulation.de/en/tanzania/admin/18/\n",
    "missing_pop.loc[missing_pop.region==\"Katavi\",\"pop\"] = 1_152_958 # https://citypopulation.de/en/tanzania/admin/23__katavi/\n",
    "missing_pop.loc[missing_pop.region==\"Kigoma\",\"pop\"] = 2_470_967 # https://citypopulation.de/en/tanzania/admin/\n",
    "missing_pop.loc[missing_pop.region==\"Kilimanjaro\",\"pop\"] = 1_861_934 # ---\n",
    "missing_pop.loc[missing_pop.region==\"Lindi\",\"pop\"] = 1_194_028 # ---\n",
    "missing_pop.loc[missing_pop.region==\"Manyara\",\"pop\"] = 1_892_502 # ---\n",
    "missing_pop.loc[missing_pop.region==\"Mara\",\"pop\"] = 2_372_015 # ---\n",
    "missing_pop.loc[missing_pop.region==\"Mbeya\",\"pop\"] = 2_343_754 # ---\n",
    "missing_pop.loc[missing_pop.region==\"Morogoro\",\"pop\"] = 3_197_104 # ---\n",
    "missing_pop.loc[missing_pop.region==\"Mtwara\",\"pop\"] = 1_634_947 # ---\n",
    "missing_pop.loc[missing_pop.region==\"Mwanza\",\"pop\"] = 3_699_872 # ---\n",
    "missing_pop.loc[missing_pop.region==\"Njombe\",\"pop\"] = 889_946 # ---\n",
    "missing_pop.loc[missing_pop.region==\"Pwani\",\"pop\"] = 2_024_947 # ---\n",
    "missing_pop.loc[missing_pop.region==\"Rukwa\",\"pop\"] = 1_540_519 # ---\n",
    "missing_pop.loc[missing_pop.region==\"Ruvuma\",\"pop\"] = 1_848_794 # ---\n",
    "missing_pop.loc[missing_pop.region==\"Shinyanga\",\"pop\"] = 2_241_299 # ---\n",
    "missing_pop.loc[missing_pop.region==\"Singida\",\"pop\"] = 2_008_058 # ---\n",
    "missing_pop.loc[missing_pop.region==\"Tabora\",\"pop\"] = 3_391_679 # ---\n",
    "missing_pop.loc[missing_pop.region==\"Tanga\",\"pop\"] = 2_615_597 # ---\n",
    "\n",
    "# Ukraine\n",
    "missing_pop.loc[missing_pop.region==\"Dnipropetrovsk\",\"pop\"] = 1_145_065 # https://www.citypopulation.de/en/ukraine/\n",
    "missing_pop.loc[missing_pop.region==\"Kyiv City\",\"pop\"] = 2_952_301 # https://www.citypopulation.de/en/ukraine/kievcity/"
   ]
  },
  {
   "cell_type": "code",
   "execution_count": 79,
   "metadata": {},
   "outputs": [],
   "source": [
    "# no 'fx' is na\n",
    "# dose_year[dose_year[\"fx\"].isna()]\n",
    "# NA for gid_0==\"ANT\"\n",
    "# dose_year[dose_year[\"deflator_2015\"].isna()]\n",
    "# # dose_year[dose_year.gid_0==\"ANT\"]\n",
    "# lcu_vars = [x for x in dose_year.columns if re.search(string=x,pattern=\"_lcu\")]\n",
    "# dose_year[lcu_vars].isna() "
   ]
  },
  {
   "cell_type": "markdown",
   "metadata": {},
   "source": [
    "### Putting the missing populations back in"
   ]
  },
  {
   "cell_type": "code",
   "execution_count": 80,
   "metadata": {},
   "outputs": [],
   "source": [
    "dose_year.set_index(\"region\",inplace=True)\n",
    "missing_pop.set_index(\"region\",inplace=True)"
   ]
  },
  {
   "cell_type": "code",
   "execution_count": 81,
   "metadata": {},
   "outputs": [],
   "source": [
    "# yeahhhh\n",
    "dose_year.loc[missing_pop.index,\"pop\"] = missing_pop[\"pop\"]"
   ]
  },
  {
   "cell_type": "code",
   "execution_count": 82,
   "metadata": {},
   "outputs": [],
   "source": [
    "# resetting back the index.\n",
    "dose_year.reset_index(inplace=True,drop=False)"
   ]
  },
  {
   "cell_type": "markdown",
   "metadata": {},
   "source": [
    "## Converting to absolute GDP values\n",
    "Computing grp values in usd_2015."
   ]
  },
  {
   "cell_type": "code",
   "execution_count": 83,
   "metadata": {},
   "outputs": [],
   "source": [
    "# USD\n",
    "\n",
    "dose_year[\"agriculture_usd_2015\"] = dose_year[\"ag_grp_pc_usd_2015\"]*dose_year[\"pop\"]\n",
    "dose_year[\"manufacturing_usd_2015\"] = dose_year[\"man_grp_pc_usd_2015\"]*dose_year[\"pop\"]\n",
    "dose_year[\"services_usd_2015\"] = dose_year[\"serv_grp_pc_usd_2015\"]*dose_year[\"pop\"]\n",
    "dose_year[\"grp_usd_2015\"] = dose_year[\"grp_pc_usd_2015\"]*dose_year[\"pop\"]\n",
    "\n",
    "# LCU\n",
    "# \n",
    "# dose_year[\"agriculture_lcu_2015\"] = dose_year[\"ag_grp_pc_lcu_2015\"]*dose_year[\"pop\"]\n",
    "# dose_year[\"manufacturing_lcu_2015\"] = dose_year[\"man_grp_pc_lcu_2015\"]*dose_year[\"pop\"]\n",
    "# dose_year[\"services_lcu_2015\"] = dose_year[\"serv_grp_pc_lcu_2015\"]*dose_year[\"pop\"]\n",
    "# dose_year[\"grp_lcu_2015\"] = dose_year[\"grp_pc_lcu_2015\"]*dose_year[\"pop\"]\n"
   ]
  },
  {
   "cell_type": "markdown",
   "metadata": {},
   "source": [
    "### missing values from lcu and usd"
   ]
  },
  {
   "cell_type": "code",
   "execution_count": 84,
   "metadata": {
    "tags": [
     "rm_cell"
    ]
   },
   "outputs": [
    {
     "data": {
      "text/html": [
       "<div>\n",
       "<style scoped>\n",
       "    .dataframe tbody tr th:only-of-type {\n",
       "        vertical-align: middle;\n",
       "    }\n",
       "\n",
       "    .dataframe tbody tr th {\n",
       "        vertical-align: top;\n",
       "    }\n",
       "\n",
       "    .dataframe thead th {\n",
       "        text-align: right;\n",
       "    }\n",
       "</style>\n",
       "<table border=\"1\" class=\"dataframe\">\n",
       "  <thead>\n",
       "    <tr style=\"text-align: right;\">\n",
       "      <th></th>\n",
       "      <th>gid_0</th>\n",
       "      <th>gid_1</th>\n",
       "      <th>grp_pc_usd_2015</th>\n",
       "      <th>ag_grp_pc_usd_2015</th>\n",
       "      <th>man_grp_pc_usd_2015</th>\n",
       "      <th>serv_grp_pc_usd_2015</th>\n",
       "      <th>agriculture_usd_2015</th>\n",
       "      <th>manufacturing_usd_2015</th>\n",
       "      <th>services_usd_2015</th>\n",
       "      <th>grp_usd_2015</th>\n",
       "    </tr>\n",
       "  </thead>\n",
       "  <tbody>\n",
       "    <tr>\n",
       "      <th>779</th>\n",
       "      <td>ANT</td>\n",
       "      <td>BES.1_1</td>\n",
       "      <td>24649.56361</td>\n",
       "      <td>NaN</td>\n",
       "      <td>NaN</td>\n",
       "      <td>NaN</td>\n",
       "      <td>NaN</td>\n",
       "      <td>NaN</td>\n",
       "      <td>NaN</td>\n",
       "      <td>4.660000e+08</td>\n",
       "    </tr>\n",
       "    <tr>\n",
       "      <th>780</th>\n",
       "      <td>ANT</td>\n",
       "      <td>BES.2_1</td>\n",
       "      <td>25952.51242</td>\n",
       "      <td>NaN</td>\n",
       "      <td>NaN</td>\n",
       "      <td>NaN</td>\n",
       "      <td>NaN</td>\n",
       "      <td>NaN</td>\n",
       "      <td>NaN</td>\n",
       "      <td>4.700000e+07</td>\n",
       "    </tr>\n",
       "    <tr>\n",
       "      <th>781</th>\n",
       "      <td>ANT</td>\n",
       "      <td>BES.3_1</td>\n",
       "      <td>34562.80629</td>\n",
       "      <td>NaN</td>\n",
       "      <td>NaN</td>\n",
       "      <td>NaN</td>\n",
       "      <td>NaN</td>\n",
       "      <td>NaN</td>\n",
       "      <td>NaN</td>\n",
       "      <td>1.340000e+08</td>\n",
       "    </tr>\n",
       "  </tbody>\n",
       "</table>\n",
       "</div>"
      ],
      "text/plain": [
       "    gid_0    gid_1  grp_pc_usd_2015  ag_grp_pc_usd_2015  man_grp_pc_usd_2015  \\\n",
       "779   ANT  BES.1_1      24649.56361                 NaN                  NaN   \n",
       "780   ANT  BES.2_1      25952.51242                 NaN                  NaN   \n",
       "781   ANT  BES.3_1      34562.80629                 NaN                  NaN   \n",
       "\n",
       "     serv_grp_pc_usd_2015  agriculture_usd_2015  manufacturing_usd_2015  \\\n",
       "779                   NaN                   NaN                     NaN   \n",
       "780                   NaN                   NaN                     NaN   \n",
       "781                   NaN                   NaN                     NaN   \n",
       "\n",
       "     services_usd_2015  grp_usd_2015  \n",
       "779                NaN  4.660000e+08  \n",
       "780                NaN  4.700000e+07  \n",
       "781                NaN  1.340000e+08  "
      ]
     },
     "execution_count": 84,
     "metadata": {},
     "output_type": "execute_result"
    }
   ],
   "source": [
    "# dose_year.loc[dose_year.filter(regex=\"_lcu_\").isna().any(axis=1),dose_year.filter(regex=\"_usd_\").columns]\n",
    "dose_year.loc[dose_year.filter(regex=\"^grp_pc_lcu_\").isna().any(axis=1),dose_year.filter(regex=\"(_usd_)|(gid_)\").columns]"
   ]
  },
  {
   "cell_type": "code",
   "execution_count": 85,
   "metadata": {
    "tags": [
     "rm_cell"
    ]
   },
   "outputs": [
    {
     "data": {
      "text/html": [
       "<div>\n",
       "<style scoped>\n",
       "    .dataframe tbody tr th:only-of-type {\n",
       "        vertical-align: middle;\n",
       "    }\n",
       "\n",
       "    .dataframe tbody tr th {\n",
       "        vertical-align: top;\n",
       "    }\n",
       "\n",
       "    .dataframe thead th {\n",
       "        text-align: right;\n",
       "    }\n",
       "</style>\n",
       "<table border=\"1\" class=\"dataframe\">\n",
       "  <thead>\n",
       "    <tr style=\"text-align: right;\">\n",
       "      <th></th>\n",
       "      <th>gid_0</th>\n",
       "      <th>gid_1</th>\n",
       "      <th>grp_pc_usd_2015</th>\n",
       "      <th>ag_grp_pc_usd_2015</th>\n",
       "      <th>man_grp_pc_usd_2015</th>\n",
       "      <th>serv_grp_pc_usd_2015</th>\n",
       "      <th>agriculture_usd_2015</th>\n",
       "      <th>manufacturing_usd_2015</th>\n",
       "      <th>services_usd_2015</th>\n",
       "      <th>grp_usd_2015</th>\n",
       "    </tr>\n",
       "  </thead>\n",
       "  <tbody>\n",
       "  </tbody>\n",
       "</table>\n",
       "</div>"
      ],
      "text/plain": [
       "Empty DataFrame\n",
       "Columns: [gid_0, gid_1, grp_pc_usd_2015, ag_grp_pc_usd_2015, man_grp_pc_usd_2015, serv_grp_pc_usd_2015, agriculture_usd_2015, manufacturing_usd_2015, services_usd_2015, grp_usd_2015]\n",
       "Index: []"
      ]
     },
     "execution_count": 85,
     "metadata": {},
     "output_type": "execute_result"
    }
   ],
   "source": [
    "# dose_year.loc[dose_year.filter(regex=\"_lcu_\").isna().any(axis=1),dose_year.filter(regex=\"_lcu_\").columns]\n",
    "dose_year.loc[dose_year.filter(regex=\"^grp_pc_usd_\").isna().any(axis=1),dose_year.filter(regex=\"(_usd_)|(gid_)\").columns]"
   ]
  },
  {
   "cell_type": "code",
   "execution_count": 86,
   "metadata": {
    "tags": [
     "rm_cell"
    ]
   },
   "outputs": [
    {
     "data": {
      "text/plain": [
       "False"
      ]
     },
     "execution_count": 86,
     "metadata": {},
     "output_type": "execute_result"
    }
   ],
   "source": [
    "dose_year.grp_pc_usd_2015.isna().any()"
   ]
  },
  {
   "cell_type": "code",
   "execution_count": 87,
   "metadata": {
    "tags": [
     "rm_cell"
    ]
   },
   "outputs": [
    {
     "data": {
      "text/html": [
       "<div>\n",
       "<style scoped>\n",
       "    .dataframe tbody tr th:only-of-type {\n",
       "        vertical-align: middle;\n",
       "    }\n",
       "\n",
       "    .dataframe tbody tr th {\n",
       "        vertical-align: top;\n",
       "    }\n",
       "\n",
       "    .dataframe thead th {\n",
       "        text-align: right;\n",
       "    }\n",
       "</style>\n",
       "<table border=\"1\" class=\"dataframe\">\n",
       "  <thead>\n",
       "    <tr style=\"text-align: right;\">\n",
       "      <th></th>\n",
       "      <th>region</th>\n",
       "      <th>country</th>\n",
       "      <th>gid_0</th>\n",
       "      <th>gid_1</th>\n",
       "      <th>year</th>\n",
       "      <th>grp_lcu</th>\n",
       "      <th>pop</th>\n",
       "      <th>grp_pc_lcu</th>\n",
       "      <th>ag_grp_pc_lcu</th>\n",
       "      <th>man_grp_pc_lcu</th>\n",
       "      <th>...</th>\n",
       "      <th>agriculture_lcu_2015</th>\n",
       "      <th>grp_lcu_2015</th>\n",
       "      <th>manufacturing_lcu_2015_usd</th>\n",
       "      <th>services_lcu_2015_usd</th>\n",
       "      <th>agriculture_lcu_2015_usd</th>\n",
       "      <th>grp_lcu_2015_usd</th>\n",
       "      <th>agriculture_usd_2015</th>\n",
       "      <th>manufacturing_usd_2015</th>\n",
       "      <th>services_usd_2015</th>\n",
       "      <th>grp_usd_2015</th>\n",
       "    </tr>\n",
       "  </thead>\n",
       "  <tbody>\n",
       "    <tr>\n",
       "      <th>865</th>\n",
       "      <td>NaN</td>\n",
       "      <td>Philippines</td>\n",
       "      <td>PHL</td>\n",
       "      <td>PHL.109_1</td>\n",
       "      <td>2015.0</td>\n",
       "      <td>9.918561e+10</td>\n",
       "      <td>NaN</td>\n",
       "      <td>2.365159e+04</td>\n",
       "      <td>14387.34929</td>\n",
       "      <td>1179.344398</td>\n",
       "      <td>...</td>\n",
       "      <td>6.033498e+10</td>\n",
       "      <td>9.918561e+10</td>\n",
       "      <td>1.086902e+08</td>\n",
       "      <td>7.451162e+08</td>\n",
       "      <td>1.325961e+09</td>\n",
       "      <td>2.179767e+09</td>\n",
       "      <td>NaN</td>\n",
       "      <td>NaN</td>\n",
       "      <td>NaN</td>\n",
       "      <td>NaN</td>\n",
       "    </tr>\n",
       "    <tr>\n",
       "      <th>1206</th>\n",
       "      <td>NaN</td>\n",
       "      <td>Tanzania</td>\n",
       "      <td>TZA</td>\n",
       "      <td>None</td>\n",
       "      <td>2015.0</td>\n",
       "      <td>NaN</td>\n",
       "      <td>NaN</td>\n",
       "      <td>1.567157e+06</td>\n",
       "      <td>NaN</td>\n",
       "      <td>NaN</td>\n",
       "      <td>...</td>\n",
       "      <td>NaN</td>\n",
       "      <td>NaN</td>\n",
       "      <td>NaN</td>\n",
       "      <td>NaN</td>\n",
       "      <td>NaN</td>\n",
       "      <td>NaN</td>\n",
       "      <td>NaN</td>\n",
       "      <td>NaN</td>\n",
       "      <td>NaN</td>\n",
       "      <td>NaN</td>\n",
       "    </tr>\n",
       "  </tbody>\n",
       "</table>\n",
       "<p>2 rows × 47 columns</p>\n",
       "</div>"
      ],
      "text/plain": [
       "     region      country gid_0      gid_1    year       grp_lcu  pop  \\\n",
       "865     NaN  Philippines   PHL  PHL.109_1  2015.0  9.918561e+10  NaN   \n",
       "1206    NaN     Tanzania   TZA       None  2015.0           NaN  NaN   \n",
       "\n",
       "        grp_pc_lcu  ag_grp_pc_lcu  man_grp_pc_lcu  ...  agriculture_lcu_2015  \\\n",
       "865   2.365159e+04    14387.34929     1179.344398  ...          6.033498e+10   \n",
       "1206  1.567157e+06            NaN             NaN  ...                   NaN   \n",
       "\n",
       "      grp_lcu_2015  manufacturing_lcu_2015_usd  services_lcu_2015_usd  \\\n",
       "865   9.918561e+10                1.086902e+08           7.451162e+08   \n",
       "1206           NaN                         NaN                    NaN   \n",
       "\n",
       "      agriculture_lcu_2015_usd  grp_lcu_2015_usd  agriculture_usd_2015  \\\n",
       "865               1.325961e+09      2.179767e+09                   NaN   \n",
       "1206                       NaN               NaN                   NaN   \n",
       "\n",
       "      manufacturing_usd_2015  services_usd_2015  grp_usd_2015  \n",
       "865                      NaN                NaN           NaN  \n",
       "1206                     NaN                NaN           NaN  \n",
       "\n",
       "[2 rows x 47 columns]"
      ]
     },
     "execution_count": 87,
     "metadata": {},
     "output_type": "execute_result"
    }
   ],
   "source": [
    "dose_year[dose_year[\"pop\"].isna()]"
   ]
  },
  {
   "cell_type": "markdown",
   "metadata": {},
   "source": [
    "### Do things add up ? \n"
   ]
  },
  {
   "cell_type": "code",
   "execution_count": 88,
   "metadata": {
    "tags": [
     "rm_cell"
    ]
   },
   "outputs": [
    {
     "data": {
      "text/html": [
       "<div>\n",
       "<style scoped>\n",
       "    .dataframe tbody tr th:only-of-type {\n",
       "        vertical-align: middle;\n",
       "    }\n",
       "\n",
       "    .dataframe tbody tr th {\n",
       "        vertical-align: top;\n",
       "    }\n",
       "\n",
       "    .dataframe thead th {\n",
       "        text-align: right;\n",
       "    }\n",
       "</style>\n",
       "<table border=\"1\" class=\"dataframe\">\n",
       "  <thead>\n",
       "    <tr style=\"text-align: right;\">\n",
       "      <th></th>\n",
       "      <th>region</th>\n",
       "      <th>country</th>\n",
       "      <th>gid_0</th>\n",
       "      <th>gid_1</th>\n",
       "      <th>year</th>\n",
       "      <th>grp_lcu</th>\n",
       "      <th>pop</th>\n",
       "      <th>grp_pc_lcu</th>\n",
       "      <th>ag_grp_pc_lcu</th>\n",
       "      <th>man_grp_pc_lcu</th>\n",
       "      <th>...</th>\n",
       "      <th>agriculture_lcu_2015</th>\n",
       "      <th>grp_lcu_2015</th>\n",
       "      <th>manufacturing_lcu_2015_usd</th>\n",
       "      <th>services_lcu_2015_usd</th>\n",
       "      <th>agriculture_lcu_2015_usd</th>\n",
       "      <th>grp_lcu_2015_usd</th>\n",
       "      <th>agriculture_usd_2015</th>\n",
       "      <th>manufacturing_usd_2015</th>\n",
       "      <th>services_usd_2015</th>\n",
       "      <th>grp_usd_2015</th>\n",
       "    </tr>\n",
       "  </thead>\n",
       "  <tbody>\n",
       "    <tr>\n",
       "      <th>397</th>\n",
       "      <td>Andhra Pradesh</td>\n",
       "      <td>India</td>\n",
       "      <td>IND</td>\n",
       "      <td>IND.2_1</td>\n",
       "      <td>2015.0</td>\n",
       "      <td>4.880000e+12</td>\n",
       "      <td>51012200.0</td>\n",
       "      <td>95672.85500</td>\n",
       "      <td>3.722380e+06</td>\n",
       "      <td>24380.167940</td>\n",
       "      <td>...</td>\n",
       "      <td>1.898868e+14</td>\n",
       "      <td>4.880483e+12</td>\n",
       "      <td>1.938657e+10</td>\n",
       "      <td>3.357343e+10</td>\n",
       "      <td>2.959954e+12</td>\n",
       "      <td>7.607693e+10</td>\n",
       "      <td>2.959954e+12</td>\n",
       "      <td>1.938657e+10</td>\n",
       "      <td>3.357343e+10</td>\n",
       "      <td>7.607693e+10</td>\n",
       "    </tr>\n",
       "    <tr>\n",
       "      <th>399</th>\n",
       "      <td>Assam</td>\n",
       "      <td>India</td>\n",
       "      <td>IND</td>\n",
       "      <td>IND.4_1</td>\n",
       "      <td>2015.0</td>\n",
       "      <td>1.840000e+12</td>\n",
       "      <td>32775600.0</td>\n",
       "      <td>56268.21868</td>\n",
       "      <td>3.586045e+05</td>\n",
       "      <td>12564.697200</td>\n",
       "      <td>...</td>\n",
       "      <td>1.175348e+13</td>\n",
       "      <td>1.844225e+12</td>\n",
       "      <td>6.419377e+09</td>\n",
       "      <td>1.384176e+10</td>\n",
       "      <td>1.832131e+11</td>\n",
       "      <td>2.874776e+10</td>\n",
       "      <td>1.832131e+11</td>\n",
       "      <td>6.419377e+09</td>\n",
       "      <td>1.384176e+10</td>\n",
       "      <td>2.874776e+10</td>\n",
       "    </tr>\n",
       "    <tr>\n",
       "      <th>400</th>\n",
       "      <td>Bihar</td>\n",
       "      <td>India</td>\n",
       "      <td>IND</td>\n",
       "      <td>IND.5_1</td>\n",
       "      <td>2015.0</td>\n",
       "      <td>3.350000e+12</td>\n",
       "      <td>112160600.0</td>\n",
       "      <td>29906.44784</td>\n",
       "      <td>2.294282e+04</td>\n",
       "      <td>5885.672004</td>\n",
       "      <td>...</td>\n",
       "      <td>2.573280e+12</td>\n",
       "      <td>3.354325e+12</td>\n",
       "      <td>1.029026e+10</td>\n",
       "      <td>2.959853e+10</td>\n",
       "      <td>4.011227e+10</td>\n",
       "      <td>5.228719e+10</td>\n",
       "      <td>4.011227e+10</td>\n",
       "      <td>1.029026e+10</td>\n",
       "      <td>2.959853e+10</td>\n",
       "      <td>5.228719e+10</td>\n",
       "    </tr>\n",
       "    <tr>\n",
       "      <th>402</th>\n",
       "      <td>Chattisgarh</td>\n",
       "      <td>India</td>\n",
       "      <td>IND</td>\n",
       "      <td>IND.7_1</td>\n",
       "      <td>2015.0</td>\n",
       "      <td>2.090000e+12</td>\n",
       "      <td>27165800.0</td>\n",
       "      <td>77013.46368</td>\n",
       "      <td>5.385435e+05</td>\n",
       "      <td>26569.178690</td>\n",
       "      <td>...</td>\n",
       "      <td>1.462997e+13</td>\n",
       "      <td>2.092132e+12</td>\n",
       "      <td>1.125099e+10</td>\n",
       "      <td>1.134110e+10</td>\n",
       "      <td>2.280518e+11</td>\n",
       "      <td>3.261214e+10</td>\n",
       "      <td>2.280518e+11</td>\n",
       "      <td>1.125099e+10</td>\n",
       "      <td>1.134110e+10</td>\n",
       "      <td>3.261214e+10</td>\n",
       "    </tr>\n",
       "    <tr>\n",
       "      <th>405</th>\n",
       "      <td>Gujarat</td>\n",
       "      <td>India</td>\n",
       "      <td>IND</td>\n",
       "      <td>IND.11_1</td>\n",
       "      <td>2015.0</td>\n",
       "      <td>8.250000e+12</td>\n",
       "      <td>64214400.0</td>\n",
       "      <td>128445.84050</td>\n",
       "      <td>1.034242e+06</td>\n",
       "      <td>56871.319540</td>\n",
       "      <td>...</td>\n",
       "      <td>6.641324e+13</td>\n",
       "      <td>8.248073e+12</td>\n",
       "      <td>5.692669e+10</td>\n",
       "      <td>4.666193e+10</td>\n",
       "      <td>1.035249e+12</td>\n",
       "      <td>1.285709e+11</td>\n",
       "      <td>1.035249e+12</td>\n",
       "      <td>5.692669e+10</td>\n",
       "      <td>4.666193e+10</td>\n",
       "      <td>1.285709e+11</td>\n",
       "    </tr>\n",
       "  </tbody>\n",
       "</table>\n",
       "<p>5 rows × 47 columns</p>\n",
       "</div>"
      ],
      "text/plain": [
       "             region country gid_0     gid_1    year       grp_lcu  \\\n",
       "397  Andhra Pradesh   India   IND   IND.2_1  2015.0  4.880000e+12   \n",
       "399           Assam   India   IND   IND.4_1  2015.0  1.840000e+12   \n",
       "400           Bihar   India   IND   IND.5_1  2015.0  3.350000e+12   \n",
       "402     Chattisgarh   India   IND   IND.7_1  2015.0  2.090000e+12   \n",
       "405         Gujarat   India   IND  IND.11_1  2015.0  8.250000e+12   \n",
       "\n",
       "             pop    grp_pc_lcu  ag_grp_pc_lcu  man_grp_pc_lcu  ...  \\\n",
       "397   51012200.0   95672.85500   3.722380e+06    24380.167940  ...   \n",
       "399   32775600.0   56268.21868   3.586045e+05    12564.697200  ...   \n",
       "400  112160600.0   29906.44784   2.294282e+04     5885.672004  ...   \n",
       "402   27165800.0   77013.46368   5.385435e+05    26569.178690  ...   \n",
       "405   64214400.0  128445.84050   1.034242e+06    56871.319540  ...   \n",
       "\n",
       "     agriculture_lcu_2015  grp_lcu_2015  manufacturing_lcu_2015_usd  \\\n",
       "397          1.898868e+14  4.880483e+12                1.938657e+10   \n",
       "399          1.175348e+13  1.844225e+12                6.419377e+09   \n",
       "400          2.573280e+12  3.354325e+12                1.029026e+10   \n",
       "402          1.462997e+13  2.092132e+12                1.125099e+10   \n",
       "405          6.641324e+13  8.248073e+12                5.692669e+10   \n",
       "\n",
       "     services_lcu_2015_usd  agriculture_lcu_2015_usd  grp_lcu_2015_usd  \\\n",
       "397           3.357343e+10              2.959954e+12      7.607693e+10   \n",
       "399           1.384176e+10              1.832131e+11      2.874776e+10   \n",
       "400           2.959853e+10              4.011227e+10      5.228719e+10   \n",
       "402           1.134110e+10              2.280518e+11      3.261214e+10   \n",
       "405           4.666193e+10              1.035249e+12      1.285709e+11   \n",
       "\n",
       "     agriculture_usd_2015  manufacturing_usd_2015  services_usd_2015  \\\n",
       "397          2.959954e+12            1.938657e+10       3.357343e+10   \n",
       "399          1.832131e+11            6.419377e+09       1.384176e+10   \n",
       "400          4.011227e+10            1.029026e+10       2.959853e+10   \n",
       "402          2.280518e+11            1.125099e+10       1.134110e+10   \n",
       "405          1.035249e+12            5.692669e+10       4.666193e+10   \n",
       "\n",
       "     grp_usd_2015  \n",
       "397  7.607693e+10  \n",
       "399  2.874776e+10  \n",
       "400  5.228719e+10  \n",
       "402  3.261214e+10  \n",
       "405  1.285709e+11  \n",
       "\n",
       "[5 rows x 47 columns]"
      ]
     },
     "execution_count": 88,
     "metadata": {},
     "output_type": "execute_result"
    }
   ],
   "source": [
    "# in USD\n",
    "dose_year[np.abs((dose_year[\"manufacturing_usd_2015\"]+dose_year[\"services_usd_2015\"]+dose_year[\"agriculture_usd_2015\"])/dose_year[\"grp_usd_2015\"])>1.1].head()"
   ]
  },
  {
   "cell_type": "code",
   "execution_count": 89,
   "metadata": {
    "tags": [
     "rm_cell"
    ]
   },
   "outputs": [
    {
     "data": {
      "text/html": [
       "<div>\n",
       "<style scoped>\n",
       "    .dataframe tbody tr th:only-of-type {\n",
       "        vertical-align: middle;\n",
       "    }\n",
       "\n",
       "    .dataframe tbody tr th {\n",
       "        vertical-align: top;\n",
       "    }\n",
       "\n",
       "    .dataframe thead th {\n",
       "        text-align: right;\n",
       "    }\n",
       "</style>\n",
       "<table border=\"1\" class=\"dataframe\">\n",
       "  <thead>\n",
       "    <tr style=\"text-align: right;\">\n",
       "      <th></th>\n",
       "      <th>region</th>\n",
       "      <th>country</th>\n",
       "      <th>gid_0</th>\n",
       "      <th>gid_1</th>\n",
       "      <th>year</th>\n",
       "      <th>grp_lcu</th>\n",
       "      <th>pop</th>\n",
       "      <th>grp_pc_lcu</th>\n",
       "      <th>ag_grp_pc_lcu</th>\n",
       "      <th>man_grp_pc_lcu</th>\n",
       "      <th>...</th>\n",
       "      <th>agriculture_lcu_2015</th>\n",
       "      <th>grp_lcu_2015</th>\n",
       "      <th>manufacturing_lcu_2015_usd</th>\n",
       "      <th>services_lcu_2015_usd</th>\n",
       "      <th>agriculture_lcu_2015_usd</th>\n",
       "      <th>grp_lcu_2015_usd</th>\n",
       "      <th>agriculture_usd_2015</th>\n",
       "      <th>manufacturing_usd_2015</th>\n",
       "      <th>services_usd_2015</th>\n",
       "      <th>grp_usd_2015</th>\n",
       "    </tr>\n",
       "  </thead>\n",
       "  <tbody>\n",
       "    <tr>\n",
       "      <th>397</th>\n",
       "      <td>Andhra Pradesh</td>\n",
       "      <td>India</td>\n",
       "      <td>IND</td>\n",
       "      <td>IND.2_1</td>\n",
       "      <td>2015.0</td>\n",
       "      <td>4.880000e+12</td>\n",
       "      <td>51012200.0</td>\n",
       "      <td>95672.85500</td>\n",
       "      <td>3.722380e+06</td>\n",
       "      <td>24380.167940</td>\n",
       "      <td>...</td>\n",
       "      <td>1.898868e+14</td>\n",
       "      <td>4.880483e+12</td>\n",
       "      <td>1.938657e+10</td>\n",
       "      <td>3.357343e+10</td>\n",
       "      <td>2.959954e+12</td>\n",
       "      <td>7.607693e+10</td>\n",
       "      <td>2.959954e+12</td>\n",
       "      <td>1.938657e+10</td>\n",
       "      <td>3.357343e+10</td>\n",
       "      <td>7.607693e+10</td>\n",
       "    </tr>\n",
       "    <tr>\n",
       "      <th>399</th>\n",
       "      <td>Assam</td>\n",
       "      <td>India</td>\n",
       "      <td>IND</td>\n",
       "      <td>IND.4_1</td>\n",
       "      <td>2015.0</td>\n",
       "      <td>1.840000e+12</td>\n",
       "      <td>32775600.0</td>\n",
       "      <td>56268.21868</td>\n",
       "      <td>3.586045e+05</td>\n",
       "      <td>12564.697200</td>\n",
       "      <td>...</td>\n",
       "      <td>1.175348e+13</td>\n",
       "      <td>1.844225e+12</td>\n",
       "      <td>6.419377e+09</td>\n",
       "      <td>1.384176e+10</td>\n",
       "      <td>1.832131e+11</td>\n",
       "      <td>2.874776e+10</td>\n",
       "      <td>1.832131e+11</td>\n",
       "      <td>6.419377e+09</td>\n",
       "      <td>1.384176e+10</td>\n",
       "      <td>2.874776e+10</td>\n",
       "    </tr>\n",
       "    <tr>\n",
       "      <th>400</th>\n",
       "      <td>Bihar</td>\n",
       "      <td>India</td>\n",
       "      <td>IND</td>\n",
       "      <td>IND.5_1</td>\n",
       "      <td>2015.0</td>\n",
       "      <td>3.350000e+12</td>\n",
       "      <td>112160600.0</td>\n",
       "      <td>29906.44784</td>\n",
       "      <td>2.294282e+04</td>\n",
       "      <td>5885.672004</td>\n",
       "      <td>...</td>\n",
       "      <td>2.573280e+12</td>\n",
       "      <td>3.354325e+12</td>\n",
       "      <td>1.029026e+10</td>\n",
       "      <td>2.959853e+10</td>\n",
       "      <td>4.011227e+10</td>\n",
       "      <td>5.228719e+10</td>\n",
       "      <td>4.011227e+10</td>\n",
       "      <td>1.029026e+10</td>\n",
       "      <td>2.959853e+10</td>\n",
       "      <td>5.228719e+10</td>\n",
       "    </tr>\n",
       "    <tr>\n",
       "      <th>402</th>\n",
       "      <td>Chattisgarh</td>\n",
       "      <td>India</td>\n",
       "      <td>IND</td>\n",
       "      <td>IND.7_1</td>\n",
       "      <td>2015.0</td>\n",
       "      <td>2.090000e+12</td>\n",
       "      <td>27165800.0</td>\n",
       "      <td>77013.46368</td>\n",
       "      <td>5.385435e+05</td>\n",
       "      <td>26569.178690</td>\n",
       "      <td>...</td>\n",
       "      <td>1.462997e+13</td>\n",
       "      <td>2.092132e+12</td>\n",
       "      <td>1.125099e+10</td>\n",
       "      <td>1.134110e+10</td>\n",
       "      <td>2.280518e+11</td>\n",
       "      <td>3.261214e+10</td>\n",
       "      <td>2.280518e+11</td>\n",
       "      <td>1.125099e+10</td>\n",
       "      <td>1.134110e+10</td>\n",
       "      <td>3.261214e+10</td>\n",
       "    </tr>\n",
       "    <tr>\n",
       "      <th>405</th>\n",
       "      <td>Gujarat</td>\n",
       "      <td>India</td>\n",
       "      <td>IND</td>\n",
       "      <td>IND.11_1</td>\n",
       "      <td>2015.0</td>\n",
       "      <td>8.250000e+12</td>\n",
       "      <td>64214400.0</td>\n",
       "      <td>128445.84050</td>\n",
       "      <td>1.034242e+06</td>\n",
       "      <td>56871.319540</td>\n",
       "      <td>...</td>\n",
       "      <td>6.641324e+13</td>\n",
       "      <td>8.248073e+12</td>\n",
       "      <td>5.692669e+10</td>\n",
       "      <td>4.666193e+10</td>\n",
       "      <td>1.035249e+12</td>\n",
       "      <td>1.285709e+11</td>\n",
       "      <td>1.035249e+12</td>\n",
       "      <td>5.692669e+10</td>\n",
       "      <td>4.666193e+10</td>\n",
       "      <td>1.285709e+11</td>\n",
       "    </tr>\n",
       "  </tbody>\n",
       "</table>\n",
       "<p>5 rows × 47 columns</p>\n",
       "</div>"
      ],
      "text/plain": [
       "             region country gid_0     gid_1    year       grp_lcu  \\\n",
       "397  Andhra Pradesh   India   IND   IND.2_1  2015.0  4.880000e+12   \n",
       "399           Assam   India   IND   IND.4_1  2015.0  1.840000e+12   \n",
       "400           Bihar   India   IND   IND.5_1  2015.0  3.350000e+12   \n",
       "402     Chattisgarh   India   IND   IND.7_1  2015.0  2.090000e+12   \n",
       "405         Gujarat   India   IND  IND.11_1  2015.0  8.250000e+12   \n",
       "\n",
       "             pop    grp_pc_lcu  ag_grp_pc_lcu  man_grp_pc_lcu  ...  \\\n",
       "397   51012200.0   95672.85500   3.722380e+06    24380.167940  ...   \n",
       "399   32775600.0   56268.21868   3.586045e+05    12564.697200  ...   \n",
       "400  112160600.0   29906.44784   2.294282e+04     5885.672004  ...   \n",
       "402   27165800.0   77013.46368   5.385435e+05    26569.178690  ...   \n",
       "405   64214400.0  128445.84050   1.034242e+06    56871.319540  ...   \n",
       "\n",
       "     agriculture_lcu_2015  grp_lcu_2015  manufacturing_lcu_2015_usd  \\\n",
       "397          1.898868e+14  4.880483e+12                1.938657e+10   \n",
       "399          1.175348e+13  1.844225e+12                6.419377e+09   \n",
       "400          2.573280e+12  3.354325e+12                1.029026e+10   \n",
       "402          1.462997e+13  2.092132e+12                1.125099e+10   \n",
       "405          6.641324e+13  8.248073e+12                5.692669e+10   \n",
       "\n",
       "     services_lcu_2015_usd  agriculture_lcu_2015_usd  grp_lcu_2015_usd  \\\n",
       "397           3.357343e+10              2.959954e+12      7.607693e+10   \n",
       "399           1.384176e+10              1.832131e+11      2.874776e+10   \n",
       "400           2.959853e+10              4.011227e+10      5.228719e+10   \n",
       "402           1.134110e+10              2.280518e+11      3.261214e+10   \n",
       "405           4.666193e+10              1.035249e+12      1.285709e+11   \n",
       "\n",
       "     agriculture_usd_2015  manufacturing_usd_2015  services_usd_2015  \\\n",
       "397          2.959954e+12            1.938657e+10       3.357343e+10   \n",
       "399          1.832131e+11            6.419377e+09       1.384176e+10   \n",
       "400          4.011227e+10            1.029026e+10       2.959853e+10   \n",
       "402          2.280518e+11            1.125099e+10       1.134110e+10   \n",
       "405          1.035249e+12            5.692669e+10       4.666193e+10   \n",
       "\n",
       "     grp_usd_2015  \n",
       "397  7.607693e+10  \n",
       "399  2.874776e+10  \n",
       "400  5.228719e+10  \n",
       "402  3.261214e+10  \n",
       "405  1.285709e+11  \n",
       "\n",
       "[5 rows x 47 columns]"
      ]
     },
     "execution_count": 89,
     "metadata": {},
     "output_type": "execute_result"
    }
   ],
   "source": [
    "# in LCU\n",
    "dose_year[np.abs((dose_year[\"manufacturing_lcu_2015\"]+dose_year[\"services_lcu_2015\"]+dose_year[\"agriculture_lcu_2015\"])/dose_year[\"grp_lcu_2015\"])>1.1].head()"
   ]
  },
  {
   "cell_type": "markdown",
   "metadata": {},
   "source": [
    "### Data sets light"
   ]
  },
  {
   "cell_type": "code",
   "execution_count": 90,
   "metadata": {},
   "outputs": [],
   "source": [
    "# the light version is reduced to the variables of interest only. This includes a specific year, sector and total gdp(grp) values.\n",
    "dose_light = dose_year[[\"country\",\"gid_0\",\"gid_1\",\"grp_usd_2015\",\"services_usd_2015\",\"manufacturing_usd_2015\",\"agriculture_usd_2015\"]].copy()"
   ]
  },
  {
   "cell_type": "code",
   "execution_count": 94,
   "metadata": {},
   "outputs": [],
   "source": [
    "wdi_df_var.dropna(subset=[\"grp_usd_2015\"],inplace=True)"
   ]
  },
  {
   "cell_type": "code",
   "execution_count": 95,
   "metadata": {},
   "outputs": [],
   "source": [
    "# WDI is also reduced to the essential in order to concat the data sets later on.\n",
    "# this step could be done at an earlier stage as well to avoid redundancy.\n",
    "wdi_country_simple = wdi_df_var.loc[:,~wdi_df_var.columns.isin([\"gdp_cap\"])]"
   ]
  },
  {
   "cell_type": "markdown",
   "metadata": {},
   "source": [
    "## Combining \n",
    "Using the fact that columns are named the same."
   ]
  },
  {
   "cell_type": "markdown",
   "metadata": {},
   "source": [
    "#### The column names should match"
   ]
  },
  {
   "cell_type": "code",
   "execution_count": 96,
   "metadata": {
    "tags": [
     "rm_cell"
    ]
   },
   "outputs": [
    {
     "data": {
      "text/html": [
       "<div>\n",
       "<style scoped>\n",
       "    .dataframe tbody tr th:only-of-type {\n",
       "        vertical-align: middle;\n",
       "    }\n",
       "\n",
       "    .dataframe tbody tr th {\n",
       "        vertical-align: top;\n",
       "    }\n",
       "\n",
       "    .dataframe thead th {\n",
       "        text-align: right;\n",
       "    }\n",
       "</style>\n",
       "<table border=\"1\" class=\"dataframe\">\n",
       "  <thead>\n",
       "    <tr style=\"text-align: right;\">\n",
       "      <th></th>\n",
       "      <th>country</th>\n",
       "      <th>gid_0</th>\n",
       "      <th>gid_1</th>\n",
       "      <th>grp_usd_2015</th>\n",
       "      <th>services_usd_2015</th>\n",
       "      <th>manufacturing_usd_2015</th>\n",
       "      <th>agriculture_usd_2015</th>\n",
       "    </tr>\n",
       "  </thead>\n",
       "  <tbody>\n",
       "    <tr>\n",
       "      <th>0</th>\n",
       "      <td>Albania</td>\n",
       "      <td>ALB</td>\n",
       "      <td>ALB.1_1</td>\n",
       "      <td>4.341915e+08</td>\n",
       "      <td>NaN</td>\n",
       "      <td>NaN</td>\n",
       "      <td>NaN</td>\n",
       "    </tr>\n",
       "    <tr>\n",
       "      <th>1</th>\n",
       "      <td>Albania</td>\n",
       "      <td>ALB</td>\n",
       "      <td>ALB.2_1</td>\n",
       "      <td>3.719427e+08</td>\n",
       "      <td>NaN</td>\n",
       "      <td>NaN</td>\n",
       "      <td>NaN</td>\n",
       "    </tr>\n",
       "    <tr>\n",
       "      <th>2</th>\n",
       "      <td>Albania</td>\n",
       "      <td>ALB</td>\n",
       "      <td>ALB.3_1</td>\n",
       "      <td>1.113524e+09</td>\n",
       "      <td>NaN</td>\n",
       "      <td>NaN</td>\n",
       "      <td>NaN</td>\n",
       "    </tr>\n",
       "  </tbody>\n",
       "</table>\n",
       "</div>"
      ],
      "text/plain": [
       "   country gid_0    gid_1  grp_usd_2015  services_usd_2015  \\\n",
       "0  Albania   ALB  ALB.1_1  4.341915e+08                NaN   \n",
       "1  Albania   ALB  ALB.2_1  3.719427e+08                NaN   \n",
       "2  Albania   ALB  ALB.3_1  1.113524e+09                NaN   \n",
       "\n",
       "   manufacturing_usd_2015  agriculture_usd_2015  \n",
       "0                     NaN                   NaN  \n",
       "1                     NaN                   NaN  \n",
       "2                     NaN                   NaN  "
      ]
     },
     "execution_count": 96,
     "metadata": {},
     "output_type": "execute_result"
    }
   ],
   "source": [
    "dose_light.head(3)"
   ]
  },
  {
   "cell_type": "markdown",
   "metadata": {},
   "source": [
    "### Do things add up at this point ?"
   ]
  },
  {
   "cell_type": "code",
   "execution_count": 97,
   "metadata": {
    "tags": [
     "rm_cell"
    ]
   },
   "outputs": [
    {
     "data": {
      "text/html": [
       "<div>\n",
       "<style scoped>\n",
       "    .dataframe tbody tr th:only-of-type {\n",
       "        vertical-align: middle;\n",
       "    }\n",
       "\n",
       "    .dataframe tbody tr th {\n",
       "        vertical-align: top;\n",
       "    }\n",
       "\n",
       "    .dataframe thead th {\n",
       "        text-align: right;\n",
       "    }\n",
       "</style>\n",
       "<table border=\"1\" class=\"dataframe\">\n",
       "  <thead>\n",
       "    <tr style=\"text-align: right;\">\n",
       "      <th></th>\n",
       "      <th>country</th>\n",
       "      <th>gid_0</th>\n",
       "      <th>gid_1</th>\n",
       "      <th>grp_usd_2015</th>\n",
       "      <th>services_usd_2015</th>\n",
       "      <th>manufacturing_usd_2015</th>\n",
       "      <th>agriculture_usd_2015</th>\n",
       "    </tr>\n",
       "  </thead>\n",
       "  <tbody>\n",
       "    <tr>\n",
       "      <th>397</th>\n",
       "      <td>India</td>\n",
       "      <td>IND</td>\n",
       "      <td>IND.2_1</td>\n",
       "      <td>7.607693e+10</td>\n",
       "      <td>3.357343e+10</td>\n",
       "      <td>1.938657e+10</td>\n",
       "      <td>2.959954e+12</td>\n",
       "    </tr>\n",
       "    <tr>\n",
       "      <th>399</th>\n",
       "      <td>India</td>\n",
       "      <td>IND</td>\n",
       "      <td>IND.4_1</td>\n",
       "      <td>2.874776e+10</td>\n",
       "      <td>1.384176e+10</td>\n",
       "      <td>6.419377e+09</td>\n",
       "      <td>1.832131e+11</td>\n",
       "    </tr>\n",
       "    <tr>\n",
       "      <th>400</th>\n",
       "      <td>India</td>\n",
       "      <td>IND</td>\n",
       "      <td>IND.5_1</td>\n",
       "      <td>5.228719e+10</td>\n",
       "      <td>2.959853e+10</td>\n",
       "      <td>1.029026e+10</td>\n",
       "      <td>4.011227e+10</td>\n",
       "    </tr>\n",
       "    <tr>\n",
       "      <th>402</th>\n",
       "      <td>India</td>\n",
       "      <td>IND</td>\n",
       "      <td>IND.7_1</td>\n",
       "      <td>3.261214e+10</td>\n",
       "      <td>1.134110e+10</td>\n",
       "      <td>1.125099e+10</td>\n",
       "      <td>2.280518e+11</td>\n",
       "    </tr>\n",
       "    <tr>\n",
       "      <th>405</th>\n",
       "      <td>India</td>\n",
       "      <td>IND</td>\n",
       "      <td>IND.11_1</td>\n",
       "      <td>1.285709e+11</td>\n",
       "      <td>4.666193e+10</td>\n",
       "      <td>5.692669e+10</td>\n",
       "      <td>1.035249e+12</td>\n",
       "    </tr>\n",
       "    <tr>\n",
       "      <th>408</th>\n",
       "      <td>India</td>\n",
       "      <td>IND</td>\n",
       "      <td>IND.14_1</td>\n",
       "      <td>1.452550e+10</td>\n",
       "      <td>8.502779e+09</td>\n",
       "      <td>3.604522e+09</td>\n",
       "      <td>4.203577e+09</td>\n",
       "    </tr>\n",
       "    <tr>\n",
       "      <th>409</th>\n",
       "      <td>India</td>\n",
       "      <td>IND</td>\n",
       "      <td>IND.15_1</td>\n",
       "      <td>3.132182e+10</td>\n",
       "      <td>1.219931e+10</td>\n",
       "      <td>9.625152e+09</td>\n",
       "      <td>2.515173e+10</td>\n",
       "    </tr>\n",
       "    <tr>\n",
       "      <th>412</th>\n",
       "      <td>India</td>\n",
       "      <td>IND</td>\n",
       "      <td>IND.19_1</td>\n",
       "      <td>7.116199e+10</td>\n",
       "      <td>2.753653e+10</td>\n",
       "      <td>1.563218e+10</td>\n",
       "      <td>6.150215e+10</td>\n",
       "    </tr>\n",
       "    <tr>\n",
       "      <th>417</th>\n",
       "      <td>India</td>\n",
       "      <td>IND</td>\n",
       "      <td>IND.24_1</td>\n",
       "      <td>2.845844e+09</td>\n",
       "      <td>1.559493e+09</td>\n",
       "      <td>3.084235e+08</td>\n",
       "      <td>1.676656e+09</td>\n",
       "    </tr>\n",
       "    <tr>\n",
       "      <th>418</th>\n",
       "      <td>India</td>\n",
       "      <td>IND</td>\n",
       "      <td>IND.26_1</td>\n",
       "      <td>4.604805e+10</td>\n",
       "      <td>1.892777e+10</td>\n",
       "      <td>1.267556e+10</td>\n",
       "      <td>2.899032e+11</td>\n",
       "    </tr>\n",
       "    <tr>\n",
       "      <th>420</th>\n",
       "      <td>India</td>\n",
       "      <td>IND</td>\n",
       "      <td>IND.29_1</td>\n",
       "      <td>9.104201e+10</td>\n",
       "      <td>3.896635e+10</td>\n",
       "      <td>2.051988e+10</td>\n",
       "      <td>7.663917e+10</td>\n",
       "    </tr>\n",
       "    <tr>\n",
       "      <th>422</th>\n",
       "      <td>India</td>\n",
       "      <td>IND</td>\n",
       "      <td>IND.31_1</td>\n",
       "      <td>1.533122e+11</td>\n",
       "      <td>8.309745e+10</td>\n",
       "      <td>4.963792e+10</td>\n",
       "      <td>2.275526e+12</td>\n",
       "    </tr>\n",
       "    <tr>\n",
       "      <th>425</th>\n",
       "      <td>India</td>\n",
       "      <td>IND</td>\n",
       "      <td>IND.34_1</td>\n",
       "      <td>1.480320e+11</td>\n",
       "      <td>7.115388e+10</td>\n",
       "      <td>3.712522e+10</td>\n",
       "      <td>2.098595e+12</td>\n",
       "    </tr>\n",
       "    <tr>\n",
       "      <th>427</th>\n",
       "      <td>India</td>\n",
       "      <td>IND</td>\n",
       "      <td>IND.36_1</td>\n",
       "      <td>1.058850e+11</td>\n",
       "      <td>5.702616e+10</td>\n",
       "      <td>2.182926e+10</td>\n",
       "      <td>2.262062e+11</td>\n",
       "    </tr>\n",
       "    <tr>\n",
       "      <th>541</th>\n",
       "      <td>Japan</td>\n",
       "      <td>JPN</td>\n",
       "      <td>JPN.6_1</td>\n",
       "      <td>2.691941e+10</td>\n",
       "      <td>4.667655e+10</td>\n",
       "      <td>9.590629e+09</td>\n",
       "      <td>2.389361e+08</td>\n",
       "    </tr>\n",
       "    <tr>\n",
       "      <th>550</th>\n",
       "      <td>Japan</td>\n",
       "      <td>JPN</td>\n",
       "      <td>JPN.15_1</td>\n",
       "      <td>3.795022e+10</td>\n",
       "      <td>7.542466e+10</td>\n",
       "      <td>1.279874e+10</td>\n",
       "      <td>3.448848e+08</td>\n",
       "    </tr>\n",
       "    <tr>\n",
       "      <th>578</th>\n",
       "      <td>Japan</td>\n",
       "      <td>JPN</td>\n",
       "      <td>JPN.43_1</td>\n",
       "      <td>3.756525e+10</td>\n",
       "      <td>3.440526e+10</td>\n",
       "      <td>1.566196e+10</td>\n",
       "      <td>3.688421e+08</td>\n",
       "    </tr>\n",
       "    <tr>\n",
       "      <th>1093</th>\n",
       "      <td>South Korea</td>\n",
       "      <td>KOR</td>\n",
       "      <td>KOR.1_1</td>\n",
       "      <td>6.779726e+10</td>\n",
       "      <td>4.883196e+10</td>\n",
       "      <td>2.551033e+10</td>\n",
       "      <td>3.458617e+08</td>\n",
       "    </tr>\n",
       "    <tr>\n",
       "      <th>1096</th>\n",
       "      <td>South Korea</td>\n",
       "      <td>KOR</td>\n",
       "      <td>KOR.4_1</td>\n",
       "      <td>4.257775e+10</td>\n",
       "      <td>2.994070e+10</td>\n",
       "      <td>2.517811e+10</td>\n",
       "      <td>2.207288e+08</td>\n",
       "    </tr>\n",
       "    <tr>\n",
       "      <th>1099</th>\n",
       "      <td>South Korea</td>\n",
       "      <td>KOR</td>\n",
       "      <td>KOR.7_1</td>\n",
       "      <td>2.867021e+10</td>\n",
       "      <td>1.893307e+10</td>\n",
       "      <td>3.734052e+10</td>\n",
       "      <td>1.425761e+08</td>\n",
       "    </tr>\n",
       "    <tr>\n",
       "      <th>1101</th>\n",
       "      <td>South Korea</td>\n",
       "      <td>KOR</td>\n",
       "      <td>KOR.9_1</td>\n",
       "      <td>8.624658e+10</td>\n",
       "      <td>3.173980e+10</td>\n",
       "      <td>1.353713e+11</td>\n",
       "      <td>3.113129e+09</td>\n",
       "    </tr>\n",
       "    <tr>\n",
       "      <th>1104</th>\n",
       "      <td>South Korea</td>\n",
       "      <td>KOR</td>\n",
       "      <td>KOR.12_1</td>\n",
       "      <td>1.375481e+10</td>\n",
       "      <td>9.949754e+09</td>\n",
       "      <td>5.067870e+10</td>\n",
       "      <td>3.974607e+09</td>\n",
       "    </tr>\n",
       "    <tr>\n",
       "      <th>1107</th>\n",
       "      <td>South Korea</td>\n",
       "      <td>KOR</td>\n",
       "      <td>KOR.15_1</td>\n",
       "      <td>7.529369e+09</td>\n",
       "      <td>3.825910e+09</td>\n",
       "      <td>4.966091e+10</td>\n",
       "      <td>4.845865e+09</td>\n",
       "    </tr>\n",
       "  </tbody>\n",
       "</table>\n",
       "</div>"
      ],
      "text/plain": [
       "          country gid_0     gid_1  grp_usd_2015  services_usd_2015  \\\n",
       "397         India   IND   IND.2_1  7.607693e+10       3.357343e+10   \n",
       "399         India   IND   IND.4_1  2.874776e+10       1.384176e+10   \n",
       "400         India   IND   IND.5_1  5.228719e+10       2.959853e+10   \n",
       "402         India   IND   IND.7_1  3.261214e+10       1.134110e+10   \n",
       "405         India   IND  IND.11_1  1.285709e+11       4.666193e+10   \n",
       "408         India   IND  IND.14_1  1.452550e+10       8.502779e+09   \n",
       "409         India   IND  IND.15_1  3.132182e+10       1.219931e+10   \n",
       "412         India   IND  IND.19_1  7.116199e+10       2.753653e+10   \n",
       "417         India   IND  IND.24_1  2.845844e+09       1.559493e+09   \n",
       "418         India   IND  IND.26_1  4.604805e+10       1.892777e+10   \n",
       "420         India   IND  IND.29_1  9.104201e+10       3.896635e+10   \n",
       "422         India   IND  IND.31_1  1.533122e+11       8.309745e+10   \n",
       "425         India   IND  IND.34_1  1.480320e+11       7.115388e+10   \n",
       "427         India   IND  IND.36_1  1.058850e+11       5.702616e+10   \n",
       "541         Japan   JPN   JPN.6_1  2.691941e+10       4.667655e+10   \n",
       "550         Japan   JPN  JPN.15_1  3.795022e+10       7.542466e+10   \n",
       "578         Japan   JPN  JPN.43_1  3.756525e+10       3.440526e+10   \n",
       "1093  South Korea   KOR   KOR.1_1  6.779726e+10       4.883196e+10   \n",
       "1096  South Korea   KOR   KOR.4_1  4.257775e+10       2.994070e+10   \n",
       "1099  South Korea   KOR   KOR.7_1  2.867021e+10       1.893307e+10   \n",
       "1101  South Korea   KOR   KOR.9_1  8.624658e+10       3.173980e+10   \n",
       "1104  South Korea   KOR  KOR.12_1  1.375481e+10       9.949754e+09   \n",
       "1107  South Korea   KOR  KOR.15_1  7.529369e+09       3.825910e+09   \n",
       "\n",
       "      manufacturing_usd_2015  agriculture_usd_2015  \n",
       "397             1.938657e+10          2.959954e+12  \n",
       "399             6.419377e+09          1.832131e+11  \n",
       "400             1.029026e+10          4.011227e+10  \n",
       "402             1.125099e+10          2.280518e+11  \n",
       "405             5.692669e+10          1.035249e+12  \n",
       "408             3.604522e+09          4.203577e+09  \n",
       "409             9.625152e+09          2.515173e+10  \n",
       "412             1.563218e+10          6.150215e+10  \n",
       "417             3.084235e+08          1.676656e+09  \n",
       "418             1.267556e+10          2.899032e+11  \n",
       "420             2.051988e+10          7.663917e+10  \n",
       "422             4.963792e+10          2.275526e+12  \n",
       "425             3.712522e+10          2.098595e+12  \n",
       "427             2.182926e+10          2.262062e+11  \n",
       "541             9.590629e+09          2.389361e+08  \n",
       "550             1.279874e+10          3.448848e+08  \n",
       "578             1.566196e+10          3.688421e+08  \n",
       "1093            2.551033e+10          3.458617e+08  \n",
       "1096            2.517811e+10          2.207288e+08  \n",
       "1099            3.734052e+10          1.425761e+08  \n",
       "1101            1.353713e+11          3.113129e+09  \n",
       "1104            5.067870e+10          3.974607e+09  \n",
       "1107            4.966091e+10          4.845865e+09  "
      ]
     },
     "execution_count": 97,
     "metadata": {},
     "output_type": "execute_result"
    }
   ],
   "source": [
    "dose_light.loc[((dose_light[\"manufacturing_usd_2015\"]+dose_light[\"services_usd_2015\"]+dose_light[\"agriculture_usd_2015\"])/dose_light[\"grp_usd_2015\"])>1.1]"
   ]
  },
  {
   "cell_type": "code",
   "execution_count": 98,
   "metadata": {
    "tags": [
     "rm_cell"
    ]
   },
   "outputs": [
    {
     "data": {
      "text/plain": [
       "<Axes: >"
      ]
     },
     "execution_count": 98,
     "metadata": {},
     "output_type": "execute_result"
    },
    {
     "data": {
      "image/png": "[encoded data removed]",
      "text/plain": [
       "<Figure size 640x480 with 1 Axes>"
      ]
     },
     "metadata": {},
     "output_type": "display_data"
    }
   ],
   "source": [
    "((dose_light[\"manufacturing_usd_2015\"]+dose_light[\"services_usd_2015\"]+dose_light[\"agriculture_usd_2015\"])/dose_light[\"grp_usd_2015\"]).hist()"
   ]
  },
  {
   "cell_type": "code",
   "execution_count": 99,
   "metadata": {},
   "outputs": [],
   "source": [
    "# NO THEY DONT !!"
   ]
  },
  {
   "cell_type": "code",
   "execution_count": 101,
   "metadata": {},
   "outputs": [],
   "source": [
    "wdi_country_simple = (wdi_country_simple.assign(gid_0=wdi_country_simple[\"country_code\"]\n",
    "                                                ,gid_1=wdi_country_simple[\"country_code\"])\n",
    "                                                .drop(columns=[\"country_code\"]))"
   ]
  },
  {
   "cell_type": "code",
   "execution_count": 102,
   "metadata": {},
   "outputs": [],
   "source": [
    "if wdi_country_simple.columns.difference(dose_light.columns).__len__()!=0:\n",
    "    raise Exception(\"Some columns don't match in the data sets, concatenation behaviour will be unexpected.\")"
   ]
  },
  {
   "cell_type": "code",
   "execution_count": 103,
   "metadata": {
    "tags": [
     "rm_cell"
    ]
   },
   "outputs": [
    {
     "data": {
      "text/plain": [
       "[]"
      ]
     },
     "execution_count": 103,
     "metadata": {},
     "output_type": "execute_result"
    }
   ],
   "source": [
    "[x for x in dose_light.country if x in wdi_country_simple.country]"
   ]
  },
  {
   "cell_type": "markdown",
   "metadata": {},
   "source": [
    "### filling admin 1 gaps in dose with WDI\n",
    "\n",
    "The process : \n",
    "when a country in DOSE has missing sectorial values, take the proportion of per sector gdp in WDI for the national scale and replace in DOSE."
   ]
  },
  {
   "cell_type": "code",
   "execution_count": 104,
   "metadata": {},
   "outputs": [],
   "source": [
    "incomplete_dose = list(dose_light.loc[dose_light[[\"services_usd_2015\",\"manufacturing_usd_2015\",\"agriculture_usd_2015\",\"grp_usd_2015\"]].isna().any(axis=1),\"gid_0\"].unique())"
   ]
  },
  {
   "cell_type": "code",
   "execution_count": 105,
   "metadata": {},
   "outputs": [],
   "source": [
    "# get the data of interest into a pandas df\n",
    "# wdi_df_full contains the same countries as the original dose\n",
    "wdi_df_full = (wdi_of_interest\n",
    "               .filter(~_.country_code.isin(missing_regions),_.country_code.isin(dose_countries))\n",
    "               .to_pandas()\n",
    "               .pivot(columns=[\"indicator_name\",],values=[str(year)],index=[\"country_name\",\"country_code\"]).reset_index())\n",
    "\n",
    "wdi_df_full.rename(columns={v:k for (k,v) in indicators_of_intereset.items()} # inverting the indicators of interest to rename columns\n",
    "                  ,inplace=True)\n",
    "wdi_df_full.columns = [x[1] if x[1]!='' else x[0] for x in wdi_df_full.columns]\n",
    "wdi_df_full.columns = [x.replace(\"industry\", \"manufacturing\") if re.search(string=x,pattern=\"industry_\") else x for x in wdi_df_full.columns]"
   ]
  },
  {
   "cell_type": "code",
   "execution_count": 106,
   "metadata": {
    "tags": [
     "rm_cell"
    ]
   },
   "outputs": [
    {
     "data": {
      "text/html": [
       "<div>\n",
       "<style scoped>\n",
       "    .dataframe tbody tr th:only-of-type {\n",
       "        vertical-align: middle;\n",
       "    }\n",
       "\n",
       "    .dataframe tbody tr th {\n",
       "        vertical-align: top;\n",
       "    }\n",
       "\n",
       "    .dataframe thead th {\n",
       "        text-align: right;\n",
       "    }\n",
       "</style>\n",
       "<table border=\"1\" class=\"dataframe\">\n",
       "  <thead>\n",
       "    <tr style=\"text-align: right;\">\n",
       "      <th></th>\n",
       "      <th>country</th>\n",
       "      <th>country_code</th>\n",
       "      <th>agriculture_usd_2015</th>\n",
       "      <th>grp_usd_2015</th>\n",
       "      <th>gdp_cap</th>\n",
       "      <th>manufacturing_usd_2015</th>\n",
       "      <th>services_usd_2015</th>\n",
       "    </tr>\n",
       "  </thead>\n",
       "  <tbody>\n",
       "    <tr>\n",
       "      <th>0</th>\n",
       "      <td>Albania</td>\n",
       "      <td>ALB</td>\n",
       "      <td>2.252344e+09</td>\n",
       "      <td>1.138685e+10</td>\n",
       "      <td>3952.803574</td>\n",
       "      <td>2.478198e+09</td>\n",
       "      <td>5.270341e+09</td>\n",
       "    </tr>\n",
       "    <tr>\n",
       "      <th>1</th>\n",
       "      <td>Argentina</td>\n",
       "      <td>ARG</td>\n",
       "      <td>3.066935e+10</td>\n",
       "      <td>5.947493e+11</td>\n",
       "      <td>13789.060425</td>\n",
       "      <td>1.377026e+11</td>\n",
       "      <td>3.319587e+11</td>\n",
       "    </tr>\n",
       "    <tr>\n",
       "      <th>2</th>\n",
       "      <td>Australia</td>\n",
       "      <td>AUS</td>\n",
       "      <td>3.210833e+10</td>\n",
       "      <td>1.351769e+12</td>\n",
       "      <td>56758.869203</td>\n",
       "      <td>3.201382e+11</td>\n",
       "      <td>9.077942e+11</td>\n",
       "    </tr>\n",
       "    <tr>\n",
       "      <th>3</th>\n",
       "      <td>Austria</td>\n",
       "      <td>AUT</td>\n",
       "      <td>4.315473e+09</td>\n",
       "      <td>3.819711e+11</td>\n",
       "      <td>44195.817595</td>\n",
       "      <td>9.616091e+10</td>\n",
       "      <td>2.401859e+11</td>\n",
       "    </tr>\n",
       "    <tr>\n",
       "      <th>4</th>\n",
       "      <td>Azerbaijan</td>\n",
       "      <td>AZE</td>\n",
       "      <td>3.278761e+09</td>\n",
       "      <td>5.307624e+10</td>\n",
       "      <td>5500.503646</td>\n",
       "      <td>2.382662e+10</td>\n",
       "      <td>2.122835e+10</td>\n",
       "    </tr>\n",
       "  </tbody>\n",
       "</table>\n",
       "</div>"
      ],
      "text/plain": [
       "      country country_code  agriculture_usd_2015  grp_usd_2015       gdp_cap  \\\n",
       "0     Albania          ALB          2.252344e+09  1.138685e+10   3952.803574   \n",
       "1   Argentina          ARG          3.066935e+10  5.947493e+11  13789.060425   \n",
       "2   Australia          AUS          3.210833e+10  1.351769e+12  56758.869203   \n",
       "3     Austria          AUT          4.315473e+09  3.819711e+11  44195.817595   \n",
       "4  Azerbaijan          AZE          3.278761e+09  5.307624e+10   5500.503646   \n",
       "\n",
       "   manufacturing_usd_2015  services_usd_2015  \n",
       "0            2.478198e+09       5.270341e+09  \n",
       "1            1.377026e+11       3.319587e+11  \n",
       "2            3.201382e+11       9.077942e+11  \n",
       "3            9.616091e+10       2.401859e+11  \n",
       "4            2.382662e+10       2.122835e+10  "
      ]
     },
     "execution_count": 106,
     "metadata": {},
     "output_type": "execute_result"
    }
   ],
   "source": [
    "wdi_df_full.head()"
   ]
  },
  {
   "cell_type": "code",
   "execution_count": 107,
   "metadata": {},
   "outputs": [],
   "source": [
    "# This data frame name is a bit confusing, but it contains WDI data missing from dose.\n",
    "dose_missing_df = wdi_df_full.loc[wdi_df_full.country_code.isin(incomplete_dose)].copy()"
   ]
  },
  {
   "cell_type": "code",
   "execution_count": 108,
   "metadata": {},
   "outputs": [
    {
     "name": "stdout",
     "output_type": "stream",
     "text": [
      "Any value missing:  False\n"
     ]
    },
    {
     "data": {
      "text/html": [
       "<div>\n",
       "<style scoped>\n",
       "    .dataframe tbody tr th:only-of-type {\n",
       "        vertical-align: middle;\n",
       "    }\n",
       "\n",
       "    .dataframe tbody tr th {\n",
       "        vertical-align: top;\n",
       "    }\n",
       "\n",
       "    .dataframe thead th {\n",
       "        text-align: right;\n",
       "    }\n",
       "</style>\n",
       "<table border=\"1\" class=\"dataframe\">\n",
       "  <thead>\n",
       "    <tr style=\"text-align: right;\">\n",
       "      <th></th>\n",
       "      <th>country</th>\n",
       "      <th>country_code</th>\n",
       "      <th>agriculture_usd_2015</th>\n",
       "      <th>grp_usd_2015</th>\n",
       "      <th>gdp_cap</th>\n",
       "      <th>manufacturing_usd_2015</th>\n",
       "      <th>services_usd_2015</th>\n",
       "    </tr>\n",
       "  </thead>\n",
       "  <tbody>\n",
       "    <tr>\n",
       "      <th>65</th>\n",
       "      <td>Tanzania</td>\n",
       "      <td>TZA</td>\n",
       "      <td>1.268127e+10</td>\n",
       "      <td>4.741392e+10</td>\n",
       "      <td>929.799805</td>\n",
       "      <td>1.161041e+10</td>\n",
       "      <td>1.917000e+10</td>\n",
       "    </tr>\n",
       "    <tr>\n",
       "      <th>51</th>\n",
       "      <td>Paraguay</td>\n",
       "      <td>PRY</td>\n",
       "      <td>3.418513e+09</td>\n",
       "      <td>3.621145e+10</td>\n",
       "      <td>5861.401895</td>\n",
       "      <td>1.252273e+10</td>\n",
       "      <td>1.761408e+10</td>\n",
       "    </tr>\n",
       "    <tr>\n",
       "      <th>9</th>\n",
       "      <td>Bosnia and Herzegovina</td>\n",
       "      <td>BIH</td>\n",
       "      <td>9.904235e+08</td>\n",
       "      <td>1.640435e+10</td>\n",
       "      <td>4654.608620</td>\n",
       "      <td>3.564084e+09</td>\n",
       "      <td>9.010718e+09</td>\n",
       "    </tr>\n",
       "    <tr>\n",
       "      <th>35</th>\n",
       "      <td>Kenya</td>\n",
       "      <td>KEN</td>\n",
       "      <td>1.365218e+10</td>\n",
       "      <td>7.012045e+10</td>\n",
       "      <td>1496.653573</td>\n",
       "      <td>1.324859e+10</td>\n",
       "      <td>3.935957e+10</td>\n",
       "    </tr>\n",
       "    <tr>\n",
       "      <th>71</th>\n",
       "      <td>Uzbekistan</td>\n",
       "      <td>UZB</td>\n",
       "      <td>2.518717e+10</td>\n",
       "      <td>8.619626e+10</td>\n",
       "      <td>2753.971058</td>\n",
       "      <td>1.941180e+10</td>\n",
       "      <td>3.375191e+10</td>\n",
       "    </tr>\n",
       "  </tbody>\n",
       "</table>\n",
       "</div>"
      ],
      "text/plain": [
       "                   country country_code  agriculture_usd_2015  grp_usd_2015  \\\n",
       "65                Tanzania          TZA          1.268127e+10  4.741392e+10   \n",
       "51                Paraguay          PRY          3.418513e+09  3.621145e+10   \n",
       "9   Bosnia and Herzegovina          BIH          9.904235e+08  1.640435e+10   \n",
       "35                   Kenya          KEN          1.365218e+10  7.012045e+10   \n",
       "71              Uzbekistan          UZB          2.518717e+10  8.619626e+10   \n",
       "\n",
       "        gdp_cap  manufacturing_usd_2015  services_usd_2015  \n",
       "65   929.799805            1.161041e+10       1.917000e+10  \n",
       "51  5861.401895            1.252273e+10       1.761408e+10  \n",
       "9   4654.608620            3.564084e+09       9.010718e+09  \n",
       "35  1496.653573            1.324859e+10       3.935957e+10  \n",
       "71  2753.971058            1.941180e+10       3.375191e+10  "
      ]
     },
     "execution_count": 108,
     "metadata": {},
     "output_type": "execute_result"
    }
   ],
   "source": [
    "# should not be empty\n",
    "print(\"Any value missing: \",dose_missing_df.isna().any().any())"
   ]
  },
  {
   "cell_type": "code",
   "execution_count": null,
   "metadata": {
    "tags": [
     "rm_cell"
    ]
   },
   "outputs": [],
   "source": [
    "dose_missing_df.sample(5,axis=0)"
   ]
  },
  {
   "cell_type": "code",
   "execution_count": 109,
   "metadata": {},
   "outputs": [],
   "source": [
    "dose_missing_df.reset_index(inplace=True,drop=True)"
   ]
  },
  {
   "cell_type": "code",
   "execution_count": 110,
   "metadata": {},
   "outputs": [],
   "source": [
    "# computing fractions of GDP per sector from WDI\n",
    "\n",
    "dose_missing_df[\"services_frac\"] = dose_missing_df[\"services_usd_2015\"]/dose_missing_df[\"grp_usd_2015\"]\n",
    "dose_missing_df[\"manufacturing_frac\"] = (dose_missing_df[\"manufacturing_usd_2015\"]/dose_missing_df[\"grp_usd_2015\"])\n",
    "dose_missing_df[\"agriculture_frac\"] = dose_missing_df[\"agriculture_usd_2015\"]/dose_missing_df[\"grp_usd_2015\"]\n",
    "\n",
    "# dose_missing_df[\"industry_frac\"] = dose_missing_df[\"industry_usd_2015\"]/dose_missing_df[\"grp_usd_2015\"]\n"
   ]
  },
  {
   "cell_type": "code",
   "execution_count": 111,
   "metadata": {
    "tags": [
     "rm_cell"
    ]
   },
   "outputs": [
    {
     "data": {
      "text/html": [
       "<div>\n",
       "<style scoped>\n",
       "    .dataframe tbody tr th:only-of-type {\n",
       "        vertical-align: middle;\n",
       "    }\n",
       "\n",
       "    .dataframe tbody tr th {\n",
       "        vertical-align: top;\n",
       "    }\n",
       "\n",
       "    .dataframe thead th {\n",
       "        text-align: right;\n",
       "    }\n",
       "</style>\n",
       "<table border=\"1\" class=\"dataframe\">\n",
       "  <thead>\n",
       "    <tr style=\"text-align: right;\">\n",
       "      <th></th>\n",
       "      <th>country</th>\n",
       "      <th>country_code</th>\n",
       "      <th>agriculture_usd_2015</th>\n",
       "      <th>grp_usd_2015</th>\n",
       "      <th>gdp_cap</th>\n",
       "      <th>manufacturing_usd_2015</th>\n",
       "      <th>services_usd_2015</th>\n",
       "      <th>services_frac</th>\n",
       "      <th>manufacturing_frac</th>\n",
       "      <th>agriculture_frac</th>\n",
       "    </tr>\n",
       "  </thead>\n",
       "  <tbody>\n",
       "    <tr>\n",
       "      <th>11</th>\n",
       "      <td>Uzbekistan</td>\n",
       "      <td>UZB</td>\n",
       "      <td>2.518717e+10</td>\n",
       "      <td>8.619626e+10</td>\n",
       "      <td>2753.971058</td>\n",
       "      <td>1.941180e+10</td>\n",
       "      <td>3.375191e+10</td>\n",
       "      <td>0.39157</td>\n",
       "      <td>0.225205</td>\n",
       "      <td>0.292207</td>\n",
       "    </tr>\n",
       "  </tbody>\n",
       "</table>\n",
       "</div>"
      ],
      "text/plain": [
       "       country country_code  agriculture_usd_2015  grp_usd_2015      gdp_cap  \\\n",
       "11  Uzbekistan          UZB          2.518717e+10  8.619626e+10  2753.971058   \n",
       "\n",
       "    manufacturing_usd_2015  services_usd_2015  services_frac  \\\n",
       "11            1.941180e+10       3.375191e+10        0.39157   \n",
       "\n",
       "    manufacturing_frac  agriculture_frac  \n",
       "11            0.225205          0.292207  "
      ]
     },
     "execution_count": 111,
     "metadata": {},
     "output_type": "execute_result"
    }
   ],
   "source": [
    "dose_missing_df.loc[dose_missing_df.country==\"Uzbekistan\"]"
   ]
  },
  {
   "cell_type": "code",
   "execution_count": 112,
   "metadata": {
    "tags": [
     "rm_cell"
    ]
   },
   "outputs": [
    {
     "data": {
      "text/plain": [
       "<Axes: >"
      ]
     },
     "execution_count": 112,
     "metadata": {},
     "output_type": "execute_result"
    },
    {
     "data": {
      "image/png": "[encoded data removed]",
      "text/plain": [
       "<Figure size 640x480 with 1 Axes>"
      ]
     },
     "metadata": {},
     "output_type": "display_data"
    }
   ],
   "source": [
    "# looking much better now\n",
    "\n",
    "dose_missing_df.filter(regex=\"_frac\").apply(sum,axis=1).hist()"
   ]
  },
  {
   "cell_type": "markdown",
   "metadata": {},
   "source": [
    "To avoid mixing up WDI, first fill in gaps from dose regions with WDI fracions of GDP per sector for industies\n",
    "\n",
    "Then combine with the missing regions/countries"
   ]
  },
  {
   "cell_type": "code",
   "execution_count": 113,
   "metadata": {},
   "outputs": [],
   "source": [
    "# dose_missing_df.filter(regex=\"(_frac)|(country_code)\")\n",
    "dose_light = dose_light.merge(dose_missing_df.filter(regex=\"(_frac)|(country_code)\"),left_on=\"gid_0\",right_on=\"country_code\",how=\"left\",suffixes=[\"_dose\",\"_wdi\"])"
   ]
  },
  {
   "cell_type": "code",
   "execution_count": 114,
   "metadata": {
    "tags": [
     "rm_cell"
    ]
   },
   "outputs": [
    {
     "data": {
      "text/plain": [
       "Index(['country', 'gid_0', 'gid_1', 'grp_usd_2015', 'services_usd_2015',\n",
       "       'manufacturing_usd_2015', 'agriculture_usd_2015', 'country_code',\n",
       "       'services_frac', 'manufacturing_frac', 'agriculture_frac'],\n",
       "      dtype='object')"
      ]
     },
     "execution_count": 114,
     "metadata": {},
     "output_type": "execute_result"
    }
   ],
   "source": [
    "dose_light.columns"
   ]
  },
  {
   "cell_type": "code",
   "execution_count": 115,
   "metadata": {},
   "outputs": [],
   "source": [
    "# dose_light[dose_light.country==\"Laos\"]"
   ]
  },
  {
   "cell_type": "code",
   "execution_count": 116,
   "metadata": {},
   "outputs": [],
   "source": [
    "missing_agriculture = dose_light[dose_light[\"agriculture_usd_2015\"].isna()].index\n",
    "missing_services = dose_light[dose_light[\"services_usd_2015\"].isna()].index\n",
    "missing_manufacturing = dose_light[dose_light[\"manufacturing_usd_2015\"].isna()].index\n",
    "\n",
    "missing_grp = dose_light[dose_light[\"grp_usd_2015\"].isna()].index"
   ]
  },
  {
   "cell_type": "code",
   "execution_count": 118,
   "metadata": {},
   "outputs": [],
   "source": [
    "dose_light.loc[missing_agriculture,\"agriculture_usd_2015\"] = dose_light.loc[missing_agriculture,\"agriculture_frac\"]*dose_light.loc[missing_agriculture,\"grp_usd_2015\"]\n",
    "\n",
    "dose_light.loc[missing_manufacturing,\"manufacturing_usd_2015\"] = dose_light.loc[missing_manufacturing,\"manufacturing_frac\"]*dose_light.loc[missing_manufacturing,\"grp_usd_2015\"]\n",
    "\n",
    "dose_light.loc[missing_services,\"services_usd_2015\"] = dose_light.loc[missing_services,\"services_frac\"]*dose_light.loc[missing_services,\"grp_usd_2015\"]\n",
    "\n",
    "# dose_light.loc[missing_grp,\"grp_usd_2015\"] = dose_light.loc[missing_services,\"grp_usd_2015_\"]"
   ]
  },
  {
   "cell_type": "code",
   "execution_count": 119,
   "metadata": {
    "tags": [
     "rm_cell"
    ]
   },
   "outputs": [
    {
     "data": {
      "text/html": [
       "<div>\n",
       "<style scoped>\n",
       "    .dataframe tbody tr th:only-of-type {\n",
       "        vertical-align: middle;\n",
       "    }\n",
       "\n",
       "    .dataframe tbody tr th {\n",
       "        vertical-align: top;\n",
       "    }\n",
       "\n",
       "    .dataframe thead th {\n",
       "        text-align: right;\n",
       "    }\n",
       "</style>\n",
       "<table border=\"1\" class=\"dataframe\">\n",
       "  <thead>\n",
       "    <tr style=\"text-align: right;\">\n",
       "      <th></th>\n",
       "      <th>country</th>\n",
       "      <th>gid_0</th>\n",
       "      <th>gid_1</th>\n",
       "      <th>grp_usd_2015</th>\n",
       "      <th>services_usd_2015</th>\n",
       "      <th>manufacturing_usd_2015</th>\n",
       "      <th>agriculture_usd_2015</th>\n",
       "      <th>country_code</th>\n",
       "      <th>services_frac</th>\n",
       "      <th>manufacturing_frac</th>\n",
       "      <th>agriculture_frac</th>\n",
       "    </tr>\n",
       "  </thead>\n",
       "  <tbody>\n",
       "    <tr>\n",
       "      <th>0</th>\n",
       "      <td>Albania</td>\n",
       "      <td>ALB</td>\n",
       "      <td>ALB.1_1</td>\n",
       "      <td>4.341915e+08</td>\n",
       "      <td>2.009631e+08</td>\n",
       "      <td>9.449606e+07</td>\n",
       "      <td>8.588401e+07</td>\n",
       "      <td>ALB</td>\n",
       "      <td>0.462844</td>\n",
       "      <td>0.217637</td>\n",
       "      <td>0.197802</td>\n",
       "    </tr>\n",
       "    <tr>\n",
       "      <th>1</th>\n",
       "      <td>Albania</td>\n",
       "      <td>ALB</td>\n",
       "      <td>ALB.2_1</td>\n",
       "      <td>3.719427e+08</td>\n",
       "      <td>1.721516e+08</td>\n",
       "      <td>8.094841e+07</td>\n",
       "      <td>7.357106e+07</td>\n",
       "      <td>ALB</td>\n",
       "      <td>0.462844</td>\n",
       "      <td>0.217637</td>\n",
       "      <td>0.197802</td>\n",
       "    </tr>\n",
       "    <tr>\n",
       "      <th>2</th>\n",
       "      <td>Albania</td>\n",
       "      <td>ALB</td>\n",
       "      <td>ALB.3_1</td>\n",
       "      <td>1.113524e+09</td>\n",
       "      <td>5.153885e+08</td>\n",
       "      <td>2.423439e+08</td>\n",
       "      <td>2.202575e+08</td>\n",
       "      <td>ALB</td>\n",
       "      <td>0.462844</td>\n",
       "      <td>0.217637</td>\n",
       "      <td>0.197802</td>\n",
       "    </tr>\n",
       "    <tr>\n",
       "      <th>3</th>\n",
       "      <td>Albania</td>\n",
       "      <td>ALB</td>\n",
       "      <td>ALB.4_1</td>\n",
       "      <td>7.954835e+08</td>\n",
       "      <td>3.681851e+08</td>\n",
       "      <td>1.731265e+08</td>\n",
       "      <td>1.573483e+08</td>\n",
       "      <td>ALB</td>\n",
       "      <td>0.462844</td>\n",
       "      <td>0.217637</td>\n",
       "      <td>0.197802</td>\n",
       "    </tr>\n",
       "    <tr>\n",
       "      <th>4</th>\n",
       "      <td>Albania</td>\n",
       "      <td>ALB</td>\n",
       "      <td>ALB.5_1</td>\n",
       "      <td>1.345159e+09</td>\n",
       "      <td>6.225993e+08</td>\n",
       "      <td>2.927561e+08</td>\n",
       "      <td>2.660753e+08</td>\n",
       "      <td>ALB</td>\n",
       "      <td>0.462844</td>\n",
       "      <td>0.217637</td>\n",
       "      <td>0.197802</td>\n",
       "    </tr>\n",
       "    <tr>\n",
       "      <th>...</th>\n",
       "      <td>...</td>\n",
       "      <td>...</td>\n",
       "      <td>...</td>\n",
       "      <td>...</td>\n",
       "      <td>...</td>\n",
       "      <td>...</td>\n",
       "      <td>...</td>\n",
       "      <td>...</td>\n",
       "      <td>...</td>\n",
       "      <td>...</td>\n",
       "      <td>...</td>\n",
       "    </tr>\n",
       "    <tr>\n",
       "      <th>1456</th>\n",
       "      <td>Uzbekistan</td>\n",
       "      <td>UZB</td>\n",
       "      <td>UZB.10_1</td>\n",
       "      <td>7.209421e+09</td>\n",
       "      <td>2.822996e+09</td>\n",
       "      <td>1.623595e+09</td>\n",
       "      <td>2.106645e+09</td>\n",
       "      <td>UZB</td>\n",
       "      <td>0.391570</td>\n",
       "      <td>0.225205</td>\n",
       "      <td>0.292207</td>\n",
       "    </tr>\n",
       "    <tr>\n",
       "      <th>1457</th>\n",
       "      <td>Uzbekistan</td>\n",
       "      <td>UZB</td>\n",
       "      <td>UZB.11_1</td>\n",
       "      <td>1.976996e+09</td>\n",
       "      <td>7.741331e+08</td>\n",
       "      <td>4.452286e+08</td>\n",
       "      <td>5.776924e+08</td>\n",
       "      <td>UZB</td>\n",
       "      <td>0.391570</td>\n",
       "      <td>0.225205</td>\n",
       "      <td>0.292207</td>\n",
       "    </tr>\n",
       "    <tr>\n",
       "      <th>1458</th>\n",
       "      <td>Uzbekistan</td>\n",
       "      <td>UZB</td>\n",
       "      <td>UZB.12_1</td>\n",
       "      <td>4.328059e+09</td>\n",
       "      <td>1.694740e+09</td>\n",
       "      <td>9.746988e+08</td>\n",
       "      <td>1.264690e+09</td>\n",
       "      <td>UZB</td>\n",
       "      <td>0.391570</td>\n",
       "      <td>0.225205</td>\n",
       "      <td>0.292207</td>\n",
       "    </tr>\n",
       "    <tr>\n",
       "      <th>1459</th>\n",
       "      <td>Uzbekistan</td>\n",
       "      <td>UZB</td>\n",
       "      <td>UZB.14_1</td>\n",
       "      <td>8.601678e+09</td>\n",
       "      <td>3.368163e+09</td>\n",
       "      <td>1.937138e+09</td>\n",
       "      <td>2.513472e+09</td>\n",
       "      <td>UZB</td>\n",
       "      <td>0.391570</td>\n",
       "      <td>0.225205</td>\n",
       "      <td>0.292207</td>\n",
       "    </tr>\n",
       "    <tr>\n",
       "      <th>1460</th>\n",
       "      <td>Uzbekistan</td>\n",
       "      <td>UZB</td>\n",
       "      <td>UZB.13_1</td>\n",
       "      <td>1.162288e+10</td>\n",
       "      <td>4.551175e+09</td>\n",
       "      <td>2.617526e+09</td>\n",
       "      <td>3.396288e+09</td>\n",
       "      <td>UZB</td>\n",
       "      <td>0.391570</td>\n",
       "      <td>0.225205</td>\n",
       "      <td>0.292207</td>\n",
       "    </tr>\n",
       "  </tbody>\n",
       "</table>\n",
       "<p>201 rows × 11 columns</p>\n",
       "</div>"
      ],
      "text/plain": [
       "         country gid_0     gid_1  grp_usd_2015  services_usd_2015  \\\n",
       "0        Albania   ALB   ALB.1_1  4.341915e+08       2.009631e+08   \n",
       "1        Albania   ALB   ALB.2_1  3.719427e+08       1.721516e+08   \n",
       "2        Albania   ALB   ALB.3_1  1.113524e+09       5.153885e+08   \n",
       "3        Albania   ALB   ALB.4_1  7.954835e+08       3.681851e+08   \n",
       "4        Albania   ALB   ALB.5_1  1.345159e+09       6.225993e+08   \n",
       "...          ...   ...       ...           ...                ...   \n",
       "1456  Uzbekistan   UZB  UZB.10_1  7.209421e+09       2.822996e+09   \n",
       "1457  Uzbekistan   UZB  UZB.11_1  1.976996e+09       7.741331e+08   \n",
       "1458  Uzbekistan   UZB  UZB.12_1  4.328059e+09       1.694740e+09   \n",
       "1459  Uzbekistan   UZB  UZB.14_1  8.601678e+09       3.368163e+09   \n",
       "1460  Uzbekistan   UZB  UZB.13_1  1.162288e+10       4.551175e+09   \n",
       "\n",
       "      manufacturing_usd_2015  agriculture_usd_2015 country_code  \\\n",
       "0               9.449606e+07          8.588401e+07          ALB   \n",
       "1               8.094841e+07          7.357106e+07          ALB   \n",
       "2               2.423439e+08          2.202575e+08          ALB   \n",
       "3               1.731265e+08          1.573483e+08          ALB   \n",
       "4               2.927561e+08          2.660753e+08          ALB   \n",
       "...                      ...                   ...          ...   \n",
       "1456            1.623595e+09          2.106645e+09          UZB   \n",
       "1457            4.452286e+08          5.776924e+08          UZB   \n",
       "1458            9.746988e+08          1.264690e+09          UZB   \n",
       "1459            1.937138e+09          2.513472e+09          UZB   \n",
       "1460            2.617526e+09          3.396288e+09          UZB   \n",
       "\n",
       "      services_frac  manufacturing_frac  agriculture_frac  \n",
       "0          0.462844            0.217637          0.197802  \n",
       "1          0.462844            0.217637          0.197802  \n",
       "2          0.462844            0.217637          0.197802  \n",
       "3          0.462844            0.217637          0.197802  \n",
       "4          0.462844            0.217637          0.197802  \n",
       "...             ...                 ...               ...  \n",
       "1456       0.391570            0.225205          0.292207  \n",
       "1457       0.391570            0.225205          0.292207  \n",
       "1458       0.391570            0.225205          0.292207  \n",
       "1459       0.391570            0.225205          0.292207  \n",
       "1460       0.391570            0.225205          0.292207  \n",
       "\n",
       "[201 rows x 11 columns]"
      ]
     },
     "execution_count": 119,
     "metadata": {},
     "output_type": "execute_result"
    }
   ],
   "source": [
    "dose_light.iloc[missing_agriculture]"
   ]
  },
  {
   "cell_type": "code",
   "execution_count": 120,
   "metadata": {},
   "outputs": [],
   "source": [
    "dose_light = dose_light.drop(columns=[\"country_code\",*[x for x in dose_light.columns if re.search(string = x,pattern=\"(_frac)|(_2015_wdi)\")]])"
   ]
  },
  {
   "cell_type": "code",
   "execution_count": 121,
   "metadata": {
    "tags": [
     "rm_cell"
    ]
   },
   "outputs": [
    {
     "name": "stdout",
     "output_type": "stream",
     "text": [
      "(5, 7)\n"
     ]
    },
    {
     "data": {
      "text/html": [
       "<div>\n",
       "<style scoped>\n",
       "    .dataframe tbody tr th:only-of-type {\n",
       "        vertical-align: middle;\n",
       "    }\n",
       "\n",
       "    .dataframe tbody tr th {\n",
       "        vertical-align: top;\n",
       "    }\n",
       "\n",
       "    .dataframe thead th {\n",
       "        text-align: right;\n",
       "    }\n",
       "</style>\n",
       "<table border=\"1\" class=\"dataframe\">\n",
       "  <thead>\n",
       "    <tr style=\"text-align: right;\">\n",
       "      <th></th>\n",
       "      <th>country</th>\n",
       "      <th>gid_0</th>\n",
       "      <th>gid_1</th>\n",
       "      <th>grp_usd_2015</th>\n",
       "      <th>services_usd_2015</th>\n",
       "      <th>manufacturing_usd_2015</th>\n",
       "      <th>agriculture_usd_2015</th>\n",
       "    </tr>\n",
       "  </thead>\n",
       "  <tbody>\n",
       "    <tr>\n",
       "      <th>779</th>\n",
       "      <td>Netherlands Antilles</td>\n",
       "      <td>ANT</td>\n",
       "      <td>BES.1_1</td>\n",
       "      <td>4.660000e+08</td>\n",
       "      <td>NaN</td>\n",
       "      <td>NaN</td>\n",
       "      <td>NaN</td>\n",
       "    </tr>\n",
       "    <tr>\n",
       "      <th>780</th>\n",
       "      <td>Netherlands Antilles</td>\n",
       "      <td>ANT</td>\n",
       "      <td>BES.2_1</td>\n",
       "      <td>4.700000e+07</td>\n",
       "      <td>NaN</td>\n",
       "      <td>NaN</td>\n",
       "      <td>NaN</td>\n",
       "    </tr>\n",
       "    <tr>\n",
       "      <th>781</th>\n",
       "      <td>Netherlands Antilles</td>\n",
       "      <td>ANT</td>\n",
       "      <td>BES.3_1</td>\n",
       "      <td>1.340000e+08</td>\n",
       "      <td>NaN</td>\n",
       "      <td>NaN</td>\n",
       "      <td>NaN</td>\n",
       "    </tr>\n",
       "    <tr>\n",
       "      <th>865</th>\n",
       "      <td>Philippines</td>\n",
       "      <td>PHL</td>\n",
       "      <td>PHL.109_1</td>\n",
       "      <td>NaN</td>\n",
       "      <td>NaN</td>\n",
       "      <td>NaN</td>\n",
       "      <td>NaN</td>\n",
       "    </tr>\n",
       "    <tr>\n",
       "      <th>1206</th>\n",
       "      <td>Tanzania</td>\n",
       "      <td>TZA</td>\n",
       "      <td>None</td>\n",
       "      <td>NaN</td>\n",
       "      <td>NaN</td>\n",
       "      <td>NaN</td>\n",
       "      <td>NaN</td>\n",
       "    </tr>\n",
       "  </tbody>\n",
       "</table>\n",
       "</div>"
      ],
      "text/plain": [
       "                   country gid_0      gid_1  grp_usd_2015  services_usd_2015  \\\n",
       "779   Netherlands Antilles   ANT    BES.1_1  4.660000e+08                NaN   \n",
       "780   Netherlands Antilles   ANT    BES.2_1  4.700000e+07                NaN   \n",
       "781   Netherlands Antilles   ANT    BES.3_1  1.340000e+08                NaN   \n",
       "865            Philippines   PHL  PHL.109_1           NaN                NaN   \n",
       "1206              Tanzania   TZA       None           NaN                NaN   \n",
       "\n",
       "      manufacturing_usd_2015  agriculture_usd_2015  \n",
       "779                      NaN                   NaN  \n",
       "780                      NaN                   NaN  \n",
       "781                      NaN                   NaN  \n",
       "865                      NaN                   NaN  \n",
       "1206                     NaN                   NaN  "
      ]
     },
     "execution_count": 121,
     "metadata": {},
     "output_type": "execute_result"
    }
   ],
   "source": [
    "# still some NAs\n",
    "print(dose_light.loc[dose_light.isna().any(axis=1)].shape)\n",
    "\n",
    "dose_light.loc[dose_light.isna().any(axis=1)]"
   ]
  },
  {
   "cell_type": "code",
   "execution_count": 122,
   "metadata": {
    "tags": [
     "rm_cell"
    ]
   },
   "outputs": [
    {
     "data": {
      "text/plain": [
       "(1524, 7)"
      ]
     },
     "execution_count": 122,
     "metadata": {},
     "output_type": "execute_result"
    }
   ],
   "source": [
    "dose_light.shape"
   ]
  },
  {
   "cell_type": "code",
   "execution_count": 123,
   "metadata": {},
   "outputs": [],
   "source": [
    "# dose_light[dose_light.country==\"Colombia\"]"
   ]
  },
  {
   "cell_type": "code",
   "execution_count": 124,
   "metadata": {
    "tags": [
     "rm_cell"
    ]
   },
   "outputs": [
    {
     "name": "stdout",
     "output_type": "stream",
     "text": [
      "(130, 7)\n"
     ]
    },
    {
     "data": {
      "text/html": [
       "<div>\n",
       "<style scoped>\n",
       "    .dataframe tbody tr th:only-of-type {\n",
       "        vertical-align: middle;\n",
       "    }\n",
       "\n",
       "    .dataframe tbody tr th {\n",
       "        vertical-align: top;\n",
       "    }\n",
       "\n",
       "    .dataframe thead th {\n",
       "        text-align: right;\n",
       "    }\n",
       "</style>\n",
       "<table border=\"1\" class=\"dataframe\">\n",
       "  <thead>\n",
       "    <tr style=\"text-align: right;\">\n",
       "      <th></th>\n",
       "      <th>country</th>\n",
       "      <th>agriculture_usd_2015</th>\n",
       "      <th>grp_usd_2015</th>\n",
       "      <th>manufacturing_usd_2015</th>\n",
       "      <th>services_usd_2015</th>\n",
       "      <th>gid_0</th>\n",
       "      <th>gid_1</th>\n",
       "    </tr>\n",
       "  </thead>\n",
       "  <tbody>\n",
       "    <tr>\n",
       "      <th>0</th>\n",
       "      <td>Afghanistan</td>\n",
       "      <td>3.948217e+09</td>\n",
       "      <td>1.913422e+10</td>\n",
       "      <td>4.233263e+09</td>\n",
       "      <td>1.018616e+10</td>\n",
       "      <td>AFG</td>\n",
       "      <td>AFG</td>\n",
       "    </tr>\n",
       "    <tr>\n",
       "      <th>1</th>\n",
       "      <td>Algeria</td>\n",
       "      <td>1.974833e+10</td>\n",
       "      <td>1.874939e+11</td>\n",
       "      <td>6.141643e+10</td>\n",
       "      <td>9.770374e+10</td>\n",
       "      <td>DZA</td>\n",
       "      <td>DZA</td>\n",
       "    </tr>\n",
       "    <tr>\n",
       "      <th>2</th>\n",
       "      <td>American Samoa</td>\n",
       "      <td>NaN</td>\n",
       "      <td>6.730000e+08</td>\n",
       "      <td>NaN</td>\n",
       "      <td>NaN</td>\n",
       "      <td>ASM</td>\n",
       "      <td>ASM</td>\n",
       "    </tr>\n",
       "    <tr>\n",
       "      <th>3</th>\n",
       "      <td>Andorra</td>\n",
       "      <td>1.432381e+07</td>\n",
       "      <td>2.789881e+09</td>\n",
       "      <td>2.784655e+08</td>\n",
       "      <td>2.194727e+09</td>\n",
       "      <td>AND</td>\n",
       "      <td>AND</td>\n",
       "    </tr>\n",
       "    <tr>\n",
       "      <th>4</th>\n",
       "      <td>Angola</td>\n",
       "      <td>8.255567e+09</td>\n",
       "      <td>9.049642e+10</td>\n",
       "      <td>3.794795e+10</td>\n",
       "      <td>4.403546e+10</td>\n",
       "      <td>AGO</td>\n",
       "      <td>AGO</td>\n",
       "    </tr>\n",
       "  </tbody>\n",
       "</table>\n",
       "</div>"
      ],
      "text/plain": [
       "          country  agriculture_usd_2015  grp_usd_2015  manufacturing_usd_2015  \\\n",
       "0     Afghanistan          3.948217e+09  1.913422e+10            4.233263e+09   \n",
       "1         Algeria          1.974833e+10  1.874939e+11            6.141643e+10   \n",
       "2  American Samoa                   NaN  6.730000e+08                     NaN   \n",
       "3         Andorra          1.432381e+07  2.789881e+09            2.784655e+08   \n",
       "4          Angola          8.255567e+09  9.049642e+10            3.794795e+10   \n",
       "\n",
       "   services_usd_2015 gid_0 gid_1  \n",
       "0       1.018616e+10   AFG   AFG  \n",
       "1       9.770374e+10   DZA   DZA  \n",
       "2                NaN   ASM   ASM  \n",
       "3       2.194727e+09   AND   AND  \n",
       "4       4.403546e+10   AGO   AGO  "
      ]
     },
     "execution_count": 124,
     "metadata": {},
     "output_type": "execute_result"
    }
   ],
   "source": [
    "print(wdi_country_simple.shape)\n",
    "wdi_country_simple.head()"
   ]
  },
  {
   "cell_type": "code",
   "execution_count": 125,
   "metadata": {
    "tags": [
     "rm_cell"
    ]
   },
   "outputs": [
    {
     "data": {
      "text/html": [
       "<div>\n",
       "<style scoped>\n",
       "    .dataframe tbody tr th:only-of-type {\n",
       "        vertical-align: middle;\n",
       "    }\n",
       "\n",
       "    .dataframe tbody tr th {\n",
       "        vertical-align: top;\n",
       "    }\n",
       "\n",
       "    .dataframe thead th {\n",
       "        text-align: right;\n",
       "    }\n",
       "</style>\n",
       "<table border=\"1\" class=\"dataframe\">\n",
       "  <thead>\n",
       "    <tr style=\"text-align: right;\">\n",
       "      <th></th>\n",
       "      <th>country</th>\n",
       "      <th>agriculture_usd_2015</th>\n",
       "      <th>grp_usd_2015</th>\n",
       "      <th>manufacturing_usd_2015</th>\n",
       "      <th>services_usd_2015</th>\n",
       "      <th>gid_0</th>\n",
       "      <th>gid_1</th>\n",
       "    </tr>\n",
       "  </thead>\n",
       "  <tbody>\n",
       "    <tr>\n",
       "      <th>127</th>\n",
       "      <td>Venezuela, RB</td>\n",
       "      <td>1.573330e+10</td>\n",
       "      <td>3.347510e+11</td>\n",
       "      <td>1.352394e+11</td>\n",
       "      <td>1.837783e+11</td>\n",
       "      <td>VEN</td>\n",
       "      <td>VEN</td>\n",
       "    </tr>\n",
       "  </tbody>\n",
       "</table>\n",
       "</div>"
      ],
      "text/plain": [
       "           country  agriculture_usd_2015  grp_usd_2015  \\\n",
       "127  Venezuela, RB          1.573330e+10  3.347510e+11   \n",
       "\n",
       "     manufacturing_usd_2015  services_usd_2015 gid_0 gid_1  \n",
       "127            1.352394e+11       1.837783e+11   VEN   VEN  "
      ]
     },
     "execution_count": 125,
     "metadata": {},
     "output_type": "execute_result"
    }
   ],
   "source": [
    "wdi_country_simple.loc[wdi_country_simple.gid_0==\"VEN\"]"
   ]
  },
  {
   "cell_type": "markdown",
   "metadata": {},
   "source": [
    "### Now combine the WDI data with filled missing regional gdp with missing countries from WDI."
   ]
  },
  {
   "cell_type": "code",
   "execution_count": 126,
   "metadata": {},
   "outputs": [
    {
     "data": {
      "text/html": [
       "<div>\n",
       "<style scoped>\n",
       "    .dataframe tbody tr th:only-of-type {\n",
       "        vertical-align: middle;\n",
       "    }\n",
       "\n",
       "    .dataframe tbody tr th {\n",
       "        vertical-align: top;\n",
       "    }\n",
       "\n",
       "    .dataframe thead th {\n",
       "        text-align: right;\n",
       "    }\n",
       "</style>\n",
       "<table border=\"1\" class=\"dataframe\">\n",
       "  <thead>\n",
       "    <tr style=\"text-align: right;\">\n",
       "      <th></th>\n",
       "      <th>country</th>\n",
       "      <th>gid_0</th>\n",
       "      <th>gid_1</th>\n",
       "      <th>grp_usd_2015</th>\n",
       "      <th>services_usd_2015</th>\n",
       "      <th>manufacturing_usd_2015</th>\n",
       "      <th>agriculture_usd_2015</th>\n",
       "    </tr>\n",
       "  </thead>\n",
       "  <tbody>\n",
       "    <tr>\n",
       "      <th>0</th>\n",
       "      <td>Albania</td>\n",
       "      <td>ALB</td>\n",
       "      <td>ALB.1_1</td>\n",
       "      <td>4.341915e+08</td>\n",
       "      <td>2.009631e+08</td>\n",
       "      <td>9.449606e+07</td>\n",
       "      <td>8.588401e+07</td>\n",
       "    </tr>\n",
       "    <tr>\n",
       "      <th>1</th>\n",
       "      <td>Albania</td>\n",
       "      <td>ALB</td>\n",
       "      <td>ALB.2_1</td>\n",
       "      <td>3.719427e+08</td>\n",
       "      <td>1.721516e+08</td>\n",
       "      <td>8.094841e+07</td>\n",
       "      <td>7.357106e+07</td>\n",
       "    </tr>\n",
       "    <tr>\n",
       "      <th>2</th>\n",
       "      <td>Albania</td>\n",
       "      <td>ALB</td>\n",
       "      <td>ALB.3_1</td>\n",
       "      <td>1.113524e+09</td>\n",
       "      <td>5.153885e+08</td>\n",
       "      <td>2.423439e+08</td>\n",
       "      <td>2.202575e+08</td>\n",
       "    </tr>\n",
       "    <tr>\n",
       "      <th>3</th>\n",
       "      <td>Albania</td>\n",
       "      <td>ALB</td>\n",
       "      <td>ALB.4_1</td>\n",
       "      <td>7.954835e+08</td>\n",
       "      <td>3.681851e+08</td>\n",
       "      <td>1.731265e+08</td>\n",
       "      <td>1.573483e+08</td>\n",
       "    </tr>\n",
       "    <tr>\n",
       "      <th>4</th>\n",
       "      <td>Albania</td>\n",
       "      <td>ALB</td>\n",
       "      <td>ALB.5_1</td>\n",
       "      <td>1.345159e+09</td>\n",
       "      <td>6.225993e+08</td>\n",
       "      <td>2.927561e+08</td>\n",
       "      <td>2.660753e+08</td>\n",
       "    </tr>\n",
       "  </tbody>\n",
       "</table>\n",
       "</div>"
      ],
      "text/plain": [
       "   country gid_0    gid_1  grp_usd_2015  services_usd_2015  \\\n",
       "0  Albania   ALB  ALB.1_1  4.341915e+08       2.009631e+08   \n",
       "1  Albania   ALB  ALB.2_1  3.719427e+08       1.721516e+08   \n",
       "2  Albania   ALB  ALB.3_1  1.113524e+09       5.153885e+08   \n",
       "3  Albania   ALB  ALB.4_1  7.954835e+08       3.681851e+08   \n",
       "4  Albania   ALB  ALB.5_1  1.345159e+09       6.225993e+08   \n",
       "\n",
       "   manufacturing_usd_2015  agriculture_usd_2015  \n",
       "0            9.449606e+07          8.588401e+07  \n",
       "1            8.094841e+07          7.357106e+07  \n",
       "2            2.423439e+08          2.202575e+08  \n",
       "3            1.731265e+08          1.573483e+08  \n",
       "4            2.927561e+08          2.660753e+08  "
      ]
     },
     "execution_count": 126,
     "metadata": {},
     "output_type": "execute_result"
    }
   ],
   "source": [
    "dose_light_combined = pd.concat([dose_light,wdi_country_simple],axis=0).reset_index(drop=True)"
   ]
  },
  {
   "cell_type": "code",
   "execution_count": null,
   "metadata": {
    "tags": [
     "rm_cell"
    ]
   },
   "outputs": [],
   "source": [
    "dose_light_combined.head()"
   ]
  },
  {
   "cell_type": "code",
   "execution_count": 127,
   "metadata": {
    "tags": [
     "rm_cell"
    ]
   },
   "outputs": [
    {
     "data": {
      "text/plain": [
       "(1654, 7)"
      ]
     },
     "execution_count": 127,
     "metadata": {},
     "output_type": "execute_result"
    }
   ],
   "source": [
    "dose_light_combined.shape"
   ]
  },
  {
   "cell_type": "code",
   "execution_count": 128,
   "metadata": {
    "tags": [
     "rm_cell"
    ]
   },
   "outputs": [
    {
     "data": {
      "text/html": [
       "<div>\n",
       "<style scoped>\n",
       "    .dataframe tbody tr th:only-of-type {\n",
       "        vertical-align: middle;\n",
       "    }\n",
       "\n",
       "    .dataframe tbody tr th {\n",
       "        vertical-align: top;\n",
       "    }\n",
       "\n",
       "    .dataframe thead th {\n",
       "        text-align: right;\n",
       "    }\n",
       "</style>\n",
       "<table border=\"1\" class=\"dataframe\">\n",
       "  <thead>\n",
       "    <tr style=\"text-align: right;\">\n",
       "      <th></th>\n",
       "      <th>country</th>\n",
       "      <th>gid_0</th>\n",
       "      <th>gid_1</th>\n",
       "      <th>grp_usd_2015</th>\n",
       "      <th>services_usd_2015</th>\n",
       "      <th>manufacturing_usd_2015</th>\n",
       "      <th>agriculture_usd_2015</th>\n",
       "    </tr>\n",
       "  </thead>\n",
       "  <tbody>\n",
       "    <tr>\n",
       "      <th>779</th>\n",
       "      <td>Netherlands Antilles</td>\n",
       "      <td>ANT</td>\n",
       "      <td>BES.1_1</td>\n",
       "      <td>4.660000e+08</td>\n",
       "      <td>NaN</td>\n",
       "      <td>NaN</td>\n",
       "      <td>NaN</td>\n",
       "    </tr>\n",
       "    <tr>\n",
       "      <th>780</th>\n",
       "      <td>Netherlands Antilles</td>\n",
       "      <td>ANT</td>\n",
       "      <td>BES.2_1</td>\n",
       "      <td>4.700000e+07</td>\n",
       "      <td>NaN</td>\n",
       "      <td>NaN</td>\n",
       "      <td>NaN</td>\n",
       "    </tr>\n",
       "    <tr>\n",
       "      <th>781</th>\n",
       "      <td>Netherlands Antilles</td>\n",
       "      <td>ANT</td>\n",
       "      <td>BES.3_1</td>\n",
       "      <td>1.340000e+08</td>\n",
       "      <td>NaN</td>\n",
       "      <td>NaN</td>\n",
       "      <td>NaN</td>\n",
       "    </tr>\n",
       "    <tr>\n",
       "      <th>865</th>\n",
       "      <td>Philippines</td>\n",
       "      <td>PHL</td>\n",
       "      <td>PHL.109_1</td>\n",
       "      <td>NaN</td>\n",
       "      <td>NaN</td>\n",
       "      <td>NaN</td>\n",
       "      <td>NaN</td>\n",
       "    </tr>\n",
       "    <tr>\n",
       "      <th>1206</th>\n",
       "      <td>Tanzania</td>\n",
       "      <td>TZA</td>\n",
       "      <td>None</td>\n",
       "      <td>NaN</td>\n",
       "      <td>NaN</td>\n",
       "      <td>NaN</td>\n",
       "      <td>NaN</td>\n",
       "    </tr>\n",
       "  </tbody>\n",
       "</table>\n",
       "</div>"
      ],
      "text/plain": [
       "                   country gid_0      gid_1  grp_usd_2015  services_usd_2015  \\\n",
       "779   Netherlands Antilles   ANT    BES.1_1  4.660000e+08                NaN   \n",
       "780   Netherlands Antilles   ANT    BES.2_1  4.700000e+07                NaN   \n",
       "781   Netherlands Antilles   ANT    BES.3_1  1.340000e+08                NaN   \n",
       "865            Philippines   PHL  PHL.109_1           NaN                NaN   \n",
       "1206              Tanzania   TZA       None           NaN                NaN   \n",
       "\n",
       "      manufacturing_usd_2015  agriculture_usd_2015  \n",
       "779                      NaN                   NaN  \n",
       "780                      NaN                   NaN  \n",
       "781                      NaN                   NaN  \n",
       "865                      NaN                   NaN  \n",
       "1206                     NaN                   NaN  "
      ]
     },
     "execution_count": 128,
     "metadata": {},
     "output_type": "execute_result"
    }
   ],
   "source": [
    "dose_light_combined[dose_light_combined.isna().any(axis=1)].head()"
   ]
  },
  {
   "cell_type": "code",
   "execution_count": 129,
   "metadata": {},
   "outputs": [
    {
     "name": "stdout",
     "output_type": "stream",
     "text": [
      "Data to this point:  (1654, 7)\n",
      "Full row of NAs removed:  (1654, 7)\n",
      "Some missing economic indicator removed:  (1640, 7)\n"
     ]
    }
   ],
   "source": [
    "print(\"Data to this point: \",dose_light_combined.shape)\n",
    "print(\"Full row of NAs removed: \", dose_light_combined.dropna(axis=0,how=\"all\").shape)\n",
    "print(\"Some missing economic indicator removed: \", dose_light_combined.dropna(subset=[\"grp_usd_2015\",\"services_usd_2015\",\"manufacturing_usd_2015\",\"agriculture_usd_2015\"],axis=0,how=\"any\").shape)"
   ]
  },
  {
   "cell_type": "markdown",
   "metadata": {},
   "source": [
    "## Complementary filling\n",
    "\n",
    "We have GDP = agriculture + manufacturing + services. If any single value of the rhs is missing, we can find it. If lhs is missing, we can sum rhs.\n",
    "\n",
    "next, a function will check this. "
   ]
  },
  {
   "cell_type": "code",
   "execution_count": 130,
   "metadata": {
    "tags": [
     "rm_cell"
    ]
   },
   "outputs": [
    {
     "data": {
      "text/html": [
       "<div>\n",
       "<style scoped>\n",
       "    .dataframe tbody tr th:only-of-type {\n",
       "        vertical-align: middle;\n",
       "    }\n",
       "\n",
       "    .dataframe tbody tr th {\n",
       "        vertical-align: top;\n",
       "    }\n",
       "\n",
       "    .dataframe thead th {\n",
       "        text-align: right;\n",
       "    }\n",
       "</style>\n",
       "<table border=\"1\" class=\"dataframe\">\n",
       "  <thead>\n",
       "    <tr style=\"text-align: right;\">\n",
       "      <th></th>\n",
       "      <th>country</th>\n",
       "      <th>gid_0</th>\n",
       "      <th>gid_1</th>\n",
       "      <th>grp_usd_2015</th>\n",
       "      <th>services_usd_2015</th>\n",
       "      <th>manufacturing_usd_2015</th>\n",
       "      <th>agriculture_usd_2015</th>\n",
       "    </tr>\n",
       "  </thead>\n",
       "  <tbody>\n",
       "    <tr>\n",
       "      <th>0</th>\n",
       "      <td>Albania</td>\n",
       "      <td>ALB</td>\n",
       "      <td>ALB.1_1</td>\n",
       "      <td>4.341915e+08</td>\n",
       "      <td>2.009631e+08</td>\n",
       "      <td>9.449606e+07</td>\n",
       "      <td>8.588401e+07</td>\n",
       "    </tr>\n",
       "    <tr>\n",
       "      <th>1</th>\n",
       "      <td>Albania</td>\n",
       "      <td>ALB</td>\n",
       "      <td>ALB.2_1</td>\n",
       "      <td>3.719427e+08</td>\n",
       "      <td>1.721516e+08</td>\n",
       "      <td>8.094841e+07</td>\n",
       "      <td>7.357106e+07</td>\n",
       "    </tr>\n",
       "    <tr>\n",
       "      <th>2</th>\n",
       "      <td>Albania</td>\n",
       "      <td>ALB</td>\n",
       "      <td>ALB.3_1</td>\n",
       "      <td>1.113524e+09</td>\n",
       "      <td>5.153885e+08</td>\n",
       "      <td>2.423439e+08</td>\n",
       "      <td>2.202575e+08</td>\n",
       "    </tr>\n",
       "  </tbody>\n",
       "</table>\n",
       "</div>"
      ],
      "text/plain": [
       "   country gid_0    gid_1  grp_usd_2015  services_usd_2015  \\\n",
       "0  Albania   ALB  ALB.1_1  4.341915e+08       2.009631e+08   \n",
       "1  Albania   ALB  ALB.2_1  3.719427e+08       1.721516e+08   \n",
       "2  Albania   ALB  ALB.3_1  1.113524e+09       5.153885e+08   \n",
       "\n",
       "   manufacturing_usd_2015  agriculture_usd_2015  \n",
       "0            9.449606e+07          8.588401e+07  \n",
       "1            8.094841e+07          7.357106e+07  \n",
       "2            2.423439e+08          2.202575e+08  "
      ]
     },
     "execution_count": 130,
     "metadata": {},
     "output_type": "execute_result"
    }
   ],
   "source": [
    "dose_light_combined.head(3)"
   ]
  },
  {
   "cell_type": "code",
   "execution_count": 131,
   "metadata": {},
   "outputs": [],
   "source": [
    "# function to find the missing values in rows and fill them if possible\n",
    "def check_and_fill_row(row: pd.Series):\n",
    "    lhs = [x for x in row.index.tolist() if re.search(string=x, pattern=\"(gdp)|(grp)\")]\n",
    "    rhs = [x for x in row.index.tolist() if re.search(string=x, pattern=\"(manufacturing)|(services)|(agriculture)\")]\n",
    "\n",
    "    if row[lhs].isna().item() and (not row[rhs].isna().any().item()):\n",
    "        row[lhs]=row[rhs].sum()\n",
    "    \n",
    "    elif (not row[lhs].isna().item()) and row[rhs].isna().sum()==1:\n",
    "        which = row[rhs].isna()[row[rhs].isna()].index.tolist()\n",
    "        # assign to the missing values in the rhs, the value of the lhs minus the values of the other rhs variables.\n",
    "        row[which] = row[lhs]-row[[x for x in rhs if x not in which]].sum()\n",
    "    else:\n",
    "        pass\n",
    "\n",
    "    return row"
   ]
  },
  {
   "cell_type": "code",
   "execution_count": 132,
   "metadata": {},
   "outputs": [],
   "source": [
    "dose_light_combined[dose_light_combined.isna().any(axis=1)] = dose_light_combined[dose_light_combined.isna().any(axis=1)].apply(check_and_fill_row,axis=1)\n"
   ]
  },
  {
   "cell_type": "code",
   "execution_count": 133,
   "metadata": {},
   "outputs": [
    {
     "name": "stdout",
     "output_type": "stream",
     "text": [
      "Data to this point:  (1654, 7)\n",
      "Full row of NAs removed:  (1654, 7)\n",
      "Some missing economic indicator removed:  (1642, 7)\n"
     ]
    }
   ],
   "source": [
    "print(\"Data to this point: \",dose_light_combined.shape)\n",
    "print(\"Full row of NAs removed: \", dose_light_combined.dropna(axis=0,how=\"all\").shape)\n",
    "print(\"Some missing economic indicator removed: \", dose_light_combined.dropna(subset=[\"grp_usd_2015\",\"services_usd_2015\",\"manufacturing_usd_2015\",\"agriculture_usd_2015\"],axis=0,how=\"any\").shape)"
   ]
  },
  {
   "cell_type": "code",
   "execution_count": 134,
   "metadata": {
    "tags": [
     "rm_cell"
    ]
   },
   "outputs": [
    {
     "data": {
      "text/html": [
       "<div>\n",
       "<style scoped>\n",
       "    .dataframe tbody tr th:only-of-type {\n",
       "        vertical-align: middle;\n",
       "    }\n",
       "\n",
       "    .dataframe tbody tr th {\n",
       "        vertical-align: top;\n",
       "    }\n",
       "\n",
       "    .dataframe thead th {\n",
       "        text-align: right;\n",
       "    }\n",
       "</style>\n",
       "<table border=\"1\" class=\"dataframe\">\n",
       "  <thead>\n",
       "    <tr style=\"text-align: right;\">\n",
       "      <th></th>\n",
       "      <th>country</th>\n",
       "      <th>gid_0</th>\n",
       "      <th>gid_1</th>\n",
       "      <th>grp_usd_2015</th>\n",
       "      <th>services_usd_2015</th>\n",
       "      <th>manufacturing_usd_2015</th>\n",
       "      <th>agriculture_usd_2015</th>\n",
       "    </tr>\n",
       "  </thead>\n",
       "  <tbody>\n",
       "    <tr>\n",
       "      <th>779</th>\n",
       "      <td>Netherlands Antilles</td>\n",
       "      <td>ANT</td>\n",
       "      <td>BES.1_1</td>\n",
       "      <td>4.660000e+08</td>\n",
       "      <td>NaN</td>\n",
       "      <td>NaN</td>\n",
       "      <td>NaN</td>\n",
       "    </tr>\n",
       "    <tr>\n",
       "      <th>780</th>\n",
       "      <td>Netherlands Antilles</td>\n",
       "      <td>ANT</td>\n",
       "      <td>BES.2_1</td>\n",
       "      <td>4.700000e+07</td>\n",
       "      <td>NaN</td>\n",
       "      <td>NaN</td>\n",
       "      <td>NaN</td>\n",
       "    </tr>\n",
       "    <tr>\n",
       "      <th>781</th>\n",
       "      <td>Netherlands Antilles</td>\n",
       "      <td>ANT</td>\n",
       "      <td>BES.3_1</td>\n",
       "      <td>1.340000e+08</td>\n",
       "      <td>NaN</td>\n",
       "      <td>NaN</td>\n",
       "      <td>NaN</td>\n",
       "    </tr>\n",
       "    <tr>\n",
       "      <th>865</th>\n",
       "      <td>Philippines</td>\n",
       "      <td>PHL</td>\n",
       "      <td>PHL.109_1</td>\n",
       "      <td>NaN</td>\n",
       "      <td>NaN</td>\n",
       "      <td>NaN</td>\n",
       "      <td>NaN</td>\n",
       "    </tr>\n",
       "    <tr>\n",
       "      <th>1206</th>\n",
       "      <td>Tanzania</td>\n",
       "      <td>TZA</td>\n",
       "      <td>None</td>\n",
       "      <td>NaN</td>\n",
       "      <td>NaN</td>\n",
       "      <td>NaN</td>\n",
       "      <td>NaN</td>\n",
       "    </tr>\n",
       "    <tr>\n",
       "      <th>1526</th>\n",
       "      <td>American Samoa</td>\n",
       "      <td>ASM</td>\n",
       "      <td>ASM</td>\n",
       "      <td>6.730000e+08</td>\n",
       "      <td>NaN</td>\n",
       "      <td>NaN</td>\n",
       "      <td>NaN</td>\n",
       "    </tr>\n",
       "    <tr>\n",
       "      <th>1570</th>\n",
       "      <td>Guam</td>\n",
       "      <td>GUM</td>\n",
       "      <td>GUM</td>\n",
       "      <td>5.799000e+09</td>\n",
       "      <td>NaN</td>\n",
       "      <td>NaN</td>\n",
       "      <td>NaN</td>\n",
       "    </tr>\n",
       "    <tr>\n",
       "      <th>1590</th>\n",
       "      <td>Liechtenstein</td>\n",
       "      <td>LIE</td>\n",
       "      <td>LIE</td>\n",
       "      <td>6.268515e+09</td>\n",
       "      <td>NaN</td>\n",
       "      <td>2.335665e+09</td>\n",
       "      <td>NaN</td>\n",
       "    </tr>\n",
       "    <tr>\n",
       "      <th>1604</th>\n",
       "      <td>Nauru</td>\n",
       "      <td>NRU</td>\n",
       "      <td>NRU</td>\n",
       "      <td>8.486344e+07</td>\n",
       "      <td>NaN</td>\n",
       "      <td>NaN</td>\n",
       "      <td>NaN</td>\n",
       "    </tr>\n",
       "    <tr>\n",
       "      <th>1609</th>\n",
       "      <td>Northern Mariana Islands</td>\n",
       "      <td>MNP</td>\n",
       "      <td>MNP</td>\n",
       "      <td>9.100000e+08</td>\n",
       "      <td>NaN</td>\n",
       "      <td>NaN</td>\n",
       "      <td>NaN</td>\n",
       "    </tr>\n",
       "    <tr>\n",
       "      <th>1627</th>\n",
       "      <td>Somalia</td>\n",
       "      <td>SOM</td>\n",
       "      <td>SOM</td>\n",
       "      <td>6.984947e+09</td>\n",
       "      <td>NaN</td>\n",
       "      <td>NaN</td>\n",
       "      <td>NaN</td>\n",
       "    </tr>\n",
       "    <tr>\n",
       "      <th>1649</th>\n",
       "      <td>Virgin Islands (U.S.)</td>\n",
       "      <td>VIR</td>\n",
       "      <td>VIR</td>\n",
       "      <td>3.663000e+09</td>\n",
       "      <td>NaN</td>\n",
       "      <td>NaN</td>\n",
       "      <td>NaN</td>\n",
       "    </tr>\n",
       "  </tbody>\n",
       "</table>\n",
       "</div>"
      ],
      "text/plain": [
       "                       country gid_0      gid_1  grp_usd_2015  \\\n",
       "779       Netherlands Antilles   ANT    BES.1_1  4.660000e+08   \n",
       "780       Netherlands Antilles   ANT    BES.2_1  4.700000e+07   \n",
       "781       Netherlands Antilles   ANT    BES.3_1  1.340000e+08   \n",
       "865                Philippines   PHL  PHL.109_1           NaN   \n",
       "1206                  Tanzania   TZA       None           NaN   \n",
       "1526            American Samoa   ASM        ASM  6.730000e+08   \n",
       "1570                      Guam   GUM        GUM  5.799000e+09   \n",
       "1590             Liechtenstein   LIE        LIE  6.268515e+09   \n",
       "1604                     Nauru   NRU        NRU  8.486344e+07   \n",
       "1609  Northern Mariana Islands   MNP        MNP  9.100000e+08   \n",
       "1627                   Somalia   SOM        SOM  6.984947e+09   \n",
       "1649     Virgin Islands (U.S.)   VIR        VIR  3.663000e+09   \n",
       "\n",
       "      services_usd_2015  manufacturing_usd_2015  agriculture_usd_2015  \n",
       "779                 NaN                     NaN                   NaN  \n",
       "780                 NaN                     NaN                   NaN  \n",
       "781                 NaN                     NaN                   NaN  \n",
       "865                 NaN                     NaN                   NaN  \n",
       "1206                NaN                     NaN                   NaN  \n",
       "1526                NaN                     NaN                   NaN  \n",
       "1570                NaN                     NaN                   NaN  \n",
       "1590                NaN            2.335665e+09                   NaN  \n",
       "1604                NaN                     NaN                   NaN  \n",
       "1609                NaN                     NaN                   NaN  \n",
       "1627                NaN                     NaN                   NaN  \n",
       "1649                NaN                     NaN                   NaN  "
      ]
     },
     "execution_count": 134,
     "metadata": {},
     "output_type": "execute_result"
    }
   ],
   "source": [
    "# 6 values have no economic information at all and will be removed in the next step\n",
    "dose_light_combined[dose_light_combined.isna().any(axis=1)]"
   ]
  },
  {
   "cell_type": "code",
   "execution_count": 135,
   "metadata": {},
   "outputs": [],
   "source": [
    "# writing back the modified data set into the original one. this can be avoided and all the operations can be done on the original one right away once the workflow is good. \n",
    "dose_light_combined.dropna(subset=[\"grp_usd_2015\",\"services_usd_2015\",\"manufacturing_usd_2015\",\"agriculture_usd_2015\"],axis=0,how=\"all\",inplace=True)\n",
    "dose_light_combined.reset_index(inplace=True,drop=True)"
   ]
  },
  {
   "cell_type": "code",
   "execution_count": 136,
   "metadata": {
    "tags": [
     "rm_cell"
    ]
   },
   "outputs": [
    {
     "data": {
      "text/html": [
       "<div>\n",
       "<style scoped>\n",
       "    .dataframe tbody tr th:only-of-type {\n",
       "        vertical-align: middle;\n",
       "    }\n",
       "\n",
       "    .dataframe tbody tr th {\n",
       "        vertical-align: top;\n",
       "    }\n",
       "\n",
       "    .dataframe thead th {\n",
       "        text-align: right;\n",
       "    }\n",
       "</style>\n",
       "<table border=\"1\" class=\"dataframe\">\n",
       "  <thead>\n",
       "    <tr style=\"text-align: right;\">\n",
       "      <th></th>\n",
       "      <th>country</th>\n",
       "      <th>gid_0</th>\n",
       "      <th>gid_1</th>\n",
       "      <th>grp_usd_2015</th>\n",
       "      <th>services_usd_2015</th>\n",
       "      <th>manufacturing_usd_2015</th>\n",
       "      <th>agriculture_usd_2015</th>\n",
       "    </tr>\n",
       "  </thead>\n",
       "  <tbody>\n",
       "    <tr>\n",
       "      <th>0</th>\n",
       "      <td>Albania</td>\n",
       "      <td>ALB</td>\n",
       "      <td>ALB.1_1</td>\n",
       "      <td>4.341915e+08</td>\n",
       "      <td>2.009631e+08</td>\n",
       "      <td>9.449606e+07</td>\n",
       "      <td>8.588401e+07</td>\n",
       "    </tr>\n",
       "    <tr>\n",
       "      <th>1</th>\n",
       "      <td>Albania</td>\n",
       "      <td>ALB</td>\n",
       "      <td>ALB.2_1</td>\n",
       "      <td>3.719427e+08</td>\n",
       "      <td>1.721516e+08</td>\n",
       "      <td>8.094841e+07</td>\n",
       "      <td>7.357106e+07</td>\n",
       "    </tr>\n",
       "    <tr>\n",
       "      <th>2</th>\n",
       "      <td>Albania</td>\n",
       "      <td>ALB</td>\n",
       "      <td>ALB.3_1</td>\n",
       "      <td>1.113524e+09</td>\n",
       "      <td>5.153885e+08</td>\n",
       "      <td>2.423439e+08</td>\n",
       "      <td>2.202575e+08</td>\n",
       "    </tr>\n",
       "    <tr>\n",
       "      <th>3</th>\n",
       "      <td>Albania</td>\n",
       "      <td>ALB</td>\n",
       "      <td>ALB.4_1</td>\n",
       "      <td>7.954835e+08</td>\n",
       "      <td>3.681851e+08</td>\n",
       "      <td>1.731265e+08</td>\n",
       "      <td>1.573483e+08</td>\n",
       "    </tr>\n",
       "    <tr>\n",
       "      <th>4</th>\n",
       "      <td>Albania</td>\n",
       "      <td>ALB</td>\n",
       "      <td>ALB.5_1</td>\n",
       "      <td>1.345159e+09</td>\n",
       "      <td>6.225993e+08</td>\n",
       "      <td>2.927561e+08</td>\n",
       "      <td>2.660753e+08</td>\n",
       "    </tr>\n",
       "    <tr>\n",
       "      <th>...</th>\n",
       "      <td>...</td>\n",
       "      <td>...</td>\n",
       "      <td>...</td>\n",
       "      <td>...</td>\n",
       "      <td>...</td>\n",
       "      <td>...</td>\n",
       "      <td>...</td>\n",
       "    </tr>\n",
       "    <tr>\n",
       "      <th>1647</th>\n",
       "      <td>Virgin Islands (U.S.)</td>\n",
       "      <td>VIR</td>\n",
       "      <td>VIR</td>\n",
       "      <td>3.663000e+09</td>\n",
       "      <td>NaN</td>\n",
       "      <td>NaN</td>\n",
       "      <td>NaN</td>\n",
       "    </tr>\n",
       "    <tr>\n",
       "      <th>1648</th>\n",
       "      <td>West Bank and Gaza</td>\n",
       "      <td>PSE</td>\n",
       "      <td>PSE</td>\n",
       "      <td>1.397240e+10</td>\n",
       "      <td>8.618600e+09</td>\n",
       "      <td>2.295000e+09</td>\n",
       "      <td>1.035200e+09</td>\n",
       "    </tr>\n",
       "    <tr>\n",
       "      <th>1649</th>\n",
       "      <td>Yemen, Rep.</td>\n",
       "      <td>YEM</td>\n",
       "      <td>YEM</td>\n",
       "      <td>4.244449e+10</td>\n",
       "      <td>1.779608e+10</td>\n",
       "      <td>1.437432e+10</td>\n",
       "      <td>8.576307e+09</td>\n",
       "    </tr>\n",
       "    <tr>\n",
       "      <th>1650</th>\n",
       "      <td>Zambia</td>\n",
       "      <td>ZMB</td>\n",
       "      <td>ZMB</td>\n",
       "      <td>2.125122e+10</td>\n",
       "      <td>1.194752e+10</td>\n",
       "      <td>7.152575e+09</td>\n",
       "      <td>1.058488e+09</td>\n",
       "    </tr>\n",
       "    <tr>\n",
       "      <th>1651</th>\n",
       "      <td>Zimbabwe</td>\n",
       "      <td>ZWE</td>\n",
       "      <td>ZWE</td>\n",
       "      <td>1.996312e+10</td>\n",
       "      <td>1.170858e+10</td>\n",
       "      <td>4.463433e+09</td>\n",
       "      <td>1.653794e+09</td>\n",
       "    </tr>\n",
       "  </tbody>\n",
       "</table>\n",
       "<p>1652 rows × 7 columns</p>\n",
       "</div>"
      ],
      "text/plain": [
       "                    country gid_0    gid_1  grp_usd_2015  services_usd_2015  \\\n",
       "0                   Albania   ALB  ALB.1_1  4.341915e+08       2.009631e+08   \n",
       "1                   Albania   ALB  ALB.2_1  3.719427e+08       1.721516e+08   \n",
       "2                   Albania   ALB  ALB.3_1  1.113524e+09       5.153885e+08   \n",
       "3                   Albania   ALB  ALB.4_1  7.954835e+08       3.681851e+08   \n",
       "4                   Albania   ALB  ALB.5_1  1.345159e+09       6.225993e+08   \n",
       "...                     ...   ...      ...           ...                ...   \n",
       "1647  Virgin Islands (U.S.)   VIR      VIR  3.663000e+09                NaN   \n",
       "1648     West Bank and Gaza   PSE      PSE  1.397240e+10       8.618600e+09   \n",
       "1649            Yemen, Rep.   YEM      YEM  4.244449e+10       1.779608e+10   \n",
       "1650                 Zambia   ZMB      ZMB  2.125122e+10       1.194752e+10   \n",
       "1651               Zimbabwe   ZWE      ZWE  1.996312e+10       1.170858e+10   \n",
       "\n",
       "      manufacturing_usd_2015  agriculture_usd_2015  \n",
       "0               9.449606e+07          8.588401e+07  \n",
       "1               8.094841e+07          7.357106e+07  \n",
       "2               2.423439e+08          2.202575e+08  \n",
       "3               1.731265e+08          1.573483e+08  \n",
       "4               2.927561e+08          2.660753e+08  \n",
       "...                      ...                   ...  \n",
       "1647                     NaN                   NaN  \n",
       "1648            2.295000e+09          1.035200e+09  \n",
       "1649            1.437432e+10          8.576307e+09  \n",
       "1650            7.152575e+09          1.058488e+09  \n",
       "1651            4.463433e+09          1.653794e+09  \n",
       "\n",
       "[1652 rows x 7 columns]"
      ]
     },
     "execution_count": 136,
     "metadata": {},
     "output_type": "execute_result"
    }
   ],
   "source": [
    "dose_light_combined"
   ]
  },
  {
   "cell_type": "code",
   "execution_count": 137,
   "metadata": {
    "tags": [
     "rm_cell"
    ]
   },
   "outputs": [
    {
     "data": {
      "text/html": [
       "<div>\n",
       "<style scoped>\n",
       "    .dataframe tbody tr th:only-of-type {\n",
       "        vertical-align: middle;\n",
       "    }\n",
       "\n",
       "    .dataframe tbody tr th {\n",
       "        vertical-align: top;\n",
       "    }\n",
       "\n",
       "    .dataframe thead th {\n",
       "        text-align: right;\n",
       "    }\n",
       "</style>\n",
       "<table border=\"1\" class=\"dataframe\">\n",
       "  <thead>\n",
       "    <tr style=\"text-align: right;\">\n",
       "      <th></th>\n",
       "      <th>country</th>\n",
       "      <th>gid_0</th>\n",
       "      <th>gid_1</th>\n",
       "      <th>grp_usd_2015</th>\n",
       "      <th>services_usd_2015</th>\n",
       "      <th>manufacturing_usd_2015</th>\n",
       "      <th>agriculture_usd_2015</th>\n",
       "    </tr>\n",
       "  </thead>\n",
       "  <tbody>\n",
       "    <tr>\n",
       "      <th>1646</th>\n",
       "      <td>Venezuela, RB</td>\n",
       "      <td>VEN</td>\n",
       "      <td>VEN</td>\n",
       "      <td>3.347510e+11</td>\n",
       "      <td>1.837783e+11</td>\n",
       "      <td>1.352394e+11</td>\n",
       "      <td>1.573330e+10</td>\n",
       "    </tr>\n",
       "  </tbody>\n",
       "</table>\n",
       "</div>"
      ],
      "text/plain": [
       "            country gid_0 gid_1  grp_usd_2015  services_usd_2015  \\\n",
       "1646  Venezuela, RB   VEN   VEN  3.347510e+11       1.837783e+11   \n",
       "\n",
       "      manufacturing_usd_2015  agriculture_usd_2015  \n",
       "1646            1.352394e+11          1.573330e+10  "
      ]
     },
     "execution_count": 137,
     "metadata": {},
     "output_type": "execute_result"
    }
   ],
   "source": [
    "dose_light_combined[dose_light_combined.gid_0==\"VEN\"]"
   ]
  },
  {
   "cell_type": "markdown",
   "metadata": {},
   "source": [
    "## Validations\n",
    "Running some tests on the data to identify problems"
   ]
  },
  {
   "cell_type": "code",
   "execution_count": 138,
   "metadata": {
    "tags": [
     "rm_cell"
    ]
   },
   "outputs": [
    {
     "data": {
      "text/html": [
       "<div>\n",
       "<style scoped>\n",
       "    .dataframe tbody tr th:only-of-type {\n",
       "        vertical-align: middle;\n",
       "    }\n",
       "\n",
       "    .dataframe tbody tr th {\n",
       "        vertical-align: top;\n",
       "    }\n",
       "\n",
       "    .dataframe thead th {\n",
       "        text-align: right;\n",
       "    }\n",
       "</style>\n",
       "<table border=\"1\" class=\"dataframe\">\n",
       "  <thead>\n",
       "    <tr style=\"text-align: right;\">\n",
       "      <th></th>\n",
       "      <th>country</th>\n",
       "      <th>gid_0</th>\n",
       "      <th>gid_1</th>\n",
       "      <th>grp_usd_2015</th>\n",
       "      <th>services_usd_2015</th>\n",
       "      <th>manufacturing_usd_2015</th>\n",
       "      <th>agriculture_usd_2015</th>\n",
       "    </tr>\n",
       "  </thead>\n",
       "  <tbody>\n",
       "    <tr>\n",
       "      <th>397</th>\n",
       "      <td>India</td>\n",
       "      <td>IND</td>\n",
       "      <td>IND.2_1</td>\n",
       "      <td>7.607693e+10</td>\n",
       "      <td>3.357343e+10</td>\n",
       "      <td>1.938657e+10</td>\n",
       "      <td>2.959954e+12</td>\n",
       "    </tr>\n",
       "    <tr>\n",
       "      <th>399</th>\n",
       "      <td>India</td>\n",
       "      <td>IND</td>\n",
       "      <td>IND.4_1</td>\n",
       "      <td>2.874776e+10</td>\n",
       "      <td>1.384176e+10</td>\n",
       "      <td>6.419377e+09</td>\n",
       "      <td>1.832131e+11</td>\n",
       "    </tr>\n",
       "    <tr>\n",
       "      <th>400</th>\n",
       "      <td>India</td>\n",
       "      <td>IND</td>\n",
       "      <td>IND.5_1</td>\n",
       "      <td>5.228719e+10</td>\n",
       "      <td>2.959853e+10</td>\n",
       "      <td>1.029026e+10</td>\n",
       "      <td>4.011227e+10</td>\n",
       "    </tr>\n",
       "    <tr>\n",
       "      <th>402</th>\n",
       "      <td>India</td>\n",
       "      <td>IND</td>\n",
       "      <td>IND.7_1</td>\n",
       "      <td>3.261214e+10</td>\n",
       "      <td>1.134110e+10</td>\n",
       "      <td>1.125099e+10</td>\n",
       "      <td>2.280518e+11</td>\n",
       "    </tr>\n",
       "    <tr>\n",
       "      <th>405</th>\n",
       "      <td>India</td>\n",
       "      <td>IND</td>\n",
       "      <td>IND.11_1</td>\n",
       "      <td>1.285709e+11</td>\n",
       "      <td>4.666193e+10</td>\n",
       "      <td>5.692669e+10</td>\n",
       "      <td>1.035249e+12</td>\n",
       "    </tr>\n",
       "    <tr>\n",
       "      <th>408</th>\n",
       "      <td>India</td>\n",
       "      <td>IND</td>\n",
       "      <td>IND.14_1</td>\n",
       "      <td>1.452550e+10</td>\n",
       "      <td>8.502779e+09</td>\n",
       "      <td>3.604522e+09</td>\n",
       "      <td>4.203577e+09</td>\n",
       "    </tr>\n",
       "    <tr>\n",
       "      <th>409</th>\n",
       "      <td>India</td>\n",
       "      <td>IND</td>\n",
       "      <td>IND.15_1</td>\n",
       "      <td>3.132182e+10</td>\n",
       "      <td>1.219931e+10</td>\n",
       "      <td>9.625152e+09</td>\n",
       "      <td>2.515173e+10</td>\n",
       "    </tr>\n",
       "    <tr>\n",
       "      <th>412</th>\n",
       "      <td>India</td>\n",
       "      <td>IND</td>\n",
       "      <td>IND.19_1</td>\n",
       "      <td>7.116199e+10</td>\n",
       "      <td>2.753653e+10</td>\n",
       "      <td>1.563218e+10</td>\n",
       "      <td>6.150215e+10</td>\n",
       "    </tr>\n",
       "    <tr>\n",
       "      <th>417</th>\n",
       "      <td>India</td>\n",
       "      <td>IND</td>\n",
       "      <td>IND.24_1</td>\n",
       "      <td>2.845844e+09</td>\n",
       "      <td>1.559493e+09</td>\n",
       "      <td>3.084235e+08</td>\n",
       "      <td>1.676656e+09</td>\n",
       "    </tr>\n",
       "    <tr>\n",
       "      <th>418</th>\n",
       "      <td>India</td>\n",
       "      <td>IND</td>\n",
       "      <td>IND.26_1</td>\n",
       "      <td>4.604805e+10</td>\n",
       "      <td>1.892777e+10</td>\n",
       "      <td>1.267556e+10</td>\n",
       "      <td>2.899032e+11</td>\n",
       "    </tr>\n",
       "    <tr>\n",
       "      <th>420</th>\n",
       "      <td>India</td>\n",
       "      <td>IND</td>\n",
       "      <td>IND.29_1</td>\n",
       "      <td>9.104201e+10</td>\n",
       "      <td>3.896635e+10</td>\n",
       "      <td>2.051988e+10</td>\n",
       "      <td>7.663917e+10</td>\n",
       "    </tr>\n",
       "    <tr>\n",
       "      <th>422</th>\n",
       "      <td>India</td>\n",
       "      <td>IND</td>\n",
       "      <td>IND.31_1</td>\n",
       "      <td>1.533122e+11</td>\n",
       "      <td>8.309745e+10</td>\n",
       "      <td>4.963792e+10</td>\n",
       "      <td>2.275526e+12</td>\n",
       "    </tr>\n",
       "    <tr>\n",
       "      <th>425</th>\n",
       "      <td>India</td>\n",
       "      <td>IND</td>\n",
       "      <td>IND.34_1</td>\n",
       "      <td>1.480320e+11</td>\n",
       "      <td>7.115388e+10</td>\n",
       "      <td>3.712522e+10</td>\n",
       "      <td>2.098595e+12</td>\n",
       "    </tr>\n",
       "    <tr>\n",
       "      <th>427</th>\n",
       "      <td>India</td>\n",
       "      <td>IND</td>\n",
       "      <td>IND.36_1</td>\n",
       "      <td>1.058850e+11</td>\n",
       "      <td>5.702616e+10</td>\n",
       "      <td>2.182926e+10</td>\n",
       "      <td>2.262062e+11</td>\n",
       "    </tr>\n",
       "    <tr>\n",
       "      <th>541</th>\n",
       "      <td>Japan</td>\n",
       "      <td>JPN</td>\n",
       "      <td>JPN.6_1</td>\n",
       "      <td>2.691941e+10</td>\n",
       "      <td>4.667655e+10</td>\n",
       "      <td>9.590629e+09</td>\n",
       "      <td>2.389361e+08</td>\n",
       "    </tr>\n",
       "    <tr>\n",
       "      <th>550</th>\n",
       "      <td>Japan</td>\n",
       "      <td>JPN</td>\n",
       "      <td>JPN.15_1</td>\n",
       "      <td>3.795022e+10</td>\n",
       "      <td>7.542466e+10</td>\n",
       "      <td>1.279874e+10</td>\n",
       "      <td>3.448848e+08</td>\n",
       "    </tr>\n",
       "    <tr>\n",
       "      <th>578</th>\n",
       "      <td>Japan</td>\n",
       "      <td>JPN</td>\n",
       "      <td>JPN.43_1</td>\n",
       "      <td>3.756525e+10</td>\n",
       "      <td>3.440526e+10</td>\n",
       "      <td>1.566196e+10</td>\n",
       "      <td>3.688421e+08</td>\n",
       "    </tr>\n",
       "    <tr>\n",
       "      <th>1092</th>\n",
       "      <td>South Korea</td>\n",
       "      <td>KOR</td>\n",
       "      <td>KOR.1_1</td>\n",
       "      <td>6.779726e+10</td>\n",
       "      <td>4.883196e+10</td>\n",
       "      <td>2.551033e+10</td>\n",
       "      <td>3.458617e+08</td>\n",
       "    </tr>\n",
       "    <tr>\n",
       "      <th>1095</th>\n",
       "      <td>South Korea</td>\n",
       "      <td>KOR</td>\n",
       "      <td>KOR.4_1</td>\n",
       "      <td>4.257775e+10</td>\n",
       "      <td>2.994070e+10</td>\n",
       "      <td>2.517811e+10</td>\n",
       "      <td>2.207288e+08</td>\n",
       "    </tr>\n",
       "    <tr>\n",
       "      <th>1098</th>\n",
       "      <td>South Korea</td>\n",
       "      <td>KOR</td>\n",
       "      <td>KOR.7_1</td>\n",
       "      <td>2.867021e+10</td>\n",
       "      <td>1.893307e+10</td>\n",
       "      <td>3.734052e+10</td>\n",
       "      <td>1.425761e+08</td>\n",
       "    </tr>\n",
       "    <tr>\n",
       "      <th>1100</th>\n",
       "      <td>South Korea</td>\n",
       "      <td>KOR</td>\n",
       "      <td>KOR.9_1</td>\n",
       "      <td>8.624658e+10</td>\n",
       "      <td>3.173980e+10</td>\n",
       "      <td>1.353713e+11</td>\n",
       "      <td>3.113129e+09</td>\n",
       "    </tr>\n",
       "    <tr>\n",
       "      <th>1103</th>\n",
       "      <td>South Korea</td>\n",
       "      <td>KOR</td>\n",
       "      <td>KOR.12_1</td>\n",
       "      <td>1.375481e+10</td>\n",
       "      <td>9.949754e+09</td>\n",
       "      <td>5.067870e+10</td>\n",
       "      <td>3.974607e+09</td>\n",
       "    </tr>\n",
       "    <tr>\n",
       "      <th>1106</th>\n",
       "      <td>South Korea</td>\n",
       "      <td>KOR</td>\n",
       "      <td>KOR.15_1</td>\n",
       "      <td>7.529369e+09</td>\n",
       "      <td>3.825910e+09</td>\n",
       "      <td>4.966091e+10</td>\n",
       "      <td>4.845865e+09</td>\n",
       "    </tr>\n",
       "    <tr>\n",
       "      <th>1582</th>\n",
       "      <td>Kuwait</td>\n",
       "      <td>KWT</td>\n",
       "      <td>KWT</td>\n",
       "      <td>1.145856e+11</td>\n",
       "      <td>6.696191e+10</td>\n",
       "      <td>6.409440e+10</td>\n",
       "      <td>6.161598e+08</td>\n",
       "    </tr>\n",
       "    <tr>\n",
       "      <th>1587</th>\n",
       "      <td>Libya</td>\n",
       "      <td>LBY</td>\n",
       "      <td>LBY</td>\n",
       "      <td>4.871750e+10</td>\n",
       "      <td>3.529398e+10</td>\n",
       "      <td>1.696780e+10</td>\n",
       "      <td>2.136894e+09</td>\n",
       "    </tr>\n",
       "  </tbody>\n",
       "</table>\n",
       "</div>"
      ],
      "text/plain": [
       "          country gid_0     gid_1  grp_usd_2015  services_usd_2015  \\\n",
       "397         India   IND   IND.2_1  7.607693e+10       3.357343e+10   \n",
       "399         India   IND   IND.4_1  2.874776e+10       1.384176e+10   \n",
       "400         India   IND   IND.5_1  5.228719e+10       2.959853e+10   \n",
       "402         India   IND   IND.7_1  3.261214e+10       1.134110e+10   \n",
       "405         India   IND  IND.11_1  1.285709e+11       4.666193e+10   \n",
       "408         India   IND  IND.14_1  1.452550e+10       8.502779e+09   \n",
       "409         India   IND  IND.15_1  3.132182e+10       1.219931e+10   \n",
       "412         India   IND  IND.19_1  7.116199e+10       2.753653e+10   \n",
       "417         India   IND  IND.24_1  2.845844e+09       1.559493e+09   \n",
       "418         India   IND  IND.26_1  4.604805e+10       1.892777e+10   \n",
       "420         India   IND  IND.29_1  9.104201e+10       3.896635e+10   \n",
       "422         India   IND  IND.31_1  1.533122e+11       8.309745e+10   \n",
       "425         India   IND  IND.34_1  1.480320e+11       7.115388e+10   \n",
       "427         India   IND  IND.36_1  1.058850e+11       5.702616e+10   \n",
       "541         Japan   JPN   JPN.6_1  2.691941e+10       4.667655e+10   \n",
       "550         Japan   JPN  JPN.15_1  3.795022e+10       7.542466e+10   \n",
       "578         Japan   JPN  JPN.43_1  3.756525e+10       3.440526e+10   \n",
       "1092  South Korea   KOR   KOR.1_1  6.779726e+10       4.883196e+10   \n",
       "1095  South Korea   KOR   KOR.4_1  4.257775e+10       2.994070e+10   \n",
       "1098  South Korea   KOR   KOR.7_1  2.867021e+10       1.893307e+10   \n",
       "1100  South Korea   KOR   KOR.9_1  8.624658e+10       3.173980e+10   \n",
       "1103  South Korea   KOR  KOR.12_1  1.375481e+10       9.949754e+09   \n",
       "1106  South Korea   KOR  KOR.15_1  7.529369e+09       3.825910e+09   \n",
       "1582       Kuwait   KWT       KWT  1.145856e+11       6.696191e+10   \n",
       "1587        Libya   LBY       LBY  4.871750e+10       3.529398e+10   \n",
       "\n",
       "      manufacturing_usd_2015  agriculture_usd_2015  \n",
       "397             1.938657e+10          2.959954e+12  \n",
       "399             6.419377e+09          1.832131e+11  \n",
       "400             1.029026e+10          4.011227e+10  \n",
       "402             1.125099e+10          2.280518e+11  \n",
       "405             5.692669e+10          1.035249e+12  \n",
       "408             3.604522e+09          4.203577e+09  \n",
       "409             9.625152e+09          2.515173e+10  \n",
       "412             1.563218e+10          6.150215e+10  \n",
       "417             3.084235e+08          1.676656e+09  \n",
       "418             1.267556e+10          2.899032e+11  \n",
       "420             2.051988e+10          7.663917e+10  \n",
       "422             4.963792e+10          2.275526e+12  \n",
       "425             3.712522e+10          2.098595e+12  \n",
       "427             2.182926e+10          2.262062e+11  \n",
       "541             9.590629e+09          2.389361e+08  \n",
       "550             1.279874e+10          3.448848e+08  \n",
       "578             1.566196e+10          3.688421e+08  \n",
       "1092            2.551033e+10          3.458617e+08  \n",
       "1095            2.517811e+10          2.207288e+08  \n",
       "1098            3.734052e+10          1.425761e+08  \n",
       "1100            1.353713e+11          3.113129e+09  \n",
       "1103            5.067870e+10          3.974607e+09  \n",
       "1106            4.966091e+10          4.845865e+09  \n",
       "1582            6.409440e+10          6.161598e+08  \n",
       "1587            1.696780e+10          2.136894e+09  "
      ]
     },
     "execution_count": 138,
     "metadata": {},
     "output_type": "execute_result"
    }
   ],
   "source": [
    "dose_light_combined[((dose_light_combined[\"manufacturing_usd_2015\"]+dose_light_combined[\"services_usd_2015\"]+dose_light_combined[\"agriculture_usd_2015\"])/dose_light_combined[\"grp_usd_2015\"])>1.1]"
   ]
  },
  {
   "cell_type": "code",
   "execution_count": 139,
   "metadata": {
    "tags": [
     "rm_cell"
    ]
   },
   "outputs": [
    {
     "data": {
      "text/plain": [
       "<Axes: >"
      ]
     },
     "execution_count": 139,
     "metadata": {},
     "output_type": "execute_result"
    },
    {
     "data": {
      "image/png": "[encoded data removed]",
      "text/plain": [
       "<Figure size 640x480 with 1 Axes>"
      ]
     },
     "metadata": {},
     "output_type": "display_data"
    }
   ],
   "source": [
    "((dose_light_combined[\"grp_usd_2015\"]-dose_light_combined[\"manufacturing_usd_2015\"]-dose_light_combined[\"services_usd_2015\"]-dose_light_combined[\"agriculture_usd_2015\"])/dose_light_combined[\"grp_usd_2015\"]).hist()"
   ]
  },
  {
   "cell_type": "code",
   "execution_count": 140,
   "metadata": {
    "tags": [
     "rm_cell"
    ]
   },
   "outputs": [
    {
     "data": {
      "text/html": [
       "<div>\n",
       "<style scoped>\n",
       "    .dataframe tbody tr th:only-of-type {\n",
       "        vertical-align: middle;\n",
       "    }\n",
       "\n",
       "    .dataframe tbody tr th {\n",
       "        vertical-align: top;\n",
       "    }\n",
       "\n",
       "    .dataframe thead th {\n",
       "        text-align: right;\n",
       "    }\n",
       "</style>\n",
       "<table border=\"1\" class=\"dataframe\">\n",
       "  <thead>\n",
       "    <tr style=\"text-align: right;\">\n",
       "      <th></th>\n",
       "      <th>country</th>\n",
       "      <th>country_code</th>\n",
       "      <th>agriculture_usd_2015</th>\n",
       "      <th>grp_usd_2015</th>\n",
       "      <th>gdp_cap</th>\n",
       "      <th>manufacturing_usd_2015</th>\n",
       "      <th>services_usd_2015</th>\n",
       "    </tr>\n",
       "  </thead>\n",
       "  <tbody>\n",
       "    <tr>\n",
       "      <th>0</th>\n",
       "      <td>Afghanistan</td>\n",
       "      <td>AFG</td>\n",
       "      <td>3.948217e+09</td>\n",
       "      <td>1.913422e+10</td>\n",
       "      <td>566.881130</td>\n",
       "      <td>4.233263e+09</td>\n",
       "      <td>1.018616e+10</td>\n",
       "    </tr>\n",
       "    <tr>\n",
       "      <th>1</th>\n",
       "      <td>Algeria</td>\n",
       "      <td>DZA</td>\n",
       "      <td>1.974833e+10</td>\n",
       "      <td>1.874939e+11</td>\n",
       "      <td>4741.499770</td>\n",
       "      <td>6.141643e+10</td>\n",
       "      <td>9.770374e+10</td>\n",
       "    </tr>\n",
       "    <tr>\n",
       "      <th>2</th>\n",
       "      <td>American Samoa</td>\n",
       "      <td>ASM</td>\n",
       "      <td>NaN</td>\n",
       "      <td>6.730000e+08</td>\n",
       "      <td>13101.541816</td>\n",
       "      <td>NaN</td>\n",
       "      <td>NaN</td>\n",
       "    </tr>\n",
       "  </tbody>\n",
       "</table>\n",
       "</div>"
      ],
      "text/plain": [
       "          country country_code  agriculture_usd_2015  grp_usd_2015  \\\n",
       "0     Afghanistan          AFG          3.948217e+09  1.913422e+10   \n",
       "1         Algeria          DZA          1.974833e+10  1.874939e+11   \n",
       "2  American Samoa          ASM                   NaN  6.730000e+08   \n",
       "\n",
       "        gdp_cap  manufacturing_usd_2015  services_usd_2015  \n",
       "0    566.881130            4.233263e+09       1.018616e+10  \n",
       "1   4741.499770            6.141643e+10       9.770374e+10  \n",
       "2  13101.541816                     NaN                NaN  "
      ]
     },
     "execution_count": 140,
     "metadata": {},
     "output_type": "execute_result"
    }
   ],
   "source": [
    "# dose_light.head(3)\n",
    "wdi_df_var.head(3)"
   ]
  },
  {
   "cell_type": "code",
   "execution_count": 141,
   "metadata": {
    "tags": [
     "rm_cell"
    ]
   },
   "outputs": [
    {
     "data": {
      "text/html": [
       "<div>\n",
       "<style scoped>\n",
       "    .dataframe tbody tr th:only-of-type {\n",
       "        vertical-align: middle;\n",
       "    }\n",
       "\n",
       "    .dataframe tbody tr th {\n",
       "        vertical-align: top;\n",
       "    }\n",
       "\n",
       "    .dataframe thead th {\n",
       "        text-align: right;\n",
       "    }\n",
       "</style>\n",
       "<table border=\"1\" class=\"dataframe\">\n",
       "  <thead>\n",
       "    <tr style=\"text-align: right;\">\n",
       "      <th></th>\n",
       "      <th>country</th>\n",
       "      <th>gid_0</th>\n",
       "      <th>gid_1</th>\n",
       "      <th>grp_usd_2015</th>\n",
       "      <th>services_usd_2015</th>\n",
       "      <th>manufacturing_usd_2015</th>\n",
       "      <th>agriculture_usd_2015</th>\n",
       "    </tr>\n",
       "  </thead>\n",
       "  <tbody>\n",
       "    <tr>\n",
       "      <th>0</th>\n",
       "      <td>Albania</td>\n",
       "      <td>ALB</td>\n",
       "      <td>ALB.1_1</td>\n",
       "      <td>4.341915e+08</td>\n",
       "      <td>2.009631e+08</td>\n",
       "      <td>9.449606e+07</td>\n",
       "      <td>8.588401e+07</td>\n",
       "    </tr>\n",
       "    <tr>\n",
       "      <th>1</th>\n",
       "      <td>Albania</td>\n",
       "      <td>ALB</td>\n",
       "      <td>ALB.2_1</td>\n",
       "      <td>3.719427e+08</td>\n",
       "      <td>1.721516e+08</td>\n",
       "      <td>8.094841e+07</td>\n",
       "      <td>7.357106e+07</td>\n",
       "    </tr>\n",
       "    <tr>\n",
       "      <th>2</th>\n",
       "      <td>Albania</td>\n",
       "      <td>ALB</td>\n",
       "      <td>ALB.3_1</td>\n",
       "      <td>1.113524e+09</td>\n",
       "      <td>5.153885e+08</td>\n",
       "      <td>2.423439e+08</td>\n",
       "      <td>2.202575e+08</td>\n",
       "    </tr>\n",
       "    <tr>\n",
       "      <th>3</th>\n",
       "      <td>Albania</td>\n",
       "      <td>ALB</td>\n",
       "      <td>ALB.4_1</td>\n",
       "      <td>7.954835e+08</td>\n",
       "      <td>3.681851e+08</td>\n",
       "      <td>1.731265e+08</td>\n",
       "      <td>1.573483e+08</td>\n",
       "    </tr>\n",
       "    <tr>\n",
       "      <th>4</th>\n",
       "      <td>Albania</td>\n",
       "      <td>ALB</td>\n",
       "      <td>ALB.5_1</td>\n",
       "      <td>1.345159e+09</td>\n",
       "      <td>6.225993e+08</td>\n",
       "      <td>2.927561e+08</td>\n",
       "      <td>2.660753e+08</td>\n",
       "    </tr>\n",
       "    <tr>\n",
       "      <th>...</th>\n",
       "      <td>...</td>\n",
       "      <td>...</td>\n",
       "      <td>...</td>\n",
       "      <td>...</td>\n",
       "      <td>...</td>\n",
       "      <td>...</td>\n",
       "      <td>...</td>\n",
       "    </tr>\n",
       "    <tr>\n",
       "      <th>1519</th>\n",
       "      <td>Vietnam</td>\n",
       "      <td>VNM</td>\n",
       "      <td>VNM.19_1</td>\n",
       "      <td>2.912262e+09</td>\n",
       "      <td>1.644608e+09</td>\n",
       "      <td>8.937407e+08</td>\n",
       "      <td>5.696491e+07</td>\n",
       "    </tr>\n",
       "    <tr>\n",
       "      <th>1520</th>\n",
       "      <td>Vietnam</td>\n",
       "      <td>VNM</td>\n",
       "      <td>VNM.16_1</td>\n",
       "      <td>9.437463e+08</td>\n",
       "      <td>2.968536e+08</td>\n",
       "      <td>1.331486e+08</td>\n",
       "      <td>4.877044e+08</td>\n",
       "    </tr>\n",
       "    <tr>\n",
       "      <th>1521</th>\n",
       "      <td>Vietnam</td>\n",
       "      <td>VNM</td>\n",
       "      <td>VNM.15_1</td>\n",
       "      <td>2.639374e+09</td>\n",
       "      <td>1.107037e+09</td>\n",
       "      <td>3.491636e+08</td>\n",
       "      <td>1.123582e+09</td>\n",
       "    </tr>\n",
       "    <tr>\n",
       "      <th>1522</th>\n",
       "      <td>Vietnam</td>\n",
       "      <td>VNM</td>\n",
       "      <td>VNM.17_1</td>\n",
       "      <td>1.051774e+10</td>\n",
       "      <td>2.348005e+09</td>\n",
       "      <td>6.212079e+09</td>\n",
       "      <td>1.013385e+09</td>\n",
       "    </tr>\n",
       "    <tr>\n",
       "      <th>1523</th>\n",
       "      <td>Vietnam</td>\n",
       "      <td>VNM</td>\n",
       "      <td>VNM.18_1</td>\n",
       "      <td>2.395983e+09</td>\n",
       "      <td>9.377088e+08</td>\n",
       "      <td>5.723222e+08</td>\n",
       "      <td>9.495074e+08</td>\n",
       "    </tr>\n",
       "  </tbody>\n",
       "</table>\n",
       "<p>1524 rows × 7 columns</p>\n",
       "</div>"
      ],
      "text/plain": [
       "      country gid_0     gid_1  grp_usd_2015  services_usd_2015  \\\n",
       "0     Albania   ALB   ALB.1_1  4.341915e+08       2.009631e+08   \n",
       "1     Albania   ALB   ALB.2_1  3.719427e+08       1.721516e+08   \n",
       "2     Albania   ALB   ALB.3_1  1.113524e+09       5.153885e+08   \n",
       "3     Albania   ALB   ALB.4_1  7.954835e+08       3.681851e+08   \n",
       "4     Albania   ALB   ALB.5_1  1.345159e+09       6.225993e+08   \n",
       "...       ...   ...       ...           ...                ...   \n",
       "1519  Vietnam   VNM  VNM.19_1  2.912262e+09       1.644608e+09   \n",
       "1520  Vietnam   VNM  VNM.16_1  9.437463e+08       2.968536e+08   \n",
       "1521  Vietnam   VNM  VNM.15_1  2.639374e+09       1.107037e+09   \n",
       "1522  Vietnam   VNM  VNM.17_1  1.051774e+10       2.348005e+09   \n",
       "1523  Vietnam   VNM  VNM.18_1  2.395983e+09       9.377088e+08   \n",
       "\n",
       "      manufacturing_usd_2015  agriculture_usd_2015  \n",
       "0               9.449606e+07          8.588401e+07  \n",
       "1               8.094841e+07          7.357106e+07  \n",
       "2               2.423439e+08          2.202575e+08  \n",
       "3               1.731265e+08          1.573483e+08  \n",
       "4               2.927561e+08          2.660753e+08  \n",
       "...                      ...                   ...  \n",
       "1519            8.937407e+08          5.696491e+07  \n",
       "1520            1.331486e+08          4.877044e+08  \n",
       "1521            3.491636e+08          1.123582e+09  \n",
       "1522            6.212079e+09          1.013385e+09  \n",
       "1523            5.723222e+08          9.495074e+08  \n",
       "\n",
       "[1524 rows x 7 columns]"
      ]
     },
     "execution_count": 141,
     "metadata": {},
     "output_type": "execute_result"
    }
   ],
   "source": [
    "dose_light"
   ]
  },
  {
   "cell_type": "code",
   "execution_count": 142,
   "metadata": {
    "tags": [
     "rm_cell"
    ]
   },
   "outputs": [
    {
     "name": "stdout",
     "output_type": "stream",
     "text": [
      "(0, 7)\n"
     ]
    },
    {
     "data": {
      "text/html": [
       "<div>\n",
       "<style scoped>\n",
       "    .dataframe tbody tr th:only-of-type {\n",
       "        vertical-align: middle;\n",
       "    }\n",
       "\n",
       "    .dataframe tbody tr th {\n",
       "        vertical-align: top;\n",
       "    }\n",
       "\n",
       "    .dataframe thead th {\n",
       "        text-align: right;\n",
       "    }\n",
       "</style>\n",
       "<table border=\"1\" class=\"dataframe\">\n",
       "  <thead>\n",
       "    <tr style=\"text-align: right;\">\n",
       "      <th></th>\n",
       "      <th>country</th>\n",
       "      <th>country_code</th>\n",
       "      <th>agriculture_usd_2015</th>\n",
       "      <th>grp_usd_2015</th>\n",
       "      <th>gdp_cap</th>\n",
       "      <th>manufacturing_usd_2015</th>\n",
       "      <th>services_usd_2015</th>\n",
       "    </tr>\n",
       "  </thead>\n",
       "  <tbody>\n",
       "    <tr>\n",
       "      <th>0</th>\n",
       "      <td>Afghanistan</td>\n",
       "      <td>AFG</td>\n",
       "      <td>3.948217e+09</td>\n",
       "      <td>1.913422e+10</td>\n",
       "      <td>566.881130</td>\n",
       "      <td>4.233263e+09</td>\n",
       "      <td>1.018616e+10</td>\n",
       "    </tr>\n",
       "    <tr>\n",
       "      <th>1</th>\n",
       "      <td>Algeria</td>\n",
       "      <td>DZA</td>\n",
       "      <td>1.974833e+10</td>\n",
       "      <td>1.874939e+11</td>\n",
       "      <td>4741.499770</td>\n",
       "      <td>6.141643e+10</td>\n",
       "      <td>9.770374e+10</td>\n",
       "    </tr>\n",
       "    <tr>\n",
       "      <th>2</th>\n",
       "      <td>American Samoa</td>\n",
       "      <td>ASM</td>\n",
       "      <td>NaN</td>\n",
       "      <td>6.730000e+08</td>\n",
       "      <td>13101.541816</td>\n",
       "      <td>NaN</td>\n",
       "      <td>NaN</td>\n",
       "    </tr>\n",
       "    <tr>\n",
       "      <th>3</th>\n",
       "      <td>Andorra</td>\n",
       "      <td>AND</td>\n",
       "      <td>1.432381e+07</td>\n",
       "      <td>2.789881e+09</td>\n",
       "      <td>38885.530322</td>\n",
       "      <td>2.784655e+08</td>\n",
       "      <td>2.194727e+09</td>\n",
       "    </tr>\n",
       "    <tr>\n",
       "      <th>4</th>\n",
       "      <td>Angola</td>\n",
       "      <td>AGO</td>\n",
       "      <td>8.255567e+09</td>\n",
       "      <td>9.049642e+10</td>\n",
       "      <td>3217.339240</td>\n",
       "      <td>3.794795e+10</td>\n",
       "      <td>4.403546e+10</td>\n",
       "    </tr>\n",
       "  </tbody>\n",
       "</table>\n",
       "</div>"
      ],
      "text/plain": [
       "          country country_code  agriculture_usd_2015  grp_usd_2015  \\\n",
       "0     Afghanistan          AFG          3.948217e+09  1.913422e+10   \n",
       "1         Algeria          DZA          1.974833e+10  1.874939e+11   \n",
       "2  American Samoa          ASM                   NaN  6.730000e+08   \n",
       "3         Andorra          AND          1.432381e+07  2.789881e+09   \n",
       "4          Angola          AGO          8.255567e+09  9.049642e+10   \n",
       "\n",
       "        gdp_cap  manufacturing_usd_2015  services_usd_2015  \n",
       "0    566.881130            4.233263e+09       1.018616e+10  \n",
       "1   4741.499770            6.141643e+10       9.770374e+10  \n",
       "2  13101.541816                     NaN                NaN  \n",
       "3  38885.530322            2.784655e+08       2.194727e+09  \n",
       "4   3217.339240            3.794795e+10       4.403546e+10  "
      ]
     },
     "execution_count": 142,
     "metadata": {},
     "output_type": "execute_result"
    }
   ],
   "source": [
    "print(wdi_df_var[wdi_df_var[\"grp_usd_2015\"].isna()].shape)\n",
    "wdi_df_var.reset_index(inplace=True,drop=True)\n",
    "wdi_df_var.head()"
   ]
  },
  {
   "cell_type": "code",
   "execution_count": 143,
   "metadata": {
    "tags": [
     "rm_cell"
    ]
   },
   "outputs": [
    {
     "data": {
      "text/html": [
       "<div>\n",
       "<style scoped>\n",
       "    .dataframe tbody tr th:only-of-type {\n",
       "        vertical-align: middle;\n",
       "    }\n",
       "\n",
       "    .dataframe tbody tr th {\n",
       "        vertical-align: top;\n",
       "    }\n",
       "\n",
       "    .dataframe thead th {\n",
       "        text-align: right;\n",
       "    }\n",
       "</style>\n",
       "<table border=\"1\" class=\"dataframe\">\n",
       "  <thead>\n",
       "    <tr style=\"text-align: right;\">\n",
       "      <th></th>\n",
       "      <th>grp_usd_2015_dose</th>\n",
       "      <th>country</th>\n",
       "      <th>country_code</th>\n",
       "      <th>grp_usd_2015_wdi</th>\n",
       "    </tr>\n",
       "  </thead>\n",
       "  <tbody>\n",
       "    <tr>\n",
       "      <th>0</th>\n",
       "      <td>1.138692e+10</td>\n",
       "      <td>Albania</td>\n",
       "      <td>ALB</td>\n",
       "      <td>1.138685e+10</td>\n",
       "    </tr>\n",
       "    <tr>\n",
       "      <th>1</th>\n",
       "      <td>6.470000e+08</td>\n",
       "      <td>NaN</td>\n",
       "      <td>NaN</td>\n",
       "      <td>NaN</td>\n",
       "    </tr>\n",
       "    <tr>\n",
       "      <th>2</th>\n",
       "      <td>4.105693e+11</td>\n",
       "      <td>Argentina</td>\n",
       "      <td>ARG</td>\n",
       "      <td>5.947493e+11</td>\n",
       "    </tr>\n",
       "    <tr>\n",
       "      <th>3</th>\n",
       "      <td>1.220506e+12</td>\n",
       "      <td>Australia</td>\n",
       "      <td>AUS</td>\n",
       "      <td>1.351769e+12</td>\n",
       "    </tr>\n",
       "    <tr>\n",
       "      <th>4</th>\n",
       "      <td>3.818610e+11</td>\n",
       "      <td>Austria</td>\n",
       "      <td>AUT</td>\n",
       "      <td>3.819711e+11</td>\n",
       "    </tr>\n",
       "    <tr>\n",
       "      <th>...</th>\n",
       "      <td>...</td>\n",
       "      <td>...</td>\n",
       "      <td>...</td>\n",
       "      <td>...</td>\n",
       "    </tr>\n",
       "    <tr>\n",
       "      <th>69</th>\n",
       "      <td>8.502612e+10</td>\n",
       "      <td>Ukraine</td>\n",
       "      <td>UKR</td>\n",
       "      <td>9.103097e+10</td>\n",
       "    </tr>\n",
       "    <tr>\n",
       "      <th>70</th>\n",
       "      <td>1.812635e+13</td>\n",
       "      <td>United States</td>\n",
       "      <td>USA</td>\n",
       "      <td>1.829502e+13</td>\n",
       "    </tr>\n",
       "    <tr>\n",
       "      <th>71</th>\n",
       "      <td>7.408962e+10</td>\n",
       "      <td>Uzbekistan</td>\n",
       "      <td>UZB</td>\n",
       "      <td>8.619626e+10</td>\n",
       "    </tr>\n",
       "    <tr>\n",
       "      <th>72</th>\n",
       "      <td>2.224252e+11</td>\n",
       "      <td>Viet Nam</td>\n",
       "      <td>VNM</td>\n",
       "      <td>2.392583e+11</td>\n",
       "    </tr>\n",
       "    <tr>\n",
       "      <th>73</th>\n",
       "      <td>3.173975e+11</td>\n",
       "      <td>South Africa</td>\n",
       "      <td>ZAF</td>\n",
       "      <td>3.467098e+11</td>\n",
       "    </tr>\n",
       "  </tbody>\n",
       "</table>\n",
       "<p>74 rows × 4 columns</p>\n",
       "</div>"
      ],
      "text/plain": [
       "    grp_usd_2015_dose        country country_code  grp_usd_2015_wdi\n",
       "0        1.138692e+10        Albania          ALB      1.138685e+10\n",
       "1        6.470000e+08            NaN          NaN               NaN\n",
       "2        4.105693e+11      Argentina          ARG      5.947493e+11\n",
       "3        1.220506e+12      Australia          AUS      1.351769e+12\n",
       "4        3.818610e+11        Austria          AUT      3.819711e+11\n",
       "..                ...            ...          ...               ...\n",
       "69       8.502612e+10        Ukraine          UKR      9.103097e+10\n",
       "70       1.812635e+13  United States          USA      1.829502e+13\n",
       "71       7.408962e+10     Uzbekistan          UZB      8.619626e+10\n",
       "72       2.224252e+11       Viet Nam          VNM      2.392583e+11\n",
       "73       3.173975e+11   South Africa          ZAF      3.467098e+11\n",
       "\n",
       "[74 rows x 4 columns]"
      ]
     },
     "execution_count": 143,
     "metadata": {},
     "output_type": "execute_result"
    }
   ],
   "source": [
    "val = (dose_light[[\"gid_0\",\"grp_usd_2015\"]]\n",
    "    .groupby(\"gid_0\").sum()\n",
    "    .merge(wdi_df_full[[\"country\",\"country_code\",\"grp_usd_2015\"]],how=\"left\",left_on=\"gid_0\",right_on=\"country_code\",suffixes=(\"_dose\",\"_wdi\")))\n",
    "val"
   ]
  },
  {
   "cell_type": "code",
   "execution_count": 144,
   "metadata": {
    "tags": [
     "rm_cell"
    ]
   },
   "outputs": [
    {
     "data": {
      "text/plain": [
       "<Axes: >"
      ]
     },
     "execution_count": 144,
     "metadata": {},
     "output_type": "execute_result"
    },
    {
     "data": {
      "image/png": "[encoded data removed]",
      "text/plain": [
       "<Figure size 640x480 with 1 Axes>"
      ]
     },
     "metadata": {},
     "output_type": "display_data"
    }
   ],
   "source": [
    "# The wdi GDP data tends to be greater that the DOSE value which makes some sens as it is supposed to have more sectors. \n",
    "(val[\"grp_usd_2015_wdi\"]-val[\"grp_usd_2015_dose\"]).hist(bins=15) # .apply(np.log1p)"
   ]
  },
  {
   "cell_type": "code",
   "execution_count": 145,
   "metadata": {
    "tags": [
     "rm_cell"
    ]
   },
   "outputs": [
    {
     "data": {
      "text/plain": [
       "<Axes: >"
      ]
     },
     "execution_count": 145,
     "metadata": {},
     "output_type": "execute_result"
    },
    {
     "data": {
      "image/png": "[encoded data removed]",
      "text/plain": [
       "<Figure size 640x480 with 1 Axes>"
      ]
     },
     "metadata": {},
     "output_type": "display_data"
    }
   ],
   "source": [
    "abs_diff = (np.abs(val[\"grp_usd_2015_wdi\"]-val[\"grp_usd_2015_dose\"])/val[\"grp_usd_2015_dose\"])#.isna()#.hist(bins=15)\n",
    "\n",
    "# we aim to cluster all the values close to 0\n",
    "abs_diff.hist(bins=10)"
   ]
  },
  {
   "cell_type": "code",
   "execution_count": 146,
   "metadata": {
    "tags": [
     "rm_cell"
    ]
   },
   "outputs": [
    {
     "data": {
      "text/html": [
       "<div>\n",
       "<style scoped>\n",
       "    .dataframe tbody tr th:only-of-type {\n",
       "        vertical-align: middle;\n",
       "    }\n",
       "\n",
       "    .dataframe tbody tr th {\n",
       "        vertical-align: top;\n",
       "    }\n",
       "\n",
       "    .dataframe thead th {\n",
       "        text-align: right;\n",
       "    }\n",
       "</style>\n",
       "<table border=\"1\" class=\"dataframe\">\n",
       "  <thead>\n",
       "    <tr style=\"text-align: right;\">\n",
       "      <th></th>\n",
       "      <th>grp_usd_2015_dose</th>\n",
       "      <th>country</th>\n",
       "      <th>country_code</th>\n",
       "      <th>grp_usd_2015_wdi</th>\n",
       "    </tr>\n",
       "  </thead>\n",
       "  <tbody>\n",
       "    <tr>\n",
       "      <th>2</th>\n",
       "      <td>4.105693e+11</td>\n",
       "      <td>Argentina</td>\n",
       "      <td>ARG</td>\n",
       "      <td>5.947493e+11</td>\n",
       "    </tr>\n",
       "    <tr>\n",
       "      <th>7</th>\n",
       "      <td>4.370948e+10</td>\n",
       "      <td>Bulgaria</td>\n",
       "      <td>BGR</td>\n",
       "      <td>5.081200e+10</td>\n",
       "    </tr>\n",
       "    <tr>\n",
       "      <th>10</th>\n",
       "      <td>4.164175e+10</td>\n",
       "      <td>Belarus</td>\n",
       "      <td>BLR</td>\n",
       "      <td>5.645489e+10</td>\n",
       "    </tr>\n",
       "    <tr>\n",
       "      <th>17</th>\n",
       "      <td>2.547149e+11</td>\n",
       "      <td>Colombia</td>\n",
       "      <td>COL</td>\n",
       "      <td>2.934924e+11</td>\n",
       "    </tr>\n",
       "    <tr>\n",
       "      <th>20</th>\n",
       "      <td>2.574787e+11</td>\n",
       "      <td>Denmark</td>\n",
       "      <td>DNK</td>\n",
       "      <td>3.026731e+11</td>\n",
       "    </tr>\n",
       "    <tr>\n",
       "      <th>24</th>\n",
       "      <td>1.940502e+10</td>\n",
       "      <td>Estonia</td>\n",
       "      <td>EST</td>\n",
       "      <td>2.289076e+10</td>\n",
       "    </tr>\n",
       "    <tr>\n",
       "      <th>25</th>\n",
       "      <td>1.829793e+11</td>\n",
       "      <td>Finland</td>\n",
       "      <td>FIN</td>\n",
       "      <td>2.345344e+11</td>\n",
       "    </tr>\n",
       "    <tr>\n",
       "      <th>33</th>\n",
       "      <td>1.755689e+12</td>\n",
       "      <td>India</td>\n",
       "      <td>IND</td>\n",
       "      <td>2.103588e+12</td>\n",
       "    </tr>\n",
       "    <tr>\n",
       "      <th>34</th>\n",
       "      <td>1.023588e+11</td>\n",
       "      <td>Ireland</td>\n",
       "      <td>IRL</td>\n",
       "      <td>2.923642e+11</td>\n",
       "    </tr>\n",
       "    <tr>\n",
       "      <th>39</th>\n",
       "      <td>5.831810e+10</td>\n",
       "      <td>Kenya</td>\n",
       "      <td>KEN</td>\n",
       "      <td>7.012045e+10</td>\n",
       "    </tr>\n",
       "    <tr>\n",
       "      <th>51</th>\n",
       "      <td>2.586251e+11</td>\n",
       "      <td>Nigeria</td>\n",
       "      <td>NGA</td>\n",
       "      <td>4.930267e+11</td>\n",
       "    </tr>\n",
       "    <tr>\n",
       "      <th>53</th>\n",
       "      <td>3.256829e+11</td>\n",
       "      <td>Norway</td>\n",
       "      <td>NOR</td>\n",
       "      <td>3.881595e+11</td>\n",
       "    </tr>\n",
       "    <tr>\n",
       "      <th>58</th>\n",
       "      <td>1.526096e+11</td>\n",
       "      <td>Portugal</td>\n",
       "      <td>PRT</td>\n",
       "      <td>1.993941e+11</td>\n",
       "    </tr>\n",
       "    <tr>\n",
       "      <th>59</th>\n",
       "      <td>1.585987e+10</td>\n",
       "      <td>Paraguay</td>\n",
       "      <td>PRY</td>\n",
       "      <td>3.621145e+10</td>\n",
       "    </tr>\n",
       "    <tr>\n",
       "      <th>61</th>\n",
       "      <td>1.072803e+12</td>\n",
       "      <td>Russian Federation</td>\n",
       "      <td>RUS</td>\n",
       "      <td>1.363482e+12</td>\n",
       "    </tr>\n",
       "    <tr>\n",
       "      <th>68</th>\n",
       "      <td>6.083310e+10</td>\n",
       "      <td>Tanzania</td>\n",
       "      <td>TZA</td>\n",
       "      <td>4.741392e+10</td>\n",
       "    </tr>\n",
       "    <tr>\n",
       "      <th>71</th>\n",
       "      <td>7.408962e+10</td>\n",
       "      <td>Uzbekistan</td>\n",
       "      <td>UZB</td>\n",
       "      <td>8.619626e+10</td>\n",
       "    </tr>\n",
       "  </tbody>\n",
       "</table>\n",
       "</div>"
      ],
      "text/plain": [
       "    grp_usd_2015_dose             country country_code  grp_usd_2015_wdi\n",
       "2        4.105693e+11           Argentina          ARG      5.947493e+11\n",
       "7        4.370948e+10            Bulgaria          BGR      5.081200e+10\n",
       "10       4.164175e+10             Belarus          BLR      5.645489e+10\n",
       "17       2.547149e+11            Colombia          COL      2.934924e+11\n",
       "20       2.574787e+11             Denmark          DNK      3.026731e+11\n",
       "24       1.940502e+10             Estonia          EST      2.289076e+10\n",
       "25       1.829793e+11             Finland          FIN      2.345344e+11\n",
       "33       1.755689e+12               India          IND      2.103588e+12\n",
       "34       1.023588e+11             Ireland          IRL      2.923642e+11\n",
       "39       5.831810e+10               Kenya          KEN      7.012045e+10\n",
       "51       2.586251e+11             Nigeria          NGA      4.930267e+11\n",
       "53       3.256829e+11              Norway          NOR      3.881595e+11\n",
       "58       1.526096e+11            Portugal          PRT      1.993941e+11\n",
       "59       1.585987e+10            Paraguay          PRY      3.621145e+10\n",
       "61       1.072803e+12  Russian Federation          RUS      1.363482e+12\n",
       "68       6.083310e+10            Tanzania          TZA      4.741392e+10\n",
       "71       7.408962e+10          Uzbekistan          UZB      8.619626e+10"
      ]
     },
     "execution_count": 146,
     "metadata": {},
     "output_type": "execute_result"
    }
   ],
   "source": [
    "val.loc[(np.abs(val[\"grp_usd_2015_wdi\"]-val[\"grp_usd_2015_dose\"])/val[\"grp_usd_2015_dose\"]) > .15,]"
   ]
  },
  {
   "cell_type": "markdown",
   "metadata": {},
   "source": [
    "## Saving the combined file."
   ]
  },
  {
   "cell_type": "code",
   "execution_count": 147,
   "metadata": {},
   "outputs": [
    {
     "data": {
      "text/plain": [
       "'../datasets/local_data/dose-wdi/0_3/dose_light_combined_2015_0_3.csv'"
      ]
     },
     "execution_count": 147,
     "metadata": {},
     "output_type": "execute_result"
    }
   ],
   "source": [
    "import os\n",
    "\n",
    "version = \"0_3\"\n",
    "\n",
    "dir_name = f\"../datasets/local_data/dose-wdi/\"\n",
    "\n",
    "filename_dose_light = f\"{dir_name}{version}/dose_light_combined_{year}_{version}.csv\"\n",
    "filename_dose_light\n"
   ]
  },
  {
   "cell_type": "code",
   "execution_count": 148,
   "metadata": {},
   "outputs": [
    {
     "name": "stdout",
     "output_type": "stream",
     "text": [
      "Writing file locally to '../datasets/local_data/dose-wdi/0_3/dose_light_combined_2015_0_3.csv'.\n"
     ]
    }
   ],
   "source": [
    "\n",
    "if not os.path.exists(f\"{dir_name}{version}\"):\n",
    "    os.mkdir(f\"{dir_name}{version}\")\n",
    "\n",
    "if os.path.exists(filename_dose_light):\n",
    "    print(Warning(\"File already exists, erase before if you want to regenerate, or update version\"))\n",
    "    # dose_light_combined.to_csv()\n",
    "else: \n",
    "    print(f\"Writing file locally to '{filename_dose_light}'.\")\n",
    "    dose_light_combined.to_csv(filename_dose_light,index=False)"
   ]
  },
  {
   "cell_type": "markdown",
   "metadata": {},
   "source": [
    "### Reading the local file"
   ]
  },
  {
   "cell_type": "code",
   "execution_count": 149,
   "metadata": {
    "tags": [
     "rm_cell"
    ]
   },
   "outputs": [
    {
     "name": "stdout",
     "output_type": "stream",
     "text": [
      "(1652, 7)\n"
     ]
    },
    {
     "data": {
      "text/html": [
       "<div>\n",
       "<style scoped>\n",
       "    .dataframe tbody tr th:only-of-type {\n",
       "        vertical-align: middle;\n",
       "    }\n",
       "\n",
       "    .dataframe tbody tr th {\n",
       "        vertical-align: top;\n",
       "    }\n",
       "\n",
       "    .dataframe thead th {\n",
       "        text-align: right;\n",
       "    }\n",
       "</style>\n",
       "<table border=\"1\" class=\"dataframe\">\n",
       "  <thead>\n",
       "    <tr style=\"text-align: right;\">\n",
       "      <th></th>\n",
       "      <th>country</th>\n",
       "      <th>gid_0</th>\n",
       "      <th>gid_1</th>\n",
       "      <th>grp_usd_2015</th>\n",
       "      <th>services_usd_2015</th>\n",
       "      <th>manufacturing_usd_2015</th>\n",
       "      <th>agriculture_usd_2015</th>\n",
       "    </tr>\n",
       "  </thead>\n",
       "  <tbody>\n",
       "    <tr>\n",
       "      <th>0</th>\n",
       "      <td>Albania</td>\n",
       "      <td>ALB</td>\n",
       "      <td>ALB.1_1</td>\n",
       "      <td>4.341915e+08</td>\n",
       "      <td>2.009631e+08</td>\n",
       "      <td>9.449606e+07</td>\n",
       "      <td>8.588401e+07</td>\n",
       "    </tr>\n",
       "    <tr>\n",
       "      <th>1</th>\n",
       "      <td>Albania</td>\n",
       "      <td>ALB</td>\n",
       "      <td>ALB.2_1</td>\n",
       "      <td>3.719427e+08</td>\n",
       "      <td>1.721516e+08</td>\n",
       "      <td>8.094841e+07</td>\n",
       "      <td>7.357106e+07</td>\n",
       "    </tr>\n",
       "    <tr>\n",
       "      <th>2</th>\n",
       "      <td>Albania</td>\n",
       "      <td>ALB</td>\n",
       "      <td>ALB.3_1</td>\n",
       "      <td>1.113524e+09</td>\n",
       "      <td>5.153885e+08</td>\n",
       "      <td>2.423439e+08</td>\n",
       "      <td>2.202575e+08</td>\n",
       "    </tr>\n",
       "  </tbody>\n",
       "</table>\n",
       "</div>"
      ],
      "text/plain": [
       "   country gid_0    gid_1  grp_usd_2015  services_usd_2015  \\\n",
       "0  Albania   ALB  ALB.1_1  4.341915e+08       2.009631e+08   \n",
       "1  Albania   ALB  ALB.2_1  3.719427e+08       1.721516e+08   \n",
       "2  Albania   ALB  ALB.3_1  1.113524e+09       5.153885e+08   \n",
       "\n",
       "   manufacturing_usd_2015  agriculture_usd_2015  \n",
       "0            9.449606e+07          8.588401e+07  \n",
       "1            8.094841e+07          7.357106e+07  \n",
       "2            2.423439e+08          2.202575e+08  "
      ]
     },
     "execution_count": 149,
     "metadata": {},
     "output_type": "execute_result"
    }
   ],
   "source": [
    "print(dose_light_combined.shape)\n",
    "dose_light_combined.head(3)"
   ]
  },
  {
   "cell_type": "code",
   "execution_count": 150,
   "metadata": {
    "tags": [
     "rm_cell"
    ]
   },
   "outputs": [
    {
     "name": "stdout",
     "output_type": "stream",
     "text": [
      "Reading local file\n"
     ]
    }
   ],
   "source": [
    "if os.path.exists(filename_dose_light):\n",
    "    print(\"Reading local file\")\n",
    "    dose_light_combined = pd.read_csv(filename_dose_light)\n",
    "else :\n",
    "    raise IOError(\"Could not find file.\")"
   ]
  },
  {
   "cell_type": "code",
   "execution_count": 151,
   "metadata": {
    "tags": [
     "rm_cell"
    ]
   },
   "outputs": [
    {
     "data": {
      "text/html": [
       "<div>\n",
       "<style scoped>\n",
       "    .dataframe tbody tr th:only-of-type {\n",
       "        vertical-align: middle;\n",
       "    }\n",
       "\n",
       "    .dataframe tbody tr th {\n",
       "        vertical-align: top;\n",
       "    }\n",
       "\n",
       "    .dataframe thead th {\n",
       "        text-align: right;\n",
       "    }\n",
       "</style>\n",
       "<table border=\"1\" class=\"dataframe\">\n",
       "  <thead>\n",
       "    <tr style=\"text-align: right;\">\n",
       "      <th></th>\n",
       "      <th>country</th>\n",
       "      <th>gid_0</th>\n",
       "      <th>gid_1</th>\n",
       "      <th>grp_usd_2015</th>\n",
       "      <th>services_usd_2015</th>\n",
       "      <th>manufacturing_usd_2015</th>\n",
       "      <th>agriculture_usd_2015</th>\n",
       "    </tr>\n",
       "  </thead>\n",
       "  <tbody>\n",
       "    <tr>\n",
       "      <th>1646</th>\n",
       "      <td>Venezuela, RB</td>\n",
       "      <td>VEN</td>\n",
       "      <td>VEN</td>\n",
       "      <td>3.347510e+11</td>\n",
       "      <td>1.837783e+11</td>\n",
       "      <td>1.352394e+11</td>\n",
       "      <td>1.573330e+10</td>\n",
       "    </tr>\n",
       "  </tbody>\n",
       "</table>\n",
       "</div>"
      ],
      "text/plain": [
       "            country gid_0 gid_1  grp_usd_2015  services_usd_2015  \\\n",
       "1646  Venezuela, RB   VEN   VEN  3.347510e+11       1.837783e+11   \n",
       "\n",
       "      manufacturing_usd_2015  agriculture_usd_2015  \n",
       "1646            1.352394e+11          1.573330e+10  "
      ]
     },
     "execution_count": 151,
     "metadata": {},
     "output_type": "execute_result"
    }
   ],
   "source": [
    "dose_light_combined.loc[dose_light_combined.gid_0==\"VEN\"]"
   ]
  },
  {
   "cell_type": "code",
   "execution_count": 152,
   "metadata": {
    "tags": [
     "rm_cell"
    ]
   },
   "outputs": [
    {
     "data": {
      "text/html": [
       "<div>\n",
       "<style scoped>\n",
       "    .dataframe tbody tr th:only-of-type {\n",
       "        vertical-align: middle;\n",
       "    }\n",
       "\n",
       "    .dataframe tbody tr th {\n",
       "        vertical-align: top;\n",
       "    }\n",
       "\n",
       "    .dataframe thead th {\n",
       "        text-align: right;\n",
       "    }\n",
       "</style>\n",
       "<table border=\"1\" class=\"dataframe\">\n",
       "  <thead>\n",
       "    <tr style=\"text-align: right;\">\n",
       "      <th></th>\n",
       "      <th>country</th>\n",
       "      <th>gid_0</th>\n",
       "      <th>gid_1</th>\n",
       "      <th>grp_usd_2015</th>\n",
       "      <th>services_usd_2015</th>\n",
       "      <th>manufacturing_usd_2015</th>\n",
       "      <th>agriculture_usd_2015</th>\n",
       "    </tr>\n",
       "  </thead>\n",
       "  <tbody>\n",
       "  </tbody>\n",
       "</table>\n",
       "</div>"
      ],
      "text/plain": [
       "Empty DataFrame\n",
       "Columns: [country, gid_0, gid_1, grp_usd_2015, services_usd_2015, manufacturing_usd_2015, agriculture_usd_2015]\n",
       "Index: []"
      ]
     },
     "execution_count": 152,
     "metadata": {},
     "output_type": "execute_result"
    }
   ],
   "source": [
    "dose_light_combined.loc[dose_light_combined[\"grp_usd_2015\"].isna()]"
   ]
  },
  {
   "cell_type": "code",
   "execution_count": 153,
   "metadata": {
    "tags": [
     "rm_cell"
    ]
   },
   "outputs": [
    {
     "data": {
      "text/html": [
       "<div>\n",
       "<style scoped>\n",
       "    .dataframe tbody tr th:only-of-type {\n",
       "        vertical-align: middle;\n",
       "    }\n",
       "\n",
       "    .dataframe tbody tr th {\n",
       "        vertical-align: top;\n",
       "    }\n",
       "\n",
       "    .dataframe thead th {\n",
       "        text-align: right;\n",
       "    }\n",
       "</style>\n",
       "<table border=\"1\" class=\"dataframe\">\n",
       "  <thead>\n",
       "    <tr style=\"text-align: right;\">\n",
       "      <th></th>\n",
       "      <th>country</th>\n",
       "      <th>gid_0</th>\n",
       "      <th>gid_1</th>\n",
       "      <th>grp_usd_2015</th>\n",
       "      <th>services_usd_2015</th>\n",
       "      <th>manufacturing_usd_2015</th>\n",
       "      <th>agriculture_usd_2015</th>\n",
       "    </tr>\n",
       "  </thead>\n",
       "  <tbody>\n",
       "  </tbody>\n",
       "</table>\n",
       "</div>"
      ],
      "text/plain": [
       "Empty DataFrame\n",
       "Columns: [country, gid_0, gid_1, grp_usd_2015, services_usd_2015, manufacturing_usd_2015, agriculture_usd_2015]\n",
       "Index: []"
      ]
     },
     "execution_count": 153,
     "metadata": {},
     "output_type": "execute_result"
    }
   ],
   "source": [
    "dose_light_combined.loc[dose_light_combined[\"gid_1\"].isna()]"
   ]
  },
  {
   "cell_type": "code",
   "execution_count": 154,
   "metadata": {
    "tags": [
     "rm_cell"
    ]
   },
   "outputs": [
    {
     "name": "stdout",
     "output_type": "stream",
     "text": [
      "1.0\n"
     ]
    },
    {
     "data": {
      "text/html": [
       "<div>\n",
       "<style scoped>\n",
       "    .dataframe tbody tr th:only-of-type {\n",
       "        vertical-align: middle;\n",
       "    }\n",
       "\n",
       "    .dataframe tbody tr th {\n",
       "        vertical-align: top;\n",
       "    }\n",
       "\n",
       "    .dataframe thead th {\n",
       "        text-align: right;\n",
       "    }\n",
       "</style>\n",
       "<table border=\"1\" class=\"dataframe\">\n",
       "  <thead>\n",
       "    <tr style=\"text-align: right;\">\n",
       "      <th></th>\n",
       "      <th>country</th>\n",
       "      <th>gid_0</th>\n",
       "      <th>gid_1</th>\n",
       "      <th>grp_usd_2015</th>\n",
       "      <th>services_usd_2015</th>\n",
       "      <th>manufacturing_usd_2015</th>\n",
       "      <th>agriculture_usd_2015</th>\n",
       "    </tr>\n",
       "  </thead>\n",
       "  <tbody>\n",
       "    <tr>\n",
       "      <th>0</th>\n",
       "      <td>Albania</td>\n",
       "      <td>ALB</td>\n",
       "      <td>ALB.1_1</td>\n",
       "      <td>4.341915e+08</td>\n",
       "      <td>2.009631e+08</td>\n",
       "      <td>9.449606e+07</td>\n",
       "      <td>8.588401e+07</td>\n",
       "    </tr>\n",
       "    <tr>\n",
       "      <th>1</th>\n",
       "      <td>Albania</td>\n",
       "      <td>ALB</td>\n",
       "      <td>ALB.2_1</td>\n",
       "      <td>3.719427e+08</td>\n",
       "      <td>1.721516e+08</td>\n",
       "      <td>8.094841e+07</td>\n",
       "      <td>7.357106e+07</td>\n",
       "    </tr>\n",
       "    <tr>\n",
       "      <th>2</th>\n",
       "      <td>Albania</td>\n",
       "      <td>ALB</td>\n",
       "      <td>ALB.3_1</td>\n",
       "      <td>1.113524e+09</td>\n",
       "      <td>5.153885e+08</td>\n",
       "      <td>2.423439e+08</td>\n",
       "      <td>2.202575e+08</td>\n",
       "    </tr>\n",
       "    <tr>\n",
       "      <th>3</th>\n",
       "      <td>Albania</td>\n",
       "      <td>ALB</td>\n",
       "      <td>ALB.4_1</td>\n",
       "      <td>7.954835e+08</td>\n",
       "      <td>3.681851e+08</td>\n",
       "      <td>1.731265e+08</td>\n",
       "      <td>1.573483e+08</td>\n",
       "    </tr>\n",
       "    <tr>\n",
       "      <th>4</th>\n",
       "      <td>Albania</td>\n",
       "      <td>ALB</td>\n",
       "      <td>ALB.5_1</td>\n",
       "      <td>1.345159e+09</td>\n",
       "      <td>6.225993e+08</td>\n",
       "      <td>2.927561e+08</td>\n",
       "      <td>2.660753e+08</td>\n",
       "    </tr>\n",
       "  </tbody>\n",
       "</table>\n",
       "</div>"
      ],
      "text/plain": [
       "   country gid_0    gid_1  grp_usd_2015  services_usd_2015  \\\n",
       "0  Albania   ALB  ALB.1_1  4.341915e+08       2.009631e+08   \n",
       "1  Albania   ALB  ALB.2_1  3.719427e+08       1.721516e+08   \n",
       "2  Albania   ALB  ALB.3_1  1.113524e+09       5.153885e+08   \n",
       "3  Albania   ALB  ALB.4_1  7.954835e+08       3.681851e+08   \n",
       "4  Albania   ALB  ALB.5_1  1.345159e+09       6.225993e+08   \n",
       "\n",
       "   manufacturing_usd_2015  agriculture_usd_2015  \n",
       "0            9.449606e+07          8.588401e+07  \n",
       "1            8.094841e+07          7.357106e+07  \n",
       "2            2.423439e+08          2.202575e+08  \n",
       "3            1.731265e+08          1.573483e+08  \n",
       "4            2.927561e+08          2.660753e+08  "
      ]
     },
     "execution_count": 154,
     "metadata": {},
     "output_type": "execute_result"
    }
   ],
   "source": [
    "print((dose_light_combined.dropna(axis=0,ignore_index=True,subset=[\"grp_usd_2015\"]).shape[0])/dose_light_combined.shape[0])\n",
    "\n",
    "dose_light_combined.dropna(axis=0,ignore_index=True,subset=[\"grp_usd_2015\"]).head(5)"
   ]
  },
  {
   "cell_type": "code",
   "execution_count": 155,
   "metadata": {
    "tags": [
     "rm_cell"
    ]
   },
   "outputs": [
    {
     "data": {
      "text/html": [
       "<div>\n",
       "<style scoped>\n",
       "    .dataframe tbody tr th:only-of-type {\n",
       "        vertical-align: middle;\n",
       "    }\n",
       "\n",
       "    .dataframe tbody tr th {\n",
       "        vertical-align: top;\n",
       "    }\n",
       "\n",
       "    .dataframe thead th {\n",
       "        text-align: right;\n",
       "    }\n",
       "</style>\n",
       "<table border=\"1\" class=\"dataframe\">\n",
       "  <thead>\n",
       "    <tr style=\"text-align: right;\">\n",
       "      <th></th>\n",
       "      <th>country</th>\n",
       "      <th>gid_0</th>\n",
       "      <th>gid_1</th>\n",
       "      <th>grp_usd_2015</th>\n",
       "      <th>services_usd_2015</th>\n",
       "      <th>manufacturing_usd_2015</th>\n",
       "      <th>agriculture_usd_2015</th>\n",
       "    </tr>\n",
       "  </thead>\n",
       "  <tbody>\n",
       "    <tr>\n",
       "      <th>0</th>\n",
       "      <td>Albania</td>\n",
       "      <td>ALB</td>\n",
       "      <td>ALB.1_1</td>\n",
       "      <td>4.341915e+08</td>\n",
       "      <td>2.009631e+08</td>\n",
       "      <td>9.449606e+07</td>\n",
       "      <td>8.588401e+07</td>\n",
       "    </tr>\n",
       "    <tr>\n",
       "      <th>1</th>\n",
       "      <td>Albania</td>\n",
       "      <td>ALB</td>\n",
       "      <td>ALB.2_1</td>\n",
       "      <td>3.719427e+08</td>\n",
       "      <td>1.721516e+08</td>\n",
       "      <td>8.094841e+07</td>\n",
       "      <td>7.357106e+07</td>\n",
       "    </tr>\n",
       "    <tr>\n",
       "      <th>2</th>\n",
       "      <td>Albania</td>\n",
       "      <td>ALB</td>\n",
       "      <td>ALB.3_1</td>\n",
       "      <td>1.113524e+09</td>\n",
       "      <td>5.153885e+08</td>\n",
       "      <td>2.423439e+08</td>\n",
       "      <td>2.202575e+08</td>\n",
       "    </tr>\n",
       "    <tr>\n",
       "      <th>3</th>\n",
       "      <td>Albania</td>\n",
       "      <td>ALB</td>\n",
       "      <td>ALB.4_1</td>\n",
       "      <td>7.954835e+08</td>\n",
       "      <td>3.681851e+08</td>\n",
       "      <td>1.731265e+08</td>\n",
       "      <td>1.573483e+08</td>\n",
       "    </tr>\n",
       "    <tr>\n",
       "      <th>4</th>\n",
       "      <td>Albania</td>\n",
       "      <td>ALB</td>\n",
       "      <td>ALB.5_1</td>\n",
       "      <td>1.345159e+09</td>\n",
       "      <td>6.225993e+08</td>\n",
       "      <td>2.927561e+08</td>\n",
       "      <td>2.660753e+08</td>\n",
       "    </tr>\n",
       "    <tr>\n",
       "      <th>...</th>\n",
       "      <td>...</td>\n",
       "      <td>...</td>\n",
       "      <td>...</td>\n",
       "      <td>...</td>\n",
       "      <td>...</td>\n",
       "      <td>...</td>\n",
       "      <td>...</td>\n",
       "    </tr>\n",
       "    <tr>\n",
       "      <th>1637</th>\n",
       "      <td>Venezuela, RB</td>\n",
       "      <td>VEN</td>\n",
       "      <td>VEN</td>\n",
       "      <td>3.347510e+11</td>\n",
       "      <td>1.837783e+11</td>\n",
       "      <td>1.352394e+11</td>\n",
       "      <td>1.573330e+10</td>\n",
       "    </tr>\n",
       "    <tr>\n",
       "      <th>1638</th>\n",
       "      <td>West Bank and Gaza</td>\n",
       "      <td>PSE</td>\n",
       "      <td>PSE</td>\n",
       "      <td>1.397240e+10</td>\n",
       "      <td>8.618600e+09</td>\n",
       "      <td>2.295000e+09</td>\n",
       "      <td>1.035200e+09</td>\n",
       "    </tr>\n",
       "    <tr>\n",
       "      <th>1639</th>\n",
       "      <td>Yemen, Rep.</td>\n",
       "      <td>YEM</td>\n",
       "      <td>YEM</td>\n",
       "      <td>4.244449e+10</td>\n",
       "      <td>1.779608e+10</td>\n",
       "      <td>1.437432e+10</td>\n",
       "      <td>8.576307e+09</td>\n",
       "    </tr>\n",
       "    <tr>\n",
       "      <th>1640</th>\n",
       "      <td>Zambia</td>\n",
       "      <td>ZMB</td>\n",
       "      <td>ZMB</td>\n",
       "      <td>2.125122e+10</td>\n",
       "      <td>1.194752e+10</td>\n",
       "      <td>7.152575e+09</td>\n",
       "      <td>1.058488e+09</td>\n",
       "    </tr>\n",
       "    <tr>\n",
       "      <th>1641</th>\n",
       "      <td>Zimbabwe</td>\n",
       "      <td>ZWE</td>\n",
       "      <td>ZWE</td>\n",
       "      <td>1.996312e+10</td>\n",
       "      <td>1.170858e+10</td>\n",
       "      <td>4.463433e+09</td>\n",
       "      <td>1.653794e+09</td>\n",
       "    </tr>\n",
       "  </tbody>\n",
       "</table>\n",
       "<p>1642 rows × 7 columns</p>\n",
       "</div>"
      ],
      "text/plain": [
       "                 country gid_0    gid_1  grp_usd_2015  services_usd_2015  \\\n",
       "0                Albania   ALB  ALB.1_1  4.341915e+08       2.009631e+08   \n",
       "1                Albania   ALB  ALB.2_1  3.719427e+08       1.721516e+08   \n",
       "2                Albania   ALB  ALB.3_1  1.113524e+09       5.153885e+08   \n",
       "3                Albania   ALB  ALB.4_1  7.954835e+08       3.681851e+08   \n",
       "4                Albania   ALB  ALB.5_1  1.345159e+09       6.225993e+08   \n",
       "...                  ...   ...      ...           ...                ...   \n",
       "1637       Venezuela, RB   VEN      VEN  3.347510e+11       1.837783e+11   \n",
       "1638  West Bank and Gaza   PSE      PSE  1.397240e+10       8.618600e+09   \n",
       "1639         Yemen, Rep.   YEM      YEM  4.244449e+10       1.779608e+10   \n",
       "1640              Zambia   ZMB      ZMB  2.125122e+10       1.194752e+10   \n",
       "1641            Zimbabwe   ZWE      ZWE  1.996312e+10       1.170858e+10   \n",
       "\n",
       "      manufacturing_usd_2015  agriculture_usd_2015  \n",
       "0               9.449606e+07          8.588401e+07  \n",
       "1               8.094841e+07          7.357106e+07  \n",
       "2               2.423439e+08          2.202575e+08  \n",
       "3               1.731265e+08          1.573483e+08  \n",
       "4               2.927561e+08          2.660753e+08  \n",
       "...                      ...                   ...  \n",
       "1637            1.352394e+11          1.573330e+10  \n",
       "1638            2.295000e+09          1.035200e+09  \n",
       "1639            1.437432e+10          8.576307e+09  \n",
       "1640            7.152575e+09          1.058488e+09  \n",
       "1641            4.463433e+09          1.653794e+09  \n",
       "\n",
       "[1642 rows x 7 columns]"
      ]
     },
     "execution_count": 155,
     "metadata": {},
     "output_type": "execute_result"
    }
   ],
   "source": [
    "dose_light_combined.dropna(axis=0,ignore_index=True,subset=[\"services_usd_2015\"])"
   ]
  },
  {
   "cell_type": "code",
   "execution_count": 156,
   "metadata": {
    "tags": [
     "rm_cell"
    ]
   },
   "outputs": [
    {
     "data": {
      "text/html": [
       "<div>\n",
       "<style scoped>\n",
       "    .dataframe tbody tr th:only-of-type {\n",
       "        vertical-align: middle;\n",
       "    }\n",
       "\n",
       "    .dataframe tbody tr th {\n",
       "        vertical-align: top;\n",
       "    }\n",
       "\n",
       "    .dataframe thead th {\n",
       "        text-align: right;\n",
       "    }\n",
       "</style>\n",
       "<table border=\"1\" class=\"dataframe\">\n",
       "  <thead>\n",
       "    <tr style=\"text-align: right;\">\n",
       "      <th></th>\n",
       "      <th>country</th>\n",
       "      <th>gid_0</th>\n",
       "      <th>gid_1</th>\n",
       "      <th>grp_usd_2015</th>\n",
       "      <th>services_usd_2015</th>\n",
       "      <th>manufacturing_usd_2015</th>\n",
       "      <th>agriculture_usd_2015</th>\n",
       "    </tr>\n",
       "  </thead>\n",
       "  <tbody>\n",
       "    <tr>\n",
       "      <th>0</th>\n",
       "      <td>Albania</td>\n",
       "      <td>ALB</td>\n",
       "      <td>ALB.1_1</td>\n",
       "      <td>4.341915e+08</td>\n",
       "      <td>2.009631e+08</td>\n",
       "      <td>9.449606e+07</td>\n",
       "      <td>8.588401e+07</td>\n",
       "    </tr>\n",
       "    <tr>\n",
       "      <th>1</th>\n",
       "      <td>Albania</td>\n",
       "      <td>ALB</td>\n",
       "      <td>ALB.2_1</td>\n",
       "      <td>3.719427e+08</td>\n",
       "      <td>1.721516e+08</td>\n",
       "      <td>8.094841e+07</td>\n",
       "      <td>7.357106e+07</td>\n",
       "    </tr>\n",
       "    <tr>\n",
       "      <th>2</th>\n",
       "      <td>Albania</td>\n",
       "      <td>ALB</td>\n",
       "      <td>ALB.3_1</td>\n",
       "      <td>1.113524e+09</td>\n",
       "      <td>5.153885e+08</td>\n",
       "      <td>2.423439e+08</td>\n",
       "      <td>2.202575e+08</td>\n",
       "    </tr>\n",
       "    <tr>\n",
       "      <th>3</th>\n",
       "      <td>Albania</td>\n",
       "      <td>ALB</td>\n",
       "      <td>ALB.4_1</td>\n",
       "      <td>7.954835e+08</td>\n",
       "      <td>3.681851e+08</td>\n",
       "      <td>1.731265e+08</td>\n",
       "      <td>1.573483e+08</td>\n",
       "    </tr>\n",
       "    <tr>\n",
       "      <th>4</th>\n",
       "      <td>Albania</td>\n",
       "      <td>ALB</td>\n",
       "      <td>ALB.5_1</td>\n",
       "      <td>1.345159e+09</td>\n",
       "      <td>6.225993e+08</td>\n",
       "      <td>2.927561e+08</td>\n",
       "      <td>2.660753e+08</td>\n",
       "    </tr>\n",
       "    <tr>\n",
       "      <th>...</th>\n",
       "      <td>...</td>\n",
       "      <td>...</td>\n",
       "      <td>...</td>\n",
       "      <td>...</td>\n",
       "      <td>...</td>\n",
       "      <td>...</td>\n",
       "      <td>...</td>\n",
       "    </tr>\n",
       "    <tr>\n",
       "      <th>1638</th>\n",
       "      <td>Venezuela, RB</td>\n",
       "      <td>VEN</td>\n",
       "      <td>VEN</td>\n",
       "      <td>3.347510e+11</td>\n",
       "      <td>1.837783e+11</td>\n",
       "      <td>1.352394e+11</td>\n",
       "      <td>1.573330e+10</td>\n",
       "    </tr>\n",
       "    <tr>\n",
       "      <th>1639</th>\n",
       "      <td>West Bank and Gaza</td>\n",
       "      <td>PSE</td>\n",
       "      <td>PSE</td>\n",
       "      <td>1.397240e+10</td>\n",
       "      <td>8.618600e+09</td>\n",
       "      <td>2.295000e+09</td>\n",
       "      <td>1.035200e+09</td>\n",
       "    </tr>\n",
       "    <tr>\n",
       "      <th>1640</th>\n",
       "      <td>Yemen, Rep.</td>\n",
       "      <td>YEM</td>\n",
       "      <td>YEM</td>\n",
       "      <td>4.244449e+10</td>\n",
       "      <td>1.779608e+10</td>\n",
       "      <td>1.437432e+10</td>\n",
       "      <td>8.576307e+09</td>\n",
       "    </tr>\n",
       "    <tr>\n",
       "      <th>1641</th>\n",
       "      <td>Zambia</td>\n",
       "      <td>ZMB</td>\n",
       "      <td>ZMB</td>\n",
       "      <td>2.125122e+10</td>\n",
       "      <td>1.194752e+10</td>\n",
       "      <td>7.152575e+09</td>\n",
       "      <td>1.058488e+09</td>\n",
       "    </tr>\n",
       "    <tr>\n",
       "      <th>1642</th>\n",
       "      <td>Zimbabwe</td>\n",
       "      <td>ZWE</td>\n",
       "      <td>ZWE</td>\n",
       "      <td>1.996312e+10</td>\n",
       "      <td>1.170858e+10</td>\n",
       "      <td>4.463433e+09</td>\n",
       "      <td>1.653794e+09</td>\n",
       "    </tr>\n",
       "  </tbody>\n",
       "</table>\n",
       "<p>1643 rows × 7 columns</p>\n",
       "</div>"
      ],
      "text/plain": [
       "                 country gid_0    gid_1  grp_usd_2015  services_usd_2015  \\\n",
       "0                Albania   ALB  ALB.1_1  4.341915e+08       2.009631e+08   \n",
       "1                Albania   ALB  ALB.2_1  3.719427e+08       1.721516e+08   \n",
       "2                Albania   ALB  ALB.3_1  1.113524e+09       5.153885e+08   \n",
       "3                Albania   ALB  ALB.4_1  7.954835e+08       3.681851e+08   \n",
       "4                Albania   ALB  ALB.5_1  1.345159e+09       6.225993e+08   \n",
       "...                  ...   ...      ...           ...                ...   \n",
       "1638       Venezuela, RB   VEN      VEN  3.347510e+11       1.837783e+11   \n",
       "1639  West Bank and Gaza   PSE      PSE  1.397240e+10       8.618600e+09   \n",
       "1640         Yemen, Rep.   YEM      YEM  4.244449e+10       1.779608e+10   \n",
       "1641              Zambia   ZMB      ZMB  2.125122e+10       1.194752e+10   \n",
       "1642            Zimbabwe   ZWE      ZWE  1.996312e+10       1.170858e+10   \n",
       "\n",
       "      manufacturing_usd_2015  agriculture_usd_2015  \n",
       "0               9.449606e+07          8.588401e+07  \n",
       "1               8.094841e+07          7.357106e+07  \n",
       "2               2.423439e+08          2.202575e+08  \n",
       "3               1.731265e+08          1.573483e+08  \n",
       "4               2.927561e+08          2.660753e+08  \n",
       "...                      ...                   ...  \n",
       "1638            1.352394e+11          1.573330e+10  \n",
       "1639            2.295000e+09          1.035200e+09  \n",
       "1640            1.437432e+10          8.576307e+09  \n",
       "1641            7.152575e+09          1.058488e+09  \n",
       "1642            4.463433e+09          1.653794e+09  \n",
       "\n",
       "[1643 rows x 7 columns]"
      ]
     },
     "execution_count": 156,
     "metadata": {},
     "output_type": "execute_result"
    }
   ],
   "source": [
    "dose_light_combined.dropna(axis=0,ignore_index=True,subset=[\"manufacturing_usd_2015\"])"
   ]
  },
  {
   "cell_type": "code",
   "execution_count": 157,
   "metadata": {
    "tags": [
     "rm_cell"
    ]
   },
   "outputs": [
    {
     "data": {
      "text/html": [
       "<div>\n",
       "<style scoped>\n",
       "    .dataframe tbody tr th:only-of-type {\n",
       "        vertical-align: middle;\n",
       "    }\n",
       "\n",
       "    .dataframe tbody tr th {\n",
       "        vertical-align: top;\n",
       "    }\n",
       "\n",
       "    .dataframe thead th {\n",
       "        text-align: right;\n",
       "    }\n",
       "</style>\n",
       "<table border=\"1\" class=\"dataframe\">\n",
       "  <thead>\n",
       "    <tr style=\"text-align: right;\">\n",
       "      <th></th>\n",
       "      <th>country</th>\n",
       "      <th>gid_0</th>\n",
       "      <th>gid_1</th>\n",
       "      <th>grp_usd_2015</th>\n",
       "      <th>services_usd_2015</th>\n",
       "      <th>manufacturing_usd_2015</th>\n",
       "      <th>agriculture_usd_2015</th>\n",
       "    </tr>\n",
       "  </thead>\n",
       "  <tbody>\n",
       "    <tr>\n",
       "      <th>0</th>\n",
       "      <td>Albania</td>\n",
       "      <td>ALB</td>\n",
       "      <td>ALB.1_1</td>\n",
       "      <td>4.341915e+08</td>\n",
       "      <td>2.009631e+08</td>\n",
       "      <td>9.449606e+07</td>\n",
       "      <td>8.588401e+07</td>\n",
       "    </tr>\n",
       "    <tr>\n",
       "      <th>1</th>\n",
       "      <td>Albania</td>\n",
       "      <td>ALB</td>\n",
       "      <td>ALB.2_1</td>\n",
       "      <td>3.719427e+08</td>\n",
       "      <td>1.721516e+08</td>\n",
       "      <td>8.094841e+07</td>\n",
       "      <td>7.357106e+07</td>\n",
       "    </tr>\n",
       "    <tr>\n",
       "      <th>2</th>\n",
       "      <td>Albania</td>\n",
       "      <td>ALB</td>\n",
       "      <td>ALB.3_1</td>\n",
       "      <td>1.113524e+09</td>\n",
       "      <td>5.153885e+08</td>\n",
       "      <td>2.423439e+08</td>\n",
       "      <td>2.202575e+08</td>\n",
       "    </tr>\n",
       "    <tr>\n",
       "      <th>3</th>\n",
       "      <td>Albania</td>\n",
       "      <td>ALB</td>\n",
       "      <td>ALB.4_1</td>\n",
       "      <td>7.954835e+08</td>\n",
       "      <td>3.681851e+08</td>\n",
       "      <td>1.731265e+08</td>\n",
       "      <td>1.573483e+08</td>\n",
       "    </tr>\n",
       "    <tr>\n",
       "      <th>4</th>\n",
       "      <td>Albania</td>\n",
       "      <td>ALB</td>\n",
       "      <td>ALB.5_1</td>\n",
       "      <td>1.345159e+09</td>\n",
       "      <td>6.225993e+08</td>\n",
       "      <td>2.927561e+08</td>\n",
       "      <td>2.660753e+08</td>\n",
       "    </tr>\n",
       "    <tr>\n",
       "      <th>...</th>\n",
       "      <td>...</td>\n",
       "      <td>...</td>\n",
       "      <td>...</td>\n",
       "      <td>...</td>\n",
       "      <td>...</td>\n",
       "      <td>...</td>\n",
       "      <td>...</td>\n",
       "    </tr>\n",
       "    <tr>\n",
       "      <th>1637</th>\n",
       "      <td>Venezuela, RB</td>\n",
       "      <td>VEN</td>\n",
       "      <td>VEN</td>\n",
       "      <td>3.347510e+11</td>\n",
       "      <td>1.837783e+11</td>\n",
       "      <td>1.352394e+11</td>\n",
       "      <td>1.573330e+10</td>\n",
       "    </tr>\n",
       "    <tr>\n",
       "      <th>1638</th>\n",
       "      <td>West Bank and Gaza</td>\n",
       "      <td>PSE</td>\n",
       "      <td>PSE</td>\n",
       "      <td>1.397240e+10</td>\n",
       "      <td>8.618600e+09</td>\n",
       "      <td>2.295000e+09</td>\n",
       "      <td>1.035200e+09</td>\n",
       "    </tr>\n",
       "    <tr>\n",
       "      <th>1639</th>\n",
       "      <td>Yemen, Rep.</td>\n",
       "      <td>YEM</td>\n",
       "      <td>YEM</td>\n",
       "      <td>4.244449e+10</td>\n",
       "      <td>1.779608e+10</td>\n",
       "      <td>1.437432e+10</td>\n",
       "      <td>8.576307e+09</td>\n",
       "    </tr>\n",
       "    <tr>\n",
       "      <th>1640</th>\n",
       "      <td>Zambia</td>\n",
       "      <td>ZMB</td>\n",
       "      <td>ZMB</td>\n",
       "      <td>2.125122e+10</td>\n",
       "      <td>1.194752e+10</td>\n",
       "      <td>7.152575e+09</td>\n",
       "      <td>1.058488e+09</td>\n",
       "    </tr>\n",
       "    <tr>\n",
       "      <th>1641</th>\n",
       "      <td>Zimbabwe</td>\n",
       "      <td>ZWE</td>\n",
       "      <td>ZWE</td>\n",
       "      <td>1.996312e+10</td>\n",
       "      <td>1.170858e+10</td>\n",
       "      <td>4.463433e+09</td>\n",
       "      <td>1.653794e+09</td>\n",
       "    </tr>\n",
       "  </tbody>\n",
       "</table>\n",
       "<p>1642 rows × 7 columns</p>\n",
       "</div>"
      ],
      "text/plain": [
       "                 country gid_0    gid_1  grp_usd_2015  services_usd_2015  \\\n",
       "0                Albania   ALB  ALB.1_1  4.341915e+08       2.009631e+08   \n",
       "1                Albania   ALB  ALB.2_1  3.719427e+08       1.721516e+08   \n",
       "2                Albania   ALB  ALB.3_1  1.113524e+09       5.153885e+08   \n",
       "3                Albania   ALB  ALB.4_1  7.954835e+08       3.681851e+08   \n",
       "4                Albania   ALB  ALB.5_1  1.345159e+09       6.225993e+08   \n",
       "...                  ...   ...      ...           ...                ...   \n",
       "1637       Venezuela, RB   VEN      VEN  3.347510e+11       1.837783e+11   \n",
       "1638  West Bank and Gaza   PSE      PSE  1.397240e+10       8.618600e+09   \n",
       "1639         Yemen, Rep.   YEM      YEM  4.244449e+10       1.779608e+10   \n",
       "1640              Zambia   ZMB      ZMB  2.125122e+10       1.194752e+10   \n",
       "1641            Zimbabwe   ZWE      ZWE  1.996312e+10       1.170858e+10   \n",
       "\n",
       "      manufacturing_usd_2015  agriculture_usd_2015  \n",
       "0               9.449606e+07          8.588401e+07  \n",
       "1               8.094841e+07          7.357106e+07  \n",
       "2               2.423439e+08          2.202575e+08  \n",
       "3               1.731265e+08          1.573483e+08  \n",
       "4               2.927561e+08          2.660753e+08  \n",
       "...                      ...                   ...  \n",
       "1637            1.352394e+11          1.573330e+10  \n",
       "1638            2.295000e+09          1.035200e+09  \n",
       "1639            1.437432e+10          8.576307e+09  \n",
       "1640            7.152575e+09          1.058488e+09  \n",
       "1641            4.463433e+09          1.653794e+09  \n",
       "\n",
       "[1642 rows x 7 columns]"
      ]
     },
     "execution_count": 157,
     "metadata": {},
     "output_type": "execute_result"
    }
   ],
   "source": [
    "dose_light_combined.dropna(axis=0,ignore_index=True,subset=[\"agriculture_usd_2015\"])"
   ]
  },
  {
   "cell_type": "markdown",
   "metadata": {},
   "source": [
    "### Checking if things add up"
   ]
  },
  {
   "cell_type": "code",
   "execution_count": 158,
   "metadata": {
    "tags": [
     "rm_cell"
    ]
   },
   "outputs": [
    {
     "data": {
      "text/plain": [
       "<Axes: >"
      ]
     },
     "execution_count": 158,
     "metadata": {},
     "output_type": "execute_result"
    },
    {
     "data": {
      "image/png": "[encoded data removed]",
      "text/plain": [
       "<Figure size 640x480 with 1 Axes>"
      ]
     },
     "metadata": {},
     "output_type": "display_data"
    }
   ],
   "source": [
    "((dose_light_combined[\"grp_usd_2015\"]-dose_light_combined[\"manufacturing_usd_2015\"]-dose_light_combined[\"services_usd_2015\"]-dose_light_combined[\"agriculture_usd_2015\"])/dose_light_combined[\"grp_usd_2015\"]).hist()"
   ]
  },
  {
   "cell_type": "markdown",
   "metadata": {},
   "source": [
    "## H3 with duckdb\n",
    "\n",
    "testing the duckdb h3 extension to potentially transfer all the projection on the db side for better performance."
   ]
  },
  {
   "cell_type": "code",
   "execution_count": 159,
   "metadata": {
    "tags": [
     "rm_cell"
    ]
   },
   "outputs": [
    {
     "data": {
      "text/html": [
       "<div>\n",
       "<style scoped>\n",
       "    .dataframe tbody tr th:only-of-type {\n",
       "        vertical-align: middle;\n",
       "    }\n",
       "\n",
       "    .dataframe tbody tr th {\n",
       "        vertical-align: top;\n",
       "    }\n",
       "\n",
       "    .dataframe thead th {\n",
       "        text-align: right;\n",
       "    }\n",
       "</style>\n",
       "<table border=\"1\" class=\"dataframe\">\n",
       "  <thead>\n",
       "    <tr style=\"text-align: right;\">\n",
       "      <th></th>\n",
       "      <th>Success</th>\n",
       "    </tr>\n",
       "  </thead>\n",
       "  <tbody>\n",
       "  </tbody>\n",
       "</table>\n",
       "</div>"
      ],
      "text/plain": [
       "Empty DataFrame\n",
       "Columns: [Success]\n",
       "Index: []"
      ]
     },
     "execution_count": 159,
     "metadata": {},
     "output_type": "execute_result"
    }
   ],
   "source": [
    "res = conn.raw_sql(\"\"\"INSTALL h3 FROM community;\n",
    "                   LOAD h3;\"\"\").df()\n",
    "\n",
    "res"
   ]
  },
  {
   "cell_type": "code",
   "execution_count": 160,
   "metadata": {},
   "outputs": [
    {
     "data": {
      "text/html": [
       "<pre style=\"white-space:pre;overflow-x:auto;line-height:normal;font-family:Menlo,'DejaVu Sans Mono',consolas,'Courier New',monospace\">┏━━━━━━━━━━━━━━━━━━━━━━━━━━━━━━━━━━━━━━━━━━━━━━━━━━━━━━━━━━━━━━━━━━━━━━━━━━━━━━━━━━┓\n",
       "┃<span style=\"font-weight: bold\"> h3_cell_to_boundary_wkt('822d57fffffffff')                                       </span>┃\n",
       "┡━━━━━━━━━━━━━━━━━━━━━━━━━━━━━━━━━━━━━━━━━━━━━━━━━━━━━━━━━━━━━━━━━━━━━━━━━━━━━━━━━━┩\n",
       "│ <span style=\"color: #7f7f7f; text-decoration-color: #7f7f7f\">string</span>                                                                           │\n",
       "├──────────────────────────────────────────────────────────────────────────────────┤\n",
       "│ <span style=\"color: #008000; text-decoration-color: #008000\">POLYGON ((38.777546 44.198571, 39.938746 42.736298, 42.150674 42.631271, 43.258…</span> │\n",
       "└──────────────────────────────────────────────────────────────────────────────────┘\n",
       "</pre>\n"
      ],
      "text/plain": [
       "┏━━━━━━━━━━━━━━━━━━━━━━━━━━━━━━━━━━━━━━━━━━━━━━━━━━━━━━━━━━━━━━━━━━━━━━━━━━━━━━━━━━┓\n",
       "┃\u001b[1m \u001b[0m\u001b[1mh3_cell_to_boundary_wkt('822d57fffffffff')\u001b[0m\u001b[1m                                      \u001b[0m\u001b[1m \u001b[0m┃\n",
       "┡━━━━━━━━━━━━━━━━━━━━━━━━━━━━━━━━━━━━━━━━━━━━━━━━━━━━━━━━━━━━━━━━━━━━━━━━━━━━━━━━━━┩\n",
       "│ \u001b[2mstring\u001b[0m                                                                           │\n",
       "├──────────────────────────────────────────────────────────────────────────────────┤\n",
       "│ \u001b[32mPOLYGON ((38.777546 44.198571, 39.938746 42.736298, 42.150674 42.631271, 43.258…\u001b[0m │\n",
       "└──────────────────────────────────────────────────────────────────────────────────┘"
      ]
     },
     "execution_count": 160,
     "metadata": {},
     "output_type": "execute_result"
    }
   ],
   "source": [
    "\n",
    "conn.sql(\"SELECT h3_cell_to_latlng('822d57fffffffff');\")\n",
    "\n",
    "conn.sql(\"SELECT h3_cell_to_boundary_wkt('822d57fffffffff');\")"
   ]
  },
  {
   "cell_type": "code",
   "execution_count": 7,
   "metadata": {
    "tags": [
     "rm_cell"
    ]
   },
   "outputs": [
    {
     "name": "stdout",
     "output_type": "stream",
     "text": [
      "[NbConvertApp] Converting notebook missing_countries.ipynb to python\n",
      "[NbConvertApp] Writing 26855 bytes to missing_countries.py\n"
     ]
    }
   ],
   "source": [
    "! jupyter nbconvert missing_countries.ipynb --TagRemovePreprocessor.enabled=True --TagRemovePreprocessor.remove_cell_tags rm_cell --to python\n"
   ]
  }
 ],
 "metadata": {
  "kernelspec": {
   "display_name": "Python 3",
   "language": "python",
   "name": "python3"
  },
  "language_info": {
   "codemirror_mode": {
    "name": "ipython",
    "version": 3
   },
   "file_extension": ".py",
   "mimetype": "text/x-python",
   "name": "python",
   "nbconvert_exporter": "python",
   "pygments_lexer": "ipython3",
   "version": "3.12.5"
  }
 },
 "nbformat": 4,
 "nbformat_minor": 2
}
