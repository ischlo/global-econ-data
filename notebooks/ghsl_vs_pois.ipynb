{
 "cells": [
  {
   "cell_type": "markdown",
   "metadata": {},
   "source": [
    "# Comparing GHSL and POI data sources"
   ]
  },
  {
   "cell_type": "code",
   "execution_count": 1,
   "metadata": {},
   "outputs": [],
   "source": [
    "# data\n",
    "import matplotlib.pyplot as plt\n",
    "\n",
    "import scalenav.oop as snoo\n",
    "\n",
    "import ibis as ib\n",
    "from ibis import _\n",
    "import ibis.selectors as s\n",
    "\n",
    "ib.options.interactive = True\n",
    "ib.options.graphviz_repr = True"
   ]
  },
  {
   "cell_type": "markdown",
   "metadata": {},
   "source": [
    "## Parameters "
   ]
  },
  {
   "cell_type": "code",
   "execution_count": 2,
   "metadata": {},
   "outputs": [],
   "source": [
    "from parameters import *"
   ]
  },
  {
   "cell_type": "markdown",
   "metadata": {},
   "source": [
    "## Analysis"
   ]
  },
  {
   "cell_type": "code",
   "execution_count": 3,
   "metadata": {},
   "outputs": [
    {
     "name": "stdout",
     "output_type": "stream",
     "text": [
      "Connecting to a temporary in-memory DB instance.\n"
     ]
    }
   ],
   "source": [
    "# the spatial extension\n",
    "# https://duckdb.org/docs/extensions/spatial/functions\n",
    "\n",
    "# the h3 extension in duckdb\n",
    "# https://github.com/isaacbrodsky/h3-duckdb?tab=readme-ov-file\n",
    "\n",
    "conn = snoo.sn_connect(interactive=True)"
   ]
  },
  {
   "cell_type": "code",
   "execution_count": 4,
   "metadata": {},
   "outputs": [],
   "source": [
    "## Aggregation resolution\n",
    "agg_res = 6"
   ]
  },
  {
   "cell_type": "markdown",
   "metadata": {},
   "source": [
    "## Reading processed and aggregated files "
   ]
  },
  {
   "cell_type": "code",
   "execution_count": 5,
   "metadata": {},
   "outputs": [],
   "source": [
    "try:\n",
    "    ghsl = (conn\n",
    "            .read_parquet(f\"../datasets/JRC/processed/aggregated/S_NRES_10_res_{agg_res}.parquet\")\n",
    "            .cast({\"band_var\" : \"int32\"}))\n",
    "except: \n",
    "    raise IOError(\"This aggregated file does not exist\")"
   ]
  },
  {
   "cell_type": "code",
   "execution_count": 6,
   "metadata": {},
   "outputs": [],
   "source": [
    "# foursqure\n",
    "fsq_processed_file = \"../datasets/foursquare/processed/places.parquet\"\n",
    "fsq_pois_ = conn.read_parquet(fsq_processed_file)\n",
    "\n",
    "# overture \n",
    "ov_processed_filename=\"../datasets/overture/processed/places_landuses.parquet\"\n",
    "ov_pois_ = conn.read_parquet(ov_processed_filename)"
   ]
  },
  {
   "cell_type": "markdown",
   "metadata": {},
   "source": [
    "## Projecting"
   ]
  },
  {
   "cell_type": "code",
   "execution_count": 7,
   "metadata": {},
   "outputs": [
    {
     "name": "stdout",
     "output_type": "stream",
     "text": [
      "Assuming coordinates columns ('longitude','latitude')\n"
     ]
    }
   ],
   "source": [
    "fsq_pois = snoo.sn_project(fsq_pois_,res=agg_res)"
   ]
  },
  {
   "cell_type": "code",
   "execution_count": 8,
   "metadata": {},
   "outputs": [
    {
     "name": "stdout",
     "output_type": "stream",
     "text": [
      "Existing h3_id column will be overwritten\n",
      "Assuming coordinates columns ('x','y')\n"
     ]
    }
   ],
   "source": [
    "ov_pois = snoo.sn_project(ov_pois_,res=agg_res)"
   ]
  },
  {
   "cell_type": "markdown",
   "metadata": {},
   "source": [
    "## Aggregating"
   ]
  },
  {
   "cell_type": "code",
   "execution_count": 9,
   "metadata": {},
   "outputs": [],
   "source": [
    "def sn_aggregate(input : ib.Table,exprs = None):\n",
    "    \"\"\"Function for getting a density from a table of features. Simplest form is to return the number of features per cell. \n",
    "    More sophisticated aggregations can be done as well ?\n",
    "    \"\"\"\n",
    "\n",
    "    if exprs is not None:\n",
    "        # pass the expressions into the aggregations.\n",
    "        pass\n",
    "\n",
    "    return (input\n",
    "            .h3_id\n",
    "            .value_counts()\n",
    "            .rename(count_var=\"h3_id_count\")\n",
    "            )"
   ]
  },
  {
   "cell_type": "code",
   "execution_count": 10,
   "metadata": {},
   "outputs": [],
   "source": [
    "ov_pois_agg = sn_aggregate(ov_pois)\n",
    "fsq_pois_agg = sn_aggregate(fsq_pois)"
   ]
  },
  {
   "cell_type": "markdown",
   "metadata": {},
   "source": [
    "## Joing the tables"
   ]
  },
  {
   "cell_type": "code",
   "execution_count": 11,
   "metadata": {},
   "outputs": [],
   "source": [
    "nres_poi = ib.join(ghsl,ov_pois_agg,predicates=\"h3_id\",how=\"outer\",rname=\"ov_{name}\")"
   ]
  },
  {
   "cell_type": "code",
   "execution_count": 12,
   "metadata": {},
   "outputs": [],
   "source": [
    "nres_poi = (nres_poi\n",
    "            .join(fsq_pois_agg,\"h3_id\",how=\"outer\",rname=\"fsq_{name}\")\n",
    "            )"
   ]
  },
  {
   "cell_type": "code",
   "execution_count": 13,
   "metadata": {},
   "outputs": [
    {
     "data": {
      "application/vnd.jupyter.widget-view+json": {
       "model_id": "fa6962058b5149e4926efb93f80a746c",
       "version_major": 2,
       "version_minor": 0
      },
      "text/plain": [
       "FloatProgress(value=0.0, layout=Layout(width='auto'), style=ProgressStyle(bar_color='black'))"
      ]
     },
     "metadata": {},
     "output_type": "display_data"
    },
    {
     "data": {
      "text/html": [
       "<pre style=\"white-space:pre;overflow-x:auto;line-height:normal;font-family:Menlo,'DejaVu Sans Mono',consolas,'Courier New',monospace\">┏━━━━━━━━━━┳━━━━━━━━━━━━━━━━━┳━━━━━━━━━━━━━━━━━┳━━━━━━━━━━━┳━━━━━━━━━━━━━━━━━┳━━━━━━━━━━━━━━━┓\n",
       "┃<span style=\"font-weight: bold\"> band_var </span>┃<span style=\"font-weight: bold\"> h3_id           </span>┃<span style=\"font-weight: bold\"> ov_h3_id        </span>┃<span style=\"font-weight: bold\"> count_var </span>┃<span style=\"font-weight: bold\"> fsq_h3_id       </span>┃<span style=\"font-weight: bold\"> fsq_count_var </span>┃\n",
       "┡━━━━━━━━━━╇━━━━━━━━━━━━━━━━━╇━━━━━━━━━━━━━━━━━╇━━━━━━━━━━━╇━━━━━━━━━━━━━━━━━╇━━━━━━━━━━━━━━━┩\n",
       "│ <span style=\"color: #7f7f7f; text-decoration-color: #7f7f7f\">int32</span>    │ <span style=\"color: #7f7f7f; text-decoration-color: #7f7f7f\">string</span>          │ <span style=\"color: #7f7f7f; text-decoration-color: #7f7f7f\">string</span>          │ <span style=\"color: #7f7f7f; text-decoration-color: #7f7f7f\">int64</span>     │ <span style=\"color: #7f7f7f; text-decoration-color: #7f7f7f\">string</span>          │ <span style=\"color: #7f7f7f; text-decoration-color: #7f7f7f\">int64</span>         │\n",
       "├──────────┼─────────────────┼─────────────────┼───────────┼─────────────────┼───────────────┤\n",
       "│     <span style=\"color: #008080; text-decoration-color: #008080; font-weight: bold\">3974</span> │ <span style=\"color: #008000; text-decoration-color: #008000\">8608ee127ffffff</span> │ <span style=\"color: #008000; text-decoration-color: #008000\">8608ee127ffffff</span> │       <span style=\"color: #008080; text-decoration-color: #008080; font-weight: bold\">142</span> │ <span style=\"color: #008000; text-decoration-color: #008000\">8608ee127ffffff</span> │           <span style=\"color: #008080; text-decoration-color: #008080; font-weight: bold\">249</span> │\n",
       "│    <span style=\"color: #008080; text-decoration-color: #008080; font-weight: bold\">15280</span> │ <span style=\"color: #008000; text-decoration-color: #008000\">861068407ffffff</span> │ <span style=\"color: #008000; text-decoration-color: #008000\">861068407ffffff</span> │        <span style=\"color: #008080; text-decoration-color: #008080; font-weight: bold\">14</span> │ <span style=\"color: #008000; text-decoration-color: #008000\">861068407ffffff</span> │             <span style=\"color: #008080; text-decoration-color: #008080; font-weight: bold\">7</span> │\n",
       "│     <span style=\"color: #008080; text-decoration-color: #008080; font-weight: bold\">2472</span> │ <span style=\"color: #008000; text-decoration-color: #008000\">8608c1aefffffff</span> │ <span style=\"color: #008000; text-decoration-color: #008000\">8608c1aefffffff</span> │       <span style=\"color: #008080; text-decoration-color: #008080; font-weight: bold\">215</span> │ <span style=\"color: #008000; text-decoration-color: #008000\">8608c1aefffffff</span> │           <span style=\"color: #008080; text-decoration-color: #008080; font-weight: bold\">537</span> │\n",
       "│    <span style=\"color: #008080; text-decoration-color: #008080; font-weight: bold\">28987</span> │ <span style=\"color: #008000; text-decoration-color: #008000\">860b71447ffffff</span> │ <span style=\"color: #008000; text-decoration-color: #008000\">860b71447ffffff</span> │        <span style=\"color: #008080; text-decoration-color: #008080; font-weight: bold\">12</span> │ <span style=\"color: #008000; text-decoration-color: #008000\">860b71447ffffff</span> │             <span style=\"color: #008080; text-decoration-color: #008080; font-weight: bold\">4</span> │\n",
       "│        <span style=\"color: #008080; text-decoration-color: #008080; font-weight: bold\">6</span> │ <span style=\"color: #008000; text-decoration-color: #008000\">8608c3ba7ffffff</span> │ <span style=\"color: #008000; text-decoration-color: #008000\">8608c3ba7ffffff</span> │        <span style=\"color: #008080; text-decoration-color: #008080; font-weight: bold\">13</span> │ <span style=\"color: #008000; text-decoration-color: #008000\">8608c3ba7ffffff</span> │             <span style=\"color: #008080; text-decoration-color: #008080; font-weight: bold\">5</span> │\n",
       "└──────────┴─────────────────┴─────────────────┴───────────┴─────────────────┴───────────────┘\n",
       "</pre>\n"
      ],
      "text/plain": [
       "┏━━━━━━━━━━┳━━━━━━━━━━━━━━━━━┳━━━━━━━━━━━━━━━━━┳━━━━━━━━━━━┳━━━━━━━━━━━━━━━━━┳━━━━━━━━━━━━━━━┓\n",
       "┃\u001b[1m \u001b[0m\u001b[1mband_var\u001b[0m\u001b[1m \u001b[0m┃\u001b[1m \u001b[0m\u001b[1mh3_id\u001b[0m\u001b[1m          \u001b[0m\u001b[1m \u001b[0m┃\u001b[1m \u001b[0m\u001b[1mov_h3_id\u001b[0m\u001b[1m       \u001b[0m\u001b[1m \u001b[0m┃\u001b[1m \u001b[0m\u001b[1mcount_var\u001b[0m\u001b[1m \u001b[0m┃\u001b[1m \u001b[0m\u001b[1mfsq_h3_id\u001b[0m\u001b[1m      \u001b[0m\u001b[1m \u001b[0m┃\u001b[1m \u001b[0m\u001b[1mfsq_count_var\u001b[0m\u001b[1m \u001b[0m┃\n",
       "┡━━━━━━━━━━╇━━━━━━━━━━━━━━━━━╇━━━━━━━━━━━━━━━━━╇━━━━━━━━━━━╇━━━━━━━━━━━━━━━━━╇━━━━━━━━━━━━━━━┩\n",
       "│ \u001b[2mint32\u001b[0m    │ \u001b[2mstring\u001b[0m          │ \u001b[2mstring\u001b[0m          │ \u001b[2mint64\u001b[0m     │ \u001b[2mstring\u001b[0m          │ \u001b[2mint64\u001b[0m         │\n",
       "├──────────┼─────────────────┼─────────────────┼───────────┼─────────────────┼───────────────┤\n",
       "│     \u001b[1;36m3974\u001b[0m │ \u001b[32m8608ee127ffffff\u001b[0m │ \u001b[32m8608ee127ffffff\u001b[0m │       \u001b[1;36m142\u001b[0m │ \u001b[32m8608ee127ffffff\u001b[0m │           \u001b[1;36m249\u001b[0m │\n",
       "│    \u001b[1;36m15280\u001b[0m │ \u001b[32m861068407ffffff\u001b[0m │ \u001b[32m861068407ffffff\u001b[0m │        \u001b[1;36m14\u001b[0m │ \u001b[32m861068407ffffff\u001b[0m │             \u001b[1;36m7\u001b[0m │\n",
       "│     \u001b[1;36m2472\u001b[0m │ \u001b[32m8608c1aefffffff\u001b[0m │ \u001b[32m8608c1aefffffff\u001b[0m │       \u001b[1;36m215\u001b[0m │ \u001b[32m8608c1aefffffff\u001b[0m │           \u001b[1;36m537\u001b[0m │\n",
       "│    \u001b[1;36m28987\u001b[0m │ \u001b[32m860b71447ffffff\u001b[0m │ \u001b[32m860b71447ffffff\u001b[0m │        \u001b[1;36m12\u001b[0m │ \u001b[32m860b71447ffffff\u001b[0m │             \u001b[1;36m4\u001b[0m │\n",
       "│        \u001b[1;36m6\u001b[0m │ \u001b[32m8608c3ba7ffffff\u001b[0m │ \u001b[32m8608c3ba7ffffff\u001b[0m │        \u001b[1;36m13\u001b[0m │ \u001b[32m8608c3ba7ffffff\u001b[0m │             \u001b[1;36m5\u001b[0m │\n",
       "└──────────┴─────────────────┴─────────────────┴───────────┴─────────────────┴───────────────┘"
      ]
     },
     "execution_count": 13,
     "metadata": {},
     "output_type": "execute_result"
    }
   ],
   "source": [
    "nres_poi.head()"
   ]
  },
  {
   "cell_type": "code",
   "execution_count": null,
   "metadata": {},
   "outputs": [],
   "source": [
    "nres_poi = (nres_poi\n",
    " .mutate(h3_id = ib.coalesce(_.select(s.matches(\"h3_id\"))))\n",
    " .drop(\"h3_id_right\",\"fsq_h3_id\")\n",
    " )"
   ]
  },
  {
   "cell_type": "code",
   "execution_count": null,
   "metadata": {},
   "outputs": [],
   "source": [
    "nres_poi.head()"
   ]
  },
  {
   "cell_type": "code",
   "execution_count": null,
   "metadata": {},
   "outputs": [],
   "source": [
    "nres_poi = nres_poi.mutate(s.across(s.numeric(), _.fill_null(0).try_cast(\"int32\")))"
   ]
  },
  {
   "cell_type": "markdown",
   "metadata": {},
   "source": [
    "## Processing into df"
   ]
  },
  {
   "cell_type": "code",
   "execution_count": null,
   "metadata": {},
   "outputs": [],
   "source": [
    "nres_poi_df= nres_poi.execute()"
   ]
  },
  {
   "cell_type": "code",
   "execution_count": null,
   "metadata": {},
   "outputs": [],
   "source": [
    "nres_poi_df"
   ]
  },
  {
   "cell_type": "code",
   "execution_count": null,
   "metadata": {},
   "outputs": [],
   "source": [
    "scatter_params = {\n",
    "    \"logx\" : True,\n",
    "    \"logy\" : True,\n",
    "}"
   ]
  },
  {
   "cell_type": "code",
   "execution_count": null,
   "metadata": {},
   "outputs": [],
   "source": [
    "nres_poi_df.plot.scatter(x=\"band_var\",y=\"h3_id_count\",**scatter_params)\n",
    "plt.show()"
   ]
  },
  {
   "cell_type": "code",
   "execution_count": null,
   "metadata": {},
   "outputs": [],
   "source": [
    "nres_poi_df.plot.scatter(x=\"band_var\",\n",
    "                        y=\"fsq_h3_id_count\",\n",
    "                        **scatter_params\n",
    "                        )\n",
    "plt.show()"
   ]
  },
  {
   "cell_type": "code",
   "execution_count": null,
   "metadata": {},
   "outputs": [],
   "source": [
    "nres_poi_df.plot.hist(\"band_var\")"
   ]
  },
  {
   "cell_type": "code",
   "execution_count": null,
   "metadata": {},
   "outputs": [],
   "source": [
    "nres_poi_df.plot.hist(\"fsq_h3_id_count\")"
   ]
  },
  {
   "cell_type": "code",
   "execution_count": null,
   "metadata": {},
   "outputs": [],
   "source": [
    "nres_poi_df.plot.hist(\"h3_id_count\")"
   ]
  }
 ],
 "metadata": {
  "kernelspec": {
   "display_name": "Python 3",
   "language": "python",
   "name": "python3"
  },
  "language_info": {
   "codemirror_mode": {
    "name": "ipython",
    "version": 3
   },
   "file_extension": ".py",
   "mimetype": "text/x-python",
   "name": "python",
   "nbconvert_exporter": "python",
   "pygments_lexer": "ipython3",
   "version": "3.12.5"
  }
 },
 "nbformat": 4,
 "nbformat_minor": 2
}
