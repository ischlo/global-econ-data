{
 "cells": [
  {
   "cell_type": "markdown",
   "metadata": {},
   "source": [
    "## Exploration of the trade data and trade flow matrix construction."
   ]
  },
  {
   "cell_type": "code",
   "execution_count": 11,
   "metadata": {},
   "outputs": [],
   "source": [
    "import polars as pl\n",
    "import ibis\n",
    "from ibis import _\n"
   ]
  },
  {
   "cell_type": "code",
   "execution_count": 12,
   "metadata": {},
   "outputs": [],
   "source": [
    "ibis.options.interactive = True "
   ]
  },
  {
   "cell_type": "code",
   "execution_count": 13,
   "metadata": {},
   "outputs": [],
   "source": [
    "baci_c = ibis.read_csv(\"datasets/BACI/TPc_V202401.csv\")"
   ]
  },
  {
   "cell_type": "code",
   "execution_count": null,
   "metadata": {},
   "outputs": [],
   "source": [
    "# baci_e = pl.read_csv(\"datasets/BACI/TPe_V202401.csv\")"
   ]
  },
  {
   "cell_type": "code",
   "execution_count": 17,
   "metadata": {},
   "outputs": [
    {
     "name": "stdout",
     "output_type": "stream",
     "text": [
      "['year', 'group', 'iso3_tp_o', 'iso3_tp_d', 'pref', 'mfn', 'tariff', 'trade_sq_iy', 'trade_sq_yr', 'flag_extra_neg', 'flag_extra_cty', 'flag_extra_avg']\n"
     ]
    },
    {
     "data": {
      "text/html": [
       "<pre style=\"white-space:pre;overflow-x:auto;line-height:normal;font-family:Menlo,'DejaVu Sans Mono',consolas,'Courier New',monospace\"></pre>\n"
      ],
      "text/plain": []
     },
     "metadata": {},
     "output_type": "display_data"
    },
    {
     "name": "stdout",
     "output_type": "stream",
     "text": [
      "┏━━━━━━━━━━━━━━━━┳━━━━━━━┳━━━━━━━━━┳━━━━━━━━━━┳━━━━━━━━━┳━━━━━━━━━┳━━━━━━━━┳━━━━━━━━━━━━━━┳━━━━━━━━━━━━━━┳━━━━━━━━━\n",
      "┃\u001b[1m \u001b[0m\u001b[1mname\u001b[0m\u001b[1m          \u001b[0m\u001b[1m \u001b[0m┃\u001b[1m \u001b[0m\u001b[1mpos\u001b[0m\u001b[1m  \u001b[0m\u001b[1m \u001b[0m┃\u001b[1m \u001b[0m\u001b[1mtype\u001b[0m\u001b[1m   \u001b[0m\u001b[1m \u001b[0m┃\u001b[1m \u001b[0m\u001b[1mcount\u001b[0m\u001b[1m   \u001b[0m\u001b[1m \u001b[0m┃\u001b[1m \u001b[0m\u001b[1mnulls\u001b[0m\u001b[1m  \u001b[0m\u001b[1m \u001b[0m┃\u001b[1m \u001b[0m\u001b[1munique\u001b[0m\u001b[1m \u001b[0m\u001b[1m \u001b[0m┃\u001b[1m \u001b[0m\u001b[1mmode\u001b[0m\u001b[1m  \u001b[0m\u001b[1m \u001b[0m┃\u001b[1m \u001b[0m\u001b[1mmean\u001b[0m\u001b[1m        \u001b[0m\u001b[1m \u001b[0m┃\u001b[1m \u001b[0m\u001b[1mstd\u001b[0m\u001b[1m         \u001b[0m\u001b[1m \u001b[0m┃\u001b[1m \u001b[0m\u001b[1mmin\u001b[0m\u001b[1m    \u001b[0m\u001b[1m \u001b[0m\n",
      "┡━━━━━━━━━━━━━━━━╇━━━━━━━╇━━━━━━━━━╇━━━━━━━━━━╇━━━━━━━━━╇━━━━━━━━━╇━━━━━━━━╇━━━━━━━━━━━━━━╇━━━━━━━━━━━━━━╇━━━━━━━━━\n",
      "│ \u001b[2mstring\u001b[0m         │ \u001b[2mint16\u001b[0m │ \u001b[2mstring\u001b[0m  │ \u001b[2mint64\u001b[0m    │ \u001b[2mint64\u001b[0m   │ \u001b[2mint64\u001b[0m   │ \u001b[2mstring\u001b[0m │ \u001b[2mfloat64\u001b[0m      │ \u001b[2mfloat64\u001b[0m      │ \u001b[2mfloat64\u001b[0m \n",
      "├────────────────┼───────┼─────────┼──────────┼─────────┼─────────┼────────┼──────────────┼──────────────┼─────────\n",
      "│ \u001b[32mtrade_sq_yr   \u001b[0m │     \u001b[1;36m8\u001b[0m │ \u001b[32mfloat64\u001b[0m │ \u001b[1;36m10987704\u001b[0m │       \u001b[1;36m0\u001b[0m │ \u001b[1;36m4686778\u001b[0m │ \u001b[2mNULL\u001b[0m   │ \u001b[1;36m8.864341e+07\u001b[0m │ \u001b[1;36m6.159523e+09\u001b[0m │     \u001b[1;36m0.0\u001b[0m \n",
      "│ \u001b[32mflag_extra_neg\u001b[0m │     \u001b[1;36m9\u001b[0m │ \u001b[32mint64  \u001b[0m │ \u001b[1;36m10987704\u001b[0m │       \u001b[1;36m0\u001b[0m │       \u001b[1;36m2\u001b[0m │ \u001b[2mNULL\u001b[0m   │ \u001b[1;36m1.590026e-01\u001b[0m │ \u001b[1;36m3.656785e-01\u001b[0m │     \u001b[1;36m0.0\u001b[0m \n",
      "│ \u001b[32mflag_extra_cty\u001b[0m │    \u001b[1;36m10\u001b[0m │ \u001b[32mint64  \u001b[0m │ \u001b[1;36m10987704\u001b[0m │       \u001b[1;36m0\u001b[0m │       \u001b[1;36m2\u001b[0m │ \u001b[2mNULL\u001b[0m   │ \u001b[1;36m3.785297e-01\u001b[0m │ \u001b[1;36m4.850206e-01\u001b[0m │     \u001b[1;36m0.0\u001b[0m \n",
      "│ \u001b[32mflag_extra_avg\u001b[0m │    \u001b[1;36m11\u001b[0m │ \u001b[32mint64  \u001b[0m │ \u001b[1;36m10987704\u001b[0m │       \u001b[1;36m0\u001b[0m │       \u001b[1;36m2\u001b[0m │ \u001b[2mNULL\u001b[0m   │ \u001b[1;36m7.371598e-01\u001b[0m │ \u001b[1;36m4.401764e-01\u001b[0m │     \u001b[1;36m0.0\u001b[0m \n",
      "│ \u001b[32myear          \u001b[0m │     \u001b[1;36m0\u001b[0m │ \u001b[32mint64  \u001b[0m │ \u001b[1;36m10987704\u001b[0m │       \u001b[1;36m0\u001b[0m │      \u001b[1;36m55\u001b[0m │ \u001b[2mNULL\u001b[0m   │ \u001b[1;36m1.995841e+03\u001b[0m │ \u001b[1;36m1.546595e+01\u001b[0m │  \u001b[1;36m1966.0\u001b[0m \n",
      "│ \u001b[32mgroup         \u001b[0m │     \u001b[1;36m1\u001b[0m │ \u001b[32mstring \u001b[0m │ \u001b[1;36m10987704\u001b[0m │       \u001b[1;36m0\u001b[0m │       \u001b[1;36m9\u001b[0m │ \u001b[32m_26   \u001b[0m │         \u001b[2mNULL\u001b[0m │         \u001b[2mNULL\u001b[0m │    \u001b[2mNULL\u001b[0m \n",
      "│ \u001b[32miso3_tp_o     \u001b[0m │     \u001b[1;36m2\u001b[0m │ \u001b[32mstring \u001b[0m │ \u001b[1;36m10987704\u001b[0m │       \u001b[1;36m0\u001b[0m │     \u001b[1;36m168\u001b[0m │ \u001b[32mBOL   \u001b[0m │         \u001b[2mNULL\u001b[0m │         \u001b[2mNULL\u001b[0m │    \u001b[2mNULL\u001b[0m \n",
      "│ \u001b[32miso3_tp_d     \u001b[0m │     \u001b[1;36m3\u001b[0m │ \u001b[32mstring \u001b[0m │ \u001b[1;36m10987704\u001b[0m │       \u001b[1;36m0\u001b[0m │     \u001b[1;36m168\u001b[0m │ \u001b[32mMAR   \u001b[0m │         \u001b[2mNULL\u001b[0m │         \u001b[2mNULL\u001b[0m │    \u001b[2mNULL\u001b[0m \n",
      "│ \u001b[32mpref          \u001b[0m │     \u001b[1;36m4\u001b[0m │ \u001b[32mfloat64\u001b[0m │ \u001b[1;36m10987704\u001b[0m │ \u001b[1;36m7766629\u001b[0m │   \u001b[1;36m40985\u001b[0m │ \u001b[2mNULL\u001b[0m   │ \u001b[1;36m3.091304e-02\u001b[0m │ \u001b[1;36m1.076089e-01\u001b[0m │     \u001b[1;36m0.0\u001b[0m \n",
      "│ \u001b[32mmfn           \u001b[0m │     \u001b[1;36m5\u001b[0m │ \u001b[32mfloat64\u001b[0m │ \u001b[1;36m10987704\u001b[0m │  \u001b[1;36m992112\u001b[0m │   \u001b[1;36m14278\u001b[0m │ \u001b[2mNULL\u001b[0m   │ \u001b[1;36m1.335624e-01\u001b[0m │ \u001b[1;36m1.424436e-01\u001b[0m │     \u001b[1;36m0.0\u001b[0m \n",
      "│ \u001b[2m…\u001b[0m              │     \u001b[2m…\u001b[0m │ \u001b[2m…\u001b[0m       │        \u001b[2m…\u001b[0m │       \u001b[2m…\u001b[0m │       \u001b[2m…\u001b[0m │ \u001b[2m…\u001b[0m      │            \u001b[2m…\u001b[0m │            \u001b[2m…\u001b[0m │       \u001b[2m…\u001b[0m \n",
      "└────────────────┴───────┴─────────┴──────────┴─────────┴─────────┴────────┴──────────────┴──────────────┴─────────\n"
     ]
    },
    {
     "data": {
      "text/html": [
       "<pre style=\"white-space:pre;overflow-x:auto;line-height:normal;font-family:Menlo,'DejaVu Sans Mono',consolas,'Courier New',monospace\">┏━━━━━━━┳━━━━━━━━┳━━━━━━━━━━━┳━━━━━━━━━━━┳━━━━━━━━━┳━━━━━━━━━━┳━━━━━━━━━━┳━━━━━━━━━━━━━┳━━━━━━━━━━━━━┳━━━━━━━━━━━━━━━━┳━━━━━━━━━━━━━━━━┳━━━━━━━━━━━━━━━━┓\n",
       "┃<span style=\"font-weight: bold\"> year  </span>┃<span style=\"font-weight: bold\"> group  </span>┃<span style=\"font-weight: bold\"> iso3_tp_o </span>┃<span style=\"font-weight: bold\"> iso3_tp_d </span>┃<span style=\"font-weight: bold\"> pref    </span>┃<span style=\"font-weight: bold\"> mfn      </span>┃<span style=\"font-weight: bold\"> tariff   </span>┃<span style=\"font-weight: bold\"> trade_sq_iy </span>┃<span style=\"font-weight: bold\"> trade_sq_yr </span>┃<span style=\"font-weight: bold\"> flag_extra_neg </span>┃<span style=\"font-weight: bold\"> flag_extra_cty </span>┃<span style=\"font-weight: bold\"> flag_extra_avg </span>┃\n",
       "┡━━━━━━━╇━━━━━━━━╇━━━━━━━━━━━╇━━━━━━━━━━━╇━━━━━━━━━╇━━━━━━━━━━╇━━━━━━━━━━╇━━━━━━━━━━━━━╇━━━━━━━━━━━━━╇━━━━━━━━━━━━━━━━╇━━━━━━━━━━━━━━━━╇━━━━━━━━━━━━━━━━┩\n",
       "│ <span style=\"color: #7f7f7f; text-decoration-color: #7f7f7f\">int64</span> │ <span style=\"color: #7f7f7f; text-decoration-color: #7f7f7f\">string</span> │ <span style=\"color: #7f7f7f; text-decoration-color: #7f7f7f\">string</span>    │ <span style=\"color: #7f7f7f; text-decoration-color: #7f7f7f\">string</span>    │ <span style=\"color: #7f7f7f; text-decoration-color: #7f7f7f\">float64</span> │ <span style=\"color: #7f7f7f; text-decoration-color: #7f7f7f\">float64</span>  │ <span style=\"color: #7f7f7f; text-decoration-color: #7f7f7f\">float64</span>  │ <span style=\"color: #7f7f7f; text-decoration-color: #7f7f7f\">float64</span>     │ <span style=\"color: #7f7f7f; text-decoration-color: #7f7f7f\">float64</span>     │ <span style=\"color: #7f7f7f; text-decoration-color: #7f7f7f\">int64</span>          │ <span style=\"color: #7f7f7f; text-decoration-color: #7f7f7f\">int64</span>          │ <span style=\"color: #7f7f7f; text-decoration-color: #7f7f7f\">int64</span>          │\n",
       "├───────┼────────┼───────────┼───────────┼─────────┼──────────┼──────────┼─────────────┼─────────────┼────────────────┼────────────────┼────────────────┤\n",
       "│  <span style=\"color: #008080; text-decoration-color: #008080; font-weight: bold\">1966</span> │ <span style=\"color: #008000; text-decoration-color: #008000\">_26   </span> │ <span style=\"color: #008000; text-decoration-color: #008000\">AFG      </span> │ <span style=\"color: #008000; text-decoration-color: #008000\">MAR      </span> │    <span style=\"color: #7f7f7f; text-decoration-color: #7f7f7f\">NULL</span> │ <span style=\"color: #008080; text-decoration-color: #008080; font-weight: bold\">0.651808</span> │ <span style=\"color: #008080; text-decoration-color: #008080; font-weight: bold\">0.651808</span> │        <span style=\"color: #7f7f7f; text-decoration-color: #7f7f7f\">NULL</span> │         <span style=\"color: #008080; text-decoration-color: #008080; font-weight: bold\">0.0</span> │              <span style=\"color: #008080; text-decoration-color: #008080; font-weight: bold\">0</span> │              <span style=\"color: #008080; text-decoration-color: #008080; font-weight: bold\">1</span> │              <span style=\"color: #008080; text-decoration-color: #008080; font-weight: bold\">1</span> │\n",
       "│  <span style=\"color: #008080; text-decoration-color: #008080; font-weight: bold\">1966</span> │ <span style=\"color: #008000; text-decoration-color: #008000\">_26   </span> │ <span style=\"color: #008000; text-decoration-color: #008000\">AFG      </span> │ <span style=\"color: #008000; text-decoration-color: #008000\">ZWE      </span> │    <span style=\"color: #7f7f7f; text-decoration-color: #7f7f7f\">NULL</span> │ <span style=\"color: #008080; text-decoration-color: #008080; font-weight: bold\">0.433228</span> │ <span style=\"color: #008080; text-decoration-color: #008080; font-weight: bold\">0.433228</span> │         <span style=\"color: #008080; text-decoration-color: #008080; font-weight: bold\">0.0</span> │         <span style=\"color: #008080; text-decoration-color: #008080; font-weight: bold\">0.0</span> │              <span style=\"color: #008080; text-decoration-color: #008080; font-weight: bold\">0</span> │              <span style=\"color: #008080; text-decoration-color: #008080; font-weight: bold\">1</span> │              <span style=\"color: #008080; text-decoration-color: #008080; font-weight: bold\">1</span> │\n",
       "│  <span style=\"color: #008080; text-decoration-color: #008080; font-weight: bold\">1966</span> │ <span style=\"color: #008000; text-decoration-color: #008000\">_26   </span> │ <span style=\"color: #008000; text-decoration-color: #008000\">AFG      </span> │ <span style=\"color: #008000; text-decoration-color: #008000\">NIC      </span> │    <span style=\"color: #7f7f7f; text-decoration-color: #7f7f7f\">NULL</span> │ <span style=\"color: #008080; text-decoration-color: #008080; font-weight: bold\">0.107357</span> │ <span style=\"color: #008080; text-decoration-color: #008080; font-weight: bold\">0.107357</span> │         <span style=\"color: #008080; text-decoration-color: #008080; font-weight: bold\">0.0</span> │         <span style=\"color: #008080; text-decoration-color: #008080; font-weight: bold\">0.0</span> │              <span style=\"color: #008080; text-decoration-color: #008080; font-weight: bold\">0</span> │              <span style=\"color: #008080; text-decoration-color: #008080; font-weight: bold\">1</span> │              <span style=\"color: #008080; text-decoration-color: #008080; font-weight: bold\">1</span> │\n",
       "│  <span style=\"color: #008080; text-decoration-color: #008080; font-weight: bold\">1966</span> │ <span style=\"color: #008000; text-decoration-color: #008000\">_26   </span> │ <span style=\"color: #008000; text-decoration-color: #008000\">AFG      </span> │ <span style=\"color: #008000; text-decoration-color: #008000\">CHL      </span> │     <span style=\"color: #008080; text-decoration-color: #008080; font-weight: bold\">0.0</span> │ <span style=\"color: #008080; text-decoration-color: #008080; font-weight: bold\">0.110000</span> │ <span style=\"color: #008080; text-decoration-color: #008080; font-weight: bold\">0.110000</span> │         <span style=\"color: #008080; text-decoration-color: #008080; font-weight: bold\">0.0</span> │         <span style=\"color: #008080; text-decoration-color: #008080; font-weight: bold\">0.0</span> │              <span style=\"color: #008080; text-decoration-color: #008080; font-weight: bold\">0</span> │              <span style=\"color: #008080; text-decoration-color: #008080; font-weight: bold\">1</span> │              <span style=\"color: #008080; text-decoration-color: #008080; font-weight: bold\">1</span> │\n",
       "│  <span style=\"color: #008080; text-decoration-color: #008080; font-weight: bold\">1966</span> │ <span style=\"color: #008000; text-decoration-color: #008000\">_26   </span> │ <span style=\"color: #008000; text-decoration-color: #008000\">AFG      </span> │ <span style=\"color: #008000; text-decoration-color: #008000\">SWE      </span> │    <span style=\"color: #7f7f7f; text-decoration-color: #7f7f7f\">NULL</span> │ <span style=\"color: #008080; text-decoration-color: #008080; font-weight: bold\">0.034834</span> │ <span style=\"color: #008080; text-decoration-color: #008080; font-weight: bold\">0.034834</span> │         <span style=\"color: #008080; text-decoration-color: #008080; font-weight: bold\">0.0</span> │         <span style=\"color: #008080; text-decoration-color: #008080; font-weight: bold\">0.0</span> │              <span style=\"color: #008080; text-decoration-color: #008080; font-weight: bold\">0</span> │              <span style=\"color: #008080; text-decoration-color: #008080; font-weight: bold\">1</span> │              <span style=\"color: #008080; text-decoration-color: #008080; font-weight: bold\">1</span> │\n",
       "└───────┴────────┴───────────┴───────────┴─────────┴──────────┴──────────┴─────────────┴─────────────┴────────────────┴────────────────┴────────────────┘\n",
       "</pre>\n"
      ],
      "text/plain": [
       "┏━━━━━━━┳━━━━━━━━┳━━━━━━━━━━━┳━━━━━━━━━━━┳━━━━━━━━━┳━━━━━━━━━━┳━━━━━━━━━━┳━━━━━━━━━━━━━┳━━━━━━━━━━━━━┳━━━━━━━━━━━━━━━━┳━━━━━━━━━━━━━━━━┳━━━━━━━━━━━━━━━━┓\n",
       "┃\u001b[1m \u001b[0m\u001b[1myear\u001b[0m\u001b[1m \u001b[0m\u001b[1m \u001b[0m┃\u001b[1m \u001b[0m\u001b[1mgroup\u001b[0m\u001b[1m \u001b[0m\u001b[1m \u001b[0m┃\u001b[1m \u001b[0m\u001b[1miso3_tp_o\u001b[0m\u001b[1m \u001b[0m┃\u001b[1m \u001b[0m\u001b[1miso3_tp_d\u001b[0m\u001b[1m \u001b[0m┃\u001b[1m \u001b[0m\u001b[1mpref\u001b[0m\u001b[1m   \u001b[0m\u001b[1m \u001b[0m┃\u001b[1m \u001b[0m\u001b[1mmfn\u001b[0m\u001b[1m     \u001b[0m\u001b[1m \u001b[0m┃\u001b[1m \u001b[0m\u001b[1mtariff\u001b[0m\u001b[1m  \u001b[0m\u001b[1m \u001b[0m┃\u001b[1m \u001b[0m\u001b[1mtrade_sq_iy\u001b[0m\u001b[1m \u001b[0m┃\u001b[1m \u001b[0m\u001b[1mtrade_sq_yr\u001b[0m\u001b[1m \u001b[0m┃\u001b[1m \u001b[0m\u001b[1mflag_extra_neg\u001b[0m\u001b[1m \u001b[0m┃\u001b[1m \u001b[0m\u001b[1mflag_extra_cty\u001b[0m\u001b[1m \u001b[0m┃\u001b[1m \u001b[0m\u001b[1mflag_extra_avg\u001b[0m\u001b[1m \u001b[0m┃\n",
       "┡━━━━━━━╇━━━━━━━━╇━━━━━━━━━━━╇━━━━━━━━━━━╇━━━━━━━━━╇━━━━━━━━━━╇━━━━━━━━━━╇━━━━━━━━━━━━━╇━━━━━━━━━━━━━╇━━━━━━━━━━━━━━━━╇━━━━━━━━━━━━━━━━╇━━━━━━━━━━━━━━━━┩\n",
       "│ \u001b[2mint64\u001b[0m │ \u001b[2mstring\u001b[0m │ \u001b[2mstring\u001b[0m    │ \u001b[2mstring\u001b[0m    │ \u001b[2mfloat64\u001b[0m │ \u001b[2mfloat64\u001b[0m  │ \u001b[2mfloat64\u001b[0m  │ \u001b[2mfloat64\u001b[0m     │ \u001b[2mfloat64\u001b[0m     │ \u001b[2mint64\u001b[0m          │ \u001b[2mint64\u001b[0m          │ \u001b[2mint64\u001b[0m          │\n",
       "├───────┼────────┼───────────┼───────────┼─────────┼──────────┼──────────┼─────────────┼─────────────┼────────────────┼────────────────┼────────────────┤\n",
       "│  \u001b[1;36m1966\u001b[0m │ \u001b[32m_26   \u001b[0m │ \u001b[32mAFG      \u001b[0m │ \u001b[32mMAR      \u001b[0m │    \u001b[2mNULL\u001b[0m │ \u001b[1;36m0.651808\u001b[0m │ \u001b[1;36m0.651808\u001b[0m │        \u001b[2mNULL\u001b[0m │         \u001b[1;36m0.0\u001b[0m │              \u001b[1;36m0\u001b[0m │              \u001b[1;36m1\u001b[0m │              \u001b[1;36m1\u001b[0m │\n",
       "│  \u001b[1;36m1966\u001b[0m │ \u001b[32m_26   \u001b[0m │ \u001b[32mAFG      \u001b[0m │ \u001b[32mZWE      \u001b[0m │    \u001b[2mNULL\u001b[0m │ \u001b[1;36m0.433228\u001b[0m │ \u001b[1;36m0.433228\u001b[0m │         \u001b[1;36m0.0\u001b[0m │         \u001b[1;36m0.0\u001b[0m │              \u001b[1;36m0\u001b[0m │              \u001b[1;36m1\u001b[0m │              \u001b[1;36m1\u001b[0m │\n",
       "│  \u001b[1;36m1966\u001b[0m │ \u001b[32m_26   \u001b[0m │ \u001b[32mAFG      \u001b[0m │ \u001b[32mNIC      \u001b[0m │    \u001b[2mNULL\u001b[0m │ \u001b[1;36m0.107357\u001b[0m │ \u001b[1;36m0.107357\u001b[0m │         \u001b[1;36m0.0\u001b[0m │         \u001b[1;36m0.0\u001b[0m │              \u001b[1;36m0\u001b[0m │              \u001b[1;36m1\u001b[0m │              \u001b[1;36m1\u001b[0m │\n",
       "│  \u001b[1;36m1966\u001b[0m │ \u001b[32m_26   \u001b[0m │ \u001b[32mAFG      \u001b[0m │ \u001b[32mCHL      \u001b[0m │     \u001b[1;36m0.0\u001b[0m │ \u001b[1;36m0.110000\u001b[0m │ \u001b[1;36m0.110000\u001b[0m │         \u001b[1;36m0.0\u001b[0m │         \u001b[1;36m0.0\u001b[0m │              \u001b[1;36m0\u001b[0m │              \u001b[1;36m1\u001b[0m │              \u001b[1;36m1\u001b[0m │\n",
       "│  \u001b[1;36m1966\u001b[0m │ \u001b[32m_26   \u001b[0m │ \u001b[32mAFG      \u001b[0m │ \u001b[32mSWE      \u001b[0m │    \u001b[2mNULL\u001b[0m │ \u001b[1;36m0.034834\u001b[0m │ \u001b[1;36m0.034834\u001b[0m │         \u001b[1;36m0.0\u001b[0m │         \u001b[1;36m0.0\u001b[0m │              \u001b[1;36m0\u001b[0m │              \u001b[1;36m1\u001b[0m │              \u001b[1;36m1\u001b[0m │\n",
       "└───────┴────────┴───────────┴───────────┴─────────┴──────────┴──────────┴─────────────┴─────────────┴────────────────┴────────────────┴────────────────┘"
      ]
     },
     "execution_count": 17,
     "metadata": {},
     "output_type": "execute_result"
    }
   ],
   "source": [
    "print(baci_c.columns)\n",
    "print(baci_c.describe())\n"
   ]
  },
  {
   "cell_type": "code",
   "execution_count": null,
   "metadata": {},
   "outputs": [],
   "source": [
    "\n",
    "baci_c.head()"
   ]
  },
  {
   "cell_type": "markdown",
   "metadata": {},
   "source": [
    "### Inspecting the number of values per year"
   ]
  },
  {
   "cell_type": "code",
   "execution_count": 23,
   "metadata": {},
   "outputs": [
    {
     "data": {
      "text/html": [
       "<pre style=\"white-space:pre;overflow-x:auto;line-height:normal;font-family:Menlo,'DejaVu Sans Mono',consolas,'Courier New',monospace\">┏━━━━━━━┳━━━━━━━━━━━━━┓\n",
       "┃<span style=\"font-weight: bold\"> year  </span>┃<span style=\"font-weight: bold\"> CountStar() </span>┃\n",
       "┡━━━━━━━╇━━━━━━━━━━━━━┩\n",
       "│ <span style=\"color: #7f7f7f; text-decoration-color: #7f7f7f\">int64</span> │ <span style=\"color: #7f7f7f; text-decoration-color: #7f7f7f\">int64</span>       │\n",
       "├───────┼─────────────┤\n",
       "│  <span style=\"color: #008080; text-decoration-color: #008080; font-weight: bold\">2020</span> │      <span style=\"color: #008080; text-decoration-color: #008080; font-weight: bold\">238950</span> │\n",
       "│  <span style=\"color: #008080; text-decoration-color: #008080; font-weight: bold\">2019</span> │      <span style=\"color: #008080; text-decoration-color: #008080; font-weight: bold\">238986</span> │\n",
       "│  <span style=\"color: #008080; text-decoration-color: #008080; font-weight: bold\">2018</span> │      <span style=\"color: #008080; text-decoration-color: #008080; font-weight: bold\">239004</span> │\n",
       "│  <span style=\"color: #008080; text-decoration-color: #008080; font-weight: bold\">2017</span> │      <span style=\"color: #008080; text-decoration-color: #008080; font-weight: bold\">239013</span> │\n",
       "│  <span style=\"color: #008080; text-decoration-color: #008080; font-weight: bold\">2016</span> │      <span style=\"color: #008080; text-decoration-color: #008080; font-weight: bold\">239013</span> │\n",
       "│  <span style=\"color: #008080; text-decoration-color: #008080; font-weight: bold\">2015</span> │      <span style=\"color: #008080; text-decoration-color: #008080; font-weight: bold\">239022</span> │\n",
       "│  <span style=\"color: #008080; text-decoration-color: #008080; font-weight: bold\">2014</span> │      <span style=\"color: #008080; text-decoration-color: #008080; font-weight: bold\">239031</span> │\n",
       "│  <span style=\"color: #008080; text-decoration-color: #008080; font-weight: bold\">2013</span> │      <span style=\"color: #008080; text-decoration-color: #008080; font-weight: bold\">239040</span> │\n",
       "│  <span style=\"color: #008080; text-decoration-color: #008080; font-weight: bold\">2012</span> │      <span style=\"color: #008080; text-decoration-color: #008080; font-weight: bold\">239049</span> │\n",
       "│  <span style=\"color: #008080; text-decoration-color: #008080; font-weight: bold\">2011</span> │      <span style=\"color: #008080; text-decoration-color: #008080; font-weight: bold\">239049</span> │\n",
       "└───────┴─────────────┘\n",
       "</pre>\n"
      ],
      "text/plain": [
       "┏━━━━━━━┳━━━━━━━━━━━━━┓\n",
       "┃\u001b[1m \u001b[0m\u001b[1myear\u001b[0m\u001b[1m \u001b[0m\u001b[1m \u001b[0m┃\u001b[1m \u001b[0m\u001b[1mCountStar()\u001b[0m\u001b[1m \u001b[0m┃\n",
       "┡━━━━━━━╇━━━━━━━━━━━━━┩\n",
       "│ \u001b[2mint64\u001b[0m │ \u001b[2mint64\u001b[0m       │\n",
       "├───────┼─────────────┤\n",
       "│  \u001b[1;36m2020\u001b[0m │      \u001b[1;36m238950\u001b[0m │\n",
       "│  \u001b[1;36m2019\u001b[0m │      \u001b[1;36m238986\u001b[0m │\n",
       "│  \u001b[1;36m2018\u001b[0m │      \u001b[1;36m239004\u001b[0m │\n",
       "│  \u001b[1;36m2017\u001b[0m │      \u001b[1;36m239013\u001b[0m │\n",
       "│  \u001b[1;36m2016\u001b[0m │      \u001b[1;36m239013\u001b[0m │\n",
       "│  \u001b[1;36m2015\u001b[0m │      \u001b[1;36m239022\u001b[0m │\n",
       "│  \u001b[1;36m2014\u001b[0m │      \u001b[1;36m239031\u001b[0m │\n",
       "│  \u001b[1;36m2013\u001b[0m │      \u001b[1;36m239040\u001b[0m │\n",
       "│  \u001b[1;36m2012\u001b[0m │      \u001b[1;36m239049\u001b[0m │\n",
       "│  \u001b[1;36m2011\u001b[0m │      \u001b[1;36m239049\u001b[0m │\n",
       "└───────┴─────────────┘"
      ]
     },
     "execution_count": 23,
     "metadata": {},
     "output_type": "execute_result"
    }
   ],
   "source": [
    "baci_c.filter(_.year>2010).group_by(_.year).count().order_by(ibis.desc(_.year))"
   ]
  },
  {
   "cell_type": "markdown",
   "metadata": {},
   "source": [
    "### Extracting Thailands interactions"
   ]
  },
  {
   "cell_type": "code",
   "execution_count": 28,
   "metadata": {},
   "outputs": [],
   "source": [
    "baci_tha = baci_c.filter((\"THA\" == _.iso3_tp_o) | (\"THA\" == _.iso3_tp_d))"
   ]
  },
  {
   "cell_type": "code",
   "execution_count": 31,
   "metadata": {},
   "outputs": [
    {
     "data": {
      "text/html": [
       "<pre style=\"white-space:pre;overflow-x:auto;line-height:normal;font-family:Menlo,'DejaVu Sans Mono',consolas,'Courier New',monospace\"></pre>\n"
      ],
      "text/plain": []
     },
     "metadata": {},
     "output_type": "display_data"
    },
    {
     "name": "stdout",
     "output_type": "stream",
     "text": [
      "┏━━━━━━━┳━━━━━━━━┳━━━━━━━━━━━┳━━━━━━━━━━━┳━━━━━━━━━┳━━━━━━━━━━┳━━━━━━━━━━┳━━━━━━━━━━━━━┳━━━━━━━━━━━━━┳━━━━━━━━━━━━━\n",
      "┃\u001b[1m \u001b[0m\u001b[1myear\u001b[0m\u001b[1m \u001b[0m\u001b[1m \u001b[0m┃\u001b[1m \u001b[0m\u001b[1mgroup\u001b[0m\u001b[1m \u001b[0m\u001b[1m \u001b[0m┃\u001b[1m \u001b[0m\u001b[1miso3_tp_o\u001b[0m\u001b[1m \u001b[0m┃\u001b[1m \u001b[0m\u001b[1miso3_tp_d\u001b[0m\u001b[1m \u001b[0m┃\u001b[1m \u001b[0m\u001b[1mpref\u001b[0m\u001b[1m   \u001b[0m\u001b[1m \u001b[0m┃\u001b[1m \u001b[0m\u001b[1mmfn\u001b[0m\u001b[1m     \u001b[0m\u001b[1m \u001b[0m┃\u001b[1m \u001b[0m\u001b[1mtariff\u001b[0m\u001b[1m  \u001b[0m\u001b[1m \u001b[0m┃\u001b[1m \u001b[0m\u001b[1mtrade_sq_iy\u001b[0m\u001b[1m \u001b[0m┃\u001b[1m \u001b[0m\u001b[1mtrade_sq_yr\u001b[0m\u001b[1m \u001b[0m┃\u001b[1m \u001b[0m\u001b[1mflag_extra_n\u001b[0m\n",
      "┡━━━━━━━╇━━━━━━━━╇━━━━━━━━━━━╇━━━━━━━━━━━╇━━━━━━━━━╇━━━━━━━━━━╇━━━━━━━━━━╇━━━━━━━━━━━━━╇━━━━━━━━━━━━━╇━━━━━━━━━━━━━\n",
      "│ \u001b[2mint64\u001b[0m │ \u001b[2mstring\u001b[0m │ \u001b[2mstring\u001b[0m    │ \u001b[2mstring\u001b[0m    │ \u001b[2mfloat64\u001b[0m │ \u001b[2mfloat64\u001b[0m  │ \u001b[2mfloat64\u001b[0m  │ \u001b[2mfloat64\u001b[0m     │ \u001b[2mfloat64\u001b[0m     │ \u001b[2mint64\u001b[0m       \n",
      "├───────┼────────┼───────────┼───────────┼─────────┼──────────┼──────────┼─────────────┼─────────────┼─────────────\n",
      "│  \u001b[1;36m1966\u001b[0m │ \u001b[32m_26   \u001b[0m │ \u001b[32mAFG      \u001b[0m │ \u001b[32mTHA      \u001b[0m │     \u001b[1;36m0.0\u001b[0m │ \u001b[1;36m0.463608\u001b[0m │ \u001b[1;36m0.463608\u001b[0m │        \u001b[2mNULL\u001b[0m │         \u001b[1;36m0.0\u001b[0m │             \n",
      "│  \u001b[1;36m1967\u001b[0m │ \u001b[32m_26   \u001b[0m │ \u001b[32mAFG      \u001b[0m │ \u001b[32mTHA      \u001b[0m │     \u001b[1;36m0.0\u001b[0m │ \u001b[1;36m0.463608\u001b[0m │ \u001b[1;36m0.463608\u001b[0m │        \u001b[2mNULL\u001b[0m │         \u001b[1;36m0.0\u001b[0m │             \n",
      "│  \u001b[1;36m1968\u001b[0m │ \u001b[32m_26   \u001b[0m │ \u001b[32mAFG      \u001b[0m │ \u001b[32mTHA      \u001b[0m │     \u001b[1;36m0.0\u001b[0m │ \u001b[1;36m0.463608\u001b[0m │ \u001b[1;36m0.463608\u001b[0m │         \u001b[1;36m0.0\u001b[0m │         \u001b[1;36m0.0\u001b[0m │             \n",
      "│  \u001b[1;36m1969\u001b[0m │ \u001b[32m_26   \u001b[0m │ \u001b[32mAFG      \u001b[0m │ \u001b[32mTHA      \u001b[0m │     \u001b[1;36m0.0\u001b[0m │ \u001b[1;36m0.463608\u001b[0m │ \u001b[1;36m0.463608\u001b[0m │         \u001b[1;36m0.0\u001b[0m │         \u001b[1;36m0.0\u001b[0m │             \n",
      "│  \u001b[1;36m1970\u001b[0m │ \u001b[32m_26   \u001b[0m │ \u001b[32mAFG      \u001b[0m │ \u001b[32mTHA      \u001b[0m │     \u001b[1;36m0.0\u001b[0m │ \u001b[1;36m0.463608\u001b[0m │ \u001b[1;36m0.463608\u001b[0m │         \u001b[1;36m0.0\u001b[0m │         \u001b[1;36m0.0\u001b[0m │             \n",
      "└───────┴────────┴───────────┴───────────┴─────────┴──────────┴──────────┴─────────────┴─────────────┴─────────────\n"
     ]
    }
   ],
   "source": [
    "print(baci_tha.head())\n"
   ]
  },
  {
   "cell_type": "code",
   "execution_count": 32,
   "metadata": {},
   "outputs": [
    {
     "data": {
      "text/html": [
       "<pre style=\"white-space:pre;overflow-x:auto;line-height:normal;font-family:Menlo,'DejaVu Sans Mono',consolas,'Courier New',monospace\"></pre>\n"
      ],
      "text/plain": []
     },
     "metadata": {},
     "output_type": "display_data"
    },
    {
     "name": "stdout",
     "output_type": "stream",
     "text": [
      "┏━━━━━━━━━━━━━━━━┳━━━━━━━┳━━━━━━━━━┳━━━━━━━━┳━━━━━━━━┳━━━━━━━━┳━━━━━━━━┳━━━━━━━━━━━━━━┳━━━━━━━━━━━━━━┳━━━━━━━━━┳━━━\n",
      "┃\u001b[1m \u001b[0m\u001b[1mname\u001b[0m\u001b[1m          \u001b[0m\u001b[1m \u001b[0m┃\u001b[1m \u001b[0m\u001b[1mpos\u001b[0m\u001b[1m  \u001b[0m\u001b[1m \u001b[0m┃\u001b[1m \u001b[0m\u001b[1mtype\u001b[0m\u001b[1m   \u001b[0m\u001b[1m \u001b[0m┃\u001b[1m \u001b[0m\u001b[1mcount\u001b[0m\u001b[1m \u001b[0m\u001b[1m \u001b[0m┃\u001b[1m \u001b[0m\u001b[1mnulls\u001b[0m\u001b[1m \u001b[0m\u001b[1m \u001b[0m┃\u001b[1m \u001b[0m\u001b[1munique\u001b[0m\u001b[1m \u001b[0m┃\u001b[1m \u001b[0m\u001b[1mmode\u001b[0m\u001b[1m  \u001b[0m\u001b[1m \u001b[0m┃\u001b[1m \u001b[0m\u001b[1mmean\u001b[0m\u001b[1m        \u001b[0m\u001b[1m \u001b[0m┃\u001b[1m \u001b[0m\u001b[1mstd\u001b[0m\u001b[1m         \u001b[0m\u001b[1m \u001b[0m┃\u001b[1m \u001b[0m\u001b[1mmin\u001b[0m\u001b[1m    \u001b[0m\u001b[1m \u001b[0m┃\u001b[1m \u001b[0m\u001b[1mp2\u001b[0m\n",
      "┡━━━━━━━━━━━━━━━━╇━━━━━━━╇━━━━━━━━━╇━━━━━━━━╇━━━━━━━━╇━━━━━━━━╇━━━━━━━━╇━━━━━━━━━━━━━━╇━━━━━━━━━━━━━━╇━━━━━━━━━╇━━━\n",
      "│ \u001b[2mstring\u001b[0m         │ \u001b[2mint16\u001b[0m │ \u001b[2mstring\u001b[0m  │ \u001b[2mint64\u001b[0m  │ \u001b[2mint64\u001b[0m  │ \u001b[2mint64\u001b[0m  │ \u001b[2mstring\u001b[0m │ \u001b[2mfloat64\u001b[0m      │ \u001b[2mfloat64\u001b[0m      │ \u001b[2mfloat64\u001b[0m │ \u001b[2mfl\u001b[0m\n",
      "├────────────────┼───────┼─────────┼────────┼────────┼────────┼────────┼──────────────┼──────────────┼─────────┼───\n",
      "│ \u001b[32mtrade_sq_yr   \u001b[0m │     \u001b[1;36m8\u001b[0m │ \u001b[32mfloat64\u001b[0m │ \u001b[1;36m146349\u001b[0m │      \u001b[1;36m0\u001b[0m │ \u001b[1;36m105733\u001b[0m │ \u001b[2mNULL\u001b[0m   │ \u001b[1;36m7.065935e+07\u001b[0m │ \u001b[1;36m9.149485e+08\u001b[0m │     \u001b[1;36m0.0\u001b[0m │   \n",
      "│ \u001b[32mflag_extra_neg\u001b[0m │     \u001b[1;36m9\u001b[0m │ \u001b[32mint64  \u001b[0m │ \u001b[1;36m146349\u001b[0m │      \u001b[1;36m0\u001b[0m │      \u001b[1;36m2\u001b[0m │ \u001b[2mNULL\u001b[0m   │ \u001b[1;36m1.314256e-01\u001b[0m │ \u001b[1;36m3.378663e-01\u001b[0m │     \u001b[1;36m0.0\u001b[0m │   \n",
      "│ \u001b[32mflag_extra_cty\u001b[0m │    \u001b[1;36m10\u001b[0m │ \u001b[32mint64  \u001b[0m │ \u001b[1;36m146349\u001b[0m │      \u001b[1;36m0\u001b[0m │      \u001b[1;36m2\u001b[0m │ \u001b[2mNULL\u001b[0m   │ \u001b[1;36m2.580544e-01\u001b[0m │ \u001b[1;36m4.375656e-01\u001b[0m │     \u001b[1;36m0.0\u001b[0m │   \n",
      "│ \u001b[32mflag_extra_avg\u001b[0m │    \u001b[1;36m11\u001b[0m │ \u001b[32mint64  \u001b[0m │ \u001b[1;36m146349\u001b[0m │      \u001b[1;36m0\u001b[0m │      \u001b[1;36m2\u001b[0m │ \u001b[2mNULL\u001b[0m   │ \u001b[1;36m5.307792e-01\u001b[0m │ \u001b[1;36m4.990534e-01\u001b[0m │     \u001b[1;36m0.0\u001b[0m │   \n",
      "│ \u001b[32myear          \u001b[0m │     \u001b[1;36m0\u001b[0m │ \u001b[32mint64  \u001b[0m │ \u001b[1;36m146349\u001b[0m │      \u001b[1;36m0\u001b[0m │     \u001b[1;36m55\u001b[0m │ \u001b[2mNULL\u001b[0m   │ \u001b[1;36m1.994450e+03\u001b[0m │ \u001b[1;36m1.571929e+01\u001b[0m │  \u001b[1;36m1966.0\u001b[0m │ \u001b[1;36m19\u001b[0m\n",
      "│ \u001b[32mgroup         \u001b[0m │     \u001b[1;36m1\u001b[0m │ \u001b[32mstring \u001b[0m │ \u001b[1;36m146349\u001b[0m │      \u001b[1;36m0\u001b[0m │      \u001b[1;36m9\u001b[0m │ \u001b[32m_C3   \u001b[0m │         \u001b[2mNULL\u001b[0m │         \u001b[2mNULL\u001b[0m │    \u001b[2mNULL\u001b[0m │   \n",
      "│ \u001b[32miso3_tp_o     \u001b[0m │     \u001b[1;36m2\u001b[0m │ \u001b[32mstring \u001b[0m │ \u001b[1;36m146349\u001b[0m │      \u001b[1;36m0\u001b[0m │    \u001b[1;36m168\u001b[0m │ \u001b[32mTHA   \u001b[0m │         \u001b[2mNULL\u001b[0m │         \u001b[2mNULL\u001b[0m │    \u001b[2mNULL\u001b[0m │   \n",
      "│ \u001b[32miso3_tp_d     \u001b[0m │     \u001b[1;36m3\u001b[0m │ \u001b[32mstring \u001b[0m │ \u001b[1;36m146349\u001b[0m │      \u001b[1;36m0\u001b[0m │    \u001b[1;36m168\u001b[0m │ \u001b[32mTHA   \u001b[0m │         \u001b[2mNULL\u001b[0m │         \u001b[2mNULL\u001b[0m │    \u001b[2mNULL\u001b[0m │   \n",
      "│ \u001b[32mpref          \u001b[0m │     \u001b[1;36m4\u001b[0m │ \u001b[32mfloat64\u001b[0m │ \u001b[1;36m146349\u001b[0m │ \u001b[1;36m104211\u001b[0m │   \u001b[1;36m2486\u001b[0m │ \u001b[2mNULL\u001b[0m   │ \u001b[1;36m2.666790e-02\u001b[0m │ \u001b[1;36m6.649746e-02\u001b[0m │     \u001b[1;36m0.0\u001b[0m │   \n",
      "│ \u001b[32mmfn           \u001b[0m │     \u001b[1;36m5\u001b[0m │ \u001b[32mfloat64\u001b[0m │ \u001b[1;36m146349\u001b[0m │   \u001b[1;36m6732\u001b[0m │  \u001b[1;36m14278\u001b[0m │ \u001b[2mNULL\u001b[0m   │ \u001b[1;36m2.161318e-01\u001b[0m │ \u001b[1;36m1.804565e-01\u001b[0m │     \u001b[1;36m0.0\u001b[0m │   \n",
      "│ \u001b[2m…\u001b[0m              │     \u001b[2m…\u001b[0m │ \u001b[2m…\u001b[0m       │      \u001b[2m…\u001b[0m │      \u001b[2m…\u001b[0m │      \u001b[2m…\u001b[0m │ \u001b[2m…\u001b[0m      │            \u001b[2m…\u001b[0m │            \u001b[2m…\u001b[0m │       \u001b[2m…\u001b[0m │   \n",
      "└────────────────┴───────┴─────────┴────────┴────────┴────────┴────────┴──────────────┴──────────────┴─────────┴───\n"
     ]
    }
   ],
   "source": [
    "print(baci_tha.describe())"
   ]
  },
  {
   "cell_type": "code",
   "execution_count": null,
   "metadata": {},
   "outputs": [],
   "source": []
  }
 ],
 "metadata": {
  "kernelspec": {
   "display_name": "Python 3",
   "language": "python",
   "name": "python3"
  },
  "language_info": {
   "codemirror_mode": {
    "name": "ipython",
    "version": 3
   },
   "file_extension": ".py",
   "mimetype": "text/x-python",
   "name": "python",
   "nbconvert_exporter": "python",
   "pygments_lexer": "ipython3",
   "version": "3.12.4"
  }
 },
 "nbformat": 4,
 "nbformat_minor": 2
}
