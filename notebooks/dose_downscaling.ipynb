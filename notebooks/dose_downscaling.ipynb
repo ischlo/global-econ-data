{
 "cells": [
  {
   "cell_type": "code",
   "execution_count": null,
   "metadata": {},
   "outputs": [],
   "source": [
    "import json\n",
    "import io\n",
    "import re\n",
    "import itertools as iter\n",
    "import numpy as np\n",
    "\n",
    "# data\n",
    "import pandas as pd\n",
    "import geopandas as gpd\n",
    "# import shapely\n",
    "import duckdb\n",
    "# from scipy import io as io\n",
    "# import nctoolkit as nc\n",
    "# import xarray as xr\n",
    "# import rioxarray as rx\n",
    "import glob\n",
    "import ibis as ib\n",
    "from ibis import _\n",
    "ib.options.interactive = True\n",
    "\n",
    "# plots\n",
    "\n",
    "from datashader import transfer_functions as tf, reductions as rd\n",
    "import pypalettes as pypal\n",
    "import pydeck as pdk\n",
    "from seaborn import color_palette"
   ]
  },
  {
   "cell_type": "markdown",
   "metadata": {},
   "source": [
    "### Downscaling missing DOSE \n",
    "\n",
    "could be moved to another notebook."
   ]
  },
  {
   "cell_type": "code",
   "execution_count": null,
   "metadata": {},
   "outputs": [],
   "source": [
    "# import h3"
   ]
  },
  {
   "cell_type": "code",
   "execution_count": null,
   "metadata": {},
   "outputs": [],
   "source": [
    "# base_res = 4"
   ]
  },
  {
   "cell_type": "code",
   "execution_count": null,
   "metadata": {},
   "outputs": [],
   "source": [
    "# wdi_country_simple[\"hex\"] = wdi_country_simple[\"geometry\"].apply(h3.geo_to_cells,res = base_res)"
   ]
  },
  {
   "cell_type": "code",
   "execution_count": null,
   "metadata": {},
   "outputs": [],
   "source": [
    "# gpd.GeoSeries(wdi_country_simple[\"hex\"].apply(h3.cells_to_h3shape),crs=\"EPSG:4326\").explore()"
   ]
  },
  {
   "cell_type": "code",
   "execution_count": null,
   "metadata": {},
   "outputs": [],
   "source": [
    "# wdi_country_hex = wdi_country_simple.explode(\"hex\").reset_index(drop=True)"
   ]
  },
  {
   "cell_type": "code",
   "execution_count": null,
   "metadata": {},
   "outputs": [],
   "source": [
    "# wdi_country_hex"
   ]
  }
 ],
 "metadata": {
  "language_info": {
   "name": "python"
  }
 },
 "nbformat": 4,
 "nbformat_minor": 2
}
