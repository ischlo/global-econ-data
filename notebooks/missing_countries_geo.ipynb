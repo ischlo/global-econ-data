{
 "cells": [
  {
   "cell_type": "markdown",
   "metadata": {},
   "source": [
    "# Economic activity data georeferenced\n",
    "This notebook builds up on the previous one in which a non-spatial data set of countries admin 1 and 0 level is combined from DOSE and WDI. \n",
    "\n",
    "Here the geometries are added."
   ]
  },
  {
   "cell_type": "markdown",
   "metadata": {},
   "source": [
    "## Data\n",
    "\n",
    "Reading in the data set that is generated from *missing_countries.ipynb*"
   ]
  },
  {
   "cell_type": "code",
   "execution_count": 3,
   "metadata": {},
   "outputs": [],
   "source": [
    "import json\n",
    "import io\n",
    "import re\n",
    "import itertools as iter\n",
    "import numpy as np\n",
    "import os\n",
    "\n",
    "# data\n",
    "import pandas as pd\n",
    "import geopandas as gpd\n",
    "import ibis as ib\n",
    "from ibis import _\n",
    "ib.options.interactive = True\n",
    "\n",
    "from parameters import year\n",
    "\n",
    "# plots\n",
    "from datashader import transfer_functions as tf, reductions as rd\n",
    "import pypalettes as pypal\n",
    "import pydeck as pdk\n",
    "from seaborn import color_palette"
   ]
  },
  {
   "cell_type": "code",
   "execution_count": null,
   "metadata": {},
   "outputs": [],
   "source": [
    "# ddb.connect()\n",
    "conn = ib.connect('duckdb://')\n",
    "conn.list_tables() # empty"
   ]
  },
  {
   "cell_type": "code",
   "execution_count": 5,
   "metadata": {},
   "outputs": [],
   "source": [
    "# boundaries = gpd.read_file(\"datasets/boundaries/GADM/gadm_410.gpkg\")\n",
    "# load boundaries data set directly into duckdb\n",
    "# load extension first\n",
    "\n",
    "res = conn.raw_sql(\"\"\"INSTALL spatial;LOAD spatial;\"\"\")"
   ]
  },
  {
   "cell_type": "code",
   "execution_count": 6,
   "metadata": {},
   "outputs": [],
   "source": [
    "# the merged file\n",
    "\n",
    "#local path with folder where the downloaded shapefiles are stored \n",
    "#(both GADM and the custom one)\n",
    "\n",
    "gadm_path = '../datasets/DOSE/DOSE_replication_files/DOSE_replication_files/Data/spatial data/' # ../../../../../\n",
    "\n",
    "# Read shapefiles\n",
    "\n",
    "file_name = \"gadm36_1\"\n"
   ]
  },
  {
   "cell_type": "code",
   "execution_count": 7,
   "metadata": {},
   "outputs": [],
   "source": [
    "\n",
    "# gpd.list_layers(gadm_path+file_name+\".gpkg\")\n"
   ]
  },
  {
   "cell_type": "code",
   "execution_count": 8,
   "metadata": {},
   "outputs": [],
   "source": [
    "gadm = gpd.read_file(gadm_path+\"gadm36_levels_shp/\" + file_name+\".shp\")\n",
    "# has to be downloaded from https://gadm.org/download_world36.html; follow instructions in readme\n"
   ]
  },
  {
   "cell_type": "code",
   "execution_count": null,
   "metadata": {},
   "outputs": [],
   "source": [
    "custom = gpd.read_file(gadm_path+'all_non_GADM_regions.shp')\n",
    "\n",
    "#list of GADM countries whose data is not needed because we provide it with the custom file\n",
    "unneeded_list = [\"KAZ\",\"MKD\",\"NPL\",\"PHL\",\"LKA\"]\n",
    "\n",
    "#remove geometry for these countries from GADM\n",
    "gadm_trim = gadm[~gadm.GID_0.isin(unneeded_list)]\n",
    "\n",
    "\n",
    "# Merge/Combine multiple shapefiles into one\n",
    "gadm_custom = gpd.pd.concat([gadm_trim, custom])\n",
    "gadm_custom.drop(columns=\"fid\",inplace=True)\n",
    "\n",
    "gadm_custom.head()"
   ]
  },
  {
   "cell_type": "code",
   "execution_count": 10,
   "metadata": {},
   "outputs": [],
   "source": [
    "#Export merged geodataframe into shapefile\n",
    "\n",
    "out_path = \"../datasets/DOSE/\" # ../../../../../\n",
    "gadm_custom.to_parquet(out_path+file_name+'_custom_merged.parquet')\n",
    "\n",
    "# gpd.list_layers(gadm_path+\"gadm_410-levels.gpkg\")\n",
    "# adm1 = gpd.read_file(\"../datasets/DOSE/DOSE_replication_files/DOSE_replication_files/Data/spatial data/gadm_410-levels.gpkg\",layer=\"ADM_1\")"
   ]
  },
  {
   "cell_type": "code",
   "execution_count": null,
   "metadata": {},
   "outputs": [],
   "source": [
    "geoboundaries_file = '\"../datasets/boundaries/GeoBoundaries/geoBoundariesCGAZ_ADM1.gpkg\"'\n",
    "\n",
    "gadm_file =  '\"../datasets/boundaries/GADM/gadm_410.gpkg\"'\n",
    "\n",
    "dose_spatial_file = out_path+file_name+'_custom_merged.parquet'\n",
    "\n",
    "conn.raw_sql(f\"\"\"CREATE OR REPLACE TABLE boundaries AS SELECT * FROM '{dose_spatial_file}';\"\"\")\n",
    "\n",
    "# alternative method\n",
    "# conn.read_geo(\"datasets/boundaries/GADM/gadm_410.gpkg\", table_name=\"boundaries\")\n"
   ]
  },
  {
   "cell_type": "code",
   "execution_count": null,
   "metadata": {},
   "outputs": [],
   "source": [
    "# link the table from the duckdb, this is not performed by the previous operation\n",
    "boundaries = conn.table(\"boundaries\")\n",
    "boundaries"
   ]
  },
  {
   "cell_type": "code",
   "execution_count": 13,
   "metadata": {},
   "outputs": [],
   "source": [
    "# wb_countries = gpd.read_file(\"datasets/boundaries/WB_countries_Admin0_10m/WB_countries_Admin0_10m.shp\")"
   ]
  },
  {
   "cell_type": "markdown",
   "metadata": {},
   "source": [
    "### Reading the local dose-WDI data set\n"
   ]
  },
  {
   "cell_type": "code",
   "execution_count": 14,
   "metadata": {},
   "outputs": [],
   "source": [
    "dose_wdi_path = \"../datasets/local_data/dose-wdi/\"\n",
    "version = \"0_3\"\n",
    "\n",
    "dose_light = conn.read_csv(source_list=f\"{dose_wdi_path}{version}/dose_light_combined_{year}_{version}.csv\",table_name=\"dose_light\")\n"
   ]
  },
  {
   "cell_type": "markdown",
   "metadata": {},
   "source": [
    "### Preparing the data"
   ]
  },
  {
   "cell_type": "code",
   "execution_count": 15,
   "metadata": {},
   "outputs": [],
   "source": [
    "# nice function from ibis\n",
    "boundaries = boundaries.rename(\"snake_case\")\n",
    "dose_light = dose_light.rename(\"snake_case\")"
   ]
  },
  {
   "cell_type": "code",
   "execution_count": null,
   "metadata": {},
   "outputs": [],
   "source": [
    "boundary_countries = conn.sql(\"Select distinct(gid_1) from boundaries;\").to_pandas().iloc[:,0].to_list()\n",
    "len(boundary_countries)"
   ]
  },
  {
   "cell_type": "code",
   "execution_count": null,
   "metadata": {},
   "outputs": [],
   "source": [
    "boundaries.head()"
   ]
  },
  {
   "cell_type": "code",
   "execution_count": 18,
   "metadata": {},
   "outputs": [],
   "source": [
    "def head_rand(conn: ib.backends.duckdb.Backend, table: str, limit:[int,str]=5):\n",
    "    query = f\"select * from {table} order by random() limit {limit};\"\n",
    "    # alternative using the duckdb sample command\n",
    "    # query_ = f\"select * from {table} using sample {limit};\"\n",
    "    return conn.sql(query=query)\n"
   ]
  },
  {
   "cell_type": "code",
   "execution_count": null,
   "metadata": {},
   "outputs": [],
   "source": [
    "head_rand(conn=conn,table=\"dose_light\",limit=10)\n"
   ]
  },
  {
   "cell_type": "code",
   "execution_count": null,
   "metadata": {},
   "outputs": [],
   "source": [
    "head_rand(conn=conn,table=\"boundaries\",limit=10)"
   ]
  },
  {
   "cell_type": "code",
   "execution_count": 21,
   "metadata": {},
   "outputs": [],
   "source": [
    "# subsetting the boundaries data:\n",
    "boundary_columns = [\"GID_0\",\"NAME_0\",\"GID_1\",\"NAME_1\",\"geometry\"]\n",
    "boundary_columns = [str(x).lower() for x in boundary_columns]\n",
    "\n",
    "boundaries = boundaries.select(boundary_columns)"
   ]
  },
  {
   "cell_type": "code",
   "execution_count": null,
   "metadata": {},
   "outputs": [],
   "source": [
    "# head_rand(conn=conn,table=\"boundaries\",limit=10)\n",
    "boundaries.count()"
   ]
  },
  {
   "cell_type": "code",
   "execution_count": null,
   "metadata": {},
   "outputs": [],
   "source": [
    "boundaries.gid_0.value_counts().execute().head(5)\n",
    "# boundaries.filter(_.name_0==\"Colombia\"\n",
    "#                   ).execute().tail(20)"
   ]
  },
  {
   "cell_type": "code",
   "execution_count": null,
   "metadata": {},
   "outputs": [],
   "source": [
    "dose_light[dose_light.gid_0==\"VEN\"].execute()"
   ]
  },
  {
   "cell_type": "code",
   "execution_count": null,
   "metadata": {},
   "outputs": [],
   "source": [
    "conn.list_tables()"
   ]
  },
  {
   "cell_type": "code",
   "execution_count": 26,
   "metadata": {},
   "outputs": [],
   "source": [
    "# # grouping geometries query\n",
    "# # first(country) as country\n",
    "# #                 ,\n",
    "# geom_query = \"\"\"create view boundaries_1 as (select \n",
    "#                 first(gid_0) as gid_0\n",
    "#                 ,first(name_0) as name_0\n",
    "#                 ,first(gid_1) as gid_1\n",
    "#                 ,first(name_1) as name_1 \n",
    "#                 ,ST_Union_Agg(geom) as geom from boundaries group by gid_1);\"\"\"\n",
    "\n",
    "# boundaries_1 = conn.raw_sql(geom_query)"
   ]
  },
  {
   "cell_type": "code",
   "execution_count": 27,
   "metadata": {},
   "outputs": [],
   "source": [
    "# boundaries_1 = conn.table(\"boundaries_1\")\n",
    "# print(boundaries_1.nunique())\n",
    "# boundaries_1"
   ]
  },
  {
   "cell_type": "code",
   "execution_count": 28,
   "metadata": {},
   "outputs": [],
   "source": [
    "# boundaries_1_file = \"boundaries_admin1.parquet\"\n",
    "\n",
    "# if not os.path.exists(boundaries_1_file):\n",
    "#     boundaries_1.to_parquet(\"boundaries_admin1.parquet\")\n",
    "# else : \n",
    "#     conn.raw_sql(f\"CREATE OR REPLACE TABLE boundaries_1 AS (SELECT * FROM '{boundaries_1_file}')\")"
   ]
  },
  {
   "cell_type": "code",
   "execution_count": 29,
   "metadata": {},
   "outputs": [],
   "source": [
    "# boundaries_0 = boundaries.select(_.gid_0) # .sql(\"select * EXCLUDE (geometry), ST_Centroid(ST_GeomFromWKB(geometry)) as geom from boundaries;\")"
   ]
  },
  {
   "cell_type": "code",
   "execution_count": 30,
   "metadata": {},
   "outputs": [],
   "source": [
    "boundaries_1 = conn.sql(\"\"\"select * EXCLUDE (geometry)\n",
    "                        , ST_Centroid(ST_GeomFromWKB(geometry)) as centr\n",
    "                        , ST_GeomFromWKB(geometry) as geometry \n",
    "                        from boundaries;\"\"\")"
   ]
  },
  {
   "cell_type": "code",
   "execution_count": null,
   "metadata": {},
   "outputs": [],
   "source": [
    "boundaries_1.head()"
   ]
  },
  {
   "cell_type": "code",
   "execution_count": null,
   "metadata": {},
   "outputs": [],
   "source": [
    "boundaries_1.filter(_.GID_0==\"LAO\")"
   ]
  },
  {
   "cell_type": "markdown",
   "metadata": {},
   "source": [
    "### Working only on centroids"
   ]
  },
  {
   "cell_type": "code",
   "execution_count": 33,
   "metadata": {},
   "outputs": [],
   "source": [
    "# # grouping geometries query\n",
    "# geom_centroid_query = \"\"\"select country as country\n",
    "#                 ,gid_0 as gid_0\n",
    "#                 ,name_0 as name_0\n",
    "#                 ,gid_1 as gid_1\n",
    "#                 ,name_1 as name_1 \n",
    "#                 ,ST_Centroid(geom) as geom from boundaries;\"\"\"\n",
    "# boundaries_centr = conn.sql(geom_centroid_query)"
   ]
  },
  {
   "cell_type": "code",
   "execution_count": 34,
   "metadata": {},
   "outputs": [],
   "source": [
    "boundaries_centr = boundaries_1.rename(\"snake_case\").execute()"
   ]
  },
  {
   "cell_type": "code",
   "execution_count": null,
   "metadata": {},
   "outputs": [],
   "source": [
    "boundaries_centr.loc[boundaries_centr.gid_0==\"PER\"]"
   ]
  },
  {
   "cell_type": "code",
   "execution_count": null,
   "metadata": {},
   "outputs": [],
   "source": [
    "# regions to merge with DOSE\n",
    "\n",
    "boundaries_1_centr = boundaries_centr.dissolve(\"gid_1\")\n",
    "boundaries_1_centr[\"centr\"] = boundaries_1_centr.geometry.centroid\n",
    "# \n",
    "# boundaries_1_centr.drop(columns=\"geom\",inplace=True)\n",
    "boundaries_1_centr.reset_index(inplace=True,drop=False)\n",
    "# \n",
    "boundaries_1_centr = boundaries_1_centr.astype({\"gid_1\":str})\n",
    "boundaries_1_centr.dtypes"
   ]
  },
  {
   "cell_type": "code",
   "execution_count": 37,
   "metadata": {},
   "outputs": [],
   "source": [
    "gadm_gid_0_filename = f\"{out_path}gadm_gid_0.parquet\"\n"
   ]
  },
  {
   "cell_type": "code",
   "execution_count": 38,
   "metadata": {},
   "outputs": [],
   "source": [
    "\n",
    "if not os.path.exists(gadm_gid_0_filename):\n",
    "    boundaries_0_centr = conn.sql(\n",
    "    \"\"\"SELECT \n",
    "            gid_0, \n",
    "            ST_Union_Agg(geometry) as geometry \n",
    "            from \n",
    "                (select * EXCLUDE (geometry)\n",
    "                            , ST_Centroid(ST_GeomFromWKB(geometry)) as centr\n",
    "                            , ST_GeomFromWKB(geometry) as geometry \n",
    "                            from boundaries) \n",
    "            GROUP BY gid_0;\"\"\").execute() # boundaries_1\n",
    "    \n",
    "    boundaries_0_centr.set_crs(epsg=4326,inplace=True)\n",
    "    boundaries_0_centr.to_parquet(gadm_gid_0_filename)\n",
    "\n",
    "\n"
   ]
  },
  {
   "cell_type": "code",
   "execution_count": 39,
   "metadata": {},
   "outputs": [],
   "source": [
    "boundaries_0_centr = gpd.read_parquet(gadm_gid_0_filename)\n"
   ]
  },
  {
   "cell_type": "code",
   "execution_count": 40,
   "metadata": {},
   "outputs": [],
   "source": [
    "boundaries_0_centr.columns = [x.lower() for x in boundaries_0_centr.columns]"
   ]
  },
  {
   "cell_type": "code",
   "execution_count": null,
   "metadata": {},
   "outputs": [],
   "source": [
    "\n",
    "# boundaries_0_centr = boundaries_centr[[\"gid_0\",\"geometry\"]].set_geometry(\"geometry\").set_crs(epsg=4326).dissolve(by=\"gid_0\")\n",
    "boundaries_0_centr[\"centr\"] = boundaries_0_centr.geometry.centroid\n",
    "# \n",
    "# boundaries_0_centr.drop(columns=\"geom\",inplace=True)\n",
    "boundaries_0_centr.reset_index(inplace=True,drop=False)\n",
    "# \n",
    "boundaries_0_centr = boundaries_0_centr.astype({\"gid_0\":str})\n",
    "boundaries_0_centr.dtypes"
   ]
  },
  {
   "cell_type": "code",
   "execution_count": null,
   "metadata": {},
   "outputs": [],
   "source": [
    "boundaries_0_centr[boundaries_0_centr.gid_0==\"SEN\"].set_geometry(\"geometry\").set_crs(epsg=4326).explore()"
   ]
  },
  {
   "cell_type": "code",
   "execution_count": null,
   "metadata": {},
   "outputs": [],
   "source": [
    "dose_light.count()"
   ]
  },
  {
   "cell_type": "code",
   "execution_count": 44,
   "metadata": {},
   "outputs": [],
   "source": [
    "dose_light_geo_ = dose_light.execute()"
   ]
  },
  {
   "cell_type": "code",
   "execution_count": null,
   "metadata": {},
   "outputs": [],
   "source": [
    "dose_light_geo_.dtypes"
   ]
  },
  {
   "cell_type": "code",
   "execution_count": 46,
   "metadata": {},
   "outputs": [],
   "source": [
    "dose_light_geo_ = dose_light_geo_.astype({\"gid_1\" : str})"
   ]
  },
  {
   "cell_type": "code",
   "execution_count": null,
   "metadata": {},
   "outputs": [],
   "source": [
    "dose_light_geo_[dose_light_geo_.gid_1==\"LAO\"]"
   ]
  },
  {
   "cell_type": "code",
   "execution_count": null,
   "metadata": {},
   "outputs": [],
   "source": [
    "boundaries_1_centr.dtypes"
   ]
  },
  {
   "cell_type": "code",
   "execution_count": 49,
   "metadata": {},
   "outputs": [],
   "source": [
    "dose_light_geo = gpd.GeoDataFrame(dose_light_geo_.merge(boundaries_1_centr[[\"gid_1\",\"centr\",\"geometry\"]],on=\"gid_1\",how=\"left\"))"
   ]
  },
  {
   "cell_type": "code",
   "execution_count": null,
   "metadata": {},
   "outputs": [],
   "source": [
    "dose_light_geo[dose_light_geo.gid_1==\"LAO\"]"
   ]
  },
  {
   "cell_type": "code",
   "execution_count": null,
   "metadata": {},
   "outputs": [],
   "source": [
    "missing_geoms = dose_light_geo.centr.isna()\n",
    "missing_geoms"
   ]
  },
  {
   "cell_type": "code",
   "execution_count": 52,
   "metadata": {},
   "outputs": [],
   "source": [
    "missing_countries = dose_light_geo_.loc[missing_geoms,\"gid_0\"].to_list()\n"
   ]
  },
  {
   "cell_type": "code",
   "execution_count": 53,
   "metadata": {},
   "outputs": [],
   "source": [
    "# \"LAO\" in missing_countries"
   ]
  },
  {
   "cell_type": "code",
   "execution_count": 54,
   "metadata": {},
   "outputs": [],
   "source": [
    "boundaries_0_centr_missing = boundaries_0_centr[boundaries_0_centr.gid_0.isin(missing_countries)].set_index(\"gid_0\")\n",
    "dose_light_geo.set_index(\"gid_0\",inplace=True)\n"
   ]
  },
  {
   "cell_type": "code",
   "execution_count": null,
   "metadata": {},
   "outputs": [],
   "source": [
    "boundaries_0_centr_missing.head()"
   ]
  },
  {
   "cell_type": "code",
   "execution_count": 56,
   "metadata": {},
   "outputs": [],
   "source": [
    "dose_light_geo.loc[missing_countries,[\"centr\",\"geometry\"]] = boundaries_0_centr_missing[[\"centr\",\"geometry\"]]\n",
    "dose_light_geo.reset_index(inplace=True,drop=False)"
   ]
  },
  {
   "cell_type": "code",
   "execution_count": null,
   "metadata": {},
   "outputs": [],
   "source": [
    "# dose_light_geo.set_geometry(\"geometry\",inplace=True).set_crs(epsg=4326,inplace=True)\n",
    "# dose_light_geo.set_crs(epsg=4326,inplace=True)\n",
    "\n",
    "dose_light_geo.set_geometry(\"centr\",inplace=True)\n",
    "dose_light_geo.set_crs(epsg=4326,inplace=True)"
   ]
  },
  {
   "cell_type": "code",
   "execution_count": null,
   "metadata": {},
   "outputs": [],
   "source": [
    "dose_light_geo.loc[dose_light_geo.gid_0==\"PER\"].set_geometry(\"geometry\").set_crs(epsg=4326).explore()"
   ]
  },
  {
   "cell_type": "markdown",
   "metadata": {},
   "source": [
    "### Merging "
   ]
  },
  {
   "cell_type": "markdown",
   "metadata": {},
   "source": [
    "## Plotting"
   ]
  },
  {
   "cell_type": "markdown",
   "metadata": {},
   "source": [
    "### Set up color palette for the map."
   ]
  },
  {
   "cell_type": "code",
   "execution_count": null,
   "metadata": {},
   "outputs": [],
   "source": [
    "viridis = color_palette(\"viridis\", as_cmap=True) # the sns function\n",
    "viridis"
   ]
  },
  {
   "cell_type": "code",
   "execution_count": null,
   "metadata": {},
   "outputs": [],
   "source": [
    "col_pal = pypal.load_cmap(\"Apricot\",reverse=True)\n",
    "col_pal.N"
   ]
  },
  {
   "cell_type": "code",
   "execution_count": 61,
   "metadata": {},
   "outputs": [],
   "source": [
    "def cmap(input, palette):\n",
    "    input = np.nan_to_num(input).tolist()\n",
    "    m = np.max(input)\n",
    "    l = palette.N\n",
    "    print(\"Max input : {}, palette colors : {}\".format(m,l))\n",
    "    return [[int(255*j) for j in palette(int(x/m*l))] for x in input] #"
   ]
  },
  {
   "cell_type": "code",
   "execution_count": 62,
   "metadata": {},
   "outputs": [],
   "source": [
    "# unique_vals = pd.Series(dose_light_geo[\"grp_usd_2015_dose\"].unique())\n",
    "# unique_vals"
   ]
  },
  {
   "cell_type": "code",
   "execution_count": null,
   "metadata": {},
   "outputs": [],
   "source": [
    "cols = cmap(np.log1p(dose_light_geo[\"grp_usd_2015\"]),palette=col_pal)\n",
    "dose_light_geo[\"color\"] = cols\n",
    "dose_light_geo[\"radius\"] = np.log1p(dose_light_geo[\"grp_usd_2015\"])\n",
    "dose_light_geo.head()"
   ]
  },
  {
   "cell_type": "code",
   "execution_count": 64,
   "metadata": {},
   "outputs": [],
   "source": [
    "# dose_light_geo.loc[dose_light_geo.country==\"Colombia\"]\n",
    "dose_light_geo = dose_light_geo.set_geometry(\"geometry\")"
   ]
  },
  {
   "cell_type": "code",
   "execution_count": 65,
   "metadata": {},
   "outputs": [],
   "source": [
    "dose_light_geo[\"x\"]=dose_light_geo.centr.x\n",
    "dose_light_geo[\"y\"]=dose_light_geo.centr.y"
   ]
  },
  {
   "cell_type": "code",
   "execution_count": 66,
   "metadata": {},
   "outputs": [],
   "source": [
    "# dose_light_geo[dose_light_geo.gid_0==\"LAO\"]"
   ]
  },
  {
   "cell_type": "code",
   "execution_count": 67,
   "metadata": {},
   "outputs": [],
   "source": [
    "# contains some missing bits. \n",
    "# dose_wdi_geo_filename = \"dose_wdi_geo\"\n",
    "# dose_light_geo.to_parquet(\"../datasets/local_data/dose-wdi/\"+dose_wdi_geo_filename+\".parquet\")"
   ]
  },
  {
   "cell_type": "markdown",
   "metadata": {},
   "source": [
    "#### Deck map"
   ]
  },
  {
   "cell_type": "code",
   "execution_count": 68,
   "metadata": {},
   "outputs": [],
   "source": [
    "# viewport = pdk.data_utils.compute_view(points=compact_geo_downscaled[['x', 'y']], view_proportion=0.9)\n",
    "\n",
    "viewport = pdk.ViewState(longitude=0,latitude=0,zoom=2)"
   ]
  },
  {
   "cell_type": "code",
   "execution_count": 69,
   "metadata": {},
   "outputs": [],
   "source": [
    "# Deck map showing the combined layers for each variable\n",
    "\n",
    "gdp_layer = pdk.Layer(\n",
    "    \"ScatterplotLayer\",\n",
    "    dose_light_geo[[\"country\",\"x\",\"y\",\"color\",\"radius\",\"gid_1\",\"services_usd_2015\",\"manufacturing_usd_2015\",\"agriculture_usd_2015\",\"grp_usd_2015\"]],\n",
    "    pickable=True,\n",
    "    extruded=False,\n",
    "    filled=True,\n",
    "    stroked=True,\n",
    "    opacity=.6,\n",
    "    get_radius=[\"radius\"],\n",
    "    radius_scale=2000,\n",
    "    radius_min_pixels=1,\n",
    "    radius_max_pixels=15,\n",
    "    get_position = [\"x\",\"y\"],\n",
    "    # get_polygons = \"geom\",\n",
    "    get_fill_color = \"color\", #\"[255*log_value/20,100,120]\",\n",
    "    get_line_color= [255, 255, 255, 0],\n",
    "    line_width_min_pixels=0,\n",
    "    line_width_max_pixels=1,\n",
    "    )\n",
    "\n",
    "\n",
    "# h3_layer = pdk.Layer(\n",
    "#     \"H3HexagonLayer\",\n",
    "#     dose_light_geo[[\"gdp\",\"hex\",\"color\"]],\n",
    "#     pickable=True,\n",
    "#     stroked=True,\n",
    "#     filled=True,\n",
    "#     opacity=.5,\n",
    "#     extruded=False,\n",
    "#     get_hexagon=\"hex\",\n",
    "#     get_fill_color= \"color\", #[230, 200, 180, 255],\n",
    "#     get_line_color=[0, 0, 0, 0],\n",
    "#     line_width_min_pixels=1,\n",
    "# )\n"
   ]
  },
  {
   "cell_type": "code",
   "execution_count": 70,
   "metadata": {},
   "outputs": [],
   "source": [
    "r = pdk.Deck(layers=[gdp_layer]\n",
    "            ,initial_view_state=viewport\n",
    "            ,tooltip={\"html\": \"\"\"<h3>{country} : {gid_1}</h3> \n",
    "                      <p> Services :  {services_usd_2015} </p> \n",
    "                      <p> Manufacturing: {manufacturing_usd_2015} </p>\n",
    "                      <p> Agriculture: {agriculture_usd_2015} </p>\n",
    "                      <p> Total: {grp_usd_2015} </p>\n",
    "                      \"\"\"}\n",
    "            ,\n",
    "            # ,mapbox_key=\"MAPBOX_API_KEY\"\n",
    "            )"
   ]
  },
  {
   "cell_type": "code",
   "execution_count": null,
   "metadata": {},
   "outputs": [],
   "source": [
    "r.to_html(\"../deck_maps/dose-wdi_geometries_vis.html\",iframe_height=800)"
   ]
  },
  {
   "cell_type": "markdown",
   "metadata": {},
   "source": [
    "### Other maps:"
   ]
  },
  {
   "cell_type": "code",
   "execution_count": 72,
   "metadata": {},
   "outputs": [],
   "source": [
    "! export DASK_DATAFRAME__QUERY_PLANNING=False"
   ]
  },
  {
   "cell_type": "code",
   "execution_count": null,
   "metadata": {},
   "outputs": [],
   "source": [
    "import datashader as ds \n",
    "\n",
    "cvs = ds.Canvas(plot_width=650, plot_height=400)\n",
    "agg = cvs.polygons(dose_light_geo, geometry='geometry',agg=ds.any())\n",
    "tf.shade(agg)"
   ]
  },
  {
   "cell_type": "code",
   "execution_count": null,
   "metadata": {},
   "outputs": [],
   "source": []
  }
 ],
 "metadata": {
  "kernelspec": {
   "display_name": "Python 3",
   "language": "python",
   "name": "python3"
  },
  "language_info": {
   "codemirror_mode": {
    "name": "ipython",
    "version": 3
   },
   "file_extension": ".py",
   "mimetype": "text/x-python",
   "name": "python",
   "nbconvert_exporter": "python",
   "pygments_lexer": "ipython3",
   "version": "3.12.5"
  }
 },
 "nbformat": 4,
 "nbformat_minor": 2
}
