{
 "cells": [
  {
   "cell_type": "markdown",
   "metadata": {
    "vscode": {
     "languageId": "plaintext"
    }
   },
   "source": [
    "# Database setup"
   ]
  },
  {
   "cell_type": "code",
   "execution_count": 1,
   "metadata": {},
   "outputs": [],
   "source": [
    "# %% \n",
    "import numpy as np\n",
    "import sys\n",
    "import os\n",
    "# import config\n",
    "# data\n",
    "import pandas as pd\n",
    "\n",
    "from scalenav.plotting import cmap\n",
    "import scalenav.oop as snoo\n",
    "\n",
    "import ibis as ib\n",
    "from ibis import _\n",
    "import ibis.selectors as s\n",
    "\n",
    "ib.options.interactive = True\n",
    "ib.options.graphviz_repr = True\n",
    "\n",
    "import pypalettes as pypal\n",
    "import pydeck as pdk"
   ]
  },
  {
   "cell_type": "code",
   "execution_count": 2,
   "metadata": {},
   "outputs": [],
   "source": [
    "# # print(os.environ)\n",
    "# print(os.getenv(\"VSCODE_CWD\"))"
   ]
  },
  {
   "cell_type": "code",
   "execution_count": 3,
   "metadata": {},
   "outputs": [],
   "source": [
    "# import sys\n",
    "# import os\n",
    "\n",
    "# print(str(sys.path))\n",
    "\n",
    "# dir_path = os.path.dirname(os.path.realpath(__file__))\n",
    "# print(\"current working dir: %s\" % dir_path)\n",
    "\n",
    "# sys.path.insert(0, dir_path)"
   ]
  },
  {
   "cell_type": "code",
   "execution_count": 2,
   "metadata": {},
   "outputs": [],
   "source": [
    "from parameters import *"
   ]
  },
  {
   "cell_type": "code",
   "execution_count": 3,
   "metadata": {},
   "outputs": [],
   "source": [
    "#  %% \n",
    "db_filename = \"../datasets/global_data.db\"\n",
    "db_test = \"../datasets/db_test.db\""
   ]
  },
  {
   "cell_type": "code",
   "execution_count": 6,
   "metadata": {},
   "outputs": [],
   "source": [
    "# in scalenav\n",
    "# def sn_connect(database = ':memory:',interactive : bool = True,**kwargs):\n",
    "#     \"\"\"Create a duckDB connection with spatial and H3 extensions loaded.\n",
    "#     This function will not create a db from a jupyter notebook. run it in a script or a terminal to perform this action.\n",
    "#     \"\"\"\n",
    "    \n",
    "#     ib.options.interactive = interactive\n",
    "\n",
    "#     if database in [\"memory\", ':memory:', \"mem\"]:\n",
    "#         print(\"Connecting to a temporary in-memory DB instance.\")\n",
    "#         conn = ib.duckdb.connect()\n",
    "#     elif os.path.exists(database):\n",
    "#         print(\"connecting to existing database.\")\n",
    "#         conn = ib.duckdb.connect(database)\n",
    "#     else :\n",
    "#         print(\"Creating database at'\",database,\"'.\")\n",
    "#         with duckdb.connect(database) as con:\n",
    "#             pass\n",
    "#         conn = ib.duckdb.connect(database)\n",
    "\n",
    "#     conn.raw_sql(\"\"\"\n",
    "#         INSTALL spatial; \n",
    "#         LOAD spatial;\n",
    "#         INSTALL h3 FROM community;\n",
    "#         LOAD h3;\n",
    "#                     \"\"\")\n",
    "    \n",
    "#     return conn\n"
   ]
  },
  {
   "cell_type": "code",
   "execution_count": 7,
   "metadata": {},
   "outputs": [],
   "source": [
    "# def sn_head(input : ib.Table,n : int = 5):\n",
    "#     print(input.count())\n",
    "#     print(input.head(n))"
   ]
  },
  {
   "cell_type": "code",
   "execution_count": 4,
   "metadata": {},
   "outputs": [
    {
     "name": "stdout",
     "output_type": "stream",
     "text": [
      "connecting to existing database.\n",
      "connecting to existing database.\n"
     ]
    }
   ],
   "source": [
    "conn = snoo.sn_connect(database=db_filename,name=\"db_test\",memory_limit=\"100GB\")"
   ]
  },
  {
   "cell_type": "code",
   "execution_count": 5,
   "metadata": {},
   "outputs": [
    {
     "data": {
      "text/plain": [
       "ibis.backends.duckdb.Backend"
      ]
     },
     "execution_count": null,
     "metadata": {},
     "output_type": "execute_result"
    }
   ],
   "source": [
    "type(conn)"
   ]
  },
  {
   "cell_type": "code",
   "execution_count": 9,
   "metadata": {},
   "outputs": [
    {
     "data": {
      "text/html": [
       "<pre style=\"white-space:pre;overflow-x:auto;line-height:normal;font-family:Menlo,'DejaVu Sans Mono',consolas,'Courier New',monospace\">┏━━━━━━━┓\n",
       "┃<span style=\"font-weight: bold\"> 42    </span>┃\n",
       "┡━━━━━━━┩\n",
       "│ <span style=\"color: #7f7f7f; text-decoration-color: #7f7f7f\">int32</span> │\n",
       "├───────┤\n",
       "│    <span style=\"color: #008080; text-decoration-color: #008080; font-weight: bold\">42</span> │\n",
       "└───────┘\n",
       "</pre>\n"
      ],
      "text/plain": [
       "┏━━━━━━━┓\n",
       "┃\u001b[1m \u001b[0m\u001b[1m42\u001b[0m\u001b[1m   \u001b[0m\u001b[1m \u001b[0m┃\n",
       "┡━━━━━━━┩\n",
       "│ \u001b[2mint32\u001b[0m │\n",
       "├───────┤\n",
       "│    \u001b[1;36m42\u001b[0m │\n",
       "└───────┘"
      ]
     },
     "execution_count": 9,
     "metadata": {},
     "output_type": "execute_result"
    }
   ],
   "source": [
    "# conn = ib.duckdb.connect(db_filename)\n",
    "conn.sql(\"SELECT 42;\")"
   ]
  },
  {
   "cell_type": "code",
   "execution_count": 10,
   "metadata": {},
   "outputs": [],
   "source": [
    "table1 = conn.create_table('table1', obj = pd.DataFrame(data={\"a\" : [1,2,3],\n",
    "                                                            \"b\" : [\"a\",\"b\",\"c\"]}),overwrite=True)"
   ]
  },
  {
   "cell_type": "code",
   "execution_count": 11,
   "metadata": {},
   "outputs": [
    {
     "data": {
      "text/markdown": [
       "```sql\n",
       "SELECT\n",
       "  *\n",
       "FROM \"global_data\".\"main\".\"table1\"\n",
       "```"
      ],
      "text/plain": [
       "\u001b[34mSELECT\u001b[39;49;00m\u001b[37m\u001b[39;49;00m\n",
       "\u001b[37m  \u001b[39;49;00m*\u001b[37m\u001b[39;49;00m\n",
       "\u001b[34mFROM\u001b[39;49;00m\u001b[37m \u001b[39;49;00m\u001b[33m\"global_data\"\u001b[39;49;00m.\u001b[33m\"main\"\u001b[39;49;00m.\u001b[33m\"table1\"\u001b[39;49;00m\u001b[37m\u001b[39;49;00m"
      ]
     },
     "execution_count": 11,
     "metadata": {},
     "output_type": "execute_result"
    }
   ],
   "source": [
    "# %%\n",
    "conn.sql(\"SELECT * FROM table1;\")\n",
    "\n",
    "ib.to_sql(table1)"
   ]
  },
  {
   "cell_type": "code",
   "execution_count": 12,
   "metadata": {},
   "outputs": [
    {
     "data": {
      "text/plain": [
       "['copernicus',\n",
       " 'dose',\n",
       " 'kummu',\n",
       " 'local_gdp',\n",
       " 'mapsapam',\n",
       " 'nres',\n",
       " 'places',\n",
       " 'predictors',\n",
       " 'table1']"
      ]
     },
     "execution_count": 12,
     "metadata": {},
     "output_type": "execute_result"
    }
   ],
   "source": [
    "conn.list_tables()"
   ]
  },
  {
   "cell_type": "markdown",
   "metadata": {},
   "source": [
    "## First iteration of the data catalogue\n",
    "\n",
    "Contains a selection of tables to set up baseline modelling workflows\n",
    "\n",
    "### Data\n",
    "\n",
    "- DOSE\n",
    "- GHSL S NRES\n",
    "- Population : ghsl / worldpop constrined or unconstrained\n",
    "- Overture/foursquare pois\n",
    "- Kummu GDP (?)\n",
    "-  \n",
    "\n",
    "### Sector layers \n",
    "\n",
    "- cement \n",
    "- GEM Power production\n",
    "- Mapspam\n",
    "- "
   ]
  },
  {
   "cell_type": "code",
   "execution_count": 13,
   "metadata": {},
   "outputs": [],
   "source": [
    "# a = [1,2,3,4,5]\n",
    "# a[-1]"
   ]
  },
  {
   "cell_type": "code",
   "execution_count": 14,
   "metadata": {},
   "outputs": [],
   "source": [
    "# a bounded area will be covered in this tutorial for ease"
   ]
  },
  {
   "cell_type": "code",
   "execution_count": 15,
   "metadata": {},
   "outputs": [],
   "source": [
    "bbox=[7.383,11.079,9.877,12.959]"
   ]
  },
  {
   "cell_type": "code",
   "execution_count": 16,
   "metadata": {},
   "outputs": [],
   "source": [
    "ingestion_params = {\"overwrite\" : False,\n",
    "                    \"bbox\" : bbox}"
   ]
  },
  {
   "cell_type": "code",
   "execution_count": 17,
   "metadata": {},
   "outputs": [],
   "source": [
    "# /Users/cenv1069/Documents/data/datasets/kummu_etal/GDP_per_capita_PPP_1990_2015_v2.nc\n",
    "# /Users/cenv1069/Documents/data/datasets/kummu_etal/GDP_PPP_30arcsec_v3.nc\n",
    "\n",
    "# src_file = \"/Users/cenv1069/Documents/data/datasets/kummu_etal/GDP_per_capita_PPP_1990_2015_v2.nc\"\n",
    "# with rs.open(src_file) as src:\n",
    "#     print(src.profile)\n",
    "#     print(src.count)\n",
    "#     band = src.read(1)\n",
    "#     print(band.shape)"
   ]
  },
  {
   "cell_type": "markdown",
   "metadata": {},
   "source": [
    "## Data ingestion\n"
   ]
  },
  {
   "cell_type": "code",
   "execution_count": 18,
   "metadata": {},
   "outputs": [],
   "source": [
    "# in scalenav\n",
    "# \n",
    "# def sn_table(conn,name : str,path : str,*args,**kwargs):\n",
    "#     q_startup = \"create\"\n",
    "#     if \"overwrite\" in kwargs.keys():\n",
    "#         print(\"overwriting existing\")\n",
    "#         q_startup = \"create or replace\"\n",
    "\n",
    "#     if \"bbox\" in kwargs.keys():\n",
    "#         print(\"reading bbox\")\n",
    "#         conn.raw_sql(f\"{q_startup} table {name} as (select * from '{path}' where lon>{bbox[0]} AND lon<{bbox[2]} AND lat>{bbox[1]} AND lat<{bbox[3]});\")\n",
    "#         return conn.table(name)\n",
    "#     else : \n",
    "#         try :\n",
    "#             conn.raw_sql(f\"{q_startup} table {name} as (select * from '{path}');\")\n",
    "#             return conn.table(name)\n",
    "#         except:\n",
    "#             if name in conn.list_tables():\n",
    "#                 print(\"Backend table exists, connected.\")\n",
    "#                 return conn.table(name)\n",
    "#         return 0\n",
    "        "
   ]
  },
  {
   "cell_type": "code",
   "execution_count": 19,
   "metadata": {},
   "outputs": [
    {
     "name": "stdout",
     "output_type": "stream",
     "text": [
      "Backend table exists, connected.\n"
     ]
    }
   ],
   "source": [
    "# DOSE\n",
    "# conn.raw_sql(\"create or replace table dose as (select * from '../datasets/local_data/dose-wdi/0_3/dose_wdi_geo.parquet');\")\n",
    "dose = snoo.sn_table(conn,name=\"dose\",path=\"../datasets/local_data/dose-wdi/0_3/dose_wdi_geo.parquet\")"
   ]
  },
  {
   "cell_type": "code",
   "execution_count": 20,
   "metadata": {},
   "outputs": [
    {
     "data": {
      "text/html": [
       "<pre style=\"white-space:pre;overflow-x:auto;line-height:normal;font-family:Menlo,'DejaVu Sans Mono',consolas,'Courier New',monospace\">┏━━━━━━━━┳━━━━━━━━━┳━━━━━━━━━┳━━━━━━━━━━━━━━┳━━━━━━━━━━━━━━━━━━━┳━━━━━━━━━━━━━━━━━━━━━━━━┳━━━━━━━━━━━━━━━━━━━━━━┳━━━━━━━━━━━━━━━━━━━━━━━━━┳━━━━━━━━━━━━━━━━━━━━━━━━━━━━━━━━━━━━━━━━━━━━━━━━━━━━━━━━━━━━━━━━━━━━━━━━━━━━━━━━━━┳━━━━━━━━━━━━━━━━━━━┳━━━━━━━━━━━┳━━━━━━━━━━━┳━━━━━━━━━━━┓\n",
       "┃<span style=\"font-weight: bold\"> gid_0  </span>┃<span style=\"font-weight: bold\"> country </span>┃<span style=\"font-weight: bold\"> gid_1   </span>┃<span style=\"font-weight: bold\"> grp_usd_2015 </span>┃<span style=\"font-weight: bold\"> services_usd_2015 </span>┃<span style=\"font-weight: bold\"> manufacturing_usd_2015 </span>┃<span style=\"font-weight: bold\"> agriculture_usd_2015 </span>┃<span style=\"font-weight: bold\"> centr                   </span>┃<span style=\"font-weight: bold\"> geometry                                                                         </span>┃<span style=\"font-weight: bold\"> color             </span>┃<span style=\"font-weight: bold\"> radius    </span>┃<span style=\"font-weight: bold\"> x         </span>┃<span style=\"font-weight: bold\"> y         </span>┃\n",
       "┡━━━━━━━━╇━━━━━━━━━╇━━━━━━━━━╇━━━━━━━━━━━━━━╇━━━━━━━━━━━━━━━━━━━╇━━━━━━━━━━━━━━━━━━━━━━━━╇━━━━━━━━━━━━━━━━━━━━━━╇━━━━━━━━━━━━━━━━━━━━━━━━━╇━━━━━━━━━━━━━━━━━━━━━━━━━━━━━━━━━━━━━━━━━━━━━━━━━━━━━━━━━━━━━━━━━━━━━━━━━━━━━━━━━━╇━━━━━━━━━━━━━━━━━━━╇━━━━━━━━━━━╇━━━━━━━━━━━╇━━━━━━━━━━━┩\n",
       "│ <span style=\"color: #7f7f7f; text-decoration-color: #7f7f7f\">string</span> │ <span style=\"color: #7f7f7f; text-decoration-color: #7f7f7f\">string</span>  │ <span style=\"color: #7f7f7f; text-decoration-color: #7f7f7f\">string</span>  │ <span style=\"color: #7f7f7f; text-decoration-color: #7f7f7f\">float64</span>      │ <span style=\"color: #7f7f7f; text-decoration-color: #7f7f7f\">float64</span>           │ <span style=\"color: #7f7f7f; text-decoration-color: #7f7f7f\">float64</span>                │ <span style=\"color: #7f7f7f; text-decoration-color: #7f7f7f\">float64</span>              │ <span style=\"color: #7f7f7f; text-decoration-color: #7f7f7f\">geospatial:geometry</span>     │ <span style=\"color: #7f7f7f; text-decoration-color: #7f7f7f\">geospatial:geometry</span>                                                              │ <span style=\"color: #7f7f7f; text-decoration-color: #7f7f7f\">array&lt;int64&gt;</span>      │ <span style=\"color: #7f7f7f; text-decoration-color: #7f7f7f\">float64</span>   │ <span style=\"color: #7f7f7f; text-decoration-color: #7f7f7f\">float64</span>   │ <span style=\"color: #7f7f7f; text-decoration-color: #7f7f7f\">float64</span>   │\n",
       "├────────┼─────────┼─────────┼──────────────┼───────────────────┼────────────────────────┼──────────────────────┼─────────────────────────┼──────────────────────────────────────────────────────────────────────────────────┼───────────────────┼───────────┼───────────┼───────────┤\n",
       "│ <span style=\"color: #008000; text-decoration-color: #008000\">ALB   </span> │ <span style=\"color: #008000; text-decoration-color: #008000\">Albania</span> │ <span style=\"color: #008000; text-decoration-color: #008000\">ALB.1_1</span> │ <span style=\"color: #008080; text-decoration-color: #008080; font-weight: bold\">4.341915e+08</span> │      <span style=\"color: #008080; text-decoration-color: #008080; font-weight: bold\">2.009631e+08</span> │           <span style=\"color: #008080; text-decoration-color: #008080; font-weight: bold\">9.449606e+07</span> │         <span style=\"color: #008080; text-decoration-color: #008080; font-weight: bold\">8.588401e+07</span> │ <span style=\"font-weight: bold\">&lt;</span><span style=\"color: #ff00ff; text-decoration-color: #ff00ff; font-weight: bold\">POINT</span><span style=\"color: #000000; text-decoration-color: #000000\"> </span><span style=\"color: #000000; text-decoration-color: #000000; font-weight: bold\">(</span><span style=\"color: #008080; text-decoration-color: #008080; font-weight: bold\">20.091</span><span style=\"color: #000000; text-decoration-color: #000000\"> </span><span style=\"color: #008080; text-decoration-color: #008080; font-weight: bold\">40.629</span><span style=\"color: #000000; text-decoration-color: #000000; font-weight: bold\">)</span><span style=\"font-weight: bold\">&gt;</span> │ <span style=\"font-weight: bold\">&lt;</span><span style=\"color: #ff00ff; text-decoration-color: #ff00ff; font-weight: bold\">POLYGON</span><span style=\"color: #000000; text-decoration-color: #000000\"> </span><span style=\"color: #000000; text-decoration-color: #000000; font-weight: bold\">((</span><span style=\"color: #008080; text-decoration-color: #008080; font-weight: bold\">20.379</span><span style=\"color: #000000; text-decoration-color: #000000\"> </span><span style=\"color: #008080; text-decoration-color: #008080; font-weight: bold\">40.435</span><span style=\"color: #000000; text-decoration-color: #000000\">, </span><span style=\"color: #008080; text-decoration-color: #008080; font-weight: bold\">20.377</span><span style=\"color: #000000; text-decoration-color: #000000\"> </span><span style=\"color: #008080; text-decoration-color: #008080; font-weight: bold\">40.436</span><span style=\"color: #000000; text-decoration-color: #000000\">, </span><span style=\"color: #008080; text-decoration-color: #008080; font-weight: bold\">20.373</span><span style=\"color: #000000; text-decoration-color: #000000\"> </span><span style=\"color: #008080; text-decoration-color: #008080; font-weight: bold\">40.437</span><span style=\"color: #000000; text-decoration-color: #000000\">, </span><span style=\"color: #008080; text-decoration-color: #008080; font-weight: bold\">20.369</span><span style=\"color: #000000; text-decoration-color: #000000\"> </span><span style=\"color: #008080; text-decoration-color: #008080; font-weight: bold\">40.438</span><span style=\"color: #000000; text-decoration-color: #000000\">, </span><span style=\"color: #008080; text-decoration-color: #008080; font-weight: bold\">20.36</span><span style=\"color: #808000; text-decoration-color: #808000\">...</span><span style=\"font-weight: bold\">&gt;</span> │ <span style=\"font-weight: bold\">[</span><span style=\"color: #008080; text-decoration-color: #008080; font-weight: bold\">238</span>, <span style=\"color: #008080; text-decoration-color: #008080; font-weight: bold\">97</span>, <span style=\"color: #808000; text-decoration-color: #808000\">...</span> +<span style=\"color: #008080; text-decoration-color: #008080; font-weight: bold\">2</span><span style=\"font-weight: bold\">]</span> │ <span style=\"color: #008080; text-decoration-color: #008080; font-weight: bold\">19.888996</span> │ <span style=\"color: #008080; text-decoration-color: #008080; font-weight: bold\">20.090775</span> │ <span style=\"color: #008080; text-decoration-color: #008080; font-weight: bold\">40.628500</span> │\n",
       "│ <span style=\"color: #008000; text-decoration-color: #008000\">ALB   </span> │ <span style=\"color: #008000; text-decoration-color: #008000\">Albania</span> │ <span style=\"color: #008000; text-decoration-color: #008000\">ALB.2_1</span> │ <span style=\"color: #008080; text-decoration-color: #008080; font-weight: bold\">3.719427e+08</span> │      <span style=\"color: #008080; text-decoration-color: #008080; font-weight: bold\">1.721516e+08</span> │           <span style=\"color: #008080; text-decoration-color: #008080; font-weight: bold\">8.094841e+07</span> │         <span style=\"color: #008080; text-decoration-color: #008080; font-weight: bold\">7.357106e+07</span> │ <span style=\"font-weight: bold\">&lt;</span><span style=\"color: #ff00ff; text-decoration-color: #ff00ff; font-weight: bold\">POINT</span><span style=\"color: #000000; text-decoration-color: #000000\"> </span><span style=\"color: #000000; text-decoration-color: #000000; font-weight: bold\">(</span><span style=\"color: #008080; text-decoration-color: #008080; font-weight: bold\">20.25</span><span style=\"color: #000000; text-decoration-color: #000000\"> </span><span style=\"color: #008080; text-decoration-color: #008080; font-weight: bold\">41.589</span><span style=\"color: #000000; text-decoration-color: #000000; font-weight: bold\">)</span><span style=\"font-weight: bold\">&gt;</span>  │ <span style=\"font-weight: bold\">&lt;</span><span style=\"color: #ff00ff; text-decoration-color: #ff00ff; font-weight: bold\">POLYGON</span><span style=\"color: #000000; text-decoration-color: #000000\"> </span><span style=\"color: #000000; text-decoration-color: #000000; font-weight: bold\">((</span><span style=\"color: #008080; text-decoration-color: #008080; font-weight: bold\">20.422</span><span style=\"color: #000000; text-decoration-color: #000000\"> </span><span style=\"color: #008080; text-decoration-color: #008080; font-weight: bold\">41.282</span><span style=\"color: #000000; text-decoration-color: #000000\">, </span><span style=\"color: #008080; text-decoration-color: #008080; font-weight: bold\">20.423</span><span style=\"color: #000000; text-decoration-color: #000000\"> </span><span style=\"color: #008080; text-decoration-color: #008080; font-weight: bold\">41.282</span><span style=\"color: #000000; text-decoration-color: #000000\">, </span><span style=\"color: #008080; text-decoration-color: #008080; font-weight: bold\">20.422</span><span style=\"color: #000000; text-decoration-color: #000000\"> </span><span style=\"color: #008080; text-decoration-color: #008080; font-weight: bold\">41.283</span><span style=\"color: #000000; text-decoration-color: #000000\">, </span><span style=\"color: #008080; text-decoration-color: #008080; font-weight: bold\">20.421</span><span style=\"color: #000000; text-decoration-color: #000000\"> </span><span style=\"color: #008080; text-decoration-color: #008080; font-weight: bold\">41.284</span><span style=\"color: #000000; text-decoration-color: #000000\">, </span><span style=\"color: #008080; text-decoration-color: #008080; font-weight: bold\">20.42</span><span style=\"color: #808000; text-decoration-color: #808000\">...</span><span style=\"font-weight: bold\">&gt;</span> │ <span style=\"font-weight: bold\">[</span><span style=\"color: #008080; text-decoration-color: #008080; font-weight: bold\">238</span>, <span style=\"color: #008080; text-decoration-color: #008080; font-weight: bold\">97</span>, <span style=\"color: #808000; text-decoration-color: #808000\">...</span> +<span style=\"color: #008080; text-decoration-color: #008080; font-weight: bold\">2</span><span style=\"font-weight: bold\">]</span> │ <span style=\"color: #008080; text-decoration-color: #008080; font-weight: bold\">19.734250</span> │ <span style=\"color: #008080; text-decoration-color: #008080; font-weight: bold\">20.249534</span> │ <span style=\"color: #008080; text-decoration-color: #008080; font-weight: bold\">41.589105</span> │\n",
       "│ <span style=\"color: #008000; text-decoration-color: #008000\">ALB   </span> │ <span style=\"color: #008000; text-decoration-color: #008000\">Albania</span> │ <span style=\"color: #008000; text-decoration-color: #008000\">ALB.3_1</span> │ <span style=\"color: #008080; text-decoration-color: #008080; font-weight: bold\">1.113524e+09</span> │      <span style=\"color: #008080; text-decoration-color: #008080; font-weight: bold\">5.153885e+08</span> │           <span style=\"color: #008080; text-decoration-color: #008080; font-weight: bold\">2.423439e+08</span> │         <span style=\"color: #008080; text-decoration-color: #008080; font-weight: bold\">2.202575e+08</span> │ <span style=\"font-weight: bold\">&lt;</span><span style=\"color: #ff00ff; text-decoration-color: #ff00ff; font-weight: bold\">POINT</span><span style=\"color: #000000; text-decoration-color: #000000\"> </span><span style=\"color: #000000; text-decoration-color: #000000; font-weight: bold\">(</span><span style=\"color: #008080; text-decoration-color: #008080; font-weight: bold\">19.63</span><span style=\"color: #000000; text-decoration-color: #000000\"> </span><span style=\"color: #008080; text-decoration-color: #008080; font-weight: bold\">41.447</span><span style=\"color: #000000; text-decoration-color: #000000; font-weight: bold\">)</span><span style=\"font-weight: bold\">&gt;</span>  │ <span style=\"font-weight: bold\">&lt;</span><span style=\"color: #ff00ff; text-decoration-color: #ff00ff; font-weight: bold\">POLYGON</span><span style=\"color: #000000; text-decoration-color: #000000\"> </span><span style=\"color: #000000; text-decoration-color: #000000; font-weight: bold\">((</span><span style=\"color: #008080; text-decoration-color: #008080; font-weight: bold\">19.638</span><span style=\"color: #000000; text-decoration-color: #000000\"> </span><span style=\"color: #008080; text-decoration-color: #008080; font-weight: bold\">41.341</span><span style=\"color: #000000; text-decoration-color: #000000\">, </span><span style=\"color: #008080; text-decoration-color: #008080; font-weight: bold\">19.636</span><span style=\"color: #000000; text-decoration-color: #000000\"> </span><span style=\"color: #008080; text-decoration-color: #008080; font-weight: bold\">41.337</span><span style=\"color: #000000; text-decoration-color: #000000\">, </span><span style=\"color: #008080; text-decoration-color: #008080; font-weight: bold\">19.637</span><span style=\"color: #000000; text-decoration-color: #000000\"> </span><span style=\"color: #008080; text-decoration-color: #008080; font-weight: bold\">41.335</span><span style=\"color: #000000; text-decoration-color: #000000\">, </span><span style=\"color: #008080; text-decoration-color: #008080; font-weight: bold\">19.64</span><span style=\"color: #000000; text-decoration-color: #000000\"> </span><span style=\"color: #008080; text-decoration-color: #008080; font-weight: bold\">41.33</span><span style=\"color: #000000; text-decoration-color: #000000\">, </span><span style=\"color: #008080; text-decoration-color: #008080; font-weight: bold\">19.642</span><span style=\"color: #000000; text-decoration-color: #000000\"> </span><span style=\"color: #808000; text-decoration-color: #808000\">...</span><span style=\"font-weight: bold\">&gt;</span> │ <span style=\"font-weight: bold\">[</span><span style=\"color: #008080; text-decoration-color: #008080; font-weight: bold\">238</span>, <span style=\"color: #008080; text-decoration-color: #008080; font-weight: bold\">97</span>, <span style=\"color: #808000; text-decoration-color: #808000\">...</span> +<span style=\"color: #008080; text-decoration-color: #008080; font-weight: bold\">2</span><span style=\"font-weight: bold\">]</span> │ <span style=\"color: #008080; text-decoration-color: #008080; font-weight: bold\">20.830796</span> │ <span style=\"color: #008080; text-decoration-color: #008080; font-weight: bold\">19.630373</span> │ <span style=\"color: #008080; text-decoration-color: #008080; font-weight: bold\">41.447333</span> │\n",
       "│ <span style=\"color: #008000; text-decoration-color: #008000\">ALB   </span> │ <span style=\"color: #008000; text-decoration-color: #008000\">Albania</span> │ <span style=\"color: #008000; text-decoration-color: #008000\">ALB.4_1</span> │ <span style=\"color: #008080; text-decoration-color: #008080; font-weight: bold\">7.954835e+08</span> │      <span style=\"color: #008080; text-decoration-color: #008080; font-weight: bold\">3.681851e+08</span> │           <span style=\"color: #008080; text-decoration-color: #008080; font-weight: bold\">1.731265e+08</span> │         <span style=\"color: #008080; text-decoration-color: #008080; font-weight: bold\">1.573483e+08</span> │ <span style=\"font-weight: bold\">&lt;</span><span style=\"color: #ff00ff; text-decoration-color: #ff00ff; font-weight: bold\">POINT</span><span style=\"color: #000000; text-decoration-color: #000000\"> </span><span style=\"color: #000000; text-decoration-color: #000000; font-weight: bold\">(</span><span style=\"color: #008080; text-decoration-color: #008080; font-weight: bold\">20.186</span><span style=\"color: #000000; text-decoration-color: #000000\"> </span><span style=\"color: #008080; text-decoration-color: #008080; font-weight: bold\">41.04</span><span style=\"color: #000000; text-decoration-color: #000000; font-weight: bold\">)</span><span style=\"font-weight: bold\">&gt;</span>  │ <span style=\"font-weight: bold\">&lt;</span><span style=\"color: #ff00ff; text-decoration-color: #ff00ff; font-weight: bold\">POLYGON</span><span style=\"color: #000000; text-decoration-color: #000000\"> </span><span style=\"color: #000000; text-decoration-color: #000000; font-weight: bold\">((</span><span style=\"color: #008080; text-decoration-color: #008080; font-weight: bold\">20.437</span><span style=\"color: #000000; text-decoration-color: #000000\"> </span><span style=\"color: #008080; text-decoration-color: #008080; font-weight: bold\">40.849</span><span style=\"color: #000000; text-decoration-color: #000000\">, </span><span style=\"color: #008080; text-decoration-color: #008080; font-weight: bold\">20.437</span><span style=\"color: #000000; text-decoration-color: #000000\"> </span><span style=\"color: #008080; text-decoration-color: #008080; font-weight: bold\">40.848</span><span style=\"color: #000000; text-decoration-color: #000000\">, </span><span style=\"color: #008080; text-decoration-color: #008080; font-weight: bold\">20.44</span><span style=\"color: #000000; text-decoration-color: #000000\"> </span><span style=\"color: #008080; text-decoration-color: #008080; font-weight: bold\">40.847</span><span style=\"color: #000000; text-decoration-color: #000000\">, </span><span style=\"color: #008080; text-decoration-color: #008080; font-weight: bold\">20.441</span><span style=\"color: #000000; text-decoration-color: #000000\"> </span><span style=\"color: #008080; text-decoration-color: #008080; font-weight: bold\">40.841</span><span style=\"color: #000000; text-decoration-color: #000000\">, </span><span style=\"color: #008080; text-decoration-color: #008080; font-weight: bold\">20.446</span><span style=\"color: #808000; text-decoration-color: #808000\">...</span><span style=\"font-weight: bold\">&gt;</span> │ <span style=\"font-weight: bold\">[</span><span style=\"color: #008080; text-decoration-color: #008080; font-weight: bold\">238</span>, <span style=\"color: #008080; text-decoration-color: #008080; font-weight: bold\">97</span>, <span style=\"color: #808000; text-decoration-color: #808000\">...</span> +<span style=\"color: #008080; text-decoration-color: #008080; font-weight: bold\">2</span><span style=\"font-weight: bold\">]</span> │ <span style=\"color: #008080; text-decoration-color: #008080; font-weight: bold\">20.494461</span> │ <span style=\"color: #008080; text-decoration-color: #008080; font-weight: bold\">20.186454</span> │ <span style=\"color: #008080; text-decoration-color: #008080; font-weight: bold\">41.040028</span> │\n",
       "│ <span style=\"color: #008000; text-decoration-color: #008000\">ALB   </span> │ <span style=\"color: #008000; text-decoration-color: #008000\">Albania</span> │ <span style=\"color: #008000; text-decoration-color: #008000\">ALB.5_1</span> │ <span style=\"color: #008080; text-decoration-color: #008080; font-weight: bold\">1.345159e+09</span> │      <span style=\"color: #008080; text-decoration-color: #008080; font-weight: bold\">6.225993e+08</span> │           <span style=\"color: #008080; text-decoration-color: #008080; font-weight: bold\">2.927561e+08</span> │         <span style=\"color: #008080; text-decoration-color: #008080; font-weight: bold\">2.660753e+08</span> │ <span style=\"font-weight: bold\">&lt;</span><span style=\"color: #ff00ff; text-decoration-color: #ff00ff; font-weight: bold\">POINT</span><span style=\"color: #000000; text-decoration-color: #000000\"> </span><span style=\"color: #000000; text-decoration-color: #000000; font-weight: bold\">(</span><span style=\"color: #008080; text-decoration-color: #008080; font-weight: bold\">19.621</span><span style=\"color: #000000; text-decoration-color: #000000\"> </span><span style=\"color: #008080; text-decoration-color: #008080; font-weight: bold\">40.775</span><span style=\"color: #000000; text-decoration-color: #000000; font-weight: bold\">)</span><span style=\"font-weight: bold\">&gt;</span> │ <span style=\"font-weight: bold\">&lt;</span><span style=\"color: #ff00ff; text-decoration-color: #ff00ff; font-weight: bold\">POLYGON</span><span style=\"color: #000000; text-decoration-color: #000000\"> </span><span style=\"color: #000000; text-decoration-color: #000000; font-weight: bold\">((</span><span style=\"color: #008080; text-decoration-color: #008080; font-weight: bold\">19.744</span><span style=\"color: #000000; text-decoration-color: #000000\"> </span><span style=\"color: #008080; text-decoration-color: #008080; font-weight: bold\">40.452</span><span style=\"color: #000000; text-decoration-color: #000000\">, </span><span style=\"color: #008080; text-decoration-color: #008080; font-weight: bold\">19.745</span><span style=\"color: #000000; text-decoration-color: #000000\"> </span><span style=\"color: #008080; text-decoration-color: #008080; font-weight: bold\">40.457</span><span style=\"color: #000000; text-decoration-color: #000000\">, </span><span style=\"color: #008080; text-decoration-color: #008080; font-weight: bold\">19.743</span><span style=\"color: #000000; text-decoration-color: #000000\"> </span><span style=\"color: #008080; text-decoration-color: #008080; font-weight: bold\">40.459</span><span style=\"color: #000000; text-decoration-color: #000000\">, </span><span style=\"color: #008080; text-decoration-color: #008080; font-weight: bold\">19.741</span><span style=\"color: #000000; text-decoration-color: #000000\"> </span><span style=\"color: #008080; text-decoration-color: #008080; font-weight: bold\">40.462</span><span style=\"color: #000000; text-decoration-color: #000000\">, </span><span style=\"color: #008080; text-decoration-color: #008080; font-weight: bold\">19.73</span><span style=\"color: #808000; text-decoration-color: #808000\">...</span><span style=\"font-weight: bold\">&gt;</span> │ <span style=\"font-weight: bold\">[</span><span style=\"color: #008080; text-decoration-color: #008080; font-weight: bold\">238</span>, <span style=\"color: #008080; text-decoration-color: #008080; font-weight: bold\">97</span>, <span style=\"color: #808000; text-decoration-color: #808000\">...</span> +<span style=\"color: #008080; text-decoration-color: #008080; font-weight: bold\">2</span><span style=\"font-weight: bold\">]</span> │ <span style=\"color: #008080; text-decoration-color: #008080; font-weight: bold\">21.019778</span> │ <span style=\"color: #008080; text-decoration-color: #008080; font-weight: bold\">19.620528</span> │ <span style=\"color: #008080; text-decoration-color: #008080; font-weight: bold\">40.774633</span> │\n",
       "└────────┴─────────┴─────────┴──────────────┴───────────────────┴────────────────────────┴──────────────────────┴─────────────────────────┴──────────────────────────────────────────────────────────────────────────────────┴───────────────────┴───────────┴───────────┴───────────┘\n",
       "</pre>\n"
      ],
      "text/plain": [
       "┏━━━━━━━━┳━━━━━━━━━┳━━━━━━━━━┳━━━━━━━━━━━━━━┳━━━━━━━━━━━━━━━━━━━┳━━━━━━━━━━━━━━━━━━━━━━━━┳━━━━━━━━━━━━━━━━━━━━━━┳━━━━━━━━━━━━━━━━━━━━━━━━━┳━━━━━━━━━━━━━━━━━━━━━━━━━━━━━━━━━━━━━━━━━━━━━━━━━━━━━━━━━━━━━━━━━━━━━━━━━━━━━━━━━━┳━━━━━━━━━━━━━━━━━━━┳━━━━━━━━━━━┳━━━━━━━━━━━┳━━━━━━━━━━━┓\n",
       "┃\u001b[1m \u001b[0m\u001b[1mgid_0\u001b[0m\u001b[1m \u001b[0m\u001b[1m \u001b[0m┃\u001b[1m \u001b[0m\u001b[1mcountry\u001b[0m\u001b[1m \u001b[0m┃\u001b[1m \u001b[0m\u001b[1mgid_1\u001b[0m\u001b[1m  \u001b[0m\u001b[1m \u001b[0m┃\u001b[1m \u001b[0m\u001b[1mgrp_usd_2015\u001b[0m\u001b[1m \u001b[0m┃\u001b[1m \u001b[0m\u001b[1mservices_usd_2015\u001b[0m\u001b[1m \u001b[0m┃\u001b[1m \u001b[0m\u001b[1mmanufacturing_usd_2015\u001b[0m\u001b[1m \u001b[0m┃\u001b[1m \u001b[0m\u001b[1magriculture_usd_2015\u001b[0m\u001b[1m \u001b[0m┃\u001b[1m \u001b[0m\u001b[1mcentr\u001b[0m\u001b[1m                  \u001b[0m\u001b[1m \u001b[0m┃\u001b[1m \u001b[0m\u001b[1mgeometry\u001b[0m\u001b[1m                                                                        \u001b[0m\u001b[1m \u001b[0m┃\u001b[1m \u001b[0m\u001b[1mcolor\u001b[0m\u001b[1m            \u001b[0m\u001b[1m \u001b[0m┃\u001b[1m \u001b[0m\u001b[1mradius\u001b[0m\u001b[1m   \u001b[0m\u001b[1m \u001b[0m┃\u001b[1m \u001b[0m\u001b[1mx\u001b[0m\u001b[1m        \u001b[0m\u001b[1m \u001b[0m┃\u001b[1m \u001b[0m\u001b[1my\u001b[0m\u001b[1m        \u001b[0m\u001b[1m \u001b[0m┃\n",
       "┡━━━━━━━━╇━━━━━━━━━╇━━━━━━━━━╇━━━━━━━━━━━━━━╇━━━━━━━━━━━━━━━━━━━╇━━━━━━━━━━━━━━━━━━━━━━━━╇━━━━━━━━━━━━━━━━━━━━━━╇━━━━━━━━━━━━━━━━━━━━━━━━━╇━━━━━━━━━━━━━━━━━━━━━━━━━━━━━━━━━━━━━━━━━━━━━━━━━━━━━━━━━━━━━━━━━━━━━━━━━━━━━━━━━━╇━━━━━━━━━━━━━━━━━━━╇━━━━━━━━━━━╇━━━━━━━━━━━╇━━━━━━━━━━━┩\n",
       "│ \u001b[2mstring\u001b[0m │ \u001b[2mstring\u001b[0m  │ \u001b[2mstring\u001b[0m  │ \u001b[2mfloat64\u001b[0m      │ \u001b[2mfloat64\u001b[0m           │ \u001b[2mfloat64\u001b[0m                │ \u001b[2mfloat64\u001b[0m              │ \u001b[2mgeospatial:geometry\u001b[0m     │ \u001b[2mgeospatial:geometry\u001b[0m                                                              │ \u001b[2marray<int64>\u001b[0m      │ \u001b[2mfloat64\u001b[0m   │ \u001b[2mfloat64\u001b[0m   │ \u001b[2mfloat64\u001b[0m   │\n",
       "├────────┼─────────┼─────────┼──────────────┼───────────────────┼────────────────────────┼──────────────────────┼─────────────────────────┼──────────────────────────────────────────────────────────────────────────────────┼───────────────────┼───────────┼───────────┼───────────┤\n",
       "│ \u001b[32mALB   \u001b[0m │ \u001b[32mAlbania\u001b[0m │ \u001b[32mALB.1_1\u001b[0m │ \u001b[1;36m4.341915e+08\u001b[0m │      \u001b[1;36m2.009631e+08\u001b[0m │           \u001b[1;36m9.449606e+07\u001b[0m │         \u001b[1;36m8.588401e+07\u001b[0m │ \u001b[1m<\u001b[0m\u001b[1;95mPOINT\u001b[0m\u001b[39m \u001b[0m\u001b[1;39m(\u001b[0m\u001b[1;36m20.091\u001b[0m\u001b[39m \u001b[0m\u001b[1;36m40.629\u001b[0m\u001b[1;39m)\u001b[0m\u001b[1m>\u001b[0m │ \u001b[1m<\u001b[0m\u001b[1;95mPOLYGON\u001b[0m\u001b[39m \u001b[0m\u001b[1;39m(\u001b[0m\u001b[1;39m(\u001b[0m\u001b[1;36m20.379\u001b[0m\u001b[39m \u001b[0m\u001b[1;36m40.435\u001b[0m\u001b[39m, \u001b[0m\u001b[1;36m20.377\u001b[0m\u001b[39m \u001b[0m\u001b[1;36m40.436\u001b[0m\u001b[39m, \u001b[0m\u001b[1;36m20.373\u001b[0m\u001b[39m \u001b[0m\u001b[1;36m40.437\u001b[0m\u001b[39m, \u001b[0m\u001b[1;36m20.369\u001b[0m\u001b[39m \u001b[0m\u001b[1;36m40.438\u001b[0m\u001b[39m, \u001b[0m\u001b[1;36m20.36\u001b[0m\u001b[33m...\u001b[0m\u001b[1m>\u001b[0m │ \u001b[1m[\u001b[0m\u001b[1;36m238\u001b[0m, \u001b[1;36m97\u001b[0m, \u001b[33m...\u001b[0m +\u001b[1;36m2\u001b[0m\u001b[1m]\u001b[0m │ \u001b[1;36m19.888996\u001b[0m │ \u001b[1;36m20.090775\u001b[0m │ \u001b[1;36m40.628500\u001b[0m │\n",
       "│ \u001b[32mALB   \u001b[0m │ \u001b[32mAlbania\u001b[0m │ \u001b[32mALB.2_1\u001b[0m │ \u001b[1;36m3.719427e+08\u001b[0m │      \u001b[1;36m1.721516e+08\u001b[0m │           \u001b[1;36m8.094841e+07\u001b[0m │         \u001b[1;36m7.357106e+07\u001b[0m │ \u001b[1m<\u001b[0m\u001b[1;95mPOINT\u001b[0m\u001b[39m \u001b[0m\u001b[1;39m(\u001b[0m\u001b[1;36m20.25\u001b[0m\u001b[39m \u001b[0m\u001b[1;36m41.589\u001b[0m\u001b[1;39m)\u001b[0m\u001b[1m>\u001b[0m  │ \u001b[1m<\u001b[0m\u001b[1;95mPOLYGON\u001b[0m\u001b[39m \u001b[0m\u001b[1;39m(\u001b[0m\u001b[1;39m(\u001b[0m\u001b[1;36m20.422\u001b[0m\u001b[39m \u001b[0m\u001b[1;36m41.282\u001b[0m\u001b[39m, \u001b[0m\u001b[1;36m20.423\u001b[0m\u001b[39m \u001b[0m\u001b[1;36m41.282\u001b[0m\u001b[39m, \u001b[0m\u001b[1;36m20.422\u001b[0m\u001b[39m \u001b[0m\u001b[1;36m41.283\u001b[0m\u001b[39m, \u001b[0m\u001b[1;36m20.421\u001b[0m\u001b[39m \u001b[0m\u001b[1;36m41.284\u001b[0m\u001b[39m, \u001b[0m\u001b[1;36m20.42\u001b[0m\u001b[33m...\u001b[0m\u001b[1m>\u001b[0m │ \u001b[1m[\u001b[0m\u001b[1;36m238\u001b[0m, \u001b[1;36m97\u001b[0m, \u001b[33m...\u001b[0m +\u001b[1;36m2\u001b[0m\u001b[1m]\u001b[0m │ \u001b[1;36m19.734250\u001b[0m │ \u001b[1;36m20.249534\u001b[0m │ \u001b[1;36m41.589105\u001b[0m │\n",
       "│ \u001b[32mALB   \u001b[0m │ \u001b[32mAlbania\u001b[0m │ \u001b[32mALB.3_1\u001b[0m │ \u001b[1;36m1.113524e+09\u001b[0m │      \u001b[1;36m5.153885e+08\u001b[0m │           \u001b[1;36m2.423439e+08\u001b[0m │         \u001b[1;36m2.202575e+08\u001b[0m │ \u001b[1m<\u001b[0m\u001b[1;95mPOINT\u001b[0m\u001b[39m \u001b[0m\u001b[1;39m(\u001b[0m\u001b[1;36m19.63\u001b[0m\u001b[39m \u001b[0m\u001b[1;36m41.447\u001b[0m\u001b[1;39m)\u001b[0m\u001b[1m>\u001b[0m  │ \u001b[1m<\u001b[0m\u001b[1;95mPOLYGON\u001b[0m\u001b[39m \u001b[0m\u001b[1;39m(\u001b[0m\u001b[1;39m(\u001b[0m\u001b[1;36m19.638\u001b[0m\u001b[39m \u001b[0m\u001b[1;36m41.341\u001b[0m\u001b[39m, \u001b[0m\u001b[1;36m19.636\u001b[0m\u001b[39m \u001b[0m\u001b[1;36m41.337\u001b[0m\u001b[39m, \u001b[0m\u001b[1;36m19.637\u001b[0m\u001b[39m \u001b[0m\u001b[1;36m41.335\u001b[0m\u001b[39m, \u001b[0m\u001b[1;36m19.64\u001b[0m\u001b[39m \u001b[0m\u001b[1;36m41.33\u001b[0m\u001b[39m, \u001b[0m\u001b[1;36m19.642\u001b[0m\u001b[39m \u001b[0m\u001b[33m...\u001b[0m\u001b[1m>\u001b[0m │ \u001b[1m[\u001b[0m\u001b[1;36m238\u001b[0m, \u001b[1;36m97\u001b[0m, \u001b[33m...\u001b[0m +\u001b[1;36m2\u001b[0m\u001b[1m]\u001b[0m │ \u001b[1;36m20.830796\u001b[0m │ \u001b[1;36m19.630373\u001b[0m │ \u001b[1;36m41.447333\u001b[0m │\n",
       "│ \u001b[32mALB   \u001b[0m │ \u001b[32mAlbania\u001b[0m │ \u001b[32mALB.4_1\u001b[0m │ \u001b[1;36m7.954835e+08\u001b[0m │      \u001b[1;36m3.681851e+08\u001b[0m │           \u001b[1;36m1.731265e+08\u001b[0m │         \u001b[1;36m1.573483e+08\u001b[0m │ \u001b[1m<\u001b[0m\u001b[1;95mPOINT\u001b[0m\u001b[39m \u001b[0m\u001b[1;39m(\u001b[0m\u001b[1;36m20.186\u001b[0m\u001b[39m \u001b[0m\u001b[1;36m41.04\u001b[0m\u001b[1;39m)\u001b[0m\u001b[1m>\u001b[0m  │ \u001b[1m<\u001b[0m\u001b[1;95mPOLYGON\u001b[0m\u001b[39m \u001b[0m\u001b[1;39m(\u001b[0m\u001b[1;39m(\u001b[0m\u001b[1;36m20.437\u001b[0m\u001b[39m \u001b[0m\u001b[1;36m40.849\u001b[0m\u001b[39m, \u001b[0m\u001b[1;36m20.437\u001b[0m\u001b[39m \u001b[0m\u001b[1;36m40.848\u001b[0m\u001b[39m, \u001b[0m\u001b[1;36m20.44\u001b[0m\u001b[39m \u001b[0m\u001b[1;36m40.847\u001b[0m\u001b[39m, \u001b[0m\u001b[1;36m20.441\u001b[0m\u001b[39m \u001b[0m\u001b[1;36m40.841\u001b[0m\u001b[39m, \u001b[0m\u001b[1;36m20.446\u001b[0m\u001b[33m...\u001b[0m\u001b[1m>\u001b[0m │ \u001b[1m[\u001b[0m\u001b[1;36m238\u001b[0m, \u001b[1;36m97\u001b[0m, \u001b[33m...\u001b[0m +\u001b[1;36m2\u001b[0m\u001b[1m]\u001b[0m │ \u001b[1;36m20.494461\u001b[0m │ \u001b[1;36m20.186454\u001b[0m │ \u001b[1;36m41.040028\u001b[0m │\n",
       "│ \u001b[32mALB   \u001b[0m │ \u001b[32mAlbania\u001b[0m │ \u001b[32mALB.5_1\u001b[0m │ \u001b[1;36m1.345159e+09\u001b[0m │      \u001b[1;36m6.225993e+08\u001b[0m │           \u001b[1;36m2.927561e+08\u001b[0m │         \u001b[1;36m2.660753e+08\u001b[0m │ \u001b[1m<\u001b[0m\u001b[1;95mPOINT\u001b[0m\u001b[39m \u001b[0m\u001b[1;39m(\u001b[0m\u001b[1;36m19.621\u001b[0m\u001b[39m \u001b[0m\u001b[1;36m40.775\u001b[0m\u001b[1;39m)\u001b[0m\u001b[1m>\u001b[0m │ \u001b[1m<\u001b[0m\u001b[1;95mPOLYGON\u001b[0m\u001b[39m \u001b[0m\u001b[1;39m(\u001b[0m\u001b[1;39m(\u001b[0m\u001b[1;36m19.744\u001b[0m\u001b[39m \u001b[0m\u001b[1;36m40.452\u001b[0m\u001b[39m, \u001b[0m\u001b[1;36m19.745\u001b[0m\u001b[39m \u001b[0m\u001b[1;36m40.457\u001b[0m\u001b[39m, \u001b[0m\u001b[1;36m19.743\u001b[0m\u001b[39m \u001b[0m\u001b[1;36m40.459\u001b[0m\u001b[39m, \u001b[0m\u001b[1;36m19.741\u001b[0m\u001b[39m \u001b[0m\u001b[1;36m40.462\u001b[0m\u001b[39m, \u001b[0m\u001b[1;36m19.73\u001b[0m\u001b[33m...\u001b[0m\u001b[1m>\u001b[0m │ \u001b[1m[\u001b[0m\u001b[1;36m238\u001b[0m, \u001b[1;36m97\u001b[0m, \u001b[33m...\u001b[0m +\u001b[1;36m2\u001b[0m\u001b[1m]\u001b[0m │ \u001b[1;36m21.019778\u001b[0m │ \u001b[1;36m19.620528\u001b[0m │ \u001b[1;36m40.774633\u001b[0m │\n",
       "└────────┴─────────┴─────────┴──────────────┴───────────────────┴────────────────────────┴──────────────────────┴─────────────────────────┴──────────────────────────────────────────────────────────────────────────────────┴───────────────────┴───────────┴───────────┴───────────┘"
      ]
     },
     "execution_count": 20,
     "metadata": {},
     "output_type": "execute_result"
    }
   ],
   "source": [
    "dose.head()"
   ]
  },
  {
   "cell_type": "code",
   "execution_count": 21,
   "metadata": {},
   "outputs": [
    {
     "name": "stdout",
     "output_type": "stream",
     "text": [
      "Backend table exists, connected.\n"
     ]
    }
   ],
   "source": [
    "# DOSE\n",
    "# conn.raw_sql(\" CREATE OR REPLACE TABLE local_gdp as (Select * from ST_READ('../datasets/Local_GDP_25deg/shapefile/geom_0_25deg.shp'));\")\n",
    "local_gdp = snoo.sn_table(conn,name=\"local_gdp\",path='../datasets/Local_GDP_25deg/shapefile/geom_0_25deg.shp')"
   ]
  },
  {
   "cell_type": "code",
   "execution_count": 22,
   "metadata": {},
   "outputs": [
    {
     "data": {
      "text/html": [
       "<pre style=\"white-space:pre;overflow-x:auto;line-height:normal;font-family:Menlo,'DejaVu Sans Mono',consolas,'Courier New',monospace\">┏━━━━━━━━┳━━━━━━━━━━┳━━━━━━━━━┳━━━━━━━━━┳━━━━━━━━━┳━━━━━━━━━━━━━━━━━━━━━━━━━━━━━━━━━━━━━━━━━━━━━━━━━━━━━━━━━━━━━━━━━━━━━━━━━━━━━━━━━━┓\n",
       "┃<span style=\"font-weight: bold\"> iso    </span>┃<span style=\"font-weight: bold\"> fid_2    </span>┃<span style=\"font-weight: bold\"> cell_id </span>┃<span style=\"font-weight: bold\"> sbcll_d </span>┃<span style=\"font-weight: bold\"> s__0_25 </span>┃<span style=\"font-weight: bold\"> geom                                                                             </span>┃\n",
       "┡━━━━━━━━╇━━━━━━━━━━╇━━━━━━━━━╇━━━━━━━━━╇━━━━━━━━━╇━━━━━━━━━━━━━━━━━━━━━━━━━━━━━━━━━━━━━━━━━━━━━━━━━━━━━━━━━━━━━━━━━━━━━━━━━━━━━━━━━━┩\n",
       "│ <span style=\"color: #7f7f7f; text-decoration-color: #7f7f7f\">string</span> │ <span style=\"color: #7f7f7f; text-decoration-color: #7f7f7f\">float64</span>  │ <span style=\"color: #7f7f7f; text-decoration-color: #7f7f7f\">string</span>  │ <span style=\"color: #7f7f7f; text-decoration-color: #7f7f7f\">int32</span>   │ <span style=\"color: #7f7f7f; text-decoration-color: #7f7f7f\">int32</span>   │ <span style=\"color: #7f7f7f; text-decoration-color: #7f7f7f\">geospatial:geometry</span>                                                              │\n",
       "├────────┼──────────┼─────────┼─────────┼─────────┼──────────────────────────────────────────────────────────────────────────────────┤\n",
       "│ <span style=\"color: #008000; text-decoration-color: #008000\">AFG   </span> │ <span style=\"color: #008080; text-decoration-color: #008080; font-weight: bold\">297768.0</span> │ <span style=\"color: #008000; text-decoration-color: #008000\">18611  </span> │       <span style=\"color: #008080; text-decoration-color: #008080; font-weight: bold\">2</span> │       <span style=\"color: #008080; text-decoration-color: #008080; font-weight: bold\">4</span> │ <span style=\"font-weight: bold\">&lt;</span><span style=\"color: #ff00ff; text-decoration-color: #ff00ff; font-weight: bold\">MULTIPOLYGON</span><span style=\"color: #000000; text-decoration-color: #000000\"> </span><span style=\"color: #000000; text-decoration-color: #000000; font-weight: bold\">(((</span><span style=\"color: #008080; text-decoration-color: #008080; font-weight: bold\">70.335</span><span style=\"color: #000000; text-decoration-color: #000000\"> </span><span style=\"color: #008080; text-decoration-color: #008080; font-weight: bold\">38.01</span><span style=\"color: #000000; text-decoration-color: #000000\">, </span><span style=\"color: #008080; text-decoration-color: #008080; font-weight: bold\">70.335</span><span style=\"color: #000000; text-decoration-color: #000000\"> </span><span style=\"color: #008080; text-decoration-color: #008080; font-weight: bold\">38.011</span><span style=\"color: #000000; text-decoration-color: #000000\">, </span><span style=\"color: #008080; text-decoration-color: #008080; font-weight: bold\">70.336</span><span style=\"color: #000000; text-decoration-color: #000000\"> </span><span style=\"color: #008080; text-decoration-color: #008080; font-weight: bold\">38.013</span><span style=\"color: #000000; text-decoration-color: #000000\">, </span><span style=\"color: #008080; text-decoration-color: #008080; font-weight: bold\">70.336</span><span style=\"color: #000000; text-decoration-color: #000000\"> </span><span style=\"color: #008080; text-decoration-color: #008080; font-weight: bold\">38.014</span><span style=\"color: #000000; text-decoration-color: #000000\">, </span><span style=\"color: #808000; text-decoration-color: #808000\">...</span><span style=\"font-weight: bold\">&gt;</span> │\n",
       "│ <span style=\"color: #008000; text-decoration-color: #008000\">AFG   </span> │ <span style=\"color: #008080; text-decoration-color: #008080; font-weight: bold\">297773.0</span> │ <span style=\"color: #008000; text-decoration-color: #008000\">18611  </span> │       <span style=\"color: #008080; text-decoration-color: #008080; font-weight: bold\">4</span> │       <span style=\"color: #008080; text-decoration-color: #008080; font-weight: bold\">1</span> │ <span style=\"font-weight: bold\">&lt;</span><span style=\"color: #ff00ff; text-decoration-color: #ff00ff; font-weight: bold\">POLYGON</span><span style=\"color: #000000; text-decoration-color: #000000\"> </span><span style=\"color: #000000; text-decoration-color: #000000; font-weight: bold\">((</span><span style=\"color: #008080; text-decoration-color: #008080; font-weight: bold\">70.557</span><span style=\"color: #000000; text-decoration-color: #000000\"> </span><span style=\"color: #008080; text-decoration-color: #008080; font-weight: bold\">38.255</span><span style=\"color: #000000; text-decoration-color: #000000\">, </span><span style=\"color: #008080; text-decoration-color: #008080; font-weight: bold\">70.557</span><span style=\"color: #000000; text-decoration-color: #000000\"> </span><span style=\"color: #008080; text-decoration-color: #008080; font-weight: bold\">38.255</span><span style=\"color: #000000; text-decoration-color: #000000\">, </span><span style=\"color: #008080; text-decoration-color: #008080; font-weight: bold\">70.557</span><span style=\"color: #000000; text-decoration-color: #000000\"> </span><span style=\"color: #008080; text-decoration-color: #008080; font-weight: bold\">38.257</span><span style=\"color: #000000; text-decoration-color: #000000\">, </span><span style=\"color: #008080; text-decoration-color: #008080; font-weight: bold\">70.557</span><span style=\"color: #000000; text-decoration-color: #000000\"> </span><span style=\"color: #008080; text-decoration-color: #008080; font-weight: bold\">38.258</span><span style=\"color: #000000; text-decoration-color: #000000\">, </span><span style=\"color: #008080; text-decoration-color: #008080; font-weight: bold\">70.55</span><span style=\"color: #808000; text-decoration-color: #808000\">...</span><span style=\"font-weight: bold\">&gt;</span> │\n",
       "│ <span style=\"color: #008000; text-decoration-color: #008000\">AFG   </span> │ <span style=\"color: #008080; text-decoration-color: #008080; font-weight: bold\">297774.0</span> │ <span style=\"color: #008000; text-decoration-color: #008000\">18611  </span> │       <span style=\"color: #008080; text-decoration-color: #008080; font-weight: bold\">4</span> │       <span style=\"color: #008080; text-decoration-color: #008080; font-weight: bold\">2</span> │ <span style=\"font-weight: bold\">&lt;</span><span style=\"color: #ff00ff; text-decoration-color: #ff00ff; font-weight: bold\">POLYGON</span><span style=\"color: #000000; text-decoration-color: #000000\"> </span><span style=\"color: #000000; text-decoration-color: #000000; font-weight: bold\">((</span><span style=\"color: #008080; text-decoration-color: #008080; font-weight: bold\">70.505</span><span style=\"color: #000000; text-decoration-color: #000000\"> </span><span style=\"color: #008080; text-decoration-color: #008080; font-weight: bold\">38.122</span><span style=\"color: #000000; text-decoration-color: #000000\">, </span><span style=\"color: #008080; text-decoration-color: #008080; font-weight: bold\">70.505</span><span style=\"color: #000000; text-decoration-color: #000000\"> </span><span style=\"color: #008080; text-decoration-color: #008080; font-weight: bold\">38.122</span><span style=\"color: #000000; text-decoration-color: #000000\">, </span><span style=\"color: #008080; text-decoration-color: #008080; font-weight: bold\">70.506</span><span style=\"color: #000000; text-decoration-color: #000000\"> </span><span style=\"color: #008080; text-decoration-color: #008080; font-weight: bold\">38.123</span><span style=\"color: #000000; text-decoration-color: #000000\">, </span><span style=\"color: #008080; text-decoration-color: #008080; font-weight: bold\">70.506</span><span style=\"color: #000000; text-decoration-color: #000000\"> </span><span style=\"color: #008080; text-decoration-color: #008080; font-weight: bold\">38.124</span><span style=\"color: #000000; text-decoration-color: #000000\">, </span><span style=\"color: #008080; text-decoration-color: #008080; font-weight: bold\">70.50</span><span style=\"color: #808000; text-decoration-color: #808000\">...</span><span style=\"font-weight: bold\">&gt;</span> │\n",
       "│ <span style=\"color: #008000; text-decoration-color: #008000\">AFG   </span> │ <span style=\"color: #008080; text-decoration-color: #008080; font-weight: bold\">297775.0</span> │ <span style=\"color: #008000; text-decoration-color: #008000\">18611  </span> │       <span style=\"color: #008080; text-decoration-color: #008080; font-weight: bold\">4</span> │       <span style=\"color: #008080; text-decoration-color: #008080; font-weight: bold\">3</span> │ <span style=\"font-weight: bold\">&lt;</span><span style=\"color: #ff00ff; text-decoration-color: #ff00ff; font-weight: bold\">POLYGON</span><span style=\"color: #000000; text-decoration-color: #000000\"> </span><span style=\"color: #000000; text-decoration-color: #000000; font-weight: bold\">((</span><span style=\"color: #008080; text-decoration-color: #008080; font-weight: bold\">70.81</span><span style=\"color: #000000; text-decoration-color: #000000\"> </span><span style=\"color: #008080; text-decoration-color: #008080; font-weight: bold\">38.444</span><span style=\"color: #000000; text-decoration-color: #000000\">, </span><span style=\"color: #008080; text-decoration-color: #008080; font-weight: bold\">70.812</span><span style=\"color: #000000; text-decoration-color: #000000\"> </span><span style=\"color: #008080; text-decoration-color: #008080; font-weight: bold\">38.444</span><span style=\"color: #000000; text-decoration-color: #000000\">, </span><span style=\"color: #008080; text-decoration-color: #008080; font-weight: bold\">70.813</span><span style=\"color: #000000; text-decoration-color: #000000\"> </span><span style=\"color: #008080; text-decoration-color: #008080; font-weight: bold\">38.444</span><span style=\"color: #000000; text-decoration-color: #000000\">, </span><span style=\"color: #008080; text-decoration-color: #008080; font-weight: bold\">70.815</span><span style=\"color: #000000; text-decoration-color: #000000\"> </span><span style=\"color: #008080; text-decoration-color: #008080; font-weight: bold\">38.445</span><span style=\"color: #000000; text-decoration-color: #000000\">, </span><span style=\"color: #008080; text-decoration-color: #008080; font-weight: bold\">70.817</span><span style=\"color: #808000; text-decoration-color: #808000\">...</span><span style=\"font-weight: bold\">&gt;</span> │\n",
       "│ <span style=\"color: #008000; text-decoration-color: #008000\">AFG   </span> │ <span style=\"color: #008080; text-decoration-color: #008080; font-weight: bold\">297776.0</span> │ <span style=\"color: #008000; text-decoration-color: #008000\">18611  </span> │       <span style=\"color: #008080; text-decoration-color: #008080; font-weight: bold\">4</span> │       <span style=\"color: #008080; text-decoration-color: #008080; font-weight: bold\">4</span> │ <span style=\"font-weight: bold\">&lt;</span><span style=\"color: #ff00ff; text-decoration-color: #ff00ff; font-weight: bold\">POLYGON</span><span style=\"color: #000000; text-decoration-color: #000000\"> </span><span style=\"color: #000000; text-decoration-color: #000000; font-weight: bold\">((</span><span style=\"color: #008080; text-decoration-color: #008080; font-weight: bold\">71</span><span style=\"color: #000000; text-decoration-color: #000000\"> </span><span style=\"color: #008080; text-decoration-color: #008080; font-weight: bold\">38</span><span style=\"color: #000000; text-decoration-color: #000000\">, </span><span style=\"color: #008080; text-decoration-color: #008080; font-weight: bold\">70.75</span><span style=\"color: #000000; text-decoration-color: #000000\"> </span><span style=\"color: #008080; text-decoration-color: #008080; font-weight: bold\">38</span><span style=\"color: #000000; text-decoration-color: #000000\">, </span><span style=\"color: #008080; text-decoration-color: #008080; font-weight: bold\">70.75</span><span style=\"color: #000000; text-decoration-color: #000000\"> </span><span style=\"color: #008080; text-decoration-color: #008080; font-weight: bold\">38.25</span><span style=\"color: #000000; text-decoration-color: #000000\">, </span><span style=\"color: #008080; text-decoration-color: #008080; font-weight: bold\">71</span><span style=\"color: #000000; text-decoration-color: #000000\"> </span><span style=\"color: #008080; text-decoration-color: #008080; font-weight: bold\">38.25</span><span style=\"color: #000000; text-decoration-color: #000000\">, </span><span style=\"color: #008080; text-decoration-color: #008080; font-weight: bold\">71</span><span style=\"color: #000000; text-decoration-color: #000000\"> </span><span style=\"color: #008080; text-decoration-color: #008080; font-weight: bold\">38</span><span style=\"color: #000000; text-decoration-color: #000000; font-weight: bold\">))</span><span style=\"font-weight: bold\">&gt;</span>                      │\n",
       "└────────┴──────────┴─────────┴─────────┴─────────┴──────────────────────────────────────────────────────────────────────────────────┘\n",
       "</pre>\n"
      ],
      "text/plain": [
       "┏━━━━━━━━┳━━━━━━━━━━┳━━━━━━━━━┳━━━━━━━━━┳━━━━━━━━━┳━━━━━━━━━━━━━━━━━━━━━━━━━━━━━━━━━━━━━━━━━━━━━━━━━━━━━━━━━━━━━━━━━━━━━━━━━━━━━━━━━━┓\n",
       "┃\u001b[1m \u001b[0m\u001b[1miso\u001b[0m\u001b[1m   \u001b[0m\u001b[1m \u001b[0m┃\u001b[1m \u001b[0m\u001b[1mfid_2\u001b[0m\u001b[1m   \u001b[0m\u001b[1m \u001b[0m┃\u001b[1m \u001b[0m\u001b[1mcell_id\u001b[0m\u001b[1m \u001b[0m┃\u001b[1m \u001b[0m\u001b[1msbcll_d\u001b[0m\u001b[1m \u001b[0m┃\u001b[1m \u001b[0m\u001b[1ms__0_25\u001b[0m\u001b[1m \u001b[0m┃\u001b[1m \u001b[0m\u001b[1mgeom\u001b[0m\u001b[1m                                                                            \u001b[0m\u001b[1m \u001b[0m┃\n",
       "┡━━━━━━━━╇━━━━━━━━━━╇━━━━━━━━━╇━━━━━━━━━╇━━━━━━━━━╇━━━━━━━━━━━━━━━━━━━━━━━━━━━━━━━━━━━━━━━━━━━━━━━━━━━━━━━━━━━━━━━━━━━━━━━━━━━━━━━━━━┩\n",
       "│ \u001b[2mstring\u001b[0m │ \u001b[2mfloat64\u001b[0m  │ \u001b[2mstring\u001b[0m  │ \u001b[2mint32\u001b[0m   │ \u001b[2mint32\u001b[0m   │ \u001b[2mgeospatial:geometry\u001b[0m                                                              │\n",
       "├────────┼──────────┼─────────┼─────────┼─────────┼──────────────────────────────────────────────────────────────────────────────────┤\n",
       "│ \u001b[32mAFG   \u001b[0m │ \u001b[1;36m297768.0\u001b[0m │ \u001b[32m18611  \u001b[0m │       \u001b[1;36m2\u001b[0m │       \u001b[1;36m4\u001b[0m │ \u001b[1m<\u001b[0m\u001b[1;95mMULTIPOLYGON\u001b[0m\u001b[39m \u001b[0m\u001b[1;39m(\u001b[0m\u001b[1;39m(\u001b[0m\u001b[1;39m(\u001b[0m\u001b[1;36m70.335\u001b[0m\u001b[39m \u001b[0m\u001b[1;36m38.01\u001b[0m\u001b[39m, \u001b[0m\u001b[1;36m70.335\u001b[0m\u001b[39m \u001b[0m\u001b[1;36m38.011\u001b[0m\u001b[39m, \u001b[0m\u001b[1;36m70.336\u001b[0m\u001b[39m \u001b[0m\u001b[1;36m38.013\u001b[0m\u001b[39m, \u001b[0m\u001b[1;36m70.336\u001b[0m\u001b[39m \u001b[0m\u001b[1;36m38.014\u001b[0m\u001b[39m, \u001b[0m\u001b[33m...\u001b[0m\u001b[1m>\u001b[0m │\n",
       "│ \u001b[32mAFG   \u001b[0m │ \u001b[1;36m297773.0\u001b[0m │ \u001b[32m18611  \u001b[0m │       \u001b[1;36m4\u001b[0m │       \u001b[1;36m1\u001b[0m │ \u001b[1m<\u001b[0m\u001b[1;95mPOLYGON\u001b[0m\u001b[39m \u001b[0m\u001b[1;39m(\u001b[0m\u001b[1;39m(\u001b[0m\u001b[1;36m70.557\u001b[0m\u001b[39m \u001b[0m\u001b[1;36m38.255\u001b[0m\u001b[39m, \u001b[0m\u001b[1;36m70.557\u001b[0m\u001b[39m \u001b[0m\u001b[1;36m38.255\u001b[0m\u001b[39m, \u001b[0m\u001b[1;36m70.557\u001b[0m\u001b[39m \u001b[0m\u001b[1;36m38.257\u001b[0m\u001b[39m, \u001b[0m\u001b[1;36m70.557\u001b[0m\u001b[39m \u001b[0m\u001b[1;36m38.258\u001b[0m\u001b[39m, \u001b[0m\u001b[1;36m70.55\u001b[0m\u001b[33m...\u001b[0m\u001b[1m>\u001b[0m │\n",
       "│ \u001b[32mAFG   \u001b[0m │ \u001b[1;36m297774.0\u001b[0m │ \u001b[32m18611  \u001b[0m │       \u001b[1;36m4\u001b[0m │       \u001b[1;36m2\u001b[0m │ \u001b[1m<\u001b[0m\u001b[1;95mPOLYGON\u001b[0m\u001b[39m \u001b[0m\u001b[1;39m(\u001b[0m\u001b[1;39m(\u001b[0m\u001b[1;36m70.505\u001b[0m\u001b[39m \u001b[0m\u001b[1;36m38.122\u001b[0m\u001b[39m, \u001b[0m\u001b[1;36m70.505\u001b[0m\u001b[39m \u001b[0m\u001b[1;36m38.122\u001b[0m\u001b[39m, \u001b[0m\u001b[1;36m70.506\u001b[0m\u001b[39m \u001b[0m\u001b[1;36m38.123\u001b[0m\u001b[39m, \u001b[0m\u001b[1;36m70.506\u001b[0m\u001b[39m \u001b[0m\u001b[1;36m38.124\u001b[0m\u001b[39m, \u001b[0m\u001b[1;36m70.50\u001b[0m\u001b[33m...\u001b[0m\u001b[1m>\u001b[0m │\n",
       "│ \u001b[32mAFG   \u001b[0m │ \u001b[1;36m297775.0\u001b[0m │ \u001b[32m18611  \u001b[0m │       \u001b[1;36m4\u001b[0m │       \u001b[1;36m3\u001b[0m │ \u001b[1m<\u001b[0m\u001b[1;95mPOLYGON\u001b[0m\u001b[39m \u001b[0m\u001b[1;39m(\u001b[0m\u001b[1;39m(\u001b[0m\u001b[1;36m70.81\u001b[0m\u001b[39m \u001b[0m\u001b[1;36m38.444\u001b[0m\u001b[39m, \u001b[0m\u001b[1;36m70.812\u001b[0m\u001b[39m \u001b[0m\u001b[1;36m38.444\u001b[0m\u001b[39m, \u001b[0m\u001b[1;36m70.813\u001b[0m\u001b[39m \u001b[0m\u001b[1;36m38.444\u001b[0m\u001b[39m, \u001b[0m\u001b[1;36m70.815\u001b[0m\u001b[39m \u001b[0m\u001b[1;36m38.445\u001b[0m\u001b[39m, \u001b[0m\u001b[1;36m70.817\u001b[0m\u001b[33m...\u001b[0m\u001b[1m>\u001b[0m │\n",
       "│ \u001b[32mAFG   \u001b[0m │ \u001b[1;36m297776.0\u001b[0m │ \u001b[32m18611  \u001b[0m │       \u001b[1;36m4\u001b[0m │       \u001b[1;36m4\u001b[0m │ \u001b[1m<\u001b[0m\u001b[1;95mPOLYGON\u001b[0m\u001b[39m \u001b[0m\u001b[1;39m(\u001b[0m\u001b[1;39m(\u001b[0m\u001b[1;36m71\u001b[0m\u001b[39m \u001b[0m\u001b[1;36m38\u001b[0m\u001b[39m, \u001b[0m\u001b[1;36m70.75\u001b[0m\u001b[39m \u001b[0m\u001b[1;36m38\u001b[0m\u001b[39m, \u001b[0m\u001b[1;36m70.75\u001b[0m\u001b[39m \u001b[0m\u001b[1;36m38.25\u001b[0m\u001b[39m, \u001b[0m\u001b[1;36m71\u001b[0m\u001b[39m \u001b[0m\u001b[1;36m38.25\u001b[0m\u001b[39m, \u001b[0m\u001b[1;36m71\u001b[0m\u001b[39m \u001b[0m\u001b[1;36m38\u001b[0m\u001b[1;39m)\u001b[0m\u001b[1;39m)\u001b[0m\u001b[1m>\u001b[0m                      │\n",
       "└────────┴──────────┴─────────┴─────────┴─────────┴──────────────────────────────────────────────────────────────────────────────────┘"
      ]
     },
     "execution_count": 22,
     "metadata": {},
     "output_type": "execute_result"
    }
   ],
   "source": [
    "local_gdp.head()"
   ]
  },
  {
   "cell_type": "code",
   "execution_count": 23,
   "metadata": {},
   "outputs": [],
   "source": [
    "# local_gdp_df = local_gdp.execute(limit=1000).set_crs(\"epsg:4326\")\n",
    "# local_gdp_df.explore()"
   ]
  },
  {
   "cell_type": "code",
   "execution_count": 24,
   "metadata": {},
   "outputs": [
    {
     "name": "stdout",
     "output_type": "stream",
     "text": [
      "overwriting existing\n",
      "reading bbox\n"
     ]
    }
   ],
   "source": [
    "# mapspam\n",
    "mapspam = snoo.sn_table(conn,name=\"mapsapam\",path=\"../datasets/mapspam/processed/spam_2020_yield_v2.parquet\",**ingestion_params)"
   ]
  },
  {
   "cell_type": "code",
   "execution_count": 25,
   "metadata": {},
   "outputs": [
    {
     "name": "stdout",
     "output_type": "stream",
     "text": [
      "overwriting existing\n",
      "reading bbox\n"
     ]
    }
   ],
   "source": [
    "# kummu\n",
    "kummu = snoo.sn_table(conn,name=\"kummu\",path=\"../datasets/kummu_etal/processed/GDP_PPP_30arcsec/*band_1*.parquet\",**ingestion_params)"
   ]
  },
  {
   "cell_type": "code",
   "execution_count": 26,
   "metadata": {},
   "outputs": [
    {
     "data": {
      "text/html": [
       "<pre style=\"white-space:pre;overflow-x:auto;line-height:normal;font-family:Menlo,'DejaVu Sans Mono',consolas,'Courier New',monospace\"></pre>\n"
      ],
      "text/plain": []
     },
     "metadata": {},
     "output_type": "display_data"
    },
    {
     "name": "stdout",
     "output_type": "stream",
     "text": [
      "┌───────┐\n",
      "│ \u001b[1;36m20585\u001b[0m │\n",
      "└───────┘\n"
     ]
    },
    {
     "data": {
      "text/html": [
       "<pre style=\"white-space:pre;overflow-x:auto;line-height:normal;font-family:Menlo,'DejaVu Sans Mono',consolas,'Courier New',monospace\"></pre>\n"
      ],
      "text/plain": []
     },
     "metadata": {},
     "output_type": "display_data"
    },
    {
     "name": "stdout",
     "output_type": "stream",
     "text": [
      "┏━━━━━━━━━━┳━━━━━━━━━━━┳━━━━━━━━━━━━━━━┓\n",
      "┃\u001b[1m \u001b[0m\u001b[1mlon\u001b[0m\u001b[1m     \u001b[0m\u001b[1m \u001b[0m┃\u001b[1m \u001b[0m\u001b[1mlat\u001b[0m\u001b[1m      \u001b[0m\u001b[1m \u001b[0m┃\u001b[1m \u001b[0m\u001b[1mband_var\u001b[0m\u001b[1m     \u001b[0m\u001b[1m \u001b[0m┃\n",
      "┡━━━━━━━━━━╇━━━━━━━━━━━╇━━━━━━━━━━━━━━━┩\n",
      "│ \u001b[2mfloat32\u001b[0m  │ \u001b[2mfloat32\u001b[0m   │ \u001b[2mfloat32\u001b[0m       │\n",
      "├──────────┼───────────┼───────────────┤\n",
      "│ \u001b[1;36m7.387500\u001b[0m │ \u001b[1;36m12.954166\u001b[0m │  \u001b[1;36m99221.453125\u001b[0m │\n",
      "│ \u001b[1;36m7.429167\u001b[0m │ \u001b[1;36m12.954166\u001b[0m │  \u001b[1;36m54983.750000\u001b[0m │\n",
      "│ \u001b[1;36m7.470833\u001b[0m │ \u001b[1;36m12.954166\u001b[0m │  \u001b[1;36m50964.957031\u001b[0m │\n",
      "│ \u001b[1;36m7.562500\u001b[0m │ \u001b[1;36m12.954166\u001b[0m │ \u001b[1;36m564937.187500\u001b[0m │\n",
      "│ \u001b[1;36m7.570833\u001b[0m │ \u001b[1;36m12.954166\u001b[0m │ \u001b[1;36m997545.125000\u001b[0m │\n",
      "└──────────┴───────────┴───────────────┘\n"
     ]
    }
   ],
   "source": [
    "snoo.sn_head(kummu)"
   ]
  },
  {
   "cell_type": "code",
   "execution_count": 27,
   "metadata": {},
   "outputs": [
    {
     "name": "stdout",
     "output_type": "stream",
     "text": [
      "overwriting existing\n",
      "reading bbox\n"
     ]
    },
    {
     "data": {
      "application/vnd.jupyter.widget-view+json": {
       "model_id": "080d0220f575420c8f7abdc76b2d42a6",
       "version_major": 2,
       "version_minor": 0
      },
      "text/plain": [
       "FloatProgress(value=0.0, layout=Layout(width='auto'), style=ProgressStyle(bar_color='black'))"
      ]
     },
     "metadata": {},
     "output_type": "display_data"
    }
   ],
   "source": [
    "# GHSL NRES\n",
    "nres = snoo.sn_table(conn,name=\"nres\",path=\"../datasets/JRC/processed/S_NRES_10/**.parquet\",**ingestion_params)"
   ]
  },
  {
   "cell_type": "code",
   "execution_count": 28,
   "metadata": {},
   "outputs": [
    {
     "name": "stdout",
     "output_type": "stream",
     "text": [
      "overwriting existing\n",
      "reading bbox\n"
     ]
    }
   ],
   "source": [
    "# copernicus\n",
    "copernic_built = snoo.sn_table(conn,name=\"copernicus\",path=\"/Users/cenv1069/Documents/data/datasets/copernicus/processed/copernicus_builtup_100m_2018/**.parquet\",**ingestion_params)"
   ]
  },
  {
   "cell_type": "code",
   "execution_count": 29,
   "metadata": {},
   "outputs": [
    {
     "name": "stdout",
     "output_type": "stream",
     "text": [
      "overwriting existing\n"
     ]
    },
    {
     "data": {
      "application/vnd.jupyter.widget-view+json": {
       "model_id": "1e3d7b6c3c6a45bcae1857ad64719a8a",
       "version_major": 2,
       "version_minor": 0
      },
      "text/plain": [
       "FloatProgress(value=0.0, layout=Layout(width='auto'), style=ProgressStyle(bar_color='black'))"
      ]
     },
     "metadata": {},
     "output_type": "display_data"
    }
   ],
   "source": [
    "places = snoo.sn_table(conn,name=\"places\",path=\"../\" + overture_places_landuses_filename,overwrite=True)\n",
    "places = (\n",
    "    places\n",
    "    .filter(\n",
    "        _.x>bbox[0],\n",
    "        _.y>bbox[1],\n",
    "        _.x<bbox[2],\n",
    "        _.y<bbox[3],)\n",
    "    .fill_null({\"dose\" : \"uncategorised\"})\n",
    "    .rename({\"lon\" : \"x\",\n",
    "             \"lat\" : \"y\"})\n",
    ")"
   ]
  },
  {
   "cell_type": "code",
   "execution_count": 30,
   "metadata": {},
   "outputs": [
    {
     "name": "stdout",
     "output_type": "stream",
     "text": [
      "Existing h3_id column will be overwritten\n",
      "Assuming coordinates columns ('lon','lat')\n"
     ]
    }
   ],
   "source": [
    "places = snoo.sn_project(places,res=8)"
   ]
  },
  {
   "cell_type": "code",
   "execution_count": 31,
   "metadata": {},
   "outputs": [
    {
     "data": {
      "text/html": [
       "<pre style=\"white-space:pre;overflow-x:auto;line-height:normal;font-family:Menlo,'DejaVu Sans Mono',consolas,'Courier New',monospace\">┏━━━━━━━━┳━━━━━━━┳━━━━━━━━┳━━━━━━━┳━━━━━━━┳━━━━━━━━┳━━━━━━━━━━┓\n",
       "┃<span style=\"font-weight: bold\"> name   </span>┃<span style=\"font-weight: bold\"> pos   </span>┃<span style=\"font-weight: bold\"> type   </span>┃<span style=\"font-weight: bold\"> count </span>┃<span style=\"font-weight: bold\"> nulls </span>┃<span style=\"font-weight: bold\"> unique </span>┃<span style=\"font-weight: bold\"> mode     </span>┃\n",
       "┡━━━━━━━━╇━━━━━━━╇━━━━━━━━╇━━━━━━━╇━━━━━━━╇━━━━━━━━╇━━━━━━━━━━┩\n",
       "│ <span style=\"color: #7f7f7f; text-decoration-color: #7f7f7f\">string</span> │ <span style=\"color: #7f7f7f; text-decoration-color: #7f7f7f\">int16</span> │ <span style=\"color: #7f7f7f; text-decoration-color: #7f7f7f\">string</span> │ <span style=\"color: #7f7f7f; text-decoration-color: #7f7f7f\">int64</span> │ <span style=\"color: #7f7f7f; text-decoration-color: #7f7f7f\">int64</span> │ <span style=\"color: #7f7f7f; text-decoration-color: #7f7f7f\">int64</span>  │ <span style=\"color: #7f7f7f; text-decoration-color: #7f7f7f\">string</span>   │\n",
       "├────────┼───────┼────────┼───────┼───────┼────────┼──────────┤\n",
       "│ <span style=\"color: #008000; text-decoration-color: #008000\">dose  </span> │     <span style=\"color: #008080; text-decoration-color: #008080; font-weight: bold\">0</span> │ <span style=\"color: #008000; text-decoration-color: #008000\">string</span> │  <span style=\"color: #008080; text-decoration-color: #008080; font-weight: bold\">5069</span> │     <span style=\"color: #008080; text-decoration-color: #008080; font-weight: bold\">0</span> │      <span style=\"color: #008080; text-decoration-color: #008080; font-weight: bold\">3</span> │ <span style=\"color: #008000; text-decoration-color: #008000\">services</span> │\n",
       "└────────┴───────┴────────┴───────┴───────┴────────┴──────────┘\n",
       "</pre>\n"
      ],
      "text/plain": [
       "┏━━━━━━━━┳━━━━━━━┳━━━━━━━━┳━━━━━━━┳━━━━━━━┳━━━━━━━━┳━━━━━━━━━━┓\n",
       "┃\u001b[1m \u001b[0m\u001b[1mname\u001b[0m\u001b[1m  \u001b[0m\u001b[1m \u001b[0m┃\u001b[1m \u001b[0m\u001b[1mpos\u001b[0m\u001b[1m  \u001b[0m\u001b[1m \u001b[0m┃\u001b[1m \u001b[0m\u001b[1mtype\u001b[0m\u001b[1m  \u001b[0m\u001b[1m \u001b[0m┃\u001b[1m \u001b[0m\u001b[1mcount\u001b[0m\u001b[1m \u001b[0m┃\u001b[1m \u001b[0m\u001b[1mnulls\u001b[0m\u001b[1m \u001b[0m┃\u001b[1m \u001b[0m\u001b[1munique\u001b[0m\u001b[1m \u001b[0m┃\u001b[1m \u001b[0m\u001b[1mmode\u001b[0m\u001b[1m    \u001b[0m\u001b[1m \u001b[0m┃\n",
       "┡━━━━━━━━╇━━━━━━━╇━━━━━━━━╇━━━━━━━╇━━━━━━━╇━━━━━━━━╇━━━━━━━━━━┩\n",
       "│ \u001b[2mstring\u001b[0m │ \u001b[2mint16\u001b[0m │ \u001b[2mstring\u001b[0m │ \u001b[2mint64\u001b[0m │ \u001b[2mint64\u001b[0m │ \u001b[2mint64\u001b[0m  │ \u001b[2mstring\u001b[0m   │\n",
       "├────────┼───────┼────────┼───────┼───────┼────────┼──────────┤\n",
       "│ \u001b[32mdose  \u001b[0m │     \u001b[1;36m0\u001b[0m │ \u001b[32mstring\u001b[0m │  \u001b[1;36m5069\u001b[0m │     \u001b[1;36m0\u001b[0m │      \u001b[1;36m3\u001b[0m │ \u001b[32mservices\u001b[0m │\n",
       "└────────┴───────┴────────┴───────┴───────┴────────┴──────────┘"
      ]
     },
     "execution_count": 31,
     "metadata": {},
     "output_type": "execute_result"
    }
   ],
   "source": [
    "places.select(\"dose\").describe()"
   ]
  },
  {
   "cell_type": "code",
   "execution_count": 32,
   "metadata": {},
   "outputs": [
    {
     "data": {
      "text/html": [
       "<pre style=\"white-space:pre;overflow-x:auto;line-height:normal;font-family:Menlo,'DejaVu Sans Mono',consolas,'Courier New',monospace\"></pre>\n"
      ],
      "text/plain": []
     },
     "metadata": {},
     "output_type": "display_data"
    },
    {
     "name": "stdout",
     "output_type": "stream",
     "text": [
      "┌──────┐\n",
      "│ \u001b[1;36m5069\u001b[0m │\n",
      "└──────┘\n"
     ]
    },
    {
     "data": {
      "text/html": [
       "<pre style=\"white-space:pre;overflow-x:auto;line-height:normal;font-family:Menlo,'DejaVu Sans Mono',consolas,'Courier New',monospace\"></pre>\n"
      ],
      "text/plain": []
     },
     "metadata": {},
     "output_type": "display_data"
    },
    {
     "name": "stdout",
     "output_type": "stream",
     "text": [
      "┏━━━━━━━━━━━━━━━━━━━━━━━━━━━━━━━━━━┳━━━━━━━━━━┳━━━━━━━━━━┳━━━━━━━━━━━┳━━━━━━━━━━━━━━━┳━━━━━━━━━┳━━━━━━━━━━━━┳━━━━━━\n",
      "┃\u001b[1m \u001b[0m\u001b[1mid\u001b[0m\u001b[1m                              \u001b[0m\u001b[1m \u001b[0m┃\u001b[1m \u001b[0m\u001b[1msec_cat\u001b[0m\u001b[1m \u001b[0m\u001b[1m \u001b[0m┃\u001b[1m \u001b[0m\u001b[1mlon\u001b[0m\u001b[1m     \u001b[0m\u001b[1m \u001b[0m┃\u001b[1m \u001b[0m\u001b[1mlat\u001b[0m\u001b[1m      \u001b[0m\u001b[1m \u001b[0m┃\u001b[1m \u001b[0m\u001b[1msec_cat_right\u001b[0m\u001b[1m \u001b[0m┃\u001b[1m \u001b[0m\u001b[1msection\u001b[0m\u001b[1m \u001b[0m┃\u001b[1m \u001b[0m\u001b[1misic_embed\u001b[0m\u001b[1m \u001b[0m┃\u001b[1m \u001b[0m\u001b[1misic_\u001b[0m\n",
      "┡━━━━━━━━━━━━━━━━━━━━━━━━━━━━━━━━━━╇━━━━━━━━━━╇━━━━━━━━━━╇━━━━━━━━━━━╇━━━━━━━━━━━━━━━╇━━━━━━━━━╇━━━━━━━━━━━━╇━━━━━━\n",
      "│ \u001b[2mstring\u001b[0m                           │ \u001b[2mstring\u001b[0m   │ \u001b[2mfloat32\u001b[0m  │ \u001b[2mfloat32\u001b[0m   │ \u001b[2mstring\u001b[0m        │ \u001b[2mstring\u001b[0m  │ \u001b[2mstring\u001b[0m     │ \u001b[2mstrin\u001b[0m\n",
      "├──────────────────────────────────┼──────────┼──────────┼───────────┼───────────────┼─────────┼────────────┼──────\n",
      "│ \u001b[32m08b58195651b4fff0002bf0759a69f80\u001b[0m │ \u001b[32mpitch   \u001b[0m │ \u001b[1;36m8.033602\u001b[0m │ \u001b[1;36m11.360646\u001b[0m │ \u001b[32mpitch        \u001b[0m │ \u001b[32mR      \u001b[0m │ \u001b[32m92        \u001b[0m │ \u001b[32mGambl\u001b[0m\n",
      "│ \u001b[32m08b5819575246fff0002b747e62a099c\u001b[0m │ \u001b[32mfarmland\u001b[0m │ \u001b[1;36m8.008574\u001b[0m │ \u001b[1;36m11.319696\u001b[0m │ \u001b[32mfarmland     \u001b[0m │ \u001b[32mA      \u001b[0m │ \u001b[32m01        \u001b[0m │ \u001b[32mCrop \u001b[0m\n",
      "│ \u001b[32m08b581957535efff0002b803cce36049\u001b[0m │ \u001b[32mfarmland\u001b[0m │ \u001b[1;36m8.006901\u001b[0m │ \u001b[1;36m11.321367\u001b[0m │ \u001b[32mfarmland     \u001b[0m │ \u001b[32mA      \u001b[0m │ \u001b[32m01        \u001b[0m │ \u001b[32mCrop \u001b[0m\n",
      "│ \u001b[32m08b5819575358fff0002beff76bcff23\u001b[0m │ \u001b[32mfarmland\u001b[0m │ \u001b[1;36m8.007175\u001b[0m │ \u001b[1;36m11.321362\u001b[0m │ \u001b[32mfarmland     \u001b[0m │ \u001b[32mA      \u001b[0m │ \u001b[32m01        \u001b[0m │ \u001b[32mCrop \u001b[0m\n",
      "│ \u001b[32m08b5819575262fff0002b06e77f429bd\u001b[0m │ \u001b[32mfarmland\u001b[0m │ \u001b[1;36m8.008208\u001b[0m │ \u001b[1;36m11.320755\u001b[0m │ \u001b[32mfarmland     \u001b[0m │ \u001b[32mA      \u001b[0m │ \u001b[32m01        \u001b[0m │ \u001b[32mCrop \u001b[0m\n",
      "└──────────────────────────────────┴──────────┴──────────┴───────────┴───────────────┴─────────┴────────────┴──────\n"
     ]
    }
   ],
   "source": [
    "snoo.sn_head(places)"
   ]
  },
  {
   "cell_type": "code",
   "execution_count": 33,
   "metadata": {},
   "outputs": [
    {
     "data": {
      "text/html": [
       "<pre style=\"white-space:pre;overflow-x:auto;line-height:normal;font-family:Menlo,'DejaVu Sans Mono',consolas,'Courier New',monospace\">┏━━━━━━━━━━━━━━━━━━━━━━━━━━━━━━━━━━┳━━━━━━━━━━┳━━━━━━━━━━┳━━━━━━━━━━━┳━━━━━━━━━━━━━━━┳━━━━━━━━━┳━━━━━━━━━━━━┳━━━━━━━━━━━━━━━━━━━━━━━━━━━━━━━━━━━━━━━━━━━━━━━━━━━━━━━━━━━━━━━━━━━━┳━━━━━━━━━━━━━┳━━━━━━━━━━━━━┳━━━━━━━━━━━━━━━━━┓\n",
       "┃<span style=\"font-weight: bold\"> id                               </span>┃<span style=\"font-weight: bold\"> sec_cat  </span>┃<span style=\"font-weight: bold\"> lon      </span>┃<span style=\"font-weight: bold\"> lat       </span>┃<span style=\"font-weight: bold\"> sec_cat_right </span>┃<span style=\"font-weight: bold\"> section </span>┃<span style=\"font-weight: bold\"> isic_embed </span>┃<span style=\"font-weight: bold\"> isic_descr                                                         </span>┃<span style=\"font-weight: bold\"> dose        </span>┃<span style=\"font-weight: bold\"> match_score </span>┃<span style=\"font-weight: bold\"> h3_id           </span>┃\n",
       "┡━━━━━━━━━━━━━━━━━━━━━━━━━━━━━━━━━━╇━━━━━━━━━━╇━━━━━━━━━━╇━━━━━━━━━━━╇━━━━━━━━━━━━━━━╇━━━━━━━━━╇━━━━━━━━━━━━╇━━━━━━━━━━━━━━━━━━━━━━━━━━━━━━━━━━━━━━━━━━━━━━━━━━━━━━━━━━━━━━━━━━━━╇━━━━━━━━━━━━━╇━━━━━━━━━━━━━╇━━━━━━━━━━━━━━━━━┩\n",
       "│ <span style=\"color: #7f7f7f; text-decoration-color: #7f7f7f\">string</span>                           │ <span style=\"color: #7f7f7f; text-decoration-color: #7f7f7f\">string</span>   │ <span style=\"color: #7f7f7f; text-decoration-color: #7f7f7f\">float32</span>  │ <span style=\"color: #7f7f7f; text-decoration-color: #7f7f7f\">float32</span>   │ <span style=\"color: #7f7f7f; text-decoration-color: #7f7f7f\">string</span>        │ <span style=\"color: #7f7f7f; text-decoration-color: #7f7f7f\">string</span>  │ <span style=\"color: #7f7f7f; text-decoration-color: #7f7f7f\">string</span>     │ <span style=\"color: #7f7f7f; text-decoration-color: #7f7f7f\">string</span>                                                             │ <span style=\"color: #7f7f7f; text-decoration-color: #7f7f7f\">string</span>      │ <span style=\"color: #7f7f7f; text-decoration-color: #7f7f7f\">float64</span>     │ <span style=\"color: #7f7f7f; text-decoration-color: #7f7f7f\">string</span>          │\n",
       "├──────────────────────────────────┼──────────┼──────────┼───────────┼───────────────┼─────────┼────────────┼────────────────────────────────────────────────────────────────────┼─────────────┼─────────────┼─────────────────┤\n",
       "│ <span style=\"color: #008000; text-decoration-color: #008000\">08b58195651b4fff0002bf0759a69f80</span> │ <span style=\"color: #008000; text-decoration-color: #008000\">pitch   </span> │ <span style=\"color: #008080; text-decoration-color: #008080; font-weight: bold\">8.033602</span> │ <span style=\"color: #008080; text-decoration-color: #008080; font-weight: bold\">11.360646</span> │ <span style=\"color: #008000; text-decoration-color: #008000\">pitch        </span> │ <span style=\"color: #008000; text-decoration-color: #008000\">R      </span> │ <span style=\"color: #008000; text-decoration-color: #008000\">92        </span> │ <span style=\"color: #008000; text-decoration-color: #008000\">Gambling and betting activities                                   </span> │ <span style=\"color: #008000; text-decoration-color: #008000\">services   </span> │    <span style=\"color: #008080; text-decoration-color: #008080; font-weight: bold\">0.221822</span> │ <span style=\"color: #008000; text-decoration-color: #008000\">885819565dfffff</span> │\n",
       "│ <span style=\"color: #008000; text-decoration-color: #008000\">08b5819575246fff0002b747e62a099c</span> │ <span style=\"color: #008000; text-decoration-color: #008000\">farmland</span> │ <span style=\"color: #008080; text-decoration-color: #008080; font-weight: bold\">8.008574</span> │ <span style=\"color: #008080; text-decoration-color: #008080; font-weight: bold\">11.319696</span> │ <span style=\"color: #008000; text-decoration-color: #008000\">farmland     </span> │ <span style=\"color: #008000; text-decoration-color: #008000\">A      </span> │ <span style=\"color: #008000; text-decoration-color: #008000\">01        </span> │ <span style=\"color: #008000; text-decoration-color: #008000\">Crop and animal production, hunting and related service activities</span> │ <span style=\"color: #008000; text-decoration-color: #008000\">agriculture</span> │    <span style=\"color: #008080; text-decoration-color: #008080; font-weight: bold\">0.506969</span> │ <span style=\"color: #008000; text-decoration-color: #008000\">8858195753fffff</span> │\n",
       "│ <span style=\"color: #008000; text-decoration-color: #008000\">08b581957535efff0002b803cce36049</span> │ <span style=\"color: #008000; text-decoration-color: #008000\">farmland</span> │ <span style=\"color: #008080; text-decoration-color: #008080; font-weight: bold\">8.006901</span> │ <span style=\"color: #008080; text-decoration-color: #008080; font-weight: bold\">11.321367</span> │ <span style=\"color: #008000; text-decoration-color: #008000\">farmland     </span> │ <span style=\"color: #008000; text-decoration-color: #008000\">A      </span> │ <span style=\"color: #008000; text-decoration-color: #008000\">01        </span> │ <span style=\"color: #008000; text-decoration-color: #008000\">Crop and animal production, hunting and related service activities</span> │ <span style=\"color: #008000; text-decoration-color: #008000\">agriculture</span> │    <span style=\"color: #008080; text-decoration-color: #008080; font-weight: bold\">0.506969</span> │ <span style=\"color: #008000; text-decoration-color: #008000\">8858195753fffff</span> │\n",
       "│ <span style=\"color: #008000; text-decoration-color: #008000\">08b5819575358fff0002beff76bcff23</span> │ <span style=\"color: #008000; text-decoration-color: #008000\">farmland</span> │ <span style=\"color: #008080; text-decoration-color: #008080; font-weight: bold\">8.007175</span> │ <span style=\"color: #008080; text-decoration-color: #008080; font-weight: bold\">11.321362</span> │ <span style=\"color: #008000; text-decoration-color: #008000\">farmland     </span> │ <span style=\"color: #008000; text-decoration-color: #008000\">A      </span> │ <span style=\"color: #008000; text-decoration-color: #008000\">01        </span> │ <span style=\"color: #008000; text-decoration-color: #008000\">Crop and animal production, hunting and related service activities</span> │ <span style=\"color: #008000; text-decoration-color: #008000\">agriculture</span> │    <span style=\"color: #008080; text-decoration-color: #008080; font-weight: bold\">0.506969</span> │ <span style=\"color: #008000; text-decoration-color: #008000\">8858195753fffff</span> │\n",
       "│ <span style=\"color: #008000; text-decoration-color: #008000\">08b5819575262fff0002b06e77f429bd</span> │ <span style=\"color: #008000; text-decoration-color: #008000\">farmland</span> │ <span style=\"color: #008080; text-decoration-color: #008080; font-weight: bold\">8.008208</span> │ <span style=\"color: #008080; text-decoration-color: #008080; font-weight: bold\">11.320755</span> │ <span style=\"color: #008000; text-decoration-color: #008000\">farmland     </span> │ <span style=\"color: #008000; text-decoration-color: #008000\">A      </span> │ <span style=\"color: #008000; text-decoration-color: #008000\">01        </span> │ <span style=\"color: #008000; text-decoration-color: #008000\">Crop and animal production, hunting and related service activities</span> │ <span style=\"color: #008000; text-decoration-color: #008000\">agriculture</span> │    <span style=\"color: #008080; text-decoration-color: #008080; font-weight: bold\">0.506969</span> │ <span style=\"color: #008000; text-decoration-color: #008000\">8858195753fffff</span> │\n",
       "└──────────────────────────────────┴──────────┴──────────┴───────────┴───────────────┴─────────┴────────────┴────────────────────────────────────────────────────────────────────┴─────────────┴─────────────┴─────────────────┘\n",
       "</pre>\n"
      ],
      "text/plain": [
       "┏━━━━━━━━━━━━━━━━━━━━━━━━━━━━━━━━━━┳━━━━━━━━━━┳━━━━━━━━━━┳━━━━━━━━━━━┳━━━━━━━━━━━━━━━┳━━━━━━━━━┳━━━━━━━━━━━━┳━━━━━━━━━━━━━━━━━━━━━━━━━━━━━━━━━━━━━━━━━━━━━━━━━━━━━━━━━━━━━━━━━━━━┳━━━━━━━━━━━━━┳━━━━━━━━━━━━━┳━━━━━━━━━━━━━━━━━┓\n",
       "┃\u001b[1m \u001b[0m\u001b[1mid\u001b[0m\u001b[1m                              \u001b[0m\u001b[1m \u001b[0m┃\u001b[1m \u001b[0m\u001b[1msec_cat\u001b[0m\u001b[1m \u001b[0m\u001b[1m \u001b[0m┃\u001b[1m \u001b[0m\u001b[1mlon\u001b[0m\u001b[1m     \u001b[0m\u001b[1m \u001b[0m┃\u001b[1m \u001b[0m\u001b[1mlat\u001b[0m\u001b[1m      \u001b[0m\u001b[1m \u001b[0m┃\u001b[1m \u001b[0m\u001b[1msec_cat_right\u001b[0m\u001b[1m \u001b[0m┃\u001b[1m \u001b[0m\u001b[1msection\u001b[0m\u001b[1m \u001b[0m┃\u001b[1m \u001b[0m\u001b[1misic_embed\u001b[0m\u001b[1m \u001b[0m┃\u001b[1m \u001b[0m\u001b[1misic_descr\u001b[0m\u001b[1m                                                        \u001b[0m\u001b[1m \u001b[0m┃\u001b[1m \u001b[0m\u001b[1mdose\u001b[0m\u001b[1m       \u001b[0m\u001b[1m \u001b[0m┃\u001b[1m \u001b[0m\u001b[1mmatch_score\u001b[0m\u001b[1m \u001b[0m┃\u001b[1m \u001b[0m\u001b[1mh3_id\u001b[0m\u001b[1m          \u001b[0m\u001b[1m \u001b[0m┃\n",
       "┡━━━━━━━━━━━━━━━━━━━━━━━━━━━━━━━━━━╇━━━━━━━━━━╇━━━━━━━━━━╇━━━━━━━━━━━╇━━━━━━━━━━━━━━━╇━━━━━━━━━╇━━━━━━━━━━━━╇━━━━━━━━━━━━━━━━━━━━━━━━━━━━━━━━━━━━━━━━━━━━━━━━━━━━━━━━━━━━━━━━━━━━╇━━━━━━━━━━━━━╇━━━━━━━━━━━━━╇━━━━━━━━━━━━━━━━━┩\n",
       "│ \u001b[2mstring\u001b[0m                           │ \u001b[2mstring\u001b[0m   │ \u001b[2mfloat32\u001b[0m  │ \u001b[2mfloat32\u001b[0m   │ \u001b[2mstring\u001b[0m        │ \u001b[2mstring\u001b[0m  │ \u001b[2mstring\u001b[0m     │ \u001b[2mstring\u001b[0m                                                             │ \u001b[2mstring\u001b[0m      │ \u001b[2mfloat64\u001b[0m     │ \u001b[2mstring\u001b[0m          │\n",
       "├──────────────────────────────────┼──────────┼──────────┼───────────┼───────────────┼─────────┼────────────┼────────────────────────────────────────────────────────────────────┼─────────────┼─────────────┼─────────────────┤\n",
       "│ \u001b[32m08b58195651b4fff0002bf0759a69f80\u001b[0m │ \u001b[32mpitch   \u001b[0m │ \u001b[1;36m8.033602\u001b[0m │ \u001b[1;36m11.360646\u001b[0m │ \u001b[32mpitch        \u001b[0m │ \u001b[32mR      \u001b[0m │ \u001b[32m92        \u001b[0m │ \u001b[32mGambling and betting activities                                   \u001b[0m │ \u001b[32mservices   \u001b[0m │    \u001b[1;36m0.221822\u001b[0m │ \u001b[32m885819565dfffff\u001b[0m │\n",
       "│ \u001b[32m08b5819575246fff0002b747e62a099c\u001b[0m │ \u001b[32mfarmland\u001b[0m │ \u001b[1;36m8.008574\u001b[0m │ \u001b[1;36m11.319696\u001b[0m │ \u001b[32mfarmland     \u001b[0m │ \u001b[32mA      \u001b[0m │ \u001b[32m01        \u001b[0m │ \u001b[32mCrop and animal production, hunting and related service activities\u001b[0m │ \u001b[32magriculture\u001b[0m │    \u001b[1;36m0.506969\u001b[0m │ \u001b[32m8858195753fffff\u001b[0m │\n",
       "│ \u001b[32m08b581957535efff0002b803cce36049\u001b[0m │ \u001b[32mfarmland\u001b[0m │ \u001b[1;36m8.006901\u001b[0m │ \u001b[1;36m11.321367\u001b[0m │ \u001b[32mfarmland     \u001b[0m │ \u001b[32mA      \u001b[0m │ \u001b[32m01        \u001b[0m │ \u001b[32mCrop and animal production, hunting and related service activities\u001b[0m │ \u001b[32magriculture\u001b[0m │    \u001b[1;36m0.506969\u001b[0m │ \u001b[32m8858195753fffff\u001b[0m │\n",
       "│ \u001b[32m08b5819575358fff0002beff76bcff23\u001b[0m │ \u001b[32mfarmland\u001b[0m │ \u001b[1;36m8.007175\u001b[0m │ \u001b[1;36m11.321362\u001b[0m │ \u001b[32mfarmland     \u001b[0m │ \u001b[32mA      \u001b[0m │ \u001b[32m01        \u001b[0m │ \u001b[32mCrop and animal production, hunting and related service activities\u001b[0m │ \u001b[32magriculture\u001b[0m │    \u001b[1;36m0.506969\u001b[0m │ \u001b[32m8858195753fffff\u001b[0m │\n",
       "│ \u001b[32m08b5819575262fff0002b06e77f429bd\u001b[0m │ \u001b[32mfarmland\u001b[0m │ \u001b[1;36m8.008208\u001b[0m │ \u001b[1;36m11.320755\u001b[0m │ \u001b[32mfarmland     \u001b[0m │ \u001b[32mA      \u001b[0m │ \u001b[32m01        \u001b[0m │ \u001b[32mCrop and animal production, hunting and related service activities\u001b[0m │ \u001b[32magriculture\u001b[0m │    \u001b[1;36m0.506969\u001b[0m │ \u001b[32m8858195753fffff\u001b[0m │\n",
       "└──────────────────────────────────┴──────────┴──────────┴───────────┴───────────────┴─────────┴────────────┴────────────────────────────────────────────────────────────────────┴─────────────┴─────────────┴─────────────────┘"
      ]
     },
     "execution_count": 33,
     "metadata": {},
     "output_type": "execute_result"
    }
   ],
   "source": [
    "places.head()"
   ]
  },
  {
   "cell_type": "code",
   "execution_count": 34,
   "metadata": {},
   "outputs": [
    {
     "data": {
      "text/plain": [
       "['copernicus',\n",
       " 'dose',\n",
       " 'kummu',\n",
       " 'local_gdp',\n",
       " 'mapsapam',\n",
       " 'nres',\n",
       " 'places',\n",
       " 'predictors',\n",
       " 'table1']"
      ]
     },
     "execution_count": 34,
     "metadata": {},
     "output_type": "execute_result"
    }
   ],
   "source": [
    "conn.list_tables()"
   ]
  },
  {
   "cell_type": "code",
   "execution_count": null,
   "metadata": {},
   "outputs": [],
   "source": [
    "places_h3_dose = snoo.sn_reindex(places.select(\"dose\",\"h3_id\",\"id\"),names_from=\"dose\",values_from=\"id\")"
   ]
  },
  {
   "cell_type": "code",
   "execution_count": 138,
   "metadata": {},
   "outputs": [],
   "source": [
    "tab_name = \"places_h3_dose\"\n",
    "places_h3_dose = conn.create_table(obj=places_h3_dose,name=tab_name,overwrite=True)"
   ]
  },
  {
   "cell_type": "code",
   "execution_count": null,
   "metadata": {},
   "outputs": [
    {
     "data": {
      "text/plain": [
       "<duckdb.duckdb.DuckDBPyConnection at 0x300b3def0>"
      ]
     },
     "execution_count": 139,
     "metadata": {},
     "output_type": "execute_result"
    }
   ],
   "source": [
    "conn.raw_sql(f\"CREATE INDEX h3_idx on {tab_name} (h3_id);\")"
   ]
  },
  {
   "cell_type": "code",
   "execution_count": 140,
   "metadata": {},
   "outputs": [
    {
     "data": {
      "text/plain": [
       "['copernicus',\n",
       " 'dose',\n",
       " 'kummu',\n",
       " 'local_gdp',\n",
       " 'mapsapam',\n",
       " 'nres',\n",
       " 'places',\n",
       " 'places_h3_dose',\n",
       " 'predictors',\n",
       " 'table1']"
      ]
     },
     "execution_count": 140,
     "metadata": {},
     "output_type": "execute_result"
    }
   ],
   "source": [
    "conn.list_tables()"
   ]
  },
  {
   "cell_type": "code",
   "execution_count": 141,
   "metadata": {},
   "outputs": [
    {
     "data": {
      "text/html": [
       "<pre style=\"white-space:pre;overflow-x:auto;line-height:normal;font-family:Menlo,'DejaVu Sans Mono',consolas,'Courier New',monospace\">┏━━━━━━━━━━━━━━━━━┳━━━━━━━━━━━━━━━┳━━━━━━━━━━━━━┳━━━━━━━━━━┓\n",
       "┃<span style=\"font-weight: bold\"> h3_id           </span>┃<span style=\"font-weight: bold\"> manufacturing </span>┃<span style=\"font-weight: bold\"> agriculture </span>┃<span style=\"font-weight: bold\"> services </span>┃\n",
       "┡━━━━━━━━━━━━━━━━━╇━━━━━━━━━━━━━━━╇━━━━━━━━━━━━━╇━━━━━━━━━━┩\n",
       "│ <span style=\"color: #7f7f7f; text-decoration-color: #7f7f7f\">string</span>          │ <span style=\"color: #7f7f7f; text-decoration-color: #7f7f7f\">int64</span>         │ <span style=\"color: #7f7f7f; text-decoration-color: #7f7f7f\">int64</span>       │ <span style=\"color: #7f7f7f; text-decoration-color: #7f7f7f\">int64</span>    │\n",
       "├─────────────────┼───────────────┼─────────────┼──────────┤\n",
       "│ <span style=\"color: #008000; text-decoration-color: #008000\">8858182c31fffff</span> │             <span style=\"color: #008080; text-decoration-color: #008080; font-weight: bold\">0</span> │           <span style=\"color: #008080; text-decoration-color: #008080; font-weight: bold\">0</span> │        <span style=\"color: #008080; text-decoration-color: #008080; font-weight: bold\">2</span> │\n",
       "│ <span style=\"color: #008000; text-decoration-color: #008000\">8858182a91fffff</span> │             <span style=\"color: #008080; text-decoration-color: #008080; font-weight: bold\">1</span> │           <span style=\"color: #008080; text-decoration-color: #008080; font-weight: bold\">0</span> │        <span style=\"color: #008080; text-decoration-color: #008080; font-weight: bold\">0</span> │\n",
       "│ <span style=\"color: #008000; text-decoration-color: #008000\">88581821e5fffff</span> │             <span style=\"color: #008080; text-decoration-color: #008080; font-weight: bold\">0</span> │           <span style=\"color: #008080; text-decoration-color: #008080; font-weight: bold\">1</span> │        <span style=\"color: #008080; text-decoration-color: #008080; font-weight: bold\">0</span> │\n",
       "│ <span style=\"color: #008000; text-decoration-color: #008000\">8858192e83fffff</span> │             <span style=\"color: #008080; text-decoration-color: #008080; font-weight: bold\">0</span> │           <span style=\"color: #008080; text-decoration-color: #008080; font-weight: bold\">0</span> │        <span style=\"color: #008080; text-decoration-color: #008080; font-weight: bold\">3</span> │\n",
       "│ <span style=\"color: #008000; text-decoration-color: #008000\">8858e42b5bfffff</span> │             <span style=\"color: #008080; text-decoration-color: #008080; font-weight: bold\">0</span> │           <span style=\"color: #008080; text-decoration-color: #008080; font-weight: bold\">0</span> │        <span style=\"color: #008080; text-decoration-color: #008080; font-weight: bold\">1</span> │\n",
       "└─────────────────┴───────────────┴─────────────┴──────────┘\n",
       "</pre>\n"
      ],
      "text/plain": [
       "┏━━━━━━━━━━━━━━━━━┳━━━━━━━━━━━━━━━┳━━━━━━━━━━━━━┳━━━━━━━━━━┓\n",
       "┃\u001b[1m \u001b[0m\u001b[1mh3_id\u001b[0m\u001b[1m          \u001b[0m\u001b[1m \u001b[0m┃\u001b[1m \u001b[0m\u001b[1mmanufacturing\u001b[0m\u001b[1m \u001b[0m┃\u001b[1m \u001b[0m\u001b[1magriculture\u001b[0m\u001b[1m \u001b[0m┃\u001b[1m \u001b[0m\u001b[1mservices\u001b[0m\u001b[1m \u001b[0m┃\n",
       "┡━━━━━━━━━━━━━━━━━╇━━━━━━━━━━━━━━━╇━━━━━━━━━━━━━╇━━━━━━━━━━┩\n",
       "│ \u001b[2mstring\u001b[0m          │ \u001b[2mint64\u001b[0m         │ \u001b[2mint64\u001b[0m       │ \u001b[2mint64\u001b[0m    │\n",
       "├─────────────────┼───────────────┼─────────────┼──────────┤\n",
       "│ \u001b[32m8858182c31fffff\u001b[0m │             \u001b[1;36m0\u001b[0m │           \u001b[1;36m0\u001b[0m │        \u001b[1;36m2\u001b[0m │\n",
       "│ \u001b[32m8858182a91fffff\u001b[0m │             \u001b[1;36m1\u001b[0m │           \u001b[1;36m0\u001b[0m │        \u001b[1;36m0\u001b[0m │\n",
       "│ \u001b[32m88581821e5fffff\u001b[0m │             \u001b[1;36m0\u001b[0m │           \u001b[1;36m1\u001b[0m │        \u001b[1;36m0\u001b[0m │\n",
       "│ \u001b[32m8858192e83fffff\u001b[0m │             \u001b[1;36m0\u001b[0m │           \u001b[1;36m0\u001b[0m │        \u001b[1;36m3\u001b[0m │\n",
       "│ \u001b[32m8858e42b5bfffff\u001b[0m │             \u001b[1;36m0\u001b[0m │           \u001b[1;36m0\u001b[0m │        \u001b[1;36m1\u001b[0m │\n",
       "└─────────────────┴───────────────┴─────────────┴──────────┘"
      ]
     },
     "execution_count": 141,
     "metadata": {},
     "output_type": "execute_result"
    }
   ],
   "source": [
    "places_h3_dose.head()"
   ]
  },
  {
   "cell_type": "code",
   "execution_count": 142,
   "metadata": {},
   "outputs": [],
   "source": [
    "places_h3_section = snoo.sn_reindex(places.select(\"section\",\"h3_id\",\"id\"),names_from=\"section\",values_from=\"id\")"
   ]
  },
  {
   "cell_type": "code",
   "execution_count": 143,
   "metadata": {},
   "outputs": [
    {
     "data": {
      "text/html": [
       "<pre style=\"white-space:pre;overflow-x:auto;line-height:normal;font-family:Menlo,'DejaVu Sans Mono',consolas,'Courier New',monospace\"></pre>\n"
      ],
      "text/plain": []
     },
     "metadata": {},
     "output_type": "display_data"
    },
    {
     "name": "stdout",
     "output_type": "stream",
     "text": [
      "┌─────┐\n",
      "│ \u001b[1;36m965\u001b[0m │\n",
      "└─────┘\n"
     ]
    },
    {
     "data": {
      "text/html": [
       "<pre style=\"white-space:pre;overflow-x:auto;line-height:normal;font-family:Menlo,'DejaVu Sans Mono',consolas,'Courier New',monospace\"></pre>\n"
      ],
      "text/plain": []
     },
     "metadata": {},
     "output_type": "display_data"
    },
    {
     "name": "stdout",
     "output_type": "stream",
     "text": [
      "┏━━━━━━━━━━━━━━━━━┳━━━━━━━┳━━━━━━━┳━━━━━━━┳━━━━━━━┳━━━━━━━┳━━━━━━━┳━━━━━━━┳━━━━━━━┳━━━━━━━┳━━━━━━━┳━━━━━━━┳━━━━━━━┳\n",
      "┃\u001b[1m \u001b[0m\u001b[1mh3_id\u001b[0m\u001b[1m          \u001b[0m\u001b[1m \u001b[0m┃\u001b[1m \u001b[0m\u001b[1mE\u001b[0m\u001b[1m    \u001b[0m\u001b[1m \u001b[0m┃\u001b[1m \u001b[0m\u001b[1mI\u001b[0m\u001b[1m    \u001b[0m\u001b[1m \u001b[0m┃\u001b[1m \u001b[0m\u001b[1mN\u001b[0m\u001b[1m    \u001b[0m\u001b[1m \u001b[0m┃\u001b[1m \u001b[0m\u001b[1mJ\u001b[0m\u001b[1m    \u001b[0m\u001b[1m \u001b[0m┃\u001b[1m \u001b[0m\u001b[1mG\u001b[0m\u001b[1m    \u001b[0m\u001b[1m \u001b[0m┃\u001b[1m \u001b[0m\u001b[1mF\u001b[0m\u001b[1m    \u001b[0m\u001b[1m \u001b[0m┃\u001b[1m \u001b[0m\u001b[1mR\u001b[0m\u001b[1m    \u001b[0m\u001b[1m \u001b[0m┃\u001b[1m \u001b[0m\u001b[1mP\u001b[0m\u001b[1m    \u001b[0m\u001b[1m \u001b[0m┃\u001b[1m \u001b[0m\u001b[1mB\u001b[0m\u001b[1m    \u001b[0m\u001b[1m \u001b[0m┃\u001b[1m \u001b[0m\u001b[1mM\u001b[0m\u001b[1m    \u001b[0m\u001b[1m \u001b[0m┃\u001b[1m \u001b[0m\u001b[1mA\u001b[0m\u001b[1m    \u001b[0m\u001b[1m \u001b[0m┃\u001b[1m \u001b[0m\u001b[1mS\u001b[0m\u001b[1m    \u001b[0m\u001b[1m \u001b[0m┃\n",
      "┡━━━━━━━━━━━━━━━━━╇━━━━━━━╇━━━━━━━╇━━━━━━━╇━━━━━━━╇━━━━━━━╇━━━━━━━╇━━━━━━━╇━━━━━━━╇━━━━━━━╇━━━━━━━╇━━━━━━━╇━━━━━━━╇\n",
      "│ \u001b[2mstring\u001b[0m          │ \u001b[2mint64\u001b[0m │ \u001b[2mint64\u001b[0m │ \u001b[2mint64\u001b[0m │ \u001b[2mint64\u001b[0m │ \u001b[2mint64\u001b[0m │ \u001b[2mint64\u001b[0m │ \u001b[2mint64\u001b[0m │ \u001b[2mint64\u001b[0m │ \u001b[2mint64\u001b[0m │ \u001b[2mint64\u001b[0m │ \u001b[2mint64\u001b[0m │ \u001b[2mint64\u001b[0m │\n",
      "├─────────────────┼───────┼───────┼───────┼───────┼───────┼───────┼───────┼───────┼───────┼───────┼───────┼───────┼\n",
      "│ \u001b[32m885819364bfffff\u001b[0m │     \u001b[1;36m0\u001b[0m │     \u001b[1;36m0\u001b[0m │     \u001b[1;36m0\u001b[0m │     \u001b[1;36m0\u001b[0m │     \u001b[1;36m0\u001b[0m │     \u001b[1;36m0\u001b[0m │     \u001b[1;36m0\u001b[0m │     \u001b[1;36m0\u001b[0m │     \u001b[1;36m0\u001b[0m │     \u001b[1;36m0\u001b[0m │     \u001b[1;36m0\u001b[0m │     \u001b[1;36m0\u001b[0m │\n",
      "│ \u001b[32m8858e4526bfffff\u001b[0m │     \u001b[1;36m0\u001b[0m │     \u001b[1;36m0\u001b[0m │     \u001b[1;36m0\u001b[0m │     \u001b[1;36m0\u001b[0m │     \u001b[1;36m0\u001b[0m │     \u001b[1;36m0\u001b[0m │     \u001b[1;36m0\u001b[0m │     \u001b[1;36m0\u001b[0m │     \u001b[1;36m0\u001b[0m │     \u001b[1;36m0\u001b[0m │     \u001b[1;36m0\u001b[0m │     \u001b[1;36m0\u001b[0m │\n",
      "│ \u001b[32m885819b2a7fffff\u001b[0m │     \u001b[1;36m0\u001b[0m │     \u001b[1;36m0\u001b[0m │     \u001b[1;36m0\u001b[0m │     \u001b[1;36m0\u001b[0m │     \u001b[1;36m0\u001b[0m │     \u001b[1;36m0\u001b[0m │     \u001b[1;36m0\u001b[0m │     \u001b[1;36m0\u001b[0m │     \u001b[1;36m0\u001b[0m │     \u001b[1;36m0\u001b[0m │     \u001b[1;36m0\u001b[0m │     \u001b[1;36m1\u001b[0m │\n",
      "│ \u001b[32m88580a4c0bfffff\u001b[0m │     \u001b[1;36m0\u001b[0m │     \u001b[1;36m0\u001b[0m │     \u001b[1;36m0\u001b[0m │     \u001b[1;36m0\u001b[0m │     \u001b[1;36m0\u001b[0m │     \u001b[1;36m0\u001b[0m │     \u001b[1;36m0\u001b[0m │     \u001b[1;36m3\u001b[0m │     \u001b[1;36m0\u001b[0m │     \u001b[1;36m0\u001b[0m │     \u001b[1;36m0\u001b[0m │     \u001b[1;36m0\u001b[0m │\n",
      "│ \u001b[32m88580a4d0bfffff\u001b[0m │     \u001b[1;36m0\u001b[0m │     \u001b[1;36m0\u001b[0m │     \u001b[1;36m0\u001b[0m │     \u001b[1;36m0\u001b[0m │     \u001b[1;36m0\u001b[0m │     \u001b[1;36m0\u001b[0m │     \u001b[1;36m0\u001b[0m │     \u001b[1;36m0\u001b[0m │     \u001b[1;36m0\u001b[0m │     \u001b[1;36m0\u001b[0m │     \u001b[1;36m2\u001b[0m │     \u001b[1;36m0\u001b[0m │\n",
      "└─────────────────┴───────┴───────┴───────┴───────┴───────┴───────┴───────┴───────┴───────┴───────┴───────┴───────┴\n"
     ]
    }
   ],
   "source": [
    "snoo.sn_head(places_h3_section)"
   ]
  },
  {
   "cell_type": "markdown",
   "metadata": {},
   "source": [
    "## Tables"
   ]
  },
  {
   "cell_type": "code",
   "execution_count": 144,
   "metadata": {},
   "outputs": [
    {
     "data": {
      "text/html": [
       "<pre style=\"white-space:pre;overflow-x:auto;line-height:normal;font-family:Menlo,'DejaVu Sans Mono',consolas,'Courier New',monospace\">┏━━━━━━━━━━┳━━━━━━━━━━━┳━━━━━━━━━━┓\n",
       "┃<span style=\"font-weight: bold\"> lon      </span>┃<span style=\"font-weight: bold\"> lat       </span>┃<span style=\"font-weight: bold\"> band_var </span>┃\n",
       "┡━━━━━━━━━━╇━━━━━━━━━━━╇━━━━━━━━━━┩\n",
       "│ <span style=\"color: #7f7f7f; text-decoration-color: #7f7f7f\">float32</span>  │ <span style=\"color: #7f7f7f; text-decoration-color: #7f7f7f\">float32</span>   │ <span style=\"color: #7f7f7f; text-decoration-color: #7f7f7f\">float32</span>  │\n",
       "├──────────┼───────────┼──────────┤\n",
       "│ <span style=\"color: #008080; text-decoration-color: #008080; font-weight: bold\">7.385417</span> │ <span style=\"color: #008080; text-decoration-color: #008080; font-weight: bold\">12.958829</span> │      <span style=\"color: #008080; text-decoration-color: #008080; font-weight: bold\">9.0</span> │\n",
       "│ <span style=\"color: #008080; text-decoration-color: #008080; font-weight: bold\">7.386409</span> │ <span style=\"color: #008080; text-decoration-color: #008080; font-weight: bold\">12.958829</span> │      <span style=\"color: #008080; text-decoration-color: #008080; font-weight: bold\">6.0</span> │\n",
       "│ <span style=\"color: #008080; text-decoration-color: #008080; font-weight: bold\">7.387401</span> │ <span style=\"color: #008080; text-decoration-color: #008080; font-weight: bold\">12.958829</span> │      <span style=\"color: #008080; text-decoration-color: #008080; font-weight: bold\">9.0</span> │\n",
       "│ <span style=\"color: #008080; text-decoration-color: #008080; font-weight: bold\">7.388393</span> │ <span style=\"color: #008080; text-decoration-color: #008080; font-weight: bold\">12.958829</span> │     <span style=\"color: #008080; text-decoration-color: #008080; font-weight: bold\">88.0</span> │\n",
       "│ <span style=\"color: #008080; text-decoration-color: #008080; font-weight: bold\">7.389385</span> │ <span style=\"color: #008080; text-decoration-color: #008080; font-weight: bold\">12.958829</span> │     <span style=\"color: #008080; text-decoration-color: #008080; font-weight: bold\">52.0</span> │\n",
       "└──────────┴───────────┴──────────┘\n",
       "</pre>\n"
      ],
      "text/plain": [
       "┏━━━━━━━━━━┳━━━━━━━━━━━┳━━━━━━━━━━┓\n",
       "┃\u001b[1m \u001b[0m\u001b[1mlon\u001b[0m\u001b[1m     \u001b[0m\u001b[1m \u001b[0m┃\u001b[1m \u001b[0m\u001b[1mlat\u001b[0m\u001b[1m      \u001b[0m\u001b[1m \u001b[0m┃\u001b[1m \u001b[0m\u001b[1mband_var\u001b[0m\u001b[1m \u001b[0m┃\n",
       "┡━━━━━━━━━━╇━━━━━━━━━━━╇━━━━━━━━━━┩\n",
       "│ \u001b[2mfloat32\u001b[0m  │ \u001b[2mfloat32\u001b[0m   │ \u001b[2mfloat32\u001b[0m  │\n",
       "├──────────┼───────────┼──────────┤\n",
       "│ \u001b[1;36m7.385417\u001b[0m │ \u001b[1;36m12.958829\u001b[0m │      \u001b[1;36m9.0\u001b[0m │\n",
       "│ \u001b[1;36m7.386409\u001b[0m │ \u001b[1;36m12.958829\u001b[0m │      \u001b[1;36m6.0\u001b[0m │\n",
       "│ \u001b[1;36m7.387401\u001b[0m │ \u001b[1;36m12.958829\u001b[0m │      \u001b[1;36m9.0\u001b[0m │\n",
       "│ \u001b[1;36m7.388393\u001b[0m │ \u001b[1;36m12.958829\u001b[0m │     \u001b[1;36m88.0\u001b[0m │\n",
       "│ \u001b[1;36m7.389385\u001b[0m │ \u001b[1;36m12.958829\u001b[0m │     \u001b[1;36m52.0\u001b[0m │\n",
       "└──────────┴───────────┴──────────┘"
      ]
     },
     "execution_count": 144,
     "metadata": {},
     "output_type": "execute_result"
    }
   ],
   "source": [
    "copernic_built.head()"
   ]
  },
  {
   "cell_type": "code",
   "execution_count": 145,
   "metadata": {},
   "outputs": [
    {
     "data": {
      "text/html": [
       "<pre style=\"white-space:pre;overflow-x:auto;line-height:normal;font-family:Menlo,'DejaVu Sans Mono',consolas,'Courier New',monospace\">┏━━━━━━━━━━┳━━━━━━━━━━━┳━━━━━━━━━━┓\n",
       "┃<span style=\"font-weight: bold\"> lon      </span>┃<span style=\"font-weight: bold\"> lat       </span>┃<span style=\"font-weight: bold\"> band_var </span>┃\n",
       "┡━━━━━━━━━━╇━━━━━━━━━━━╇━━━━━━━━━━┩\n",
       "│ <span style=\"color: #7f7f7f; text-decoration-color: #7f7f7f\">float32</span>  │ <span style=\"color: #7f7f7f; text-decoration-color: #7f7f7f\">float32</span>   │ <span style=\"color: #7f7f7f; text-decoration-color: #7f7f7f\">float32</span>  │\n",
       "├──────────┼───────────┼──────────┤\n",
       "│ <span style=\"color: #008080; text-decoration-color: #008080; font-weight: bold\">9.832885</span> │ <span style=\"color: #008080; text-decoration-color: #008080; font-weight: bold\">12.908677</span> │      <span style=\"color: #008080; text-decoration-color: #008080; font-weight: bold\">1.0</span> │\n",
       "│ <span style=\"color: #008080; text-decoration-color: #008080; font-weight: bold\">9.832885</span> │ <span style=\"color: #008080; text-decoration-color: #008080; font-weight: bold\">12.908578</span> │      <span style=\"color: #008080; text-decoration-color: #008080; font-weight: bold\">1.0</span> │\n",
       "│ <span style=\"color: #008080; text-decoration-color: #008080; font-weight: bold\">9.832985</span> │ <span style=\"color: #008080; text-decoration-color: #008080; font-weight: bold\">12.908578</span> │      <span style=\"color: #008080; text-decoration-color: #008080; font-weight: bold\">1.0</span> │\n",
       "│ <span style=\"color: #008080; text-decoration-color: #008080; font-weight: bold\">9.833084</span> │ <span style=\"color: #008080; text-decoration-color: #008080; font-weight: bold\">12.908578</span> │      <span style=\"color: #008080; text-decoration-color: #008080; font-weight: bold\">1.0</span> │\n",
       "│ <span style=\"color: #008080; text-decoration-color: #008080; font-weight: bold\">9.832786</span> │ <span style=\"color: #008080; text-decoration-color: #008080; font-weight: bold\">12.908478</span> │      <span style=\"color: #008080; text-decoration-color: #008080; font-weight: bold\">1.0</span> │\n",
       "└──────────┴───────────┴──────────┘\n",
       "</pre>\n"
      ],
      "text/plain": [
       "┏━━━━━━━━━━┳━━━━━━━━━━━┳━━━━━━━━━━┓\n",
       "┃\u001b[1m \u001b[0m\u001b[1mlon\u001b[0m\u001b[1m     \u001b[0m\u001b[1m \u001b[0m┃\u001b[1m \u001b[0m\u001b[1mlat\u001b[0m\u001b[1m      \u001b[0m\u001b[1m \u001b[0m┃\u001b[1m \u001b[0m\u001b[1mband_var\u001b[0m\u001b[1m \u001b[0m┃\n",
       "┡━━━━━━━━━━╇━━━━━━━━━━━╇━━━━━━━━━━┩\n",
       "│ \u001b[2mfloat32\u001b[0m  │ \u001b[2mfloat32\u001b[0m   │ \u001b[2mfloat32\u001b[0m  │\n",
       "├──────────┼───────────┼──────────┤\n",
       "│ \u001b[1;36m9.832885\u001b[0m │ \u001b[1;36m12.908677\u001b[0m │      \u001b[1;36m1.0\u001b[0m │\n",
       "│ \u001b[1;36m9.832885\u001b[0m │ \u001b[1;36m12.908578\u001b[0m │      \u001b[1;36m1.0\u001b[0m │\n",
       "│ \u001b[1;36m9.832985\u001b[0m │ \u001b[1;36m12.908578\u001b[0m │      \u001b[1;36m1.0\u001b[0m │\n",
       "│ \u001b[1;36m9.833084\u001b[0m │ \u001b[1;36m12.908578\u001b[0m │      \u001b[1;36m1.0\u001b[0m │\n",
       "│ \u001b[1;36m9.832786\u001b[0m │ \u001b[1;36m12.908478\u001b[0m │      \u001b[1;36m1.0\u001b[0m │\n",
       "└──────────┴───────────┴──────────┘"
      ]
     },
     "execution_count": 145,
     "metadata": {},
     "output_type": "execute_result"
    }
   ],
   "source": [
    "nres.head()"
   ]
  },
  {
   "cell_type": "code",
   "execution_count": 146,
   "metadata": {},
   "outputs": [
    {
     "data": {
      "text/html": [
       "<pre style=\"white-space:pre;overflow-x:auto;line-height:normal;font-family:Menlo,'DejaVu Sans Mono',consolas,'Courier New',monospace\">┏━━━━━━━━━━┳━━━━━━━━━━━┳━━━━━━━━━━━━━━━┓\n",
       "┃<span style=\"font-weight: bold\"> lon      </span>┃<span style=\"font-weight: bold\"> lat       </span>┃<span style=\"font-weight: bold\"> band_var      </span>┃\n",
       "┡━━━━━━━━━━╇━━━━━━━━━━━╇━━━━━━━━━━━━━━━┩\n",
       "│ <span style=\"color: #7f7f7f; text-decoration-color: #7f7f7f\">float32</span>  │ <span style=\"color: #7f7f7f; text-decoration-color: #7f7f7f\">float32</span>   │ <span style=\"color: #7f7f7f; text-decoration-color: #7f7f7f\">float32</span>       │\n",
       "├──────────┼───────────┼───────────────┤\n",
       "│ <span style=\"color: #008080; text-decoration-color: #008080; font-weight: bold\">7.387500</span> │ <span style=\"color: #008080; text-decoration-color: #008080; font-weight: bold\">12.954166</span> │  <span style=\"color: #008080; text-decoration-color: #008080; font-weight: bold\">99221.453125</span> │\n",
       "│ <span style=\"color: #008080; text-decoration-color: #008080; font-weight: bold\">7.429167</span> │ <span style=\"color: #008080; text-decoration-color: #008080; font-weight: bold\">12.954166</span> │  <span style=\"color: #008080; text-decoration-color: #008080; font-weight: bold\">54983.750000</span> │\n",
       "│ <span style=\"color: #008080; text-decoration-color: #008080; font-weight: bold\">7.470833</span> │ <span style=\"color: #008080; text-decoration-color: #008080; font-weight: bold\">12.954166</span> │  <span style=\"color: #008080; text-decoration-color: #008080; font-weight: bold\">50964.957031</span> │\n",
       "│ <span style=\"color: #008080; text-decoration-color: #008080; font-weight: bold\">7.562500</span> │ <span style=\"color: #008080; text-decoration-color: #008080; font-weight: bold\">12.954166</span> │ <span style=\"color: #008080; text-decoration-color: #008080; font-weight: bold\">564937.187500</span> │\n",
       "│ <span style=\"color: #008080; text-decoration-color: #008080; font-weight: bold\">7.570833</span> │ <span style=\"color: #008080; text-decoration-color: #008080; font-weight: bold\">12.954166</span> │ <span style=\"color: #008080; text-decoration-color: #008080; font-weight: bold\">997545.125000</span> │\n",
       "└──────────┴───────────┴───────────────┘\n",
       "</pre>\n"
      ],
      "text/plain": [
       "┏━━━━━━━━━━┳━━━━━━━━━━━┳━━━━━━━━━━━━━━━┓\n",
       "┃\u001b[1m \u001b[0m\u001b[1mlon\u001b[0m\u001b[1m     \u001b[0m\u001b[1m \u001b[0m┃\u001b[1m \u001b[0m\u001b[1mlat\u001b[0m\u001b[1m      \u001b[0m\u001b[1m \u001b[0m┃\u001b[1m \u001b[0m\u001b[1mband_var\u001b[0m\u001b[1m     \u001b[0m\u001b[1m \u001b[0m┃\n",
       "┡━━━━━━━━━━╇━━━━━━━━━━━╇━━━━━━━━━━━━━━━┩\n",
       "│ \u001b[2mfloat32\u001b[0m  │ \u001b[2mfloat32\u001b[0m   │ \u001b[2mfloat32\u001b[0m       │\n",
       "├──────────┼───────────┼───────────────┤\n",
       "│ \u001b[1;36m7.387500\u001b[0m │ \u001b[1;36m12.954166\u001b[0m │  \u001b[1;36m99221.453125\u001b[0m │\n",
       "│ \u001b[1;36m7.429167\u001b[0m │ \u001b[1;36m12.954166\u001b[0m │  \u001b[1;36m54983.750000\u001b[0m │\n",
       "│ \u001b[1;36m7.470833\u001b[0m │ \u001b[1;36m12.954166\u001b[0m │  \u001b[1;36m50964.957031\u001b[0m │\n",
       "│ \u001b[1;36m7.562500\u001b[0m │ \u001b[1;36m12.954166\u001b[0m │ \u001b[1;36m564937.187500\u001b[0m │\n",
       "│ \u001b[1;36m7.570833\u001b[0m │ \u001b[1;36m12.954166\u001b[0m │ \u001b[1;36m997545.125000\u001b[0m │\n",
       "└──────────┴───────────┴───────────────┘"
      ]
     },
     "execution_count": 146,
     "metadata": {},
     "output_type": "execute_result"
    }
   ],
   "source": [
    "kummu.head()"
   ]
  },
  {
   "cell_type": "code",
   "execution_count": 147,
   "metadata": {},
   "outputs": [
    {
     "data": {
      "text/html": [
       "<pre style=\"white-space:pre;overflow-x:auto;line-height:normal;font-family:Menlo,'DejaVu Sans Mono',consolas,'Courier New',monospace\">┏━━━━━━━━━━┳━━━━━━━━━━━┳━━━━━━━━━━━━━┓\n",
       "┃<span style=\"font-weight: bold\"> lon      </span>┃<span style=\"font-weight: bold\"> lat       </span>┃<span style=\"font-weight: bold\"> band_var    </span>┃\n",
       "┡━━━━━━━━━━╇━━━━━━━━━━━╇━━━━━━━━━━━━━┩\n",
       "│ <span style=\"color: #7f7f7f; text-decoration-color: #7f7f7f\">float32</span>  │ <span style=\"color: #7f7f7f; text-decoration-color: #7f7f7f\">float32</span>   │ <span style=\"color: #7f7f7f; text-decoration-color: #7f7f7f\">float32</span>     │\n",
       "├──────────┼───────────┼─────────────┤\n",
       "│ <span style=\"color: #008080; text-decoration-color: #008080; font-weight: bold\">8.541666</span> │ <span style=\"color: #008080; text-decoration-color: #008080; font-weight: bold\">12.958334</span> │  <span style=\"color: #008080; text-decoration-color: #008080; font-weight: bold\">401.399994</span> │\n",
       "│ <span style=\"color: #008080; text-decoration-color: #008080; font-weight: bold\">8.708333</span> │ <span style=\"color: #008080; text-decoration-color: #008080; font-weight: bold\">12.958334</span> │ <span style=\"color: #008080; text-decoration-color: #008080; font-weight: bold\">1363.099976</span> │\n",
       "│ <span style=\"color: #008080; text-decoration-color: #008080; font-weight: bold\">8.791666</span> │ <span style=\"color: #008080; text-decoration-color: #008080; font-weight: bold\">12.958334</span> │ <span style=\"color: #008080; text-decoration-color: #008080; font-weight: bold\">1448.500000</span> │\n",
       "│ <span style=\"color: #008080; text-decoration-color: #008080; font-weight: bold\">8.874999</span> │ <span style=\"color: #008080; text-decoration-color: #008080; font-weight: bold\">12.958334</span> │ <span style=\"color: #008080; text-decoration-color: #008080; font-weight: bold\">1429.599976</span> │\n",
       "│ <span style=\"color: #008080; text-decoration-color: #008080; font-weight: bold\">8.958333</span> │ <span style=\"color: #008080; text-decoration-color: #008080; font-weight: bold\">12.958334</span> │ <span style=\"color: #008080; text-decoration-color: #008080; font-weight: bold\">1403.099976</span> │\n",
       "└──────────┴───────────┴─────────────┘\n",
       "</pre>\n"
      ],
      "text/plain": [
       "┏━━━━━━━━━━┳━━━━━━━━━━━┳━━━━━━━━━━━━━┓\n",
       "┃\u001b[1m \u001b[0m\u001b[1mlon\u001b[0m\u001b[1m     \u001b[0m\u001b[1m \u001b[0m┃\u001b[1m \u001b[0m\u001b[1mlat\u001b[0m\u001b[1m      \u001b[0m\u001b[1m \u001b[0m┃\u001b[1m \u001b[0m\u001b[1mband_var\u001b[0m\u001b[1m   \u001b[0m\u001b[1m \u001b[0m┃\n",
       "┡━━━━━━━━━━╇━━━━━━━━━━━╇━━━━━━━━━━━━━┩\n",
       "│ \u001b[2mfloat32\u001b[0m  │ \u001b[2mfloat32\u001b[0m   │ \u001b[2mfloat32\u001b[0m     │\n",
       "├──────────┼───────────┼─────────────┤\n",
       "│ \u001b[1;36m8.541666\u001b[0m │ \u001b[1;36m12.958334\u001b[0m │  \u001b[1;36m401.399994\u001b[0m │\n",
       "│ \u001b[1;36m8.708333\u001b[0m │ \u001b[1;36m12.958334\u001b[0m │ \u001b[1;36m1363.099976\u001b[0m │\n",
       "│ \u001b[1;36m8.791666\u001b[0m │ \u001b[1;36m12.958334\u001b[0m │ \u001b[1;36m1448.500000\u001b[0m │\n",
       "│ \u001b[1;36m8.874999\u001b[0m │ \u001b[1;36m12.958334\u001b[0m │ \u001b[1;36m1429.599976\u001b[0m │\n",
       "│ \u001b[1;36m8.958333\u001b[0m │ \u001b[1;36m12.958334\u001b[0m │ \u001b[1;36m1403.099976\u001b[0m │\n",
       "└──────────┴───────────┴─────────────┘"
      ]
     },
     "execution_count": 147,
     "metadata": {},
     "output_type": "execute_result"
    }
   ],
   "source": [
    "mapspam.head()"
   ]
  },
  {
   "cell_type": "code",
   "execution_count": 148,
   "metadata": {},
   "outputs": [
    {
     "data": {
      "text/html": [
       "<pre style=\"white-space:pre;overflow-x:auto;line-height:normal;font-family:Menlo,'DejaVu Sans Mono',consolas,'Courier New',monospace\">┏━━━━━━━━━━━━━━━━━┳━━━━━━━┳━━━━━━━┳━━━━━━━┳━━━━━━━┳━━━━━━━┳━━━━━━━┳━━━━━━━┳━━━━━━━┳━━━━━━━┳━━━━━━━┳━━━━━━━┳━━━━━━━┳━━━━━━━┳━━━━━━━┳━━━━━━━┳━━━━━━━┳━━━━━━━┳━━━━━━━┓\n",
       "┃<span style=\"font-weight: bold\"> h3_id           </span>┃<span style=\"font-weight: bold\"> E     </span>┃<span style=\"font-weight: bold\"> I     </span>┃<span style=\"font-weight: bold\"> N     </span>┃<span style=\"font-weight: bold\"> J     </span>┃<span style=\"font-weight: bold\"> G     </span>┃<span style=\"font-weight: bold\"> F     </span>┃<span style=\"font-weight: bold\"> R     </span>┃<span style=\"font-weight: bold\"> P     </span>┃<span style=\"font-weight: bold\"> B     </span>┃<span style=\"font-weight: bold\"> M     </span>┃<span style=\"font-weight: bold\"> A     </span>┃<span style=\"font-weight: bold\"> S     </span>┃<span style=\"font-weight: bold\"> L     </span>┃<span style=\"font-weight: bold\"> Q     </span>┃<span style=\"font-weight: bold\"> C     </span>┃<span style=\"font-weight: bold\"> K     </span>┃<span style=\"font-weight: bold\"> H     </span>┃<span style=\"font-weight: bold\"> D     </span>┃\n",
       "┡━━━━━━━━━━━━━━━━━╇━━━━━━━╇━━━━━━━╇━━━━━━━╇━━━━━━━╇━━━━━━━╇━━━━━━━╇━━━━━━━╇━━━━━━━╇━━━━━━━╇━━━━━━━╇━━━━━━━╇━━━━━━━╇━━━━━━━╇━━━━━━━╇━━━━━━━╇━━━━━━━╇━━━━━━━╇━━━━━━━┩\n",
       "│ <span style=\"color: #7f7f7f; text-decoration-color: #7f7f7f\">string</span>          │ <span style=\"color: #7f7f7f; text-decoration-color: #7f7f7f\">int64</span> │ <span style=\"color: #7f7f7f; text-decoration-color: #7f7f7f\">int64</span> │ <span style=\"color: #7f7f7f; text-decoration-color: #7f7f7f\">int64</span> │ <span style=\"color: #7f7f7f; text-decoration-color: #7f7f7f\">int64</span> │ <span style=\"color: #7f7f7f; text-decoration-color: #7f7f7f\">int64</span> │ <span style=\"color: #7f7f7f; text-decoration-color: #7f7f7f\">int64</span> │ <span style=\"color: #7f7f7f; text-decoration-color: #7f7f7f\">int64</span> │ <span style=\"color: #7f7f7f; text-decoration-color: #7f7f7f\">int64</span> │ <span style=\"color: #7f7f7f; text-decoration-color: #7f7f7f\">int64</span> │ <span style=\"color: #7f7f7f; text-decoration-color: #7f7f7f\">int64</span> │ <span style=\"color: #7f7f7f; text-decoration-color: #7f7f7f\">int64</span> │ <span style=\"color: #7f7f7f; text-decoration-color: #7f7f7f\">int64</span> │ <span style=\"color: #7f7f7f; text-decoration-color: #7f7f7f\">int64</span> │ <span style=\"color: #7f7f7f; text-decoration-color: #7f7f7f\">int64</span> │ <span style=\"color: #7f7f7f; text-decoration-color: #7f7f7f\">int64</span> │ <span style=\"color: #7f7f7f; text-decoration-color: #7f7f7f\">int64</span> │ <span style=\"color: #7f7f7f; text-decoration-color: #7f7f7f\">int64</span> │ <span style=\"color: #7f7f7f; text-decoration-color: #7f7f7f\">int64</span> │\n",
       "├─────────────────┼───────┼───────┼───────┼───────┼───────┼───────┼───────┼───────┼───────┼───────┼───────┼───────┼───────┼───────┼───────┼───────┼───────┼───────┤\n",
       "│ <span style=\"color: #008000; text-decoration-color: #008000\">88581b966dfffff</span> │     <span style=\"color: #008080; text-decoration-color: #008080; font-weight: bold\">0</span> │     <span style=\"color: #008080; text-decoration-color: #008080; font-weight: bold\">1</span> │     <span style=\"color: #008080; text-decoration-color: #008080; font-weight: bold\">0</span> │     <span style=\"color: #008080; text-decoration-color: #008080; font-weight: bold\">0</span> │     <span style=\"color: #008080; text-decoration-color: #008080; font-weight: bold\">0</span> │     <span style=\"color: #008080; text-decoration-color: #008080; font-weight: bold\">0</span> │     <span style=\"color: #008080; text-decoration-color: #008080; font-weight: bold\">0</span> │     <span style=\"color: #008080; text-decoration-color: #008080; font-weight: bold\">0</span> │     <span style=\"color: #008080; text-decoration-color: #008080; font-weight: bold\">0</span> │     <span style=\"color: #008080; text-decoration-color: #008080; font-weight: bold\">0</span> │     <span style=\"color: #008080; text-decoration-color: #008080; font-weight: bold\">0</span> │     <span style=\"color: #008080; text-decoration-color: #008080; font-weight: bold\">0</span> │     <span style=\"color: #008080; text-decoration-color: #008080; font-weight: bold\">0</span> │     <span style=\"color: #008080; text-decoration-color: #008080; font-weight: bold\">1</span> │     <span style=\"color: #008080; text-decoration-color: #008080; font-weight: bold\">0</span> │     <span style=\"color: #008080; text-decoration-color: #008080; font-weight: bold\">0</span> │     <span style=\"color: #008080; text-decoration-color: #008080; font-weight: bold\">0</span> │     <span style=\"color: #008080; text-decoration-color: #008080; font-weight: bold\">0</span> │\n",
       "│ <span style=\"color: #008000; text-decoration-color: #008000\">8858182c61fffff</span> │     <span style=\"color: #008080; text-decoration-color: #008080; font-weight: bold\">0</span> │     <span style=\"color: #008080; text-decoration-color: #008080; font-weight: bold\">1</span> │     <span style=\"color: #008080; text-decoration-color: #008080; font-weight: bold\">0</span> │     <span style=\"color: #008080; text-decoration-color: #008080; font-weight: bold\">0</span> │     <span style=\"color: #008080; text-decoration-color: #008080; font-weight: bold\">2</span> │     <span style=\"color: #008080; text-decoration-color: #008080; font-weight: bold\">6</span> │     <span style=\"color: #008080; text-decoration-color: #008080; font-weight: bold\">2</span> │     <span style=\"color: #008080; text-decoration-color: #008080; font-weight: bold\">3</span> │     <span style=\"color: #008080; text-decoration-color: #008080; font-weight: bold\">0</span> │     <span style=\"color: #008080; text-decoration-color: #008080; font-weight: bold\">0</span> │     <span style=\"color: #008080; text-decoration-color: #008080; font-weight: bold\">0</span> │     <span style=\"color: #008080; text-decoration-color: #008080; font-weight: bold\">1</span> │     <span style=\"color: #008080; text-decoration-color: #008080; font-weight: bold\">0</span> │     <span style=\"color: #008080; text-decoration-color: #008080; font-weight: bold\">0</span> │     <span style=\"color: #008080; text-decoration-color: #008080; font-weight: bold\">0</span> │     <span style=\"color: #008080; text-decoration-color: #008080; font-weight: bold\">0</span> │     <span style=\"color: #008080; text-decoration-color: #008080; font-weight: bold\">0</span> │     <span style=\"color: #008080; text-decoration-color: #008080; font-weight: bold\">0</span> │\n",
       "│ <span style=\"color: #008000; text-decoration-color: #008000\">88581838b3fffff</span> │     <span style=\"color: #008080; text-decoration-color: #008080; font-weight: bold\">0</span> │     <span style=\"color: #008080; text-decoration-color: #008080; font-weight: bold\">0</span> │     <span style=\"color: #008080; text-decoration-color: #008080; font-weight: bold\">0</span> │     <span style=\"color: #008080; text-decoration-color: #008080; font-weight: bold\">0</span> │     <span style=\"color: #008080; text-decoration-color: #008080; font-weight: bold\">0</span> │     <span style=\"color: #008080; text-decoration-color: #008080; font-weight: bold\">0</span> │     <span style=\"color: #008080; text-decoration-color: #008080; font-weight: bold\">0</span> │     <span style=\"color: #008080; text-decoration-color: #008080; font-weight: bold\">0</span> │     <span style=\"color: #008080; text-decoration-color: #008080; font-weight: bold\">0</span> │     <span style=\"color: #008080; text-decoration-color: #008080; font-weight: bold\">0</span> │     <span style=\"color: #008080; text-decoration-color: #008080; font-weight: bold\">0</span> │     <span style=\"color: #008080; text-decoration-color: #008080; font-weight: bold\">0</span> │     <span style=\"color: #008080; text-decoration-color: #008080; font-weight: bold\">0</span> │     <span style=\"color: #008080; text-decoration-color: #008080; font-weight: bold\">0</span> │     <span style=\"color: #008080; text-decoration-color: #008080; font-weight: bold\">1</span> │     <span style=\"color: #008080; text-decoration-color: #008080; font-weight: bold\">0</span> │     <span style=\"color: #008080; text-decoration-color: #008080; font-weight: bold\">0</span> │     <span style=\"color: #008080; text-decoration-color: #008080; font-weight: bold\">0</span> │\n",
       "│ <span style=\"color: #008000; text-decoration-color: #008000\">885818213dfffff</span> │     <span style=\"color: #008080; text-decoration-color: #008080; font-weight: bold\">0</span> │     <span style=\"color: #008080; text-decoration-color: #008080; font-weight: bold\">0</span> │     <span style=\"color: #008080; text-decoration-color: #008080; font-weight: bold\">0</span> │     <span style=\"color: #008080; text-decoration-color: #008080; font-weight: bold\">0</span> │     <span style=\"color: #008080; text-decoration-color: #008080; font-weight: bold\">0</span> │     <span style=\"color: #008080; text-decoration-color: #008080; font-weight: bold\">0</span> │     <span style=\"color: #008080; text-decoration-color: #008080; font-weight: bold\">0</span> │     <span style=\"color: #008080; text-decoration-color: #008080; font-weight: bold\">0</span> │     <span style=\"color: #008080; text-decoration-color: #008080; font-weight: bold\">0</span> │     <span style=\"color: #008080; text-decoration-color: #008080; font-weight: bold\">0</span> │     <span style=\"color: #008080; text-decoration-color: #008080; font-weight: bold\">0</span> │     <span style=\"color: #008080; text-decoration-color: #008080; font-weight: bold\">0</span> │     <span style=\"color: #008080; text-decoration-color: #008080; font-weight: bold\">0</span> │     <span style=\"color: #008080; text-decoration-color: #008080; font-weight: bold\">0</span> │     <span style=\"color: #008080; text-decoration-color: #008080; font-weight: bold\">1</span> │     <span style=\"color: #008080; text-decoration-color: #008080; font-weight: bold\">0</span> │     <span style=\"color: #008080; text-decoration-color: #008080; font-weight: bold\">0</span> │     <span style=\"color: #008080; text-decoration-color: #008080; font-weight: bold\">0</span> │\n",
       "│ <span style=\"color: #008000; text-decoration-color: #008000\">88581b9645fffff</span> │     <span style=\"color: #008080; text-decoration-color: #008080; font-weight: bold\">0</span> │     <span style=\"color: #008080; text-decoration-color: #008080; font-weight: bold\">0</span> │     <span style=\"color: #008080; text-decoration-color: #008080; font-weight: bold\">0</span> │     <span style=\"color: #008080; text-decoration-color: #008080; font-weight: bold\">0</span> │     <span style=\"color: #008080; text-decoration-color: #008080; font-weight: bold\">0</span> │     <span style=\"color: #008080; text-decoration-color: #008080; font-weight: bold\">0</span> │     <span style=\"color: #008080; text-decoration-color: #008080; font-weight: bold\">0</span> │     <span style=\"color: #008080; text-decoration-color: #008080; font-weight: bold\">0</span> │     <span style=\"color: #008080; text-decoration-color: #008080; font-weight: bold\">0</span> │     <span style=\"color: #008080; text-decoration-color: #008080; font-weight: bold\">0</span> │     <span style=\"color: #008080; text-decoration-color: #008080; font-weight: bold\">1</span> │     <span style=\"color: #008080; text-decoration-color: #008080; font-weight: bold\">0</span> │     <span style=\"color: #008080; text-decoration-color: #008080; font-weight: bold\">0</span> │     <span style=\"color: #008080; text-decoration-color: #008080; font-weight: bold\">0</span> │     <span style=\"color: #008080; text-decoration-color: #008080; font-weight: bold\">0</span> │     <span style=\"color: #008080; text-decoration-color: #008080; font-weight: bold\">0</span> │     <span style=\"color: #008080; text-decoration-color: #008080; font-weight: bold\">0</span> │     <span style=\"color: #008080; text-decoration-color: #008080; font-weight: bold\">0</span> │\n",
       "└─────────────────┴───────┴───────┴───────┴───────┴───────┴───────┴───────┴───────┴───────┴───────┴───────┴───────┴───────┴───────┴───────┴───────┴───────┴───────┘\n",
       "</pre>\n"
      ],
      "text/plain": [
       "┏━━━━━━━━━━━━━━━━━┳━━━━━━━┳━━━━━━━┳━━━━━━━┳━━━━━━━┳━━━━━━━┳━━━━━━━┳━━━━━━━┳━━━━━━━┳━━━━━━━┳━━━━━━━┳━━━━━━━┳━━━━━━━┳━━━━━━━┳━━━━━━━┳━━━━━━━┳━━━━━━━┳━━━━━━━┳━━━━━━━┓\n",
       "┃\u001b[1m \u001b[0m\u001b[1mh3_id\u001b[0m\u001b[1m          \u001b[0m\u001b[1m \u001b[0m┃\u001b[1m \u001b[0m\u001b[1mE\u001b[0m\u001b[1m    \u001b[0m\u001b[1m \u001b[0m┃\u001b[1m \u001b[0m\u001b[1mI\u001b[0m\u001b[1m    \u001b[0m\u001b[1m \u001b[0m┃\u001b[1m \u001b[0m\u001b[1mN\u001b[0m\u001b[1m    \u001b[0m\u001b[1m \u001b[0m┃\u001b[1m \u001b[0m\u001b[1mJ\u001b[0m\u001b[1m    \u001b[0m\u001b[1m \u001b[0m┃\u001b[1m \u001b[0m\u001b[1mG\u001b[0m\u001b[1m    \u001b[0m\u001b[1m \u001b[0m┃\u001b[1m \u001b[0m\u001b[1mF\u001b[0m\u001b[1m    \u001b[0m\u001b[1m \u001b[0m┃\u001b[1m \u001b[0m\u001b[1mR\u001b[0m\u001b[1m    \u001b[0m\u001b[1m \u001b[0m┃\u001b[1m \u001b[0m\u001b[1mP\u001b[0m\u001b[1m    \u001b[0m\u001b[1m \u001b[0m┃\u001b[1m \u001b[0m\u001b[1mB\u001b[0m\u001b[1m    \u001b[0m\u001b[1m \u001b[0m┃\u001b[1m \u001b[0m\u001b[1mM\u001b[0m\u001b[1m    \u001b[0m\u001b[1m \u001b[0m┃\u001b[1m \u001b[0m\u001b[1mA\u001b[0m\u001b[1m    \u001b[0m\u001b[1m \u001b[0m┃\u001b[1m \u001b[0m\u001b[1mS\u001b[0m\u001b[1m    \u001b[0m\u001b[1m \u001b[0m┃\u001b[1m \u001b[0m\u001b[1mL\u001b[0m\u001b[1m    \u001b[0m\u001b[1m \u001b[0m┃\u001b[1m \u001b[0m\u001b[1mQ\u001b[0m\u001b[1m    \u001b[0m\u001b[1m \u001b[0m┃\u001b[1m \u001b[0m\u001b[1mC\u001b[0m\u001b[1m    \u001b[0m\u001b[1m \u001b[0m┃\u001b[1m \u001b[0m\u001b[1mK\u001b[0m\u001b[1m    \u001b[0m\u001b[1m \u001b[0m┃\u001b[1m \u001b[0m\u001b[1mH\u001b[0m\u001b[1m    \u001b[0m\u001b[1m \u001b[0m┃\u001b[1m \u001b[0m\u001b[1mD\u001b[0m\u001b[1m    \u001b[0m\u001b[1m \u001b[0m┃\n",
       "┡━━━━━━━━━━━━━━━━━╇━━━━━━━╇━━━━━━━╇━━━━━━━╇━━━━━━━╇━━━━━━━╇━━━━━━━╇━━━━━━━╇━━━━━━━╇━━━━━━━╇━━━━━━━╇━━━━━━━╇━━━━━━━╇━━━━━━━╇━━━━━━━╇━━━━━━━╇━━━━━━━╇━━━━━━━╇━━━━━━━┩\n",
       "│ \u001b[2mstring\u001b[0m          │ \u001b[2mint64\u001b[0m │ \u001b[2mint64\u001b[0m │ \u001b[2mint64\u001b[0m │ \u001b[2mint64\u001b[0m │ \u001b[2mint64\u001b[0m │ \u001b[2mint64\u001b[0m │ \u001b[2mint64\u001b[0m │ \u001b[2mint64\u001b[0m │ \u001b[2mint64\u001b[0m │ \u001b[2mint64\u001b[0m │ \u001b[2mint64\u001b[0m │ \u001b[2mint64\u001b[0m │ \u001b[2mint64\u001b[0m │ \u001b[2mint64\u001b[0m │ \u001b[2mint64\u001b[0m │ \u001b[2mint64\u001b[0m │ \u001b[2mint64\u001b[0m │ \u001b[2mint64\u001b[0m │\n",
       "├─────────────────┼───────┼───────┼───────┼───────┼───────┼───────┼───────┼───────┼───────┼───────┼───────┼───────┼───────┼───────┼───────┼───────┼───────┼───────┤\n",
       "│ \u001b[32m88581b966dfffff\u001b[0m │     \u001b[1;36m0\u001b[0m │     \u001b[1;36m1\u001b[0m │     \u001b[1;36m0\u001b[0m │     \u001b[1;36m0\u001b[0m │     \u001b[1;36m0\u001b[0m │     \u001b[1;36m0\u001b[0m │     \u001b[1;36m0\u001b[0m │     \u001b[1;36m0\u001b[0m │     \u001b[1;36m0\u001b[0m │     \u001b[1;36m0\u001b[0m │     \u001b[1;36m0\u001b[0m │     \u001b[1;36m0\u001b[0m │     \u001b[1;36m0\u001b[0m │     \u001b[1;36m1\u001b[0m │     \u001b[1;36m0\u001b[0m │     \u001b[1;36m0\u001b[0m │     \u001b[1;36m0\u001b[0m │     \u001b[1;36m0\u001b[0m │\n",
       "│ \u001b[32m8858182c61fffff\u001b[0m │     \u001b[1;36m0\u001b[0m │     \u001b[1;36m1\u001b[0m │     \u001b[1;36m0\u001b[0m │     \u001b[1;36m0\u001b[0m │     \u001b[1;36m2\u001b[0m │     \u001b[1;36m6\u001b[0m │     \u001b[1;36m2\u001b[0m │     \u001b[1;36m3\u001b[0m │     \u001b[1;36m0\u001b[0m │     \u001b[1;36m0\u001b[0m │     \u001b[1;36m0\u001b[0m │     \u001b[1;36m1\u001b[0m │     \u001b[1;36m0\u001b[0m │     \u001b[1;36m0\u001b[0m │     \u001b[1;36m0\u001b[0m │     \u001b[1;36m0\u001b[0m │     \u001b[1;36m0\u001b[0m │     \u001b[1;36m0\u001b[0m │\n",
       "│ \u001b[32m88581838b3fffff\u001b[0m │     \u001b[1;36m0\u001b[0m │     \u001b[1;36m0\u001b[0m │     \u001b[1;36m0\u001b[0m │     \u001b[1;36m0\u001b[0m │     \u001b[1;36m0\u001b[0m │     \u001b[1;36m0\u001b[0m │     \u001b[1;36m0\u001b[0m │     \u001b[1;36m0\u001b[0m │     \u001b[1;36m0\u001b[0m │     \u001b[1;36m0\u001b[0m │     \u001b[1;36m0\u001b[0m │     \u001b[1;36m0\u001b[0m │     \u001b[1;36m0\u001b[0m │     \u001b[1;36m0\u001b[0m │     \u001b[1;36m1\u001b[0m │     \u001b[1;36m0\u001b[0m │     \u001b[1;36m0\u001b[0m │     \u001b[1;36m0\u001b[0m │\n",
       "│ \u001b[32m885818213dfffff\u001b[0m │     \u001b[1;36m0\u001b[0m │     \u001b[1;36m0\u001b[0m │     \u001b[1;36m0\u001b[0m │     \u001b[1;36m0\u001b[0m │     \u001b[1;36m0\u001b[0m │     \u001b[1;36m0\u001b[0m │     \u001b[1;36m0\u001b[0m │     \u001b[1;36m0\u001b[0m │     \u001b[1;36m0\u001b[0m │     \u001b[1;36m0\u001b[0m │     \u001b[1;36m0\u001b[0m │     \u001b[1;36m0\u001b[0m │     \u001b[1;36m0\u001b[0m │     \u001b[1;36m0\u001b[0m │     \u001b[1;36m1\u001b[0m │     \u001b[1;36m0\u001b[0m │     \u001b[1;36m0\u001b[0m │     \u001b[1;36m0\u001b[0m │\n",
       "│ \u001b[32m88581b9645fffff\u001b[0m │     \u001b[1;36m0\u001b[0m │     \u001b[1;36m0\u001b[0m │     \u001b[1;36m0\u001b[0m │     \u001b[1;36m0\u001b[0m │     \u001b[1;36m0\u001b[0m │     \u001b[1;36m0\u001b[0m │     \u001b[1;36m0\u001b[0m │     \u001b[1;36m0\u001b[0m │     \u001b[1;36m0\u001b[0m │     \u001b[1;36m0\u001b[0m │     \u001b[1;36m1\u001b[0m │     \u001b[1;36m0\u001b[0m │     \u001b[1;36m0\u001b[0m │     \u001b[1;36m0\u001b[0m │     \u001b[1;36m0\u001b[0m │     \u001b[1;36m0\u001b[0m │     \u001b[1;36m0\u001b[0m │     \u001b[1;36m0\u001b[0m │\n",
       "└─────────────────┴───────┴───────┴───────┴───────┴───────┴───────┴───────┴───────┴───────┴───────┴───────┴───────┴───────┴───────┴───────┴───────┴───────┴───────┘"
      ]
     },
     "execution_count": 148,
     "metadata": {},
     "output_type": "execute_result"
    }
   ],
   "source": [
    "places_h3_section.head()"
   ]
  },
  {
   "cell_type": "code",
   "execution_count": 149,
   "metadata": {},
   "outputs": [],
   "source": [
    "renames =  { x + \"_var\" : x for x in places_h3_section.columns if x != \"h3_id\"}"
   ]
  },
  {
   "cell_type": "code",
   "execution_count": 150,
   "metadata": {},
   "outputs": [],
   "source": [
    "places_h3 = places_h3_section.rename(renames)"
   ]
  },
  {
   "cell_type": "code",
   "execution_count": 151,
   "metadata": {},
   "outputs": [
    {
     "data": {
      "text/html": [
       "<pre style=\"white-space:pre;overflow-x:auto;line-height:normal;font-family:Menlo,'DejaVu Sans Mono',consolas,'Courier New',monospace\">┏━━━━━━━━━━━━━━━━━┳━━━━━━━┳━━━━━━━┳━━━━━━━┳━━━━━━━┳━━━━━━━┳━━━━━━━┳━━━━━━━┳━━━━━━━┳━━━━━━━┳━━━━━━━┳━━━━━━━┳━━━━━━━┳━━━━━━━┳━━━━━━━┳━━━━━━━┳━━━━━━━┳━━━━━━━┳━━━━━━━┓\n",
       "┃<span style=\"font-weight: bold\"> h3_id           </span>┃<span style=\"font-weight: bold\"> E_var </span>┃<span style=\"font-weight: bold\"> I_var </span>┃<span style=\"font-weight: bold\"> N_var </span>┃<span style=\"font-weight: bold\"> J_var </span>┃<span style=\"font-weight: bold\"> G_var </span>┃<span style=\"font-weight: bold\"> F_var </span>┃<span style=\"font-weight: bold\"> R_var </span>┃<span style=\"font-weight: bold\"> P_var </span>┃<span style=\"font-weight: bold\"> B_var </span>┃<span style=\"font-weight: bold\"> M_var </span>┃<span style=\"font-weight: bold\"> A_var </span>┃<span style=\"font-weight: bold\"> S_var </span>┃<span style=\"font-weight: bold\"> L_var </span>┃<span style=\"font-weight: bold\"> Q_var </span>┃<span style=\"font-weight: bold\"> C_var </span>┃<span style=\"font-weight: bold\"> K_var </span>┃<span style=\"font-weight: bold\"> H_var </span>┃<span style=\"font-weight: bold\"> D_var </span>┃\n",
       "┡━━━━━━━━━━━━━━━━━╇━━━━━━━╇━━━━━━━╇━━━━━━━╇━━━━━━━╇━━━━━━━╇━━━━━━━╇━━━━━━━╇━━━━━━━╇━━━━━━━╇━━━━━━━╇━━━━━━━╇━━━━━━━╇━━━━━━━╇━━━━━━━╇━━━━━━━╇━━━━━━━╇━━━━━━━╇━━━━━━━┩\n",
       "│ <span style=\"color: #7f7f7f; text-decoration-color: #7f7f7f\">string</span>          │ <span style=\"color: #7f7f7f; text-decoration-color: #7f7f7f\">int64</span> │ <span style=\"color: #7f7f7f; text-decoration-color: #7f7f7f\">int64</span> │ <span style=\"color: #7f7f7f; text-decoration-color: #7f7f7f\">int64</span> │ <span style=\"color: #7f7f7f; text-decoration-color: #7f7f7f\">int64</span> │ <span style=\"color: #7f7f7f; text-decoration-color: #7f7f7f\">int64</span> │ <span style=\"color: #7f7f7f; text-decoration-color: #7f7f7f\">int64</span> │ <span style=\"color: #7f7f7f; text-decoration-color: #7f7f7f\">int64</span> │ <span style=\"color: #7f7f7f; text-decoration-color: #7f7f7f\">int64</span> │ <span style=\"color: #7f7f7f; text-decoration-color: #7f7f7f\">int64</span> │ <span style=\"color: #7f7f7f; text-decoration-color: #7f7f7f\">int64</span> │ <span style=\"color: #7f7f7f; text-decoration-color: #7f7f7f\">int64</span> │ <span style=\"color: #7f7f7f; text-decoration-color: #7f7f7f\">int64</span> │ <span style=\"color: #7f7f7f; text-decoration-color: #7f7f7f\">int64</span> │ <span style=\"color: #7f7f7f; text-decoration-color: #7f7f7f\">int64</span> │ <span style=\"color: #7f7f7f; text-decoration-color: #7f7f7f\">int64</span> │ <span style=\"color: #7f7f7f; text-decoration-color: #7f7f7f\">int64</span> │ <span style=\"color: #7f7f7f; text-decoration-color: #7f7f7f\">int64</span> │ <span style=\"color: #7f7f7f; text-decoration-color: #7f7f7f\">int64</span> │\n",
       "├─────────────────┼───────┼───────┼───────┼───────┼───────┼───────┼───────┼───────┼───────┼───────┼───────┼───────┼───────┼───────┼───────┼───────┼───────┼───────┤\n",
       "│ <span style=\"color: #008000; text-decoration-color: #008000\">88580e4b69fffff</span> │     <span style=\"color: #008080; text-decoration-color: #008080; font-weight: bold\">0</span> │     <span style=\"color: #008080; text-decoration-color: #008080; font-weight: bold\">0</span> │     <span style=\"color: #008080; text-decoration-color: #008080; font-weight: bold\">0</span> │     <span style=\"color: #008080; text-decoration-color: #008080; font-weight: bold\">0</span> │     <span style=\"color: #008080; text-decoration-color: #008080; font-weight: bold\">0</span> │     <span style=\"color: #008080; text-decoration-color: #008080; font-weight: bold\">0</span> │     <span style=\"color: #008080; text-decoration-color: #008080; font-weight: bold\">0</span> │     <span style=\"color: #008080; text-decoration-color: #008080; font-weight: bold\">1</span> │     <span style=\"color: #008080; text-decoration-color: #008080; font-weight: bold\">1</span> │     <span style=\"color: #008080; text-decoration-color: #008080; font-weight: bold\">0</span> │     <span style=\"color: #008080; text-decoration-color: #008080; font-weight: bold\">0</span> │     <span style=\"color: #008080; text-decoration-color: #008080; font-weight: bold\">0</span> │     <span style=\"color: #008080; text-decoration-color: #008080; font-weight: bold\">0</span> │     <span style=\"color: #008080; text-decoration-color: #008080; font-weight: bold\">0</span> │     <span style=\"color: #008080; text-decoration-color: #008080; font-weight: bold\">0</span> │     <span style=\"color: #008080; text-decoration-color: #008080; font-weight: bold\">0</span> │     <span style=\"color: #008080; text-decoration-color: #008080; font-weight: bold\">0</span> │     <span style=\"color: #008080; text-decoration-color: #008080; font-weight: bold\">0</span> │\n",
       "│ <span style=\"color: #008000; text-decoration-color: #008000\">88580e5967fffff</span> │     <span style=\"color: #008080; text-decoration-color: #008080; font-weight: bold\">0</span> │     <span style=\"color: #008080; text-decoration-color: #008080; font-weight: bold\">0</span> │     <span style=\"color: #008080; text-decoration-color: #008080; font-weight: bold\">0</span> │     <span style=\"color: #008080; text-decoration-color: #008080; font-weight: bold\">0</span> │     <span style=\"color: #008080; text-decoration-color: #008080; font-weight: bold\">0</span> │     <span style=\"color: #008080; text-decoration-color: #008080; font-weight: bold\">0</span> │     <span style=\"color: #008080; text-decoration-color: #008080; font-weight: bold\">5</span> │     <span style=\"color: #008080; text-decoration-color: #008080; font-weight: bold\">1</span> │     <span style=\"color: #008080; text-decoration-color: #008080; font-weight: bold\">0</span> │     <span style=\"color: #008080; text-decoration-color: #008080; font-weight: bold\">0</span> │     <span style=\"color: #008080; text-decoration-color: #008080; font-weight: bold\">0</span> │     <span style=\"color: #008080; text-decoration-color: #008080; font-weight: bold\">0</span> │     <span style=\"color: #008080; text-decoration-color: #008080; font-weight: bold\">0</span> │     <span style=\"color: #008080; text-decoration-color: #008080; font-weight: bold\">0</span> │     <span style=\"color: #008080; text-decoration-color: #008080; font-weight: bold\">0</span> │     <span style=\"color: #008080; text-decoration-color: #008080; font-weight: bold\">0</span> │     <span style=\"color: #008080; text-decoration-color: #008080; font-weight: bold\">0</span> │     <span style=\"color: #008080; text-decoration-color: #008080; font-weight: bold\">0</span> │\n",
       "│ <span style=\"color: #008000; text-decoration-color: #008000\">88580e4963fffff</span> │     <span style=\"color: #008080; text-decoration-color: #008080; font-weight: bold\">0</span> │     <span style=\"color: #008080; text-decoration-color: #008080; font-weight: bold\">0</span> │     <span style=\"color: #008080; text-decoration-color: #008080; font-weight: bold\">0</span> │     <span style=\"color: #008080; text-decoration-color: #008080; font-weight: bold\">0</span> │     <span style=\"color: #008080; text-decoration-color: #008080; font-weight: bold\">0</span> │     <span style=\"color: #008080; text-decoration-color: #008080; font-weight: bold\">0</span> │     <span style=\"color: #008080; text-decoration-color: #008080; font-weight: bold\">0</span> │     <span style=\"color: #008080; text-decoration-color: #008080; font-weight: bold\">0</span> │     <span style=\"color: #008080; text-decoration-color: #008080; font-weight: bold\">0</span> │     <span style=\"color: #008080; text-decoration-color: #008080; font-weight: bold\">0</span> │     <span style=\"color: #008080; text-decoration-color: #008080; font-weight: bold\">4</span> │     <span style=\"color: #008080; text-decoration-color: #008080; font-weight: bold\">0</span> │     <span style=\"color: #008080; text-decoration-color: #008080; font-weight: bold\">0</span> │     <span style=\"color: #008080; text-decoration-color: #008080; font-weight: bold\">0</span> │     <span style=\"color: #008080; text-decoration-color: #008080; font-weight: bold\">0</span> │     <span style=\"color: #008080; text-decoration-color: #008080; font-weight: bold\">0</span> │     <span style=\"color: #008080; text-decoration-color: #008080; font-weight: bold\">0</span> │     <span style=\"color: #008080; text-decoration-color: #008080; font-weight: bold\">0</span> │\n",
       "│ <span style=\"color: #008000; text-decoration-color: #008000\">88580e496bfffff</span> │     <span style=\"color: #008080; text-decoration-color: #008080; font-weight: bold\">0</span> │     <span style=\"color: #008080; text-decoration-color: #008080; font-weight: bold\">0</span> │     <span style=\"color: #008080; text-decoration-color: #008080; font-weight: bold\">0</span> │     <span style=\"color: #008080; text-decoration-color: #008080; font-weight: bold\">0</span> │     <span style=\"color: #008080; text-decoration-color: #008080; font-weight: bold\">0</span> │     <span style=\"color: #008080; text-decoration-color: #008080; font-weight: bold\">0</span> │     <span style=\"color: #008080; text-decoration-color: #008080; font-weight: bold\">0</span> │     <span style=\"color: #008080; text-decoration-color: #008080; font-weight: bold\">0</span> │     <span style=\"color: #008080; text-decoration-color: #008080; font-weight: bold\">0</span> │     <span style=\"color: #008080; text-decoration-color: #008080; font-weight: bold\">0</span> │     <span style=\"color: #008080; text-decoration-color: #008080; font-weight: bold\">4</span> │     <span style=\"color: #008080; text-decoration-color: #008080; font-weight: bold\">0</span> │     <span style=\"color: #008080; text-decoration-color: #008080; font-weight: bold\">0</span> │     <span style=\"color: #008080; text-decoration-color: #008080; font-weight: bold\">0</span> │     <span style=\"color: #008080; text-decoration-color: #008080; font-weight: bold\">0</span> │     <span style=\"color: #008080; text-decoration-color: #008080; font-weight: bold\">0</span> │     <span style=\"color: #008080; text-decoration-color: #008080; font-weight: bold\">0</span> │     <span style=\"color: #008080; text-decoration-color: #008080; font-weight: bold\">0</span> │\n",
       "│ <span style=\"color: #008000; text-decoration-color: #008000\">885819af29fffff</span> │     <span style=\"color: #008080; text-decoration-color: #008080; font-weight: bold\">0</span> │     <span style=\"color: #008080; text-decoration-color: #008080; font-weight: bold\">0</span> │     <span style=\"color: #008080; text-decoration-color: #008080; font-weight: bold\">0</span> │     <span style=\"color: #008080; text-decoration-color: #008080; font-weight: bold\">0</span> │     <span style=\"color: #008080; text-decoration-color: #008080; font-weight: bold\">0</span> │     <span style=\"color: #008080; text-decoration-color: #008080; font-weight: bold\">0</span> │     <span style=\"color: #008080; text-decoration-color: #008080; font-weight: bold\">0</span> │     <span style=\"color: #008080; text-decoration-color: #008080; font-weight: bold\">0</span> │     <span style=\"color: #008080; text-decoration-color: #008080; font-weight: bold\">0</span> │     <span style=\"color: #008080; text-decoration-color: #008080; font-weight: bold\">0</span> │     <span style=\"color: #008080; text-decoration-color: #008080; font-weight: bold\">0</span> │     <span style=\"color: #008080; text-decoration-color: #008080; font-weight: bold\">0</span> │     <span style=\"color: #008080; text-decoration-color: #008080; font-weight: bold\">0</span> │     <span style=\"color: #008080; text-decoration-color: #008080; font-weight: bold\">1</span> │     <span style=\"color: #008080; text-decoration-color: #008080; font-weight: bold\">0</span> │     <span style=\"color: #008080; text-decoration-color: #008080; font-weight: bold\">0</span> │     <span style=\"color: #008080; text-decoration-color: #008080; font-weight: bold\">0</span> │     <span style=\"color: #008080; text-decoration-color: #008080; font-weight: bold\">0</span> │\n",
       "└─────────────────┴───────┴───────┴───────┴───────┴───────┴───────┴───────┴───────┴───────┴───────┴───────┴───────┴───────┴───────┴───────┴───────┴───────┴───────┘\n",
       "</pre>\n"
      ],
      "text/plain": [
       "┏━━━━━━━━━━━━━━━━━┳━━━━━━━┳━━━━━━━┳━━━━━━━┳━━━━━━━┳━━━━━━━┳━━━━━━━┳━━━━━━━┳━━━━━━━┳━━━━━━━┳━━━━━━━┳━━━━━━━┳━━━━━━━┳━━━━━━━┳━━━━━━━┳━━━━━━━┳━━━━━━━┳━━━━━━━┳━━━━━━━┓\n",
       "┃\u001b[1m \u001b[0m\u001b[1mh3_id\u001b[0m\u001b[1m          \u001b[0m\u001b[1m \u001b[0m┃\u001b[1m \u001b[0m\u001b[1mE_var\u001b[0m\u001b[1m \u001b[0m┃\u001b[1m \u001b[0m\u001b[1mI_var\u001b[0m\u001b[1m \u001b[0m┃\u001b[1m \u001b[0m\u001b[1mN_var\u001b[0m\u001b[1m \u001b[0m┃\u001b[1m \u001b[0m\u001b[1mJ_var\u001b[0m\u001b[1m \u001b[0m┃\u001b[1m \u001b[0m\u001b[1mG_var\u001b[0m\u001b[1m \u001b[0m┃\u001b[1m \u001b[0m\u001b[1mF_var\u001b[0m\u001b[1m \u001b[0m┃\u001b[1m \u001b[0m\u001b[1mR_var\u001b[0m\u001b[1m \u001b[0m┃\u001b[1m \u001b[0m\u001b[1mP_var\u001b[0m\u001b[1m \u001b[0m┃\u001b[1m \u001b[0m\u001b[1mB_var\u001b[0m\u001b[1m \u001b[0m┃\u001b[1m \u001b[0m\u001b[1mM_var\u001b[0m\u001b[1m \u001b[0m┃\u001b[1m \u001b[0m\u001b[1mA_var\u001b[0m\u001b[1m \u001b[0m┃\u001b[1m \u001b[0m\u001b[1mS_var\u001b[0m\u001b[1m \u001b[0m┃\u001b[1m \u001b[0m\u001b[1mL_var\u001b[0m\u001b[1m \u001b[0m┃\u001b[1m \u001b[0m\u001b[1mQ_var\u001b[0m\u001b[1m \u001b[0m┃\u001b[1m \u001b[0m\u001b[1mC_var\u001b[0m\u001b[1m \u001b[0m┃\u001b[1m \u001b[0m\u001b[1mK_var\u001b[0m\u001b[1m \u001b[0m┃\u001b[1m \u001b[0m\u001b[1mH_var\u001b[0m\u001b[1m \u001b[0m┃\u001b[1m \u001b[0m\u001b[1mD_var\u001b[0m\u001b[1m \u001b[0m┃\n",
       "┡━━━━━━━━━━━━━━━━━╇━━━━━━━╇━━━━━━━╇━━━━━━━╇━━━━━━━╇━━━━━━━╇━━━━━━━╇━━━━━━━╇━━━━━━━╇━━━━━━━╇━━━━━━━╇━━━━━━━╇━━━━━━━╇━━━━━━━╇━━━━━━━╇━━━━━━━╇━━━━━━━╇━━━━━━━╇━━━━━━━┩\n",
       "│ \u001b[2mstring\u001b[0m          │ \u001b[2mint64\u001b[0m │ \u001b[2mint64\u001b[0m │ \u001b[2mint64\u001b[0m │ \u001b[2mint64\u001b[0m │ \u001b[2mint64\u001b[0m │ \u001b[2mint64\u001b[0m │ \u001b[2mint64\u001b[0m │ \u001b[2mint64\u001b[0m │ \u001b[2mint64\u001b[0m │ \u001b[2mint64\u001b[0m │ \u001b[2mint64\u001b[0m │ \u001b[2mint64\u001b[0m │ \u001b[2mint64\u001b[0m │ \u001b[2mint64\u001b[0m │ \u001b[2mint64\u001b[0m │ \u001b[2mint64\u001b[0m │ \u001b[2mint64\u001b[0m │ \u001b[2mint64\u001b[0m │\n",
       "├─────────────────┼───────┼───────┼───────┼───────┼───────┼───────┼───────┼───────┼───────┼───────┼───────┼───────┼───────┼───────┼───────┼───────┼───────┼───────┤\n",
       "│ \u001b[32m88580e4b69fffff\u001b[0m │     \u001b[1;36m0\u001b[0m │     \u001b[1;36m0\u001b[0m │     \u001b[1;36m0\u001b[0m │     \u001b[1;36m0\u001b[0m │     \u001b[1;36m0\u001b[0m │     \u001b[1;36m0\u001b[0m │     \u001b[1;36m0\u001b[0m │     \u001b[1;36m1\u001b[0m │     \u001b[1;36m1\u001b[0m │     \u001b[1;36m0\u001b[0m │     \u001b[1;36m0\u001b[0m │     \u001b[1;36m0\u001b[0m │     \u001b[1;36m0\u001b[0m │     \u001b[1;36m0\u001b[0m │     \u001b[1;36m0\u001b[0m │     \u001b[1;36m0\u001b[0m │     \u001b[1;36m0\u001b[0m │     \u001b[1;36m0\u001b[0m │\n",
       "│ \u001b[32m88580e5967fffff\u001b[0m │     \u001b[1;36m0\u001b[0m │     \u001b[1;36m0\u001b[0m │     \u001b[1;36m0\u001b[0m │     \u001b[1;36m0\u001b[0m │     \u001b[1;36m0\u001b[0m │     \u001b[1;36m0\u001b[0m │     \u001b[1;36m5\u001b[0m │     \u001b[1;36m1\u001b[0m │     \u001b[1;36m0\u001b[0m │     \u001b[1;36m0\u001b[0m │     \u001b[1;36m0\u001b[0m │     \u001b[1;36m0\u001b[0m │     \u001b[1;36m0\u001b[0m │     \u001b[1;36m0\u001b[0m │     \u001b[1;36m0\u001b[0m │     \u001b[1;36m0\u001b[0m │     \u001b[1;36m0\u001b[0m │     \u001b[1;36m0\u001b[0m │\n",
       "│ \u001b[32m88580e4963fffff\u001b[0m │     \u001b[1;36m0\u001b[0m │     \u001b[1;36m0\u001b[0m │     \u001b[1;36m0\u001b[0m │     \u001b[1;36m0\u001b[0m │     \u001b[1;36m0\u001b[0m │     \u001b[1;36m0\u001b[0m │     \u001b[1;36m0\u001b[0m │     \u001b[1;36m0\u001b[0m │     \u001b[1;36m0\u001b[0m │     \u001b[1;36m0\u001b[0m │     \u001b[1;36m4\u001b[0m │     \u001b[1;36m0\u001b[0m │     \u001b[1;36m0\u001b[0m │     \u001b[1;36m0\u001b[0m │     \u001b[1;36m0\u001b[0m │     \u001b[1;36m0\u001b[0m │     \u001b[1;36m0\u001b[0m │     \u001b[1;36m0\u001b[0m │\n",
       "│ \u001b[32m88580e496bfffff\u001b[0m │     \u001b[1;36m0\u001b[0m │     \u001b[1;36m0\u001b[0m │     \u001b[1;36m0\u001b[0m │     \u001b[1;36m0\u001b[0m │     \u001b[1;36m0\u001b[0m │     \u001b[1;36m0\u001b[0m │     \u001b[1;36m0\u001b[0m │     \u001b[1;36m0\u001b[0m │     \u001b[1;36m0\u001b[0m │     \u001b[1;36m0\u001b[0m │     \u001b[1;36m4\u001b[0m │     \u001b[1;36m0\u001b[0m │     \u001b[1;36m0\u001b[0m │     \u001b[1;36m0\u001b[0m │     \u001b[1;36m0\u001b[0m │     \u001b[1;36m0\u001b[0m │     \u001b[1;36m0\u001b[0m │     \u001b[1;36m0\u001b[0m │\n",
       "│ \u001b[32m885819af29fffff\u001b[0m │     \u001b[1;36m0\u001b[0m │     \u001b[1;36m0\u001b[0m │     \u001b[1;36m0\u001b[0m │     \u001b[1;36m0\u001b[0m │     \u001b[1;36m0\u001b[0m │     \u001b[1;36m0\u001b[0m │     \u001b[1;36m0\u001b[0m │     \u001b[1;36m0\u001b[0m │     \u001b[1;36m0\u001b[0m │     \u001b[1;36m0\u001b[0m │     \u001b[1;36m0\u001b[0m │     \u001b[1;36m0\u001b[0m │     \u001b[1;36m0\u001b[0m │     \u001b[1;36m1\u001b[0m │     \u001b[1;36m0\u001b[0m │     \u001b[1;36m0\u001b[0m │     \u001b[1;36m0\u001b[0m │     \u001b[1;36m0\u001b[0m │\n",
       "└─────────────────┴───────┴───────┴───────┴───────┴───────┴───────┴───────┴───────┴───────┴───────┴───────┴───────┴───────┴───────┴───────┴───────┴───────┴───────┘"
      ]
     },
     "execution_count": 151,
     "metadata": {},
     "output_type": "execute_result"
    }
   ],
   "source": [
    "places_h3.head()"
   ]
  },
  {
   "cell_type": "markdown",
   "metadata": {},
   "source": [
    "## Putting the layers together"
   ]
  },
  {
   "cell_type": "code",
   "execution_count": 152,
   "metadata": {},
   "outputs": [],
   "source": [
    "predictor_layers = {\n",
    "    # \"copernic\" : copernic_built,\n",
    "    \"nres\" : nres,\n",
    "    \"mapspam\" : mapspam,\n",
    "                    }"
   ]
  },
  {
   "cell_type": "code",
   "execution_count": 153,
   "metadata": {},
   "outputs": [
    {
     "name": "stdout",
     "output_type": "stream",
     "text": [
      "Assuming coordinates columns ('lon','lat')\n",
      "Assuming coordinates columns ('lon','lat')\n"
     ]
    }
   ],
   "source": [
    "predictor_layers_h3 = { n : snoo.sn_project(x,res=8,keep=False) for n,x in predictor_layers.items() }\n",
    "predictor_layers_h3[\"places\"] = places_h3"
   ]
  },
  {
   "cell_type": "code",
   "execution_count": 154,
   "metadata": {},
   "outputs": [
    {
     "data": {
      "text/plain": [
       "['nres', 'mapspam', 'places']"
      ]
     },
     "execution_count": 154,
     "metadata": {},
     "output_type": "execute_result"
    }
   ],
   "source": [
    "list(predictor_layers_h3.keys())"
   ]
  },
  {
   "cell_type": "code",
   "execution_count": 155,
   "metadata": {},
   "outputs": [],
   "source": [
    "top_layers = [dose,]"
   ]
  },
  {
   "cell_type": "code",
   "execution_count": 156,
   "metadata": {},
   "outputs": [],
   "source": [
    "constr_layers = [kummu,]"
   ]
  },
  {
   "cell_type": "code",
   "execution_count": 157,
   "metadata": {},
   "outputs": [],
   "source": [
    "# in scalenav\n",
    "def sn_combine(conn, input : [ib.Table], name : str, overwrite : bool = False):\n",
    "    \"\"\"Provide a dict with named tables, the keys will be reused to create variable names in the binded data. \n",
    "    Similar effect to rbind in R.\n",
    "    \"\"\"\n",
    "    id_col = ib.union(*[tab.select(\"h3_id\") for tab in list(input.values())],distinct=True)\n",
    "    \n",
    "    for (nam,tab) in input.items():\n",
    "        if \"band_var\" in tab.columns:\n",
    "            tab = tab.rename({nam : \"band_var\"})\n",
    "            id_col = id_col.join(tab,how=\"left\",predicates=\"h3_id\",rname=\"{name}_var\").rename({nam+\"_var\" : nam}).drop(s.matches(\"h3_id_var\"))\n",
    "        else :\n",
    "            id_col = id_col.join(tab,how=\"left\",predicates=\"h3_id\",rname=\"{name}_var\").drop(s.matches(\"h3_id_var\"))\n",
    "    \n",
    "    id_col_vars = id_col.select(s.matches(\"_var$\")).columns\n",
    "\n",
    "    return conn.create_table(obj=id_col.fill_null({col : 0 for col in id_col_vars}),name=name,overwrite=overwrite)#"
   ]
  },
  {
   "cell_type": "code",
   "execution_count": 158,
   "metadata": {},
   "outputs": [],
   "source": [
    "pred_layers = sn_combine(conn,input=predictor_layers_h3,name=\"predictors\",overwrite=True).distinct()"
   ]
  },
  {
   "cell_type": "code",
   "execution_count": 54,
   "metadata": {},
   "outputs": [
    {
     "data": {
      "text/html": [
       "<pre style=\"white-space:pre;overflow-x:auto;line-height:normal;font-family:Menlo,'DejaVu Sans Mono',consolas,'Courier New',monospace\"></pre>\n"
      ],
      "text/plain": []
     },
     "metadata": {},
     "output_type": "display_data"
    },
    {
     "name": "stdout",
     "output_type": "stream",
     "text": [
      "┌───────┐\n",
      "│ \u001b[1;36m21641\u001b[0m │\n",
      "└───────┘\n"
     ]
    },
    {
     "data": {
      "text/html": [
       "<pre style=\"white-space:pre;overflow-x:auto;line-height:normal;font-family:Menlo,'DejaVu Sans Mono',consolas,'Courier New',monospace\">┏━━━━━━━━━━━━━━━━━┳━━━━━━━━━━┳━━━━━━━━━━━━━┳━━━━━━━┳━━━━━━━┳━━━━━━━┳━━━━━━━┳━━━━━━━┳━━━━━━━┳━━━━━━━┳━━━━━━━┳━━━━━━━┳━━━━━━━┳━━━━━━━┳━━━━━━━┳━━━━━━━┳━━━━━━━┳━━━━━━━┳━━━━━━━┳━━━━━━━┳━━━━━━━┓\n",
       "┃<span style=\"font-weight: bold\"> h3_id           </span>┃<span style=\"font-weight: bold\"> nres_var </span>┃<span style=\"font-weight: bold\"> mapspam_var </span>┃<span style=\"font-weight: bold\"> E_var </span>┃<span style=\"font-weight: bold\"> I_var </span>┃<span style=\"font-weight: bold\"> M_var </span>┃<span style=\"font-weight: bold\"> N_var </span>┃<span style=\"font-weight: bold\"> J_var </span>┃<span style=\"font-weight: bold\"> F_var </span>┃<span style=\"font-weight: bold\"> G_var </span>┃<span style=\"font-weight: bold\"> A_var </span>┃<span style=\"font-weight: bold\"> S_var </span>┃<span style=\"font-weight: bold\"> L_var </span>┃<span style=\"font-weight: bold\"> Q_var </span>┃<span style=\"font-weight: bold\"> C_var </span>┃<span style=\"font-weight: bold\"> K_var </span>┃<span style=\"font-weight: bold\"> H_var </span>┃<span style=\"font-weight: bold\"> D_var </span>┃<span style=\"font-weight: bold\"> P_var </span>┃<span style=\"font-weight: bold\"> R_var </span>┃<span style=\"font-weight: bold\"> B_var </span>┃\n",
       "┡━━━━━━━━━━━━━━━━━╇━━━━━━━━━━╇━━━━━━━━━━━━━╇━━━━━━━╇━━━━━━━╇━━━━━━━╇━━━━━━━╇━━━━━━━╇━━━━━━━╇━━━━━━━╇━━━━━━━╇━━━━━━━╇━━━━━━━╇━━━━━━━╇━━━━━━━╇━━━━━━━╇━━━━━━━╇━━━━━━━╇━━━━━━━╇━━━━━━━╇━━━━━━━┩\n",
       "│ <span style=\"color: #7f7f7f; text-decoration-color: #7f7f7f\">string</span>          │ <span style=\"color: #7f7f7f; text-decoration-color: #7f7f7f\">float32</span>  │ <span style=\"color: #7f7f7f; text-decoration-color: #7f7f7f\">float32</span>     │ <span style=\"color: #7f7f7f; text-decoration-color: #7f7f7f\">int64</span> │ <span style=\"color: #7f7f7f; text-decoration-color: #7f7f7f\">int64</span> │ <span style=\"color: #7f7f7f; text-decoration-color: #7f7f7f\">int64</span> │ <span style=\"color: #7f7f7f; text-decoration-color: #7f7f7f\">int64</span> │ <span style=\"color: #7f7f7f; text-decoration-color: #7f7f7f\">int64</span> │ <span style=\"color: #7f7f7f; text-decoration-color: #7f7f7f\">int64</span> │ <span style=\"color: #7f7f7f; text-decoration-color: #7f7f7f\">int64</span> │ <span style=\"color: #7f7f7f; text-decoration-color: #7f7f7f\">int64</span> │ <span style=\"color: #7f7f7f; text-decoration-color: #7f7f7f\">int64</span> │ <span style=\"color: #7f7f7f; text-decoration-color: #7f7f7f\">int64</span> │ <span style=\"color: #7f7f7f; text-decoration-color: #7f7f7f\">int64</span> │ <span style=\"color: #7f7f7f; text-decoration-color: #7f7f7f\">int64</span> │ <span style=\"color: #7f7f7f; text-decoration-color: #7f7f7f\">int64</span> │ <span style=\"color: #7f7f7f; text-decoration-color: #7f7f7f\">int64</span> │ <span style=\"color: #7f7f7f; text-decoration-color: #7f7f7f\">int64</span> │ <span style=\"color: #7f7f7f; text-decoration-color: #7f7f7f\">int64</span> │ <span style=\"color: #7f7f7f; text-decoration-color: #7f7f7f\">int64</span> │ <span style=\"color: #7f7f7f; text-decoration-color: #7f7f7f\">int64</span> │\n",
       "├─────────────────┼──────────┼─────────────┼───────┼───────┼───────┼───────┼───────┼───────┼───────┼───────┼───────┼───────┼───────┼───────┼───────┼───────┼───────┼───────┼───────┼───────┤\n",
       "│ <span style=\"color: #008000; text-decoration-color: #008000\">88580b9717fffff</span> │      <span style=\"color: #008080; text-decoration-color: #008080; font-weight: bold\">1.0</span> │         <span style=\"color: #008080; text-decoration-color: #008080; font-weight: bold\">0.0</span> │     <span style=\"color: #008080; text-decoration-color: #008080; font-weight: bold\">0</span> │     <span style=\"color: #008080; text-decoration-color: #008080; font-weight: bold\">1</span> │     <span style=\"color: #008080; text-decoration-color: #008080; font-weight: bold\">1</span> │     <span style=\"color: #008080; text-decoration-color: #008080; font-weight: bold\">0</span> │     <span style=\"color: #008080; text-decoration-color: #008080; font-weight: bold\">0</span> │     <span style=\"color: #008080; text-decoration-color: #008080; font-weight: bold\">0</span> │     <span style=\"color: #008080; text-decoration-color: #008080; font-weight: bold\">0</span> │     <span style=\"color: #008080; text-decoration-color: #008080; font-weight: bold\">0</span> │     <span style=\"color: #008080; text-decoration-color: #008080; font-weight: bold\">0</span> │     <span style=\"color: #008080; text-decoration-color: #008080; font-weight: bold\">0</span> │     <span style=\"color: #008080; text-decoration-color: #008080; font-weight: bold\">2</span> │     <span style=\"color: #008080; text-decoration-color: #008080; font-weight: bold\">0</span> │     <span style=\"color: #008080; text-decoration-color: #008080; font-weight: bold\">0</span> │     <span style=\"color: #008080; text-decoration-color: #008080; font-weight: bold\">0</span> │     <span style=\"color: #008080; text-decoration-color: #008080; font-weight: bold\">0</span> │     <span style=\"color: #008080; text-decoration-color: #008080; font-weight: bold\">0</span> │     <span style=\"color: #008080; text-decoration-color: #008080; font-weight: bold\">0</span> │     <span style=\"color: #008080; text-decoration-color: #008080; font-weight: bold\">0</span> │\n",
       "│ <span style=\"color: #008000; text-decoration-color: #008000\">88580ac35dfffff</span> │      <span style=\"color: #008080; text-decoration-color: #008080; font-weight: bold\">1.0</span> │         <span style=\"color: #008080; text-decoration-color: #008080; font-weight: bold\">0.0</span> │     <span style=\"color: #008080; text-decoration-color: #008080; font-weight: bold\">0</span> │     <span style=\"color: #008080; text-decoration-color: #008080; font-weight: bold\">0</span> │     <span style=\"color: #008080; text-decoration-color: #008080; font-weight: bold\">0</span> │     <span style=\"color: #008080; text-decoration-color: #008080; font-weight: bold\">0</span> │     <span style=\"color: #008080; text-decoration-color: #008080; font-weight: bold\">0</span> │     <span style=\"color: #008080; text-decoration-color: #008080; font-weight: bold\">0</span> │     <span style=\"color: #008080; text-decoration-color: #008080; font-weight: bold\">1</span> │     <span style=\"color: #008080; text-decoration-color: #008080; font-weight: bold\">0</span> │     <span style=\"color: #008080; text-decoration-color: #008080; font-weight: bold\">0</span> │     <span style=\"color: #008080; text-decoration-color: #008080; font-weight: bold\">0</span> │     <span style=\"color: #008080; text-decoration-color: #008080; font-weight: bold\">0</span> │     <span style=\"color: #008080; text-decoration-color: #008080; font-weight: bold\">0</span> │     <span style=\"color: #008080; text-decoration-color: #008080; font-weight: bold\">0</span> │     <span style=\"color: #008080; text-decoration-color: #008080; font-weight: bold\">0</span> │     <span style=\"color: #008080; text-decoration-color: #008080; font-weight: bold\">0</span> │     <span style=\"color: #008080; text-decoration-color: #008080; font-weight: bold\">1</span> │     <span style=\"color: #008080; text-decoration-color: #008080; font-weight: bold\">0</span> │     <span style=\"color: #008080; text-decoration-color: #008080; font-weight: bold\">0</span> │\n",
       "│ <span style=\"color: #008000; text-decoration-color: #008000\">88580b96a1fffff</span> │      <span style=\"color: #008080; text-decoration-color: #008080; font-weight: bold\">1.0</span> │         <span style=\"color: #008080; text-decoration-color: #008080; font-weight: bold\">0.0</span> │     <span style=\"color: #008080; text-decoration-color: #008080; font-weight: bold\">0</span> │     <span style=\"color: #008080; text-decoration-color: #008080; font-weight: bold\">0</span> │     <span style=\"color: #008080; text-decoration-color: #008080; font-weight: bold\">0</span> │     <span style=\"color: #008080; text-decoration-color: #008080; font-weight: bold\">0</span> │     <span style=\"color: #008080; text-decoration-color: #008080; font-weight: bold\">0</span> │     <span style=\"color: #008080; text-decoration-color: #008080; font-weight: bold\">0</span> │     <span style=\"color: #008080; text-decoration-color: #008080; font-weight: bold\">0</span> │     <span style=\"color: #008080; text-decoration-color: #008080; font-weight: bold\">0</span> │     <span style=\"color: #008080; text-decoration-color: #008080; font-weight: bold\">0</span> │     <span style=\"color: #008080; text-decoration-color: #008080; font-weight: bold\">0</span> │     <span style=\"color: #008080; text-decoration-color: #008080; font-weight: bold\">0</span> │     <span style=\"color: #008080; text-decoration-color: #008080; font-weight: bold\">0</span> │     <span style=\"color: #008080; text-decoration-color: #008080; font-weight: bold\">0</span> │     <span style=\"color: #008080; text-decoration-color: #008080; font-weight: bold\">0</span> │     <span style=\"color: #008080; text-decoration-color: #008080; font-weight: bold\">0</span> │     <span style=\"color: #008080; text-decoration-color: #008080; font-weight: bold\">0</span> │     <span style=\"color: #008080; text-decoration-color: #008080; font-weight: bold\">0</span> │     <span style=\"color: #008080; text-decoration-color: #008080; font-weight: bold\">0</span> │\n",
       "│ <span style=\"color: #008000; text-decoration-color: #008000\">88580b973bfffff</span> │      <span style=\"color: #008080; text-decoration-color: #008080; font-weight: bold\">1.0</span> │         <span style=\"color: #008080; text-decoration-color: #008080; font-weight: bold\">0.0</span> │     <span style=\"color: #008080; text-decoration-color: #008080; font-weight: bold\">0</span> │     <span style=\"color: #008080; text-decoration-color: #008080; font-weight: bold\">0</span> │     <span style=\"color: #008080; text-decoration-color: #008080; font-weight: bold\">0</span> │     <span style=\"color: #008080; text-decoration-color: #008080; font-weight: bold\">0</span> │     <span style=\"color: #008080; text-decoration-color: #008080; font-weight: bold\">0</span> │     <span style=\"color: #008080; text-decoration-color: #008080; font-weight: bold\">0</span> │     <span style=\"color: #008080; text-decoration-color: #008080; font-weight: bold\">0</span> │     <span style=\"color: #008080; text-decoration-color: #008080; font-weight: bold\">0</span> │     <span style=\"color: #008080; text-decoration-color: #008080; font-weight: bold\">0</span> │     <span style=\"color: #008080; text-decoration-color: #008080; font-weight: bold\">0</span> │     <span style=\"color: #008080; text-decoration-color: #008080; font-weight: bold\">0</span> │     <span style=\"color: #008080; text-decoration-color: #008080; font-weight: bold\">0</span> │     <span style=\"color: #008080; text-decoration-color: #008080; font-weight: bold\">0</span> │     <span style=\"color: #008080; text-decoration-color: #008080; font-weight: bold\">0</span> │     <span style=\"color: #008080; text-decoration-color: #008080; font-weight: bold\">0</span> │     <span style=\"color: #008080; text-decoration-color: #008080; font-weight: bold\">0</span> │     <span style=\"color: #008080; text-decoration-color: #008080; font-weight: bold\">0</span> │     <span style=\"color: #008080; text-decoration-color: #008080; font-weight: bold\">0</span> │\n",
       "│ <span style=\"color: #008000; text-decoration-color: #008000\">88580bd2bdfffff</span> │      <span style=\"color: #008080; text-decoration-color: #008080; font-weight: bold\">1.0</span> │         <span style=\"color: #008080; text-decoration-color: #008080; font-weight: bold\">0.0</span> │     <span style=\"color: #008080; text-decoration-color: #008080; font-weight: bold\">0</span> │     <span style=\"color: #008080; text-decoration-color: #008080; font-weight: bold\">0</span> │     <span style=\"color: #008080; text-decoration-color: #008080; font-weight: bold\">0</span> │     <span style=\"color: #008080; text-decoration-color: #008080; font-weight: bold\">0</span> │     <span style=\"color: #008080; text-decoration-color: #008080; font-weight: bold\">0</span> │     <span style=\"color: #008080; text-decoration-color: #008080; font-weight: bold\">0</span> │     <span style=\"color: #008080; text-decoration-color: #008080; font-weight: bold\">0</span> │     <span style=\"color: #008080; text-decoration-color: #008080; font-weight: bold\">0</span> │     <span style=\"color: #008080; text-decoration-color: #008080; font-weight: bold\">0</span> │     <span style=\"color: #008080; text-decoration-color: #008080; font-weight: bold\">0</span> │     <span style=\"color: #008080; text-decoration-color: #008080; font-weight: bold\">0</span> │     <span style=\"color: #008080; text-decoration-color: #008080; font-weight: bold\">0</span> │     <span style=\"color: #008080; text-decoration-color: #008080; font-weight: bold\">0</span> │     <span style=\"color: #008080; text-decoration-color: #008080; font-weight: bold\">0</span> │     <span style=\"color: #008080; text-decoration-color: #008080; font-weight: bold\">0</span> │     <span style=\"color: #008080; text-decoration-color: #008080; font-weight: bold\">0</span> │     <span style=\"color: #008080; text-decoration-color: #008080; font-weight: bold\">0</span> │     <span style=\"color: #008080; text-decoration-color: #008080; font-weight: bold\">0</span> │\n",
       "│ <span style=\"color: #008000; text-decoration-color: #008000\">88580a8941fffff</span> │      <span style=\"color: #008080; text-decoration-color: #008080; font-weight: bold\">1.0</span> │         <span style=\"color: #008080; text-decoration-color: #008080; font-weight: bold\">0.0</span> │     <span style=\"color: #008080; text-decoration-color: #008080; font-weight: bold\">0</span> │     <span style=\"color: #008080; text-decoration-color: #008080; font-weight: bold\">0</span> │     <span style=\"color: #008080; text-decoration-color: #008080; font-weight: bold\">0</span> │     <span style=\"color: #008080; text-decoration-color: #008080; font-weight: bold\">0</span> │     <span style=\"color: #008080; text-decoration-color: #008080; font-weight: bold\">0</span> │     <span style=\"color: #008080; text-decoration-color: #008080; font-weight: bold\">0</span> │     <span style=\"color: #008080; text-decoration-color: #008080; font-weight: bold\">0</span> │     <span style=\"color: #008080; text-decoration-color: #008080; font-weight: bold\">0</span> │     <span style=\"color: #008080; text-decoration-color: #008080; font-weight: bold\">0</span> │     <span style=\"color: #008080; text-decoration-color: #008080; font-weight: bold\">0</span> │     <span style=\"color: #008080; text-decoration-color: #008080; font-weight: bold\">0</span> │     <span style=\"color: #008080; text-decoration-color: #008080; font-weight: bold\">0</span> │     <span style=\"color: #008080; text-decoration-color: #008080; font-weight: bold\">0</span> │     <span style=\"color: #008080; text-decoration-color: #008080; font-weight: bold\">0</span> │     <span style=\"color: #008080; text-decoration-color: #008080; font-weight: bold\">0</span> │     <span style=\"color: #008080; text-decoration-color: #008080; font-weight: bold\">0</span> │     <span style=\"color: #008080; text-decoration-color: #008080; font-weight: bold\">0</span> │     <span style=\"color: #008080; text-decoration-color: #008080; font-weight: bold\">0</span> │\n",
       "│ <span style=\"color: #008000; text-decoration-color: #008000\">88580ac61bfffff</span> │      <span style=\"color: #008080; text-decoration-color: #008080; font-weight: bold\">1.0</span> │         <span style=\"color: #008080; text-decoration-color: #008080; font-weight: bold\">0.0</span> │     <span style=\"color: #008080; text-decoration-color: #008080; font-weight: bold\">0</span> │     <span style=\"color: #008080; text-decoration-color: #008080; font-weight: bold\">0</span> │     <span style=\"color: #008080; text-decoration-color: #008080; font-weight: bold\">0</span> │     <span style=\"color: #008080; text-decoration-color: #008080; font-weight: bold\">0</span> │     <span style=\"color: #008080; text-decoration-color: #008080; font-weight: bold\">0</span> │     <span style=\"color: #008080; text-decoration-color: #008080; font-weight: bold\">0</span> │     <span style=\"color: #008080; text-decoration-color: #008080; font-weight: bold\">0</span> │     <span style=\"color: #008080; text-decoration-color: #008080; font-weight: bold\">0</span> │     <span style=\"color: #008080; text-decoration-color: #008080; font-weight: bold\">0</span> │     <span style=\"color: #008080; text-decoration-color: #008080; font-weight: bold\">0</span> │     <span style=\"color: #008080; text-decoration-color: #008080; font-weight: bold\">0</span> │     <span style=\"color: #008080; text-decoration-color: #008080; font-weight: bold\">0</span> │     <span style=\"color: #008080; text-decoration-color: #008080; font-weight: bold\">0</span> │     <span style=\"color: #008080; text-decoration-color: #008080; font-weight: bold\">0</span> │     <span style=\"color: #008080; text-decoration-color: #008080; font-weight: bold\">0</span> │     <span style=\"color: #008080; text-decoration-color: #008080; font-weight: bold\">0</span> │     <span style=\"color: #008080; text-decoration-color: #008080; font-weight: bold\">0</span> │     <span style=\"color: #008080; text-decoration-color: #008080; font-weight: bold\">0</span> │\n",
       "│ <span style=\"color: #008000; text-decoration-color: #008000\">88580ada9bfffff</span> │      <span style=\"color: #008080; text-decoration-color: #008080; font-weight: bold\">1.0</span> │         <span style=\"color: #008080; text-decoration-color: #008080; font-weight: bold\">0.0</span> │     <span style=\"color: #008080; text-decoration-color: #008080; font-weight: bold\">0</span> │     <span style=\"color: #008080; text-decoration-color: #008080; font-weight: bold\">0</span> │     <span style=\"color: #008080; text-decoration-color: #008080; font-weight: bold\">0</span> │     <span style=\"color: #008080; text-decoration-color: #008080; font-weight: bold\">0</span> │     <span style=\"color: #008080; text-decoration-color: #008080; font-weight: bold\">0</span> │     <span style=\"color: #008080; text-decoration-color: #008080; font-weight: bold\">0</span> │     <span style=\"color: #008080; text-decoration-color: #008080; font-weight: bold\">0</span> │     <span style=\"color: #008080; text-decoration-color: #008080; font-weight: bold\">0</span> │     <span style=\"color: #008080; text-decoration-color: #008080; font-weight: bold\">0</span> │     <span style=\"color: #008080; text-decoration-color: #008080; font-weight: bold\">0</span> │     <span style=\"color: #008080; text-decoration-color: #008080; font-weight: bold\">0</span> │     <span style=\"color: #008080; text-decoration-color: #008080; font-weight: bold\">0</span> │     <span style=\"color: #008080; text-decoration-color: #008080; font-weight: bold\">0</span> │     <span style=\"color: #008080; text-decoration-color: #008080; font-weight: bold\">0</span> │     <span style=\"color: #008080; text-decoration-color: #008080; font-weight: bold\">0</span> │     <span style=\"color: #008080; text-decoration-color: #008080; font-weight: bold\">0</span> │     <span style=\"color: #008080; text-decoration-color: #008080; font-weight: bold\">0</span> │     <span style=\"color: #008080; text-decoration-color: #008080; font-weight: bold\">0</span> │\n",
       "│ <span style=\"color: #008000; text-decoration-color: #008000\">88580a1327fffff</span> │      <span style=\"color: #008080; text-decoration-color: #008080; font-weight: bold\">1.0</span> │         <span style=\"color: #008080; text-decoration-color: #008080; font-weight: bold\">0.0</span> │     <span style=\"color: #008080; text-decoration-color: #008080; font-weight: bold\">0</span> │     <span style=\"color: #008080; text-decoration-color: #008080; font-weight: bold\">0</span> │     <span style=\"color: #008080; text-decoration-color: #008080; font-weight: bold\">0</span> │     <span style=\"color: #008080; text-decoration-color: #008080; font-weight: bold\">0</span> │     <span style=\"color: #008080; text-decoration-color: #008080; font-weight: bold\">0</span> │     <span style=\"color: #008080; text-decoration-color: #008080; font-weight: bold\">0</span> │     <span style=\"color: #008080; text-decoration-color: #008080; font-weight: bold\">0</span> │     <span style=\"color: #008080; text-decoration-color: #008080; font-weight: bold\">0</span> │     <span style=\"color: #008080; text-decoration-color: #008080; font-weight: bold\">0</span> │     <span style=\"color: #008080; text-decoration-color: #008080; font-weight: bold\">0</span> │     <span style=\"color: #008080; text-decoration-color: #008080; font-weight: bold\">0</span> │     <span style=\"color: #008080; text-decoration-color: #008080; font-weight: bold\">0</span> │     <span style=\"color: #008080; text-decoration-color: #008080; font-weight: bold\">0</span> │     <span style=\"color: #008080; text-decoration-color: #008080; font-weight: bold\">0</span> │     <span style=\"color: #008080; text-decoration-color: #008080; font-weight: bold\">0</span> │     <span style=\"color: #008080; text-decoration-color: #008080; font-weight: bold\">0</span> │     <span style=\"color: #008080; text-decoration-color: #008080; font-weight: bold\">0</span> │     <span style=\"color: #008080; text-decoration-color: #008080; font-weight: bold\">0</span> │\n",
       "│ <span style=\"color: #008000; text-decoration-color: #008000\">88580ad9c1fffff</span> │      <span style=\"color: #008080; text-decoration-color: #008080; font-weight: bold\">1.0</span> │         <span style=\"color: #008080; text-decoration-color: #008080; font-weight: bold\">0.0</span> │     <span style=\"color: #008080; text-decoration-color: #008080; font-weight: bold\">0</span> │     <span style=\"color: #008080; text-decoration-color: #008080; font-weight: bold\">0</span> │     <span style=\"color: #008080; text-decoration-color: #008080; font-weight: bold\">0</span> │     <span style=\"color: #008080; text-decoration-color: #008080; font-weight: bold\">0</span> │     <span style=\"color: #008080; text-decoration-color: #008080; font-weight: bold\">0</span> │     <span style=\"color: #008080; text-decoration-color: #008080; font-weight: bold\">0</span> │     <span style=\"color: #008080; text-decoration-color: #008080; font-weight: bold\">0</span> │     <span style=\"color: #008080; text-decoration-color: #008080; font-weight: bold\">0</span> │     <span style=\"color: #008080; text-decoration-color: #008080; font-weight: bold\">0</span> │     <span style=\"color: #008080; text-decoration-color: #008080; font-weight: bold\">0</span> │     <span style=\"color: #008080; text-decoration-color: #008080; font-weight: bold\">0</span> │     <span style=\"color: #008080; text-decoration-color: #008080; font-weight: bold\">0</span> │     <span style=\"color: #008080; text-decoration-color: #008080; font-weight: bold\">0</span> │     <span style=\"color: #008080; text-decoration-color: #008080; font-weight: bold\">0</span> │     <span style=\"color: #008080; text-decoration-color: #008080; font-weight: bold\">0</span> │     <span style=\"color: #008080; text-decoration-color: #008080; font-weight: bold\">0</span> │     <span style=\"color: #008080; text-decoration-color: #008080; font-weight: bold\">0</span> │     <span style=\"color: #008080; text-decoration-color: #008080; font-weight: bold\">0</span> │\n",
       "│ <span style=\"color: #7f7f7f; text-decoration-color: #7f7f7f\">…</span>               │        <span style=\"color: #7f7f7f; text-decoration-color: #7f7f7f\">…</span> │           <span style=\"color: #7f7f7f; text-decoration-color: #7f7f7f\">…</span> │     <span style=\"color: #7f7f7f; text-decoration-color: #7f7f7f\">…</span> │     <span style=\"color: #7f7f7f; text-decoration-color: #7f7f7f\">…</span> │     <span style=\"color: #7f7f7f; text-decoration-color: #7f7f7f\">…</span> │     <span style=\"color: #7f7f7f; text-decoration-color: #7f7f7f\">…</span> │     <span style=\"color: #7f7f7f; text-decoration-color: #7f7f7f\">…</span> │     <span style=\"color: #7f7f7f; text-decoration-color: #7f7f7f\">…</span> │     <span style=\"color: #7f7f7f; text-decoration-color: #7f7f7f\">…</span> │     <span style=\"color: #7f7f7f; text-decoration-color: #7f7f7f\">…</span> │     <span style=\"color: #7f7f7f; text-decoration-color: #7f7f7f\">…</span> │     <span style=\"color: #7f7f7f; text-decoration-color: #7f7f7f\">…</span> │     <span style=\"color: #7f7f7f; text-decoration-color: #7f7f7f\">…</span> │     <span style=\"color: #7f7f7f; text-decoration-color: #7f7f7f\">…</span> │     <span style=\"color: #7f7f7f; text-decoration-color: #7f7f7f\">…</span> │     <span style=\"color: #7f7f7f; text-decoration-color: #7f7f7f\">…</span> │     <span style=\"color: #7f7f7f; text-decoration-color: #7f7f7f\">…</span> │     <span style=\"color: #7f7f7f; text-decoration-color: #7f7f7f\">…</span> │     <span style=\"color: #7f7f7f; text-decoration-color: #7f7f7f\">…</span> │     <span style=\"color: #7f7f7f; text-decoration-color: #7f7f7f\">…</span> │\n",
       "└─────────────────┴──────────┴─────────────┴───────┴───────┴───────┴───────┴───────┴───────┴───────┴───────┴───────┴───────┴───────┴───────┴───────┴───────┴───────┴───────┴───────┴───────┘\n",
       "</pre>\n"
      ],
      "text/plain": [
       "┏━━━━━━━━━━━━━━━━━┳━━━━━━━━━━┳━━━━━━━━━━━━━┳━━━━━━━┳━━━━━━━┳━━━━━━━┳━━━━━━━┳━━━━━━━┳━━━━━━━┳━━━━━━━┳━━━━━━━┳━━━━━━━┳━━━━━━━┳━━━━━━━┳━━━━━━━┳━━━━━━━┳━━━━━━━┳━━━━━━━┳━━━━━━━┳━━━━━━━┳━━━━━━━┓\n",
       "┃\u001b[1m \u001b[0m\u001b[1mh3_id\u001b[0m\u001b[1m          \u001b[0m\u001b[1m \u001b[0m┃\u001b[1m \u001b[0m\u001b[1mnres_var\u001b[0m\u001b[1m \u001b[0m┃\u001b[1m \u001b[0m\u001b[1mmapspam_var\u001b[0m\u001b[1m \u001b[0m┃\u001b[1m \u001b[0m\u001b[1mE_var\u001b[0m\u001b[1m \u001b[0m┃\u001b[1m \u001b[0m\u001b[1mI_var\u001b[0m\u001b[1m \u001b[0m┃\u001b[1m \u001b[0m\u001b[1mM_var\u001b[0m\u001b[1m \u001b[0m┃\u001b[1m \u001b[0m\u001b[1mN_var\u001b[0m\u001b[1m \u001b[0m┃\u001b[1m \u001b[0m\u001b[1mJ_var\u001b[0m\u001b[1m \u001b[0m┃\u001b[1m \u001b[0m\u001b[1mF_var\u001b[0m\u001b[1m \u001b[0m┃\u001b[1m \u001b[0m\u001b[1mG_var\u001b[0m\u001b[1m \u001b[0m┃\u001b[1m \u001b[0m\u001b[1mA_var\u001b[0m\u001b[1m \u001b[0m┃\u001b[1m \u001b[0m\u001b[1mS_var\u001b[0m\u001b[1m \u001b[0m┃\u001b[1m \u001b[0m\u001b[1mL_var\u001b[0m\u001b[1m \u001b[0m┃\u001b[1m \u001b[0m\u001b[1mQ_var\u001b[0m\u001b[1m \u001b[0m┃\u001b[1m \u001b[0m\u001b[1mC_var\u001b[0m\u001b[1m \u001b[0m┃\u001b[1m \u001b[0m\u001b[1mK_var\u001b[0m\u001b[1m \u001b[0m┃\u001b[1m \u001b[0m\u001b[1mH_var\u001b[0m\u001b[1m \u001b[0m┃\u001b[1m \u001b[0m\u001b[1mD_var\u001b[0m\u001b[1m \u001b[0m┃\u001b[1m \u001b[0m\u001b[1mP_var\u001b[0m\u001b[1m \u001b[0m┃\u001b[1m \u001b[0m\u001b[1mR_var\u001b[0m\u001b[1m \u001b[0m┃\u001b[1m \u001b[0m\u001b[1mB_var\u001b[0m\u001b[1m \u001b[0m┃\n",
       "┡━━━━━━━━━━━━━━━━━╇━━━━━━━━━━╇━━━━━━━━━━━━━╇━━━━━━━╇━━━━━━━╇━━━━━━━╇━━━━━━━╇━━━━━━━╇━━━━━━━╇━━━━━━━╇━━━━━━━╇━━━━━━━╇━━━━━━━╇━━━━━━━╇━━━━━━━╇━━━━━━━╇━━━━━━━╇━━━━━━━╇━━━━━━━╇━━━━━━━╇━━━━━━━┩\n",
       "│ \u001b[2mstring\u001b[0m          │ \u001b[2mfloat32\u001b[0m  │ \u001b[2mfloat32\u001b[0m     │ \u001b[2mint64\u001b[0m │ \u001b[2mint64\u001b[0m │ \u001b[2mint64\u001b[0m │ \u001b[2mint64\u001b[0m │ \u001b[2mint64\u001b[0m │ \u001b[2mint64\u001b[0m │ \u001b[2mint64\u001b[0m │ \u001b[2mint64\u001b[0m │ \u001b[2mint64\u001b[0m │ \u001b[2mint64\u001b[0m │ \u001b[2mint64\u001b[0m │ \u001b[2mint64\u001b[0m │ \u001b[2mint64\u001b[0m │ \u001b[2mint64\u001b[0m │ \u001b[2mint64\u001b[0m │ \u001b[2mint64\u001b[0m │ \u001b[2mint64\u001b[0m │ \u001b[2mint64\u001b[0m │\n",
       "├─────────────────┼──────────┼─────────────┼───────┼───────┼───────┼───────┼───────┼───────┼───────┼───────┼───────┼───────┼───────┼───────┼───────┼───────┼───────┼───────┼───────┼───────┤\n",
       "│ \u001b[32m88580b9717fffff\u001b[0m │      \u001b[1;36m1.0\u001b[0m │         \u001b[1;36m0.0\u001b[0m │     \u001b[1;36m0\u001b[0m │     \u001b[1;36m1\u001b[0m │     \u001b[1;36m1\u001b[0m │     \u001b[1;36m0\u001b[0m │     \u001b[1;36m0\u001b[0m │     \u001b[1;36m0\u001b[0m │     \u001b[1;36m0\u001b[0m │     \u001b[1;36m0\u001b[0m │     \u001b[1;36m0\u001b[0m │     \u001b[1;36m0\u001b[0m │     \u001b[1;36m2\u001b[0m │     \u001b[1;36m0\u001b[0m │     \u001b[1;36m0\u001b[0m │     \u001b[1;36m0\u001b[0m │     \u001b[1;36m0\u001b[0m │     \u001b[1;36m0\u001b[0m │     \u001b[1;36m0\u001b[0m │     \u001b[1;36m0\u001b[0m │\n",
       "│ \u001b[32m88580ac35dfffff\u001b[0m │      \u001b[1;36m1.0\u001b[0m │         \u001b[1;36m0.0\u001b[0m │     \u001b[1;36m0\u001b[0m │     \u001b[1;36m0\u001b[0m │     \u001b[1;36m0\u001b[0m │     \u001b[1;36m0\u001b[0m │     \u001b[1;36m0\u001b[0m │     \u001b[1;36m0\u001b[0m │     \u001b[1;36m1\u001b[0m │     \u001b[1;36m0\u001b[0m │     \u001b[1;36m0\u001b[0m │     \u001b[1;36m0\u001b[0m │     \u001b[1;36m0\u001b[0m │     \u001b[1;36m0\u001b[0m │     \u001b[1;36m0\u001b[0m │     \u001b[1;36m0\u001b[0m │     \u001b[1;36m0\u001b[0m │     \u001b[1;36m1\u001b[0m │     \u001b[1;36m0\u001b[0m │     \u001b[1;36m0\u001b[0m │\n",
       "│ \u001b[32m88580b96a1fffff\u001b[0m │      \u001b[1;36m1.0\u001b[0m │         \u001b[1;36m0.0\u001b[0m │     \u001b[1;36m0\u001b[0m │     \u001b[1;36m0\u001b[0m │     \u001b[1;36m0\u001b[0m │     \u001b[1;36m0\u001b[0m │     \u001b[1;36m0\u001b[0m │     \u001b[1;36m0\u001b[0m │     \u001b[1;36m0\u001b[0m │     \u001b[1;36m0\u001b[0m │     \u001b[1;36m0\u001b[0m │     \u001b[1;36m0\u001b[0m │     \u001b[1;36m0\u001b[0m │     \u001b[1;36m0\u001b[0m │     \u001b[1;36m0\u001b[0m │     \u001b[1;36m0\u001b[0m │     \u001b[1;36m0\u001b[0m │     \u001b[1;36m0\u001b[0m │     \u001b[1;36m0\u001b[0m │     \u001b[1;36m0\u001b[0m │\n",
       "│ \u001b[32m88580b973bfffff\u001b[0m │      \u001b[1;36m1.0\u001b[0m │         \u001b[1;36m0.0\u001b[0m │     \u001b[1;36m0\u001b[0m │     \u001b[1;36m0\u001b[0m │     \u001b[1;36m0\u001b[0m │     \u001b[1;36m0\u001b[0m │     \u001b[1;36m0\u001b[0m │     \u001b[1;36m0\u001b[0m │     \u001b[1;36m0\u001b[0m │     \u001b[1;36m0\u001b[0m │     \u001b[1;36m0\u001b[0m │     \u001b[1;36m0\u001b[0m │     \u001b[1;36m0\u001b[0m │     \u001b[1;36m0\u001b[0m │     \u001b[1;36m0\u001b[0m │     \u001b[1;36m0\u001b[0m │     \u001b[1;36m0\u001b[0m │     \u001b[1;36m0\u001b[0m │     \u001b[1;36m0\u001b[0m │     \u001b[1;36m0\u001b[0m │\n",
       "│ \u001b[32m88580bd2bdfffff\u001b[0m │      \u001b[1;36m1.0\u001b[0m │         \u001b[1;36m0.0\u001b[0m │     \u001b[1;36m0\u001b[0m │     \u001b[1;36m0\u001b[0m │     \u001b[1;36m0\u001b[0m │     \u001b[1;36m0\u001b[0m │     \u001b[1;36m0\u001b[0m │     \u001b[1;36m0\u001b[0m │     \u001b[1;36m0\u001b[0m │     \u001b[1;36m0\u001b[0m │     \u001b[1;36m0\u001b[0m │     \u001b[1;36m0\u001b[0m │     \u001b[1;36m0\u001b[0m │     \u001b[1;36m0\u001b[0m │     \u001b[1;36m0\u001b[0m │     \u001b[1;36m0\u001b[0m │     \u001b[1;36m0\u001b[0m │     \u001b[1;36m0\u001b[0m │     \u001b[1;36m0\u001b[0m │     \u001b[1;36m0\u001b[0m │\n",
       "│ \u001b[32m88580a8941fffff\u001b[0m │      \u001b[1;36m1.0\u001b[0m │         \u001b[1;36m0.0\u001b[0m │     \u001b[1;36m0\u001b[0m │     \u001b[1;36m0\u001b[0m │     \u001b[1;36m0\u001b[0m │     \u001b[1;36m0\u001b[0m │     \u001b[1;36m0\u001b[0m │     \u001b[1;36m0\u001b[0m │     \u001b[1;36m0\u001b[0m │     \u001b[1;36m0\u001b[0m │     \u001b[1;36m0\u001b[0m │     \u001b[1;36m0\u001b[0m │     \u001b[1;36m0\u001b[0m │     \u001b[1;36m0\u001b[0m │     \u001b[1;36m0\u001b[0m │     \u001b[1;36m0\u001b[0m │     \u001b[1;36m0\u001b[0m │     \u001b[1;36m0\u001b[0m │     \u001b[1;36m0\u001b[0m │     \u001b[1;36m0\u001b[0m │\n",
       "│ \u001b[32m88580ac61bfffff\u001b[0m │      \u001b[1;36m1.0\u001b[0m │         \u001b[1;36m0.0\u001b[0m │     \u001b[1;36m0\u001b[0m │     \u001b[1;36m0\u001b[0m │     \u001b[1;36m0\u001b[0m │     \u001b[1;36m0\u001b[0m │     \u001b[1;36m0\u001b[0m │     \u001b[1;36m0\u001b[0m │     \u001b[1;36m0\u001b[0m │     \u001b[1;36m0\u001b[0m │     \u001b[1;36m0\u001b[0m │     \u001b[1;36m0\u001b[0m │     \u001b[1;36m0\u001b[0m │     \u001b[1;36m0\u001b[0m │     \u001b[1;36m0\u001b[0m │     \u001b[1;36m0\u001b[0m │     \u001b[1;36m0\u001b[0m │     \u001b[1;36m0\u001b[0m │     \u001b[1;36m0\u001b[0m │     \u001b[1;36m0\u001b[0m │\n",
       "│ \u001b[32m88580ada9bfffff\u001b[0m │      \u001b[1;36m1.0\u001b[0m │         \u001b[1;36m0.0\u001b[0m │     \u001b[1;36m0\u001b[0m │     \u001b[1;36m0\u001b[0m │     \u001b[1;36m0\u001b[0m │     \u001b[1;36m0\u001b[0m │     \u001b[1;36m0\u001b[0m │     \u001b[1;36m0\u001b[0m │     \u001b[1;36m0\u001b[0m │     \u001b[1;36m0\u001b[0m │     \u001b[1;36m0\u001b[0m │     \u001b[1;36m0\u001b[0m │     \u001b[1;36m0\u001b[0m │     \u001b[1;36m0\u001b[0m │     \u001b[1;36m0\u001b[0m │     \u001b[1;36m0\u001b[0m │     \u001b[1;36m0\u001b[0m │     \u001b[1;36m0\u001b[0m │     \u001b[1;36m0\u001b[0m │     \u001b[1;36m0\u001b[0m │\n",
       "│ \u001b[32m88580a1327fffff\u001b[0m │      \u001b[1;36m1.0\u001b[0m │         \u001b[1;36m0.0\u001b[0m │     \u001b[1;36m0\u001b[0m │     \u001b[1;36m0\u001b[0m │     \u001b[1;36m0\u001b[0m │     \u001b[1;36m0\u001b[0m │     \u001b[1;36m0\u001b[0m │     \u001b[1;36m0\u001b[0m │     \u001b[1;36m0\u001b[0m │     \u001b[1;36m0\u001b[0m │     \u001b[1;36m0\u001b[0m │     \u001b[1;36m0\u001b[0m │     \u001b[1;36m0\u001b[0m │     \u001b[1;36m0\u001b[0m │     \u001b[1;36m0\u001b[0m │     \u001b[1;36m0\u001b[0m │     \u001b[1;36m0\u001b[0m │     \u001b[1;36m0\u001b[0m │     \u001b[1;36m0\u001b[0m │     \u001b[1;36m0\u001b[0m │\n",
       "│ \u001b[32m88580ad9c1fffff\u001b[0m │      \u001b[1;36m1.0\u001b[0m │         \u001b[1;36m0.0\u001b[0m │     \u001b[1;36m0\u001b[0m │     \u001b[1;36m0\u001b[0m │     \u001b[1;36m0\u001b[0m │     \u001b[1;36m0\u001b[0m │     \u001b[1;36m0\u001b[0m │     \u001b[1;36m0\u001b[0m │     \u001b[1;36m0\u001b[0m │     \u001b[1;36m0\u001b[0m │     \u001b[1;36m0\u001b[0m │     \u001b[1;36m0\u001b[0m │     \u001b[1;36m0\u001b[0m │     \u001b[1;36m0\u001b[0m │     \u001b[1;36m0\u001b[0m │     \u001b[1;36m0\u001b[0m │     \u001b[1;36m0\u001b[0m │     \u001b[1;36m0\u001b[0m │     \u001b[1;36m0\u001b[0m │     \u001b[1;36m0\u001b[0m │\n",
       "│ \u001b[2m…\u001b[0m               │        \u001b[2m…\u001b[0m │           \u001b[2m…\u001b[0m │     \u001b[2m…\u001b[0m │     \u001b[2m…\u001b[0m │     \u001b[2m…\u001b[0m │     \u001b[2m…\u001b[0m │     \u001b[2m…\u001b[0m │     \u001b[2m…\u001b[0m │     \u001b[2m…\u001b[0m │     \u001b[2m…\u001b[0m │     \u001b[2m…\u001b[0m │     \u001b[2m…\u001b[0m │     \u001b[2m…\u001b[0m │     \u001b[2m…\u001b[0m │     \u001b[2m…\u001b[0m │     \u001b[2m…\u001b[0m │     \u001b[2m…\u001b[0m │     \u001b[2m…\u001b[0m │     \u001b[2m…\u001b[0m │     \u001b[2m…\u001b[0m │\n",
       "└─────────────────┴──────────┴─────────────┴───────┴───────┴───────┴───────┴───────┴───────┴───────┴───────┴───────┴───────┴───────┴───────┴───────┴───────┴───────┴───────┴───────┴───────┘"
      ]
     },
     "execution_count": 54,
     "metadata": {},
     "output_type": "execute_result"
    }
   ],
   "source": [
    "print(pred_layers.count())\n",
    "pred_layers"
   ]
  },
  {
   "cell_type": "code",
   "execution_count": 55,
   "metadata": {},
   "outputs": [
    {
     "data": {
      "text/plain": [
       "['copernicus',\n",
       " 'dose',\n",
       " 'kummu',\n",
       " 'local_gdp',\n",
       " 'mapsapam',\n",
       " 'nres',\n",
       " 'places',\n",
       " 'predictors',\n",
       " 'table1']"
      ]
     },
     "execution_count": 55,
     "metadata": {},
     "output_type": "execute_result"
    }
   ],
   "source": [
    "conn.list_tables()"
   ]
  },
  {
   "cell_type": "markdown",
   "metadata": {},
   "source": [
    "## Plotting"
   ]
  },
  {
   "cell_type": "markdown",
   "metadata": {},
   "source": [
    "To keep track of what plot"
   ]
  },
  {
   "cell_type": "code",
   "execution_count": 124,
   "metadata": {},
   "outputs": [],
   "source": [
    "import json\n",
    "\n",
    "isic_codes = json.load(open(\"data/isic_dict.json\",\"r\"))"
   ]
  },
  {
   "cell_type": "code",
   "execution_count": 129,
   "metadata": {},
   "outputs": [],
   "source": [
    "plotting_var = \"E\""
   ]
  },
  {
   "cell_type": "code",
   "execution_count": 133,
   "metadata": {},
   "outputs": [
    {
     "name": "stdout",
     "output_type": "stream",
     "text": [
      "A : Agriculture, forestry and fishing\n",
      "This section includes the exploitation of vegetal and animal natural resources, comprising the\n",
      "activities of growing of crops, raising and breeding of animals, harvesting of timber and other\n",
      "plants, animals or animal products from a farm or their natural habitats.\n",
      "E : Water supply; sewerage, waste management and\n",
      "remediation activities\n",
      "This section includes activities related to the management (including collection, treatment and\n",
      "disposal) of various forms of waste, such as solid or non-solid industrial or household waste, as\n",
      "well as contaminated sites. The output of the waste or sewage treatment process can either be\n",
      "disposed of or become an input into other production processes. Activities of water supply are\n",
      "also grouped in this section, since they are often carried out in connection with, or by units also\n",
      "engaged in, the treatment of sewage.\n",
      "Q : Human health and social work activities\n",
      "This section includes the provision of health and social work activities. Activities include a wide\n",
      "range of activities, starting from health care provided by trained medical professionals in hos-\n",
      "pitals and other facilities, over residential care activities that still involve a degree of health care\n",
      "activities to social work activities without any involvement of health care professionals.\n",
      "B : Mining and quarrying\n",
      "This section includes the extraction of minerals occurring naturally as solids (coal and ores), liq-\n",
      "uids (petroleum) or gases (natural gas). Extraction can be achieved by different methods such as\n",
      "underground or surface mining, well operation, seabed mining etc.\n",
      "This section also includes supplementary activities aimed at preparing the crude materials for\n",
      "marketing, for example, crushing, grinding, cleaning, drying, sorting, concentrating ores, lique-\n",
      "faction of natural gas and agglomeration of solid fuels. These operations are often carried out by\n",
      "the units that extracted the resource and/or others located nearby.\n",
      "Mining activities are classified into divisions, groups and classes on the basis of the principal min-\n",
      "eral produced. Divisions 05, 06 are concerned with mining and quarrying of fossil fuels (coal, lig-\n",
      "nite, petroleum, gas); divisions 07, 08 concern metal ores, various minerals and quarry products.\n",
      "Some of the technical operations of this section, particularly related to the extraction of hydrocar-\n",
      "bons, may also be carried out for third parties by specialized units as an industrial service, which\n",
      "is reflected in division 09.\n",
      "This section excludes the processing of the extracted materials (see section C—Manufacturing),\n",
      "which also covers the bottling of natural spring and mineral waters at springs and wells (see class\n",
      "1104) or the crushing, grinding or otherwise treating certain earths, rocks and minerals not car-\n",
      "ried out in conjunction with mining and quarrying (see class 2399). This section also excludes the\n",
      "usage of the extracted materials without a further transformation for construction purposes (see\n",
      "section F—Construction), the collection, purification and distribution of water (see class 3600),\n",
      "separate site preparation activities for mining (see class 4312) and geophysical, geologic and seis-\n",
      "mic surveying activities (see class 7110).\n"
     ]
    }
   ],
   "source": [
    "print(\"A :\", isic_codes[\"Section A\"][\"description\"])\n",
    "print(\"E :\", isic_codes[\"Section E\"][\"description\"])\n",
    "print(\"Q :\", isic_codes[\"Section Q\"][\"description\"])\n",
    "print(\"B :\", isic_codes[\"Section B\"][\"description\"])"
   ]
  },
  {
   "cell_type": "code",
   "execution_count": 117,
   "metadata": {},
   "outputs": [
    {
     "data": {
      "text/html": [
       "<pre style=\"white-space:pre;overflow-x:auto;line-height:normal;font-family:Menlo,'DejaVu Sans Mono',consolas,'Courier New',monospace\">┏━━━━━━━━━━━━━━━┳━━━━━━━━━━━━━━━━━━━━━┓\n",
       "┃<span style=\"font-weight: bold\"> sec_cat_right </span>┃<span style=\"font-weight: bold\"> sec_cat_right_count </span>┃\n",
       "┡━━━━━━━━━━━━━━━╇━━━━━━━━━━━━━━━━━━━━━┩\n",
       "│ <span style=\"color: #7f7f7f; text-decoration-color: #7f7f7f\">string</span>        │ <span style=\"color: #7f7f7f; text-decoration-color: #7f7f7f\">int64</span>               │\n",
       "├───────────────┼─────────────────────┤\n",
       "│ <span style=\"color: #008000; text-decoration-color: #008000\">hospital     </span> │                 <span style=\"color: #008080; text-decoration-color: #008080; font-weight: bold\">159</span> │\n",
       "│ <span style=\"color: #008000; text-decoration-color: #008000\">eat_and_drink</span> │                  <span style=\"color: #008080; text-decoration-color: #008080; font-weight: bold\">11</span> │\n",
       "└───────────────┴─────────────────────┘\n",
       "</pre>\n"
      ],
      "text/plain": [
       "┏━━━━━━━━━━━━━━━┳━━━━━━━━━━━━━━━━━━━━━┓\n",
       "┃\u001b[1m \u001b[0m\u001b[1msec_cat_right\u001b[0m\u001b[1m \u001b[0m┃\u001b[1m \u001b[0m\u001b[1msec_cat_right_count\u001b[0m\u001b[1m \u001b[0m┃\n",
       "┡━━━━━━━━━━━━━━━╇━━━━━━━━━━━━━━━━━━━━━┩\n",
       "│ \u001b[2mstring\u001b[0m        │ \u001b[2mint64\u001b[0m               │\n",
       "├───────────────┼─────────────────────┤\n",
       "│ \u001b[32mhospital     \u001b[0m │                 \u001b[1;36m159\u001b[0m │\n",
       "│ \u001b[32meat_and_drink\u001b[0m │                  \u001b[1;36m11\u001b[0m │\n",
       "└───────────────┴─────────────────────┘"
      ]
     },
     "execution_count": 117,
     "metadata": {},
     "output_type": "execute_result"
    }
   ],
   "source": [
    "places.filter(_.section==plotting_var).sec_cat_right.value_counts()"
   ]
  },
  {
   "cell_type": "code",
   "execution_count": 118,
   "metadata": {},
   "outputs": [
    {
     "data": {
      "text/html": [
       "<pre style=\"white-space:pre;overflow-x:auto;line-height:normal;font-family:Menlo,'DejaVu Sans Mono',consolas,'Courier New',monospace\">┏━━━━━━━━━┓\n",
       "┃<span style=\"font-weight: bold\"> var_sum </span>┃\n",
       "┡━━━━━━━━━┩\n",
       "│ <span style=\"color: #7f7f7f; text-decoration-color: #7f7f7f\">int64</span>   │\n",
       "├─────────┤\n",
       "│     <span style=\"color: #008080; text-decoration-color: #008080; font-weight: bold\">257</span> │\n",
       "└─────────┘\n",
       "</pre>\n"
      ],
      "text/plain": [
       "┏━━━━━━━━━┓\n",
       "┃\u001b[1m \u001b[0m\u001b[1mvar_sum\u001b[0m\u001b[1m \u001b[0m┃\n",
       "┡━━━━━━━━━┩\n",
       "│ \u001b[2mint64\u001b[0m   │\n",
       "├─────────┤\n",
       "│     \u001b[1;36m257\u001b[0m │\n",
       "└─────────┘"
      ]
     },
     "execution_count": 118,
     "metadata": {},
     "output_type": "execute_result"
    }
   ],
   "source": [
    "pred_layers.agg(var_sum = _[plotting_var+\"_var\"].sum())"
   ]
  },
  {
   "cell_type": "code",
   "execution_count": 119,
   "metadata": {},
   "outputs": [],
   "source": [
    "pred_layers_plot_df = snoo.sn_change_res(pred_layers.select(\"h3_id\",plotting_var + \"_var\"),levels=-1).filter(_[plotting_var+\"_var\"] > 0).execute()"
   ]
  },
  {
   "cell_type": "code",
   "execution_count": 120,
   "metadata": {},
   "outputs": [
    {
     "data": {
      "text/plain": [
       "(136, 2)"
      ]
     },
     "execution_count": 120,
     "metadata": {},
     "output_type": "execute_result"
    }
   ],
   "source": [
    "pred_layers_plot_df.shape"
   ]
  },
  {
   "cell_type": "code",
   "execution_count": 121,
   "metadata": {},
   "outputs": [
    {
     "name": "stdout",
     "output_type": "stream",
     "text": [
      "Max input : 4.04, palette colors : 10\n"
     ]
    }
   ],
   "source": [
    "count_pal = pypal.load_cmap(\"viridis\")\n",
    "pred_layers_plot_df[\"cols\"] = cmap(pred_layers_plot_df[plotting_var+\"_var\"],palette=count_pal,log=True)"
   ]
  },
  {
   "cell_type": "code",
   "execution_count": 123,
   "metadata": {},
   "outputs": [
    {
     "data": {
      "text/html": [
       "\n",
       "        <iframe\n",
       "            width=\"100%\"\n",
       "            height=500\n",
       "            frameborder=\"0\"\n",
       "            srcdoc=\"&lt;!DOCTYPE html&gt;\n",
       "&lt;html&gt;\n",
       "  &lt;head&gt;\n",
       "    &lt;meta http-equiv=&quot;content-type&quot; content=&quot;text/html; charset=UTF-8&quot; /&gt;\n",
       "    &lt;title&gt;pydeck&lt;/title&gt;\n",
       "        &lt;script src=&quot;https://api.tiles.mapbox.com/mapbox-gl-js/v1.13.0/mapbox-gl.js&quot;&gt;&lt;/script&gt;\n",
       "        &lt;link rel=&quot;stylesheet&quot; href=&quot;https://maxcdn.bootstrapcdn.com/bootstrap/3.2.0/css/bootstrap-theme.min.css&quot; /&gt;\n",
       "    &lt;link rel=&quot;stylesheet&quot; href=&quot;https://maxcdn.bootstrapcdn.com/font-awesome/4.6.3/css/font-awesome.min.css&quot; /&gt;\n",
       "    &lt;script src=&#x27;https://cdn.jsdelivr.net/npm/@deck.gl/jupyter-widget@~8.8.*/dist/index.js&#x27;&gt;&lt;/script&gt;\n",
       "    &lt;style&gt;\n",
       "    body {\n",
       "  margin: 0;\n",
       "  padding: 0;\n",
       "  overflow: hidden;\n",
       "}\n",
       "\n",
       "#deck-container {\n",
       "  width: 100vw;\n",
       "  height: 100vh;\n",
       "}\n",
       "\n",
       "#deck-container canvas {\n",
       "  z-index: 1;\n",
       "  background: none;\n",
       "}\n",
       "    &lt;/style&gt;\n",
       "  &lt;/head&gt;\n",
       "  &lt;body&gt;\n",
       "    &lt;div id=&quot;deck-container&quot;&gt;\n",
       "    &lt;/div&gt;\n",
       "  &lt;/body&gt;\n",
       "  &lt;script&gt;\n",
       "    const container = document.getElementById(&#x27;deck-container&#x27;);\n",
       "    const jsonInput = {\n",
       "  &quot;initialViewState&quot;: {\n",
       "    &quot;bearing&quot;: 0,\n",
       "    &quot;latitude&quot;: 12.019,\n",
       "    &quot;longitude&quot;: 8.63,\n",
       "    &quot;pitch&quot;: 30,\n",
       "    &quot;zoom&quot;: 9\n",
       "  },\n",
       "  &quot;layers&quot;: [\n",
       "    {\n",
       "      &quot;@@type&quot;: &quot;H3HexagonLayer&quot;,\n",
       "      &quot;data&quot;: [\n",
       "        {\n",
       "          &quot;Q_var&quot;: 1,\n",
       "          &quot;cols&quot;: [\n",
       "            67,\n",
       "            62,\n",
       "            133,\n",
       "            255\n",
       "          ],\n",
       "          &quot;h3_id&quot;: &quot;8758192e8ffffff&quot;\n",
       "        },\n",
       "        {\n",
       "          &quot;Q_var&quot;: 1,\n",
       "          &quot;cols&quot;: [\n",
       "            67,\n",
       "            62,\n",
       "            133,\n",
       "            255\n",
       "          ],\n",
       "          &quot;h3_id&quot;: &quot;875819860ffffff&quot;\n",
       "        },\n",
       "        {\n",
       "          &quot;Q_var&quot;: 1,\n",
       "          &quot;cols&quot;: [\n",
       "            67,\n",
       "            62,\n",
       "            133,\n",
       "            255\n",
       "          ],\n",
       "          &quot;h3_id&quot;: &quot;87581d219ffffff&quot;\n",
       "        },\n",
       "        {\n",
       "          &quot;Q_var&quot;: 1,\n",
       "          &quot;cols&quot;: [\n",
       "            67,\n",
       "            62,\n",
       "            133,\n",
       "            255\n",
       "          ],\n",
       "          &quot;h3_id&quot;: &quot;87580a45affffff&quot;\n",
       "        },\n",
       "        {\n",
       "          &quot;Q_var&quot;: 1,\n",
       "          &quot;cols&quot;: [\n",
       "            67,\n",
       "            62,\n",
       "            133,\n",
       "            255\n",
       "          ],\n",
       "          &quot;h3_id&quot;: &quot;87580a4f4ffffff&quot;\n",
       "        },\n",
       "        {\n",
       "          &quot;Q_var&quot;: 1,\n",
       "          &quot;cols&quot;: [\n",
       "            67,\n",
       "            62,\n",
       "            133,\n",
       "            255\n",
       "          ],\n",
       "          &quot;h3_id&quot;: &quot;87580a66affffff&quot;\n",
       "        },\n",
       "        {\n",
       "          &quot;Q_var&quot;: 1,\n",
       "          &quot;cols&quot;: [\n",
       "            67,\n",
       "            62,\n",
       "            133,\n",
       "            255\n",
       "          ],\n",
       "          &quot;h3_id&quot;: &quot;8758e450affffff&quot;\n",
       "        },\n",
       "        {\n",
       "          &quot;Q_var&quot;: 1,\n",
       "          &quot;cols&quot;: [\n",
       "            67,\n",
       "            62,\n",
       "            133,\n",
       "            255\n",
       "          ],\n",
       "          &quot;h3_id&quot;: &quot;875819160ffffff&quot;\n",
       "        },\n",
       "        {\n",
       "          &quot;Q_var&quot;: 1,\n",
       "          &quot;cols&quot;: [\n",
       "            67,\n",
       "            62,\n",
       "            133,\n",
       "            255\n",
       "          ],\n",
       "          &quot;h3_id&quot;: &quot;87580a6f3ffffff&quot;\n",
       "        },\n",
       "        {\n",
       "          &quot;Q_var&quot;: 1,\n",
       "          &quot;cols&quot;: [\n",
       "            67,\n",
       "            62,\n",
       "            133,\n",
       "            255\n",
       "          ],\n",
       "          &quot;h3_id&quot;: &quot;8758e42e0ffffff&quot;\n",
       "        },\n",
       "        {\n",
       "          &quot;Q_var&quot;: 1,\n",
       "          &quot;cols&quot;: [\n",
       "            67,\n",
       "            62,\n",
       "            133,\n",
       "            255\n",
       "          ],\n",
       "          &quot;h3_id&quot;: &quot;87580a6e0ffffff&quot;\n",
       "        },\n",
       "        {\n",
       "          &quot;Q_var&quot;: 2,\n",
       "          &quot;cols&quot;: [\n",
       "            56,\n",
       "            88,\n",
       "            140,\n",
       "            255\n",
       "          ],\n",
       "          &quot;h3_id&quot;: &quot;875819af2ffffff&quot;\n",
       "        },\n",
       "        {\n",
       "          &quot;Q_var&quot;: 1,\n",
       "          &quot;cols&quot;: [\n",
       "            67,\n",
       "            62,\n",
       "            133,\n",
       "            255\n",
       "          ],\n",
       "          &quot;h3_id&quot;: &quot;87580a4edffffff&quot;\n",
       "        },\n",
       "        {\n",
       "          &quot;Q_var&quot;: 1,\n",
       "          &quot;cols&quot;: [\n",
       "            67,\n",
       "            62,\n",
       "            133,\n",
       "            255\n",
       "          ],\n",
       "          &quot;h3_id&quot;: &quot;8758e5da2ffffff&quot;\n",
       "        },\n",
       "        {\n",
       "          &quot;Q_var&quot;: 1,\n",
       "          &quot;cols&quot;: [\n",
       "            67,\n",
       "            62,\n",
       "            133,\n",
       "            255\n",
       "          ],\n",
       "          &quot;h3_id&quot;: &quot;87581d32affffff&quot;\n",
       "        },\n",
       "        {\n",
       "          &quot;Q_var&quot;: 1,\n",
       "          &quot;cols&quot;: [\n",
       "            67,\n",
       "            62,\n",
       "            133,\n",
       "            255\n",
       "          ],\n",
       "          &quot;h3_id&quot;: &quot;87581d6dbffffff&quot;\n",
       "        },\n",
       "        {\n",
       "          &quot;Q_var&quot;: 1,\n",
       "          &quot;cols&quot;: [\n",
       "            67,\n",
       "            62,\n",
       "            133,\n",
       "            255\n",
       "          ],\n",
       "          &quot;h3_id&quot;: &quot;8758e4da9ffffff&quot;\n",
       "        },\n",
       "        {\n",
       "          &quot;Q_var&quot;: 2,\n",
       "          &quot;cols&quot;: [\n",
       "            56,\n",
       "            88,\n",
       "            140,\n",
       "            255\n",
       "          ],\n",
       "          &quot;h3_id&quot;: &quot;87580b972ffffff&quot;\n",
       "        },\n",
       "        {\n",
       "          &quot;Q_var&quot;: 1,\n",
       "          &quot;cols&quot;: [\n",
       "            67,\n",
       "            62,\n",
       "            133,\n",
       "            255\n",
       "          ],\n",
       "          &quot;h3_id&quot;: &quot;875819a42ffffff&quot;\n",
       "        },\n",
       "        {\n",
       "          &quot;Q_var&quot;: 1,\n",
       "          &quot;cols&quot;: [\n",
       "            67,\n",
       "            62,\n",
       "            133,\n",
       "            255\n",
       "          ],\n",
       "          &quot;h3_id&quot;: &quot;8758e4981ffffff&quot;\n",
       "        },\n",
       "        {\n",
       "          &quot;Q_var&quot;: 1,\n",
       "          &quot;cols&quot;: [\n",
       "            67,\n",
       "            62,\n",
       "            133,\n",
       "            255\n",
       "          ],\n",
       "          &quot;h3_id&quot;: &quot;87581d00dffffff&quot;\n",
       "        },\n",
       "        {\n",
       "          &quot;Q_var&quot;: 1,\n",
       "          &quot;cols&quot;: [\n",
       "            67,\n",
       "            62,\n",
       "            133,\n",
       "            255\n",
       "          ],\n",
       "          &quot;h3_id&quot;: &quot;87580e6d0ffffff&quot;\n",
       "        },\n",
       "        {\n",
       "          &quot;Q_var&quot;: 1,\n",
       "          &quot;cols&quot;: [\n",
       "            67,\n",
       "            62,\n",
       "            133,\n",
       "            255\n",
       "          ],\n",
       "          &quot;h3_id&quot;: &quot;87580a4a0ffffff&quot;\n",
       "        },\n",
       "        {\n",
       "          &quot;Q_var&quot;: 1,\n",
       "          &quot;cols&quot;: [\n",
       "            67,\n",
       "            62,\n",
       "            133,\n",
       "            255\n",
       "          ],\n",
       "          &quot;h3_id&quot;: &quot;875819925ffffff&quot;\n",
       "        },\n",
       "        {\n",
       "          &quot;Q_var&quot;: 1,\n",
       "          &quot;cols&quot;: [\n",
       "            67,\n",
       "            62,\n",
       "            133,\n",
       "            255\n",
       "          ],\n",
       "          &quot;h3_id&quot;: &quot;8758e4914ffffff&quot;\n",
       "        },\n",
       "        {\n",
       "          &quot;Q_var&quot;: 1,\n",
       "          &quot;cols&quot;: [\n",
       "            67,\n",
       "            62,\n",
       "            133,\n",
       "            255\n",
       "          ],\n",
       "          &quot;h3_id&quot;: &quot;875819b44ffffff&quot;\n",
       "        },\n",
       "        {\n",
       "          &quot;Q_var&quot;: 1,\n",
       "          &quot;cols&quot;: [\n",
       "            67,\n",
       "            62,\n",
       "            133,\n",
       "            255\n",
       "          ],\n",
       "          &quot;h3_id&quot;: &quot;8758e4a4cffffff&quot;\n",
       "        },\n",
       "        {\n",
       "          &quot;Q_var&quot;: 1,\n",
       "          &quot;cols&quot;: [\n",
       "            67,\n",
       "            62,\n",
       "            133,\n",
       "            255\n",
       "          ],\n",
       "          &quot;h3_id&quot;: &quot;87580a674ffffff&quot;\n",
       "        },\n",
       "        {\n",
       "          &quot;Q_var&quot;: 4,\n",
       "          &quot;cols&quot;: [\n",
       "            45,\n",
       "            112,\n",
       "            142,\n",
       "            255\n",
       "          ],\n",
       "          &quot;h3_id&quot;: &quot;87580a4ebffffff&quot;\n",
       "        },\n",
       "        {\n",
       "          &quot;Q_var&quot;: 1,\n",
       "          &quot;cols&quot;: [\n",
       "            67,\n",
       "            62,\n",
       "            133,\n",
       "            255\n",
       "          ],\n",
       "          &quot;h3_id&quot;: &quot;87581d64effffff&quot;\n",
       "        },\n",
       "        {\n",
       "          &quot;Q_var&quot;: 1,\n",
       "          &quot;cols&quot;: [\n",
       "            67,\n",
       "            62,\n",
       "            133,\n",
       "            255\n",
       "          ],\n",
       "          &quot;h3_id&quot;: &quot;875819b08ffffff&quot;\n",
       "        },\n",
       "        {\n",
       "          &quot;Q_var&quot;: 1,\n",
       "          &quot;cols&quot;: [\n",
       "            67,\n",
       "            62,\n",
       "            133,\n",
       "            255\n",
       "          ],\n",
       "          &quot;h3_id&quot;: &quot;87581d268ffffff&quot;\n",
       "        },\n",
       "        {\n",
       "          &quot;Q_var&quot;: 1,\n",
       "          &quot;cols&quot;: [\n",
       "            67,\n",
       "            62,\n",
       "            133,\n",
       "            255\n",
       "          ],\n",
       "          &quot;h3_id&quot;: &quot;875819b30ffffff&quot;\n",
       "        },\n",
       "        {\n",
       "          &quot;Q_var&quot;: 1,\n",
       "          &quot;cols&quot;: [\n",
       "            67,\n",
       "            62,\n",
       "            133,\n",
       "            255\n",
       "          ],\n",
       "          &quot;h3_id&quot;: &quot;8758e4d0affffff&quot;\n",
       "        },\n",
       "        {\n",
       "          &quot;Q_var&quot;: 1,\n",
       "          &quot;cols&quot;: [\n",
       "            67,\n",
       "            62,\n",
       "            133,\n",
       "            255\n",
       "          ],\n",
       "          &quot;h3_id&quot;: &quot;8758e40cdffffff&quot;\n",
       "        },\n",
       "        {\n",
       "          &quot;Q_var&quot;: 1,\n",
       "          &quot;cols&quot;: [\n",
       "            67,\n",
       "            62,\n",
       "            133,\n",
       "            255\n",
       "          ],\n",
       "          &quot;h3_id&quot;: &quot;87581d256ffffff&quot;\n",
       "        },\n",
       "        {\n",
       "          &quot;Q_var&quot;: 1,\n",
       "          &quot;cols&quot;: [\n",
       "            67,\n",
       "            62,\n",
       "            133,\n",
       "            255\n",
       "          ],\n",
       "          &quot;h3_id&quot;: &quot;87580a6a6ffffff&quot;\n",
       "        },\n",
       "        {\n",
       "          &quot;Q_var&quot;: 1,\n",
       "          &quot;cols&quot;: [\n",
       "            67,\n",
       "            62,\n",
       "            133,\n",
       "            255\n",
       "          ],\n",
       "          &quot;h3_id&quot;: &quot;8758e4545ffffff&quot;\n",
       "        },\n",
       "        {\n",
       "          &quot;Q_var&quot;: 2,\n",
       "          &quot;cols&quot;: [\n",
       "            56,\n",
       "            88,\n",
       "            140,\n",
       "            255\n",
       "          ],\n",
       "          &quot;h3_id&quot;: &quot;8758e42a2ffffff&quot;\n",
       "        },\n",
       "        {\n",
       "          &quot;Q_var&quot;: 1,\n",
       "          &quot;cols&quot;: [\n",
       "            67,\n",
       "            62,\n",
       "            133,\n",
       "            255\n",
       "          ],\n",
       "          &quot;h3_id&quot;: &quot;875819ac3ffffff&quot;\n",
       "        },\n",
       "        {\n",
       "          &quot;Q_var&quot;: 1,\n",
       "          &quot;cols&quot;: [\n",
       "            67,\n",
       "            62,\n",
       "            133,\n",
       "            255\n",
       "          ],\n",
       "          &quot;h3_id&quot;: &quot;87580a582ffffff&quot;\n",
       "        },\n",
       "        {\n",
       "          &quot;Q_var&quot;: 1,\n",
       "          &quot;cols&quot;: [\n",
       "            67,\n",
       "            62,\n",
       "            133,\n",
       "            255\n",
       "          ],\n",
       "          &quot;h3_id&quot;: &quot;87581985affffff&quot;\n",
       "        },\n",
       "        {\n",
       "          &quot;Q_var&quot;: 1,\n",
       "          &quot;cols&quot;: [\n",
       "            67,\n",
       "            62,\n",
       "            133,\n",
       "            255\n",
       "          ],\n",
       "          &quot;h3_id&quot;: &quot;8758e4d25ffffff&quot;\n",
       "        },\n",
       "        {\n",
       "          &quot;Q_var&quot;: 1,\n",
       "          &quot;cols&quot;: [\n",
       "            67,\n",
       "            62,\n",
       "            133,\n",
       "            255\n",
       "          ],\n",
       "          &quot;h3_id&quot;: &quot;87580a4c6ffffff&quot;\n",
       "        },\n",
       "        {\n",
       "          &quot;Q_var&quot;: 1,\n",
       "          &quot;cols&quot;: [\n",
       "            67,\n",
       "            62,\n",
       "            133,\n",
       "            255\n",
       "          ],\n",
       "          &quot;h3_id&quot;: &quot;87580a688ffffff&quot;\n",
       "        },\n",
       "        {\n",
       "          &quot;Q_var&quot;: 11,\n",
       "          &quot;cols&quot;: [\n",
       "            42,\n",
       "            176,\n",
       "            127,\n",
       "            255\n",
       "          ],\n",
       "          &quot;h3_id&quot;: &quot;87580b95dffffff&quot;\n",
       "        },\n",
       "        {\n",
       "          &quot;Q_var&quot;: 1,\n",
       "          &quot;cols&quot;: [\n",
       "            67,\n",
       "            62,\n",
       "            133,\n",
       "            255\n",
       "          ],\n",
       "          &quot;h3_id&quot;: &quot;87580a419ffffff&quot;\n",
       "        },\n",
       "        {\n",
       "          &quot;Q_var&quot;: 1,\n",
       "          &quot;cols&quot;: [\n",
       "            67,\n",
       "            62,\n",
       "            133,\n",
       "            255\n",
       "          ],\n",
       "          &quot;h3_id&quot;: &quot;87580a4f0ffffff&quot;\n",
       "        },\n",
       "        {\n",
       "          &quot;Q_var&quot;: 1,\n",
       "          &quot;cols&quot;: [\n",
       "            67,\n",
       "            62,\n",
       "            133,\n",
       "            255\n",
       "          ],\n",
       "          &quot;h3_id&quot;: &quot;87581d21affffff&quot;\n",
       "        },\n",
       "        {\n",
       "          &quot;Q_var&quot;: 1,\n",
       "          &quot;cols&quot;: [\n",
       "            67,\n",
       "            62,\n",
       "            133,\n",
       "            255\n",
       "          ],\n",
       "          &quot;h3_id&quot;: &quot;8758e421bffffff&quot;\n",
       "        },\n",
       "        {\n",
       "          &quot;Q_var&quot;: 1,\n",
       "          &quot;cols&quot;: [\n",
       "            67,\n",
       "            62,\n",
       "            133,\n",
       "            255\n",
       "          ],\n",
       "          &quot;h3_id&quot;: &quot;87580a498ffffff&quot;\n",
       "        },\n",
       "        {\n",
       "          &quot;Q_var&quot;: 1,\n",
       "          &quot;cols&quot;: [\n",
       "            67,\n",
       "            62,\n",
       "            133,\n",
       "            255\n",
       "          ],\n",
       "          &quot;h3_id&quot;: &quot;8758e42abffffff&quot;\n",
       "        },\n",
       "        {\n",
       "          &quot;Q_var&quot;: 2,\n",
       "          &quot;cols&quot;: [\n",
       "            56,\n",
       "            88,\n",
       "            140,\n",
       "            255\n",
       "          ],\n",
       "          &quot;h3_id&quot;: &quot;87580a485ffffff&quot;\n",
       "        },\n",
       "        {\n",
       "          &quot;Q_var&quot;: 2,\n",
       "          &quot;cols&quot;: [\n",
       "            56,\n",
       "            88,\n",
       "            140,\n",
       "            255\n",
       "          ],\n",
       "          &quot;h3_id&quot;: &quot;87580b919ffffff&quot;\n",
       "        },\n",
       "        {\n",
       "          &quot;Q_var&quot;: 1,\n",
       "          &quot;cols&quot;: [\n",
       "            67,\n",
       "            62,\n",
       "            133,\n",
       "            255\n",
       "          ],\n",
       "          &quot;h3_id&quot;: &quot;87580a4d3ffffff&quot;\n",
       "        },\n",
       "        {\n",
       "          &quot;Q_var&quot;: 1,\n",
       "          &quot;cols&quot;: [\n",
       "            67,\n",
       "            62,\n",
       "            133,\n",
       "            255\n",
       "          ],\n",
       "          &quot;h3_id&quot;: &quot;875819b10ffffff&quot;\n",
       "        },\n",
       "        {\n",
       "          &quot;Q_var&quot;: 1,\n",
       "          &quot;cols&quot;: [\n",
       "            67,\n",
       "            62,\n",
       "            133,\n",
       "            255\n",
       "          ],\n",
       "          &quot;h3_id&quot;: &quot;875819003ffffff&quot;\n",
       "        },\n",
       "        {\n",
       "          &quot;Q_var&quot;: 1,\n",
       "          &quot;cols&quot;: [\n",
       "            67,\n",
       "            62,\n",
       "            133,\n",
       "            255\n",
       "          ],\n",
       "          &quot;h3_id&quot;: &quot;8758e4b46ffffff&quot;\n",
       "        },\n",
       "        {\n",
       "          &quot;Q_var&quot;: 1,\n",
       "          &quot;cols&quot;: [\n",
       "            67,\n",
       "            62,\n",
       "            133,\n",
       "            255\n",
       "          ],\n",
       "          &quot;h3_id&quot;: &quot;87581992affffff&quot;\n",
       "        },\n",
       "        {\n",
       "          &quot;Q_var&quot;: 1,\n",
       "          &quot;cols&quot;: [\n",
       "            67,\n",
       "            62,\n",
       "            133,\n",
       "            255\n",
       "          ],\n",
       "          &quot;h3_id&quot;: &quot;875819b50ffffff&quot;\n",
       "        },\n",
       "        {\n",
       "          &quot;Q_var&quot;: 1,\n",
       "          &quot;cols&quot;: [\n",
       "            67,\n",
       "            62,\n",
       "            133,\n",
       "            255\n",
       "          ],\n",
       "          &quot;h3_id&quot;: &quot;8758e4526ffffff&quot;\n",
       "        },\n",
       "        {\n",
       "          &quot;Q_var&quot;: 1,\n",
       "          &quot;cols&quot;: [\n",
       "            67,\n",
       "            62,\n",
       "            133,\n",
       "            255\n",
       "          ],\n",
       "          &quot;h3_id&quot;: &quot;87580a4c2ffffff&quot;\n",
       "        },\n",
       "        {\n",
       "          &quot;Q_var&quot;: 1,\n",
       "          &quot;cols&quot;: [\n",
       "            67,\n",
       "            62,\n",
       "            133,\n",
       "            255\n",
       "          ],\n",
       "          &quot;h3_id&quot;: &quot;87581d214ffffff&quot;\n",
       "        },\n",
       "        {\n",
       "          &quot;Q_var&quot;: 1,\n",
       "          &quot;cols&quot;: [\n",
       "            67,\n",
       "            62,\n",
       "            133,\n",
       "            255\n",
       "          ],\n",
       "          &quot;h3_id&quot;: &quot;8758e40c3ffffff&quot;\n",
       "        },\n",
       "        {\n",
       "          &quot;Q_var&quot;: 1,\n",
       "          &quot;cols&quot;: [\n",
       "            67,\n",
       "            62,\n",
       "            133,\n",
       "            255\n",
       "          ],\n",
       "          &quot;h3_id&quot;: &quot;87580a40effffff&quot;\n",
       "        },\n",
       "        {\n",
       "          &quot;Q_var&quot;: 1,\n",
       "          &quot;cols&quot;: [\n",
       "            67,\n",
       "            62,\n",
       "            133,\n",
       "            255\n",
       "          ],\n",
       "          &quot;h3_id&quot;: &quot;87580a4e8ffffff&quot;\n",
       "        },\n",
       "        {\n",
       "          &quot;Q_var&quot;: 56,\n",
       "          &quot;cols&quot;: [\n",
       "            194,\n",
       "            223,\n",
       "            35,\n",
       "            255\n",
       "          ],\n",
       "          &quot;h3_id&quot;: &quot;875819848ffffff&quot;\n",
       "        },\n",
       "        {\n",
       "          &quot;Q_var&quot;: 3,\n",
       "          &quot;cols&quot;: [\n",
       "            45,\n",
       "            112,\n",
       "            142,\n",
       "            255\n",
       "          ],\n",
       "          &quot;h3_id&quot;: &quot;8758e4d16ffffff&quot;\n",
       "        },\n",
       "        {\n",
       "          &quot;Q_var&quot;: 1,\n",
       "          &quot;cols&quot;: [\n",
       "            67,\n",
       "            62,\n",
       "            133,\n",
       "            255\n",
       "          ],\n",
       "          &quot;h3_id&quot;: &quot;87581d961ffffff&quot;\n",
       "        },\n",
       "        {\n",
       "          &quot;Q_var&quot;: 2,\n",
       "          &quot;cols&quot;: [\n",
       "            56,\n",
       "            88,\n",
       "            140,\n",
       "            255\n",
       "          ],\n",
       "          &quot;h3_id&quot;: &quot;87580a4e6ffffff&quot;\n",
       "        },\n",
       "        {\n",
       "          &quot;Q_var&quot;: 1,\n",
       "          &quot;cols&quot;: [\n",
       "            67,\n",
       "            62,\n",
       "            133,\n",
       "            255\n",
       "          ],\n",
       "          &quot;h3_id&quot;: &quot;875819255ffffff&quot;\n",
       "        },\n",
       "        {\n",
       "          &quot;Q_var&quot;: 1,\n",
       "          &quot;cols&quot;: [\n",
       "            67,\n",
       "            62,\n",
       "            133,\n",
       "            255\n",
       "          ],\n",
       "          &quot;h3_id&quot;: &quot;87581d388ffffff&quot;\n",
       "        },\n",
       "        {\n",
       "          &quot;Q_var&quot;: 1,\n",
       "          &quot;cols&quot;: [\n",
       "            67,\n",
       "            62,\n",
       "            133,\n",
       "            255\n",
       "          ],\n",
       "          &quot;h3_id&quot;: &quot;875819b9cffffff&quot;\n",
       "        },\n",
       "        {\n",
       "          &quot;Q_var&quot;: 1,\n",
       "          &quot;cols&quot;: [\n",
       "            67,\n",
       "            62,\n",
       "            133,\n",
       "            255\n",
       "          ],\n",
       "          &quot;h3_id&quot;: &quot;8758e4d21ffffff&quot;\n",
       "        },\n",
       "        {\n",
       "          &quot;Q_var&quot;: 1,\n",
       "          &quot;cols&quot;: [\n",
       "            67,\n",
       "            62,\n",
       "            133,\n",
       "            255\n",
       "          ],\n",
       "          &quot;h3_id&quot;: &quot;8758e4db6ffffff&quot;\n",
       "        },\n",
       "        {\n",
       "          &quot;Q_var&quot;: 1,\n",
       "          &quot;cols&quot;: [\n",
       "            67,\n",
       "            62,\n",
       "            133,\n",
       "            255\n",
       "          ],\n",
       "          &quot;h3_id&quot;: &quot;87580a754ffffff&quot;\n",
       "        },\n",
       "        {\n",
       "          &quot;Q_var&quot;: 1,\n",
       "          &quot;cols&quot;: [\n",
       "            67,\n",
       "            62,\n",
       "            133,\n",
       "            255\n",
       "          ],\n",
       "          &quot;h3_id&quot;: &quot;87580a489ffffff&quot;\n",
       "        },\n",
       "        {\n",
       "          &quot;Q_var&quot;: 1,\n",
       "          &quot;cols&quot;: [\n",
       "            67,\n",
       "            62,\n",
       "            133,\n",
       "            255\n",
       "          ],\n",
       "          &quot;h3_id&quot;: &quot;87580a41effffff&quot;\n",
       "        },\n",
       "        {\n",
       "          &quot;Q_var&quot;: 1,\n",
       "          &quot;cols&quot;: [\n",
       "            67,\n",
       "            62,\n",
       "            133,\n",
       "            255\n",
       "          ],\n",
       "          &quot;h3_id&quot;: &quot;87581d666ffffff&quot;\n",
       "        },\n",
       "        {\n",
       "          &quot;Q_var&quot;: 1,\n",
       "          &quot;cols&quot;: [\n",
       "            67,\n",
       "            62,\n",
       "            133,\n",
       "            255\n",
       "          ],\n",
       "          &quot;h3_id&quot;: &quot;87580a696ffffff&quot;\n",
       "        },\n",
       "        {\n",
       "          &quot;Q_var&quot;: 1,\n",
       "          &quot;cols&quot;: [\n",
       "            67,\n",
       "            62,\n",
       "            133,\n",
       "            255\n",
       "          ],\n",
       "          &quot;h3_id&quot;: &quot;875819364ffffff&quot;\n",
       "        },\n",
       "        {\n",
       "          &quot;Q_var&quot;: 1,\n",
       "          &quot;cols&quot;: [\n",
       "            67,\n",
       "            62,\n",
       "            133,\n",
       "            255\n",
       "          ],\n",
       "          &quot;h3_id&quot;: &quot;87581922bffffff&quot;\n",
       "        },\n",
       "        {\n",
       "          &quot;Q_var&quot;: 1,\n",
       "          &quot;cols&quot;: [\n",
       "            67,\n",
       "            62,\n",
       "            133,\n",
       "            255\n",
       "          ],\n",
       "          &quot;h3_id&quot;: &quot;8758e4d9bffffff&quot;\n",
       "        },\n",
       "        {\n",
       "          &quot;Q_var&quot;: 1,\n",
       "          &quot;cols&quot;: [\n",
       "            67,\n",
       "            62,\n",
       "            133,\n",
       "            255\n",
       "          ],\n",
       "          &quot;h3_id&quot;: &quot;8758e439affffff&quot;\n",
       "        },\n",
       "        {\n",
       "          &quot;Q_var&quot;: 2,\n",
       "          &quot;cols&quot;: [\n",
       "            56,\n",
       "            88,\n",
       "            140,\n",
       "            255\n",
       "          ],\n",
       "          &quot;h3_id&quot;: &quot;87580b971ffffff&quot;\n",
       "        },\n",
       "        {\n",
       "          &quot;Q_var&quot;: 3,\n",
       "          &quot;cols&quot;: [\n",
       "            45,\n",
       "            112,\n",
       "            142,\n",
       "            255\n",
       "          ],\n",
       "          &quot;h3_id&quot;: &quot;87580a4e4ffffff&quot;\n",
       "        },\n",
       "        {\n",
       "          &quot;Q_var&quot;: 1,\n",
       "          &quot;cols&quot;: [\n",
       "            67,\n",
       "            62,\n",
       "            133,\n",
       "            255\n",
       "          ],\n",
       "          &quot;h3_id&quot;: &quot;87580a4e1ffffff&quot;\n",
       "        },\n",
       "        {\n",
       "          &quot;Q_var&quot;: 1,\n",
       "          &quot;cols&quot;: [\n",
       "            67,\n",
       "            62,\n",
       "            133,\n",
       "            255\n",
       "          ],\n",
       "          &quot;h3_id&quot;: &quot;87580a4f5ffffff&quot;\n",
       "        },\n",
       "        {\n",
       "          &quot;Q_var&quot;: 3,\n",
       "          &quot;cols&quot;: [\n",
       "            45,\n",
       "            112,\n",
       "            142,\n",
       "            255\n",
       "          ],\n",
       "          &quot;h3_id&quot;: &quot;87580a4eeffffff&quot;\n",
       "        },\n",
       "        {\n",
       "          &quot;Q_var&quot;: 1,\n",
       "          &quot;cols&quot;: [\n",
       "            67,\n",
       "            62,\n",
       "            133,\n",
       "            255\n",
       "          ],\n",
       "          &quot;h3_id&quot;: &quot;87580a4c4ffffff&quot;\n",
       "        },\n",
       "        {\n",
       "          &quot;Q_var&quot;: 1,\n",
       "          &quot;cols&quot;: [\n",
       "            67,\n",
       "            62,\n",
       "            133,\n",
       "            255\n",
       "          ],\n",
       "          &quot;h3_id&quot;: &quot;87581d2f2ffffff&quot;\n",
       "        },\n",
       "        {\n",
       "          &quot;Q_var&quot;: 1,\n",
       "          &quot;cols&quot;: [\n",
       "            67,\n",
       "            62,\n",
       "            133,\n",
       "            255\n",
       "          ],\n",
       "          &quot;h3_id&quot;: &quot;87580a4d5ffffff&quot;\n",
       "        },\n",
       "        {\n",
       "          &quot;Q_var&quot;: 2,\n",
       "          &quot;cols&quot;: [\n",
       "            56,\n",
       "            88,\n",
       "            140,\n",
       "            255\n",
       "          ],\n",
       "          &quot;h3_id&quot;: &quot;8758182c6ffffff&quot;\n",
       "        },\n",
       "        {\n",
       "          &quot;Q_var&quot;: 1,\n",
       "          &quot;cols&quot;: [\n",
       "            67,\n",
       "            62,\n",
       "            133,\n",
       "            255\n",
       "          ],\n",
       "          &quot;h3_id&quot;: &quot;8758182cbffffff&quot;\n",
       "        },\n",
       "        {\n",
       "          &quot;Q_var&quot;: 1,\n",
       "          &quot;cols&quot;: [\n",
       "            67,\n",
       "            62,\n",
       "            133,\n",
       "            255\n",
       "          ],\n",
       "          &quot;h3_id&quot;: &quot;87580a6edffffff&quot;\n",
       "        },\n",
       "        {\n",
       "          &quot;Q_var&quot;: 1,\n",
       "          &quot;cols&quot;: [\n",
       "            67,\n",
       "            62,\n",
       "            133,\n",
       "            255\n",
       "          ],\n",
       "          &quot;h3_id&quot;: &quot;87581d31dffffff&quot;\n",
       "        },\n",
       "        {\n",
       "          &quot;Q_var&quot;: 1,\n",
       "          &quot;cols&quot;: [\n",
       "            67,\n",
       "            62,\n",
       "            133,\n",
       "            255\n",
       "          ],\n",
       "          &quot;h3_id&quot;: &quot;875819a21ffffff&quot;\n",
       "        },\n",
       "        {\n",
       "          &quot;Q_var&quot;: 1,\n",
       "          &quot;cols&quot;: [\n",
       "            67,\n",
       "            62,\n",
       "            133,\n",
       "            255\n",
       "          ],\n",
       "          &quot;h3_id&quot;: &quot;87580a6d6ffffff&quot;\n",
       "        },\n",
       "        {\n",
       "          &quot;Q_var&quot;: 1,\n",
       "          &quot;cols&quot;: [\n",
       "            67,\n",
       "            62,\n",
       "            133,\n",
       "            255\n",
       "          ],\n",
       "          &quot;h3_id&quot;: &quot;8758e42b1ffffff&quot;\n",
       "        },\n",
       "        {\n",
       "          &quot;Q_var&quot;: 1,\n",
       "          &quot;cols&quot;: [\n",
       "            67,\n",
       "            62,\n",
       "            133,\n",
       "            255\n",
       "          ],\n",
       "          &quot;h3_id&quot;: &quot;87581d244ffffff&quot;\n",
       "        },\n",
       "        {\n",
       "          &quot;Q_var&quot;: 1,\n",
       "          &quot;cols&quot;: [\n",
       "            67,\n",
       "            62,\n",
       "            133,\n",
       "            255\n",
       "          ],\n",
       "          &quot;h3_id&quot;: &quot;8758e4a74ffffff&quot;\n",
       "        },\n",
       "        {\n",
       "          &quot;Q_var&quot;: 1,\n",
       "          &quot;cols&quot;: [\n",
       "            67,\n",
       "            62,\n",
       "            133,\n",
       "            255\n",
       "          ],\n",
       "          &quot;h3_id&quot;: &quot;87580a6c9ffffff&quot;\n",
       "        },\n",
       "        {\n",
       "          &quot;Q_var&quot;: 1,\n",
       "          &quot;cols&quot;: [\n",
       "            67,\n",
       "            62,\n",
       "            133,\n",
       "            255\n",
       "          ],\n",
       "          &quot;h3_id&quot;: &quot;875819b2affffff&quot;\n",
       "        },\n",
       "        {\n",
       "          &quot;Q_var&quot;: 1,\n",
       "          &quot;cols&quot;: [\n",
       "            67,\n",
       "            62,\n",
       "            133,\n",
       "            255\n",
       "          ],\n",
       "          &quot;h3_id&quot;: &quot;8758e4c1cffffff&quot;\n",
       "        },\n",
       "        {\n",
       "          &quot;Q_var&quot;: 1,\n",
       "          &quot;cols&quot;: [\n",
       "            67,\n",
       "            62,\n",
       "            133,\n",
       "            255\n",
       "          ],\n",
       "          &quot;h3_id&quot;: &quot;87580a4c8ffffff&quot;\n",
       "        },\n",
       "        {\n",
       "          &quot;Q_var&quot;: 1,\n",
       "          &quot;cols&quot;: [\n",
       "            67,\n",
       "            62,\n",
       "            133,\n",
       "            255\n",
       "          ],\n",
       "          &quot;h3_id&quot;: &quot;875819b2bffffff&quot;\n",
       "        },\n",
       "        {\n",
       "          &quot;Q_var&quot;: 1,\n",
       "          &quot;cols&quot;: [\n",
       "            67,\n",
       "            62,\n",
       "            133,\n",
       "            255\n",
       "          ],\n",
       "          &quot;h3_id&quot;: &quot;875819771ffffff&quot;\n",
       "        },\n",
       "        {\n",
       "          &quot;Q_var&quot;: 1,\n",
       "          &quot;cols&quot;: [\n",
       "            67,\n",
       "            62,\n",
       "            133,\n",
       "            255\n",
       "          ],\n",
       "          &quot;h3_id&quot;: &quot;8758e42aeffffff&quot;\n",
       "        },\n",
       "        {\n",
       "          &quot;Q_var&quot;: 1,\n",
       "          &quot;cols&quot;: [\n",
       "            67,\n",
       "            62,\n",
       "            133,\n",
       "            255\n",
       "          ],\n",
       "          &quot;h3_id&quot;: &quot;87580a456ffffff&quot;\n",
       "        },\n",
       "        {\n",
       "          &quot;Q_var&quot;: 1,\n",
       "          &quot;cols&quot;: [\n",
       "            67,\n",
       "            62,\n",
       "            133,\n",
       "            255\n",
       "          ],\n",
       "          &quot;h3_id&quot;: &quot;87580a515ffffff&quot;\n",
       "        },\n",
       "        {\n",
       "          &quot;Q_var&quot;: 1,\n",
       "          &quot;cols&quot;: [\n",
       "            67,\n",
       "            62,\n",
       "            133,\n",
       "            255\n",
       "          ],\n",
       "          &quot;h3_id&quot;: &quot;875819b33ffffff&quot;\n",
       "        },\n",
       "        {\n",
       "          &quot;Q_var&quot;: 1,\n",
       "          &quot;cols&quot;: [\n",
       "            67,\n",
       "            62,\n",
       "            133,\n",
       "            255\n",
       "          ],\n",
       "          &quot;h3_id&quot;: &quot;875819b83ffffff&quot;\n",
       "        },\n",
       "        {\n",
       "          &quot;Q_var&quot;: 3,\n",
       "          &quot;cols&quot;: [\n",
       "            45,\n",
       "            112,\n",
       "            142,\n",
       "            255\n",
       "          ],\n",
       "          &quot;h3_id&quot;: &quot;87580a40bffffff&quot;\n",
       "        },\n",
       "        {\n",
       "          &quot;Q_var&quot;: 1,\n",
       "          &quot;cols&quot;: [\n",
       "            67,\n",
       "            62,\n",
       "            133,\n",
       "            255\n",
       "          ],\n",
       "          &quot;h3_id&quot;: &quot;875819ad9ffffff&quot;\n",
       "        },\n",
       "        {\n",
       "          &quot;Q_var&quot;: 1,\n",
       "          &quot;cols&quot;: [\n",
       "            67,\n",
       "            62,\n",
       "            133,\n",
       "            255\n",
       "          ],\n",
       "          &quot;h3_id&quot;: &quot;87581b966ffffff&quot;\n",
       "        },\n",
       "        {\n",
       "          &quot;Q_var&quot;: 1,\n",
       "          &quot;cols&quot;: [\n",
       "            67,\n",
       "            62,\n",
       "            133,\n",
       "            255\n",
       "          ],\n",
       "          &quot;h3_id&quot;: &quot;875819172ffffff&quot;\n",
       "        },\n",
       "        {\n",
       "          &quot;Q_var&quot;: 1,\n",
       "          &quot;cols&quot;: [\n",
       "            67,\n",
       "            62,\n",
       "            133,\n",
       "            255\n",
       "          ],\n",
       "          &quot;h3_id&quot;: &quot;8758198ecffffff&quot;\n",
       "        },\n",
       "        {\n",
       "          &quot;Q_var&quot;: 1,\n",
       "          &quot;cols&quot;: [\n",
       "            67,\n",
       "            62,\n",
       "            133,\n",
       "            255\n",
       "          ],\n",
       "          &quot;h3_id&quot;: &quot;87581916effffff&quot;\n",
       "        },\n",
       "        {\n",
       "          &quot;Q_var&quot;: 2,\n",
       "          &quot;cols&quot;: [\n",
       "            56,\n",
       "            88,\n",
       "            140,\n",
       "            255\n",
       "          ],\n",
       "          &quot;h3_id&quot;: &quot;87580b96cffffff&quot;\n",
       "        },\n",
       "        {\n",
       "          &quot;Q_var&quot;: 1,\n",
       "          &quot;cols&quot;: [\n",
       "            67,\n",
       "            62,\n",
       "            133,\n",
       "            255\n",
       "          ],\n",
       "          &quot;h3_id&quot;: &quot;8758190f5ffffff&quot;\n",
       "        },\n",
       "        {\n",
       "          &quot;Q_var&quot;: 1,\n",
       "          &quot;cols&quot;: [\n",
       "            67,\n",
       "            62,\n",
       "            133,\n",
       "            255\n",
       "          ],\n",
       "          &quot;h3_id&quot;: &quot;87580a45effffff&quot;\n",
       "        },\n",
       "        {\n",
       "          &quot;Q_var&quot;: 4,\n",
       "          &quot;cols&quot;: [\n",
       "            45,\n",
       "            112,\n",
       "            142,\n",
       "            255\n",
       "          ],\n",
       "          &quot;h3_id&quot;: &quot;87580a4c5ffffff&quot;\n",
       "        },\n",
       "        {\n",
       "          &quot;Q_var&quot;: 1,\n",
       "          &quot;cols&quot;: [\n",
       "            67,\n",
       "            62,\n",
       "            133,\n",
       "            255\n",
       "          ],\n",
       "          &quot;h3_id&quot;: &quot;8758198c1ffffff&quot;\n",
       "        },\n",
       "        {\n",
       "          &quot;Q_var&quot;: 33,\n",
       "          &quot;cols&quot;: [\n",
       "            134,\n",
       "            213,\n",
       "            73,\n",
       "            255\n",
       "          ],\n",
       "          &quot;h3_id&quot;: &quot;87581d653ffffff&quot;\n",
       "        },\n",
       "        {\n",
       "          &quot;Q_var&quot;: 1,\n",
       "          &quot;cols&quot;: [\n",
       "            67,\n",
       "            62,\n",
       "            133,\n",
       "            255\n",
       "          ],\n",
       "          &quot;h3_id&quot;: &quot;875819a76ffffff&quot;\n",
       "        },\n",
       "        {\n",
       "          &quot;Q_var&quot;: 1,\n",
       "          &quot;cols&quot;: [\n",
       "            67,\n",
       "            62,\n",
       "            133,\n",
       "            255\n",
       "          ],\n",
       "          &quot;h3_id&quot;: &quot;8758182caffffff&quot;\n",
       "        },\n",
       "        {\n",
       "          &quot;Q_var&quot;: 1,\n",
       "          &quot;cols&quot;: [\n",
       "            67,\n",
       "            62,\n",
       "            133,\n",
       "            255\n",
       "          ],\n",
       "          &quot;h3_id&quot;: &quot;87580a414ffffff&quot;\n",
       "        },\n",
       "        {\n",
       "          &quot;Q_var&quot;: 1,\n",
       "          &quot;cols&quot;: [\n",
       "            67,\n",
       "            62,\n",
       "            133,\n",
       "            255\n",
       "          ],\n",
       "          &quot;h3_id&quot;: &quot;8758e4544ffffff&quot;\n",
       "        },\n",
       "        {\n",
       "          &quot;Q_var&quot;: 1,\n",
       "          &quot;cols&quot;: [\n",
       "            67,\n",
       "            62,\n",
       "            133,\n",
       "            255\n",
       "          ],\n",
       "          &quot;h3_id&quot;: &quot;87580b6b4ffffff&quot;\n",
       "        },\n",
       "        {\n",
       "          &quot;Q_var&quot;: 2,\n",
       "          &quot;cols&quot;: [\n",
       "            56,\n",
       "            88,\n",
       "            140,\n",
       "            255\n",
       "          ],\n",
       "          &quot;h3_id&quot;: &quot;87580a4e2ffffff&quot;\n",
       "        },\n",
       "        {\n",
       "          &quot;Q_var&quot;: 1,\n",
       "          &quot;cols&quot;: [\n",
       "            67,\n",
       "            62,\n",
       "            133,\n",
       "            255\n",
       "          ],\n",
       "          &quot;h3_id&quot;: &quot;8758e48c2ffffff&quot;\n",
       "        },\n",
       "        {\n",
       "          &quot;Q_var&quot;: 1,\n",
       "          &quot;cols&quot;: [\n",
       "            67,\n",
       "            62,\n",
       "            133,\n",
       "            255\n",
       "          ],\n",
       "          &quot;h3_id&quot;: &quot;8758e439bffffff&quot;\n",
       "        },\n",
       "        {\n",
       "          &quot;Q_var&quot;: 1,\n",
       "          &quot;cols&quot;: [\n",
       "            67,\n",
       "            62,\n",
       "            133,\n",
       "            255\n",
       "          ],\n",
       "          &quot;h3_id&quot;: &quot;8758192b3ffffff&quot;\n",
       "        },\n",
       "        {\n",
       "          &quot;Q_var&quot;: 1,\n",
       "          &quot;cols&quot;: [\n",
       "            67,\n",
       "            62,\n",
       "            133,\n",
       "            255\n",
       "          ],\n",
       "          &quot;h3_id&quot;: &quot;87580a6b4ffffff&quot;\n",
       "        },\n",
       "        {\n",
       "          &quot;Q_var&quot;: 1,\n",
       "          &quot;cols&quot;: [\n",
       "            67,\n",
       "            62,\n",
       "            133,\n",
       "            255\n",
       "          ],\n",
       "          &quot;h3_id&quot;: &quot;8758e42b5ffffff&quot;\n",
       "        },\n",
       "        {\n",
       "          &quot;Q_var&quot;: 1,\n",
       "          &quot;cols&quot;: [\n",
       "            67,\n",
       "            62,\n",
       "            133,\n",
       "            255\n",
       "          ],\n",
       "          &quot;h3_id&quot;: &quot;87581d2e4ffffff&quot;\n",
       "        }\n",
       "      ],\n",
       "      &quot;extruded&quot;: false,\n",
       "      &quot;filled&quot;: true,\n",
       "      &quot;getFillColor&quot;: &quot;@@=cols&quot;,\n",
       "      &quot;getHexagon&quot;: &quot;@@=h3_id&quot;,\n",
       "      &quot;getLineColor&quot;: [\n",
       "        255,\n",
       "        255,\n",
       "        255,\n",
       "        0\n",
       "      ],\n",
       "      &quot;id&quot;: &quot;87848a4d-2423-4b16-9fbf-dffafcd57a61&quot;,\n",
       "      &quot;lineWidthMinPixels&quot;: 1,\n",
       "      &quot;pickable&quot;: true,\n",
       "      &quot;stroked&quot;: true\n",
       "    }\n",
       "  ],\n",
       "  &quot;mapProvider&quot;: &quot;carto&quot;,\n",
       "  &quot;mapStyle&quot;: &quot;https://basemaps.cartocdn.com/gl/dark-matter-gl-style/style.json&quot;,\n",
       "  &quot;views&quot;: [\n",
       "    {\n",
       "      &quot;@@type&quot;: &quot;MapView&quot;,\n",
       "      &quot;controller&quot;: true\n",
       "    }\n",
       "  ]\n",
       "};\n",
       "    const tooltip = {&#x27;text&#x27;: &#x27;Layer value: {Q_var}&#x27;};\n",
       "    const customLibraries = null;\n",
       "    const configuration = null;\n",
       "\n",
       "    const deckInstance = createDeck({\n",
       "                  container,\n",
       "      jsonInput,\n",
       "      tooltip,\n",
       "      customLibraries,\n",
       "      configuration\n",
       "    });\n",
       "\n",
       "  &lt;/script&gt;\n",
       "&lt;/html&gt;\"\n",
       "        ></iframe>\n",
       "    "
      ],
      "text/plain": [
       "<IPython.core.display.HTML object>"
      ]
     },
     "execution_count": 123,
     "metadata": {},
     "output_type": "execute_result"
    }
   ],
   "source": [
    "\n",
    "# Define a layer to display on a map\n",
    "layer = pdk.Layer(\n",
    "    \"H3HexagonLayer\",\n",
    "    pred_layers_plot_df,\n",
    "    pickable=True,\n",
    "    stroked=True,\n",
    "    filled=True,\n",
    "    extruded=False,\n",
    "    get_hexagon=\"h3_id\",\n",
    "    get_fill_color=\"cols\",\n",
    "    get_line_color=[255, 255, 255, 0],\n",
    "    line_width_min_pixels=1,\n",
    ")\n",
    "\n",
    "# Set the viewport location\n",
    "view_state = pdk.ViewState(latitude=np.mean(bbox[1::2]), longitude=np.mean(bbox[0::2]), zoom=9, bearing=0, pitch=30)\n",
    "\n",
    "\n",
    "# Render\n",
    "r = pdk.Deck(layers=[layer], initial_view_state=view_state, tooltip={\"text\": \"Layer value: {Q_var}\"})\n",
    "r.to_html(\"../deck_maps/h3_predictor_layer.html\", open_browser=True)"
   ]
  },
  {
   "cell_type": "code",
   "execution_count": null,
   "metadata": {},
   "outputs": [],
   "source": []
  }
 ],
 "metadata": {
  "kernelspec": {
   "display_name": "Python 3",
   "language": "python",
   "name": "python3"
  },
  "language_info": {
   "codemirror_mode": {
    "name": "ipython",
    "version": 3
   },
   "file_extension": ".py",
   "mimetype": "text/x-python",
   "name": "python",
   "nbconvert_exporter": "python",
   "pygments_lexer": "ipython3",
   "version": "3.12.5"
  }
 },
 "nbformat": 4,
 "nbformat_minor": 2
}
