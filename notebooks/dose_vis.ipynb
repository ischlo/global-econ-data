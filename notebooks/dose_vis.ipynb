{
 "cells": [
  {
   "cell_type": "markdown",
   "metadata": {},
   "source": [
    "## Close up on DOSE"
   ]
  },
  {
   "cell_type": "code",
   "execution_count": 1,
   "metadata": {},
   "outputs": [],
   "source": [
    "import pydeck as pdk\n",
    "import ibis as ib\n",
    "from ibis import _\n",
    "import pandas as pd\n",
    "import geopandas as gpd\n",
    "import pydeck as pdk\n",
    "import shapely\n",
    "import numpy as np\n",
    "import json\n",
    "import io\n",
    "\n",
    "ib.options.interactive = True\n",
    "import pypalettes\n",
    "import duckdb as ddb"
   ]
  },
  {
   "cell_type": "code",
   "execution_count": 2,
   "metadata": {},
   "outputs": [],
   "source": [
    "# Method to plot polygons taken from: https://thedatasavvycorner.com/blogs/10-pydeck-with-gpd\n",
    "\n",
    "# common paremeters to the deck maps\n",
    "lat_center = 0\n",
    "lon_center = 0\n",
    "\n",
    "view_state = pdk.ViewState(latitude=lat_center\n",
    "                           ,longitude=lon_center\n",
    "                           ,zoom=1\n",
    "                           ,bearing=0\n",
    "                           ,pitch=0)\n",
    "\n",
    "\n"
   ]
  },
  {
   "cell_type": "markdown",
   "metadata": {},
   "source": [
    "## Data\n",
    "\n",
    "From: https://www.nature.com/articles/s41597-023-02323-8"
   ]
  },
  {
   "cell_type": "code",
   "execution_count": 3,
   "metadata": {},
   "outputs": [
    {
     "ename": "DataSourceError",
     "evalue": "datasets/DOSE/DOSE_shapefiles.gpkg: No such file or directory",
     "output_type": "error",
     "traceback": [
      "\u001b[0;31m---------------------------------------------------------------------------\u001b[0m\n",
      "\u001b[0;31mDataSourceError\u001b[0m                           Traceback (most recent call last)\n",
      "Cell \u001b[0;32mIn[3], line 2\u001b[0m\n",
      "\u001b[1;32m      1\u001b[0m dose_gpkg \u001b[38;5;241m=\u001b[39m \u001b[38;5;124m\"\u001b[39m\u001b[38;5;124mdatasets/DOSE/DOSE_shapefiles.gpkg\u001b[39m\u001b[38;5;124m\"\u001b[39m\n",
      "\u001b[0;32m----> 2\u001b[0m \u001b[43mgpd\u001b[49m\u001b[38;5;241;43m.\u001b[39;49m\u001b[43mlist_layers\u001b[49m\u001b[43m(\u001b[49m\u001b[43mdose_gpkg\u001b[49m\u001b[43m)\u001b[49m\n",
      "\n",
      "File \u001b[0;32m~/micromamba/envs/global-data/lib/python3.12/site-packages/geopandas/io/file.py:850\u001b[0m, in \u001b[0;36m_list_layers\u001b[0;34m(filename)\u001b[0m\n",
      "\u001b[1;32m    845\u001b[0m _check_pyogrio(\u001b[38;5;124m\"\u001b[39m\u001b[38;5;124mlist_layers\u001b[39m\u001b[38;5;124m\"\u001b[39m)\n",
      "\u001b[1;32m    847\u001b[0m \u001b[38;5;28;01mimport\u001b[39;00m \u001b[38;5;21;01mpyogrio\u001b[39;00m\n",
      "\u001b[1;32m    849\u001b[0m \u001b[38;5;28;01mreturn\u001b[39;00m pd\u001b[38;5;241m.\u001b[39mDataFrame(\n",
      "\u001b[0;32m--> 850\u001b[0m     \u001b[43mpyogrio\u001b[49m\u001b[38;5;241;43m.\u001b[39;49m\u001b[43mlist_layers\u001b[49m\u001b[43m(\u001b[49m\u001b[43mfilename\u001b[49m\u001b[43m)\u001b[49m, columns\u001b[38;5;241m=\u001b[39m[\u001b[38;5;124m\"\u001b[39m\u001b[38;5;124mname\u001b[39m\u001b[38;5;124m\"\u001b[39m, \u001b[38;5;124m\"\u001b[39m\u001b[38;5;124mgeometry_type\u001b[39m\u001b[38;5;124m\"\u001b[39m]\n",
      "\u001b[1;32m    851\u001b[0m )\n",
      "\n",
      "File \u001b[0;32m~/micromamba/envs/global-data/lib/python3.12/site-packages/pyogrio/core.py:117\u001b[0m, in \u001b[0;36mlist_layers\u001b[0;34m(path_or_buffer)\u001b[0m\n",
      "\u001b[1;32m    101\u001b[0m \u001b[38;5;28;01mdef\u001b[39;00m \u001b[38;5;21mlist_layers\u001b[39m(path_or_buffer, \u001b[38;5;241m/\u001b[39m):\n",
      "\u001b[1;32m    102\u001b[0m \u001b[38;5;250m    \u001b[39m\u001b[38;5;124;03m\"\"\"List layers available in an OGR data source.\u001b[39;00m\n",
      "\u001b[1;32m    103\u001b[0m \n",
      "\u001b[1;32m    104\u001b[0m \u001b[38;5;124;03m    NOTE: includes both spatial and nonspatial layers.\u001b[39;00m\n",
      "\u001b[0;32m   (...)\u001b[0m\n",
      "\u001b[1;32m    114\u001b[0m \u001b[38;5;124;03m        Note: geometry is `None` for nonspatial layers.\u001b[39;00m\n",
      "\u001b[1;32m    115\u001b[0m \u001b[38;5;124;03m    \"\"\"\u001b[39;00m\n",
      "\u001b[0;32m--> 117\u001b[0m     \u001b[38;5;28;01mreturn\u001b[39;00m \u001b[43mogr_list_layers\u001b[49m\u001b[43m(\u001b[49m\u001b[43mget_vsi_path_or_buffer\u001b[49m\u001b[43m(\u001b[49m\u001b[43mpath_or_buffer\u001b[49m\u001b[43m)\u001b[49m\u001b[43m)\u001b[49m\n",
      "\n",
      "File \u001b[0;32m~/micromamba/envs/global-data/lib/python3.12/site-packages/pyogrio/_io.pyx:1842\u001b[0m, in \u001b[0;36mpyogrio._io.ogr_list_layers\u001b[0;34m()\u001b[0m\n",
      "\n",
      "File \u001b[0;32m~/micromamba/envs/global-data/lib/python3.12/site-packages/pyogrio/_io.pyx:219\u001b[0m, in \u001b[0;36mpyogrio._io.ogr_open\u001b[0;34m()\u001b[0m\n",
      "\n",
      "\u001b[0;31mDataSourceError\u001b[0m: datasets/DOSE/DOSE_shapefiles.gpkg: No such file or directory"
     ]
    }
   ],
   "source": [
    "dose_gpkg = \"datasets/DOSE/DOSE_shapefiles.gpkg\"\n",
    "gpd.list_layers(dose_gpkg)"
   ]
  },
  {
   "cell_type": "code",
   "execution_count": null,
   "metadata": {},
   "outputs": [
    {
     "name": "stderr",
     "output_type": "stream",
     "text": [
      "/Users/cenv1069/micromamba/envs/global-data/lib/python3.12/site-packages/pyogrio/geopandas.py:261: UserWarning: More than one layer found in 'DOSE_shapefiles.gpkg': 'all_non_GADM_regions' (default), 'layer_styles'. Specify layer parameter to avoid this warning.\n",
      "  result = read_func(\n"
     ]
    }
   ],
   "source": [
    "dose = gpd.read_file(dose_gpkg)"
   ]
  },
  {
   "cell_type": "code",
   "execution_count": null,
   "metadata": {},
   "outputs": [],
   "source": [
    "dose_csv = ib.read_csv(\"datasets/DOSE/DOSE_V2.csv\",table_name=\"dose\",ignore_errors=True)"
   ]
  },
  {
   "cell_type": "code",
   "execution_count": null,
   "metadata": {},
   "outputs": [
    {
     "name": "stdout",
     "output_type": "stream",
     "text": [
      "(73, 11)\n"
     ]
    },
    {
     "data": {
      "text/html": [
       "<div>\n",
       "<style scoped>\n",
       "    .dataframe tbody tr th:only-of-type {\n",
       "        vertical-align: middle;\n",
       "    }\n",
       "\n",
       "    .dataframe tbody tr th {\n",
       "        vertical-align: top;\n",
       "    }\n",
       "\n",
       "    .dataframe thead th {\n",
       "        text-align: right;\n",
       "    }\n",
       "</style>\n",
       "<table border=\"1\" class=\"dataframe\">\n",
       "  <thead>\n",
       "    <tr style=\"text-align: right;\">\n",
       "      <th></th>\n",
       "      <th>GID_0</th>\n",
       "      <th>NAME_0</th>\n",
       "      <th>GID_1</th>\n",
       "      <th>NAME_1</th>\n",
       "      <th>VARNAME_1</th>\n",
       "      <th>NL_NAME_1</th>\n",
       "      <th>TYPE_1</th>\n",
       "      <th>ENGTYPE_1</th>\n",
       "      <th>CC_1</th>\n",
       "      <th>HASC_1</th>\n",
       "      <th>geometry</th>\n",
       "    </tr>\n",
       "  </thead>\n",
       "  <tbody>\n",
       "    <tr>\n",
       "      <th>0</th>\n",
       "      <td>PHL</td>\n",
       "      <td>Philippines</td>\n",
       "      <td>PHL.110_1</td>\n",
       "      <td>Cordillera Administrative Region</td>\n",
       "      <td>None</td>\n",
       "      <td>None</td>\n",
       "      <td>None</td>\n",
       "      <td>None</td>\n",
       "      <td>None</td>\n",
       "      <td>None</td>\n",
       "      <td>MULTIPOLYGON Z (((121.22208 18.50058 0, 121.22...</td>\n",
       "    </tr>\n",
       "    <tr>\n",
       "      <th>1</th>\n",
       "      <td>PHL</td>\n",
       "      <td>Philippines</td>\n",
       "      <td>PHL.111_1</td>\n",
       "      <td>National Capital Region</td>\n",
       "      <td>None</td>\n",
       "      <td>None</td>\n",
       "      <td>None</td>\n",
       "      <td>None</td>\n",
       "      <td>None</td>\n",
       "      <td>None</td>\n",
       "      <td>MULTIPOLYGON Z (((121.03842 14.78525 0, 121.03...</td>\n",
       "    </tr>\n",
       "    <tr>\n",
       "      <th>2</th>\n",
       "      <td>PHL</td>\n",
       "      <td>Philippines</td>\n",
       "      <td>PHL.112_1</td>\n",
       "      <td>Ilocos Region</td>\n",
       "      <td>None</td>\n",
       "      <td>None</td>\n",
       "      <td>None</td>\n",
       "      <td>None</td>\n",
       "      <td>None</td>\n",
       "      <td>None</td>\n",
       "      <td>MULTIPOLYGON Z (((119.86596 15.81539 0, 119.86...</td>\n",
       "    </tr>\n",
       "    <tr>\n",
       "      <th>3</th>\n",
       "      <td>PHL</td>\n",
       "      <td>Philippines</td>\n",
       "      <td>PHL.113_1</td>\n",
       "      <td>Cagayan Valley</td>\n",
       "      <td>None</td>\n",
       "      <td>None</td>\n",
       "      <td>None</td>\n",
       "      <td>None</td>\n",
       "      <td>None</td>\n",
       "      <td>None</td>\n",
       "      <td>MULTIPOLYGON Z (((122.46667 16.92135 0, 122.46...</td>\n",
       "    </tr>\n",
       "    <tr>\n",
       "      <th>4</th>\n",
       "      <td>PHL</td>\n",
       "      <td>Philippines</td>\n",
       "      <td>PHL.114_1</td>\n",
       "      <td>Central Luzon</td>\n",
       "      <td>None</td>\n",
       "      <td>None</td>\n",
       "      <td>None</td>\n",
       "      <td>None</td>\n",
       "      <td>None</td>\n",
       "      <td>None</td>\n",
       "      <td>MULTIPOLYGON Z (((120.11687 14.76309 0, 120.11...</td>\n",
       "    </tr>\n",
       "  </tbody>\n",
       "</table>\n",
       "</div>"
      ],
      "text/plain": [
       "  GID_0       NAME_0      GID_1                            NAME_1 VARNAME_1  \\\n",
       "0   PHL  Philippines  PHL.110_1  Cordillera Administrative Region      None   \n",
       "1   PHL  Philippines  PHL.111_1           National Capital Region      None   \n",
       "2   PHL  Philippines  PHL.112_1                     Ilocos Region      None   \n",
       "3   PHL  Philippines  PHL.113_1                    Cagayan Valley      None   \n",
       "4   PHL  Philippines  PHL.114_1                     Central Luzon      None   \n",
       "\n",
       "  NL_NAME_1 TYPE_1 ENGTYPE_1  CC_1 HASC_1  \\\n",
       "0      None   None      None  None   None   \n",
       "1      None   None      None  None   None   \n",
       "2      None   None      None  None   None   \n",
       "3      None   None      None  None   None   \n",
       "4      None   None      None  None   None   \n",
       "\n",
       "                                            geometry  \n",
       "0  MULTIPOLYGON Z (((121.22208 18.50058 0, 121.22...  \n",
       "1  MULTIPOLYGON Z (((121.03842 14.78525 0, 121.03...  \n",
       "2  MULTIPOLYGON Z (((119.86596 15.81539 0, 119.86...  \n",
       "3  MULTIPOLYGON Z (((122.46667 16.92135 0, 122.46...  \n",
       "4  MULTIPOLYGON Z (((120.11687 14.76309 0, 120.11...  "
      ]
     },
     "execution_count": 7,
     "metadata": {},
     "output_type": "execute_result"
    }
   ],
   "source": [
    "print(dose.shape)\n",
    "dose.head()"
   ]
  },
  {
   "cell_type": "code",
   "execution_count": null,
   "metadata": {},
   "outputs": [
    {
     "data": {
      "text/html": [
       "<pre style=\"white-space:pre;overflow-x:auto;line-height:normal;font-family:Menlo,'DejaVu Sans Mono',consolas,'Courier New',monospace\">┏━━━━━━━━━┳━━━━━━━━┳━━━━━━━━┳━━━━━━━━━┳━━━━━━━┳━━━━━━━━━━━━━━┳━━━━━━━━┳━━━━━━━━━━━━┳━━━━━━━━━━━━━━━┳━━━━━━━━━━━━━━━━┳━━━━━━━━━━━━━━━━━┳━━━━━━━━━━━━━┳━━━━━━━━━━━━━━━┳━━━━━━━━━━━━━━━━┳━━━━━━━━━━━━━━━━━┳━━━━━━━━━━━━━━━━━┳━━━━━━━━━━━━━━━━━━━━┳━━━━━━━━━━━━━━━━━━━━━┳━━━━━━━━━━━━━━━━━━━━━━┳━━━━━━━━━━━━━━━━━┳━━━━━━━━━━━━━━━━━━━━┳━━━━━━━━━━━━━━━━━━━━━┳━━━━━━━━━━━━━━━━━━━━━━┳━━━━━━━━━━━━━━━━━━━━┳━━━━━━━━━━━━━━━━━━━━━━━┳━━━━━━━━━━━━━━━━━━━━━━━━┳━━━━━━━━━━━━━━━━━━━━━━━━━┳━━━━━━━━━━━━┳━━━━━━━━━━━━━━━┳━━━━━━━━━━━━┳━━━━━━━━━━━┳━━━━━━━━━━━━━━┳━━━━━━━━━┳━━━━━━━━━━━┳━━━━━━━━━━━━━┓\n",
       "┃<span style=\"font-weight: bold\"> country </span>┃<span style=\"font-weight: bold\"> region </span>┃<span style=\"font-weight: bold\"> GID_0  </span>┃<span style=\"font-weight: bold\"> GID_1   </span>┃<span style=\"font-weight: bold\"> year  </span>┃<span style=\"font-weight: bold\"> grp_lcu      </span>┃<span style=\"font-weight: bold\"> pop    </span>┃<span style=\"font-weight: bold\"> grp_pc_lcu </span>┃<span style=\"font-weight: bold\"> ag_grp_pc_lcu </span>┃<span style=\"font-weight: bold\"> man_grp_pc_lcu </span>┃<span style=\"font-weight: bold\"> serv_grp_pc_lcu </span>┃<span style=\"font-weight: bold\"> grp_pc_usd  </span>┃<span style=\"font-weight: bold\"> ag_grp_pc_usd </span>┃<span style=\"font-weight: bold\"> man_grp_pc_usd </span>┃<span style=\"font-weight: bold\"> serv_grp_pc_usd </span>┃<span style=\"font-weight: bold\"> grp_pc_lcu_2015 </span>┃<span style=\"font-weight: bold\"> ag_grp_pc_lcu_2015 </span>┃<span style=\"font-weight: bold\"> man_grp_pc_lcu_2015 </span>┃<span style=\"font-weight: bold\"> serv_grp_pc_lcu_2015 </span>┃<span style=\"font-weight: bold\"> grp_pc_usd_2015 </span>┃<span style=\"font-weight: bold\"> ag_grp_pc_usd_2015 </span>┃<span style=\"font-weight: bold\"> man_grp_pc_usd_2015 </span>┃<span style=\"font-weight: bold\"> serv_grp_pc_usd_2015 </span>┃<span style=\"font-weight: bold\"> grp_pc_lcu2015_usd </span>┃<span style=\"font-weight: bold\"> ag_grp_pc_lcu2015_usd </span>┃<span style=\"font-weight: bold\"> man_grp_pc_lcu2015_usd </span>┃<span style=\"font-weight: bold\"> serv_grp_pc_lcu2015_usd </span>┃<span style=\"font-weight: bold\"> cpi_2015   </span>┃<span style=\"font-weight: bold\"> deflator_2015 </span>┃<span style=\"font-weight: bold\"> fx         </span>┃<span style=\"font-weight: bold\"> PPP       </span>┃<span style=\"font-weight: bold\"> StructChange </span>┃<span style=\"font-weight: bold\"> version </span>┃<span style=\"font-weight: bold\"> T_a       </span>┃<span style=\"font-weight: bold\"> P_a         </span>┃\n",
       "┡━━━━━━━━━╇━━━━━━━━╇━━━━━━━━╇━━━━━━━━━╇━━━━━━━╇━━━━━━━━━━━━━━╇━━━━━━━━╇━━━━━━━━━━━━╇━━━━━━━━━━━━━━━╇━━━━━━━━━━━━━━━━╇━━━━━━━━━━━━━━━━━╇━━━━━━━━━━━━━╇━━━━━━━━━━━━━━━╇━━━━━━━━━━━━━━━━╇━━━━━━━━━━━━━━━━━╇━━━━━━━━━━━━━━━━━╇━━━━━━━━━━━━━━━━━━━━╇━━━━━━━━━━━━━━━━━━━━━╇━━━━━━━━━━━━━━━━━━━━━━╇━━━━━━━━━━━━━━━━━╇━━━━━━━━━━━━━━━━━━━━╇━━━━━━━━━━━━━━━━━━━━━╇━━━━━━━━━━━━━━━━━━━━━━╇━━━━━━━━━━━━━━━━━━━━╇━━━━━━━━━━━━━━━━━━━━━━━╇━━━━━━━━━━━━━━━━━━━━━━━━╇━━━━━━━━━━━━━━━━━━━━━━━━━╇━━━━━━━━━━━━╇━━━━━━━━━━━━━━━╇━━━━━━━━━━━━╇━━━━━━━━━━━╇━━━━━━━━━━━━━━╇━━━━━━━━━╇━━━━━━━━━━━╇━━━━━━━━━━━━━┩\n",
       "│ <span style=\"color: #7f7f7f; text-decoration-color: #7f7f7f\">string</span>  │ <span style=\"color: #7f7f7f; text-decoration-color: #7f7f7f\">string</span> │ <span style=\"color: #7f7f7f; text-decoration-color: #7f7f7f\">string</span> │ <span style=\"color: #7f7f7f; text-decoration-color: #7f7f7f\">string</span>  │ <span style=\"color: #7f7f7f; text-decoration-color: #7f7f7f\">int64</span> │ <span style=\"color: #7f7f7f; text-decoration-color: #7f7f7f\">float64</span>      │ <span style=\"color: #7f7f7f; text-decoration-color: #7f7f7f\">int64</span>  │ <span style=\"color: #7f7f7f; text-decoration-color: #7f7f7f\">float64</span>    │ <span style=\"color: #7f7f7f; text-decoration-color: #7f7f7f\">float64</span>       │ <span style=\"color: #7f7f7f; text-decoration-color: #7f7f7f\">float64</span>        │ <span style=\"color: #7f7f7f; text-decoration-color: #7f7f7f\">float64</span>         │ <span style=\"color: #7f7f7f; text-decoration-color: #7f7f7f\">float64</span>     │ <span style=\"color: #7f7f7f; text-decoration-color: #7f7f7f\">float64</span>       │ <span style=\"color: #7f7f7f; text-decoration-color: #7f7f7f\">float64</span>        │ <span style=\"color: #7f7f7f; text-decoration-color: #7f7f7f\">float64</span>         │ <span style=\"color: #7f7f7f; text-decoration-color: #7f7f7f\">float64</span>         │ <span style=\"color: #7f7f7f; text-decoration-color: #7f7f7f\">float64</span>            │ <span style=\"color: #7f7f7f; text-decoration-color: #7f7f7f\">float64</span>             │ <span style=\"color: #7f7f7f; text-decoration-color: #7f7f7f\">float64</span>              │ <span style=\"color: #7f7f7f; text-decoration-color: #7f7f7f\">float64</span>         │ <span style=\"color: #7f7f7f; text-decoration-color: #7f7f7f\">float64</span>            │ <span style=\"color: #7f7f7f; text-decoration-color: #7f7f7f\">float64</span>             │ <span style=\"color: #7f7f7f; text-decoration-color: #7f7f7f\">float64</span>              │ <span style=\"color: #7f7f7f; text-decoration-color: #7f7f7f\">float64</span>            │ <span style=\"color: #7f7f7f; text-decoration-color: #7f7f7f\">float64</span>               │ <span style=\"color: #7f7f7f; text-decoration-color: #7f7f7f\">float64</span>                │ <span style=\"color: #7f7f7f; text-decoration-color: #7f7f7f\">float64</span>                 │ <span style=\"color: #7f7f7f; text-decoration-color: #7f7f7f\">float64</span>    │ <span style=\"color: #7f7f7f; text-decoration-color: #7f7f7f\">float64</span>       │ <span style=\"color: #7f7f7f; text-decoration-color: #7f7f7f\">float64</span>    │ <span style=\"color: #7f7f7f; text-decoration-color: #7f7f7f\">float64</span>   │ <span style=\"color: #7f7f7f; text-decoration-color: #7f7f7f\">int64</span>        │ <span style=\"color: #7f7f7f; text-decoration-color: #7f7f7f\">float64</span> │ <span style=\"color: #7f7f7f; text-decoration-color: #7f7f7f\">float64</span>   │ <span style=\"color: #7f7f7f; text-decoration-color: #7f7f7f\">float64</span>     │\n",
       "├─────────┼────────┼────────┼─────────┼───────┼──────────────┼────────┼────────────┼───────────────┼────────────────┼─────────────────┼─────────────┼───────────────┼────────────────┼─────────────────┼─────────────────┼────────────────────┼─────────────────────┼──────────────────────┼─────────────────┼────────────────────┼─────────────────────┼──────────────────────┼────────────────────┼───────────────────────┼────────────────────────┼─────────────────────────┼────────────┼───────────────┼────────────┼───────────┼──────────────┼─────────┼───────────┼─────────────┤\n",
       "│ <span style=\"color: #008000; text-decoration-color: #008000\">Albania</span> │ <span style=\"color: #008000; text-decoration-color: #008000\">Berat </span> │ <span style=\"color: #008000; text-decoration-color: #008000\">ALB   </span> │ <span style=\"color: #008000; text-decoration-color: #008000\">ALB.1_1</span> │  <span style=\"color: #008080; text-decoration-color: #008080; font-weight: bold\">2010</span> │ <span style=\"color: #008080; text-decoration-color: #008080; font-weight: bold\">4.941607e+10</span> │ <span style=\"color: #008080; text-decoration-color: #008080; font-weight: bold\">151375</span> │   <span style=\"color: #008080; text-decoration-color: #008080; font-weight: bold\">326448.0</span> │          <span style=\"color: #7f7f7f; text-decoration-color: #7f7f7f\">NULL</span> │           <span style=\"color: #7f7f7f; text-decoration-color: #7f7f7f\">NULL</span> │            <span style=\"color: #7f7f7f; text-decoration-color: #7f7f7f\">NULL</span> │ <span style=\"color: #008080; text-decoration-color: #008080; font-weight: bold\">3140.842514</span> │          <span style=\"color: #7f7f7f; text-decoration-color: #7f7f7f\">NULL</span> │           <span style=\"color: #7f7f7f; text-decoration-color: #7f7f7f\">NULL</span> │            <span style=\"color: #7f7f7f; text-decoration-color: #7f7f7f\">NULL</span> │     <span style=\"color: #008080; text-decoration-color: #008080; font-weight: bold\">345645.9835</span> │               <span style=\"color: #7f7f7f; text-decoration-color: #7f7f7f\">NULL</span> │                <span style=\"color: #7f7f7f; text-decoration-color: #7f7f7f\">NULL</span> │                 <span style=\"color: #7f7f7f; text-decoration-color: #7f7f7f\">NULL</span> │     <span style=\"color: #008080; text-decoration-color: #008080; font-weight: bold\">3419.068968</span> │               <span style=\"color: #7f7f7f; text-decoration-color: #7f7f7f\">NULL</span> │                <span style=\"color: #7f7f7f; text-decoration-color: #7f7f7f\">NULL</span> │                 <span style=\"color: #7f7f7f; text-decoration-color: #7f7f7f\">NULL</span> │        <span style=\"color: #008080; text-decoration-color: #008080; font-weight: bold\">2744.075141</span> │                  <span style=\"color: #7f7f7f; text-decoration-color: #7f7f7f\">NULL</span> │                   <span style=\"color: #7f7f7f; text-decoration-color: #7f7f7f\">NULL</span> │                    <span style=\"color: #7f7f7f; text-decoration-color: #7f7f7f\">NULL</span> │ <span style=\"color: #008080; text-decoration-color: #008080; font-weight: bold\">104.742951</span> │     <span style=\"color: #008080; text-decoration-color: #008080; font-weight: bold\">94.445767</span> │ <span style=\"color: #008080; text-decoration-color: #008080; font-weight: bold\">103.936443</span> │ <span style=\"color: #008080; text-decoration-color: #008080; font-weight: bold\">44.196214</span> │            <span style=\"color: #008080; text-decoration-color: #008080; font-weight: bold\">0</span> │     <span style=\"color: #008080; text-decoration-color: #008080; font-weight: bold\">2.0</span> │ <span style=\"color: #008080; text-decoration-color: #008080; font-weight: bold\">13.123768</span> │ <span style=\"color: #008080; text-decoration-color: #008080; font-weight: bold\">1573.116224</span> │\n",
       "│ <span style=\"color: #008000; text-decoration-color: #008000\">Albania</span> │ <span style=\"color: #008000; text-decoration-color: #008000\">Berat </span> │ <span style=\"color: #008000; text-decoration-color: #008000\">ALB   </span> │ <span style=\"color: #008000; text-decoration-color: #008000\">ALB.1_1</span> │  <span style=\"color: #008080; text-decoration-color: #008080; font-weight: bold\">2011</span> │ <span style=\"color: #008080; text-decoration-color: #008080; font-weight: bold\">5.260391e+10</span> │ <span style=\"color: #008080; text-decoration-color: #008080; font-weight: bold\">148160</span> │   <span style=\"color: #008080; text-decoration-color: #008080; font-weight: bold\">355048.0</span> │          <span style=\"color: #7f7f7f; text-decoration-color: #7f7f7f\">NULL</span> │           <span style=\"color: #7f7f7f; text-decoration-color: #7f7f7f\">NULL</span> │            <span style=\"color: #7f7f7f; text-decoration-color: #7f7f7f\">NULL</span> │ <span style=\"color: #008080; text-decoration-color: #008080; font-weight: bold\">3518.986662</span> │          <span style=\"color: #7f7f7f; text-decoration-color: #7f7f7f\">NULL</span> │           <span style=\"color: #7f7f7f; text-decoration-color: #7f7f7f\">NULL</span> │            <span style=\"color: #7f7f7f; text-decoration-color: #7f7f7f\">NULL</span> │     <span style=\"color: #008080; text-decoration-color: #008080; font-weight: bold\">367423.0111</span> │               <span style=\"color: #7f7f7f; text-decoration-color: #7f7f7f\">NULL</span> │                <span style=\"color: #7f7f7f; text-decoration-color: #7f7f7f\">NULL</span> │                 <span style=\"color: #7f7f7f; text-decoration-color: #7f7f7f\">NULL</span> │     <span style=\"color: #008080; text-decoration-color: #008080; font-weight: bold\">3752.327886</span> │               <span style=\"color: #7f7f7f; text-decoration-color: #7f7f7f\">NULL</span> │                <span style=\"color: #7f7f7f; text-decoration-color: #7f7f7f\">NULL</span> │                 <span style=\"color: #7f7f7f; text-decoration-color: #7f7f7f\">NULL</span> │        <span style=\"color: #008080; text-decoration-color: #008080; font-weight: bold\">2916.962438</span> │                  <span style=\"color: #7f7f7f; text-decoration-color: #7f7f7f\">NULL</span> │                   <span style=\"color: #7f7f7f; text-decoration-color: #7f7f7f\">NULL</span> │                    <span style=\"color: #7f7f7f; text-decoration-color: #7f7f7f\">NULL</span> │ <span style=\"color: #008080; text-decoration-color: #008080; font-weight: bold\">113.207466</span> │     <span style=\"color: #008080; text-decoration-color: #008080; font-weight: bold\">96.631944</span> │ <span style=\"color: #008080; text-decoration-color: #008080; font-weight: bold\">100.894955</span> │ <span style=\"color: #008080; text-decoration-color: #008080; font-weight: bold\">43.857685</span> │            <span style=\"color: #008080; text-decoration-color: #008080; font-weight: bold\">0</span> │     <span style=\"color: #008080; text-decoration-color: #008080; font-weight: bold\">2.0</span> │ <span style=\"color: #008080; text-decoration-color: #008080; font-weight: bold\">12.882040</span> │  <span style=\"color: #008080; text-decoration-color: #008080; font-weight: bold\">796.287560</span> │\n",
       "│ <span style=\"color: #008000; text-decoration-color: #008000\">Albania</span> │ <span style=\"color: #008000; text-decoration-color: #008000\">Berat </span> │ <span style=\"color: #008000; text-decoration-color: #008000\">ALB   </span> │ <span style=\"color: #008000; text-decoration-color: #008000\">ALB.1_1</span> │  <span style=\"color: #008080; text-decoration-color: #008080; font-weight: bold\">2012</span> │ <span style=\"color: #008080; text-decoration-color: #008080; font-weight: bold\">4.902100e+10</span> │ <span style=\"color: #008080; text-decoration-color: #008080; font-weight: bold\">145931</span> │   <span style=\"color: #008080; text-decoration-color: #008080; font-weight: bold\">335919.0</span> │          <span style=\"color: #7f7f7f; text-decoration-color: #7f7f7f\">NULL</span> │           <span style=\"color: #7f7f7f; text-decoration-color: #7f7f7f\">NULL</span> │            <span style=\"color: #7f7f7f; text-decoration-color: #7f7f7f\">NULL</span> │ <span style=\"color: #008080; text-decoration-color: #008080; font-weight: bold\">3105.052489</span> │          <span style=\"color: #7f7f7f; text-decoration-color: #7f7f7f\">NULL</span> │           <span style=\"color: #7f7f7f; text-decoration-color: #7f7f7f\">NULL</span> │            <span style=\"color: #7f7f7f; text-decoration-color: #7f7f7f\">NULL</span> │     <span style=\"color: #008080; text-decoration-color: #008080; font-weight: bold\">344039.9253</span> │               <span style=\"color: #7f7f7f; text-decoration-color: #7f7f7f\">NULL</span> │                <span style=\"color: #7f7f7f; text-decoration-color: #7f7f7f\">NULL</span> │                 <span style=\"color: #7f7f7f; text-decoration-color: #7f7f7f\">NULL</span> │     <span style=\"color: #008080; text-decoration-color: #008080; font-weight: bold\">3248.642016</span> │               <span style=\"color: #7f7f7f; text-decoration-color: #7f7f7f\">NULL</span> │                <span style=\"color: #7f7f7f; text-decoration-color: #7f7f7f\">NULL</span> │                 <span style=\"color: #7f7f7f; text-decoration-color: #7f7f7f\">NULL</span> │        <span style=\"color: #008080; text-decoration-color: #008080; font-weight: bold\">2731.324683</span> │                  <span style=\"color: #7f7f7f; text-decoration-color: #7f7f7f\">NULL</span> │                   <span style=\"color: #7f7f7f; text-decoration-color: #7f7f7f\">NULL</span> │                    <span style=\"color: #7f7f7f; text-decoration-color: #7f7f7f\">NULL</span> │ <span style=\"color: #008080; text-decoration-color: #008080; font-weight: bold\">108.193489</span> │     <span style=\"color: #008080; text-decoration-color: #008080; font-weight: bold\">97.639540</span> │ <span style=\"color: #008080; text-decoration-color: #008080; font-weight: bold\">108.184645</span> │ <span style=\"color: #008080; text-decoration-color: #008080; font-weight: bold\">43.655248</span> │            <span style=\"color: #008080; text-decoration-color: #008080; font-weight: bold\">0</span> │     <span style=\"color: #008080; text-decoration-color: #008080; font-weight: bold\">2.0</span> │ <span style=\"color: #008080; text-decoration-color: #008080; font-weight: bold\">13.373465</span> │ <span style=\"color: #008080; text-decoration-color: #008080; font-weight: bold\">1177.160775</span> │\n",
       "│ <span style=\"color: #008000; text-decoration-color: #008000\">Albania</span> │ <span style=\"color: #008000; text-decoration-color: #008000\">Berat </span> │ <span style=\"color: #008000; text-decoration-color: #008000\">ALB   </span> │ <span style=\"color: #008000; text-decoration-color: #008000\">ALB.1_1</span> │  <span style=\"color: #008080; text-decoration-color: #008080; font-weight: bold\">2013</span> │ <span style=\"color: #008080; text-decoration-color: #008080; font-weight: bold\">5.016415e+10</span> │ <span style=\"color: #008080; text-decoration-color: #008080; font-weight: bold\">145132</span> │   <span style=\"color: #008080; text-decoration-color: #008080; font-weight: bold\">345645.0</span> │          <span style=\"color: #7f7f7f; text-decoration-color: #7f7f7f\">NULL</span> │           <span style=\"color: #7f7f7f; text-decoration-color: #7f7f7f\">NULL</span> │            <span style=\"color: #7f7f7f; text-decoration-color: #7f7f7f\">NULL</span> │ <span style=\"color: #008080; text-decoration-color: #008080; font-weight: bold\">3271.026209</span> │          <span style=\"color: #7f7f7f; text-decoration-color: #7f7f7f\">NULL</span> │           <span style=\"color: #7f7f7f; text-decoration-color: #7f7f7f\">NULL</span> │            <span style=\"color: #7f7f7f; text-decoration-color: #7f7f7f\">NULL</span> │     <span style=\"color: #008080; text-decoration-color: #008080; font-weight: bold\">352981.8330</span> │               <span style=\"color: #7f7f7f; text-decoration-color: #7f7f7f\">NULL</span> │                <span style=\"color: #7f7f7f; text-decoration-color: #7f7f7f\">NULL</span> │                 <span style=\"color: #7f7f7f; text-decoration-color: #7f7f7f\">NULL</span> │     <span style=\"color: #008080; text-decoration-color: #008080; font-weight: bold\">3363.268468</span> │               <span style=\"color: #7f7f7f; text-decoration-color: #7f7f7f\">NULL</span> │                <span style=\"color: #7f7f7f; text-decoration-color: #7f7f7f\">NULL</span> │                 <span style=\"color: #7f7f7f; text-decoration-color: #7f7f7f\">NULL</span> │        <span style=\"color: #008080; text-decoration-color: #008080; font-weight: bold\">2802.314273</span> │                  <span style=\"color: #7f7f7f; text-decoration-color: #7f7f7f\">NULL</span> │                   <span style=\"color: #7f7f7f; text-decoration-color: #7f7f7f\">NULL</span> │                    <span style=\"color: #7f7f7f; text-decoration-color: #7f7f7f\">NULL</span> │ <span style=\"color: #008080; text-decoration-color: #008080; font-weight: bold\">112.201534</span> │     <span style=\"color: #008080; text-decoration-color: #008080; font-weight: bold\">97.921470</span> │ <span style=\"color: #008080; text-decoration-color: #008080; font-weight: bold\">105.668673</span> │ <span style=\"color: #008080; text-decoration-color: #008080; font-weight: bold\">44.113739</span> │            <span style=\"color: #008080; text-decoration-color: #008080; font-weight: bold\">0</span> │     <span style=\"color: #008080; text-decoration-color: #008080; font-weight: bold\">2.0</span> │ <span style=\"color: #008080; text-decoration-color: #008080; font-weight: bold\">13.535412</span> │ <span style=\"color: #008080; text-decoration-color: #008080; font-weight: bold\">1086.023721</span> │\n",
       "│ <span style=\"color: #008000; text-decoration-color: #008000\">Albania</span> │ <span style=\"color: #008000; text-decoration-color: #008000\">Berat </span> │ <span style=\"color: #008000; text-decoration-color: #008000\">ALB   </span> │ <span style=\"color: #008000; text-decoration-color: #008000\">ALB.1_1</span> │  <span style=\"color: #008080; text-decoration-color: #008080; font-weight: bold\">2014</span> │ <span style=\"color: #008080; text-decoration-color: #008080; font-weight: bold\">5.194883e+10</span> │ <span style=\"color: #008080; text-decoration-color: #008080; font-weight: bold\">143846</span> │   <span style=\"color: #008080; text-decoration-color: #008080; font-weight: bold\">361142.0</span> │          <span style=\"color: #7f7f7f; text-decoration-color: #7f7f7f\">NULL</span> │           <span style=\"color: #7f7f7f; text-decoration-color: #7f7f7f\">NULL</span> │            <span style=\"color: #7f7f7f; text-decoration-color: #7f7f7f\">NULL</span> │ <span style=\"color: #008080; text-decoration-color: #008080; font-weight: bold\">3423.820840</span> │          <span style=\"color: #7f7f7f; text-decoration-color: #7f7f7f\">NULL</span> │           <span style=\"color: #7f7f7f; text-decoration-color: #7f7f7f\">NULL</span> │            <span style=\"color: #7f7f7f; text-decoration-color: #7f7f7f\">NULL</span> │     <span style=\"color: #008080; text-decoration-color: #008080; font-weight: bold\">363178.8096</span> │               <span style=\"color: #7f7f7f; text-decoration-color: #7f7f7f\">NULL</span> │                <span style=\"color: #7f7f7f; text-decoration-color: #7f7f7f\">NULL</span> │                 <span style=\"color: #7f7f7f; text-decoration-color: #7f7f7f\">NULL</span> │     <span style=\"color: #008080; text-decoration-color: #008080; font-weight: bold\">3456.433813</span> │               <span style=\"color: #7f7f7f; text-decoration-color: #7f7f7f\">NULL</span> │                <span style=\"color: #7f7f7f; text-decoration-color: #7f7f7f\">NULL</span> │                 <span style=\"color: #7f7f7f; text-decoration-color: #7f7f7f\">NULL</span> │        <span style=\"color: #008080; text-decoration-color: #008080; font-weight: bold\">2883.267825</span> │                  <span style=\"color: #7f7f7f; text-decoration-color: #7f7f7f\">NULL</span> │                   <span style=\"color: #7f7f7f; text-decoration-color: #7f7f7f\">NULL</span> │                    <span style=\"color: #7f7f7f; text-decoration-color: #7f7f7f\">NULL</span> │ <span style=\"color: #008080; text-decoration-color: #008080; font-weight: bold\">116.170384</span> │     <span style=\"color: #008080; text-decoration-color: #008080; font-weight: bold\">99.439172</span> │ <span style=\"color: #008080; text-decoration-color: #008080; font-weight: bold\">105.479234</span> │ <span style=\"color: #008080; text-decoration-color: #008080; font-weight: bold\">42.893930</span> │            <span style=\"color: #008080; text-decoration-color: #008080; font-weight: bold\">0</span> │     <span style=\"color: #008080; text-decoration-color: #008080; font-weight: bold\">2.0</span> │ <span style=\"color: #008080; text-decoration-color: #008080; font-weight: bold\">13.357980</span> │ <span style=\"color: #008080; text-decoration-color: #008080; font-weight: bold\">1198.514790</span> │\n",
       "└─────────┴────────┴────────┴─────────┴───────┴──────────────┴────────┴────────────┴───────────────┴────────────────┴─────────────────┴─────────────┴───────────────┴────────────────┴─────────────────┴─────────────────┴────────────────────┴─────────────────────┴──────────────────────┴─────────────────┴────────────────────┴─────────────────────┴──────────────────────┴────────────────────┴───────────────────────┴────────────────────────┴─────────────────────────┴────────────┴───────────────┴────────────┴───────────┴──────────────┴─────────┴───────────┴─────────────┘\n",
       "</pre>\n"
      ],
      "text/plain": [
       "┏━━━━━━━━━┳━━━━━━━━┳━━━━━━━━┳━━━━━━━━━┳━━━━━━━┳━━━━━━━━━━━━━━┳━━━━━━━━┳━━━━━━━━━━━━┳━━━━━━━━━━━━━━━┳━━━━━━━━━━━━━━━━┳━━━━━━━━━━━━━━━━━┳━━━━━━━━━━━━━┳━━━━━━━━━━━━━━━┳━━━━━━━━━━━━━━━━┳━━━━━━━━━━━━━━━━━┳━━━━━━━━━━━━━━━━━┳━━━━━━━━━━━━━━━━━━━━┳━━━━━━━━━━━━━━━━━━━━━┳━━━━━━━━━━━━━━━━━━━━━━┳━━━━━━━━━━━━━━━━━┳━━━━━━━━━━━━━━━━━━━━┳━━━━━━━━━━━━━━━━━━━━━┳━━━━━━━━━━━━━━━━━━━━━━┳━━━━━━━━━━━━━━━━━━━━┳━━━━━━━━━━━━━━━━━━━━━━━┳━━━━━━━━━━━━━━━━━━━━━━━━┳━━━━━━━━━━━━━━━━━━━━━━━━━┳━━━━━━━━━━━━┳━━━━━━━━━━━━━━━┳━━━━━━━━━━━━┳━━━━━━━━━━━┳━━━━━━━━━━━━━━┳━━━━━━━━━┳━━━━━━━━━━━┳━━━━━━━━━━━━━┓\n",
       "┃\u001b[1m \u001b[0m\u001b[1mcountry\u001b[0m\u001b[1m \u001b[0m┃\u001b[1m \u001b[0m\u001b[1mregion\u001b[0m\u001b[1m \u001b[0m┃\u001b[1m \u001b[0m\u001b[1mGID_0\u001b[0m\u001b[1m \u001b[0m\u001b[1m \u001b[0m┃\u001b[1m \u001b[0m\u001b[1mGID_1\u001b[0m\u001b[1m  \u001b[0m\u001b[1m \u001b[0m┃\u001b[1m \u001b[0m\u001b[1myear\u001b[0m\u001b[1m \u001b[0m\u001b[1m \u001b[0m┃\u001b[1m \u001b[0m\u001b[1mgrp_lcu\u001b[0m\u001b[1m     \u001b[0m\u001b[1m \u001b[0m┃\u001b[1m \u001b[0m\u001b[1mpop\u001b[0m\u001b[1m   \u001b[0m\u001b[1m \u001b[0m┃\u001b[1m \u001b[0m\u001b[1mgrp_pc_lcu\u001b[0m\u001b[1m \u001b[0m┃\u001b[1m \u001b[0m\u001b[1mag_grp_pc_lcu\u001b[0m\u001b[1m \u001b[0m┃\u001b[1m \u001b[0m\u001b[1mman_grp_pc_lcu\u001b[0m\u001b[1m \u001b[0m┃\u001b[1m \u001b[0m\u001b[1mserv_grp_pc_lcu\u001b[0m\u001b[1m \u001b[0m┃\u001b[1m \u001b[0m\u001b[1mgrp_pc_usd\u001b[0m\u001b[1m \u001b[0m\u001b[1m \u001b[0m┃\u001b[1m \u001b[0m\u001b[1mag_grp_pc_usd\u001b[0m\u001b[1m \u001b[0m┃\u001b[1m \u001b[0m\u001b[1mman_grp_pc_usd\u001b[0m\u001b[1m \u001b[0m┃\u001b[1m \u001b[0m\u001b[1mserv_grp_pc_usd\u001b[0m\u001b[1m \u001b[0m┃\u001b[1m \u001b[0m\u001b[1mgrp_pc_lcu_2015\u001b[0m\u001b[1m \u001b[0m┃\u001b[1m \u001b[0m\u001b[1mag_grp_pc_lcu_2015\u001b[0m\u001b[1m \u001b[0m┃\u001b[1m \u001b[0m\u001b[1mman_grp_pc_lcu_2015\u001b[0m\u001b[1m \u001b[0m┃\u001b[1m \u001b[0m\u001b[1mserv_grp_pc_lcu_2015\u001b[0m\u001b[1m \u001b[0m┃\u001b[1m \u001b[0m\u001b[1mgrp_pc_usd_2015\u001b[0m\u001b[1m \u001b[0m┃\u001b[1m \u001b[0m\u001b[1mag_grp_pc_usd_2015\u001b[0m\u001b[1m \u001b[0m┃\u001b[1m \u001b[0m\u001b[1mman_grp_pc_usd_2015\u001b[0m\u001b[1m \u001b[0m┃\u001b[1m \u001b[0m\u001b[1mserv_grp_pc_usd_2015\u001b[0m\u001b[1m \u001b[0m┃\u001b[1m \u001b[0m\u001b[1mgrp_pc_lcu2015_usd\u001b[0m\u001b[1m \u001b[0m┃\u001b[1m \u001b[0m\u001b[1mag_grp_pc_lcu2015_usd\u001b[0m\u001b[1m \u001b[0m┃\u001b[1m \u001b[0m\u001b[1mman_grp_pc_lcu2015_usd\u001b[0m\u001b[1m \u001b[0m┃\u001b[1m \u001b[0m\u001b[1mserv_grp_pc_lcu2015_usd\u001b[0m\u001b[1m \u001b[0m┃\u001b[1m \u001b[0m\u001b[1mcpi_2015\u001b[0m\u001b[1m  \u001b[0m\u001b[1m \u001b[0m┃\u001b[1m \u001b[0m\u001b[1mdeflator_2015\u001b[0m\u001b[1m \u001b[0m┃\u001b[1m \u001b[0m\u001b[1mfx\u001b[0m\u001b[1m        \u001b[0m\u001b[1m \u001b[0m┃\u001b[1m \u001b[0m\u001b[1mPPP\u001b[0m\u001b[1m      \u001b[0m\u001b[1m \u001b[0m┃\u001b[1m \u001b[0m\u001b[1mStructChange\u001b[0m\u001b[1m \u001b[0m┃\u001b[1m \u001b[0m\u001b[1mversion\u001b[0m\u001b[1m \u001b[0m┃\u001b[1m \u001b[0m\u001b[1mT_a\u001b[0m\u001b[1m      \u001b[0m\u001b[1m \u001b[0m┃\u001b[1m \u001b[0m\u001b[1mP_a\u001b[0m\u001b[1m        \u001b[0m\u001b[1m \u001b[0m┃\n",
       "┡━━━━━━━━━╇━━━━━━━━╇━━━━━━━━╇━━━━━━━━━╇━━━━━━━╇━━━━━━━━━━━━━━╇━━━━━━━━╇━━━━━━━━━━━━╇━━━━━━━━━━━━━━━╇━━━━━━━━━━━━━━━━╇━━━━━━━━━━━━━━━━━╇━━━━━━━━━━━━━╇━━━━━━━━━━━━━━━╇━━━━━━━━━━━━━━━━╇━━━━━━━━━━━━━━━━━╇━━━━━━━━━━━━━━━━━╇━━━━━━━━━━━━━━━━━━━━╇━━━━━━━━━━━━━━━━━━━━━╇━━━━━━━━━━━━━━━━━━━━━━╇━━━━━━━━━━━━━━━━━╇━━━━━━━━━━━━━━━━━━━━╇━━━━━━━━━━━━━━━━━━━━━╇━━━━━━━━━━━━━━━━━━━━━━╇━━━━━━━━━━━━━━━━━━━━╇━━━━━━━━━━━━━━━━━━━━━━━╇━━━━━━━━━━━━━━━━━━━━━━━━╇━━━━━━━━━━━━━━━━━━━━━━━━━╇━━━━━━━━━━━━╇━━━━━━━━━━━━━━━╇━━━━━━━━━━━━╇━━━━━━━━━━━╇━━━━━━━━━━━━━━╇━━━━━━━━━╇━━━━━━━━━━━╇━━━━━━━━━━━━━┩\n",
       "│ \u001b[2mstring\u001b[0m  │ \u001b[2mstring\u001b[0m │ \u001b[2mstring\u001b[0m │ \u001b[2mstring\u001b[0m  │ \u001b[2mint64\u001b[0m │ \u001b[2mfloat64\u001b[0m      │ \u001b[2mint64\u001b[0m  │ \u001b[2mfloat64\u001b[0m    │ \u001b[2mfloat64\u001b[0m       │ \u001b[2mfloat64\u001b[0m        │ \u001b[2mfloat64\u001b[0m         │ \u001b[2mfloat64\u001b[0m     │ \u001b[2mfloat64\u001b[0m       │ \u001b[2mfloat64\u001b[0m        │ \u001b[2mfloat64\u001b[0m         │ \u001b[2mfloat64\u001b[0m         │ \u001b[2mfloat64\u001b[0m            │ \u001b[2mfloat64\u001b[0m             │ \u001b[2mfloat64\u001b[0m              │ \u001b[2mfloat64\u001b[0m         │ \u001b[2mfloat64\u001b[0m            │ \u001b[2mfloat64\u001b[0m             │ \u001b[2mfloat64\u001b[0m              │ \u001b[2mfloat64\u001b[0m            │ \u001b[2mfloat64\u001b[0m               │ \u001b[2mfloat64\u001b[0m                │ \u001b[2mfloat64\u001b[0m                 │ \u001b[2mfloat64\u001b[0m    │ \u001b[2mfloat64\u001b[0m       │ \u001b[2mfloat64\u001b[0m    │ \u001b[2mfloat64\u001b[0m   │ \u001b[2mint64\u001b[0m        │ \u001b[2mfloat64\u001b[0m │ \u001b[2mfloat64\u001b[0m   │ \u001b[2mfloat64\u001b[0m     │\n",
       "├─────────┼────────┼────────┼─────────┼───────┼──────────────┼────────┼────────────┼───────────────┼────────────────┼─────────────────┼─────────────┼───────────────┼────────────────┼─────────────────┼─────────────────┼────────────────────┼─────────────────────┼──────────────────────┼─────────────────┼────────────────────┼─────────────────────┼──────────────────────┼────────────────────┼───────────────────────┼────────────────────────┼─────────────────────────┼────────────┼───────────────┼────────────┼───────────┼──────────────┼─────────┼───────────┼─────────────┤\n",
       "│ \u001b[32mAlbania\u001b[0m │ \u001b[32mBerat \u001b[0m │ \u001b[32mALB   \u001b[0m │ \u001b[32mALB.1_1\u001b[0m │  \u001b[1;36m2010\u001b[0m │ \u001b[1;36m4.941607e+10\u001b[0m │ \u001b[1;36m151375\u001b[0m │   \u001b[1;36m326448.0\u001b[0m │          \u001b[2mNULL\u001b[0m │           \u001b[2mNULL\u001b[0m │            \u001b[2mNULL\u001b[0m │ \u001b[1;36m3140.842514\u001b[0m │          \u001b[2mNULL\u001b[0m │           \u001b[2mNULL\u001b[0m │            \u001b[2mNULL\u001b[0m │     \u001b[1;36m345645.9835\u001b[0m │               \u001b[2mNULL\u001b[0m │                \u001b[2mNULL\u001b[0m │                 \u001b[2mNULL\u001b[0m │     \u001b[1;36m3419.068968\u001b[0m │               \u001b[2mNULL\u001b[0m │                \u001b[2mNULL\u001b[0m │                 \u001b[2mNULL\u001b[0m │        \u001b[1;36m2744.075141\u001b[0m │                  \u001b[2mNULL\u001b[0m │                   \u001b[2mNULL\u001b[0m │                    \u001b[2mNULL\u001b[0m │ \u001b[1;36m104.742951\u001b[0m │     \u001b[1;36m94.445767\u001b[0m │ \u001b[1;36m103.936443\u001b[0m │ \u001b[1;36m44.196214\u001b[0m │            \u001b[1;36m0\u001b[0m │     \u001b[1;36m2.0\u001b[0m │ \u001b[1;36m13.123768\u001b[0m │ \u001b[1;36m1573.116224\u001b[0m │\n",
       "│ \u001b[32mAlbania\u001b[0m │ \u001b[32mBerat \u001b[0m │ \u001b[32mALB   \u001b[0m │ \u001b[32mALB.1_1\u001b[0m │  \u001b[1;36m2011\u001b[0m │ \u001b[1;36m5.260391e+10\u001b[0m │ \u001b[1;36m148160\u001b[0m │   \u001b[1;36m355048.0\u001b[0m │          \u001b[2mNULL\u001b[0m │           \u001b[2mNULL\u001b[0m │            \u001b[2mNULL\u001b[0m │ \u001b[1;36m3518.986662\u001b[0m │          \u001b[2mNULL\u001b[0m │           \u001b[2mNULL\u001b[0m │            \u001b[2mNULL\u001b[0m │     \u001b[1;36m367423.0111\u001b[0m │               \u001b[2mNULL\u001b[0m │                \u001b[2mNULL\u001b[0m │                 \u001b[2mNULL\u001b[0m │     \u001b[1;36m3752.327886\u001b[0m │               \u001b[2mNULL\u001b[0m │                \u001b[2mNULL\u001b[0m │                 \u001b[2mNULL\u001b[0m │        \u001b[1;36m2916.962438\u001b[0m │                  \u001b[2mNULL\u001b[0m │                   \u001b[2mNULL\u001b[0m │                    \u001b[2mNULL\u001b[0m │ \u001b[1;36m113.207466\u001b[0m │     \u001b[1;36m96.631944\u001b[0m │ \u001b[1;36m100.894955\u001b[0m │ \u001b[1;36m43.857685\u001b[0m │            \u001b[1;36m0\u001b[0m │     \u001b[1;36m2.0\u001b[0m │ \u001b[1;36m12.882040\u001b[0m │  \u001b[1;36m796.287560\u001b[0m │\n",
       "│ \u001b[32mAlbania\u001b[0m │ \u001b[32mBerat \u001b[0m │ \u001b[32mALB   \u001b[0m │ \u001b[32mALB.1_1\u001b[0m │  \u001b[1;36m2012\u001b[0m │ \u001b[1;36m4.902100e+10\u001b[0m │ \u001b[1;36m145931\u001b[0m │   \u001b[1;36m335919.0\u001b[0m │          \u001b[2mNULL\u001b[0m │           \u001b[2mNULL\u001b[0m │            \u001b[2mNULL\u001b[0m │ \u001b[1;36m3105.052489\u001b[0m │          \u001b[2mNULL\u001b[0m │           \u001b[2mNULL\u001b[0m │            \u001b[2mNULL\u001b[0m │     \u001b[1;36m344039.9253\u001b[0m │               \u001b[2mNULL\u001b[0m │                \u001b[2mNULL\u001b[0m │                 \u001b[2mNULL\u001b[0m │     \u001b[1;36m3248.642016\u001b[0m │               \u001b[2mNULL\u001b[0m │                \u001b[2mNULL\u001b[0m │                 \u001b[2mNULL\u001b[0m │        \u001b[1;36m2731.324683\u001b[0m │                  \u001b[2mNULL\u001b[0m │                   \u001b[2mNULL\u001b[0m │                    \u001b[2mNULL\u001b[0m │ \u001b[1;36m108.193489\u001b[0m │     \u001b[1;36m97.639540\u001b[0m │ \u001b[1;36m108.184645\u001b[0m │ \u001b[1;36m43.655248\u001b[0m │            \u001b[1;36m0\u001b[0m │     \u001b[1;36m2.0\u001b[0m │ \u001b[1;36m13.373465\u001b[0m │ \u001b[1;36m1177.160775\u001b[0m │\n",
       "│ \u001b[32mAlbania\u001b[0m │ \u001b[32mBerat \u001b[0m │ \u001b[32mALB   \u001b[0m │ \u001b[32mALB.1_1\u001b[0m │  \u001b[1;36m2013\u001b[0m │ \u001b[1;36m5.016415e+10\u001b[0m │ \u001b[1;36m145132\u001b[0m │   \u001b[1;36m345645.0\u001b[0m │          \u001b[2mNULL\u001b[0m │           \u001b[2mNULL\u001b[0m │            \u001b[2mNULL\u001b[0m │ \u001b[1;36m3271.026209\u001b[0m │          \u001b[2mNULL\u001b[0m │           \u001b[2mNULL\u001b[0m │            \u001b[2mNULL\u001b[0m │     \u001b[1;36m352981.8330\u001b[0m │               \u001b[2mNULL\u001b[0m │                \u001b[2mNULL\u001b[0m │                 \u001b[2mNULL\u001b[0m │     \u001b[1;36m3363.268468\u001b[0m │               \u001b[2mNULL\u001b[0m │                \u001b[2mNULL\u001b[0m │                 \u001b[2mNULL\u001b[0m │        \u001b[1;36m2802.314273\u001b[0m │                  \u001b[2mNULL\u001b[0m │                   \u001b[2mNULL\u001b[0m │                    \u001b[2mNULL\u001b[0m │ \u001b[1;36m112.201534\u001b[0m │     \u001b[1;36m97.921470\u001b[0m │ \u001b[1;36m105.668673\u001b[0m │ \u001b[1;36m44.113739\u001b[0m │            \u001b[1;36m0\u001b[0m │     \u001b[1;36m2.0\u001b[0m │ \u001b[1;36m13.535412\u001b[0m │ \u001b[1;36m1086.023721\u001b[0m │\n",
       "│ \u001b[32mAlbania\u001b[0m │ \u001b[32mBerat \u001b[0m │ \u001b[32mALB   \u001b[0m │ \u001b[32mALB.1_1\u001b[0m │  \u001b[1;36m2014\u001b[0m │ \u001b[1;36m5.194883e+10\u001b[0m │ \u001b[1;36m143846\u001b[0m │   \u001b[1;36m361142.0\u001b[0m │          \u001b[2mNULL\u001b[0m │           \u001b[2mNULL\u001b[0m │            \u001b[2mNULL\u001b[0m │ \u001b[1;36m3423.820840\u001b[0m │          \u001b[2mNULL\u001b[0m │           \u001b[2mNULL\u001b[0m │            \u001b[2mNULL\u001b[0m │     \u001b[1;36m363178.8096\u001b[0m │               \u001b[2mNULL\u001b[0m │                \u001b[2mNULL\u001b[0m │                 \u001b[2mNULL\u001b[0m │     \u001b[1;36m3456.433813\u001b[0m │               \u001b[2mNULL\u001b[0m │                \u001b[2mNULL\u001b[0m │                 \u001b[2mNULL\u001b[0m │        \u001b[1;36m2883.267825\u001b[0m │                  \u001b[2mNULL\u001b[0m │                   \u001b[2mNULL\u001b[0m │                    \u001b[2mNULL\u001b[0m │ \u001b[1;36m116.170384\u001b[0m │     \u001b[1;36m99.439172\u001b[0m │ \u001b[1;36m105.479234\u001b[0m │ \u001b[1;36m42.893930\u001b[0m │            \u001b[1;36m0\u001b[0m │     \u001b[1;36m2.0\u001b[0m │ \u001b[1;36m13.357980\u001b[0m │ \u001b[1;36m1198.514790\u001b[0m │\n",
       "└─────────┴────────┴────────┴─────────┴───────┴──────────────┴────────┴────────────┴───────────────┴────────────────┴─────────────────┴─────────────┴───────────────┴────────────────┴─────────────────┴─────────────────┴────────────────────┴─────────────────────┴──────────────────────┴─────────────────┴────────────────────┴─────────────────────┴──────────────────────┴────────────────────┴───────────────────────┴────────────────────────┴─────────────────────────┴────────────┴───────────────┴────────────┴───────────┴──────────────┴─────────┴───────────┴─────────────┘"
      ]
     },
     "execution_count": 8,
     "metadata": {},
     "output_type": "execute_result"
    }
   ],
   "source": [
    "dose_csv.head()"
   ]
  },
  {
   "cell_type": "code",
   "execution_count": null,
   "metadata": {},
   "outputs": [
    {
     "data": {
      "text/html": [
       "<pre style=\"white-space:pre;overflow-x:auto;line-height:normal;font-family:Menlo,'DejaVu Sans Mono',consolas,'Courier New',monospace\"></pre>\n"
      ],
      "text/plain": []
     },
     "metadata": {},
     "output_type": "display_data"
    },
    {
     "name": "stdout",
     "output_type": "stream",
     "text": [
      "┌────┐\n",
      "│ \u001b[1;36m83\u001b[0m │\n",
      "└────┘\n"
     ]
    },
    {
     "data": {
      "text/html": [
       "<pre style=\"white-space:pre;overflow-x:auto;line-height:normal;font-family:Menlo,'DejaVu Sans Mono',consolas,'Courier New',monospace\">┏━━━━━━━━┳━━━━━━━━━━━━━┓\n",
       "┃<span style=\"font-weight: bold\"> GID_0  </span>┃<span style=\"font-weight: bold\"> GID_0_count </span>┃\n",
       "┡━━━━━━━━╇━━━━━━━━━━━━━┩\n",
       "│ <span style=\"color: #7f7f7f; text-decoration-color: #7f7f7f\">string</span> │ <span style=\"color: #7f7f7f; text-decoration-color: #7f7f7f\">int64</span>       │\n",
       "├────────┼─────────────┤\n",
       "│ <span style=\"color: #008000; text-decoration-color: #008000\">PAN   </span> │         <span style=\"color: #008080; text-decoration-color: #008080; font-weight: bold\">232</span> │\n",
       "│ <span style=\"color: #008000; text-decoration-color: #008000\">SRB   </span> │         <span style=\"color: #008080; text-decoration-color: #008080; font-weight: bold\">175</span> │\n",
       "│ <span style=\"color: #008000; text-decoration-color: #008000\">EGY   </span> │         <span style=\"color: #008080; text-decoration-color: #008080; font-weight: bold\">290</span> │\n",
       "│ <span style=\"color: #008000; text-decoration-color: #008000\">ETH   </span> │          <span style=\"color: #008080; text-decoration-color: #008080; font-weight: bold\">21</span> │\n",
       "│ <span style=\"color: #008000; text-decoration-color: #008000\">GEO   </span> │         <span style=\"color: #008080; text-decoration-color: #008080; font-weight: bold\">142</span> │\n",
       "│ <span style=\"color: #008000; text-decoration-color: #008000\">GTM   </span> │         <span style=\"color: #008080; text-decoration-color: #008080; font-weight: bold\">105</span> │\n",
       "│ <span style=\"color: #008000; text-decoration-color: #008000\">JPN   </span> │        <span style=\"color: #008080; text-decoration-color: #008080; font-weight: bold\">2714</span> │\n",
       "│ <span style=\"color: #008000; text-decoration-color: #008000\">MKD   </span> │         <span style=\"color: #008080; text-decoration-color: #008080; font-weight: bold\">168</span> │\n",
       "│ <span style=\"color: #008000; text-decoration-color: #008000\">NPL   </span> │          <span style=\"color: #008080; text-decoration-color: #008080; font-weight: bold\">21</span> │\n",
       "│ <span style=\"color: #008000; text-decoration-color: #008000\">PAK   </span> │         <span style=\"color: #008080; text-decoration-color: #008080; font-weight: bold\">124</span> │\n",
       "│ <span style=\"color: #7f7f7f; text-decoration-color: #7f7f7f\">…</span>      │           <span style=\"color: #7f7f7f; text-decoration-color: #7f7f7f\">…</span> │\n",
       "└────────┴─────────────┘\n",
       "</pre>\n"
      ],
      "text/plain": [
       "┏━━━━━━━━┳━━━━━━━━━━━━━┓\n",
       "┃\u001b[1m \u001b[0m\u001b[1mGID_0\u001b[0m\u001b[1m \u001b[0m\u001b[1m \u001b[0m┃\u001b[1m \u001b[0m\u001b[1mGID_0_count\u001b[0m\u001b[1m \u001b[0m┃\n",
       "┡━━━━━━━━╇━━━━━━━━━━━━━┩\n",
       "│ \u001b[2mstring\u001b[0m │ \u001b[2mint64\u001b[0m       │\n",
       "├────────┼─────────────┤\n",
       "│ \u001b[32mPAN   \u001b[0m │         \u001b[1;36m232\u001b[0m │\n",
       "│ \u001b[32mSRB   \u001b[0m │         \u001b[1;36m175\u001b[0m │\n",
       "│ \u001b[32mEGY   \u001b[0m │         \u001b[1;36m290\u001b[0m │\n",
       "│ \u001b[32mETH   \u001b[0m │          \u001b[1;36m21\u001b[0m │\n",
       "│ \u001b[32mGEO   \u001b[0m │         \u001b[1;36m142\u001b[0m │\n",
       "│ \u001b[32mGTM   \u001b[0m │         \u001b[1;36m105\u001b[0m │\n",
       "│ \u001b[32mJPN   \u001b[0m │        \u001b[1;36m2714\u001b[0m │\n",
       "│ \u001b[32mMKD   \u001b[0m │         \u001b[1;36m168\u001b[0m │\n",
       "│ \u001b[32mNPL   \u001b[0m │          \u001b[1;36m21\u001b[0m │\n",
       "│ \u001b[32mPAK   \u001b[0m │         \u001b[1;36m124\u001b[0m │\n",
       "│ \u001b[2m…\u001b[0m      │           \u001b[2m…\u001b[0m │\n",
       "└────────┴─────────────┘"
      ]
     },
     "execution_count": 9,
     "metadata": {},
     "output_type": "execute_result"
    }
   ],
   "source": [
    "print(dose_csv.GID_0.nunique())\n",
    "dose_csv.GID_0.value_counts()"
   ]
  },
  {
   "cell_type": "code",
   "execution_count": null,
   "metadata": {},
   "outputs": [
    {
     "data": {
      "text/html": [
       "<pre style=\"white-space:pre;overflow-x:auto;line-height:normal;font-family:Menlo,'DejaVu Sans Mono',consolas,'Courier New',monospace\"></pre>\n"
      ],
      "text/plain": []
     },
     "metadata": {},
     "output_type": "display_data"
    },
    {
     "name": "stdout",
     "output_type": "stream",
     "text": [
      "┌──────┐\n",
      "│ \u001b[1;36m1659\u001b[0m │\n",
      "└──────┘\n"
     ]
    },
    {
     "data": {
      "text/html": [
       "<pre style=\"white-space:pre;overflow-x:auto;line-height:normal;font-family:Menlo,'DejaVu Sans Mono',consolas,'Courier New',monospace\">┏━━━━━━━━━━┳━━━━━━━━━━━━━┓\n",
       "┃<span style=\"font-weight: bold\"> GID_1    </span>┃<span style=\"font-weight: bold\"> GID_1_count </span>┃\n",
       "┡━━━━━━━━━━╇━━━━━━━━━━━━━┩\n",
       "│ <span style=\"color: #7f7f7f; text-decoration-color: #7f7f7f\">string</span>   │ <span style=\"color: #7f7f7f; text-decoration-color: #7f7f7f\">int64</span>       │\n",
       "├──────────┼─────────────┤\n",
       "│ <span style=\"color: #008000; text-decoration-color: #008000\">NGA.6_1 </span> │           <span style=\"color: #008080; text-decoration-color: #008080; font-weight: bold\">5</span> │\n",
       "│ <span style=\"color: #008000; text-decoration-color: #008000\">NGA.16_1</span> │           <span style=\"color: #008080; text-decoration-color: #008080; font-weight: bold\">5</span> │\n",
       "│ <span style=\"color: #008000; text-decoration-color: #008000\">NOR.19_1</span> │          <span style=\"color: #008080; text-decoration-color: #008080; font-weight: bold\">28</span> │\n",
       "│ <span style=\"color: #008000; text-decoration-color: #008000\">PAK.5_1 </span> │          <span style=\"color: #008080; text-decoration-color: #008080; font-weight: bold\">31</span> │\n",
       "│ <span style=\"color: #008000; text-decoration-color: #008000\">PAN.4_1 </span> │          <span style=\"color: #008080; text-decoration-color: #008080; font-weight: bold\">25</span> │\n",
       "│ <span style=\"color: #008000; text-decoration-color: #008000\">PRY.10_1</span> │           <span style=\"color: #008080; text-decoration-color: #008080; font-weight: bold\">5</span> │\n",
       "│ <span style=\"color: #008000; text-decoration-color: #008000\">PRY.16_1</span> │           <span style=\"color: #008080; text-decoration-color: #008080; font-weight: bold\">5</span> │\n",
       "│ <span style=\"color: #008000; text-decoration-color: #008000\">PRY.15_1</span> │           <span style=\"color: #008080; text-decoration-color: #008080; font-weight: bold\">5</span> │\n",
       "│ <span style=\"color: #008000; text-decoration-color: #008000\">PER.14_1</span> │          <span style=\"color: #008080; text-decoration-color: #008080; font-weight: bold\">45</span> │\n",
       "│ <span style=\"color: #008000; text-decoration-color: #008000\">PER.23_1</span> │          <span style=\"color: #008080; text-decoration-color: #008080; font-weight: bold\">45</span> │\n",
       "│ <span style=\"color: #7f7f7f; text-decoration-color: #7f7f7f\">…</span>        │           <span style=\"color: #7f7f7f; text-decoration-color: #7f7f7f\">…</span> │\n",
       "└──────────┴─────────────┘\n",
       "</pre>\n"
      ],
      "text/plain": [
       "┏━━━━━━━━━━┳━━━━━━━━━━━━━┓\n",
       "┃\u001b[1m \u001b[0m\u001b[1mGID_1\u001b[0m\u001b[1m   \u001b[0m\u001b[1m \u001b[0m┃\u001b[1m \u001b[0m\u001b[1mGID_1_count\u001b[0m\u001b[1m \u001b[0m┃\n",
       "┡━━━━━━━━━━╇━━━━━━━━━━━━━┩\n",
       "│ \u001b[2mstring\u001b[0m   │ \u001b[2mint64\u001b[0m       │\n",
       "├──────────┼─────────────┤\n",
       "│ \u001b[32mNGA.6_1 \u001b[0m │           \u001b[1;36m5\u001b[0m │\n",
       "│ \u001b[32mNGA.16_1\u001b[0m │           \u001b[1;36m5\u001b[0m │\n",
       "│ \u001b[32mNOR.19_1\u001b[0m │          \u001b[1;36m28\u001b[0m │\n",
       "│ \u001b[32mPAK.5_1 \u001b[0m │          \u001b[1;36m31\u001b[0m │\n",
       "│ \u001b[32mPAN.4_1 \u001b[0m │          \u001b[1;36m25\u001b[0m │\n",
       "│ \u001b[32mPRY.10_1\u001b[0m │           \u001b[1;36m5\u001b[0m │\n",
       "│ \u001b[32mPRY.16_1\u001b[0m │           \u001b[1;36m5\u001b[0m │\n",
       "│ \u001b[32mPRY.15_1\u001b[0m │           \u001b[1;36m5\u001b[0m │\n",
       "│ \u001b[32mPER.14_1\u001b[0m │          \u001b[1;36m45\u001b[0m │\n",
       "│ \u001b[32mPER.23_1\u001b[0m │          \u001b[1;36m45\u001b[0m │\n",
       "│ \u001b[2m…\u001b[0m        │           \u001b[2m…\u001b[0m │\n",
       "└──────────┴─────────────┘"
      ]
     },
     "execution_count": 10,
     "metadata": {},
     "output_type": "execute_result"
    }
   ],
   "source": [
    "print(dose_csv.GID_1.nunique())\n",
    "dose_csv.GID_1.value_counts()"
   ]
  },
  {
   "cell_type": "markdown",
   "metadata": {},
   "source": [
    "### Adding the full GADM data set"
   ]
  },
  {
   "cell_type": "code",
   "execution_count": null,
   "metadata": {},
   "outputs": [],
   "source": [
    "# connecting this table to ibis\n",
    "conn = ib.duckdb.connect()"
   ]
  },
  {
   "cell_type": "code",
   "execution_count": null,
   "metadata": {},
   "outputs": [
    {
     "data": {
      "text/plain": [
       "<duckdb.duckdb.DuckDBPyConnection at 0x1060a0bf0>"
      ]
     },
     "execution_count": 12,
     "metadata": {},
     "output_type": "execute_result"
    }
   ],
   "source": [
    "# loading extensions\n",
    "conn.raw_sql(\"\"\"INSTALL spatial;LOAD spatial;\"\"\")"
   ]
  },
  {
   "cell_type": "code",
   "execution_count": null,
   "metadata": {},
   "outputs": [
    {
     "data": {
      "application/vnd.jupyter.widget-view+json": {
       "model_id": "cdf5cd698d42470c9874f4f2e2cc55e1",
       "version_major": 2,
       "version_minor": 0
      },
      "text/plain": [
       "FloatProgress(value=0.0, layout=Layout(width='auto'), style=ProgressStyle(bar_color='black'))"
      ]
     },
     "metadata": {},
     "output_type": "display_data"
    },
    {
     "data": {
      "text/plain": [
       "<duckdb.duckdb.DuckDBPyConnection at 0x1060a0bf0>"
      ]
     },
     "execution_count": 13,
     "metadata": {},
     "output_type": "execute_result"
    }
   ],
   "source": [
    "conn.raw_sql(\"CREATE TABLE gadm AS SELECT * FROM ST_Read('datasets/boundaries/GADM/gadm_410.gpkg');\")"
   ]
  },
  {
   "cell_type": "code",
   "execution_count": null,
   "metadata": {},
   "outputs": [
    {
     "data": {
      "text/plain": [
       "['gadm']"
      ]
     },
     "execution_count": 14,
     "metadata": {},
     "output_type": "execute_result"
    }
   ],
   "source": [
    "# our table is there\n",
    "conn.list_tables()"
   ]
  },
  {
   "cell_type": "code",
   "execution_count": null,
   "metadata": {},
   "outputs": [],
   "source": [
    "gadm = conn.table(\"gadm\")"
   ]
  },
  {
   "cell_type": "code",
   "execution_count": null,
   "metadata": {},
   "outputs": [
    {
     "data": {
      "text/html": [
       "<pre style=\"white-space:pre;overflow-x:auto;line-height:normal;font-family:Menlo,'DejaVu Sans Mono',consolas,'Courier New',monospace\">┏━━━━━━━┳━━━━━━━━┳━━━━━━━━━━━━━┳━━━━━━━━━━━┳━━━━━━━━━┳━━━━━━━━━━━━┳━━━━━━━━━━━┳━━━━━━━━━━━┳━━━━━━━━┳━━━━━━━━┳━━━━━━━━┳━━━━━━━━━┳━━━━━━━━━━━┳━━━━━━━━━━━┳━━━━━━━━━━━┳━━━━━━━━━━━┳━━━━━━━━━━━┳━━━━━━━━━━━┳━━━━━━━━━━┳━━━━━━━━┳━━━━━━━━━━━┳━━━━━━━━━━━┳━━━━━━━━━━━┳━━━━━━━━┳━━━━━━━━┳━━━━━━━━━━━┳━━━━━━━━━━━┳━━━━━━━━┳━━━━━━━━┳━━━━━━━━┳━━━━━━━━━━━┳━━━━━━━━━━━┳━━━━━━━━┳━━━━━━━━┳━━━━━━━━━━━┳━━━━━━━━┳━━━━━━━━┳━━━━━━━━━━━┳━━━━━━━━━━━┳━━━━━━━━┳━━━━━━━━┳━━━━━━━━┳━━━━━━━━┳━━━━━━━━━━━┳━━━━━━━━━━━━┳━━━━━━━━━━━━━┳━━━━━━━━━━━━┳━━━━━━━━┳━━━━━━━━━━━┳━━━━━━━━━━━━━┳━━━━━━━━━━━┳━━━━━━━━━┳━━━━━━━━━━━━━━━━━━━━━━━━━━━━━━━━━━━━━━━━━━━━━━━━━━━━━━━━━━━━━━━━━━━━━━━━━━━━━━━━━━┓\n",
       "┃<span style=\"font-weight: bold\"> UID   </span>┃<span style=\"font-weight: bold\"> GID_0  </span>┃<span style=\"font-weight: bold\"> NAME_0      </span>┃<span style=\"font-weight: bold\"> VARNAME_0 </span>┃<span style=\"font-weight: bold\"> GID_1   </span>┃<span style=\"font-weight: bold\"> NAME_1     </span>┃<span style=\"font-weight: bold\"> VARNAME_1 </span>┃<span style=\"font-weight: bold\"> NL_NAME_1 </span>┃<span style=\"font-weight: bold\"> ISO_1  </span>┃<span style=\"font-weight: bold\"> HASC_1 </span>┃<span style=\"font-weight: bold\"> CC_1   </span>┃<span style=\"font-weight: bold\"> TYPE_1  </span>┃<span style=\"font-weight: bold\"> ENGTYPE_1 </span>┃<span style=\"font-weight: bold\"> VALIDFR_1 </span>┃<span style=\"font-weight: bold\"> GID_2     </span>┃<span style=\"font-weight: bold\"> NAME_2    </span>┃<span style=\"font-weight: bold\"> VARNAME_2 </span>┃<span style=\"font-weight: bold\"> NL_NAME_2 </span>┃<span style=\"font-weight: bold\"> HASC_2   </span>┃<span style=\"font-weight: bold\"> CC_2   </span>┃<span style=\"font-weight: bold\"> TYPE_2    </span>┃<span style=\"font-weight: bold\"> ENGTYPE_2 </span>┃<span style=\"font-weight: bold\"> VALIDFR_2 </span>┃<span style=\"font-weight: bold\"> GID_3  </span>┃<span style=\"font-weight: bold\"> NAME_3 </span>┃<span style=\"font-weight: bold\"> VARNAME_3 </span>┃<span style=\"font-weight: bold\"> NL_NAME_3 </span>┃<span style=\"font-weight: bold\"> HASC_3 </span>┃<span style=\"font-weight: bold\"> CC_3   </span>┃<span style=\"font-weight: bold\"> TYPE_3 </span>┃<span style=\"font-weight: bold\"> ENGTYPE_3 </span>┃<span style=\"font-weight: bold\"> VALIDFR_3 </span>┃<span style=\"font-weight: bold\"> GID_4  </span>┃<span style=\"font-weight: bold\"> NAME_4 </span>┃<span style=\"font-weight: bold\"> VARNAME_4 </span>┃<span style=\"font-weight: bold\"> CC_4   </span>┃<span style=\"font-weight: bold\"> TYPE_4 </span>┃<span style=\"font-weight: bold\"> ENGTYPE_4 </span>┃<span style=\"font-weight: bold\"> VALIDFR_4 </span>┃<span style=\"font-weight: bold\"> GID_5  </span>┃<span style=\"font-weight: bold\"> NAME_5 </span>┃<span style=\"font-weight: bold\"> CC_5   </span>┃<span style=\"font-weight: bold\"> TYPE_5 </span>┃<span style=\"font-weight: bold\"> ENGTYPE_5 </span>┃<span style=\"font-weight: bold\"> GOVERNEDBY </span>┃<span style=\"font-weight: bold\"> SOVEREIGN   </span>┃<span style=\"font-weight: bold\"> DISPUTEDBY </span>┃<span style=\"font-weight: bold\"> REGION </span>┃<span style=\"font-weight: bold\"> VARREGION </span>┃<span style=\"font-weight: bold\"> COUNTRY     </span>┃<span style=\"font-weight: bold\"> CONTINENT </span>┃<span style=\"font-weight: bold\"> SUBCONT </span>┃<span style=\"font-weight: bold\"> geom                                                                             </span>┃\n",
       "┡━━━━━━━╇━━━━━━━━╇━━━━━━━━━━━━━╇━━━━━━━━━━━╇━━━━━━━━━╇━━━━━━━━━━━━╇━━━━━━━━━━━╇━━━━━━━━━━━╇━━━━━━━━╇━━━━━━━━╇━━━━━━━━╇━━━━━━━━━╇━━━━━━━━━━━╇━━━━━━━━━━━╇━━━━━━━━━━━╇━━━━━━━━━━━╇━━━━━━━━━━━╇━━━━━━━━━━━╇━━━━━━━━━━╇━━━━━━━━╇━━━━━━━━━━━╇━━━━━━━━━━━╇━━━━━━━━━━━╇━━━━━━━━╇━━━━━━━━╇━━━━━━━━━━━╇━━━━━━━━━━━╇━━━━━━━━╇━━━━━━━━╇━━━━━━━━╇━━━━━━━━━━━╇━━━━━━━━━━━╇━━━━━━━━╇━━━━━━━━╇━━━━━━━━━━━╇━━━━━━━━╇━━━━━━━━╇━━━━━━━━━━━╇━━━━━━━━━━━╇━━━━━━━━╇━━━━━━━━╇━━━━━━━━╇━━━━━━━━╇━━━━━━━━━━━╇━━━━━━━━━━━━╇━━━━━━━━━━━━━╇━━━━━━━━━━━━╇━━━━━━━━╇━━━━━━━━━━━╇━━━━━━━━━━━━━╇━━━━━━━━━━━╇━━━━━━━━━╇━━━━━━━━━━━━━━━━━━━━━━━━━━━━━━━━━━━━━━━━━━━━━━━━━━━━━━━━━━━━━━━━━━━━━━━━━━━━━━━━━━┩\n",
       "│ <span style=\"color: #7f7f7f; text-decoration-color: #7f7f7f\">int64</span> │ <span style=\"color: #7f7f7f; text-decoration-color: #7f7f7f\">string</span> │ <span style=\"color: #7f7f7f; text-decoration-color: #7f7f7f\">string</span>      │ <span style=\"color: #7f7f7f; text-decoration-color: #7f7f7f\">string</span>    │ <span style=\"color: #7f7f7f; text-decoration-color: #7f7f7f\">string</span>  │ <span style=\"color: #7f7f7f; text-decoration-color: #7f7f7f\">string</span>     │ <span style=\"color: #7f7f7f; text-decoration-color: #7f7f7f\">string</span>    │ <span style=\"color: #7f7f7f; text-decoration-color: #7f7f7f\">string</span>    │ <span style=\"color: #7f7f7f; text-decoration-color: #7f7f7f\">string</span> │ <span style=\"color: #7f7f7f; text-decoration-color: #7f7f7f\">string</span> │ <span style=\"color: #7f7f7f; text-decoration-color: #7f7f7f\">string</span> │ <span style=\"color: #7f7f7f; text-decoration-color: #7f7f7f\">string</span>  │ <span style=\"color: #7f7f7f; text-decoration-color: #7f7f7f\">string</span>    │ <span style=\"color: #7f7f7f; text-decoration-color: #7f7f7f\">string</span>    │ <span style=\"color: #7f7f7f; text-decoration-color: #7f7f7f\">string</span>    │ <span style=\"color: #7f7f7f; text-decoration-color: #7f7f7f\">string</span>    │ <span style=\"color: #7f7f7f; text-decoration-color: #7f7f7f\">string</span>    │ <span style=\"color: #7f7f7f; text-decoration-color: #7f7f7f\">string</span>    │ <span style=\"color: #7f7f7f; text-decoration-color: #7f7f7f\">string</span>   │ <span style=\"color: #7f7f7f; text-decoration-color: #7f7f7f\">string</span> │ <span style=\"color: #7f7f7f; text-decoration-color: #7f7f7f\">string</span>    │ <span style=\"color: #7f7f7f; text-decoration-color: #7f7f7f\">string</span>    │ <span style=\"color: #7f7f7f; text-decoration-color: #7f7f7f\">string</span>    │ <span style=\"color: #7f7f7f; text-decoration-color: #7f7f7f\">string</span> │ <span style=\"color: #7f7f7f; text-decoration-color: #7f7f7f\">string</span> │ <span style=\"color: #7f7f7f; text-decoration-color: #7f7f7f\">string</span>    │ <span style=\"color: #7f7f7f; text-decoration-color: #7f7f7f\">string</span>    │ <span style=\"color: #7f7f7f; text-decoration-color: #7f7f7f\">string</span> │ <span style=\"color: #7f7f7f; text-decoration-color: #7f7f7f\">string</span> │ <span style=\"color: #7f7f7f; text-decoration-color: #7f7f7f\">string</span> │ <span style=\"color: #7f7f7f; text-decoration-color: #7f7f7f\">string</span>    │ <span style=\"color: #7f7f7f; text-decoration-color: #7f7f7f\">string</span>    │ <span style=\"color: #7f7f7f; text-decoration-color: #7f7f7f\">string</span> │ <span style=\"color: #7f7f7f; text-decoration-color: #7f7f7f\">string</span> │ <span style=\"color: #7f7f7f; text-decoration-color: #7f7f7f\">string</span>    │ <span style=\"color: #7f7f7f; text-decoration-color: #7f7f7f\">string</span> │ <span style=\"color: #7f7f7f; text-decoration-color: #7f7f7f\">string</span> │ <span style=\"color: #7f7f7f; text-decoration-color: #7f7f7f\">string</span>    │ <span style=\"color: #7f7f7f; text-decoration-color: #7f7f7f\">string</span>    │ <span style=\"color: #7f7f7f; text-decoration-color: #7f7f7f\">string</span> │ <span style=\"color: #7f7f7f; text-decoration-color: #7f7f7f\">string</span> │ <span style=\"color: #7f7f7f; text-decoration-color: #7f7f7f\">string</span> │ <span style=\"color: #7f7f7f; text-decoration-color: #7f7f7f\">string</span> │ <span style=\"color: #7f7f7f; text-decoration-color: #7f7f7f\">string</span>    │ <span style=\"color: #7f7f7f; text-decoration-color: #7f7f7f\">string</span>     │ <span style=\"color: #7f7f7f; text-decoration-color: #7f7f7f\">string</span>      │ <span style=\"color: #7f7f7f; text-decoration-color: #7f7f7f\">string</span>     │ <span style=\"color: #7f7f7f; text-decoration-color: #7f7f7f\">string</span> │ <span style=\"color: #7f7f7f; text-decoration-color: #7f7f7f\">string</span>    │ <span style=\"color: #7f7f7f; text-decoration-color: #7f7f7f\">string</span>      │ <span style=\"color: #7f7f7f; text-decoration-color: #7f7f7f\">string</span>    │ <span style=\"color: #7f7f7f; text-decoration-color: #7f7f7f\">string</span>  │ <span style=\"color: #7f7f7f; text-decoration-color: #7f7f7f\">geospatial:geometry</span>                                                              │\n",
       "├───────┼────────┼─────────────┼───────────┼─────────┼────────────┼───────────┼───────────┼────────┼────────┼────────┼─────────┼───────────┼───────────┼───────────┼───────────┼───────────┼───────────┼──────────┼────────┼───────────┼───────────┼───────────┼────────┼────────┼───────────┼───────────┼────────┼────────┼────────┼───────────┼───────────┼────────┼────────┼───────────┼────────┼────────┼───────────┼───────────┼────────┼────────┼────────┼────────┼───────────┼────────────┼─────────────┼────────────┼────────┼───────────┼─────────────┼───────────┼─────────┼──────────────────────────────────────────────────────────────────────────────────┤\n",
       "│     <span style=\"color: #008080; text-decoration-color: #008080; font-weight: bold\">1</span> │ <span style=\"color: #008000; text-decoration-color: #008000\">AFG   </span> │ <span style=\"color: #008000; text-decoration-color: #008000\">Afghanistan</span> │ <span style=\"color: #7f7f7f; text-decoration-color: #7f7f7f\">~</span>         │ <span style=\"color: #008000; text-decoration-color: #008000\">AFG.1_1</span> │ <span style=\"color: #008000; text-decoration-color: #008000\">Badakhshan</span> │ <span style=\"color: #008000; text-decoration-color: #008000\">Badahšan </span> │ <span style=\"color: #7f7f7f; text-decoration-color: #7f7f7f\">~</span>         │ <span style=\"color: #7f7f7f; text-decoration-color: #7f7f7f\">~</span>      │ <span style=\"color: #008000; text-decoration-color: #008000\">AF.BD </span> │ <span style=\"color: #7f7f7f; text-decoration-color: #7f7f7f\">~</span>      │ <span style=\"color: #008000; text-decoration-color: #008000\">Velayat</span> │ <span style=\"color: #008000; text-decoration-color: #008000\">Province </span> │ <span style=\"color: #008000; text-decoration-color: #008000\">Unknown  </span> │ <span style=\"color: #008000; text-decoration-color: #008000\">AFG.1.1_1</span> │ <span style=\"color: #008000; text-decoration-color: #008000\">Baharak  </span> │ <span style=\"color: #7f7f7f; text-decoration-color: #7f7f7f\">~</span>         │ <span style=\"color: #7f7f7f; text-decoration-color: #7f7f7f\">~</span>         │ <span style=\"color: #008000; text-decoration-color: #008000\">AF.BD.BA</span> │ <span style=\"color: #7f7f7f; text-decoration-color: #7f7f7f\">~</span>      │ <span style=\"color: #008000; text-decoration-color: #008000\">Wuleswali</span> │ <span style=\"color: #008000; text-decoration-color: #008000\">District </span> │ <span style=\"color: #008000; text-decoration-color: #008000\">Unknown  </span> │ <span style=\"color: #7f7f7f; text-decoration-color: #7f7f7f\">~</span>      │ <span style=\"color: #7f7f7f; text-decoration-color: #7f7f7f\">~</span>      │ <span style=\"color: #7f7f7f; text-decoration-color: #7f7f7f\">~</span>         │ <span style=\"color: #7f7f7f; text-decoration-color: #7f7f7f\">~</span>         │ <span style=\"color: #7f7f7f; text-decoration-color: #7f7f7f\">~</span>      │ <span style=\"color: #7f7f7f; text-decoration-color: #7f7f7f\">~</span>      │ <span style=\"color: #7f7f7f; text-decoration-color: #7f7f7f\">~</span>      │ <span style=\"color: #7f7f7f; text-decoration-color: #7f7f7f\">~</span>         │ <span style=\"color: #7f7f7f; text-decoration-color: #7f7f7f\">~</span>         │ <span style=\"color: #7f7f7f; text-decoration-color: #7f7f7f\">~</span>      │ <span style=\"color: #7f7f7f; text-decoration-color: #7f7f7f\">~</span>      │ <span style=\"color: #7f7f7f; text-decoration-color: #7f7f7f\">~</span>         │ <span style=\"color: #7f7f7f; text-decoration-color: #7f7f7f\">~</span>      │ <span style=\"color: #7f7f7f; text-decoration-color: #7f7f7f\">~</span>      │ <span style=\"color: #7f7f7f; text-decoration-color: #7f7f7f\">~</span>         │ <span style=\"color: #7f7f7f; text-decoration-color: #7f7f7f\">~</span>         │ <span style=\"color: #7f7f7f; text-decoration-color: #7f7f7f\">~</span>      │ <span style=\"color: #7f7f7f; text-decoration-color: #7f7f7f\">~</span>      │ <span style=\"color: #7f7f7f; text-decoration-color: #7f7f7f\">~</span>      │ <span style=\"color: #7f7f7f; text-decoration-color: #7f7f7f\">~</span>      │ <span style=\"color: #7f7f7f; text-decoration-color: #7f7f7f\">~</span>         │ <span style=\"color: #7f7f7f; text-decoration-color: #7f7f7f\">~</span>          │ <span style=\"color: #008000; text-decoration-color: #008000\">Afghanistan</span> │ <span style=\"color: #7f7f7f; text-decoration-color: #7f7f7f\">~</span>          │ <span style=\"color: #7f7f7f; text-decoration-color: #7f7f7f\">~</span>      │ <span style=\"color: #7f7f7f; text-decoration-color: #7f7f7f\">~</span>         │ <span style=\"color: #008000; text-decoration-color: #008000\">Afghanistan</span> │ <span style=\"color: #008000; text-decoration-color: #008000\">Asia     </span> │ <span style=\"color: #7f7f7f; text-decoration-color: #7f7f7f\">~</span>       │ <span style=\"font-weight: bold\">&lt;</span><span style=\"color: #ff00ff; text-decoration-color: #ff00ff; font-weight: bold\">MULTIPOLYGON</span><span style=\"color: #000000; text-decoration-color: #000000\"> </span><span style=\"color: #000000; text-decoration-color: #000000; font-weight: bold\">(((</span><span style=\"color: #008080; text-decoration-color: #008080; font-weight: bold\">71.411</span><span style=\"color: #000000; text-decoration-color: #000000\"> </span><span style=\"color: #008080; text-decoration-color: #008080; font-weight: bold\">36.557</span><span style=\"color: #000000; text-decoration-color: #000000\">, </span><span style=\"color: #008080; text-decoration-color: #008080; font-weight: bold\">71.41</span><span style=\"color: #000000; text-decoration-color: #000000\"> </span><span style=\"color: #008080; text-decoration-color: #008080; font-weight: bold\">36.552</span><span style=\"color: #000000; text-decoration-color: #000000\">, </span><span style=\"color: #008080; text-decoration-color: #008080; font-weight: bold\">71.396</span><span style=\"color: #000000; text-decoration-color: #000000\"> </span><span style=\"color: #008080; text-decoration-color: #008080; font-weight: bold\">36.555</span><span style=\"color: #000000; text-decoration-color: #000000\">, </span><span style=\"color: #008080; text-decoration-color: #008080; font-weight: bold\">71.374</span><span style=\"color: #000000; text-decoration-color: #000000\"> </span><span style=\"color: #008080; text-decoration-color: #008080; font-weight: bold\">36.555</span><span style=\"color: #000000; text-decoration-color: #000000\">, </span><span style=\"color: #808000; text-decoration-color: #808000\">...</span><span style=\"font-weight: bold\">&gt;</span> │\n",
       "│     <span style=\"color: #008080; text-decoration-color: #008080; font-weight: bold\">2</span> │ <span style=\"color: #008000; text-decoration-color: #008000\">AFG   </span> │ <span style=\"color: #008000; text-decoration-color: #008000\">Afghanistan</span> │ <span style=\"color: #7f7f7f; text-decoration-color: #7f7f7f\">~</span>         │ <span style=\"color: #008000; text-decoration-color: #008000\">AFG.1_1</span> │ <span style=\"color: #008000; text-decoration-color: #008000\">Badakhshan</span> │ <span style=\"color: #008000; text-decoration-color: #008000\">Badahšan </span> │ <span style=\"color: #7f7f7f; text-decoration-color: #7f7f7f\">~</span>         │ <span style=\"color: #7f7f7f; text-decoration-color: #7f7f7f\">~</span>      │ <span style=\"color: #008000; text-decoration-color: #008000\">AF.BD </span> │ <span style=\"color: #7f7f7f; text-decoration-color: #7f7f7f\">~</span>      │ <span style=\"color: #008000; text-decoration-color: #008000\">Velayat</span> │ <span style=\"color: #008000; text-decoration-color: #008000\">Province </span> │ <span style=\"color: #008000; text-decoration-color: #008000\">Unknown  </span> │ <span style=\"color: #008000; text-decoration-color: #008000\">AFG.1.2_1</span> │ <span style=\"color: #008000; text-decoration-color: #008000\">Darwaz   </span> │ <span style=\"color: #7f7f7f; text-decoration-color: #7f7f7f\">~</span>         │ <span style=\"color: #7f7f7f; text-decoration-color: #7f7f7f\">~</span>         │ <span style=\"color: #008000; text-decoration-color: #008000\">AF.BD.DA</span> │ <span style=\"color: #7f7f7f; text-decoration-color: #7f7f7f\">~</span>      │ <span style=\"color: #008000; text-decoration-color: #008000\">Wuleswali</span> │ <span style=\"color: #008000; text-decoration-color: #008000\">District </span> │ <span style=\"color: #008000; text-decoration-color: #008000\">Unknown  </span> │ <span style=\"color: #7f7f7f; text-decoration-color: #7f7f7f\">~</span>      │ <span style=\"color: #7f7f7f; text-decoration-color: #7f7f7f\">~</span>      │ <span style=\"color: #7f7f7f; text-decoration-color: #7f7f7f\">~</span>         │ <span style=\"color: #7f7f7f; text-decoration-color: #7f7f7f\">~</span>         │ <span style=\"color: #7f7f7f; text-decoration-color: #7f7f7f\">~</span>      │ <span style=\"color: #7f7f7f; text-decoration-color: #7f7f7f\">~</span>      │ <span style=\"color: #7f7f7f; text-decoration-color: #7f7f7f\">~</span>      │ <span style=\"color: #7f7f7f; text-decoration-color: #7f7f7f\">~</span>         │ <span style=\"color: #7f7f7f; text-decoration-color: #7f7f7f\">~</span>         │ <span style=\"color: #7f7f7f; text-decoration-color: #7f7f7f\">~</span>      │ <span style=\"color: #7f7f7f; text-decoration-color: #7f7f7f\">~</span>      │ <span style=\"color: #7f7f7f; text-decoration-color: #7f7f7f\">~</span>         │ <span style=\"color: #7f7f7f; text-decoration-color: #7f7f7f\">~</span>      │ <span style=\"color: #7f7f7f; text-decoration-color: #7f7f7f\">~</span>      │ <span style=\"color: #7f7f7f; text-decoration-color: #7f7f7f\">~</span>         │ <span style=\"color: #7f7f7f; text-decoration-color: #7f7f7f\">~</span>         │ <span style=\"color: #7f7f7f; text-decoration-color: #7f7f7f\">~</span>      │ <span style=\"color: #7f7f7f; text-decoration-color: #7f7f7f\">~</span>      │ <span style=\"color: #7f7f7f; text-decoration-color: #7f7f7f\">~</span>      │ <span style=\"color: #7f7f7f; text-decoration-color: #7f7f7f\">~</span>      │ <span style=\"color: #7f7f7f; text-decoration-color: #7f7f7f\">~</span>         │ <span style=\"color: #7f7f7f; text-decoration-color: #7f7f7f\">~</span>          │ <span style=\"color: #008000; text-decoration-color: #008000\">Afghanistan</span> │ <span style=\"color: #7f7f7f; text-decoration-color: #7f7f7f\">~</span>          │ <span style=\"color: #7f7f7f; text-decoration-color: #7f7f7f\">~</span>      │ <span style=\"color: #7f7f7f; text-decoration-color: #7f7f7f\">~</span>         │ <span style=\"color: #008000; text-decoration-color: #008000\">Afghanistan</span> │ <span style=\"color: #008000; text-decoration-color: #008000\">Asia     </span> │ <span style=\"color: #7f7f7f; text-decoration-color: #7f7f7f\">~</span>       │ <span style=\"font-weight: bold\">&lt;</span><span style=\"color: #ff00ff; text-decoration-color: #ff00ff; font-weight: bold\">MULTIPOLYGON</span><span style=\"color: #000000; text-decoration-color: #000000\"> </span><span style=\"color: #000000; text-decoration-color: #000000; font-weight: bold\">(((</span><span style=\"color: #008080; text-decoration-color: #008080; font-weight: bold\">71.276</span><span style=\"color: #000000; text-decoration-color: #000000\"> </span><span style=\"color: #008080; text-decoration-color: #008080; font-weight: bold\">38.005</span><span style=\"color: #000000; text-decoration-color: #000000\">, </span><span style=\"color: #008080; text-decoration-color: #008080; font-weight: bold\">71.276</span><span style=\"color: #000000; text-decoration-color: #000000\"> </span><span style=\"color: #008080; text-decoration-color: #008080; font-weight: bold\">38.005</span><span style=\"color: #000000; text-decoration-color: #000000\">, </span><span style=\"color: #008080; text-decoration-color: #008080; font-weight: bold\">71.266</span><span style=\"color: #000000; text-decoration-color: #000000\"> </span><span style=\"color: #008080; text-decoration-color: #008080; font-weight: bold\">38.006</span><span style=\"color: #000000; text-decoration-color: #000000\">, </span><span style=\"color: #008080; text-decoration-color: #008080; font-weight: bold\">71.257</span><span style=\"color: #000000; text-decoration-color: #000000\"> </span><span style=\"color: #008080; text-decoration-color: #008080; font-weight: bold\">38.01</span><span style=\"color: #000000; text-decoration-color: #000000\">, </span><span style=\"color: #808000; text-decoration-color: #808000\">...</span><span style=\"font-weight: bold\">&gt;</span> │\n",
       "│     <span style=\"color: #008080; text-decoration-color: #008080; font-weight: bold\">3</span> │ <span style=\"color: #008000; text-decoration-color: #008000\">AFG   </span> │ <span style=\"color: #008000; text-decoration-color: #008000\">Afghanistan</span> │ <span style=\"color: #7f7f7f; text-decoration-color: #7f7f7f\">~</span>         │ <span style=\"color: #008000; text-decoration-color: #008000\">AFG.1_1</span> │ <span style=\"color: #008000; text-decoration-color: #008000\">Badakhshan</span> │ <span style=\"color: #008000; text-decoration-color: #008000\">Badahšan </span> │ <span style=\"color: #7f7f7f; text-decoration-color: #7f7f7f\">~</span>         │ <span style=\"color: #7f7f7f; text-decoration-color: #7f7f7f\">~</span>      │ <span style=\"color: #008000; text-decoration-color: #008000\">AF.BD </span> │ <span style=\"color: #7f7f7f; text-decoration-color: #7f7f7f\">~</span>      │ <span style=\"color: #008000; text-decoration-color: #008000\">Velayat</span> │ <span style=\"color: #008000; text-decoration-color: #008000\">Province </span> │ <span style=\"color: #008000; text-decoration-color: #008000\">Unknown  </span> │ <span style=\"color: #008000; text-decoration-color: #008000\">AFG.1.3_1</span> │ <span style=\"color: #008000; text-decoration-color: #008000\">Fayzabad </span> │ <span style=\"color: #7f7f7f; text-decoration-color: #7f7f7f\">~</span>         │ <span style=\"color: #7f7f7f; text-decoration-color: #7f7f7f\">~</span>         │ <span style=\"color: #008000; text-decoration-color: #008000\">AF.BD.FA</span> │ <span style=\"color: #7f7f7f; text-decoration-color: #7f7f7f\">~</span>      │ <span style=\"color: #008000; text-decoration-color: #008000\">Wuleswali</span> │ <span style=\"color: #008000; text-decoration-color: #008000\">District </span> │ <span style=\"color: #008000; text-decoration-color: #008000\">Unknown  </span> │ <span style=\"color: #7f7f7f; text-decoration-color: #7f7f7f\">~</span>      │ <span style=\"color: #7f7f7f; text-decoration-color: #7f7f7f\">~</span>      │ <span style=\"color: #7f7f7f; text-decoration-color: #7f7f7f\">~</span>         │ <span style=\"color: #7f7f7f; text-decoration-color: #7f7f7f\">~</span>         │ <span style=\"color: #7f7f7f; text-decoration-color: #7f7f7f\">~</span>      │ <span style=\"color: #7f7f7f; text-decoration-color: #7f7f7f\">~</span>      │ <span style=\"color: #7f7f7f; text-decoration-color: #7f7f7f\">~</span>      │ <span style=\"color: #7f7f7f; text-decoration-color: #7f7f7f\">~</span>         │ <span style=\"color: #7f7f7f; text-decoration-color: #7f7f7f\">~</span>         │ <span style=\"color: #7f7f7f; text-decoration-color: #7f7f7f\">~</span>      │ <span style=\"color: #7f7f7f; text-decoration-color: #7f7f7f\">~</span>      │ <span style=\"color: #7f7f7f; text-decoration-color: #7f7f7f\">~</span>         │ <span style=\"color: #7f7f7f; text-decoration-color: #7f7f7f\">~</span>      │ <span style=\"color: #7f7f7f; text-decoration-color: #7f7f7f\">~</span>      │ <span style=\"color: #7f7f7f; text-decoration-color: #7f7f7f\">~</span>         │ <span style=\"color: #7f7f7f; text-decoration-color: #7f7f7f\">~</span>         │ <span style=\"color: #7f7f7f; text-decoration-color: #7f7f7f\">~</span>      │ <span style=\"color: #7f7f7f; text-decoration-color: #7f7f7f\">~</span>      │ <span style=\"color: #7f7f7f; text-decoration-color: #7f7f7f\">~</span>      │ <span style=\"color: #7f7f7f; text-decoration-color: #7f7f7f\">~</span>      │ <span style=\"color: #7f7f7f; text-decoration-color: #7f7f7f\">~</span>         │ <span style=\"color: #7f7f7f; text-decoration-color: #7f7f7f\">~</span>          │ <span style=\"color: #008000; text-decoration-color: #008000\">Afghanistan</span> │ <span style=\"color: #7f7f7f; text-decoration-color: #7f7f7f\">~</span>          │ <span style=\"color: #7f7f7f; text-decoration-color: #7f7f7f\">~</span>      │ <span style=\"color: #7f7f7f; text-decoration-color: #7f7f7f\">~</span>         │ <span style=\"color: #008000; text-decoration-color: #008000\">Afghanistan</span> │ <span style=\"color: #008000; text-decoration-color: #008000\">Asia     </span> │ <span style=\"color: #7f7f7f; text-decoration-color: #7f7f7f\">~</span>       │ <span style=\"font-weight: bold\">&lt;</span><span style=\"color: #ff00ff; text-decoration-color: #ff00ff; font-weight: bold\">MULTIPOLYGON</span><span style=\"color: #000000; text-decoration-color: #000000\"> </span><span style=\"color: #000000; text-decoration-color: #000000; font-weight: bold\">(((</span><span style=\"color: #008080; text-decoration-color: #008080; font-weight: bold\">70.783</span><span style=\"color: #000000; text-decoration-color: #000000\"> </span><span style=\"color: #008080; text-decoration-color: #008080; font-weight: bold\">37.277</span><span style=\"color: #000000; text-decoration-color: #000000\">, </span><span style=\"color: #008080; text-decoration-color: #008080; font-weight: bold\">70.786</span><span style=\"color: #000000; text-decoration-color: #000000\"> </span><span style=\"color: #008080; text-decoration-color: #008080; font-weight: bold\">37.274</span><span style=\"color: #000000; text-decoration-color: #000000\">, </span><span style=\"color: #008080; text-decoration-color: #008080; font-weight: bold\">70.79</span><span style=\"color: #000000; text-decoration-color: #000000\"> </span><span style=\"color: #008080; text-decoration-color: #008080; font-weight: bold\">37.262</span><span style=\"color: #000000; text-decoration-color: #000000\">, </span><span style=\"color: #008080; text-decoration-color: #008080; font-weight: bold\">70.802</span><span style=\"color: #000000; text-decoration-color: #000000\"> </span><span style=\"color: #008080; text-decoration-color: #008080; font-weight: bold\">37.253</span><span style=\"color: #000000; text-decoration-color: #000000\">, </span><span style=\"color: #808000; text-decoration-color: #808000\">...</span><span style=\"font-weight: bold\">&gt;</span> │\n",
       "│     <span style=\"color: #008080; text-decoration-color: #008080; font-weight: bold\">4</span> │ <span style=\"color: #008000; text-decoration-color: #008000\">AFG   </span> │ <span style=\"color: #008000; text-decoration-color: #008000\">Afghanistan</span> │ <span style=\"color: #7f7f7f; text-decoration-color: #7f7f7f\">~</span>         │ <span style=\"color: #008000; text-decoration-color: #008000\">AFG.1_1</span> │ <span style=\"color: #008000; text-decoration-color: #008000\">Badakhshan</span> │ <span style=\"color: #008000; text-decoration-color: #008000\">Badahšan </span> │ <span style=\"color: #7f7f7f; text-decoration-color: #7f7f7f\">~</span>         │ <span style=\"color: #7f7f7f; text-decoration-color: #7f7f7f\">~</span>      │ <span style=\"color: #008000; text-decoration-color: #008000\">AF.BD </span> │ <span style=\"color: #7f7f7f; text-decoration-color: #7f7f7f\">~</span>      │ <span style=\"color: #008000; text-decoration-color: #008000\">Velayat</span> │ <span style=\"color: #008000; text-decoration-color: #008000\">Province </span> │ <span style=\"color: #008000; text-decoration-color: #008000\">Unknown  </span> │ <span style=\"color: #008000; text-decoration-color: #008000\">AFG.1.4_1</span> │ <span style=\"color: #008000; text-decoration-color: #008000\">Ishkashim</span> │ <span style=\"color: #7f7f7f; text-decoration-color: #7f7f7f\">~</span>         │ <span style=\"color: #7f7f7f; text-decoration-color: #7f7f7f\">~</span>         │ <span style=\"color: #008000; text-decoration-color: #008000\">AF.BD.IK</span> │ <span style=\"color: #7f7f7f; text-decoration-color: #7f7f7f\">~</span>      │ <span style=\"color: #008000; text-decoration-color: #008000\">Wuleswali</span> │ <span style=\"color: #008000; text-decoration-color: #008000\">District </span> │ <span style=\"color: #008000; text-decoration-color: #008000\">Unknown  </span> │ <span style=\"color: #7f7f7f; text-decoration-color: #7f7f7f\">~</span>      │ <span style=\"color: #7f7f7f; text-decoration-color: #7f7f7f\">~</span>      │ <span style=\"color: #7f7f7f; text-decoration-color: #7f7f7f\">~</span>         │ <span style=\"color: #7f7f7f; text-decoration-color: #7f7f7f\">~</span>         │ <span style=\"color: #7f7f7f; text-decoration-color: #7f7f7f\">~</span>      │ <span style=\"color: #7f7f7f; text-decoration-color: #7f7f7f\">~</span>      │ <span style=\"color: #7f7f7f; text-decoration-color: #7f7f7f\">~</span>      │ <span style=\"color: #7f7f7f; text-decoration-color: #7f7f7f\">~</span>         │ <span style=\"color: #7f7f7f; text-decoration-color: #7f7f7f\">~</span>         │ <span style=\"color: #7f7f7f; text-decoration-color: #7f7f7f\">~</span>      │ <span style=\"color: #7f7f7f; text-decoration-color: #7f7f7f\">~</span>      │ <span style=\"color: #7f7f7f; text-decoration-color: #7f7f7f\">~</span>         │ <span style=\"color: #7f7f7f; text-decoration-color: #7f7f7f\">~</span>      │ <span style=\"color: #7f7f7f; text-decoration-color: #7f7f7f\">~</span>      │ <span style=\"color: #7f7f7f; text-decoration-color: #7f7f7f\">~</span>         │ <span style=\"color: #7f7f7f; text-decoration-color: #7f7f7f\">~</span>         │ <span style=\"color: #7f7f7f; text-decoration-color: #7f7f7f\">~</span>      │ <span style=\"color: #7f7f7f; text-decoration-color: #7f7f7f\">~</span>      │ <span style=\"color: #7f7f7f; text-decoration-color: #7f7f7f\">~</span>      │ <span style=\"color: #7f7f7f; text-decoration-color: #7f7f7f\">~</span>      │ <span style=\"color: #7f7f7f; text-decoration-color: #7f7f7f\">~</span>         │ <span style=\"color: #7f7f7f; text-decoration-color: #7f7f7f\">~</span>          │ <span style=\"color: #008000; text-decoration-color: #008000\">Afghanistan</span> │ <span style=\"color: #7f7f7f; text-decoration-color: #7f7f7f\">~</span>          │ <span style=\"color: #7f7f7f; text-decoration-color: #7f7f7f\">~</span>      │ <span style=\"color: #7f7f7f; text-decoration-color: #7f7f7f\">~</span>         │ <span style=\"color: #008000; text-decoration-color: #008000\">Afghanistan</span> │ <span style=\"color: #008000; text-decoration-color: #008000\">Asia     </span> │ <span style=\"color: #7f7f7f; text-decoration-color: #7f7f7f\">~</span>       │ <span style=\"font-weight: bold\">&lt;</span><span style=\"color: #ff00ff; text-decoration-color: #ff00ff; font-weight: bold\">MULTIPOLYGON</span><span style=\"color: #000000; text-decoration-color: #000000\"> </span><span style=\"color: #000000; text-decoration-color: #000000; font-weight: bold\">(((</span><span style=\"color: #008080; text-decoration-color: #008080; font-weight: bold\">71.411</span><span style=\"color: #000000; text-decoration-color: #000000\"> </span><span style=\"color: #008080; text-decoration-color: #008080; font-weight: bold\">36.557</span><span style=\"color: #000000; text-decoration-color: #000000\">, </span><span style=\"color: #008080; text-decoration-color: #008080; font-weight: bold\">71.401</span><span style=\"color: #000000; text-decoration-color: #000000\"> </span><span style=\"color: #008080; text-decoration-color: #008080; font-weight: bold\">36.562</span><span style=\"color: #000000; text-decoration-color: #000000\">, </span><span style=\"color: #008080; text-decoration-color: #008080; font-weight: bold\">71.387</span><span style=\"color: #000000; text-decoration-color: #000000\"> </span><span style=\"color: #008080; text-decoration-color: #008080; font-weight: bold\">36.565</span><span style=\"color: #000000; text-decoration-color: #000000\">, </span><span style=\"color: #008080; text-decoration-color: #008080; font-weight: bold\">71.379</span><span style=\"color: #000000; text-decoration-color: #000000\"> </span><span style=\"color: #008080; text-decoration-color: #008080; font-weight: bold\">36.568</span><span style=\"color: #000000; text-decoration-color: #000000\">,</span><span style=\"color: #808000; text-decoration-color: #808000\">...</span><span style=\"font-weight: bold\">&gt;</span> │\n",
       "│     <span style=\"color: #008080; text-decoration-color: #008080; font-weight: bold\">5</span> │ <span style=\"color: #008000; text-decoration-color: #008000\">AFG   </span> │ <span style=\"color: #008000; text-decoration-color: #008000\">Afghanistan</span> │ <span style=\"color: #7f7f7f; text-decoration-color: #7f7f7f\">~</span>         │ <span style=\"color: #008000; text-decoration-color: #008000\">AFG.1_1</span> │ <span style=\"color: #008000; text-decoration-color: #008000\">Badakhshan</span> │ <span style=\"color: #008000; text-decoration-color: #008000\">Badahšan </span> │ <span style=\"color: #7f7f7f; text-decoration-color: #7f7f7f\">~</span>         │ <span style=\"color: #7f7f7f; text-decoration-color: #7f7f7f\">~</span>      │ <span style=\"color: #008000; text-decoration-color: #008000\">AF.BD </span> │ <span style=\"color: #7f7f7f; text-decoration-color: #7f7f7f\">~</span>      │ <span style=\"color: #008000; text-decoration-color: #008000\">Velayat</span> │ <span style=\"color: #008000; text-decoration-color: #008000\">Province </span> │ <span style=\"color: #008000; text-decoration-color: #008000\">Unknown  </span> │ <span style=\"color: #008000; text-decoration-color: #008000\">AFG.1.5_1</span> │ <span style=\"color: #008000; text-decoration-color: #008000\">Jurm     </span> │ <span style=\"color: #7f7f7f; text-decoration-color: #7f7f7f\">~</span>         │ <span style=\"color: #7f7f7f; text-decoration-color: #7f7f7f\">~</span>         │ <span style=\"color: #008000; text-decoration-color: #008000\">AF.BD.JU</span> │ <span style=\"color: #7f7f7f; text-decoration-color: #7f7f7f\">~</span>      │ <span style=\"color: #008000; text-decoration-color: #008000\">Wuleswali</span> │ <span style=\"color: #008000; text-decoration-color: #008000\">District </span> │ <span style=\"color: #008000; text-decoration-color: #008000\">Unknown  </span> │ <span style=\"color: #7f7f7f; text-decoration-color: #7f7f7f\">~</span>      │ <span style=\"color: #7f7f7f; text-decoration-color: #7f7f7f\">~</span>      │ <span style=\"color: #7f7f7f; text-decoration-color: #7f7f7f\">~</span>         │ <span style=\"color: #7f7f7f; text-decoration-color: #7f7f7f\">~</span>         │ <span style=\"color: #7f7f7f; text-decoration-color: #7f7f7f\">~</span>      │ <span style=\"color: #7f7f7f; text-decoration-color: #7f7f7f\">~</span>      │ <span style=\"color: #7f7f7f; text-decoration-color: #7f7f7f\">~</span>      │ <span style=\"color: #7f7f7f; text-decoration-color: #7f7f7f\">~</span>         │ <span style=\"color: #7f7f7f; text-decoration-color: #7f7f7f\">~</span>         │ <span style=\"color: #7f7f7f; text-decoration-color: #7f7f7f\">~</span>      │ <span style=\"color: #7f7f7f; text-decoration-color: #7f7f7f\">~</span>      │ <span style=\"color: #7f7f7f; text-decoration-color: #7f7f7f\">~</span>         │ <span style=\"color: #7f7f7f; text-decoration-color: #7f7f7f\">~</span>      │ <span style=\"color: #7f7f7f; text-decoration-color: #7f7f7f\">~</span>      │ <span style=\"color: #7f7f7f; text-decoration-color: #7f7f7f\">~</span>         │ <span style=\"color: #7f7f7f; text-decoration-color: #7f7f7f\">~</span>         │ <span style=\"color: #7f7f7f; text-decoration-color: #7f7f7f\">~</span>      │ <span style=\"color: #7f7f7f; text-decoration-color: #7f7f7f\">~</span>      │ <span style=\"color: #7f7f7f; text-decoration-color: #7f7f7f\">~</span>      │ <span style=\"color: #7f7f7f; text-decoration-color: #7f7f7f\">~</span>      │ <span style=\"color: #7f7f7f; text-decoration-color: #7f7f7f\">~</span>         │ <span style=\"color: #7f7f7f; text-decoration-color: #7f7f7f\">~</span>          │ <span style=\"color: #008000; text-decoration-color: #008000\">Afghanistan</span> │ <span style=\"color: #7f7f7f; text-decoration-color: #7f7f7f\">~</span>          │ <span style=\"color: #7f7f7f; text-decoration-color: #7f7f7f\">~</span>      │ <span style=\"color: #7f7f7f; text-decoration-color: #7f7f7f\">~</span>         │ <span style=\"color: #008000; text-decoration-color: #008000\">Afghanistan</span> │ <span style=\"color: #008000; text-decoration-color: #008000\">Asia     </span> │ <span style=\"color: #7f7f7f; text-decoration-color: #7f7f7f\">~</span>       │ <span style=\"font-weight: bold\">&lt;</span><span style=\"color: #ff00ff; text-decoration-color: #ff00ff; font-weight: bold\">MULTIPOLYGON</span><span style=\"color: #000000; text-decoration-color: #000000\"> </span><span style=\"color: #000000; text-decoration-color: #000000; font-weight: bold\">(((</span><span style=\"color: #008080; text-decoration-color: #008080; font-weight: bold\">70.712</span><span style=\"color: #000000; text-decoration-color: #000000\"> </span><span style=\"color: #008080; text-decoration-color: #008080; font-weight: bold\">37.076</span><span style=\"color: #000000; text-decoration-color: #000000\">, </span><span style=\"color: #008080; text-decoration-color: #008080; font-weight: bold\">70.736</span><span style=\"color: #000000; text-decoration-color: #000000\"> </span><span style=\"color: #008080; text-decoration-color: #008080; font-weight: bold\">37.065</span><span style=\"color: #000000; text-decoration-color: #000000\">, </span><span style=\"color: #008080; text-decoration-color: #008080; font-weight: bold\">70.754</span><span style=\"color: #000000; text-decoration-color: #000000\"> </span><span style=\"color: #008080; text-decoration-color: #008080; font-weight: bold\">37.055</span><span style=\"color: #000000; text-decoration-color: #000000\">, </span><span style=\"color: #008080; text-decoration-color: #008080; font-weight: bold\">70.767</span><span style=\"color: #000000; text-decoration-color: #000000\"> </span><span style=\"color: #008080; text-decoration-color: #008080; font-weight: bold\">37.042</span><span style=\"color: #000000; text-decoration-color: #000000\">,</span><span style=\"color: #808000; text-decoration-color: #808000\">...</span><span style=\"font-weight: bold\">&gt;</span> │\n",
       "└───────┴────────┴─────────────┴───────────┴─────────┴────────────┴───────────┴───────────┴────────┴────────┴────────┴─────────┴───────────┴───────────┴───────────┴───────────┴───────────┴───────────┴──────────┴────────┴───────────┴───────────┴───────────┴────────┴────────┴───────────┴───────────┴────────┴────────┴────────┴───────────┴───────────┴────────┴────────┴───────────┴────────┴────────┴───────────┴───────────┴────────┴────────┴────────┴────────┴───────────┴────────────┴─────────────┴────────────┴────────┴───────────┴─────────────┴───────────┴─────────┴──────────────────────────────────────────────────────────────────────────────────┘\n",
       "</pre>\n"
      ],
      "text/plain": [
       "┏━━━━━━━┳━━━━━━━━┳━━━━━━━━━━━━━┳━━━━━━━━━━━┳━━━━━━━━━┳━━━━━━━━━━━━┳━━━━━━━━━━━┳━━━━━━━━━━━┳━━━━━━━━┳━━━━━━━━┳━━━━━━━━┳━━━━━━━━━┳━━━━━━━━━━━┳━━━━━━━━━━━┳━━━━━━━━━━━┳━━━━━━━━━━━┳━━━━━━━━━━━┳━━━━━━━━━━━┳━━━━━━━━━━┳━━━━━━━━┳━━━━━━━━━━━┳━━━━━━━━━━━┳━━━━━━━━━━━┳━━━━━━━━┳━━━━━━━━┳━━━━━━━━━━━┳━━━━━━━━━━━┳━━━━━━━━┳━━━━━━━━┳━━━━━━━━┳━━━━━━━━━━━┳━━━━━━━━━━━┳━━━━━━━━┳━━━━━━━━┳━━━━━━━━━━━┳━━━━━━━━┳━━━━━━━━┳━━━━━━━━━━━┳━━━━━━━━━━━┳━━━━━━━━┳━━━━━━━━┳━━━━━━━━┳━━━━━━━━┳━━━━━━━━━━━┳━━━━━━━━━━━━┳━━━━━━━━━━━━━┳━━━━━━━━━━━━┳━━━━━━━━┳━━━━━━━━━━━┳━━━━━━━━━━━━━┳━━━━━━━━━━━┳━━━━━━━━━┳━━━━━━━━━━━━━━━━━━━━━━━━━━━━━━━━━━━━━━━━━━━━━━━━━━━━━━━━━━━━━━━━━━━━━━━━━━━━━━━━━━┓\n",
       "┃\u001b[1m \u001b[0m\u001b[1mUID\u001b[0m\u001b[1m  \u001b[0m\u001b[1m \u001b[0m┃\u001b[1m \u001b[0m\u001b[1mGID_0\u001b[0m\u001b[1m \u001b[0m\u001b[1m \u001b[0m┃\u001b[1m \u001b[0m\u001b[1mNAME_0\u001b[0m\u001b[1m     \u001b[0m\u001b[1m \u001b[0m┃\u001b[1m \u001b[0m\u001b[1mVARNAME_0\u001b[0m\u001b[1m \u001b[0m┃\u001b[1m \u001b[0m\u001b[1mGID_1\u001b[0m\u001b[1m  \u001b[0m\u001b[1m \u001b[0m┃\u001b[1m \u001b[0m\u001b[1mNAME_1\u001b[0m\u001b[1m    \u001b[0m\u001b[1m \u001b[0m┃\u001b[1m \u001b[0m\u001b[1mVARNAME_1\u001b[0m\u001b[1m \u001b[0m┃\u001b[1m \u001b[0m\u001b[1mNL_NAME_1\u001b[0m\u001b[1m \u001b[0m┃\u001b[1m \u001b[0m\u001b[1mISO_1\u001b[0m\u001b[1m \u001b[0m\u001b[1m \u001b[0m┃\u001b[1m \u001b[0m\u001b[1mHASC_1\u001b[0m\u001b[1m \u001b[0m┃\u001b[1m \u001b[0m\u001b[1mCC_1\u001b[0m\u001b[1m  \u001b[0m\u001b[1m \u001b[0m┃\u001b[1m \u001b[0m\u001b[1mTYPE_1\u001b[0m\u001b[1m \u001b[0m\u001b[1m \u001b[0m┃\u001b[1m \u001b[0m\u001b[1mENGTYPE_1\u001b[0m\u001b[1m \u001b[0m┃\u001b[1m \u001b[0m\u001b[1mVALIDFR_1\u001b[0m\u001b[1m \u001b[0m┃\u001b[1m \u001b[0m\u001b[1mGID_2\u001b[0m\u001b[1m    \u001b[0m\u001b[1m \u001b[0m┃\u001b[1m \u001b[0m\u001b[1mNAME_2\u001b[0m\u001b[1m   \u001b[0m\u001b[1m \u001b[0m┃\u001b[1m \u001b[0m\u001b[1mVARNAME_2\u001b[0m\u001b[1m \u001b[0m┃\u001b[1m \u001b[0m\u001b[1mNL_NAME_2\u001b[0m\u001b[1m \u001b[0m┃\u001b[1m \u001b[0m\u001b[1mHASC_2\u001b[0m\u001b[1m  \u001b[0m\u001b[1m \u001b[0m┃\u001b[1m \u001b[0m\u001b[1mCC_2\u001b[0m\u001b[1m  \u001b[0m\u001b[1m \u001b[0m┃\u001b[1m \u001b[0m\u001b[1mTYPE_2\u001b[0m\u001b[1m   \u001b[0m\u001b[1m \u001b[0m┃\u001b[1m \u001b[0m\u001b[1mENGTYPE_2\u001b[0m\u001b[1m \u001b[0m┃\u001b[1m \u001b[0m\u001b[1mVALIDFR_2\u001b[0m\u001b[1m \u001b[0m┃\u001b[1m \u001b[0m\u001b[1mGID_3\u001b[0m\u001b[1m \u001b[0m\u001b[1m \u001b[0m┃\u001b[1m \u001b[0m\u001b[1mNAME_3\u001b[0m\u001b[1m \u001b[0m┃\u001b[1m \u001b[0m\u001b[1mVARNAME_3\u001b[0m\u001b[1m \u001b[0m┃\u001b[1m \u001b[0m\u001b[1mNL_NAME_3\u001b[0m\u001b[1m \u001b[0m┃\u001b[1m \u001b[0m\u001b[1mHASC_3\u001b[0m\u001b[1m \u001b[0m┃\u001b[1m \u001b[0m\u001b[1mCC_3\u001b[0m\u001b[1m  \u001b[0m\u001b[1m \u001b[0m┃\u001b[1m \u001b[0m\u001b[1mTYPE_3\u001b[0m\u001b[1m \u001b[0m┃\u001b[1m \u001b[0m\u001b[1mENGTYPE_3\u001b[0m\u001b[1m \u001b[0m┃\u001b[1m \u001b[0m\u001b[1mVALIDFR_3\u001b[0m\u001b[1m \u001b[0m┃\u001b[1m \u001b[0m\u001b[1mGID_4\u001b[0m\u001b[1m \u001b[0m\u001b[1m \u001b[0m┃\u001b[1m \u001b[0m\u001b[1mNAME_4\u001b[0m\u001b[1m \u001b[0m┃\u001b[1m \u001b[0m\u001b[1mVARNAME_4\u001b[0m\u001b[1m \u001b[0m┃\u001b[1m \u001b[0m\u001b[1mCC_4\u001b[0m\u001b[1m  \u001b[0m\u001b[1m \u001b[0m┃\u001b[1m \u001b[0m\u001b[1mTYPE_4\u001b[0m\u001b[1m \u001b[0m┃\u001b[1m \u001b[0m\u001b[1mENGTYPE_4\u001b[0m\u001b[1m \u001b[0m┃\u001b[1m \u001b[0m\u001b[1mVALIDFR_4\u001b[0m\u001b[1m \u001b[0m┃\u001b[1m \u001b[0m\u001b[1mGID_5\u001b[0m\u001b[1m \u001b[0m\u001b[1m \u001b[0m┃\u001b[1m \u001b[0m\u001b[1mNAME_5\u001b[0m\u001b[1m \u001b[0m┃\u001b[1m \u001b[0m\u001b[1mCC_5\u001b[0m\u001b[1m  \u001b[0m\u001b[1m \u001b[0m┃\u001b[1m \u001b[0m\u001b[1mTYPE_5\u001b[0m\u001b[1m \u001b[0m┃\u001b[1m \u001b[0m\u001b[1mENGTYPE_5\u001b[0m\u001b[1m \u001b[0m┃\u001b[1m \u001b[0m\u001b[1mGOVERNEDBY\u001b[0m\u001b[1m \u001b[0m┃\u001b[1m \u001b[0m\u001b[1mSOVEREIGN\u001b[0m\u001b[1m  \u001b[0m\u001b[1m \u001b[0m┃\u001b[1m \u001b[0m\u001b[1mDISPUTEDBY\u001b[0m\u001b[1m \u001b[0m┃\u001b[1m \u001b[0m\u001b[1mREGION\u001b[0m\u001b[1m \u001b[0m┃\u001b[1m \u001b[0m\u001b[1mVARREGION\u001b[0m\u001b[1m \u001b[0m┃\u001b[1m \u001b[0m\u001b[1mCOUNTRY\u001b[0m\u001b[1m    \u001b[0m\u001b[1m \u001b[0m┃\u001b[1m \u001b[0m\u001b[1mCONTINENT\u001b[0m\u001b[1m \u001b[0m┃\u001b[1m \u001b[0m\u001b[1mSUBCONT\u001b[0m\u001b[1m \u001b[0m┃\u001b[1m \u001b[0m\u001b[1mgeom\u001b[0m\u001b[1m                                                                            \u001b[0m\u001b[1m \u001b[0m┃\n",
       "┡━━━━━━━╇━━━━━━━━╇━━━━━━━━━━━━━╇━━━━━━━━━━━╇━━━━━━━━━╇━━━━━━━━━━━━╇━━━━━━━━━━━╇━━━━━━━━━━━╇━━━━━━━━╇━━━━━━━━╇━━━━━━━━╇━━━━━━━━━╇━━━━━━━━━━━╇━━━━━━━━━━━╇━━━━━━━━━━━╇━━━━━━━━━━━╇━━━━━━━━━━━╇━━━━━━━━━━━╇━━━━━━━━━━╇━━━━━━━━╇━━━━━━━━━━━╇━━━━━━━━━━━╇━━━━━━━━━━━╇━━━━━━━━╇━━━━━━━━╇━━━━━━━━━━━╇━━━━━━━━━━━╇━━━━━━━━╇━━━━━━━━╇━━━━━━━━╇━━━━━━━━━━━╇━━━━━━━━━━━╇━━━━━━━━╇━━━━━━━━╇━━━━━━━━━━━╇━━━━━━━━╇━━━━━━━━╇━━━━━━━━━━━╇━━━━━━━━━━━╇━━━━━━━━╇━━━━━━━━╇━━━━━━━━╇━━━━━━━━╇━━━━━━━━━━━╇━━━━━━━━━━━━╇━━━━━━━━━━━━━╇━━━━━━━━━━━━╇━━━━━━━━╇━━━━━━━━━━━╇━━━━━━━━━━━━━╇━━━━━━━━━━━╇━━━━━━━━━╇━━━━━━━━━━━━━━━━━━━━━━━━━━━━━━━━━━━━━━━━━━━━━━━━━━━━━━━━━━━━━━━━━━━━━━━━━━━━━━━━━━┩\n",
       "│ \u001b[2mint64\u001b[0m │ \u001b[2mstring\u001b[0m │ \u001b[2mstring\u001b[0m      │ \u001b[2mstring\u001b[0m    │ \u001b[2mstring\u001b[0m  │ \u001b[2mstring\u001b[0m     │ \u001b[2mstring\u001b[0m    │ \u001b[2mstring\u001b[0m    │ \u001b[2mstring\u001b[0m │ \u001b[2mstring\u001b[0m │ \u001b[2mstring\u001b[0m │ \u001b[2mstring\u001b[0m  │ \u001b[2mstring\u001b[0m    │ \u001b[2mstring\u001b[0m    │ \u001b[2mstring\u001b[0m    │ \u001b[2mstring\u001b[0m    │ \u001b[2mstring\u001b[0m    │ \u001b[2mstring\u001b[0m    │ \u001b[2mstring\u001b[0m   │ \u001b[2mstring\u001b[0m │ \u001b[2mstring\u001b[0m    │ \u001b[2mstring\u001b[0m    │ \u001b[2mstring\u001b[0m    │ \u001b[2mstring\u001b[0m │ \u001b[2mstring\u001b[0m │ \u001b[2mstring\u001b[0m    │ \u001b[2mstring\u001b[0m    │ \u001b[2mstring\u001b[0m │ \u001b[2mstring\u001b[0m │ \u001b[2mstring\u001b[0m │ \u001b[2mstring\u001b[0m    │ \u001b[2mstring\u001b[0m    │ \u001b[2mstring\u001b[0m │ \u001b[2mstring\u001b[0m │ \u001b[2mstring\u001b[0m    │ \u001b[2mstring\u001b[0m │ \u001b[2mstring\u001b[0m │ \u001b[2mstring\u001b[0m    │ \u001b[2mstring\u001b[0m    │ \u001b[2mstring\u001b[0m │ \u001b[2mstring\u001b[0m │ \u001b[2mstring\u001b[0m │ \u001b[2mstring\u001b[0m │ \u001b[2mstring\u001b[0m    │ \u001b[2mstring\u001b[0m     │ \u001b[2mstring\u001b[0m      │ \u001b[2mstring\u001b[0m     │ \u001b[2mstring\u001b[0m │ \u001b[2mstring\u001b[0m    │ \u001b[2mstring\u001b[0m      │ \u001b[2mstring\u001b[0m    │ \u001b[2mstring\u001b[0m  │ \u001b[2mgeospatial:geometry\u001b[0m                                                              │\n",
       "├───────┼────────┼─────────────┼───────────┼─────────┼────────────┼───────────┼───────────┼────────┼────────┼────────┼─────────┼───────────┼───────────┼───────────┼───────────┼───────────┼───────────┼──────────┼────────┼───────────┼───────────┼───────────┼────────┼────────┼───────────┼───────────┼────────┼────────┼────────┼───────────┼───────────┼────────┼────────┼───────────┼────────┼────────┼───────────┼───────────┼────────┼────────┼────────┼────────┼───────────┼────────────┼─────────────┼────────────┼────────┼───────────┼─────────────┼───────────┼─────────┼──────────────────────────────────────────────────────────────────────────────────┤\n",
       "│     \u001b[1;36m1\u001b[0m │ \u001b[32mAFG   \u001b[0m │ \u001b[32mAfghanistan\u001b[0m │ \u001b[2m~\u001b[0m         │ \u001b[32mAFG.1_1\u001b[0m │ \u001b[32mBadakhshan\u001b[0m │ \u001b[32mBadahšan \u001b[0m │ \u001b[2m~\u001b[0m         │ \u001b[2m~\u001b[0m      │ \u001b[32mAF.BD \u001b[0m │ \u001b[2m~\u001b[0m      │ \u001b[32mVelayat\u001b[0m │ \u001b[32mProvince \u001b[0m │ \u001b[32mUnknown  \u001b[0m │ \u001b[32mAFG.1.1_1\u001b[0m │ \u001b[32mBaharak  \u001b[0m │ \u001b[2m~\u001b[0m         │ \u001b[2m~\u001b[0m         │ \u001b[32mAF.BD.BA\u001b[0m │ \u001b[2m~\u001b[0m      │ \u001b[32mWuleswali\u001b[0m │ \u001b[32mDistrict \u001b[0m │ \u001b[32mUnknown  \u001b[0m │ \u001b[2m~\u001b[0m      │ \u001b[2m~\u001b[0m      │ \u001b[2m~\u001b[0m         │ \u001b[2m~\u001b[0m         │ \u001b[2m~\u001b[0m      │ \u001b[2m~\u001b[0m      │ \u001b[2m~\u001b[0m      │ \u001b[2m~\u001b[0m         │ \u001b[2m~\u001b[0m         │ \u001b[2m~\u001b[0m      │ \u001b[2m~\u001b[0m      │ \u001b[2m~\u001b[0m         │ \u001b[2m~\u001b[0m      │ \u001b[2m~\u001b[0m      │ \u001b[2m~\u001b[0m         │ \u001b[2m~\u001b[0m         │ \u001b[2m~\u001b[0m      │ \u001b[2m~\u001b[0m      │ \u001b[2m~\u001b[0m      │ \u001b[2m~\u001b[0m      │ \u001b[2m~\u001b[0m         │ \u001b[2m~\u001b[0m          │ \u001b[32mAfghanistan\u001b[0m │ \u001b[2m~\u001b[0m          │ \u001b[2m~\u001b[0m      │ \u001b[2m~\u001b[0m         │ \u001b[32mAfghanistan\u001b[0m │ \u001b[32mAsia     \u001b[0m │ \u001b[2m~\u001b[0m       │ \u001b[1m<\u001b[0m\u001b[1;95mMULTIPOLYGON\u001b[0m\u001b[39m \u001b[0m\u001b[1;39m(\u001b[0m\u001b[1;39m(\u001b[0m\u001b[1;39m(\u001b[0m\u001b[1;36m71.411\u001b[0m\u001b[39m \u001b[0m\u001b[1;36m36.557\u001b[0m\u001b[39m, \u001b[0m\u001b[1;36m71.41\u001b[0m\u001b[39m \u001b[0m\u001b[1;36m36.552\u001b[0m\u001b[39m, \u001b[0m\u001b[1;36m71.396\u001b[0m\u001b[39m \u001b[0m\u001b[1;36m36.555\u001b[0m\u001b[39m, \u001b[0m\u001b[1;36m71.374\u001b[0m\u001b[39m \u001b[0m\u001b[1;36m36.555\u001b[0m\u001b[39m, \u001b[0m\u001b[33m...\u001b[0m\u001b[1m>\u001b[0m │\n",
       "│     \u001b[1;36m2\u001b[0m │ \u001b[32mAFG   \u001b[0m │ \u001b[32mAfghanistan\u001b[0m │ \u001b[2m~\u001b[0m         │ \u001b[32mAFG.1_1\u001b[0m │ \u001b[32mBadakhshan\u001b[0m │ \u001b[32mBadahšan \u001b[0m │ \u001b[2m~\u001b[0m         │ \u001b[2m~\u001b[0m      │ \u001b[32mAF.BD \u001b[0m │ \u001b[2m~\u001b[0m      │ \u001b[32mVelayat\u001b[0m │ \u001b[32mProvince \u001b[0m │ \u001b[32mUnknown  \u001b[0m │ \u001b[32mAFG.1.2_1\u001b[0m │ \u001b[32mDarwaz   \u001b[0m │ \u001b[2m~\u001b[0m         │ \u001b[2m~\u001b[0m         │ \u001b[32mAF.BD.DA\u001b[0m │ \u001b[2m~\u001b[0m      │ \u001b[32mWuleswali\u001b[0m │ \u001b[32mDistrict \u001b[0m │ \u001b[32mUnknown  \u001b[0m │ \u001b[2m~\u001b[0m      │ \u001b[2m~\u001b[0m      │ \u001b[2m~\u001b[0m         │ \u001b[2m~\u001b[0m         │ \u001b[2m~\u001b[0m      │ \u001b[2m~\u001b[0m      │ \u001b[2m~\u001b[0m      │ \u001b[2m~\u001b[0m         │ \u001b[2m~\u001b[0m         │ \u001b[2m~\u001b[0m      │ \u001b[2m~\u001b[0m      │ \u001b[2m~\u001b[0m         │ \u001b[2m~\u001b[0m      │ \u001b[2m~\u001b[0m      │ \u001b[2m~\u001b[0m         │ \u001b[2m~\u001b[0m         │ \u001b[2m~\u001b[0m      │ \u001b[2m~\u001b[0m      │ \u001b[2m~\u001b[0m      │ \u001b[2m~\u001b[0m      │ \u001b[2m~\u001b[0m         │ \u001b[2m~\u001b[0m          │ \u001b[32mAfghanistan\u001b[0m │ \u001b[2m~\u001b[0m          │ \u001b[2m~\u001b[0m      │ \u001b[2m~\u001b[0m         │ \u001b[32mAfghanistan\u001b[0m │ \u001b[32mAsia     \u001b[0m │ \u001b[2m~\u001b[0m       │ \u001b[1m<\u001b[0m\u001b[1;95mMULTIPOLYGON\u001b[0m\u001b[39m \u001b[0m\u001b[1;39m(\u001b[0m\u001b[1;39m(\u001b[0m\u001b[1;39m(\u001b[0m\u001b[1;36m71.276\u001b[0m\u001b[39m \u001b[0m\u001b[1;36m38.005\u001b[0m\u001b[39m, \u001b[0m\u001b[1;36m71.276\u001b[0m\u001b[39m \u001b[0m\u001b[1;36m38.005\u001b[0m\u001b[39m, \u001b[0m\u001b[1;36m71.266\u001b[0m\u001b[39m \u001b[0m\u001b[1;36m38.006\u001b[0m\u001b[39m, \u001b[0m\u001b[1;36m71.257\u001b[0m\u001b[39m \u001b[0m\u001b[1;36m38.01\u001b[0m\u001b[39m, \u001b[0m\u001b[33m...\u001b[0m\u001b[1m>\u001b[0m │\n",
       "│     \u001b[1;36m3\u001b[0m │ \u001b[32mAFG   \u001b[0m │ \u001b[32mAfghanistan\u001b[0m │ \u001b[2m~\u001b[0m         │ \u001b[32mAFG.1_1\u001b[0m │ \u001b[32mBadakhshan\u001b[0m │ \u001b[32mBadahšan \u001b[0m │ \u001b[2m~\u001b[0m         │ \u001b[2m~\u001b[0m      │ \u001b[32mAF.BD \u001b[0m │ \u001b[2m~\u001b[0m      │ \u001b[32mVelayat\u001b[0m │ \u001b[32mProvince \u001b[0m │ \u001b[32mUnknown  \u001b[0m │ \u001b[32mAFG.1.3_1\u001b[0m │ \u001b[32mFayzabad \u001b[0m │ \u001b[2m~\u001b[0m         │ \u001b[2m~\u001b[0m         │ \u001b[32mAF.BD.FA\u001b[0m │ \u001b[2m~\u001b[0m      │ \u001b[32mWuleswali\u001b[0m │ \u001b[32mDistrict \u001b[0m │ \u001b[32mUnknown  \u001b[0m │ \u001b[2m~\u001b[0m      │ \u001b[2m~\u001b[0m      │ \u001b[2m~\u001b[0m         │ \u001b[2m~\u001b[0m         │ \u001b[2m~\u001b[0m      │ \u001b[2m~\u001b[0m      │ \u001b[2m~\u001b[0m      │ \u001b[2m~\u001b[0m         │ \u001b[2m~\u001b[0m         │ \u001b[2m~\u001b[0m      │ \u001b[2m~\u001b[0m      │ \u001b[2m~\u001b[0m         │ \u001b[2m~\u001b[0m      │ \u001b[2m~\u001b[0m      │ \u001b[2m~\u001b[0m         │ \u001b[2m~\u001b[0m         │ \u001b[2m~\u001b[0m      │ \u001b[2m~\u001b[0m      │ \u001b[2m~\u001b[0m      │ \u001b[2m~\u001b[0m      │ \u001b[2m~\u001b[0m         │ \u001b[2m~\u001b[0m          │ \u001b[32mAfghanistan\u001b[0m │ \u001b[2m~\u001b[0m          │ \u001b[2m~\u001b[0m      │ \u001b[2m~\u001b[0m         │ \u001b[32mAfghanistan\u001b[0m │ \u001b[32mAsia     \u001b[0m │ \u001b[2m~\u001b[0m       │ \u001b[1m<\u001b[0m\u001b[1;95mMULTIPOLYGON\u001b[0m\u001b[39m \u001b[0m\u001b[1;39m(\u001b[0m\u001b[1;39m(\u001b[0m\u001b[1;39m(\u001b[0m\u001b[1;36m70.783\u001b[0m\u001b[39m \u001b[0m\u001b[1;36m37.277\u001b[0m\u001b[39m, \u001b[0m\u001b[1;36m70.786\u001b[0m\u001b[39m \u001b[0m\u001b[1;36m37.274\u001b[0m\u001b[39m, \u001b[0m\u001b[1;36m70.79\u001b[0m\u001b[39m \u001b[0m\u001b[1;36m37.262\u001b[0m\u001b[39m, \u001b[0m\u001b[1;36m70.802\u001b[0m\u001b[39m \u001b[0m\u001b[1;36m37.253\u001b[0m\u001b[39m, \u001b[0m\u001b[33m...\u001b[0m\u001b[1m>\u001b[0m │\n",
       "│     \u001b[1;36m4\u001b[0m │ \u001b[32mAFG   \u001b[0m │ \u001b[32mAfghanistan\u001b[0m │ \u001b[2m~\u001b[0m         │ \u001b[32mAFG.1_1\u001b[0m │ \u001b[32mBadakhshan\u001b[0m │ \u001b[32mBadahšan \u001b[0m │ \u001b[2m~\u001b[0m         │ \u001b[2m~\u001b[0m      │ \u001b[32mAF.BD \u001b[0m │ \u001b[2m~\u001b[0m      │ \u001b[32mVelayat\u001b[0m │ \u001b[32mProvince \u001b[0m │ \u001b[32mUnknown  \u001b[0m │ \u001b[32mAFG.1.4_1\u001b[0m │ \u001b[32mIshkashim\u001b[0m │ \u001b[2m~\u001b[0m         │ \u001b[2m~\u001b[0m         │ \u001b[32mAF.BD.IK\u001b[0m │ \u001b[2m~\u001b[0m      │ \u001b[32mWuleswali\u001b[0m │ \u001b[32mDistrict \u001b[0m │ \u001b[32mUnknown  \u001b[0m │ \u001b[2m~\u001b[0m      │ \u001b[2m~\u001b[0m      │ \u001b[2m~\u001b[0m         │ \u001b[2m~\u001b[0m         │ \u001b[2m~\u001b[0m      │ \u001b[2m~\u001b[0m      │ \u001b[2m~\u001b[0m      │ \u001b[2m~\u001b[0m         │ \u001b[2m~\u001b[0m         │ \u001b[2m~\u001b[0m      │ \u001b[2m~\u001b[0m      │ \u001b[2m~\u001b[0m         │ \u001b[2m~\u001b[0m      │ \u001b[2m~\u001b[0m      │ \u001b[2m~\u001b[0m         │ \u001b[2m~\u001b[0m         │ \u001b[2m~\u001b[0m      │ \u001b[2m~\u001b[0m      │ \u001b[2m~\u001b[0m      │ \u001b[2m~\u001b[0m      │ \u001b[2m~\u001b[0m         │ \u001b[2m~\u001b[0m          │ \u001b[32mAfghanistan\u001b[0m │ \u001b[2m~\u001b[0m          │ \u001b[2m~\u001b[0m      │ \u001b[2m~\u001b[0m         │ \u001b[32mAfghanistan\u001b[0m │ \u001b[32mAsia     \u001b[0m │ \u001b[2m~\u001b[0m       │ \u001b[1m<\u001b[0m\u001b[1;95mMULTIPOLYGON\u001b[0m\u001b[39m \u001b[0m\u001b[1;39m(\u001b[0m\u001b[1;39m(\u001b[0m\u001b[1;39m(\u001b[0m\u001b[1;36m71.411\u001b[0m\u001b[39m \u001b[0m\u001b[1;36m36.557\u001b[0m\u001b[39m, \u001b[0m\u001b[1;36m71.401\u001b[0m\u001b[39m \u001b[0m\u001b[1;36m36.562\u001b[0m\u001b[39m, \u001b[0m\u001b[1;36m71.387\u001b[0m\u001b[39m \u001b[0m\u001b[1;36m36.565\u001b[0m\u001b[39m, \u001b[0m\u001b[1;36m71.379\u001b[0m\u001b[39m \u001b[0m\u001b[1;36m36.568\u001b[0m\u001b[39m,\u001b[0m\u001b[33m...\u001b[0m\u001b[1m>\u001b[0m │\n",
       "│     \u001b[1;36m5\u001b[0m │ \u001b[32mAFG   \u001b[0m │ \u001b[32mAfghanistan\u001b[0m │ \u001b[2m~\u001b[0m         │ \u001b[32mAFG.1_1\u001b[0m │ \u001b[32mBadakhshan\u001b[0m │ \u001b[32mBadahšan \u001b[0m │ \u001b[2m~\u001b[0m         │ \u001b[2m~\u001b[0m      │ \u001b[32mAF.BD \u001b[0m │ \u001b[2m~\u001b[0m      │ \u001b[32mVelayat\u001b[0m │ \u001b[32mProvince \u001b[0m │ \u001b[32mUnknown  \u001b[0m │ \u001b[32mAFG.1.5_1\u001b[0m │ \u001b[32mJurm     \u001b[0m │ \u001b[2m~\u001b[0m         │ \u001b[2m~\u001b[0m         │ \u001b[32mAF.BD.JU\u001b[0m │ \u001b[2m~\u001b[0m      │ \u001b[32mWuleswali\u001b[0m │ \u001b[32mDistrict \u001b[0m │ \u001b[32mUnknown  \u001b[0m │ \u001b[2m~\u001b[0m      │ \u001b[2m~\u001b[0m      │ \u001b[2m~\u001b[0m         │ \u001b[2m~\u001b[0m         │ \u001b[2m~\u001b[0m      │ \u001b[2m~\u001b[0m      │ \u001b[2m~\u001b[0m      │ \u001b[2m~\u001b[0m         │ \u001b[2m~\u001b[0m         │ \u001b[2m~\u001b[0m      │ \u001b[2m~\u001b[0m      │ \u001b[2m~\u001b[0m         │ \u001b[2m~\u001b[0m      │ \u001b[2m~\u001b[0m      │ \u001b[2m~\u001b[0m         │ \u001b[2m~\u001b[0m         │ \u001b[2m~\u001b[0m      │ \u001b[2m~\u001b[0m      │ \u001b[2m~\u001b[0m      │ \u001b[2m~\u001b[0m      │ \u001b[2m~\u001b[0m         │ \u001b[2m~\u001b[0m          │ \u001b[32mAfghanistan\u001b[0m │ \u001b[2m~\u001b[0m          │ \u001b[2m~\u001b[0m      │ \u001b[2m~\u001b[0m         │ \u001b[32mAfghanistan\u001b[0m │ \u001b[32mAsia     \u001b[0m │ \u001b[2m~\u001b[0m       │ \u001b[1m<\u001b[0m\u001b[1;95mMULTIPOLYGON\u001b[0m\u001b[39m \u001b[0m\u001b[1;39m(\u001b[0m\u001b[1;39m(\u001b[0m\u001b[1;39m(\u001b[0m\u001b[1;36m70.712\u001b[0m\u001b[39m \u001b[0m\u001b[1;36m37.076\u001b[0m\u001b[39m, \u001b[0m\u001b[1;36m70.736\u001b[0m\u001b[39m \u001b[0m\u001b[1;36m37.065\u001b[0m\u001b[39m, \u001b[0m\u001b[1;36m70.754\u001b[0m\u001b[39m \u001b[0m\u001b[1;36m37.055\u001b[0m\u001b[39m, \u001b[0m\u001b[1;36m70.767\u001b[0m\u001b[39m \u001b[0m\u001b[1;36m37.042\u001b[0m\u001b[39m,\u001b[0m\u001b[33m...\u001b[0m\u001b[1m>\u001b[0m │\n",
       "└───────┴────────┴─────────────┴───────────┴─────────┴────────────┴───────────┴───────────┴────────┴────────┴────────┴─────────┴───────────┴───────────┴───────────┴───────────┴───────────┴───────────┴──────────┴────────┴───────────┴───────────┴───────────┴────────┴────────┴───────────┴───────────┴────────┴────────┴────────┴───────────┴───────────┴────────┴────────┴───────────┴────────┴────────┴───────────┴───────────┴────────┴────────┴────────┴────────┴───────────┴────────────┴─────────────┴────────────┴────────┴───────────┴─────────────┴───────────┴─────────┴──────────────────────────────────────────────────────────────────────────────────┘"
      ]
     },
     "execution_count": 16,
     "metadata": {},
     "output_type": "execute_result"
    }
   ],
   "source": [
    "gadm.head()"
   ]
  },
  {
   "cell_type": "markdown",
   "metadata": {},
   "source": [
    "YEAH !! connected to the table"
   ]
  },
  {
   "cell_type": "code",
   "execution_count": null,
   "metadata": {},
   "outputs": [
    {
     "data": {
      "text/plain": [
       "['UID',\n",
       " 'GID_0',\n",
       " 'NAME_0',\n",
       " 'VARNAME_0',\n",
       " 'GID_1',\n",
       " 'NAME_1',\n",
       " 'VARNAME_1',\n",
       " 'NL_NAME_1',\n",
       " 'ISO_1',\n",
       " 'HASC_1',\n",
       " 'CC_1',\n",
       " 'TYPE_1',\n",
       " 'ENGTYPE_1',\n",
       " 'VALIDFR_1',\n",
       " 'GID_2',\n",
       " 'NAME_2',\n",
       " 'VARNAME_2',\n",
       " 'NL_NAME_2',\n",
       " 'HASC_2',\n",
       " 'CC_2',\n",
       " 'TYPE_2',\n",
       " 'ENGTYPE_2',\n",
       " 'VALIDFR_2',\n",
       " 'GID_3',\n",
       " 'NAME_3',\n",
       " 'VARNAME_3',\n",
       " 'NL_NAME_3',\n",
       " 'HASC_3',\n",
       " 'CC_3',\n",
       " 'TYPE_3',\n",
       " 'ENGTYPE_3',\n",
       " 'VALIDFR_3',\n",
       " 'GID_4',\n",
       " 'NAME_4',\n",
       " 'VARNAME_4',\n",
       " 'CC_4',\n",
       " 'TYPE_4',\n",
       " 'ENGTYPE_4',\n",
       " 'VALIDFR_4',\n",
       " 'GID_5',\n",
       " 'NAME_5',\n",
       " 'CC_5',\n",
       " 'TYPE_5',\n",
       " 'ENGTYPE_5',\n",
       " 'GOVERNEDBY',\n",
       " 'SOVEREIGN',\n",
       " 'DISPUTEDBY',\n",
       " 'REGION',\n",
       " 'VARREGION',\n",
       " 'COUNTRY',\n",
       " 'CONTINENT',\n",
       " 'SUBCONT',\n",
       " 'geom']"
      ]
     },
     "execution_count": 17,
     "metadata": {},
     "output_type": "execute_result"
    }
   ],
   "source": [
    "gadm.columns"
   ]
  },
  {
   "cell_type": "code",
   "execution_count": null,
   "metadata": {},
   "outputs": [
    {
     "data": {
      "text/plain": [
       "'select UID, GID_0, NAME_0, VARNAME_0, GID_1, NAME_1, VARNAME_1, NL_NAME_1, ISO_1, HASC_1, CC_1, TYPE_1, ENGTYPE_1, VALIDFR_1, GID_2, NAME_2, VARNAME_2, NL_NAME_2, HASC_2, CC_2, TYPE_2, ENGTYPE_2, VALIDFR_2, ST_AsText(ST_Simplify(geom,0.05)) as geom from gadm;'"
      ]
     },
     "execution_count": 18,
     "metadata": {},
     "output_type": "execute_result"
    }
   ],
   "source": [
    "columns = ['UID',\n",
    " 'GID_0',\n",
    " 'NAME_0',\n",
    " 'VARNAME_0',\n",
    " 'GID_1',\n",
    " 'NAME_1',\n",
    " 'VARNAME_1',\n",
    " 'NL_NAME_1',\n",
    " 'ISO_1',\n",
    " 'HASC_1',\n",
    " 'CC_1',\n",
    " 'TYPE_1',\n",
    " 'ENGTYPE_1',\n",
    " 'VALIDFR_1',\n",
    " 'GID_2',\n",
    " 'NAME_2',\n",
    " 'VARNAME_2',\n",
    " 'NL_NAME_2',\n",
    " 'HASC_2',\n",
    " 'CC_2',\n",
    " 'TYPE_2',\n",
    " 'ENGTYPE_2',\n",
    " 'VALIDFR_2']\n",
    "\n",
    "query=\"\"\"select \"\"\" + \", \".join(columns) + \"\"\", ST_AsText(ST_Simplify(geom,0.05)) as geom from gadm;\"\"\"\n",
    "query"
   ]
  },
  {
   "cell_type": "code",
   "execution_count": null,
   "metadata": {},
   "outputs": [],
   "source": [
    "gadm_df = gadm.sql(query=query).to_pandas()"
   ]
  },
  {
   "cell_type": "code",
   "execution_count": null,
   "metadata": {},
   "outputs": [],
   "source": [
    "gadm_df[\"geometry\"]=gpd.GeoSeries.from_wkt(gadm_df.geom,crs=\"EPSG:4326\")\n",
    "\n",
    "gadm_df = gpd.GeoDataFrame(gadm_df)"
   ]
  },
  {
   "cell_type": "code",
   "execution_count": null,
   "metadata": {},
   "outputs": [
    {
     "data": {
      "text/plain": [
       "(356508, 25)"
      ]
     },
     "execution_count": 21,
     "metadata": {},
     "output_type": "execute_result"
    }
   ],
   "source": [
    "gadm_df.shape"
   ]
  },
  {
   "cell_type": "code",
   "execution_count": null,
   "metadata": {},
   "outputs": [
    {
     "data": {
      "text/plain": [
       "Index(['UID', 'GID_0', 'NAME_0', 'VARNAME_0', 'GID_1', 'NAME_1', 'VARNAME_1',\n",
       "       'NL_NAME_1', 'ISO_1', 'HASC_1', 'CC_1', 'TYPE_1', 'ENGTYPE_1',\n",
       "       'VALIDFR_1', 'GID_2', 'NAME_2', 'VARNAME_2', 'NL_NAME_2', 'HASC_2',\n",
       "       'CC_2', 'TYPE_2', 'ENGTYPE_2', 'VALIDFR_2', 'geom', 'geometry'],\n",
       "      dtype='object')"
      ]
     },
     "execution_count": 22,
     "metadata": {},
     "output_type": "execute_result"
    }
   ],
   "source": [
    "# gadm_df.plot()\n",
    "gadm_df.columns"
   ]
  },
  {
   "cell_type": "markdown",
   "metadata": {},
   "source": [
    "### Back to DOSE"
   ]
  },
  {
   "cell_type": "code",
   "execution_count": null,
   "metadata": {},
   "outputs": [
    {
     "data": {
      "text/plain": [
       "Index(['GID_0', 'NAME_0', 'GID_1', 'NAME_1', 'VARNAME_1', 'NL_NAME_1',\n",
       "       'TYPE_1', 'ENGTYPE_1', 'CC_1', 'HASC_1', 'geometry'],\n",
       "      dtype='object')"
      ]
     },
     "execution_count": 23,
     "metadata": {},
     "output_type": "execute_result"
    }
   ],
   "source": [
    "dose.columns"
   ]
  },
  {
   "cell_type": "code",
   "execution_count": null,
   "metadata": {},
   "outputs": [],
   "source": [
    "# keeping only the columns that correspond \n",
    "gadm_df = gadm_df[dose.columns]"
   ]
  },
  {
   "cell_type": "code",
   "execution_count": null,
   "metadata": {},
   "outputs": [],
   "source": [
    "dose = pd.concat([dose,gadm_df])"
   ]
  },
  {
   "cell_type": "code",
   "execution_count": null,
   "metadata": {},
   "outputs": [
    {
     "name": "stdout",
     "output_type": "stream",
     "text": [
      "Index(['GID_0', 'NAME_0', 'GID_1', 'NAME_1', 'VARNAME_1', 'NL_NAME_1',\n",
      "       'TYPE_1', 'ENGTYPE_1', 'CC_1', 'HASC_1', 'geometry'],\n",
      "      dtype='object')\n",
      "['country', 'region', 'GID_0', 'GID_1', 'year', 'grp_lcu', 'pop', 'grp_pc_lcu', 'ag_grp_pc_lcu', 'man_grp_pc_lcu', 'serv_grp_pc_lcu', 'grp_pc_usd', 'ag_grp_pc_usd', 'man_grp_pc_usd', 'serv_grp_pc_usd', 'grp_pc_lcu_2015', 'ag_grp_pc_lcu_2015', 'man_grp_pc_lcu_2015', 'serv_grp_pc_lcu_2015', 'grp_pc_usd_2015', 'ag_grp_pc_usd_2015', 'man_grp_pc_usd_2015', 'serv_grp_pc_usd_2015', 'grp_pc_lcu2015_usd', 'ag_grp_pc_lcu2015_usd', 'man_grp_pc_lcu2015_usd', 'serv_grp_pc_lcu2015_usd', 'cpi_2015', 'deflator_2015', 'fx', 'PPP', 'StructChange', 'version', 'T_a', 'P_a']\n"
     ]
    }
   ],
   "source": [
    "print(dose.columns)\n",
    "print(dose_csv.columns)"
   ]
  },
  {
   "cell_type": "code",
   "execution_count": null,
   "metadata": {},
   "outputs": [
    {
     "data": {
      "text/plain": [
       "ibis.expr.types.relations.Table"
      ]
     },
     "execution_count": 27,
     "metadata": {},
     "output_type": "execute_result"
    }
   ],
   "source": [
    "type(dose_csv)"
   ]
  },
  {
   "cell_type": "code",
   "execution_count": null,
   "metadata": {},
   "outputs": [],
   "source": [
    "dose_csv_df_ = dose_csv.to_pandas()"
   ]
  },
  {
   "cell_type": "code",
   "execution_count": null,
   "metadata": {},
   "outputs": [
    {
     "data": {
      "text/plain": [
       "1659"
      ]
     },
     "execution_count": 29,
     "metadata": {},
     "output_type": "execute_result"
    }
   ],
   "source": [
    "len(dose_csv_df_.GID_1.unique())"
   ]
  },
  {
   "cell_type": "code",
   "execution_count": null,
   "metadata": {},
   "outputs": [],
   "source": [
    "# filtering down the csv file to the year 2019\n",
    "dose_csv_df = dose_csv_df_.loc[dose_csv_df_.year==2019]"
   ]
  },
  {
   "cell_type": "markdown",
   "metadata": {},
   "source": [
    "before merging, dissolve the data set to be GID_1"
   ]
  },
  {
   "cell_type": "code",
   "execution_count": null,
   "metadata": {},
   "outputs": [],
   "source": [
    "dose = dose.dissolve(by=\"GID_1\")"
   ]
  },
  {
   "cell_type": "code",
   "execution_count": null,
   "metadata": {},
   "outputs": [
    {
     "name": "stdout",
     "output_type": "stream",
     "text": [
      "(1037, 35)\n",
      "(3721, 10)\n"
     ]
    }
   ],
   "source": [
    "print(dose_csv_df.shape)\n",
    "print(dose.shape)"
   ]
  },
  {
   "cell_type": "code",
   "execution_count": null,
   "metadata": {},
   "outputs": [
    {
     "name": "stdout",
     "output_type": "stream",
     "text": [
      "                                                   geometry GID_0  \\\n",
      "GID_1                                                               \n",
      "          MULTIPOLYGON (((-169.79375 -83.17917, -171.910...   ATA   \n",
      "?         POLYGON ((30.59167 50.41236, 30.75911 50.46781...   UKR   \n",
      "AFG.10_1  POLYGON ((64.22197 33.18085, 63.99013 33.5127,...   AFG   \n",
      "\n",
      "               NAME_0 NAME_1              VARNAME_1 NL_NAME_1   TYPE_1  \\\n",
      "GID_1                                                                    \n",
      "           Antarctica                                                    \n",
      "?             Ukraine      ?                      ?         ?        ?   \n",
      "AFG.10_1  Afghanistan   Ghor  Gawr|Ghore|Ghour|Ghur            Velayat   \n",
      "\n",
      "         ENGTYPE_1 CC_1 HASC_1  \n",
      "GID_1                           \n",
      "                                \n",
      "?                ?           ?  \n",
      "AFG.10_1  Province       AF.GR  \n"
     ]
    }
   ],
   "source": [
    "print(dose.head(3))"
   ]
  },
  {
   "cell_type": "code",
   "execution_count": null,
   "metadata": {},
   "outputs": [
    {
     "name": "stdout",
     "output_type": "stream",
     "text": [
      "    country  region GID_0    GID_1  year       grp_lcu       pop   grp_pc_lcu  \\\n",
      "9   Albania   Berat   ALB  ALB.1_1  2019  5.811884e+10  123581.0  470289.4636   \n",
      "19  Albania   Dibër   ALB  ALB.2_1  2019  5.096350e+10  117403.0  434090.2745   \n",
      "29  Albania  Durrës   ALB  ALB.3_1  2019  1.720000e+11  290412.0  593212.6296   \n",
      "\n",
      "    ag_grp_pc_lcu  man_grp_pc_lcu  ...  man_grp_pc_lcu2015_usd  \\\n",
      "9             NaN             NaN  ...                     NaN   \n",
      "19            NaN             NaN  ...                     NaN   \n",
      "29            NaN             NaN  ...                     NaN   \n",
      "\n",
      "    serv_grp_pc_lcu2015_usd  cpi_2015  deflator_2015          fx        PPP  \\\n",
      "9                       NaN  135.2598      103.54323  109.850833  42.343073   \n",
      "19                      NaN  135.2598      103.54323  109.850833  42.343073   \n",
      "29                      NaN  135.2598      103.54323  109.850833  42.343073   \n",
      "\n",
      "    StructChange  version  T_a  P_a  \n",
      "9              0      2.0  NaN  NaN  \n",
      "19             0      2.0  NaN  NaN  \n",
      "29             0      2.0  NaN  NaN  \n",
      "\n",
      "[3 rows x 35 columns]\n"
     ]
    }
   ],
   "source": [
    "print(dose_csv_df.head(3))"
   ]
  },
  {
   "cell_type": "code",
   "execution_count": null,
   "metadata": {},
   "outputs": [],
   "source": [
    "dose_gadm = pd.merge(left=dose,right=dose_csv_df,on=\"GID_1\",sort=False,how=\"right\",validate=\"one_to_one\")"
   ]
  },
  {
   "cell_type": "code",
   "execution_count": null,
   "metadata": {},
   "outputs": [
    {
     "data": {
      "text/plain": [
       "Index(['GID_1', 'geometry', 'GID_0_x', 'NAME_0', 'NAME_1', 'VARNAME_1',\n",
       "       'NL_NAME_1', 'TYPE_1', 'ENGTYPE_1', 'CC_1', 'HASC_1', 'country',\n",
       "       'region', 'GID_0_y', 'year', 'grp_lcu', 'pop', 'grp_pc_lcu',\n",
       "       'ag_grp_pc_lcu', 'man_grp_pc_lcu', 'serv_grp_pc_lcu', 'grp_pc_usd',\n",
       "       'ag_grp_pc_usd', 'man_grp_pc_usd', 'serv_grp_pc_usd', 'grp_pc_lcu_2015',\n",
       "       'ag_grp_pc_lcu_2015', 'man_grp_pc_lcu_2015', 'serv_grp_pc_lcu_2015',\n",
       "       'grp_pc_usd_2015', 'ag_grp_pc_usd_2015', 'man_grp_pc_usd_2015',\n",
       "       'serv_grp_pc_usd_2015', 'grp_pc_lcu2015_usd', 'ag_grp_pc_lcu2015_usd',\n",
       "       'man_grp_pc_lcu2015_usd', 'serv_grp_pc_lcu2015_usd', 'cpi_2015',\n",
       "       'deflator_2015', 'fx', 'PPP', 'StructChange', 'version', 'T_a', 'P_a'],\n",
       "      dtype='object')"
      ]
     },
     "execution_count": 36,
     "metadata": {},
     "output_type": "execute_result"
    }
   ],
   "source": [
    "dose_gadm.columns"
   ]
  },
  {
   "cell_type": "code",
   "execution_count": null,
   "metadata": {},
   "outputs": [
    {
     "data": {
      "text/html": [
       "<div>\n",
       "<style scoped>\n",
       "    .dataframe tbody tr th:only-of-type {\n",
       "        vertical-align: middle;\n",
       "    }\n",
       "\n",
       "    .dataframe tbody tr th {\n",
       "        vertical-align: top;\n",
       "    }\n",
       "\n",
       "    .dataframe thead th {\n",
       "        text-align: right;\n",
       "    }\n",
       "</style>\n",
       "<table border=\"1\" class=\"dataframe\">\n",
       "  <thead>\n",
       "    <tr style=\"text-align: right;\">\n",
       "      <th></th>\n",
       "      <th>GID_1</th>\n",
       "      <th>geometry</th>\n",
       "      <th>GID_0_x</th>\n",
       "      <th>NAME_0</th>\n",
       "      <th>NAME_1</th>\n",
       "      <th>VARNAME_1</th>\n",
       "      <th>NL_NAME_1</th>\n",
       "      <th>TYPE_1</th>\n",
       "      <th>ENGTYPE_1</th>\n",
       "      <th>CC_1</th>\n",
       "      <th>...</th>\n",
       "      <th>man_grp_pc_lcu2015_usd</th>\n",
       "      <th>serv_grp_pc_lcu2015_usd</th>\n",
       "      <th>cpi_2015</th>\n",
       "      <th>deflator_2015</th>\n",
       "      <th>fx</th>\n",
       "      <th>PPP</th>\n",
       "      <th>StructChange</th>\n",
       "      <th>version</th>\n",
       "      <th>T_a</th>\n",
       "      <th>P_a</th>\n",
       "    </tr>\n",
       "  </thead>\n",
       "  <tbody>\n",
       "    <tr>\n",
       "      <th>0</th>\n",
       "      <td>ALB.1_1</td>\n",
       "      <td>MULTIPOLYGON (((19.80608 40.67479, 19.89524 40...</td>\n",
       "      <td>ALB</td>\n",
       "      <td>Albania</td>\n",
       "      <td>Berat</td>\n",
       "      <td></td>\n",
       "      <td></td>\n",
       "      <td>Qark</td>\n",
       "      <td>County</td>\n",
       "      <td>80001</td>\n",
       "      <td>...</td>\n",
       "      <td>NaN</td>\n",
       "      <td>NaN</td>\n",
       "      <td>135.2598</td>\n",
       "      <td>103.54323</td>\n",
       "      <td>109.850833</td>\n",
       "      <td>42.343073</td>\n",
       "      <td>0</td>\n",
       "      <td>2.0</td>\n",
       "      <td>NaN</td>\n",
       "      <td>NaN</td>\n",
       "    </tr>\n",
       "    <tr>\n",
       "      <th>1</th>\n",
       "      <td>ALB.2_1</td>\n",
       "      <td>MULTIPOLYGON (((19.99836 41.49919, 20.20848 41...</td>\n",
       "      <td>ALB</td>\n",
       "      <td>Albania</td>\n",
       "      <td>Dibër</td>\n",
       "      <td>Dibra|Dibrë</td>\n",
       "      <td></td>\n",
       "      <td>Qark</td>\n",
       "      <td>County</td>\n",
       "      <td>80005</td>\n",
       "      <td>...</td>\n",
       "      <td>NaN</td>\n",
       "      <td>NaN</td>\n",
       "      <td>135.2598</td>\n",
       "      <td>103.54323</td>\n",
       "      <td>109.850833</td>\n",
       "      <td>42.343073</td>\n",
       "      <td>0</td>\n",
       "      <td>2.0</td>\n",
       "      <td>NaN</td>\n",
       "      <td>NaN</td>\n",
       "    </tr>\n",
       "    <tr>\n",
       "      <th>2</th>\n",
       "      <td>ALB.3_1</td>\n",
       "      <td>MULTIPOLYGON (((19.61146 41.27916, 19.51623 41...</td>\n",
       "      <td>ALB</td>\n",
       "      <td>Albania</td>\n",
       "      <td>Durrës</td>\n",
       "      <td>Durresi|Durrsi|Durazzo</td>\n",
       "      <td></td>\n",
       "      <td>Qark</td>\n",
       "      <td>County</td>\n",
       "      <td>80009</td>\n",
       "      <td>...</td>\n",
       "      <td>NaN</td>\n",
       "      <td>NaN</td>\n",
       "      <td>135.2598</td>\n",
       "      <td>103.54323</td>\n",
       "      <td>109.850833</td>\n",
       "      <td>42.343073</td>\n",
       "      <td>0</td>\n",
       "      <td>2.0</td>\n",
       "      <td>NaN</td>\n",
       "      <td>NaN</td>\n",
       "    </tr>\n",
       "    <tr>\n",
       "      <th>3</th>\n",
       "      <td>ALB.4_1</td>\n",
       "      <td>MULTIPOLYGON (((20.0151 40.86002, 20.13433 40....</td>\n",
       "      <td>ALB</td>\n",
       "      <td>Albania</td>\n",
       "      <td>Elbasan</td>\n",
       "      <td></td>\n",
       "      <td></td>\n",
       "      <td>Qark</td>\n",
       "      <td>County</td>\n",
       "      <td>80012</td>\n",
       "      <td>...</td>\n",
       "      <td>NaN</td>\n",
       "      <td>NaN</td>\n",
       "      <td>135.2598</td>\n",
       "      <td>103.54323</td>\n",
       "      <td>109.850833</td>\n",
       "      <td>42.343073</td>\n",
       "      <td>0</td>\n",
       "      <td>2.0</td>\n",
       "      <td>NaN</td>\n",
       "      <td>NaN</td>\n",
       "    </tr>\n",
       "    <tr>\n",
       "      <th>4</th>\n",
       "      <td>ALB.5_1</td>\n",
       "      <td>MULTIPOLYGON (((19.45445 40.64239, 19.55273 40...</td>\n",
       "      <td>ALB</td>\n",
       "      <td>Albania</td>\n",
       "      <td>Fier</td>\n",
       "      <td></td>\n",
       "      <td></td>\n",
       "      <td>Qark</td>\n",
       "      <td>County</td>\n",
       "      <td>80017</td>\n",
       "      <td>...</td>\n",
       "      <td>NaN</td>\n",
       "      <td>NaN</td>\n",
       "      <td>135.2598</td>\n",
       "      <td>103.54323</td>\n",
       "      <td>109.850833</td>\n",
       "      <td>42.343073</td>\n",
       "      <td>0</td>\n",
       "      <td>2.0</td>\n",
       "      <td>NaN</td>\n",
       "      <td>NaN</td>\n",
       "    </tr>\n",
       "    <tr>\n",
       "      <th>5</th>\n",
       "      <td>ALB.6_1</td>\n",
       "      <td>MULTIPOLYGON (((20.10228 40.06572, 19.93932 40...</td>\n",
       "      <td>ALB</td>\n",
       "      <td>Albania</td>\n",
       "      <td>Gjirokastër</td>\n",
       "      <td>Gjinokastër|Argirocastro|Argyroc</td>\n",
       "      <td></td>\n",
       "      <td>Qark</td>\n",
       "      <td>County</td>\n",
       "      <td>80021</td>\n",
       "      <td>...</td>\n",
       "      <td>NaN</td>\n",
       "      <td>NaN</td>\n",
       "      <td>135.2598</td>\n",
       "      <td>103.54323</td>\n",
       "      <td>109.850833</td>\n",
       "      <td>42.343073</td>\n",
       "      <td>0</td>\n",
       "      <td>2.0</td>\n",
       "      <td>NaN</td>\n",
       "      <td>NaN</td>\n",
       "    </tr>\n",
       "    <tr>\n",
       "      <th>6</th>\n",
       "      <td>ALB.7_1</td>\n",
       "      <td>MULTIPOLYGON (((20.50568 40.25413, 20.71323 40...</td>\n",
       "      <td>ALB</td>\n",
       "      <td>Albania</td>\n",
       "      <td>Korçë</td>\n",
       "      <td>Coriza|Corizza|Koritsa|Koritza|K</td>\n",
       "      <td></td>\n",
       "      <td>Qark</td>\n",
       "      <td>County</td>\n",
       "      <td>80025</td>\n",
       "      <td>...</td>\n",
       "      <td>NaN</td>\n",
       "      <td>NaN</td>\n",
       "      <td>135.2598</td>\n",
       "      <td>103.54323</td>\n",
       "      <td>109.850833</td>\n",
       "      <td>42.343073</td>\n",
       "      <td>0</td>\n",
       "      <td>2.0</td>\n",
       "      <td>NaN</td>\n",
       "      <td>NaN</td>\n",
       "    </tr>\n",
       "    <tr>\n",
       "      <th>7</th>\n",
       "      <td>ALB.8_1</td>\n",
       "      <td>MULTIPOLYGON (((20.21244 41.91004, 20.32672 41...</td>\n",
       "      <td>ALB</td>\n",
       "      <td>Albania</td>\n",
       "      <td>Kukës</td>\n",
       "      <td>Kosova|Kossovo</td>\n",
       "      <td></td>\n",
       "      <td>Qark</td>\n",
       "      <td>County</td>\n",
       "      <td>80030</td>\n",
       "      <td>...</td>\n",
       "      <td>NaN</td>\n",
       "      <td>NaN</td>\n",
       "      <td>135.2598</td>\n",
       "      <td>103.54323</td>\n",
       "      <td>109.850833</td>\n",
       "      <td>42.343073</td>\n",
       "      <td>0</td>\n",
       "      <td>2.0</td>\n",
       "      <td>NaN</td>\n",
       "      <td>NaN</td>\n",
       "    </tr>\n",
       "    <tr>\n",
       "      <th>8</th>\n",
       "      <td>ALB.9_1</td>\n",
       "      <td>MULTIPOLYGON (((19.66766 41.73865, 19.57802 41...</td>\n",
       "      <td>ALB</td>\n",
       "      <td>Albania</td>\n",
       "      <td>Lezhë</td>\n",
       "      <td>Alessio|Lezha</td>\n",
       "      <td></td>\n",
       "      <td>Qark</td>\n",
       "      <td>County</td>\n",
       "      <td>80034</td>\n",
       "      <td>...</td>\n",
       "      <td>NaN</td>\n",
       "      <td>NaN</td>\n",
       "      <td>135.2598</td>\n",
       "      <td>103.54323</td>\n",
       "      <td>109.850833</td>\n",
       "      <td>42.343073</td>\n",
       "      <td>0</td>\n",
       "      <td>2.0</td>\n",
       "      <td>NaN</td>\n",
       "      <td>NaN</td>\n",
       "    </tr>\n",
       "    <tr>\n",
       "      <th>9</th>\n",
       "      <td>ALB.10_1</td>\n",
       "      <td>MULTIPOLYGON (((19.34229 41.90724, 19.37991 41...</td>\n",
       "      <td>ALB</td>\n",
       "      <td>Albania</td>\n",
       "      <td>Shkodër</td>\n",
       "      <td>Escútari|Shkodra|Skodë|Scutari</td>\n",
       "      <td></td>\n",
       "      <td>Qark</td>\n",
       "      <td>County</td>\n",
       "      <td>80038</td>\n",
       "      <td>...</td>\n",
       "      <td>NaN</td>\n",
       "      <td>NaN</td>\n",
       "      <td>135.2598</td>\n",
       "      <td>103.54323</td>\n",
       "      <td>109.850833</td>\n",
       "      <td>42.343073</td>\n",
       "      <td>0</td>\n",
       "      <td>2.0</td>\n",
       "      <td>NaN</td>\n",
       "      <td>NaN</td>\n",
       "    </tr>\n",
       "  </tbody>\n",
       "</table>\n",
       "<p>10 rows × 45 columns</p>\n",
       "</div>"
      ],
      "text/plain": [
       "      GID_1                                           geometry GID_0_x  \\\n",
       "0   ALB.1_1  MULTIPOLYGON (((19.80608 40.67479, 19.89524 40...     ALB   \n",
       "1   ALB.2_1  MULTIPOLYGON (((19.99836 41.49919, 20.20848 41...     ALB   \n",
       "2   ALB.3_1  MULTIPOLYGON (((19.61146 41.27916, 19.51623 41...     ALB   \n",
       "3   ALB.4_1  MULTIPOLYGON (((20.0151 40.86002, 20.13433 40....     ALB   \n",
       "4   ALB.5_1  MULTIPOLYGON (((19.45445 40.64239, 19.55273 40...     ALB   \n",
       "5   ALB.6_1  MULTIPOLYGON (((20.10228 40.06572, 19.93932 40...     ALB   \n",
       "6   ALB.7_1  MULTIPOLYGON (((20.50568 40.25413, 20.71323 40...     ALB   \n",
       "7   ALB.8_1  MULTIPOLYGON (((20.21244 41.91004, 20.32672 41...     ALB   \n",
       "8   ALB.9_1  MULTIPOLYGON (((19.66766 41.73865, 19.57802 41...     ALB   \n",
       "9  ALB.10_1  MULTIPOLYGON (((19.34229 41.90724, 19.37991 41...     ALB   \n",
       "\n",
       "    NAME_0       NAME_1                         VARNAME_1 NL_NAME_1 TYPE_1  \\\n",
       "0  Albania        Berat                                               Qark   \n",
       "1  Albania        Dibër                       Dibra|Dibrë             Qark   \n",
       "2  Albania       Durrës            Durresi|Durrsi|Durazzo             Qark   \n",
       "3  Albania      Elbasan                                               Qark   \n",
       "4  Albania         Fier                                               Qark   \n",
       "5  Albania  Gjirokastër  Gjinokastër|Argirocastro|Argyroc             Qark   \n",
       "6  Albania        Korçë  Coriza|Corizza|Koritsa|Koritza|K             Qark   \n",
       "7  Albania        Kukës                    Kosova|Kossovo             Qark   \n",
       "8  Albania        Lezhë                     Alessio|Lezha             Qark   \n",
       "9  Albania      Shkodër    Escútari|Shkodra|Skodë|Scutari             Qark   \n",
       "\n",
       "  ENGTYPE_1   CC_1  ... man_grp_pc_lcu2015_usd serv_grp_pc_lcu2015_usd  \\\n",
       "0    County  80001  ...                    NaN                     NaN   \n",
       "1    County  80005  ...                    NaN                     NaN   \n",
       "2    County  80009  ...                    NaN                     NaN   \n",
       "3    County  80012  ...                    NaN                     NaN   \n",
       "4    County  80017  ...                    NaN                     NaN   \n",
       "5    County  80021  ...                    NaN                     NaN   \n",
       "6    County  80025  ...                    NaN                     NaN   \n",
       "7    County  80030  ...                    NaN                     NaN   \n",
       "8    County  80034  ...                    NaN                     NaN   \n",
       "9    County  80038  ...                    NaN                     NaN   \n",
       "\n",
       "   cpi_2015 deflator_2015          fx        PPP  StructChange  version  T_a  \\\n",
       "0  135.2598     103.54323  109.850833  42.343073             0      2.0  NaN   \n",
       "1  135.2598     103.54323  109.850833  42.343073             0      2.0  NaN   \n",
       "2  135.2598     103.54323  109.850833  42.343073             0      2.0  NaN   \n",
       "3  135.2598     103.54323  109.850833  42.343073             0      2.0  NaN   \n",
       "4  135.2598     103.54323  109.850833  42.343073             0      2.0  NaN   \n",
       "5  135.2598     103.54323  109.850833  42.343073             0      2.0  NaN   \n",
       "6  135.2598     103.54323  109.850833  42.343073             0      2.0  NaN   \n",
       "7  135.2598     103.54323  109.850833  42.343073             0      2.0  NaN   \n",
       "8  135.2598     103.54323  109.850833  42.343073             0      2.0  NaN   \n",
       "9  135.2598     103.54323  109.850833  42.343073             0      2.0  NaN   \n",
       "\n",
       "   P_a  \n",
       "0  NaN  \n",
       "1  NaN  \n",
       "2  NaN  \n",
       "3  NaN  \n",
       "4  NaN  \n",
       "5  NaN  \n",
       "6  NaN  \n",
       "7  NaN  \n",
       "8  NaN  \n",
       "9  NaN  \n",
       "\n",
       "[10 rows x 45 columns]"
      ]
     },
     "execution_count": 37,
     "metadata": {},
     "output_type": "execute_result"
    }
   ],
   "source": [
    "dose_gadm.head(10)"
   ]
  },
  {
   "cell_type": "code",
   "execution_count": null,
   "metadata": {},
   "outputs": [],
   "source": [
    "# dose_gadm.loc[~(dose_gadm.GID_0_x==dose_gadm.GID_0_y),[\"GID_1\"]]\n",
    "# print(dose.loc[dose.GID_0==\"BES\"].head(3))\n",
    "# print(dose_csv.filter(_.GID_0==\"ANT\"))"
   ]
  },
  {
   "cell_type": "code",
   "execution_count": null,
   "metadata": {},
   "outputs": [],
   "source": [
    "# removing the GID_0_y column\n",
    "# dose_gadm.drop(\"GID_0_y\",inplace=True)\n",
    "dose_gadm.drop(columns=[\"GID_0_y\"],inplace=True)"
   ]
  },
  {
   "cell_type": "code",
   "execution_count": null,
   "metadata": {},
   "outputs": [
    {
     "data": {
      "text/plain": [
       "(1037, 44)"
      ]
     },
     "execution_count": 40,
     "metadata": {},
     "output_type": "execute_result"
    }
   ],
   "source": [
    "dose_gadm.shape"
   ]
  },
  {
   "cell_type": "code",
   "execution_count": null,
   "metadata": {},
   "outputs": [
    {
     "data": {
      "text/html": [
       "<div>\n",
       "<style scoped>\n",
       "    .dataframe tbody tr th:only-of-type {\n",
       "        vertical-align: middle;\n",
       "    }\n",
       "\n",
       "    .dataframe tbody tr th {\n",
       "        vertical-align: top;\n",
       "    }\n",
       "\n",
       "    .dataframe thead th {\n",
       "        text-align: right;\n",
       "    }\n",
       "</style>\n",
       "<table border=\"1\" class=\"dataframe\">\n",
       "  <thead>\n",
       "    <tr style=\"text-align: right;\">\n",
       "      <th></th>\n",
       "      <th>GID_1</th>\n",
       "      <th>geometry</th>\n",
       "      <th>GID_0_x</th>\n",
       "      <th>NAME_0</th>\n",
       "      <th>NAME_1</th>\n",
       "      <th>VARNAME_1</th>\n",
       "      <th>NL_NAME_1</th>\n",
       "      <th>TYPE_1</th>\n",
       "      <th>ENGTYPE_1</th>\n",
       "      <th>CC_1</th>\n",
       "      <th>...</th>\n",
       "      <th>man_grp_pc_lcu2015_usd</th>\n",
       "      <th>serv_grp_pc_lcu2015_usd</th>\n",
       "      <th>cpi_2015</th>\n",
       "      <th>deflator_2015</th>\n",
       "      <th>fx</th>\n",
       "      <th>PPP</th>\n",
       "      <th>StructChange</th>\n",
       "      <th>version</th>\n",
       "      <th>T_a</th>\n",
       "      <th>P_a</th>\n",
       "    </tr>\n",
       "  </thead>\n",
       "  <tbody>\n",
       "    <tr>\n",
       "      <th>0</th>\n",
       "      <td>ALB.1_1</td>\n",
       "      <td>MULTIPOLYGON (((19.80608 40.67479, 19.89524 40...</td>\n",
       "      <td>ALB</td>\n",
       "      <td>Albania</td>\n",
       "      <td>Berat</td>\n",
       "      <td></td>\n",
       "      <td></td>\n",
       "      <td>Qark</td>\n",
       "      <td>County</td>\n",
       "      <td>80001</td>\n",
       "      <td>...</td>\n",
       "      <td>NaN</td>\n",
       "      <td>NaN</td>\n",
       "      <td>135.2598</td>\n",
       "      <td>103.54323</td>\n",
       "      <td>109.850833</td>\n",
       "      <td>42.343073</td>\n",
       "      <td>0</td>\n",
       "      <td>2.0</td>\n",
       "      <td>NaN</td>\n",
       "      <td>NaN</td>\n",
       "    </tr>\n",
       "    <tr>\n",
       "      <th>1</th>\n",
       "      <td>ALB.2_1</td>\n",
       "      <td>MULTIPOLYGON (((19.99836 41.49919, 20.20848 41...</td>\n",
       "      <td>ALB</td>\n",
       "      <td>Albania</td>\n",
       "      <td>Dibër</td>\n",
       "      <td>Dibra|Dibrë</td>\n",
       "      <td></td>\n",
       "      <td>Qark</td>\n",
       "      <td>County</td>\n",
       "      <td>80005</td>\n",
       "      <td>...</td>\n",
       "      <td>NaN</td>\n",
       "      <td>NaN</td>\n",
       "      <td>135.2598</td>\n",
       "      <td>103.54323</td>\n",
       "      <td>109.850833</td>\n",
       "      <td>42.343073</td>\n",
       "      <td>0</td>\n",
       "      <td>2.0</td>\n",
       "      <td>NaN</td>\n",
       "      <td>NaN</td>\n",
       "    </tr>\n",
       "    <tr>\n",
       "      <th>2</th>\n",
       "      <td>ALB.3_1</td>\n",
       "      <td>MULTIPOLYGON (((19.61146 41.27916, 19.51623 41...</td>\n",
       "      <td>ALB</td>\n",
       "      <td>Albania</td>\n",
       "      <td>Durrës</td>\n",
       "      <td>Durresi|Durrsi|Durazzo</td>\n",
       "      <td></td>\n",
       "      <td>Qark</td>\n",
       "      <td>County</td>\n",
       "      <td>80009</td>\n",
       "      <td>...</td>\n",
       "      <td>NaN</td>\n",
       "      <td>NaN</td>\n",
       "      <td>135.2598</td>\n",
       "      <td>103.54323</td>\n",
       "      <td>109.850833</td>\n",
       "      <td>42.343073</td>\n",
       "      <td>0</td>\n",
       "      <td>2.0</td>\n",
       "      <td>NaN</td>\n",
       "      <td>NaN</td>\n",
       "    </tr>\n",
       "    <tr>\n",
       "      <th>3</th>\n",
       "      <td>ALB.4_1</td>\n",
       "      <td>MULTIPOLYGON (((20.0151 40.86002, 20.13433 40....</td>\n",
       "      <td>ALB</td>\n",
       "      <td>Albania</td>\n",
       "      <td>Elbasan</td>\n",
       "      <td></td>\n",
       "      <td></td>\n",
       "      <td>Qark</td>\n",
       "      <td>County</td>\n",
       "      <td>80012</td>\n",
       "      <td>...</td>\n",
       "      <td>NaN</td>\n",
       "      <td>NaN</td>\n",
       "      <td>135.2598</td>\n",
       "      <td>103.54323</td>\n",
       "      <td>109.850833</td>\n",
       "      <td>42.343073</td>\n",
       "      <td>0</td>\n",
       "      <td>2.0</td>\n",
       "      <td>NaN</td>\n",
       "      <td>NaN</td>\n",
       "    </tr>\n",
       "    <tr>\n",
       "      <th>4</th>\n",
       "      <td>ALB.5_1</td>\n",
       "      <td>MULTIPOLYGON (((19.45445 40.64239, 19.55273 40...</td>\n",
       "      <td>ALB</td>\n",
       "      <td>Albania</td>\n",
       "      <td>Fier</td>\n",
       "      <td></td>\n",
       "      <td></td>\n",
       "      <td>Qark</td>\n",
       "      <td>County</td>\n",
       "      <td>80017</td>\n",
       "      <td>...</td>\n",
       "      <td>NaN</td>\n",
       "      <td>NaN</td>\n",
       "      <td>135.2598</td>\n",
       "      <td>103.54323</td>\n",
       "      <td>109.850833</td>\n",
       "      <td>42.343073</td>\n",
       "      <td>0</td>\n",
       "      <td>2.0</td>\n",
       "      <td>NaN</td>\n",
       "      <td>NaN</td>\n",
       "    </tr>\n",
       "  </tbody>\n",
       "</table>\n",
       "<p>5 rows × 44 columns</p>\n",
       "</div>"
      ],
      "text/plain": [
       "     GID_1                                           geometry GID_0_x  \\\n",
       "0  ALB.1_1  MULTIPOLYGON (((19.80608 40.67479, 19.89524 40...     ALB   \n",
       "1  ALB.2_1  MULTIPOLYGON (((19.99836 41.49919, 20.20848 41...     ALB   \n",
       "2  ALB.3_1  MULTIPOLYGON (((19.61146 41.27916, 19.51623 41...     ALB   \n",
       "3  ALB.4_1  MULTIPOLYGON (((20.0151 40.86002, 20.13433 40....     ALB   \n",
       "4  ALB.5_1  MULTIPOLYGON (((19.45445 40.64239, 19.55273 40...     ALB   \n",
       "\n",
       "    NAME_0   NAME_1               VARNAME_1 NL_NAME_1 TYPE_1 ENGTYPE_1   CC_1  \\\n",
       "0  Albania    Berat                                     Qark    County  80001   \n",
       "1  Albania    Dibër             Dibra|Dibrë             Qark    County  80005   \n",
       "2  Albania   Durrës  Durresi|Durrsi|Durazzo             Qark    County  80009   \n",
       "3  Albania  Elbasan                                     Qark    County  80012   \n",
       "4  Albania     Fier                                     Qark    County  80017   \n",
       "\n",
       "   ... man_grp_pc_lcu2015_usd serv_grp_pc_lcu2015_usd  cpi_2015  \\\n",
       "0  ...                    NaN                     NaN  135.2598   \n",
       "1  ...                    NaN                     NaN  135.2598   \n",
       "2  ...                    NaN                     NaN  135.2598   \n",
       "3  ...                    NaN                     NaN  135.2598   \n",
       "4  ...                    NaN                     NaN  135.2598   \n",
       "\n",
       "   deflator_2015          fx        PPP  StructChange  version  T_a  P_a  \n",
       "0      103.54323  109.850833  42.343073             0      2.0  NaN  NaN  \n",
       "1      103.54323  109.850833  42.343073             0      2.0  NaN  NaN  \n",
       "2      103.54323  109.850833  42.343073             0      2.0  NaN  NaN  \n",
       "3      103.54323  109.850833  42.343073             0      2.0  NaN  NaN  \n",
       "4      103.54323  109.850833  42.343073             0      2.0  NaN  NaN  \n",
       "\n",
       "[5 rows x 44 columns]"
      ]
     },
     "execution_count": 43,
     "metadata": {},
     "output_type": "execute_result"
    }
   ],
   "source": [
    "dose_gadm.head()"
   ]
  },
  {
   "cell_type": "code",
   "execution_count": null,
   "metadata": {},
   "outputs": [],
   "source": [
    "\n",
    "layer_total_dose = pdk.Layer(\n",
    "    \"GeoJsonLayer\",# \"PolygonLayer\",\n",
    "    dose_gadm.loc[0:100],\n",
    "    pickable=True,\n",
    "    opacity=0.1,\n",
    "    stroked=True,\n",
    "    filled=True,\n",
    "    extruded=False,\n",
    "    auto_highlight=True,\n",
    "    line_width=50,\n",
    "    line_width_max_pixels=10,\n",
    "    # get_polygon=\"coordinates\",\n",
    "    get_fill_color= [200,40,30],\n",
    "    get_line_color=[0, 0, 0]\n",
    ")\n",
    "\n",
    "# Create mapdeck object\n",
    "deck_map_dose = pdk.Deck(layers=[layer_total_dose]\n",
    "                    ,initial_view_state=view_state\n",
    "                    ,tooltip= {\"text\": \"\"\"properties.GID_1\"\"\"}\n",
    "                    ,height=800\n",
    "                    ,map_style=\"road\"\n",
    "                    )"
   ]
  },
  {
   "cell_type": "code",
   "execution_count": null,
   "metadata": {},
   "outputs": [],
   "source": [
    "deck_map_dose.to_html(\"deck_maps/deck_dose.html\")"
   ]
  }
 ],
 "metadata": {
  "kernelspec": {
   "display_name": "Python 3",
   "language": "python",
   "name": "python3"
  },
  "language_info": {
   "codemirror_mode": {
    "name": "ipython",
    "version": 3
   },
   "file_extension": ".py",
   "mimetype": "text/x-python",
   "name": "python",
   "nbconvert_exporter": "python",
   "pygments_lexer": "ipython3",
   "version": "3.12.5"
  }
 },
 "nbformat": 4,
 "nbformat_minor": 2
}
